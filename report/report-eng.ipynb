{
 "cells": [
  {
   "cell_type": "code",
   "execution_count": 1,
   "metadata": {
    "scrolled": true
   },
   "outputs": [
    {
     "data": {
      "text/html": [
       "<script>\n",
       "code_show=true; \n",
       "function code_toggle() {\n",
       " if (code_show){\n",
       " $('div.input').hide();\n",
       " } else {\n",
       " $('div.input').show();\n",
       " }\n",
       " code_show = !code_show\n",
       "} \n",
       "$( document ).ready(code_toggle);\n",
       "</script>\n",
       "<form action=\"javascript:code_toggle()\"><input type=\"submit\" value=\"Click here to toggle on/off the raw code.\"></form>"
      ],
      "text/plain": [
       "<IPython.core.display.HTML object>"
      ]
     },
     "execution_count": 717,
     "metadata": {},
     "output_type": "execute_result"
    }
   ],
   "source": [
    "from IPython.display import HTML\n",
    "\n",
    "HTML('''<script>\n",
    "code_show=true; \n",
    "function code_toggle() {\n",
    " if (code_show){\n",
    " $('div.input').hide();\n",
    " } else {\n",
    " $('div.input').show();\n",
    " }\n",
    " code_show = !code_show\n",
    "} \n",
    "$( document ).ready(code_toggle);\n",
    "</script>\n",
    "<form action=\"javascript:code_toggle()\"><input type=\"submit\" value=\"Click here to toggle on/off the raw code.\"></form>''')"
   ]
  },
  {
   "cell_type": "code",
   "execution_count": 2,
   "metadata": {
    "scrolled": true
   },
   "outputs": [
    {
     "data": {
      "text/html": [
       "        <script type=\"text/javascript\">\n",
       "        window.PlotlyConfig = {MathJaxConfig: 'local'};\n",
       "        if (window.MathJax && window.MathJax.Hub && window.MathJax.Hub.Config) {window.MathJax.Hub.Config({SVG: {font: \"STIX-Web\"}});}\n",
       "        if (typeof require !== 'undefined') {\n",
       "        require.undef(\"plotly\");\n",
       "        requirejs.config({\n",
       "            paths: {\n",
       "                'plotly': ['https://cdn.plot.ly/plotly-2.16.1.min']\n",
       "            }\n",
       "        });\n",
       "        require(['plotly'], function(Plotly) {\n",
       "            window._Plotly = Plotly;\n",
       "        });\n",
       "        }\n",
       "        </script>\n",
       "        "
      ]
     },
     "metadata": {},
     "output_type": "display_data"
    }
   ],
   "source": [
    "#import libraries\n",
    "import warnings \n",
    "warnings.filterwarnings(\"ignore\",category=FutureWarning)\n",
    "warnings.filterwarnings(\"ignore\", message=\"numpy.dtype size changed\")\n",
    "import scipy.io as spio\n",
    "import scipy.signal\n",
    "import scipy.ndimage\n",
    "import numpy as np\n",
    "import matplotlib.pyplot as plt\n",
    "from mpl_toolkits.mplot3d import Axes3D\n",
    "from collections import namedtuple\n",
    "import math \n",
    "import re \n",
    "import pandas as pd\n",
    "import os\n",
    "import glob\n",
    "from os.path import expanduser\n",
    "import datetime\n",
    "import statistics\n",
    "from plotly import __version__\n",
    "from plotly.offline import download_plotlyjs, init_notebook_mode, plot, iplot\n",
    "import plotly.graph_objs as go\n",
    "init_notebook_mode(connected=True)\n"
   ]
  },
  {
   "cell_type": "code",
   "execution_count": 3,
   "metadata": {
    "scrolled": true
   },
   "outputs": [],
   "source": [
    "def color_negative_red(val):\n",
    "    color = 'red' if val > 110 else 'black'\n",
    "    return 'color: %s' % color\n"
   ]
  },
  {
   "cell_type": "code",
   "execution_count": 4,
   "metadata": {
    "scrolled": true
   },
   "outputs": [],
   "source": [
    "class Keypoint:\n",
    "    tag = \"\"\n",
    "    parent = ['']\n",
    "    child = ['']\n",
    "    point = None\n",
    "\n",
    "    def __init__(self,tag=None,parent=None,child=None,point=None):\n",
    "        if tag is not None:            \n",
    "            self.tag = tag\n",
    "        if parent is not None:\n",
    "            self.parent = parent\n",
    "        if child is not None:\n",
    "            self.child = child\n",
    "        if point is not None:\n",
    "            self.point = point\n"
   ]
  },
  {
   "cell_type": "code",
   "execution_count": 5,
   "metadata": {
    "scrolled": true
   },
   "outputs": [],
   "source": [
    "class Skeleton:\n",
    "    keypoints = [Keypoint() for i in range(17)]\n",
    "    tag2id = {\n",
    "        \"shoulderCenter\" : 0,\n",
    "        \"head\" : 1,\n",
    "        \"shoulderLeft\" : 2,\n",
    "        \"elbowLeft\" : 3,\n",
    "        \"handLeft\" : 4,\n",
    "        \"shoulderRight\" : 5,\n",
    "        \"elbowRight\" : 6,\n",
    "        \"handRight\" : 7,\n",
    "        \"hipCenter\" : 8,\n",
    "        \"hipLeft\" : 9,\n",
    "        \"kneeLeft\" : 10,\n",
    "        \"ankleLeft\" : 11,\n",
    "        \"footLeft\" : 12,\n",
    "        \"hipRight\" : 13,\n",
    "        \"kneeRight\" : 14,\n",
    "        \"ankleRight\" : 15,\n",
    "        \"footRight\" : 16,\n",
    "    }\n",
    "    keypoints[tag2id[\"shoulderCenter\"]] = Keypoint(\"shoulderCenter\",[''],['head','shoulderLeft','shoulderRight','hipCenter'])\n",
    "    keypoints[tag2id[\"head\"]] = Keypoint(\"head\",['shoulderCenter'],[''])\n",
    "    keypoints[tag2id[\"shoulderLeft\"]] = Keypoint(\"shoulderLeft\",['shoulderCenter'],['elbowLeft'])\n",
    "    keypoints[tag2id[\"elbowLeft\"]] = Keypoint(\"elbowLeft\",['shoulderLeft'],['handLeft'])\n",
    "    keypoints[tag2id[\"handLeft\"]] = Keypoint(\"handLeft\",['elbowLeft'],[''])\n",
    "    keypoints[tag2id[\"shoulderRight\"]] = Keypoint(\"shoulderRight\",['shoulderCenter'],['elbowRight'])\n",
    "    keypoints[tag2id[\"elbowRight\"]] = Keypoint(\"elbowRight\",['shoulderRight'],['handRight'])\n",
    "    keypoints[tag2id[\"handRight\"]] = Keypoint(\"handRight\",['elbowRight'],[''])\n",
    "    keypoints[tag2id[\"hipCenter\"]] = Keypoint(\"hipCenter\",['shoulderCenter'],['hipLeft','hipRight'])\n",
    "    keypoints[tag2id[\"hipLeft\"]] = Keypoint(\"hipLeft\",['shoulderCenter'],['kneeLeft'])\n",
    "    keypoints[tag2id[\"kneeLeft\"]] = Keypoint(\"kneeLeft\",['hipLeft'],['ankleLeft'])\n",
    "    keypoints[tag2id[\"ankleLeft\"]] = Keypoint(\"ankleLeft\",['kneeLeft'],['footLeft'])\n",
    "    keypoints[tag2id[\"footLeft\"]] = Keypoint(\"footLeft\",['ankleLeft'],[''])\n",
    "    keypoints[tag2id[\"hipRight\"]] = Keypoint(\"hipRight\",['shoulderCenter'],['kneeRight'])\n",
    "    keypoints[tag2id[\"kneeRight\"]] = Keypoint(\"kneeRight\",['hipRight'],['ankleRight'])\n",
    "    keypoints[tag2id[\"ankleRight\"]] = Keypoint(\"ankleRight\",['kneeRight'],['footRight'])\n",
    "    keypoints[tag2id[\"footRight\"]] = Keypoint(\"footRight\",['ankleRight'],[''])\n",
    "\n",
    "    def __init__(self,keyp_map=None):\n",
    "        if keyp_map is not None:\n",
    "            for tag in keyp_map.keys():\n",
    "                self.keypoints[self.tag2id[tag]].point = keyp_map[tag] \n",
    "\n",
    "    def getKeypoint(self,keyp_tag):\n",
    "        return self.keypoints[self.tag2id[keyp_tag]].point\n",
    "\n",
    "    def getChild(self,keyp_tag):\n",
    "        return self.keypoints[self.tag2id[keyp_tag]].child\n",
    "\n",
    "    def getParent(self,keyp_tag):\n",
    "        return self.keypoints[self.tag2id[keyp_tag]].parent\n",
    "\n",
    "    def getTransformation(self):\n",
    "        sagittal = None\n",
    "        coronal = None\n",
    "        transverse = None\n",
    "        T = np.eye(4,4)\n",
    "        if self.getKeypoint(\"shoulderLeft\") is not None:\n",
    "            if self.getKeypoint(\"shoulderRight\") is not None:\n",
    "                sagittal = self.getKeypoint(\"shoulderLeft\")[0]-self.getKeypoint(\"shoulderRight\")[0]\n",
    "                sagittal = sagittal/np.linalg.norm(sagittal)\n",
    "        if self.getKeypoint(\"shoulderCenter\") is not None:\n",
    "            if self.getKeypoint(\"hipLeft\") is not None:\n",
    "                if self.getKeypoint(\"hipRight\") is not None:\n",
    "                    transverse = self.getKeypoint(\"shoulderCenter\")[0]-0.5*(self.getKeypoint(\"hipLeft\")[0]+self.getKeypoint(\"hipRight\")[0])\n",
    "                    transverse = transverse/np.linalg.norm(transverse)\n",
    "        if self.getKeypoint(\"shoulderCenter\") is not None:\n",
    "            pSC = self.getKeypoint(\"shoulderCenter\")[0]\n",
    "\n",
    "        if sagittal is not None:\n",
    "            if coronal is not None:\n",
    "                coronal = np.cross(sagittal,transverse)\n",
    "                T[0,0]=coronal[0]\n",
    "                T[1,0]=coronal[1]\n",
    "                T[2,0]=coronal[2]\n",
    "                T[0,1]=sagittal[0]\n",
    "                T[1,1]=sagittal[1]\n",
    "                T[2,1]=sagittal[2]\n",
    "                T[0,2]=transverse[0]\n",
    "                T[1,2]=transverse[1]\n",
    "                T[2,2]=transverse[2]\n",
    "                T[0,3]=pSC[0]\n",
    "                T[1,3]=pSC[1]\n",
    "                T[2,3]=pSC[2]\n",
    "                T[3,3]=1\n",
    "        return T\n",
    "\n",
    "    def show(self):\n",
    "        for i in range(len(self.keypoints)):\n",
    "            k = self.keypoints[i]\n",
    "            print(\"keypoint[\", k.tag, \"]\", \"=\", k.point)\n"
   ]
  },
  {
   "cell_type": "code",
   "execution_count": 6,
   "metadata": {
    "scrolled": true
   },
   "outputs": [],
   "source": [
    "class Exercise:\n",
    "    name = \"\"\n",
    "    typee = \"\"\n",
    "    metrics = []\n",
    "\n",
    "class Tug(Exercise):\n",
    "    name = \"tug\"\n",
    "    typee = \"test\"\n",
    "    metrics = [\"ROM_0\",\"ROM_1\",\"ROM_2\",\"ROM_3\",\"ROM_4\",\"ROM_5\",\"step_0\"]\n",
    "    result = []\n",
    "    month_res = {\n",
    "        0: [],\n",
    "        1: [],\n",
    "        2: [],\n",
    "        3: [],\n",
    "        4: [],\n",
    "        5: [],\n",
    "        6: [],\n",
    "        7: [],\n",
    "        8: [],\n",
    "        9: [],\n",
    "        10: [],\n",
    "        11: []\n",
    "    }\n",
    "\n",
    "    def __init__(self,month,result):\n",
    "        self.result = result\n",
    "        self.month_res[month] = result\n",
    "\n",
    "    def getResult(self,month):\n",
    "        return self.month_res[month]\n",
    "\n",
    "class Abduction(Exercise):\n",
    "    name = \"abduction\"\n",
    "    typee = \"rehabilitation\"\n",
    "    metrics = [\"ROM_0\"]    \n",
    "    result = []\n",
    "    month_res = {\n",
    "        0: [],\n",
    "        1: [],\n",
    "        2: [],\n",
    "        3: [],\n",
    "        4: [],\n",
    "        5: [],\n",
    "        6: [],\n",
    "        7: [],\n",
    "        8: [],\n",
    "        9: [],\n",
    "        10: [],\n",
    "        11: []\n",
    "    }\n",
    "    def __init__(self,name,monthi,result):\n",
    "        self.name = name\n",
    "        self.result = result\n",
    "        self.month_res[monthi] = result\n",
    "\n",
    "    def getResult(self,month):\n",
    "        return self.month_res[month]\n",
    "\n",
    "class Internal_Rotation(Exercise):\n",
    "    name = \"internal_rotation\"\n",
    "    typee = \"rehabilitation\"\n",
    "    metrics = [\"ROM_0\"]    \n",
    "    result = []\n",
    "    month_res = {\n",
    "        0: [],\n",
    "        1: [],\n",
    "        2: [],\n",
    "        3: [],\n",
    "        4: [],\n",
    "        5: [],\n",
    "        6: [],\n",
    "        7: [],\n",
    "        8: [],\n",
    "        9: [],\n",
    "        10: [],\n",
    "        11: []\n",
    "    }\n",
    "    def __init__(self,name,monthi,result):\n",
    "        self.name = name\n",
    "        self.result = result\n",
    "        self.month_res[monthi] = result\n",
    "\n",
    "    def getResult(self,month):\n",
    "        return self.month_res[month]\n",
    "\n",
    "class External_Rotation(Exercise):\n",
    "    name = \"external_rotation\"\n",
    "    typee = \"rehabilitation\"\n",
    "    metrics = [\"ROM_0\"]    \n",
    "    result = []\n",
    "    month_res = {\n",
    "        0: [],\n",
    "        1: [],\n",
    "        2: [],\n",
    "        3: [],\n",
    "        4: [],\n",
    "        5: [],\n",
    "        6: [],\n",
    "        7: [],\n",
    "        8: [],\n",
    "        9: [],\n",
    "        10: [],\n",
    "        11: []\n",
    "    }\n",
    "    def __init__(self,name,monthi,result):\n",
    "        self.name = name\n",
    "        self.result = result\n",
    "        self.month_res[monthi] = result\n",
    "\n",
    "    def getResult(self,month):\n",
    "        return self.month_res[month]\n",
    "\n",
    "class Reaching(Exercise):\n",
    "    name = \"reaching\"\n",
    "    typee = \"rehabilitation\"\n",
    "    metrics = [\"EP_0\"]    \n",
    "    result = []\n",
    "    month_res = {\n",
    "        0: [],\n",
    "        1: [],\n",
    "        2: [],\n",
    "        3: [],\n",
    "        4: [],\n",
    "        5: [],\n",
    "        6: [],\n",
    "        7: [],\n",
    "        8: [],\n",
    "        9: [],\n",
    "        10: [],\n",
    "        11: []\n",
    "    }\n",
    "    def __init__(self,name,monthi,result):\n",
    "        self.name = name\n",
    "        self.result = result\n",
    "        self.month_res[monthi] = result\n",
    "\n",
    "    def getResult(self,month):\n",
    "        return self.month_res[month]\n",
    "\n",
    "\n"
   ]
  },
  {
   "cell_type": "code",
   "execution_count": 7,
   "metadata": {
    "scrolled": true
   },
   "outputs": [],
   "source": [
    "class Metric:\n",
    "    name = ''\n",
    "\n",
    "    def __init__(self,name):\n",
    "        self.name = name\n",
    "\n",
    "class Rom(Metric):\n",
    "    name = \"ROM\"\n",
    "    tagjoint = \"\"\n",
    "    refjoint = \"\"\n",
    "    refdir = []\n",
    "    tagplane = \"\"\n",
    "    def __init__(self,tagjoint,refjoint,refdir,tagplane):\n",
    "        self.tagjoint = tagjoint\n",
    "        self.refjoint = refjoint\n",
    "        self.refdir = refdir\n",
    "        self.tagplane = tagplane\n",
    "\n",
    "    def compute(self,skeleton):\n",
    "        #joint ref and child\n",
    "        tj = skeleton.getKeypoint(self.tagjoint)\n",
    "        tagchild = skeleton.getChild(self.tagjoint)[0]\n",
    "        cj = skeleton.getKeypoint(tagchild)\n",
    "\n",
    "        xrj = []\n",
    "        yrj = []\n",
    "        zrj = []\n",
    "        if self.refjoint != \"\":\n",
    "            rj = skeleton.getKeypoint(self.refjoint)\n",
    "            xrj = rj[:,0]\n",
    "            yrj = rj[:,1]\n",
    "            zrj = rj[:,2]\n",
    "\n",
    "        #compute metric\n",
    "        x=tj[:,0]\n",
    "        y=tj[:,1]\n",
    "        z=tj[:,2]\n",
    "\n",
    "        xchild=cj[:,0]\n",
    "        ychild=cj[:,1]\n",
    "        zchild=cj[:,2]\n",
    "\n",
    "        #plane over which we want to evaluate the metric\n",
    "        plane = np.zeros(3)\n",
    "        if tagplane == \"coronal\":\n",
    "            plane[0] = 1.0\n",
    "        if tagplane == \"sagittal\":\n",
    "            plane[1] = 1.0\n",
    "        if tagplane == \"transverse\":\n",
    "            plane[2] = 1.0\n",
    "\n",
    "        #project v1 on the right plane\n",
    "        invT = np.linalg.inv(skeleton.getTransformation())\n",
    "        cosRom = []\n",
    "        for i in range(len(x)):\n",
    "            temp_ref = np.array([x[i],y[i],z[i],1])\n",
    "            temp_child = np.array([xchild[i],ychild[i],zchild[i],1])\n",
    "\n",
    "            transf_ref = np.inner(invT,temp_ref)\n",
    "            transf_child = np.inner(invT,temp_child)\n",
    "            vprocess = transf_child-transf_ref\n",
    "            vprocess = np.delete(vprocess,3)\n",
    "\n",
    "            dist = np.dot(vprocess,np.transpose(plane))\n",
    "            vprocess = vprocess-dist*plane\n",
    "\n",
    "            n1 = np.linalg.norm(vprocess)\n",
    "            if(n1>0):\n",
    "                vprocess = vprocess/n1\n",
    "\n",
    "            if len(xrj)>0:\n",
    "                temp_refjoint = np.array([xrj[i],yrj[i],zrj[i],1])\n",
    "                transf_refjoint = np.inner(invT,temp_refjoint)\n",
    "                vecref = transf_ref - transf_refjoint\n",
    "                ref = np.delete(vecref,3)\n",
    "            else:\n",
    "                n2 = np.linalg.norm(self.refdir)\n",
    "                if(n2>0):\n",
    "                    self.refdir = self.refdir/n2\n",
    "                ref = self.refdir\n",
    "\n",
    "            dotprod = np.dot(vprocess,np.transpose(ref))\n",
    "            cosRom.append(dotprod)\n",
    "\n",
    "\n",
    "        rom_value = np.arccos(cosRom)\n",
    "        result = rom_value *(180/math.pi)\n",
    "        return result\n",
    "\n",
    "\n",
    "class Step(Metric):\n",
    "    name = \"step\"\n",
    "    en_projection = False\n",
    "    medfilt = 1\n",
    "    step_thresh = 0.0\n",
    "    tstart = 0.0\n",
    "    tend = 0.0\n",
    "    step_length = []\n",
    "    step_width = []\n",
    "    step_distance = []\n",
    "    filtered_step_distance = []\n",
    "    strikes = []\n",
    "    nsteps = 0\n",
    "    cadence = 0.0\n",
    "    speed = 0.0\n",
    "    ex_time = 0.0\n",
    "    \n",
    "    def __init__(self,medfilt_window,en_projection,tstart,tend,step_thresh):\n",
    "\n",
    "        # scipy median filter requires odd kernel size\n",
    "        self.medfilt = int(medfilt_window)\n",
    "        if not (self.medfilt & 1):\n",
    "            self.medfilt = self.medfilt + 1\n",
    "\n",
    "        self.tstart = tstart\n",
    "        self.tend = tend\n",
    "        self.step_thresh = step_thresh\n",
    "        self.en_projection = en_projection\n",
    "\n",
    "    def compute(self,skeleton):\n",
    "        alj = skeleton.getKeypoint(\"ankleLeft\")\n",
    "        arj = skeleton.getKeypoint(\"ankleRight\")\n",
    "        ankles_diff = alj[:, :2] - arj[:, :2]\n",
    "\n",
    "        if self.en_projection:\n",
    "            if skeleton.getKeypoint(\"shoulderLeft\") is not None and skeleton.getKeypoint(\"shoulderRight\") is not None:\n",
    "                sagittal = skeleton.getKeypoint(\"shoulderLeft\")[0] - skeleton.getKeypoint(\"shoulderRight\")[0]\n",
    "                sagittal = sagittal / np.linalg.norm(sagittal)\n",
    "            for i in range(len(alj)):\n",
    "                v = alj[i,:] - arj[i,:]\n",
    "                dist = np.dot(v,np.transpose(sagittal))\n",
    "                v = v - dist * sagittal\n",
    "                self.step_distance.append(np.linalg.norm(v))\n",
    "                self.filtered_step_distance = scipy.signal.medfilt(self.step_distance,kernel_size=self.medfilt)\n",
    "        else:\n",
    "            ankles_diff_filtered = scipy.ndimage.median_filter(ankles_diff, size = (self.medfilt,self.medfilt))\n",
    "            self.step_distance = np.linalg.norm(ankles_diff_filtered, axis=1)\n",
    "            self.filtered_step_distance = np.array(self.step_distance)\n",
    "\n",
    "        self.strikes,_ = scipy.signal.find_peaks(self.filtered_step_distance,height=self.step_thresh)\n",
    "        slen = self.filtered_step_distance[self.strikes]\n",
    "        self.step_length = statistics.mean(slen)\n",
    "        self.step_width = np.fabs(ankles_diff)\n",
    "        self.nsteps = len(self.strikes)\n",
    "        self.cadence = self.nsteps / (self.tend - self.tstart)\n",
    "        self.speed = self.step_length * self.cadence\n",
    "        self.ex_time = self.tend - self.tstart\n",
    "        \n",
    "class EndPoint(Metric):\n",
    "    name = \"EP\"\n",
    "    tagjoint = \"\"\n",
    "    refdir = []\n",
    "    tagplane = \"\"\n",
    "    target = []\n",
    "    trajectories = []\n",
    "    tstart = 0.0\n",
    "    tend = 0.0\n",
    "    speed = 0.0\n",
    "    ex_time = 0.0\n",
    "    def __init__(self,tagjoint,refdir,tagplane,target,tstart,tend):\n",
    "        self.tagjoint = tagjoint\n",
    "        self.refdir = refdir\n",
    "        self.tagplane = tagplane\n",
    "        self.target = target\n",
    "        self.tstart = tstart\n",
    "        self.tend = tend\n",
    "\n",
    "    def compute(self,skeleton):\n",
    "        self.ex_time = self.tend-self.tstart\n",
    "        tj = skeleton.getKeypoint(self.tagjoint)\n",
    "        x = tj[:,0]\n",
    "        y = tj[:,1]\n",
    "        z = tj[:,2]\n",
    "\n",
    "        plane = np.zeros(3)\n",
    "        if tagplane == \"coronal\":\n",
    "            plane[0] = 1.0\n",
    "        if tagplane == \"sagittal\":\n",
    "            plane[1] = 1.0\n",
    "        if tagplane == \"transverse\":\n",
    "            plane[2] = 1.0\n",
    "        invT = np.linalg.inv(skeleton.getTransformation())\n",
    "        self.trajectories = np.zeros([len(x),3])\n",
    "        for i in range(len(x)):\n",
    "            temp_jnt = np.array([x[i],y[i],z[i],1])\n",
    "            transf_jnt = np.inner(invT,temp_jnt)\n",
    "            v = np.delete(transf_jnt,3)\n",
    "            dist = np.dot(v,np.transpose(plane))\n",
    "            v = v-dist*plane\n",
    "            self.trajectories[i,0]=v[0]\n",
    "            self.trajectories[i,1]=v[1]\n",
    "            self.trajectories[i,2]=v[2]\n",
    "\n",
    "        vel = np.zeros([len(x),3])\n",
    "        vel[:,0] = np.gradient(self.trajectories[:,0])/self.ex_time\n",
    "        vel[:,1] = np.gradient(self.trajectories[:,1])/self.ex_time\n",
    "        vel[:,2] = np.gradient(self.trajectories[:,2])/self.ex_time\n",
    "\n",
    "        self.speed = 0.0\n",
    "        for i in range(len(x)):\n",
    "            self.speed = self.speed + np.linalg.norm([vel[i,0],vel[i,1],vel[i,2]])\n",
    "        self.speed = self.speed/len(x)\n"
   ]
  },
  {
   "cell_type": "code",
   "execution_count": 8,
   "metadata": {
    "scrolled": true
   },
   "outputs": [],
   "source": [
    "def loadmat(filename):\n",
    "    '''\n",
    "    this function should be called instead of direct spio.loadmat\n",
    "    as it cures the problem of not properly recovering python dictionaries\n",
    "    from mat files. It calls the function check keys to cure all entries\n",
    "    which are still mat-objects\n",
    "    '''\n",
    "    data = spio.loadmat(filename, struct_as_record=False, squeeze_me=True)\n",
    "    return _check_keys(data)\n",
    "\n",
    "def _check_keys(dict):\n",
    "    '''\n",
    "    checks if entries in dictionary are mat-objects. If yes\n",
    "    todict is called to change them to nested dictionaries\n",
    "    '''\n",
    "    for key in dict:\n",
    "        if isinstance(dict[key], spio.matlab.mat_struct):\n",
    "            dict[key] = _todict(dict[key])\n",
    "    return dict        \n",
    "\n",
    "def _todict(matobj):\n",
    "    '''\n",
    "    A recursive function which constructs from matobjects nested dictionaries\n",
    "    '''\n",
    "    dict = {}\n",
    "    for strg in matobj._fieldnames:\n",
    "        elem = matobj.__dict__[strg]\n",
    "        if isinstance(elem, spio.matlab.mat_struct):\n",
    "            dict[strg] = _todict(elem)\n",
    "        else:\n",
    "            dict[strg] = elem\n",
    "    return dict\n"
   ]
  },
  {
   "cell_type": "markdown",
   "metadata": {},
   "source": [
    "\n",
    "# Personal data "
   ]
  },
  {
   "cell_type": "code",
   "execution_count": 9,
   "metadata": {
    "scrolled": true
   },
   "outputs": [
    {
     "name": "stdout",
     "output_type": "stream",
     "text": [
      "/home/mfussi/.local/share/yarp/contexts/motionAnalyzer/user-#4-tug-0.mat\n"
     ]
    },
    {
     "data": {
      "text/html": [
       "<div>\n",
       "<style scoped>\n",
       "    .dataframe tbody tr th:only-of-type {\n",
       "        vertical-align: middle;\n",
       "    }\n",
       "\n",
       "    .dataframe tbody tr th {\n",
       "        vertical-align: top;\n",
       "    }\n",
       "\n",
       "    .dataframe thead th {\n",
       "        text-align: right;\n",
       "    }\n",
       "</style>\n",
       "<table border=\"1\" class=\"dataframe\">\n",
       "  <thead>\n",
       "    <tr style=\"text-align: right;\">\n",
       "      <th></th>\n",
       "      <th>Patient</th>\n",
       "    </tr>\n",
       "  </thead>\n",
       "  <tbody>\n",
       "    <tr>\n",
       "      <th>Name</th>\n",
       "      <td>#4</td>\n",
       "    </tr>\n",
       "    <tr>\n",
       "      <th>Surname</th>\n",
       "      <td></td>\n",
       "    </tr>\n",
       "    <tr>\n",
       "      <th>Age</th>\n",
       "      <td></td>\n",
       "    </tr>\n",
       "  </tbody>\n",
       "</table>\n",
       "</div>"
      ],
      "text/plain": [
       "        Patient\n",
       "Name         #4\n",
       "Surname        \n",
       "Age            "
      ]
     },
     "metadata": {},
     "output_type": "display_data"
    }
   ],
   "source": [
    "\n",
    "#load file \n",
    "home = expanduser(\"~\")\n",
    "pth = home + '/.local/share/yarp/contexts/motionAnalyzer'\n",
    "files = glob.glob(os.path.join(pth, '*.mat'))\n",
    "lastfile = max(files, key=os.path.getctime)\n",
    "print(lastfile)\n",
    "\n",
    "#print personal data\n",
    "i = [pos for pos, char in enumerate(lastfile) if char == \"-\"]\n",
    "i1 = i[-3]\n",
    "i2 = i[-2]\n",
    "name = lastfile[i1+1:i2]\n",
    "surname = \"\"\n",
    "age = \"\"\n",
    "\n",
    "personaldata = []\n",
    "personaldata.append(name)\n",
    "personaldata.append(surname)\n",
    "personaldata.append(age)        \n",
    "table = pd.DataFrame(personaldata) \n",
    "table.rename(index={0:\"Name\",1:\"Surname\",2:\"Age\"},  columns={0:\"Patient\"}, inplace=True)\n",
    "display(table) "
   ]
  },
  {
   "cell_type": "code",
   "execution_count": 10,
   "metadata": {
    "scrolled": true
   },
   "outputs": [],
   "source": [
    "\n",
    "data = []\n",
    "ctime = []\n",
    "filename = []\n",
    "tagex = []\n",
    "files.sort(key=os.path.getctime)\n",
    "for fi in files:\n",
    "    i = [pos for pos, char in enumerate(fi) if char == \"-\"]\n",
    "    i1 = i[-3]\n",
    "    i2 = i[-2]\n",
    "    i3 = i[-1]\n",
    "    namei = fi[i1+1:i2]\n",
    "    if namei == name:\n",
    "        filename.append(fi)\n",
    "        data.append(loadmat(fi)) #data.append(scipy.io.loadmat(fi))\n",
    "        tagex.append(fi[i2+1:i3])\n",
    "        ctime.append(os.path.getctime(fi))   "
   ]
  },
  {
   "cell_type": "code",
   "execution_count": 11,
   "metadata": {
    "scrolled": true
   },
   "outputs": [],
   "source": [
    "time = []\n",
    "month = []\n",
    "exercises = []\n",
    "ex_names = []\n",
    "#count how many exercise of the same type were performed at that month\n",
    "countexmonth = {\n",
    "    \"tug\" : [0,0,0,0,0,0,0,0,0,0,0,0],\n",
    "    \"abduction_left\" : [0,0,0,0,0,0,0,0,0,0,0,0],\n",
    "    \"internal_rotation_left\" : [0,0,0,0,0,0,0,0,0,0,0,0],\n",
    "    \"external_rotation_left\" : [0,0,0,0,0,0,0,0,0,0,0,0],\n",
    "    \"reaching_left\" : [0,0,0,0,0,0,0,0,0,0,0,0]\n",
    "}\n",
    "\n",
    "for i in range(len(data)):\n",
    "\n",
    "    datai = data[i]\n",
    "    time.append(datai['Time_samples'])\n",
    "    monthi = datetime.date.fromtimestamp(ctime[i]).month-1\n",
    "    month.append(monthi)\n",
    "    shoulderCenter = datai['Keypoints']['shoulderCenter']\n",
    "    head = datai['Keypoints']['head']\n",
    "    shoulderLeft = datai['Keypoints']['shoulderLeft']\n",
    "    shoulderRight = datai['Keypoints']['shoulderRight']\n",
    "    elbowLeft = datai['Keypoints']['elbowLeft']\n",
    "    handLeft = datai['Keypoints']['handLeft']\n",
    "    elbowRight = datai['Keypoints']['elbowRight']\n",
    "    handRight = datai['Keypoints']['handRight']\n",
    "    hipLeft = datai['Keypoints']['hipLeft']\n",
    "    hipRight = datai['Keypoints']['hipRight']\n",
    "    ankleLeft = datai['Keypoints']['ankleLeft']\n",
    "    ankleRight = datai['Keypoints']['ankleRight']\n",
    "    kneeLeft = datai['Keypoints']['kneeLeft']\n",
    "    kneeRight = datai['Keypoints']['kneeRight']\n",
    "    footLeft = datai['Keypoints']['footLeft']\n",
    "    footRight = datai['Keypoints']['footRight']\n",
    "    hipCenter = datai['Keypoints']['hipCenter']\n",
    "\n",
    "    key_pam = {\n",
    "        \"shoulderCenter\" : shoulderCenter,\n",
    "        \"head\" : head,\n",
    "        \"shoulderLeft\" : shoulderLeft,\n",
    "        \"shoulderRight\" : shoulderRight,\n",
    "        \"elbowLeft\" : elbowLeft,\n",
    "        \"handLeft\" : handLeft,\n",
    "        \"elbowRight\" : elbowRight,\n",
    "        \"handRight\" : handRight,\n",
    "        \"hipLeft\" : hipLeft,\n",
    "        \"hipRight\" : hipRight,\n",
    "        \"ankleLeft\" : ankleLeft,\n",
    "        \"ankleRight\" : ankleRight,\n",
    "        \"kneeLeft\" : kneeLeft,\n",
    "        \"kneeRight\" : kneeRight,\n",
    "        \"footLeft\" : footLeft,\n",
    "        \"footRight\" : footRight,\n",
    "        \"hipCenter\" : hipCenter\n",
    "    }\n",
    "    s=Skeleton(key_pam)\n",
    "    #s.show()\n",
    "\n",
    "    exname = datai[\"Exercise\"][\"name\"]\n",
    "    exname = re.sub(r'[^\\w]','',exname)\n",
    "    ex_names.append(exname)\n",
    "    result_singleexercise = []\n",
    "    allmet = datai[\"Exercise\"][\"metrics\"]\n",
    "    metrics = allmet.keys()\n",
    "    for metname in metrics:\n",
    "        if \"ROM\" in metname:\n",
    "            tagjoint = allmet[metname][\"tag_joint\"]\n",
    "            tagjoint = re.sub(r'[^\\w]', '',tagjoint)\n",
    "            refjoint = allmet[metname][\"ref_joint\"]\n",
    "            if type(refjoint) is np.ndarray:\n",
    "                refjoint = \"\"\n",
    "            refjoint = re.sub(r'[^\\w]', '',refjoint)\n",
    "\n",
    "            refdir = allmet[metname][\"ref_dir\"]\n",
    "            tagplane = allmet[metname][\"tag_plane\"]\n",
    "            tagplane = re.sub(r'[^\\w]', '',tagplane)\n",
    "            rom = Rom(tagjoint,refjoint,refdir,tagplane)\n",
    "            result_singleexercise.append((rom,rom.compute(s)))\n",
    "\n",
    "        if \"step\" in metname:\n",
    "            flt = allmet[metname][\"median_filter_window\"]\n",
    "            flt = 4\n",
    "            proj = False\n",
    "            tstart = allmet[metname][\"tstart\"]\n",
    "            tend = allmet[metname][\"tend\"]\n",
    "            step_thresh = allmet[metname][\"step_thresh\"]\n",
    "            step_thresh = 0.3\n",
    "            step = Step(flt,proj,tstart,tend,step_thresh)\n",
    "            step.compute(s)\n",
    "            stepmet = [step.step_distance, step.nsteps, step.cadence, step.speed, step.ex_time,\n",
    "                       step.filtered_step_distance, step.strikes, step.step_width, step.step_length]\n",
    "            result_singleexercise.append((step,stepmet))\n",
    "\n",
    "        if \"EP\" in metname:\n",
    "            tagjoint = allmet[metname][\"tag_joint\"]\n",
    "            tagjoint = re.sub(r'[^\\w]', '',tagjoint)\n",
    "            refdir = allmet[metname][\"ref_dir\"]\n",
    "            tagplane = allmet[metname][\"tag_plane\"]\n",
    "            tagplane = re.sub(r'[^\\w]', '',tagplane)\n",
    "            target = allmet[metname][\"target\"]\n",
    "            tstart = allmet[metname][\"tstart\"]\n",
    "            tend = allmet[metname][\"tend\"]\n",
    "            ep = EndPoint(tagjoint,refdir,tagplane,target,tstart,tend)\n",
    "            ep.compute(s)\n",
    "            result_singleexercise.append((ep,ep.trajectories))\n",
    "\n",
    "    if exname == \"tug\":\n",
    "        ex = Tug(monthi,result_singleexercise)\n",
    "    if \"abduction\" in exname:\n",
    "        ex = Abduction(exname,monthi,result_singleexercise)\n",
    "    if \"internal_rotation\" in exname:\n",
    "        ex = Internal_Rotation(exname,monthi,result_singleexercise)\n",
    "    if \"external_rotation\" in exname:\n",
    "        ex = External_Rotation(exname,monthi,result_singleexercise)\n",
    "    if \"reaching\" in exname:\n",
    "        ex = Reaching(exname,monthi,result_singleexercise)\n",
    "\n",
    "    countexmonth[exname][monthi] = 1 + countexmonth[exname][monthi]\n",
    "\n",
    "    exercises.append(ex)   \n"
   ]
  },
  {
   "cell_type": "markdown",
   "metadata": {},
   "source": [
    " \n",
    "# Daily session report\n",
    "The patient did the following exercise: "
   ]
  },
  {
   "cell_type": "code",
   "execution_count": 12,
   "metadata": {
    "scrolled": true
   },
   "outputs": [
    {
     "name": "stdout",
     "output_type": "stream",
     "text": [
      "b'tug'\n"
     ]
    }
   ],
   "source": [
    "\n",
    "print(exname.encode('ascii'))"
   ]
  },
  {
   "cell_type": "markdown",
   "metadata": {},
   "source": [
    " \n",
    "on: "
   ]
  },
  {
   "cell_type": "code",
   "execution_count": 13,
   "metadata": {
    "scrolled": true
   },
   "outputs": [
    {
     "name": "stdout",
     "output_type": "stream",
     "text": [
      "2023-01-09 17:51:44.545712\n"
     ]
    }
   ],
   "source": [
    "\n",
    "now = datetime.datetime.now()\n",
    "print(now)"
   ]
  },
  {
   "cell_type": "markdown",
   "metadata": {},
   "source": [
    " \n",
    "The following shows the metric trend during the exercise:"
   ]
  },
  {
   "cell_type": "code",
   "execution_count": 14,
   "metadata": {
    "scrolled": false
   },
   "outputs": [
    {
     "data": {
      "application/vnd.plotly.v1+json": {
       "config": {
        "linkText": "Export to plot.ly",
        "plotlyServerURL": "https://plot.ly",
        "showLink": false
       },
       "data": [
        {
         "line": {
          "color": "blue",
          "width": 3
         },
         "mode": "lines",
         "name": "Real trend",
         "type": "scatter",
         "x": [
          24.233115196228027,
          24.332800149917603,
          24.43332529067993,
          24.533143520355225,
          24.63327145576477,
          24.741224765777588,
          24.83667492866516,
          24.933400630950928,
          25.03368902206421,
          25.136213779449463,
          25.236974239349365,
          25.33634853363037,
          25.436240673065186,
          25.534266233444214,
          25.660048961639404,
          25.73537588119507,
          25.837066650390625,
          25.93694543838501,
          26.037134408950806,
          26.135271310806274,
          26.238525390625,
          26.33588480949402,
          26.436264991760254,
          26.5361270904541,
          26.636869430541992,
          26.736798763275146,
          26.83656358718872,
          26.936131238937378,
          27.037917852401733,
          27.136846780776978,
          27.236833333969116,
          27.337327480316162,
          27.439617395401,
          27.538838148117065,
          27.638164520263672,
          27.749006986618042,
          27.83854031562805,
          27.9455463886261,
          28.040802001953125,
          28.139883041381836,
          28.239752769470215,
          28.339375257492065,
          28.439257621765137,
          28.540772676467896,
          28.64122200012207,
          28.740676641464233,
          28.842568397521973,
          28.945440530776978,
          29.04046893119812,
          29.14072895050049,
          29.241145849227905,
          29.340039253234863,
          29.439839601516724,
          29.54038095474243,
          29.63996434211731,
          29.739933252334595,
          29.846254587173462,
          29.94089412689209,
          30.04071307182312,
          30.144608736038208,
          30.240516185760498,
          30.34049105644226,
          30.44564700126648,
          30.55128312110901,
          30.640730619430542,
          30.742594957351685,
          30.84181499481201,
          30.943175554275513,
          31.05737829208374,
          31.142616987228394,
          31.24183678627014,
          31.342342376708984,
          31.44289994239807,
          31.5424702167511,
          31.643161296844482,
          31.74295926094055,
          31.84236192703247,
          31.94386625289917,
          32.04418087005615,
          32.14330244064331,
          32.24445056915283,
          32.343778133392334,
          32.449652910232544,
          32.544663190841675,
          32.64774417877197,
          32.744690895080566,
          32.84504675865173,
          32.944618463516235,
          33.05396890640259,
          33.143632888793945,
          33.24526834487915,
          33.345051288604736,
          33.44400191307068,
          33.55854344367981,
          33.64385724067688,
          33.74412751197815,
          33.84885501861572,
          33.94433307647705,
          34.044235944747925,
          34.14453125,
          34.24451446533203,
          34.34574580192566,
          34.448670625686646,
          34.54504442214966,
          34.64591407775879,
          34.744818449020386,
          34.84493112564087,
          34.945334911346436,
          35.049182176589966,
          35.146583557128906,
          35.24837875366211,
          35.34727358818054,
          35.45433211326599,
          35.545390129089355,
          35.656078577041626,
          35.746832847595215,
          35.8473219871521,
          35.94709372520447,
          36.0468065738678,
          36.14607119560242,
          36.24921727180481,
          36.34639763832092,
          36.454500675201416,
          36.54650640487671,
          36.65474462509155,
          36.749191999435425,
          36.85453176498413,
          36.95210886001587,
          37.047197103500366,
          37.14702796936035,
          37.24901580810547,
          37.34686207771301,
          37.447104692459106,
          37.54842662811279,
          37.64687538146973,
          37.74915027618408,
          37.84915614128113,
          37.948790311813354,
          38.04765033721924,
          38.14885377883911,
          38.24823212623596,
          38.35143542289734,
          38.45007371902466,
          38.55542993545532,
          38.65315294265747,
          38.75039100646973,
          38.85027742385864,
          38.950366497039795,
          39.05031752586365,
          39.150487184524536,
          39.25821256637573,
          39.35039734840393,
          39.45201921463013,
          39.55043816566467,
          39.650450229644775,
          39.75240468978882,
          39.85030198097229,
          39.9519202709198,
          40.05151343345642,
          40.15075707435608,
          40.253804206848145,
          40.36140036582947,
          40.450860261917114,
          40.55409598350525,
          40.65131616592407,
          40.75186371803284,
          40.85239887237549,
          40.95355796813965,
          41.05352592468262,
          41.16284155845642,
          41.252413749694824,
          41.3540472984314,
          41.455708026885986,
          41.55463624000549,
          41.652626037597656,
          41.75363826751709,
          41.855064392089844,
          41.953187227249146,
          42.05310916900635,
          42.15421986579895,
          42.25406765937805,
          42.35616064071655,
          42.45375347137451,
          42.55452561378479,
          42.65626549720764,
          42.7549045085907,
          42.85430359840393,
          42.954716205596924,
          43.0550434589386,
          43.15387988090515,
          43.26676344871521,
          43.35433602333069,
          43.45442318916321,
          43.55426049232483,
          43.65690588951111,
          43.754761695861816,
          43.85465598106384,
          43.95766234397888,
          44.05765414237976,
          44.15516233444214,
          44.255306243896484,
          44.35650944709778,
          44.4564106464386,
          44.558196783065796,
          44.65524959564209,
          44.75663423538208,
          44.855653285980225,
          44.956889152526855,
          45.056891202926636,
          45.15617251396179,
          45.259347915649414,
          45.35649275779724,
          45.4566650390625,
          45.55965876579285,
          45.6593382358551,
          45.756914138793945,
          45.8582808971405,
          45.95721650123596,
          46.058391094207764,
          46.157426595687866,
          46.258829832077026,
          46.36005163192749,
          46.45975947380066,
          46.55997109413147,
          46.66822338104248,
          46.7590754032135,
          46.859297037124634,
          46.959229946136475,
          47.05930709838867,
          47.160308599472046,
          47.25964903831482,
          47.35964608192444,
          47.45954132080078,
          47.56847953796387,
          47.65980339050293,
          47.76070761680603,
          47.860949993133545,
          47.96102738380432,
          48.0608868598938,
          48.16973042488098,
          48.26136255264282,
          48.3635528087616,
          48.46225309371948,
          48.56248378753662,
          48.66207695007324,
          48.761430740356445,
          48.86470699310303,
          48.96166253089905,
          49.06158661842346,
          49.16189455986023,
          49.26649451255798,
          49.362058877944946,
          49.46488690376282,
          49.56207346916199,
          49.6636598110199,
          49.763437032699585,
          49.86710548400879,
          49.966618061065674,
          50.06493520736694,
          50.16594886779785,
          50.263988971710205,
          50.36377811431885,
          50.46897530555725,
          50.56509709358215,
          50.663946866989136,
          50.76420331001282,
          50.865792751312256,
          50.96528196334839,
          51.06493139266968,
          51.16599106788635,
          51.264713525772095,
          51.36483836174011,
          51.466283082962036,
          51.56488108634949,
          51.66627740859985,
          51.76533913612366,
          51.86521315574646,
          51.965941190719604,
          52.06543946266174,
          52.165924072265625,
          52.267369985580444,
          52.36658000946045,
          52.46628165245056,
          52.5660502910614,
          52.668837785720825,
          52.765990257263184,
          52.865904331207275,
          52.967106342315674,
          53.07641339302063,
          53.16690969467163,
          53.270140647888184,
          53.36931872367859,
          53.46704411506653,
          53.56643581390381,
          53.6758246421814,
          53.76804304122925,
          53.86708450317383,
          53.967583656311035,
          54.06740736961365,
          54.168564558029175,
          54.26759457588196,
          54.36831283569336,
          54.46784591674805,
          54.56783151626587,
          54.667638301849365,
          54.768479108810425,
          54.86789917945862,
          54.96787142753601,
          55.067992210388184,
          55.171016454696655,
          55.269285917282104,
          55.36903381347656,
          55.468350648880005,
          55.570322036743164,
          55.67030596733093,
          55.77029013633728,
          55.87521815299988,
          55.97042274475098,
          56.07261395454407,
          56.17239284515381,
          56.27244687080383,
          56.37264847755432,
          56.48825979232788,
          56.57243776321411,
          56.68163299560547,
          56.77378845214844,
          56.87340188026428,
          56.97399425506592,
          57.073071241378784,
          57.17336463928223,
          57.2733998298645,
          57.37728786468506,
          57.47473859786987,
          57.57391428947449,
          57.6785364151001,
          57.77704167366028,
          57.87393260002136,
          57.975202560424805,
          58.07394576072693,
          58.174970388412476,
          58.27534246444702,
          58.37405180931091,
          58.49008274078369,
          58.57447624206543,
          58.674320459365845,
          58.77466368675232,
          58.87987661361694,
          58.974895000457764,
          59.074692249298096,
          59.17652249336243,
          59.27519130706787,
          59.376720666885376,
          59.48024845123291,
          59.57504415512085,
          59.67632222175598,
          59.775283336639404,
          59.87633013725281,
          59.9767279624939,
          60.07995295524597,
          60.176642417907715,
          60.27666091918945,
          60.3757860660553,
          60.475781202316284,
          60.57788562774658,
          60.676915884017944,
          60.78098464012146,
          60.878838777542114,
          60.9773690700531,
          61.07639503479004,
          61.17762112617493,
          61.27669715881348,
          61.378113746643066,
          61.481345415115356,
          61.57789969444275,
          61.68140506744385,
          61.77827453613281,
          61.87871265411377,
          61.97990441322327,
          62.08743119239807,
          62.17740345001221,
          62.28377366065979,
          62.377360105514526,
          62.48196077346802,
          62.577552795410156,
          62.67955780029297,
          62.77953815460205,
          62.88564467430115,
          62.97774291038513,
          63.07864475250244,
          63.179381370544434,
          63.27934241294861,
          63.38161492347717,
          63.49756383895874,
          63.578343868255615,
          63.68144154548645,
          63.7796425819397,
          63.882205963134766,
          63.982651472091675,
          64.08018064498901,
          64.18289732933044,
          64.28019547462463,
          64.38835501670837,
          64.47988796234131,
          64.58415126800537,
          64.681893825531,
          64.79290437698364,
          64.88766360282898,
          64.98255801200867,
          65.08255767822266,
          65.18253898620605,
          65.28386378288269,
          65.38267874717712,
          65.48333883285522,
          65.58333897590637,
          65.68291187286377,
          65.78422260284424,
          65.88682770729065,
          65.98398804664612,
          66.08520674705505,
          66.18757677078247,
          66.2843267917633,
          66.38681292533875,
          66.48536348342896,
          66.59144806861877,
          66.70076823234558,
          66.78522777557373,
          66.8854010105133,
          66.99277520179749,
          67.09571313858032,
          67.18712520599365,
          67.29626321792603,
          67.38522362709045,
          67.48535013198853,
          67.60217905044556,
          67.6925277709961,
          67.79683327674866,
          67.89559507369995,
          67.99541354179382,
          68.09643268585205,
          68.19452285766602,
          68.29497075080872,
          68.3873176574707,
          68.48790216445923,
          68.6015555858612,
          68.68706679344177,
          68.81795263290405
         ],
         "y": [
          90,
          90,
          90,
          90,
          90,
          90,
          90,
          90,
          90,
          90,
          90,
          90,
          90,
          90,
          90,
          90,
          90,
          90,
          90,
          90,
          90,
          90,
          90,
          90,
          90,
          90,
          90,
          90,
          90,
          90,
          90,
          90,
          90,
          90,
          90,
          90,
          90,
          90,
          90,
          90,
          90,
          90,
          90,
          90,
          90,
          90,
          90,
          90,
          90,
          90,
          90,
          90,
          90,
          90,
          90,
          90,
          90,
          90,
          90,
          90,
          90,
          90,
          90,
          90,
          90,
          90,
          90,
          90,
          90,
          90,
          90,
          90,
          90,
          90,
          90,
          90,
          90,
          90,
          90,
          90,
          90,
          90,
          90,
          90,
          90,
          90,
          90,
          90,
          90,
          90,
          90,
          90,
          90,
          90,
          90,
          90,
          90,
          90,
          90,
          90,
          90,
          90,
          90,
          90,
          90,
          90,
          90,
          90,
          90,
          90,
          90,
          90,
          90,
          90,
          90,
          90,
          90,
          90,
          90,
          90,
          90,
          90,
          90,
          90,
          90,
          90,
          90,
          90,
          90,
          90,
          90,
          90,
          90,
          90,
          90,
          90,
          90,
          90,
          90,
          90,
          90,
          90,
          90,
          90,
          90,
          90,
          90,
          90,
          90,
          90,
          90,
          90,
          90,
          90,
          90,
          90,
          90,
          90,
          90,
          90,
          90,
          90,
          90,
          90,
          90,
          90,
          90,
          90,
          90,
          90,
          90,
          90,
          90,
          90,
          90,
          90,
          90,
          90,
          90,
          90,
          90,
          90,
          90,
          90,
          90,
          90,
          90,
          90,
          90,
          90,
          90,
          90,
          90,
          90,
          90,
          90,
          90,
          90,
          90,
          90,
          90,
          90,
          90,
          90,
          90,
          90,
          90,
          90,
          90,
          90,
          90,
          90,
          90,
          90,
          90,
          90,
          90,
          90,
          90,
          90,
          90,
          90,
          90,
          90,
          90,
          90,
          90,
          90,
          90,
          90,
          90,
          90,
          90,
          90,
          90,
          90,
          90,
          90,
          90,
          90,
          90,
          90,
          90,
          90,
          90,
          90,
          90,
          90,
          90,
          90,
          90,
          90,
          90,
          90,
          90,
          90,
          90,
          90,
          90,
          90,
          90,
          90,
          90,
          90,
          90,
          90,
          90,
          90,
          90,
          90,
          90,
          90,
          90,
          90,
          90,
          90,
          90,
          90,
          90,
          90,
          90,
          90,
          90,
          90,
          90,
          90,
          90,
          90,
          90,
          90,
          90,
          90,
          90,
          90,
          90,
          90,
          90,
          90,
          90,
          90,
          90,
          90,
          90,
          90,
          90,
          90,
          90,
          90,
          90,
          90,
          90,
          90,
          90,
          90,
          90,
          90,
          90,
          90,
          90,
          90,
          90,
          90,
          90,
          90,
          90,
          90,
          90,
          90,
          90,
          90,
          90,
          90,
          90,
          90,
          90,
          90,
          90,
          90,
          90,
          90,
          90,
          90,
          90,
          90,
          90,
          90,
          90,
          90,
          90,
          90,
          90,
          90,
          90,
          90,
          90,
          90,
          90,
          90,
          90,
          90,
          90,
          90,
          90,
          90,
          90,
          90,
          90,
          90,
          90,
          90,
          90,
          90,
          90,
          90,
          90,
          90,
          90,
          90,
          90,
          90,
          90,
          90,
          90,
          90,
          90,
          90,
          90,
          90,
          90,
          90,
          90,
          90,
          90,
          90,
          90,
          90,
          90,
          90,
          90,
          90,
          90,
          90,
          90,
          90,
          90,
          90,
          90,
          90,
          90,
          90,
          90,
          90,
          90,
          90,
          90,
          90,
          90,
          90,
          90,
          90,
          90,
          90,
          90,
          90,
          90,
          90,
          90,
          90,
          90,
          90,
          90,
          90,
          90,
          90,
          90,
          90,
          90,
          90,
          90,
          90,
          90,
          90,
          90,
          90,
          90
         ]
        }
       ],
       "layout": {
        "autosize": false,
        "font": {
         "color": "black",
         "family": "Courier New, monospace",
         "size": 22
        },
        "height": 600,
        "template": {
         "data": {
          "bar": [
           {
            "error_x": {
             "color": "#2a3f5f"
            },
            "error_y": {
             "color": "#2a3f5f"
            },
            "marker": {
             "line": {
              "color": "#E5ECF6",
              "width": 0.5
             },
             "pattern": {
              "fillmode": "overlay",
              "size": 10,
              "solidity": 0.2
             }
            },
            "type": "bar"
           }
          ],
          "barpolar": [
           {
            "marker": {
             "line": {
              "color": "#E5ECF6",
              "width": 0.5
             },
             "pattern": {
              "fillmode": "overlay",
              "size": 10,
              "solidity": 0.2
             }
            },
            "type": "barpolar"
           }
          ],
          "carpet": [
           {
            "aaxis": {
             "endlinecolor": "#2a3f5f",
             "gridcolor": "white",
             "linecolor": "white",
             "minorgridcolor": "white",
             "startlinecolor": "#2a3f5f"
            },
            "baxis": {
             "endlinecolor": "#2a3f5f",
             "gridcolor": "white",
             "linecolor": "white",
             "minorgridcolor": "white",
             "startlinecolor": "#2a3f5f"
            },
            "type": "carpet"
           }
          ],
          "choropleth": [
           {
            "colorbar": {
             "outlinewidth": 0,
             "ticks": ""
            },
            "type": "choropleth"
           }
          ],
          "contour": [
           {
            "colorbar": {
             "outlinewidth": 0,
             "ticks": ""
            },
            "colorscale": [
             [
              0,
              "#0d0887"
             ],
             [
              0.1111111111111111,
              "#46039f"
             ],
             [
              0.2222222222222222,
              "#7201a8"
             ],
             [
              0.3333333333333333,
              "#9c179e"
             ],
             [
              0.4444444444444444,
              "#bd3786"
             ],
             [
              0.5555555555555556,
              "#d8576b"
             ],
             [
              0.6666666666666666,
              "#ed7953"
             ],
             [
              0.7777777777777778,
              "#fb9f3a"
             ],
             [
              0.8888888888888888,
              "#fdca26"
             ],
             [
              1,
              "#f0f921"
             ]
            ],
            "type": "contour"
           }
          ],
          "contourcarpet": [
           {
            "colorbar": {
             "outlinewidth": 0,
             "ticks": ""
            },
            "type": "contourcarpet"
           }
          ],
          "heatmap": [
           {
            "colorbar": {
             "outlinewidth": 0,
             "ticks": ""
            },
            "colorscale": [
             [
              0,
              "#0d0887"
             ],
             [
              0.1111111111111111,
              "#46039f"
             ],
             [
              0.2222222222222222,
              "#7201a8"
             ],
             [
              0.3333333333333333,
              "#9c179e"
             ],
             [
              0.4444444444444444,
              "#bd3786"
             ],
             [
              0.5555555555555556,
              "#d8576b"
             ],
             [
              0.6666666666666666,
              "#ed7953"
             ],
             [
              0.7777777777777778,
              "#fb9f3a"
             ],
             [
              0.8888888888888888,
              "#fdca26"
             ],
             [
              1,
              "#f0f921"
             ]
            ],
            "type": "heatmap"
           }
          ],
          "heatmapgl": [
           {
            "colorbar": {
             "outlinewidth": 0,
             "ticks": ""
            },
            "colorscale": [
             [
              0,
              "#0d0887"
             ],
             [
              0.1111111111111111,
              "#46039f"
             ],
             [
              0.2222222222222222,
              "#7201a8"
             ],
             [
              0.3333333333333333,
              "#9c179e"
             ],
             [
              0.4444444444444444,
              "#bd3786"
             ],
             [
              0.5555555555555556,
              "#d8576b"
             ],
             [
              0.6666666666666666,
              "#ed7953"
             ],
             [
              0.7777777777777778,
              "#fb9f3a"
             ],
             [
              0.8888888888888888,
              "#fdca26"
             ],
             [
              1,
              "#f0f921"
             ]
            ],
            "type": "heatmapgl"
           }
          ],
          "histogram": [
           {
            "marker": {
             "pattern": {
              "fillmode": "overlay",
              "size": 10,
              "solidity": 0.2
             }
            },
            "type": "histogram"
           }
          ],
          "histogram2d": [
           {
            "colorbar": {
             "outlinewidth": 0,
             "ticks": ""
            },
            "colorscale": [
             [
              0,
              "#0d0887"
             ],
             [
              0.1111111111111111,
              "#46039f"
             ],
             [
              0.2222222222222222,
              "#7201a8"
             ],
             [
              0.3333333333333333,
              "#9c179e"
             ],
             [
              0.4444444444444444,
              "#bd3786"
             ],
             [
              0.5555555555555556,
              "#d8576b"
             ],
             [
              0.6666666666666666,
              "#ed7953"
             ],
             [
              0.7777777777777778,
              "#fb9f3a"
             ],
             [
              0.8888888888888888,
              "#fdca26"
             ],
             [
              1,
              "#f0f921"
             ]
            ],
            "type": "histogram2d"
           }
          ],
          "histogram2dcontour": [
           {
            "colorbar": {
             "outlinewidth": 0,
             "ticks": ""
            },
            "colorscale": [
             [
              0,
              "#0d0887"
             ],
             [
              0.1111111111111111,
              "#46039f"
             ],
             [
              0.2222222222222222,
              "#7201a8"
             ],
             [
              0.3333333333333333,
              "#9c179e"
             ],
             [
              0.4444444444444444,
              "#bd3786"
             ],
             [
              0.5555555555555556,
              "#d8576b"
             ],
             [
              0.6666666666666666,
              "#ed7953"
             ],
             [
              0.7777777777777778,
              "#fb9f3a"
             ],
             [
              0.8888888888888888,
              "#fdca26"
             ],
             [
              1,
              "#f0f921"
             ]
            ],
            "type": "histogram2dcontour"
           }
          ],
          "mesh3d": [
           {
            "colorbar": {
             "outlinewidth": 0,
             "ticks": ""
            },
            "type": "mesh3d"
           }
          ],
          "parcoords": [
           {
            "line": {
             "colorbar": {
              "outlinewidth": 0,
              "ticks": ""
             }
            },
            "type": "parcoords"
           }
          ],
          "pie": [
           {
            "automargin": true,
            "type": "pie"
           }
          ],
          "scatter": [
           {
            "fillpattern": {
             "fillmode": "overlay",
             "size": 10,
             "solidity": 0.2
            },
            "type": "scatter"
           }
          ],
          "scatter3d": [
           {
            "line": {
             "colorbar": {
              "outlinewidth": 0,
              "ticks": ""
             }
            },
            "marker": {
             "colorbar": {
              "outlinewidth": 0,
              "ticks": ""
             }
            },
            "type": "scatter3d"
           }
          ],
          "scattercarpet": [
           {
            "marker": {
             "colorbar": {
              "outlinewidth": 0,
              "ticks": ""
             }
            },
            "type": "scattercarpet"
           }
          ],
          "scattergeo": [
           {
            "marker": {
             "colorbar": {
              "outlinewidth": 0,
              "ticks": ""
             }
            },
            "type": "scattergeo"
           }
          ],
          "scattergl": [
           {
            "marker": {
             "colorbar": {
              "outlinewidth": 0,
              "ticks": ""
             }
            },
            "type": "scattergl"
           }
          ],
          "scattermapbox": [
           {
            "marker": {
             "colorbar": {
              "outlinewidth": 0,
              "ticks": ""
             }
            },
            "type": "scattermapbox"
           }
          ],
          "scatterpolar": [
           {
            "marker": {
             "colorbar": {
              "outlinewidth": 0,
              "ticks": ""
             }
            },
            "type": "scatterpolar"
           }
          ],
          "scatterpolargl": [
           {
            "marker": {
             "colorbar": {
              "outlinewidth": 0,
              "ticks": ""
             }
            },
            "type": "scatterpolargl"
           }
          ],
          "scatterternary": [
           {
            "marker": {
             "colorbar": {
              "outlinewidth": 0,
              "ticks": ""
             }
            },
            "type": "scatterternary"
           }
          ],
          "surface": [
           {
            "colorbar": {
             "outlinewidth": 0,
             "ticks": ""
            },
            "colorscale": [
             [
              0,
              "#0d0887"
             ],
             [
              0.1111111111111111,
              "#46039f"
             ],
             [
              0.2222222222222222,
              "#7201a8"
             ],
             [
              0.3333333333333333,
              "#9c179e"
             ],
             [
              0.4444444444444444,
              "#bd3786"
             ],
             [
              0.5555555555555556,
              "#d8576b"
             ],
             [
              0.6666666666666666,
              "#ed7953"
             ],
             [
              0.7777777777777778,
              "#fb9f3a"
             ],
             [
              0.8888888888888888,
              "#fdca26"
             ],
             [
              1,
              "#f0f921"
             ]
            ],
            "type": "surface"
           }
          ],
          "table": [
           {
            "cells": {
             "fill": {
              "color": "#EBF0F8"
             },
             "line": {
              "color": "white"
             }
            },
            "header": {
             "fill": {
              "color": "#C8D4E3"
             },
             "line": {
              "color": "white"
             }
            },
            "type": "table"
           }
          ]
         },
         "layout": {
          "annotationdefaults": {
           "arrowcolor": "#2a3f5f",
           "arrowhead": 0,
           "arrowwidth": 1
          },
          "autotypenumbers": "strict",
          "coloraxis": {
           "colorbar": {
            "outlinewidth": 0,
            "ticks": ""
           }
          },
          "colorscale": {
           "diverging": [
            [
             0,
             "#8e0152"
            ],
            [
             0.1,
             "#c51b7d"
            ],
            [
             0.2,
             "#de77ae"
            ],
            [
             0.3,
             "#f1b6da"
            ],
            [
             0.4,
             "#fde0ef"
            ],
            [
             0.5,
             "#f7f7f7"
            ],
            [
             0.6,
             "#e6f5d0"
            ],
            [
             0.7,
             "#b8e186"
            ],
            [
             0.8,
             "#7fbc41"
            ],
            [
             0.9,
             "#4d9221"
            ],
            [
             1,
             "#276419"
            ]
           ],
           "sequential": [
            [
             0,
             "#0d0887"
            ],
            [
             0.1111111111111111,
             "#46039f"
            ],
            [
             0.2222222222222222,
             "#7201a8"
            ],
            [
             0.3333333333333333,
             "#9c179e"
            ],
            [
             0.4444444444444444,
             "#bd3786"
            ],
            [
             0.5555555555555556,
             "#d8576b"
            ],
            [
             0.6666666666666666,
             "#ed7953"
            ],
            [
             0.7777777777777778,
             "#fb9f3a"
            ],
            [
             0.8888888888888888,
             "#fdca26"
            ],
            [
             1,
             "#f0f921"
            ]
           ],
           "sequentialminus": [
            [
             0,
             "#0d0887"
            ],
            [
             0.1111111111111111,
             "#46039f"
            ],
            [
             0.2222222222222222,
             "#7201a8"
            ],
            [
             0.3333333333333333,
             "#9c179e"
            ],
            [
             0.4444444444444444,
             "#bd3786"
            ],
            [
             0.5555555555555556,
             "#d8576b"
            ],
            [
             0.6666666666666666,
             "#ed7953"
            ],
            [
             0.7777777777777778,
             "#fb9f3a"
            ],
            [
             0.8888888888888888,
             "#fdca26"
            ],
            [
             1,
             "#f0f921"
            ]
           ]
          },
          "colorway": [
           "#636efa",
           "#EF553B",
           "#00cc96",
           "#ab63fa",
           "#FFA15A",
           "#19d3f3",
           "#FF6692",
           "#B6E880",
           "#FF97FF",
           "#FECB52"
          ],
          "font": {
           "color": "#2a3f5f"
          },
          "geo": {
           "bgcolor": "white",
           "lakecolor": "white",
           "landcolor": "#E5ECF6",
           "showlakes": true,
           "showland": true,
           "subunitcolor": "white"
          },
          "hoverlabel": {
           "align": "left"
          },
          "hovermode": "closest",
          "mapbox": {
           "style": "light"
          },
          "paper_bgcolor": "white",
          "plot_bgcolor": "#E5ECF6",
          "polar": {
           "angularaxis": {
            "gridcolor": "white",
            "linecolor": "white",
            "ticks": ""
           },
           "bgcolor": "#E5ECF6",
           "radialaxis": {
            "gridcolor": "white",
            "linecolor": "white",
            "ticks": ""
           }
          },
          "scene": {
           "xaxis": {
            "backgroundcolor": "#E5ECF6",
            "gridcolor": "white",
            "gridwidth": 2,
            "linecolor": "white",
            "showbackground": true,
            "ticks": "",
            "zerolinecolor": "white"
           },
           "yaxis": {
            "backgroundcolor": "#E5ECF6",
            "gridcolor": "white",
            "gridwidth": 2,
            "linecolor": "white",
            "showbackground": true,
            "ticks": "",
            "zerolinecolor": "white"
           },
           "zaxis": {
            "backgroundcolor": "#E5ECF6",
            "gridcolor": "white",
            "gridwidth": 2,
            "linecolor": "white",
            "showbackground": true,
            "ticks": "",
            "zerolinecolor": "white"
           }
          },
          "shapedefaults": {
           "line": {
            "color": "#2a3f5f"
           }
          },
          "ternary": {
           "aaxis": {
            "gridcolor": "white",
            "linecolor": "white",
            "ticks": ""
           },
           "baxis": {
            "gridcolor": "white",
            "linecolor": "white",
            "ticks": ""
           },
           "bgcolor": "#E5ECF6",
           "caxis": {
            "gridcolor": "white",
            "linecolor": "white",
            "ticks": ""
           }
          },
          "title": {
           "x": 0.05
          },
          "xaxis": {
           "automargin": true,
           "gridcolor": "white",
           "linecolor": "white",
           "ticks": "",
           "title": {
            "standoff": 15
           },
           "zerolinecolor": "white",
           "zerolinewidth": 2
          },
          "yaxis": {
           "automargin": true,
           "gridcolor": "white",
           "linecolor": "white",
           "ticks": "",
           "title": {
            "standoff": 15
           },
           "zerolinecolor": "white",
           "zerolinewidth": 2
          }
         }
        },
        "title": {
         "text": "Range of Motion hipLeft"
        },
        "width": 750,
        "xaxis": {
         "title": {
          "font": {
           "color": "#7f7f7f",
           "family": "Courier New, monospace",
           "size": 18
          },
          "text": "time [s]"
         }
        },
        "yaxis": {
         "title": {
          "font": {
           "color": "#7f7f7f",
           "family": "Courier New, monospace",
           "size": 18
          },
          "text": "ROM [degrees]"
         }
        }
       }
      },
      "text/html": [
       "<div>                            <div id=\"0de68e0c-fc85-42c0-abf0-855a51622e88\" class=\"plotly-graph-div\" style=\"height:600px; width:750px;\"></div>            <script type=\"text/javascript\">                require([\"plotly\"], function(Plotly) {                    window.PLOTLYENV=window.PLOTLYENV || {};                                    if (document.getElementById(\"0de68e0c-fc85-42c0-abf0-855a51622e88\")) {                    Plotly.newPlot(                        \"0de68e0c-fc85-42c0-abf0-855a51622e88\",                        [{\"line\":{\"color\":\"blue\",\"width\":3},\"mode\":\"lines\",\"name\":\"Real trend\",\"x\":[24.233115196228027,24.332800149917603,24.43332529067993,24.533143520355225,24.63327145576477,24.741224765777588,24.83667492866516,24.933400630950928,25.03368902206421,25.136213779449463,25.236974239349365,25.33634853363037,25.436240673065186,25.534266233444214,25.660048961639404,25.73537588119507,25.837066650390625,25.93694543838501,26.037134408950806,26.135271310806274,26.238525390625,26.33588480949402,26.436264991760254,26.5361270904541,26.636869430541992,26.736798763275146,26.83656358718872,26.936131238937378,27.037917852401733,27.136846780776978,27.236833333969116,27.337327480316162,27.439617395401,27.538838148117065,27.638164520263672,27.749006986618042,27.83854031562805,27.9455463886261,28.040802001953125,28.139883041381836,28.239752769470215,28.339375257492065,28.439257621765137,28.540772676467896,28.64122200012207,28.740676641464233,28.842568397521973,28.945440530776978,29.04046893119812,29.14072895050049,29.241145849227905,29.340039253234863,29.439839601516724,29.54038095474243,29.63996434211731,29.739933252334595,29.846254587173462,29.94089412689209,30.04071307182312,30.144608736038208,30.240516185760498,30.34049105644226,30.44564700126648,30.55128312110901,30.640730619430542,30.742594957351685,30.84181499481201,30.943175554275513,31.05737829208374,31.142616987228394,31.24183678627014,31.342342376708984,31.44289994239807,31.5424702167511,31.643161296844482,31.74295926094055,31.84236192703247,31.94386625289917,32.04418087005615,32.14330244064331,32.24445056915283,32.343778133392334,32.449652910232544,32.544663190841675,32.64774417877197,32.744690895080566,32.84504675865173,32.944618463516235,33.05396890640259,33.143632888793945,33.24526834487915,33.345051288604736,33.44400191307068,33.55854344367981,33.64385724067688,33.74412751197815,33.84885501861572,33.94433307647705,34.044235944747925,34.14453125,34.24451446533203,34.34574580192566,34.448670625686646,34.54504442214966,34.64591407775879,34.744818449020386,34.84493112564087,34.945334911346436,35.049182176589966,35.146583557128906,35.24837875366211,35.34727358818054,35.45433211326599,35.545390129089355,35.656078577041626,35.746832847595215,35.8473219871521,35.94709372520447,36.0468065738678,36.14607119560242,36.24921727180481,36.34639763832092,36.454500675201416,36.54650640487671,36.65474462509155,36.749191999435425,36.85453176498413,36.95210886001587,37.047197103500366,37.14702796936035,37.24901580810547,37.34686207771301,37.447104692459106,37.54842662811279,37.64687538146973,37.74915027618408,37.84915614128113,37.948790311813354,38.04765033721924,38.14885377883911,38.24823212623596,38.35143542289734,38.45007371902466,38.55542993545532,38.65315294265747,38.75039100646973,38.85027742385864,38.950366497039795,39.05031752586365,39.150487184524536,39.25821256637573,39.35039734840393,39.45201921463013,39.55043816566467,39.650450229644775,39.75240468978882,39.85030198097229,39.9519202709198,40.05151343345642,40.15075707435608,40.253804206848145,40.36140036582947,40.450860261917114,40.55409598350525,40.65131616592407,40.75186371803284,40.85239887237549,40.95355796813965,41.05352592468262,41.16284155845642,41.252413749694824,41.3540472984314,41.455708026885986,41.55463624000549,41.652626037597656,41.75363826751709,41.855064392089844,41.953187227249146,42.05310916900635,42.15421986579895,42.25406765937805,42.35616064071655,42.45375347137451,42.55452561378479,42.65626549720764,42.7549045085907,42.85430359840393,42.954716205596924,43.0550434589386,43.15387988090515,43.26676344871521,43.35433602333069,43.45442318916321,43.55426049232483,43.65690588951111,43.754761695861816,43.85465598106384,43.95766234397888,44.05765414237976,44.15516233444214,44.255306243896484,44.35650944709778,44.4564106464386,44.558196783065796,44.65524959564209,44.75663423538208,44.855653285980225,44.956889152526855,45.056891202926636,45.15617251396179,45.259347915649414,45.35649275779724,45.4566650390625,45.55965876579285,45.6593382358551,45.756914138793945,45.8582808971405,45.95721650123596,46.058391094207764,46.157426595687866,46.258829832077026,46.36005163192749,46.45975947380066,46.55997109413147,46.66822338104248,46.7590754032135,46.859297037124634,46.959229946136475,47.05930709838867,47.160308599472046,47.25964903831482,47.35964608192444,47.45954132080078,47.56847953796387,47.65980339050293,47.76070761680603,47.860949993133545,47.96102738380432,48.0608868598938,48.16973042488098,48.26136255264282,48.3635528087616,48.46225309371948,48.56248378753662,48.66207695007324,48.761430740356445,48.86470699310303,48.96166253089905,49.06158661842346,49.16189455986023,49.26649451255798,49.362058877944946,49.46488690376282,49.56207346916199,49.6636598110199,49.763437032699585,49.86710548400879,49.966618061065674,50.06493520736694,50.16594886779785,50.263988971710205,50.36377811431885,50.46897530555725,50.56509709358215,50.663946866989136,50.76420331001282,50.865792751312256,50.96528196334839,51.06493139266968,51.16599106788635,51.264713525772095,51.36483836174011,51.466283082962036,51.56488108634949,51.66627740859985,51.76533913612366,51.86521315574646,51.965941190719604,52.06543946266174,52.165924072265625,52.267369985580444,52.36658000946045,52.46628165245056,52.5660502910614,52.668837785720825,52.765990257263184,52.865904331207275,52.967106342315674,53.07641339302063,53.16690969467163,53.270140647888184,53.36931872367859,53.46704411506653,53.56643581390381,53.6758246421814,53.76804304122925,53.86708450317383,53.967583656311035,54.06740736961365,54.168564558029175,54.26759457588196,54.36831283569336,54.46784591674805,54.56783151626587,54.667638301849365,54.768479108810425,54.86789917945862,54.96787142753601,55.067992210388184,55.171016454696655,55.269285917282104,55.36903381347656,55.468350648880005,55.570322036743164,55.67030596733093,55.77029013633728,55.87521815299988,55.97042274475098,56.07261395454407,56.17239284515381,56.27244687080383,56.37264847755432,56.48825979232788,56.57243776321411,56.68163299560547,56.77378845214844,56.87340188026428,56.97399425506592,57.073071241378784,57.17336463928223,57.2733998298645,57.37728786468506,57.47473859786987,57.57391428947449,57.6785364151001,57.77704167366028,57.87393260002136,57.975202560424805,58.07394576072693,58.174970388412476,58.27534246444702,58.37405180931091,58.49008274078369,58.57447624206543,58.674320459365845,58.77466368675232,58.87987661361694,58.974895000457764,59.074692249298096,59.17652249336243,59.27519130706787,59.376720666885376,59.48024845123291,59.57504415512085,59.67632222175598,59.775283336639404,59.87633013725281,59.9767279624939,60.07995295524597,60.176642417907715,60.27666091918945,60.3757860660553,60.475781202316284,60.57788562774658,60.676915884017944,60.78098464012146,60.878838777542114,60.9773690700531,61.07639503479004,61.17762112617493,61.27669715881348,61.378113746643066,61.481345415115356,61.57789969444275,61.68140506744385,61.77827453613281,61.87871265411377,61.97990441322327,62.08743119239807,62.17740345001221,62.28377366065979,62.377360105514526,62.48196077346802,62.577552795410156,62.67955780029297,62.77953815460205,62.88564467430115,62.97774291038513,63.07864475250244,63.179381370544434,63.27934241294861,63.38161492347717,63.49756383895874,63.578343868255615,63.68144154548645,63.7796425819397,63.882205963134766,63.982651472091675,64.08018064498901,64.18289732933044,64.28019547462463,64.38835501670837,64.47988796234131,64.58415126800537,64.681893825531,64.79290437698364,64.88766360282898,64.98255801200867,65.08255767822266,65.18253898620605,65.28386378288269,65.38267874717712,65.48333883285522,65.58333897590637,65.68291187286377,65.78422260284424,65.88682770729065,65.98398804664612,66.08520674705505,66.18757677078247,66.2843267917633,66.38681292533875,66.48536348342896,66.59144806861877,66.70076823234558,66.78522777557373,66.8854010105133,66.99277520179749,67.09571313858032,67.18712520599365,67.29626321792603,67.38522362709045,67.48535013198853,67.60217905044556,67.6925277709961,67.79683327674866,67.89559507369995,67.99541354179382,68.09643268585205,68.19452285766602,68.29497075080872,68.3873176574707,68.48790216445923,68.6015555858612,68.68706679344177,68.81795263290405],\"y\":[90.0,90.0,90.0,90.0,90.0,90.0,90.0,90.0,90.0,90.0,90.0,90.0,90.0,90.0,90.0,90.0,90.0,90.0,90.0,90.0,90.0,90.0,90.0,90.0,90.0,90.0,90.0,90.0,90.0,90.0,90.0,90.0,90.0,90.0,90.0,90.0,90.0,90.0,90.0,90.0,90.0,90.0,90.0,90.0,90.0,90.0,90.0,90.0,90.0,90.0,90.0,90.0,90.0,90.0,90.0,90.0,90.0,90.0,90.0,90.0,90.0,90.0,90.0,90.0,90.0,90.0,90.0,90.0,90.0,90.0,90.0,90.0,90.0,90.0,90.0,90.0,90.0,90.0,90.0,90.0,90.0,90.0,90.0,90.0,90.0,90.0,90.0,90.0,90.0,90.0,90.0,90.0,90.0,90.0,90.0,90.0,90.0,90.0,90.0,90.0,90.0,90.0,90.0,90.0,90.0,90.0,90.0,90.0,90.0,90.0,90.0,90.0,90.0,90.0,90.0,90.0,90.0,90.0,90.0,90.0,90.0,90.0,90.0,90.0,90.0,90.0,90.0,90.0,90.0,90.0,90.0,90.0,90.0,90.0,90.0,90.0,90.0,90.0,90.0,90.0,90.0,90.0,90.0,90.0,90.0,90.0,90.0,90.0,90.0,90.0,90.0,90.0,90.0,90.0,90.0,90.0,90.0,90.0,90.0,90.0,90.0,90.0,90.0,90.0,90.0,90.0,90.0,90.0,90.0,90.0,90.0,90.0,90.0,90.0,90.0,90.0,90.0,90.0,90.0,90.0,90.0,90.0,90.0,90.0,90.0,90.0,90.0,90.0,90.0,90.0,90.0,90.0,90.0,90.0,90.0,90.0,90.0,90.0,90.0,90.0,90.0,90.0,90.0,90.0,90.0,90.0,90.0,90.0,90.0,90.0,90.0,90.0,90.0,90.0,90.0,90.0,90.0,90.0,90.0,90.0,90.0,90.0,90.0,90.0,90.0,90.0,90.0,90.0,90.0,90.0,90.0,90.0,90.0,90.0,90.0,90.0,90.0,90.0,90.0,90.0,90.0,90.0,90.0,90.0,90.0,90.0,90.0,90.0,90.0,90.0,90.0,90.0,90.0,90.0,90.0,90.0,90.0,90.0,90.0,90.0,90.0,90.0,90.0,90.0,90.0,90.0,90.0,90.0,90.0,90.0,90.0,90.0,90.0,90.0,90.0,90.0,90.0,90.0,90.0,90.0,90.0,90.0,90.0,90.0,90.0,90.0,90.0,90.0,90.0,90.0,90.0,90.0,90.0,90.0,90.0,90.0,90.0,90.0,90.0,90.0,90.0,90.0,90.0,90.0,90.0,90.0,90.0,90.0,90.0,90.0,90.0,90.0,90.0,90.0,90.0,90.0,90.0,90.0,90.0,90.0,90.0,90.0,90.0,90.0,90.0,90.0,90.0,90.0,90.0,90.0,90.0,90.0,90.0,90.0,90.0,90.0,90.0,90.0,90.0,90.0,90.0,90.0,90.0,90.0,90.0,90.0,90.0,90.0,90.0,90.0,90.0,90.0,90.0,90.0,90.0,90.0,90.0,90.0,90.0,90.0,90.0,90.0,90.0,90.0,90.0,90.0,90.0,90.0,90.0,90.0,90.0,90.0,90.0,90.0,90.0,90.0,90.0,90.0,90.0,90.0,90.0,90.0,90.0,90.0,90.0,90.0,90.0,90.0,90.0,90.0,90.0,90.0,90.0,90.0,90.0,90.0,90.0,90.0,90.0,90.0,90.0,90.0,90.0,90.0,90.0,90.0,90.0,90.0,90.0,90.0,90.0,90.0,90.0,90.0,90.0,90.0,90.0,90.0,90.0,90.0,90.0,90.0,90.0,90.0,90.0,90.0,90.0,90.0,90.0,90.0,90.0,90.0,90.0,90.0,90.0,90.0,90.0,90.0,90.0,90.0,90.0,90.0,90.0,90.0,90.0],\"type\":\"scatter\"}],                        {\"autosize\":false,\"font\":{\"color\":\"black\",\"family\":\"Courier New, monospace\",\"size\":22},\"height\":600,\"template\":{\"data\":{\"barpolar\":[{\"marker\":{\"line\":{\"color\":\"#E5ECF6\",\"width\":0.5},\"pattern\":{\"fillmode\":\"overlay\",\"size\":10,\"solidity\":0.2}},\"type\":\"barpolar\"}],\"bar\":[{\"error_x\":{\"color\":\"#2a3f5f\"},\"error_y\":{\"color\":\"#2a3f5f\"},\"marker\":{\"line\":{\"color\":\"#E5ECF6\",\"width\":0.5},\"pattern\":{\"fillmode\":\"overlay\",\"size\":10,\"solidity\":0.2}},\"type\":\"bar\"}],\"carpet\":[{\"aaxis\":{\"endlinecolor\":\"#2a3f5f\",\"gridcolor\":\"white\",\"linecolor\":\"white\",\"minorgridcolor\":\"white\",\"startlinecolor\":\"#2a3f5f\"},\"baxis\":{\"endlinecolor\":\"#2a3f5f\",\"gridcolor\":\"white\",\"linecolor\":\"white\",\"minorgridcolor\":\"white\",\"startlinecolor\":\"#2a3f5f\"},\"type\":\"carpet\"}],\"choropleth\":[{\"colorbar\":{\"outlinewidth\":0,\"ticks\":\"\"},\"type\":\"choropleth\"}],\"contourcarpet\":[{\"colorbar\":{\"outlinewidth\":0,\"ticks\":\"\"},\"type\":\"contourcarpet\"}],\"contour\":[{\"colorbar\":{\"outlinewidth\":0,\"ticks\":\"\"},\"colorscale\":[[0.0,\"#0d0887\"],[0.1111111111111111,\"#46039f\"],[0.2222222222222222,\"#7201a8\"],[0.3333333333333333,\"#9c179e\"],[0.4444444444444444,\"#bd3786\"],[0.5555555555555556,\"#d8576b\"],[0.6666666666666666,\"#ed7953\"],[0.7777777777777778,\"#fb9f3a\"],[0.8888888888888888,\"#fdca26\"],[1.0,\"#f0f921\"]],\"type\":\"contour\"}],\"heatmapgl\":[{\"colorbar\":{\"outlinewidth\":0,\"ticks\":\"\"},\"colorscale\":[[0.0,\"#0d0887\"],[0.1111111111111111,\"#46039f\"],[0.2222222222222222,\"#7201a8\"],[0.3333333333333333,\"#9c179e\"],[0.4444444444444444,\"#bd3786\"],[0.5555555555555556,\"#d8576b\"],[0.6666666666666666,\"#ed7953\"],[0.7777777777777778,\"#fb9f3a\"],[0.8888888888888888,\"#fdca26\"],[1.0,\"#f0f921\"]],\"type\":\"heatmapgl\"}],\"heatmap\":[{\"colorbar\":{\"outlinewidth\":0,\"ticks\":\"\"},\"colorscale\":[[0.0,\"#0d0887\"],[0.1111111111111111,\"#46039f\"],[0.2222222222222222,\"#7201a8\"],[0.3333333333333333,\"#9c179e\"],[0.4444444444444444,\"#bd3786\"],[0.5555555555555556,\"#d8576b\"],[0.6666666666666666,\"#ed7953\"],[0.7777777777777778,\"#fb9f3a\"],[0.8888888888888888,\"#fdca26\"],[1.0,\"#f0f921\"]],\"type\":\"heatmap\"}],\"histogram2dcontour\":[{\"colorbar\":{\"outlinewidth\":0,\"ticks\":\"\"},\"colorscale\":[[0.0,\"#0d0887\"],[0.1111111111111111,\"#46039f\"],[0.2222222222222222,\"#7201a8\"],[0.3333333333333333,\"#9c179e\"],[0.4444444444444444,\"#bd3786\"],[0.5555555555555556,\"#d8576b\"],[0.6666666666666666,\"#ed7953\"],[0.7777777777777778,\"#fb9f3a\"],[0.8888888888888888,\"#fdca26\"],[1.0,\"#f0f921\"]],\"type\":\"histogram2dcontour\"}],\"histogram2d\":[{\"colorbar\":{\"outlinewidth\":0,\"ticks\":\"\"},\"colorscale\":[[0.0,\"#0d0887\"],[0.1111111111111111,\"#46039f\"],[0.2222222222222222,\"#7201a8\"],[0.3333333333333333,\"#9c179e\"],[0.4444444444444444,\"#bd3786\"],[0.5555555555555556,\"#d8576b\"],[0.6666666666666666,\"#ed7953\"],[0.7777777777777778,\"#fb9f3a\"],[0.8888888888888888,\"#fdca26\"],[1.0,\"#f0f921\"]],\"type\":\"histogram2d\"}],\"histogram\":[{\"marker\":{\"pattern\":{\"fillmode\":\"overlay\",\"size\":10,\"solidity\":0.2}},\"type\":\"histogram\"}],\"mesh3d\":[{\"colorbar\":{\"outlinewidth\":0,\"ticks\":\"\"},\"type\":\"mesh3d\"}],\"parcoords\":[{\"line\":{\"colorbar\":{\"outlinewidth\":0,\"ticks\":\"\"}},\"type\":\"parcoords\"}],\"pie\":[{\"automargin\":true,\"type\":\"pie\"}],\"scatter3d\":[{\"line\":{\"colorbar\":{\"outlinewidth\":0,\"ticks\":\"\"}},\"marker\":{\"colorbar\":{\"outlinewidth\":0,\"ticks\":\"\"}},\"type\":\"scatter3d\"}],\"scattercarpet\":[{\"marker\":{\"colorbar\":{\"outlinewidth\":0,\"ticks\":\"\"}},\"type\":\"scattercarpet\"}],\"scattergeo\":[{\"marker\":{\"colorbar\":{\"outlinewidth\":0,\"ticks\":\"\"}},\"type\":\"scattergeo\"}],\"scattergl\":[{\"marker\":{\"colorbar\":{\"outlinewidth\":0,\"ticks\":\"\"}},\"type\":\"scattergl\"}],\"scattermapbox\":[{\"marker\":{\"colorbar\":{\"outlinewidth\":0,\"ticks\":\"\"}},\"type\":\"scattermapbox\"}],\"scatterpolargl\":[{\"marker\":{\"colorbar\":{\"outlinewidth\":0,\"ticks\":\"\"}},\"type\":\"scatterpolargl\"}],\"scatterpolar\":[{\"marker\":{\"colorbar\":{\"outlinewidth\":0,\"ticks\":\"\"}},\"type\":\"scatterpolar\"}],\"scatter\":[{\"fillpattern\":{\"fillmode\":\"overlay\",\"size\":10,\"solidity\":0.2},\"type\":\"scatter\"}],\"scatterternary\":[{\"marker\":{\"colorbar\":{\"outlinewidth\":0,\"ticks\":\"\"}},\"type\":\"scatterternary\"}],\"surface\":[{\"colorbar\":{\"outlinewidth\":0,\"ticks\":\"\"},\"colorscale\":[[0.0,\"#0d0887\"],[0.1111111111111111,\"#46039f\"],[0.2222222222222222,\"#7201a8\"],[0.3333333333333333,\"#9c179e\"],[0.4444444444444444,\"#bd3786\"],[0.5555555555555556,\"#d8576b\"],[0.6666666666666666,\"#ed7953\"],[0.7777777777777778,\"#fb9f3a\"],[0.8888888888888888,\"#fdca26\"],[1.0,\"#f0f921\"]],\"type\":\"surface\"}],\"table\":[{\"cells\":{\"fill\":{\"color\":\"#EBF0F8\"},\"line\":{\"color\":\"white\"}},\"header\":{\"fill\":{\"color\":\"#C8D4E3\"},\"line\":{\"color\":\"white\"}},\"type\":\"table\"}]},\"layout\":{\"annotationdefaults\":{\"arrowcolor\":\"#2a3f5f\",\"arrowhead\":0,\"arrowwidth\":1},\"autotypenumbers\":\"strict\",\"coloraxis\":{\"colorbar\":{\"outlinewidth\":0,\"ticks\":\"\"}},\"colorscale\":{\"diverging\":[[0,\"#8e0152\"],[0.1,\"#c51b7d\"],[0.2,\"#de77ae\"],[0.3,\"#f1b6da\"],[0.4,\"#fde0ef\"],[0.5,\"#f7f7f7\"],[0.6,\"#e6f5d0\"],[0.7,\"#b8e186\"],[0.8,\"#7fbc41\"],[0.9,\"#4d9221\"],[1,\"#276419\"]],\"sequential\":[[0.0,\"#0d0887\"],[0.1111111111111111,\"#46039f\"],[0.2222222222222222,\"#7201a8\"],[0.3333333333333333,\"#9c179e\"],[0.4444444444444444,\"#bd3786\"],[0.5555555555555556,\"#d8576b\"],[0.6666666666666666,\"#ed7953\"],[0.7777777777777778,\"#fb9f3a\"],[0.8888888888888888,\"#fdca26\"],[1.0,\"#f0f921\"]],\"sequentialminus\":[[0.0,\"#0d0887\"],[0.1111111111111111,\"#46039f\"],[0.2222222222222222,\"#7201a8\"],[0.3333333333333333,\"#9c179e\"],[0.4444444444444444,\"#bd3786\"],[0.5555555555555556,\"#d8576b\"],[0.6666666666666666,\"#ed7953\"],[0.7777777777777778,\"#fb9f3a\"],[0.8888888888888888,\"#fdca26\"],[1.0,\"#f0f921\"]]},\"colorway\":[\"#636efa\",\"#EF553B\",\"#00cc96\",\"#ab63fa\",\"#FFA15A\",\"#19d3f3\",\"#FF6692\",\"#B6E880\",\"#FF97FF\",\"#FECB52\"],\"font\":{\"color\":\"#2a3f5f\"},\"geo\":{\"bgcolor\":\"white\",\"lakecolor\":\"white\",\"landcolor\":\"#E5ECF6\",\"showlakes\":true,\"showland\":true,\"subunitcolor\":\"white\"},\"hoverlabel\":{\"align\":\"left\"},\"hovermode\":\"closest\",\"mapbox\":{\"style\":\"light\"},\"paper_bgcolor\":\"white\",\"plot_bgcolor\":\"#E5ECF6\",\"polar\":{\"angularaxis\":{\"gridcolor\":\"white\",\"linecolor\":\"white\",\"ticks\":\"\"},\"bgcolor\":\"#E5ECF6\",\"radialaxis\":{\"gridcolor\":\"white\",\"linecolor\":\"white\",\"ticks\":\"\"}},\"scene\":{\"xaxis\":{\"backgroundcolor\":\"#E5ECF6\",\"gridcolor\":\"white\",\"gridwidth\":2,\"linecolor\":\"white\",\"showbackground\":true,\"ticks\":\"\",\"zerolinecolor\":\"white\"},\"yaxis\":{\"backgroundcolor\":\"#E5ECF6\",\"gridcolor\":\"white\",\"gridwidth\":2,\"linecolor\":\"white\",\"showbackground\":true,\"ticks\":\"\",\"zerolinecolor\":\"white\"},\"zaxis\":{\"backgroundcolor\":\"#E5ECF6\",\"gridcolor\":\"white\",\"gridwidth\":2,\"linecolor\":\"white\",\"showbackground\":true,\"ticks\":\"\",\"zerolinecolor\":\"white\"}},\"shapedefaults\":{\"line\":{\"color\":\"#2a3f5f\"}},\"ternary\":{\"aaxis\":{\"gridcolor\":\"white\",\"linecolor\":\"white\",\"ticks\":\"\"},\"baxis\":{\"gridcolor\":\"white\",\"linecolor\":\"white\",\"ticks\":\"\"},\"bgcolor\":\"#E5ECF6\",\"caxis\":{\"gridcolor\":\"white\",\"linecolor\":\"white\",\"ticks\":\"\"}},\"title\":{\"x\":0.05},\"xaxis\":{\"automargin\":true,\"gridcolor\":\"white\",\"linecolor\":\"white\",\"ticks\":\"\",\"title\":{\"standoff\":15},\"zerolinecolor\":\"white\",\"zerolinewidth\":2},\"yaxis\":{\"automargin\":true,\"gridcolor\":\"white\",\"linecolor\":\"white\",\"ticks\":\"\",\"title\":{\"standoff\":15},\"zerolinecolor\":\"white\",\"zerolinewidth\":2}}},\"title\":{\"text\":\"Range of Motion hipLeft\"},\"width\":750,\"xaxis\":{\"title\":{\"font\":{\"color\":\"#7f7f7f\",\"family\":\"Courier New, monospace\",\"size\":18},\"text\":\"time [s]\"}},\"yaxis\":{\"title\":{\"font\":{\"color\":\"#7f7f7f\",\"family\":\"Courier New, monospace\",\"size\":18},\"text\":\"ROM [degrees]\"}}},                        {\"responsive\": true}                    ).then(function(){\n",
       "                            \n",
       "var gd = document.getElementById('0de68e0c-fc85-42c0-abf0-855a51622e88');\n",
       "var x = new MutationObserver(function (mutations, observer) {{\n",
       "        var display = window.getComputedStyle(gd).display;\n",
       "        if (!display || display === 'none') {{\n",
       "            console.log([gd, 'removed!']);\n",
       "            Plotly.purge(gd);\n",
       "            observer.disconnect();\n",
       "        }}\n",
       "}});\n",
       "\n",
       "// Listen for the removal of the full notebook cells\n",
       "var notebookContainer = gd.closest('#notebook-container');\n",
       "if (notebookContainer) {{\n",
       "    x.observe(notebookContainer, {childList: true});\n",
       "}}\n",
       "\n",
       "// Listen for the clearing of the current output cell\n",
       "var outputEl = gd.closest('.output');\n",
       "if (outputEl) {{\n",
       "    x.observe(outputEl, {childList: true});\n",
       "}}\n",
       "\n",
       "                        })                };                });            </script>        </div>"
      ]
     },
     "metadata": {},
     "output_type": "display_data"
    },
    {
     "data": {
      "application/vnd.plotly.v1+json": {
       "config": {
        "linkText": "Export to plot.ly",
        "plotlyServerURL": "https://plot.ly",
        "showLink": false
       },
       "data": [
        {
         "line": {
          "color": "blue",
          "width": 3
         },
         "mode": "lines",
         "name": "Real trend",
         "type": "scatter",
         "x": [
          24.233115196228027,
          24.332800149917603,
          24.43332529067993,
          24.533143520355225,
          24.63327145576477,
          24.741224765777588,
          24.83667492866516,
          24.933400630950928,
          25.03368902206421,
          25.136213779449463,
          25.236974239349365,
          25.33634853363037,
          25.436240673065186,
          25.534266233444214,
          25.660048961639404,
          25.73537588119507,
          25.837066650390625,
          25.93694543838501,
          26.037134408950806,
          26.135271310806274,
          26.238525390625,
          26.33588480949402,
          26.436264991760254,
          26.5361270904541,
          26.636869430541992,
          26.736798763275146,
          26.83656358718872,
          26.936131238937378,
          27.037917852401733,
          27.136846780776978,
          27.236833333969116,
          27.337327480316162,
          27.439617395401,
          27.538838148117065,
          27.638164520263672,
          27.749006986618042,
          27.83854031562805,
          27.9455463886261,
          28.040802001953125,
          28.139883041381836,
          28.239752769470215,
          28.339375257492065,
          28.439257621765137,
          28.540772676467896,
          28.64122200012207,
          28.740676641464233,
          28.842568397521973,
          28.945440530776978,
          29.04046893119812,
          29.14072895050049,
          29.241145849227905,
          29.340039253234863,
          29.439839601516724,
          29.54038095474243,
          29.63996434211731,
          29.739933252334595,
          29.846254587173462,
          29.94089412689209,
          30.04071307182312,
          30.144608736038208,
          30.240516185760498,
          30.34049105644226,
          30.44564700126648,
          30.55128312110901,
          30.640730619430542,
          30.742594957351685,
          30.84181499481201,
          30.943175554275513,
          31.05737829208374,
          31.142616987228394,
          31.24183678627014,
          31.342342376708984,
          31.44289994239807,
          31.5424702167511,
          31.643161296844482,
          31.74295926094055,
          31.84236192703247,
          31.94386625289917,
          32.04418087005615,
          32.14330244064331,
          32.24445056915283,
          32.343778133392334,
          32.449652910232544,
          32.544663190841675,
          32.64774417877197,
          32.744690895080566,
          32.84504675865173,
          32.944618463516235,
          33.05396890640259,
          33.143632888793945,
          33.24526834487915,
          33.345051288604736,
          33.44400191307068,
          33.55854344367981,
          33.64385724067688,
          33.74412751197815,
          33.84885501861572,
          33.94433307647705,
          34.044235944747925,
          34.14453125,
          34.24451446533203,
          34.34574580192566,
          34.448670625686646,
          34.54504442214966,
          34.64591407775879,
          34.744818449020386,
          34.84493112564087,
          34.945334911346436,
          35.049182176589966,
          35.146583557128906,
          35.24837875366211,
          35.34727358818054,
          35.45433211326599,
          35.545390129089355,
          35.656078577041626,
          35.746832847595215,
          35.8473219871521,
          35.94709372520447,
          36.0468065738678,
          36.14607119560242,
          36.24921727180481,
          36.34639763832092,
          36.454500675201416,
          36.54650640487671,
          36.65474462509155,
          36.749191999435425,
          36.85453176498413,
          36.95210886001587,
          37.047197103500366,
          37.14702796936035,
          37.24901580810547,
          37.34686207771301,
          37.447104692459106,
          37.54842662811279,
          37.64687538146973,
          37.74915027618408,
          37.84915614128113,
          37.948790311813354,
          38.04765033721924,
          38.14885377883911,
          38.24823212623596,
          38.35143542289734,
          38.45007371902466,
          38.55542993545532,
          38.65315294265747,
          38.75039100646973,
          38.85027742385864,
          38.950366497039795,
          39.05031752586365,
          39.150487184524536,
          39.25821256637573,
          39.35039734840393,
          39.45201921463013,
          39.55043816566467,
          39.650450229644775,
          39.75240468978882,
          39.85030198097229,
          39.9519202709198,
          40.05151343345642,
          40.15075707435608,
          40.253804206848145,
          40.36140036582947,
          40.450860261917114,
          40.55409598350525,
          40.65131616592407,
          40.75186371803284,
          40.85239887237549,
          40.95355796813965,
          41.05352592468262,
          41.16284155845642,
          41.252413749694824,
          41.3540472984314,
          41.455708026885986,
          41.55463624000549,
          41.652626037597656,
          41.75363826751709,
          41.855064392089844,
          41.953187227249146,
          42.05310916900635,
          42.15421986579895,
          42.25406765937805,
          42.35616064071655,
          42.45375347137451,
          42.55452561378479,
          42.65626549720764,
          42.7549045085907,
          42.85430359840393,
          42.954716205596924,
          43.0550434589386,
          43.15387988090515,
          43.26676344871521,
          43.35433602333069,
          43.45442318916321,
          43.55426049232483,
          43.65690588951111,
          43.754761695861816,
          43.85465598106384,
          43.95766234397888,
          44.05765414237976,
          44.15516233444214,
          44.255306243896484,
          44.35650944709778,
          44.4564106464386,
          44.558196783065796,
          44.65524959564209,
          44.75663423538208,
          44.855653285980225,
          44.956889152526855,
          45.056891202926636,
          45.15617251396179,
          45.259347915649414,
          45.35649275779724,
          45.4566650390625,
          45.55965876579285,
          45.6593382358551,
          45.756914138793945,
          45.8582808971405,
          45.95721650123596,
          46.058391094207764,
          46.157426595687866,
          46.258829832077026,
          46.36005163192749,
          46.45975947380066,
          46.55997109413147,
          46.66822338104248,
          46.7590754032135,
          46.859297037124634,
          46.959229946136475,
          47.05930709838867,
          47.160308599472046,
          47.25964903831482,
          47.35964608192444,
          47.45954132080078,
          47.56847953796387,
          47.65980339050293,
          47.76070761680603,
          47.860949993133545,
          47.96102738380432,
          48.0608868598938,
          48.16973042488098,
          48.26136255264282,
          48.3635528087616,
          48.46225309371948,
          48.56248378753662,
          48.66207695007324,
          48.761430740356445,
          48.86470699310303,
          48.96166253089905,
          49.06158661842346,
          49.16189455986023,
          49.26649451255798,
          49.362058877944946,
          49.46488690376282,
          49.56207346916199,
          49.6636598110199,
          49.763437032699585,
          49.86710548400879,
          49.966618061065674,
          50.06493520736694,
          50.16594886779785,
          50.263988971710205,
          50.36377811431885,
          50.46897530555725,
          50.56509709358215,
          50.663946866989136,
          50.76420331001282,
          50.865792751312256,
          50.96528196334839,
          51.06493139266968,
          51.16599106788635,
          51.264713525772095,
          51.36483836174011,
          51.466283082962036,
          51.56488108634949,
          51.66627740859985,
          51.76533913612366,
          51.86521315574646,
          51.965941190719604,
          52.06543946266174,
          52.165924072265625,
          52.267369985580444,
          52.36658000946045,
          52.46628165245056,
          52.5660502910614,
          52.668837785720825,
          52.765990257263184,
          52.865904331207275,
          52.967106342315674,
          53.07641339302063,
          53.16690969467163,
          53.270140647888184,
          53.36931872367859,
          53.46704411506653,
          53.56643581390381,
          53.6758246421814,
          53.76804304122925,
          53.86708450317383,
          53.967583656311035,
          54.06740736961365,
          54.168564558029175,
          54.26759457588196,
          54.36831283569336,
          54.46784591674805,
          54.56783151626587,
          54.667638301849365,
          54.768479108810425,
          54.86789917945862,
          54.96787142753601,
          55.067992210388184,
          55.171016454696655,
          55.269285917282104,
          55.36903381347656,
          55.468350648880005,
          55.570322036743164,
          55.67030596733093,
          55.77029013633728,
          55.87521815299988,
          55.97042274475098,
          56.07261395454407,
          56.17239284515381,
          56.27244687080383,
          56.37264847755432,
          56.48825979232788,
          56.57243776321411,
          56.68163299560547,
          56.77378845214844,
          56.87340188026428,
          56.97399425506592,
          57.073071241378784,
          57.17336463928223,
          57.2733998298645,
          57.37728786468506,
          57.47473859786987,
          57.57391428947449,
          57.6785364151001,
          57.77704167366028,
          57.87393260002136,
          57.975202560424805,
          58.07394576072693,
          58.174970388412476,
          58.27534246444702,
          58.37405180931091,
          58.49008274078369,
          58.57447624206543,
          58.674320459365845,
          58.77466368675232,
          58.87987661361694,
          58.974895000457764,
          59.074692249298096,
          59.17652249336243,
          59.27519130706787,
          59.376720666885376,
          59.48024845123291,
          59.57504415512085,
          59.67632222175598,
          59.775283336639404,
          59.87633013725281,
          59.9767279624939,
          60.07995295524597,
          60.176642417907715,
          60.27666091918945,
          60.3757860660553,
          60.475781202316284,
          60.57788562774658,
          60.676915884017944,
          60.78098464012146,
          60.878838777542114,
          60.9773690700531,
          61.07639503479004,
          61.17762112617493,
          61.27669715881348,
          61.378113746643066,
          61.481345415115356,
          61.57789969444275,
          61.68140506744385,
          61.77827453613281,
          61.87871265411377,
          61.97990441322327,
          62.08743119239807,
          62.17740345001221,
          62.28377366065979,
          62.377360105514526,
          62.48196077346802,
          62.577552795410156,
          62.67955780029297,
          62.77953815460205,
          62.88564467430115,
          62.97774291038513,
          63.07864475250244,
          63.179381370544434,
          63.27934241294861,
          63.38161492347717,
          63.49756383895874,
          63.578343868255615,
          63.68144154548645,
          63.7796425819397,
          63.882205963134766,
          63.982651472091675,
          64.08018064498901,
          64.18289732933044,
          64.28019547462463,
          64.38835501670837,
          64.47988796234131,
          64.58415126800537,
          64.681893825531,
          64.79290437698364,
          64.88766360282898,
          64.98255801200867,
          65.08255767822266,
          65.18253898620605,
          65.28386378288269,
          65.38267874717712,
          65.48333883285522,
          65.58333897590637,
          65.68291187286377,
          65.78422260284424,
          65.88682770729065,
          65.98398804664612,
          66.08520674705505,
          66.18757677078247,
          66.2843267917633,
          66.38681292533875,
          66.48536348342896,
          66.59144806861877,
          66.70076823234558,
          66.78522777557373,
          66.8854010105133,
          66.99277520179749,
          67.09571313858032,
          67.18712520599365,
          67.29626321792603,
          67.38522362709045,
          67.48535013198853,
          67.60217905044556,
          67.6925277709961,
          67.79683327674866,
          67.89559507369995,
          67.99541354179382,
          68.09643268585205,
          68.19452285766602,
          68.29497075080872,
          68.3873176574707,
          68.48790216445923,
          68.6015555858612,
          68.68706679344177,
          68.81795263290405
         ],
         "y": [
          67.87429530020813,
          68.27068742556492,
          68.32942934457496,
          68.32942934457496,
          68.17340737784095,
          68.06206629191276,
          68.06206629191276,
          67.49316183795,
          65.9414906321255,
          65.9414906321255,
          64.63989727748043,
          64.76666345647094,
          64.76666345647094,
          65.22939643018611,
          66.20816414654414,
          66.20816414654414,
          66.93220079128331,
          67.015262326803,
          67.015262326803,
          67.12983086083392,
          67.56167880648712,
          67.48096335269375,
          67.48096335269375,
          67.34327705983095,
          67.34327705983095,
          67.07040889530263,
          67.25269431943664,
          67.22934977839697,
          67.22934977839697,
          67.07455022858547,
          67.07455022858547,
          67.11471694817139,
          67.06165950245011,
          67.1680415794295,
          67.1680415794295,
          67.13243922752604,
          67.25730243808819,
          67.25730243808819,
          67.35311194400643,
          67.35311194400643,
          67.19653660439384,
          67.21396330317877,
          67.29287526453933,
          67.29287526453933,
          67.18813912441959,
          67.18813912441959,
          67.23771388604303,
          67.1801463932395,
          67.16846599701395,
          67.16846599701395,
          67.27391424914595,
          67.27389204050702,
          67.27389204050702,
          67.3104794955339,
          67.3104794955339,
          67.2957858564204,
          67.35721950575963,
          67.33456935596375,
          67.33456935596375,
          67.339016679035,
          67.24477322861401,
          67.1874578978028,
          67.1874578978028,
          67.0786331771161,
          67.0786331771161,
          67.10819148236989,
          67.14125183947739,
          67.1169664618212,
          67.1169664618212,
          67.12479665393037,
          67.1434471164066,
          67.1434471164066,
          67.07702702983258,
          67.07704428683853,
          67.07704428683853,
          67.07305516734647,
          67.07439087619241,
          67.07439087619241,
          67.06663219824848,
          67.06663219824848,
          67.17015834642135,
          67.28617541700963,
          67.26575333044427,
          67.26575333044427,
          67.23214006223333,
          67.07486127457044,
          67.07486127457044,
          67.11943736910017,
          67.01615273648014,
          67.01615273648014,
          66.88432030049007,
          66.8455927336712,
          66.8455927336712,
          66.96105615920958,
          67.16929117212496,
          67.16929117212496,
          67.55513628666039,
          67.55513628666039,
          67.84705248599538,
          67.33518330304783,
          67.12590574507341,
          67.12590574507341,
          66.75438414959547,
          66.69342186465013,
          66.69342186465013,
          66.45754086277275,
          66.02826784288547,
          66.02826784288547,
          64.67464781968542,
          64.59852949275427,
          64.59852949275427,
          66.55137056103294,
          68.75997868459392,
          67.49397056204815,
          67.49397056204815,
          67.43235255887545,
          67.43235255887545,
          67.0538522866528,
          66.94095599841108,
          66.94878127201817,
          66.94878127201817,
          66.88162569098232,
          66.97795237953859,
          66.97795237953859,
          66.962488836716,
          67.27669106904372,
          67.27669106904372,
          67.73677715300587,
          69.13008295259964,
          69.13008295259964,
          69.28991849629209,
          67.93904925816979,
          67.743167447532,
          67.743167447532,
          67.61018130652651,
          67.61018130652651,
          67.23424065742269,
          67.35625030293313,
          67.35625030293313,
          67.06600653035834,
          67.20894824098895,
          67.45017616354205,
          67.45017616354205,
          67.32452712625667,
          67.32452712625667,
          67.8510624517596,
          67.72949575707331,
          67.68860854984491,
          67.68860854984491,
          67.44806631572047,
          67.44806631572047,
          67.38361208430709,
          67.41712790846047,
          67.41712790846047,
          69.28318705930677,
          69.13502517807298,
          69.27738295802332,
          69.27738295802332,
          69.43835418924549,
          69.4440715032495,
          69.4440715032495,
          69.6679821228706,
          69.79664760506881,
          69.79664760506881,
          69.75660290552518,
          69.96419997678468,
          69.96419997678468,
          70.8591725180133,
          71.5105917130535,
          71.5105917130535,
          67.04857827041964,
          67.06981687817904,
          67.06981687817904,
          66.7914603686779,
          66.77692486019838,
          66.77692486019838,
          67.00910745214105,
          67.91190782098478,
          67.91190782098478,
          70.16222034078929,
          73.56973556949937,
          73.56973556949937,
          68.59813083544886,
          67.77422056935517,
          67.77422056935517,
          67.49262219744091,
          67.4777636981865,
          67.4777636981865,
          67.40018447493354,
          67.23595942529305,
          67.22484181352007,
          67.22484181352007,
          67.13544960274761,
          67.0815884120078,
          67.0815884120078,
          67.13718260689978,
          67.13718260689978,
          67.25592509707346,
          67.20033761057445,
          67.20033761057445,
          67.22332397653315,
          67.14330964422587,
          67.14330964422587,
          67.06007113893,
          67.10802619523345,
          67.17960278812387,
          67.17960278812387,
          67.1982050272303,
          67.1982050272303,
          67.17876019874224,
          67.10055127979821,
          67.16190693830707,
          67.16190693830707,
          67.36864429592337,
          67.25850152607117,
          67.25850152607117,
          67.25561197984405,
          67.55056731854218,
          67.55056731854218,
          68.34377664376485,
          68.45390530349852,
          68.45390530349852,
          68.93369838085587,
          68.93369838085587,
          68.9061205903563,
          68.9061205903563,
          68.865935774362,
          68.48819087830505,
          68.48819087830505,
          68.17627859184759,
          67.91792004999265,
          67.91792004999265,
          68.03656077902257,
          67.80010738219052,
          67.80010738219052,
          68.06689514909507,
          68.05206526559334,
          68.05206526559334,
          68.04943693643955,
          67.71840747194418,
          67.71840747194418,
          67.49465855460116,
          67.44977789860098,
          67.44977789860098,
          67.3410711026755,
          67.29577499996233,
          67.29577499996233,
          67.28295390193591,
          67.31097085304083,
          67.31097085304083,
          67.51953828132216,
          67.72294511091117,
          67.72294511091117,
          68.37772927865153,
          68.31323463414847,
          67.83254134775524,
          67.83254134775524,
          68.07858918957471,
          68.3182560282866,
          68.3182560282866,
          68.94048001466386,
          68.94048001466386,
          68.84242645952693,
          68.99847995281867,
          68.25871586467778,
          68.25871586467778,
          68.2882640265661,
          68.21835639854207,
          68.21835639854207,
          68.2178278584221,
          68.25914300940403,
          68.25914300940403,
          68.22760952862504,
          68.71221746725489,
          68.71221746725489,
          68.36104984716137,
          68.36104984716137,
          68.62078955866463,
          68.32251195211853,
          67.65552451565776,
          67.65552451565776,
          67.6254335615832,
          67.51121854705792,
          67.51121854705792,
          67.51059863762254,
          67.66866011230199,
          67.66866011230199,
          67.70417501623855,
          67.92447613408142,
          68.0801317896634,
          68.0801317896634,
          68.13289568124674,
          68.13969431960525,
          68.13969431960525,
          68.27161097745567,
          68.27931745214578,
          68.27931745214578,
          67.92022632910401,
          67.91799089333382,
          67.91799089333382,
          67.80487107136803,
          67.84194026534502,
          67.84194026534502,
          68.41807885604527,
          68.31951216097299,
          68.31951216097299,
          68.55635723999501,
          68.56268556377472,
          68.56268556377472,
          68.69089690106921,
          68.48332622094843,
          68.48332622094843,
          68.20463062196221,
          68.20463062196221,
          68.3039173465608,
          68.04666867115372,
          68.24594158958689,
          67.97026114441654,
          67.97026114441654,
          67.85485578550427,
          67.83417584225705,
          67.83417584225705,
          67.57624749804747,
          67.57624749804747,
          67.67418637475166,
          68.18820907836081,
          68.92534821726535,
          68.92534821726535,
          69.07504330408275,
          69.07504330408275,
          68.79182182054292,
          68.88396934615886,
          68.88396934615886,
          68.93016242208897,
          68.64428171748948,
          68.64428171748948,
          69.15767671192461,
          70.46347593540685,
          67.9022208202631,
          67.9022208202631,
          67.9306446474897,
          67.9306446474897,
          68.02128060725626,
          68.10478859457349,
          68.19519540015446,
          68.19519540015446,
          68.1231196789097,
          68.13099230043076,
          68.13099230043076,
          68.05059002285277,
          67.65638415124805,
          67.65638415124805,
          67.63833189342343,
          67.6970064130814,
          67.6970064130814,
          67.93251227875805,
          68.13500310112887,
          68.13500310112887,
          68.34729698796983,
          68.7247930003625,
          68.7247930003625,
          68.47189023031585,
          68.59784163581791,
          68.59784163581791,
          69.1606801922846,
          68.6814703176018,
          68.6814703176018,
          69.92078929554116,
          70.32094053958906,
          70.55422700618364,
          70.55422700618364,
          69.73334457644613,
          68.27997086956266,
          68.27997086956266,
          68.01006592014336,
          68.10239662215716,
          68.10239662215716,
          67.29181732346986,
          66.92524751893428,
          66.92524751893428,
          67.02163804562085,
          67.02163804562085,
          66.8291642400709,
          66.85629775247887,
          66.85629775247887,
          67.02260067340868,
          66.90316116791095,
          66.94904852417214,
          66.94904852417214,
          66.93906857976378,
          66.57024710565189,
          66.57024710565189,
          67.0018346489637,
          67.01971719975703,
          67.01971719975703,
          66.98950457097217,
          66.98950457097217,
          66.76019403173296,
          66.84246330524275,
          66.84681742052953,
          66.84681742052953,
          67.0824445236456,
          67.38495171191211,
          67.38495171191211,
          67.32838507330243,
          67.05473521468592,
          67.05473521468592,
          66.95684057834474,
          67.0500287385651,
          67.33599385206075,
          67.33599385206075,
          67.44534693172595,
          67.7745292794423,
          67.7745292794423,
          67.78765825916591,
          67.73913245587777,
          67.73913245587777,
          68.16636415138998,
          68.16636415138998,
          68.0813963287636,
          68.0813963287636,
          68.0813963287636,
          68.0813963287636,
          68.0813963287636,
          68.0813963287636,
          68.0813963287636,
          68.0813963287636,
          68.0813963287636,
          68.0813963287636,
          68.0813963287636,
          68.0813963287636,
          68.0813963287636,
          68.0813963287636,
          68.0813963287636,
          68.0813963287636,
          68.0813963287636,
          68.0813963287636,
          68.0813963287636,
          68.0813963287636,
          68.0813963287636,
          68.0813963287636,
          68.0813963287636,
          68.0813963287636,
          68.0813963287636,
          68.0813963287636
         ]
        }
       ],
       "layout": {
        "autosize": false,
        "font": {
         "color": "black",
         "family": "Courier New, monospace",
         "size": 22
        },
        "height": 600,
        "template": {
         "data": {
          "bar": [
           {
            "error_x": {
             "color": "#2a3f5f"
            },
            "error_y": {
             "color": "#2a3f5f"
            },
            "marker": {
             "line": {
              "color": "#E5ECF6",
              "width": 0.5
             },
             "pattern": {
              "fillmode": "overlay",
              "size": 10,
              "solidity": 0.2
             }
            },
            "type": "bar"
           }
          ],
          "barpolar": [
           {
            "marker": {
             "line": {
              "color": "#E5ECF6",
              "width": 0.5
             },
             "pattern": {
              "fillmode": "overlay",
              "size": 10,
              "solidity": 0.2
             }
            },
            "type": "barpolar"
           }
          ],
          "carpet": [
           {
            "aaxis": {
             "endlinecolor": "#2a3f5f",
             "gridcolor": "white",
             "linecolor": "white",
             "minorgridcolor": "white",
             "startlinecolor": "#2a3f5f"
            },
            "baxis": {
             "endlinecolor": "#2a3f5f",
             "gridcolor": "white",
             "linecolor": "white",
             "minorgridcolor": "white",
             "startlinecolor": "#2a3f5f"
            },
            "type": "carpet"
           }
          ],
          "choropleth": [
           {
            "colorbar": {
             "outlinewidth": 0,
             "ticks": ""
            },
            "type": "choropleth"
           }
          ],
          "contour": [
           {
            "colorbar": {
             "outlinewidth": 0,
             "ticks": ""
            },
            "colorscale": [
             [
              0,
              "#0d0887"
             ],
             [
              0.1111111111111111,
              "#46039f"
             ],
             [
              0.2222222222222222,
              "#7201a8"
             ],
             [
              0.3333333333333333,
              "#9c179e"
             ],
             [
              0.4444444444444444,
              "#bd3786"
             ],
             [
              0.5555555555555556,
              "#d8576b"
             ],
             [
              0.6666666666666666,
              "#ed7953"
             ],
             [
              0.7777777777777778,
              "#fb9f3a"
             ],
             [
              0.8888888888888888,
              "#fdca26"
             ],
             [
              1,
              "#f0f921"
             ]
            ],
            "type": "contour"
           }
          ],
          "contourcarpet": [
           {
            "colorbar": {
             "outlinewidth": 0,
             "ticks": ""
            },
            "type": "contourcarpet"
           }
          ],
          "heatmap": [
           {
            "colorbar": {
             "outlinewidth": 0,
             "ticks": ""
            },
            "colorscale": [
             [
              0,
              "#0d0887"
             ],
             [
              0.1111111111111111,
              "#46039f"
             ],
             [
              0.2222222222222222,
              "#7201a8"
             ],
             [
              0.3333333333333333,
              "#9c179e"
             ],
             [
              0.4444444444444444,
              "#bd3786"
             ],
             [
              0.5555555555555556,
              "#d8576b"
             ],
             [
              0.6666666666666666,
              "#ed7953"
             ],
             [
              0.7777777777777778,
              "#fb9f3a"
             ],
             [
              0.8888888888888888,
              "#fdca26"
             ],
             [
              1,
              "#f0f921"
             ]
            ],
            "type": "heatmap"
           }
          ],
          "heatmapgl": [
           {
            "colorbar": {
             "outlinewidth": 0,
             "ticks": ""
            },
            "colorscale": [
             [
              0,
              "#0d0887"
             ],
             [
              0.1111111111111111,
              "#46039f"
             ],
             [
              0.2222222222222222,
              "#7201a8"
             ],
             [
              0.3333333333333333,
              "#9c179e"
             ],
             [
              0.4444444444444444,
              "#bd3786"
             ],
             [
              0.5555555555555556,
              "#d8576b"
             ],
             [
              0.6666666666666666,
              "#ed7953"
             ],
             [
              0.7777777777777778,
              "#fb9f3a"
             ],
             [
              0.8888888888888888,
              "#fdca26"
             ],
             [
              1,
              "#f0f921"
             ]
            ],
            "type": "heatmapgl"
           }
          ],
          "histogram": [
           {
            "marker": {
             "pattern": {
              "fillmode": "overlay",
              "size": 10,
              "solidity": 0.2
             }
            },
            "type": "histogram"
           }
          ],
          "histogram2d": [
           {
            "colorbar": {
             "outlinewidth": 0,
             "ticks": ""
            },
            "colorscale": [
             [
              0,
              "#0d0887"
             ],
             [
              0.1111111111111111,
              "#46039f"
             ],
             [
              0.2222222222222222,
              "#7201a8"
             ],
             [
              0.3333333333333333,
              "#9c179e"
             ],
             [
              0.4444444444444444,
              "#bd3786"
             ],
             [
              0.5555555555555556,
              "#d8576b"
             ],
             [
              0.6666666666666666,
              "#ed7953"
             ],
             [
              0.7777777777777778,
              "#fb9f3a"
             ],
             [
              0.8888888888888888,
              "#fdca26"
             ],
             [
              1,
              "#f0f921"
             ]
            ],
            "type": "histogram2d"
           }
          ],
          "histogram2dcontour": [
           {
            "colorbar": {
             "outlinewidth": 0,
             "ticks": ""
            },
            "colorscale": [
             [
              0,
              "#0d0887"
             ],
             [
              0.1111111111111111,
              "#46039f"
             ],
             [
              0.2222222222222222,
              "#7201a8"
             ],
             [
              0.3333333333333333,
              "#9c179e"
             ],
             [
              0.4444444444444444,
              "#bd3786"
             ],
             [
              0.5555555555555556,
              "#d8576b"
             ],
             [
              0.6666666666666666,
              "#ed7953"
             ],
             [
              0.7777777777777778,
              "#fb9f3a"
             ],
             [
              0.8888888888888888,
              "#fdca26"
             ],
             [
              1,
              "#f0f921"
             ]
            ],
            "type": "histogram2dcontour"
           }
          ],
          "mesh3d": [
           {
            "colorbar": {
             "outlinewidth": 0,
             "ticks": ""
            },
            "type": "mesh3d"
           }
          ],
          "parcoords": [
           {
            "line": {
             "colorbar": {
              "outlinewidth": 0,
              "ticks": ""
             }
            },
            "type": "parcoords"
           }
          ],
          "pie": [
           {
            "automargin": true,
            "type": "pie"
           }
          ],
          "scatter": [
           {
            "fillpattern": {
             "fillmode": "overlay",
             "size": 10,
             "solidity": 0.2
            },
            "type": "scatter"
           }
          ],
          "scatter3d": [
           {
            "line": {
             "colorbar": {
              "outlinewidth": 0,
              "ticks": ""
             }
            },
            "marker": {
             "colorbar": {
              "outlinewidth": 0,
              "ticks": ""
             }
            },
            "type": "scatter3d"
           }
          ],
          "scattercarpet": [
           {
            "marker": {
             "colorbar": {
              "outlinewidth": 0,
              "ticks": ""
             }
            },
            "type": "scattercarpet"
           }
          ],
          "scattergeo": [
           {
            "marker": {
             "colorbar": {
              "outlinewidth": 0,
              "ticks": ""
             }
            },
            "type": "scattergeo"
           }
          ],
          "scattergl": [
           {
            "marker": {
             "colorbar": {
              "outlinewidth": 0,
              "ticks": ""
             }
            },
            "type": "scattergl"
           }
          ],
          "scattermapbox": [
           {
            "marker": {
             "colorbar": {
              "outlinewidth": 0,
              "ticks": ""
             }
            },
            "type": "scattermapbox"
           }
          ],
          "scatterpolar": [
           {
            "marker": {
             "colorbar": {
              "outlinewidth": 0,
              "ticks": ""
             }
            },
            "type": "scatterpolar"
           }
          ],
          "scatterpolargl": [
           {
            "marker": {
             "colorbar": {
              "outlinewidth": 0,
              "ticks": ""
             }
            },
            "type": "scatterpolargl"
           }
          ],
          "scatterternary": [
           {
            "marker": {
             "colorbar": {
              "outlinewidth": 0,
              "ticks": ""
             }
            },
            "type": "scatterternary"
           }
          ],
          "surface": [
           {
            "colorbar": {
             "outlinewidth": 0,
             "ticks": ""
            },
            "colorscale": [
             [
              0,
              "#0d0887"
             ],
             [
              0.1111111111111111,
              "#46039f"
             ],
             [
              0.2222222222222222,
              "#7201a8"
             ],
             [
              0.3333333333333333,
              "#9c179e"
             ],
             [
              0.4444444444444444,
              "#bd3786"
             ],
             [
              0.5555555555555556,
              "#d8576b"
             ],
             [
              0.6666666666666666,
              "#ed7953"
             ],
             [
              0.7777777777777778,
              "#fb9f3a"
             ],
             [
              0.8888888888888888,
              "#fdca26"
             ],
             [
              1,
              "#f0f921"
             ]
            ],
            "type": "surface"
           }
          ],
          "table": [
           {
            "cells": {
             "fill": {
              "color": "#EBF0F8"
             },
             "line": {
              "color": "white"
             }
            },
            "header": {
             "fill": {
              "color": "#C8D4E3"
             },
             "line": {
              "color": "white"
             }
            },
            "type": "table"
           }
          ]
         },
         "layout": {
          "annotationdefaults": {
           "arrowcolor": "#2a3f5f",
           "arrowhead": 0,
           "arrowwidth": 1
          },
          "autotypenumbers": "strict",
          "coloraxis": {
           "colorbar": {
            "outlinewidth": 0,
            "ticks": ""
           }
          },
          "colorscale": {
           "diverging": [
            [
             0,
             "#8e0152"
            ],
            [
             0.1,
             "#c51b7d"
            ],
            [
             0.2,
             "#de77ae"
            ],
            [
             0.3,
             "#f1b6da"
            ],
            [
             0.4,
             "#fde0ef"
            ],
            [
             0.5,
             "#f7f7f7"
            ],
            [
             0.6,
             "#e6f5d0"
            ],
            [
             0.7,
             "#b8e186"
            ],
            [
             0.8,
             "#7fbc41"
            ],
            [
             0.9,
             "#4d9221"
            ],
            [
             1,
             "#276419"
            ]
           ],
           "sequential": [
            [
             0,
             "#0d0887"
            ],
            [
             0.1111111111111111,
             "#46039f"
            ],
            [
             0.2222222222222222,
             "#7201a8"
            ],
            [
             0.3333333333333333,
             "#9c179e"
            ],
            [
             0.4444444444444444,
             "#bd3786"
            ],
            [
             0.5555555555555556,
             "#d8576b"
            ],
            [
             0.6666666666666666,
             "#ed7953"
            ],
            [
             0.7777777777777778,
             "#fb9f3a"
            ],
            [
             0.8888888888888888,
             "#fdca26"
            ],
            [
             1,
             "#f0f921"
            ]
           ],
           "sequentialminus": [
            [
             0,
             "#0d0887"
            ],
            [
             0.1111111111111111,
             "#46039f"
            ],
            [
             0.2222222222222222,
             "#7201a8"
            ],
            [
             0.3333333333333333,
             "#9c179e"
            ],
            [
             0.4444444444444444,
             "#bd3786"
            ],
            [
             0.5555555555555556,
             "#d8576b"
            ],
            [
             0.6666666666666666,
             "#ed7953"
            ],
            [
             0.7777777777777778,
             "#fb9f3a"
            ],
            [
             0.8888888888888888,
             "#fdca26"
            ],
            [
             1,
             "#f0f921"
            ]
           ]
          },
          "colorway": [
           "#636efa",
           "#EF553B",
           "#00cc96",
           "#ab63fa",
           "#FFA15A",
           "#19d3f3",
           "#FF6692",
           "#B6E880",
           "#FF97FF",
           "#FECB52"
          ],
          "font": {
           "color": "#2a3f5f"
          },
          "geo": {
           "bgcolor": "white",
           "lakecolor": "white",
           "landcolor": "#E5ECF6",
           "showlakes": true,
           "showland": true,
           "subunitcolor": "white"
          },
          "hoverlabel": {
           "align": "left"
          },
          "hovermode": "closest",
          "mapbox": {
           "style": "light"
          },
          "paper_bgcolor": "white",
          "plot_bgcolor": "#E5ECF6",
          "polar": {
           "angularaxis": {
            "gridcolor": "white",
            "linecolor": "white",
            "ticks": ""
           },
           "bgcolor": "#E5ECF6",
           "radialaxis": {
            "gridcolor": "white",
            "linecolor": "white",
            "ticks": ""
           }
          },
          "scene": {
           "xaxis": {
            "backgroundcolor": "#E5ECF6",
            "gridcolor": "white",
            "gridwidth": 2,
            "linecolor": "white",
            "showbackground": true,
            "ticks": "",
            "zerolinecolor": "white"
           },
           "yaxis": {
            "backgroundcolor": "#E5ECF6",
            "gridcolor": "white",
            "gridwidth": 2,
            "linecolor": "white",
            "showbackground": true,
            "ticks": "",
            "zerolinecolor": "white"
           },
           "zaxis": {
            "backgroundcolor": "#E5ECF6",
            "gridcolor": "white",
            "gridwidth": 2,
            "linecolor": "white",
            "showbackground": true,
            "ticks": "",
            "zerolinecolor": "white"
           }
          },
          "shapedefaults": {
           "line": {
            "color": "#2a3f5f"
           }
          },
          "ternary": {
           "aaxis": {
            "gridcolor": "white",
            "linecolor": "white",
            "ticks": ""
           },
           "baxis": {
            "gridcolor": "white",
            "linecolor": "white",
            "ticks": ""
           },
           "bgcolor": "#E5ECF6",
           "caxis": {
            "gridcolor": "white",
            "linecolor": "white",
            "ticks": ""
           }
          },
          "title": {
           "x": 0.05
          },
          "xaxis": {
           "automargin": true,
           "gridcolor": "white",
           "linecolor": "white",
           "ticks": "",
           "title": {
            "standoff": 15
           },
           "zerolinecolor": "white",
           "zerolinewidth": 2
          },
          "yaxis": {
           "automargin": true,
           "gridcolor": "white",
           "linecolor": "white",
           "ticks": "",
           "title": {
            "standoff": 15
           },
           "zerolinecolor": "white",
           "zerolinewidth": 2
          }
         }
        },
        "title": {
         "text": "Range of Motion kneeLeft"
        },
        "width": 750,
        "xaxis": {
         "title": {
          "font": {
           "color": "#7f7f7f",
           "family": "Courier New, monospace",
           "size": 18
          },
          "text": "time [s]"
         }
        },
        "yaxis": {
         "title": {
          "font": {
           "color": "#7f7f7f",
           "family": "Courier New, monospace",
           "size": 18
          },
          "text": "ROM [degrees]"
         }
        }
       }
      },
      "text/html": [
       "<div>                            <div id=\"3971c830-10df-4c8e-acc7-e553b1b1987c\" class=\"plotly-graph-div\" style=\"height:600px; width:750px;\"></div>            <script type=\"text/javascript\">                require([\"plotly\"], function(Plotly) {                    window.PLOTLYENV=window.PLOTLYENV || {};                                    if (document.getElementById(\"3971c830-10df-4c8e-acc7-e553b1b1987c\")) {                    Plotly.newPlot(                        \"3971c830-10df-4c8e-acc7-e553b1b1987c\",                        [{\"line\":{\"color\":\"blue\",\"width\":3},\"mode\":\"lines\",\"name\":\"Real trend\",\"x\":[24.233115196228027,24.332800149917603,24.43332529067993,24.533143520355225,24.63327145576477,24.741224765777588,24.83667492866516,24.933400630950928,25.03368902206421,25.136213779449463,25.236974239349365,25.33634853363037,25.436240673065186,25.534266233444214,25.660048961639404,25.73537588119507,25.837066650390625,25.93694543838501,26.037134408950806,26.135271310806274,26.238525390625,26.33588480949402,26.436264991760254,26.5361270904541,26.636869430541992,26.736798763275146,26.83656358718872,26.936131238937378,27.037917852401733,27.136846780776978,27.236833333969116,27.337327480316162,27.439617395401,27.538838148117065,27.638164520263672,27.749006986618042,27.83854031562805,27.9455463886261,28.040802001953125,28.139883041381836,28.239752769470215,28.339375257492065,28.439257621765137,28.540772676467896,28.64122200012207,28.740676641464233,28.842568397521973,28.945440530776978,29.04046893119812,29.14072895050049,29.241145849227905,29.340039253234863,29.439839601516724,29.54038095474243,29.63996434211731,29.739933252334595,29.846254587173462,29.94089412689209,30.04071307182312,30.144608736038208,30.240516185760498,30.34049105644226,30.44564700126648,30.55128312110901,30.640730619430542,30.742594957351685,30.84181499481201,30.943175554275513,31.05737829208374,31.142616987228394,31.24183678627014,31.342342376708984,31.44289994239807,31.5424702167511,31.643161296844482,31.74295926094055,31.84236192703247,31.94386625289917,32.04418087005615,32.14330244064331,32.24445056915283,32.343778133392334,32.449652910232544,32.544663190841675,32.64774417877197,32.744690895080566,32.84504675865173,32.944618463516235,33.05396890640259,33.143632888793945,33.24526834487915,33.345051288604736,33.44400191307068,33.55854344367981,33.64385724067688,33.74412751197815,33.84885501861572,33.94433307647705,34.044235944747925,34.14453125,34.24451446533203,34.34574580192566,34.448670625686646,34.54504442214966,34.64591407775879,34.744818449020386,34.84493112564087,34.945334911346436,35.049182176589966,35.146583557128906,35.24837875366211,35.34727358818054,35.45433211326599,35.545390129089355,35.656078577041626,35.746832847595215,35.8473219871521,35.94709372520447,36.0468065738678,36.14607119560242,36.24921727180481,36.34639763832092,36.454500675201416,36.54650640487671,36.65474462509155,36.749191999435425,36.85453176498413,36.95210886001587,37.047197103500366,37.14702796936035,37.24901580810547,37.34686207771301,37.447104692459106,37.54842662811279,37.64687538146973,37.74915027618408,37.84915614128113,37.948790311813354,38.04765033721924,38.14885377883911,38.24823212623596,38.35143542289734,38.45007371902466,38.55542993545532,38.65315294265747,38.75039100646973,38.85027742385864,38.950366497039795,39.05031752586365,39.150487184524536,39.25821256637573,39.35039734840393,39.45201921463013,39.55043816566467,39.650450229644775,39.75240468978882,39.85030198097229,39.9519202709198,40.05151343345642,40.15075707435608,40.253804206848145,40.36140036582947,40.450860261917114,40.55409598350525,40.65131616592407,40.75186371803284,40.85239887237549,40.95355796813965,41.05352592468262,41.16284155845642,41.252413749694824,41.3540472984314,41.455708026885986,41.55463624000549,41.652626037597656,41.75363826751709,41.855064392089844,41.953187227249146,42.05310916900635,42.15421986579895,42.25406765937805,42.35616064071655,42.45375347137451,42.55452561378479,42.65626549720764,42.7549045085907,42.85430359840393,42.954716205596924,43.0550434589386,43.15387988090515,43.26676344871521,43.35433602333069,43.45442318916321,43.55426049232483,43.65690588951111,43.754761695861816,43.85465598106384,43.95766234397888,44.05765414237976,44.15516233444214,44.255306243896484,44.35650944709778,44.4564106464386,44.558196783065796,44.65524959564209,44.75663423538208,44.855653285980225,44.956889152526855,45.056891202926636,45.15617251396179,45.259347915649414,45.35649275779724,45.4566650390625,45.55965876579285,45.6593382358551,45.756914138793945,45.8582808971405,45.95721650123596,46.058391094207764,46.157426595687866,46.258829832077026,46.36005163192749,46.45975947380066,46.55997109413147,46.66822338104248,46.7590754032135,46.859297037124634,46.959229946136475,47.05930709838867,47.160308599472046,47.25964903831482,47.35964608192444,47.45954132080078,47.56847953796387,47.65980339050293,47.76070761680603,47.860949993133545,47.96102738380432,48.0608868598938,48.16973042488098,48.26136255264282,48.3635528087616,48.46225309371948,48.56248378753662,48.66207695007324,48.761430740356445,48.86470699310303,48.96166253089905,49.06158661842346,49.16189455986023,49.26649451255798,49.362058877944946,49.46488690376282,49.56207346916199,49.6636598110199,49.763437032699585,49.86710548400879,49.966618061065674,50.06493520736694,50.16594886779785,50.263988971710205,50.36377811431885,50.46897530555725,50.56509709358215,50.663946866989136,50.76420331001282,50.865792751312256,50.96528196334839,51.06493139266968,51.16599106788635,51.264713525772095,51.36483836174011,51.466283082962036,51.56488108634949,51.66627740859985,51.76533913612366,51.86521315574646,51.965941190719604,52.06543946266174,52.165924072265625,52.267369985580444,52.36658000946045,52.46628165245056,52.5660502910614,52.668837785720825,52.765990257263184,52.865904331207275,52.967106342315674,53.07641339302063,53.16690969467163,53.270140647888184,53.36931872367859,53.46704411506653,53.56643581390381,53.6758246421814,53.76804304122925,53.86708450317383,53.967583656311035,54.06740736961365,54.168564558029175,54.26759457588196,54.36831283569336,54.46784591674805,54.56783151626587,54.667638301849365,54.768479108810425,54.86789917945862,54.96787142753601,55.067992210388184,55.171016454696655,55.269285917282104,55.36903381347656,55.468350648880005,55.570322036743164,55.67030596733093,55.77029013633728,55.87521815299988,55.97042274475098,56.07261395454407,56.17239284515381,56.27244687080383,56.37264847755432,56.48825979232788,56.57243776321411,56.68163299560547,56.77378845214844,56.87340188026428,56.97399425506592,57.073071241378784,57.17336463928223,57.2733998298645,57.37728786468506,57.47473859786987,57.57391428947449,57.6785364151001,57.77704167366028,57.87393260002136,57.975202560424805,58.07394576072693,58.174970388412476,58.27534246444702,58.37405180931091,58.49008274078369,58.57447624206543,58.674320459365845,58.77466368675232,58.87987661361694,58.974895000457764,59.074692249298096,59.17652249336243,59.27519130706787,59.376720666885376,59.48024845123291,59.57504415512085,59.67632222175598,59.775283336639404,59.87633013725281,59.9767279624939,60.07995295524597,60.176642417907715,60.27666091918945,60.3757860660553,60.475781202316284,60.57788562774658,60.676915884017944,60.78098464012146,60.878838777542114,60.9773690700531,61.07639503479004,61.17762112617493,61.27669715881348,61.378113746643066,61.481345415115356,61.57789969444275,61.68140506744385,61.77827453613281,61.87871265411377,61.97990441322327,62.08743119239807,62.17740345001221,62.28377366065979,62.377360105514526,62.48196077346802,62.577552795410156,62.67955780029297,62.77953815460205,62.88564467430115,62.97774291038513,63.07864475250244,63.179381370544434,63.27934241294861,63.38161492347717,63.49756383895874,63.578343868255615,63.68144154548645,63.7796425819397,63.882205963134766,63.982651472091675,64.08018064498901,64.18289732933044,64.28019547462463,64.38835501670837,64.47988796234131,64.58415126800537,64.681893825531,64.79290437698364,64.88766360282898,64.98255801200867,65.08255767822266,65.18253898620605,65.28386378288269,65.38267874717712,65.48333883285522,65.58333897590637,65.68291187286377,65.78422260284424,65.88682770729065,65.98398804664612,66.08520674705505,66.18757677078247,66.2843267917633,66.38681292533875,66.48536348342896,66.59144806861877,66.70076823234558,66.78522777557373,66.8854010105133,66.99277520179749,67.09571313858032,67.18712520599365,67.29626321792603,67.38522362709045,67.48535013198853,67.60217905044556,67.6925277709961,67.79683327674866,67.89559507369995,67.99541354179382,68.09643268585205,68.19452285766602,68.29497075080872,68.3873176574707,68.48790216445923,68.6015555858612,68.68706679344177,68.81795263290405],\"y\":[67.87429530020813,68.27068742556492,68.32942934457496,68.32942934457496,68.17340737784095,68.06206629191276,68.06206629191276,67.49316183795,65.9414906321255,65.9414906321255,64.63989727748043,64.76666345647094,64.76666345647094,65.22939643018611,66.20816414654414,66.20816414654414,66.93220079128331,67.015262326803,67.015262326803,67.12983086083392,67.56167880648712,67.48096335269375,67.48096335269375,67.34327705983095,67.34327705983095,67.07040889530263,67.25269431943664,67.22934977839697,67.22934977839697,67.07455022858547,67.07455022858547,67.11471694817139,67.06165950245011,67.1680415794295,67.1680415794295,67.13243922752604,67.25730243808819,67.25730243808819,67.35311194400643,67.35311194400643,67.19653660439384,67.21396330317877,67.29287526453933,67.29287526453933,67.18813912441959,67.18813912441959,67.23771388604303,67.1801463932395,67.16846599701395,67.16846599701395,67.27391424914595,67.27389204050702,67.27389204050702,67.3104794955339,67.3104794955339,67.2957858564204,67.35721950575963,67.33456935596375,67.33456935596375,67.339016679035,67.24477322861401,67.1874578978028,67.1874578978028,67.0786331771161,67.0786331771161,67.10819148236989,67.14125183947739,67.1169664618212,67.1169664618212,67.12479665393037,67.1434471164066,67.1434471164066,67.07702702983258,67.07704428683853,67.07704428683853,67.07305516734647,67.07439087619241,67.07439087619241,67.06663219824848,67.06663219824848,67.17015834642135,67.28617541700963,67.26575333044427,67.26575333044427,67.23214006223333,67.07486127457044,67.07486127457044,67.11943736910017,67.01615273648014,67.01615273648014,66.88432030049007,66.8455927336712,66.8455927336712,66.96105615920958,67.16929117212496,67.16929117212496,67.55513628666039,67.55513628666039,67.84705248599538,67.33518330304783,67.12590574507341,67.12590574507341,66.75438414959547,66.69342186465013,66.69342186465013,66.45754086277275,66.02826784288547,66.02826784288547,64.67464781968542,64.59852949275427,64.59852949275427,66.55137056103294,68.75997868459392,67.49397056204815,67.49397056204815,67.43235255887545,67.43235255887545,67.0538522866528,66.94095599841108,66.94878127201817,66.94878127201817,66.88162569098232,66.97795237953859,66.97795237953859,66.962488836716,67.27669106904372,67.27669106904372,67.73677715300587,69.13008295259964,69.13008295259964,69.28991849629209,67.93904925816979,67.743167447532,67.743167447532,67.61018130652651,67.61018130652651,67.23424065742269,67.35625030293313,67.35625030293313,67.06600653035834,67.20894824098895,67.45017616354205,67.45017616354205,67.32452712625667,67.32452712625667,67.8510624517596,67.72949575707331,67.68860854984491,67.68860854984491,67.44806631572047,67.44806631572047,67.38361208430709,67.41712790846047,67.41712790846047,69.28318705930677,69.13502517807298,69.27738295802332,69.27738295802332,69.43835418924549,69.4440715032495,69.4440715032495,69.6679821228706,69.79664760506881,69.79664760506881,69.75660290552518,69.96419997678468,69.96419997678468,70.8591725180133,71.5105917130535,71.5105917130535,67.04857827041964,67.06981687817904,67.06981687817904,66.7914603686779,66.77692486019838,66.77692486019838,67.00910745214105,67.91190782098478,67.91190782098478,70.16222034078929,73.56973556949937,73.56973556949937,68.59813083544886,67.77422056935517,67.77422056935517,67.49262219744091,67.4777636981865,67.4777636981865,67.40018447493354,67.23595942529305,67.22484181352007,67.22484181352007,67.13544960274761,67.0815884120078,67.0815884120078,67.13718260689978,67.13718260689978,67.25592509707346,67.20033761057445,67.20033761057445,67.22332397653315,67.14330964422587,67.14330964422587,67.06007113893,67.10802619523345,67.17960278812387,67.17960278812387,67.1982050272303,67.1982050272303,67.17876019874224,67.10055127979821,67.16190693830707,67.16190693830707,67.36864429592337,67.25850152607117,67.25850152607117,67.25561197984405,67.55056731854218,67.55056731854218,68.34377664376485,68.45390530349852,68.45390530349852,68.93369838085587,68.93369838085587,68.9061205903563,68.9061205903563,68.865935774362,68.48819087830505,68.48819087830505,68.17627859184759,67.91792004999265,67.91792004999265,68.03656077902257,67.80010738219052,67.80010738219052,68.06689514909507,68.05206526559334,68.05206526559334,68.04943693643955,67.71840747194418,67.71840747194418,67.49465855460116,67.44977789860098,67.44977789860098,67.3410711026755,67.29577499996233,67.29577499996233,67.28295390193591,67.31097085304083,67.31097085304083,67.51953828132216,67.72294511091117,67.72294511091117,68.37772927865153,68.31323463414847,67.83254134775524,67.83254134775524,68.07858918957471,68.3182560282866,68.3182560282866,68.94048001466386,68.94048001466386,68.84242645952693,68.99847995281867,68.25871586467778,68.25871586467778,68.2882640265661,68.21835639854207,68.21835639854207,68.2178278584221,68.25914300940403,68.25914300940403,68.22760952862504,68.71221746725489,68.71221746725489,68.36104984716137,68.36104984716137,68.62078955866463,68.32251195211853,67.65552451565776,67.65552451565776,67.6254335615832,67.51121854705792,67.51121854705792,67.51059863762254,67.66866011230199,67.66866011230199,67.70417501623855,67.92447613408142,68.0801317896634,68.0801317896634,68.13289568124674,68.13969431960525,68.13969431960525,68.27161097745567,68.27931745214578,68.27931745214578,67.92022632910401,67.91799089333382,67.91799089333382,67.80487107136803,67.84194026534502,67.84194026534502,68.41807885604527,68.31951216097299,68.31951216097299,68.55635723999501,68.56268556377472,68.56268556377472,68.69089690106921,68.48332622094843,68.48332622094843,68.20463062196221,68.20463062196221,68.3039173465608,68.04666867115372,68.24594158958689,67.97026114441654,67.97026114441654,67.85485578550427,67.83417584225705,67.83417584225705,67.57624749804747,67.57624749804747,67.67418637475166,68.18820907836081,68.92534821726535,68.92534821726535,69.07504330408275,69.07504330408275,68.79182182054292,68.88396934615886,68.88396934615886,68.93016242208897,68.64428171748948,68.64428171748948,69.15767671192461,70.46347593540685,67.9022208202631,67.9022208202631,67.9306446474897,67.9306446474897,68.02128060725626,68.10478859457349,68.19519540015446,68.19519540015446,68.1231196789097,68.13099230043076,68.13099230043076,68.05059002285277,67.65638415124805,67.65638415124805,67.63833189342343,67.6970064130814,67.6970064130814,67.93251227875805,68.13500310112887,68.13500310112887,68.34729698796983,68.7247930003625,68.7247930003625,68.47189023031585,68.59784163581791,68.59784163581791,69.1606801922846,68.6814703176018,68.6814703176018,69.92078929554116,70.32094053958906,70.55422700618364,70.55422700618364,69.73334457644613,68.27997086956266,68.27997086956266,68.01006592014336,68.10239662215716,68.10239662215716,67.29181732346986,66.92524751893428,66.92524751893428,67.02163804562085,67.02163804562085,66.8291642400709,66.85629775247887,66.85629775247887,67.02260067340868,66.90316116791095,66.94904852417214,66.94904852417214,66.93906857976378,66.57024710565189,66.57024710565189,67.0018346489637,67.01971719975703,67.01971719975703,66.98950457097217,66.98950457097217,66.76019403173296,66.84246330524275,66.84681742052953,66.84681742052953,67.0824445236456,67.38495171191211,67.38495171191211,67.32838507330243,67.05473521468592,67.05473521468592,66.95684057834474,67.0500287385651,67.33599385206075,67.33599385206075,67.44534693172595,67.7745292794423,67.7745292794423,67.78765825916591,67.73913245587777,67.73913245587777,68.16636415138998,68.16636415138998,68.0813963287636,68.0813963287636,68.0813963287636,68.0813963287636,68.0813963287636,68.0813963287636,68.0813963287636,68.0813963287636,68.0813963287636,68.0813963287636,68.0813963287636,68.0813963287636,68.0813963287636,68.0813963287636,68.0813963287636,68.0813963287636,68.0813963287636,68.0813963287636,68.0813963287636,68.0813963287636,68.0813963287636,68.0813963287636,68.0813963287636,68.0813963287636,68.0813963287636,68.0813963287636],\"type\":\"scatter\"}],                        {\"autosize\":false,\"font\":{\"color\":\"black\",\"family\":\"Courier New, monospace\",\"size\":22},\"height\":600,\"template\":{\"data\":{\"barpolar\":[{\"marker\":{\"line\":{\"color\":\"#E5ECF6\",\"width\":0.5},\"pattern\":{\"fillmode\":\"overlay\",\"size\":10,\"solidity\":0.2}},\"type\":\"barpolar\"}],\"bar\":[{\"error_x\":{\"color\":\"#2a3f5f\"},\"error_y\":{\"color\":\"#2a3f5f\"},\"marker\":{\"line\":{\"color\":\"#E5ECF6\",\"width\":0.5},\"pattern\":{\"fillmode\":\"overlay\",\"size\":10,\"solidity\":0.2}},\"type\":\"bar\"}],\"carpet\":[{\"aaxis\":{\"endlinecolor\":\"#2a3f5f\",\"gridcolor\":\"white\",\"linecolor\":\"white\",\"minorgridcolor\":\"white\",\"startlinecolor\":\"#2a3f5f\"},\"baxis\":{\"endlinecolor\":\"#2a3f5f\",\"gridcolor\":\"white\",\"linecolor\":\"white\",\"minorgridcolor\":\"white\",\"startlinecolor\":\"#2a3f5f\"},\"type\":\"carpet\"}],\"choropleth\":[{\"colorbar\":{\"outlinewidth\":0,\"ticks\":\"\"},\"type\":\"choropleth\"}],\"contourcarpet\":[{\"colorbar\":{\"outlinewidth\":0,\"ticks\":\"\"},\"type\":\"contourcarpet\"}],\"contour\":[{\"colorbar\":{\"outlinewidth\":0,\"ticks\":\"\"},\"colorscale\":[[0.0,\"#0d0887\"],[0.1111111111111111,\"#46039f\"],[0.2222222222222222,\"#7201a8\"],[0.3333333333333333,\"#9c179e\"],[0.4444444444444444,\"#bd3786\"],[0.5555555555555556,\"#d8576b\"],[0.6666666666666666,\"#ed7953\"],[0.7777777777777778,\"#fb9f3a\"],[0.8888888888888888,\"#fdca26\"],[1.0,\"#f0f921\"]],\"type\":\"contour\"}],\"heatmapgl\":[{\"colorbar\":{\"outlinewidth\":0,\"ticks\":\"\"},\"colorscale\":[[0.0,\"#0d0887\"],[0.1111111111111111,\"#46039f\"],[0.2222222222222222,\"#7201a8\"],[0.3333333333333333,\"#9c179e\"],[0.4444444444444444,\"#bd3786\"],[0.5555555555555556,\"#d8576b\"],[0.6666666666666666,\"#ed7953\"],[0.7777777777777778,\"#fb9f3a\"],[0.8888888888888888,\"#fdca26\"],[1.0,\"#f0f921\"]],\"type\":\"heatmapgl\"}],\"heatmap\":[{\"colorbar\":{\"outlinewidth\":0,\"ticks\":\"\"},\"colorscale\":[[0.0,\"#0d0887\"],[0.1111111111111111,\"#46039f\"],[0.2222222222222222,\"#7201a8\"],[0.3333333333333333,\"#9c179e\"],[0.4444444444444444,\"#bd3786\"],[0.5555555555555556,\"#d8576b\"],[0.6666666666666666,\"#ed7953\"],[0.7777777777777778,\"#fb9f3a\"],[0.8888888888888888,\"#fdca26\"],[1.0,\"#f0f921\"]],\"type\":\"heatmap\"}],\"histogram2dcontour\":[{\"colorbar\":{\"outlinewidth\":0,\"ticks\":\"\"},\"colorscale\":[[0.0,\"#0d0887\"],[0.1111111111111111,\"#46039f\"],[0.2222222222222222,\"#7201a8\"],[0.3333333333333333,\"#9c179e\"],[0.4444444444444444,\"#bd3786\"],[0.5555555555555556,\"#d8576b\"],[0.6666666666666666,\"#ed7953\"],[0.7777777777777778,\"#fb9f3a\"],[0.8888888888888888,\"#fdca26\"],[1.0,\"#f0f921\"]],\"type\":\"histogram2dcontour\"}],\"histogram2d\":[{\"colorbar\":{\"outlinewidth\":0,\"ticks\":\"\"},\"colorscale\":[[0.0,\"#0d0887\"],[0.1111111111111111,\"#46039f\"],[0.2222222222222222,\"#7201a8\"],[0.3333333333333333,\"#9c179e\"],[0.4444444444444444,\"#bd3786\"],[0.5555555555555556,\"#d8576b\"],[0.6666666666666666,\"#ed7953\"],[0.7777777777777778,\"#fb9f3a\"],[0.8888888888888888,\"#fdca26\"],[1.0,\"#f0f921\"]],\"type\":\"histogram2d\"}],\"histogram\":[{\"marker\":{\"pattern\":{\"fillmode\":\"overlay\",\"size\":10,\"solidity\":0.2}},\"type\":\"histogram\"}],\"mesh3d\":[{\"colorbar\":{\"outlinewidth\":0,\"ticks\":\"\"},\"type\":\"mesh3d\"}],\"parcoords\":[{\"line\":{\"colorbar\":{\"outlinewidth\":0,\"ticks\":\"\"}},\"type\":\"parcoords\"}],\"pie\":[{\"automargin\":true,\"type\":\"pie\"}],\"scatter3d\":[{\"line\":{\"colorbar\":{\"outlinewidth\":0,\"ticks\":\"\"}},\"marker\":{\"colorbar\":{\"outlinewidth\":0,\"ticks\":\"\"}},\"type\":\"scatter3d\"}],\"scattercarpet\":[{\"marker\":{\"colorbar\":{\"outlinewidth\":0,\"ticks\":\"\"}},\"type\":\"scattercarpet\"}],\"scattergeo\":[{\"marker\":{\"colorbar\":{\"outlinewidth\":0,\"ticks\":\"\"}},\"type\":\"scattergeo\"}],\"scattergl\":[{\"marker\":{\"colorbar\":{\"outlinewidth\":0,\"ticks\":\"\"}},\"type\":\"scattergl\"}],\"scattermapbox\":[{\"marker\":{\"colorbar\":{\"outlinewidth\":0,\"ticks\":\"\"}},\"type\":\"scattermapbox\"}],\"scatterpolargl\":[{\"marker\":{\"colorbar\":{\"outlinewidth\":0,\"ticks\":\"\"}},\"type\":\"scatterpolargl\"}],\"scatterpolar\":[{\"marker\":{\"colorbar\":{\"outlinewidth\":0,\"ticks\":\"\"}},\"type\":\"scatterpolar\"}],\"scatter\":[{\"fillpattern\":{\"fillmode\":\"overlay\",\"size\":10,\"solidity\":0.2},\"type\":\"scatter\"}],\"scatterternary\":[{\"marker\":{\"colorbar\":{\"outlinewidth\":0,\"ticks\":\"\"}},\"type\":\"scatterternary\"}],\"surface\":[{\"colorbar\":{\"outlinewidth\":0,\"ticks\":\"\"},\"colorscale\":[[0.0,\"#0d0887\"],[0.1111111111111111,\"#46039f\"],[0.2222222222222222,\"#7201a8\"],[0.3333333333333333,\"#9c179e\"],[0.4444444444444444,\"#bd3786\"],[0.5555555555555556,\"#d8576b\"],[0.6666666666666666,\"#ed7953\"],[0.7777777777777778,\"#fb9f3a\"],[0.8888888888888888,\"#fdca26\"],[1.0,\"#f0f921\"]],\"type\":\"surface\"}],\"table\":[{\"cells\":{\"fill\":{\"color\":\"#EBF0F8\"},\"line\":{\"color\":\"white\"}},\"header\":{\"fill\":{\"color\":\"#C8D4E3\"},\"line\":{\"color\":\"white\"}},\"type\":\"table\"}]},\"layout\":{\"annotationdefaults\":{\"arrowcolor\":\"#2a3f5f\",\"arrowhead\":0,\"arrowwidth\":1},\"autotypenumbers\":\"strict\",\"coloraxis\":{\"colorbar\":{\"outlinewidth\":0,\"ticks\":\"\"}},\"colorscale\":{\"diverging\":[[0,\"#8e0152\"],[0.1,\"#c51b7d\"],[0.2,\"#de77ae\"],[0.3,\"#f1b6da\"],[0.4,\"#fde0ef\"],[0.5,\"#f7f7f7\"],[0.6,\"#e6f5d0\"],[0.7,\"#b8e186\"],[0.8,\"#7fbc41\"],[0.9,\"#4d9221\"],[1,\"#276419\"]],\"sequential\":[[0.0,\"#0d0887\"],[0.1111111111111111,\"#46039f\"],[0.2222222222222222,\"#7201a8\"],[0.3333333333333333,\"#9c179e\"],[0.4444444444444444,\"#bd3786\"],[0.5555555555555556,\"#d8576b\"],[0.6666666666666666,\"#ed7953\"],[0.7777777777777778,\"#fb9f3a\"],[0.8888888888888888,\"#fdca26\"],[1.0,\"#f0f921\"]],\"sequentialminus\":[[0.0,\"#0d0887\"],[0.1111111111111111,\"#46039f\"],[0.2222222222222222,\"#7201a8\"],[0.3333333333333333,\"#9c179e\"],[0.4444444444444444,\"#bd3786\"],[0.5555555555555556,\"#d8576b\"],[0.6666666666666666,\"#ed7953\"],[0.7777777777777778,\"#fb9f3a\"],[0.8888888888888888,\"#fdca26\"],[1.0,\"#f0f921\"]]},\"colorway\":[\"#636efa\",\"#EF553B\",\"#00cc96\",\"#ab63fa\",\"#FFA15A\",\"#19d3f3\",\"#FF6692\",\"#B6E880\",\"#FF97FF\",\"#FECB52\"],\"font\":{\"color\":\"#2a3f5f\"},\"geo\":{\"bgcolor\":\"white\",\"lakecolor\":\"white\",\"landcolor\":\"#E5ECF6\",\"showlakes\":true,\"showland\":true,\"subunitcolor\":\"white\"},\"hoverlabel\":{\"align\":\"left\"},\"hovermode\":\"closest\",\"mapbox\":{\"style\":\"light\"},\"paper_bgcolor\":\"white\",\"plot_bgcolor\":\"#E5ECF6\",\"polar\":{\"angularaxis\":{\"gridcolor\":\"white\",\"linecolor\":\"white\",\"ticks\":\"\"},\"bgcolor\":\"#E5ECF6\",\"radialaxis\":{\"gridcolor\":\"white\",\"linecolor\":\"white\",\"ticks\":\"\"}},\"scene\":{\"xaxis\":{\"backgroundcolor\":\"#E5ECF6\",\"gridcolor\":\"white\",\"gridwidth\":2,\"linecolor\":\"white\",\"showbackground\":true,\"ticks\":\"\",\"zerolinecolor\":\"white\"},\"yaxis\":{\"backgroundcolor\":\"#E5ECF6\",\"gridcolor\":\"white\",\"gridwidth\":2,\"linecolor\":\"white\",\"showbackground\":true,\"ticks\":\"\",\"zerolinecolor\":\"white\"},\"zaxis\":{\"backgroundcolor\":\"#E5ECF6\",\"gridcolor\":\"white\",\"gridwidth\":2,\"linecolor\":\"white\",\"showbackground\":true,\"ticks\":\"\",\"zerolinecolor\":\"white\"}},\"shapedefaults\":{\"line\":{\"color\":\"#2a3f5f\"}},\"ternary\":{\"aaxis\":{\"gridcolor\":\"white\",\"linecolor\":\"white\",\"ticks\":\"\"},\"baxis\":{\"gridcolor\":\"white\",\"linecolor\":\"white\",\"ticks\":\"\"},\"bgcolor\":\"#E5ECF6\",\"caxis\":{\"gridcolor\":\"white\",\"linecolor\":\"white\",\"ticks\":\"\"}},\"title\":{\"x\":0.05},\"xaxis\":{\"automargin\":true,\"gridcolor\":\"white\",\"linecolor\":\"white\",\"ticks\":\"\",\"title\":{\"standoff\":15},\"zerolinecolor\":\"white\",\"zerolinewidth\":2},\"yaxis\":{\"automargin\":true,\"gridcolor\":\"white\",\"linecolor\":\"white\",\"ticks\":\"\",\"title\":{\"standoff\":15},\"zerolinecolor\":\"white\",\"zerolinewidth\":2}}},\"title\":{\"text\":\"Range of Motion kneeLeft\"},\"width\":750,\"xaxis\":{\"title\":{\"font\":{\"color\":\"#7f7f7f\",\"family\":\"Courier New, monospace\",\"size\":18},\"text\":\"time [s]\"}},\"yaxis\":{\"title\":{\"font\":{\"color\":\"#7f7f7f\",\"family\":\"Courier New, monospace\",\"size\":18},\"text\":\"ROM [degrees]\"}}},                        {\"responsive\": true}                    ).then(function(){\n",
       "                            \n",
       "var gd = document.getElementById('3971c830-10df-4c8e-acc7-e553b1b1987c');\n",
       "var x = new MutationObserver(function (mutations, observer) {{\n",
       "        var display = window.getComputedStyle(gd).display;\n",
       "        if (!display || display === 'none') {{\n",
       "            console.log([gd, 'removed!']);\n",
       "            Plotly.purge(gd);\n",
       "            observer.disconnect();\n",
       "        }}\n",
       "}});\n",
       "\n",
       "// Listen for the removal of the full notebook cells\n",
       "var notebookContainer = gd.closest('#notebook-container');\n",
       "if (notebookContainer) {{\n",
       "    x.observe(notebookContainer, {childList: true});\n",
       "}}\n",
       "\n",
       "// Listen for the clearing of the current output cell\n",
       "var outputEl = gd.closest('.output');\n",
       "if (outputEl) {{\n",
       "    x.observe(outputEl, {childList: true});\n",
       "}}\n",
       "\n",
       "                        })                };                });            </script>        </div>"
      ]
     },
     "metadata": {},
     "output_type": "display_data"
    },
    {
     "data": {
      "application/vnd.plotly.v1+json": {
       "config": {
        "linkText": "Export to plot.ly",
        "plotlyServerURL": "https://plot.ly",
        "showLink": false
       },
       "data": [
        {
         "line": {
          "color": "blue",
          "width": 3
         },
         "mode": "lines",
         "name": "Real trend",
         "type": "scatter",
         "x": [
          24.233115196228027,
          24.332800149917603,
          24.43332529067993,
          24.533143520355225,
          24.63327145576477,
          24.741224765777588,
          24.83667492866516,
          24.933400630950928,
          25.03368902206421,
          25.136213779449463,
          25.236974239349365,
          25.33634853363037,
          25.436240673065186,
          25.534266233444214,
          25.660048961639404,
          25.73537588119507,
          25.837066650390625,
          25.93694543838501,
          26.037134408950806,
          26.135271310806274,
          26.238525390625,
          26.33588480949402,
          26.436264991760254,
          26.5361270904541,
          26.636869430541992,
          26.736798763275146,
          26.83656358718872,
          26.936131238937378,
          27.037917852401733,
          27.136846780776978,
          27.236833333969116,
          27.337327480316162,
          27.439617395401,
          27.538838148117065,
          27.638164520263672,
          27.749006986618042,
          27.83854031562805,
          27.9455463886261,
          28.040802001953125,
          28.139883041381836,
          28.239752769470215,
          28.339375257492065,
          28.439257621765137,
          28.540772676467896,
          28.64122200012207,
          28.740676641464233,
          28.842568397521973,
          28.945440530776978,
          29.04046893119812,
          29.14072895050049,
          29.241145849227905,
          29.340039253234863,
          29.439839601516724,
          29.54038095474243,
          29.63996434211731,
          29.739933252334595,
          29.846254587173462,
          29.94089412689209,
          30.04071307182312,
          30.144608736038208,
          30.240516185760498,
          30.34049105644226,
          30.44564700126648,
          30.55128312110901,
          30.640730619430542,
          30.742594957351685,
          30.84181499481201,
          30.943175554275513,
          31.05737829208374,
          31.142616987228394,
          31.24183678627014,
          31.342342376708984,
          31.44289994239807,
          31.5424702167511,
          31.643161296844482,
          31.74295926094055,
          31.84236192703247,
          31.94386625289917,
          32.04418087005615,
          32.14330244064331,
          32.24445056915283,
          32.343778133392334,
          32.449652910232544,
          32.544663190841675,
          32.64774417877197,
          32.744690895080566,
          32.84504675865173,
          32.944618463516235,
          33.05396890640259,
          33.143632888793945,
          33.24526834487915,
          33.345051288604736,
          33.44400191307068,
          33.55854344367981,
          33.64385724067688,
          33.74412751197815,
          33.84885501861572,
          33.94433307647705,
          34.044235944747925,
          34.14453125,
          34.24451446533203,
          34.34574580192566,
          34.448670625686646,
          34.54504442214966,
          34.64591407775879,
          34.744818449020386,
          34.84493112564087,
          34.945334911346436,
          35.049182176589966,
          35.146583557128906,
          35.24837875366211,
          35.34727358818054,
          35.45433211326599,
          35.545390129089355,
          35.656078577041626,
          35.746832847595215,
          35.8473219871521,
          35.94709372520447,
          36.0468065738678,
          36.14607119560242,
          36.24921727180481,
          36.34639763832092,
          36.454500675201416,
          36.54650640487671,
          36.65474462509155,
          36.749191999435425,
          36.85453176498413,
          36.95210886001587,
          37.047197103500366,
          37.14702796936035,
          37.24901580810547,
          37.34686207771301,
          37.447104692459106,
          37.54842662811279,
          37.64687538146973,
          37.74915027618408,
          37.84915614128113,
          37.948790311813354,
          38.04765033721924,
          38.14885377883911,
          38.24823212623596,
          38.35143542289734,
          38.45007371902466,
          38.55542993545532,
          38.65315294265747,
          38.75039100646973,
          38.85027742385864,
          38.950366497039795,
          39.05031752586365,
          39.150487184524536,
          39.25821256637573,
          39.35039734840393,
          39.45201921463013,
          39.55043816566467,
          39.650450229644775,
          39.75240468978882,
          39.85030198097229,
          39.9519202709198,
          40.05151343345642,
          40.15075707435608,
          40.253804206848145,
          40.36140036582947,
          40.450860261917114,
          40.55409598350525,
          40.65131616592407,
          40.75186371803284,
          40.85239887237549,
          40.95355796813965,
          41.05352592468262,
          41.16284155845642,
          41.252413749694824,
          41.3540472984314,
          41.455708026885986,
          41.55463624000549,
          41.652626037597656,
          41.75363826751709,
          41.855064392089844,
          41.953187227249146,
          42.05310916900635,
          42.15421986579895,
          42.25406765937805,
          42.35616064071655,
          42.45375347137451,
          42.55452561378479,
          42.65626549720764,
          42.7549045085907,
          42.85430359840393,
          42.954716205596924,
          43.0550434589386,
          43.15387988090515,
          43.26676344871521,
          43.35433602333069,
          43.45442318916321,
          43.55426049232483,
          43.65690588951111,
          43.754761695861816,
          43.85465598106384,
          43.95766234397888,
          44.05765414237976,
          44.15516233444214,
          44.255306243896484,
          44.35650944709778,
          44.4564106464386,
          44.558196783065796,
          44.65524959564209,
          44.75663423538208,
          44.855653285980225,
          44.956889152526855,
          45.056891202926636,
          45.15617251396179,
          45.259347915649414,
          45.35649275779724,
          45.4566650390625,
          45.55965876579285,
          45.6593382358551,
          45.756914138793945,
          45.8582808971405,
          45.95721650123596,
          46.058391094207764,
          46.157426595687866,
          46.258829832077026,
          46.36005163192749,
          46.45975947380066,
          46.55997109413147,
          46.66822338104248,
          46.7590754032135,
          46.859297037124634,
          46.959229946136475,
          47.05930709838867,
          47.160308599472046,
          47.25964903831482,
          47.35964608192444,
          47.45954132080078,
          47.56847953796387,
          47.65980339050293,
          47.76070761680603,
          47.860949993133545,
          47.96102738380432,
          48.0608868598938,
          48.16973042488098,
          48.26136255264282,
          48.3635528087616,
          48.46225309371948,
          48.56248378753662,
          48.66207695007324,
          48.761430740356445,
          48.86470699310303,
          48.96166253089905,
          49.06158661842346,
          49.16189455986023,
          49.26649451255798,
          49.362058877944946,
          49.46488690376282,
          49.56207346916199,
          49.6636598110199,
          49.763437032699585,
          49.86710548400879,
          49.966618061065674,
          50.06493520736694,
          50.16594886779785,
          50.263988971710205,
          50.36377811431885,
          50.46897530555725,
          50.56509709358215,
          50.663946866989136,
          50.76420331001282,
          50.865792751312256,
          50.96528196334839,
          51.06493139266968,
          51.16599106788635,
          51.264713525772095,
          51.36483836174011,
          51.466283082962036,
          51.56488108634949,
          51.66627740859985,
          51.76533913612366,
          51.86521315574646,
          51.965941190719604,
          52.06543946266174,
          52.165924072265625,
          52.267369985580444,
          52.36658000946045,
          52.46628165245056,
          52.5660502910614,
          52.668837785720825,
          52.765990257263184,
          52.865904331207275,
          52.967106342315674,
          53.07641339302063,
          53.16690969467163,
          53.270140647888184,
          53.36931872367859,
          53.46704411506653,
          53.56643581390381,
          53.6758246421814,
          53.76804304122925,
          53.86708450317383,
          53.967583656311035,
          54.06740736961365,
          54.168564558029175,
          54.26759457588196,
          54.36831283569336,
          54.46784591674805,
          54.56783151626587,
          54.667638301849365,
          54.768479108810425,
          54.86789917945862,
          54.96787142753601,
          55.067992210388184,
          55.171016454696655,
          55.269285917282104,
          55.36903381347656,
          55.468350648880005,
          55.570322036743164,
          55.67030596733093,
          55.77029013633728,
          55.87521815299988,
          55.97042274475098,
          56.07261395454407,
          56.17239284515381,
          56.27244687080383,
          56.37264847755432,
          56.48825979232788,
          56.57243776321411,
          56.68163299560547,
          56.77378845214844,
          56.87340188026428,
          56.97399425506592,
          57.073071241378784,
          57.17336463928223,
          57.2733998298645,
          57.37728786468506,
          57.47473859786987,
          57.57391428947449,
          57.6785364151001,
          57.77704167366028,
          57.87393260002136,
          57.975202560424805,
          58.07394576072693,
          58.174970388412476,
          58.27534246444702,
          58.37405180931091,
          58.49008274078369,
          58.57447624206543,
          58.674320459365845,
          58.77466368675232,
          58.87987661361694,
          58.974895000457764,
          59.074692249298096,
          59.17652249336243,
          59.27519130706787,
          59.376720666885376,
          59.48024845123291,
          59.57504415512085,
          59.67632222175598,
          59.775283336639404,
          59.87633013725281,
          59.9767279624939,
          60.07995295524597,
          60.176642417907715,
          60.27666091918945,
          60.3757860660553,
          60.475781202316284,
          60.57788562774658,
          60.676915884017944,
          60.78098464012146,
          60.878838777542114,
          60.9773690700531,
          61.07639503479004,
          61.17762112617493,
          61.27669715881348,
          61.378113746643066,
          61.481345415115356,
          61.57789969444275,
          61.68140506744385,
          61.77827453613281,
          61.87871265411377,
          61.97990441322327,
          62.08743119239807,
          62.17740345001221,
          62.28377366065979,
          62.377360105514526,
          62.48196077346802,
          62.577552795410156,
          62.67955780029297,
          62.77953815460205,
          62.88564467430115,
          62.97774291038513,
          63.07864475250244,
          63.179381370544434,
          63.27934241294861,
          63.38161492347717,
          63.49756383895874,
          63.578343868255615,
          63.68144154548645,
          63.7796425819397,
          63.882205963134766,
          63.982651472091675,
          64.08018064498901,
          64.18289732933044,
          64.28019547462463,
          64.38835501670837,
          64.47988796234131,
          64.58415126800537,
          64.681893825531,
          64.79290437698364,
          64.88766360282898,
          64.98255801200867,
          65.08255767822266,
          65.18253898620605,
          65.28386378288269,
          65.38267874717712,
          65.48333883285522,
          65.58333897590637,
          65.68291187286377,
          65.78422260284424,
          65.88682770729065,
          65.98398804664612,
          66.08520674705505,
          66.18757677078247,
          66.2843267917633,
          66.38681292533875,
          66.48536348342896,
          66.59144806861877,
          66.70076823234558,
          66.78522777557373,
          66.8854010105133,
          66.99277520179749,
          67.09571313858032,
          67.18712520599365,
          67.29626321792603,
          67.38522362709045,
          67.48535013198853,
          67.60217905044556,
          67.6925277709961,
          67.79683327674866,
          67.89559507369995,
          67.99541354179382,
          68.09643268585205,
          68.19452285766602,
          68.29497075080872,
          68.3873176574707,
          68.48790216445923,
          68.6015555858612,
          68.68706679344177,
          68.81795263290405
         ],
         "y": [
          90,
          90,
          90,
          90,
          90,
          90,
          90,
          90,
          90,
          90,
          90,
          90,
          90,
          90,
          90,
          90,
          90,
          90,
          90,
          90,
          90,
          90,
          90,
          90,
          90,
          90,
          90,
          90,
          90,
          90,
          90,
          90,
          90,
          90,
          90,
          90,
          90,
          90,
          90,
          90,
          90,
          90,
          90,
          90,
          90,
          90,
          90,
          90,
          90,
          90,
          90,
          90,
          90,
          90,
          90,
          90,
          90,
          90,
          90,
          90,
          90,
          90,
          90,
          90,
          90,
          90,
          90,
          90,
          90,
          90,
          90,
          90,
          90,
          90,
          90,
          90,
          90,
          90,
          90,
          90,
          90,
          90,
          90,
          90,
          90,
          90,
          90,
          90,
          90,
          90,
          90,
          90,
          90,
          90,
          90,
          90,
          90,
          90,
          90,
          90,
          90,
          90,
          90,
          90,
          90,
          90,
          90,
          90,
          90,
          90,
          90,
          90,
          90,
          90,
          90,
          90,
          90,
          90,
          90,
          90,
          90,
          90,
          90,
          90,
          90,
          90,
          90,
          90,
          90,
          90,
          90,
          90,
          90,
          90,
          90,
          90,
          90,
          90,
          90,
          90,
          90,
          90,
          90,
          90,
          90,
          90,
          90,
          90,
          90,
          90,
          90,
          90,
          90,
          90,
          90,
          90,
          90,
          90,
          90,
          90,
          90,
          90,
          90,
          90,
          90,
          90,
          90,
          90,
          90,
          90,
          90,
          90,
          90,
          90,
          90,
          90,
          90,
          90,
          90,
          90,
          90,
          90,
          90,
          90,
          90,
          90,
          90,
          90,
          90,
          90,
          90,
          90,
          90,
          90,
          90,
          90,
          90,
          90,
          90,
          90,
          90,
          90,
          90,
          90,
          90,
          90,
          90,
          90,
          90,
          90,
          90,
          90,
          90,
          90,
          90,
          90,
          90,
          90,
          90,
          90,
          90,
          90,
          90,
          90,
          90,
          90,
          90,
          90,
          90,
          90,
          90,
          90,
          90,
          90,
          90,
          90,
          90,
          90,
          90,
          90,
          90,
          90,
          90,
          90,
          90,
          90,
          90,
          90,
          90,
          90,
          90,
          90,
          90,
          90,
          90,
          90,
          90,
          90,
          90,
          90,
          90,
          90,
          90,
          90,
          90,
          90,
          90,
          90,
          90,
          90,
          90,
          90,
          90,
          90,
          90,
          90,
          90,
          90,
          90,
          90,
          90,
          90,
          90,
          90,
          90,
          90,
          90,
          90,
          90,
          90,
          90,
          90,
          90,
          90,
          90,
          90,
          90,
          90,
          90,
          90,
          90,
          90,
          90,
          90,
          90,
          90,
          90,
          90,
          90,
          90,
          90,
          90,
          90,
          90,
          90,
          90,
          90,
          90,
          90,
          90,
          90,
          90,
          90,
          90,
          90,
          90,
          90,
          90,
          90,
          90,
          90,
          90,
          90,
          90,
          90,
          90,
          90,
          90,
          90,
          90,
          90,
          90,
          90,
          90,
          90,
          90,
          90,
          90,
          90,
          90,
          90,
          90,
          90,
          90,
          90,
          90,
          90,
          90,
          90,
          90,
          90,
          90,
          90,
          90,
          90,
          90,
          90,
          90,
          90,
          90,
          90,
          90,
          90,
          90,
          90,
          90,
          90,
          90,
          90,
          90,
          90,
          90,
          90,
          90,
          90,
          90,
          90,
          90,
          90,
          90,
          90,
          90,
          90,
          90,
          90,
          90,
          90,
          90,
          90,
          90,
          90,
          90,
          90,
          90,
          90,
          90,
          90,
          90,
          90,
          90,
          90,
          90,
          90,
          90,
          90,
          90,
          90,
          90,
          90,
          90,
          90,
          90,
          90,
          90,
          90,
          90,
          90,
          90,
          90,
          90,
          90,
          90,
          90,
          90,
          90,
          90,
          90,
          90,
          90,
          90,
          90,
          90,
          90,
          90,
          90
         ]
        }
       ],
       "layout": {
        "autosize": false,
        "font": {
         "color": "black",
         "family": "Courier New, monospace",
         "size": 22
        },
        "height": 600,
        "template": {
         "data": {
          "bar": [
           {
            "error_x": {
             "color": "#2a3f5f"
            },
            "error_y": {
             "color": "#2a3f5f"
            },
            "marker": {
             "line": {
              "color": "#E5ECF6",
              "width": 0.5
             },
             "pattern": {
              "fillmode": "overlay",
              "size": 10,
              "solidity": 0.2
             }
            },
            "type": "bar"
           }
          ],
          "barpolar": [
           {
            "marker": {
             "line": {
              "color": "#E5ECF6",
              "width": 0.5
             },
             "pattern": {
              "fillmode": "overlay",
              "size": 10,
              "solidity": 0.2
             }
            },
            "type": "barpolar"
           }
          ],
          "carpet": [
           {
            "aaxis": {
             "endlinecolor": "#2a3f5f",
             "gridcolor": "white",
             "linecolor": "white",
             "minorgridcolor": "white",
             "startlinecolor": "#2a3f5f"
            },
            "baxis": {
             "endlinecolor": "#2a3f5f",
             "gridcolor": "white",
             "linecolor": "white",
             "minorgridcolor": "white",
             "startlinecolor": "#2a3f5f"
            },
            "type": "carpet"
           }
          ],
          "choropleth": [
           {
            "colorbar": {
             "outlinewidth": 0,
             "ticks": ""
            },
            "type": "choropleth"
           }
          ],
          "contour": [
           {
            "colorbar": {
             "outlinewidth": 0,
             "ticks": ""
            },
            "colorscale": [
             [
              0,
              "#0d0887"
             ],
             [
              0.1111111111111111,
              "#46039f"
             ],
             [
              0.2222222222222222,
              "#7201a8"
             ],
             [
              0.3333333333333333,
              "#9c179e"
             ],
             [
              0.4444444444444444,
              "#bd3786"
             ],
             [
              0.5555555555555556,
              "#d8576b"
             ],
             [
              0.6666666666666666,
              "#ed7953"
             ],
             [
              0.7777777777777778,
              "#fb9f3a"
             ],
             [
              0.8888888888888888,
              "#fdca26"
             ],
             [
              1,
              "#f0f921"
             ]
            ],
            "type": "contour"
           }
          ],
          "contourcarpet": [
           {
            "colorbar": {
             "outlinewidth": 0,
             "ticks": ""
            },
            "type": "contourcarpet"
           }
          ],
          "heatmap": [
           {
            "colorbar": {
             "outlinewidth": 0,
             "ticks": ""
            },
            "colorscale": [
             [
              0,
              "#0d0887"
             ],
             [
              0.1111111111111111,
              "#46039f"
             ],
             [
              0.2222222222222222,
              "#7201a8"
             ],
             [
              0.3333333333333333,
              "#9c179e"
             ],
             [
              0.4444444444444444,
              "#bd3786"
             ],
             [
              0.5555555555555556,
              "#d8576b"
             ],
             [
              0.6666666666666666,
              "#ed7953"
             ],
             [
              0.7777777777777778,
              "#fb9f3a"
             ],
             [
              0.8888888888888888,
              "#fdca26"
             ],
             [
              1,
              "#f0f921"
             ]
            ],
            "type": "heatmap"
           }
          ],
          "heatmapgl": [
           {
            "colorbar": {
             "outlinewidth": 0,
             "ticks": ""
            },
            "colorscale": [
             [
              0,
              "#0d0887"
             ],
             [
              0.1111111111111111,
              "#46039f"
             ],
             [
              0.2222222222222222,
              "#7201a8"
             ],
             [
              0.3333333333333333,
              "#9c179e"
             ],
             [
              0.4444444444444444,
              "#bd3786"
             ],
             [
              0.5555555555555556,
              "#d8576b"
             ],
             [
              0.6666666666666666,
              "#ed7953"
             ],
             [
              0.7777777777777778,
              "#fb9f3a"
             ],
             [
              0.8888888888888888,
              "#fdca26"
             ],
             [
              1,
              "#f0f921"
             ]
            ],
            "type": "heatmapgl"
           }
          ],
          "histogram": [
           {
            "marker": {
             "pattern": {
              "fillmode": "overlay",
              "size": 10,
              "solidity": 0.2
             }
            },
            "type": "histogram"
           }
          ],
          "histogram2d": [
           {
            "colorbar": {
             "outlinewidth": 0,
             "ticks": ""
            },
            "colorscale": [
             [
              0,
              "#0d0887"
             ],
             [
              0.1111111111111111,
              "#46039f"
             ],
             [
              0.2222222222222222,
              "#7201a8"
             ],
             [
              0.3333333333333333,
              "#9c179e"
             ],
             [
              0.4444444444444444,
              "#bd3786"
             ],
             [
              0.5555555555555556,
              "#d8576b"
             ],
             [
              0.6666666666666666,
              "#ed7953"
             ],
             [
              0.7777777777777778,
              "#fb9f3a"
             ],
             [
              0.8888888888888888,
              "#fdca26"
             ],
             [
              1,
              "#f0f921"
             ]
            ],
            "type": "histogram2d"
           }
          ],
          "histogram2dcontour": [
           {
            "colorbar": {
             "outlinewidth": 0,
             "ticks": ""
            },
            "colorscale": [
             [
              0,
              "#0d0887"
             ],
             [
              0.1111111111111111,
              "#46039f"
             ],
             [
              0.2222222222222222,
              "#7201a8"
             ],
             [
              0.3333333333333333,
              "#9c179e"
             ],
             [
              0.4444444444444444,
              "#bd3786"
             ],
             [
              0.5555555555555556,
              "#d8576b"
             ],
             [
              0.6666666666666666,
              "#ed7953"
             ],
             [
              0.7777777777777778,
              "#fb9f3a"
             ],
             [
              0.8888888888888888,
              "#fdca26"
             ],
             [
              1,
              "#f0f921"
             ]
            ],
            "type": "histogram2dcontour"
           }
          ],
          "mesh3d": [
           {
            "colorbar": {
             "outlinewidth": 0,
             "ticks": ""
            },
            "type": "mesh3d"
           }
          ],
          "parcoords": [
           {
            "line": {
             "colorbar": {
              "outlinewidth": 0,
              "ticks": ""
             }
            },
            "type": "parcoords"
           }
          ],
          "pie": [
           {
            "automargin": true,
            "type": "pie"
           }
          ],
          "scatter": [
           {
            "fillpattern": {
             "fillmode": "overlay",
             "size": 10,
             "solidity": 0.2
            },
            "type": "scatter"
           }
          ],
          "scatter3d": [
           {
            "line": {
             "colorbar": {
              "outlinewidth": 0,
              "ticks": ""
             }
            },
            "marker": {
             "colorbar": {
              "outlinewidth": 0,
              "ticks": ""
             }
            },
            "type": "scatter3d"
           }
          ],
          "scattercarpet": [
           {
            "marker": {
             "colorbar": {
              "outlinewidth": 0,
              "ticks": ""
             }
            },
            "type": "scattercarpet"
           }
          ],
          "scattergeo": [
           {
            "marker": {
             "colorbar": {
              "outlinewidth": 0,
              "ticks": ""
             }
            },
            "type": "scattergeo"
           }
          ],
          "scattergl": [
           {
            "marker": {
             "colorbar": {
              "outlinewidth": 0,
              "ticks": ""
             }
            },
            "type": "scattergl"
           }
          ],
          "scattermapbox": [
           {
            "marker": {
             "colorbar": {
              "outlinewidth": 0,
              "ticks": ""
             }
            },
            "type": "scattermapbox"
           }
          ],
          "scatterpolar": [
           {
            "marker": {
             "colorbar": {
              "outlinewidth": 0,
              "ticks": ""
             }
            },
            "type": "scatterpolar"
           }
          ],
          "scatterpolargl": [
           {
            "marker": {
             "colorbar": {
              "outlinewidth": 0,
              "ticks": ""
             }
            },
            "type": "scatterpolargl"
           }
          ],
          "scatterternary": [
           {
            "marker": {
             "colorbar": {
              "outlinewidth": 0,
              "ticks": ""
             }
            },
            "type": "scatterternary"
           }
          ],
          "surface": [
           {
            "colorbar": {
             "outlinewidth": 0,
             "ticks": ""
            },
            "colorscale": [
             [
              0,
              "#0d0887"
             ],
             [
              0.1111111111111111,
              "#46039f"
             ],
             [
              0.2222222222222222,
              "#7201a8"
             ],
             [
              0.3333333333333333,
              "#9c179e"
             ],
             [
              0.4444444444444444,
              "#bd3786"
             ],
             [
              0.5555555555555556,
              "#d8576b"
             ],
             [
              0.6666666666666666,
              "#ed7953"
             ],
             [
              0.7777777777777778,
              "#fb9f3a"
             ],
             [
              0.8888888888888888,
              "#fdca26"
             ],
             [
              1,
              "#f0f921"
             ]
            ],
            "type": "surface"
           }
          ],
          "table": [
           {
            "cells": {
             "fill": {
              "color": "#EBF0F8"
             },
             "line": {
              "color": "white"
             }
            },
            "header": {
             "fill": {
              "color": "#C8D4E3"
             },
             "line": {
              "color": "white"
             }
            },
            "type": "table"
           }
          ]
         },
         "layout": {
          "annotationdefaults": {
           "arrowcolor": "#2a3f5f",
           "arrowhead": 0,
           "arrowwidth": 1
          },
          "autotypenumbers": "strict",
          "coloraxis": {
           "colorbar": {
            "outlinewidth": 0,
            "ticks": ""
           }
          },
          "colorscale": {
           "diverging": [
            [
             0,
             "#8e0152"
            ],
            [
             0.1,
             "#c51b7d"
            ],
            [
             0.2,
             "#de77ae"
            ],
            [
             0.3,
             "#f1b6da"
            ],
            [
             0.4,
             "#fde0ef"
            ],
            [
             0.5,
             "#f7f7f7"
            ],
            [
             0.6,
             "#e6f5d0"
            ],
            [
             0.7,
             "#b8e186"
            ],
            [
             0.8,
             "#7fbc41"
            ],
            [
             0.9,
             "#4d9221"
            ],
            [
             1,
             "#276419"
            ]
           ],
           "sequential": [
            [
             0,
             "#0d0887"
            ],
            [
             0.1111111111111111,
             "#46039f"
            ],
            [
             0.2222222222222222,
             "#7201a8"
            ],
            [
             0.3333333333333333,
             "#9c179e"
            ],
            [
             0.4444444444444444,
             "#bd3786"
            ],
            [
             0.5555555555555556,
             "#d8576b"
            ],
            [
             0.6666666666666666,
             "#ed7953"
            ],
            [
             0.7777777777777778,
             "#fb9f3a"
            ],
            [
             0.8888888888888888,
             "#fdca26"
            ],
            [
             1,
             "#f0f921"
            ]
           ],
           "sequentialminus": [
            [
             0,
             "#0d0887"
            ],
            [
             0.1111111111111111,
             "#46039f"
            ],
            [
             0.2222222222222222,
             "#7201a8"
            ],
            [
             0.3333333333333333,
             "#9c179e"
            ],
            [
             0.4444444444444444,
             "#bd3786"
            ],
            [
             0.5555555555555556,
             "#d8576b"
            ],
            [
             0.6666666666666666,
             "#ed7953"
            ],
            [
             0.7777777777777778,
             "#fb9f3a"
            ],
            [
             0.8888888888888888,
             "#fdca26"
            ],
            [
             1,
             "#f0f921"
            ]
           ]
          },
          "colorway": [
           "#636efa",
           "#EF553B",
           "#00cc96",
           "#ab63fa",
           "#FFA15A",
           "#19d3f3",
           "#FF6692",
           "#B6E880",
           "#FF97FF",
           "#FECB52"
          ],
          "font": {
           "color": "#2a3f5f"
          },
          "geo": {
           "bgcolor": "white",
           "lakecolor": "white",
           "landcolor": "#E5ECF6",
           "showlakes": true,
           "showland": true,
           "subunitcolor": "white"
          },
          "hoverlabel": {
           "align": "left"
          },
          "hovermode": "closest",
          "mapbox": {
           "style": "light"
          },
          "paper_bgcolor": "white",
          "plot_bgcolor": "#E5ECF6",
          "polar": {
           "angularaxis": {
            "gridcolor": "white",
            "linecolor": "white",
            "ticks": ""
           },
           "bgcolor": "#E5ECF6",
           "radialaxis": {
            "gridcolor": "white",
            "linecolor": "white",
            "ticks": ""
           }
          },
          "scene": {
           "xaxis": {
            "backgroundcolor": "#E5ECF6",
            "gridcolor": "white",
            "gridwidth": 2,
            "linecolor": "white",
            "showbackground": true,
            "ticks": "",
            "zerolinecolor": "white"
           },
           "yaxis": {
            "backgroundcolor": "#E5ECF6",
            "gridcolor": "white",
            "gridwidth": 2,
            "linecolor": "white",
            "showbackground": true,
            "ticks": "",
            "zerolinecolor": "white"
           },
           "zaxis": {
            "backgroundcolor": "#E5ECF6",
            "gridcolor": "white",
            "gridwidth": 2,
            "linecolor": "white",
            "showbackground": true,
            "ticks": "",
            "zerolinecolor": "white"
           }
          },
          "shapedefaults": {
           "line": {
            "color": "#2a3f5f"
           }
          },
          "ternary": {
           "aaxis": {
            "gridcolor": "white",
            "linecolor": "white",
            "ticks": ""
           },
           "baxis": {
            "gridcolor": "white",
            "linecolor": "white",
            "ticks": ""
           },
           "bgcolor": "#E5ECF6",
           "caxis": {
            "gridcolor": "white",
            "linecolor": "white",
            "ticks": ""
           }
          },
          "title": {
           "x": 0.05
          },
          "xaxis": {
           "automargin": true,
           "gridcolor": "white",
           "linecolor": "white",
           "ticks": "",
           "title": {
            "standoff": 15
           },
           "zerolinecolor": "white",
           "zerolinewidth": 2
          },
          "yaxis": {
           "automargin": true,
           "gridcolor": "white",
           "linecolor": "white",
           "ticks": "",
           "title": {
            "standoff": 15
           },
           "zerolinecolor": "white",
           "zerolinewidth": 2
          }
         }
        },
        "title": {
         "text": "Range of Motion ankleLeft"
        },
        "width": 750,
        "xaxis": {
         "title": {
          "font": {
           "color": "#7f7f7f",
           "family": "Courier New, monospace",
           "size": 18
          },
          "text": "time [s]"
         }
        },
        "yaxis": {
         "title": {
          "font": {
           "color": "#7f7f7f",
           "family": "Courier New, monospace",
           "size": 18
          },
          "text": "ROM [degrees]"
         }
        }
       }
      },
      "text/html": [
       "<div>                            <div id=\"cad11bb2-1489-4423-8e32-55bc9fe07c28\" class=\"plotly-graph-div\" style=\"height:600px; width:750px;\"></div>            <script type=\"text/javascript\">                require([\"plotly\"], function(Plotly) {                    window.PLOTLYENV=window.PLOTLYENV || {};                                    if (document.getElementById(\"cad11bb2-1489-4423-8e32-55bc9fe07c28\")) {                    Plotly.newPlot(                        \"cad11bb2-1489-4423-8e32-55bc9fe07c28\",                        [{\"line\":{\"color\":\"blue\",\"width\":3},\"mode\":\"lines\",\"name\":\"Real trend\",\"x\":[24.233115196228027,24.332800149917603,24.43332529067993,24.533143520355225,24.63327145576477,24.741224765777588,24.83667492866516,24.933400630950928,25.03368902206421,25.136213779449463,25.236974239349365,25.33634853363037,25.436240673065186,25.534266233444214,25.660048961639404,25.73537588119507,25.837066650390625,25.93694543838501,26.037134408950806,26.135271310806274,26.238525390625,26.33588480949402,26.436264991760254,26.5361270904541,26.636869430541992,26.736798763275146,26.83656358718872,26.936131238937378,27.037917852401733,27.136846780776978,27.236833333969116,27.337327480316162,27.439617395401,27.538838148117065,27.638164520263672,27.749006986618042,27.83854031562805,27.9455463886261,28.040802001953125,28.139883041381836,28.239752769470215,28.339375257492065,28.439257621765137,28.540772676467896,28.64122200012207,28.740676641464233,28.842568397521973,28.945440530776978,29.04046893119812,29.14072895050049,29.241145849227905,29.340039253234863,29.439839601516724,29.54038095474243,29.63996434211731,29.739933252334595,29.846254587173462,29.94089412689209,30.04071307182312,30.144608736038208,30.240516185760498,30.34049105644226,30.44564700126648,30.55128312110901,30.640730619430542,30.742594957351685,30.84181499481201,30.943175554275513,31.05737829208374,31.142616987228394,31.24183678627014,31.342342376708984,31.44289994239807,31.5424702167511,31.643161296844482,31.74295926094055,31.84236192703247,31.94386625289917,32.04418087005615,32.14330244064331,32.24445056915283,32.343778133392334,32.449652910232544,32.544663190841675,32.64774417877197,32.744690895080566,32.84504675865173,32.944618463516235,33.05396890640259,33.143632888793945,33.24526834487915,33.345051288604736,33.44400191307068,33.55854344367981,33.64385724067688,33.74412751197815,33.84885501861572,33.94433307647705,34.044235944747925,34.14453125,34.24451446533203,34.34574580192566,34.448670625686646,34.54504442214966,34.64591407775879,34.744818449020386,34.84493112564087,34.945334911346436,35.049182176589966,35.146583557128906,35.24837875366211,35.34727358818054,35.45433211326599,35.545390129089355,35.656078577041626,35.746832847595215,35.8473219871521,35.94709372520447,36.0468065738678,36.14607119560242,36.24921727180481,36.34639763832092,36.454500675201416,36.54650640487671,36.65474462509155,36.749191999435425,36.85453176498413,36.95210886001587,37.047197103500366,37.14702796936035,37.24901580810547,37.34686207771301,37.447104692459106,37.54842662811279,37.64687538146973,37.74915027618408,37.84915614128113,37.948790311813354,38.04765033721924,38.14885377883911,38.24823212623596,38.35143542289734,38.45007371902466,38.55542993545532,38.65315294265747,38.75039100646973,38.85027742385864,38.950366497039795,39.05031752586365,39.150487184524536,39.25821256637573,39.35039734840393,39.45201921463013,39.55043816566467,39.650450229644775,39.75240468978882,39.85030198097229,39.9519202709198,40.05151343345642,40.15075707435608,40.253804206848145,40.36140036582947,40.450860261917114,40.55409598350525,40.65131616592407,40.75186371803284,40.85239887237549,40.95355796813965,41.05352592468262,41.16284155845642,41.252413749694824,41.3540472984314,41.455708026885986,41.55463624000549,41.652626037597656,41.75363826751709,41.855064392089844,41.953187227249146,42.05310916900635,42.15421986579895,42.25406765937805,42.35616064071655,42.45375347137451,42.55452561378479,42.65626549720764,42.7549045085907,42.85430359840393,42.954716205596924,43.0550434589386,43.15387988090515,43.26676344871521,43.35433602333069,43.45442318916321,43.55426049232483,43.65690588951111,43.754761695861816,43.85465598106384,43.95766234397888,44.05765414237976,44.15516233444214,44.255306243896484,44.35650944709778,44.4564106464386,44.558196783065796,44.65524959564209,44.75663423538208,44.855653285980225,44.956889152526855,45.056891202926636,45.15617251396179,45.259347915649414,45.35649275779724,45.4566650390625,45.55965876579285,45.6593382358551,45.756914138793945,45.8582808971405,45.95721650123596,46.058391094207764,46.157426595687866,46.258829832077026,46.36005163192749,46.45975947380066,46.55997109413147,46.66822338104248,46.7590754032135,46.859297037124634,46.959229946136475,47.05930709838867,47.160308599472046,47.25964903831482,47.35964608192444,47.45954132080078,47.56847953796387,47.65980339050293,47.76070761680603,47.860949993133545,47.96102738380432,48.0608868598938,48.16973042488098,48.26136255264282,48.3635528087616,48.46225309371948,48.56248378753662,48.66207695007324,48.761430740356445,48.86470699310303,48.96166253089905,49.06158661842346,49.16189455986023,49.26649451255798,49.362058877944946,49.46488690376282,49.56207346916199,49.6636598110199,49.763437032699585,49.86710548400879,49.966618061065674,50.06493520736694,50.16594886779785,50.263988971710205,50.36377811431885,50.46897530555725,50.56509709358215,50.663946866989136,50.76420331001282,50.865792751312256,50.96528196334839,51.06493139266968,51.16599106788635,51.264713525772095,51.36483836174011,51.466283082962036,51.56488108634949,51.66627740859985,51.76533913612366,51.86521315574646,51.965941190719604,52.06543946266174,52.165924072265625,52.267369985580444,52.36658000946045,52.46628165245056,52.5660502910614,52.668837785720825,52.765990257263184,52.865904331207275,52.967106342315674,53.07641339302063,53.16690969467163,53.270140647888184,53.36931872367859,53.46704411506653,53.56643581390381,53.6758246421814,53.76804304122925,53.86708450317383,53.967583656311035,54.06740736961365,54.168564558029175,54.26759457588196,54.36831283569336,54.46784591674805,54.56783151626587,54.667638301849365,54.768479108810425,54.86789917945862,54.96787142753601,55.067992210388184,55.171016454696655,55.269285917282104,55.36903381347656,55.468350648880005,55.570322036743164,55.67030596733093,55.77029013633728,55.87521815299988,55.97042274475098,56.07261395454407,56.17239284515381,56.27244687080383,56.37264847755432,56.48825979232788,56.57243776321411,56.68163299560547,56.77378845214844,56.87340188026428,56.97399425506592,57.073071241378784,57.17336463928223,57.2733998298645,57.37728786468506,57.47473859786987,57.57391428947449,57.6785364151001,57.77704167366028,57.87393260002136,57.975202560424805,58.07394576072693,58.174970388412476,58.27534246444702,58.37405180931091,58.49008274078369,58.57447624206543,58.674320459365845,58.77466368675232,58.87987661361694,58.974895000457764,59.074692249298096,59.17652249336243,59.27519130706787,59.376720666885376,59.48024845123291,59.57504415512085,59.67632222175598,59.775283336639404,59.87633013725281,59.9767279624939,60.07995295524597,60.176642417907715,60.27666091918945,60.3757860660553,60.475781202316284,60.57788562774658,60.676915884017944,60.78098464012146,60.878838777542114,60.9773690700531,61.07639503479004,61.17762112617493,61.27669715881348,61.378113746643066,61.481345415115356,61.57789969444275,61.68140506744385,61.77827453613281,61.87871265411377,61.97990441322327,62.08743119239807,62.17740345001221,62.28377366065979,62.377360105514526,62.48196077346802,62.577552795410156,62.67955780029297,62.77953815460205,62.88564467430115,62.97774291038513,63.07864475250244,63.179381370544434,63.27934241294861,63.38161492347717,63.49756383895874,63.578343868255615,63.68144154548645,63.7796425819397,63.882205963134766,63.982651472091675,64.08018064498901,64.18289732933044,64.28019547462463,64.38835501670837,64.47988796234131,64.58415126800537,64.681893825531,64.79290437698364,64.88766360282898,64.98255801200867,65.08255767822266,65.18253898620605,65.28386378288269,65.38267874717712,65.48333883285522,65.58333897590637,65.68291187286377,65.78422260284424,65.88682770729065,65.98398804664612,66.08520674705505,66.18757677078247,66.2843267917633,66.38681292533875,66.48536348342896,66.59144806861877,66.70076823234558,66.78522777557373,66.8854010105133,66.99277520179749,67.09571313858032,67.18712520599365,67.29626321792603,67.38522362709045,67.48535013198853,67.60217905044556,67.6925277709961,67.79683327674866,67.89559507369995,67.99541354179382,68.09643268585205,68.19452285766602,68.29497075080872,68.3873176574707,68.48790216445923,68.6015555858612,68.68706679344177,68.81795263290405],\"y\":[90.0,90.0,90.0,90.0,90.0,90.0,90.0,90.0,90.0,90.0,90.0,90.0,90.0,90.0,90.0,90.0,90.0,90.0,90.0,90.0,90.0,90.0,90.0,90.0,90.0,90.0,90.0,90.0,90.0,90.0,90.0,90.0,90.0,90.0,90.0,90.0,90.0,90.0,90.0,90.0,90.0,90.0,90.0,90.0,90.0,90.0,90.0,90.0,90.0,90.0,90.0,90.0,90.0,90.0,90.0,90.0,90.0,90.0,90.0,90.0,90.0,90.0,90.0,90.0,90.0,90.0,90.0,90.0,90.0,90.0,90.0,90.0,90.0,90.0,90.0,90.0,90.0,90.0,90.0,90.0,90.0,90.0,90.0,90.0,90.0,90.0,90.0,90.0,90.0,90.0,90.0,90.0,90.0,90.0,90.0,90.0,90.0,90.0,90.0,90.0,90.0,90.0,90.0,90.0,90.0,90.0,90.0,90.0,90.0,90.0,90.0,90.0,90.0,90.0,90.0,90.0,90.0,90.0,90.0,90.0,90.0,90.0,90.0,90.0,90.0,90.0,90.0,90.0,90.0,90.0,90.0,90.0,90.0,90.0,90.0,90.0,90.0,90.0,90.0,90.0,90.0,90.0,90.0,90.0,90.0,90.0,90.0,90.0,90.0,90.0,90.0,90.0,90.0,90.0,90.0,90.0,90.0,90.0,90.0,90.0,90.0,90.0,90.0,90.0,90.0,90.0,90.0,90.0,90.0,90.0,90.0,90.0,90.0,90.0,90.0,90.0,90.0,90.0,90.0,90.0,90.0,90.0,90.0,90.0,90.0,90.0,90.0,90.0,90.0,90.0,90.0,90.0,90.0,90.0,90.0,90.0,90.0,90.0,90.0,90.0,90.0,90.0,90.0,90.0,90.0,90.0,90.0,90.0,90.0,90.0,90.0,90.0,90.0,90.0,90.0,90.0,90.0,90.0,90.0,90.0,90.0,90.0,90.0,90.0,90.0,90.0,90.0,90.0,90.0,90.0,90.0,90.0,90.0,90.0,90.0,90.0,90.0,90.0,90.0,90.0,90.0,90.0,90.0,90.0,90.0,90.0,90.0,90.0,90.0,90.0,90.0,90.0,90.0,90.0,90.0,90.0,90.0,90.0,90.0,90.0,90.0,90.0,90.0,90.0,90.0,90.0,90.0,90.0,90.0,90.0,90.0,90.0,90.0,90.0,90.0,90.0,90.0,90.0,90.0,90.0,90.0,90.0,90.0,90.0,90.0,90.0,90.0,90.0,90.0,90.0,90.0,90.0,90.0,90.0,90.0,90.0,90.0,90.0,90.0,90.0,90.0,90.0,90.0,90.0,90.0,90.0,90.0,90.0,90.0,90.0,90.0,90.0,90.0,90.0,90.0,90.0,90.0,90.0,90.0,90.0,90.0,90.0,90.0,90.0,90.0,90.0,90.0,90.0,90.0,90.0,90.0,90.0,90.0,90.0,90.0,90.0,90.0,90.0,90.0,90.0,90.0,90.0,90.0,90.0,90.0,90.0,90.0,90.0,90.0,90.0,90.0,90.0,90.0,90.0,90.0,90.0,90.0,90.0,90.0,90.0,90.0,90.0,90.0,90.0,90.0,90.0,90.0,90.0,90.0,90.0,90.0,90.0,90.0,90.0,90.0,90.0,90.0,90.0,90.0,90.0,90.0,90.0,90.0,90.0,90.0,90.0,90.0,90.0,90.0,90.0,90.0,90.0,90.0,90.0,90.0,90.0,90.0,90.0,90.0,90.0,90.0,90.0,90.0,90.0,90.0,90.0,90.0,90.0,90.0,90.0,90.0,90.0,90.0,90.0,90.0,90.0,90.0,90.0,90.0,90.0,90.0,90.0,90.0,90.0,90.0,90.0,90.0,90.0,90.0,90.0,90.0,90.0,90.0,90.0,90.0,90.0,90.0,90.0,90.0,90.0,90.0,90.0,90.0,90.0,90.0],\"type\":\"scatter\"}],                        {\"autosize\":false,\"font\":{\"color\":\"black\",\"family\":\"Courier New, monospace\",\"size\":22},\"height\":600,\"template\":{\"data\":{\"barpolar\":[{\"marker\":{\"line\":{\"color\":\"#E5ECF6\",\"width\":0.5},\"pattern\":{\"fillmode\":\"overlay\",\"size\":10,\"solidity\":0.2}},\"type\":\"barpolar\"}],\"bar\":[{\"error_x\":{\"color\":\"#2a3f5f\"},\"error_y\":{\"color\":\"#2a3f5f\"},\"marker\":{\"line\":{\"color\":\"#E5ECF6\",\"width\":0.5},\"pattern\":{\"fillmode\":\"overlay\",\"size\":10,\"solidity\":0.2}},\"type\":\"bar\"}],\"carpet\":[{\"aaxis\":{\"endlinecolor\":\"#2a3f5f\",\"gridcolor\":\"white\",\"linecolor\":\"white\",\"minorgridcolor\":\"white\",\"startlinecolor\":\"#2a3f5f\"},\"baxis\":{\"endlinecolor\":\"#2a3f5f\",\"gridcolor\":\"white\",\"linecolor\":\"white\",\"minorgridcolor\":\"white\",\"startlinecolor\":\"#2a3f5f\"},\"type\":\"carpet\"}],\"choropleth\":[{\"colorbar\":{\"outlinewidth\":0,\"ticks\":\"\"},\"type\":\"choropleth\"}],\"contourcarpet\":[{\"colorbar\":{\"outlinewidth\":0,\"ticks\":\"\"},\"type\":\"contourcarpet\"}],\"contour\":[{\"colorbar\":{\"outlinewidth\":0,\"ticks\":\"\"},\"colorscale\":[[0.0,\"#0d0887\"],[0.1111111111111111,\"#46039f\"],[0.2222222222222222,\"#7201a8\"],[0.3333333333333333,\"#9c179e\"],[0.4444444444444444,\"#bd3786\"],[0.5555555555555556,\"#d8576b\"],[0.6666666666666666,\"#ed7953\"],[0.7777777777777778,\"#fb9f3a\"],[0.8888888888888888,\"#fdca26\"],[1.0,\"#f0f921\"]],\"type\":\"contour\"}],\"heatmapgl\":[{\"colorbar\":{\"outlinewidth\":0,\"ticks\":\"\"},\"colorscale\":[[0.0,\"#0d0887\"],[0.1111111111111111,\"#46039f\"],[0.2222222222222222,\"#7201a8\"],[0.3333333333333333,\"#9c179e\"],[0.4444444444444444,\"#bd3786\"],[0.5555555555555556,\"#d8576b\"],[0.6666666666666666,\"#ed7953\"],[0.7777777777777778,\"#fb9f3a\"],[0.8888888888888888,\"#fdca26\"],[1.0,\"#f0f921\"]],\"type\":\"heatmapgl\"}],\"heatmap\":[{\"colorbar\":{\"outlinewidth\":0,\"ticks\":\"\"},\"colorscale\":[[0.0,\"#0d0887\"],[0.1111111111111111,\"#46039f\"],[0.2222222222222222,\"#7201a8\"],[0.3333333333333333,\"#9c179e\"],[0.4444444444444444,\"#bd3786\"],[0.5555555555555556,\"#d8576b\"],[0.6666666666666666,\"#ed7953\"],[0.7777777777777778,\"#fb9f3a\"],[0.8888888888888888,\"#fdca26\"],[1.0,\"#f0f921\"]],\"type\":\"heatmap\"}],\"histogram2dcontour\":[{\"colorbar\":{\"outlinewidth\":0,\"ticks\":\"\"},\"colorscale\":[[0.0,\"#0d0887\"],[0.1111111111111111,\"#46039f\"],[0.2222222222222222,\"#7201a8\"],[0.3333333333333333,\"#9c179e\"],[0.4444444444444444,\"#bd3786\"],[0.5555555555555556,\"#d8576b\"],[0.6666666666666666,\"#ed7953\"],[0.7777777777777778,\"#fb9f3a\"],[0.8888888888888888,\"#fdca26\"],[1.0,\"#f0f921\"]],\"type\":\"histogram2dcontour\"}],\"histogram2d\":[{\"colorbar\":{\"outlinewidth\":0,\"ticks\":\"\"},\"colorscale\":[[0.0,\"#0d0887\"],[0.1111111111111111,\"#46039f\"],[0.2222222222222222,\"#7201a8\"],[0.3333333333333333,\"#9c179e\"],[0.4444444444444444,\"#bd3786\"],[0.5555555555555556,\"#d8576b\"],[0.6666666666666666,\"#ed7953\"],[0.7777777777777778,\"#fb9f3a\"],[0.8888888888888888,\"#fdca26\"],[1.0,\"#f0f921\"]],\"type\":\"histogram2d\"}],\"histogram\":[{\"marker\":{\"pattern\":{\"fillmode\":\"overlay\",\"size\":10,\"solidity\":0.2}},\"type\":\"histogram\"}],\"mesh3d\":[{\"colorbar\":{\"outlinewidth\":0,\"ticks\":\"\"},\"type\":\"mesh3d\"}],\"parcoords\":[{\"line\":{\"colorbar\":{\"outlinewidth\":0,\"ticks\":\"\"}},\"type\":\"parcoords\"}],\"pie\":[{\"automargin\":true,\"type\":\"pie\"}],\"scatter3d\":[{\"line\":{\"colorbar\":{\"outlinewidth\":0,\"ticks\":\"\"}},\"marker\":{\"colorbar\":{\"outlinewidth\":0,\"ticks\":\"\"}},\"type\":\"scatter3d\"}],\"scattercarpet\":[{\"marker\":{\"colorbar\":{\"outlinewidth\":0,\"ticks\":\"\"}},\"type\":\"scattercarpet\"}],\"scattergeo\":[{\"marker\":{\"colorbar\":{\"outlinewidth\":0,\"ticks\":\"\"}},\"type\":\"scattergeo\"}],\"scattergl\":[{\"marker\":{\"colorbar\":{\"outlinewidth\":0,\"ticks\":\"\"}},\"type\":\"scattergl\"}],\"scattermapbox\":[{\"marker\":{\"colorbar\":{\"outlinewidth\":0,\"ticks\":\"\"}},\"type\":\"scattermapbox\"}],\"scatterpolargl\":[{\"marker\":{\"colorbar\":{\"outlinewidth\":0,\"ticks\":\"\"}},\"type\":\"scatterpolargl\"}],\"scatterpolar\":[{\"marker\":{\"colorbar\":{\"outlinewidth\":0,\"ticks\":\"\"}},\"type\":\"scatterpolar\"}],\"scatter\":[{\"fillpattern\":{\"fillmode\":\"overlay\",\"size\":10,\"solidity\":0.2},\"type\":\"scatter\"}],\"scatterternary\":[{\"marker\":{\"colorbar\":{\"outlinewidth\":0,\"ticks\":\"\"}},\"type\":\"scatterternary\"}],\"surface\":[{\"colorbar\":{\"outlinewidth\":0,\"ticks\":\"\"},\"colorscale\":[[0.0,\"#0d0887\"],[0.1111111111111111,\"#46039f\"],[0.2222222222222222,\"#7201a8\"],[0.3333333333333333,\"#9c179e\"],[0.4444444444444444,\"#bd3786\"],[0.5555555555555556,\"#d8576b\"],[0.6666666666666666,\"#ed7953\"],[0.7777777777777778,\"#fb9f3a\"],[0.8888888888888888,\"#fdca26\"],[1.0,\"#f0f921\"]],\"type\":\"surface\"}],\"table\":[{\"cells\":{\"fill\":{\"color\":\"#EBF0F8\"},\"line\":{\"color\":\"white\"}},\"header\":{\"fill\":{\"color\":\"#C8D4E3\"},\"line\":{\"color\":\"white\"}},\"type\":\"table\"}]},\"layout\":{\"annotationdefaults\":{\"arrowcolor\":\"#2a3f5f\",\"arrowhead\":0,\"arrowwidth\":1},\"autotypenumbers\":\"strict\",\"coloraxis\":{\"colorbar\":{\"outlinewidth\":0,\"ticks\":\"\"}},\"colorscale\":{\"diverging\":[[0,\"#8e0152\"],[0.1,\"#c51b7d\"],[0.2,\"#de77ae\"],[0.3,\"#f1b6da\"],[0.4,\"#fde0ef\"],[0.5,\"#f7f7f7\"],[0.6,\"#e6f5d0\"],[0.7,\"#b8e186\"],[0.8,\"#7fbc41\"],[0.9,\"#4d9221\"],[1,\"#276419\"]],\"sequential\":[[0.0,\"#0d0887\"],[0.1111111111111111,\"#46039f\"],[0.2222222222222222,\"#7201a8\"],[0.3333333333333333,\"#9c179e\"],[0.4444444444444444,\"#bd3786\"],[0.5555555555555556,\"#d8576b\"],[0.6666666666666666,\"#ed7953\"],[0.7777777777777778,\"#fb9f3a\"],[0.8888888888888888,\"#fdca26\"],[1.0,\"#f0f921\"]],\"sequentialminus\":[[0.0,\"#0d0887\"],[0.1111111111111111,\"#46039f\"],[0.2222222222222222,\"#7201a8\"],[0.3333333333333333,\"#9c179e\"],[0.4444444444444444,\"#bd3786\"],[0.5555555555555556,\"#d8576b\"],[0.6666666666666666,\"#ed7953\"],[0.7777777777777778,\"#fb9f3a\"],[0.8888888888888888,\"#fdca26\"],[1.0,\"#f0f921\"]]},\"colorway\":[\"#636efa\",\"#EF553B\",\"#00cc96\",\"#ab63fa\",\"#FFA15A\",\"#19d3f3\",\"#FF6692\",\"#B6E880\",\"#FF97FF\",\"#FECB52\"],\"font\":{\"color\":\"#2a3f5f\"},\"geo\":{\"bgcolor\":\"white\",\"lakecolor\":\"white\",\"landcolor\":\"#E5ECF6\",\"showlakes\":true,\"showland\":true,\"subunitcolor\":\"white\"},\"hoverlabel\":{\"align\":\"left\"},\"hovermode\":\"closest\",\"mapbox\":{\"style\":\"light\"},\"paper_bgcolor\":\"white\",\"plot_bgcolor\":\"#E5ECF6\",\"polar\":{\"angularaxis\":{\"gridcolor\":\"white\",\"linecolor\":\"white\",\"ticks\":\"\"},\"bgcolor\":\"#E5ECF6\",\"radialaxis\":{\"gridcolor\":\"white\",\"linecolor\":\"white\",\"ticks\":\"\"}},\"scene\":{\"xaxis\":{\"backgroundcolor\":\"#E5ECF6\",\"gridcolor\":\"white\",\"gridwidth\":2,\"linecolor\":\"white\",\"showbackground\":true,\"ticks\":\"\",\"zerolinecolor\":\"white\"},\"yaxis\":{\"backgroundcolor\":\"#E5ECF6\",\"gridcolor\":\"white\",\"gridwidth\":2,\"linecolor\":\"white\",\"showbackground\":true,\"ticks\":\"\",\"zerolinecolor\":\"white\"},\"zaxis\":{\"backgroundcolor\":\"#E5ECF6\",\"gridcolor\":\"white\",\"gridwidth\":2,\"linecolor\":\"white\",\"showbackground\":true,\"ticks\":\"\",\"zerolinecolor\":\"white\"}},\"shapedefaults\":{\"line\":{\"color\":\"#2a3f5f\"}},\"ternary\":{\"aaxis\":{\"gridcolor\":\"white\",\"linecolor\":\"white\",\"ticks\":\"\"},\"baxis\":{\"gridcolor\":\"white\",\"linecolor\":\"white\",\"ticks\":\"\"},\"bgcolor\":\"#E5ECF6\",\"caxis\":{\"gridcolor\":\"white\",\"linecolor\":\"white\",\"ticks\":\"\"}},\"title\":{\"x\":0.05},\"xaxis\":{\"automargin\":true,\"gridcolor\":\"white\",\"linecolor\":\"white\",\"ticks\":\"\",\"title\":{\"standoff\":15},\"zerolinecolor\":\"white\",\"zerolinewidth\":2},\"yaxis\":{\"automargin\":true,\"gridcolor\":\"white\",\"linecolor\":\"white\",\"ticks\":\"\",\"title\":{\"standoff\":15},\"zerolinecolor\":\"white\",\"zerolinewidth\":2}}},\"title\":{\"text\":\"Range of Motion ankleLeft\"},\"width\":750,\"xaxis\":{\"title\":{\"font\":{\"color\":\"#7f7f7f\",\"family\":\"Courier New, monospace\",\"size\":18},\"text\":\"time [s]\"}},\"yaxis\":{\"title\":{\"font\":{\"color\":\"#7f7f7f\",\"family\":\"Courier New, monospace\",\"size\":18},\"text\":\"ROM [degrees]\"}}},                        {\"responsive\": true}                    ).then(function(){\n",
       "                            \n",
       "var gd = document.getElementById('cad11bb2-1489-4423-8e32-55bc9fe07c28');\n",
       "var x = new MutationObserver(function (mutations, observer) {{\n",
       "        var display = window.getComputedStyle(gd).display;\n",
       "        if (!display || display === 'none') {{\n",
       "            console.log([gd, 'removed!']);\n",
       "            Plotly.purge(gd);\n",
       "            observer.disconnect();\n",
       "        }}\n",
       "}});\n",
       "\n",
       "// Listen for the removal of the full notebook cells\n",
       "var notebookContainer = gd.closest('#notebook-container');\n",
       "if (notebookContainer) {{\n",
       "    x.observe(notebookContainer, {childList: true});\n",
       "}}\n",
       "\n",
       "// Listen for the clearing of the current output cell\n",
       "var outputEl = gd.closest('.output');\n",
       "if (outputEl) {{\n",
       "    x.observe(outputEl, {childList: true});\n",
       "}}\n",
       "\n",
       "                        })                };                });            </script>        </div>"
      ]
     },
     "metadata": {},
     "output_type": "display_data"
    },
    {
     "data": {
      "application/vnd.plotly.v1+json": {
       "config": {
        "linkText": "Export to plot.ly",
        "plotlyServerURL": "https://plot.ly",
        "showLink": false
       },
       "data": [
        {
         "line": {
          "color": "blue",
          "width": 3
         },
         "mode": "lines",
         "name": "Real trend",
         "type": "scatter",
         "x": [
          24.233115196228027,
          24.332800149917603,
          24.43332529067993,
          24.533143520355225,
          24.63327145576477,
          24.741224765777588,
          24.83667492866516,
          24.933400630950928,
          25.03368902206421,
          25.136213779449463,
          25.236974239349365,
          25.33634853363037,
          25.436240673065186,
          25.534266233444214,
          25.660048961639404,
          25.73537588119507,
          25.837066650390625,
          25.93694543838501,
          26.037134408950806,
          26.135271310806274,
          26.238525390625,
          26.33588480949402,
          26.436264991760254,
          26.5361270904541,
          26.636869430541992,
          26.736798763275146,
          26.83656358718872,
          26.936131238937378,
          27.037917852401733,
          27.136846780776978,
          27.236833333969116,
          27.337327480316162,
          27.439617395401,
          27.538838148117065,
          27.638164520263672,
          27.749006986618042,
          27.83854031562805,
          27.9455463886261,
          28.040802001953125,
          28.139883041381836,
          28.239752769470215,
          28.339375257492065,
          28.439257621765137,
          28.540772676467896,
          28.64122200012207,
          28.740676641464233,
          28.842568397521973,
          28.945440530776978,
          29.04046893119812,
          29.14072895050049,
          29.241145849227905,
          29.340039253234863,
          29.439839601516724,
          29.54038095474243,
          29.63996434211731,
          29.739933252334595,
          29.846254587173462,
          29.94089412689209,
          30.04071307182312,
          30.144608736038208,
          30.240516185760498,
          30.34049105644226,
          30.44564700126648,
          30.55128312110901,
          30.640730619430542,
          30.742594957351685,
          30.84181499481201,
          30.943175554275513,
          31.05737829208374,
          31.142616987228394,
          31.24183678627014,
          31.342342376708984,
          31.44289994239807,
          31.5424702167511,
          31.643161296844482,
          31.74295926094055,
          31.84236192703247,
          31.94386625289917,
          32.04418087005615,
          32.14330244064331,
          32.24445056915283,
          32.343778133392334,
          32.449652910232544,
          32.544663190841675,
          32.64774417877197,
          32.744690895080566,
          32.84504675865173,
          32.944618463516235,
          33.05396890640259,
          33.143632888793945,
          33.24526834487915,
          33.345051288604736,
          33.44400191307068,
          33.55854344367981,
          33.64385724067688,
          33.74412751197815,
          33.84885501861572,
          33.94433307647705,
          34.044235944747925,
          34.14453125,
          34.24451446533203,
          34.34574580192566,
          34.448670625686646,
          34.54504442214966,
          34.64591407775879,
          34.744818449020386,
          34.84493112564087,
          34.945334911346436,
          35.049182176589966,
          35.146583557128906,
          35.24837875366211,
          35.34727358818054,
          35.45433211326599,
          35.545390129089355,
          35.656078577041626,
          35.746832847595215,
          35.8473219871521,
          35.94709372520447,
          36.0468065738678,
          36.14607119560242,
          36.24921727180481,
          36.34639763832092,
          36.454500675201416,
          36.54650640487671,
          36.65474462509155,
          36.749191999435425,
          36.85453176498413,
          36.95210886001587,
          37.047197103500366,
          37.14702796936035,
          37.24901580810547,
          37.34686207771301,
          37.447104692459106,
          37.54842662811279,
          37.64687538146973,
          37.74915027618408,
          37.84915614128113,
          37.948790311813354,
          38.04765033721924,
          38.14885377883911,
          38.24823212623596,
          38.35143542289734,
          38.45007371902466,
          38.55542993545532,
          38.65315294265747,
          38.75039100646973,
          38.85027742385864,
          38.950366497039795,
          39.05031752586365,
          39.150487184524536,
          39.25821256637573,
          39.35039734840393,
          39.45201921463013,
          39.55043816566467,
          39.650450229644775,
          39.75240468978882,
          39.85030198097229,
          39.9519202709198,
          40.05151343345642,
          40.15075707435608,
          40.253804206848145,
          40.36140036582947,
          40.450860261917114,
          40.55409598350525,
          40.65131616592407,
          40.75186371803284,
          40.85239887237549,
          40.95355796813965,
          41.05352592468262,
          41.16284155845642,
          41.252413749694824,
          41.3540472984314,
          41.455708026885986,
          41.55463624000549,
          41.652626037597656,
          41.75363826751709,
          41.855064392089844,
          41.953187227249146,
          42.05310916900635,
          42.15421986579895,
          42.25406765937805,
          42.35616064071655,
          42.45375347137451,
          42.55452561378479,
          42.65626549720764,
          42.7549045085907,
          42.85430359840393,
          42.954716205596924,
          43.0550434589386,
          43.15387988090515,
          43.26676344871521,
          43.35433602333069,
          43.45442318916321,
          43.55426049232483,
          43.65690588951111,
          43.754761695861816,
          43.85465598106384,
          43.95766234397888,
          44.05765414237976,
          44.15516233444214,
          44.255306243896484,
          44.35650944709778,
          44.4564106464386,
          44.558196783065796,
          44.65524959564209,
          44.75663423538208,
          44.855653285980225,
          44.956889152526855,
          45.056891202926636,
          45.15617251396179,
          45.259347915649414,
          45.35649275779724,
          45.4566650390625,
          45.55965876579285,
          45.6593382358551,
          45.756914138793945,
          45.8582808971405,
          45.95721650123596,
          46.058391094207764,
          46.157426595687866,
          46.258829832077026,
          46.36005163192749,
          46.45975947380066,
          46.55997109413147,
          46.66822338104248,
          46.7590754032135,
          46.859297037124634,
          46.959229946136475,
          47.05930709838867,
          47.160308599472046,
          47.25964903831482,
          47.35964608192444,
          47.45954132080078,
          47.56847953796387,
          47.65980339050293,
          47.76070761680603,
          47.860949993133545,
          47.96102738380432,
          48.0608868598938,
          48.16973042488098,
          48.26136255264282,
          48.3635528087616,
          48.46225309371948,
          48.56248378753662,
          48.66207695007324,
          48.761430740356445,
          48.86470699310303,
          48.96166253089905,
          49.06158661842346,
          49.16189455986023,
          49.26649451255798,
          49.362058877944946,
          49.46488690376282,
          49.56207346916199,
          49.6636598110199,
          49.763437032699585,
          49.86710548400879,
          49.966618061065674,
          50.06493520736694,
          50.16594886779785,
          50.263988971710205,
          50.36377811431885,
          50.46897530555725,
          50.56509709358215,
          50.663946866989136,
          50.76420331001282,
          50.865792751312256,
          50.96528196334839,
          51.06493139266968,
          51.16599106788635,
          51.264713525772095,
          51.36483836174011,
          51.466283082962036,
          51.56488108634949,
          51.66627740859985,
          51.76533913612366,
          51.86521315574646,
          51.965941190719604,
          52.06543946266174,
          52.165924072265625,
          52.267369985580444,
          52.36658000946045,
          52.46628165245056,
          52.5660502910614,
          52.668837785720825,
          52.765990257263184,
          52.865904331207275,
          52.967106342315674,
          53.07641339302063,
          53.16690969467163,
          53.270140647888184,
          53.36931872367859,
          53.46704411506653,
          53.56643581390381,
          53.6758246421814,
          53.76804304122925,
          53.86708450317383,
          53.967583656311035,
          54.06740736961365,
          54.168564558029175,
          54.26759457588196,
          54.36831283569336,
          54.46784591674805,
          54.56783151626587,
          54.667638301849365,
          54.768479108810425,
          54.86789917945862,
          54.96787142753601,
          55.067992210388184,
          55.171016454696655,
          55.269285917282104,
          55.36903381347656,
          55.468350648880005,
          55.570322036743164,
          55.67030596733093,
          55.77029013633728,
          55.87521815299988,
          55.97042274475098,
          56.07261395454407,
          56.17239284515381,
          56.27244687080383,
          56.37264847755432,
          56.48825979232788,
          56.57243776321411,
          56.68163299560547,
          56.77378845214844,
          56.87340188026428,
          56.97399425506592,
          57.073071241378784,
          57.17336463928223,
          57.2733998298645,
          57.37728786468506,
          57.47473859786987,
          57.57391428947449,
          57.6785364151001,
          57.77704167366028,
          57.87393260002136,
          57.975202560424805,
          58.07394576072693,
          58.174970388412476,
          58.27534246444702,
          58.37405180931091,
          58.49008274078369,
          58.57447624206543,
          58.674320459365845,
          58.77466368675232,
          58.87987661361694,
          58.974895000457764,
          59.074692249298096,
          59.17652249336243,
          59.27519130706787,
          59.376720666885376,
          59.48024845123291,
          59.57504415512085,
          59.67632222175598,
          59.775283336639404,
          59.87633013725281,
          59.9767279624939,
          60.07995295524597,
          60.176642417907715,
          60.27666091918945,
          60.3757860660553,
          60.475781202316284,
          60.57788562774658,
          60.676915884017944,
          60.78098464012146,
          60.878838777542114,
          60.9773690700531,
          61.07639503479004,
          61.17762112617493,
          61.27669715881348,
          61.378113746643066,
          61.481345415115356,
          61.57789969444275,
          61.68140506744385,
          61.77827453613281,
          61.87871265411377,
          61.97990441322327,
          62.08743119239807,
          62.17740345001221,
          62.28377366065979,
          62.377360105514526,
          62.48196077346802,
          62.577552795410156,
          62.67955780029297,
          62.77953815460205,
          62.88564467430115,
          62.97774291038513,
          63.07864475250244,
          63.179381370544434,
          63.27934241294861,
          63.38161492347717,
          63.49756383895874,
          63.578343868255615,
          63.68144154548645,
          63.7796425819397,
          63.882205963134766,
          63.982651472091675,
          64.08018064498901,
          64.18289732933044,
          64.28019547462463,
          64.38835501670837,
          64.47988796234131,
          64.58415126800537,
          64.681893825531,
          64.79290437698364,
          64.88766360282898,
          64.98255801200867,
          65.08255767822266,
          65.18253898620605,
          65.28386378288269,
          65.38267874717712,
          65.48333883285522,
          65.58333897590637,
          65.68291187286377,
          65.78422260284424,
          65.88682770729065,
          65.98398804664612,
          66.08520674705505,
          66.18757677078247,
          66.2843267917633,
          66.38681292533875,
          66.48536348342896,
          66.59144806861877,
          66.70076823234558,
          66.78522777557373,
          66.8854010105133,
          66.99277520179749,
          67.09571313858032,
          67.18712520599365,
          67.29626321792603,
          67.38522362709045,
          67.48535013198853,
          67.60217905044556,
          67.6925277709961,
          67.79683327674866,
          67.89559507369995,
          67.99541354179382,
          68.09643268585205,
          68.19452285766602,
          68.29497075080872,
          68.3873176574707,
          68.48790216445923,
          68.6015555858612,
          68.68706679344177,
          68.81795263290405
         ],
         "y": [
          90,
          90,
          90,
          90,
          90,
          90,
          90,
          90,
          90,
          90,
          90,
          90,
          90,
          90,
          90,
          90,
          90,
          90,
          90,
          90,
          90,
          90,
          90,
          90,
          90,
          90,
          90,
          90,
          90,
          90,
          90,
          90,
          90,
          90,
          90,
          90,
          90,
          90,
          90,
          90,
          90,
          90,
          90,
          90,
          90,
          90,
          90,
          90,
          90,
          90,
          90,
          90,
          90,
          90,
          90,
          90,
          90,
          90,
          90,
          90,
          90,
          90,
          90,
          90,
          90,
          90,
          90,
          90,
          90,
          90,
          90,
          90,
          90,
          90,
          90,
          90,
          90,
          90,
          90,
          90,
          90,
          90,
          90,
          90,
          90,
          90,
          90,
          90,
          90,
          90,
          90,
          90,
          90,
          90,
          90,
          90,
          90,
          90,
          90,
          90,
          90,
          90,
          90,
          90,
          90,
          90,
          90,
          90,
          90,
          90,
          90,
          90,
          90,
          90,
          90,
          90,
          90,
          90,
          90,
          90,
          90,
          90,
          90,
          90,
          90,
          90,
          90,
          90,
          90,
          90,
          90,
          90,
          90,
          90,
          90,
          90,
          90,
          90,
          90,
          90,
          90,
          90,
          90,
          90,
          90,
          90,
          90,
          90,
          90,
          90,
          90,
          90,
          90,
          90,
          90,
          90,
          90,
          90,
          90,
          90,
          90,
          90,
          90,
          90,
          90,
          90,
          90,
          90,
          90,
          90,
          90,
          90,
          90,
          90,
          90,
          90,
          90,
          90,
          90,
          90,
          90,
          90,
          90,
          90,
          90,
          90,
          90,
          90,
          90,
          90,
          90,
          90,
          90,
          90,
          90,
          90,
          90,
          90,
          90,
          90,
          90,
          90,
          90,
          90,
          90,
          90,
          90,
          90,
          90,
          90,
          90,
          90,
          90,
          90,
          90,
          90,
          90,
          90,
          90,
          90,
          90,
          90,
          90,
          90,
          90,
          90,
          90,
          90,
          90,
          90,
          90,
          90,
          90,
          90,
          90,
          90,
          90,
          90,
          90,
          90,
          90,
          90,
          90,
          90,
          90,
          90,
          90,
          90,
          90,
          90,
          90,
          90,
          90,
          90,
          90,
          90,
          90,
          90,
          90,
          90,
          90,
          90,
          90,
          90,
          90,
          90,
          90,
          90,
          90,
          90,
          90,
          90,
          90,
          90,
          90,
          90,
          90,
          90,
          90,
          90,
          90,
          90,
          90,
          90,
          90,
          90,
          90,
          90,
          90,
          90,
          90,
          90,
          90,
          90,
          90,
          90,
          90,
          90,
          90,
          90,
          90,
          90,
          90,
          90,
          90,
          90,
          90,
          90,
          90,
          90,
          90,
          90,
          90,
          90,
          90,
          90,
          90,
          90,
          90,
          90,
          90,
          90,
          90,
          90,
          90,
          90,
          90,
          90,
          90,
          90,
          90,
          90,
          90,
          90,
          90,
          90,
          90,
          90,
          90,
          90,
          90,
          90,
          90,
          90,
          90,
          90,
          90,
          90,
          90,
          90,
          90,
          90,
          90,
          90,
          90,
          90,
          90,
          90,
          90,
          90,
          90,
          90,
          90,
          90,
          90,
          90,
          90,
          90,
          90,
          90,
          90,
          90,
          90,
          90,
          90,
          90,
          90,
          90,
          90,
          90,
          90,
          90,
          90,
          90,
          90,
          90,
          90,
          90,
          90,
          90,
          90,
          90,
          90,
          90,
          90,
          90,
          90,
          90,
          90,
          90,
          90,
          90,
          90,
          90,
          90,
          90,
          90,
          90,
          90,
          90,
          90,
          90,
          90,
          90,
          90,
          90,
          90,
          90,
          90,
          90,
          90,
          90,
          90,
          90,
          90,
          90,
          90,
          90,
          90,
          90,
          90,
          90,
          90,
          90,
          90,
          90,
          90,
          90,
          90,
          90,
          90,
          90,
          90,
          90,
          90
         ]
        }
       ],
       "layout": {
        "autosize": false,
        "font": {
         "color": "black",
         "family": "Courier New, monospace",
         "size": 22
        },
        "height": 600,
        "template": {
         "data": {
          "bar": [
           {
            "error_x": {
             "color": "#2a3f5f"
            },
            "error_y": {
             "color": "#2a3f5f"
            },
            "marker": {
             "line": {
              "color": "#E5ECF6",
              "width": 0.5
             },
             "pattern": {
              "fillmode": "overlay",
              "size": 10,
              "solidity": 0.2
             }
            },
            "type": "bar"
           }
          ],
          "barpolar": [
           {
            "marker": {
             "line": {
              "color": "#E5ECF6",
              "width": 0.5
             },
             "pattern": {
              "fillmode": "overlay",
              "size": 10,
              "solidity": 0.2
             }
            },
            "type": "barpolar"
           }
          ],
          "carpet": [
           {
            "aaxis": {
             "endlinecolor": "#2a3f5f",
             "gridcolor": "white",
             "linecolor": "white",
             "minorgridcolor": "white",
             "startlinecolor": "#2a3f5f"
            },
            "baxis": {
             "endlinecolor": "#2a3f5f",
             "gridcolor": "white",
             "linecolor": "white",
             "minorgridcolor": "white",
             "startlinecolor": "#2a3f5f"
            },
            "type": "carpet"
           }
          ],
          "choropleth": [
           {
            "colorbar": {
             "outlinewidth": 0,
             "ticks": ""
            },
            "type": "choropleth"
           }
          ],
          "contour": [
           {
            "colorbar": {
             "outlinewidth": 0,
             "ticks": ""
            },
            "colorscale": [
             [
              0,
              "#0d0887"
             ],
             [
              0.1111111111111111,
              "#46039f"
             ],
             [
              0.2222222222222222,
              "#7201a8"
             ],
             [
              0.3333333333333333,
              "#9c179e"
             ],
             [
              0.4444444444444444,
              "#bd3786"
             ],
             [
              0.5555555555555556,
              "#d8576b"
             ],
             [
              0.6666666666666666,
              "#ed7953"
             ],
             [
              0.7777777777777778,
              "#fb9f3a"
             ],
             [
              0.8888888888888888,
              "#fdca26"
             ],
             [
              1,
              "#f0f921"
             ]
            ],
            "type": "contour"
           }
          ],
          "contourcarpet": [
           {
            "colorbar": {
             "outlinewidth": 0,
             "ticks": ""
            },
            "type": "contourcarpet"
           }
          ],
          "heatmap": [
           {
            "colorbar": {
             "outlinewidth": 0,
             "ticks": ""
            },
            "colorscale": [
             [
              0,
              "#0d0887"
             ],
             [
              0.1111111111111111,
              "#46039f"
             ],
             [
              0.2222222222222222,
              "#7201a8"
             ],
             [
              0.3333333333333333,
              "#9c179e"
             ],
             [
              0.4444444444444444,
              "#bd3786"
             ],
             [
              0.5555555555555556,
              "#d8576b"
             ],
             [
              0.6666666666666666,
              "#ed7953"
             ],
             [
              0.7777777777777778,
              "#fb9f3a"
             ],
             [
              0.8888888888888888,
              "#fdca26"
             ],
             [
              1,
              "#f0f921"
             ]
            ],
            "type": "heatmap"
           }
          ],
          "heatmapgl": [
           {
            "colorbar": {
             "outlinewidth": 0,
             "ticks": ""
            },
            "colorscale": [
             [
              0,
              "#0d0887"
             ],
             [
              0.1111111111111111,
              "#46039f"
             ],
             [
              0.2222222222222222,
              "#7201a8"
             ],
             [
              0.3333333333333333,
              "#9c179e"
             ],
             [
              0.4444444444444444,
              "#bd3786"
             ],
             [
              0.5555555555555556,
              "#d8576b"
             ],
             [
              0.6666666666666666,
              "#ed7953"
             ],
             [
              0.7777777777777778,
              "#fb9f3a"
             ],
             [
              0.8888888888888888,
              "#fdca26"
             ],
             [
              1,
              "#f0f921"
             ]
            ],
            "type": "heatmapgl"
           }
          ],
          "histogram": [
           {
            "marker": {
             "pattern": {
              "fillmode": "overlay",
              "size": 10,
              "solidity": 0.2
             }
            },
            "type": "histogram"
           }
          ],
          "histogram2d": [
           {
            "colorbar": {
             "outlinewidth": 0,
             "ticks": ""
            },
            "colorscale": [
             [
              0,
              "#0d0887"
             ],
             [
              0.1111111111111111,
              "#46039f"
             ],
             [
              0.2222222222222222,
              "#7201a8"
             ],
             [
              0.3333333333333333,
              "#9c179e"
             ],
             [
              0.4444444444444444,
              "#bd3786"
             ],
             [
              0.5555555555555556,
              "#d8576b"
             ],
             [
              0.6666666666666666,
              "#ed7953"
             ],
             [
              0.7777777777777778,
              "#fb9f3a"
             ],
             [
              0.8888888888888888,
              "#fdca26"
             ],
             [
              1,
              "#f0f921"
             ]
            ],
            "type": "histogram2d"
           }
          ],
          "histogram2dcontour": [
           {
            "colorbar": {
             "outlinewidth": 0,
             "ticks": ""
            },
            "colorscale": [
             [
              0,
              "#0d0887"
             ],
             [
              0.1111111111111111,
              "#46039f"
             ],
             [
              0.2222222222222222,
              "#7201a8"
             ],
             [
              0.3333333333333333,
              "#9c179e"
             ],
             [
              0.4444444444444444,
              "#bd3786"
             ],
             [
              0.5555555555555556,
              "#d8576b"
             ],
             [
              0.6666666666666666,
              "#ed7953"
             ],
             [
              0.7777777777777778,
              "#fb9f3a"
             ],
             [
              0.8888888888888888,
              "#fdca26"
             ],
             [
              1,
              "#f0f921"
             ]
            ],
            "type": "histogram2dcontour"
           }
          ],
          "mesh3d": [
           {
            "colorbar": {
             "outlinewidth": 0,
             "ticks": ""
            },
            "type": "mesh3d"
           }
          ],
          "parcoords": [
           {
            "line": {
             "colorbar": {
              "outlinewidth": 0,
              "ticks": ""
             }
            },
            "type": "parcoords"
           }
          ],
          "pie": [
           {
            "automargin": true,
            "type": "pie"
           }
          ],
          "scatter": [
           {
            "fillpattern": {
             "fillmode": "overlay",
             "size": 10,
             "solidity": 0.2
            },
            "type": "scatter"
           }
          ],
          "scatter3d": [
           {
            "line": {
             "colorbar": {
              "outlinewidth": 0,
              "ticks": ""
             }
            },
            "marker": {
             "colorbar": {
              "outlinewidth": 0,
              "ticks": ""
             }
            },
            "type": "scatter3d"
           }
          ],
          "scattercarpet": [
           {
            "marker": {
             "colorbar": {
              "outlinewidth": 0,
              "ticks": ""
             }
            },
            "type": "scattercarpet"
           }
          ],
          "scattergeo": [
           {
            "marker": {
             "colorbar": {
              "outlinewidth": 0,
              "ticks": ""
             }
            },
            "type": "scattergeo"
           }
          ],
          "scattergl": [
           {
            "marker": {
             "colorbar": {
              "outlinewidth": 0,
              "ticks": ""
             }
            },
            "type": "scattergl"
           }
          ],
          "scattermapbox": [
           {
            "marker": {
             "colorbar": {
              "outlinewidth": 0,
              "ticks": ""
             }
            },
            "type": "scattermapbox"
           }
          ],
          "scatterpolar": [
           {
            "marker": {
             "colorbar": {
              "outlinewidth": 0,
              "ticks": ""
             }
            },
            "type": "scatterpolar"
           }
          ],
          "scatterpolargl": [
           {
            "marker": {
             "colorbar": {
              "outlinewidth": 0,
              "ticks": ""
             }
            },
            "type": "scatterpolargl"
           }
          ],
          "scatterternary": [
           {
            "marker": {
             "colorbar": {
              "outlinewidth": 0,
              "ticks": ""
             }
            },
            "type": "scatterternary"
           }
          ],
          "surface": [
           {
            "colorbar": {
             "outlinewidth": 0,
             "ticks": ""
            },
            "colorscale": [
             [
              0,
              "#0d0887"
             ],
             [
              0.1111111111111111,
              "#46039f"
             ],
             [
              0.2222222222222222,
              "#7201a8"
             ],
             [
              0.3333333333333333,
              "#9c179e"
             ],
             [
              0.4444444444444444,
              "#bd3786"
             ],
             [
              0.5555555555555556,
              "#d8576b"
             ],
             [
              0.6666666666666666,
              "#ed7953"
             ],
             [
              0.7777777777777778,
              "#fb9f3a"
             ],
             [
              0.8888888888888888,
              "#fdca26"
             ],
             [
              1,
              "#f0f921"
             ]
            ],
            "type": "surface"
           }
          ],
          "table": [
           {
            "cells": {
             "fill": {
              "color": "#EBF0F8"
             },
             "line": {
              "color": "white"
             }
            },
            "header": {
             "fill": {
              "color": "#C8D4E3"
             },
             "line": {
              "color": "white"
             }
            },
            "type": "table"
           }
          ]
         },
         "layout": {
          "annotationdefaults": {
           "arrowcolor": "#2a3f5f",
           "arrowhead": 0,
           "arrowwidth": 1
          },
          "autotypenumbers": "strict",
          "coloraxis": {
           "colorbar": {
            "outlinewidth": 0,
            "ticks": ""
           }
          },
          "colorscale": {
           "diverging": [
            [
             0,
             "#8e0152"
            ],
            [
             0.1,
             "#c51b7d"
            ],
            [
             0.2,
             "#de77ae"
            ],
            [
             0.3,
             "#f1b6da"
            ],
            [
             0.4,
             "#fde0ef"
            ],
            [
             0.5,
             "#f7f7f7"
            ],
            [
             0.6,
             "#e6f5d0"
            ],
            [
             0.7,
             "#b8e186"
            ],
            [
             0.8,
             "#7fbc41"
            ],
            [
             0.9,
             "#4d9221"
            ],
            [
             1,
             "#276419"
            ]
           ],
           "sequential": [
            [
             0,
             "#0d0887"
            ],
            [
             0.1111111111111111,
             "#46039f"
            ],
            [
             0.2222222222222222,
             "#7201a8"
            ],
            [
             0.3333333333333333,
             "#9c179e"
            ],
            [
             0.4444444444444444,
             "#bd3786"
            ],
            [
             0.5555555555555556,
             "#d8576b"
            ],
            [
             0.6666666666666666,
             "#ed7953"
            ],
            [
             0.7777777777777778,
             "#fb9f3a"
            ],
            [
             0.8888888888888888,
             "#fdca26"
            ],
            [
             1,
             "#f0f921"
            ]
           ],
           "sequentialminus": [
            [
             0,
             "#0d0887"
            ],
            [
             0.1111111111111111,
             "#46039f"
            ],
            [
             0.2222222222222222,
             "#7201a8"
            ],
            [
             0.3333333333333333,
             "#9c179e"
            ],
            [
             0.4444444444444444,
             "#bd3786"
            ],
            [
             0.5555555555555556,
             "#d8576b"
            ],
            [
             0.6666666666666666,
             "#ed7953"
            ],
            [
             0.7777777777777778,
             "#fb9f3a"
            ],
            [
             0.8888888888888888,
             "#fdca26"
            ],
            [
             1,
             "#f0f921"
            ]
           ]
          },
          "colorway": [
           "#636efa",
           "#EF553B",
           "#00cc96",
           "#ab63fa",
           "#FFA15A",
           "#19d3f3",
           "#FF6692",
           "#B6E880",
           "#FF97FF",
           "#FECB52"
          ],
          "font": {
           "color": "#2a3f5f"
          },
          "geo": {
           "bgcolor": "white",
           "lakecolor": "white",
           "landcolor": "#E5ECF6",
           "showlakes": true,
           "showland": true,
           "subunitcolor": "white"
          },
          "hoverlabel": {
           "align": "left"
          },
          "hovermode": "closest",
          "mapbox": {
           "style": "light"
          },
          "paper_bgcolor": "white",
          "plot_bgcolor": "#E5ECF6",
          "polar": {
           "angularaxis": {
            "gridcolor": "white",
            "linecolor": "white",
            "ticks": ""
           },
           "bgcolor": "#E5ECF6",
           "radialaxis": {
            "gridcolor": "white",
            "linecolor": "white",
            "ticks": ""
           }
          },
          "scene": {
           "xaxis": {
            "backgroundcolor": "#E5ECF6",
            "gridcolor": "white",
            "gridwidth": 2,
            "linecolor": "white",
            "showbackground": true,
            "ticks": "",
            "zerolinecolor": "white"
           },
           "yaxis": {
            "backgroundcolor": "#E5ECF6",
            "gridcolor": "white",
            "gridwidth": 2,
            "linecolor": "white",
            "showbackground": true,
            "ticks": "",
            "zerolinecolor": "white"
           },
           "zaxis": {
            "backgroundcolor": "#E5ECF6",
            "gridcolor": "white",
            "gridwidth": 2,
            "linecolor": "white",
            "showbackground": true,
            "ticks": "",
            "zerolinecolor": "white"
           }
          },
          "shapedefaults": {
           "line": {
            "color": "#2a3f5f"
           }
          },
          "ternary": {
           "aaxis": {
            "gridcolor": "white",
            "linecolor": "white",
            "ticks": ""
           },
           "baxis": {
            "gridcolor": "white",
            "linecolor": "white",
            "ticks": ""
           },
           "bgcolor": "#E5ECF6",
           "caxis": {
            "gridcolor": "white",
            "linecolor": "white",
            "ticks": ""
           }
          },
          "title": {
           "x": 0.05
          },
          "xaxis": {
           "automargin": true,
           "gridcolor": "white",
           "linecolor": "white",
           "ticks": "",
           "title": {
            "standoff": 15
           },
           "zerolinecolor": "white",
           "zerolinewidth": 2
          },
          "yaxis": {
           "automargin": true,
           "gridcolor": "white",
           "linecolor": "white",
           "ticks": "",
           "title": {
            "standoff": 15
           },
           "zerolinecolor": "white",
           "zerolinewidth": 2
          }
         }
        },
        "title": {
         "text": "Range of Motion hipRight"
        },
        "width": 750,
        "xaxis": {
         "title": {
          "font": {
           "color": "#7f7f7f",
           "family": "Courier New, monospace",
           "size": 18
          },
          "text": "time [s]"
         }
        },
        "yaxis": {
         "title": {
          "font": {
           "color": "#7f7f7f",
           "family": "Courier New, monospace",
           "size": 18
          },
          "text": "ROM [degrees]"
         }
        }
       }
      },
      "text/html": [
       "<div>                            <div id=\"158f081d-a87e-41c6-a4e3-cc3e60fafe2a\" class=\"plotly-graph-div\" style=\"height:600px; width:750px;\"></div>            <script type=\"text/javascript\">                require([\"plotly\"], function(Plotly) {                    window.PLOTLYENV=window.PLOTLYENV || {};                                    if (document.getElementById(\"158f081d-a87e-41c6-a4e3-cc3e60fafe2a\")) {                    Plotly.newPlot(                        \"158f081d-a87e-41c6-a4e3-cc3e60fafe2a\",                        [{\"line\":{\"color\":\"blue\",\"width\":3},\"mode\":\"lines\",\"name\":\"Real trend\",\"x\":[24.233115196228027,24.332800149917603,24.43332529067993,24.533143520355225,24.63327145576477,24.741224765777588,24.83667492866516,24.933400630950928,25.03368902206421,25.136213779449463,25.236974239349365,25.33634853363037,25.436240673065186,25.534266233444214,25.660048961639404,25.73537588119507,25.837066650390625,25.93694543838501,26.037134408950806,26.135271310806274,26.238525390625,26.33588480949402,26.436264991760254,26.5361270904541,26.636869430541992,26.736798763275146,26.83656358718872,26.936131238937378,27.037917852401733,27.136846780776978,27.236833333969116,27.337327480316162,27.439617395401,27.538838148117065,27.638164520263672,27.749006986618042,27.83854031562805,27.9455463886261,28.040802001953125,28.139883041381836,28.239752769470215,28.339375257492065,28.439257621765137,28.540772676467896,28.64122200012207,28.740676641464233,28.842568397521973,28.945440530776978,29.04046893119812,29.14072895050049,29.241145849227905,29.340039253234863,29.439839601516724,29.54038095474243,29.63996434211731,29.739933252334595,29.846254587173462,29.94089412689209,30.04071307182312,30.144608736038208,30.240516185760498,30.34049105644226,30.44564700126648,30.55128312110901,30.640730619430542,30.742594957351685,30.84181499481201,30.943175554275513,31.05737829208374,31.142616987228394,31.24183678627014,31.342342376708984,31.44289994239807,31.5424702167511,31.643161296844482,31.74295926094055,31.84236192703247,31.94386625289917,32.04418087005615,32.14330244064331,32.24445056915283,32.343778133392334,32.449652910232544,32.544663190841675,32.64774417877197,32.744690895080566,32.84504675865173,32.944618463516235,33.05396890640259,33.143632888793945,33.24526834487915,33.345051288604736,33.44400191307068,33.55854344367981,33.64385724067688,33.74412751197815,33.84885501861572,33.94433307647705,34.044235944747925,34.14453125,34.24451446533203,34.34574580192566,34.448670625686646,34.54504442214966,34.64591407775879,34.744818449020386,34.84493112564087,34.945334911346436,35.049182176589966,35.146583557128906,35.24837875366211,35.34727358818054,35.45433211326599,35.545390129089355,35.656078577041626,35.746832847595215,35.8473219871521,35.94709372520447,36.0468065738678,36.14607119560242,36.24921727180481,36.34639763832092,36.454500675201416,36.54650640487671,36.65474462509155,36.749191999435425,36.85453176498413,36.95210886001587,37.047197103500366,37.14702796936035,37.24901580810547,37.34686207771301,37.447104692459106,37.54842662811279,37.64687538146973,37.74915027618408,37.84915614128113,37.948790311813354,38.04765033721924,38.14885377883911,38.24823212623596,38.35143542289734,38.45007371902466,38.55542993545532,38.65315294265747,38.75039100646973,38.85027742385864,38.950366497039795,39.05031752586365,39.150487184524536,39.25821256637573,39.35039734840393,39.45201921463013,39.55043816566467,39.650450229644775,39.75240468978882,39.85030198097229,39.9519202709198,40.05151343345642,40.15075707435608,40.253804206848145,40.36140036582947,40.450860261917114,40.55409598350525,40.65131616592407,40.75186371803284,40.85239887237549,40.95355796813965,41.05352592468262,41.16284155845642,41.252413749694824,41.3540472984314,41.455708026885986,41.55463624000549,41.652626037597656,41.75363826751709,41.855064392089844,41.953187227249146,42.05310916900635,42.15421986579895,42.25406765937805,42.35616064071655,42.45375347137451,42.55452561378479,42.65626549720764,42.7549045085907,42.85430359840393,42.954716205596924,43.0550434589386,43.15387988090515,43.26676344871521,43.35433602333069,43.45442318916321,43.55426049232483,43.65690588951111,43.754761695861816,43.85465598106384,43.95766234397888,44.05765414237976,44.15516233444214,44.255306243896484,44.35650944709778,44.4564106464386,44.558196783065796,44.65524959564209,44.75663423538208,44.855653285980225,44.956889152526855,45.056891202926636,45.15617251396179,45.259347915649414,45.35649275779724,45.4566650390625,45.55965876579285,45.6593382358551,45.756914138793945,45.8582808971405,45.95721650123596,46.058391094207764,46.157426595687866,46.258829832077026,46.36005163192749,46.45975947380066,46.55997109413147,46.66822338104248,46.7590754032135,46.859297037124634,46.959229946136475,47.05930709838867,47.160308599472046,47.25964903831482,47.35964608192444,47.45954132080078,47.56847953796387,47.65980339050293,47.76070761680603,47.860949993133545,47.96102738380432,48.0608868598938,48.16973042488098,48.26136255264282,48.3635528087616,48.46225309371948,48.56248378753662,48.66207695007324,48.761430740356445,48.86470699310303,48.96166253089905,49.06158661842346,49.16189455986023,49.26649451255798,49.362058877944946,49.46488690376282,49.56207346916199,49.6636598110199,49.763437032699585,49.86710548400879,49.966618061065674,50.06493520736694,50.16594886779785,50.263988971710205,50.36377811431885,50.46897530555725,50.56509709358215,50.663946866989136,50.76420331001282,50.865792751312256,50.96528196334839,51.06493139266968,51.16599106788635,51.264713525772095,51.36483836174011,51.466283082962036,51.56488108634949,51.66627740859985,51.76533913612366,51.86521315574646,51.965941190719604,52.06543946266174,52.165924072265625,52.267369985580444,52.36658000946045,52.46628165245056,52.5660502910614,52.668837785720825,52.765990257263184,52.865904331207275,52.967106342315674,53.07641339302063,53.16690969467163,53.270140647888184,53.36931872367859,53.46704411506653,53.56643581390381,53.6758246421814,53.76804304122925,53.86708450317383,53.967583656311035,54.06740736961365,54.168564558029175,54.26759457588196,54.36831283569336,54.46784591674805,54.56783151626587,54.667638301849365,54.768479108810425,54.86789917945862,54.96787142753601,55.067992210388184,55.171016454696655,55.269285917282104,55.36903381347656,55.468350648880005,55.570322036743164,55.67030596733093,55.77029013633728,55.87521815299988,55.97042274475098,56.07261395454407,56.17239284515381,56.27244687080383,56.37264847755432,56.48825979232788,56.57243776321411,56.68163299560547,56.77378845214844,56.87340188026428,56.97399425506592,57.073071241378784,57.17336463928223,57.2733998298645,57.37728786468506,57.47473859786987,57.57391428947449,57.6785364151001,57.77704167366028,57.87393260002136,57.975202560424805,58.07394576072693,58.174970388412476,58.27534246444702,58.37405180931091,58.49008274078369,58.57447624206543,58.674320459365845,58.77466368675232,58.87987661361694,58.974895000457764,59.074692249298096,59.17652249336243,59.27519130706787,59.376720666885376,59.48024845123291,59.57504415512085,59.67632222175598,59.775283336639404,59.87633013725281,59.9767279624939,60.07995295524597,60.176642417907715,60.27666091918945,60.3757860660553,60.475781202316284,60.57788562774658,60.676915884017944,60.78098464012146,60.878838777542114,60.9773690700531,61.07639503479004,61.17762112617493,61.27669715881348,61.378113746643066,61.481345415115356,61.57789969444275,61.68140506744385,61.77827453613281,61.87871265411377,61.97990441322327,62.08743119239807,62.17740345001221,62.28377366065979,62.377360105514526,62.48196077346802,62.577552795410156,62.67955780029297,62.77953815460205,62.88564467430115,62.97774291038513,63.07864475250244,63.179381370544434,63.27934241294861,63.38161492347717,63.49756383895874,63.578343868255615,63.68144154548645,63.7796425819397,63.882205963134766,63.982651472091675,64.08018064498901,64.18289732933044,64.28019547462463,64.38835501670837,64.47988796234131,64.58415126800537,64.681893825531,64.79290437698364,64.88766360282898,64.98255801200867,65.08255767822266,65.18253898620605,65.28386378288269,65.38267874717712,65.48333883285522,65.58333897590637,65.68291187286377,65.78422260284424,65.88682770729065,65.98398804664612,66.08520674705505,66.18757677078247,66.2843267917633,66.38681292533875,66.48536348342896,66.59144806861877,66.70076823234558,66.78522777557373,66.8854010105133,66.99277520179749,67.09571313858032,67.18712520599365,67.29626321792603,67.38522362709045,67.48535013198853,67.60217905044556,67.6925277709961,67.79683327674866,67.89559507369995,67.99541354179382,68.09643268585205,68.19452285766602,68.29497075080872,68.3873176574707,68.48790216445923,68.6015555858612,68.68706679344177,68.81795263290405],\"y\":[90.0,90.0,90.0,90.0,90.0,90.0,90.0,90.0,90.0,90.0,90.0,90.0,90.0,90.0,90.0,90.0,90.0,90.0,90.0,90.0,90.0,90.0,90.0,90.0,90.0,90.0,90.0,90.0,90.0,90.0,90.0,90.0,90.0,90.0,90.0,90.0,90.0,90.0,90.0,90.0,90.0,90.0,90.0,90.0,90.0,90.0,90.0,90.0,90.0,90.0,90.0,90.0,90.0,90.0,90.0,90.0,90.0,90.0,90.0,90.0,90.0,90.0,90.0,90.0,90.0,90.0,90.0,90.0,90.0,90.0,90.0,90.0,90.0,90.0,90.0,90.0,90.0,90.0,90.0,90.0,90.0,90.0,90.0,90.0,90.0,90.0,90.0,90.0,90.0,90.0,90.0,90.0,90.0,90.0,90.0,90.0,90.0,90.0,90.0,90.0,90.0,90.0,90.0,90.0,90.0,90.0,90.0,90.0,90.0,90.0,90.0,90.0,90.0,90.0,90.0,90.0,90.0,90.0,90.0,90.0,90.0,90.0,90.0,90.0,90.0,90.0,90.0,90.0,90.0,90.0,90.0,90.0,90.0,90.0,90.0,90.0,90.0,90.0,90.0,90.0,90.0,90.0,90.0,90.0,90.0,90.0,90.0,90.0,90.0,90.0,90.0,90.0,90.0,90.0,90.0,90.0,90.0,90.0,90.0,90.0,90.0,90.0,90.0,90.0,90.0,90.0,90.0,90.0,90.0,90.0,90.0,90.0,90.0,90.0,90.0,90.0,90.0,90.0,90.0,90.0,90.0,90.0,90.0,90.0,90.0,90.0,90.0,90.0,90.0,90.0,90.0,90.0,90.0,90.0,90.0,90.0,90.0,90.0,90.0,90.0,90.0,90.0,90.0,90.0,90.0,90.0,90.0,90.0,90.0,90.0,90.0,90.0,90.0,90.0,90.0,90.0,90.0,90.0,90.0,90.0,90.0,90.0,90.0,90.0,90.0,90.0,90.0,90.0,90.0,90.0,90.0,90.0,90.0,90.0,90.0,90.0,90.0,90.0,90.0,90.0,90.0,90.0,90.0,90.0,90.0,90.0,90.0,90.0,90.0,90.0,90.0,90.0,90.0,90.0,90.0,90.0,90.0,90.0,90.0,90.0,90.0,90.0,90.0,90.0,90.0,90.0,90.0,90.0,90.0,90.0,90.0,90.0,90.0,90.0,90.0,90.0,90.0,90.0,90.0,90.0,90.0,90.0,90.0,90.0,90.0,90.0,90.0,90.0,90.0,90.0,90.0,90.0,90.0,90.0,90.0,90.0,90.0,90.0,90.0,90.0,90.0,90.0,90.0,90.0,90.0,90.0,90.0,90.0,90.0,90.0,90.0,90.0,90.0,90.0,90.0,90.0,90.0,90.0,90.0,90.0,90.0,90.0,90.0,90.0,90.0,90.0,90.0,90.0,90.0,90.0,90.0,90.0,90.0,90.0,90.0,90.0,90.0,90.0,90.0,90.0,90.0,90.0,90.0,90.0,90.0,90.0,90.0,90.0,90.0,90.0,90.0,90.0,90.0,90.0,90.0,90.0,90.0,90.0,90.0,90.0,90.0,90.0,90.0,90.0,90.0,90.0,90.0,90.0,90.0,90.0,90.0,90.0,90.0,90.0,90.0,90.0,90.0,90.0,90.0,90.0,90.0,90.0,90.0,90.0,90.0,90.0,90.0,90.0,90.0,90.0,90.0,90.0,90.0,90.0,90.0,90.0,90.0,90.0,90.0,90.0,90.0,90.0,90.0,90.0,90.0,90.0,90.0,90.0,90.0,90.0,90.0,90.0,90.0,90.0,90.0,90.0,90.0,90.0,90.0,90.0,90.0,90.0,90.0,90.0,90.0,90.0,90.0,90.0,90.0,90.0,90.0,90.0,90.0,90.0,90.0,90.0,90.0,90.0,90.0,90.0,90.0,90.0,90.0,90.0,90.0],\"type\":\"scatter\"}],                        {\"autosize\":false,\"font\":{\"color\":\"black\",\"family\":\"Courier New, monospace\",\"size\":22},\"height\":600,\"template\":{\"data\":{\"barpolar\":[{\"marker\":{\"line\":{\"color\":\"#E5ECF6\",\"width\":0.5},\"pattern\":{\"fillmode\":\"overlay\",\"size\":10,\"solidity\":0.2}},\"type\":\"barpolar\"}],\"bar\":[{\"error_x\":{\"color\":\"#2a3f5f\"},\"error_y\":{\"color\":\"#2a3f5f\"},\"marker\":{\"line\":{\"color\":\"#E5ECF6\",\"width\":0.5},\"pattern\":{\"fillmode\":\"overlay\",\"size\":10,\"solidity\":0.2}},\"type\":\"bar\"}],\"carpet\":[{\"aaxis\":{\"endlinecolor\":\"#2a3f5f\",\"gridcolor\":\"white\",\"linecolor\":\"white\",\"minorgridcolor\":\"white\",\"startlinecolor\":\"#2a3f5f\"},\"baxis\":{\"endlinecolor\":\"#2a3f5f\",\"gridcolor\":\"white\",\"linecolor\":\"white\",\"minorgridcolor\":\"white\",\"startlinecolor\":\"#2a3f5f\"},\"type\":\"carpet\"}],\"choropleth\":[{\"colorbar\":{\"outlinewidth\":0,\"ticks\":\"\"},\"type\":\"choropleth\"}],\"contourcarpet\":[{\"colorbar\":{\"outlinewidth\":0,\"ticks\":\"\"},\"type\":\"contourcarpet\"}],\"contour\":[{\"colorbar\":{\"outlinewidth\":0,\"ticks\":\"\"},\"colorscale\":[[0.0,\"#0d0887\"],[0.1111111111111111,\"#46039f\"],[0.2222222222222222,\"#7201a8\"],[0.3333333333333333,\"#9c179e\"],[0.4444444444444444,\"#bd3786\"],[0.5555555555555556,\"#d8576b\"],[0.6666666666666666,\"#ed7953\"],[0.7777777777777778,\"#fb9f3a\"],[0.8888888888888888,\"#fdca26\"],[1.0,\"#f0f921\"]],\"type\":\"contour\"}],\"heatmapgl\":[{\"colorbar\":{\"outlinewidth\":0,\"ticks\":\"\"},\"colorscale\":[[0.0,\"#0d0887\"],[0.1111111111111111,\"#46039f\"],[0.2222222222222222,\"#7201a8\"],[0.3333333333333333,\"#9c179e\"],[0.4444444444444444,\"#bd3786\"],[0.5555555555555556,\"#d8576b\"],[0.6666666666666666,\"#ed7953\"],[0.7777777777777778,\"#fb9f3a\"],[0.8888888888888888,\"#fdca26\"],[1.0,\"#f0f921\"]],\"type\":\"heatmapgl\"}],\"heatmap\":[{\"colorbar\":{\"outlinewidth\":0,\"ticks\":\"\"},\"colorscale\":[[0.0,\"#0d0887\"],[0.1111111111111111,\"#46039f\"],[0.2222222222222222,\"#7201a8\"],[0.3333333333333333,\"#9c179e\"],[0.4444444444444444,\"#bd3786\"],[0.5555555555555556,\"#d8576b\"],[0.6666666666666666,\"#ed7953\"],[0.7777777777777778,\"#fb9f3a\"],[0.8888888888888888,\"#fdca26\"],[1.0,\"#f0f921\"]],\"type\":\"heatmap\"}],\"histogram2dcontour\":[{\"colorbar\":{\"outlinewidth\":0,\"ticks\":\"\"},\"colorscale\":[[0.0,\"#0d0887\"],[0.1111111111111111,\"#46039f\"],[0.2222222222222222,\"#7201a8\"],[0.3333333333333333,\"#9c179e\"],[0.4444444444444444,\"#bd3786\"],[0.5555555555555556,\"#d8576b\"],[0.6666666666666666,\"#ed7953\"],[0.7777777777777778,\"#fb9f3a\"],[0.8888888888888888,\"#fdca26\"],[1.0,\"#f0f921\"]],\"type\":\"histogram2dcontour\"}],\"histogram2d\":[{\"colorbar\":{\"outlinewidth\":0,\"ticks\":\"\"},\"colorscale\":[[0.0,\"#0d0887\"],[0.1111111111111111,\"#46039f\"],[0.2222222222222222,\"#7201a8\"],[0.3333333333333333,\"#9c179e\"],[0.4444444444444444,\"#bd3786\"],[0.5555555555555556,\"#d8576b\"],[0.6666666666666666,\"#ed7953\"],[0.7777777777777778,\"#fb9f3a\"],[0.8888888888888888,\"#fdca26\"],[1.0,\"#f0f921\"]],\"type\":\"histogram2d\"}],\"histogram\":[{\"marker\":{\"pattern\":{\"fillmode\":\"overlay\",\"size\":10,\"solidity\":0.2}},\"type\":\"histogram\"}],\"mesh3d\":[{\"colorbar\":{\"outlinewidth\":0,\"ticks\":\"\"},\"type\":\"mesh3d\"}],\"parcoords\":[{\"line\":{\"colorbar\":{\"outlinewidth\":0,\"ticks\":\"\"}},\"type\":\"parcoords\"}],\"pie\":[{\"automargin\":true,\"type\":\"pie\"}],\"scatter3d\":[{\"line\":{\"colorbar\":{\"outlinewidth\":0,\"ticks\":\"\"}},\"marker\":{\"colorbar\":{\"outlinewidth\":0,\"ticks\":\"\"}},\"type\":\"scatter3d\"}],\"scattercarpet\":[{\"marker\":{\"colorbar\":{\"outlinewidth\":0,\"ticks\":\"\"}},\"type\":\"scattercarpet\"}],\"scattergeo\":[{\"marker\":{\"colorbar\":{\"outlinewidth\":0,\"ticks\":\"\"}},\"type\":\"scattergeo\"}],\"scattergl\":[{\"marker\":{\"colorbar\":{\"outlinewidth\":0,\"ticks\":\"\"}},\"type\":\"scattergl\"}],\"scattermapbox\":[{\"marker\":{\"colorbar\":{\"outlinewidth\":0,\"ticks\":\"\"}},\"type\":\"scattermapbox\"}],\"scatterpolargl\":[{\"marker\":{\"colorbar\":{\"outlinewidth\":0,\"ticks\":\"\"}},\"type\":\"scatterpolargl\"}],\"scatterpolar\":[{\"marker\":{\"colorbar\":{\"outlinewidth\":0,\"ticks\":\"\"}},\"type\":\"scatterpolar\"}],\"scatter\":[{\"fillpattern\":{\"fillmode\":\"overlay\",\"size\":10,\"solidity\":0.2},\"type\":\"scatter\"}],\"scatterternary\":[{\"marker\":{\"colorbar\":{\"outlinewidth\":0,\"ticks\":\"\"}},\"type\":\"scatterternary\"}],\"surface\":[{\"colorbar\":{\"outlinewidth\":0,\"ticks\":\"\"},\"colorscale\":[[0.0,\"#0d0887\"],[0.1111111111111111,\"#46039f\"],[0.2222222222222222,\"#7201a8\"],[0.3333333333333333,\"#9c179e\"],[0.4444444444444444,\"#bd3786\"],[0.5555555555555556,\"#d8576b\"],[0.6666666666666666,\"#ed7953\"],[0.7777777777777778,\"#fb9f3a\"],[0.8888888888888888,\"#fdca26\"],[1.0,\"#f0f921\"]],\"type\":\"surface\"}],\"table\":[{\"cells\":{\"fill\":{\"color\":\"#EBF0F8\"},\"line\":{\"color\":\"white\"}},\"header\":{\"fill\":{\"color\":\"#C8D4E3\"},\"line\":{\"color\":\"white\"}},\"type\":\"table\"}]},\"layout\":{\"annotationdefaults\":{\"arrowcolor\":\"#2a3f5f\",\"arrowhead\":0,\"arrowwidth\":1},\"autotypenumbers\":\"strict\",\"coloraxis\":{\"colorbar\":{\"outlinewidth\":0,\"ticks\":\"\"}},\"colorscale\":{\"diverging\":[[0,\"#8e0152\"],[0.1,\"#c51b7d\"],[0.2,\"#de77ae\"],[0.3,\"#f1b6da\"],[0.4,\"#fde0ef\"],[0.5,\"#f7f7f7\"],[0.6,\"#e6f5d0\"],[0.7,\"#b8e186\"],[0.8,\"#7fbc41\"],[0.9,\"#4d9221\"],[1,\"#276419\"]],\"sequential\":[[0.0,\"#0d0887\"],[0.1111111111111111,\"#46039f\"],[0.2222222222222222,\"#7201a8\"],[0.3333333333333333,\"#9c179e\"],[0.4444444444444444,\"#bd3786\"],[0.5555555555555556,\"#d8576b\"],[0.6666666666666666,\"#ed7953\"],[0.7777777777777778,\"#fb9f3a\"],[0.8888888888888888,\"#fdca26\"],[1.0,\"#f0f921\"]],\"sequentialminus\":[[0.0,\"#0d0887\"],[0.1111111111111111,\"#46039f\"],[0.2222222222222222,\"#7201a8\"],[0.3333333333333333,\"#9c179e\"],[0.4444444444444444,\"#bd3786\"],[0.5555555555555556,\"#d8576b\"],[0.6666666666666666,\"#ed7953\"],[0.7777777777777778,\"#fb9f3a\"],[0.8888888888888888,\"#fdca26\"],[1.0,\"#f0f921\"]]},\"colorway\":[\"#636efa\",\"#EF553B\",\"#00cc96\",\"#ab63fa\",\"#FFA15A\",\"#19d3f3\",\"#FF6692\",\"#B6E880\",\"#FF97FF\",\"#FECB52\"],\"font\":{\"color\":\"#2a3f5f\"},\"geo\":{\"bgcolor\":\"white\",\"lakecolor\":\"white\",\"landcolor\":\"#E5ECF6\",\"showlakes\":true,\"showland\":true,\"subunitcolor\":\"white\"},\"hoverlabel\":{\"align\":\"left\"},\"hovermode\":\"closest\",\"mapbox\":{\"style\":\"light\"},\"paper_bgcolor\":\"white\",\"plot_bgcolor\":\"#E5ECF6\",\"polar\":{\"angularaxis\":{\"gridcolor\":\"white\",\"linecolor\":\"white\",\"ticks\":\"\"},\"bgcolor\":\"#E5ECF6\",\"radialaxis\":{\"gridcolor\":\"white\",\"linecolor\":\"white\",\"ticks\":\"\"}},\"scene\":{\"xaxis\":{\"backgroundcolor\":\"#E5ECF6\",\"gridcolor\":\"white\",\"gridwidth\":2,\"linecolor\":\"white\",\"showbackground\":true,\"ticks\":\"\",\"zerolinecolor\":\"white\"},\"yaxis\":{\"backgroundcolor\":\"#E5ECF6\",\"gridcolor\":\"white\",\"gridwidth\":2,\"linecolor\":\"white\",\"showbackground\":true,\"ticks\":\"\",\"zerolinecolor\":\"white\"},\"zaxis\":{\"backgroundcolor\":\"#E5ECF6\",\"gridcolor\":\"white\",\"gridwidth\":2,\"linecolor\":\"white\",\"showbackground\":true,\"ticks\":\"\",\"zerolinecolor\":\"white\"}},\"shapedefaults\":{\"line\":{\"color\":\"#2a3f5f\"}},\"ternary\":{\"aaxis\":{\"gridcolor\":\"white\",\"linecolor\":\"white\",\"ticks\":\"\"},\"baxis\":{\"gridcolor\":\"white\",\"linecolor\":\"white\",\"ticks\":\"\"},\"bgcolor\":\"#E5ECF6\",\"caxis\":{\"gridcolor\":\"white\",\"linecolor\":\"white\",\"ticks\":\"\"}},\"title\":{\"x\":0.05},\"xaxis\":{\"automargin\":true,\"gridcolor\":\"white\",\"linecolor\":\"white\",\"ticks\":\"\",\"title\":{\"standoff\":15},\"zerolinecolor\":\"white\",\"zerolinewidth\":2},\"yaxis\":{\"automargin\":true,\"gridcolor\":\"white\",\"linecolor\":\"white\",\"ticks\":\"\",\"title\":{\"standoff\":15},\"zerolinecolor\":\"white\",\"zerolinewidth\":2}}},\"title\":{\"text\":\"Range of Motion hipRight\"},\"width\":750,\"xaxis\":{\"title\":{\"font\":{\"color\":\"#7f7f7f\",\"family\":\"Courier New, monospace\",\"size\":18},\"text\":\"time [s]\"}},\"yaxis\":{\"title\":{\"font\":{\"color\":\"#7f7f7f\",\"family\":\"Courier New, monospace\",\"size\":18},\"text\":\"ROM [degrees]\"}}},                        {\"responsive\": true}                    ).then(function(){\n",
       "                            \n",
       "var gd = document.getElementById('158f081d-a87e-41c6-a4e3-cc3e60fafe2a');\n",
       "var x = new MutationObserver(function (mutations, observer) {{\n",
       "        var display = window.getComputedStyle(gd).display;\n",
       "        if (!display || display === 'none') {{\n",
       "            console.log([gd, 'removed!']);\n",
       "            Plotly.purge(gd);\n",
       "            observer.disconnect();\n",
       "        }}\n",
       "}});\n",
       "\n",
       "// Listen for the removal of the full notebook cells\n",
       "var notebookContainer = gd.closest('#notebook-container');\n",
       "if (notebookContainer) {{\n",
       "    x.observe(notebookContainer, {childList: true});\n",
       "}}\n",
       "\n",
       "// Listen for the clearing of the current output cell\n",
       "var outputEl = gd.closest('.output');\n",
       "if (outputEl) {{\n",
       "    x.observe(outputEl, {childList: true});\n",
       "}}\n",
       "\n",
       "                        })                };                });            </script>        </div>"
      ]
     },
     "metadata": {},
     "output_type": "display_data"
    },
    {
     "data": {
      "application/vnd.plotly.v1+json": {
       "config": {
        "linkText": "Export to plot.ly",
        "plotlyServerURL": "https://plot.ly",
        "showLink": false
       },
       "data": [
        {
         "line": {
          "color": "blue",
          "width": 3
         },
         "mode": "lines",
         "name": "Real trend",
         "type": "scatter",
         "x": [
          24.233115196228027,
          24.332800149917603,
          24.43332529067993,
          24.533143520355225,
          24.63327145576477,
          24.741224765777588,
          24.83667492866516,
          24.933400630950928,
          25.03368902206421,
          25.136213779449463,
          25.236974239349365,
          25.33634853363037,
          25.436240673065186,
          25.534266233444214,
          25.660048961639404,
          25.73537588119507,
          25.837066650390625,
          25.93694543838501,
          26.037134408950806,
          26.135271310806274,
          26.238525390625,
          26.33588480949402,
          26.436264991760254,
          26.5361270904541,
          26.636869430541992,
          26.736798763275146,
          26.83656358718872,
          26.936131238937378,
          27.037917852401733,
          27.136846780776978,
          27.236833333969116,
          27.337327480316162,
          27.439617395401,
          27.538838148117065,
          27.638164520263672,
          27.749006986618042,
          27.83854031562805,
          27.9455463886261,
          28.040802001953125,
          28.139883041381836,
          28.239752769470215,
          28.339375257492065,
          28.439257621765137,
          28.540772676467896,
          28.64122200012207,
          28.740676641464233,
          28.842568397521973,
          28.945440530776978,
          29.04046893119812,
          29.14072895050049,
          29.241145849227905,
          29.340039253234863,
          29.439839601516724,
          29.54038095474243,
          29.63996434211731,
          29.739933252334595,
          29.846254587173462,
          29.94089412689209,
          30.04071307182312,
          30.144608736038208,
          30.240516185760498,
          30.34049105644226,
          30.44564700126648,
          30.55128312110901,
          30.640730619430542,
          30.742594957351685,
          30.84181499481201,
          30.943175554275513,
          31.05737829208374,
          31.142616987228394,
          31.24183678627014,
          31.342342376708984,
          31.44289994239807,
          31.5424702167511,
          31.643161296844482,
          31.74295926094055,
          31.84236192703247,
          31.94386625289917,
          32.04418087005615,
          32.14330244064331,
          32.24445056915283,
          32.343778133392334,
          32.449652910232544,
          32.544663190841675,
          32.64774417877197,
          32.744690895080566,
          32.84504675865173,
          32.944618463516235,
          33.05396890640259,
          33.143632888793945,
          33.24526834487915,
          33.345051288604736,
          33.44400191307068,
          33.55854344367981,
          33.64385724067688,
          33.74412751197815,
          33.84885501861572,
          33.94433307647705,
          34.044235944747925,
          34.14453125,
          34.24451446533203,
          34.34574580192566,
          34.448670625686646,
          34.54504442214966,
          34.64591407775879,
          34.744818449020386,
          34.84493112564087,
          34.945334911346436,
          35.049182176589966,
          35.146583557128906,
          35.24837875366211,
          35.34727358818054,
          35.45433211326599,
          35.545390129089355,
          35.656078577041626,
          35.746832847595215,
          35.8473219871521,
          35.94709372520447,
          36.0468065738678,
          36.14607119560242,
          36.24921727180481,
          36.34639763832092,
          36.454500675201416,
          36.54650640487671,
          36.65474462509155,
          36.749191999435425,
          36.85453176498413,
          36.95210886001587,
          37.047197103500366,
          37.14702796936035,
          37.24901580810547,
          37.34686207771301,
          37.447104692459106,
          37.54842662811279,
          37.64687538146973,
          37.74915027618408,
          37.84915614128113,
          37.948790311813354,
          38.04765033721924,
          38.14885377883911,
          38.24823212623596,
          38.35143542289734,
          38.45007371902466,
          38.55542993545532,
          38.65315294265747,
          38.75039100646973,
          38.85027742385864,
          38.950366497039795,
          39.05031752586365,
          39.150487184524536,
          39.25821256637573,
          39.35039734840393,
          39.45201921463013,
          39.55043816566467,
          39.650450229644775,
          39.75240468978882,
          39.85030198097229,
          39.9519202709198,
          40.05151343345642,
          40.15075707435608,
          40.253804206848145,
          40.36140036582947,
          40.450860261917114,
          40.55409598350525,
          40.65131616592407,
          40.75186371803284,
          40.85239887237549,
          40.95355796813965,
          41.05352592468262,
          41.16284155845642,
          41.252413749694824,
          41.3540472984314,
          41.455708026885986,
          41.55463624000549,
          41.652626037597656,
          41.75363826751709,
          41.855064392089844,
          41.953187227249146,
          42.05310916900635,
          42.15421986579895,
          42.25406765937805,
          42.35616064071655,
          42.45375347137451,
          42.55452561378479,
          42.65626549720764,
          42.7549045085907,
          42.85430359840393,
          42.954716205596924,
          43.0550434589386,
          43.15387988090515,
          43.26676344871521,
          43.35433602333069,
          43.45442318916321,
          43.55426049232483,
          43.65690588951111,
          43.754761695861816,
          43.85465598106384,
          43.95766234397888,
          44.05765414237976,
          44.15516233444214,
          44.255306243896484,
          44.35650944709778,
          44.4564106464386,
          44.558196783065796,
          44.65524959564209,
          44.75663423538208,
          44.855653285980225,
          44.956889152526855,
          45.056891202926636,
          45.15617251396179,
          45.259347915649414,
          45.35649275779724,
          45.4566650390625,
          45.55965876579285,
          45.6593382358551,
          45.756914138793945,
          45.8582808971405,
          45.95721650123596,
          46.058391094207764,
          46.157426595687866,
          46.258829832077026,
          46.36005163192749,
          46.45975947380066,
          46.55997109413147,
          46.66822338104248,
          46.7590754032135,
          46.859297037124634,
          46.959229946136475,
          47.05930709838867,
          47.160308599472046,
          47.25964903831482,
          47.35964608192444,
          47.45954132080078,
          47.56847953796387,
          47.65980339050293,
          47.76070761680603,
          47.860949993133545,
          47.96102738380432,
          48.0608868598938,
          48.16973042488098,
          48.26136255264282,
          48.3635528087616,
          48.46225309371948,
          48.56248378753662,
          48.66207695007324,
          48.761430740356445,
          48.86470699310303,
          48.96166253089905,
          49.06158661842346,
          49.16189455986023,
          49.26649451255798,
          49.362058877944946,
          49.46488690376282,
          49.56207346916199,
          49.6636598110199,
          49.763437032699585,
          49.86710548400879,
          49.966618061065674,
          50.06493520736694,
          50.16594886779785,
          50.263988971710205,
          50.36377811431885,
          50.46897530555725,
          50.56509709358215,
          50.663946866989136,
          50.76420331001282,
          50.865792751312256,
          50.96528196334839,
          51.06493139266968,
          51.16599106788635,
          51.264713525772095,
          51.36483836174011,
          51.466283082962036,
          51.56488108634949,
          51.66627740859985,
          51.76533913612366,
          51.86521315574646,
          51.965941190719604,
          52.06543946266174,
          52.165924072265625,
          52.267369985580444,
          52.36658000946045,
          52.46628165245056,
          52.5660502910614,
          52.668837785720825,
          52.765990257263184,
          52.865904331207275,
          52.967106342315674,
          53.07641339302063,
          53.16690969467163,
          53.270140647888184,
          53.36931872367859,
          53.46704411506653,
          53.56643581390381,
          53.6758246421814,
          53.76804304122925,
          53.86708450317383,
          53.967583656311035,
          54.06740736961365,
          54.168564558029175,
          54.26759457588196,
          54.36831283569336,
          54.46784591674805,
          54.56783151626587,
          54.667638301849365,
          54.768479108810425,
          54.86789917945862,
          54.96787142753601,
          55.067992210388184,
          55.171016454696655,
          55.269285917282104,
          55.36903381347656,
          55.468350648880005,
          55.570322036743164,
          55.67030596733093,
          55.77029013633728,
          55.87521815299988,
          55.97042274475098,
          56.07261395454407,
          56.17239284515381,
          56.27244687080383,
          56.37264847755432,
          56.48825979232788,
          56.57243776321411,
          56.68163299560547,
          56.77378845214844,
          56.87340188026428,
          56.97399425506592,
          57.073071241378784,
          57.17336463928223,
          57.2733998298645,
          57.37728786468506,
          57.47473859786987,
          57.57391428947449,
          57.6785364151001,
          57.77704167366028,
          57.87393260002136,
          57.975202560424805,
          58.07394576072693,
          58.174970388412476,
          58.27534246444702,
          58.37405180931091,
          58.49008274078369,
          58.57447624206543,
          58.674320459365845,
          58.77466368675232,
          58.87987661361694,
          58.974895000457764,
          59.074692249298096,
          59.17652249336243,
          59.27519130706787,
          59.376720666885376,
          59.48024845123291,
          59.57504415512085,
          59.67632222175598,
          59.775283336639404,
          59.87633013725281,
          59.9767279624939,
          60.07995295524597,
          60.176642417907715,
          60.27666091918945,
          60.3757860660553,
          60.475781202316284,
          60.57788562774658,
          60.676915884017944,
          60.78098464012146,
          60.878838777542114,
          60.9773690700531,
          61.07639503479004,
          61.17762112617493,
          61.27669715881348,
          61.378113746643066,
          61.481345415115356,
          61.57789969444275,
          61.68140506744385,
          61.77827453613281,
          61.87871265411377,
          61.97990441322327,
          62.08743119239807,
          62.17740345001221,
          62.28377366065979,
          62.377360105514526,
          62.48196077346802,
          62.577552795410156,
          62.67955780029297,
          62.77953815460205,
          62.88564467430115,
          62.97774291038513,
          63.07864475250244,
          63.179381370544434,
          63.27934241294861,
          63.38161492347717,
          63.49756383895874,
          63.578343868255615,
          63.68144154548645,
          63.7796425819397,
          63.882205963134766,
          63.982651472091675,
          64.08018064498901,
          64.18289732933044,
          64.28019547462463,
          64.38835501670837,
          64.47988796234131,
          64.58415126800537,
          64.681893825531,
          64.79290437698364,
          64.88766360282898,
          64.98255801200867,
          65.08255767822266,
          65.18253898620605,
          65.28386378288269,
          65.38267874717712,
          65.48333883285522,
          65.58333897590637,
          65.68291187286377,
          65.78422260284424,
          65.88682770729065,
          65.98398804664612,
          66.08520674705505,
          66.18757677078247,
          66.2843267917633,
          66.38681292533875,
          66.48536348342896,
          66.59144806861877,
          66.70076823234558,
          66.78522777557373,
          66.8854010105133,
          66.99277520179749,
          67.09571313858032,
          67.18712520599365,
          67.29626321792603,
          67.38522362709045,
          67.48535013198853,
          67.60217905044556,
          67.6925277709961,
          67.79683327674866,
          67.89559507369995,
          67.99541354179382,
          68.09643268585205,
          68.19452285766602,
          68.29497075080872,
          68.3873176574707,
          68.48790216445923,
          68.6015555858612,
          68.68706679344177,
          68.81795263290405
         ],
         "y": [
          68.86357939565185,
          69.42967377695385,
          70.1463122871294,
          70.1463122871294,
          69.71815465982989,
          69.03057068926195,
          69.03057068926195,
          69.07028076974629,
          68.70727696068552,
          68.70727696068552,
          68.5289676547106,
          69.22920504244806,
          69.22920504244806,
          71.23764953665768,
          71.64766113394168,
          71.64766113394168,
          72.2308431249179,
          71.56178128456607,
          71.56178128456607,
          70.19354349195778,
          68.76163501980736,
          68.16070279623071,
          68.16070279623071,
          68.35901315391644,
          68.35901315391644,
          68.2918077687978,
          68.09084419434153,
          68.16206084236885,
          68.16206084236885,
          68.11330726810947,
          68.11330726810947,
          67.72444992311654,
          67.48416763743224,
          67.61238143999604,
          67.61238143999604,
          67.80466402392098,
          67.63466314228776,
          67.63466314228776,
          68.17072654296703,
          68.17072654296703,
          68.46799926005014,
          68.37076422507788,
          68.39572176877242,
          68.39572176877242,
          67.80170979754018,
          67.80170979754018,
          67.74769890747567,
          67.51945300404316,
          67.80260796837095,
          67.80260796837095,
          68.13677086293953,
          68.34583011083595,
          68.34583011083595,
          68.47184919800182,
          68.47184919800182,
          68.22765927804271,
          68.10408288132054,
          67.90782326929651,
          67.90782326929651,
          67.85287697749682,
          67.92671724960722,
          67.91425128896715,
          67.91425128896715,
          67.9714864654738,
          67.9714864654738,
          68.14319542099621,
          68.07442830080613,
          67.87114279946776,
          67.87114279946776,
          67.90326426310698,
          67.77286768351055,
          67.77286768351055,
          67.94720867441988,
          67.94067228383344,
          67.94067228383344,
          67.75578164993968,
          67.7741511575707,
          67.7741511575707,
          67.8498908447616,
          67.8498908447616,
          68.09925890694197,
          68.22568905847183,
          67.92066543914605,
          67.92066543914605,
          67.94345067872118,
          67.76015762477438,
          67.76015762477438,
          67.98678507391239,
          68.23121625470988,
          68.23121625470988,
          67.95975751980197,
          67.855936107599,
          67.855936107599,
          68.26485030653133,
          70.25200619582247,
          70.25200619582247,
          72.90373978224011,
          72.90373978224011,
          71.98121198726463,
          71.47528966696017,
          71.84078357623852,
          71.84078357623852,
          73.2278158321335,
          71.41220801508558,
          71.41220801508558,
          73.22371439668001,
          71.36487475703723,
          71.36487475703723,
          68.96548845830208,
          67.81323175798887,
          67.81323175798887,
          67.96354639094145,
          67.89392081495299,
          67.58083841349264,
          67.58083841349264,
          67.56298153612339,
          67.56298153612339,
          67.29267718855719,
          67.26808776572273,
          67.2768474703859,
          67.2768474703859,
          67.24362357721124,
          67.13034727949602,
          67.13034727949602,
          66.94086560210135,
          67.11509173711474,
          67.11509173711474,
          67.35944188823129,
          67.66429592853798,
          67.66429592853798,
          68.0526860874382,
          68.33350171363274,
          68.33762563294812,
          68.33762563294812,
          68.24684360243533,
          68.24684360243533,
          67.97881537541026,
          67.87560405129237,
          67.87560405129237,
          67.78426118339499,
          67.69621840042254,
          67.4943198126258,
          67.4943198126258,
          67.71373635642243,
          67.71373635642243,
          67.61570878480649,
          67.66353501808,
          67.69809051076217,
          67.69809051076217,
          67.5735898531285,
          67.5735898531285,
          67.64916658770794,
          67.51459819246786,
          67.51459819246786,
          67.26072217288163,
          67.48831069109828,
          67.55643612873854,
          67.55643612873854,
          67.58486673869011,
          67.72129686440319,
          67.72129686440319,
          67.64352847659968,
          67.64566059285637,
          67.64566059285637,
          67.5222017728257,
          67.53188446190097,
          67.53188446190097,
          67.57645763853438,
          67.4832917920192,
          67.4832917920192,
          67.76225173323535,
          67.46283737146506,
          67.46283737146506,
          66.82302261286777,
          66.99452077785368,
          66.99452077785368,
          65.61493103201659,
          65.13246475043796,
          65.13246475043796,
          66.6739142781646,
          68.38698308950173,
          68.38698308950173,
          67.75044203120278,
          66.63582572097131,
          66.63582572097131,
          67.0644551839873,
          67.464734959825,
          67.464734959825,
          67.75871920233747,
          67.6686530913942,
          67.81692739486475,
          67.81692739486475,
          67.76774907914044,
          66.96898878725777,
          66.96898878725777,
          66.51374292853569,
          66.51374292853569,
          66.50969023850386,
          66.74059239382076,
          66.74059239382076,
          66.9649880575666,
          67.23075376121218,
          67.23075376121218,
          67.60881714992225,
          68.29201940496849,
          68.33922829430989,
          68.33922829430989,
          68.26920972209794,
          68.26920972209794,
          68.36337687858058,
          68.50118503619896,
          68.3380791069713,
          68.3380791069713,
          68.4767621594438,
          67.72034840009943,
          67.72034840009943,
          67.58717409446628,
          68.07864826866283,
          68.07864826866283,
          68.65954169434879,
          69.09280586212078,
          69.09280586212078,
          68.96063523008178,
          68.96063523008178,
          68.26202050702858,
          68.26202050702858,
          68.24222134256839,
          67.89418629694953,
          67.89418629694953,
          69.40026617804922,
          70.0272793543327,
          70.0272793543327,
          70.77631916749867,
          70.37982259190515,
          70.37982259190515,
          68.68797425402312,
          69.09581850319418,
          69.09581850319418,
          69.01425825290357,
          69.09795441614907,
          69.09795441614907,
          68.91899402121926,
          68.47150568472141,
          68.47150568472141,
          66.97488508718288,
          66.92922526724696,
          66.92922526724696,
          69.007412352838,
          69.25855112976106,
          69.25855112976106,
          69.27197162093545,
          69.0480005299524,
          69.0480005299524,
          68.94457919010307,
          69.12306036184239,
          68.44067575335886,
          68.44067575335886,
          67.6399714315544,
          67.4442538748934,
          67.4442538748934,
          67.5128085197396,
          67.5128085197396,
          68.00290752210583,
          69.00921246467918,
          69.80410809039287,
          69.80410809039287,
          69.61811400142824,
          69.07338734817714,
          69.07338734817714,
          68.86976450582834,
          69.02676031133922,
          69.02676031133922,
          69.12571212075538,
          69.30360038882556,
          69.30360038882556,
          68.65784172079604,
          68.65784172079604,
          68.1290056161509,
          68.05696090290857,
          66.83000197476903,
          66.83000197476903,
          66.16057130428511,
          66.0264058185286,
          66.0264058185286,
          66.08054378146971,
          66.12207465128462,
          66.12207465128462,
          66.6412641210953,
          67.40064896462201,
          67.25686702032063,
          67.25686702032063,
          66.95867995735429,
          66.89197100714051,
          66.89197100714051,
          67.10825663870018,
          67.20886566163762,
          67.20886566163762,
          67.58747944668949,
          67.32482785817766,
          67.32482785817766,
          67.41159207181826,
          67.50599912881648,
          67.50599912881648,
          67.33582120502744,
          67.9317107460392,
          67.9317107460392,
          67.32463769601569,
          66.90978862392335,
          66.90978862392335,
          67.63143987118002,
          67.6749733261641,
          67.6749733261641,
          67.89030128065174,
          67.89030128065174,
          67.97293461980716,
          68.0535795478657,
          68.3541314168623,
          69.69137153423561,
          69.69137153423561,
          69.14827323086108,
          67.9831725012372,
          67.9831725012372,
          68.212356101479,
          68.212356101479,
          68.08408667495176,
          68.16739060351087,
          68.18281224651128,
          68.18281224651128,
          68.11387774652636,
          68.11387774652636,
          68.35483261565788,
          68.89830497116705,
          68.89830497116705,
          70.67675173125659,
          70.10378618408784,
          70.10378618408784,
          69.85702226691126,
          68.10407964769202,
          67.2754214494485,
          67.2754214494485,
          67.80457057874001,
          67.80457057874001,
          67.92804097851395,
          68.13771139183771,
          67.94158047208434,
          67.94158047208434,
          67.81912162431026,
          68.04874558047564,
          68.04874558047564,
          67.9212921972744,
          67.95923827639322,
          67.95923827639322,
          67.99932261011772,
          68.07420248073875,
          68.07420248073875,
          68.08792841631036,
          68.03565775393145,
          68.03565775393145,
          68.1433083976456,
          68.0074680697333,
          68.0074680697333,
          67.84951835421367,
          68.14169395409505,
          68.14169395409505,
          67.18600065078697,
          65.84156981109783,
          65.84156981109783,
          66.38331659974364,
          67.37489509418005,
          66.53374312201987,
          66.53374312201987,
          67.04790272565225,
          66.41968447469014,
          66.41968447469014,
          66.6051138405452,
          66.7657869333462,
          66.7657869333462,
          65.23192084208104,
          64.90170020962647,
          64.90170020962647,
          66.08330132263315,
          66.08330132263315,
          67.59492084440603,
          66.83428275091143,
          66.83428275091143,
          66.01862745723453,
          65.81162670455832,
          65.53256179364341,
          65.53256179364341,
          65.99489462997789,
          66.06096948765459,
          66.06096948765459,
          66.03431951419289,
          66.125880025471,
          66.125880025471,
          66.51622489387759,
          66.51622489387759,
          67.13650099049228,
          67.11758920647075,
          66.77872698130766,
          66.77872698130766,
          66.77540624997103,
          66.50591413508319,
          66.50591413508319,
          66.52653533310749,
          66.68106366413775,
          66.68106366413775,
          66.56394905337405,
          66.75500312606094,
          67.71508884144549,
          67.71508884144549,
          67.39372297296165,
          66.25024915005265,
          66.25024915005265,
          64.32348376462171,
          64.60008640497263,
          64.60008640497263,
          65.9554528523894,
          65.9554528523894,
          66.22489653896194,
          66.22489653896194,
          66.22489653896194,
          66.22489653896194,
          66.22489653896194,
          66.22489653896194,
          66.22489653896194,
          66.22489653896194,
          66.22489653896194,
          66.22489653896194,
          66.22489653896194,
          66.22489653896194,
          66.22489653896194,
          66.22489653896194,
          66.22489653896194,
          66.22489653896194,
          66.22489653896194,
          66.22489653896194,
          66.22489653896194,
          66.22489653896194,
          66.22489653896194,
          66.22489653896194,
          66.22489653896194,
          66.22489653896194,
          66.22489653896194,
          66.22489653896194
         ]
        }
       ],
       "layout": {
        "autosize": false,
        "font": {
         "color": "black",
         "family": "Courier New, monospace",
         "size": 22
        },
        "height": 600,
        "template": {
         "data": {
          "bar": [
           {
            "error_x": {
             "color": "#2a3f5f"
            },
            "error_y": {
             "color": "#2a3f5f"
            },
            "marker": {
             "line": {
              "color": "#E5ECF6",
              "width": 0.5
             },
             "pattern": {
              "fillmode": "overlay",
              "size": 10,
              "solidity": 0.2
             }
            },
            "type": "bar"
           }
          ],
          "barpolar": [
           {
            "marker": {
             "line": {
              "color": "#E5ECF6",
              "width": 0.5
             },
             "pattern": {
              "fillmode": "overlay",
              "size": 10,
              "solidity": 0.2
             }
            },
            "type": "barpolar"
           }
          ],
          "carpet": [
           {
            "aaxis": {
             "endlinecolor": "#2a3f5f",
             "gridcolor": "white",
             "linecolor": "white",
             "minorgridcolor": "white",
             "startlinecolor": "#2a3f5f"
            },
            "baxis": {
             "endlinecolor": "#2a3f5f",
             "gridcolor": "white",
             "linecolor": "white",
             "minorgridcolor": "white",
             "startlinecolor": "#2a3f5f"
            },
            "type": "carpet"
           }
          ],
          "choropleth": [
           {
            "colorbar": {
             "outlinewidth": 0,
             "ticks": ""
            },
            "type": "choropleth"
           }
          ],
          "contour": [
           {
            "colorbar": {
             "outlinewidth": 0,
             "ticks": ""
            },
            "colorscale": [
             [
              0,
              "#0d0887"
             ],
             [
              0.1111111111111111,
              "#46039f"
             ],
             [
              0.2222222222222222,
              "#7201a8"
             ],
             [
              0.3333333333333333,
              "#9c179e"
             ],
             [
              0.4444444444444444,
              "#bd3786"
             ],
             [
              0.5555555555555556,
              "#d8576b"
             ],
             [
              0.6666666666666666,
              "#ed7953"
             ],
             [
              0.7777777777777778,
              "#fb9f3a"
             ],
             [
              0.8888888888888888,
              "#fdca26"
             ],
             [
              1,
              "#f0f921"
             ]
            ],
            "type": "contour"
           }
          ],
          "contourcarpet": [
           {
            "colorbar": {
             "outlinewidth": 0,
             "ticks": ""
            },
            "type": "contourcarpet"
           }
          ],
          "heatmap": [
           {
            "colorbar": {
             "outlinewidth": 0,
             "ticks": ""
            },
            "colorscale": [
             [
              0,
              "#0d0887"
             ],
             [
              0.1111111111111111,
              "#46039f"
             ],
             [
              0.2222222222222222,
              "#7201a8"
             ],
             [
              0.3333333333333333,
              "#9c179e"
             ],
             [
              0.4444444444444444,
              "#bd3786"
             ],
             [
              0.5555555555555556,
              "#d8576b"
             ],
             [
              0.6666666666666666,
              "#ed7953"
             ],
             [
              0.7777777777777778,
              "#fb9f3a"
             ],
             [
              0.8888888888888888,
              "#fdca26"
             ],
             [
              1,
              "#f0f921"
             ]
            ],
            "type": "heatmap"
           }
          ],
          "heatmapgl": [
           {
            "colorbar": {
             "outlinewidth": 0,
             "ticks": ""
            },
            "colorscale": [
             [
              0,
              "#0d0887"
             ],
             [
              0.1111111111111111,
              "#46039f"
             ],
             [
              0.2222222222222222,
              "#7201a8"
             ],
             [
              0.3333333333333333,
              "#9c179e"
             ],
             [
              0.4444444444444444,
              "#bd3786"
             ],
             [
              0.5555555555555556,
              "#d8576b"
             ],
             [
              0.6666666666666666,
              "#ed7953"
             ],
             [
              0.7777777777777778,
              "#fb9f3a"
             ],
             [
              0.8888888888888888,
              "#fdca26"
             ],
             [
              1,
              "#f0f921"
             ]
            ],
            "type": "heatmapgl"
           }
          ],
          "histogram": [
           {
            "marker": {
             "pattern": {
              "fillmode": "overlay",
              "size": 10,
              "solidity": 0.2
             }
            },
            "type": "histogram"
           }
          ],
          "histogram2d": [
           {
            "colorbar": {
             "outlinewidth": 0,
             "ticks": ""
            },
            "colorscale": [
             [
              0,
              "#0d0887"
             ],
             [
              0.1111111111111111,
              "#46039f"
             ],
             [
              0.2222222222222222,
              "#7201a8"
             ],
             [
              0.3333333333333333,
              "#9c179e"
             ],
             [
              0.4444444444444444,
              "#bd3786"
             ],
             [
              0.5555555555555556,
              "#d8576b"
             ],
             [
              0.6666666666666666,
              "#ed7953"
             ],
             [
              0.7777777777777778,
              "#fb9f3a"
             ],
             [
              0.8888888888888888,
              "#fdca26"
             ],
             [
              1,
              "#f0f921"
             ]
            ],
            "type": "histogram2d"
           }
          ],
          "histogram2dcontour": [
           {
            "colorbar": {
             "outlinewidth": 0,
             "ticks": ""
            },
            "colorscale": [
             [
              0,
              "#0d0887"
             ],
             [
              0.1111111111111111,
              "#46039f"
             ],
             [
              0.2222222222222222,
              "#7201a8"
             ],
             [
              0.3333333333333333,
              "#9c179e"
             ],
             [
              0.4444444444444444,
              "#bd3786"
             ],
             [
              0.5555555555555556,
              "#d8576b"
             ],
             [
              0.6666666666666666,
              "#ed7953"
             ],
             [
              0.7777777777777778,
              "#fb9f3a"
             ],
             [
              0.8888888888888888,
              "#fdca26"
             ],
             [
              1,
              "#f0f921"
             ]
            ],
            "type": "histogram2dcontour"
           }
          ],
          "mesh3d": [
           {
            "colorbar": {
             "outlinewidth": 0,
             "ticks": ""
            },
            "type": "mesh3d"
           }
          ],
          "parcoords": [
           {
            "line": {
             "colorbar": {
              "outlinewidth": 0,
              "ticks": ""
             }
            },
            "type": "parcoords"
           }
          ],
          "pie": [
           {
            "automargin": true,
            "type": "pie"
           }
          ],
          "scatter": [
           {
            "fillpattern": {
             "fillmode": "overlay",
             "size": 10,
             "solidity": 0.2
            },
            "type": "scatter"
           }
          ],
          "scatter3d": [
           {
            "line": {
             "colorbar": {
              "outlinewidth": 0,
              "ticks": ""
             }
            },
            "marker": {
             "colorbar": {
              "outlinewidth": 0,
              "ticks": ""
             }
            },
            "type": "scatter3d"
           }
          ],
          "scattercarpet": [
           {
            "marker": {
             "colorbar": {
              "outlinewidth": 0,
              "ticks": ""
             }
            },
            "type": "scattercarpet"
           }
          ],
          "scattergeo": [
           {
            "marker": {
             "colorbar": {
              "outlinewidth": 0,
              "ticks": ""
             }
            },
            "type": "scattergeo"
           }
          ],
          "scattergl": [
           {
            "marker": {
             "colorbar": {
              "outlinewidth": 0,
              "ticks": ""
             }
            },
            "type": "scattergl"
           }
          ],
          "scattermapbox": [
           {
            "marker": {
             "colorbar": {
              "outlinewidth": 0,
              "ticks": ""
             }
            },
            "type": "scattermapbox"
           }
          ],
          "scatterpolar": [
           {
            "marker": {
             "colorbar": {
              "outlinewidth": 0,
              "ticks": ""
             }
            },
            "type": "scatterpolar"
           }
          ],
          "scatterpolargl": [
           {
            "marker": {
             "colorbar": {
              "outlinewidth": 0,
              "ticks": ""
             }
            },
            "type": "scatterpolargl"
           }
          ],
          "scatterternary": [
           {
            "marker": {
             "colorbar": {
              "outlinewidth": 0,
              "ticks": ""
             }
            },
            "type": "scatterternary"
           }
          ],
          "surface": [
           {
            "colorbar": {
             "outlinewidth": 0,
             "ticks": ""
            },
            "colorscale": [
             [
              0,
              "#0d0887"
             ],
             [
              0.1111111111111111,
              "#46039f"
             ],
             [
              0.2222222222222222,
              "#7201a8"
             ],
             [
              0.3333333333333333,
              "#9c179e"
             ],
             [
              0.4444444444444444,
              "#bd3786"
             ],
             [
              0.5555555555555556,
              "#d8576b"
             ],
             [
              0.6666666666666666,
              "#ed7953"
             ],
             [
              0.7777777777777778,
              "#fb9f3a"
             ],
             [
              0.8888888888888888,
              "#fdca26"
             ],
             [
              1,
              "#f0f921"
             ]
            ],
            "type": "surface"
           }
          ],
          "table": [
           {
            "cells": {
             "fill": {
              "color": "#EBF0F8"
             },
             "line": {
              "color": "white"
             }
            },
            "header": {
             "fill": {
              "color": "#C8D4E3"
             },
             "line": {
              "color": "white"
             }
            },
            "type": "table"
           }
          ]
         },
         "layout": {
          "annotationdefaults": {
           "arrowcolor": "#2a3f5f",
           "arrowhead": 0,
           "arrowwidth": 1
          },
          "autotypenumbers": "strict",
          "coloraxis": {
           "colorbar": {
            "outlinewidth": 0,
            "ticks": ""
           }
          },
          "colorscale": {
           "diverging": [
            [
             0,
             "#8e0152"
            ],
            [
             0.1,
             "#c51b7d"
            ],
            [
             0.2,
             "#de77ae"
            ],
            [
             0.3,
             "#f1b6da"
            ],
            [
             0.4,
             "#fde0ef"
            ],
            [
             0.5,
             "#f7f7f7"
            ],
            [
             0.6,
             "#e6f5d0"
            ],
            [
             0.7,
             "#b8e186"
            ],
            [
             0.8,
             "#7fbc41"
            ],
            [
             0.9,
             "#4d9221"
            ],
            [
             1,
             "#276419"
            ]
           ],
           "sequential": [
            [
             0,
             "#0d0887"
            ],
            [
             0.1111111111111111,
             "#46039f"
            ],
            [
             0.2222222222222222,
             "#7201a8"
            ],
            [
             0.3333333333333333,
             "#9c179e"
            ],
            [
             0.4444444444444444,
             "#bd3786"
            ],
            [
             0.5555555555555556,
             "#d8576b"
            ],
            [
             0.6666666666666666,
             "#ed7953"
            ],
            [
             0.7777777777777778,
             "#fb9f3a"
            ],
            [
             0.8888888888888888,
             "#fdca26"
            ],
            [
             1,
             "#f0f921"
            ]
           ],
           "sequentialminus": [
            [
             0,
             "#0d0887"
            ],
            [
             0.1111111111111111,
             "#46039f"
            ],
            [
             0.2222222222222222,
             "#7201a8"
            ],
            [
             0.3333333333333333,
             "#9c179e"
            ],
            [
             0.4444444444444444,
             "#bd3786"
            ],
            [
             0.5555555555555556,
             "#d8576b"
            ],
            [
             0.6666666666666666,
             "#ed7953"
            ],
            [
             0.7777777777777778,
             "#fb9f3a"
            ],
            [
             0.8888888888888888,
             "#fdca26"
            ],
            [
             1,
             "#f0f921"
            ]
           ]
          },
          "colorway": [
           "#636efa",
           "#EF553B",
           "#00cc96",
           "#ab63fa",
           "#FFA15A",
           "#19d3f3",
           "#FF6692",
           "#B6E880",
           "#FF97FF",
           "#FECB52"
          ],
          "font": {
           "color": "#2a3f5f"
          },
          "geo": {
           "bgcolor": "white",
           "lakecolor": "white",
           "landcolor": "#E5ECF6",
           "showlakes": true,
           "showland": true,
           "subunitcolor": "white"
          },
          "hoverlabel": {
           "align": "left"
          },
          "hovermode": "closest",
          "mapbox": {
           "style": "light"
          },
          "paper_bgcolor": "white",
          "plot_bgcolor": "#E5ECF6",
          "polar": {
           "angularaxis": {
            "gridcolor": "white",
            "linecolor": "white",
            "ticks": ""
           },
           "bgcolor": "#E5ECF6",
           "radialaxis": {
            "gridcolor": "white",
            "linecolor": "white",
            "ticks": ""
           }
          },
          "scene": {
           "xaxis": {
            "backgroundcolor": "#E5ECF6",
            "gridcolor": "white",
            "gridwidth": 2,
            "linecolor": "white",
            "showbackground": true,
            "ticks": "",
            "zerolinecolor": "white"
           },
           "yaxis": {
            "backgroundcolor": "#E5ECF6",
            "gridcolor": "white",
            "gridwidth": 2,
            "linecolor": "white",
            "showbackground": true,
            "ticks": "",
            "zerolinecolor": "white"
           },
           "zaxis": {
            "backgroundcolor": "#E5ECF6",
            "gridcolor": "white",
            "gridwidth": 2,
            "linecolor": "white",
            "showbackground": true,
            "ticks": "",
            "zerolinecolor": "white"
           }
          },
          "shapedefaults": {
           "line": {
            "color": "#2a3f5f"
           }
          },
          "ternary": {
           "aaxis": {
            "gridcolor": "white",
            "linecolor": "white",
            "ticks": ""
           },
           "baxis": {
            "gridcolor": "white",
            "linecolor": "white",
            "ticks": ""
           },
           "bgcolor": "#E5ECF6",
           "caxis": {
            "gridcolor": "white",
            "linecolor": "white",
            "ticks": ""
           }
          },
          "title": {
           "x": 0.05
          },
          "xaxis": {
           "automargin": true,
           "gridcolor": "white",
           "linecolor": "white",
           "ticks": "",
           "title": {
            "standoff": 15
           },
           "zerolinecolor": "white",
           "zerolinewidth": 2
          },
          "yaxis": {
           "automargin": true,
           "gridcolor": "white",
           "linecolor": "white",
           "ticks": "",
           "title": {
            "standoff": 15
           },
           "zerolinecolor": "white",
           "zerolinewidth": 2
          }
         }
        },
        "title": {
         "text": "Range of Motion kneeRight"
        },
        "width": 750,
        "xaxis": {
         "title": {
          "font": {
           "color": "#7f7f7f",
           "family": "Courier New, monospace",
           "size": 18
          },
          "text": "time [s]"
         }
        },
        "yaxis": {
         "title": {
          "font": {
           "color": "#7f7f7f",
           "family": "Courier New, monospace",
           "size": 18
          },
          "text": "ROM [degrees]"
         }
        }
       }
      },
      "text/html": [
       "<div>                            <div id=\"75d86bc4-bfad-4304-839b-609b46721d2f\" class=\"plotly-graph-div\" style=\"height:600px; width:750px;\"></div>            <script type=\"text/javascript\">                require([\"plotly\"], function(Plotly) {                    window.PLOTLYENV=window.PLOTLYENV || {};                                    if (document.getElementById(\"75d86bc4-bfad-4304-839b-609b46721d2f\")) {                    Plotly.newPlot(                        \"75d86bc4-bfad-4304-839b-609b46721d2f\",                        [{\"line\":{\"color\":\"blue\",\"width\":3},\"mode\":\"lines\",\"name\":\"Real trend\",\"x\":[24.233115196228027,24.332800149917603,24.43332529067993,24.533143520355225,24.63327145576477,24.741224765777588,24.83667492866516,24.933400630950928,25.03368902206421,25.136213779449463,25.236974239349365,25.33634853363037,25.436240673065186,25.534266233444214,25.660048961639404,25.73537588119507,25.837066650390625,25.93694543838501,26.037134408950806,26.135271310806274,26.238525390625,26.33588480949402,26.436264991760254,26.5361270904541,26.636869430541992,26.736798763275146,26.83656358718872,26.936131238937378,27.037917852401733,27.136846780776978,27.236833333969116,27.337327480316162,27.439617395401,27.538838148117065,27.638164520263672,27.749006986618042,27.83854031562805,27.9455463886261,28.040802001953125,28.139883041381836,28.239752769470215,28.339375257492065,28.439257621765137,28.540772676467896,28.64122200012207,28.740676641464233,28.842568397521973,28.945440530776978,29.04046893119812,29.14072895050049,29.241145849227905,29.340039253234863,29.439839601516724,29.54038095474243,29.63996434211731,29.739933252334595,29.846254587173462,29.94089412689209,30.04071307182312,30.144608736038208,30.240516185760498,30.34049105644226,30.44564700126648,30.55128312110901,30.640730619430542,30.742594957351685,30.84181499481201,30.943175554275513,31.05737829208374,31.142616987228394,31.24183678627014,31.342342376708984,31.44289994239807,31.5424702167511,31.643161296844482,31.74295926094055,31.84236192703247,31.94386625289917,32.04418087005615,32.14330244064331,32.24445056915283,32.343778133392334,32.449652910232544,32.544663190841675,32.64774417877197,32.744690895080566,32.84504675865173,32.944618463516235,33.05396890640259,33.143632888793945,33.24526834487915,33.345051288604736,33.44400191307068,33.55854344367981,33.64385724067688,33.74412751197815,33.84885501861572,33.94433307647705,34.044235944747925,34.14453125,34.24451446533203,34.34574580192566,34.448670625686646,34.54504442214966,34.64591407775879,34.744818449020386,34.84493112564087,34.945334911346436,35.049182176589966,35.146583557128906,35.24837875366211,35.34727358818054,35.45433211326599,35.545390129089355,35.656078577041626,35.746832847595215,35.8473219871521,35.94709372520447,36.0468065738678,36.14607119560242,36.24921727180481,36.34639763832092,36.454500675201416,36.54650640487671,36.65474462509155,36.749191999435425,36.85453176498413,36.95210886001587,37.047197103500366,37.14702796936035,37.24901580810547,37.34686207771301,37.447104692459106,37.54842662811279,37.64687538146973,37.74915027618408,37.84915614128113,37.948790311813354,38.04765033721924,38.14885377883911,38.24823212623596,38.35143542289734,38.45007371902466,38.55542993545532,38.65315294265747,38.75039100646973,38.85027742385864,38.950366497039795,39.05031752586365,39.150487184524536,39.25821256637573,39.35039734840393,39.45201921463013,39.55043816566467,39.650450229644775,39.75240468978882,39.85030198097229,39.9519202709198,40.05151343345642,40.15075707435608,40.253804206848145,40.36140036582947,40.450860261917114,40.55409598350525,40.65131616592407,40.75186371803284,40.85239887237549,40.95355796813965,41.05352592468262,41.16284155845642,41.252413749694824,41.3540472984314,41.455708026885986,41.55463624000549,41.652626037597656,41.75363826751709,41.855064392089844,41.953187227249146,42.05310916900635,42.15421986579895,42.25406765937805,42.35616064071655,42.45375347137451,42.55452561378479,42.65626549720764,42.7549045085907,42.85430359840393,42.954716205596924,43.0550434589386,43.15387988090515,43.26676344871521,43.35433602333069,43.45442318916321,43.55426049232483,43.65690588951111,43.754761695861816,43.85465598106384,43.95766234397888,44.05765414237976,44.15516233444214,44.255306243896484,44.35650944709778,44.4564106464386,44.558196783065796,44.65524959564209,44.75663423538208,44.855653285980225,44.956889152526855,45.056891202926636,45.15617251396179,45.259347915649414,45.35649275779724,45.4566650390625,45.55965876579285,45.6593382358551,45.756914138793945,45.8582808971405,45.95721650123596,46.058391094207764,46.157426595687866,46.258829832077026,46.36005163192749,46.45975947380066,46.55997109413147,46.66822338104248,46.7590754032135,46.859297037124634,46.959229946136475,47.05930709838867,47.160308599472046,47.25964903831482,47.35964608192444,47.45954132080078,47.56847953796387,47.65980339050293,47.76070761680603,47.860949993133545,47.96102738380432,48.0608868598938,48.16973042488098,48.26136255264282,48.3635528087616,48.46225309371948,48.56248378753662,48.66207695007324,48.761430740356445,48.86470699310303,48.96166253089905,49.06158661842346,49.16189455986023,49.26649451255798,49.362058877944946,49.46488690376282,49.56207346916199,49.6636598110199,49.763437032699585,49.86710548400879,49.966618061065674,50.06493520736694,50.16594886779785,50.263988971710205,50.36377811431885,50.46897530555725,50.56509709358215,50.663946866989136,50.76420331001282,50.865792751312256,50.96528196334839,51.06493139266968,51.16599106788635,51.264713525772095,51.36483836174011,51.466283082962036,51.56488108634949,51.66627740859985,51.76533913612366,51.86521315574646,51.965941190719604,52.06543946266174,52.165924072265625,52.267369985580444,52.36658000946045,52.46628165245056,52.5660502910614,52.668837785720825,52.765990257263184,52.865904331207275,52.967106342315674,53.07641339302063,53.16690969467163,53.270140647888184,53.36931872367859,53.46704411506653,53.56643581390381,53.6758246421814,53.76804304122925,53.86708450317383,53.967583656311035,54.06740736961365,54.168564558029175,54.26759457588196,54.36831283569336,54.46784591674805,54.56783151626587,54.667638301849365,54.768479108810425,54.86789917945862,54.96787142753601,55.067992210388184,55.171016454696655,55.269285917282104,55.36903381347656,55.468350648880005,55.570322036743164,55.67030596733093,55.77029013633728,55.87521815299988,55.97042274475098,56.07261395454407,56.17239284515381,56.27244687080383,56.37264847755432,56.48825979232788,56.57243776321411,56.68163299560547,56.77378845214844,56.87340188026428,56.97399425506592,57.073071241378784,57.17336463928223,57.2733998298645,57.37728786468506,57.47473859786987,57.57391428947449,57.6785364151001,57.77704167366028,57.87393260002136,57.975202560424805,58.07394576072693,58.174970388412476,58.27534246444702,58.37405180931091,58.49008274078369,58.57447624206543,58.674320459365845,58.77466368675232,58.87987661361694,58.974895000457764,59.074692249298096,59.17652249336243,59.27519130706787,59.376720666885376,59.48024845123291,59.57504415512085,59.67632222175598,59.775283336639404,59.87633013725281,59.9767279624939,60.07995295524597,60.176642417907715,60.27666091918945,60.3757860660553,60.475781202316284,60.57788562774658,60.676915884017944,60.78098464012146,60.878838777542114,60.9773690700531,61.07639503479004,61.17762112617493,61.27669715881348,61.378113746643066,61.481345415115356,61.57789969444275,61.68140506744385,61.77827453613281,61.87871265411377,61.97990441322327,62.08743119239807,62.17740345001221,62.28377366065979,62.377360105514526,62.48196077346802,62.577552795410156,62.67955780029297,62.77953815460205,62.88564467430115,62.97774291038513,63.07864475250244,63.179381370544434,63.27934241294861,63.38161492347717,63.49756383895874,63.578343868255615,63.68144154548645,63.7796425819397,63.882205963134766,63.982651472091675,64.08018064498901,64.18289732933044,64.28019547462463,64.38835501670837,64.47988796234131,64.58415126800537,64.681893825531,64.79290437698364,64.88766360282898,64.98255801200867,65.08255767822266,65.18253898620605,65.28386378288269,65.38267874717712,65.48333883285522,65.58333897590637,65.68291187286377,65.78422260284424,65.88682770729065,65.98398804664612,66.08520674705505,66.18757677078247,66.2843267917633,66.38681292533875,66.48536348342896,66.59144806861877,66.70076823234558,66.78522777557373,66.8854010105133,66.99277520179749,67.09571313858032,67.18712520599365,67.29626321792603,67.38522362709045,67.48535013198853,67.60217905044556,67.6925277709961,67.79683327674866,67.89559507369995,67.99541354179382,68.09643268585205,68.19452285766602,68.29497075080872,68.3873176574707,68.48790216445923,68.6015555858612,68.68706679344177,68.81795263290405],\"y\":[68.86357939565185,69.42967377695385,70.1463122871294,70.1463122871294,69.71815465982989,69.03057068926195,69.03057068926195,69.07028076974629,68.70727696068552,68.70727696068552,68.5289676547106,69.22920504244806,69.22920504244806,71.23764953665768,71.64766113394168,71.64766113394168,72.2308431249179,71.56178128456607,71.56178128456607,70.19354349195778,68.76163501980736,68.16070279623071,68.16070279623071,68.35901315391644,68.35901315391644,68.2918077687978,68.09084419434153,68.16206084236885,68.16206084236885,68.11330726810947,68.11330726810947,67.72444992311654,67.48416763743224,67.61238143999604,67.61238143999604,67.80466402392098,67.63466314228776,67.63466314228776,68.17072654296703,68.17072654296703,68.46799926005014,68.37076422507788,68.39572176877242,68.39572176877242,67.80170979754018,67.80170979754018,67.74769890747567,67.51945300404316,67.80260796837095,67.80260796837095,68.13677086293953,68.34583011083595,68.34583011083595,68.47184919800182,68.47184919800182,68.22765927804271,68.10408288132054,67.90782326929651,67.90782326929651,67.85287697749682,67.92671724960722,67.91425128896715,67.91425128896715,67.9714864654738,67.9714864654738,68.14319542099621,68.07442830080613,67.87114279946776,67.87114279946776,67.90326426310698,67.77286768351055,67.77286768351055,67.94720867441988,67.94067228383344,67.94067228383344,67.75578164993968,67.7741511575707,67.7741511575707,67.8498908447616,67.8498908447616,68.09925890694197,68.22568905847183,67.92066543914605,67.92066543914605,67.94345067872118,67.76015762477438,67.76015762477438,67.98678507391239,68.23121625470988,68.23121625470988,67.95975751980197,67.855936107599,67.855936107599,68.26485030653133,70.25200619582247,70.25200619582247,72.90373978224011,72.90373978224011,71.98121198726463,71.47528966696017,71.84078357623852,71.84078357623852,73.2278158321335,71.41220801508558,71.41220801508558,73.22371439668001,71.36487475703723,71.36487475703723,68.96548845830208,67.81323175798887,67.81323175798887,67.96354639094145,67.89392081495299,67.58083841349264,67.58083841349264,67.56298153612339,67.56298153612339,67.29267718855719,67.26808776572273,67.2768474703859,67.2768474703859,67.24362357721124,67.13034727949602,67.13034727949602,66.94086560210135,67.11509173711474,67.11509173711474,67.35944188823129,67.66429592853798,67.66429592853798,68.0526860874382,68.33350171363274,68.33762563294812,68.33762563294812,68.24684360243533,68.24684360243533,67.97881537541026,67.87560405129237,67.87560405129237,67.78426118339499,67.69621840042254,67.4943198126258,67.4943198126258,67.71373635642243,67.71373635642243,67.61570878480649,67.66353501808,67.69809051076217,67.69809051076217,67.5735898531285,67.5735898531285,67.64916658770794,67.51459819246786,67.51459819246786,67.26072217288163,67.48831069109828,67.55643612873854,67.55643612873854,67.58486673869011,67.72129686440319,67.72129686440319,67.64352847659968,67.64566059285637,67.64566059285637,67.5222017728257,67.53188446190097,67.53188446190097,67.57645763853438,67.4832917920192,67.4832917920192,67.76225173323535,67.46283737146506,67.46283737146506,66.82302261286777,66.99452077785368,66.99452077785368,65.61493103201659,65.13246475043796,65.13246475043796,66.6739142781646,68.38698308950173,68.38698308950173,67.75044203120278,66.63582572097131,66.63582572097131,67.0644551839873,67.464734959825,67.464734959825,67.75871920233747,67.6686530913942,67.81692739486475,67.81692739486475,67.76774907914044,66.96898878725777,66.96898878725777,66.51374292853569,66.51374292853569,66.50969023850386,66.74059239382076,66.74059239382076,66.9649880575666,67.23075376121218,67.23075376121218,67.60881714992225,68.29201940496849,68.33922829430989,68.33922829430989,68.26920972209794,68.26920972209794,68.36337687858058,68.50118503619896,68.3380791069713,68.3380791069713,68.4767621594438,67.72034840009943,67.72034840009943,67.58717409446628,68.07864826866283,68.07864826866283,68.65954169434879,69.09280586212078,69.09280586212078,68.96063523008178,68.96063523008178,68.26202050702858,68.26202050702858,68.24222134256839,67.89418629694953,67.89418629694953,69.40026617804922,70.0272793543327,70.0272793543327,70.77631916749867,70.37982259190515,70.37982259190515,68.68797425402312,69.09581850319418,69.09581850319418,69.01425825290357,69.09795441614907,69.09795441614907,68.91899402121926,68.47150568472141,68.47150568472141,66.97488508718288,66.92922526724696,66.92922526724696,69.007412352838,69.25855112976106,69.25855112976106,69.27197162093545,69.0480005299524,69.0480005299524,68.94457919010307,69.12306036184239,68.44067575335886,68.44067575335886,67.6399714315544,67.4442538748934,67.4442538748934,67.5128085197396,67.5128085197396,68.00290752210583,69.00921246467918,69.80410809039287,69.80410809039287,69.61811400142824,69.07338734817714,69.07338734817714,68.86976450582834,69.02676031133922,69.02676031133922,69.12571212075538,69.30360038882556,69.30360038882556,68.65784172079604,68.65784172079604,68.1290056161509,68.05696090290857,66.83000197476903,66.83000197476903,66.16057130428511,66.0264058185286,66.0264058185286,66.08054378146971,66.12207465128462,66.12207465128462,66.6412641210953,67.40064896462201,67.25686702032063,67.25686702032063,66.95867995735429,66.89197100714051,66.89197100714051,67.10825663870018,67.20886566163762,67.20886566163762,67.58747944668949,67.32482785817766,67.32482785817766,67.41159207181826,67.50599912881648,67.50599912881648,67.33582120502744,67.9317107460392,67.9317107460392,67.32463769601569,66.90978862392335,66.90978862392335,67.63143987118002,67.6749733261641,67.6749733261641,67.89030128065174,67.89030128065174,67.97293461980716,68.0535795478657,68.3541314168623,69.69137153423561,69.69137153423561,69.14827323086108,67.9831725012372,67.9831725012372,68.212356101479,68.212356101479,68.08408667495176,68.16739060351087,68.18281224651128,68.18281224651128,68.11387774652636,68.11387774652636,68.35483261565788,68.89830497116705,68.89830497116705,70.67675173125659,70.10378618408784,70.10378618408784,69.85702226691126,68.10407964769202,67.2754214494485,67.2754214494485,67.80457057874001,67.80457057874001,67.92804097851395,68.13771139183771,67.94158047208434,67.94158047208434,67.81912162431026,68.04874558047564,68.04874558047564,67.9212921972744,67.95923827639322,67.95923827639322,67.99932261011772,68.07420248073875,68.07420248073875,68.08792841631036,68.03565775393145,68.03565775393145,68.1433083976456,68.0074680697333,68.0074680697333,67.84951835421367,68.14169395409505,68.14169395409505,67.18600065078697,65.84156981109783,65.84156981109783,66.38331659974364,67.37489509418005,66.53374312201987,66.53374312201987,67.04790272565225,66.41968447469014,66.41968447469014,66.6051138405452,66.7657869333462,66.7657869333462,65.23192084208104,64.90170020962647,64.90170020962647,66.08330132263315,66.08330132263315,67.59492084440603,66.83428275091143,66.83428275091143,66.01862745723453,65.81162670455832,65.53256179364341,65.53256179364341,65.99489462997789,66.06096948765459,66.06096948765459,66.03431951419289,66.125880025471,66.125880025471,66.51622489387759,66.51622489387759,67.13650099049228,67.11758920647075,66.77872698130766,66.77872698130766,66.77540624997103,66.50591413508319,66.50591413508319,66.52653533310749,66.68106366413775,66.68106366413775,66.56394905337405,66.75500312606094,67.71508884144549,67.71508884144549,67.39372297296165,66.25024915005265,66.25024915005265,64.32348376462171,64.60008640497263,64.60008640497263,65.9554528523894,65.9554528523894,66.22489653896194,66.22489653896194,66.22489653896194,66.22489653896194,66.22489653896194,66.22489653896194,66.22489653896194,66.22489653896194,66.22489653896194,66.22489653896194,66.22489653896194,66.22489653896194,66.22489653896194,66.22489653896194,66.22489653896194,66.22489653896194,66.22489653896194,66.22489653896194,66.22489653896194,66.22489653896194,66.22489653896194,66.22489653896194,66.22489653896194,66.22489653896194,66.22489653896194,66.22489653896194],\"type\":\"scatter\"}],                        {\"autosize\":false,\"font\":{\"color\":\"black\",\"family\":\"Courier New, monospace\",\"size\":22},\"height\":600,\"template\":{\"data\":{\"barpolar\":[{\"marker\":{\"line\":{\"color\":\"#E5ECF6\",\"width\":0.5},\"pattern\":{\"fillmode\":\"overlay\",\"size\":10,\"solidity\":0.2}},\"type\":\"barpolar\"}],\"bar\":[{\"error_x\":{\"color\":\"#2a3f5f\"},\"error_y\":{\"color\":\"#2a3f5f\"},\"marker\":{\"line\":{\"color\":\"#E5ECF6\",\"width\":0.5},\"pattern\":{\"fillmode\":\"overlay\",\"size\":10,\"solidity\":0.2}},\"type\":\"bar\"}],\"carpet\":[{\"aaxis\":{\"endlinecolor\":\"#2a3f5f\",\"gridcolor\":\"white\",\"linecolor\":\"white\",\"minorgridcolor\":\"white\",\"startlinecolor\":\"#2a3f5f\"},\"baxis\":{\"endlinecolor\":\"#2a3f5f\",\"gridcolor\":\"white\",\"linecolor\":\"white\",\"minorgridcolor\":\"white\",\"startlinecolor\":\"#2a3f5f\"},\"type\":\"carpet\"}],\"choropleth\":[{\"colorbar\":{\"outlinewidth\":0,\"ticks\":\"\"},\"type\":\"choropleth\"}],\"contourcarpet\":[{\"colorbar\":{\"outlinewidth\":0,\"ticks\":\"\"},\"type\":\"contourcarpet\"}],\"contour\":[{\"colorbar\":{\"outlinewidth\":0,\"ticks\":\"\"},\"colorscale\":[[0.0,\"#0d0887\"],[0.1111111111111111,\"#46039f\"],[0.2222222222222222,\"#7201a8\"],[0.3333333333333333,\"#9c179e\"],[0.4444444444444444,\"#bd3786\"],[0.5555555555555556,\"#d8576b\"],[0.6666666666666666,\"#ed7953\"],[0.7777777777777778,\"#fb9f3a\"],[0.8888888888888888,\"#fdca26\"],[1.0,\"#f0f921\"]],\"type\":\"contour\"}],\"heatmapgl\":[{\"colorbar\":{\"outlinewidth\":0,\"ticks\":\"\"},\"colorscale\":[[0.0,\"#0d0887\"],[0.1111111111111111,\"#46039f\"],[0.2222222222222222,\"#7201a8\"],[0.3333333333333333,\"#9c179e\"],[0.4444444444444444,\"#bd3786\"],[0.5555555555555556,\"#d8576b\"],[0.6666666666666666,\"#ed7953\"],[0.7777777777777778,\"#fb9f3a\"],[0.8888888888888888,\"#fdca26\"],[1.0,\"#f0f921\"]],\"type\":\"heatmapgl\"}],\"heatmap\":[{\"colorbar\":{\"outlinewidth\":0,\"ticks\":\"\"},\"colorscale\":[[0.0,\"#0d0887\"],[0.1111111111111111,\"#46039f\"],[0.2222222222222222,\"#7201a8\"],[0.3333333333333333,\"#9c179e\"],[0.4444444444444444,\"#bd3786\"],[0.5555555555555556,\"#d8576b\"],[0.6666666666666666,\"#ed7953\"],[0.7777777777777778,\"#fb9f3a\"],[0.8888888888888888,\"#fdca26\"],[1.0,\"#f0f921\"]],\"type\":\"heatmap\"}],\"histogram2dcontour\":[{\"colorbar\":{\"outlinewidth\":0,\"ticks\":\"\"},\"colorscale\":[[0.0,\"#0d0887\"],[0.1111111111111111,\"#46039f\"],[0.2222222222222222,\"#7201a8\"],[0.3333333333333333,\"#9c179e\"],[0.4444444444444444,\"#bd3786\"],[0.5555555555555556,\"#d8576b\"],[0.6666666666666666,\"#ed7953\"],[0.7777777777777778,\"#fb9f3a\"],[0.8888888888888888,\"#fdca26\"],[1.0,\"#f0f921\"]],\"type\":\"histogram2dcontour\"}],\"histogram2d\":[{\"colorbar\":{\"outlinewidth\":0,\"ticks\":\"\"},\"colorscale\":[[0.0,\"#0d0887\"],[0.1111111111111111,\"#46039f\"],[0.2222222222222222,\"#7201a8\"],[0.3333333333333333,\"#9c179e\"],[0.4444444444444444,\"#bd3786\"],[0.5555555555555556,\"#d8576b\"],[0.6666666666666666,\"#ed7953\"],[0.7777777777777778,\"#fb9f3a\"],[0.8888888888888888,\"#fdca26\"],[1.0,\"#f0f921\"]],\"type\":\"histogram2d\"}],\"histogram\":[{\"marker\":{\"pattern\":{\"fillmode\":\"overlay\",\"size\":10,\"solidity\":0.2}},\"type\":\"histogram\"}],\"mesh3d\":[{\"colorbar\":{\"outlinewidth\":0,\"ticks\":\"\"},\"type\":\"mesh3d\"}],\"parcoords\":[{\"line\":{\"colorbar\":{\"outlinewidth\":0,\"ticks\":\"\"}},\"type\":\"parcoords\"}],\"pie\":[{\"automargin\":true,\"type\":\"pie\"}],\"scatter3d\":[{\"line\":{\"colorbar\":{\"outlinewidth\":0,\"ticks\":\"\"}},\"marker\":{\"colorbar\":{\"outlinewidth\":0,\"ticks\":\"\"}},\"type\":\"scatter3d\"}],\"scattercarpet\":[{\"marker\":{\"colorbar\":{\"outlinewidth\":0,\"ticks\":\"\"}},\"type\":\"scattercarpet\"}],\"scattergeo\":[{\"marker\":{\"colorbar\":{\"outlinewidth\":0,\"ticks\":\"\"}},\"type\":\"scattergeo\"}],\"scattergl\":[{\"marker\":{\"colorbar\":{\"outlinewidth\":0,\"ticks\":\"\"}},\"type\":\"scattergl\"}],\"scattermapbox\":[{\"marker\":{\"colorbar\":{\"outlinewidth\":0,\"ticks\":\"\"}},\"type\":\"scattermapbox\"}],\"scatterpolargl\":[{\"marker\":{\"colorbar\":{\"outlinewidth\":0,\"ticks\":\"\"}},\"type\":\"scatterpolargl\"}],\"scatterpolar\":[{\"marker\":{\"colorbar\":{\"outlinewidth\":0,\"ticks\":\"\"}},\"type\":\"scatterpolar\"}],\"scatter\":[{\"fillpattern\":{\"fillmode\":\"overlay\",\"size\":10,\"solidity\":0.2},\"type\":\"scatter\"}],\"scatterternary\":[{\"marker\":{\"colorbar\":{\"outlinewidth\":0,\"ticks\":\"\"}},\"type\":\"scatterternary\"}],\"surface\":[{\"colorbar\":{\"outlinewidth\":0,\"ticks\":\"\"},\"colorscale\":[[0.0,\"#0d0887\"],[0.1111111111111111,\"#46039f\"],[0.2222222222222222,\"#7201a8\"],[0.3333333333333333,\"#9c179e\"],[0.4444444444444444,\"#bd3786\"],[0.5555555555555556,\"#d8576b\"],[0.6666666666666666,\"#ed7953\"],[0.7777777777777778,\"#fb9f3a\"],[0.8888888888888888,\"#fdca26\"],[1.0,\"#f0f921\"]],\"type\":\"surface\"}],\"table\":[{\"cells\":{\"fill\":{\"color\":\"#EBF0F8\"},\"line\":{\"color\":\"white\"}},\"header\":{\"fill\":{\"color\":\"#C8D4E3\"},\"line\":{\"color\":\"white\"}},\"type\":\"table\"}]},\"layout\":{\"annotationdefaults\":{\"arrowcolor\":\"#2a3f5f\",\"arrowhead\":0,\"arrowwidth\":1},\"autotypenumbers\":\"strict\",\"coloraxis\":{\"colorbar\":{\"outlinewidth\":0,\"ticks\":\"\"}},\"colorscale\":{\"diverging\":[[0,\"#8e0152\"],[0.1,\"#c51b7d\"],[0.2,\"#de77ae\"],[0.3,\"#f1b6da\"],[0.4,\"#fde0ef\"],[0.5,\"#f7f7f7\"],[0.6,\"#e6f5d0\"],[0.7,\"#b8e186\"],[0.8,\"#7fbc41\"],[0.9,\"#4d9221\"],[1,\"#276419\"]],\"sequential\":[[0.0,\"#0d0887\"],[0.1111111111111111,\"#46039f\"],[0.2222222222222222,\"#7201a8\"],[0.3333333333333333,\"#9c179e\"],[0.4444444444444444,\"#bd3786\"],[0.5555555555555556,\"#d8576b\"],[0.6666666666666666,\"#ed7953\"],[0.7777777777777778,\"#fb9f3a\"],[0.8888888888888888,\"#fdca26\"],[1.0,\"#f0f921\"]],\"sequentialminus\":[[0.0,\"#0d0887\"],[0.1111111111111111,\"#46039f\"],[0.2222222222222222,\"#7201a8\"],[0.3333333333333333,\"#9c179e\"],[0.4444444444444444,\"#bd3786\"],[0.5555555555555556,\"#d8576b\"],[0.6666666666666666,\"#ed7953\"],[0.7777777777777778,\"#fb9f3a\"],[0.8888888888888888,\"#fdca26\"],[1.0,\"#f0f921\"]]},\"colorway\":[\"#636efa\",\"#EF553B\",\"#00cc96\",\"#ab63fa\",\"#FFA15A\",\"#19d3f3\",\"#FF6692\",\"#B6E880\",\"#FF97FF\",\"#FECB52\"],\"font\":{\"color\":\"#2a3f5f\"},\"geo\":{\"bgcolor\":\"white\",\"lakecolor\":\"white\",\"landcolor\":\"#E5ECF6\",\"showlakes\":true,\"showland\":true,\"subunitcolor\":\"white\"},\"hoverlabel\":{\"align\":\"left\"},\"hovermode\":\"closest\",\"mapbox\":{\"style\":\"light\"},\"paper_bgcolor\":\"white\",\"plot_bgcolor\":\"#E5ECF6\",\"polar\":{\"angularaxis\":{\"gridcolor\":\"white\",\"linecolor\":\"white\",\"ticks\":\"\"},\"bgcolor\":\"#E5ECF6\",\"radialaxis\":{\"gridcolor\":\"white\",\"linecolor\":\"white\",\"ticks\":\"\"}},\"scene\":{\"xaxis\":{\"backgroundcolor\":\"#E5ECF6\",\"gridcolor\":\"white\",\"gridwidth\":2,\"linecolor\":\"white\",\"showbackground\":true,\"ticks\":\"\",\"zerolinecolor\":\"white\"},\"yaxis\":{\"backgroundcolor\":\"#E5ECF6\",\"gridcolor\":\"white\",\"gridwidth\":2,\"linecolor\":\"white\",\"showbackground\":true,\"ticks\":\"\",\"zerolinecolor\":\"white\"},\"zaxis\":{\"backgroundcolor\":\"#E5ECF6\",\"gridcolor\":\"white\",\"gridwidth\":2,\"linecolor\":\"white\",\"showbackground\":true,\"ticks\":\"\",\"zerolinecolor\":\"white\"}},\"shapedefaults\":{\"line\":{\"color\":\"#2a3f5f\"}},\"ternary\":{\"aaxis\":{\"gridcolor\":\"white\",\"linecolor\":\"white\",\"ticks\":\"\"},\"baxis\":{\"gridcolor\":\"white\",\"linecolor\":\"white\",\"ticks\":\"\"},\"bgcolor\":\"#E5ECF6\",\"caxis\":{\"gridcolor\":\"white\",\"linecolor\":\"white\",\"ticks\":\"\"}},\"title\":{\"x\":0.05},\"xaxis\":{\"automargin\":true,\"gridcolor\":\"white\",\"linecolor\":\"white\",\"ticks\":\"\",\"title\":{\"standoff\":15},\"zerolinecolor\":\"white\",\"zerolinewidth\":2},\"yaxis\":{\"automargin\":true,\"gridcolor\":\"white\",\"linecolor\":\"white\",\"ticks\":\"\",\"title\":{\"standoff\":15},\"zerolinecolor\":\"white\",\"zerolinewidth\":2}}},\"title\":{\"text\":\"Range of Motion kneeRight\"},\"width\":750,\"xaxis\":{\"title\":{\"font\":{\"color\":\"#7f7f7f\",\"family\":\"Courier New, monospace\",\"size\":18},\"text\":\"time [s]\"}},\"yaxis\":{\"title\":{\"font\":{\"color\":\"#7f7f7f\",\"family\":\"Courier New, monospace\",\"size\":18},\"text\":\"ROM [degrees]\"}}},                        {\"responsive\": true}                    ).then(function(){\n",
       "                            \n",
       "var gd = document.getElementById('75d86bc4-bfad-4304-839b-609b46721d2f');\n",
       "var x = new MutationObserver(function (mutations, observer) {{\n",
       "        var display = window.getComputedStyle(gd).display;\n",
       "        if (!display || display === 'none') {{\n",
       "            console.log([gd, 'removed!']);\n",
       "            Plotly.purge(gd);\n",
       "            observer.disconnect();\n",
       "        }}\n",
       "}});\n",
       "\n",
       "// Listen for the removal of the full notebook cells\n",
       "var notebookContainer = gd.closest('#notebook-container');\n",
       "if (notebookContainer) {{\n",
       "    x.observe(notebookContainer, {childList: true});\n",
       "}}\n",
       "\n",
       "// Listen for the clearing of the current output cell\n",
       "var outputEl = gd.closest('.output');\n",
       "if (outputEl) {{\n",
       "    x.observe(outputEl, {childList: true});\n",
       "}}\n",
       "\n",
       "                        })                };                });            </script>        </div>"
      ]
     },
     "metadata": {},
     "output_type": "display_data"
    },
    {
     "data": {
      "application/vnd.plotly.v1+json": {
       "config": {
        "linkText": "Export to plot.ly",
        "plotlyServerURL": "https://plot.ly",
        "showLink": false
       },
       "data": [
        {
         "line": {
          "color": "blue",
          "width": 3
         },
         "mode": "lines",
         "name": "Real trend",
         "type": "scatter",
         "x": [
          24.233115196228027,
          24.332800149917603,
          24.43332529067993,
          24.533143520355225,
          24.63327145576477,
          24.741224765777588,
          24.83667492866516,
          24.933400630950928,
          25.03368902206421,
          25.136213779449463,
          25.236974239349365,
          25.33634853363037,
          25.436240673065186,
          25.534266233444214,
          25.660048961639404,
          25.73537588119507,
          25.837066650390625,
          25.93694543838501,
          26.037134408950806,
          26.135271310806274,
          26.238525390625,
          26.33588480949402,
          26.436264991760254,
          26.5361270904541,
          26.636869430541992,
          26.736798763275146,
          26.83656358718872,
          26.936131238937378,
          27.037917852401733,
          27.136846780776978,
          27.236833333969116,
          27.337327480316162,
          27.439617395401,
          27.538838148117065,
          27.638164520263672,
          27.749006986618042,
          27.83854031562805,
          27.9455463886261,
          28.040802001953125,
          28.139883041381836,
          28.239752769470215,
          28.339375257492065,
          28.439257621765137,
          28.540772676467896,
          28.64122200012207,
          28.740676641464233,
          28.842568397521973,
          28.945440530776978,
          29.04046893119812,
          29.14072895050049,
          29.241145849227905,
          29.340039253234863,
          29.439839601516724,
          29.54038095474243,
          29.63996434211731,
          29.739933252334595,
          29.846254587173462,
          29.94089412689209,
          30.04071307182312,
          30.144608736038208,
          30.240516185760498,
          30.34049105644226,
          30.44564700126648,
          30.55128312110901,
          30.640730619430542,
          30.742594957351685,
          30.84181499481201,
          30.943175554275513,
          31.05737829208374,
          31.142616987228394,
          31.24183678627014,
          31.342342376708984,
          31.44289994239807,
          31.5424702167511,
          31.643161296844482,
          31.74295926094055,
          31.84236192703247,
          31.94386625289917,
          32.04418087005615,
          32.14330244064331,
          32.24445056915283,
          32.343778133392334,
          32.449652910232544,
          32.544663190841675,
          32.64774417877197,
          32.744690895080566,
          32.84504675865173,
          32.944618463516235,
          33.05396890640259,
          33.143632888793945,
          33.24526834487915,
          33.345051288604736,
          33.44400191307068,
          33.55854344367981,
          33.64385724067688,
          33.74412751197815,
          33.84885501861572,
          33.94433307647705,
          34.044235944747925,
          34.14453125,
          34.24451446533203,
          34.34574580192566,
          34.448670625686646,
          34.54504442214966,
          34.64591407775879,
          34.744818449020386,
          34.84493112564087,
          34.945334911346436,
          35.049182176589966,
          35.146583557128906,
          35.24837875366211,
          35.34727358818054,
          35.45433211326599,
          35.545390129089355,
          35.656078577041626,
          35.746832847595215,
          35.8473219871521,
          35.94709372520447,
          36.0468065738678,
          36.14607119560242,
          36.24921727180481,
          36.34639763832092,
          36.454500675201416,
          36.54650640487671,
          36.65474462509155,
          36.749191999435425,
          36.85453176498413,
          36.95210886001587,
          37.047197103500366,
          37.14702796936035,
          37.24901580810547,
          37.34686207771301,
          37.447104692459106,
          37.54842662811279,
          37.64687538146973,
          37.74915027618408,
          37.84915614128113,
          37.948790311813354,
          38.04765033721924,
          38.14885377883911,
          38.24823212623596,
          38.35143542289734,
          38.45007371902466,
          38.55542993545532,
          38.65315294265747,
          38.75039100646973,
          38.85027742385864,
          38.950366497039795,
          39.05031752586365,
          39.150487184524536,
          39.25821256637573,
          39.35039734840393,
          39.45201921463013,
          39.55043816566467,
          39.650450229644775,
          39.75240468978882,
          39.85030198097229,
          39.9519202709198,
          40.05151343345642,
          40.15075707435608,
          40.253804206848145,
          40.36140036582947,
          40.450860261917114,
          40.55409598350525,
          40.65131616592407,
          40.75186371803284,
          40.85239887237549,
          40.95355796813965,
          41.05352592468262,
          41.16284155845642,
          41.252413749694824,
          41.3540472984314,
          41.455708026885986,
          41.55463624000549,
          41.652626037597656,
          41.75363826751709,
          41.855064392089844,
          41.953187227249146,
          42.05310916900635,
          42.15421986579895,
          42.25406765937805,
          42.35616064071655,
          42.45375347137451,
          42.55452561378479,
          42.65626549720764,
          42.7549045085907,
          42.85430359840393,
          42.954716205596924,
          43.0550434589386,
          43.15387988090515,
          43.26676344871521,
          43.35433602333069,
          43.45442318916321,
          43.55426049232483,
          43.65690588951111,
          43.754761695861816,
          43.85465598106384,
          43.95766234397888,
          44.05765414237976,
          44.15516233444214,
          44.255306243896484,
          44.35650944709778,
          44.4564106464386,
          44.558196783065796,
          44.65524959564209,
          44.75663423538208,
          44.855653285980225,
          44.956889152526855,
          45.056891202926636,
          45.15617251396179,
          45.259347915649414,
          45.35649275779724,
          45.4566650390625,
          45.55965876579285,
          45.6593382358551,
          45.756914138793945,
          45.8582808971405,
          45.95721650123596,
          46.058391094207764,
          46.157426595687866,
          46.258829832077026,
          46.36005163192749,
          46.45975947380066,
          46.55997109413147,
          46.66822338104248,
          46.7590754032135,
          46.859297037124634,
          46.959229946136475,
          47.05930709838867,
          47.160308599472046,
          47.25964903831482,
          47.35964608192444,
          47.45954132080078,
          47.56847953796387,
          47.65980339050293,
          47.76070761680603,
          47.860949993133545,
          47.96102738380432,
          48.0608868598938,
          48.16973042488098,
          48.26136255264282,
          48.3635528087616,
          48.46225309371948,
          48.56248378753662,
          48.66207695007324,
          48.761430740356445,
          48.86470699310303,
          48.96166253089905,
          49.06158661842346,
          49.16189455986023,
          49.26649451255798,
          49.362058877944946,
          49.46488690376282,
          49.56207346916199,
          49.6636598110199,
          49.763437032699585,
          49.86710548400879,
          49.966618061065674,
          50.06493520736694,
          50.16594886779785,
          50.263988971710205,
          50.36377811431885,
          50.46897530555725,
          50.56509709358215,
          50.663946866989136,
          50.76420331001282,
          50.865792751312256,
          50.96528196334839,
          51.06493139266968,
          51.16599106788635,
          51.264713525772095,
          51.36483836174011,
          51.466283082962036,
          51.56488108634949,
          51.66627740859985,
          51.76533913612366,
          51.86521315574646,
          51.965941190719604,
          52.06543946266174,
          52.165924072265625,
          52.267369985580444,
          52.36658000946045,
          52.46628165245056,
          52.5660502910614,
          52.668837785720825,
          52.765990257263184,
          52.865904331207275,
          52.967106342315674,
          53.07641339302063,
          53.16690969467163,
          53.270140647888184,
          53.36931872367859,
          53.46704411506653,
          53.56643581390381,
          53.6758246421814,
          53.76804304122925,
          53.86708450317383,
          53.967583656311035,
          54.06740736961365,
          54.168564558029175,
          54.26759457588196,
          54.36831283569336,
          54.46784591674805,
          54.56783151626587,
          54.667638301849365,
          54.768479108810425,
          54.86789917945862,
          54.96787142753601,
          55.067992210388184,
          55.171016454696655,
          55.269285917282104,
          55.36903381347656,
          55.468350648880005,
          55.570322036743164,
          55.67030596733093,
          55.77029013633728,
          55.87521815299988,
          55.97042274475098,
          56.07261395454407,
          56.17239284515381,
          56.27244687080383,
          56.37264847755432,
          56.48825979232788,
          56.57243776321411,
          56.68163299560547,
          56.77378845214844,
          56.87340188026428,
          56.97399425506592,
          57.073071241378784,
          57.17336463928223,
          57.2733998298645,
          57.37728786468506,
          57.47473859786987,
          57.57391428947449,
          57.6785364151001,
          57.77704167366028,
          57.87393260002136,
          57.975202560424805,
          58.07394576072693,
          58.174970388412476,
          58.27534246444702,
          58.37405180931091,
          58.49008274078369,
          58.57447624206543,
          58.674320459365845,
          58.77466368675232,
          58.87987661361694,
          58.974895000457764,
          59.074692249298096,
          59.17652249336243,
          59.27519130706787,
          59.376720666885376,
          59.48024845123291,
          59.57504415512085,
          59.67632222175598,
          59.775283336639404,
          59.87633013725281,
          59.9767279624939,
          60.07995295524597,
          60.176642417907715,
          60.27666091918945,
          60.3757860660553,
          60.475781202316284,
          60.57788562774658,
          60.676915884017944,
          60.78098464012146,
          60.878838777542114,
          60.9773690700531,
          61.07639503479004,
          61.17762112617493,
          61.27669715881348,
          61.378113746643066,
          61.481345415115356,
          61.57789969444275,
          61.68140506744385,
          61.77827453613281,
          61.87871265411377,
          61.97990441322327,
          62.08743119239807,
          62.17740345001221,
          62.28377366065979,
          62.377360105514526,
          62.48196077346802,
          62.577552795410156,
          62.67955780029297,
          62.77953815460205,
          62.88564467430115,
          62.97774291038513,
          63.07864475250244,
          63.179381370544434,
          63.27934241294861,
          63.38161492347717,
          63.49756383895874,
          63.578343868255615,
          63.68144154548645,
          63.7796425819397,
          63.882205963134766,
          63.982651472091675,
          64.08018064498901,
          64.18289732933044,
          64.28019547462463,
          64.38835501670837,
          64.47988796234131,
          64.58415126800537,
          64.681893825531,
          64.79290437698364,
          64.88766360282898,
          64.98255801200867,
          65.08255767822266,
          65.18253898620605,
          65.28386378288269,
          65.38267874717712,
          65.48333883285522,
          65.58333897590637,
          65.68291187286377,
          65.78422260284424,
          65.88682770729065,
          65.98398804664612,
          66.08520674705505,
          66.18757677078247,
          66.2843267917633,
          66.38681292533875,
          66.48536348342896,
          66.59144806861877,
          66.70076823234558,
          66.78522777557373,
          66.8854010105133,
          66.99277520179749,
          67.09571313858032,
          67.18712520599365,
          67.29626321792603,
          67.38522362709045,
          67.48535013198853,
          67.60217905044556,
          67.6925277709961,
          67.79683327674866,
          67.89559507369995,
          67.99541354179382,
          68.09643268585205,
          68.19452285766602,
          68.29497075080872,
          68.3873176574707,
          68.48790216445923,
          68.6015555858612,
          68.68706679344177,
          68.81795263290405
         ],
         "y": [
          90,
          90,
          90,
          90,
          90,
          90,
          90,
          90,
          90,
          90,
          90,
          90,
          90,
          90,
          90,
          90,
          90,
          90,
          90,
          90,
          90,
          90,
          90,
          90,
          90,
          90,
          90,
          90,
          90,
          90,
          90,
          90,
          90,
          90,
          90,
          90,
          90,
          90,
          90,
          90,
          90,
          90,
          90,
          90,
          90,
          90,
          90,
          90,
          90,
          90,
          90,
          90,
          90,
          90,
          90,
          90,
          90,
          90,
          90,
          90,
          90,
          90,
          90,
          90,
          90,
          90,
          90,
          90,
          90,
          90,
          90,
          90,
          90,
          90,
          90,
          90,
          90,
          90,
          90,
          90,
          90,
          90,
          90,
          90,
          90,
          90,
          90,
          90,
          90,
          90,
          90,
          90,
          90,
          90,
          90,
          90,
          90,
          90,
          90,
          90,
          90,
          90,
          90,
          90,
          90,
          90,
          90,
          90,
          90,
          90,
          90,
          90,
          90,
          90,
          90,
          90,
          90,
          90,
          90,
          90,
          90,
          90,
          90,
          90,
          90,
          90,
          90,
          90,
          90,
          90,
          90,
          90,
          90,
          90,
          90,
          90,
          90,
          90,
          90,
          90,
          90,
          90,
          90,
          90,
          90,
          90,
          90,
          90,
          90,
          90,
          90,
          90,
          90,
          90,
          90,
          90,
          90,
          90,
          90,
          90,
          90,
          90,
          90,
          90,
          90,
          90,
          90,
          90,
          90,
          90,
          90,
          90,
          90,
          90,
          90,
          90,
          90,
          90,
          90,
          90,
          90,
          90,
          90,
          90,
          90,
          90,
          90,
          90,
          90,
          90,
          90,
          90,
          90,
          90,
          90,
          90,
          90,
          90,
          90,
          90,
          90,
          90,
          90,
          90,
          90,
          90,
          90,
          90,
          90,
          90,
          90,
          90,
          90,
          90,
          90,
          90,
          90,
          90,
          90,
          90,
          90,
          90,
          90,
          90,
          90,
          90,
          90,
          90,
          90,
          90,
          90,
          90,
          90,
          90,
          90,
          90,
          90,
          90,
          90,
          90,
          90,
          90,
          90,
          90,
          90,
          90,
          90,
          90,
          90,
          90,
          90,
          90,
          90,
          90,
          90,
          90,
          90,
          90,
          90,
          90,
          90,
          90,
          90,
          90,
          90,
          90,
          90,
          90,
          90,
          90,
          90,
          90,
          90,
          90,
          90,
          90,
          90,
          90,
          90,
          90,
          90,
          90,
          90,
          90,
          90,
          90,
          90,
          90,
          90,
          90,
          90,
          90,
          90,
          90,
          90,
          90,
          90,
          90,
          90,
          90,
          90,
          90,
          90,
          90,
          90,
          90,
          90,
          90,
          90,
          90,
          90,
          90,
          90,
          90,
          90,
          90,
          90,
          90,
          90,
          90,
          90,
          90,
          90,
          90,
          90,
          90,
          90,
          90,
          90,
          90,
          90,
          90,
          90,
          90,
          90,
          90,
          90,
          90,
          90,
          90,
          90,
          90,
          90,
          90,
          90,
          90,
          90,
          90,
          90,
          90,
          90,
          90,
          90,
          90,
          90,
          90,
          90,
          90,
          90,
          90,
          90,
          90,
          90,
          90,
          90,
          90,
          90,
          90,
          90,
          90,
          90,
          90,
          90,
          90,
          90,
          90,
          90,
          90,
          90,
          90,
          90,
          90,
          90,
          90,
          90,
          90,
          90,
          90,
          90,
          90,
          90,
          90,
          90,
          90,
          90,
          90,
          90,
          90,
          90,
          90,
          90,
          90,
          90,
          90,
          90,
          90,
          90,
          90,
          90,
          90,
          90,
          90,
          90,
          90,
          90,
          90,
          90,
          90,
          90,
          90,
          90,
          90,
          90,
          90,
          90,
          90,
          90,
          90,
          90,
          90,
          90,
          90,
          90,
          90,
          90,
          90,
          90,
          90,
          90,
          90,
          90,
          90,
          90,
          90,
          90
         ]
        }
       ],
       "layout": {
        "autosize": false,
        "font": {
         "color": "black",
         "family": "Courier New, monospace",
         "size": 22
        },
        "height": 600,
        "template": {
         "data": {
          "bar": [
           {
            "error_x": {
             "color": "#2a3f5f"
            },
            "error_y": {
             "color": "#2a3f5f"
            },
            "marker": {
             "line": {
              "color": "#E5ECF6",
              "width": 0.5
             },
             "pattern": {
              "fillmode": "overlay",
              "size": 10,
              "solidity": 0.2
             }
            },
            "type": "bar"
           }
          ],
          "barpolar": [
           {
            "marker": {
             "line": {
              "color": "#E5ECF6",
              "width": 0.5
             },
             "pattern": {
              "fillmode": "overlay",
              "size": 10,
              "solidity": 0.2
             }
            },
            "type": "barpolar"
           }
          ],
          "carpet": [
           {
            "aaxis": {
             "endlinecolor": "#2a3f5f",
             "gridcolor": "white",
             "linecolor": "white",
             "minorgridcolor": "white",
             "startlinecolor": "#2a3f5f"
            },
            "baxis": {
             "endlinecolor": "#2a3f5f",
             "gridcolor": "white",
             "linecolor": "white",
             "minorgridcolor": "white",
             "startlinecolor": "#2a3f5f"
            },
            "type": "carpet"
           }
          ],
          "choropleth": [
           {
            "colorbar": {
             "outlinewidth": 0,
             "ticks": ""
            },
            "type": "choropleth"
           }
          ],
          "contour": [
           {
            "colorbar": {
             "outlinewidth": 0,
             "ticks": ""
            },
            "colorscale": [
             [
              0,
              "#0d0887"
             ],
             [
              0.1111111111111111,
              "#46039f"
             ],
             [
              0.2222222222222222,
              "#7201a8"
             ],
             [
              0.3333333333333333,
              "#9c179e"
             ],
             [
              0.4444444444444444,
              "#bd3786"
             ],
             [
              0.5555555555555556,
              "#d8576b"
             ],
             [
              0.6666666666666666,
              "#ed7953"
             ],
             [
              0.7777777777777778,
              "#fb9f3a"
             ],
             [
              0.8888888888888888,
              "#fdca26"
             ],
             [
              1,
              "#f0f921"
             ]
            ],
            "type": "contour"
           }
          ],
          "contourcarpet": [
           {
            "colorbar": {
             "outlinewidth": 0,
             "ticks": ""
            },
            "type": "contourcarpet"
           }
          ],
          "heatmap": [
           {
            "colorbar": {
             "outlinewidth": 0,
             "ticks": ""
            },
            "colorscale": [
             [
              0,
              "#0d0887"
             ],
             [
              0.1111111111111111,
              "#46039f"
             ],
             [
              0.2222222222222222,
              "#7201a8"
             ],
             [
              0.3333333333333333,
              "#9c179e"
             ],
             [
              0.4444444444444444,
              "#bd3786"
             ],
             [
              0.5555555555555556,
              "#d8576b"
             ],
             [
              0.6666666666666666,
              "#ed7953"
             ],
             [
              0.7777777777777778,
              "#fb9f3a"
             ],
             [
              0.8888888888888888,
              "#fdca26"
             ],
             [
              1,
              "#f0f921"
             ]
            ],
            "type": "heatmap"
           }
          ],
          "heatmapgl": [
           {
            "colorbar": {
             "outlinewidth": 0,
             "ticks": ""
            },
            "colorscale": [
             [
              0,
              "#0d0887"
             ],
             [
              0.1111111111111111,
              "#46039f"
             ],
             [
              0.2222222222222222,
              "#7201a8"
             ],
             [
              0.3333333333333333,
              "#9c179e"
             ],
             [
              0.4444444444444444,
              "#bd3786"
             ],
             [
              0.5555555555555556,
              "#d8576b"
             ],
             [
              0.6666666666666666,
              "#ed7953"
             ],
             [
              0.7777777777777778,
              "#fb9f3a"
             ],
             [
              0.8888888888888888,
              "#fdca26"
             ],
             [
              1,
              "#f0f921"
             ]
            ],
            "type": "heatmapgl"
           }
          ],
          "histogram": [
           {
            "marker": {
             "pattern": {
              "fillmode": "overlay",
              "size": 10,
              "solidity": 0.2
             }
            },
            "type": "histogram"
           }
          ],
          "histogram2d": [
           {
            "colorbar": {
             "outlinewidth": 0,
             "ticks": ""
            },
            "colorscale": [
             [
              0,
              "#0d0887"
             ],
             [
              0.1111111111111111,
              "#46039f"
             ],
             [
              0.2222222222222222,
              "#7201a8"
             ],
             [
              0.3333333333333333,
              "#9c179e"
             ],
             [
              0.4444444444444444,
              "#bd3786"
             ],
             [
              0.5555555555555556,
              "#d8576b"
             ],
             [
              0.6666666666666666,
              "#ed7953"
             ],
             [
              0.7777777777777778,
              "#fb9f3a"
             ],
             [
              0.8888888888888888,
              "#fdca26"
             ],
             [
              1,
              "#f0f921"
             ]
            ],
            "type": "histogram2d"
           }
          ],
          "histogram2dcontour": [
           {
            "colorbar": {
             "outlinewidth": 0,
             "ticks": ""
            },
            "colorscale": [
             [
              0,
              "#0d0887"
             ],
             [
              0.1111111111111111,
              "#46039f"
             ],
             [
              0.2222222222222222,
              "#7201a8"
             ],
             [
              0.3333333333333333,
              "#9c179e"
             ],
             [
              0.4444444444444444,
              "#bd3786"
             ],
             [
              0.5555555555555556,
              "#d8576b"
             ],
             [
              0.6666666666666666,
              "#ed7953"
             ],
             [
              0.7777777777777778,
              "#fb9f3a"
             ],
             [
              0.8888888888888888,
              "#fdca26"
             ],
             [
              1,
              "#f0f921"
             ]
            ],
            "type": "histogram2dcontour"
           }
          ],
          "mesh3d": [
           {
            "colorbar": {
             "outlinewidth": 0,
             "ticks": ""
            },
            "type": "mesh3d"
           }
          ],
          "parcoords": [
           {
            "line": {
             "colorbar": {
              "outlinewidth": 0,
              "ticks": ""
             }
            },
            "type": "parcoords"
           }
          ],
          "pie": [
           {
            "automargin": true,
            "type": "pie"
           }
          ],
          "scatter": [
           {
            "fillpattern": {
             "fillmode": "overlay",
             "size": 10,
             "solidity": 0.2
            },
            "type": "scatter"
           }
          ],
          "scatter3d": [
           {
            "line": {
             "colorbar": {
              "outlinewidth": 0,
              "ticks": ""
             }
            },
            "marker": {
             "colorbar": {
              "outlinewidth": 0,
              "ticks": ""
             }
            },
            "type": "scatter3d"
           }
          ],
          "scattercarpet": [
           {
            "marker": {
             "colorbar": {
              "outlinewidth": 0,
              "ticks": ""
             }
            },
            "type": "scattercarpet"
           }
          ],
          "scattergeo": [
           {
            "marker": {
             "colorbar": {
              "outlinewidth": 0,
              "ticks": ""
             }
            },
            "type": "scattergeo"
           }
          ],
          "scattergl": [
           {
            "marker": {
             "colorbar": {
              "outlinewidth": 0,
              "ticks": ""
             }
            },
            "type": "scattergl"
           }
          ],
          "scattermapbox": [
           {
            "marker": {
             "colorbar": {
              "outlinewidth": 0,
              "ticks": ""
             }
            },
            "type": "scattermapbox"
           }
          ],
          "scatterpolar": [
           {
            "marker": {
             "colorbar": {
              "outlinewidth": 0,
              "ticks": ""
             }
            },
            "type": "scatterpolar"
           }
          ],
          "scatterpolargl": [
           {
            "marker": {
             "colorbar": {
              "outlinewidth": 0,
              "ticks": ""
             }
            },
            "type": "scatterpolargl"
           }
          ],
          "scatterternary": [
           {
            "marker": {
             "colorbar": {
              "outlinewidth": 0,
              "ticks": ""
             }
            },
            "type": "scatterternary"
           }
          ],
          "surface": [
           {
            "colorbar": {
             "outlinewidth": 0,
             "ticks": ""
            },
            "colorscale": [
             [
              0,
              "#0d0887"
             ],
             [
              0.1111111111111111,
              "#46039f"
             ],
             [
              0.2222222222222222,
              "#7201a8"
             ],
             [
              0.3333333333333333,
              "#9c179e"
             ],
             [
              0.4444444444444444,
              "#bd3786"
             ],
             [
              0.5555555555555556,
              "#d8576b"
             ],
             [
              0.6666666666666666,
              "#ed7953"
             ],
             [
              0.7777777777777778,
              "#fb9f3a"
             ],
             [
              0.8888888888888888,
              "#fdca26"
             ],
             [
              1,
              "#f0f921"
             ]
            ],
            "type": "surface"
           }
          ],
          "table": [
           {
            "cells": {
             "fill": {
              "color": "#EBF0F8"
             },
             "line": {
              "color": "white"
             }
            },
            "header": {
             "fill": {
              "color": "#C8D4E3"
             },
             "line": {
              "color": "white"
             }
            },
            "type": "table"
           }
          ]
         },
         "layout": {
          "annotationdefaults": {
           "arrowcolor": "#2a3f5f",
           "arrowhead": 0,
           "arrowwidth": 1
          },
          "autotypenumbers": "strict",
          "coloraxis": {
           "colorbar": {
            "outlinewidth": 0,
            "ticks": ""
           }
          },
          "colorscale": {
           "diverging": [
            [
             0,
             "#8e0152"
            ],
            [
             0.1,
             "#c51b7d"
            ],
            [
             0.2,
             "#de77ae"
            ],
            [
             0.3,
             "#f1b6da"
            ],
            [
             0.4,
             "#fde0ef"
            ],
            [
             0.5,
             "#f7f7f7"
            ],
            [
             0.6,
             "#e6f5d0"
            ],
            [
             0.7,
             "#b8e186"
            ],
            [
             0.8,
             "#7fbc41"
            ],
            [
             0.9,
             "#4d9221"
            ],
            [
             1,
             "#276419"
            ]
           ],
           "sequential": [
            [
             0,
             "#0d0887"
            ],
            [
             0.1111111111111111,
             "#46039f"
            ],
            [
             0.2222222222222222,
             "#7201a8"
            ],
            [
             0.3333333333333333,
             "#9c179e"
            ],
            [
             0.4444444444444444,
             "#bd3786"
            ],
            [
             0.5555555555555556,
             "#d8576b"
            ],
            [
             0.6666666666666666,
             "#ed7953"
            ],
            [
             0.7777777777777778,
             "#fb9f3a"
            ],
            [
             0.8888888888888888,
             "#fdca26"
            ],
            [
             1,
             "#f0f921"
            ]
           ],
           "sequentialminus": [
            [
             0,
             "#0d0887"
            ],
            [
             0.1111111111111111,
             "#46039f"
            ],
            [
             0.2222222222222222,
             "#7201a8"
            ],
            [
             0.3333333333333333,
             "#9c179e"
            ],
            [
             0.4444444444444444,
             "#bd3786"
            ],
            [
             0.5555555555555556,
             "#d8576b"
            ],
            [
             0.6666666666666666,
             "#ed7953"
            ],
            [
             0.7777777777777778,
             "#fb9f3a"
            ],
            [
             0.8888888888888888,
             "#fdca26"
            ],
            [
             1,
             "#f0f921"
            ]
           ]
          },
          "colorway": [
           "#636efa",
           "#EF553B",
           "#00cc96",
           "#ab63fa",
           "#FFA15A",
           "#19d3f3",
           "#FF6692",
           "#B6E880",
           "#FF97FF",
           "#FECB52"
          ],
          "font": {
           "color": "#2a3f5f"
          },
          "geo": {
           "bgcolor": "white",
           "lakecolor": "white",
           "landcolor": "#E5ECF6",
           "showlakes": true,
           "showland": true,
           "subunitcolor": "white"
          },
          "hoverlabel": {
           "align": "left"
          },
          "hovermode": "closest",
          "mapbox": {
           "style": "light"
          },
          "paper_bgcolor": "white",
          "plot_bgcolor": "#E5ECF6",
          "polar": {
           "angularaxis": {
            "gridcolor": "white",
            "linecolor": "white",
            "ticks": ""
           },
           "bgcolor": "#E5ECF6",
           "radialaxis": {
            "gridcolor": "white",
            "linecolor": "white",
            "ticks": ""
           }
          },
          "scene": {
           "xaxis": {
            "backgroundcolor": "#E5ECF6",
            "gridcolor": "white",
            "gridwidth": 2,
            "linecolor": "white",
            "showbackground": true,
            "ticks": "",
            "zerolinecolor": "white"
           },
           "yaxis": {
            "backgroundcolor": "#E5ECF6",
            "gridcolor": "white",
            "gridwidth": 2,
            "linecolor": "white",
            "showbackground": true,
            "ticks": "",
            "zerolinecolor": "white"
           },
           "zaxis": {
            "backgroundcolor": "#E5ECF6",
            "gridcolor": "white",
            "gridwidth": 2,
            "linecolor": "white",
            "showbackground": true,
            "ticks": "",
            "zerolinecolor": "white"
           }
          },
          "shapedefaults": {
           "line": {
            "color": "#2a3f5f"
           }
          },
          "ternary": {
           "aaxis": {
            "gridcolor": "white",
            "linecolor": "white",
            "ticks": ""
           },
           "baxis": {
            "gridcolor": "white",
            "linecolor": "white",
            "ticks": ""
           },
           "bgcolor": "#E5ECF6",
           "caxis": {
            "gridcolor": "white",
            "linecolor": "white",
            "ticks": ""
           }
          },
          "title": {
           "x": 0.05
          },
          "xaxis": {
           "automargin": true,
           "gridcolor": "white",
           "linecolor": "white",
           "ticks": "",
           "title": {
            "standoff": 15
           },
           "zerolinecolor": "white",
           "zerolinewidth": 2
          },
          "yaxis": {
           "automargin": true,
           "gridcolor": "white",
           "linecolor": "white",
           "ticks": "",
           "title": {
            "standoff": 15
           },
           "zerolinecolor": "white",
           "zerolinewidth": 2
          }
         }
        },
        "title": {
         "text": "Range of Motion ankleRight"
        },
        "width": 750,
        "xaxis": {
         "title": {
          "font": {
           "color": "#7f7f7f",
           "family": "Courier New, monospace",
           "size": 18
          },
          "text": "time [s]"
         }
        },
        "yaxis": {
         "title": {
          "font": {
           "color": "#7f7f7f",
           "family": "Courier New, monospace",
           "size": 18
          },
          "text": "ROM [degrees]"
         }
        }
       }
      },
      "text/html": [
       "<div>                            <div id=\"9eb5e420-f696-4413-a080-70eec6eee14d\" class=\"plotly-graph-div\" style=\"height:600px; width:750px;\"></div>            <script type=\"text/javascript\">                require([\"plotly\"], function(Plotly) {                    window.PLOTLYENV=window.PLOTLYENV || {};                                    if (document.getElementById(\"9eb5e420-f696-4413-a080-70eec6eee14d\")) {                    Plotly.newPlot(                        \"9eb5e420-f696-4413-a080-70eec6eee14d\",                        [{\"line\":{\"color\":\"blue\",\"width\":3},\"mode\":\"lines\",\"name\":\"Real trend\",\"x\":[24.233115196228027,24.332800149917603,24.43332529067993,24.533143520355225,24.63327145576477,24.741224765777588,24.83667492866516,24.933400630950928,25.03368902206421,25.136213779449463,25.236974239349365,25.33634853363037,25.436240673065186,25.534266233444214,25.660048961639404,25.73537588119507,25.837066650390625,25.93694543838501,26.037134408950806,26.135271310806274,26.238525390625,26.33588480949402,26.436264991760254,26.5361270904541,26.636869430541992,26.736798763275146,26.83656358718872,26.936131238937378,27.037917852401733,27.136846780776978,27.236833333969116,27.337327480316162,27.439617395401,27.538838148117065,27.638164520263672,27.749006986618042,27.83854031562805,27.9455463886261,28.040802001953125,28.139883041381836,28.239752769470215,28.339375257492065,28.439257621765137,28.540772676467896,28.64122200012207,28.740676641464233,28.842568397521973,28.945440530776978,29.04046893119812,29.14072895050049,29.241145849227905,29.340039253234863,29.439839601516724,29.54038095474243,29.63996434211731,29.739933252334595,29.846254587173462,29.94089412689209,30.04071307182312,30.144608736038208,30.240516185760498,30.34049105644226,30.44564700126648,30.55128312110901,30.640730619430542,30.742594957351685,30.84181499481201,30.943175554275513,31.05737829208374,31.142616987228394,31.24183678627014,31.342342376708984,31.44289994239807,31.5424702167511,31.643161296844482,31.74295926094055,31.84236192703247,31.94386625289917,32.04418087005615,32.14330244064331,32.24445056915283,32.343778133392334,32.449652910232544,32.544663190841675,32.64774417877197,32.744690895080566,32.84504675865173,32.944618463516235,33.05396890640259,33.143632888793945,33.24526834487915,33.345051288604736,33.44400191307068,33.55854344367981,33.64385724067688,33.74412751197815,33.84885501861572,33.94433307647705,34.044235944747925,34.14453125,34.24451446533203,34.34574580192566,34.448670625686646,34.54504442214966,34.64591407775879,34.744818449020386,34.84493112564087,34.945334911346436,35.049182176589966,35.146583557128906,35.24837875366211,35.34727358818054,35.45433211326599,35.545390129089355,35.656078577041626,35.746832847595215,35.8473219871521,35.94709372520447,36.0468065738678,36.14607119560242,36.24921727180481,36.34639763832092,36.454500675201416,36.54650640487671,36.65474462509155,36.749191999435425,36.85453176498413,36.95210886001587,37.047197103500366,37.14702796936035,37.24901580810547,37.34686207771301,37.447104692459106,37.54842662811279,37.64687538146973,37.74915027618408,37.84915614128113,37.948790311813354,38.04765033721924,38.14885377883911,38.24823212623596,38.35143542289734,38.45007371902466,38.55542993545532,38.65315294265747,38.75039100646973,38.85027742385864,38.950366497039795,39.05031752586365,39.150487184524536,39.25821256637573,39.35039734840393,39.45201921463013,39.55043816566467,39.650450229644775,39.75240468978882,39.85030198097229,39.9519202709198,40.05151343345642,40.15075707435608,40.253804206848145,40.36140036582947,40.450860261917114,40.55409598350525,40.65131616592407,40.75186371803284,40.85239887237549,40.95355796813965,41.05352592468262,41.16284155845642,41.252413749694824,41.3540472984314,41.455708026885986,41.55463624000549,41.652626037597656,41.75363826751709,41.855064392089844,41.953187227249146,42.05310916900635,42.15421986579895,42.25406765937805,42.35616064071655,42.45375347137451,42.55452561378479,42.65626549720764,42.7549045085907,42.85430359840393,42.954716205596924,43.0550434589386,43.15387988090515,43.26676344871521,43.35433602333069,43.45442318916321,43.55426049232483,43.65690588951111,43.754761695861816,43.85465598106384,43.95766234397888,44.05765414237976,44.15516233444214,44.255306243896484,44.35650944709778,44.4564106464386,44.558196783065796,44.65524959564209,44.75663423538208,44.855653285980225,44.956889152526855,45.056891202926636,45.15617251396179,45.259347915649414,45.35649275779724,45.4566650390625,45.55965876579285,45.6593382358551,45.756914138793945,45.8582808971405,45.95721650123596,46.058391094207764,46.157426595687866,46.258829832077026,46.36005163192749,46.45975947380066,46.55997109413147,46.66822338104248,46.7590754032135,46.859297037124634,46.959229946136475,47.05930709838867,47.160308599472046,47.25964903831482,47.35964608192444,47.45954132080078,47.56847953796387,47.65980339050293,47.76070761680603,47.860949993133545,47.96102738380432,48.0608868598938,48.16973042488098,48.26136255264282,48.3635528087616,48.46225309371948,48.56248378753662,48.66207695007324,48.761430740356445,48.86470699310303,48.96166253089905,49.06158661842346,49.16189455986023,49.26649451255798,49.362058877944946,49.46488690376282,49.56207346916199,49.6636598110199,49.763437032699585,49.86710548400879,49.966618061065674,50.06493520736694,50.16594886779785,50.263988971710205,50.36377811431885,50.46897530555725,50.56509709358215,50.663946866989136,50.76420331001282,50.865792751312256,50.96528196334839,51.06493139266968,51.16599106788635,51.264713525772095,51.36483836174011,51.466283082962036,51.56488108634949,51.66627740859985,51.76533913612366,51.86521315574646,51.965941190719604,52.06543946266174,52.165924072265625,52.267369985580444,52.36658000946045,52.46628165245056,52.5660502910614,52.668837785720825,52.765990257263184,52.865904331207275,52.967106342315674,53.07641339302063,53.16690969467163,53.270140647888184,53.36931872367859,53.46704411506653,53.56643581390381,53.6758246421814,53.76804304122925,53.86708450317383,53.967583656311035,54.06740736961365,54.168564558029175,54.26759457588196,54.36831283569336,54.46784591674805,54.56783151626587,54.667638301849365,54.768479108810425,54.86789917945862,54.96787142753601,55.067992210388184,55.171016454696655,55.269285917282104,55.36903381347656,55.468350648880005,55.570322036743164,55.67030596733093,55.77029013633728,55.87521815299988,55.97042274475098,56.07261395454407,56.17239284515381,56.27244687080383,56.37264847755432,56.48825979232788,56.57243776321411,56.68163299560547,56.77378845214844,56.87340188026428,56.97399425506592,57.073071241378784,57.17336463928223,57.2733998298645,57.37728786468506,57.47473859786987,57.57391428947449,57.6785364151001,57.77704167366028,57.87393260002136,57.975202560424805,58.07394576072693,58.174970388412476,58.27534246444702,58.37405180931091,58.49008274078369,58.57447624206543,58.674320459365845,58.77466368675232,58.87987661361694,58.974895000457764,59.074692249298096,59.17652249336243,59.27519130706787,59.376720666885376,59.48024845123291,59.57504415512085,59.67632222175598,59.775283336639404,59.87633013725281,59.9767279624939,60.07995295524597,60.176642417907715,60.27666091918945,60.3757860660553,60.475781202316284,60.57788562774658,60.676915884017944,60.78098464012146,60.878838777542114,60.9773690700531,61.07639503479004,61.17762112617493,61.27669715881348,61.378113746643066,61.481345415115356,61.57789969444275,61.68140506744385,61.77827453613281,61.87871265411377,61.97990441322327,62.08743119239807,62.17740345001221,62.28377366065979,62.377360105514526,62.48196077346802,62.577552795410156,62.67955780029297,62.77953815460205,62.88564467430115,62.97774291038513,63.07864475250244,63.179381370544434,63.27934241294861,63.38161492347717,63.49756383895874,63.578343868255615,63.68144154548645,63.7796425819397,63.882205963134766,63.982651472091675,64.08018064498901,64.18289732933044,64.28019547462463,64.38835501670837,64.47988796234131,64.58415126800537,64.681893825531,64.79290437698364,64.88766360282898,64.98255801200867,65.08255767822266,65.18253898620605,65.28386378288269,65.38267874717712,65.48333883285522,65.58333897590637,65.68291187286377,65.78422260284424,65.88682770729065,65.98398804664612,66.08520674705505,66.18757677078247,66.2843267917633,66.38681292533875,66.48536348342896,66.59144806861877,66.70076823234558,66.78522777557373,66.8854010105133,66.99277520179749,67.09571313858032,67.18712520599365,67.29626321792603,67.38522362709045,67.48535013198853,67.60217905044556,67.6925277709961,67.79683327674866,67.89559507369995,67.99541354179382,68.09643268585205,68.19452285766602,68.29497075080872,68.3873176574707,68.48790216445923,68.6015555858612,68.68706679344177,68.81795263290405],\"y\":[90.0,90.0,90.0,90.0,90.0,90.0,90.0,90.0,90.0,90.0,90.0,90.0,90.0,90.0,90.0,90.0,90.0,90.0,90.0,90.0,90.0,90.0,90.0,90.0,90.0,90.0,90.0,90.0,90.0,90.0,90.0,90.0,90.0,90.0,90.0,90.0,90.0,90.0,90.0,90.0,90.0,90.0,90.0,90.0,90.0,90.0,90.0,90.0,90.0,90.0,90.0,90.0,90.0,90.0,90.0,90.0,90.0,90.0,90.0,90.0,90.0,90.0,90.0,90.0,90.0,90.0,90.0,90.0,90.0,90.0,90.0,90.0,90.0,90.0,90.0,90.0,90.0,90.0,90.0,90.0,90.0,90.0,90.0,90.0,90.0,90.0,90.0,90.0,90.0,90.0,90.0,90.0,90.0,90.0,90.0,90.0,90.0,90.0,90.0,90.0,90.0,90.0,90.0,90.0,90.0,90.0,90.0,90.0,90.0,90.0,90.0,90.0,90.0,90.0,90.0,90.0,90.0,90.0,90.0,90.0,90.0,90.0,90.0,90.0,90.0,90.0,90.0,90.0,90.0,90.0,90.0,90.0,90.0,90.0,90.0,90.0,90.0,90.0,90.0,90.0,90.0,90.0,90.0,90.0,90.0,90.0,90.0,90.0,90.0,90.0,90.0,90.0,90.0,90.0,90.0,90.0,90.0,90.0,90.0,90.0,90.0,90.0,90.0,90.0,90.0,90.0,90.0,90.0,90.0,90.0,90.0,90.0,90.0,90.0,90.0,90.0,90.0,90.0,90.0,90.0,90.0,90.0,90.0,90.0,90.0,90.0,90.0,90.0,90.0,90.0,90.0,90.0,90.0,90.0,90.0,90.0,90.0,90.0,90.0,90.0,90.0,90.0,90.0,90.0,90.0,90.0,90.0,90.0,90.0,90.0,90.0,90.0,90.0,90.0,90.0,90.0,90.0,90.0,90.0,90.0,90.0,90.0,90.0,90.0,90.0,90.0,90.0,90.0,90.0,90.0,90.0,90.0,90.0,90.0,90.0,90.0,90.0,90.0,90.0,90.0,90.0,90.0,90.0,90.0,90.0,90.0,90.0,90.0,90.0,90.0,90.0,90.0,90.0,90.0,90.0,90.0,90.0,90.0,90.0,90.0,90.0,90.0,90.0,90.0,90.0,90.0,90.0,90.0,90.0,90.0,90.0,90.0,90.0,90.0,90.0,90.0,90.0,90.0,90.0,90.0,90.0,90.0,90.0,90.0,90.0,90.0,90.0,90.0,90.0,90.0,90.0,90.0,90.0,90.0,90.0,90.0,90.0,90.0,90.0,90.0,90.0,90.0,90.0,90.0,90.0,90.0,90.0,90.0,90.0,90.0,90.0,90.0,90.0,90.0,90.0,90.0,90.0,90.0,90.0,90.0,90.0,90.0,90.0,90.0,90.0,90.0,90.0,90.0,90.0,90.0,90.0,90.0,90.0,90.0,90.0,90.0,90.0,90.0,90.0,90.0,90.0,90.0,90.0,90.0,90.0,90.0,90.0,90.0,90.0,90.0,90.0,90.0,90.0,90.0,90.0,90.0,90.0,90.0,90.0,90.0,90.0,90.0,90.0,90.0,90.0,90.0,90.0,90.0,90.0,90.0,90.0,90.0,90.0,90.0,90.0,90.0,90.0,90.0,90.0,90.0,90.0,90.0,90.0,90.0,90.0,90.0,90.0,90.0,90.0,90.0,90.0,90.0,90.0,90.0,90.0,90.0,90.0,90.0,90.0,90.0,90.0,90.0,90.0,90.0,90.0,90.0,90.0,90.0,90.0,90.0,90.0,90.0,90.0,90.0,90.0,90.0,90.0,90.0,90.0,90.0,90.0,90.0,90.0,90.0,90.0,90.0,90.0,90.0,90.0,90.0,90.0,90.0,90.0,90.0,90.0,90.0,90.0,90.0,90.0,90.0,90.0,90.0,90.0,90.0,90.0],\"type\":\"scatter\"}],                        {\"autosize\":false,\"font\":{\"color\":\"black\",\"family\":\"Courier New, monospace\",\"size\":22},\"height\":600,\"template\":{\"data\":{\"barpolar\":[{\"marker\":{\"line\":{\"color\":\"#E5ECF6\",\"width\":0.5},\"pattern\":{\"fillmode\":\"overlay\",\"size\":10,\"solidity\":0.2}},\"type\":\"barpolar\"}],\"bar\":[{\"error_x\":{\"color\":\"#2a3f5f\"},\"error_y\":{\"color\":\"#2a3f5f\"},\"marker\":{\"line\":{\"color\":\"#E5ECF6\",\"width\":0.5},\"pattern\":{\"fillmode\":\"overlay\",\"size\":10,\"solidity\":0.2}},\"type\":\"bar\"}],\"carpet\":[{\"aaxis\":{\"endlinecolor\":\"#2a3f5f\",\"gridcolor\":\"white\",\"linecolor\":\"white\",\"minorgridcolor\":\"white\",\"startlinecolor\":\"#2a3f5f\"},\"baxis\":{\"endlinecolor\":\"#2a3f5f\",\"gridcolor\":\"white\",\"linecolor\":\"white\",\"minorgridcolor\":\"white\",\"startlinecolor\":\"#2a3f5f\"},\"type\":\"carpet\"}],\"choropleth\":[{\"colorbar\":{\"outlinewidth\":0,\"ticks\":\"\"},\"type\":\"choropleth\"}],\"contourcarpet\":[{\"colorbar\":{\"outlinewidth\":0,\"ticks\":\"\"},\"type\":\"contourcarpet\"}],\"contour\":[{\"colorbar\":{\"outlinewidth\":0,\"ticks\":\"\"},\"colorscale\":[[0.0,\"#0d0887\"],[0.1111111111111111,\"#46039f\"],[0.2222222222222222,\"#7201a8\"],[0.3333333333333333,\"#9c179e\"],[0.4444444444444444,\"#bd3786\"],[0.5555555555555556,\"#d8576b\"],[0.6666666666666666,\"#ed7953\"],[0.7777777777777778,\"#fb9f3a\"],[0.8888888888888888,\"#fdca26\"],[1.0,\"#f0f921\"]],\"type\":\"contour\"}],\"heatmapgl\":[{\"colorbar\":{\"outlinewidth\":0,\"ticks\":\"\"},\"colorscale\":[[0.0,\"#0d0887\"],[0.1111111111111111,\"#46039f\"],[0.2222222222222222,\"#7201a8\"],[0.3333333333333333,\"#9c179e\"],[0.4444444444444444,\"#bd3786\"],[0.5555555555555556,\"#d8576b\"],[0.6666666666666666,\"#ed7953\"],[0.7777777777777778,\"#fb9f3a\"],[0.8888888888888888,\"#fdca26\"],[1.0,\"#f0f921\"]],\"type\":\"heatmapgl\"}],\"heatmap\":[{\"colorbar\":{\"outlinewidth\":0,\"ticks\":\"\"},\"colorscale\":[[0.0,\"#0d0887\"],[0.1111111111111111,\"#46039f\"],[0.2222222222222222,\"#7201a8\"],[0.3333333333333333,\"#9c179e\"],[0.4444444444444444,\"#bd3786\"],[0.5555555555555556,\"#d8576b\"],[0.6666666666666666,\"#ed7953\"],[0.7777777777777778,\"#fb9f3a\"],[0.8888888888888888,\"#fdca26\"],[1.0,\"#f0f921\"]],\"type\":\"heatmap\"}],\"histogram2dcontour\":[{\"colorbar\":{\"outlinewidth\":0,\"ticks\":\"\"},\"colorscale\":[[0.0,\"#0d0887\"],[0.1111111111111111,\"#46039f\"],[0.2222222222222222,\"#7201a8\"],[0.3333333333333333,\"#9c179e\"],[0.4444444444444444,\"#bd3786\"],[0.5555555555555556,\"#d8576b\"],[0.6666666666666666,\"#ed7953\"],[0.7777777777777778,\"#fb9f3a\"],[0.8888888888888888,\"#fdca26\"],[1.0,\"#f0f921\"]],\"type\":\"histogram2dcontour\"}],\"histogram2d\":[{\"colorbar\":{\"outlinewidth\":0,\"ticks\":\"\"},\"colorscale\":[[0.0,\"#0d0887\"],[0.1111111111111111,\"#46039f\"],[0.2222222222222222,\"#7201a8\"],[0.3333333333333333,\"#9c179e\"],[0.4444444444444444,\"#bd3786\"],[0.5555555555555556,\"#d8576b\"],[0.6666666666666666,\"#ed7953\"],[0.7777777777777778,\"#fb9f3a\"],[0.8888888888888888,\"#fdca26\"],[1.0,\"#f0f921\"]],\"type\":\"histogram2d\"}],\"histogram\":[{\"marker\":{\"pattern\":{\"fillmode\":\"overlay\",\"size\":10,\"solidity\":0.2}},\"type\":\"histogram\"}],\"mesh3d\":[{\"colorbar\":{\"outlinewidth\":0,\"ticks\":\"\"},\"type\":\"mesh3d\"}],\"parcoords\":[{\"line\":{\"colorbar\":{\"outlinewidth\":0,\"ticks\":\"\"}},\"type\":\"parcoords\"}],\"pie\":[{\"automargin\":true,\"type\":\"pie\"}],\"scatter3d\":[{\"line\":{\"colorbar\":{\"outlinewidth\":0,\"ticks\":\"\"}},\"marker\":{\"colorbar\":{\"outlinewidth\":0,\"ticks\":\"\"}},\"type\":\"scatter3d\"}],\"scattercarpet\":[{\"marker\":{\"colorbar\":{\"outlinewidth\":0,\"ticks\":\"\"}},\"type\":\"scattercarpet\"}],\"scattergeo\":[{\"marker\":{\"colorbar\":{\"outlinewidth\":0,\"ticks\":\"\"}},\"type\":\"scattergeo\"}],\"scattergl\":[{\"marker\":{\"colorbar\":{\"outlinewidth\":0,\"ticks\":\"\"}},\"type\":\"scattergl\"}],\"scattermapbox\":[{\"marker\":{\"colorbar\":{\"outlinewidth\":0,\"ticks\":\"\"}},\"type\":\"scattermapbox\"}],\"scatterpolargl\":[{\"marker\":{\"colorbar\":{\"outlinewidth\":0,\"ticks\":\"\"}},\"type\":\"scatterpolargl\"}],\"scatterpolar\":[{\"marker\":{\"colorbar\":{\"outlinewidth\":0,\"ticks\":\"\"}},\"type\":\"scatterpolar\"}],\"scatter\":[{\"fillpattern\":{\"fillmode\":\"overlay\",\"size\":10,\"solidity\":0.2},\"type\":\"scatter\"}],\"scatterternary\":[{\"marker\":{\"colorbar\":{\"outlinewidth\":0,\"ticks\":\"\"}},\"type\":\"scatterternary\"}],\"surface\":[{\"colorbar\":{\"outlinewidth\":0,\"ticks\":\"\"},\"colorscale\":[[0.0,\"#0d0887\"],[0.1111111111111111,\"#46039f\"],[0.2222222222222222,\"#7201a8\"],[0.3333333333333333,\"#9c179e\"],[0.4444444444444444,\"#bd3786\"],[0.5555555555555556,\"#d8576b\"],[0.6666666666666666,\"#ed7953\"],[0.7777777777777778,\"#fb9f3a\"],[0.8888888888888888,\"#fdca26\"],[1.0,\"#f0f921\"]],\"type\":\"surface\"}],\"table\":[{\"cells\":{\"fill\":{\"color\":\"#EBF0F8\"},\"line\":{\"color\":\"white\"}},\"header\":{\"fill\":{\"color\":\"#C8D4E3\"},\"line\":{\"color\":\"white\"}},\"type\":\"table\"}]},\"layout\":{\"annotationdefaults\":{\"arrowcolor\":\"#2a3f5f\",\"arrowhead\":0,\"arrowwidth\":1},\"autotypenumbers\":\"strict\",\"coloraxis\":{\"colorbar\":{\"outlinewidth\":0,\"ticks\":\"\"}},\"colorscale\":{\"diverging\":[[0,\"#8e0152\"],[0.1,\"#c51b7d\"],[0.2,\"#de77ae\"],[0.3,\"#f1b6da\"],[0.4,\"#fde0ef\"],[0.5,\"#f7f7f7\"],[0.6,\"#e6f5d0\"],[0.7,\"#b8e186\"],[0.8,\"#7fbc41\"],[0.9,\"#4d9221\"],[1,\"#276419\"]],\"sequential\":[[0.0,\"#0d0887\"],[0.1111111111111111,\"#46039f\"],[0.2222222222222222,\"#7201a8\"],[0.3333333333333333,\"#9c179e\"],[0.4444444444444444,\"#bd3786\"],[0.5555555555555556,\"#d8576b\"],[0.6666666666666666,\"#ed7953\"],[0.7777777777777778,\"#fb9f3a\"],[0.8888888888888888,\"#fdca26\"],[1.0,\"#f0f921\"]],\"sequentialminus\":[[0.0,\"#0d0887\"],[0.1111111111111111,\"#46039f\"],[0.2222222222222222,\"#7201a8\"],[0.3333333333333333,\"#9c179e\"],[0.4444444444444444,\"#bd3786\"],[0.5555555555555556,\"#d8576b\"],[0.6666666666666666,\"#ed7953\"],[0.7777777777777778,\"#fb9f3a\"],[0.8888888888888888,\"#fdca26\"],[1.0,\"#f0f921\"]]},\"colorway\":[\"#636efa\",\"#EF553B\",\"#00cc96\",\"#ab63fa\",\"#FFA15A\",\"#19d3f3\",\"#FF6692\",\"#B6E880\",\"#FF97FF\",\"#FECB52\"],\"font\":{\"color\":\"#2a3f5f\"},\"geo\":{\"bgcolor\":\"white\",\"lakecolor\":\"white\",\"landcolor\":\"#E5ECF6\",\"showlakes\":true,\"showland\":true,\"subunitcolor\":\"white\"},\"hoverlabel\":{\"align\":\"left\"},\"hovermode\":\"closest\",\"mapbox\":{\"style\":\"light\"},\"paper_bgcolor\":\"white\",\"plot_bgcolor\":\"#E5ECF6\",\"polar\":{\"angularaxis\":{\"gridcolor\":\"white\",\"linecolor\":\"white\",\"ticks\":\"\"},\"bgcolor\":\"#E5ECF6\",\"radialaxis\":{\"gridcolor\":\"white\",\"linecolor\":\"white\",\"ticks\":\"\"}},\"scene\":{\"xaxis\":{\"backgroundcolor\":\"#E5ECF6\",\"gridcolor\":\"white\",\"gridwidth\":2,\"linecolor\":\"white\",\"showbackground\":true,\"ticks\":\"\",\"zerolinecolor\":\"white\"},\"yaxis\":{\"backgroundcolor\":\"#E5ECF6\",\"gridcolor\":\"white\",\"gridwidth\":2,\"linecolor\":\"white\",\"showbackground\":true,\"ticks\":\"\",\"zerolinecolor\":\"white\"},\"zaxis\":{\"backgroundcolor\":\"#E5ECF6\",\"gridcolor\":\"white\",\"gridwidth\":2,\"linecolor\":\"white\",\"showbackground\":true,\"ticks\":\"\",\"zerolinecolor\":\"white\"}},\"shapedefaults\":{\"line\":{\"color\":\"#2a3f5f\"}},\"ternary\":{\"aaxis\":{\"gridcolor\":\"white\",\"linecolor\":\"white\",\"ticks\":\"\"},\"baxis\":{\"gridcolor\":\"white\",\"linecolor\":\"white\",\"ticks\":\"\"},\"bgcolor\":\"#E5ECF6\",\"caxis\":{\"gridcolor\":\"white\",\"linecolor\":\"white\",\"ticks\":\"\"}},\"title\":{\"x\":0.05},\"xaxis\":{\"automargin\":true,\"gridcolor\":\"white\",\"linecolor\":\"white\",\"ticks\":\"\",\"title\":{\"standoff\":15},\"zerolinecolor\":\"white\",\"zerolinewidth\":2},\"yaxis\":{\"automargin\":true,\"gridcolor\":\"white\",\"linecolor\":\"white\",\"ticks\":\"\",\"title\":{\"standoff\":15},\"zerolinecolor\":\"white\",\"zerolinewidth\":2}}},\"title\":{\"text\":\"Range of Motion ankleRight\"},\"width\":750,\"xaxis\":{\"title\":{\"font\":{\"color\":\"#7f7f7f\",\"family\":\"Courier New, monospace\",\"size\":18},\"text\":\"time [s]\"}},\"yaxis\":{\"title\":{\"font\":{\"color\":\"#7f7f7f\",\"family\":\"Courier New, monospace\",\"size\":18},\"text\":\"ROM [degrees]\"}}},                        {\"responsive\": true}                    ).then(function(){\n",
       "                            \n",
       "var gd = document.getElementById('9eb5e420-f696-4413-a080-70eec6eee14d');\n",
       "var x = new MutationObserver(function (mutations, observer) {{\n",
       "        var display = window.getComputedStyle(gd).display;\n",
       "        if (!display || display === 'none') {{\n",
       "            console.log([gd, 'removed!']);\n",
       "            Plotly.purge(gd);\n",
       "            observer.disconnect();\n",
       "        }}\n",
       "}});\n",
       "\n",
       "// Listen for the removal of the full notebook cells\n",
       "var notebookContainer = gd.closest('#notebook-container');\n",
       "if (notebookContainer) {{\n",
       "    x.observe(notebookContainer, {childList: true});\n",
       "}}\n",
       "\n",
       "// Listen for the clearing of the current output cell\n",
       "var outputEl = gd.closest('.output');\n",
       "if (outputEl) {{\n",
       "    x.observe(outputEl, {childList: true});\n",
       "}}\n",
       "\n",
       "                        })                };                });            </script>        </div>"
      ]
     },
     "metadata": {},
     "output_type": "display_data"
    },
    {
     "data": {
      "application/vnd.plotly.v1+json": {
       "config": {
        "linkText": "Export to plot.ly",
        "plotlyServerURL": "https://plot.ly",
        "showLink": false
       },
       "data": [
        {
         "line": {
          "color": "blue",
          "width": 3
         },
         "mode": "lines",
         "name": "Feet distance",
         "type": "scatter",
         "x": [
          24.233115196228027,
          24.332800149917603,
          24.43332529067993,
          24.533143520355225,
          24.63327145576477,
          24.741224765777588,
          24.83667492866516,
          24.933400630950928,
          25.03368902206421,
          25.136213779449463,
          25.236974239349365,
          25.33634853363037,
          25.436240673065186,
          25.534266233444214,
          25.660048961639404,
          25.73537588119507,
          25.837066650390625,
          25.93694543838501,
          26.037134408950806,
          26.135271310806274,
          26.238525390625,
          26.33588480949402,
          26.436264991760254,
          26.5361270904541,
          26.636869430541992,
          26.736798763275146,
          26.83656358718872,
          26.936131238937378,
          27.037917852401733,
          27.136846780776978,
          27.236833333969116,
          27.337327480316162,
          27.439617395401,
          27.538838148117065,
          27.638164520263672,
          27.749006986618042,
          27.83854031562805,
          27.9455463886261,
          28.040802001953125,
          28.139883041381836,
          28.239752769470215,
          28.339375257492065,
          28.439257621765137,
          28.540772676467896,
          28.64122200012207,
          28.740676641464233,
          28.842568397521973,
          28.945440530776978,
          29.04046893119812,
          29.14072895050049,
          29.241145849227905,
          29.340039253234863,
          29.439839601516724,
          29.54038095474243,
          29.63996434211731,
          29.739933252334595,
          29.846254587173462,
          29.94089412689209,
          30.04071307182312,
          30.144608736038208,
          30.240516185760498,
          30.34049105644226,
          30.44564700126648,
          30.55128312110901,
          30.640730619430542,
          30.742594957351685,
          30.84181499481201,
          30.943175554275513,
          31.05737829208374,
          31.142616987228394,
          31.24183678627014,
          31.342342376708984,
          31.44289994239807,
          31.5424702167511,
          31.643161296844482,
          31.74295926094055,
          31.84236192703247,
          31.94386625289917,
          32.04418087005615,
          32.14330244064331,
          32.24445056915283,
          32.343778133392334,
          32.449652910232544,
          32.544663190841675,
          32.64774417877197,
          32.744690895080566,
          32.84504675865173,
          32.944618463516235,
          33.05396890640259,
          33.143632888793945,
          33.24526834487915,
          33.345051288604736,
          33.44400191307068,
          33.55854344367981,
          33.64385724067688,
          33.74412751197815,
          33.84885501861572,
          33.94433307647705,
          34.044235944747925,
          34.14453125,
          34.24451446533203,
          34.34574580192566,
          34.448670625686646,
          34.54504442214966,
          34.64591407775879,
          34.744818449020386,
          34.84493112564087,
          34.945334911346436,
          35.049182176589966,
          35.146583557128906,
          35.24837875366211,
          35.34727358818054,
          35.45433211326599,
          35.545390129089355,
          35.656078577041626,
          35.746832847595215,
          35.8473219871521,
          35.94709372520447,
          36.0468065738678,
          36.14607119560242,
          36.24921727180481,
          36.34639763832092,
          36.454500675201416,
          36.54650640487671,
          36.65474462509155,
          36.749191999435425,
          36.85453176498413,
          36.95210886001587,
          37.047197103500366,
          37.14702796936035,
          37.24901580810547,
          37.34686207771301,
          37.447104692459106,
          37.54842662811279,
          37.64687538146973,
          37.74915027618408,
          37.84915614128113,
          37.948790311813354,
          38.04765033721924,
          38.14885377883911,
          38.24823212623596,
          38.35143542289734,
          38.45007371902466,
          38.55542993545532,
          38.65315294265747,
          38.75039100646973,
          38.85027742385864,
          38.950366497039795,
          39.05031752586365,
          39.150487184524536,
          39.25821256637573,
          39.35039734840393,
          39.45201921463013,
          39.55043816566467,
          39.650450229644775,
          39.75240468978882,
          39.85030198097229,
          39.9519202709198,
          40.05151343345642,
          40.15075707435608,
          40.253804206848145,
          40.36140036582947,
          40.450860261917114,
          40.55409598350525,
          40.65131616592407,
          40.75186371803284,
          40.85239887237549,
          40.95355796813965,
          41.05352592468262,
          41.16284155845642,
          41.252413749694824,
          41.3540472984314,
          41.455708026885986,
          41.55463624000549,
          41.652626037597656,
          41.75363826751709,
          41.855064392089844,
          41.953187227249146,
          42.05310916900635,
          42.15421986579895,
          42.25406765937805,
          42.35616064071655,
          42.45375347137451,
          42.55452561378479,
          42.65626549720764,
          42.7549045085907,
          42.85430359840393,
          42.954716205596924,
          43.0550434589386,
          43.15387988090515,
          43.26676344871521,
          43.35433602333069,
          43.45442318916321,
          43.55426049232483,
          43.65690588951111,
          43.754761695861816,
          43.85465598106384,
          43.95766234397888,
          44.05765414237976,
          44.15516233444214,
          44.255306243896484,
          44.35650944709778,
          44.4564106464386,
          44.558196783065796,
          44.65524959564209,
          44.75663423538208,
          44.855653285980225,
          44.956889152526855,
          45.056891202926636,
          45.15617251396179,
          45.259347915649414,
          45.35649275779724,
          45.4566650390625,
          45.55965876579285,
          45.6593382358551,
          45.756914138793945,
          45.8582808971405,
          45.95721650123596,
          46.058391094207764,
          46.157426595687866,
          46.258829832077026,
          46.36005163192749,
          46.45975947380066,
          46.55997109413147,
          46.66822338104248,
          46.7590754032135,
          46.859297037124634,
          46.959229946136475,
          47.05930709838867,
          47.160308599472046,
          47.25964903831482,
          47.35964608192444,
          47.45954132080078,
          47.56847953796387,
          47.65980339050293,
          47.76070761680603,
          47.860949993133545,
          47.96102738380432,
          48.0608868598938,
          48.16973042488098,
          48.26136255264282,
          48.3635528087616,
          48.46225309371948,
          48.56248378753662,
          48.66207695007324,
          48.761430740356445,
          48.86470699310303,
          48.96166253089905,
          49.06158661842346,
          49.16189455986023,
          49.26649451255798,
          49.362058877944946,
          49.46488690376282,
          49.56207346916199,
          49.6636598110199,
          49.763437032699585,
          49.86710548400879,
          49.966618061065674,
          50.06493520736694,
          50.16594886779785,
          50.263988971710205,
          50.36377811431885,
          50.46897530555725,
          50.56509709358215,
          50.663946866989136,
          50.76420331001282,
          50.865792751312256,
          50.96528196334839,
          51.06493139266968,
          51.16599106788635,
          51.264713525772095,
          51.36483836174011,
          51.466283082962036,
          51.56488108634949,
          51.66627740859985,
          51.76533913612366,
          51.86521315574646,
          51.965941190719604,
          52.06543946266174,
          52.165924072265625,
          52.267369985580444,
          52.36658000946045,
          52.46628165245056,
          52.5660502910614,
          52.668837785720825,
          52.765990257263184,
          52.865904331207275,
          52.967106342315674,
          53.07641339302063,
          53.16690969467163,
          53.270140647888184,
          53.36931872367859,
          53.46704411506653,
          53.56643581390381,
          53.6758246421814,
          53.76804304122925,
          53.86708450317383,
          53.967583656311035,
          54.06740736961365,
          54.168564558029175,
          54.26759457588196,
          54.36831283569336,
          54.46784591674805,
          54.56783151626587,
          54.667638301849365,
          54.768479108810425,
          54.86789917945862,
          54.96787142753601,
          55.067992210388184,
          55.171016454696655,
          55.269285917282104,
          55.36903381347656,
          55.468350648880005,
          55.570322036743164,
          55.67030596733093,
          55.77029013633728,
          55.87521815299988,
          55.97042274475098,
          56.07261395454407,
          56.17239284515381,
          56.27244687080383,
          56.37264847755432,
          56.48825979232788,
          56.57243776321411,
          56.68163299560547,
          56.77378845214844,
          56.87340188026428,
          56.97399425506592,
          57.073071241378784,
          57.17336463928223,
          57.2733998298645,
          57.37728786468506,
          57.47473859786987,
          57.57391428947449,
          57.6785364151001,
          57.77704167366028,
          57.87393260002136,
          57.975202560424805,
          58.07394576072693,
          58.174970388412476,
          58.27534246444702,
          58.37405180931091,
          58.49008274078369,
          58.57447624206543,
          58.674320459365845,
          58.77466368675232,
          58.87987661361694,
          58.974895000457764,
          59.074692249298096,
          59.17652249336243,
          59.27519130706787,
          59.376720666885376,
          59.48024845123291,
          59.57504415512085,
          59.67632222175598,
          59.775283336639404,
          59.87633013725281,
          59.9767279624939,
          60.07995295524597,
          60.176642417907715,
          60.27666091918945,
          60.3757860660553,
          60.475781202316284,
          60.57788562774658,
          60.676915884017944,
          60.78098464012146,
          60.878838777542114,
          60.9773690700531,
          61.07639503479004,
          61.17762112617493,
          61.27669715881348,
          61.378113746643066,
          61.481345415115356,
          61.57789969444275,
          61.68140506744385,
          61.77827453613281,
          61.87871265411377,
          61.97990441322327,
          62.08743119239807,
          62.17740345001221,
          62.28377366065979,
          62.377360105514526,
          62.48196077346802,
          62.577552795410156,
          62.67955780029297,
          62.77953815460205,
          62.88564467430115,
          62.97774291038513,
          63.07864475250244,
          63.179381370544434,
          63.27934241294861,
          63.38161492347717,
          63.49756383895874,
          63.578343868255615,
          63.68144154548645,
          63.7796425819397,
          63.882205963134766,
          63.982651472091675,
          64.08018064498901,
          64.18289732933044,
          64.28019547462463,
          64.38835501670837,
          64.47988796234131,
          64.58415126800537,
          64.681893825531,
          64.79290437698364,
          64.88766360282898,
          64.98255801200867,
          65.08255767822266,
          65.18253898620605,
          65.28386378288269,
          65.38267874717712,
          65.48333883285522,
          65.58333897590637,
          65.68291187286377,
          65.78422260284424,
          65.88682770729065,
          65.98398804664612,
          66.08520674705505,
          66.18757677078247,
          66.2843267917633,
          66.38681292533875,
          66.48536348342896,
          66.59144806861877,
          66.70076823234558,
          66.78522777557373,
          66.8854010105133,
          66.99277520179749,
          67.09571313858032,
          67.18712520599365,
          67.29626321792603,
          67.38522362709045,
          67.48535013198853,
          67.60217905044556,
          67.6925277709961,
          67.79683327674866,
          67.89559507369995,
          67.99541354179382,
          68.09643268585205,
          68.19452285766602,
          68.29497075080872,
          68.3873176574707,
          68.48790216445923,
          68.6015555858612,
          68.68706679344177,
          68.81795263290405
         ],
         "y": [
          0.26931717776290204,
          0.26931717776290204,
          0.26931717776290204,
          0.26931717776290204,
          0.27053564636360683,
          0.27053564636360683,
          0.27142831918832516,
          0.27247824719992747,
          0.27247824719992747,
          0.28274682425608905,
          0.2951079934517994,
          0.2951079934517994,
          0.2985519554886199,
          0.3176506723663978,
          0.3176506723663978,
          0.3945085552683273,
          0.41946549898007535,
          0.41946549898007535,
          0.4086263212949753,
          0.35204415324238664,
          0.35204415324238664,
          0.3033673664667351,
          0.3033673664667351,
          0.2767334547331766,
          0.2696025604861027,
          0.2696025604861027,
          0.2696025604861027,
          0.26714076933024716,
          0.26714076933024716,
          0.2620771286744801,
          0.26032393779561364,
          0.26032393779561364,
          0.26032393779561364,
          0.26032393779561364,
          0.26032393779561364,
          0.26713474977696544,
          0.26713474977696544,
          0.26812787830373747,
          0.2688770300150068,
          0.26760986081818244,
          0.2726482200095069,
          0.2726482200095069,
          0.2674562786375699,
          0.2674562786375699,
          0.26845459692517115,
          0.2654661502526857,
          0.2654661502526857,
          0.2654661502526857,
          0.2665014900750225,
          0.27025997699803755,
          0.27129618919799314,
          0.27129618919799314,
          0.2798317422363011,
          0.28092105869909173,
          0.2798722275989441,
          0.2787845020501638,
          0.2787845020501638,
          0.2743451699790345,
          0.2743451699790345,
          0.26819099778035094,
          0.26819099778035094,
          0.26882290988812635,
          0.26882290988812635,
          0.26882290988812635,
          0.26789767928270025,
          0.26743550436489466,
          0.26743550436489466,
          0.2672741749378588,
          0.2637834742530631,
          0.2637834742530631,
          0.26317913836554113,
          0.2631735254598676,
          0.2631735254598676,
          0.26075049785335014,
          0.2661782232861214,
          0.27075553571395616,
          0.27075553571395616,
          0.27075553571395616,
          0.27259910840848345,
          0.27259910840848345,
          0.2686949455543495,
          0.2686949455543495,
          0.2686949455543495,
          0.26887315919211696,
          0.26887315919211696,
          0.26887315919211696,
          0.269304846316587,
          0.26939019806756226,
          0.2671180619781759,
          0.26255038097184014,
          0.26255038097184014,
          0.26255038097184014,
          0.26255038097184014,
          0.26345654167107807,
          0.26345654167107807,
          0.2872235849207995,
          0.3501664952648884,
          0.3501664952648884,
          0.43840765120679415,
          0.43840765120679415,
          0.4730025294551589,
          0.5071377174934691,
          0.5333970020364915,
          0.5333970020364915,
          0.5333970020364915,
          0.5333970020364915,
          0.4980039640591838,
          0.4930248041762048,
          0.4930248041762048,
          0.4221098691056715,
          0.3350494009290775,
          0.2726937022057491,
          0.2726937022057491,
          0.2544651695159733,
          0.2544651695159733,
          0.25333608091980564,
          0.2530232666772576,
          0.2530232666772576,
          0.2530232666772576,
          0.2519935281574973,
          0.2518472542122638,
          0.2518472542122638,
          0.2511442488894258,
          0.25086227003944106,
          0.25086227003944106,
          0.25086227003944106,
          0.24897911120017086,
          0.24897911120017086,
          0.24897911120017086,
          0.24897911120017086,
          0.24897911120017086,
          0.24897911120017086,
          0.24945656357620305,
          0.24945656357620305,
          0.24945656357620305,
          0.24890394591234685,
          0.24890394591234685,
          0.24890394591234685,
          0.24890394591234685,
          0.24890394591234685,
          0.24890394591234685,
          0.2491911519609294,
          0.2491911519609294,
          0.24760463417306072,
          0.24760463417306072,
          0.24760463417306072,
          0.24760463417306072,
          0.24760463417306072,
          0.2476586777482812,
          0.2477665643661246,
          0.2477665643661246,
          0.24827531548919643,
          0.2479511660194696,
          0.24773005831279873,
          0.24773005831279865,
          0.24773005831279865,
          0.24773006745150827,
          0.24773010302013643,
          0.24773010302013643,
          0.24773010302013643,
          0.24773010302013643,
          0.24773010302013643,
          0.24773010302013643,
          0.2476122547939435,
          0.2476122547939435,
          0.2475977406030766,
          0.24904231769344287,
          0.24904231769344287,
          0.24904231769344287,
          0.2524750399287851,
          0.2524750399287851,
          0.3003494950874283,
          0.3003494950874283,
          0.3003494950874283,
          0.3003494950874283,
          0.3003494950874283,
          0.32819571662422453,
          0.32819571662422453,
          0.39935269505062676,
          0.42029038214993225,
          0.3153635934994448,
          0.21638749817334507,
          0.21638749817334507,
          0.21638749817334507,
          0.21638749817334507,
          0.21638749817334507,
          0.21638749817334507,
          0.1623468792065886,
          0.16526472952308444,
          0.16526472952308444,
          0.16965393471009202,
          0.17650065713263915,
          0.20441548057610787,
          0.20317828386131664,
          0.21008939794547243,
          0.21809203228702523,
          0.21809203228702523,
          0.21809203228702523,
          0.21809203228702523,
          0.21805474485311385,
          0.21808669553410592,
          0.21808669553410592,
          0.21808669553410592,
          0.21885336138455685,
          0.21885336138455685,
          0.223347652193855,
          0.23051382869951242,
          0.23188489629808387,
          0.23188420548273223,
          0.23612384335517647,
          0.23612384335517647,
          0.24125390353987777,
          0.24439702831980786,
          0.26125792531887865,
          0.26142539579239593,
          0.2782924437139772,
          0.2883061884172898,
          0.2912649280442624,
          0.3018521352774642,
          0.3341440895147792,
          0.3356883570063193,
          0.37091470959790446,
          0.3731218954142536,
          0.3731218954142536,
          0.3643598997165797,
          0.2158515565351322,
          0.2158515565351322,
          0.08430476661271726,
          0.07489108497529683,
          0.0173094751704828,
          0.05427142848485078,
          0.05427142848485078,
          0.05427142848485078,
          0.024229196195691492,
          0.09292847266722015,
          0.13942179049395156,
          0.14102912798395736,
          0.22514859641016044,
          0.3346063285884141,
          0.28390623805779025,
          0.21661577512872648,
          0.20719901707326,
          0.1379612103988444,
          0.08183191399409896,
          0.08183191399409896,
          0.060795247411550124,
          0.05864452486093228,
          0.05507650011723376,
          0.054030020729582,
          0.054030020729582,
          0.057059109335857935,
          0.07184928382492853,
          0.10136305230937387,
          0.11787433136259637,
          0.14099475751159973,
          0.1533909785443712,
          0.15323151175076324,
          0.15217070410151523,
          0.15008785557946175,
          0.14797569259216814,
          0.13156618665349878,
          0.11698070232059415,
          0.09062949244540115,
          0.09062949244540115,
          0.08571244694282307,
          0.08447609035595352,
          0.07412637429643879,
          0.07961724098044362,
          0.07961724098044362,
          0.07961724098044362,
          0.07961724098044362,
          0.08090674866653812,
          0.08048909466141205,
          0.07880285714599249,
          0.07880285714599249,
          0.08412307153306363,
          0.08412307153306363,
          0.08412307153306363,
          0.08412307153306363,
          0.08412307153306363,
          0.08872106273215201,
          0.10086656102684653,
          0.10086656102684653,
          0.11056328158782804,
          0.11056328158782804,
          0.110837521637656,
          0.09344987594735729,
          0.09344987594735729,
          0.09344987594735729,
          0.09117543302576826,
          0.09029224884813059,
          0.08958651758791833,
          0.09027573350700326,
          0.09042237917025889,
          0.09135186079362426,
          0.0921282784573919,
          0.09390073514345222,
          0.09390073514345222,
          0.09390073514345222,
          0.09239564148302724,
          0.09236614893908027,
          0.09236614893908027,
          0.09101374899199242,
          0.08892000412915803,
          0.09208513743700608,
          0.09242459393688318,
          0.09242459393688318,
          0.09009227137691501,
          0.0855201446093003,
          0.0849432805334036,
          0.08337241755832019,
          0.07937465908713656,
          0.07862133386909087,
          0.07862133386909087,
          0.07744078295767981,
          0.07744078295767981,
          0.07996791576084925,
          0.09356799547263446,
          0.11732789750907283,
          0.14741270226636208,
          0.16503602542121562,
          0.20273180191830417,
          0.3306266851385739,
          0.33393166520157413,
          0.45702878577308725,
          0.45702878577308725,
          0.5231269661781592,
          0.5382867360778957,
          0.5400801995321463,
          0.5392080646130311,
          0.5392080646130311,
          0.5392080646130311,
          0.5339250531934754,
          0.53354801495882,
          0.48128297454508484,
          0.3836204963356401,
          0.25438199955917146,
          0.25438199955917146,
          0.2254994408058808,
          0.1071953491372308,
          0.10713682295194235,
          0.08819895194622471,
          0.08135838480134347,
          0.07888264838879384,
          0.07136287730997412,
          0.08154289156965673,
          0.08736103403274237,
          0.08736103403274237,
          0.09829012065999976,
          0.09829012065999976,
          0.09368677266246674,
          0.0914113720681192,
          0.0914113720681192,
          0.08388460772603462,
          0.08388460772603462,
          0.08254547742804717,
          0.08254547742804717,
          0.0809708866406314,
          0.07932471381433663,
          0.06827181725392352,
          0.05160085951510056,
          0.033316324334705,
          0.02966992885252827,
          0.025507486921547598,
          0.03636062347097703,
          0.03636062347097703,
          0.18602144578358268,
          0.3479819370929903,
          0.3479819370929903,
          0.47542067455396464,
          0.5378237888862283,
          0.5724553985433233,
          0.5724553985433233,
          0.5669385667703626,
          0.5682965754349207,
          0.5186526757854101,
          0.38691714526102444,
          0.386927462604679,
          0.2135787957085574,
          0.2135787957085574,
          0.04815144821916599,
          0.02393693784719742,
          0.02393693784719742,
          0.03263970068068849,
          0.03398330861930664,
          0.039593634929336395,
          0.04852346293806537,
          0.049828333958338245,
          0.049828333958338245,
          0.046932012453137564,
          0.03959381229277055,
          0.03495641051244165,
          0.034146644760022306,
          0.03315648820720428,
          0.029298698463420376,
          0.024772368140585904,
          0.020918847948875986,
          0.01652539964765371,
          0.01652539964765371,
          0.016527900732421216,
          0.016659960427253793,
          0.022505884725833994,
          0.022505884725833994,
          0.0213264884186062,
          0.0213264884186062,
          0.02182861829566624,
          0.02182861829566624,
          0.02182861829566624,
          0.02182861829566624,
          0.03413227679670906,
          0.06998982265149832,
          0.13121851317450017,
          0.18384984989730332,
          0.26533327765829606,
          0.33891089403627056,
          0.33892293389632844,
          0.4545138008852383,
          0.4980457920213413,
          0.4980457920213413,
          0.5055474765879251,
          0.5055474765879251,
          0.5055474765879251,
          0.5055474765879251,
          0.5055474765879251,
          0.5055474765879251,
          0.5055474765879251,
          0.5055474765879251,
          0.5055474765879251,
          0.5055474765879251,
          0.5055474765879251,
          0.5055474765879251,
          0.5055474765879251,
          0.5055474765879251,
          0.5055474765879251,
          0.5055474765879251,
          0.5055474765879251,
          0.5055474765879251,
          0.5055474765879251,
          0.5055474765879251,
          0.5055474765879251,
          0.5055474765879251,
          0.5055474765879251,
          0.5055474765879251,
          0.5055474765879251,
          0.5055474765879251
         ]
        },
        {
         "marker": {
          "color": "red",
          "size": 10
         },
         "mode": "markers",
         "name": "Heel strikes",
         "type": "scatter",
         "x": [
          25.837066650390625,
          34.54504442214966,
          42.15421986579895,
          46.45975947380066,
          48.0608868598938,
          57.073071241378784,
          61.378113746643066,
          61.68140506744385,
          61.97990441322327
         ],
         "y": [
          0.41946549898007535,
          0.5333970020364915,
          0.42029038214993225,
          0.3731218954142536,
          0.3346063285884141,
          0.5400801995321463,
          0.5724553985433233,
          0.5682965754349207,
          0.386927462604679
         ]
        }
       ],
       "layout": {
        "autosize": false,
        "font": {
         "color": "black",
         "family": "Courier New, monospace",
         "size": 22
        },
        "height": 600,
        "template": {
         "data": {
          "bar": [
           {
            "error_x": {
             "color": "#2a3f5f"
            },
            "error_y": {
             "color": "#2a3f5f"
            },
            "marker": {
             "line": {
              "color": "#E5ECF6",
              "width": 0.5
             },
             "pattern": {
              "fillmode": "overlay",
              "size": 10,
              "solidity": 0.2
             }
            },
            "type": "bar"
           }
          ],
          "barpolar": [
           {
            "marker": {
             "line": {
              "color": "#E5ECF6",
              "width": 0.5
             },
             "pattern": {
              "fillmode": "overlay",
              "size": 10,
              "solidity": 0.2
             }
            },
            "type": "barpolar"
           }
          ],
          "carpet": [
           {
            "aaxis": {
             "endlinecolor": "#2a3f5f",
             "gridcolor": "white",
             "linecolor": "white",
             "minorgridcolor": "white",
             "startlinecolor": "#2a3f5f"
            },
            "baxis": {
             "endlinecolor": "#2a3f5f",
             "gridcolor": "white",
             "linecolor": "white",
             "minorgridcolor": "white",
             "startlinecolor": "#2a3f5f"
            },
            "type": "carpet"
           }
          ],
          "choropleth": [
           {
            "colorbar": {
             "outlinewidth": 0,
             "ticks": ""
            },
            "type": "choropleth"
           }
          ],
          "contour": [
           {
            "colorbar": {
             "outlinewidth": 0,
             "ticks": ""
            },
            "colorscale": [
             [
              0,
              "#0d0887"
             ],
             [
              0.1111111111111111,
              "#46039f"
             ],
             [
              0.2222222222222222,
              "#7201a8"
             ],
             [
              0.3333333333333333,
              "#9c179e"
             ],
             [
              0.4444444444444444,
              "#bd3786"
             ],
             [
              0.5555555555555556,
              "#d8576b"
             ],
             [
              0.6666666666666666,
              "#ed7953"
             ],
             [
              0.7777777777777778,
              "#fb9f3a"
             ],
             [
              0.8888888888888888,
              "#fdca26"
             ],
             [
              1,
              "#f0f921"
             ]
            ],
            "type": "contour"
           }
          ],
          "contourcarpet": [
           {
            "colorbar": {
             "outlinewidth": 0,
             "ticks": ""
            },
            "type": "contourcarpet"
           }
          ],
          "heatmap": [
           {
            "colorbar": {
             "outlinewidth": 0,
             "ticks": ""
            },
            "colorscale": [
             [
              0,
              "#0d0887"
             ],
             [
              0.1111111111111111,
              "#46039f"
             ],
             [
              0.2222222222222222,
              "#7201a8"
             ],
             [
              0.3333333333333333,
              "#9c179e"
             ],
             [
              0.4444444444444444,
              "#bd3786"
             ],
             [
              0.5555555555555556,
              "#d8576b"
             ],
             [
              0.6666666666666666,
              "#ed7953"
             ],
             [
              0.7777777777777778,
              "#fb9f3a"
             ],
             [
              0.8888888888888888,
              "#fdca26"
             ],
             [
              1,
              "#f0f921"
             ]
            ],
            "type": "heatmap"
           }
          ],
          "heatmapgl": [
           {
            "colorbar": {
             "outlinewidth": 0,
             "ticks": ""
            },
            "colorscale": [
             [
              0,
              "#0d0887"
             ],
             [
              0.1111111111111111,
              "#46039f"
             ],
             [
              0.2222222222222222,
              "#7201a8"
             ],
             [
              0.3333333333333333,
              "#9c179e"
             ],
             [
              0.4444444444444444,
              "#bd3786"
             ],
             [
              0.5555555555555556,
              "#d8576b"
             ],
             [
              0.6666666666666666,
              "#ed7953"
             ],
             [
              0.7777777777777778,
              "#fb9f3a"
             ],
             [
              0.8888888888888888,
              "#fdca26"
             ],
             [
              1,
              "#f0f921"
             ]
            ],
            "type": "heatmapgl"
           }
          ],
          "histogram": [
           {
            "marker": {
             "pattern": {
              "fillmode": "overlay",
              "size": 10,
              "solidity": 0.2
             }
            },
            "type": "histogram"
           }
          ],
          "histogram2d": [
           {
            "colorbar": {
             "outlinewidth": 0,
             "ticks": ""
            },
            "colorscale": [
             [
              0,
              "#0d0887"
             ],
             [
              0.1111111111111111,
              "#46039f"
             ],
             [
              0.2222222222222222,
              "#7201a8"
             ],
             [
              0.3333333333333333,
              "#9c179e"
             ],
             [
              0.4444444444444444,
              "#bd3786"
             ],
             [
              0.5555555555555556,
              "#d8576b"
             ],
             [
              0.6666666666666666,
              "#ed7953"
             ],
             [
              0.7777777777777778,
              "#fb9f3a"
             ],
             [
              0.8888888888888888,
              "#fdca26"
             ],
             [
              1,
              "#f0f921"
             ]
            ],
            "type": "histogram2d"
           }
          ],
          "histogram2dcontour": [
           {
            "colorbar": {
             "outlinewidth": 0,
             "ticks": ""
            },
            "colorscale": [
             [
              0,
              "#0d0887"
             ],
             [
              0.1111111111111111,
              "#46039f"
             ],
             [
              0.2222222222222222,
              "#7201a8"
             ],
             [
              0.3333333333333333,
              "#9c179e"
             ],
             [
              0.4444444444444444,
              "#bd3786"
             ],
             [
              0.5555555555555556,
              "#d8576b"
             ],
             [
              0.6666666666666666,
              "#ed7953"
             ],
             [
              0.7777777777777778,
              "#fb9f3a"
             ],
             [
              0.8888888888888888,
              "#fdca26"
             ],
             [
              1,
              "#f0f921"
             ]
            ],
            "type": "histogram2dcontour"
           }
          ],
          "mesh3d": [
           {
            "colorbar": {
             "outlinewidth": 0,
             "ticks": ""
            },
            "type": "mesh3d"
           }
          ],
          "parcoords": [
           {
            "line": {
             "colorbar": {
              "outlinewidth": 0,
              "ticks": ""
             }
            },
            "type": "parcoords"
           }
          ],
          "pie": [
           {
            "automargin": true,
            "type": "pie"
           }
          ],
          "scatter": [
           {
            "fillpattern": {
             "fillmode": "overlay",
             "size": 10,
             "solidity": 0.2
            },
            "type": "scatter"
           }
          ],
          "scatter3d": [
           {
            "line": {
             "colorbar": {
              "outlinewidth": 0,
              "ticks": ""
             }
            },
            "marker": {
             "colorbar": {
              "outlinewidth": 0,
              "ticks": ""
             }
            },
            "type": "scatter3d"
           }
          ],
          "scattercarpet": [
           {
            "marker": {
             "colorbar": {
              "outlinewidth": 0,
              "ticks": ""
             }
            },
            "type": "scattercarpet"
           }
          ],
          "scattergeo": [
           {
            "marker": {
             "colorbar": {
              "outlinewidth": 0,
              "ticks": ""
             }
            },
            "type": "scattergeo"
           }
          ],
          "scattergl": [
           {
            "marker": {
             "colorbar": {
              "outlinewidth": 0,
              "ticks": ""
             }
            },
            "type": "scattergl"
           }
          ],
          "scattermapbox": [
           {
            "marker": {
             "colorbar": {
              "outlinewidth": 0,
              "ticks": ""
             }
            },
            "type": "scattermapbox"
           }
          ],
          "scatterpolar": [
           {
            "marker": {
             "colorbar": {
              "outlinewidth": 0,
              "ticks": ""
             }
            },
            "type": "scatterpolar"
           }
          ],
          "scatterpolargl": [
           {
            "marker": {
             "colorbar": {
              "outlinewidth": 0,
              "ticks": ""
             }
            },
            "type": "scatterpolargl"
           }
          ],
          "scatterternary": [
           {
            "marker": {
             "colorbar": {
              "outlinewidth": 0,
              "ticks": ""
             }
            },
            "type": "scatterternary"
           }
          ],
          "surface": [
           {
            "colorbar": {
             "outlinewidth": 0,
             "ticks": ""
            },
            "colorscale": [
             [
              0,
              "#0d0887"
             ],
             [
              0.1111111111111111,
              "#46039f"
             ],
             [
              0.2222222222222222,
              "#7201a8"
             ],
             [
              0.3333333333333333,
              "#9c179e"
             ],
             [
              0.4444444444444444,
              "#bd3786"
             ],
             [
              0.5555555555555556,
              "#d8576b"
             ],
             [
              0.6666666666666666,
              "#ed7953"
             ],
             [
              0.7777777777777778,
              "#fb9f3a"
             ],
             [
              0.8888888888888888,
              "#fdca26"
             ],
             [
              1,
              "#f0f921"
             ]
            ],
            "type": "surface"
           }
          ],
          "table": [
           {
            "cells": {
             "fill": {
              "color": "#EBF0F8"
             },
             "line": {
              "color": "white"
             }
            },
            "header": {
             "fill": {
              "color": "#C8D4E3"
             },
             "line": {
              "color": "white"
             }
            },
            "type": "table"
           }
          ]
         },
         "layout": {
          "annotationdefaults": {
           "arrowcolor": "#2a3f5f",
           "arrowhead": 0,
           "arrowwidth": 1
          },
          "autotypenumbers": "strict",
          "coloraxis": {
           "colorbar": {
            "outlinewidth": 0,
            "ticks": ""
           }
          },
          "colorscale": {
           "diverging": [
            [
             0,
             "#8e0152"
            ],
            [
             0.1,
             "#c51b7d"
            ],
            [
             0.2,
             "#de77ae"
            ],
            [
             0.3,
             "#f1b6da"
            ],
            [
             0.4,
             "#fde0ef"
            ],
            [
             0.5,
             "#f7f7f7"
            ],
            [
             0.6,
             "#e6f5d0"
            ],
            [
             0.7,
             "#b8e186"
            ],
            [
             0.8,
             "#7fbc41"
            ],
            [
             0.9,
             "#4d9221"
            ],
            [
             1,
             "#276419"
            ]
           ],
           "sequential": [
            [
             0,
             "#0d0887"
            ],
            [
             0.1111111111111111,
             "#46039f"
            ],
            [
             0.2222222222222222,
             "#7201a8"
            ],
            [
             0.3333333333333333,
             "#9c179e"
            ],
            [
             0.4444444444444444,
             "#bd3786"
            ],
            [
             0.5555555555555556,
             "#d8576b"
            ],
            [
             0.6666666666666666,
             "#ed7953"
            ],
            [
             0.7777777777777778,
             "#fb9f3a"
            ],
            [
             0.8888888888888888,
             "#fdca26"
            ],
            [
             1,
             "#f0f921"
            ]
           ],
           "sequentialminus": [
            [
             0,
             "#0d0887"
            ],
            [
             0.1111111111111111,
             "#46039f"
            ],
            [
             0.2222222222222222,
             "#7201a8"
            ],
            [
             0.3333333333333333,
             "#9c179e"
            ],
            [
             0.4444444444444444,
             "#bd3786"
            ],
            [
             0.5555555555555556,
             "#d8576b"
            ],
            [
             0.6666666666666666,
             "#ed7953"
            ],
            [
             0.7777777777777778,
             "#fb9f3a"
            ],
            [
             0.8888888888888888,
             "#fdca26"
            ],
            [
             1,
             "#f0f921"
            ]
           ]
          },
          "colorway": [
           "#636efa",
           "#EF553B",
           "#00cc96",
           "#ab63fa",
           "#FFA15A",
           "#19d3f3",
           "#FF6692",
           "#B6E880",
           "#FF97FF",
           "#FECB52"
          ],
          "font": {
           "color": "#2a3f5f"
          },
          "geo": {
           "bgcolor": "white",
           "lakecolor": "white",
           "landcolor": "#E5ECF6",
           "showlakes": true,
           "showland": true,
           "subunitcolor": "white"
          },
          "hoverlabel": {
           "align": "left"
          },
          "hovermode": "closest",
          "mapbox": {
           "style": "light"
          },
          "paper_bgcolor": "white",
          "plot_bgcolor": "#E5ECF6",
          "polar": {
           "angularaxis": {
            "gridcolor": "white",
            "linecolor": "white",
            "ticks": ""
           },
           "bgcolor": "#E5ECF6",
           "radialaxis": {
            "gridcolor": "white",
            "linecolor": "white",
            "ticks": ""
           }
          },
          "scene": {
           "xaxis": {
            "backgroundcolor": "#E5ECF6",
            "gridcolor": "white",
            "gridwidth": 2,
            "linecolor": "white",
            "showbackground": true,
            "ticks": "",
            "zerolinecolor": "white"
           },
           "yaxis": {
            "backgroundcolor": "#E5ECF6",
            "gridcolor": "white",
            "gridwidth": 2,
            "linecolor": "white",
            "showbackground": true,
            "ticks": "",
            "zerolinecolor": "white"
           },
           "zaxis": {
            "backgroundcolor": "#E5ECF6",
            "gridcolor": "white",
            "gridwidth": 2,
            "linecolor": "white",
            "showbackground": true,
            "ticks": "",
            "zerolinecolor": "white"
           }
          },
          "shapedefaults": {
           "line": {
            "color": "#2a3f5f"
           }
          },
          "ternary": {
           "aaxis": {
            "gridcolor": "white",
            "linecolor": "white",
            "ticks": ""
           },
           "baxis": {
            "gridcolor": "white",
            "linecolor": "white",
            "ticks": ""
           },
           "bgcolor": "#E5ECF6",
           "caxis": {
            "gridcolor": "white",
            "linecolor": "white",
            "ticks": ""
           }
          },
          "title": {
           "x": 0.05
          },
          "xaxis": {
           "automargin": true,
           "gridcolor": "white",
           "linecolor": "white",
           "ticks": "",
           "title": {
            "standoff": 15
           },
           "zerolinecolor": "white",
           "zerolinewidth": 2
          },
          "yaxis": {
           "automargin": true,
           "gridcolor": "white",
           "linecolor": "white",
           "ticks": "",
           "title": {
            "standoff": 15
           },
           "zerolinecolor": "white",
           "zerolinewidth": 2
          }
         }
        },
        "title": {
         "text": "Feet distance"
        },
        "width": 750,
        "xaxis": {
         "title": {
          "font": {
           "color": "#7f7f7f",
           "family": "Courier New, monospace",
           "size": 18
          },
          "text": "time [s]"
         }
        },
        "yaxis": {
         "title": {
          "font": {
           "color": "#7f7f7f",
           "family": "Courier New, monospace",
           "size": 18
          },
          "text": "dist [m]"
         }
        }
       }
      },
      "text/html": [
       "<div>                            <div id=\"30e9e2b2-6b6f-4a47-9342-6bc9ef107b87\" class=\"plotly-graph-div\" style=\"height:600px; width:750px;\"></div>            <script type=\"text/javascript\">                require([\"plotly\"], function(Plotly) {                    window.PLOTLYENV=window.PLOTLYENV || {};                                    if (document.getElementById(\"30e9e2b2-6b6f-4a47-9342-6bc9ef107b87\")) {                    Plotly.newPlot(                        \"30e9e2b2-6b6f-4a47-9342-6bc9ef107b87\",                        [{\"line\":{\"color\":\"blue\",\"width\":3},\"mode\":\"lines\",\"name\":\"Feet distance\",\"x\":[24.233115196228027,24.332800149917603,24.43332529067993,24.533143520355225,24.63327145576477,24.741224765777588,24.83667492866516,24.933400630950928,25.03368902206421,25.136213779449463,25.236974239349365,25.33634853363037,25.436240673065186,25.534266233444214,25.660048961639404,25.73537588119507,25.837066650390625,25.93694543838501,26.037134408950806,26.135271310806274,26.238525390625,26.33588480949402,26.436264991760254,26.5361270904541,26.636869430541992,26.736798763275146,26.83656358718872,26.936131238937378,27.037917852401733,27.136846780776978,27.236833333969116,27.337327480316162,27.439617395401,27.538838148117065,27.638164520263672,27.749006986618042,27.83854031562805,27.9455463886261,28.040802001953125,28.139883041381836,28.239752769470215,28.339375257492065,28.439257621765137,28.540772676467896,28.64122200012207,28.740676641464233,28.842568397521973,28.945440530776978,29.04046893119812,29.14072895050049,29.241145849227905,29.340039253234863,29.439839601516724,29.54038095474243,29.63996434211731,29.739933252334595,29.846254587173462,29.94089412689209,30.04071307182312,30.144608736038208,30.240516185760498,30.34049105644226,30.44564700126648,30.55128312110901,30.640730619430542,30.742594957351685,30.84181499481201,30.943175554275513,31.05737829208374,31.142616987228394,31.24183678627014,31.342342376708984,31.44289994239807,31.5424702167511,31.643161296844482,31.74295926094055,31.84236192703247,31.94386625289917,32.04418087005615,32.14330244064331,32.24445056915283,32.343778133392334,32.449652910232544,32.544663190841675,32.64774417877197,32.744690895080566,32.84504675865173,32.944618463516235,33.05396890640259,33.143632888793945,33.24526834487915,33.345051288604736,33.44400191307068,33.55854344367981,33.64385724067688,33.74412751197815,33.84885501861572,33.94433307647705,34.044235944747925,34.14453125,34.24451446533203,34.34574580192566,34.448670625686646,34.54504442214966,34.64591407775879,34.744818449020386,34.84493112564087,34.945334911346436,35.049182176589966,35.146583557128906,35.24837875366211,35.34727358818054,35.45433211326599,35.545390129089355,35.656078577041626,35.746832847595215,35.8473219871521,35.94709372520447,36.0468065738678,36.14607119560242,36.24921727180481,36.34639763832092,36.454500675201416,36.54650640487671,36.65474462509155,36.749191999435425,36.85453176498413,36.95210886001587,37.047197103500366,37.14702796936035,37.24901580810547,37.34686207771301,37.447104692459106,37.54842662811279,37.64687538146973,37.74915027618408,37.84915614128113,37.948790311813354,38.04765033721924,38.14885377883911,38.24823212623596,38.35143542289734,38.45007371902466,38.55542993545532,38.65315294265747,38.75039100646973,38.85027742385864,38.950366497039795,39.05031752586365,39.150487184524536,39.25821256637573,39.35039734840393,39.45201921463013,39.55043816566467,39.650450229644775,39.75240468978882,39.85030198097229,39.9519202709198,40.05151343345642,40.15075707435608,40.253804206848145,40.36140036582947,40.450860261917114,40.55409598350525,40.65131616592407,40.75186371803284,40.85239887237549,40.95355796813965,41.05352592468262,41.16284155845642,41.252413749694824,41.3540472984314,41.455708026885986,41.55463624000549,41.652626037597656,41.75363826751709,41.855064392089844,41.953187227249146,42.05310916900635,42.15421986579895,42.25406765937805,42.35616064071655,42.45375347137451,42.55452561378479,42.65626549720764,42.7549045085907,42.85430359840393,42.954716205596924,43.0550434589386,43.15387988090515,43.26676344871521,43.35433602333069,43.45442318916321,43.55426049232483,43.65690588951111,43.754761695861816,43.85465598106384,43.95766234397888,44.05765414237976,44.15516233444214,44.255306243896484,44.35650944709778,44.4564106464386,44.558196783065796,44.65524959564209,44.75663423538208,44.855653285980225,44.956889152526855,45.056891202926636,45.15617251396179,45.259347915649414,45.35649275779724,45.4566650390625,45.55965876579285,45.6593382358551,45.756914138793945,45.8582808971405,45.95721650123596,46.058391094207764,46.157426595687866,46.258829832077026,46.36005163192749,46.45975947380066,46.55997109413147,46.66822338104248,46.7590754032135,46.859297037124634,46.959229946136475,47.05930709838867,47.160308599472046,47.25964903831482,47.35964608192444,47.45954132080078,47.56847953796387,47.65980339050293,47.76070761680603,47.860949993133545,47.96102738380432,48.0608868598938,48.16973042488098,48.26136255264282,48.3635528087616,48.46225309371948,48.56248378753662,48.66207695007324,48.761430740356445,48.86470699310303,48.96166253089905,49.06158661842346,49.16189455986023,49.26649451255798,49.362058877944946,49.46488690376282,49.56207346916199,49.6636598110199,49.763437032699585,49.86710548400879,49.966618061065674,50.06493520736694,50.16594886779785,50.263988971710205,50.36377811431885,50.46897530555725,50.56509709358215,50.663946866989136,50.76420331001282,50.865792751312256,50.96528196334839,51.06493139266968,51.16599106788635,51.264713525772095,51.36483836174011,51.466283082962036,51.56488108634949,51.66627740859985,51.76533913612366,51.86521315574646,51.965941190719604,52.06543946266174,52.165924072265625,52.267369985580444,52.36658000946045,52.46628165245056,52.5660502910614,52.668837785720825,52.765990257263184,52.865904331207275,52.967106342315674,53.07641339302063,53.16690969467163,53.270140647888184,53.36931872367859,53.46704411506653,53.56643581390381,53.6758246421814,53.76804304122925,53.86708450317383,53.967583656311035,54.06740736961365,54.168564558029175,54.26759457588196,54.36831283569336,54.46784591674805,54.56783151626587,54.667638301849365,54.768479108810425,54.86789917945862,54.96787142753601,55.067992210388184,55.171016454696655,55.269285917282104,55.36903381347656,55.468350648880005,55.570322036743164,55.67030596733093,55.77029013633728,55.87521815299988,55.97042274475098,56.07261395454407,56.17239284515381,56.27244687080383,56.37264847755432,56.48825979232788,56.57243776321411,56.68163299560547,56.77378845214844,56.87340188026428,56.97399425506592,57.073071241378784,57.17336463928223,57.2733998298645,57.37728786468506,57.47473859786987,57.57391428947449,57.6785364151001,57.77704167366028,57.87393260002136,57.975202560424805,58.07394576072693,58.174970388412476,58.27534246444702,58.37405180931091,58.49008274078369,58.57447624206543,58.674320459365845,58.77466368675232,58.87987661361694,58.974895000457764,59.074692249298096,59.17652249336243,59.27519130706787,59.376720666885376,59.48024845123291,59.57504415512085,59.67632222175598,59.775283336639404,59.87633013725281,59.9767279624939,60.07995295524597,60.176642417907715,60.27666091918945,60.3757860660553,60.475781202316284,60.57788562774658,60.676915884017944,60.78098464012146,60.878838777542114,60.9773690700531,61.07639503479004,61.17762112617493,61.27669715881348,61.378113746643066,61.481345415115356,61.57789969444275,61.68140506744385,61.77827453613281,61.87871265411377,61.97990441322327,62.08743119239807,62.17740345001221,62.28377366065979,62.377360105514526,62.48196077346802,62.577552795410156,62.67955780029297,62.77953815460205,62.88564467430115,62.97774291038513,63.07864475250244,63.179381370544434,63.27934241294861,63.38161492347717,63.49756383895874,63.578343868255615,63.68144154548645,63.7796425819397,63.882205963134766,63.982651472091675,64.08018064498901,64.18289732933044,64.28019547462463,64.38835501670837,64.47988796234131,64.58415126800537,64.681893825531,64.79290437698364,64.88766360282898,64.98255801200867,65.08255767822266,65.18253898620605,65.28386378288269,65.38267874717712,65.48333883285522,65.58333897590637,65.68291187286377,65.78422260284424,65.88682770729065,65.98398804664612,66.08520674705505,66.18757677078247,66.2843267917633,66.38681292533875,66.48536348342896,66.59144806861877,66.70076823234558,66.78522777557373,66.8854010105133,66.99277520179749,67.09571313858032,67.18712520599365,67.29626321792603,67.38522362709045,67.48535013198853,67.60217905044556,67.6925277709961,67.79683327674866,67.89559507369995,67.99541354179382,68.09643268585205,68.19452285766602,68.29497075080872,68.3873176574707,68.48790216445923,68.6015555858612,68.68706679344177,68.81795263290405],\"y\":[0.26931717776290204,0.26931717776290204,0.26931717776290204,0.26931717776290204,0.27053564636360683,0.27053564636360683,0.27142831918832516,0.27247824719992747,0.27247824719992747,0.28274682425608905,0.2951079934517994,0.2951079934517994,0.2985519554886199,0.3176506723663978,0.3176506723663978,0.3945085552683273,0.41946549898007535,0.41946549898007535,0.4086263212949753,0.35204415324238664,0.35204415324238664,0.3033673664667351,0.3033673664667351,0.2767334547331766,0.2696025604861027,0.2696025604861027,0.2696025604861027,0.26714076933024716,0.26714076933024716,0.2620771286744801,0.26032393779561364,0.26032393779561364,0.26032393779561364,0.26032393779561364,0.26032393779561364,0.26713474977696544,0.26713474977696544,0.26812787830373747,0.2688770300150068,0.26760986081818244,0.2726482200095069,0.2726482200095069,0.2674562786375699,0.2674562786375699,0.26845459692517115,0.2654661502526857,0.2654661502526857,0.2654661502526857,0.2665014900750225,0.27025997699803755,0.27129618919799314,0.27129618919799314,0.2798317422363011,0.28092105869909173,0.2798722275989441,0.2787845020501638,0.2787845020501638,0.2743451699790345,0.2743451699790345,0.26819099778035094,0.26819099778035094,0.26882290988812635,0.26882290988812635,0.26882290988812635,0.26789767928270025,0.26743550436489466,0.26743550436489466,0.2672741749378588,0.2637834742530631,0.2637834742530631,0.26317913836554113,0.2631735254598676,0.2631735254598676,0.26075049785335014,0.2661782232861214,0.27075553571395616,0.27075553571395616,0.27075553571395616,0.27259910840848345,0.27259910840848345,0.2686949455543495,0.2686949455543495,0.2686949455543495,0.26887315919211696,0.26887315919211696,0.26887315919211696,0.269304846316587,0.26939019806756226,0.2671180619781759,0.26255038097184014,0.26255038097184014,0.26255038097184014,0.26255038097184014,0.26345654167107807,0.26345654167107807,0.2872235849207995,0.3501664952648884,0.3501664952648884,0.43840765120679415,0.43840765120679415,0.4730025294551589,0.5071377174934691,0.5333970020364915,0.5333970020364915,0.5333970020364915,0.5333970020364915,0.4980039640591838,0.4930248041762048,0.4930248041762048,0.4221098691056715,0.3350494009290775,0.2726937022057491,0.2726937022057491,0.2544651695159733,0.2544651695159733,0.25333608091980564,0.2530232666772576,0.2530232666772576,0.2530232666772576,0.2519935281574973,0.2518472542122638,0.2518472542122638,0.2511442488894258,0.25086227003944106,0.25086227003944106,0.25086227003944106,0.24897911120017086,0.24897911120017086,0.24897911120017086,0.24897911120017086,0.24897911120017086,0.24897911120017086,0.24945656357620305,0.24945656357620305,0.24945656357620305,0.24890394591234685,0.24890394591234685,0.24890394591234685,0.24890394591234685,0.24890394591234685,0.24890394591234685,0.2491911519609294,0.2491911519609294,0.24760463417306072,0.24760463417306072,0.24760463417306072,0.24760463417306072,0.24760463417306072,0.2476586777482812,0.2477665643661246,0.2477665643661246,0.24827531548919643,0.2479511660194696,0.24773005831279873,0.24773005831279865,0.24773005831279865,0.24773006745150827,0.24773010302013643,0.24773010302013643,0.24773010302013643,0.24773010302013643,0.24773010302013643,0.24773010302013643,0.2476122547939435,0.2476122547939435,0.2475977406030766,0.24904231769344287,0.24904231769344287,0.24904231769344287,0.2524750399287851,0.2524750399287851,0.3003494950874283,0.3003494950874283,0.3003494950874283,0.3003494950874283,0.3003494950874283,0.32819571662422453,0.32819571662422453,0.39935269505062676,0.42029038214993225,0.3153635934994448,0.21638749817334507,0.21638749817334507,0.21638749817334507,0.21638749817334507,0.21638749817334507,0.21638749817334507,0.1623468792065886,0.16526472952308444,0.16526472952308444,0.16965393471009202,0.17650065713263915,0.20441548057610787,0.20317828386131664,0.21008939794547243,0.21809203228702523,0.21809203228702523,0.21809203228702523,0.21809203228702523,0.21805474485311385,0.21808669553410592,0.21808669553410592,0.21808669553410592,0.21885336138455685,0.21885336138455685,0.223347652193855,0.23051382869951242,0.23188489629808387,0.23188420548273223,0.23612384335517647,0.23612384335517647,0.24125390353987777,0.24439702831980786,0.26125792531887865,0.26142539579239593,0.2782924437139772,0.2883061884172898,0.2912649280442624,0.3018521352774642,0.3341440895147792,0.3356883570063193,0.37091470959790446,0.3731218954142536,0.3731218954142536,0.3643598997165797,0.2158515565351322,0.2158515565351322,0.08430476661271726,0.07489108497529683,0.0173094751704828,0.05427142848485078,0.05427142848485078,0.05427142848485078,0.024229196195691492,0.09292847266722015,0.13942179049395156,0.14102912798395736,0.22514859641016044,0.3346063285884141,0.28390623805779025,0.21661577512872648,0.20719901707326,0.1379612103988444,0.08183191399409896,0.08183191399409896,0.060795247411550124,0.05864452486093228,0.05507650011723376,0.054030020729582,0.054030020729582,0.057059109335857935,0.07184928382492853,0.10136305230937387,0.11787433136259637,0.14099475751159973,0.1533909785443712,0.15323151175076324,0.15217070410151523,0.15008785557946175,0.14797569259216814,0.13156618665349878,0.11698070232059415,0.09062949244540115,0.09062949244540115,0.08571244694282307,0.08447609035595352,0.07412637429643879,0.07961724098044362,0.07961724098044362,0.07961724098044362,0.07961724098044362,0.08090674866653812,0.08048909466141205,0.07880285714599249,0.07880285714599249,0.08412307153306363,0.08412307153306363,0.08412307153306363,0.08412307153306363,0.08412307153306363,0.08872106273215201,0.10086656102684653,0.10086656102684653,0.11056328158782804,0.11056328158782804,0.110837521637656,0.09344987594735729,0.09344987594735729,0.09344987594735729,0.09117543302576826,0.09029224884813059,0.08958651758791833,0.09027573350700326,0.09042237917025889,0.09135186079362426,0.0921282784573919,0.09390073514345222,0.09390073514345222,0.09390073514345222,0.09239564148302724,0.09236614893908027,0.09236614893908027,0.09101374899199242,0.08892000412915803,0.09208513743700608,0.09242459393688318,0.09242459393688318,0.09009227137691501,0.0855201446093003,0.0849432805334036,0.08337241755832019,0.07937465908713656,0.07862133386909087,0.07862133386909087,0.07744078295767981,0.07744078295767981,0.07996791576084925,0.09356799547263446,0.11732789750907283,0.14741270226636208,0.16503602542121562,0.20273180191830417,0.3306266851385739,0.33393166520157413,0.45702878577308725,0.45702878577308725,0.5231269661781592,0.5382867360778957,0.5400801995321463,0.5392080646130311,0.5392080646130311,0.5392080646130311,0.5339250531934754,0.53354801495882,0.48128297454508484,0.3836204963356401,0.25438199955917146,0.25438199955917146,0.2254994408058808,0.1071953491372308,0.10713682295194235,0.08819895194622471,0.08135838480134347,0.07888264838879384,0.07136287730997412,0.08154289156965673,0.08736103403274237,0.08736103403274237,0.09829012065999976,0.09829012065999976,0.09368677266246674,0.0914113720681192,0.0914113720681192,0.08388460772603462,0.08388460772603462,0.08254547742804717,0.08254547742804717,0.0809708866406314,0.07932471381433663,0.06827181725392352,0.05160085951510056,0.033316324334705,0.02966992885252827,0.025507486921547598,0.03636062347097703,0.03636062347097703,0.18602144578358268,0.3479819370929903,0.3479819370929903,0.47542067455396464,0.5378237888862283,0.5724553985433233,0.5724553985433233,0.5669385667703626,0.5682965754349207,0.5186526757854101,0.38691714526102444,0.386927462604679,0.2135787957085574,0.2135787957085574,0.04815144821916599,0.02393693784719742,0.02393693784719742,0.03263970068068849,0.03398330861930664,0.039593634929336395,0.04852346293806537,0.049828333958338245,0.049828333958338245,0.046932012453137564,0.03959381229277055,0.03495641051244165,0.034146644760022306,0.03315648820720428,0.029298698463420376,0.024772368140585904,0.020918847948875986,0.01652539964765371,0.01652539964765371,0.016527900732421216,0.016659960427253793,0.022505884725833994,0.022505884725833994,0.0213264884186062,0.0213264884186062,0.02182861829566624,0.02182861829566624,0.02182861829566624,0.02182861829566624,0.03413227679670906,0.06998982265149832,0.13121851317450017,0.18384984989730332,0.26533327765829606,0.33891089403627056,0.33892293389632844,0.4545138008852383,0.4980457920213413,0.4980457920213413,0.5055474765879251,0.5055474765879251,0.5055474765879251,0.5055474765879251,0.5055474765879251,0.5055474765879251,0.5055474765879251,0.5055474765879251,0.5055474765879251,0.5055474765879251,0.5055474765879251,0.5055474765879251,0.5055474765879251,0.5055474765879251,0.5055474765879251,0.5055474765879251,0.5055474765879251,0.5055474765879251,0.5055474765879251,0.5055474765879251,0.5055474765879251,0.5055474765879251,0.5055474765879251,0.5055474765879251,0.5055474765879251,0.5055474765879251],\"type\":\"scatter\"},{\"marker\":{\"color\":\"red\",\"size\":10},\"mode\":\"markers\",\"name\":\"Heel strikes\",\"x\":[25.837066650390625,34.54504442214966,42.15421986579895,46.45975947380066,48.0608868598938,57.073071241378784,61.378113746643066,61.68140506744385,61.97990441322327],\"y\":[0.41946549898007535,0.5333970020364915,0.42029038214993225,0.3731218954142536,0.3346063285884141,0.5400801995321463,0.5724553985433233,0.5682965754349207,0.386927462604679],\"type\":\"scatter\"}],                        {\"autosize\":false,\"font\":{\"color\":\"black\",\"family\":\"Courier New, monospace\",\"size\":22},\"height\":600,\"template\":{\"data\":{\"barpolar\":[{\"marker\":{\"line\":{\"color\":\"#E5ECF6\",\"width\":0.5},\"pattern\":{\"fillmode\":\"overlay\",\"size\":10,\"solidity\":0.2}},\"type\":\"barpolar\"}],\"bar\":[{\"error_x\":{\"color\":\"#2a3f5f\"},\"error_y\":{\"color\":\"#2a3f5f\"},\"marker\":{\"line\":{\"color\":\"#E5ECF6\",\"width\":0.5},\"pattern\":{\"fillmode\":\"overlay\",\"size\":10,\"solidity\":0.2}},\"type\":\"bar\"}],\"carpet\":[{\"aaxis\":{\"endlinecolor\":\"#2a3f5f\",\"gridcolor\":\"white\",\"linecolor\":\"white\",\"minorgridcolor\":\"white\",\"startlinecolor\":\"#2a3f5f\"},\"baxis\":{\"endlinecolor\":\"#2a3f5f\",\"gridcolor\":\"white\",\"linecolor\":\"white\",\"minorgridcolor\":\"white\",\"startlinecolor\":\"#2a3f5f\"},\"type\":\"carpet\"}],\"choropleth\":[{\"colorbar\":{\"outlinewidth\":0,\"ticks\":\"\"},\"type\":\"choropleth\"}],\"contourcarpet\":[{\"colorbar\":{\"outlinewidth\":0,\"ticks\":\"\"},\"type\":\"contourcarpet\"}],\"contour\":[{\"colorbar\":{\"outlinewidth\":0,\"ticks\":\"\"},\"colorscale\":[[0.0,\"#0d0887\"],[0.1111111111111111,\"#46039f\"],[0.2222222222222222,\"#7201a8\"],[0.3333333333333333,\"#9c179e\"],[0.4444444444444444,\"#bd3786\"],[0.5555555555555556,\"#d8576b\"],[0.6666666666666666,\"#ed7953\"],[0.7777777777777778,\"#fb9f3a\"],[0.8888888888888888,\"#fdca26\"],[1.0,\"#f0f921\"]],\"type\":\"contour\"}],\"heatmapgl\":[{\"colorbar\":{\"outlinewidth\":0,\"ticks\":\"\"},\"colorscale\":[[0.0,\"#0d0887\"],[0.1111111111111111,\"#46039f\"],[0.2222222222222222,\"#7201a8\"],[0.3333333333333333,\"#9c179e\"],[0.4444444444444444,\"#bd3786\"],[0.5555555555555556,\"#d8576b\"],[0.6666666666666666,\"#ed7953\"],[0.7777777777777778,\"#fb9f3a\"],[0.8888888888888888,\"#fdca26\"],[1.0,\"#f0f921\"]],\"type\":\"heatmapgl\"}],\"heatmap\":[{\"colorbar\":{\"outlinewidth\":0,\"ticks\":\"\"},\"colorscale\":[[0.0,\"#0d0887\"],[0.1111111111111111,\"#46039f\"],[0.2222222222222222,\"#7201a8\"],[0.3333333333333333,\"#9c179e\"],[0.4444444444444444,\"#bd3786\"],[0.5555555555555556,\"#d8576b\"],[0.6666666666666666,\"#ed7953\"],[0.7777777777777778,\"#fb9f3a\"],[0.8888888888888888,\"#fdca26\"],[1.0,\"#f0f921\"]],\"type\":\"heatmap\"}],\"histogram2dcontour\":[{\"colorbar\":{\"outlinewidth\":0,\"ticks\":\"\"},\"colorscale\":[[0.0,\"#0d0887\"],[0.1111111111111111,\"#46039f\"],[0.2222222222222222,\"#7201a8\"],[0.3333333333333333,\"#9c179e\"],[0.4444444444444444,\"#bd3786\"],[0.5555555555555556,\"#d8576b\"],[0.6666666666666666,\"#ed7953\"],[0.7777777777777778,\"#fb9f3a\"],[0.8888888888888888,\"#fdca26\"],[1.0,\"#f0f921\"]],\"type\":\"histogram2dcontour\"}],\"histogram2d\":[{\"colorbar\":{\"outlinewidth\":0,\"ticks\":\"\"},\"colorscale\":[[0.0,\"#0d0887\"],[0.1111111111111111,\"#46039f\"],[0.2222222222222222,\"#7201a8\"],[0.3333333333333333,\"#9c179e\"],[0.4444444444444444,\"#bd3786\"],[0.5555555555555556,\"#d8576b\"],[0.6666666666666666,\"#ed7953\"],[0.7777777777777778,\"#fb9f3a\"],[0.8888888888888888,\"#fdca26\"],[1.0,\"#f0f921\"]],\"type\":\"histogram2d\"}],\"histogram\":[{\"marker\":{\"pattern\":{\"fillmode\":\"overlay\",\"size\":10,\"solidity\":0.2}},\"type\":\"histogram\"}],\"mesh3d\":[{\"colorbar\":{\"outlinewidth\":0,\"ticks\":\"\"},\"type\":\"mesh3d\"}],\"parcoords\":[{\"line\":{\"colorbar\":{\"outlinewidth\":0,\"ticks\":\"\"}},\"type\":\"parcoords\"}],\"pie\":[{\"automargin\":true,\"type\":\"pie\"}],\"scatter3d\":[{\"line\":{\"colorbar\":{\"outlinewidth\":0,\"ticks\":\"\"}},\"marker\":{\"colorbar\":{\"outlinewidth\":0,\"ticks\":\"\"}},\"type\":\"scatter3d\"}],\"scattercarpet\":[{\"marker\":{\"colorbar\":{\"outlinewidth\":0,\"ticks\":\"\"}},\"type\":\"scattercarpet\"}],\"scattergeo\":[{\"marker\":{\"colorbar\":{\"outlinewidth\":0,\"ticks\":\"\"}},\"type\":\"scattergeo\"}],\"scattergl\":[{\"marker\":{\"colorbar\":{\"outlinewidth\":0,\"ticks\":\"\"}},\"type\":\"scattergl\"}],\"scattermapbox\":[{\"marker\":{\"colorbar\":{\"outlinewidth\":0,\"ticks\":\"\"}},\"type\":\"scattermapbox\"}],\"scatterpolargl\":[{\"marker\":{\"colorbar\":{\"outlinewidth\":0,\"ticks\":\"\"}},\"type\":\"scatterpolargl\"}],\"scatterpolar\":[{\"marker\":{\"colorbar\":{\"outlinewidth\":0,\"ticks\":\"\"}},\"type\":\"scatterpolar\"}],\"scatter\":[{\"fillpattern\":{\"fillmode\":\"overlay\",\"size\":10,\"solidity\":0.2},\"type\":\"scatter\"}],\"scatterternary\":[{\"marker\":{\"colorbar\":{\"outlinewidth\":0,\"ticks\":\"\"}},\"type\":\"scatterternary\"}],\"surface\":[{\"colorbar\":{\"outlinewidth\":0,\"ticks\":\"\"},\"colorscale\":[[0.0,\"#0d0887\"],[0.1111111111111111,\"#46039f\"],[0.2222222222222222,\"#7201a8\"],[0.3333333333333333,\"#9c179e\"],[0.4444444444444444,\"#bd3786\"],[0.5555555555555556,\"#d8576b\"],[0.6666666666666666,\"#ed7953\"],[0.7777777777777778,\"#fb9f3a\"],[0.8888888888888888,\"#fdca26\"],[1.0,\"#f0f921\"]],\"type\":\"surface\"}],\"table\":[{\"cells\":{\"fill\":{\"color\":\"#EBF0F8\"},\"line\":{\"color\":\"white\"}},\"header\":{\"fill\":{\"color\":\"#C8D4E3\"},\"line\":{\"color\":\"white\"}},\"type\":\"table\"}]},\"layout\":{\"annotationdefaults\":{\"arrowcolor\":\"#2a3f5f\",\"arrowhead\":0,\"arrowwidth\":1},\"autotypenumbers\":\"strict\",\"coloraxis\":{\"colorbar\":{\"outlinewidth\":0,\"ticks\":\"\"}},\"colorscale\":{\"diverging\":[[0,\"#8e0152\"],[0.1,\"#c51b7d\"],[0.2,\"#de77ae\"],[0.3,\"#f1b6da\"],[0.4,\"#fde0ef\"],[0.5,\"#f7f7f7\"],[0.6,\"#e6f5d0\"],[0.7,\"#b8e186\"],[0.8,\"#7fbc41\"],[0.9,\"#4d9221\"],[1,\"#276419\"]],\"sequential\":[[0.0,\"#0d0887\"],[0.1111111111111111,\"#46039f\"],[0.2222222222222222,\"#7201a8\"],[0.3333333333333333,\"#9c179e\"],[0.4444444444444444,\"#bd3786\"],[0.5555555555555556,\"#d8576b\"],[0.6666666666666666,\"#ed7953\"],[0.7777777777777778,\"#fb9f3a\"],[0.8888888888888888,\"#fdca26\"],[1.0,\"#f0f921\"]],\"sequentialminus\":[[0.0,\"#0d0887\"],[0.1111111111111111,\"#46039f\"],[0.2222222222222222,\"#7201a8\"],[0.3333333333333333,\"#9c179e\"],[0.4444444444444444,\"#bd3786\"],[0.5555555555555556,\"#d8576b\"],[0.6666666666666666,\"#ed7953\"],[0.7777777777777778,\"#fb9f3a\"],[0.8888888888888888,\"#fdca26\"],[1.0,\"#f0f921\"]]},\"colorway\":[\"#636efa\",\"#EF553B\",\"#00cc96\",\"#ab63fa\",\"#FFA15A\",\"#19d3f3\",\"#FF6692\",\"#B6E880\",\"#FF97FF\",\"#FECB52\"],\"font\":{\"color\":\"#2a3f5f\"},\"geo\":{\"bgcolor\":\"white\",\"lakecolor\":\"white\",\"landcolor\":\"#E5ECF6\",\"showlakes\":true,\"showland\":true,\"subunitcolor\":\"white\"},\"hoverlabel\":{\"align\":\"left\"},\"hovermode\":\"closest\",\"mapbox\":{\"style\":\"light\"},\"paper_bgcolor\":\"white\",\"plot_bgcolor\":\"#E5ECF6\",\"polar\":{\"angularaxis\":{\"gridcolor\":\"white\",\"linecolor\":\"white\",\"ticks\":\"\"},\"bgcolor\":\"#E5ECF6\",\"radialaxis\":{\"gridcolor\":\"white\",\"linecolor\":\"white\",\"ticks\":\"\"}},\"scene\":{\"xaxis\":{\"backgroundcolor\":\"#E5ECF6\",\"gridcolor\":\"white\",\"gridwidth\":2,\"linecolor\":\"white\",\"showbackground\":true,\"ticks\":\"\",\"zerolinecolor\":\"white\"},\"yaxis\":{\"backgroundcolor\":\"#E5ECF6\",\"gridcolor\":\"white\",\"gridwidth\":2,\"linecolor\":\"white\",\"showbackground\":true,\"ticks\":\"\",\"zerolinecolor\":\"white\"},\"zaxis\":{\"backgroundcolor\":\"#E5ECF6\",\"gridcolor\":\"white\",\"gridwidth\":2,\"linecolor\":\"white\",\"showbackground\":true,\"ticks\":\"\",\"zerolinecolor\":\"white\"}},\"shapedefaults\":{\"line\":{\"color\":\"#2a3f5f\"}},\"ternary\":{\"aaxis\":{\"gridcolor\":\"white\",\"linecolor\":\"white\",\"ticks\":\"\"},\"baxis\":{\"gridcolor\":\"white\",\"linecolor\":\"white\",\"ticks\":\"\"},\"bgcolor\":\"#E5ECF6\",\"caxis\":{\"gridcolor\":\"white\",\"linecolor\":\"white\",\"ticks\":\"\"}},\"title\":{\"x\":0.05},\"xaxis\":{\"automargin\":true,\"gridcolor\":\"white\",\"linecolor\":\"white\",\"ticks\":\"\",\"title\":{\"standoff\":15},\"zerolinecolor\":\"white\",\"zerolinewidth\":2},\"yaxis\":{\"automargin\":true,\"gridcolor\":\"white\",\"linecolor\":\"white\",\"ticks\":\"\",\"title\":{\"standoff\":15},\"zerolinecolor\":\"white\",\"zerolinewidth\":2}}},\"title\":{\"text\":\"Feet distance\"},\"width\":750,\"xaxis\":{\"title\":{\"font\":{\"color\":\"#7f7f7f\",\"family\":\"Courier New, monospace\",\"size\":18},\"text\":\"time [s]\"}},\"yaxis\":{\"title\":{\"font\":{\"color\":\"#7f7f7f\",\"family\":\"Courier New, monospace\",\"size\":18},\"text\":\"dist [m]\"}}},                        {\"responsive\": true}                    ).then(function(){\n",
       "                            \n",
       "var gd = document.getElementById('30e9e2b2-6b6f-4a47-9342-6bc9ef107b87');\n",
       "var x = new MutationObserver(function (mutations, observer) {{\n",
       "        var display = window.getComputedStyle(gd).display;\n",
       "        if (!display || display === 'none') {{\n",
       "            console.log([gd, 'removed!']);\n",
       "            Plotly.purge(gd);\n",
       "            observer.disconnect();\n",
       "        }}\n",
       "}});\n",
       "\n",
       "// Listen for the removal of the full notebook cells\n",
       "var notebookContainer = gd.closest('#notebook-container');\n",
       "if (notebookContainer) {{\n",
       "    x.observe(notebookContainer, {childList: true});\n",
       "}}\n",
       "\n",
       "// Listen for the clearing of the current output cell\n",
       "var outputEl = gd.closest('.output');\n",
       "if (outputEl) {{\n",
       "    x.observe(outputEl, {childList: true});\n",
       "}}\n",
       "\n",
       "                        })                };                });            </script>        </div>"
      ]
     },
     "metadata": {},
     "output_type": "display_data"
    },
    {
     "data": {
      "text/html": [
       "<div>\n",
       "<style scoped>\n",
       "    .dataframe tbody tr th:only-of-type {\n",
       "        vertical-align: middle;\n",
       "    }\n",
       "\n",
       "    .dataframe tbody tr th {\n",
       "        vertical-align: top;\n",
       "    }\n",
       "\n",
       "    .dataframe thead th {\n",
       "        text-align: right;\n",
       "    }\n",
       "</style>\n",
       "<table border=\"1\" class=\"dataframe\">\n",
       "  <thead>\n",
       "    <tr style=\"text-align: right;\">\n",
       "      <th></th>\n",
       "      <th>Gait analysis</th>\n",
       "    </tr>\n",
       "  </thead>\n",
       "  <tbody>\n",
       "    <tr>\n",
       "      <th>Step Length Avg. [m]</th>\n",
       "      <td>4.609601e-01</td>\n",
       "    </tr>\n",
       "    <tr>\n",
       "      <th>Number of steps</th>\n",
       "      <td>9.000000e+00</td>\n",
       "    </tr>\n",
       "    <tr>\n",
       "      <th>Cadence [steps/s]</th>\n",
       "      <td>inf</td>\n",
       "    </tr>\n",
       "    <tr>\n",
       "      <th>Speed [m/s]</th>\n",
       "      <td>inf</td>\n",
       "    </tr>\n",
       "    <tr>\n",
       "      <th>Execution time [s]</th>\n",
       "      <td>5.758829e-320</td>\n",
       "    </tr>\n",
       "  </tbody>\n",
       "</table>\n",
       "</div>"
      ],
      "text/plain": [
       "                      Gait analysis\n",
       "Step Length Avg. [m]   4.609601e-01\n",
       "Number of steps        9.000000e+00\n",
       "Cadence [steps/s]               inf\n",
       "Speed [m/s]                     inf\n",
       "Execution time [s]    5.758829e-320"
      ]
     },
     "metadata": {},
     "output_type": "display_data"
    }
   ],
   "source": [
    "lastsess_time = time[-1]\n",
    "lastsess_result = exercises[-1].result\n",
    "lastsess_res_step = []\n",
    "\n",
    "%matplotlib inline\n",
    "%matplotlib inline\n",
    "for i in range(len(lastsess_result)):\n",
    "    lastsess_met,lastsess_resi = lastsess_result[i]\n",
    "    lastsess_metname = lastsess_met.name\n",
    "    ################\n",
    "    #     ROM      #\n",
    "    ################\n",
    "    if lastsess_metname == \"ROM\":\n",
    "        lastsess_metjoint = lastsess_met.tagjoint\n",
    "        trace1 = go.Scatter(\n",
    "            x=lastsess_time,y=lastsess_resi,\n",
    "            mode='lines',\n",
    "            line=dict(\n",
    "                color='blue',\n",
    "                width=3\n",
    "            ),\n",
    "            name='Real trend'\n",
    "        )\n",
    "        data = [trace1]\n",
    "        layout = dict(\n",
    "            width=750,\n",
    "            height=600,\n",
    "            autosize=False,\n",
    "            title='Range of Motion '+lastsess_metjoint,\n",
    "            font=dict(family='Courier New, monospace', size=22, color='black'),\n",
    "            xaxis=dict(\n",
    "                title='time [s]',\n",
    "                titlefont=dict(\n",
    "                    family='Courier New, monospace',\n",
    "                    size=18,\n",
    "                    color='#7f7f7f'\n",
    "                )\n",
    "            ),\n",
    "            yaxis=dict(\n",
    "                title='ROM [degrees]',\n",
    "                titlefont=dict(\n",
    "                    family='Courier New, monospace',\n",
    "                    size=18,\n",
    "                    color='#7f7f7f'\n",
    "                )\n",
    "            )\n",
    "        )\n",
    "        fig = dict(data=data, layout=layout)\n",
    "        iplot(fig)\n",
    "\n",
    "    ################\n",
    "    #     STEP     #\n",
    "    ################\n",
    "    if lastsess_metname == \"step\":\n",
    "        dist=lastsess_resi[5]\n",
    "        strikes=lastsess_resi[6]\n",
    "        trace1 = go.Scatter(\n",
    "            x=lastsess_time,y=dist,\n",
    "            mode='lines',\n",
    "            line=dict(\n",
    "                color='blue',\n",
    "                width=3\n",
    "            ),\n",
    "            name='Feet distance'\n",
    "        )\n",
    "        trace2 = go.Scatter(\n",
    "            x=lastsess_time[strikes],y=dist[strikes],\n",
    "            mode='markers',\n",
    "            marker=dict(\n",
    "                color='red',\n",
    "                size=10\n",
    "            ),\n",
    "            name='Heel strikes'\n",
    "        )\n",
    "        data = [trace1,trace2]\n",
    "        layout = dict(\n",
    "            width=750,\n",
    "            height=600,\n",
    "            autosize=False,\n",
    "            title='Feet distance',\n",
    "            font=dict(family='Courier New, monospace', size=22, color='black'),\n",
    "            xaxis=dict(\n",
    "                title='time [s]',\n",
    "                titlefont=dict(\n",
    "                    family='Courier New, monospace',\n",
    "                    size=18,\n",
    "                    color='#7f7f7f'\n",
    "                )\n",
    "            ),\n",
    "            yaxis=dict(\n",
    "                title='dist [m]',\n",
    "                titlefont=dict(\n",
    "                    family='Courier New, monospace',\n",
    "                    size=18,\n",
    "                    color='#7f7f7f'\n",
    "                )\n",
    "            )\n",
    "        )\n",
    "        fig = dict(data=data, layout=layout)\n",
    "        iplot(fig)\n",
    "\n",
    "        lastsess_res_step.append(lastsess_resi)\n",
    "        sla = lastsess_res_step[0][8]\n",
    "        ns = lastsess_res_step[0][1]\n",
    "        cad = lastsess_res_step[0][2]\n",
    "        sp = lastsess_res_step[0][3]\n",
    "        ex = lastsess_res_step[0][4]\n",
    "        tablestep = pd.DataFrame([sla, ns, cad, sp, ex])\n",
    "        tablestep.rename(index={0:\"Step Length Avg. [m]\",1:\"Number of steps\",2:\"Cadence [steps/s]\",\n",
    "                                3:\"Speed [m/s]\",4:\"Execution time [s]\"},\n",
    "                         columns={0:\"Gait analysis\"}, inplace=True)\n",
    "        display(tablestep)\n",
    "\n",
    "    ################\n",
    "    #      EP      #\n",
    "    ################\n",
    "    if lastsess_metname == \"EP\":\n",
    "        target = lastsess_met.target\n",
    "        trace1 = go.Scatter3d(\n",
    "            x=lastsess_resi[:,0], y=lastsess_resi[:,1], z=lastsess_resi[:,2],\n",
    "            mode = 'lines',\n",
    "            line=dict(\n",
    "                color='blue',\n",
    "                width=3\n",
    "            ),\n",
    "            name = 'Trajectories'\n",
    "        )\n",
    "        trace2 = go.Scatter3d(\n",
    "            x=[target[0]], y=[target[1]], z=[target[2]],\n",
    "            mode = 'markers',\n",
    "            marker=dict(\n",
    "                color='red',\n",
    "                size=5\n",
    "            ),\n",
    "            name = 'Target to reach'\n",
    "        )\n",
    "        data = [trace1, trace2]    \n",
    "        layout = dict(\n",
    "            margin=dict(\n",
    "                l=0,\n",
    "                r=0,\n",
    "                b=0\n",
    "            ),\n",
    "            title='End-point trajectories',\n",
    "            font=dict(family='Courier New, monospace', size=22, color='black'),\n",
    "            scene=dict(\n",
    "                xaxis=dict(\n",
    "                    title='x [cm]',\n",
    "                    titlefont=dict(\n",
    "                        family='Courier New, monospace',\n",
    "                        size=18,\n",
    "                        color='#7f7f7f'\n",
    "                    ),\n",
    "                    tickfont=dict(\n",
    "                        family='Courier New, monospace',\n",
    "                        size=14,\n",
    "                        color='#7f7f7f'\n",
    "                    ),\n",
    "                    gridcolor='rgb(255, 255, 255)',\n",
    "                    zerolinecolor='rgb(255, 255, 255)',\n",
    "                    showbackground=True,\n",
    "                    backgroundcolor='rgb(230, 230,230)'\n",
    "                ),\n",
    "                yaxis=dict(\n",
    "                    title='y [cm]',\n",
    "                    titlefont=dict(\n",
    "                        family='Courier New, monospace',\n",
    "                        size=18,\n",
    "                        color='#7f7f7f'\n",
    "                    ),\n",
    "                    tickfont=dict(\n",
    "                        family='Courier New, monospace',\n",
    "                        size=14,\n",
    "                        color='#7f7f7f'\n",
    "                    ),\n",
    "                    gridcolor='rgb(255, 255, 255)',\n",
    "                    zerolinecolor='rgb(255, 255, 255)',\n",
    "                    showbackground=True,\n",
    "                    backgroundcolor='rgb(230, 230,230)'\n",
    "                ),\n",
    "                zaxis=dict(\n",
    "                    title='z [cm]',\n",
    "                    titlefont=dict(\n",
    "                        family='Courier New, monospace',\n",
    "                        size=18,\n",
    "                        color='#7f7f7f'\n",
    "                    ),\n",
    "                    tickfont=dict(\n",
    "                        family='Courier New, monospace',\n",
    "                        size=14,\n",
    "                        color='#7f7f7f'\n",
    "                    ),\n",
    "                    gridcolor='rgb(255, 255, 255)',\n",
    "                    zerolinecolor='rgb(255, 255, 255)',\n",
    "                    showbackground=True,\n",
    "                    backgroundcolor='rgb(230, 230,230)'\n",
    "                ),\n",
    "                camera=dict(\n",
    "                    up=dict(\n",
    "                        x=0,\n",
    "                        y=0,\n",
    "                        z=1\n",
    "                    ),\n",
    "                    eye=dict(\n",
    "                        x=-1.7428,\n",
    "                        y=1.0707,\n",
    "                        z=0.7100,\n",
    "                    )\n",
    "                ),\n",
    "                aspectratio = dict( x=1, y=1, z=0.7 ),\n",
    "                aspectmode = 'manual'\n",
    "            ),\n",
    "        )\n",
    "        fig = dict(data=data, layout=layout)\n",
    "        iplot(fig)\n"
   ]
  },
  {
   "cell_type": "code",
   "execution_count": 15,
   "metadata": {
    "scrolled": true
   },
   "outputs": [
    {
     "data": {
      "text/html": [
       "<div>\n",
       "<style scoped>\n",
       "    .dataframe tbody tr th:only-of-type {\n",
       "        vertical-align: middle;\n",
       "    }\n",
       "\n",
       "    .dataframe tbody tr th {\n",
       "        vertical-align: top;\n",
       "    }\n",
       "\n",
       "    .dataframe thead th {\n",
       "        text-align: right;\n",
       "    }\n",
       "</style>\n",
       "<table border=\"1\" class=\"dataframe\">\n",
       "  <thead>\n",
       "    <tr style=\"text-align: right;\">\n",
       "      <th></th>\n",
       "      <th>TUG Table</th>\n",
       "    </tr>\n",
       "  </thead>\n",
       "  <tbody>\n",
       "    <tr>\n",
       "      <th>&lt; 10 s</th>\n",
       "      <td>Normal mobility</td>\n",
       "    </tr>\n",
       "    <tr>\n",
       "      <th>&lt; 20 s</th>\n",
       "      <td>Good mobility</td>\n",
       "    </tr>\n",
       "    <tr>\n",
       "      <th>&lt; 30 s</th>\n",
       "      <td>Gait aids</td>\n",
       "    </tr>\n",
       "    <tr>\n",
       "      <th>&gt;= 30 s</th>\n",
       "      <td>Falling risk</td>\n",
       "    </tr>\n",
       "  </tbody>\n",
       "</table>\n",
       "</div>"
      ],
      "text/plain": [
       "               TUG Table\n",
       "< 10 s   Normal mobility\n",
       "< 20 s     Good mobility\n",
       "< 30 s         Gait aids\n",
       ">= 30 s     Falling risk"
      ]
     },
     "metadata": {},
     "output_type": "display_data"
    },
    {
     "name": "stdout",
     "output_type": "stream",
     "text": [
      "The test has been done in 0.0 s\n",
      "The evaluation is \u001b[1;30;42m Normal mobility\n"
     ]
    }
   ],
   "source": [
    "if exname == 'tug':\n",
    "\n",
    "    table_tug = pd.DataFrame([['Normal mobility'],['Good mobility'],['Gait aids'],['Falling risk']],\n",
    "             index=['< 10 s','< 20 s','< 30 s','>= 30 s'],\n",
    "             columns=['TUG Table'])\n",
    "    display(table_tug)\n",
    "\n",
    "    time_score = lastsess_res_step[0][4]\n",
    "    print(\"The test has been done in\",round(time_score,2),\"s\")\n",
    "    if time_score < 10:\n",
    "        evaluation = 'Normal mobility'\n",
    "        print(\"The evaluation is \u001b[1;30;42m\",evaluation)\n",
    "    elif time_score < 20:\n",
    "        evaluation = 'Good mobility, no need for gait aids'\n",
    "        print(\"The evaluation is \u001b[1;30;42m\",evaluation)\n",
    "    elif time_score < 30:\n",
    "        evaluation = 'Need for gait aids'\n",
    "        print(\"The evaluation is \u001b[1;30;43m\",evaluation)\n",
    "    elif time_score >= 30:\n",
    "        evaluation = 'Falling risk'\n",
    "        print(\"The evaluation is \u001b[1;30;41m\",evaluation)\n"
   ]
  },
  {
   "cell_type": "markdown",
   "metadata": {},
   "source": [
    " \n",
    "# Patient progress"
   ]
  },
  {
   "cell_type": "markdown",
   "metadata": {},
   "source": [
    " \n",
    "The exercises performed by the patient during the months under analysis are grouped as following:"
   ]
  },
  {
   "cell_type": "code",
   "execution_count": 16,
   "metadata": {
    "scrolled": true
   },
   "outputs": [
    {
     "data": {
      "application/vnd.plotly.v1+json": {
       "config": {
        "linkText": "Export to plot.ly",
        "plotlyServerURL": "https://plot.ly",
        "showLink": false
       },
       "data": [
        {
         "hole": 0.3,
         "hoverinfo": "label+percent+value",
         "labels": [
          "reaching_left",
          "abduction_left",
          "internal-rotation_left",
          "external-rotation_left",
          "timed-up-and-go"
         ],
         "marker": {
          "colors": [
           "#FEBFB3",
           "#E1396C",
           "#96D38C",
           "#D0F9B1"
          ],
          "line": {
           "color": "#000000",
           "width": 2
          }
         },
         "textfont": {
          "size": 20
         },
         "type": "pie",
         "values": [
          0,
          0,
          0,
          0,
          1
         ]
        }
       ],
       "layout": {
        "template": {
         "data": {
          "bar": [
           {
            "error_x": {
             "color": "#2a3f5f"
            },
            "error_y": {
             "color": "#2a3f5f"
            },
            "marker": {
             "line": {
              "color": "#E5ECF6",
              "width": 0.5
             },
             "pattern": {
              "fillmode": "overlay",
              "size": 10,
              "solidity": 0.2
             }
            },
            "type": "bar"
           }
          ],
          "barpolar": [
           {
            "marker": {
             "line": {
              "color": "#E5ECF6",
              "width": 0.5
             },
             "pattern": {
              "fillmode": "overlay",
              "size": 10,
              "solidity": 0.2
             }
            },
            "type": "barpolar"
           }
          ],
          "carpet": [
           {
            "aaxis": {
             "endlinecolor": "#2a3f5f",
             "gridcolor": "white",
             "linecolor": "white",
             "minorgridcolor": "white",
             "startlinecolor": "#2a3f5f"
            },
            "baxis": {
             "endlinecolor": "#2a3f5f",
             "gridcolor": "white",
             "linecolor": "white",
             "minorgridcolor": "white",
             "startlinecolor": "#2a3f5f"
            },
            "type": "carpet"
           }
          ],
          "choropleth": [
           {
            "colorbar": {
             "outlinewidth": 0,
             "ticks": ""
            },
            "type": "choropleth"
           }
          ],
          "contour": [
           {
            "colorbar": {
             "outlinewidth": 0,
             "ticks": ""
            },
            "colorscale": [
             [
              0,
              "#0d0887"
             ],
             [
              0.1111111111111111,
              "#46039f"
             ],
             [
              0.2222222222222222,
              "#7201a8"
             ],
             [
              0.3333333333333333,
              "#9c179e"
             ],
             [
              0.4444444444444444,
              "#bd3786"
             ],
             [
              0.5555555555555556,
              "#d8576b"
             ],
             [
              0.6666666666666666,
              "#ed7953"
             ],
             [
              0.7777777777777778,
              "#fb9f3a"
             ],
             [
              0.8888888888888888,
              "#fdca26"
             ],
             [
              1,
              "#f0f921"
             ]
            ],
            "type": "contour"
           }
          ],
          "contourcarpet": [
           {
            "colorbar": {
             "outlinewidth": 0,
             "ticks": ""
            },
            "type": "contourcarpet"
           }
          ],
          "heatmap": [
           {
            "colorbar": {
             "outlinewidth": 0,
             "ticks": ""
            },
            "colorscale": [
             [
              0,
              "#0d0887"
             ],
             [
              0.1111111111111111,
              "#46039f"
             ],
             [
              0.2222222222222222,
              "#7201a8"
             ],
             [
              0.3333333333333333,
              "#9c179e"
             ],
             [
              0.4444444444444444,
              "#bd3786"
             ],
             [
              0.5555555555555556,
              "#d8576b"
             ],
             [
              0.6666666666666666,
              "#ed7953"
             ],
             [
              0.7777777777777778,
              "#fb9f3a"
             ],
             [
              0.8888888888888888,
              "#fdca26"
             ],
             [
              1,
              "#f0f921"
             ]
            ],
            "type": "heatmap"
           }
          ],
          "heatmapgl": [
           {
            "colorbar": {
             "outlinewidth": 0,
             "ticks": ""
            },
            "colorscale": [
             [
              0,
              "#0d0887"
             ],
             [
              0.1111111111111111,
              "#46039f"
             ],
             [
              0.2222222222222222,
              "#7201a8"
             ],
             [
              0.3333333333333333,
              "#9c179e"
             ],
             [
              0.4444444444444444,
              "#bd3786"
             ],
             [
              0.5555555555555556,
              "#d8576b"
             ],
             [
              0.6666666666666666,
              "#ed7953"
             ],
             [
              0.7777777777777778,
              "#fb9f3a"
             ],
             [
              0.8888888888888888,
              "#fdca26"
             ],
             [
              1,
              "#f0f921"
             ]
            ],
            "type": "heatmapgl"
           }
          ],
          "histogram": [
           {
            "marker": {
             "pattern": {
              "fillmode": "overlay",
              "size": 10,
              "solidity": 0.2
             }
            },
            "type": "histogram"
           }
          ],
          "histogram2d": [
           {
            "colorbar": {
             "outlinewidth": 0,
             "ticks": ""
            },
            "colorscale": [
             [
              0,
              "#0d0887"
             ],
             [
              0.1111111111111111,
              "#46039f"
             ],
             [
              0.2222222222222222,
              "#7201a8"
             ],
             [
              0.3333333333333333,
              "#9c179e"
             ],
             [
              0.4444444444444444,
              "#bd3786"
             ],
             [
              0.5555555555555556,
              "#d8576b"
             ],
             [
              0.6666666666666666,
              "#ed7953"
             ],
             [
              0.7777777777777778,
              "#fb9f3a"
             ],
             [
              0.8888888888888888,
              "#fdca26"
             ],
             [
              1,
              "#f0f921"
             ]
            ],
            "type": "histogram2d"
           }
          ],
          "histogram2dcontour": [
           {
            "colorbar": {
             "outlinewidth": 0,
             "ticks": ""
            },
            "colorscale": [
             [
              0,
              "#0d0887"
             ],
             [
              0.1111111111111111,
              "#46039f"
             ],
             [
              0.2222222222222222,
              "#7201a8"
             ],
             [
              0.3333333333333333,
              "#9c179e"
             ],
             [
              0.4444444444444444,
              "#bd3786"
             ],
             [
              0.5555555555555556,
              "#d8576b"
             ],
             [
              0.6666666666666666,
              "#ed7953"
             ],
             [
              0.7777777777777778,
              "#fb9f3a"
             ],
             [
              0.8888888888888888,
              "#fdca26"
             ],
             [
              1,
              "#f0f921"
             ]
            ],
            "type": "histogram2dcontour"
           }
          ],
          "mesh3d": [
           {
            "colorbar": {
             "outlinewidth": 0,
             "ticks": ""
            },
            "type": "mesh3d"
           }
          ],
          "parcoords": [
           {
            "line": {
             "colorbar": {
              "outlinewidth": 0,
              "ticks": ""
             }
            },
            "type": "parcoords"
           }
          ],
          "pie": [
           {
            "automargin": true,
            "type": "pie"
           }
          ],
          "scatter": [
           {
            "fillpattern": {
             "fillmode": "overlay",
             "size": 10,
             "solidity": 0.2
            },
            "type": "scatter"
           }
          ],
          "scatter3d": [
           {
            "line": {
             "colorbar": {
              "outlinewidth": 0,
              "ticks": ""
             }
            },
            "marker": {
             "colorbar": {
              "outlinewidth": 0,
              "ticks": ""
             }
            },
            "type": "scatter3d"
           }
          ],
          "scattercarpet": [
           {
            "marker": {
             "colorbar": {
              "outlinewidth": 0,
              "ticks": ""
             }
            },
            "type": "scattercarpet"
           }
          ],
          "scattergeo": [
           {
            "marker": {
             "colorbar": {
              "outlinewidth": 0,
              "ticks": ""
             }
            },
            "type": "scattergeo"
           }
          ],
          "scattergl": [
           {
            "marker": {
             "colorbar": {
              "outlinewidth": 0,
              "ticks": ""
             }
            },
            "type": "scattergl"
           }
          ],
          "scattermapbox": [
           {
            "marker": {
             "colorbar": {
              "outlinewidth": 0,
              "ticks": ""
             }
            },
            "type": "scattermapbox"
           }
          ],
          "scatterpolar": [
           {
            "marker": {
             "colorbar": {
              "outlinewidth": 0,
              "ticks": ""
             }
            },
            "type": "scatterpolar"
           }
          ],
          "scatterpolargl": [
           {
            "marker": {
             "colorbar": {
              "outlinewidth": 0,
              "ticks": ""
             }
            },
            "type": "scatterpolargl"
           }
          ],
          "scatterternary": [
           {
            "marker": {
             "colorbar": {
              "outlinewidth": 0,
              "ticks": ""
             }
            },
            "type": "scatterternary"
           }
          ],
          "surface": [
           {
            "colorbar": {
             "outlinewidth": 0,
             "ticks": ""
            },
            "colorscale": [
             [
              0,
              "#0d0887"
             ],
             [
              0.1111111111111111,
              "#46039f"
             ],
             [
              0.2222222222222222,
              "#7201a8"
             ],
             [
              0.3333333333333333,
              "#9c179e"
             ],
             [
              0.4444444444444444,
              "#bd3786"
             ],
             [
              0.5555555555555556,
              "#d8576b"
             ],
             [
              0.6666666666666666,
              "#ed7953"
             ],
             [
              0.7777777777777778,
              "#fb9f3a"
             ],
             [
              0.8888888888888888,
              "#fdca26"
             ],
             [
              1,
              "#f0f921"
             ]
            ],
            "type": "surface"
           }
          ],
          "table": [
           {
            "cells": {
             "fill": {
              "color": "#EBF0F8"
             },
             "line": {
              "color": "white"
             }
            },
            "header": {
             "fill": {
              "color": "#C8D4E3"
             },
             "line": {
              "color": "white"
             }
            },
            "type": "table"
           }
          ]
         },
         "layout": {
          "annotationdefaults": {
           "arrowcolor": "#2a3f5f",
           "arrowhead": 0,
           "arrowwidth": 1
          },
          "autotypenumbers": "strict",
          "coloraxis": {
           "colorbar": {
            "outlinewidth": 0,
            "ticks": ""
           }
          },
          "colorscale": {
           "diverging": [
            [
             0,
             "#8e0152"
            ],
            [
             0.1,
             "#c51b7d"
            ],
            [
             0.2,
             "#de77ae"
            ],
            [
             0.3,
             "#f1b6da"
            ],
            [
             0.4,
             "#fde0ef"
            ],
            [
             0.5,
             "#f7f7f7"
            ],
            [
             0.6,
             "#e6f5d0"
            ],
            [
             0.7,
             "#b8e186"
            ],
            [
             0.8,
             "#7fbc41"
            ],
            [
             0.9,
             "#4d9221"
            ],
            [
             1,
             "#276419"
            ]
           ],
           "sequential": [
            [
             0,
             "#0d0887"
            ],
            [
             0.1111111111111111,
             "#46039f"
            ],
            [
             0.2222222222222222,
             "#7201a8"
            ],
            [
             0.3333333333333333,
             "#9c179e"
            ],
            [
             0.4444444444444444,
             "#bd3786"
            ],
            [
             0.5555555555555556,
             "#d8576b"
            ],
            [
             0.6666666666666666,
             "#ed7953"
            ],
            [
             0.7777777777777778,
             "#fb9f3a"
            ],
            [
             0.8888888888888888,
             "#fdca26"
            ],
            [
             1,
             "#f0f921"
            ]
           ],
           "sequentialminus": [
            [
             0,
             "#0d0887"
            ],
            [
             0.1111111111111111,
             "#46039f"
            ],
            [
             0.2222222222222222,
             "#7201a8"
            ],
            [
             0.3333333333333333,
             "#9c179e"
            ],
            [
             0.4444444444444444,
             "#bd3786"
            ],
            [
             0.5555555555555556,
             "#d8576b"
            ],
            [
             0.6666666666666666,
             "#ed7953"
            ],
            [
             0.7777777777777778,
             "#fb9f3a"
            ],
            [
             0.8888888888888888,
             "#fdca26"
            ],
            [
             1,
             "#f0f921"
            ]
           ]
          },
          "colorway": [
           "#636efa",
           "#EF553B",
           "#00cc96",
           "#ab63fa",
           "#FFA15A",
           "#19d3f3",
           "#FF6692",
           "#B6E880",
           "#FF97FF",
           "#FECB52"
          ],
          "font": {
           "color": "#2a3f5f"
          },
          "geo": {
           "bgcolor": "white",
           "lakecolor": "white",
           "landcolor": "#E5ECF6",
           "showlakes": true,
           "showland": true,
           "subunitcolor": "white"
          },
          "hoverlabel": {
           "align": "left"
          },
          "hovermode": "closest",
          "mapbox": {
           "style": "light"
          },
          "paper_bgcolor": "white",
          "plot_bgcolor": "#E5ECF6",
          "polar": {
           "angularaxis": {
            "gridcolor": "white",
            "linecolor": "white",
            "ticks": ""
           },
           "bgcolor": "#E5ECF6",
           "radialaxis": {
            "gridcolor": "white",
            "linecolor": "white",
            "ticks": ""
           }
          },
          "scene": {
           "xaxis": {
            "backgroundcolor": "#E5ECF6",
            "gridcolor": "white",
            "gridwidth": 2,
            "linecolor": "white",
            "showbackground": true,
            "ticks": "",
            "zerolinecolor": "white"
           },
           "yaxis": {
            "backgroundcolor": "#E5ECF6",
            "gridcolor": "white",
            "gridwidth": 2,
            "linecolor": "white",
            "showbackground": true,
            "ticks": "",
            "zerolinecolor": "white"
           },
           "zaxis": {
            "backgroundcolor": "#E5ECF6",
            "gridcolor": "white",
            "gridwidth": 2,
            "linecolor": "white",
            "showbackground": true,
            "ticks": "",
            "zerolinecolor": "white"
           }
          },
          "shapedefaults": {
           "line": {
            "color": "#2a3f5f"
           }
          },
          "ternary": {
           "aaxis": {
            "gridcolor": "white",
            "linecolor": "white",
            "ticks": ""
           },
           "baxis": {
            "gridcolor": "white",
            "linecolor": "white",
            "ticks": ""
           },
           "bgcolor": "#E5ECF6",
           "caxis": {
            "gridcolor": "white",
            "linecolor": "white",
            "ticks": ""
           }
          },
          "title": {
           "x": 0.05
          },
          "xaxis": {
           "automargin": true,
           "gridcolor": "white",
           "linecolor": "white",
           "ticks": "",
           "title": {
            "standoff": 15
           },
           "zerolinecolor": "white",
           "zerolinewidth": 2
          },
          "yaxis": {
           "automargin": true,
           "gridcolor": "white",
           "linecolor": "white",
           "ticks": "",
           "title": {
            "standoff": 15
           },
           "zerolinecolor": "white",
           "zerolinewidth": 2
          }
         }
        },
        "title": {
         "text": "Performed exercises"
        }
       }
      },
      "text/html": [
       "<div>                            <div id=\"06c5b02a-86ce-4c30-afa3-9022fdfbdfad\" class=\"plotly-graph-div\" style=\"height:525px; width:100%;\"></div>            <script type=\"text/javascript\">                require([\"plotly\"], function(Plotly) {                    window.PLOTLYENV=window.PLOTLYENV || {};                                    if (document.getElementById(\"06c5b02a-86ce-4c30-afa3-9022fdfbdfad\")) {                    Plotly.newPlot(                        \"06c5b02a-86ce-4c30-afa3-9022fdfbdfad\",                        [{\"hole\":0.3,\"hoverinfo\":\"label+percent+value\",\"labels\":[\"reaching_left\",\"abduction_left\",\"internal-rotation_left\",\"external-rotation_left\",\"timed-up-and-go\"],\"marker\":{\"colors\":[\"#FEBFB3\",\"#E1396C\",\"#96D38C\",\"#D0F9B1\"],\"line\":{\"color\":\"#000000\",\"width\":2}},\"textfont\":{\"size\":20},\"values\":[0,0,0,0,1],\"type\":\"pie\"}],                        {\"template\":{\"data\":{\"barpolar\":[{\"marker\":{\"line\":{\"color\":\"#E5ECF6\",\"width\":0.5},\"pattern\":{\"fillmode\":\"overlay\",\"size\":10,\"solidity\":0.2}},\"type\":\"barpolar\"}],\"bar\":[{\"error_x\":{\"color\":\"#2a3f5f\"},\"error_y\":{\"color\":\"#2a3f5f\"},\"marker\":{\"line\":{\"color\":\"#E5ECF6\",\"width\":0.5},\"pattern\":{\"fillmode\":\"overlay\",\"size\":10,\"solidity\":0.2}},\"type\":\"bar\"}],\"carpet\":[{\"aaxis\":{\"endlinecolor\":\"#2a3f5f\",\"gridcolor\":\"white\",\"linecolor\":\"white\",\"minorgridcolor\":\"white\",\"startlinecolor\":\"#2a3f5f\"},\"baxis\":{\"endlinecolor\":\"#2a3f5f\",\"gridcolor\":\"white\",\"linecolor\":\"white\",\"minorgridcolor\":\"white\",\"startlinecolor\":\"#2a3f5f\"},\"type\":\"carpet\"}],\"choropleth\":[{\"colorbar\":{\"outlinewidth\":0,\"ticks\":\"\"},\"type\":\"choropleth\"}],\"contourcarpet\":[{\"colorbar\":{\"outlinewidth\":0,\"ticks\":\"\"},\"type\":\"contourcarpet\"}],\"contour\":[{\"colorbar\":{\"outlinewidth\":0,\"ticks\":\"\"},\"colorscale\":[[0.0,\"#0d0887\"],[0.1111111111111111,\"#46039f\"],[0.2222222222222222,\"#7201a8\"],[0.3333333333333333,\"#9c179e\"],[0.4444444444444444,\"#bd3786\"],[0.5555555555555556,\"#d8576b\"],[0.6666666666666666,\"#ed7953\"],[0.7777777777777778,\"#fb9f3a\"],[0.8888888888888888,\"#fdca26\"],[1.0,\"#f0f921\"]],\"type\":\"contour\"}],\"heatmapgl\":[{\"colorbar\":{\"outlinewidth\":0,\"ticks\":\"\"},\"colorscale\":[[0.0,\"#0d0887\"],[0.1111111111111111,\"#46039f\"],[0.2222222222222222,\"#7201a8\"],[0.3333333333333333,\"#9c179e\"],[0.4444444444444444,\"#bd3786\"],[0.5555555555555556,\"#d8576b\"],[0.6666666666666666,\"#ed7953\"],[0.7777777777777778,\"#fb9f3a\"],[0.8888888888888888,\"#fdca26\"],[1.0,\"#f0f921\"]],\"type\":\"heatmapgl\"}],\"heatmap\":[{\"colorbar\":{\"outlinewidth\":0,\"ticks\":\"\"},\"colorscale\":[[0.0,\"#0d0887\"],[0.1111111111111111,\"#46039f\"],[0.2222222222222222,\"#7201a8\"],[0.3333333333333333,\"#9c179e\"],[0.4444444444444444,\"#bd3786\"],[0.5555555555555556,\"#d8576b\"],[0.6666666666666666,\"#ed7953\"],[0.7777777777777778,\"#fb9f3a\"],[0.8888888888888888,\"#fdca26\"],[1.0,\"#f0f921\"]],\"type\":\"heatmap\"}],\"histogram2dcontour\":[{\"colorbar\":{\"outlinewidth\":0,\"ticks\":\"\"},\"colorscale\":[[0.0,\"#0d0887\"],[0.1111111111111111,\"#46039f\"],[0.2222222222222222,\"#7201a8\"],[0.3333333333333333,\"#9c179e\"],[0.4444444444444444,\"#bd3786\"],[0.5555555555555556,\"#d8576b\"],[0.6666666666666666,\"#ed7953\"],[0.7777777777777778,\"#fb9f3a\"],[0.8888888888888888,\"#fdca26\"],[1.0,\"#f0f921\"]],\"type\":\"histogram2dcontour\"}],\"histogram2d\":[{\"colorbar\":{\"outlinewidth\":0,\"ticks\":\"\"},\"colorscale\":[[0.0,\"#0d0887\"],[0.1111111111111111,\"#46039f\"],[0.2222222222222222,\"#7201a8\"],[0.3333333333333333,\"#9c179e\"],[0.4444444444444444,\"#bd3786\"],[0.5555555555555556,\"#d8576b\"],[0.6666666666666666,\"#ed7953\"],[0.7777777777777778,\"#fb9f3a\"],[0.8888888888888888,\"#fdca26\"],[1.0,\"#f0f921\"]],\"type\":\"histogram2d\"}],\"histogram\":[{\"marker\":{\"pattern\":{\"fillmode\":\"overlay\",\"size\":10,\"solidity\":0.2}},\"type\":\"histogram\"}],\"mesh3d\":[{\"colorbar\":{\"outlinewidth\":0,\"ticks\":\"\"},\"type\":\"mesh3d\"}],\"parcoords\":[{\"line\":{\"colorbar\":{\"outlinewidth\":0,\"ticks\":\"\"}},\"type\":\"parcoords\"}],\"pie\":[{\"automargin\":true,\"type\":\"pie\"}],\"scatter3d\":[{\"line\":{\"colorbar\":{\"outlinewidth\":0,\"ticks\":\"\"}},\"marker\":{\"colorbar\":{\"outlinewidth\":0,\"ticks\":\"\"}},\"type\":\"scatter3d\"}],\"scattercarpet\":[{\"marker\":{\"colorbar\":{\"outlinewidth\":0,\"ticks\":\"\"}},\"type\":\"scattercarpet\"}],\"scattergeo\":[{\"marker\":{\"colorbar\":{\"outlinewidth\":0,\"ticks\":\"\"}},\"type\":\"scattergeo\"}],\"scattergl\":[{\"marker\":{\"colorbar\":{\"outlinewidth\":0,\"ticks\":\"\"}},\"type\":\"scattergl\"}],\"scattermapbox\":[{\"marker\":{\"colorbar\":{\"outlinewidth\":0,\"ticks\":\"\"}},\"type\":\"scattermapbox\"}],\"scatterpolargl\":[{\"marker\":{\"colorbar\":{\"outlinewidth\":0,\"ticks\":\"\"}},\"type\":\"scatterpolargl\"}],\"scatterpolar\":[{\"marker\":{\"colorbar\":{\"outlinewidth\":0,\"ticks\":\"\"}},\"type\":\"scatterpolar\"}],\"scatter\":[{\"fillpattern\":{\"fillmode\":\"overlay\",\"size\":10,\"solidity\":0.2},\"type\":\"scatter\"}],\"scatterternary\":[{\"marker\":{\"colorbar\":{\"outlinewidth\":0,\"ticks\":\"\"}},\"type\":\"scatterternary\"}],\"surface\":[{\"colorbar\":{\"outlinewidth\":0,\"ticks\":\"\"},\"colorscale\":[[0.0,\"#0d0887\"],[0.1111111111111111,\"#46039f\"],[0.2222222222222222,\"#7201a8\"],[0.3333333333333333,\"#9c179e\"],[0.4444444444444444,\"#bd3786\"],[0.5555555555555556,\"#d8576b\"],[0.6666666666666666,\"#ed7953\"],[0.7777777777777778,\"#fb9f3a\"],[0.8888888888888888,\"#fdca26\"],[1.0,\"#f0f921\"]],\"type\":\"surface\"}],\"table\":[{\"cells\":{\"fill\":{\"color\":\"#EBF0F8\"},\"line\":{\"color\":\"white\"}},\"header\":{\"fill\":{\"color\":\"#C8D4E3\"},\"line\":{\"color\":\"white\"}},\"type\":\"table\"}]},\"layout\":{\"annotationdefaults\":{\"arrowcolor\":\"#2a3f5f\",\"arrowhead\":0,\"arrowwidth\":1},\"autotypenumbers\":\"strict\",\"coloraxis\":{\"colorbar\":{\"outlinewidth\":0,\"ticks\":\"\"}},\"colorscale\":{\"diverging\":[[0,\"#8e0152\"],[0.1,\"#c51b7d\"],[0.2,\"#de77ae\"],[0.3,\"#f1b6da\"],[0.4,\"#fde0ef\"],[0.5,\"#f7f7f7\"],[0.6,\"#e6f5d0\"],[0.7,\"#b8e186\"],[0.8,\"#7fbc41\"],[0.9,\"#4d9221\"],[1,\"#276419\"]],\"sequential\":[[0.0,\"#0d0887\"],[0.1111111111111111,\"#46039f\"],[0.2222222222222222,\"#7201a8\"],[0.3333333333333333,\"#9c179e\"],[0.4444444444444444,\"#bd3786\"],[0.5555555555555556,\"#d8576b\"],[0.6666666666666666,\"#ed7953\"],[0.7777777777777778,\"#fb9f3a\"],[0.8888888888888888,\"#fdca26\"],[1.0,\"#f0f921\"]],\"sequentialminus\":[[0.0,\"#0d0887\"],[0.1111111111111111,\"#46039f\"],[0.2222222222222222,\"#7201a8\"],[0.3333333333333333,\"#9c179e\"],[0.4444444444444444,\"#bd3786\"],[0.5555555555555556,\"#d8576b\"],[0.6666666666666666,\"#ed7953\"],[0.7777777777777778,\"#fb9f3a\"],[0.8888888888888888,\"#fdca26\"],[1.0,\"#f0f921\"]]},\"colorway\":[\"#636efa\",\"#EF553B\",\"#00cc96\",\"#ab63fa\",\"#FFA15A\",\"#19d3f3\",\"#FF6692\",\"#B6E880\",\"#FF97FF\",\"#FECB52\"],\"font\":{\"color\":\"#2a3f5f\"},\"geo\":{\"bgcolor\":\"white\",\"lakecolor\":\"white\",\"landcolor\":\"#E5ECF6\",\"showlakes\":true,\"showland\":true,\"subunitcolor\":\"white\"},\"hoverlabel\":{\"align\":\"left\"},\"hovermode\":\"closest\",\"mapbox\":{\"style\":\"light\"},\"paper_bgcolor\":\"white\",\"plot_bgcolor\":\"#E5ECF6\",\"polar\":{\"angularaxis\":{\"gridcolor\":\"white\",\"linecolor\":\"white\",\"ticks\":\"\"},\"bgcolor\":\"#E5ECF6\",\"radialaxis\":{\"gridcolor\":\"white\",\"linecolor\":\"white\",\"ticks\":\"\"}},\"scene\":{\"xaxis\":{\"backgroundcolor\":\"#E5ECF6\",\"gridcolor\":\"white\",\"gridwidth\":2,\"linecolor\":\"white\",\"showbackground\":true,\"ticks\":\"\",\"zerolinecolor\":\"white\"},\"yaxis\":{\"backgroundcolor\":\"#E5ECF6\",\"gridcolor\":\"white\",\"gridwidth\":2,\"linecolor\":\"white\",\"showbackground\":true,\"ticks\":\"\",\"zerolinecolor\":\"white\"},\"zaxis\":{\"backgroundcolor\":\"#E5ECF6\",\"gridcolor\":\"white\",\"gridwidth\":2,\"linecolor\":\"white\",\"showbackground\":true,\"ticks\":\"\",\"zerolinecolor\":\"white\"}},\"shapedefaults\":{\"line\":{\"color\":\"#2a3f5f\"}},\"ternary\":{\"aaxis\":{\"gridcolor\":\"white\",\"linecolor\":\"white\",\"ticks\":\"\"},\"baxis\":{\"gridcolor\":\"white\",\"linecolor\":\"white\",\"ticks\":\"\"},\"bgcolor\":\"#E5ECF6\",\"caxis\":{\"gridcolor\":\"white\",\"linecolor\":\"white\",\"ticks\":\"\"}},\"title\":{\"x\":0.05},\"xaxis\":{\"automargin\":true,\"gridcolor\":\"white\",\"linecolor\":\"white\",\"ticks\":\"\",\"title\":{\"standoff\":15},\"zerolinecolor\":\"white\",\"zerolinewidth\":2},\"yaxis\":{\"automargin\":true,\"gridcolor\":\"white\",\"linecolor\":\"white\",\"ticks\":\"\",\"title\":{\"standoff\":15},\"zerolinecolor\":\"white\",\"zerolinewidth\":2}}},\"title\":{\"text\":\"Performed exercises\"}},                        {\"responsive\": true}                    ).then(function(){\n",
       "                            \n",
       "var gd = document.getElementById('06c5b02a-86ce-4c30-afa3-9022fdfbdfad');\n",
       "var x = new MutationObserver(function (mutations, observer) {{\n",
       "        var display = window.getComputedStyle(gd).display;\n",
       "        if (!display || display === 'none') {{\n",
       "            console.log([gd, 'removed!']);\n",
       "            Plotly.purge(gd);\n",
       "            observer.disconnect();\n",
       "        }}\n",
       "}});\n",
       "\n",
       "// Listen for the removal of the full notebook cells\n",
       "var notebookContainer = gd.closest('#notebook-container');\n",
       "if (notebookContainer) {{\n",
       "    x.observe(notebookContainer, {childList: true});\n",
       "}}\n",
       "\n",
       "// Listen for the clearing of the current output cell\n",
       "var outputEl = gd.closest('.output');\n",
       "if (outputEl) {{\n",
       "    x.observe(outputEl, {childList: true});\n",
       "}}\n",
       "\n",
       "                        })                };                });            </script>        </div>"
      ]
     },
     "metadata": {},
     "output_type": "display_data"
    }
   ],
   "source": [
    "labels = [\"reaching_left\",\"abduction_left\",\"internal-rotation_left\",\"external-rotation_left\",\"timed-up-and-go\"]\n",
    "values = [tagex.count(\"reaching_left\"), tagex.count(\"abduction_left\"), tagex.count(\"internal_rotation_left\"), \n",
    "          tagex.count(\"external_rotation_left\"), tagex.count(\"tug\")]\n",
    "colors = ['#FEBFB3', '#E1396C', '#96D38C', '#D0F9B1']\n",
    "\n",
    "trace = go.Pie(labels=labels, values=values,\n",
    "               #hoverinfo='label+percent', textinfo='value', \n",
    "               textfont=dict(size=20),\n",
    "               marker=dict(colors=colors, \n",
    "                           line=dict(color='#000000', width=2)),\n",
    "               hoverinfo=\"label+percent+value\",\n",
    "               hole=0.3\n",
    "              )\n",
    "layout = go.Layout(\n",
    "        title=\"Performed exercises\",\n",
    ")\n",
    "data = [trace]\n",
    "fig = go.Figure(data=data,layout=layout)\n",
    "iplot(fig)   "
   ]
  },
  {
   "cell_type": "markdown",
   "metadata": {},
   "source": [
    " \n",
    "The trends of the patient metrics, grouped by month, are shown here: "
   ]
  },
  {
   "cell_type": "code",
   "execution_count": 17,
   "metadata": {
    "scrolled": true
   },
   "outputs": [],
   "source": [
    "keyp2rommax = {\n",
    "    \"shoulderCenter\" : [0,0,0,0,0,0,0,0,0,0,0,0],\n",
    "    \"head\" : [0,0,0,0,0,0,0,0,0,0,0,0],\n",
    "    \"shoulderLeft\" : [0,0,0,0,0,0,0,0,0,0,0,0],\n",
    "    \"elbowLeft\" : [0,0,0,0,0,0,0,0,0,0,0,0],\n",
    "    \"handLeft\" : [0,0,0,0,0,0,0,0,0,0,0,0],\n",
    "    \"shoulderRight\" : [0,0,0,0,0,0,0,0,0,0,0,0],\n",
    "    \"elbowRight\" : [0,0,0,0,0,0,0,0,0,0,0,0],\n",
    "    \"handRight\" : [0,0,0,0,0,0,0,0,0,0,0,0],\n",
    "    \"hipCenter\" : [0,0,0,0,0,0,0,0,0,0,0,0],\n",
    "    \"hipLeft\" : [0,0,0,0,0,0,0,0,0,0,0,0],\n",
    "    \"kneeLeft\" : [0,0,0,0,0,0,0,0,0,0,0,0],\n",
    "    \"ankleLeft\" : [0,0,0,0,0,0,0,0,0,0,0,0],\n",
    "    \"footLeft\" : [0,0,0,0,0,0,0,0,0,0,0,0],\n",
    "    \"hipRight\" : [0,0,0,0,0,0,0,0,0,0,0,0],\n",
    "    \"kneeRight\" : [0,0,0,0,0,0,0,0,0,0,0,0],\n",
    "    \"ankleRight\" : [0,0,0,0,0,0,0,0,0,0,0,0],\n",
    "    \"footRight\" : [0,0,0,0,0,0,0,0,0,0,0,0]\n",
    "}\n",
    "keyp2rommin = {\n",
    "    \"shoulderCenter\" : [0,0,0,0,0,0,0,0,0,0,0,0],\n",
    "    \"head\" : [0,0,0,0,0,0,0,0,0,0,0,0],\n",
    "    \"shoulderLeft\" : [0,0,0,0,0,0,0,0,0,0,0,0],\n",
    "    \"elbowLeft\" : [0,0,0,0,0,0,0,0,0,0,0,0],\n",
    "    \"handLeft\" : [0,0,0,0,0,0,0,0,0,0,0,0],\n",
    "    \"shoulderRight\" : [0,0,0,0,0,0,0,0,0,0,0,0],\n",
    "    \"elbowRight\" : [0,0,0,0,0,0,0,0,0,0,0,0],\n",
    "    \"handRight\" : [0,0,0,0,0,0,0,0,0,0,0,0],\n",
    "    \"hipCenter\" : [0,0,0,0,0,0,0,0,0,0,0,0],\n",
    "    \"hipLeft\" : [0,0,0,0,0,0,0,0,0,0,0,0],\n",
    "    \"kneeLeft\" : [0,0,0,0,0,0,0,0,0,0,0,0],\n",
    "    \"ankleLeft\" : [0,0,0,0,0,0,0,0,0,0,0,0],\n",
    "    \"footLeft\" : [0,0,0,0,0,0,0,0,0,0,0,0],\n",
    "    \"hipRight\" : [0,0,0,0,0,0,0,0,0,0,0,0],\n",
    "    \"kneeRight\" : [0,0,0,0,0,0,0,0,0,0,0,0],\n",
    "    \"ankleRight\" : [0,0,0,0,0,0,0,0,0,0,0,0],\n",
    "    \"footRight\" : [0,0,0,0,0,0,0,0,0,0,0,0]\n",
    "}\n",
    "countrommonth = {\n",
    "    \"shoulderCenter\" : [0,0,0,0,0,0,0,0,0,0,0,0],\n",
    "    \"head\" : [0,0,0,0,0,0,0,0,0,0,0,0],\n",
    "    \"shoulderLeft\" : [0,0,0,0,0,0,0,0,0,0,0,0],\n",
    "    \"elbowLeft\" : [0,0,0,0,0,0,0,0,0,0,0,0],\n",
    "    \"handLeft\" : [0,0,0,0,0,0,0,0,0,0,0,0],\n",
    "    \"shoulderRight\" : [0,0,0,0,0,0,0,0,0,0,0,0],\n",
    "    \"elbowRight\" : [0,0,0,0,0,0,0,0,0,0,0,0],\n",
    "    \"handRight\" : [0,0,0,0,0,0,0,0,0,0,0,0],\n",
    "    \"hipCenter\" : [0,0,0,0,0,0,0,0,0,0,0,0],\n",
    "    \"hipLeft\" : [0,0,0,0,0,0,0,0,0,0,0,0],\n",
    "    \"kneeLeft\" : [0,0,0,0,0,0,0,0,0,0,0,0],\n",
    "    \"ankleLeft\" : [0,0,0,0,0,0,0,0,0,0,0,0],\n",
    "    \"footLeft\" : [0,0,0,0,0,0,0,0,0,0,0,0],\n",
    "    \"hipRight\" : [0,0,0,0,0,0,0,0,0,0,0,0],\n",
    "    \"kneeRight\" : [0,0,0,0,0,0,0,0,0,0,0,0],\n",
    "    \"ankleRight\" : [0,0,0,0,0,0,0,0,0,0,0,0],\n",
    "    \"footRight\" : [0,0,0,0,0,0,0,0,0,0,0,0]\n",
    "}\n",
    "keyp2rommax_avg = {\n",
    "    \"shoulderCenter\" : [0,0,0,0,0,0,0,0,0,0,0,0],\n",
    "    \"head\" : [0,0,0,0,0,0,0,0,0,0,0,0],\n",
    "    \"shoulderLeft\" : [0,0,0,0,0,0,0,0,0,0,0,0],\n",
    "    \"elbowLeft\" : [0,0,0,0,0,0,0,0,0,0,0,0],\n",
    "    \"handLeft\" : [0,0,0,0,0,0,0,0,0,0,0,0],\n",
    "    \"shoulderRight\" : [0,0,0,0,0,0,0,0,0,0,0,0],\n",
    "    \"elbowRight\" : [0,0,0,0,0,0,0,0,0,0,0,0],\n",
    "    \"handRight\" : [0,0,0,0,0,0,0,0,0,0,0,0],\n",
    "    \"hipCenter\" : [0,0,0,0,0,0,0,0,0,0,0,0],\n",
    "    \"hipLeft\" : [0,0,0,0,0,0,0,0,0,0,0,0],\n",
    "    \"kneeLeft\" : [0,0,0,0,0,0,0,0,0,0,0,0],\n",
    "    \"ankleLeft\" : [0,0,0,0,0,0,0,0,0,0,0,0],\n",
    "    \"footLeft\" : [0,0,0,0,0,0,0,0,0,0,0,0],\n",
    "    \"hipRight\" : [0,0,0,0,0,0,0,0,0,0,0,0],\n",
    "    \"kneeRight\" : [0,0,0,0,0,0,0,0,0,0,0,0],\n",
    "    \"ankleRight\" : [0,0,0,0,0,0,0,0,0,0,0,0],\n",
    "    \"footRight\" : [0,0,0,0,0,0,0,0,0,0,0,0]\n",
    "}\n",
    "keyp2rommin_avg = {\n",
    "    \"shoulderCenter\" : [0,0,0,0,0,0,0,0,0,0,0,0],\n",
    "    \"head\" : [0,0,0,0,0,0,0,0,0,0,0,0],\n",
    "    \"shoulderLeft\" : [0,0,0,0,0,0,0,0,0,0,0,0],\n",
    "    \"elbowLeft\" : [0,0,0,0,0,0,0,0,0,0,0,0],\n",
    "    \"handLeft\" : [0,0,0,0,0,0,0,0,0,0,0,0],\n",
    "    \"shoulderRight\" : [0,0,0,0,0,0,0,0,0,0,0,0],\n",
    "    \"elbowRight\" : [0,0,0,0,0,0,0,0,0,0,0,0],\n",
    "    \"handRight\" : [0,0,0,0,0,0,0,0,0,0,0,0],\n",
    "    \"hipCenter\" : [0,0,0,0,0,0,0,0,0,0,0,0],\n",
    "    \"hipLeft\" : [0,0,0,0,0,0,0,0,0,0,0,0],\n",
    "    \"kneeLeft\" : [0,0,0,0,0,0,0,0,0,0,0,0],\n",
    "    \"ankleLeft\" : [0,0,0,0,0,0,0,0,0,0,0,0],\n",
    "    \"footLeft\" : [0,0,0,0,0,0,0,0,0,0,0,0],\n",
    "    \"hipRight\" : [0,0,0,0,0,0,0,0,0,0,0,0],\n",
    "    \"kneeRight\" : [0,0,0,0,0,0,0,0,0,0,0,0],\n",
    "    \"ankleRight\" : [0,0,0,0,0,0,0,0,0,0,0,0],\n",
    "    \"footRight\" : [0,0,0,0,0,0,0,0,0,0,0,0]\n",
    "}\n",
    "\n",
    "stepmonth = {\n",
    "    \"step_length\" : [0,0,0,0,0,0,0,0,0,0,0,0],\n",
    "    \"numsteps\" : [0,0,0,0,0,0,0,0,0,0,0,0],\n",
    "    \"cadence\" : [0,0,0,0,0,0,0,0,0,0,0,0],\n",
    "    \"speed\" : [0,0,0,0,0,0,0,0,0,0,0,0],\n",
    "    \"time\" : [0,0,0,0,0,0,0,0,0,0,0,0]\n",
    "}\n",
    "countstepmonth = [0,0,0,0,0,0,0,0,0,0,0,0]\n",
    "\n",
    "endpointmonth = {\n",
    "    \"time\" : [0,0,0,0,0,0,0,0,0,0,0,0],\n",
    "    \"speed\" : [0,0,0,0,0,0,0,0,0,0,0,0]\n",
    "}\n",
    "countendpointmonth = [0,0,0,0,0,0,0,0,0,0,0,0]\n",
    "\n",
    "for i in range(len(exercises)):\n",
    "    exnamei = exercises[i].name\n",
    "    for monthi in range(12):\n",
    "        if countexmonth[exnamei][monthi] != 0:\n",
    "            res_exi = exercises[i].getResult(monthi)\n",
    "            for m in range(len(res_exi)): \n",
    "                single_metric,result_single_metric = res_exi[m]\n",
    "                single_metric_name = single_metric.name\n",
    "                if single_metric_name == \"ROM\":\n",
    "                    maxromj = max(result_single_metric)\n",
    "                    minromj = min(result_single_metric)\n",
    "                    tagjoint = single_metric.tagjoint\n",
    "                    keyp2rommax[tagjoint][monthi] = maxromj + keyp2rommax[tagjoint][monthi]\n",
    "                    keyp2rommin[tagjoint][monthi] = minromj + keyp2rommin[tagjoint][monthi]\n",
    "                    countrommonth[tagjoint][monthi] = 1 + countrommonth[tagjoint][monthi]           \n",
    "\n",
    "                if single_metric_name == \"step\":\n",
    "                    stepmonth[\"step_length\"][monthi] = single_metric.step_length + stepmonth[\"step_length\"][monthi]\n",
    "                    stepmonth[\"numsteps\"][monthi] = single_metric.nsteps + stepmonth[\"numsteps\"][monthi]\n",
    "                    stepmonth[\"cadence\"][monthi] = single_metric.cadence + stepmonth[\"cadence\"][monthi]\n",
    "                    stepmonth[\"speed\"][monthi] = single_metric.speed + stepmonth[\"speed\"][monthi]\n",
    "                    stepmonth[\"time\"][monthi] = single_metric.ex_time + stepmonth[\"time\"][monthi]\n",
    "                    countstepmonth[monthi] = 1 + countstepmonth[monthi]\n",
    "\n",
    "                if single_metric_name == \"EP\":\n",
    "                    endpointmonth[\"time\"][monthi] = single_metric.ex_time + endpointmonth[\"time\"][monthi]\n",
    "                    endpointmonth[\"speed\"][monthi] = single_metric.speed + endpointmonth[\"speed\"][monthi]\n",
    "                    countendpointmonth[monthi] = 1 + countendpointmonth[monthi]\n",
    "\n"
   ]
  },
  {
   "cell_type": "code",
   "execution_count": 18,
   "metadata": {
    "scrolled": true
   },
   "outputs": [],
   "source": [
    "counted_exmonth = {\n",
    "    \"tug\" : [0,0,0,0,0,0,0,0,0,0,0,0],\n",
    "    \"abduction_left\" : [0,0,0,0,0,0,0,0,0,0,0,0],\n",
    "    \"internal_rotation_left\" : [0,0,0,0,0,0,0,0,0,0,0,0],\n",
    "    \"external_rotation_left\" : [0,0,0,0,0,0,0,0,0,0,0,0],\n",
    "    \"reaching_left\" : [0,0,0,0,0,0,0,0,0,0,0,0]\n",
    "}\n",
    "for i in range(len(exercises)):\n",
    "    exnamei = exercises[i].name\n",
    "\n",
    "    for monthi in range(12):  \n",
    "        if countexmonth[exnamei][monthi] != 0:\n",
    "            if counted_exmonth[exnamei][monthi] < 1:       \n",
    "                res_exi = exercises[i].getResult(monthi)\n",
    "                for m in range(len(res_exi)): \n",
    "                    single_metric,result_single_metric = res_exi[m]\n",
    "                    single_metric_name = single_metric.name\n",
    "\n",
    "                    if single_metric_name == \"ROM\":\n",
    "                        tagjoint = single_metric.tagjoint\n",
    "                        if countrommonth[tagjoint][monthi] != 0:\n",
    "                            keyp2rommax_avg[tagjoint][monthi] = keyp2rommax[tagjoint][monthi]/countrommonth[tagjoint][monthi]\n",
    "                            keyp2rommin_avg[tagjoint][monthi] = keyp2rommin[tagjoint][monthi]/countrommonth[tagjoint][monthi]\n",
    "\n",
    "\n",
    "                    if single_metric_name == \"step\":\n",
    "                        if countstepmonth[monthi] != 0:\n",
    "                            stepmonth[\"step_length\"][monthi] = stepmonth[\"step_length\"][monthi]/countstepmonth[monthi]\n",
    "                            stepmonth[\"numsteps\"][monthi] = stepmonth[\"numsteps\"][monthi]/countstepmonth[monthi]\n",
    "                            stepmonth[\"cadence\"][monthi] = stepmonth[\"cadence\"][monthi]/countstepmonth[monthi]\n",
    "                            stepmonth[\"speed\"][monthi] = stepmonth[\"speed\"][monthi]/countstepmonth[monthi]\n",
    "                            stepmonth[\"time\"][monthi] = stepmonth[\"time\"][monthi]/countstepmonth[monthi]   \n",
    "\n",
    "                    if single_metric_name == \"EP\":\n",
    "                        if countendpointmonth[monthi] != 0:\n",
    "                            endpointmonth[\"time\"][monthi] = endpointmonth[\"time\"][monthi]/countendpointmonth[monthi]\n",
    "                            endpointmonth[\"speed\"][monthi] = endpointmonth[\"speed\"][monthi]/countendpointmonth[monthi]\n",
    "\n",
    "                counted_exmonth[exnamei][monthi] = 1\n",
    "\n"
   ]
  },
  {
   "cell_type": "code",
   "execution_count": 19,
   "metadata": {
    "scrolled": true
   },
   "outputs": [
    {
     "data": {
      "text/html": [
       "<font size=5><b>Results for Timed Up and Go</b></font>"
      ],
      "text/plain": [
       "<IPython.core.display.HTML object>"
      ]
     },
     "metadata": {},
     "output_type": "display_data"
    }
   ],
   "source": [
    "title = \"Results for Timed Up and Go\"\n",
    "msg1 = HTML('<font size=5><b>'+title+'</b></font>')\n",
    "msg2 = HTML('<font size=5,font color=gray,font >'+title+'</font>')\n",
    "if sum(counted_exmonth['tug'])>0:\n",
    "    display(msg1);\n",
    "else:\n",
    "    display(msg2); "
   ]
  },
  {
   "cell_type": "code",
   "execution_count": 20,
   "metadata": {
    "scrolled": false
   },
   "outputs": [
    {
     "data": {
      "text/html": [
       "<div>\n",
       "<style scoped>\n",
       "    .dataframe tbody tr th:only-of-type {\n",
       "        vertical-align: middle;\n",
       "    }\n",
       "\n",
       "    .dataframe tbody tr th {\n",
       "        vertical-align: top;\n",
       "    }\n",
       "\n",
       "    .dataframe thead th {\n",
       "        text-align: right;\n",
       "    }\n",
       "</style>\n",
       "<table border=\"1\" class=\"dataframe\">\n",
       "  <thead>\n",
       "    <tr style=\"text-align: right;\">\n",
       "      <th></th>\n",
       "      <th>Jan</th>\n",
       "      <th>Feb</th>\n",
       "      <th>Mar</th>\n",
       "      <th>Apr</th>\n",
       "      <th>May</th>\n",
       "      <th>Jun</th>\n",
       "      <th>Jul</th>\n",
       "      <th>Aug</th>\n",
       "      <th>Sep</th>\n",
       "      <th>Oct</th>\n",
       "      <th>Nov</th>\n",
       "      <th>Dec</th>\n",
       "    </tr>\n",
       "  </thead>\n",
       "  <tbody>\n",
       "    <tr>\n",
       "      <th>Number steps</th>\n",
       "      <td>4.609601e-01</td>\n",
       "      <td>0</td>\n",
       "      <td>0</td>\n",
       "      <td>0</td>\n",
       "      <td>0</td>\n",
       "      <td>0</td>\n",
       "      <td>0</td>\n",
       "      <td>0</td>\n",
       "      <td>0</td>\n",
       "      <td>0</td>\n",
       "      <td>0</td>\n",
       "      <td>0</td>\n",
       "    </tr>\n",
       "    <tr>\n",
       "      <th>Speed [m/s]</th>\n",
       "      <td>9.000000e+00</td>\n",
       "      <td>0</td>\n",
       "      <td>0</td>\n",
       "      <td>0</td>\n",
       "      <td>0</td>\n",
       "      <td>0</td>\n",
       "      <td>0</td>\n",
       "      <td>0</td>\n",
       "      <td>0</td>\n",
       "      <td>0</td>\n",
       "      <td>0</td>\n",
       "      <td>0</td>\n",
       "    </tr>\n",
       "    <tr>\n",
       "      <th>Step length [m]</th>\n",
       "      <td>inf</td>\n",
       "      <td>0</td>\n",
       "      <td>0</td>\n",
       "      <td>0</td>\n",
       "      <td>0</td>\n",
       "      <td>0</td>\n",
       "      <td>0</td>\n",
       "      <td>0</td>\n",
       "      <td>0</td>\n",
       "      <td>0</td>\n",
       "      <td>0</td>\n",
       "      <td>0</td>\n",
       "    </tr>\n",
       "    <tr>\n",
       "      <th>Cadence [steps/s]</th>\n",
       "      <td>inf</td>\n",
       "      <td>0</td>\n",
       "      <td>0</td>\n",
       "      <td>0</td>\n",
       "      <td>0</td>\n",
       "      <td>0</td>\n",
       "      <td>0</td>\n",
       "      <td>0</td>\n",
       "      <td>0</td>\n",
       "      <td>0</td>\n",
       "      <td>0</td>\n",
       "      <td>0</td>\n",
       "    </tr>\n",
       "    <tr>\n",
       "      <th>Execution time [s]</th>\n",
       "      <td>5.758829e-320</td>\n",
       "      <td>0</td>\n",
       "      <td>0</td>\n",
       "      <td>0</td>\n",
       "      <td>0</td>\n",
       "      <td>0</td>\n",
       "      <td>0</td>\n",
       "      <td>0</td>\n",
       "      <td>0</td>\n",
       "      <td>0</td>\n",
       "      <td>0</td>\n",
       "      <td>0</td>\n",
       "    </tr>\n",
       "  </tbody>\n",
       "</table>\n",
       "</div>"
      ],
      "text/plain": [
       "                              Jan  Feb  Mar  Apr  May  Jun  Jul  Aug  Sep  \\\n",
       "Number steps         4.609601e-01    0    0    0    0    0    0    0    0   \n",
       "Speed [m/s]          9.000000e+00    0    0    0    0    0    0    0    0   \n",
       "Step length [m]               inf    0    0    0    0    0    0    0    0   \n",
       "Cadence [steps/s]             inf    0    0    0    0    0    0    0    0   \n",
       "Execution time [s]  5.758829e-320    0    0    0    0    0    0    0    0   \n",
       "\n",
       "                    Oct  Nov  Dec  \n",
       "Number steps          0    0    0  \n",
       "Speed [m/s]           0    0    0  \n",
       "Step length [m]       0    0    0  \n",
       "Cadence [steps/s]     0    0    0  \n",
       "Execution time [s]    0    0    0  "
      ]
     },
     "metadata": {},
     "output_type": "display_data"
    },
    {
     "data": {
      "application/vnd.plotly.v1+json": {
       "config": {
        "linkText": "Export to plot.ly",
        "plotlyServerURL": "https://plot.ly",
        "showLink": false
       },
       "data": [
        {
         "marker": {
          "color": "rgb(0,0,255)"
         },
         "name": "Maximum value reached",
         "type": "bar",
         "x": [
          1,
          2,
          3,
          4,
          5,
          6,
          7,
          8,
          9,
          10,
          11,
          12
         ],
         "y": [
          90,
          0,
          0,
          0,
          0,
          0,
          0,
          0,
          0,
          0,
          0,
          0
         ]
        },
        {
         "marker": {
          "color": "rgb(255,0,0)"
         },
         "name": "Minimum value reached",
         "type": "bar",
         "x": [
          1,
          2,
          3,
          4,
          5,
          6,
          7,
          8,
          9,
          10,
          11,
          12
         ],
         "y": [
          90,
          0,
          0,
          0,
          0,
          0,
          0,
          0,
          0,
          0,
          0,
          0
         ]
        }
       ],
       "layout": {
        "bargap": 0.1,
        "bargroupgap": 0,
        "barmode": "group",
        "font": {
         "color": "black",
         "family": "Courier New, monospace",
         "size": 18
        },
        "legend": {
         "bgcolor": "rgba(255, 255, 255, 0)",
         "bordercolor": "rgba(255, 255, 255, 0)"
        },
        "template": {
         "data": {
          "bar": [
           {
            "error_x": {
             "color": "#2a3f5f"
            },
            "error_y": {
             "color": "#2a3f5f"
            },
            "marker": {
             "line": {
              "color": "#E5ECF6",
              "width": 0.5
             },
             "pattern": {
              "fillmode": "overlay",
              "size": 10,
              "solidity": 0.2
             }
            },
            "type": "bar"
           }
          ],
          "barpolar": [
           {
            "marker": {
             "line": {
              "color": "#E5ECF6",
              "width": 0.5
             },
             "pattern": {
              "fillmode": "overlay",
              "size": 10,
              "solidity": 0.2
             }
            },
            "type": "barpolar"
           }
          ],
          "carpet": [
           {
            "aaxis": {
             "endlinecolor": "#2a3f5f",
             "gridcolor": "white",
             "linecolor": "white",
             "minorgridcolor": "white",
             "startlinecolor": "#2a3f5f"
            },
            "baxis": {
             "endlinecolor": "#2a3f5f",
             "gridcolor": "white",
             "linecolor": "white",
             "minorgridcolor": "white",
             "startlinecolor": "#2a3f5f"
            },
            "type": "carpet"
           }
          ],
          "choropleth": [
           {
            "colorbar": {
             "outlinewidth": 0,
             "ticks": ""
            },
            "type": "choropleth"
           }
          ],
          "contour": [
           {
            "colorbar": {
             "outlinewidth": 0,
             "ticks": ""
            },
            "colorscale": [
             [
              0,
              "#0d0887"
             ],
             [
              0.1111111111111111,
              "#46039f"
             ],
             [
              0.2222222222222222,
              "#7201a8"
             ],
             [
              0.3333333333333333,
              "#9c179e"
             ],
             [
              0.4444444444444444,
              "#bd3786"
             ],
             [
              0.5555555555555556,
              "#d8576b"
             ],
             [
              0.6666666666666666,
              "#ed7953"
             ],
             [
              0.7777777777777778,
              "#fb9f3a"
             ],
             [
              0.8888888888888888,
              "#fdca26"
             ],
             [
              1,
              "#f0f921"
             ]
            ],
            "type": "contour"
           }
          ],
          "contourcarpet": [
           {
            "colorbar": {
             "outlinewidth": 0,
             "ticks": ""
            },
            "type": "contourcarpet"
           }
          ],
          "heatmap": [
           {
            "colorbar": {
             "outlinewidth": 0,
             "ticks": ""
            },
            "colorscale": [
             [
              0,
              "#0d0887"
             ],
             [
              0.1111111111111111,
              "#46039f"
             ],
             [
              0.2222222222222222,
              "#7201a8"
             ],
             [
              0.3333333333333333,
              "#9c179e"
             ],
             [
              0.4444444444444444,
              "#bd3786"
             ],
             [
              0.5555555555555556,
              "#d8576b"
             ],
             [
              0.6666666666666666,
              "#ed7953"
             ],
             [
              0.7777777777777778,
              "#fb9f3a"
             ],
             [
              0.8888888888888888,
              "#fdca26"
             ],
             [
              1,
              "#f0f921"
             ]
            ],
            "type": "heatmap"
           }
          ],
          "heatmapgl": [
           {
            "colorbar": {
             "outlinewidth": 0,
             "ticks": ""
            },
            "colorscale": [
             [
              0,
              "#0d0887"
             ],
             [
              0.1111111111111111,
              "#46039f"
             ],
             [
              0.2222222222222222,
              "#7201a8"
             ],
             [
              0.3333333333333333,
              "#9c179e"
             ],
             [
              0.4444444444444444,
              "#bd3786"
             ],
             [
              0.5555555555555556,
              "#d8576b"
             ],
             [
              0.6666666666666666,
              "#ed7953"
             ],
             [
              0.7777777777777778,
              "#fb9f3a"
             ],
             [
              0.8888888888888888,
              "#fdca26"
             ],
             [
              1,
              "#f0f921"
             ]
            ],
            "type": "heatmapgl"
           }
          ],
          "histogram": [
           {
            "marker": {
             "pattern": {
              "fillmode": "overlay",
              "size": 10,
              "solidity": 0.2
             }
            },
            "type": "histogram"
           }
          ],
          "histogram2d": [
           {
            "colorbar": {
             "outlinewidth": 0,
             "ticks": ""
            },
            "colorscale": [
             [
              0,
              "#0d0887"
             ],
             [
              0.1111111111111111,
              "#46039f"
             ],
             [
              0.2222222222222222,
              "#7201a8"
             ],
             [
              0.3333333333333333,
              "#9c179e"
             ],
             [
              0.4444444444444444,
              "#bd3786"
             ],
             [
              0.5555555555555556,
              "#d8576b"
             ],
             [
              0.6666666666666666,
              "#ed7953"
             ],
             [
              0.7777777777777778,
              "#fb9f3a"
             ],
             [
              0.8888888888888888,
              "#fdca26"
             ],
             [
              1,
              "#f0f921"
             ]
            ],
            "type": "histogram2d"
           }
          ],
          "histogram2dcontour": [
           {
            "colorbar": {
             "outlinewidth": 0,
             "ticks": ""
            },
            "colorscale": [
             [
              0,
              "#0d0887"
             ],
             [
              0.1111111111111111,
              "#46039f"
             ],
             [
              0.2222222222222222,
              "#7201a8"
             ],
             [
              0.3333333333333333,
              "#9c179e"
             ],
             [
              0.4444444444444444,
              "#bd3786"
             ],
             [
              0.5555555555555556,
              "#d8576b"
             ],
             [
              0.6666666666666666,
              "#ed7953"
             ],
             [
              0.7777777777777778,
              "#fb9f3a"
             ],
             [
              0.8888888888888888,
              "#fdca26"
             ],
             [
              1,
              "#f0f921"
             ]
            ],
            "type": "histogram2dcontour"
           }
          ],
          "mesh3d": [
           {
            "colorbar": {
             "outlinewidth": 0,
             "ticks": ""
            },
            "type": "mesh3d"
           }
          ],
          "parcoords": [
           {
            "line": {
             "colorbar": {
              "outlinewidth": 0,
              "ticks": ""
             }
            },
            "type": "parcoords"
           }
          ],
          "pie": [
           {
            "automargin": true,
            "type": "pie"
           }
          ],
          "scatter": [
           {
            "fillpattern": {
             "fillmode": "overlay",
             "size": 10,
             "solidity": 0.2
            },
            "type": "scatter"
           }
          ],
          "scatter3d": [
           {
            "line": {
             "colorbar": {
              "outlinewidth": 0,
              "ticks": ""
             }
            },
            "marker": {
             "colorbar": {
              "outlinewidth": 0,
              "ticks": ""
             }
            },
            "type": "scatter3d"
           }
          ],
          "scattercarpet": [
           {
            "marker": {
             "colorbar": {
              "outlinewidth": 0,
              "ticks": ""
             }
            },
            "type": "scattercarpet"
           }
          ],
          "scattergeo": [
           {
            "marker": {
             "colorbar": {
              "outlinewidth": 0,
              "ticks": ""
             }
            },
            "type": "scattergeo"
           }
          ],
          "scattergl": [
           {
            "marker": {
             "colorbar": {
              "outlinewidth": 0,
              "ticks": ""
             }
            },
            "type": "scattergl"
           }
          ],
          "scattermapbox": [
           {
            "marker": {
             "colorbar": {
              "outlinewidth": 0,
              "ticks": ""
             }
            },
            "type": "scattermapbox"
           }
          ],
          "scatterpolar": [
           {
            "marker": {
             "colorbar": {
              "outlinewidth": 0,
              "ticks": ""
             }
            },
            "type": "scatterpolar"
           }
          ],
          "scatterpolargl": [
           {
            "marker": {
             "colorbar": {
              "outlinewidth": 0,
              "ticks": ""
             }
            },
            "type": "scatterpolargl"
           }
          ],
          "scatterternary": [
           {
            "marker": {
             "colorbar": {
              "outlinewidth": 0,
              "ticks": ""
             }
            },
            "type": "scatterternary"
           }
          ],
          "surface": [
           {
            "colorbar": {
             "outlinewidth": 0,
             "ticks": ""
            },
            "colorscale": [
             [
              0,
              "#0d0887"
             ],
             [
              0.1111111111111111,
              "#46039f"
             ],
             [
              0.2222222222222222,
              "#7201a8"
             ],
             [
              0.3333333333333333,
              "#9c179e"
             ],
             [
              0.4444444444444444,
              "#bd3786"
             ],
             [
              0.5555555555555556,
              "#d8576b"
             ],
             [
              0.6666666666666666,
              "#ed7953"
             ],
             [
              0.7777777777777778,
              "#fb9f3a"
             ],
             [
              0.8888888888888888,
              "#fdca26"
             ],
             [
              1,
              "#f0f921"
             ]
            ],
            "type": "surface"
           }
          ],
          "table": [
           {
            "cells": {
             "fill": {
              "color": "#EBF0F8"
             },
             "line": {
              "color": "white"
             }
            },
            "header": {
             "fill": {
              "color": "#C8D4E3"
             },
             "line": {
              "color": "white"
             }
            },
            "type": "table"
           }
          ]
         },
         "layout": {
          "annotationdefaults": {
           "arrowcolor": "#2a3f5f",
           "arrowhead": 0,
           "arrowwidth": 1
          },
          "autotypenumbers": "strict",
          "coloraxis": {
           "colorbar": {
            "outlinewidth": 0,
            "ticks": ""
           }
          },
          "colorscale": {
           "diverging": [
            [
             0,
             "#8e0152"
            ],
            [
             0.1,
             "#c51b7d"
            ],
            [
             0.2,
             "#de77ae"
            ],
            [
             0.3,
             "#f1b6da"
            ],
            [
             0.4,
             "#fde0ef"
            ],
            [
             0.5,
             "#f7f7f7"
            ],
            [
             0.6,
             "#e6f5d0"
            ],
            [
             0.7,
             "#b8e186"
            ],
            [
             0.8,
             "#7fbc41"
            ],
            [
             0.9,
             "#4d9221"
            ],
            [
             1,
             "#276419"
            ]
           ],
           "sequential": [
            [
             0,
             "#0d0887"
            ],
            [
             0.1111111111111111,
             "#46039f"
            ],
            [
             0.2222222222222222,
             "#7201a8"
            ],
            [
             0.3333333333333333,
             "#9c179e"
            ],
            [
             0.4444444444444444,
             "#bd3786"
            ],
            [
             0.5555555555555556,
             "#d8576b"
            ],
            [
             0.6666666666666666,
             "#ed7953"
            ],
            [
             0.7777777777777778,
             "#fb9f3a"
            ],
            [
             0.8888888888888888,
             "#fdca26"
            ],
            [
             1,
             "#f0f921"
            ]
           ],
           "sequentialminus": [
            [
             0,
             "#0d0887"
            ],
            [
             0.1111111111111111,
             "#46039f"
            ],
            [
             0.2222222222222222,
             "#7201a8"
            ],
            [
             0.3333333333333333,
             "#9c179e"
            ],
            [
             0.4444444444444444,
             "#bd3786"
            ],
            [
             0.5555555555555556,
             "#d8576b"
            ],
            [
             0.6666666666666666,
             "#ed7953"
            ],
            [
             0.7777777777777778,
             "#fb9f3a"
            ],
            [
             0.8888888888888888,
             "#fdca26"
            ],
            [
             1,
             "#f0f921"
            ]
           ]
          },
          "colorway": [
           "#636efa",
           "#EF553B",
           "#00cc96",
           "#ab63fa",
           "#FFA15A",
           "#19d3f3",
           "#FF6692",
           "#B6E880",
           "#FF97FF",
           "#FECB52"
          ],
          "font": {
           "color": "#2a3f5f"
          },
          "geo": {
           "bgcolor": "white",
           "lakecolor": "white",
           "landcolor": "#E5ECF6",
           "showlakes": true,
           "showland": true,
           "subunitcolor": "white"
          },
          "hoverlabel": {
           "align": "left"
          },
          "hovermode": "closest",
          "mapbox": {
           "style": "light"
          },
          "paper_bgcolor": "white",
          "plot_bgcolor": "#E5ECF6",
          "polar": {
           "angularaxis": {
            "gridcolor": "white",
            "linecolor": "white",
            "ticks": ""
           },
           "bgcolor": "#E5ECF6",
           "radialaxis": {
            "gridcolor": "white",
            "linecolor": "white",
            "ticks": ""
           }
          },
          "scene": {
           "xaxis": {
            "backgroundcolor": "#E5ECF6",
            "gridcolor": "white",
            "gridwidth": 2,
            "linecolor": "white",
            "showbackground": true,
            "ticks": "",
            "zerolinecolor": "white"
           },
           "yaxis": {
            "backgroundcolor": "#E5ECF6",
            "gridcolor": "white",
            "gridwidth": 2,
            "linecolor": "white",
            "showbackground": true,
            "ticks": "",
            "zerolinecolor": "white"
           },
           "zaxis": {
            "backgroundcolor": "#E5ECF6",
            "gridcolor": "white",
            "gridwidth": 2,
            "linecolor": "white",
            "showbackground": true,
            "ticks": "",
            "zerolinecolor": "white"
           }
          },
          "shapedefaults": {
           "line": {
            "color": "#2a3f5f"
           }
          },
          "ternary": {
           "aaxis": {
            "gridcolor": "white",
            "linecolor": "white",
            "ticks": ""
           },
           "baxis": {
            "gridcolor": "white",
            "linecolor": "white",
            "ticks": ""
           },
           "bgcolor": "#E5ECF6",
           "caxis": {
            "gridcolor": "white",
            "linecolor": "white",
            "ticks": ""
           }
          },
          "title": {
           "x": 0.05
          },
          "xaxis": {
           "automargin": true,
           "gridcolor": "white",
           "linecolor": "white",
           "ticks": "",
           "title": {
            "standoff": 15
           },
           "zerolinecolor": "white",
           "zerolinewidth": 2
          },
          "yaxis": {
           "automargin": true,
           "gridcolor": "white",
           "linecolor": "white",
           "ticks": "",
           "title": {
            "standoff": 15
           },
           "zerolinecolor": "white",
           "zerolinewidth": 2
          }
         }
        },
        "title": {
         "text": "Range of Motion Parameters"
        },
        "xaxis": {
         "tickfont": {
          "color": "#7f7f7f",
          "family": "Courier New, monospace",
          "size": 14
         },
         "title": {
          "font": {
           "color": "#7f7f7f",
           "family": "Courier New, monospace",
           "size": 18
          },
          "text": "Month"
         }
        },
        "yaxis": {
         "tickfont": {
          "color": "#7f7f7f",
          "family": "Courier New, monospace",
          "size": 14
         },
         "title": {
          "font": {
           "color": "#7f7f7f",
           "family": "Courier New, monospace",
           "size": 18
          },
          "text": "ROM hipLeft [degrees]"
         }
        }
       }
      },
      "text/html": [
       "<div>                            <div id=\"51e99566-d813-4f2e-8047-bc0fdf7df20f\" class=\"plotly-graph-div\" style=\"height:525px; width:100%;\"></div>            <script type=\"text/javascript\">                require([\"plotly\"], function(Plotly) {                    window.PLOTLYENV=window.PLOTLYENV || {};                                    if (document.getElementById(\"51e99566-d813-4f2e-8047-bc0fdf7df20f\")) {                    Plotly.newPlot(                        \"51e99566-d813-4f2e-8047-bc0fdf7df20f\",                        [{\"marker\":{\"color\":\"rgb(0,0,255)\"},\"name\":\"Maximum value reached\",\"x\":[1,2,3,4,5,6,7,8,9,10,11,12],\"y\":[90.0,0,0,0,0,0,0,0,0,0,0,0],\"type\":\"bar\"},{\"marker\":{\"color\":\"rgb(255,0,0)\"},\"name\":\"Minimum value reached\",\"x\":[1,2,3,4,5,6,7,8,9,10,11,12],\"y\":[90.0,0,0,0,0,0,0,0,0,0,0,0],\"type\":\"bar\"}],                        {\"bargap\":0.1,\"bargroupgap\":0.0,\"barmode\":\"group\",\"font\":{\"color\":\"black\",\"family\":\"Courier New, monospace\",\"size\":18},\"legend\":{\"bgcolor\":\"rgba(255, 255, 255, 0)\",\"bordercolor\":\"rgba(255, 255, 255, 0)\"},\"template\":{\"data\":{\"barpolar\":[{\"marker\":{\"line\":{\"color\":\"#E5ECF6\",\"width\":0.5},\"pattern\":{\"fillmode\":\"overlay\",\"size\":10,\"solidity\":0.2}},\"type\":\"barpolar\"}],\"bar\":[{\"error_x\":{\"color\":\"#2a3f5f\"},\"error_y\":{\"color\":\"#2a3f5f\"},\"marker\":{\"line\":{\"color\":\"#E5ECF6\",\"width\":0.5},\"pattern\":{\"fillmode\":\"overlay\",\"size\":10,\"solidity\":0.2}},\"type\":\"bar\"}],\"carpet\":[{\"aaxis\":{\"endlinecolor\":\"#2a3f5f\",\"gridcolor\":\"white\",\"linecolor\":\"white\",\"minorgridcolor\":\"white\",\"startlinecolor\":\"#2a3f5f\"},\"baxis\":{\"endlinecolor\":\"#2a3f5f\",\"gridcolor\":\"white\",\"linecolor\":\"white\",\"minorgridcolor\":\"white\",\"startlinecolor\":\"#2a3f5f\"},\"type\":\"carpet\"}],\"choropleth\":[{\"colorbar\":{\"outlinewidth\":0,\"ticks\":\"\"},\"type\":\"choropleth\"}],\"contourcarpet\":[{\"colorbar\":{\"outlinewidth\":0,\"ticks\":\"\"},\"type\":\"contourcarpet\"}],\"contour\":[{\"colorbar\":{\"outlinewidth\":0,\"ticks\":\"\"},\"colorscale\":[[0.0,\"#0d0887\"],[0.1111111111111111,\"#46039f\"],[0.2222222222222222,\"#7201a8\"],[0.3333333333333333,\"#9c179e\"],[0.4444444444444444,\"#bd3786\"],[0.5555555555555556,\"#d8576b\"],[0.6666666666666666,\"#ed7953\"],[0.7777777777777778,\"#fb9f3a\"],[0.8888888888888888,\"#fdca26\"],[1.0,\"#f0f921\"]],\"type\":\"contour\"}],\"heatmapgl\":[{\"colorbar\":{\"outlinewidth\":0,\"ticks\":\"\"},\"colorscale\":[[0.0,\"#0d0887\"],[0.1111111111111111,\"#46039f\"],[0.2222222222222222,\"#7201a8\"],[0.3333333333333333,\"#9c179e\"],[0.4444444444444444,\"#bd3786\"],[0.5555555555555556,\"#d8576b\"],[0.6666666666666666,\"#ed7953\"],[0.7777777777777778,\"#fb9f3a\"],[0.8888888888888888,\"#fdca26\"],[1.0,\"#f0f921\"]],\"type\":\"heatmapgl\"}],\"heatmap\":[{\"colorbar\":{\"outlinewidth\":0,\"ticks\":\"\"},\"colorscale\":[[0.0,\"#0d0887\"],[0.1111111111111111,\"#46039f\"],[0.2222222222222222,\"#7201a8\"],[0.3333333333333333,\"#9c179e\"],[0.4444444444444444,\"#bd3786\"],[0.5555555555555556,\"#d8576b\"],[0.6666666666666666,\"#ed7953\"],[0.7777777777777778,\"#fb9f3a\"],[0.8888888888888888,\"#fdca26\"],[1.0,\"#f0f921\"]],\"type\":\"heatmap\"}],\"histogram2dcontour\":[{\"colorbar\":{\"outlinewidth\":0,\"ticks\":\"\"},\"colorscale\":[[0.0,\"#0d0887\"],[0.1111111111111111,\"#46039f\"],[0.2222222222222222,\"#7201a8\"],[0.3333333333333333,\"#9c179e\"],[0.4444444444444444,\"#bd3786\"],[0.5555555555555556,\"#d8576b\"],[0.6666666666666666,\"#ed7953\"],[0.7777777777777778,\"#fb9f3a\"],[0.8888888888888888,\"#fdca26\"],[1.0,\"#f0f921\"]],\"type\":\"histogram2dcontour\"}],\"histogram2d\":[{\"colorbar\":{\"outlinewidth\":0,\"ticks\":\"\"},\"colorscale\":[[0.0,\"#0d0887\"],[0.1111111111111111,\"#46039f\"],[0.2222222222222222,\"#7201a8\"],[0.3333333333333333,\"#9c179e\"],[0.4444444444444444,\"#bd3786\"],[0.5555555555555556,\"#d8576b\"],[0.6666666666666666,\"#ed7953\"],[0.7777777777777778,\"#fb9f3a\"],[0.8888888888888888,\"#fdca26\"],[1.0,\"#f0f921\"]],\"type\":\"histogram2d\"}],\"histogram\":[{\"marker\":{\"pattern\":{\"fillmode\":\"overlay\",\"size\":10,\"solidity\":0.2}},\"type\":\"histogram\"}],\"mesh3d\":[{\"colorbar\":{\"outlinewidth\":0,\"ticks\":\"\"},\"type\":\"mesh3d\"}],\"parcoords\":[{\"line\":{\"colorbar\":{\"outlinewidth\":0,\"ticks\":\"\"}},\"type\":\"parcoords\"}],\"pie\":[{\"automargin\":true,\"type\":\"pie\"}],\"scatter3d\":[{\"line\":{\"colorbar\":{\"outlinewidth\":0,\"ticks\":\"\"}},\"marker\":{\"colorbar\":{\"outlinewidth\":0,\"ticks\":\"\"}},\"type\":\"scatter3d\"}],\"scattercarpet\":[{\"marker\":{\"colorbar\":{\"outlinewidth\":0,\"ticks\":\"\"}},\"type\":\"scattercarpet\"}],\"scattergeo\":[{\"marker\":{\"colorbar\":{\"outlinewidth\":0,\"ticks\":\"\"}},\"type\":\"scattergeo\"}],\"scattergl\":[{\"marker\":{\"colorbar\":{\"outlinewidth\":0,\"ticks\":\"\"}},\"type\":\"scattergl\"}],\"scattermapbox\":[{\"marker\":{\"colorbar\":{\"outlinewidth\":0,\"ticks\":\"\"}},\"type\":\"scattermapbox\"}],\"scatterpolargl\":[{\"marker\":{\"colorbar\":{\"outlinewidth\":0,\"ticks\":\"\"}},\"type\":\"scatterpolargl\"}],\"scatterpolar\":[{\"marker\":{\"colorbar\":{\"outlinewidth\":0,\"ticks\":\"\"}},\"type\":\"scatterpolar\"}],\"scatter\":[{\"fillpattern\":{\"fillmode\":\"overlay\",\"size\":10,\"solidity\":0.2},\"type\":\"scatter\"}],\"scatterternary\":[{\"marker\":{\"colorbar\":{\"outlinewidth\":0,\"ticks\":\"\"}},\"type\":\"scatterternary\"}],\"surface\":[{\"colorbar\":{\"outlinewidth\":0,\"ticks\":\"\"},\"colorscale\":[[0.0,\"#0d0887\"],[0.1111111111111111,\"#46039f\"],[0.2222222222222222,\"#7201a8\"],[0.3333333333333333,\"#9c179e\"],[0.4444444444444444,\"#bd3786\"],[0.5555555555555556,\"#d8576b\"],[0.6666666666666666,\"#ed7953\"],[0.7777777777777778,\"#fb9f3a\"],[0.8888888888888888,\"#fdca26\"],[1.0,\"#f0f921\"]],\"type\":\"surface\"}],\"table\":[{\"cells\":{\"fill\":{\"color\":\"#EBF0F8\"},\"line\":{\"color\":\"white\"}},\"header\":{\"fill\":{\"color\":\"#C8D4E3\"},\"line\":{\"color\":\"white\"}},\"type\":\"table\"}]},\"layout\":{\"annotationdefaults\":{\"arrowcolor\":\"#2a3f5f\",\"arrowhead\":0,\"arrowwidth\":1},\"autotypenumbers\":\"strict\",\"coloraxis\":{\"colorbar\":{\"outlinewidth\":0,\"ticks\":\"\"}},\"colorscale\":{\"diverging\":[[0,\"#8e0152\"],[0.1,\"#c51b7d\"],[0.2,\"#de77ae\"],[0.3,\"#f1b6da\"],[0.4,\"#fde0ef\"],[0.5,\"#f7f7f7\"],[0.6,\"#e6f5d0\"],[0.7,\"#b8e186\"],[0.8,\"#7fbc41\"],[0.9,\"#4d9221\"],[1,\"#276419\"]],\"sequential\":[[0.0,\"#0d0887\"],[0.1111111111111111,\"#46039f\"],[0.2222222222222222,\"#7201a8\"],[0.3333333333333333,\"#9c179e\"],[0.4444444444444444,\"#bd3786\"],[0.5555555555555556,\"#d8576b\"],[0.6666666666666666,\"#ed7953\"],[0.7777777777777778,\"#fb9f3a\"],[0.8888888888888888,\"#fdca26\"],[1.0,\"#f0f921\"]],\"sequentialminus\":[[0.0,\"#0d0887\"],[0.1111111111111111,\"#46039f\"],[0.2222222222222222,\"#7201a8\"],[0.3333333333333333,\"#9c179e\"],[0.4444444444444444,\"#bd3786\"],[0.5555555555555556,\"#d8576b\"],[0.6666666666666666,\"#ed7953\"],[0.7777777777777778,\"#fb9f3a\"],[0.8888888888888888,\"#fdca26\"],[1.0,\"#f0f921\"]]},\"colorway\":[\"#636efa\",\"#EF553B\",\"#00cc96\",\"#ab63fa\",\"#FFA15A\",\"#19d3f3\",\"#FF6692\",\"#B6E880\",\"#FF97FF\",\"#FECB52\"],\"font\":{\"color\":\"#2a3f5f\"},\"geo\":{\"bgcolor\":\"white\",\"lakecolor\":\"white\",\"landcolor\":\"#E5ECF6\",\"showlakes\":true,\"showland\":true,\"subunitcolor\":\"white\"},\"hoverlabel\":{\"align\":\"left\"},\"hovermode\":\"closest\",\"mapbox\":{\"style\":\"light\"},\"paper_bgcolor\":\"white\",\"plot_bgcolor\":\"#E5ECF6\",\"polar\":{\"angularaxis\":{\"gridcolor\":\"white\",\"linecolor\":\"white\",\"ticks\":\"\"},\"bgcolor\":\"#E5ECF6\",\"radialaxis\":{\"gridcolor\":\"white\",\"linecolor\":\"white\",\"ticks\":\"\"}},\"scene\":{\"xaxis\":{\"backgroundcolor\":\"#E5ECF6\",\"gridcolor\":\"white\",\"gridwidth\":2,\"linecolor\":\"white\",\"showbackground\":true,\"ticks\":\"\",\"zerolinecolor\":\"white\"},\"yaxis\":{\"backgroundcolor\":\"#E5ECF6\",\"gridcolor\":\"white\",\"gridwidth\":2,\"linecolor\":\"white\",\"showbackground\":true,\"ticks\":\"\",\"zerolinecolor\":\"white\"},\"zaxis\":{\"backgroundcolor\":\"#E5ECF6\",\"gridcolor\":\"white\",\"gridwidth\":2,\"linecolor\":\"white\",\"showbackground\":true,\"ticks\":\"\",\"zerolinecolor\":\"white\"}},\"shapedefaults\":{\"line\":{\"color\":\"#2a3f5f\"}},\"ternary\":{\"aaxis\":{\"gridcolor\":\"white\",\"linecolor\":\"white\",\"ticks\":\"\"},\"baxis\":{\"gridcolor\":\"white\",\"linecolor\":\"white\",\"ticks\":\"\"},\"bgcolor\":\"#E5ECF6\",\"caxis\":{\"gridcolor\":\"white\",\"linecolor\":\"white\",\"ticks\":\"\"}},\"title\":{\"x\":0.05},\"xaxis\":{\"automargin\":true,\"gridcolor\":\"white\",\"linecolor\":\"white\",\"ticks\":\"\",\"title\":{\"standoff\":15},\"zerolinecolor\":\"white\",\"zerolinewidth\":2},\"yaxis\":{\"automargin\":true,\"gridcolor\":\"white\",\"linecolor\":\"white\",\"ticks\":\"\",\"title\":{\"standoff\":15},\"zerolinecolor\":\"white\",\"zerolinewidth\":2}}},\"title\":{\"text\":\"Range of Motion Parameters\"},\"xaxis\":{\"tickfont\":{\"color\":\"#7f7f7f\",\"family\":\"Courier New, monospace\",\"size\":14},\"title\":{\"font\":{\"color\":\"#7f7f7f\",\"family\":\"Courier New, monospace\",\"size\":18},\"text\":\"Month\"}},\"yaxis\":{\"tickfont\":{\"color\":\"#7f7f7f\",\"family\":\"Courier New, monospace\",\"size\":14},\"title\":{\"font\":{\"color\":\"#7f7f7f\",\"family\":\"Courier New, monospace\",\"size\":18},\"text\":\"ROM hipLeft [degrees]\"}}},                        {\"responsive\": true}                    ).then(function(){\n",
       "                            \n",
       "var gd = document.getElementById('51e99566-d813-4f2e-8047-bc0fdf7df20f');\n",
       "var x = new MutationObserver(function (mutations, observer) {{\n",
       "        var display = window.getComputedStyle(gd).display;\n",
       "        if (!display || display === 'none') {{\n",
       "            console.log([gd, 'removed!']);\n",
       "            Plotly.purge(gd);\n",
       "            observer.disconnect();\n",
       "        }}\n",
       "}});\n",
       "\n",
       "// Listen for the removal of the full notebook cells\n",
       "var notebookContainer = gd.closest('#notebook-container');\n",
       "if (notebookContainer) {{\n",
       "    x.observe(notebookContainer, {childList: true});\n",
       "}}\n",
       "\n",
       "// Listen for the clearing of the current output cell\n",
       "var outputEl = gd.closest('.output');\n",
       "if (outputEl) {{\n",
       "    x.observe(outputEl, {childList: true});\n",
       "}}\n",
       "\n",
       "                        })                };                });            </script>        </div>"
      ]
     },
     "metadata": {},
     "output_type": "display_data"
    },
    {
     "data": {
      "application/vnd.plotly.v1+json": {
       "config": {
        "linkText": "Export to plot.ly",
        "plotlyServerURL": "https://plot.ly",
        "showLink": false
       },
       "data": [
        {
         "marker": {
          "color": "rgb(0,0,255)"
         },
         "name": "Maximum value reached",
         "type": "bar",
         "x": [
          1,
          2,
          3,
          4,
          5,
          6,
          7,
          8,
          9,
          10,
          11,
          12
         ],
         "y": [
          73.56973556949937,
          0,
          0,
          0,
          0,
          0,
          0,
          0,
          0,
          0,
          0,
          0
         ]
        },
        {
         "marker": {
          "color": "rgb(255,0,0)"
         },
         "name": "Minimum value reached",
         "type": "bar",
         "x": [
          1,
          2,
          3,
          4,
          5,
          6,
          7,
          8,
          9,
          10,
          11,
          12
         ],
         "y": [
          64.59852949275427,
          0,
          0,
          0,
          0,
          0,
          0,
          0,
          0,
          0,
          0,
          0
         ]
        }
       ],
       "layout": {
        "bargap": 0.1,
        "bargroupgap": 0,
        "barmode": "group",
        "font": {
         "color": "black",
         "family": "Courier New, monospace",
         "size": 18
        },
        "legend": {
         "bgcolor": "rgba(255, 255, 255, 0)",
         "bordercolor": "rgba(255, 255, 255, 0)"
        },
        "template": {
         "data": {
          "bar": [
           {
            "error_x": {
             "color": "#2a3f5f"
            },
            "error_y": {
             "color": "#2a3f5f"
            },
            "marker": {
             "line": {
              "color": "#E5ECF6",
              "width": 0.5
             },
             "pattern": {
              "fillmode": "overlay",
              "size": 10,
              "solidity": 0.2
             }
            },
            "type": "bar"
           }
          ],
          "barpolar": [
           {
            "marker": {
             "line": {
              "color": "#E5ECF6",
              "width": 0.5
             },
             "pattern": {
              "fillmode": "overlay",
              "size": 10,
              "solidity": 0.2
             }
            },
            "type": "barpolar"
           }
          ],
          "carpet": [
           {
            "aaxis": {
             "endlinecolor": "#2a3f5f",
             "gridcolor": "white",
             "linecolor": "white",
             "minorgridcolor": "white",
             "startlinecolor": "#2a3f5f"
            },
            "baxis": {
             "endlinecolor": "#2a3f5f",
             "gridcolor": "white",
             "linecolor": "white",
             "minorgridcolor": "white",
             "startlinecolor": "#2a3f5f"
            },
            "type": "carpet"
           }
          ],
          "choropleth": [
           {
            "colorbar": {
             "outlinewidth": 0,
             "ticks": ""
            },
            "type": "choropleth"
           }
          ],
          "contour": [
           {
            "colorbar": {
             "outlinewidth": 0,
             "ticks": ""
            },
            "colorscale": [
             [
              0,
              "#0d0887"
             ],
             [
              0.1111111111111111,
              "#46039f"
             ],
             [
              0.2222222222222222,
              "#7201a8"
             ],
             [
              0.3333333333333333,
              "#9c179e"
             ],
             [
              0.4444444444444444,
              "#bd3786"
             ],
             [
              0.5555555555555556,
              "#d8576b"
             ],
             [
              0.6666666666666666,
              "#ed7953"
             ],
             [
              0.7777777777777778,
              "#fb9f3a"
             ],
             [
              0.8888888888888888,
              "#fdca26"
             ],
             [
              1,
              "#f0f921"
             ]
            ],
            "type": "contour"
           }
          ],
          "contourcarpet": [
           {
            "colorbar": {
             "outlinewidth": 0,
             "ticks": ""
            },
            "type": "contourcarpet"
           }
          ],
          "heatmap": [
           {
            "colorbar": {
             "outlinewidth": 0,
             "ticks": ""
            },
            "colorscale": [
             [
              0,
              "#0d0887"
             ],
             [
              0.1111111111111111,
              "#46039f"
             ],
             [
              0.2222222222222222,
              "#7201a8"
             ],
             [
              0.3333333333333333,
              "#9c179e"
             ],
             [
              0.4444444444444444,
              "#bd3786"
             ],
             [
              0.5555555555555556,
              "#d8576b"
             ],
             [
              0.6666666666666666,
              "#ed7953"
             ],
             [
              0.7777777777777778,
              "#fb9f3a"
             ],
             [
              0.8888888888888888,
              "#fdca26"
             ],
             [
              1,
              "#f0f921"
             ]
            ],
            "type": "heatmap"
           }
          ],
          "heatmapgl": [
           {
            "colorbar": {
             "outlinewidth": 0,
             "ticks": ""
            },
            "colorscale": [
             [
              0,
              "#0d0887"
             ],
             [
              0.1111111111111111,
              "#46039f"
             ],
             [
              0.2222222222222222,
              "#7201a8"
             ],
             [
              0.3333333333333333,
              "#9c179e"
             ],
             [
              0.4444444444444444,
              "#bd3786"
             ],
             [
              0.5555555555555556,
              "#d8576b"
             ],
             [
              0.6666666666666666,
              "#ed7953"
             ],
             [
              0.7777777777777778,
              "#fb9f3a"
             ],
             [
              0.8888888888888888,
              "#fdca26"
             ],
             [
              1,
              "#f0f921"
             ]
            ],
            "type": "heatmapgl"
           }
          ],
          "histogram": [
           {
            "marker": {
             "pattern": {
              "fillmode": "overlay",
              "size": 10,
              "solidity": 0.2
             }
            },
            "type": "histogram"
           }
          ],
          "histogram2d": [
           {
            "colorbar": {
             "outlinewidth": 0,
             "ticks": ""
            },
            "colorscale": [
             [
              0,
              "#0d0887"
             ],
             [
              0.1111111111111111,
              "#46039f"
             ],
             [
              0.2222222222222222,
              "#7201a8"
             ],
             [
              0.3333333333333333,
              "#9c179e"
             ],
             [
              0.4444444444444444,
              "#bd3786"
             ],
             [
              0.5555555555555556,
              "#d8576b"
             ],
             [
              0.6666666666666666,
              "#ed7953"
             ],
             [
              0.7777777777777778,
              "#fb9f3a"
             ],
             [
              0.8888888888888888,
              "#fdca26"
             ],
             [
              1,
              "#f0f921"
             ]
            ],
            "type": "histogram2d"
           }
          ],
          "histogram2dcontour": [
           {
            "colorbar": {
             "outlinewidth": 0,
             "ticks": ""
            },
            "colorscale": [
             [
              0,
              "#0d0887"
             ],
             [
              0.1111111111111111,
              "#46039f"
             ],
             [
              0.2222222222222222,
              "#7201a8"
             ],
             [
              0.3333333333333333,
              "#9c179e"
             ],
             [
              0.4444444444444444,
              "#bd3786"
             ],
             [
              0.5555555555555556,
              "#d8576b"
             ],
             [
              0.6666666666666666,
              "#ed7953"
             ],
             [
              0.7777777777777778,
              "#fb9f3a"
             ],
             [
              0.8888888888888888,
              "#fdca26"
             ],
             [
              1,
              "#f0f921"
             ]
            ],
            "type": "histogram2dcontour"
           }
          ],
          "mesh3d": [
           {
            "colorbar": {
             "outlinewidth": 0,
             "ticks": ""
            },
            "type": "mesh3d"
           }
          ],
          "parcoords": [
           {
            "line": {
             "colorbar": {
              "outlinewidth": 0,
              "ticks": ""
             }
            },
            "type": "parcoords"
           }
          ],
          "pie": [
           {
            "automargin": true,
            "type": "pie"
           }
          ],
          "scatter": [
           {
            "fillpattern": {
             "fillmode": "overlay",
             "size": 10,
             "solidity": 0.2
            },
            "type": "scatter"
           }
          ],
          "scatter3d": [
           {
            "line": {
             "colorbar": {
              "outlinewidth": 0,
              "ticks": ""
             }
            },
            "marker": {
             "colorbar": {
              "outlinewidth": 0,
              "ticks": ""
             }
            },
            "type": "scatter3d"
           }
          ],
          "scattercarpet": [
           {
            "marker": {
             "colorbar": {
              "outlinewidth": 0,
              "ticks": ""
             }
            },
            "type": "scattercarpet"
           }
          ],
          "scattergeo": [
           {
            "marker": {
             "colorbar": {
              "outlinewidth": 0,
              "ticks": ""
             }
            },
            "type": "scattergeo"
           }
          ],
          "scattergl": [
           {
            "marker": {
             "colorbar": {
              "outlinewidth": 0,
              "ticks": ""
             }
            },
            "type": "scattergl"
           }
          ],
          "scattermapbox": [
           {
            "marker": {
             "colorbar": {
              "outlinewidth": 0,
              "ticks": ""
             }
            },
            "type": "scattermapbox"
           }
          ],
          "scatterpolar": [
           {
            "marker": {
             "colorbar": {
              "outlinewidth": 0,
              "ticks": ""
             }
            },
            "type": "scatterpolar"
           }
          ],
          "scatterpolargl": [
           {
            "marker": {
             "colorbar": {
              "outlinewidth": 0,
              "ticks": ""
             }
            },
            "type": "scatterpolargl"
           }
          ],
          "scatterternary": [
           {
            "marker": {
             "colorbar": {
              "outlinewidth": 0,
              "ticks": ""
             }
            },
            "type": "scatterternary"
           }
          ],
          "surface": [
           {
            "colorbar": {
             "outlinewidth": 0,
             "ticks": ""
            },
            "colorscale": [
             [
              0,
              "#0d0887"
             ],
             [
              0.1111111111111111,
              "#46039f"
             ],
             [
              0.2222222222222222,
              "#7201a8"
             ],
             [
              0.3333333333333333,
              "#9c179e"
             ],
             [
              0.4444444444444444,
              "#bd3786"
             ],
             [
              0.5555555555555556,
              "#d8576b"
             ],
             [
              0.6666666666666666,
              "#ed7953"
             ],
             [
              0.7777777777777778,
              "#fb9f3a"
             ],
             [
              0.8888888888888888,
              "#fdca26"
             ],
             [
              1,
              "#f0f921"
             ]
            ],
            "type": "surface"
           }
          ],
          "table": [
           {
            "cells": {
             "fill": {
              "color": "#EBF0F8"
             },
             "line": {
              "color": "white"
             }
            },
            "header": {
             "fill": {
              "color": "#C8D4E3"
             },
             "line": {
              "color": "white"
             }
            },
            "type": "table"
           }
          ]
         },
         "layout": {
          "annotationdefaults": {
           "arrowcolor": "#2a3f5f",
           "arrowhead": 0,
           "arrowwidth": 1
          },
          "autotypenumbers": "strict",
          "coloraxis": {
           "colorbar": {
            "outlinewidth": 0,
            "ticks": ""
           }
          },
          "colorscale": {
           "diverging": [
            [
             0,
             "#8e0152"
            ],
            [
             0.1,
             "#c51b7d"
            ],
            [
             0.2,
             "#de77ae"
            ],
            [
             0.3,
             "#f1b6da"
            ],
            [
             0.4,
             "#fde0ef"
            ],
            [
             0.5,
             "#f7f7f7"
            ],
            [
             0.6,
             "#e6f5d0"
            ],
            [
             0.7,
             "#b8e186"
            ],
            [
             0.8,
             "#7fbc41"
            ],
            [
             0.9,
             "#4d9221"
            ],
            [
             1,
             "#276419"
            ]
           ],
           "sequential": [
            [
             0,
             "#0d0887"
            ],
            [
             0.1111111111111111,
             "#46039f"
            ],
            [
             0.2222222222222222,
             "#7201a8"
            ],
            [
             0.3333333333333333,
             "#9c179e"
            ],
            [
             0.4444444444444444,
             "#bd3786"
            ],
            [
             0.5555555555555556,
             "#d8576b"
            ],
            [
             0.6666666666666666,
             "#ed7953"
            ],
            [
             0.7777777777777778,
             "#fb9f3a"
            ],
            [
             0.8888888888888888,
             "#fdca26"
            ],
            [
             1,
             "#f0f921"
            ]
           ],
           "sequentialminus": [
            [
             0,
             "#0d0887"
            ],
            [
             0.1111111111111111,
             "#46039f"
            ],
            [
             0.2222222222222222,
             "#7201a8"
            ],
            [
             0.3333333333333333,
             "#9c179e"
            ],
            [
             0.4444444444444444,
             "#bd3786"
            ],
            [
             0.5555555555555556,
             "#d8576b"
            ],
            [
             0.6666666666666666,
             "#ed7953"
            ],
            [
             0.7777777777777778,
             "#fb9f3a"
            ],
            [
             0.8888888888888888,
             "#fdca26"
            ],
            [
             1,
             "#f0f921"
            ]
           ]
          },
          "colorway": [
           "#636efa",
           "#EF553B",
           "#00cc96",
           "#ab63fa",
           "#FFA15A",
           "#19d3f3",
           "#FF6692",
           "#B6E880",
           "#FF97FF",
           "#FECB52"
          ],
          "font": {
           "color": "#2a3f5f"
          },
          "geo": {
           "bgcolor": "white",
           "lakecolor": "white",
           "landcolor": "#E5ECF6",
           "showlakes": true,
           "showland": true,
           "subunitcolor": "white"
          },
          "hoverlabel": {
           "align": "left"
          },
          "hovermode": "closest",
          "mapbox": {
           "style": "light"
          },
          "paper_bgcolor": "white",
          "plot_bgcolor": "#E5ECF6",
          "polar": {
           "angularaxis": {
            "gridcolor": "white",
            "linecolor": "white",
            "ticks": ""
           },
           "bgcolor": "#E5ECF6",
           "radialaxis": {
            "gridcolor": "white",
            "linecolor": "white",
            "ticks": ""
           }
          },
          "scene": {
           "xaxis": {
            "backgroundcolor": "#E5ECF6",
            "gridcolor": "white",
            "gridwidth": 2,
            "linecolor": "white",
            "showbackground": true,
            "ticks": "",
            "zerolinecolor": "white"
           },
           "yaxis": {
            "backgroundcolor": "#E5ECF6",
            "gridcolor": "white",
            "gridwidth": 2,
            "linecolor": "white",
            "showbackground": true,
            "ticks": "",
            "zerolinecolor": "white"
           },
           "zaxis": {
            "backgroundcolor": "#E5ECF6",
            "gridcolor": "white",
            "gridwidth": 2,
            "linecolor": "white",
            "showbackground": true,
            "ticks": "",
            "zerolinecolor": "white"
           }
          },
          "shapedefaults": {
           "line": {
            "color": "#2a3f5f"
           }
          },
          "ternary": {
           "aaxis": {
            "gridcolor": "white",
            "linecolor": "white",
            "ticks": ""
           },
           "baxis": {
            "gridcolor": "white",
            "linecolor": "white",
            "ticks": ""
           },
           "bgcolor": "#E5ECF6",
           "caxis": {
            "gridcolor": "white",
            "linecolor": "white",
            "ticks": ""
           }
          },
          "title": {
           "x": 0.05
          },
          "xaxis": {
           "automargin": true,
           "gridcolor": "white",
           "linecolor": "white",
           "ticks": "",
           "title": {
            "standoff": 15
           },
           "zerolinecolor": "white",
           "zerolinewidth": 2
          },
          "yaxis": {
           "automargin": true,
           "gridcolor": "white",
           "linecolor": "white",
           "ticks": "",
           "title": {
            "standoff": 15
           },
           "zerolinecolor": "white",
           "zerolinewidth": 2
          }
         }
        },
        "title": {
         "text": "Range of Motion Parameters"
        },
        "xaxis": {
         "tickfont": {
          "color": "#7f7f7f",
          "family": "Courier New, monospace",
          "size": 14
         },
         "title": {
          "font": {
           "color": "#7f7f7f",
           "family": "Courier New, monospace",
           "size": 18
          },
          "text": "Month"
         }
        },
        "yaxis": {
         "tickfont": {
          "color": "#7f7f7f",
          "family": "Courier New, monospace",
          "size": 14
         },
         "title": {
          "font": {
           "color": "#7f7f7f",
           "family": "Courier New, monospace",
           "size": 18
          },
          "text": "ROM kneeLeft [degrees]"
         }
        }
       }
      },
      "text/html": [
       "<div>                            <div id=\"e07f9712-6e30-4f1d-b1b8-b52dbb3d9b82\" class=\"plotly-graph-div\" style=\"height:525px; width:100%;\"></div>            <script type=\"text/javascript\">                require([\"plotly\"], function(Plotly) {                    window.PLOTLYENV=window.PLOTLYENV || {};                                    if (document.getElementById(\"e07f9712-6e30-4f1d-b1b8-b52dbb3d9b82\")) {                    Plotly.newPlot(                        \"e07f9712-6e30-4f1d-b1b8-b52dbb3d9b82\",                        [{\"marker\":{\"color\":\"rgb(0,0,255)\"},\"name\":\"Maximum value reached\",\"x\":[1,2,3,4,5,6,7,8,9,10,11,12],\"y\":[73.56973556949937,0,0,0,0,0,0,0,0,0,0,0],\"type\":\"bar\"},{\"marker\":{\"color\":\"rgb(255,0,0)\"},\"name\":\"Minimum value reached\",\"x\":[1,2,3,4,5,6,7,8,9,10,11,12],\"y\":[64.59852949275427,0,0,0,0,0,0,0,0,0,0,0],\"type\":\"bar\"}],                        {\"bargap\":0.1,\"bargroupgap\":0.0,\"barmode\":\"group\",\"font\":{\"color\":\"black\",\"family\":\"Courier New, monospace\",\"size\":18},\"legend\":{\"bgcolor\":\"rgba(255, 255, 255, 0)\",\"bordercolor\":\"rgba(255, 255, 255, 0)\"},\"template\":{\"data\":{\"barpolar\":[{\"marker\":{\"line\":{\"color\":\"#E5ECF6\",\"width\":0.5},\"pattern\":{\"fillmode\":\"overlay\",\"size\":10,\"solidity\":0.2}},\"type\":\"barpolar\"}],\"bar\":[{\"error_x\":{\"color\":\"#2a3f5f\"},\"error_y\":{\"color\":\"#2a3f5f\"},\"marker\":{\"line\":{\"color\":\"#E5ECF6\",\"width\":0.5},\"pattern\":{\"fillmode\":\"overlay\",\"size\":10,\"solidity\":0.2}},\"type\":\"bar\"}],\"carpet\":[{\"aaxis\":{\"endlinecolor\":\"#2a3f5f\",\"gridcolor\":\"white\",\"linecolor\":\"white\",\"minorgridcolor\":\"white\",\"startlinecolor\":\"#2a3f5f\"},\"baxis\":{\"endlinecolor\":\"#2a3f5f\",\"gridcolor\":\"white\",\"linecolor\":\"white\",\"minorgridcolor\":\"white\",\"startlinecolor\":\"#2a3f5f\"},\"type\":\"carpet\"}],\"choropleth\":[{\"colorbar\":{\"outlinewidth\":0,\"ticks\":\"\"},\"type\":\"choropleth\"}],\"contourcarpet\":[{\"colorbar\":{\"outlinewidth\":0,\"ticks\":\"\"},\"type\":\"contourcarpet\"}],\"contour\":[{\"colorbar\":{\"outlinewidth\":0,\"ticks\":\"\"},\"colorscale\":[[0.0,\"#0d0887\"],[0.1111111111111111,\"#46039f\"],[0.2222222222222222,\"#7201a8\"],[0.3333333333333333,\"#9c179e\"],[0.4444444444444444,\"#bd3786\"],[0.5555555555555556,\"#d8576b\"],[0.6666666666666666,\"#ed7953\"],[0.7777777777777778,\"#fb9f3a\"],[0.8888888888888888,\"#fdca26\"],[1.0,\"#f0f921\"]],\"type\":\"contour\"}],\"heatmapgl\":[{\"colorbar\":{\"outlinewidth\":0,\"ticks\":\"\"},\"colorscale\":[[0.0,\"#0d0887\"],[0.1111111111111111,\"#46039f\"],[0.2222222222222222,\"#7201a8\"],[0.3333333333333333,\"#9c179e\"],[0.4444444444444444,\"#bd3786\"],[0.5555555555555556,\"#d8576b\"],[0.6666666666666666,\"#ed7953\"],[0.7777777777777778,\"#fb9f3a\"],[0.8888888888888888,\"#fdca26\"],[1.0,\"#f0f921\"]],\"type\":\"heatmapgl\"}],\"heatmap\":[{\"colorbar\":{\"outlinewidth\":0,\"ticks\":\"\"},\"colorscale\":[[0.0,\"#0d0887\"],[0.1111111111111111,\"#46039f\"],[0.2222222222222222,\"#7201a8\"],[0.3333333333333333,\"#9c179e\"],[0.4444444444444444,\"#bd3786\"],[0.5555555555555556,\"#d8576b\"],[0.6666666666666666,\"#ed7953\"],[0.7777777777777778,\"#fb9f3a\"],[0.8888888888888888,\"#fdca26\"],[1.0,\"#f0f921\"]],\"type\":\"heatmap\"}],\"histogram2dcontour\":[{\"colorbar\":{\"outlinewidth\":0,\"ticks\":\"\"},\"colorscale\":[[0.0,\"#0d0887\"],[0.1111111111111111,\"#46039f\"],[0.2222222222222222,\"#7201a8\"],[0.3333333333333333,\"#9c179e\"],[0.4444444444444444,\"#bd3786\"],[0.5555555555555556,\"#d8576b\"],[0.6666666666666666,\"#ed7953\"],[0.7777777777777778,\"#fb9f3a\"],[0.8888888888888888,\"#fdca26\"],[1.0,\"#f0f921\"]],\"type\":\"histogram2dcontour\"}],\"histogram2d\":[{\"colorbar\":{\"outlinewidth\":0,\"ticks\":\"\"},\"colorscale\":[[0.0,\"#0d0887\"],[0.1111111111111111,\"#46039f\"],[0.2222222222222222,\"#7201a8\"],[0.3333333333333333,\"#9c179e\"],[0.4444444444444444,\"#bd3786\"],[0.5555555555555556,\"#d8576b\"],[0.6666666666666666,\"#ed7953\"],[0.7777777777777778,\"#fb9f3a\"],[0.8888888888888888,\"#fdca26\"],[1.0,\"#f0f921\"]],\"type\":\"histogram2d\"}],\"histogram\":[{\"marker\":{\"pattern\":{\"fillmode\":\"overlay\",\"size\":10,\"solidity\":0.2}},\"type\":\"histogram\"}],\"mesh3d\":[{\"colorbar\":{\"outlinewidth\":0,\"ticks\":\"\"},\"type\":\"mesh3d\"}],\"parcoords\":[{\"line\":{\"colorbar\":{\"outlinewidth\":0,\"ticks\":\"\"}},\"type\":\"parcoords\"}],\"pie\":[{\"automargin\":true,\"type\":\"pie\"}],\"scatter3d\":[{\"line\":{\"colorbar\":{\"outlinewidth\":0,\"ticks\":\"\"}},\"marker\":{\"colorbar\":{\"outlinewidth\":0,\"ticks\":\"\"}},\"type\":\"scatter3d\"}],\"scattercarpet\":[{\"marker\":{\"colorbar\":{\"outlinewidth\":0,\"ticks\":\"\"}},\"type\":\"scattercarpet\"}],\"scattergeo\":[{\"marker\":{\"colorbar\":{\"outlinewidth\":0,\"ticks\":\"\"}},\"type\":\"scattergeo\"}],\"scattergl\":[{\"marker\":{\"colorbar\":{\"outlinewidth\":0,\"ticks\":\"\"}},\"type\":\"scattergl\"}],\"scattermapbox\":[{\"marker\":{\"colorbar\":{\"outlinewidth\":0,\"ticks\":\"\"}},\"type\":\"scattermapbox\"}],\"scatterpolargl\":[{\"marker\":{\"colorbar\":{\"outlinewidth\":0,\"ticks\":\"\"}},\"type\":\"scatterpolargl\"}],\"scatterpolar\":[{\"marker\":{\"colorbar\":{\"outlinewidth\":0,\"ticks\":\"\"}},\"type\":\"scatterpolar\"}],\"scatter\":[{\"fillpattern\":{\"fillmode\":\"overlay\",\"size\":10,\"solidity\":0.2},\"type\":\"scatter\"}],\"scatterternary\":[{\"marker\":{\"colorbar\":{\"outlinewidth\":0,\"ticks\":\"\"}},\"type\":\"scatterternary\"}],\"surface\":[{\"colorbar\":{\"outlinewidth\":0,\"ticks\":\"\"},\"colorscale\":[[0.0,\"#0d0887\"],[0.1111111111111111,\"#46039f\"],[0.2222222222222222,\"#7201a8\"],[0.3333333333333333,\"#9c179e\"],[0.4444444444444444,\"#bd3786\"],[0.5555555555555556,\"#d8576b\"],[0.6666666666666666,\"#ed7953\"],[0.7777777777777778,\"#fb9f3a\"],[0.8888888888888888,\"#fdca26\"],[1.0,\"#f0f921\"]],\"type\":\"surface\"}],\"table\":[{\"cells\":{\"fill\":{\"color\":\"#EBF0F8\"},\"line\":{\"color\":\"white\"}},\"header\":{\"fill\":{\"color\":\"#C8D4E3\"},\"line\":{\"color\":\"white\"}},\"type\":\"table\"}]},\"layout\":{\"annotationdefaults\":{\"arrowcolor\":\"#2a3f5f\",\"arrowhead\":0,\"arrowwidth\":1},\"autotypenumbers\":\"strict\",\"coloraxis\":{\"colorbar\":{\"outlinewidth\":0,\"ticks\":\"\"}},\"colorscale\":{\"diverging\":[[0,\"#8e0152\"],[0.1,\"#c51b7d\"],[0.2,\"#de77ae\"],[0.3,\"#f1b6da\"],[0.4,\"#fde0ef\"],[0.5,\"#f7f7f7\"],[0.6,\"#e6f5d0\"],[0.7,\"#b8e186\"],[0.8,\"#7fbc41\"],[0.9,\"#4d9221\"],[1,\"#276419\"]],\"sequential\":[[0.0,\"#0d0887\"],[0.1111111111111111,\"#46039f\"],[0.2222222222222222,\"#7201a8\"],[0.3333333333333333,\"#9c179e\"],[0.4444444444444444,\"#bd3786\"],[0.5555555555555556,\"#d8576b\"],[0.6666666666666666,\"#ed7953\"],[0.7777777777777778,\"#fb9f3a\"],[0.8888888888888888,\"#fdca26\"],[1.0,\"#f0f921\"]],\"sequentialminus\":[[0.0,\"#0d0887\"],[0.1111111111111111,\"#46039f\"],[0.2222222222222222,\"#7201a8\"],[0.3333333333333333,\"#9c179e\"],[0.4444444444444444,\"#bd3786\"],[0.5555555555555556,\"#d8576b\"],[0.6666666666666666,\"#ed7953\"],[0.7777777777777778,\"#fb9f3a\"],[0.8888888888888888,\"#fdca26\"],[1.0,\"#f0f921\"]]},\"colorway\":[\"#636efa\",\"#EF553B\",\"#00cc96\",\"#ab63fa\",\"#FFA15A\",\"#19d3f3\",\"#FF6692\",\"#B6E880\",\"#FF97FF\",\"#FECB52\"],\"font\":{\"color\":\"#2a3f5f\"},\"geo\":{\"bgcolor\":\"white\",\"lakecolor\":\"white\",\"landcolor\":\"#E5ECF6\",\"showlakes\":true,\"showland\":true,\"subunitcolor\":\"white\"},\"hoverlabel\":{\"align\":\"left\"},\"hovermode\":\"closest\",\"mapbox\":{\"style\":\"light\"},\"paper_bgcolor\":\"white\",\"plot_bgcolor\":\"#E5ECF6\",\"polar\":{\"angularaxis\":{\"gridcolor\":\"white\",\"linecolor\":\"white\",\"ticks\":\"\"},\"bgcolor\":\"#E5ECF6\",\"radialaxis\":{\"gridcolor\":\"white\",\"linecolor\":\"white\",\"ticks\":\"\"}},\"scene\":{\"xaxis\":{\"backgroundcolor\":\"#E5ECF6\",\"gridcolor\":\"white\",\"gridwidth\":2,\"linecolor\":\"white\",\"showbackground\":true,\"ticks\":\"\",\"zerolinecolor\":\"white\"},\"yaxis\":{\"backgroundcolor\":\"#E5ECF6\",\"gridcolor\":\"white\",\"gridwidth\":2,\"linecolor\":\"white\",\"showbackground\":true,\"ticks\":\"\",\"zerolinecolor\":\"white\"},\"zaxis\":{\"backgroundcolor\":\"#E5ECF6\",\"gridcolor\":\"white\",\"gridwidth\":2,\"linecolor\":\"white\",\"showbackground\":true,\"ticks\":\"\",\"zerolinecolor\":\"white\"}},\"shapedefaults\":{\"line\":{\"color\":\"#2a3f5f\"}},\"ternary\":{\"aaxis\":{\"gridcolor\":\"white\",\"linecolor\":\"white\",\"ticks\":\"\"},\"baxis\":{\"gridcolor\":\"white\",\"linecolor\":\"white\",\"ticks\":\"\"},\"bgcolor\":\"#E5ECF6\",\"caxis\":{\"gridcolor\":\"white\",\"linecolor\":\"white\",\"ticks\":\"\"}},\"title\":{\"x\":0.05},\"xaxis\":{\"automargin\":true,\"gridcolor\":\"white\",\"linecolor\":\"white\",\"ticks\":\"\",\"title\":{\"standoff\":15},\"zerolinecolor\":\"white\",\"zerolinewidth\":2},\"yaxis\":{\"automargin\":true,\"gridcolor\":\"white\",\"linecolor\":\"white\",\"ticks\":\"\",\"title\":{\"standoff\":15},\"zerolinecolor\":\"white\",\"zerolinewidth\":2}}},\"title\":{\"text\":\"Range of Motion Parameters\"},\"xaxis\":{\"tickfont\":{\"color\":\"#7f7f7f\",\"family\":\"Courier New, monospace\",\"size\":14},\"title\":{\"font\":{\"color\":\"#7f7f7f\",\"family\":\"Courier New, monospace\",\"size\":18},\"text\":\"Month\"}},\"yaxis\":{\"tickfont\":{\"color\":\"#7f7f7f\",\"family\":\"Courier New, monospace\",\"size\":14},\"title\":{\"font\":{\"color\":\"#7f7f7f\",\"family\":\"Courier New, monospace\",\"size\":18},\"text\":\"ROM kneeLeft [degrees]\"}}},                        {\"responsive\": true}                    ).then(function(){\n",
       "                            \n",
       "var gd = document.getElementById('e07f9712-6e30-4f1d-b1b8-b52dbb3d9b82');\n",
       "var x = new MutationObserver(function (mutations, observer) {{\n",
       "        var display = window.getComputedStyle(gd).display;\n",
       "        if (!display || display === 'none') {{\n",
       "            console.log([gd, 'removed!']);\n",
       "            Plotly.purge(gd);\n",
       "            observer.disconnect();\n",
       "        }}\n",
       "}});\n",
       "\n",
       "// Listen for the removal of the full notebook cells\n",
       "var notebookContainer = gd.closest('#notebook-container');\n",
       "if (notebookContainer) {{\n",
       "    x.observe(notebookContainer, {childList: true});\n",
       "}}\n",
       "\n",
       "// Listen for the clearing of the current output cell\n",
       "var outputEl = gd.closest('.output');\n",
       "if (outputEl) {{\n",
       "    x.observe(outputEl, {childList: true});\n",
       "}}\n",
       "\n",
       "                        })                };                });            </script>        </div>"
      ]
     },
     "metadata": {},
     "output_type": "display_data"
    },
    {
     "data": {
      "application/vnd.plotly.v1+json": {
       "config": {
        "linkText": "Export to plot.ly",
        "plotlyServerURL": "https://plot.ly",
        "showLink": false
       },
       "data": [
        {
         "marker": {
          "color": "rgb(0,0,255)"
         },
         "name": "Maximum value reached",
         "type": "bar",
         "x": [
          1,
          2,
          3,
          4,
          5,
          6,
          7,
          8,
          9,
          10,
          11,
          12
         ],
         "y": [
          90,
          0,
          0,
          0,
          0,
          0,
          0,
          0,
          0,
          0,
          0,
          0
         ]
        },
        {
         "marker": {
          "color": "rgb(255,0,0)"
         },
         "name": "Minimum value reached",
         "type": "bar",
         "x": [
          1,
          2,
          3,
          4,
          5,
          6,
          7,
          8,
          9,
          10,
          11,
          12
         ],
         "y": [
          90,
          0,
          0,
          0,
          0,
          0,
          0,
          0,
          0,
          0,
          0,
          0
         ]
        }
       ],
       "layout": {
        "bargap": 0.1,
        "bargroupgap": 0,
        "barmode": "group",
        "font": {
         "color": "black",
         "family": "Courier New, monospace",
         "size": 18
        },
        "legend": {
         "bgcolor": "rgba(255, 255, 255, 0)",
         "bordercolor": "rgba(255, 255, 255, 0)"
        },
        "template": {
         "data": {
          "bar": [
           {
            "error_x": {
             "color": "#2a3f5f"
            },
            "error_y": {
             "color": "#2a3f5f"
            },
            "marker": {
             "line": {
              "color": "#E5ECF6",
              "width": 0.5
             },
             "pattern": {
              "fillmode": "overlay",
              "size": 10,
              "solidity": 0.2
             }
            },
            "type": "bar"
           }
          ],
          "barpolar": [
           {
            "marker": {
             "line": {
              "color": "#E5ECF6",
              "width": 0.5
             },
             "pattern": {
              "fillmode": "overlay",
              "size": 10,
              "solidity": 0.2
             }
            },
            "type": "barpolar"
           }
          ],
          "carpet": [
           {
            "aaxis": {
             "endlinecolor": "#2a3f5f",
             "gridcolor": "white",
             "linecolor": "white",
             "minorgridcolor": "white",
             "startlinecolor": "#2a3f5f"
            },
            "baxis": {
             "endlinecolor": "#2a3f5f",
             "gridcolor": "white",
             "linecolor": "white",
             "minorgridcolor": "white",
             "startlinecolor": "#2a3f5f"
            },
            "type": "carpet"
           }
          ],
          "choropleth": [
           {
            "colorbar": {
             "outlinewidth": 0,
             "ticks": ""
            },
            "type": "choropleth"
           }
          ],
          "contour": [
           {
            "colorbar": {
             "outlinewidth": 0,
             "ticks": ""
            },
            "colorscale": [
             [
              0,
              "#0d0887"
             ],
             [
              0.1111111111111111,
              "#46039f"
             ],
             [
              0.2222222222222222,
              "#7201a8"
             ],
             [
              0.3333333333333333,
              "#9c179e"
             ],
             [
              0.4444444444444444,
              "#bd3786"
             ],
             [
              0.5555555555555556,
              "#d8576b"
             ],
             [
              0.6666666666666666,
              "#ed7953"
             ],
             [
              0.7777777777777778,
              "#fb9f3a"
             ],
             [
              0.8888888888888888,
              "#fdca26"
             ],
             [
              1,
              "#f0f921"
             ]
            ],
            "type": "contour"
           }
          ],
          "contourcarpet": [
           {
            "colorbar": {
             "outlinewidth": 0,
             "ticks": ""
            },
            "type": "contourcarpet"
           }
          ],
          "heatmap": [
           {
            "colorbar": {
             "outlinewidth": 0,
             "ticks": ""
            },
            "colorscale": [
             [
              0,
              "#0d0887"
             ],
             [
              0.1111111111111111,
              "#46039f"
             ],
             [
              0.2222222222222222,
              "#7201a8"
             ],
             [
              0.3333333333333333,
              "#9c179e"
             ],
             [
              0.4444444444444444,
              "#bd3786"
             ],
             [
              0.5555555555555556,
              "#d8576b"
             ],
             [
              0.6666666666666666,
              "#ed7953"
             ],
             [
              0.7777777777777778,
              "#fb9f3a"
             ],
             [
              0.8888888888888888,
              "#fdca26"
             ],
             [
              1,
              "#f0f921"
             ]
            ],
            "type": "heatmap"
           }
          ],
          "heatmapgl": [
           {
            "colorbar": {
             "outlinewidth": 0,
             "ticks": ""
            },
            "colorscale": [
             [
              0,
              "#0d0887"
             ],
             [
              0.1111111111111111,
              "#46039f"
             ],
             [
              0.2222222222222222,
              "#7201a8"
             ],
             [
              0.3333333333333333,
              "#9c179e"
             ],
             [
              0.4444444444444444,
              "#bd3786"
             ],
             [
              0.5555555555555556,
              "#d8576b"
             ],
             [
              0.6666666666666666,
              "#ed7953"
             ],
             [
              0.7777777777777778,
              "#fb9f3a"
             ],
             [
              0.8888888888888888,
              "#fdca26"
             ],
             [
              1,
              "#f0f921"
             ]
            ],
            "type": "heatmapgl"
           }
          ],
          "histogram": [
           {
            "marker": {
             "pattern": {
              "fillmode": "overlay",
              "size": 10,
              "solidity": 0.2
             }
            },
            "type": "histogram"
           }
          ],
          "histogram2d": [
           {
            "colorbar": {
             "outlinewidth": 0,
             "ticks": ""
            },
            "colorscale": [
             [
              0,
              "#0d0887"
             ],
             [
              0.1111111111111111,
              "#46039f"
             ],
             [
              0.2222222222222222,
              "#7201a8"
             ],
             [
              0.3333333333333333,
              "#9c179e"
             ],
             [
              0.4444444444444444,
              "#bd3786"
             ],
             [
              0.5555555555555556,
              "#d8576b"
             ],
             [
              0.6666666666666666,
              "#ed7953"
             ],
             [
              0.7777777777777778,
              "#fb9f3a"
             ],
             [
              0.8888888888888888,
              "#fdca26"
             ],
             [
              1,
              "#f0f921"
             ]
            ],
            "type": "histogram2d"
           }
          ],
          "histogram2dcontour": [
           {
            "colorbar": {
             "outlinewidth": 0,
             "ticks": ""
            },
            "colorscale": [
             [
              0,
              "#0d0887"
             ],
             [
              0.1111111111111111,
              "#46039f"
             ],
             [
              0.2222222222222222,
              "#7201a8"
             ],
             [
              0.3333333333333333,
              "#9c179e"
             ],
             [
              0.4444444444444444,
              "#bd3786"
             ],
             [
              0.5555555555555556,
              "#d8576b"
             ],
             [
              0.6666666666666666,
              "#ed7953"
             ],
             [
              0.7777777777777778,
              "#fb9f3a"
             ],
             [
              0.8888888888888888,
              "#fdca26"
             ],
             [
              1,
              "#f0f921"
             ]
            ],
            "type": "histogram2dcontour"
           }
          ],
          "mesh3d": [
           {
            "colorbar": {
             "outlinewidth": 0,
             "ticks": ""
            },
            "type": "mesh3d"
           }
          ],
          "parcoords": [
           {
            "line": {
             "colorbar": {
              "outlinewidth": 0,
              "ticks": ""
             }
            },
            "type": "parcoords"
           }
          ],
          "pie": [
           {
            "automargin": true,
            "type": "pie"
           }
          ],
          "scatter": [
           {
            "fillpattern": {
             "fillmode": "overlay",
             "size": 10,
             "solidity": 0.2
            },
            "type": "scatter"
           }
          ],
          "scatter3d": [
           {
            "line": {
             "colorbar": {
              "outlinewidth": 0,
              "ticks": ""
             }
            },
            "marker": {
             "colorbar": {
              "outlinewidth": 0,
              "ticks": ""
             }
            },
            "type": "scatter3d"
           }
          ],
          "scattercarpet": [
           {
            "marker": {
             "colorbar": {
              "outlinewidth": 0,
              "ticks": ""
             }
            },
            "type": "scattercarpet"
           }
          ],
          "scattergeo": [
           {
            "marker": {
             "colorbar": {
              "outlinewidth": 0,
              "ticks": ""
             }
            },
            "type": "scattergeo"
           }
          ],
          "scattergl": [
           {
            "marker": {
             "colorbar": {
              "outlinewidth": 0,
              "ticks": ""
             }
            },
            "type": "scattergl"
           }
          ],
          "scattermapbox": [
           {
            "marker": {
             "colorbar": {
              "outlinewidth": 0,
              "ticks": ""
             }
            },
            "type": "scattermapbox"
           }
          ],
          "scatterpolar": [
           {
            "marker": {
             "colorbar": {
              "outlinewidth": 0,
              "ticks": ""
             }
            },
            "type": "scatterpolar"
           }
          ],
          "scatterpolargl": [
           {
            "marker": {
             "colorbar": {
              "outlinewidth": 0,
              "ticks": ""
             }
            },
            "type": "scatterpolargl"
           }
          ],
          "scatterternary": [
           {
            "marker": {
             "colorbar": {
              "outlinewidth": 0,
              "ticks": ""
             }
            },
            "type": "scatterternary"
           }
          ],
          "surface": [
           {
            "colorbar": {
             "outlinewidth": 0,
             "ticks": ""
            },
            "colorscale": [
             [
              0,
              "#0d0887"
             ],
             [
              0.1111111111111111,
              "#46039f"
             ],
             [
              0.2222222222222222,
              "#7201a8"
             ],
             [
              0.3333333333333333,
              "#9c179e"
             ],
             [
              0.4444444444444444,
              "#bd3786"
             ],
             [
              0.5555555555555556,
              "#d8576b"
             ],
             [
              0.6666666666666666,
              "#ed7953"
             ],
             [
              0.7777777777777778,
              "#fb9f3a"
             ],
             [
              0.8888888888888888,
              "#fdca26"
             ],
             [
              1,
              "#f0f921"
             ]
            ],
            "type": "surface"
           }
          ],
          "table": [
           {
            "cells": {
             "fill": {
              "color": "#EBF0F8"
             },
             "line": {
              "color": "white"
             }
            },
            "header": {
             "fill": {
              "color": "#C8D4E3"
             },
             "line": {
              "color": "white"
             }
            },
            "type": "table"
           }
          ]
         },
         "layout": {
          "annotationdefaults": {
           "arrowcolor": "#2a3f5f",
           "arrowhead": 0,
           "arrowwidth": 1
          },
          "autotypenumbers": "strict",
          "coloraxis": {
           "colorbar": {
            "outlinewidth": 0,
            "ticks": ""
           }
          },
          "colorscale": {
           "diverging": [
            [
             0,
             "#8e0152"
            ],
            [
             0.1,
             "#c51b7d"
            ],
            [
             0.2,
             "#de77ae"
            ],
            [
             0.3,
             "#f1b6da"
            ],
            [
             0.4,
             "#fde0ef"
            ],
            [
             0.5,
             "#f7f7f7"
            ],
            [
             0.6,
             "#e6f5d0"
            ],
            [
             0.7,
             "#b8e186"
            ],
            [
             0.8,
             "#7fbc41"
            ],
            [
             0.9,
             "#4d9221"
            ],
            [
             1,
             "#276419"
            ]
           ],
           "sequential": [
            [
             0,
             "#0d0887"
            ],
            [
             0.1111111111111111,
             "#46039f"
            ],
            [
             0.2222222222222222,
             "#7201a8"
            ],
            [
             0.3333333333333333,
             "#9c179e"
            ],
            [
             0.4444444444444444,
             "#bd3786"
            ],
            [
             0.5555555555555556,
             "#d8576b"
            ],
            [
             0.6666666666666666,
             "#ed7953"
            ],
            [
             0.7777777777777778,
             "#fb9f3a"
            ],
            [
             0.8888888888888888,
             "#fdca26"
            ],
            [
             1,
             "#f0f921"
            ]
           ],
           "sequentialminus": [
            [
             0,
             "#0d0887"
            ],
            [
             0.1111111111111111,
             "#46039f"
            ],
            [
             0.2222222222222222,
             "#7201a8"
            ],
            [
             0.3333333333333333,
             "#9c179e"
            ],
            [
             0.4444444444444444,
             "#bd3786"
            ],
            [
             0.5555555555555556,
             "#d8576b"
            ],
            [
             0.6666666666666666,
             "#ed7953"
            ],
            [
             0.7777777777777778,
             "#fb9f3a"
            ],
            [
             0.8888888888888888,
             "#fdca26"
            ],
            [
             1,
             "#f0f921"
            ]
           ]
          },
          "colorway": [
           "#636efa",
           "#EF553B",
           "#00cc96",
           "#ab63fa",
           "#FFA15A",
           "#19d3f3",
           "#FF6692",
           "#B6E880",
           "#FF97FF",
           "#FECB52"
          ],
          "font": {
           "color": "#2a3f5f"
          },
          "geo": {
           "bgcolor": "white",
           "lakecolor": "white",
           "landcolor": "#E5ECF6",
           "showlakes": true,
           "showland": true,
           "subunitcolor": "white"
          },
          "hoverlabel": {
           "align": "left"
          },
          "hovermode": "closest",
          "mapbox": {
           "style": "light"
          },
          "paper_bgcolor": "white",
          "plot_bgcolor": "#E5ECF6",
          "polar": {
           "angularaxis": {
            "gridcolor": "white",
            "linecolor": "white",
            "ticks": ""
           },
           "bgcolor": "#E5ECF6",
           "radialaxis": {
            "gridcolor": "white",
            "linecolor": "white",
            "ticks": ""
           }
          },
          "scene": {
           "xaxis": {
            "backgroundcolor": "#E5ECF6",
            "gridcolor": "white",
            "gridwidth": 2,
            "linecolor": "white",
            "showbackground": true,
            "ticks": "",
            "zerolinecolor": "white"
           },
           "yaxis": {
            "backgroundcolor": "#E5ECF6",
            "gridcolor": "white",
            "gridwidth": 2,
            "linecolor": "white",
            "showbackground": true,
            "ticks": "",
            "zerolinecolor": "white"
           },
           "zaxis": {
            "backgroundcolor": "#E5ECF6",
            "gridcolor": "white",
            "gridwidth": 2,
            "linecolor": "white",
            "showbackground": true,
            "ticks": "",
            "zerolinecolor": "white"
           }
          },
          "shapedefaults": {
           "line": {
            "color": "#2a3f5f"
           }
          },
          "ternary": {
           "aaxis": {
            "gridcolor": "white",
            "linecolor": "white",
            "ticks": ""
           },
           "baxis": {
            "gridcolor": "white",
            "linecolor": "white",
            "ticks": ""
           },
           "bgcolor": "#E5ECF6",
           "caxis": {
            "gridcolor": "white",
            "linecolor": "white",
            "ticks": ""
           }
          },
          "title": {
           "x": 0.05
          },
          "xaxis": {
           "automargin": true,
           "gridcolor": "white",
           "linecolor": "white",
           "ticks": "",
           "title": {
            "standoff": 15
           },
           "zerolinecolor": "white",
           "zerolinewidth": 2
          },
          "yaxis": {
           "automargin": true,
           "gridcolor": "white",
           "linecolor": "white",
           "ticks": "",
           "title": {
            "standoff": 15
           },
           "zerolinecolor": "white",
           "zerolinewidth": 2
          }
         }
        },
        "title": {
         "text": "Range of Motion Parameters"
        },
        "xaxis": {
         "tickfont": {
          "color": "#7f7f7f",
          "family": "Courier New, monospace",
          "size": 14
         },
         "title": {
          "font": {
           "color": "#7f7f7f",
           "family": "Courier New, monospace",
           "size": 18
          },
          "text": "Month"
         }
        },
        "yaxis": {
         "tickfont": {
          "color": "#7f7f7f",
          "family": "Courier New, monospace",
          "size": 14
         },
         "title": {
          "font": {
           "color": "#7f7f7f",
           "family": "Courier New, monospace",
           "size": 18
          },
          "text": "ROM ankleLeft [degrees]"
         }
        }
       }
      },
      "text/html": [
       "<div>                            <div id=\"e286f908-7af6-45c4-96fb-a434cd4fde9a\" class=\"plotly-graph-div\" style=\"height:525px; width:100%;\"></div>            <script type=\"text/javascript\">                require([\"plotly\"], function(Plotly) {                    window.PLOTLYENV=window.PLOTLYENV || {};                                    if (document.getElementById(\"e286f908-7af6-45c4-96fb-a434cd4fde9a\")) {                    Plotly.newPlot(                        \"e286f908-7af6-45c4-96fb-a434cd4fde9a\",                        [{\"marker\":{\"color\":\"rgb(0,0,255)\"},\"name\":\"Maximum value reached\",\"x\":[1,2,3,4,5,6,7,8,9,10,11,12],\"y\":[90.0,0,0,0,0,0,0,0,0,0,0,0],\"type\":\"bar\"},{\"marker\":{\"color\":\"rgb(255,0,0)\"},\"name\":\"Minimum value reached\",\"x\":[1,2,3,4,5,6,7,8,9,10,11,12],\"y\":[90.0,0,0,0,0,0,0,0,0,0,0,0],\"type\":\"bar\"}],                        {\"bargap\":0.1,\"bargroupgap\":0.0,\"barmode\":\"group\",\"font\":{\"color\":\"black\",\"family\":\"Courier New, monospace\",\"size\":18},\"legend\":{\"bgcolor\":\"rgba(255, 255, 255, 0)\",\"bordercolor\":\"rgba(255, 255, 255, 0)\"},\"template\":{\"data\":{\"barpolar\":[{\"marker\":{\"line\":{\"color\":\"#E5ECF6\",\"width\":0.5},\"pattern\":{\"fillmode\":\"overlay\",\"size\":10,\"solidity\":0.2}},\"type\":\"barpolar\"}],\"bar\":[{\"error_x\":{\"color\":\"#2a3f5f\"},\"error_y\":{\"color\":\"#2a3f5f\"},\"marker\":{\"line\":{\"color\":\"#E5ECF6\",\"width\":0.5},\"pattern\":{\"fillmode\":\"overlay\",\"size\":10,\"solidity\":0.2}},\"type\":\"bar\"}],\"carpet\":[{\"aaxis\":{\"endlinecolor\":\"#2a3f5f\",\"gridcolor\":\"white\",\"linecolor\":\"white\",\"minorgridcolor\":\"white\",\"startlinecolor\":\"#2a3f5f\"},\"baxis\":{\"endlinecolor\":\"#2a3f5f\",\"gridcolor\":\"white\",\"linecolor\":\"white\",\"minorgridcolor\":\"white\",\"startlinecolor\":\"#2a3f5f\"},\"type\":\"carpet\"}],\"choropleth\":[{\"colorbar\":{\"outlinewidth\":0,\"ticks\":\"\"},\"type\":\"choropleth\"}],\"contourcarpet\":[{\"colorbar\":{\"outlinewidth\":0,\"ticks\":\"\"},\"type\":\"contourcarpet\"}],\"contour\":[{\"colorbar\":{\"outlinewidth\":0,\"ticks\":\"\"},\"colorscale\":[[0.0,\"#0d0887\"],[0.1111111111111111,\"#46039f\"],[0.2222222222222222,\"#7201a8\"],[0.3333333333333333,\"#9c179e\"],[0.4444444444444444,\"#bd3786\"],[0.5555555555555556,\"#d8576b\"],[0.6666666666666666,\"#ed7953\"],[0.7777777777777778,\"#fb9f3a\"],[0.8888888888888888,\"#fdca26\"],[1.0,\"#f0f921\"]],\"type\":\"contour\"}],\"heatmapgl\":[{\"colorbar\":{\"outlinewidth\":0,\"ticks\":\"\"},\"colorscale\":[[0.0,\"#0d0887\"],[0.1111111111111111,\"#46039f\"],[0.2222222222222222,\"#7201a8\"],[0.3333333333333333,\"#9c179e\"],[0.4444444444444444,\"#bd3786\"],[0.5555555555555556,\"#d8576b\"],[0.6666666666666666,\"#ed7953\"],[0.7777777777777778,\"#fb9f3a\"],[0.8888888888888888,\"#fdca26\"],[1.0,\"#f0f921\"]],\"type\":\"heatmapgl\"}],\"heatmap\":[{\"colorbar\":{\"outlinewidth\":0,\"ticks\":\"\"},\"colorscale\":[[0.0,\"#0d0887\"],[0.1111111111111111,\"#46039f\"],[0.2222222222222222,\"#7201a8\"],[0.3333333333333333,\"#9c179e\"],[0.4444444444444444,\"#bd3786\"],[0.5555555555555556,\"#d8576b\"],[0.6666666666666666,\"#ed7953\"],[0.7777777777777778,\"#fb9f3a\"],[0.8888888888888888,\"#fdca26\"],[1.0,\"#f0f921\"]],\"type\":\"heatmap\"}],\"histogram2dcontour\":[{\"colorbar\":{\"outlinewidth\":0,\"ticks\":\"\"},\"colorscale\":[[0.0,\"#0d0887\"],[0.1111111111111111,\"#46039f\"],[0.2222222222222222,\"#7201a8\"],[0.3333333333333333,\"#9c179e\"],[0.4444444444444444,\"#bd3786\"],[0.5555555555555556,\"#d8576b\"],[0.6666666666666666,\"#ed7953\"],[0.7777777777777778,\"#fb9f3a\"],[0.8888888888888888,\"#fdca26\"],[1.0,\"#f0f921\"]],\"type\":\"histogram2dcontour\"}],\"histogram2d\":[{\"colorbar\":{\"outlinewidth\":0,\"ticks\":\"\"},\"colorscale\":[[0.0,\"#0d0887\"],[0.1111111111111111,\"#46039f\"],[0.2222222222222222,\"#7201a8\"],[0.3333333333333333,\"#9c179e\"],[0.4444444444444444,\"#bd3786\"],[0.5555555555555556,\"#d8576b\"],[0.6666666666666666,\"#ed7953\"],[0.7777777777777778,\"#fb9f3a\"],[0.8888888888888888,\"#fdca26\"],[1.0,\"#f0f921\"]],\"type\":\"histogram2d\"}],\"histogram\":[{\"marker\":{\"pattern\":{\"fillmode\":\"overlay\",\"size\":10,\"solidity\":0.2}},\"type\":\"histogram\"}],\"mesh3d\":[{\"colorbar\":{\"outlinewidth\":0,\"ticks\":\"\"},\"type\":\"mesh3d\"}],\"parcoords\":[{\"line\":{\"colorbar\":{\"outlinewidth\":0,\"ticks\":\"\"}},\"type\":\"parcoords\"}],\"pie\":[{\"automargin\":true,\"type\":\"pie\"}],\"scatter3d\":[{\"line\":{\"colorbar\":{\"outlinewidth\":0,\"ticks\":\"\"}},\"marker\":{\"colorbar\":{\"outlinewidth\":0,\"ticks\":\"\"}},\"type\":\"scatter3d\"}],\"scattercarpet\":[{\"marker\":{\"colorbar\":{\"outlinewidth\":0,\"ticks\":\"\"}},\"type\":\"scattercarpet\"}],\"scattergeo\":[{\"marker\":{\"colorbar\":{\"outlinewidth\":0,\"ticks\":\"\"}},\"type\":\"scattergeo\"}],\"scattergl\":[{\"marker\":{\"colorbar\":{\"outlinewidth\":0,\"ticks\":\"\"}},\"type\":\"scattergl\"}],\"scattermapbox\":[{\"marker\":{\"colorbar\":{\"outlinewidth\":0,\"ticks\":\"\"}},\"type\":\"scattermapbox\"}],\"scatterpolargl\":[{\"marker\":{\"colorbar\":{\"outlinewidth\":0,\"ticks\":\"\"}},\"type\":\"scatterpolargl\"}],\"scatterpolar\":[{\"marker\":{\"colorbar\":{\"outlinewidth\":0,\"ticks\":\"\"}},\"type\":\"scatterpolar\"}],\"scatter\":[{\"fillpattern\":{\"fillmode\":\"overlay\",\"size\":10,\"solidity\":0.2},\"type\":\"scatter\"}],\"scatterternary\":[{\"marker\":{\"colorbar\":{\"outlinewidth\":0,\"ticks\":\"\"}},\"type\":\"scatterternary\"}],\"surface\":[{\"colorbar\":{\"outlinewidth\":0,\"ticks\":\"\"},\"colorscale\":[[0.0,\"#0d0887\"],[0.1111111111111111,\"#46039f\"],[0.2222222222222222,\"#7201a8\"],[0.3333333333333333,\"#9c179e\"],[0.4444444444444444,\"#bd3786\"],[0.5555555555555556,\"#d8576b\"],[0.6666666666666666,\"#ed7953\"],[0.7777777777777778,\"#fb9f3a\"],[0.8888888888888888,\"#fdca26\"],[1.0,\"#f0f921\"]],\"type\":\"surface\"}],\"table\":[{\"cells\":{\"fill\":{\"color\":\"#EBF0F8\"},\"line\":{\"color\":\"white\"}},\"header\":{\"fill\":{\"color\":\"#C8D4E3\"},\"line\":{\"color\":\"white\"}},\"type\":\"table\"}]},\"layout\":{\"annotationdefaults\":{\"arrowcolor\":\"#2a3f5f\",\"arrowhead\":0,\"arrowwidth\":1},\"autotypenumbers\":\"strict\",\"coloraxis\":{\"colorbar\":{\"outlinewidth\":0,\"ticks\":\"\"}},\"colorscale\":{\"diverging\":[[0,\"#8e0152\"],[0.1,\"#c51b7d\"],[0.2,\"#de77ae\"],[0.3,\"#f1b6da\"],[0.4,\"#fde0ef\"],[0.5,\"#f7f7f7\"],[0.6,\"#e6f5d0\"],[0.7,\"#b8e186\"],[0.8,\"#7fbc41\"],[0.9,\"#4d9221\"],[1,\"#276419\"]],\"sequential\":[[0.0,\"#0d0887\"],[0.1111111111111111,\"#46039f\"],[0.2222222222222222,\"#7201a8\"],[0.3333333333333333,\"#9c179e\"],[0.4444444444444444,\"#bd3786\"],[0.5555555555555556,\"#d8576b\"],[0.6666666666666666,\"#ed7953\"],[0.7777777777777778,\"#fb9f3a\"],[0.8888888888888888,\"#fdca26\"],[1.0,\"#f0f921\"]],\"sequentialminus\":[[0.0,\"#0d0887\"],[0.1111111111111111,\"#46039f\"],[0.2222222222222222,\"#7201a8\"],[0.3333333333333333,\"#9c179e\"],[0.4444444444444444,\"#bd3786\"],[0.5555555555555556,\"#d8576b\"],[0.6666666666666666,\"#ed7953\"],[0.7777777777777778,\"#fb9f3a\"],[0.8888888888888888,\"#fdca26\"],[1.0,\"#f0f921\"]]},\"colorway\":[\"#636efa\",\"#EF553B\",\"#00cc96\",\"#ab63fa\",\"#FFA15A\",\"#19d3f3\",\"#FF6692\",\"#B6E880\",\"#FF97FF\",\"#FECB52\"],\"font\":{\"color\":\"#2a3f5f\"},\"geo\":{\"bgcolor\":\"white\",\"lakecolor\":\"white\",\"landcolor\":\"#E5ECF6\",\"showlakes\":true,\"showland\":true,\"subunitcolor\":\"white\"},\"hoverlabel\":{\"align\":\"left\"},\"hovermode\":\"closest\",\"mapbox\":{\"style\":\"light\"},\"paper_bgcolor\":\"white\",\"plot_bgcolor\":\"#E5ECF6\",\"polar\":{\"angularaxis\":{\"gridcolor\":\"white\",\"linecolor\":\"white\",\"ticks\":\"\"},\"bgcolor\":\"#E5ECF6\",\"radialaxis\":{\"gridcolor\":\"white\",\"linecolor\":\"white\",\"ticks\":\"\"}},\"scene\":{\"xaxis\":{\"backgroundcolor\":\"#E5ECF6\",\"gridcolor\":\"white\",\"gridwidth\":2,\"linecolor\":\"white\",\"showbackground\":true,\"ticks\":\"\",\"zerolinecolor\":\"white\"},\"yaxis\":{\"backgroundcolor\":\"#E5ECF6\",\"gridcolor\":\"white\",\"gridwidth\":2,\"linecolor\":\"white\",\"showbackground\":true,\"ticks\":\"\",\"zerolinecolor\":\"white\"},\"zaxis\":{\"backgroundcolor\":\"#E5ECF6\",\"gridcolor\":\"white\",\"gridwidth\":2,\"linecolor\":\"white\",\"showbackground\":true,\"ticks\":\"\",\"zerolinecolor\":\"white\"}},\"shapedefaults\":{\"line\":{\"color\":\"#2a3f5f\"}},\"ternary\":{\"aaxis\":{\"gridcolor\":\"white\",\"linecolor\":\"white\",\"ticks\":\"\"},\"baxis\":{\"gridcolor\":\"white\",\"linecolor\":\"white\",\"ticks\":\"\"},\"bgcolor\":\"#E5ECF6\",\"caxis\":{\"gridcolor\":\"white\",\"linecolor\":\"white\",\"ticks\":\"\"}},\"title\":{\"x\":0.05},\"xaxis\":{\"automargin\":true,\"gridcolor\":\"white\",\"linecolor\":\"white\",\"ticks\":\"\",\"title\":{\"standoff\":15},\"zerolinecolor\":\"white\",\"zerolinewidth\":2},\"yaxis\":{\"automargin\":true,\"gridcolor\":\"white\",\"linecolor\":\"white\",\"ticks\":\"\",\"title\":{\"standoff\":15},\"zerolinecolor\":\"white\",\"zerolinewidth\":2}}},\"title\":{\"text\":\"Range of Motion Parameters\"},\"xaxis\":{\"tickfont\":{\"color\":\"#7f7f7f\",\"family\":\"Courier New, monospace\",\"size\":14},\"title\":{\"font\":{\"color\":\"#7f7f7f\",\"family\":\"Courier New, monospace\",\"size\":18},\"text\":\"Month\"}},\"yaxis\":{\"tickfont\":{\"color\":\"#7f7f7f\",\"family\":\"Courier New, monospace\",\"size\":14},\"title\":{\"font\":{\"color\":\"#7f7f7f\",\"family\":\"Courier New, monospace\",\"size\":18},\"text\":\"ROM ankleLeft [degrees]\"}}},                        {\"responsive\": true}                    ).then(function(){\n",
       "                            \n",
       "var gd = document.getElementById('e286f908-7af6-45c4-96fb-a434cd4fde9a');\n",
       "var x = new MutationObserver(function (mutations, observer) {{\n",
       "        var display = window.getComputedStyle(gd).display;\n",
       "        if (!display || display === 'none') {{\n",
       "            console.log([gd, 'removed!']);\n",
       "            Plotly.purge(gd);\n",
       "            observer.disconnect();\n",
       "        }}\n",
       "}});\n",
       "\n",
       "// Listen for the removal of the full notebook cells\n",
       "var notebookContainer = gd.closest('#notebook-container');\n",
       "if (notebookContainer) {{\n",
       "    x.observe(notebookContainer, {childList: true});\n",
       "}}\n",
       "\n",
       "// Listen for the clearing of the current output cell\n",
       "var outputEl = gd.closest('.output');\n",
       "if (outputEl) {{\n",
       "    x.observe(outputEl, {childList: true});\n",
       "}}\n",
       "\n",
       "                        })                };                });            </script>        </div>"
      ]
     },
     "metadata": {},
     "output_type": "display_data"
    },
    {
     "data": {
      "application/vnd.plotly.v1+json": {
       "config": {
        "linkText": "Export to plot.ly",
        "plotlyServerURL": "https://plot.ly",
        "showLink": false
       },
       "data": [
        {
         "marker": {
          "color": "rgb(0,0,255)"
         },
         "name": "Maximum value reached",
         "type": "bar",
         "x": [
          1,
          2,
          3,
          4,
          5,
          6,
          7,
          8,
          9,
          10,
          11,
          12
         ],
         "y": [
          90,
          0,
          0,
          0,
          0,
          0,
          0,
          0,
          0,
          0,
          0,
          0
         ]
        },
        {
         "marker": {
          "color": "rgb(255,0,0)"
         },
         "name": "Minimum value reached",
         "type": "bar",
         "x": [
          1,
          2,
          3,
          4,
          5,
          6,
          7,
          8,
          9,
          10,
          11,
          12
         ],
         "y": [
          90,
          0,
          0,
          0,
          0,
          0,
          0,
          0,
          0,
          0,
          0,
          0
         ]
        }
       ],
       "layout": {
        "bargap": 0.1,
        "bargroupgap": 0,
        "barmode": "group",
        "font": {
         "color": "black",
         "family": "Courier New, monospace",
         "size": 18
        },
        "legend": {
         "bgcolor": "rgba(255, 255, 255, 0)",
         "bordercolor": "rgba(255, 255, 255, 0)"
        },
        "template": {
         "data": {
          "bar": [
           {
            "error_x": {
             "color": "#2a3f5f"
            },
            "error_y": {
             "color": "#2a3f5f"
            },
            "marker": {
             "line": {
              "color": "#E5ECF6",
              "width": 0.5
             },
             "pattern": {
              "fillmode": "overlay",
              "size": 10,
              "solidity": 0.2
             }
            },
            "type": "bar"
           }
          ],
          "barpolar": [
           {
            "marker": {
             "line": {
              "color": "#E5ECF6",
              "width": 0.5
             },
             "pattern": {
              "fillmode": "overlay",
              "size": 10,
              "solidity": 0.2
             }
            },
            "type": "barpolar"
           }
          ],
          "carpet": [
           {
            "aaxis": {
             "endlinecolor": "#2a3f5f",
             "gridcolor": "white",
             "linecolor": "white",
             "minorgridcolor": "white",
             "startlinecolor": "#2a3f5f"
            },
            "baxis": {
             "endlinecolor": "#2a3f5f",
             "gridcolor": "white",
             "linecolor": "white",
             "minorgridcolor": "white",
             "startlinecolor": "#2a3f5f"
            },
            "type": "carpet"
           }
          ],
          "choropleth": [
           {
            "colorbar": {
             "outlinewidth": 0,
             "ticks": ""
            },
            "type": "choropleth"
           }
          ],
          "contour": [
           {
            "colorbar": {
             "outlinewidth": 0,
             "ticks": ""
            },
            "colorscale": [
             [
              0,
              "#0d0887"
             ],
             [
              0.1111111111111111,
              "#46039f"
             ],
             [
              0.2222222222222222,
              "#7201a8"
             ],
             [
              0.3333333333333333,
              "#9c179e"
             ],
             [
              0.4444444444444444,
              "#bd3786"
             ],
             [
              0.5555555555555556,
              "#d8576b"
             ],
             [
              0.6666666666666666,
              "#ed7953"
             ],
             [
              0.7777777777777778,
              "#fb9f3a"
             ],
             [
              0.8888888888888888,
              "#fdca26"
             ],
             [
              1,
              "#f0f921"
             ]
            ],
            "type": "contour"
           }
          ],
          "contourcarpet": [
           {
            "colorbar": {
             "outlinewidth": 0,
             "ticks": ""
            },
            "type": "contourcarpet"
           }
          ],
          "heatmap": [
           {
            "colorbar": {
             "outlinewidth": 0,
             "ticks": ""
            },
            "colorscale": [
             [
              0,
              "#0d0887"
             ],
             [
              0.1111111111111111,
              "#46039f"
             ],
             [
              0.2222222222222222,
              "#7201a8"
             ],
             [
              0.3333333333333333,
              "#9c179e"
             ],
             [
              0.4444444444444444,
              "#bd3786"
             ],
             [
              0.5555555555555556,
              "#d8576b"
             ],
             [
              0.6666666666666666,
              "#ed7953"
             ],
             [
              0.7777777777777778,
              "#fb9f3a"
             ],
             [
              0.8888888888888888,
              "#fdca26"
             ],
             [
              1,
              "#f0f921"
             ]
            ],
            "type": "heatmap"
           }
          ],
          "heatmapgl": [
           {
            "colorbar": {
             "outlinewidth": 0,
             "ticks": ""
            },
            "colorscale": [
             [
              0,
              "#0d0887"
             ],
             [
              0.1111111111111111,
              "#46039f"
             ],
             [
              0.2222222222222222,
              "#7201a8"
             ],
             [
              0.3333333333333333,
              "#9c179e"
             ],
             [
              0.4444444444444444,
              "#bd3786"
             ],
             [
              0.5555555555555556,
              "#d8576b"
             ],
             [
              0.6666666666666666,
              "#ed7953"
             ],
             [
              0.7777777777777778,
              "#fb9f3a"
             ],
             [
              0.8888888888888888,
              "#fdca26"
             ],
             [
              1,
              "#f0f921"
             ]
            ],
            "type": "heatmapgl"
           }
          ],
          "histogram": [
           {
            "marker": {
             "pattern": {
              "fillmode": "overlay",
              "size": 10,
              "solidity": 0.2
             }
            },
            "type": "histogram"
           }
          ],
          "histogram2d": [
           {
            "colorbar": {
             "outlinewidth": 0,
             "ticks": ""
            },
            "colorscale": [
             [
              0,
              "#0d0887"
             ],
             [
              0.1111111111111111,
              "#46039f"
             ],
             [
              0.2222222222222222,
              "#7201a8"
             ],
             [
              0.3333333333333333,
              "#9c179e"
             ],
             [
              0.4444444444444444,
              "#bd3786"
             ],
             [
              0.5555555555555556,
              "#d8576b"
             ],
             [
              0.6666666666666666,
              "#ed7953"
             ],
             [
              0.7777777777777778,
              "#fb9f3a"
             ],
             [
              0.8888888888888888,
              "#fdca26"
             ],
             [
              1,
              "#f0f921"
             ]
            ],
            "type": "histogram2d"
           }
          ],
          "histogram2dcontour": [
           {
            "colorbar": {
             "outlinewidth": 0,
             "ticks": ""
            },
            "colorscale": [
             [
              0,
              "#0d0887"
             ],
             [
              0.1111111111111111,
              "#46039f"
             ],
             [
              0.2222222222222222,
              "#7201a8"
             ],
             [
              0.3333333333333333,
              "#9c179e"
             ],
             [
              0.4444444444444444,
              "#bd3786"
             ],
             [
              0.5555555555555556,
              "#d8576b"
             ],
             [
              0.6666666666666666,
              "#ed7953"
             ],
             [
              0.7777777777777778,
              "#fb9f3a"
             ],
             [
              0.8888888888888888,
              "#fdca26"
             ],
             [
              1,
              "#f0f921"
             ]
            ],
            "type": "histogram2dcontour"
           }
          ],
          "mesh3d": [
           {
            "colorbar": {
             "outlinewidth": 0,
             "ticks": ""
            },
            "type": "mesh3d"
           }
          ],
          "parcoords": [
           {
            "line": {
             "colorbar": {
              "outlinewidth": 0,
              "ticks": ""
             }
            },
            "type": "parcoords"
           }
          ],
          "pie": [
           {
            "automargin": true,
            "type": "pie"
           }
          ],
          "scatter": [
           {
            "fillpattern": {
             "fillmode": "overlay",
             "size": 10,
             "solidity": 0.2
            },
            "type": "scatter"
           }
          ],
          "scatter3d": [
           {
            "line": {
             "colorbar": {
              "outlinewidth": 0,
              "ticks": ""
             }
            },
            "marker": {
             "colorbar": {
              "outlinewidth": 0,
              "ticks": ""
             }
            },
            "type": "scatter3d"
           }
          ],
          "scattercarpet": [
           {
            "marker": {
             "colorbar": {
              "outlinewidth": 0,
              "ticks": ""
             }
            },
            "type": "scattercarpet"
           }
          ],
          "scattergeo": [
           {
            "marker": {
             "colorbar": {
              "outlinewidth": 0,
              "ticks": ""
             }
            },
            "type": "scattergeo"
           }
          ],
          "scattergl": [
           {
            "marker": {
             "colorbar": {
              "outlinewidth": 0,
              "ticks": ""
             }
            },
            "type": "scattergl"
           }
          ],
          "scattermapbox": [
           {
            "marker": {
             "colorbar": {
              "outlinewidth": 0,
              "ticks": ""
             }
            },
            "type": "scattermapbox"
           }
          ],
          "scatterpolar": [
           {
            "marker": {
             "colorbar": {
              "outlinewidth": 0,
              "ticks": ""
             }
            },
            "type": "scatterpolar"
           }
          ],
          "scatterpolargl": [
           {
            "marker": {
             "colorbar": {
              "outlinewidth": 0,
              "ticks": ""
             }
            },
            "type": "scatterpolargl"
           }
          ],
          "scatterternary": [
           {
            "marker": {
             "colorbar": {
              "outlinewidth": 0,
              "ticks": ""
             }
            },
            "type": "scatterternary"
           }
          ],
          "surface": [
           {
            "colorbar": {
             "outlinewidth": 0,
             "ticks": ""
            },
            "colorscale": [
             [
              0,
              "#0d0887"
             ],
             [
              0.1111111111111111,
              "#46039f"
             ],
             [
              0.2222222222222222,
              "#7201a8"
             ],
             [
              0.3333333333333333,
              "#9c179e"
             ],
             [
              0.4444444444444444,
              "#bd3786"
             ],
             [
              0.5555555555555556,
              "#d8576b"
             ],
             [
              0.6666666666666666,
              "#ed7953"
             ],
             [
              0.7777777777777778,
              "#fb9f3a"
             ],
             [
              0.8888888888888888,
              "#fdca26"
             ],
             [
              1,
              "#f0f921"
             ]
            ],
            "type": "surface"
           }
          ],
          "table": [
           {
            "cells": {
             "fill": {
              "color": "#EBF0F8"
             },
             "line": {
              "color": "white"
             }
            },
            "header": {
             "fill": {
              "color": "#C8D4E3"
             },
             "line": {
              "color": "white"
             }
            },
            "type": "table"
           }
          ]
         },
         "layout": {
          "annotationdefaults": {
           "arrowcolor": "#2a3f5f",
           "arrowhead": 0,
           "arrowwidth": 1
          },
          "autotypenumbers": "strict",
          "coloraxis": {
           "colorbar": {
            "outlinewidth": 0,
            "ticks": ""
           }
          },
          "colorscale": {
           "diverging": [
            [
             0,
             "#8e0152"
            ],
            [
             0.1,
             "#c51b7d"
            ],
            [
             0.2,
             "#de77ae"
            ],
            [
             0.3,
             "#f1b6da"
            ],
            [
             0.4,
             "#fde0ef"
            ],
            [
             0.5,
             "#f7f7f7"
            ],
            [
             0.6,
             "#e6f5d0"
            ],
            [
             0.7,
             "#b8e186"
            ],
            [
             0.8,
             "#7fbc41"
            ],
            [
             0.9,
             "#4d9221"
            ],
            [
             1,
             "#276419"
            ]
           ],
           "sequential": [
            [
             0,
             "#0d0887"
            ],
            [
             0.1111111111111111,
             "#46039f"
            ],
            [
             0.2222222222222222,
             "#7201a8"
            ],
            [
             0.3333333333333333,
             "#9c179e"
            ],
            [
             0.4444444444444444,
             "#bd3786"
            ],
            [
             0.5555555555555556,
             "#d8576b"
            ],
            [
             0.6666666666666666,
             "#ed7953"
            ],
            [
             0.7777777777777778,
             "#fb9f3a"
            ],
            [
             0.8888888888888888,
             "#fdca26"
            ],
            [
             1,
             "#f0f921"
            ]
           ],
           "sequentialminus": [
            [
             0,
             "#0d0887"
            ],
            [
             0.1111111111111111,
             "#46039f"
            ],
            [
             0.2222222222222222,
             "#7201a8"
            ],
            [
             0.3333333333333333,
             "#9c179e"
            ],
            [
             0.4444444444444444,
             "#bd3786"
            ],
            [
             0.5555555555555556,
             "#d8576b"
            ],
            [
             0.6666666666666666,
             "#ed7953"
            ],
            [
             0.7777777777777778,
             "#fb9f3a"
            ],
            [
             0.8888888888888888,
             "#fdca26"
            ],
            [
             1,
             "#f0f921"
            ]
           ]
          },
          "colorway": [
           "#636efa",
           "#EF553B",
           "#00cc96",
           "#ab63fa",
           "#FFA15A",
           "#19d3f3",
           "#FF6692",
           "#B6E880",
           "#FF97FF",
           "#FECB52"
          ],
          "font": {
           "color": "#2a3f5f"
          },
          "geo": {
           "bgcolor": "white",
           "lakecolor": "white",
           "landcolor": "#E5ECF6",
           "showlakes": true,
           "showland": true,
           "subunitcolor": "white"
          },
          "hoverlabel": {
           "align": "left"
          },
          "hovermode": "closest",
          "mapbox": {
           "style": "light"
          },
          "paper_bgcolor": "white",
          "plot_bgcolor": "#E5ECF6",
          "polar": {
           "angularaxis": {
            "gridcolor": "white",
            "linecolor": "white",
            "ticks": ""
           },
           "bgcolor": "#E5ECF6",
           "radialaxis": {
            "gridcolor": "white",
            "linecolor": "white",
            "ticks": ""
           }
          },
          "scene": {
           "xaxis": {
            "backgroundcolor": "#E5ECF6",
            "gridcolor": "white",
            "gridwidth": 2,
            "linecolor": "white",
            "showbackground": true,
            "ticks": "",
            "zerolinecolor": "white"
           },
           "yaxis": {
            "backgroundcolor": "#E5ECF6",
            "gridcolor": "white",
            "gridwidth": 2,
            "linecolor": "white",
            "showbackground": true,
            "ticks": "",
            "zerolinecolor": "white"
           },
           "zaxis": {
            "backgroundcolor": "#E5ECF6",
            "gridcolor": "white",
            "gridwidth": 2,
            "linecolor": "white",
            "showbackground": true,
            "ticks": "",
            "zerolinecolor": "white"
           }
          },
          "shapedefaults": {
           "line": {
            "color": "#2a3f5f"
           }
          },
          "ternary": {
           "aaxis": {
            "gridcolor": "white",
            "linecolor": "white",
            "ticks": ""
           },
           "baxis": {
            "gridcolor": "white",
            "linecolor": "white",
            "ticks": ""
           },
           "bgcolor": "#E5ECF6",
           "caxis": {
            "gridcolor": "white",
            "linecolor": "white",
            "ticks": ""
           }
          },
          "title": {
           "x": 0.05
          },
          "xaxis": {
           "automargin": true,
           "gridcolor": "white",
           "linecolor": "white",
           "ticks": "",
           "title": {
            "standoff": 15
           },
           "zerolinecolor": "white",
           "zerolinewidth": 2
          },
          "yaxis": {
           "automargin": true,
           "gridcolor": "white",
           "linecolor": "white",
           "ticks": "",
           "title": {
            "standoff": 15
           },
           "zerolinecolor": "white",
           "zerolinewidth": 2
          }
         }
        },
        "title": {
         "text": "Range of Motion Parameters"
        },
        "xaxis": {
         "tickfont": {
          "color": "#7f7f7f",
          "family": "Courier New, monospace",
          "size": 14
         },
         "title": {
          "font": {
           "color": "#7f7f7f",
           "family": "Courier New, monospace",
           "size": 18
          },
          "text": "Month"
         }
        },
        "yaxis": {
         "tickfont": {
          "color": "#7f7f7f",
          "family": "Courier New, monospace",
          "size": 14
         },
         "title": {
          "font": {
           "color": "#7f7f7f",
           "family": "Courier New, monospace",
           "size": 18
          },
          "text": "ROM hipRight [degrees]"
         }
        }
       }
      },
      "text/html": [
       "<div>                            <div id=\"be4a9c98-f948-40ac-9995-573804e8fb84\" class=\"plotly-graph-div\" style=\"height:525px; width:100%;\"></div>            <script type=\"text/javascript\">                require([\"plotly\"], function(Plotly) {                    window.PLOTLYENV=window.PLOTLYENV || {};                                    if (document.getElementById(\"be4a9c98-f948-40ac-9995-573804e8fb84\")) {                    Plotly.newPlot(                        \"be4a9c98-f948-40ac-9995-573804e8fb84\",                        [{\"marker\":{\"color\":\"rgb(0,0,255)\"},\"name\":\"Maximum value reached\",\"x\":[1,2,3,4,5,6,7,8,9,10,11,12],\"y\":[90.0,0,0,0,0,0,0,0,0,0,0,0],\"type\":\"bar\"},{\"marker\":{\"color\":\"rgb(255,0,0)\"},\"name\":\"Minimum value reached\",\"x\":[1,2,3,4,5,6,7,8,9,10,11,12],\"y\":[90.0,0,0,0,0,0,0,0,0,0,0,0],\"type\":\"bar\"}],                        {\"bargap\":0.1,\"bargroupgap\":0.0,\"barmode\":\"group\",\"font\":{\"color\":\"black\",\"family\":\"Courier New, monospace\",\"size\":18},\"legend\":{\"bgcolor\":\"rgba(255, 255, 255, 0)\",\"bordercolor\":\"rgba(255, 255, 255, 0)\"},\"template\":{\"data\":{\"barpolar\":[{\"marker\":{\"line\":{\"color\":\"#E5ECF6\",\"width\":0.5},\"pattern\":{\"fillmode\":\"overlay\",\"size\":10,\"solidity\":0.2}},\"type\":\"barpolar\"}],\"bar\":[{\"error_x\":{\"color\":\"#2a3f5f\"},\"error_y\":{\"color\":\"#2a3f5f\"},\"marker\":{\"line\":{\"color\":\"#E5ECF6\",\"width\":0.5},\"pattern\":{\"fillmode\":\"overlay\",\"size\":10,\"solidity\":0.2}},\"type\":\"bar\"}],\"carpet\":[{\"aaxis\":{\"endlinecolor\":\"#2a3f5f\",\"gridcolor\":\"white\",\"linecolor\":\"white\",\"minorgridcolor\":\"white\",\"startlinecolor\":\"#2a3f5f\"},\"baxis\":{\"endlinecolor\":\"#2a3f5f\",\"gridcolor\":\"white\",\"linecolor\":\"white\",\"minorgridcolor\":\"white\",\"startlinecolor\":\"#2a3f5f\"},\"type\":\"carpet\"}],\"choropleth\":[{\"colorbar\":{\"outlinewidth\":0,\"ticks\":\"\"},\"type\":\"choropleth\"}],\"contourcarpet\":[{\"colorbar\":{\"outlinewidth\":0,\"ticks\":\"\"},\"type\":\"contourcarpet\"}],\"contour\":[{\"colorbar\":{\"outlinewidth\":0,\"ticks\":\"\"},\"colorscale\":[[0.0,\"#0d0887\"],[0.1111111111111111,\"#46039f\"],[0.2222222222222222,\"#7201a8\"],[0.3333333333333333,\"#9c179e\"],[0.4444444444444444,\"#bd3786\"],[0.5555555555555556,\"#d8576b\"],[0.6666666666666666,\"#ed7953\"],[0.7777777777777778,\"#fb9f3a\"],[0.8888888888888888,\"#fdca26\"],[1.0,\"#f0f921\"]],\"type\":\"contour\"}],\"heatmapgl\":[{\"colorbar\":{\"outlinewidth\":0,\"ticks\":\"\"},\"colorscale\":[[0.0,\"#0d0887\"],[0.1111111111111111,\"#46039f\"],[0.2222222222222222,\"#7201a8\"],[0.3333333333333333,\"#9c179e\"],[0.4444444444444444,\"#bd3786\"],[0.5555555555555556,\"#d8576b\"],[0.6666666666666666,\"#ed7953\"],[0.7777777777777778,\"#fb9f3a\"],[0.8888888888888888,\"#fdca26\"],[1.0,\"#f0f921\"]],\"type\":\"heatmapgl\"}],\"heatmap\":[{\"colorbar\":{\"outlinewidth\":0,\"ticks\":\"\"},\"colorscale\":[[0.0,\"#0d0887\"],[0.1111111111111111,\"#46039f\"],[0.2222222222222222,\"#7201a8\"],[0.3333333333333333,\"#9c179e\"],[0.4444444444444444,\"#bd3786\"],[0.5555555555555556,\"#d8576b\"],[0.6666666666666666,\"#ed7953\"],[0.7777777777777778,\"#fb9f3a\"],[0.8888888888888888,\"#fdca26\"],[1.0,\"#f0f921\"]],\"type\":\"heatmap\"}],\"histogram2dcontour\":[{\"colorbar\":{\"outlinewidth\":0,\"ticks\":\"\"},\"colorscale\":[[0.0,\"#0d0887\"],[0.1111111111111111,\"#46039f\"],[0.2222222222222222,\"#7201a8\"],[0.3333333333333333,\"#9c179e\"],[0.4444444444444444,\"#bd3786\"],[0.5555555555555556,\"#d8576b\"],[0.6666666666666666,\"#ed7953\"],[0.7777777777777778,\"#fb9f3a\"],[0.8888888888888888,\"#fdca26\"],[1.0,\"#f0f921\"]],\"type\":\"histogram2dcontour\"}],\"histogram2d\":[{\"colorbar\":{\"outlinewidth\":0,\"ticks\":\"\"},\"colorscale\":[[0.0,\"#0d0887\"],[0.1111111111111111,\"#46039f\"],[0.2222222222222222,\"#7201a8\"],[0.3333333333333333,\"#9c179e\"],[0.4444444444444444,\"#bd3786\"],[0.5555555555555556,\"#d8576b\"],[0.6666666666666666,\"#ed7953\"],[0.7777777777777778,\"#fb9f3a\"],[0.8888888888888888,\"#fdca26\"],[1.0,\"#f0f921\"]],\"type\":\"histogram2d\"}],\"histogram\":[{\"marker\":{\"pattern\":{\"fillmode\":\"overlay\",\"size\":10,\"solidity\":0.2}},\"type\":\"histogram\"}],\"mesh3d\":[{\"colorbar\":{\"outlinewidth\":0,\"ticks\":\"\"},\"type\":\"mesh3d\"}],\"parcoords\":[{\"line\":{\"colorbar\":{\"outlinewidth\":0,\"ticks\":\"\"}},\"type\":\"parcoords\"}],\"pie\":[{\"automargin\":true,\"type\":\"pie\"}],\"scatter3d\":[{\"line\":{\"colorbar\":{\"outlinewidth\":0,\"ticks\":\"\"}},\"marker\":{\"colorbar\":{\"outlinewidth\":0,\"ticks\":\"\"}},\"type\":\"scatter3d\"}],\"scattercarpet\":[{\"marker\":{\"colorbar\":{\"outlinewidth\":0,\"ticks\":\"\"}},\"type\":\"scattercarpet\"}],\"scattergeo\":[{\"marker\":{\"colorbar\":{\"outlinewidth\":0,\"ticks\":\"\"}},\"type\":\"scattergeo\"}],\"scattergl\":[{\"marker\":{\"colorbar\":{\"outlinewidth\":0,\"ticks\":\"\"}},\"type\":\"scattergl\"}],\"scattermapbox\":[{\"marker\":{\"colorbar\":{\"outlinewidth\":0,\"ticks\":\"\"}},\"type\":\"scattermapbox\"}],\"scatterpolargl\":[{\"marker\":{\"colorbar\":{\"outlinewidth\":0,\"ticks\":\"\"}},\"type\":\"scatterpolargl\"}],\"scatterpolar\":[{\"marker\":{\"colorbar\":{\"outlinewidth\":0,\"ticks\":\"\"}},\"type\":\"scatterpolar\"}],\"scatter\":[{\"fillpattern\":{\"fillmode\":\"overlay\",\"size\":10,\"solidity\":0.2},\"type\":\"scatter\"}],\"scatterternary\":[{\"marker\":{\"colorbar\":{\"outlinewidth\":0,\"ticks\":\"\"}},\"type\":\"scatterternary\"}],\"surface\":[{\"colorbar\":{\"outlinewidth\":0,\"ticks\":\"\"},\"colorscale\":[[0.0,\"#0d0887\"],[0.1111111111111111,\"#46039f\"],[0.2222222222222222,\"#7201a8\"],[0.3333333333333333,\"#9c179e\"],[0.4444444444444444,\"#bd3786\"],[0.5555555555555556,\"#d8576b\"],[0.6666666666666666,\"#ed7953\"],[0.7777777777777778,\"#fb9f3a\"],[0.8888888888888888,\"#fdca26\"],[1.0,\"#f0f921\"]],\"type\":\"surface\"}],\"table\":[{\"cells\":{\"fill\":{\"color\":\"#EBF0F8\"},\"line\":{\"color\":\"white\"}},\"header\":{\"fill\":{\"color\":\"#C8D4E3\"},\"line\":{\"color\":\"white\"}},\"type\":\"table\"}]},\"layout\":{\"annotationdefaults\":{\"arrowcolor\":\"#2a3f5f\",\"arrowhead\":0,\"arrowwidth\":1},\"autotypenumbers\":\"strict\",\"coloraxis\":{\"colorbar\":{\"outlinewidth\":0,\"ticks\":\"\"}},\"colorscale\":{\"diverging\":[[0,\"#8e0152\"],[0.1,\"#c51b7d\"],[0.2,\"#de77ae\"],[0.3,\"#f1b6da\"],[0.4,\"#fde0ef\"],[0.5,\"#f7f7f7\"],[0.6,\"#e6f5d0\"],[0.7,\"#b8e186\"],[0.8,\"#7fbc41\"],[0.9,\"#4d9221\"],[1,\"#276419\"]],\"sequential\":[[0.0,\"#0d0887\"],[0.1111111111111111,\"#46039f\"],[0.2222222222222222,\"#7201a8\"],[0.3333333333333333,\"#9c179e\"],[0.4444444444444444,\"#bd3786\"],[0.5555555555555556,\"#d8576b\"],[0.6666666666666666,\"#ed7953\"],[0.7777777777777778,\"#fb9f3a\"],[0.8888888888888888,\"#fdca26\"],[1.0,\"#f0f921\"]],\"sequentialminus\":[[0.0,\"#0d0887\"],[0.1111111111111111,\"#46039f\"],[0.2222222222222222,\"#7201a8\"],[0.3333333333333333,\"#9c179e\"],[0.4444444444444444,\"#bd3786\"],[0.5555555555555556,\"#d8576b\"],[0.6666666666666666,\"#ed7953\"],[0.7777777777777778,\"#fb9f3a\"],[0.8888888888888888,\"#fdca26\"],[1.0,\"#f0f921\"]]},\"colorway\":[\"#636efa\",\"#EF553B\",\"#00cc96\",\"#ab63fa\",\"#FFA15A\",\"#19d3f3\",\"#FF6692\",\"#B6E880\",\"#FF97FF\",\"#FECB52\"],\"font\":{\"color\":\"#2a3f5f\"},\"geo\":{\"bgcolor\":\"white\",\"lakecolor\":\"white\",\"landcolor\":\"#E5ECF6\",\"showlakes\":true,\"showland\":true,\"subunitcolor\":\"white\"},\"hoverlabel\":{\"align\":\"left\"},\"hovermode\":\"closest\",\"mapbox\":{\"style\":\"light\"},\"paper_bgcolor\":\"white\",\"plot_bgcolor\":\"#E5ECF6\",\"polar\":{\"angularaxis\":{\"gridcolor\":\"white\",\"linecolor\":\"white\",\"ticks\":\"\"},\"bgcolor\":\"#E5ECF6\",\"radialaxis\":{\"gridcolor\":\"white\",\"linecolor\":\"white\",\"ticks\":\"\"}},\"scene\":{\"xaxis\":{\"backgroundcolor\":\"#E5ECF6\",\"gridcolor\":\"white\",\"gridwidth\":2,\"linecolor\":\"white\",\"showbackground\":true,\"ticks\":\"\",\"zerolinecolor\":\"white\"},\"yaxis\":{\"backgroundcolor\":\"#E5ECF6\",\"gridcolor\":\"white\",\"gridwidth\":2,\"linecolor\":\"white\",\"showbackground\":true,\"ticks\":\"\",\"zerolinecolor\":\"white\"},\"zaxis\":{\"backgroundcolor\":\"#E5ECF6\",\"gridcolor\":\"white\",\"gridwidth\":2,\"linecolor\":\"white\",\"showbackground\":true,\"ticks\":\"\",\"zerolinecolor\":\"white\"}},\"shapedefaults\":{\"line\":{\"color\":\"#2a3f5f\"}},\"ternary\":{\"aaxis\":{\"gridcolor\":\"white\",\"linecolor\":\"white\",\"ticks\":\"\"},\"baxis\":{\"gridcolor\":\"white\",\"linecolor\":\"white\",\"ticks\":\"\"},\"bgcolor\":\"#E5ECF6\",\"caxis\":{\"gridcolor\":\"white\",\"linecolor\":\"white\",\"ticks\":\"\"}},\"title\":{\"x\":0.05},\"xaxis\":{\"automargin\":true,\"gridcolor\":\"white\",\"linecolor\":\"white\",\"ticks\":\"\",\"title\":{\"standoff\":15},\"zerolinecolor\":\"white\",\"zerolinewidth\":2},\"yaxis\":{\"automargin\":true,\"gridcolor\":\"white\",\"linecolor\":\"white\",\"ticks\":\"\",\"title\":{\"standoff\":15},\"zerolinecolor\":\"white\",\"zerolinewidth\":2}}},\"title\":{\"text\":\"Range of Motion Parameters\"},\"xaxis\":{\"tickfont\":{\"color\":\"#7f7f7f\",\"family\":\"Courier New, monospace\",\"size\":14},\"title\":{\"font\":{\"color\":\"#7f7f7f\",\"family\":\"Courier New, monospace\",\"size\":18},\"text\":\"Month\"}},\"yaxis\":{\"tickfont\":{\"color\":\"#7f7f7f\",\"family\":\"Courier New, monospace\",\"size\":14},\"title\":{\"font\":{\"color\":\"#7f7f7f\",\"family\":\"Courier New, monospace\",\"size\":18},\"text\":\"ROM hipRight [degrees]\"}}},                        {\"responsive\": true}                    ).then(function(){\n",
       "                            \n",
       "var gd = document.getElementById('be4a9c98-f948-40ac-9995-573804e8fb84');\n",
       "var x = new MutationObserver(function (mutations, observer) {{\n",
       "        var display = window.getComputedStyle(gd).display;\n",
       "        if (!display || display === 'none') {{\n",
       "            console.log([gd, 'removed!']);\n",
       "            Plotly.purge(gd);\n",
       "            observer.disconnect();\n",
       "        }}\n",
       "}});\n",
       "\n",
       "// Listen for the removal of the full notebook cells\n",
       "var notebookContainer = gd.closest('#notebook-container');\n",
       "if (notebookContainer) {{\n",
       "    x.observe(notebookContainer, {childList: true});\n",
       "}}\n",
       "\n",
       "// Listen for the clearing of the current output cell\n",
       "var outputEl = gd.closest('.output');\n",
       "if (outputEl) {{\n",
       "    x.observe(outputEl, {childList: true});\n",
       "}}\n",
       "\n",
       "                        })                };                });            </script>        </div>"
      ]
     },
     "metadata": {},
     "output_type": "display_data"
    },
    {
     "data": {
      "application/vnd.plotly.v1+json": {
       "config": {
        "linkText": "Export to plot.ly",
        "plotlyServerURL": "https://plot.ly",
        "showLink": false
       },
       "data": [
        {
         "marker": {
          "color": "rgb(0,0,255)"
         },
         "name": "Maximum value reached",
         "type": "bar",
         "x": [
          1,
          2,
          3,
          4,
          5,
          6,
          7,
          8,
          9,
          10,
          11,
          12
         ],
         "y": [
          73.2278158321335,
          0,
          0,
          0,
          0,
          0,
          0,
          0,
          0,
          0,
          0,
          0
         ]
        },
        {
         "marker": {
          "color": "rgb(255,0,0)"
         },
         "name": "Minimum value reached",
         "type": "bar",
         "x": [
          1,
          2,
          3,
          4,
          5,
          6,
          7,
          8,
          9,
          10,
          11,
          12
         ],
         "y": [
          64.32348376462171,
          0,
          0,
          0,
          0,
          0,
          0,
          0,
          0,
          0,
          0,
          0
         ]
        }
       ],
       "layout": {
        "bargap": 0.1,
        "bargroupgap": 0,
        "barmode": "group",
        "font": {
         "color": "black",
         "family": "Courier New, monospace",
         "size": 18
        },
        "legend": {
         "bgcolor": "rgba(255, 255, 255, 0)",
         "bordercolor": "rgba(255, 255, 255, 0)"
        },
        "template": {
         "data": {
          "bar": [
           {
            "error_x": {
             "color": "#2a3f5f"
            },
            "error_y": {
             "color": "#2a3f5f"
            },
            "marker": {
             "line": {
              "color": "#E5ECF6",
              "width": 0.5
             },
             "pattern": {
              "fillmode": "overlay",
              "size": 10,
              "solidity": 0.2
             }
            },
            "type": "bar"
           }
          ],
          "barpolar": [
           {
            "marker": {
             "line": {
              "color": "#E5ECF6",
              "width": 0.5
             },
             "pattern": {
              "fillmode": "overlay",
              "size": 10,
              "solidity": 0.2
             }
            },
            "type": "barpolar"
           }
          ],
          "carpet": [
           {
            "aaxis": {
             "endlinecolor": "#2a3f5f",
             "gridcolor": "white",
             "linecolor": "white",
             "minorgridcolor": "white",
             "startlinecolor": "#2a3f5f"
            },
            "baxis": {
             "endlinecolor": "#2a3f5f",
             "gridcolor": "white",
             "linecolor": "white",
             "minorgridcolor": "white",
             "startlinecolor": "#2a3f5f"
            },
            "type": "carpet"
           }
          ],
          "choropleth": [
           {
            "colorbar": {
             "outlinewidth": 0,
             "ticks": ""
            },
            "type": "choropleth"
           }
          ],
          "contour": [
           {
            "colorbar": {
             "outlinewidth": 0,
             "ticks": ""
            },
            "colorscale": [
             [
              0,
              "#0d0887"
             ],
             [
              0.1111111111111111,
              "#46039f"
             ],
             [
              0.2222222222222222,
              "#7201a8"
             ],
             [
              0.3333333333333333,
              "#9c179e"
             ],
             [
              0.4444444444444444,
              "#bd3786"
             ],
             [
              0.5555555555555556,
              "#d8576b"
             ],
             [
              0.6666666666666666,
              "#ed7953"
             ],
             [
              0.7777777777777778,
              "#fb9f3a"
             ],
             [
              0.8888888888888888,
              "#fdca26"
             ],
             [
              1,
              "#f0f921"
             ]
            ],
            "type": "contour"
           }
          ],
          "contourcarpet": [
           {
            "colorbar": {
             "outlinewidth": 0,
             "ticks": ""
            },
            "type": "contourcarpet"
           }
          ],
          "heatmap": [
           {
            "colorbar": {
             "outlinewidth": 0,
             "ticks": ""
            },
            "colorscale": [
             [
              0,
              "#0d0887"
             ],
             [
              0.1111111111111111,
              "#46039f"
             ],
             [
              0.2222222222222222,
              "#7201a8"
             ],
             [
              0.3333333333333333,
              "#9c179e"
             ],
             [
              0.4444444444444444,
              "#bd3786"
             ],
             [
              0.5555555555555556,
              "#d8576b"
             ],
             [
              0.6666666666666666,
              "#ed7953"
             ],
             [
              0.7777777777777778,
              "#fb9f3a"
             ],
             [
              0.8888888888888888,
              "#fdca26"
             ],
             [
              1,
              "#f0f921"
             ]
            ],
            "type": "heatmap"
           }
          ],
          "heatmapgl": [
           {
            "colorbar": {
             "outlinewidth": 0,
             "ticks": ""
            },
            "colorscale": [
             [
              0,
              "#0d0887"
             ],
             [
              0.1111111111111111,
              "#46039f"
             ],
             [
              0.2222222222222222,
              "#7201a8"
             ],
             [
              0.3333333333333333,
              "#9c179e"
             ],
             [
              0.4444444444444444,
              "#bd3786"
             ],
             [
              0.5555555555555556,
              "#d8576b"
             ],
             [
              0.6666666666666666,
              "#ed7953"
             ],
             [
              0.7777777777777778,
              "#fb9f3a"
             ],
             [
              0.8888888888888888,
              "#fdca26"
             ],
             [
              1,
              "#f0f921"
             ]
            ],
            "type": "heatmapgl"
           }
          ],
          "histogram": [
           {
            "marker": {
             "pattern": {
              "fillmode": "overlay",
              "size": 10,
              "solidity": 0.2
             }
            },
            "type": "histogram"
           }
          ],
          "histogram2d": [
           {
            "colorbar": {
             "outlinewidth": 0,
             "ticks": ""
            },
            "colorscale": [
             [
              0,
              "#0d0887"
             ],
             [
              0.1111111111111111,
              "#46039f"
             ],
             [
              0.2222222222222222,
              "#7201a8"
             ],
             [
              0.3333333333333333,
              "#9c179e"
             ],
             [
              0.4444444444444444,
              "#bd3786"
             ],
             [
              0.5555555555555556,
              "#d8576b"
             ],
             [
              0.6666666666666666,
              "#ed7953"
             ],
             [
              0.7777777777777778,
              "#fb9f3a"
             ],
             [
              0.8888888888888888,
              "#fdca26"
             ],
             [
              1,
              "#f0f921"
             ]
            ],
            "type": "histogram2d"
           }
          ],
          "histogram2dcontour": [
           {
            "colorbar": {
             "outlinewidth": 0,
             "ticks": ""
            },
            "colorscale": [
             [
              0,
              "#0d0887"
             ],
             [
              0.1111111111111111,
              "#46039f"
             ],
             [
              0.2222222222222222,
              "#7201a8"
             ],
             [
              0.3333333333333333,
              "#9c179e"
             ],
             [
              0.4444444444444444,
              "#bd3786"
             ],
             [
              0.5555555555555556,
              "#d8576b"
             ],
             [
              0.6666666666666666,
              "#ed7953"
             ],
             [
              0.7777777777777778,
              "#fb9f3a"
             ],
             [
              0.8888888888888888,
              "#fdca26"
             ],
             [
              1,
              "#f0f921"
             ]
            ],
            "type": "histogram2dcontour"
           }
          ],
          "mesh3d": [
           {
            "colorbar": {
             "outlinewidth": 0,
             "ticks": ""
            },
            "type": "mesh3d"
           }
          ],
          "parcoords": [
           {
            "line": {
             "colorbar": {
              "outlinewidth": 0,
              "ticks": ""
             }
            },
            "type": "parcoords"
           }
          ],
          "pie": [
           {
            "automargin": true,
            "type": "pie"
           }
          ],
          "scatter": [
           {
            "fillpattern": {
             "fillmode": "overlay",
             "size": 10,
             "solidity": 0.2
            },
            "type": "scatter"
           }
          ],
          "scatter3d": [
           {
            "line": {
             "colorbar": {
              "outlinewidth": 0,
              "ticks": ""
             }
            },
            "marker": {
             "colorbar": {
              "outlinewidth": 0,
              "ticks": ""
             }
            },
            "type": "scatter3d"
           }
          ],
          "scattercarpet": [
           {
            "marker": {
             "colorbar": {
              "outlinewidth": 0,
              "ticks": ""
             }
            },
            "type": "scattercarpet"
           }
          ],
          "scattergeo": [
           {
            "marker": {
             "colorbar": {
              "outlinewidth": 0,
              "ticks": ""
             }
            },
            "type": "scattergeo"
           }
          ],
          "scattergl": [
           {
            "marker": {
             "colorbar": {
              "outlinewidth": 0,
              "ticks": ""
             }
            },
            "type": "scattergl"
           }
          ],
          "scattermapbox": [
           {
            "marker": {
             "colorbar": {
              "outlinewidth": 0,
              "ticks": ""
             }
            },
            "type": "scattermapbox"
           }
          ],
          "scatterpolar": [
           {
            "marker": {
             "colorbar": {
              "outlinewidth": 0,
              "ticks": ""
             }
            },
            "type": "scatterpolar"
           }
          ],
          "scatterpolargl": [
           {
            "marker": {
             "colorbar": {
              "outlinewidth": 0,
              "ticks": ""
             }
            },
            "type": "scatterpolargl"
           }
          ],
          "scatterternary": [
           {
            "marker": {
             "colorbar": {
              "outlinewidth": 0,
              "ticks": ""
             }
            },
            "type": "scatterternary"
           }
          ],
          "surface": [
           {
            "colorbar": {
             "outlinewidth": 0,
             "ticks": ""
            },
            "colorscale": [
             [
              0,
              "#0d0887"
             ],
             [
              0.1111111111111111,
              "#46039f"
             ],
             [
              0.2222222222222222,
              "#7201a8"
             ],
             [
              0.3333333333333333,
              "#9c179e"
             ],
             [
              0.4444444444444444,
              "#bd3786"
             ],
             [
              0.5555555555555556,
              "#d8576b"
             ],
             [
              0.6666666666666666,
              "#ed7953"
             ],
             [
              0.7777777777777778,
              "#fb9f3a"
             ],
             [
              0.8888888888888888,
              "#fdca26"
             ],
             [
              1,
              "#f0f921"
             ]
            ],
            "type": "surface"
           }
          ],
          "table": [
           {
            "cells": {
             "fill": {
              "color": "#EBF0F8"
             },
             "line": {
              "color": "white"
             }
            },
            "header": {
             "fill": {
              "color": "#C8D4E3"
             },
             "line": {
              "color": "white"
             }
            },
            "type": "table"
           }
          ]
         },
         "layout": {
          "annotationdefaults": {
           "arrowcolor": "#2a3f5f",
           "arrowhead": 0,
           "arrowwidth": 1
          },
          "autotypenumbers": "strict",
          "coloraxis": {
           "colorbar": {
            "outlinewidth": 0,
            "ticks": ""
           }
          },
          "colorscale": {
           "diverging": [
            [
             0,
             "#8e0152"
            ],
            [
             0.1,
             "#c51b7d"
            ],
            [
             0.2,
             "#de77ae"
            ],
            [
             0.3,
             "#f1b6da"
            ],
            [
             0.4,
             "#fde0ef"
            ],
            [
             0.5,
             "#f7f7f7"
            ],
            [
             0.6,
             "#e6f5d0"
            ],
            [
             0.7,
             "#b8e186"
            ],
            [
             0.8,
             "#7fbc41"
            ],
            [
             0.9,
             "#4d9221"
            ],
            [
             1,
             "#276419"
            ]
           ],
           "sequential": [
            [
             0,
             "#0d0887"
            ],
            [
             0.1111111111111111,
             "#46039f"
            ],
            [
             0.2222222222222222,
             "#7201a8"
            ],
            [
             0.3333333333333333,
             "#9c179e"
            ],
            [
             0.4444444444444444,
             "#bd3786"
            ],
            [
             0.5555555555555556,
             "#d8576b"
            ],
            [
             0.6666666666666666,
             "#ed7953"
            ],
            [
             0.7777777777777778,
             "#fb9f3a"
            ],
            [
             0.8888888888888888,
             "#fdca26"
            ],
            [
             1,
             "#f0f921"
            ]
           ],
           "sequentialminus": [
            [
             0,
             "#0d0887"
            ],
            [
             0.1111111111111111,
             "#46039f"
            ],
            [
             0.2222222222222222,
             "#7201a8"
            ],
            [
             0.3333333333333333,
             "#9c179e"
            ],
            [
             0.4444444444444444,
             "#bd3786"
            ],
            [
             0.5555555555555556,
             "#d8576b"
            ],
            [
             0.6666666666666666,
             "#ed7953"
            ],
            [
             0.7777777777777778,
             "#fb9f3a"
            ],
            [
             0.8888888888888888,
             "#fdca26"
            ],
            [
             1,
             "#f0f921"
            ]
           ]
          },
          "colorway": [
           "#636efa",
           "#EF553B",
           "#00cc96",
           "#ab63fa",
           "#FFA15A",
           "#19d3f3",
           "#FF6692",
           "#B6E880",
           "#FF97FF",
           "#FECB52"
          ],
          "font": {
           "color": "#2a3f5f"
          },
          "geo": {
           "bgcolor": "white",
           "lakecolor": "white",
           "landcolor": "#E5ECF6",
           "showlakes": true,
           "showland": true,
           "subunitcolor": "white"
          },
          "hoverlabel": {
           "align": "left"
          },
          "hovermode": "closest",
          "mapbox": {
           "style": "light"
          },
          "paper_bgcolor": "white",
          "plot_bgcolor": "#E5ECF6",
          "polar": {
           "angularaxis": {
            "gridcolor": "white",
            "linecolor": "white",
            "ticks": ""
           },
           "bgcolor": "#E5ECF6",
           "radialaxis": {
            "gridcolor": "white",
            "linecolor": "white",
            "ticks": ""
           }
          },
          "scene": {
           "xaxis": {
            "backgroundcolor": "#E5ECF6",
            "gridcolor": "white",
            "gridwidth": 2,
            "linecolor": "white",
            "showbackground": true,
            "ticks": "",
            "zerolinecolor": "white"
           },
           "yaxis": {
            "backgroundcolor": "#E5ECF6",
            "gridcolor": "white",
            "gridwidth": 2,
            "linecolor": "white",
            "showbackground": true,
            "ticks": "",
            "zerolinecolor": "white"
           },
           "zaxis": {
            "backgroundcolor": "#E5ECF6",
            "gridcolor": "white",
            "gridwidth": 2,
            "linecolor": "white",
            "showbackground": true,
            "ticks": "",
            "zerolinecolor": "white"
           }
          },
          "shapedefaults": {
           "line": {
            "color": "#2a3f5f"
           }
          },
          "ternary": {
           "aaxis": {
            "gridcolor": "white",
            "linecolor": "white",
            "ticks": ""
           },
           "baxis": {
            "gridcolor": "white",
            "linecolor": "white",
            "ticks": ""
           },
           "bgcolor": "#E5ECF6",
           "caxis": {
            "gridcolor": "white",
            "linecolor": "white",
            "ticks": ""
           }
          },
          "title": {
           "x": 0.05
          },
          "xaxis": {
           "automargin": true,
           "gridcolor": "white",
           "linecolor": "white",
           "ticks": "",
           "title": {
            "standoff": 15
           },
           "zerolinecolor": "white",
           "zerolinewidth": 2
          },
          "yaxis": {
           "automargin": true,
           "gridcolor": "white",
           "linecolor": "white",
           "ticks": "",
           "title": {
            "standoff": 15
           },
           "zerolinecolor": "white",
           "zerolinewidth": 2
          }
         }
        },
        "title": {
         "text": "Range of Motion Parameters"
        },
        "xaxis": {
         "tickfont": {
          "color": "#7f7f7f",
          "family": "Courier New, monospace",
          "size": 14
         },
         "title": {
          "font": {
           "color": "#7f7f7f",
           "family": "Courier New, monospace",
           "size": 18
          },
          "text": "Month"
         }
        },
        "yaxis": {
         "tickfont": {
          "color": "#7f7f7f",
          "family": "Courier New, monospace",
          "size": 14
         },
         "title": {
          "font": {
           "color": "#7f7f7f",
           "family": "Courier New, monospace",
           "size": 18
          },
          "text": "ROM kneeRight [degrees]"
         }
        }
       }
      },
      "text/html": [
       "<div>                            <div id=\"f144ec4c-2367-4e10-8e5f-8d2852810acd\" class=\"plotly-graph-div\" style=\"height:525px; width:100%;\"></div>            <script type=\"text/javascript\">                require([\"plotly\"], function(Plotly) {                    window.PLOTLYENV=window.PLOTLYENV || {};                                    if (document.getElementById(\"f144ec4c-2367-4e10-8e5f-8d2852810acd\")) {                    Plotly.newPlot(                        \"f144ec4c-2367-4e10-8e5f-8d2852810acd\",                        [{\"marker\":{\"color\":\"rgb(0,0,255)\"},\"name\":\"Maximum value reached\",\"x\":[1,2,3,4,5,6,7,8,9,10,11,12],\"y\":[73.2278158321335,0,0,0,0,0,0,0,0,0,0,0],\"type\":\"bar\"},{\"marker\":{\"color\":\"rgb(255,0,0)\"},\"name\":\"Minimum value reached\",\"x\":[1,2,3,4,5,6,7,8,9,10,11,12],\"y\":[64.32348376462171,0,0,0,0,0,0,0,0,0,0,0],\"type\":\"bar\"}],                        {\"bargap\":0.1,\"bargroupgap\":0.0,\"barmode\":\"group\",\"font\":{\"color\":\"black\",\"family\":\"Courier New, monospace\",\"size\":18},\"legend\":{\"bgcolor\":\"rgba(255, 255, 255, 0)\",\"bordercolor\":\"rgba(255, 255, 255, 0)\"},\"template\":{\"data\":{\"barpolar\":[{\"marker\":{\"line\":{\"color\":\"#E5ECF6\",\"width\":0.5},\"pattern\":{\"fillmode\":\"overlay\",\"size\":10,\"solidity\":0.2}},\"type\":\"barpolar\"}],\"bar\":[{\"error_x\":{\"color\":\"#2a3f5f\"},\"error_y\":{\"color\":\"#2a3f5f\"},\"marker\":{\"line\":{\"color\":\"#E5ECF6\",\"width\":0.5},\"pattern\":{\"fillmode\":\"overlay\",\"size\":10,\"solidity\":0.2}},\"type\":\"bar\"}],\"carpet\":[{\"aaxis\":{\"endlinecolor\":\"#2a3f5f\",\"gridcolor\":\"white\",\"linecolor\":\"white\",\"minorgridcolor\":\"white\",\"startlinecolor\":\"#2a3f5f\"},\"baxis\":{\"endlinecolor\":\"#2a3f5f\",\"gridcolor\":\"white\",\"linecolor\":\"white\",\"minorgridcolor\":\"white\",\"startlinecolor\":\"#2a3f5f\"},\"type\":\"carpet\"}],\"choropleth\":[{\"colorbar\":{\"outlinewidth\":0,\"ticks\":\"\"},\"type\":\"choropleth\"}],\"contourcarpet\":[{\"colorbar\":{\"outlinewidth\":0,\"ticks\":\"\"},\"type\":\"contourcarpet\"}],\"contour\":[{\"colorbar\":{\"outlinewidth\":0,\"ticks\":\"\"},\"colorscale\":[[0.0,\"#0d0887\"],[0.1111111111111111,\"#46039f\"],[0.2222222222222222,\"#7201a8\"],[0.3333333333333333,\"#9c179e\"],[0.4444444444444444,\"#bd3786\"],[0.5555555555555556,\"#d8576b\"],[0.6666666666666666,\"#ed7953\"],[0.7777777777777778,\"#fb9f3a\"],[0.8888888888888888,\"#fdca26\"],[1.0,\"#f0f921\"]],\"type\":\"contour\"}],\"heatmapgl\":[{\"colorbar\":{\"outlinewidth\":0,\"ticks\":\"\"},\"colorscale\":[[0.0,\"#0d0887\"],[0.1111111111111111,\"#46039f\"],[0.2222222222222222,\"#7201a8\"],[0.3333333333333333,\"#9c179e\"],[0.4444444444444444,\"#bd3786\"],[0.5555555555555556,\"#d8576b\"],[0.6666666666666666,\"#ed7953\"],[0.7777777777777778,\"#fb9f3a\"],[0.8888888888888888,\"#fdca26\"],[1.0,\"#f0f921\"]],\"type\":\"heatmapgl\"}],\"heatmap\":[{\"colorbar\":{\"outlinewidth\":0,\"ticks\":\"\"},\"colorscale\":[[0.0,\"#0d0887\"],[0.1111111111111111,\"#46039f\"],[0.2222222222222222,\"#7201a8\"],[0.3333333333333333,\"#9c179e\"],[0.4444444444444444,\"#bd3786\"],[0.5555555555555556,\"#d8576b\"],[0.6666666666666666,\"#ed7953\"],[0.7777777777777778,\"#fb9f3a\"],[0.8888888888888888,\"#fdca26\"],[1.0,\"#f0f921\"]],\"type\":\"heatmap\"}],\"histogram2dcontour\":[{\"colorbar\":{\"outlinewidth\":0,\"ticks\":\"\"},\"colorscale\":[[0.0,\"#0d0887\"],[0.1111111111111111,\"#46039f\"],[0.2222222222222222,\"#7201a8\"],[0.3333333333333333,\"#9c179e\"],[0.4444444444444444,\"#bd3786\"],[0.5555555555555556,\"#d8576b\"],[0.6666666666666666,\"#ed7953\"],[0.7777777777777778,\"#fb9f3a\"],[0.8888888888888888,\"#fdca26\"],[1.0,\"#f0f921\"]],\"type\":\"histogram2dcontour\"}],\"histogram2d\":[{\"colorbar\":{\"outlinewidth\":0,\"ticks\":\"\"},\"colorscale\":[[0.0,\"#0d0887\"],[0.1111111111111111,\"#46039f\"],[0.2222222222222222,\"#7201a8\"],[0.3333333333333333,\"#9c179e\"],[0.4444444444444444,\"#bd3786\"],[0.5555555555555556,\"#d8576b\"],[0.6666666666666666,\"#ed7953\"],[0.7777777777777778,\"#fb9f3a\"],[0.8888888888888888,\"#fdca26\"],[1.0,\"#f0f921\"]],\"type\":\"histogram2d\"}],\"histogram\":[{\"marker\":{\"pattern\":{\"fillmode\":\"overlay\",\"size\":10,\"solidity\":0.2}},\"type\":\"histogram\"}],\"mesh3d\":[{\"colorbar\":{\"outlinewidth\":0,\"ticks\":\"\"},\"type\":\"mesh3d\"}],\"parcoords\":[{\"line\":{\"colorbar\":{\"outlinewidth\":0,\"ticks\":\"\"}},\"type\":\"parcoords\"}],\"pie\":[{\"automargin\":true,\"type\":\"pie\"}],\"scatter3d\":[{\"line\":{\"colorbar\":{\"outlinewidth\":0,\"ticks\":\"\"}},\"marker\":{\"colorbar\":{\"outlinewidth\":0,\"ticks\":\"\"}},\"type\":\"scatter3d\"}],\"scattercarpet\":[{\"marker\":{\"colorbar\":{\"outlinewidth\":0,\"ticks\":\"\"}},\"type\":\"scattercarpet\"}],\"scattergeo\":[{\"marker\":{\"colorbar\":{\"outlinewidth\":0,\"ticks\":\"\"}},\"type\":\"scattergeo\"}],\"scattergl\":[{\"marker\":{\"colorbar\":{\"outlinewidth\":0,\"ticks\":\"\"}},\"type\":\"scattergl\"}],\"scattermapbox\":[{\"marker\":{\"colorbar\":{\"outlinewidth\":0,\"ticks\":\"\"}},\"type\":\"scattermapbox\"}],\"scatterpolargl\":[{\"marker\":{\"colorbar\":{\"outlinewidth\":0,\"ticks\":\"\"}},\"type\":\"scatterpolargl\"}],\"scatterpolar\":[{\"marker\":{\"colorbar\":{\"outlinewidth\":0,\"ticks\":\"\"}},\"type\":\"scatterpolar\"}],\"scatter\":[{\"fillpattern\":{\"fillmode\":\"overlay\",\"size\":10,\"solidity\":0.2},\"type\":\"scatter\"}],\"scatterternary\":[{\"marker\":{\"colorbar\":{\"outlinewidth\":0,\"ticks\":\"\"}},\"type\":\"scatterternary\"}],\"surface\":[{\"colorbar\":{\"outlinewidth\":0,\"ticks\":\"\"},\"colorscale\":[[0.0,\"#0d0887\"],[0.1111111111111111,\"#46039f\"],[0.2222222222222222,\"#7201a8\"],[0.3333333333333333,\"#9c179e\"],[0.4444444444444444,\"#bd3786\"],[0.5555555555555556,\"#d8576b\"],[0.6666666666666666,\"#ed7953\"],[0.7777777777777778,\"#fb9f3a\"],[0.8888888888888888,\"#fdca26\"],[1.0,\"#f0f921\"]],\"type\":\"surface\"}],\"table\":[{\"cells\":{\"fill\":{\"color\":\"#EBF0F8\"},\"line\":{\"color\":\"white\"}},\"header\":{\"fill\":{\"color\":\"#C8D4E3\"},\"line\":{\"color\":\"white\"}},\"type\":\"table\"}]},\"layout\":{\"annotationdefaults\":{\"arrowcolor\":\"#2a3f5f\",\"arrowhead\":0,\"arrowwidth\":1},\"autotypenumbers\":\"strict\",\"coloraxis\":{\"colorbar\":{\"outlinewidth\":0,\"ticks\":\"\"}},\"colorscale\":{\"diverging\":[[0,\"#8e0152\"],[0.1,\"#c51b7d\"],[0.2,\"#de77ae\"],[0.3,\"#f1b6da\"],[0.4,\"#fde0ef\"],[0.5,\"#f7f7f7\"],[0.6,\"#e6f5d0\"],[0.7,\"#b8e186\"],[0.8,\"#7fbc41\"],[0.9,\"#4d9221\"],[1,\"#276419\"]],\"sequential\":[[0.0,\"#0d0887\"],[0.1111111111111111,\"#46039f\"],[0.2222222222222222,\"#7201a8\"],[0.3333333333333333,\"#9c179e\"],[0.4444444444444444,\"#bd3786\"],[0.5555555555555556,\"#d8576b\"],[0.6666666666666666,\"#ed7953\"],[0.7777777777777778,\"#fb9f3a\"],[0.8888888888888888,\"#fdca26\"],[1.0,\"#f0f921\"]],\"sequentialminus\":[[0.0,\"#0d0887\"],[0.1111111111111111,\"#46039f\"],[0.2222222222222222,\"#7201a8\"],[0.3333333333333333,\"#9c179e\"],[0.4444444444444444,\"#bd3786\"],[0.5555555555555556,\"#d8576b\"],[0.6666666666666666,\"#ed7953\"],[0.7777777777777778,\"#fb9f3a\"],[0.8888888888888888,\"#fdca26\"],[1.0,\"#f0f921\"]]},\"colorway\":[\"#636efa\",\"#EF553B\",\"#00cc96\",\"#ab63fa\",\"#FFA15A\",\"#19d3f3\",\"#FF6692\",\"#B6E880\",\"#FF97FF\",\"#FECB52\"],\"font\":{\"color\":\"#2a3f5f\"},\"geo\":{\"bgcolor\":\"white\",\"lakecolor\":\"white\",\"landcolor\":\"#E5ECF6\",\"showlakes\":true,\"showland\":true,\"subunitcolor\":\"white\"},\"hoverlabel\":{\"align\":\"left\"},\"hovermode\":\"closest\",\"mapbox\":{\"style\":\"light\"},\"paper_bgcolor\":\"white\",\"plot_bgcolor\":\"#E5ECF6\",\"polar\":{\"angularaxis\":{\"gridcolor\":\"white\",\"linecolor\":\"white\",\"ticks\":\"\"},\"bgcolor\":\"#E5ECF6\",\"radialaxis\":{\"gridcolor\":\"white\",\"linecolor\":\"white\",\"ticks\":\"\"}},\"scene\":{\"xaxis\":{\"backgroundcolor\":\"#E5ECF6\",\"gridcolor\":\"white\",\"gridwidth\":2,\"linecolor\":\"white\",\"showbackground\":true,\"ticks\":\"\",\"zerolinecolor\":\"white\"},\"yaxis\":{\"backgroundcolor\":\"#E5ECF6\",\"gridcolor\":\"white\",\"gridwidth\":2,\"linecolor\":\"white\",\"showbackground\":true,\"ticks\":\"\",\"zerolinecolor\":\"white\"},\"zaxis\":{\"backgroundcolor\":\"#E5ECF6\",\"gridcolor\":\"white\",\"gridwidth\":2,\"linecolor\":\"white\",\"showbackground\":true,\"ticks\":\"\",\"zerolinecolor\":\"white\"}},\"shapedefaults\":{\"line\":{\"color\":\"#2a3f5f\"}},\"ternary\":{\"aaxis\":{\"gridcolor\":\"white\",\"linecolor\":\"white\",\"ticks\":\"\"},\"baxis\":{\"gridcolor\":\"white\",\"linecolor\":\"white\",\"ticks\":\"\"},\"bgcolor\":\"#E5ECF6\",\"caxis\":{\"gridcolor\":\"white\",\"linecolor\":\"white\",\"ticks\":\"\"}},\"title\":{\"x\":0.05},\"xaxis\":{\"automargin\":true,\"gridcolor\":\"white\",\"linecolor\":\"white\",\"ticks\":\"\",\"title\":{\"standoff\":15},\"zerolinecolor\":\"white\",\"zerolinewidth\":2},\"yaxis\":{\"automargin\":true,\"gridcolor\":\"white\",\"linecolor\":\"white\",\"ticks\":\"\",\"title\":{\"standoff\":15},\"zerolinecolor\":\"white\",\"zerolinewidth\":2}}},\"title\":{\"text\":\"Range of Motion Parameters\"},\"xaxis\":{\"tickfont\":{\"color\":\"#7f7f7f\",\"family\":\"Courier New, monospace\",\"size\":14},\"title\":{\"font\":{\"color\":\"#7f7f7f\",\"family\":\"Courier New, monospace\",\"size\":18},\"text\":\"Month\"}},\"yaxis\":{\"tickfont\":{\"color\":\"#7f7f7f\",\"family\":\"Courier New, monospace\",\"size\":14},\"title\":{\"font\":{\"color\":\"#7f7f7f\",\"family\":\"Courier New, monospace\",\"size\":18},\"text\":\"ROM kneeRight [degrees]\"}}},                        {\"responsive\": true}                    ).then(function(){\n",
       "                            \n",
       "var gd = document.getElementById('f144ec4c-2367-4e10-8e5f-8d2852810acd');\n",
       "var x = new MutationObserver(function (mutations, observer) {{\n",
       "        var display = window.getComputedStyle(gd).display;\n",
       "        if (!display || display === 'none') {{\n",
       "            console.log([gd, 'removed!']);\n",
       "            Plotly.purge(gd);\n",
       "            observer.disconnect();\n",
       "        }}\n",
       "}});\n",
       "\n",
       "// Listen for the removal of the full notebook cells\n",
       "var notebookContainer = gd.closest('#notebook-container');\n",
       "if (notebookContainer) {{\n",
       "    x.observe(notebookContainer, {childList: true});\n",
       "}}\n",
       "\n",
       "// Listen for the clearing of the current output cell\n",
       "var outputEl = gd.closest('.output');\n",
       "if (outputEl) {{\n",
       "    x.observe(outputEl, {childList: true});\n",
       "}}\n",
       "\n",
       "                        })                };                });            </script>        </div>"
      ]
     },
     "metadata": {},
     "output_type": "display_data"
    },
    {
     "data": {
      "application/vnd.plotly.v1+json": {
       "config": {
        "linkText": "Export to plot.ly",
        "plotlyServerURL": "https://plot.ly",
        "showLink": false
       },
       "data": [
        {
         "marker": {
          "color": "rgb(0,0,255)"
         },
         "name": "Maximum value reached",
         "type": "bar",
         "x": [
          1,
          2,
          3,
          4,
          5,
          6,
          7,
          8,
          9,
          10,
          11,
          12
         ],
         "y": [
          90,
          0,
          0,
          0,
          0,
          0,
          0,
          0,
          0,
          0,
          0,
          0
         ]
        },
        {
         "marker": {
          "color": "rgb(255,0,0)"
         },
         "name": "Minimum value reached",
         "type": "bar",
         "x": [
          1,
          2,
          3,
          4,
          5,
          6,
          7,
          8,
          9,
          10,
          11,
          12
         ],
         "y": [
          90,
          0,
          0,
          0,
          0,
          0,
          0,
          0,
          0,
          0,
          0,
          0
         ]
        }
       ],
       "layout": {
        "bargap": 0.1,
        "bargroupgap": 0,
        "barmode": "group",
        "font": {
         "color": "black",
         "family": "Courier New, monospace",
         "size": 18
        },
        "legend": {
         "bgcolor": "rgba(255, 255, 255, 0)",
         "bordercolor": "rgba(255, 255, 255, 0)"
        },
        "template": {
         "data": {
          "bar": [
           {
            "error_x": {
             "color": "#2a3f5f"
            },
            "error_y": {
             "color": "#2a3f5f"
            },
            "marker": {
             "line": {
              "color": "#E5ECF6",
              "width": 0.5
             },
             "pattern": {
              "fillmode": "overlay",
              "size": 10,
              "solidity": 0.2
             }
            },
            "type": "bar"
           }
          ],
          "barpolar": [
           {
            "marker": {
             "line": {
              "color": "#E5ECF6",
              "width": 0.5
             },
             "pattern": {
              "fillmode": "overlay",
              "size": 10,
              "solidity": 0.2
             }
            },
            "type": "barpolar"
           }
          ],
          "carpet": [
           {
            "aaxis": {
             "endlinecolor": "#2a3f5f",
             "gridcolor": "white",
             "linecolor": "white",
             "minorgridcolor": "white",
             "startlinecolor": "#2a3f5f"
            },
            "baxis": {
             "endlinecolor": "#2a3f5f",
             "gridcolor": "white",
             "linecolor": "white",
             "minorgridcolor": "white",
             "startlinecolor": "#2a3f5f"
            },
            "type": "carpet"
           }
          ],
          "choropleth": [
           {
            "colorbar": {
             "outlinewidth": 0,
             "ticks": ""
            },
            "type": "choropleth"
           }
          ],
          "contour": [
           {
            "colorbar": {
             "outlinewidth": 0,
             "ticks": ""
            },
            "colorscale": [
             [
              0,
              "#0d0887"
             ],
             [
              0.1111111111111111,
              "#46039f"
             ],
             [
              0.2222222222222222,
              "#7201a8"
             ],
             [
              0.3333333333333333,
              "#9c179e"
             ],
             [
              0.4444444444444444,
              "#bd3786"
             ],
             [
              0.5555555555555556,
              "#d8576b"
             ],
             [
              0.6666666666666666,
              "#ed7953"
             ],
             [
              0.7777777777777778,
              "#fb9f3a"
             ],
             [
              0.8888888888888888,
              "#fdca26"
             ],
             [
              1,
              "#f0f921"
             ]
            ],
            "type": "contour"
           }
          ],
          "contourcarpet": [
           {
            "colorbar": {
             "outlinewidth": 0,
             "ticks": ""
            },
            "type": "contourcarpet"
           }
          ],
          "heatmap": [
           {
            "colorbar": {
             "outlinewidth": 0,
             "ticks": ""
            },
            "colorscale": [
             [
              0,
              "#0d0887"
             ],
             [
              0.1111111111111111,
              "#46039f"
             ],
             [
              0.2222222222222222,
              "#7201a8"
             ],
             [
              0.3333333333333333,
              "#9c179e"
             ],
             [
              0.4444444444444444,
              "#bd3786"
             ],
             [
              0.5555555555555556,
              "#d8576b"
             ],
             [
              0.6666666666666666,
              "#ed7953"
             ],
             [
              0.7777777777777778,
              "#fb9f3a"
             ],
             [
              0.8888888888888888,
              "#fdca26"
             ],
             [
              1,
              "#f0f921"
             ]
            ],
            "type": "heatmap"
           }
          ],
          "heatmapgl": [
           {
            "colorbar": {
             "outlinewidth": 0,
             "ticks": ""
            },
            "colorscale": [
             [
              0,
              "#0d0887"
             ],
             [
              0.1111111111111111,
              "#46039f"
             ],
             [
              0.2222222222222222,
              "#7201a8"
             ],
             [
              0.3333333333333333,
              "#9c179e"
             ],
             [
              0.4444444444444444,
              "#bd3786"
             ],
             [
              0.5555555555555556,
              "#d8576b"
             ],
             [
              0.6666666666666666,
              "#ed7953"
             ],
             [
              0.7777777777777778,
              "#fb9f3a"
             ],
             [
              0.8888888888888888,
              "#fdca26"
             ],
             [
              1,
              "#f0f921"
             ]
            ],
            "type": "heatmapgl"
           }
          ],
          "histogram": [
           {
            "marker": {
             "pattern": {
              "fillmode": "overlay",
              "size": 10,
              "solidity": 0.2
             }
            },
            "type": "histogram"
           }
          ],
          "histogram2d": [
           {
            "colorbar": {
             "outlinewidth": 0,
             "ticks": ""
            },
            "colorscale": [
             [
              0,
              "#0d0887"
             ],
             [
              0.1111111111111111,
              "#46039f"
             ],
             [
              0.2222222222222222,
              "#7201a8"
             ],
             [
              0.3333333333333333,
              "#9c179e"
             ],
             [
              0.4444444444444444,
              "#bd3786"
             ],
             [
              0.5555555555555556,
              "#d8576b"
             ],
             [
              0.6666666666666666,
              "#ed7953"
             ],
             [
              0.7777777777777778,
              "#fb9f3a"
             ],
             [
              0.8888888888888888,
              "#fdca26"
             ],
             [
              1,
              "#f0f921"
             ]
            ],
            "type": "histogram2d"
           }
          ],
          "histogram2dcontour": [
           {
            "colorbar": {
             "outlinewidth": 0,
             "ticks": ""
            },
            "colorscale": [
             [
              0,
              "#0d0887"
             ],
             [
              0.1111111111111111,
              "#46039f"
             ],
             [
              0.2222222222222222,
              "#7201a8"
             ],
             [
              0.3333333333333333,
              "#9c179e"
             ],
             [
              0.4444444444444444,
              "#bd3786"
             ],
             [
              0.5555555555555556,
              "#d8576b"
             ],
             [
              0.6666666666666666,
              "#ed7953"
             ],
             [
              0.7777777777777778,
              "#fb9f3a"
             ],
             [
              0.8888888888888888,
              "#fdca26"
             ],
             [
              1,
              "#f0f921"
             ]
            ],
            "type": "histogram2dcontour"
           }
          ],
          "mesh3d": [
           {
            "colorbar": {
             "outlinewidth": 0,
             "ticks": ""
            },
            "type": "mesh3d"
           }
          ],
          "parcoords": [
           {
            "line": {
             "colorbar": {
              "outlinewidth": 0,
              "ticks": ""
             }
            },
            "type": "parcoords"
           }
          ],
          "pie": [
           {
            "automargin": true,
            "type": "pie"
           }
          ],
          "scatter": [
           {
            "fillpattern": {
             "fillmode": "overlay",
             "size": 10,
             "solidity": 0.2
            },
            "type": "scatter"
           }
          ],
          "scatter3d": [
           {
            "line": {
             "colorbar": {
              "outlinewidth": 0,
              "ticks": ""
             }
            },
            "marker": {
             "colorbar": {
              "outlinewidth": 0,
              "ticks": ""
             }
            },
            "type": "scatter3d"
           }
          ],
          "scattercarpet": [
           {
            "marker": {
             "colorbar": {
              "outlinewidth": 0,
              "ticks": ""
             }
            },
            "type": "scattercarpet"
           }
          ],
          "scattergeo": [
           {
            "marker": {
             "colorbar": {
              "outlinewidth": 0,
              "ticks": ""
             }
            },
            "type": "scattergeo"
           }
          ],
          "scattergl": [
           {
            "marker": {
             "colorbar": {
              "outlinewidth": 0,
              "ticks": ""
             }
            },
            "type": "scattergl"
           }
          ],
          "scattermapbox": [
           {
            "marker": {
             "colorbar": {
              "outlinewidth": 0,
              "ticks": ""
             }
            },
            "type": "scattermapbox"
           }
          ],
          "scatterpolar": [
           {
            "marker": {
             "colorbar": {
              "outlinewidth": 0,
              "ticks": ""
             }
            },
            "type": "scatterpolar"
           }
          ],
          "scatterpolargl": [
           {
            "marker": {
             "colorbar": {
              "outlinewidth": 0,
              "ticks": ""
             }
            },
            "type": "scatterpolargl"
           }
          ],
          "scatterternary": [
           {
            "marker": {
             "colorbar": {
              "outlinewidth": 0,
              "ticks": ""
             }
            },
            "type": "scatterternary"
           }
          ],
          "surface": [
           {
            "colorbar": {
             "outlinewidth": 0,
             "ticks": ""
            },
            "colorscale": [
             [
              0,
              "#0d0887"
             ],
             [
              0.1111111111111111,
              "#46039f"
             ],
             [
              0.2222222222222222,
              "#7201a8"
             ],
             [
              0.3333333333333333,
              "#9c179e"
             ],
             [
              0.4444444444444444,
              "#bd3786"
             ],
             [
              0.5555555555555556,
              "#d8576b"
             ],
             [
              0.6666666666666666,
              "#ed7953"
             ],
             [
              0.7777777777777778,
              "#fb9f3a"
             ],
             [
              0.8888888888888888,
              "#fdca26"
             ],
             [
              1,
              "#f0f921"
             ]
            ],
            "type": "surface"
           }
          ],
          "table": [
           {
            "cells": {
             "fill": {
              "color": "#EBF0F8"
             },
             "line": {
              "color": "white"
             }
            },
            "header": {
             "fill": {
              "color": "#C8D4E3"
             },
             "line": {
              "color": "white"
             }
            },
            "type": "table"
           }
          ]
         },
         "layout": {
          "annotationdefaults": {
           "arrowcolor": "#2a3f5f",
           "arrowhead": 0,
           "arrowwidth": 1
          },
          "autotypenumbers": "strict",
          "coloraxis": {
           "colorbar": {
            "outlinewidth": 0,
            "ticks": ""
           }
          },
          "colorscale": {
           "diverging": [
            [
             0,
             "#8e0152"
            ],
            [
             0.1,
             "#c51b7d"
            ],
            [
             0.2,
             "#de77ae"
            ],
            [
             0.3,
             "#f1b6da"
            ],
            [
             0.4,
             "#fde0ef"
            ],
            [
             0.5,
             "#f7f7f7"
            ],
            [
             0.6,
             "#e6f5d0"
            ],
            [
             0.7,
             "#b8e186"
            ],
            [
             0.8,
             "#7fbc41"
            ],
            [
             0.9,
             "#4d9221"
            ],
            [
             1,
             "#276419"
            ]
           ],
           "sequential": [
            [
             0,
             "#0d0887"
            ],
            [
             0.1111111111111111,
             "#46039f"
            ],
            [
             0.2222222222222222,
             "#7201a8"
            ],
            [
             0.3333333333333333,
             "#9c179e"
            ],
            [
             0.4444444444444444,
             "#bd3786"
            ],
            [
             0.5555555555555556,
             "#d8576b"
            ],
            [
             0.6666666666666666,
             "#ed7953"
            ],
            [
             0.7777777777777778,
             "#fb9f3a"
            ],
            [
             0.8888888888888888,
             "#fdca26"
            ],
            [
             1,
             "#f0f921"
            ]
           ],
           "sequentialminus": [
            [
             0,
             "#0d0887"
            ],
            [
             0.1111111111111111,
             "#46039f"
            ],
            [
             0.2222222222222222,
             "#7201a8"
            ],
            [
             0.3333333333333333,
             "#9c179e"
            ],
            [
             0.4444444444444444,
             "#bd3786"
            ],
            [
             0.5555555555555556,
             "#d8576b"
            ],
            [
             0.6666666666666666,
             "#ed7953"
            ],
            [
             0.7777777777777778,
             "#fb9f3a"
            ],
            [
             0.8888888888888888,
             "#fdca26"
            ],
            [
             1,
             "#f0f921"
            ]
           ]
          },
          "colorway": [
           "#636efa",
           "#EF553B",
           "#00cc96",
           "#ab63fa",
           "#FFA15A",
           "#19d3f3",
           "#FF6692",
           "#B6E880",
           "#FF97FF",
           "#FECB52"
          ],
          "font": {
           "color": "#2a3f5f"
          },
          "geo": {
           "bgcolor": "white",
           "lakecolor": "white",
           "landcolor": "#E5ECF6",
           "showlakes": true,
           "showland": true,
           "subunitcolor": "white"
          },
          "hoverlabel": {
           "align": "left"
          },
          "hovermode": "closest",
          "mapbox": {
           "style": "light"
          },
          "paper_bgcolor": "white",
          "plot_bgcolor": "#E5ECF6",
          "polar": {
           "angularaxis": {
            "gridcolor": "white",
            "linecolor": "white",
            "ticks": ""
           },
           "bgcolor": "#E5ECF6",
           "radialaxis": {
            "gridcolor": "white",
            "linecolor": "white",
            "ticks": ""
           }
          },
          "scene": {
           "xaxis": {
            "backgroundcolor": "#E5ECF6",
            "gridcolor": "white",
            "gridwidth": 2,
            "linecolor": "white",
            "showbackground": true,
            "ticks": "",
            "zerolinecolor": "white"
           },
           "yaxis": {
            "backgroundcolor": "#E5ECF6",
            "gridcolor": "white",
            "gridwidth": 2,
            "linecolor": "white",
            "showbackground": true,
            "ticks": "",
            "zerolinecolor": "white"
           },
           "zaxis": {
            "backgroundcolor": "#E5ECF6",
            "gridcolor": "white",
            "gridwidth": 2,
            "linecolor": "white",
            "showbackground": true,
            "ticks": "",
            "zerolinecolor": "white"
           }
          },
          "shapedefaults": {
           "line": {
            "color": "#2a3f5f"
           }
          },
          "ternary": {
           "aaxis": {
            "gridcolor": "white",
            "linecolor": "white",
            "ticks": ""
           },
           "baxis": {
            "gridcolor": "white",
            "linecolor": "white",
            "ticks": ""
           },
           "bgcolor": "#E5ECF6",
           "caxis": {
            "gridcolor": "white",
            "linecolor": "white",
            "ticks": ""
           }
          },
          "title": {
           "x": 0.05
          },
          "xaxis": {
           "automargin": true,
           "gridcolor": "white",
           "linecolor": "white",
           "ticks": "",
           "title": {
            "standoff": 15
           },
           "zerolinecolor": "white",
           "zerolinewidth": 2
          },
          "yaxis": {
           "automargin": true,
           "gridcolor": "white",
           "linecolor": "white",
           "ticks": "",
           "title": {
            "standoff": 15
           },
           "zerolinecolor": "white",
           "zerolinewidth": 2
          }
         }
        },
        "title": {
         "text": "Range of Motion Parameters"
        },
        "xaxis": {
         "tickfont": {
          "color": "#7f7f7f",
          "family": "Courier New, monospace",
          "size": 14
         },
         "title": {
          "font": {
           "color": "#7f7f7f",
           "family": "Courier New, monospace",
           "size": 18
          },
          "text": "Month"
         }
        },
        "yaxis": {
         "tickfont": {
          "color": "#7f7f7f",
          "family": "Courier New, monospace",
          "size": 14
         },
         "title": {
          "font": {
           "color": "#7f7f7f",
           "family": "Courier New, monospace",
           "size": 18
          },
          "text": "ROM ankleRight [degrees]"
         }
        }
       }
      },
      "text/html": [
       "<div>                            <div id=\"0d3c3500-582f-4f6a-9826-c4f21bb56e41\" class=\"plotly-graph-div\" style=\"height:525px; width:100%;\"></div>            <script type=\"text/javascript\">                require([\"plotly\"], function(Plotly) {                    window.PLOTLYENV=window.PLOTLYENV || {};                                    if (document.getElementById(\"0d3c3500-582f-4f6a-9826-c4f21bb56e41\")) {                    Plotly.newPlot(                        \"0d3c3500-582f-4f6a-9826-c4f21bb56e41\",                        [{\"marker\":{\"color\":\"rgb(0,0,255)\"},\"name\":\"Maximum value reached\",\"x\":[1,2,3,4,5,6,7,8,9,10,11,12],\"y\":[90.0,0,0,0,0,0,0,0,0,0,0,0],\"type\":\"bar\"},{\"marker\":{\"color\":\"rgb(255,0,0)\"},\"name\":\"Minimum value reached\",\"x\":[1,2,3,4,5,6,7,8,9,10,11,12],\"y\":[90.0,0,0,0,0,0,0,0,0,0,0,0],\"type\":\"bar\"}],                        {\"bargap\":0.1,\"bargroupgap\":0.0,\"barmode\":\"group\",\"font\":{\"color\":\"black\",\"family\":\"Courier New, monospace\",\"size\":18},\"legend\":{\"bgcolor\":\"rgba(255, 255, 255, 0)\",\"bordercolor\":\"rgba(255, 255, 255, 0)\"},\"template\":{\"data\":{\"barpolar\":[{\"marker\":{\"line\":{\"color\":\"#E5ECF6\",\"width\":0.5},\"pattern\":{\"fillmode\":\"overlay\",\"size\":10,\"solidity\":0.2}},\"type\":\"barpolar\"}],\"bar\":[{\"error_x\":{\"color\":\"#2a3f5f\"},\"error_y\":{\"color\":\"#2a3f5f\"},\"marker\":{\"line\":{\"color\":\"#E5ECF6\",\"width\":0.5},\"pattern\":{\"fillmode\":\"overlay\",\"size\":10,\"solidity\":0.2}},\"type\":\"bar\"}],\"carpet\":[{\"aaxis\":{\"endlinecolor\":\"#2a3f5f\",\"gridcolor\":\"white\",\"linecolor\":\"white\",\"minorgridcolor\":\"white\",\"startlinecolor\":\"#2a3f5f\"},\"baxis\":{\"endlinecolor\":\"#2a3f5f\",\"gridcolor\":\"white\",\"linecolor\":\"white\",\"minorgridcolor\":\"white\",\"startlinecolor\":\"#2a3f5f\"},\"type\":\"carpet\"}],\"choropleth\":[{\"colorbar\":{\"outlinewidth\":0,\"ticks\":\"\"},\"type\":\"choropleth\"}],\"contourcarpet\":[{\"colorbar\":{\"outlinewidth\":0,\"ticks\":\"\"},\"type\":\"contourcarpet\"}],\"contour\":[{\"colorbar\":{\"outlinewidth\":0,\"ticks\":\"\"},\"colorscale\":[[0.0,\"#0d0887\"],[0.1111111111111111,\"#46039f\"],[0.2222222222222222,\"#7201a8\"],[0.3333333333333333,\"#9c179e\"],[0.4444444444444444,\"#bd3786\"],[0.5555555555555556,\"#d8576b\"],[0.6666666666666666,\"#ed7953\"],[0.7777777777777778,\"#fb9f3a\"],[0.8888888888888888,\"#fdca26\"],[1.0,\"#f0f921\"]],\"type\":\"contour\"}],\"heatmapgl\":[{\"colorbar\":{\"outlinewidth\":0,\"ticks\":\"\"},\"colorscale\":[[0.0,\"#0d0887\"],[0.1111111111111111,\"#46039f\"],[0.2222222222222222,\"#7201a8\"],[0.3333333333333333,\"#9c179e\"],[0.4444444444444444,\"#bd3786\"],[0.5555555555555556,\"#d8576b\"],[0.6666666666666666,\"#ed7953\"],[0.7777777777777778,\"#fb9f3a\"],[0.8888888888888888,\"#fdca26\"],[1.0,\"#f0f921\"]],\"type\":\"heatmapgl\"}],\"heatmap\":[{\"colorbar\":{\"outlinewidth\":0,\"ticks\":\"\"},\"colorscale\":[[0.0,\"#0d0887\"],[0.1111111111111111,\"#46039f\"],[0.2222222222222222,\"#7201a8\"],[0.3333333333333333,\"#9c179e\"],[0.4444444444444444,\"#bd3786\"],[0.5555555555555556,\"#d8576b\"],[0.6666666666666666,\"#ed7953\"],[0.7777777777777778,\"#fb9f3a\"],[0.8888888888888888,\"#fdca26\"],[1.0,\"#f0f921\"]],\"type\":\"heatmap\"}],\"histogram2dcontour\":[{\"colorbar\":{\"outlinewidth\":0,\"ticks\":\"\"},\"colorscale\":[[0.0,\"#0d0887\"],[0.1111111111111111,\"#46039f\"],[0.2222222222222222,\"#7201a8\"],[0.3333333333333333,\"#9c179e\"],[0.4444444444444444,\"#bd3786\"],[0.5555555555555556,\"#d8576b\"],[0.6666666666666666,\"#ed7953\"],[0.7777777777777778,\"#fb9f3a\"],[0.8888888888888888,\"#fdca26\"],[1.0,\"#f0f921\"]],\"type\":\"histogram2dcontour\"}],\"histogram2d\":[{\"colorbar\":{\"outlinewidth\":0,\"ticks\":\"\"},\"colorscale\":[[0.0,\"#0d0887\"],[0.1111111111111111,\"#46039f\"],[0.2222222222222222,\"#7201a8\"],[0.3333333333333333,\"#9c179e\"],[0.4444444444444444,\"#bd3786\"],[0.5555555555555556,\"#d8576b\"],[0.6666666666666666,\"#ed7953\"],[0.7777777777777778,\"#fb9f3a\"],[0.8888888888888888,\"#fdca26\"],[1.0,\"#f0f921\"]],\"type\":\"histogram2d\"}],\"histogram\":[{\"marker\":{\"pattern\":{\"fillmode\":\"overlay\",\"size\":10,\"solidity\":0.2}},\"type\":\"histogram\"}],\"mesh3d\":[{\"colorbar\":{\"outlinewidth\":0,\"ticks\":\"\"},\"type\":\"mesh3d\"}],\"parcoords\":[{\"line\":{\"colorbar\":{\"outlinewidth\":0,\"ticks\":\"\"}},\"type\":\"parcoords\"}],\"pie\":[{\"automargin\":true,\"type\":\"pie\"}],\"scatter3d\":[{\"line\":{\"colorbar\":{\"outlinewidth\":0,\"ticks\":\"\"}},\"marker\":{\"colorbar\":{\"outlinewidth\":0,\"ticks\":\"\"}},\"type\":\"scatter3d\"}],\"scattercarpet\":[{\"marker\":{\"colorbar\":{\"outlinewidth\":0,\"ticks\":\"\"}},\"type\":\"scattercarpet\"}],\"scattergeo\":[{\"marker\":{\"colorbar\":{\"outlinewidth\":0,\"ticks\":\"\"}},\"type\":\"scattergeo\"}],\"scattergl\":[{\"marker\":{\"colorbar\":{\"outlinewidth\":0,\"ticks\":\"\"}},\"type\":\"scattergl\"}],\"scattermapbox\":[{\"marker\":{\"colorbar\":{\"outlinewidth\":0,\"ticks\":\"\"}},\"type\":\"scattermapbox\"}],\"scatterpolargl\":[{\"marker\":{\"colorbar\":{\"outlinewidth\":0,\"ticks\":\"\"}},\"type\":\"scatterpolargl\"}],\"scatterpolar\":[{\"marker\":{\"colorbar\":{\"outlinewidth\":0,\"ticks\":\"\"}},\"type\":\"scatterpolar\"}],\"scatter\":[{\"fillpattern\":{\"fillmode\":\"overlay\",\"size\":10,\"solidity\":0.2},\"type\":\"scatter\"}],\"scatterternary\":[{\"marker\":{\"colorbar\":{\"outlinewidth\":0,\"ticks\":\"\"}},\"type\":\"scatterternary\"}],\"surface\":[{\"colorbar\":{\"outlinewidth\":0,\"ticks\":\"\"},\"colorscale\":[[0.0,\"#0d0887\"],[0.1111111111111111,\"#46039f\"],[0.2222222222222222,\"#7201a8\"],[0.3333333333333333,\"#9c179e\"],[0.4444444444444444,\"#bd3786\"],[0.5555555555555556,\"#d8576b\"],[0.6666666666666666,\"#ed7953\"],[0.7777777777777778,\"#fb9f3a\"],[0.8888888888888888,\"#fdca26\"],[1.0,\"#f0f921\"]],\"type\":\"surface\"}],\"table\":[{\"cells\":{\"fill\":{\"color\":\"#EBF0F8\"},\"line\":{\"color\":\"white\"}},\"header\":{\"fill\":{\"color\":\"#C8D4E3\"},\"line\":{\"color\":\"white\"}},\"type\":\"table\"}]},\"layout\":{\"annotationdefaults\":{\"arrowcolor\":\"#2a3f5f\",\"arrowhead\":0,\"arrowwidth\":1},\"autotypenumbers\":\"strict\",\"coloraxis\":{\"colorbar\":{\"outlinewidth\":0,\"ticks\":\"\"}},\"colorscale\":{\"diverging\":[[0,\"#8e0152\"],[0.1,\"#c51b7d\"],[0.2,\"#de77ae\"],[0.3,\"#f1b6da\"],[0.4,\"#fde0ef\"],[0.5,\"#f7f7f7\"],[0.6,\"#e6f5d0\"],[0.7,\"#b8e186\"],[0.8,\"#7fbc41\"],[0.9,\"#4d9221\"],[1,\"#276419\"]],\"sequential\":[[0.0,\"#0d0887\"],[0.1111111111111111,\"#46039f\"],[0.2222222222222222,\"#7201a8\"],[0.3333333333333333,\"#9c179e\"],[0.4444444444444444,\"#bd3786\"],[0.5555555555555556,\"#d8576b\"],[0.6666666666666666,\"#ed7953\"],[0.7777777777777778,\"#fb9f3a\"],[0.8888888888888888,\"#fdca26\"],[1.0,\"#f0f921\"]],\"sequentialminus\":[[0.0,\"#0d0887\"],[0.1111111111111111,\"#46039f\"],[0.2222222222222222,\"#7201a8\"],[0.3333333333333333,\"#9c179e\"],[0.4444444444444444,\"#bd3786\"],[0.5555555555555556,\"#d8576b\"],[0.6666666666666666,\"#ed7953\"],[0.7777777777777778,\"#fb9f3a\"],[0.8888888888888888,\"#fdca26\"],[1.0,\"#f0f921\"]]},\"colorway\":[\"#636efa\",\"#EF553B\",\"#00cc96\",\"#ab63fa\",\"#FFA15A\",\"#19d3f3\",\"#FF6692\",\"#B6E880\",\"#FF97FF\",\"#FECB52\"],\"font\":{\"color\":\"#2a3f5f\"},\"geo\":{\"bgcolor\":\"white\",\"lakecolor\":\"white\",\"landcolor\":\"#E5ECF6\",\"showlakes\":true,\"showland\":true,\"subunitcolor\":\"white\"},\"hoverlabel\":{\"align\":\"left\"},\"hovermode\":\"closest\",\"mapbox\":{\"style\":\"light\"},\"paper_bgcolor\":\"white\",\"plot_bgcolor\":\"#E5ECF6\",\"polar\":{\"angularaxis\":{\"gridcolor\":\"white\",\"linecolor\":\"white\",\"ticks\":\"\"},\"bgcolor\":\"#E5ECF6\",\"radialaxis\":{\"gridcolor\":\"white\",\"linecolor\":\"white\",\"ticks\":\"\"}},\"scene\":{\"xaxis\":{\"backgroundcolor\":\"#E5ECF6\",\"gridcolor\":\"white\",\"gridwidth\":2,\"linecolor\":\"white\",\"showbackground\":true,\"ticks\":\"\",\"zerolinecolor\":\"white\"},\"yaxis\":{\"backgroundcolor\":\"#E5ECF6\",\"gridcolor\":\"white\",\"gridwidth\":2,\"linecolor\":\"white\",\"showbackground\":true,\"ticks\":\"\",\"zerolinecolor\":\"white\"},\"zaxis\":{\"backgroundcolor\":\"#E5ECF6\",\"gridcolor\":\"white\",\"gridwidth\":2,\"linecolor\":\"white\",\"showbackground\":true,\"ticks\":\"\",\"zerolinecolor\":\"white\"}},\"shapedefaults\":{\"line\":{\"color\":\"#2a3f5f\"}},\"ternary\":{\"aaxis\":{\"gridcolor\":\"white\",\"linecolor\":\"white\",\"ticks\":\"\"},\"baxis\":{\"gridcolor\":\"white\",\"linecolor\":\"white\",\"ticks\":\"\"},\"bgcolor\":\"#E5ECF6\",\"caxis\":{\"gridcolor\":\"white\",\"linecolor\":\"white\",\"ticks\":\"\"}},\"title\":{\"x\":0.05},\"xaxis\":{\"automargin\":true,\"gridcolor\":\"white\",\"linecolor\":\"white\",\"ticks\":\"\",\"title\":{\"standoff\":15},\"zerolinecolor\":\"white\",\"zerolinewidth\":2},\"yaxis\":{\"automargin\":true,\"gridcolor\":\"white\",\"linecolor\":\"white\",\"ticks\":\"\",\"title\":{\"standoff\":15},\"zerolinecolor\":\"white\",\"zerolinewidth\":2}}},\"title\":{\"text\":\"Range of Motion Parameters\"},\"xaxis\":{\"tickfont\":{\"color\":\"#7f7f7f\",\"family\":\"Courier New, monospace\",\"size\":14},\"title\":{\"font\":{\"color\":\"#7f7f7f\",\"family\":\"Courier New, monospace\",\"size\":18},\"text\":\"Month\"}},\"yaxis\":{\"tickfont\":{\"color\":\"#7f7f7f\",\"family\":\"Courier New, monospace\",\"size\":14},\"title\":{\"font\":{\"color\":\"#7f7f7f\",\"family\":\"Courier New, monospace\",\"size\":18},\"text\":\"ROM ankleRight [degrees]\"}}},                        {\"responsive\": true}                    ).then(function(){\n",
       "                            \n",
       "var gd = document.getElementById('0d3c3500-582f-4f6a-9826-c4f21bb56e41');\n",
       "var x = new MutationObserver(function (mutations, observer) {{\n",
       "        var display = window.getComputedStyle(gd).display;\n",
       "        if (!display || display === 'none') {{\n",
       "            console.log([gd, 'removed!']);\n",
       "            Plotly.purge(gd);\n",
       "            observer.disconnect();\n",
       "        }}\n",
       "}});\n",
       "\n",
       "// Listen for the removal of the full notebook cells\n",
       "var notebookContainer = gd.closest('#notebook-container');\n",
       "if (notebookContainer) {{\n",
       "    x.observe(notebookContainer, {childList: true});\n",
       "}}\n",
       "\n",
       "// Listen for the clearing of the current output cell\n",
       "var outputEl = gd.closest('.output');\n",
       "if (outputEl) {{\n",
       "    x.observe(outputEl, {childList: true});\n",
       "}}\n",
       "\n",
       "                        })                };                });            </script>        </div>"
      ]
     },
     "metadata": {},
     "output_type": "display_data"
    }
   ],
   "source": [
    "allmonths = [1,2,3,4,5,6,7,8,9,10,11,12]\n",
    "counted_ex = {\n",
    "    \"tug\" : 0,\n",
    "    \"abduction_left\" : 0,\n",
    "    \"internal_rotation_left\" : 0,\n",
    "    \"external_rotation_left\" : 0,\n",
    "    \"reaching_left\" : 0\n",
    "}\n",
    "for i in range(len(exercises)):\n",
    "    exnamei = exercises[i].name\n",
    "    res_exi = exercises[i].result\n",
    "    if counted_ex[exnamei] < 1:\n",
    "\n",
    "        #############################\n",
    "        #      Results for TUG      #\n",
    "        #############################\n",
    "        if exnamei == \"tug\":\n",
    "            counted_ex[exnamei] = 1\n",
    "            step_month_table = pd.DataFrame.from_dict(stepmonth,orient='index',\n",
    "                                                      columns=['Jan','Feb','Mar','Apr','May','Jun',\n",
    "                                                           'Jul','Aug','Sep','Oct','Nov','Dec'])\n",
    "            step_month_table.index = [\"Number steps\",\"Speed [m/s]\",\"Step length [m]\",\n",
    "                                      \"Cadence [steps/s]\",\"Execution time [s]\"]\n",
    "            display(step_month_table)\n",
    "\n",
    "            for m in range(len(res_exi)): \n",
    "                single_metric,result_single_metric = res_exi[m]\n",
    "                if single_metric.name == \"ROM\":\n",
    "                    tagjoint = single_metric.tagjoint\n",
    "\n",
    "                    if np.sum(keyp2rommax_avg[tagjoint]) > 0.0:\n",
    "                        trace1 = go.Bar(\n",
    "                            x=allmonths, \n",
    "                            y=keyp2rommax_avg[tagjoint],\n",
    "                            name='Maximum value reached',\n",
    "                            marker=dict(\n",
    "                                color='rgb(0,0,255)'\n",
    "                            )\n",
    "                        )\n",
    "                        trace2 = go.Bar(\n",
    "                            x=allmonths, \n",
    "                            y=keyp2rommin_avg[tagjoint],\n",
    "                            name='Minimum value reached',\n",
    "                            marker=dict(\n",
    "                                color='rgb(255,0,0)'\n",
    "                                )\n",
    "                            )\n",
    "                        layout = go.Layout(\n",
    "                            title='Range of Motion Parameters',\n",
    "                            font=dict(family='Courier New, monospace', size=18, color='black'),\n",
    "                            xaxis=dict(\n",
    "                                title='Month',\n",
    "                                titlefont=dict(\n",
    "                                    family='Courier New, monospace',\n",
    "                                    size=18,\n",
    "                                    color='#7f7f7f'\n",
    "                                ),\n",
    "                                tickfont=dict(\n",
    "                                    family='Courier New, monospace',\n",
    "                                    size=14,\n",
    "                                    color='#7f7f7f'\n",
    "                                )\n",
    "                            ),\n",
    "                            yaxis=dict(\n",
    "                                    title='ROM ' + tagjoint + ' [degrees]',\n",
    "                                    titlefont=dict(\n",
    "                                        family='Courier New, monospace',\n",
    "                                        size=18,\n",
    "                                        color='#7f7f7f'\n",
    "                                    ),\n",
    "                            tickfont=dict(\n",
    "                                        family='Courier New, monospace',\n",
    "                                        size=14,\n",
    "                                        color='#7f7f7f'\n",
    "                                    )\n",
    "                                ),\n",
    "                            legend=dict(\n",
    "                                    bgcolor='rgba(255, 255, 255, 0)',\n",
    "                                    bordercolor='rgba(255, 255, 255, 0)'\n",
    "                                ),\n",
    "                            barmode='group',\n",
    "                            bargap=0.1,\n",
    "                            bargroupgap=0.0\n",
    "                            )\n",
    "                        data=[trace1,trace2]\n",
    "                        fig = go.Figure(data=data, layout=layout)\n",
    "                        iplot(fig)              "
   ]
  },
  {
   "cell_type": "code",
   "execution_count": 21,
   "metadata": {
    "scrolled": true
   },
   "outputs": [
    {
     "data": {
      "text/html": [
       "<font size=5,font color=gray>Results for Abduction</font>"
      ],
      "text/plain": [
       "<IPython.core.display.HTML object>"
      ]
     },
     "metadata": {},
     "output_type": "display_data"
    }
   ],
   "source": [
    "title = \"Results for Abduction\"\n",
    "msg1 = HTML('<font size=5><b>'+title+'</b></font>')\n",
    "msg2 = HTML('<font size=5,font color=gray>'+title+'</font>')\n",
    "if sum(counted_exmonth['abduction_left'])>0:\n",
    "    display(msg1);\n",
    "else:\n",
    "    display(msg2); "
   ]
  },
  {
   "cell_type": "code",
   "execution_count": 22,
   "metadata": {
    "scrolled": true
   },
   "outputs": [],
   "source": [
    "for i in range(len(exercises)):\n",
    "    exnamei = exercises[i].name\n",
    "    res_exi = exercises[i].result\n",
    "    if counted_ex[exnamei] < 1:\n",
    "\n",
    "        ###################################\n",
    "        #      Results for Abduction      #\n",
    "        ###################################\n",
    "        if \"abduction\" in exnamei:\n",
    "            counted_ex[exnamei] = 1           \n",
    "\n",
    "            for m in range(len(res_exi)): \n",
    "                single_metric,result_single_metric = res_exi[m]\n",
    "                if single_metric.name == \"ROM\":\n",
    "                    tagjoint = single_metric.tagjoint\n",
    "\n",
    "                    if np.sum(keyp2rommax_avg[tagjoint]) > 0.0:\n",
    "                        trace1 = go.Bar(\n",
    "                            x=allmonths, \n",
    "                            y=keyp2rommax_avg[tagjoint],\n",
    "                            name='Maximum value reached',\n",
    "                            marker=dict(\n",
    "                                color='rgb(0,0,255)'\n",
    "                            )\n",
    "                        )\n",
    "                        trace2 = go.Bar(\n",
    "                            x=allmonths, \n",
    "                            y=keyp2rommin_avg[tagjoint],\n",
    "                            name='Minimum value reached',\n",
    "                            marker=dict(\n",
    "                                color='rgb(255,0,0)'\n",
    "                                )\n",
    "                            )\n",
    "                        layout = go.Layout(\n",
    "                            title='Range of Motion Parameters',\n",
    "                            font=dict(family='Courier New, monospace', size=18, color='black'),\n",
    "                            xaxis=dict(\n",
    "                                title='Month',\n",
    "                                titlefont=dict(\n",
    "                                    family='Courier New, monospace',\n",
    "                                    size=18,\n",
    "                                    color='#7f7f7f'\n",
    "                                ),\n",
    "                                tickfont=dict(\n",
    "                                    family='Courier New, monospace',\n",
    "                                    size=14,\n",
    "                                    color='#7f7f7f'\n",
    "                                )\n",
    "                            ),\n",
    "                            yaxis=dict(\n",
    "                                    title='ROM ' + tagjoint + ' [degrees]',\n",
    "                                    titlefont=dict(\n",
    "                                        family='Courier New, monospace',\n",
    "                                        size=18,\n",
    "                                        color='#7f7f7f'\n",
    "                                    ),\n",
    "                            tickfont=dict(\n",
    "                                        family='Courier New, monospace',\n",
    "                                        size=14,\n",
    "                                        color='#7f7f7f'\n",
    "                                    )\n",
    "                                ),\n",
    "                            legend=dict(\n",
    "                                    bgcolor='rgba(255, 255, 255, 0)',\n",
    "                                    bordercolor='rgba(255, 255, 255, 0)'\n",
    "                                ),\n",
    "                            barmode='group',\n",
    "                            bargap=0.1,\n",
    "                            bargroupgap=0.0\n",
    "                            )\n",
    "                        data=[trace1,trace2]\n",
    "                        fig = go.Figure(data=data, layout=layout)\n",
    "                        iplot(fig)    "
   ]
  },
  {
   "cell_type": "code",
   "execution_count": 23,
   "metadata": {
    "scrolled": true
   },
   "outputs": [
    {
     "data": {
      "text/html": [
       "<font size=5,font color=gray>Results for Internal Rotation</font>"
      ],
      "text/plain": [
       "<IPython.core.display.HTML object>"
      ]
     },
     "metadata": {},
     "output_type": "display_data"
    }
   ],
   "source": [
    "title = \"Results for Internal Rotation\"\n",
    "msg1 = HTML('<font size=5><b>'+title+'</b></font>')\n",
    "msg2 = HTML('<font size=5,font color=gray>'+title+'</font>')\n",
    "if sum(counted_exmonth['internal_rotation_left'])>0:\n",
    "    display(msg1);\n",
    "else:\n",
    "    display(msg2); "
   ]
  },
  {
   "cell_type": "code",
   "execution_count": 24,
   "metadata": {
    "scrolled": true
   },
   "outputs": [],
   "source": [
    "for i in range(len(exercises)):\n",
    "    exnamei = exercises[i].name\n",
    "    res_exi = exercises[i].result\n",
    "    if counted_ex[exnamei] < 1:\n",
    "\n",
    "        ###################################\n",
    "        #      Results for Internal      #\n",
    "        ###################################\n",
    "        if \"internal_rotation\" in exnamei:\n",
    "            counted_ex[exnamei] = 1           \n",
    "\n",
    "            for m in range(len(res_exi)): \n",
    "                single_metric,result_single_metric = res_exi[m]\n",
    "                if single_metric.name == \"ROM\":\n",
    "                    tagjoint = single_metric.tagjoint\n",
    "\n",
    "                    if np.sum(keyp2rommax_avg[tagjoint]) > 0.0:\n",
    "                        trace1 = go.Bar(\n",
    "                            x=allmonths, \n",
    "                            y=keyp2rommax_avg[tagjoint],\n",
    "                            name='Maximum value reached',\n",
    "                            marker=dict(\n",
    "                                color='rgb(0,0,255)'\n",
    "                            )\n",
    "                        )\n",
    "                        trace2 = go.Bar(\n",
    "                            x=allmonths, \n",
    "                            y=keyp2rommin_avg[tagjoint],\n",
    "                            name='Minimum value reached',\n",
    "                            marker=dict(\n",
    "                                color='rgb(255,0,0)'\n",
    "                                )\n",
    "                            )\n",
    "                        layout = go.Layout(\n",
    "                            title='Range of Motion Parameters',\n",
    "                            font=dict(family='Courier New, monospace', size=18, color='black'),\n",
    "                            xaxis=dict(\n",
    "                                title='Month',\n",
    "                                titlefont=dict(\n",
    "                                    family='Courier New, monospace',\n",
    "                                    size=18,\n",
    "                                    color='#7f7f7f'\n",
    "                                ),\n",
    "                                tickfont=dict(\n",
    "                                    family='Courier New, monospace',\n",
    "                                    size=14,\n",
    "                                    color='#7f7f7f'\n",
    "                                )\n",
    "                            ),\n",
    "                            yaxis=dict(\n",
    "                                    title='ROM ' + tagjoint + ' [degrees]',\n",
    "                                    titlefont=dict(\n",
    "                                        family='Courier New, monospace',\n",
    "                                        size=18,\n",
    "                                        color='#7f7f7f'\n",
    "                                    ),\n",
    "                            tickfont=dict(\n",
    "                                        family='Courier New, monospace',\n",
    "                                        size=14,\n",
    "                                        color='#7f7f7f'\n",
    "                                    )\n",
    "                                ),\n",
    "                            legend=dict(\n",
    "                                    bgcolor='rgba(255, 255, 255, 0)',\n",
    "                                    bordercolor='rgba(255, 255, 255, 0)'\n",
    "                                ),\n",
    "                            barmode='group',\n",
    "                            bargap=0.1,\n",
    "                            bargroupgap=0.0\n",
    "                            )\n",
    "                        data=[trace1,trace2]\n",
    "                        fig = go.Figure(data=data, layout=layout)\n",
    "                        iplot(fig)  "
   ]
  },
  {
   "cell_type": "code",
   "execution_count": 25,
   "metadata": {
    "scrolled": true
   },
   "outputs": [
    {
     "data": {
      "text/html": [
       "<font size=5,font color=gray>Results for External Rotation</font>"
      ],
      "text/plain": [
       "<IPython.core.display.HTML object>"
      ]
     },
     "metadata": {},
     "output_type": "display_data"
    }
   ],
   "source": [
    "title = \"Results for External Rotation\"\n",
    "msg1 = HTML('<font size=5><b>'+title+'</b></font>')\n",
    "msg2 = HTML('<font size=5,font color=gray>'+title+'</font>')\n",
    "if sum(counted_exmonth['external_rotation_left'])>0:\n",
    "    display(msg1);\n",
    "else:\n",
    "    display(msg2); "
   ]
  },
  {
   "cell_type": "code",
   "execution_count": 26,
   "metadata": {
    "scrolled": true
   },
   "outputs": [],
   "source": [
    "for i in range(len(exercises)):\n",
    "    exnamei = exercises[i].name\n",
    "    res_exi = exercises[i].result\n",
    "    if counted_ex[exnamei] < 1:\n",
    "\n",
    "        ###################################\n",
    "        #      Results for External      #\n",
    "        ###################################\n",
    "        if \"external_rotation\" in exnamei:\n",
    "            counted_ex[exnamei] = 1           \n",
    "\n",
    "            for m in range(len(res_exi)): \n",
    "                single_metric,result_single_metric = res_exi[m]\n",
    "                if single_metric.name == \"ROM\":\n",
    "                    tagjoint = single_metric.tagjoint\n",
    "\n",
    "                    if np.sum(keyp2rommax_avg[tagjoint]) > 0.0:\n",
    "                        trace1 = go.Bar(\n",
    "                            x=allmonths, \n",
    "                            y=keyp2rommax_avg[tagjoint],\n",
    "                            name='Maximum value reached',\n",
    "                            marker=dict(\n",
    "                                color='rgb(0,0,255)'\n",
    "                            )\n",
    "                        )\n",
    "                        trace2 = go.Bar(\n",
    "                            x=allmonths, \n",
    "                            y=keyp2rommin_avg[tagjoint],\n",
    "                            name='Minimum value reached',\n",
    "                            marker=dict(\n",
    "                                color='rgb(255,0,0)'\n",
    "                                )\n",
    "                            )\n",
    "                        layout = go.Layout(\n",
    "                            title='Range of Motion Parameters',\n",
    "                            font=dict(family='Courier New, monospace', size=18, color='black'),\n",
    "                            xaxis=dict(\n",
    "                                title='Month',\n",
    "                                titlefont=dict(\n",
    "                                    family='Courier New, monospace',\n",
    "                                    size=18,\n",
    "                                    color='#7f7f7f'\n",
    "                                ),\n",
    "                                tickfont=dict(\n",
    "                                    family='Courier New, monospace',\n",
    "                                    size=14,\n",
    "                                    color='#7f7f7f'\n",
    "                                )\n",
    "                            ),\n",
    "                            yaxis=dict(\n",
    "                                    title='ROM ' + tagjoint + ' [degrees]',\n",
    "                                    titlefont=dict(\n",
    "                                        family='Courier New, monospace',\n",
    "                                        size=18,\n",
    "                                        color='#7f7f7f'\n",
    "                                    ),\n",
    "                            tickfont=dict(\n",
    "                                        family='Courier New, monospace',\n",
    "                                        size=14,\n",
    "                                        color='#7f7f7f'\n",
    "                                    )\n",
    "                                ),\n",
    "                            legend=dict(\n",
    "                                    bgcolor='rgba(255, 255, 255, 0)',\n",
    "                                    bordercolor='rgba(255, 255, 255, 0)'\n",
    "                                ),\n",
    "                            barmode='group',\n",
    "                            bargap=0.1,\n",
    "                            bargroupgap=0.0\n",
    "                            )\n",
    "                        data=[trace1,trace2]\n",
    "                        fig = go.Figure(data=data, layout=layout)\n",
    "                        iplot(fig)  "
   ]
  },
  {
   "cell_type": "code",
   "execution_count": 27,
   "metadata": {
    "scrolled": true
   },
   "outputs": [
    {
     "data": {
      "text/html": [
       "<font size=5,font color=gray>Results for Reaching</font>"
      ],
      "text/plain": [
       "<IPython.core.display.HTML object>"
      ]
     },
     "metadata": {},
     "output_type": "display_data"
    }
   ],
   "source": [
    "title = \"Results for Reaching\"\n",
    "msg1 = HTML('<font size=5><b>'+title+'</b></font>')\n",
    "msg2 = HTML('<font size=5,font color=gray>'+title+'</font>')\n",
    "if sum(counted_exmonth['reaching_left'])>0:\n",
    "    display(msg1);\n",
    "else:\n",
    "    display(msg2); "
   ]
  },
  {
   "cell_type": "code",
   "execution_count": 28,
   "metadata": {
    "scrolled": true
   },
   "outputs": [],
   "source": [
    "for i in range(len(exercises)):\n",
    "    exnamei = exercises[i].name\n",
    "    res_exi = exercises[i].result\n",
    "    if counted_ex[exnamei] < 1:\n",
    "\n",
    "        ###################################\n",
    "        #      Results for Reaching      #\n",
    "        ###################################\n",
    "        if \"reaching\" in exnamei:\n",
    "            counted_ex[exnamei] = 1           \n",
    "\n",
    "            for m in range(len(res_exi)): \n",
    "                single_metric,result_single_metric = res_exi[m]\n",
    "                if single_metric.name == \"EP\":\n",
    "                    trace1 = go.Bar(\n",
    "                        x=allmonths, \n",
    "                        y=endpointmonth[\"time\"],\n",
    "                        name='Time',\n",
    "                        marker=dict(\n",
    "                            color='rgb(0,0,255)'\n",
    "                        )\n",
    "                    )\n",
    "                    layout = go.Layout(\n",
    "                        title='Reaching parameters',\n",
    "                        font=dict(family='Courier New, monospace', size=18, color='black'),\n",
    "                        xaxis=dict(\n",
    "                            title='Month',\n",
    "                            titlefont=dict(\n",
    "                                family='Courier New, monospace',\n",
    "                                size=18,\n",
    "                                color='#7f7f7f'\n",
    "                            ),\n",
    "                            tickfont=dict(\n",
    "                                family='Courier New, monospace',\n",
    "                                size=14,\n",
    "                                color='#7f7f7f'\n",
    "                            )\n",
    "                        ),\n",
    "                        yaxis=dict(\n",
    "                                title='Execution time [s]',\n",
    "                                titlefont=dict(\n",
    "                                    family='Courier New, monospace',\n",
    "                                    size=18,\n",
    "                                    color='#7f7f7f'\n",
    "                                ),\n",
    "                        tickfont=dict(\n",
    "                                    family='Courier New, monospace',\n",
    "                                    size=14,\n",
    "                                    color='#7f7f7f'\n",
    "                                )\n",
    "                            ),\n",
    "                        legend=dict(\n",
    "                                bgcolor='rgba(255, 255, 255, 0)',\n",
    "                                bordercolor='rgba(255, 255, 255, 0)'\n",
    "                            ),\n",
    "                        barmode='group',\n",
    "                        bargap=0.1,\n",
    "                        bargroupgap=0.0\n",
    "                        )\n",
    "                    data=[trace1]\n",
    "                    fig = go.Figure(data=data, layout=layout)\n",
    "                    iplot(fig) \n",
    "\n",
    "                    trace1 = go.Bar(\n",
    "                        x=allmonths, \n",
    "                        y=endpointmonth[\"speed\"],\n",
    "                        name='Speed',\n",
    "                        marker=dict(\n",
    "                            color='rgb(0,0,255)'\n",
    "                        )\n",
    "                    )\n",
    "                    layout = go.Layout(\n",
    "                        font=dict(family='Courier New, monospace', size=18, color='black'),\n",
    "                        xaxis=dict(\n",
    "                            title='Month',\n",
    "                            titlefont=dict(\n",
    "                                family='Courier New, monospace',\n",
    "                                size=18,\n",
    "                                color='#7f7f7f'\n",
    "                            ),\n",
    "                            tickfont=dict(\n",
    "                                family='Courier New, monospace',\n",
    "                                size=14,\n",
    "                                color='#7f7f7f'\n",
    "                            )\n",
    "                        ),\n",
    "                        yaxis=dict(\n",
    "                                title='Speed [m/s]',\n",
    "                                titlefont=dict(\n",
    "                                    family='Courier New, monospace',\n",
    "                                    size=18,\n",
    "                                    color='#7f7f7f'\n",
    "                                ),\n",
    "                        tickfont=dict(\n",
    "                                    family='Courier New, monospace',\n",
    "                                    size=14,\n",
    "                                    color='#7f7f7f'\n",
    "                                )\n",
    "                            ),\n",
    "                        legend=dict(\n",
    "                                bgcolor='rgba(255, 255, 255, 0)',\n",
    "                                bordercolor='rgba(255, 255, 255, 0)'\n",
    "                            ),\n",
    "                        barmode='group',\n",
    "                        bargap=0.1,\n",
    "                        bargroupgap=0.0\n",
    "                        )\n",
    "                    data=[trace1]\n",
    "                    fig = go.Figure(data=data, layout=layout)\n",
    "                    iplot(fig)   "
   ]
  }
 ],
 "metadata": {
  "kernelspec": {
   "display_name": "Python 3 (ipykernel)",
   "language": "python",
   "name": "python3"
  },
  "language_info": {
   "codemirror_mode": {
    "name": "ipython",
    "version": 3
   },
   "file_extension": ".py",
   "mimetype": "text/x-python",
   "name": "python",
   "nbconvert_exporter": "python",
   "pygments_lexer": "ipython3",
   "version": "3.10.6"
  }
 },
 "nbformat": 4,
 "nbformat_minor": 2
}
