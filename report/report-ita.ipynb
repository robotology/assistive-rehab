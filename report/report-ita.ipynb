{
 "cells": [
  {
   "cell_type": "code",
   "execution_count": 71,
   "metadata": {
    "scrolled": false
   },
   "outputs": [
    {
     "data": {
      "text/html": [
       "<script>\n",
       "code_show=true; \n",
       "function code_toggle() {\n",
       " if (code_show){\n",
       " $('div.input').hide();\n",
       " } else {\n",
       " $('div.input').show();\n",
       " }\n",
       " code_show = !code_show\n",
       "} \n",
       "$( document ).ready(code_toggle);\n",
       "</script>\n",
       "<form action=\"javascript:code_toggle()\"><input type=\"submit\" value=\"Click here to toggle on/off the raw code.\"></form>"
      ],
      "text/plain": [
       "<IPython.core.display.HTML object>"
      ]
     },
     "execution_count": 71,
     "metadata": {},
     "output_type": "execute_result"
    }
   ],
   "source": [
    "\n",
    "from IPython.display import HTML\n",
    "from ipywidgets import interact, widgets\n",
    "\n",
    "HTML('''<script>\n",
    "code_show=true; \n",
    "function code_toggle() {\n",
    " if (code_show){\n",
    " $('div.input').hide();\n",
    " } else {\n",
    " $('div.input').show();\n",
    " }\n",
    " code_show = !code_show\n",
    "} \n",
    "$( document ).ready(code_toggle);\n",
    "</script>\n",
    "<form action=\"javascript:code_toggle()\"><input type=\"submit\" value=\"Click here to toggle on/off the raw code.\"></form>''')"
   ]
  },
  {
   "cell_type": "code",
   "execution_count": 72,
   "metadata": {
    "scrolled": false
   },
   "outputs": [
    {
     "data": {
      "text/html": [
       "        <script type=\"text/javascript\">\n",
       "        window.PlotlyConfig = {MathJaxConfig: 'local'};\n",
       "        if (window.MathJax && window.MathJax.Hub && window.MathJax.Hub.Config) {window.MathJax.Hub.Config({SVG: {font: \"STIX-Web\"}});}\n",
       "        if (typeof require !== 'undefined') {\n",
       "        require.undef(\"plotly\");\n",
       "        requirejs.config({\n",
       "            paths: {\n",
       "                'plotly': ['https://cdn.plot.ly/plotly-2.16.1.min']\n",
       "            }\n",
       "        });\n",
       "        require(['plotly'], function(Plotly) {\n",
       "            window._Plotly = Plotly;\n",
       "        });\n",
       "        }\n",
       "        </script>\n",
       "        "
      ]
     },
     "metadata": {},
     "output_type": "display_data"
    }
   ],
   "source": [
    "#import libraries\n",
    "import warnings \n",
    "warnings.filterwarnings(\"ignore\",category=FutureWarning)\n",
    "warnings.filterwarnings(\"ignore\", message=\"numpy.dtype size changed\")\n",
    "import scipy.io as spio\n",
    "import scipy.signal\n",
    "import scipy.ndimage\n",
    "import numpy as np\n",
    "import matplotlib.pyplot as plt\n",
    "from mpl_toolkits.mplot3d import Axes3D\n",
    "from collections import namedtuple\n",
    "import math \n",
    "import re \n",
    "import pandas as pd\n",
    "import os\n",
    "import glob\n",
    "from os.path import expanduser\n",
    "import datetime\n",
    "import statistics as stats\n",
    "from plotly import __version__\n",
    "from plotly.offline import download_plotlyjs, init_notebook_mode, plot, iplot\n",
    "import plotly.graph_objs as go\n",
    "init_notebook_mode(connected=True)\n"
   ]
  },
  {
   "cell_type": "code",
   "execution_count": 73,
   "metadata": {
    "scrolled": false
   },
   "outputs": [],
   "source": [
    "def color_negative_red(val):\n",
    "    color = 'red' if val > 110 else 'black'\n",
    "    return 'color: %s' % color\n"
   ]
  },
  {
   "cell_type": "code",
   "execution_count": 74,
   "metadata": {
    "scrolled": false
   },
   "outputs": [],
   "source": [
    "class Keypoint:\n",
    "    tag = \"\"\n",
    "    parent = ['']\n",
    "    child = ['']\n",
    "    point = None\n",
    "\n",
    "    def __init__(self,tag=None,parent=None,child=None,point=None):\n",
    "        if tag is not None:            \n",
    "            self.tag = tag\n",
    "        if parent is not None:\n",
    "            self.parent = parent\n",
    "        if child is not None:\n",
    "            self.child = child\n",
    "        if point is not None:\n",
    "            self.point = point\n"
   ]
  },
  {
   "cell_type": "code",
   "execution_count": 75,
   "metadata": {
    "scrolled": false
   },
   "outputs": [],
   "source": [
    "class Skeleton:\n",
    "    keypoints = [Keypoint() for i in range(17)]\n",
    "    tag2id = {\n",
    "        \"shoulderCenter\" : 0,\n",
    "        \"head\" : 1,\n",
    "        \"shoulderLeft\" : 2,\n",
    "        \"elbowLeft\" : 3,\n",
    "        \"handLeft\" : 4,\n",
    "        \"shoulderRight\" : 5,\n",
    "        \"elbowRight\" : 6,\n",
    "        \"handRight\" : 7,\n",
    "        \"hipCenter\" : 8,\n",
    "        \"hipLeft\" : 9,\n",
    "        \"kneeLeft\" : 10,\n",
    "        \"ankleLeft\" : 11,\n",
    "        \"footLeft\" : 12,\n",
    "        \"hipRight\" : 13,\n",
    "        \"kneeRight\" : 14,\n",
    "        \"ankleRight\" : 15,\n",
    "        \"footRight\" : 16,\n",
    "    }\n",
    "    keypoints[tag2id[\"shoulderCenter\"]] = Keypoint(\"shoulderCenter\",[''],['head','shoulderLeft','shoulderRight','hipCenter'])\n",
    "    keypoints[tag2id[\"head\"]] = Keypoint(\"head\",['shoulderCenter'],[''])\n",
    "    keypoints[tag2id[\"shoulderLeft\"]] = Keypoint(\"shoulderLeft\",['shoulderCenter'],['elbowLeft'])\n",
    "    keypoints[tag2id[\"elbowLeft\"]] = Keypoint(\"elbowLeft\",['shoulderLeft'],['handLeft'])\n",
    "    keypoints[tag2id[\"handLeft\"]] = Keypoint(\"handLeft\",['elbowLeft'],[''])\n",
    "    keypoints[tag2id[\"shoulderRight\"]] = Keypoint(\"shoulderRight\",['shoulderCenter'],['elbowRight'])\n",
    "    keypoints[tag2id[\"elbowRight\"]] = Keypoint(\"elbowRight\",['shoulderRight'],['handRight'])\n",
    "    keypoints[tag2id[\"handRight\"]] = Keypoint(\"handRight\",['elbowRight'],[''])\n",
    "    keypoints[tag2id[\"hipCenter\"]] = Keypoint(\"hipCenter\",['shoulderCenter'],['hipLeft','hipRight'])\n",
    "    keypoints[tag2id[\"hipLeft\"]] = Keypoint(\"hipLeft\",['shoulderCenter'],['kneeLeft'])\n",
    "    keypoints[tag2id[\"kneeLeft\"]] = Keypoint(\"kneeLeft\",['hipLeft'],['ankleLeft'])\n",
    "    keypoints[tag2id[\"ankleLeft\"]] = Keypoint(\"ankleLeft\",['kneeLeft'],['footLeft'])\n",
    "    keypoints[tag2id[\"footLeft\"]] = Keypoint(\"footLeft\",['ankleLeft'],[''])\n",
    "    keypoints[tag2id[\"hipRight\"]] = Keypoint(\"hipRight\",['shoulderCenter'],['kneeRight'])\n",
    "    keypoints[tag2id[\"kneeRight\"]] = Keypoint(\"kneeRight\",['hipRight'],['ankleRight'])\n",
    "    keypoints[tag2id[\"ankleRight\"]] = Keypoint(\"ankleRight\",['kneeRight'],['footRight'])\n",
    "    keypoints[tag2id[\"footRight\"]] = Keypoint(\"footRight\",['ankleRight'],[''])\n",
    "\n",
    "    def __init__(self,keyp_map=None):\n",
    "        if keyp_map is not None:\n",
    "            for tag in keyp_map.keys():\n",
    "                self.keypoints[self.tag2id[tag]].point = keyp_map[tag] \n",
    "\n",
    "    def getKeypoint(self,keyp_tag):\n",
    "        return self.keypoints[self.tag2id[keyp_tag]].point\n",
    "\n",
    "    def getChild(self,keyp_tag):\n",
    "        return self.keypoints[self.tag2id[keyp_tag]].child\n",
    "\n",
    "    def getParent(self,keyp_tag):\n",
    "        return self.keypoints[self.tag2id[keyp_tag]].parent\n",
    "\n",
    "    def getTransformation(self):\n",
    "        sagittal = None\n",
    "        coronal = None\n",
    "        transverse = None\n",
    "        T = np.eye(4,4)\n",
    "        if self.getKeypoint(\"shoulderLeft\") is not None:\n",
    "            if self.getKeypoint(\"shoulderRight\") is not None:\n",
    "                sagittal = self.getKeypoint(\"shoulderLeft\")[0]-self.getKeypoint(\"shoulderRight\")[0]\n",
    "                sagittal = sagittal/np.linalg.norm(sagittal)\n",
    "        if self.getKeypoint(\"shoulderCenter\") is not None:\n",
    "            if self.getKeypoint(\"hipLeft\") is not None:\n",
    "                if self.getKeypoint(\"hipRight\") is not None:\n",
    "                    transverse = self.getKeypoint(\"shoulderCenter\")[0]-0.5*(self.getKeypoint(\"hipLeft\")[0]+self.getKeypoint(\"hipRight\")[0])\n",
    "                    transverse = transverse/np.linalg.norm(transverse)\n",
    "        if self.getKeypoint(\"shoulderCenter\") is not None:\n",
    "            pSC = self.getKeypoint(\"shoulderCenter\")[0]\n",
    "\n",
    "        if sagittal is not None:\n",
    "            if coronal is not None:\n",
    "                coronal = np.cross(sagittal,transverse)\n",
    "                T[0,0]=coronal[0]\n",
    "                T[1,0]=coronal[1]\n",
    "                T[2,0]=coronal[2]\n",
    "                T[0,1]=sagittal[0]\n",
    "                T[1,1]=sagittal[1]\n",
    "                T[2,1]=sagittal[2]\n",
    "                T[0,2]=transverse[0]\n",
    "                T[1,2]=transverse[1]\n",
    "                T[2,2]=transverse[2]\n",
    "                T[0,3]=pSC[0]\n",
    "                T[1,3]=pSC[1]\n",
    "                T[2,3]=pSC[2]\n",
    "                T[3,3]=1\n",
    "        return T\n",
    "\n",
    "    def show(self):\n",
    "        for i in range(len(self.keypoints)):\n",
    "            k = self.keypoints[i]\n",
    "            print(\"keypoint[\", k.tag, \"]\", \"=\", k.point)\n"
   ]
  },
  {
   "cell_type": "code",
   "execution_count": 76,
   "metadata": {
    "scrolled": false
   },
   "outputs": [],
   "source": [
    "class Exercise:\n",
    "    name = \"\"\n",
    "    typee = \"\"\n",
    "    metrics = []\n",
    "\n",
    "class Tug(Exercise):\n",
    "    name = \"tug\"\n",
    "    typee = \"test\"\n",
    "    metrics = [\"ROM_0\",\"ROM_1\",\"ROM_2\",\"ROM_3\",\"ROM_4\",\"ROM_5\",\"step_0\"]\n",
    "    result = []\n",
    "    month_res = {\n",
    "        0: [],\n",
    "        1: [],\n",
    "        2: [],\n",
    "        3: [],\n",
    "        4: [],\n",
    "        5: [],\n",
    "        6: [],\n",
    "        7: [],\n",
    "        8: [],\n",
    "        9: [],\n",
    "        10: [],\n",
    "        11: []\n",
    "    }\n",
    "\n",
    "    def __init__(self,month,result):\n",
    "        self.result = result\n",
    "        self.month_res[month] = result\n",
    "\n",
    "    def getResult(self,month):\n",
    "        return self.month_res[month]\n",
    "\n",
    "class Abduction(Exercise):\n",
    "    name = \"abduction\"\n",
    "    typee = \"rehabilitation\"\n",
    "    metrics = [\"ROM_0\"]    \n",
    "    result = []\n",
    "    month_res = {\n",
    "        0: [],\n",
    "        1: [],\n",
    "        2: [],\n",
    "        3: [],\n",
    "        4: [],\n",
    "        5: [],\n",
    "        6: [],\n",
    "        7: [],\n",
    "        8: [],\n",
    "        9: [],\n",
    "        10: [],\n",
    "        11: []\n",
    "    }\n",
    "    def __init__(self,name,monthi,result):\n",
    "        self.name = name\n",
    "        self.result = result\n",
    "        self.month_res[monthi] = result\n",
    "\n",
    "    def getResult(self,month):\n",
    "        return self.month_res[month]\n",
    "\n",
    "class Internal_Rotation(Exercise):\n",
    "    name = \"internal_rotation\"\n",
    "    typee = \"rehabilitation\"\n",
    "    metrics = [\"ROM_0\"]    \n",
    "    result = []\n",
    "    month_res = {\n",
    "        0: [],\n",
    "        1: [],\n",
    "        2: [],\n",
    "        3: [],\n",
    "        4: [],\n",
    "        5: [],\n",
    "        6: [],\n",
    "        7: [],\n",
    "        8: [],\n",
    "        9: [],\n",
    "        10: [],\n",
    "        11: []\n",
    "    }\n",
    "    def __init__(self,name,monthi,result):\n",
    "        self.name = name\n",
    "        self.result = result\n",
    "        self.month_res[monthi] = result\n",
    "\n",
    "    def getResult(self,month):\n",
    "        return self.month_res[month]\n",
    "\n",
    "class External_Rotation(Exercise):\n",
    "    name = \"external_rotation\"\n",
    "    typee = \"rehabilitation\"\n",
    "    metrics = [\"ROM_0\"]    \n",
    "    result = []\n",
    "    month_res = {\n",
    "        0: [],\n",
    "        1: [],\n",
    "        2: [],\n",
    "        3: [],\n",
    "        4: [],\n",
    "        5: [],\n",
    "        6: [],\n",
    "        7: [],\n",
    "        8: [],\n",
    "        9: [],\n",
    "        10: [],\n",
    "        11: []\n",
    "    }\n",
    "    def __init__(self,name,monthi,result):\n",
    "        self.name = name\n",
    "        self.result = result\n",
    "        self.month_res[monthi] = result\n",
    "\n",
    "    def getResult(self,month):\n",
    "        return self.month_res[month]\n",
    "\n",
    "class Reaching(Exercise):\n",
    "    name = \"reaching\"\n",
    "    typee = \"rehabilitation\"\n",
    "    metrics = [\"EP_0\"]    \n",
    "    result = []\n",
    "    month_res = {\n",
    "        0: [],\n",
    "        1: [],\n",
    "        2: [],\n",
    "        3: [],\n",
    "        4: [],\n",
    "        5: [],\n",
    "        6: [],\n",
    "        7: [],\n",
    "        8: [],\n",
    "        9: [],\n",
    "        10: [],\n",
    "        11: []\n",
    "    }\n",
    "    def __init__(self,name,monthi,result):\n",
    "        self.name = name\n",
    "        self.result = result\n",
    "        self.month_res[monthi] = result\n",
    "\n",
    "    def getResult(self,month):\n",
    "        return self.month_res[month]\n",
    "\n",
    "\n"
   ]
  },
  {
   "cell_type": "code",
   "execution_count": 77,
   "metadata": {
    "scrolled": false
   },
   "outputs": [],
   "source": [
    "class Metric:\n",
    "    name = ''\n",
    "\n",
    "    def __init__(self,name):\n",
    "        self.name = name\n",
    "\n",
    "class Rom(Metric):\n",
    "    name = \"ROM\"\n",
    "    tagjoint = \"\"\n",
    "    refjoint = \"\"\n",
    "    refdir = []\n",
    "    tagplane = \"\"\n",
    "    def __init__(self,tagjoint,refjoint,refdir,tagplane):\n",
    "        self.tagjoint = tagjoint\n",
    "        self.refjoint = refjoint\n",
    "        self.refdir = refdir\n",
    "        self.tagplane = tagplane\n",
    "\n",
    "    def compute(self,skeleton):\n",
    "        #joint ref and child\n",
    "        tj = skeleton.getKeypoint(self.tagjoint)\n",
    "        tagchild = skeleton.getChild(self.tagjoint)[0]\n",
    "        cj = skeleton.getKeypoint(tagchild)\n",
    "\n",
    "        xrj = []\n",
    "        yrj = []\n",
    "        zrj = []\n",
    "        if self.refjoint != \"\":\n",
    "            rj = skeleton.getKeypoint(self.refjoint)\n",
    "            xrj = rj[:,0]\n",
    "            yrj = rj[:,1]\n",
    "            zrj = rj[:,2]\n",
    "\n",
    "        #compute metric\n",
    "        x=tj[:,0]\n",
    "        y=tj[:,1]\n",
    "        z=tj[:,2]\n",
    "\n",
    "        xchild=cj[:,0]\n",
    "        ychild=cj[:,1]\n",
    "        zchild=cj[:,2]\n",
    "\n",
    "        #plane over which we want to evaluate the metric\n",
    "        plane = np.zeros(3)\n",
    "        if tagplane == \"coronal\":\n",
    "            plane[0] = 1.0\n",
    "        if tagplane == \"sagittal\":\n",
    "            plane[1] = 1.0\n",
    "        if tagplane == \"transverse\":\n",
    "            plane[2] = 1.0\n",
    "\n",
    "        #project v1 on the right plane\n",
    "        invT = np.linalg.inv(skeleton.getTransformation())\n",
    "        cosRom = []\n",
    "        for i in range(len(x)):\n",
    "            temp_ref = np.array([x[i],y[i],z[i],1])\n",
    "            temp_child = np.array([xchild[i],ychild[i],zchild[i],1])\n",
    "\n",
    "            transf_ref = np.inner(invT,temp_ref)\n",
    "            transf_child = np.inner(invT,temp_child)\n",
    "            vprocess = transf_child-transf_ref\n",
    "            vprocess = np.delete(vprocess,3)\n",
    "\n",
    "            dist = np.dot(vprocess,np.transpose(plane))\n",
    "            vprocess = vprocess-dist*plane\n",
    "\n",
    "            n1 = np.linalg.norm(vprocess)\n",
    "            if(n1>0):\n",
    "                vprocess = vprocess/n1\n",
    "\n",
    "            if len(xrj)>0:\n",
    "                temp_refjoint = np.array([xrj[i],yrj[i],zrj[i],1])\n",
    "                transf_refjoint = np.inner(invT,temp_refjoint)\n",
    "                vecref = transf_ref - transf_refjoint\n",
    "                ref = np.delete(vecref,3)\n",
    "            else:\n",
    "                n2 = np.linalg.norm(self.refdir)\n",
    "                if(n2>0):\n",
    "                    self.refdir = self.refdir/n2\n",
    "                ref = self.refdir\n",
    "\n",
    "            dotprod = np.dot(vprocess,np.transpose(ref))\n",
    "            cosRom.append(dotprod)\n",
    "\n",
    "\n",
    "        rom_value = np.arccos(cosRom)\n",
    "        result = rom_value *(180/math.pi)\n",
    "        return result\n",
    "\n",
    "\n",
    "class Step(Metric):\n",
    "    name = \"step\"\n",
    "    en_projection = False\n",
    "    medfilt = 1\n",
    "    step_thresh = 0.0\n",
    "    tstart = 0.0\n",
    "    tend = 0.0\n",
    "    step_length = []\n",
    "    step_width = []\n",
    "    step_distance = []\n",
    "    filtered_step_distance = []\n",
    "    strikes = []\n",
    "    nsteps = 0\n",
    "    cadence = 0.0\n",
    "    speed = 0.0\n",
    "    ex_time = 0.0\n",
    "    \n",
    "    def __init__(self,medfilt_window,en_projection,tstart,tend,step_thresh):\n",
    "\n",
    "        # scipy median filter requires odd kernel size\n",
    "        self.medfilt = int(medfilt_window)\n",
    "        if not (self.medfilt & 1):\n",
    "            self.medfilt = self.medfilt + 1\n",
    "\n",
    "        self.tstart = tstart\n",
    "        self.tend = tend\n",
    "        self.step_thresh = step_thresh\n",
    "        self.en_projection = en_projection\n",
    "\n",
    "    def compute(self,skeleton):\n",
    "        alj = skeleton.getKeypoint(\"ankleLeft\")\n",
    "        arj = skeleton.getKeypoint(\"ankleRight\")\n",
    "        ankles_diff = alj[:, :2] - arj[:, :2]\n",
    "\n",
    "        if self.en_projection:\n",
    "            if skeleton.getKeypoint(\"shoulderLeft\") is not None and skeleton.getKeypoint(\"shoulderRight\") is not None:\n",
    "                sagittal = skeleton.getKeypoint(\"shoulderLeft\")[0] - skeleton.getKeypoint(\"shoulderRight\")[0]\n",
    "                sagittal = sagittal / np.linalg.norm(sagittal)\n",
    "            for i in range(len(alj)):\n",
    "                v = alj[i,:] - arj[i,:]\n",
    "                dist = np.dot(v,np.transpose(sagittal))\n",
    "                v = v - dist * sagittal\n",
    "                self.step_distance.append(np.linalg.norm(v))\n",
    "                self.filtered_step_distance = scipy.signal.medfilt(self.step_distance,kernel_size=self.medfilt)\n",
    "        else:\n",
    "            # ankles_diff_filtered = scipy.ndimage.median_filter(ankles_diff, size = (self.medfilt, self.medfilt))\n",
    "            ankles_diff_filtered = scipy.signal.savgol_filter(ankles_diff, 20, 2, axis=0)\n",
    "            self.filtered_step_distance = np.linalg.norm(ankles_diff_filtered, axis=1)\n",
    "            self.step_distance = np.linalg.norm(ankles_diff, axis=1)\n",
    "\n",
    "            outliers_indices = np.where(np.abs(scipy.stats.zscore(self.filtered_step_distance)) > 3)[0]\n",
    "            self.filtered_step_distance[outliers_indices] = 0.0\n",
    "\n",
    "        #self.strikes = scipy.signal.find_peaks_cwt(self.filtered_step_distance, np.arange(1, 42), min_snr=1)\n",
    "        self.strikes,_ = scipy.signal.find_peaks(self.filtered_step_distance, height = self.step_thresh, distance = 10)\n",
    "        slen = self.filtered_step_distance[self.strikes]\n",
    "        self.step_length = stats.mean(slen)\n",
    "        self.step_width = np.fabs(ankles_diff)\n",
    "        self.nsteps = len(self.strikes)\n",
    "        self.cadence = self.nsteps / (self.tend - self.tstart)\n",
    "        self.speed = self.step_length * self.cadence\n",
    "        self.ex_time = self.tend - self.tstart\n",
    "\n",
    "        \n",
    "class EndPoint(Metric):\n",
    "    name = \"EP\"\n",
    "    tagjoint = \"\"\n",
    "    refdir = []\n",
    "    tagplane = \"\"\n",
    "    target = []\n",
    "    trajectories = []\n",
    "    tstart = 0.0\n",
    "    tend = 0.0\n",
    "    speed = 0.0\n",
    "    ex_time = 0.0\n",
    "    def __init__(self,tagjoint,refdir,tagplane,target,tstart,tend):\n",
    "        self.tagjoint = tagjoint\n",
    "        self.refdir = refdir\n",
    "        self.tagplane = tagplane\n",
    "        self.target = target\n",
    "        self.tstart = tstart\n",
    "        self.tend = tend\n",
    "\n",
    "    def compute(self,skeleton):\n",
    "        self.ex_time = self.tend-self.tstart\n",
    "        tj = skeleton.getKeypoint(self.tagjoint)\n",
    "        x = tj[:,0]\n",
    "        y = tj[:,1]\n",
    "        z = tj[:,2]\n",
    "\n",
    "        plane = np.zeros(3)\n",
    "        if tagplane == \"coronal\":\n",
    "            plane[0] = 1.0\n",
    "        if tagplane == \"sagittal\":\n",
    "            plane[1] = 1.0\n",
    "        if tagplane == \"transverse\":\n",
    "            plane[2] = 1.0\n",
    "        invT = np.linalg.inv(skeleton.getTransformation())\n",
    "        self.trajectories = np.zeros([len(x),3])\n",
    "        for i in range(len(x)):\n",
    "            temp_jnt = np.array([x[i],y[i],z[i],1])\n",
    "            transf_jnt = np.inner(invT,temp_jnt)\n",
    "            v = np.delete(transf_jnt,3)\n",
    "            dist = np.dot(v,np.transpose(plane))\n",
    "            v = v-dist*plane\n",
    "            self.trajectories[i,0]=v[0]\n",
    "            self.trajectories[i,1]=v[1]\n",
    "            self.trajectories[i,2]=v[2]\n",
    "\n",
    "        vel = np.zeros([len(x),3])\n",
    "        vel[:,0] = np.gradient(self.trajectories[:,0])/self.ex_time\n",
    "        vel[:,1] = np.gradient(self.trajectories[:,1])/self.ex_time\n",
    "        vel[:,2] = np.gradient(self.trajectories[:,2])/self.ex_time\n",
    "\n",
    "        self.speed = 0.0\n",
    "        for i in range(len(x)):\n",
    "            self.speed = self.speed + np.linalg.norm([vel[i,0],vel[i,1],vel[i,2]])\n",
    "        self.speed = self.speed/len(x)\n"
   ]
  },
  {
   "cell_type": "code",
   "execution_count": 78,
   "metadata": {
    "scrolled": false
   },
   "outputs": [],
   "source": [
    "def loadmat(filename):\n",
    "    '''\n",
    "    this function should be called instead of direct spio.loadmat\n",
    "    as it cures the problem of not properly recovering python dictionaries\n",
    "    from mat files. It calls the function check keys to cure all entries\n",
    "    which are still mat-objects\n",
    "    '''\n",
    "    data = spio.loadmat(filename, struct_as_record=False, squeeze_me=True)\n",
    "    return _check_keys(data)\n",
    "\n",
    "def _check_keys(dict):\n",
    "    '''\n",
    "    checks if entries in dictionary are mat-objects. If yes\n",
    "    todict is called to change them to nested dictionaries\n",
    "    '''\n",
    "    for key in dict:\n",
    "        if isinstance(dict[key],  spio.matlab.mat_struct):\n",
    "            dict[key] = _todict(dict[key])\n",
    "    return dict        \n",
    "\n",
    "def _todict(matobj):\n",
    "    '''\n",
    "    A recursive function which constructs from matobjects nested dictionaries\n",
    "    '''\n",
    "    dict = {}\n",
    "    for strg in matobj._fieldnames:\n",
    "        elem = matobj.__dict__[strg]\n",
    "        if isinstance(elem, spio.matlab.mat_struct):\n",
    "            dict[strg] = _todict(elem)\n",
    "        else:\n",
    "            dict[strg] = elem\n",
    "    return dict\n"
   ]
  },
  {
   "cell_type": "markdown",
   "metadata": {},
   "source": [
    "\n",
    "## Dati anagrafici "
   ]
  },
  {
   "cell_type": "code",
   "execution_count": 79,
   "metadata": {
    "scrolled": false
   },
   "outputs": [
    {
     "data": {
      "text/html": [
       "<div>\n",
       "<style scoped>\n",
       "    .dataframe tbody tr th:only-of-type {\n",
       "        vertical-align: middle;\n",
       "    }\n",
       "\n",
       "    .dataframe tbody tr th {\n",
       "        vertical-align: top;\n",
       "    }\n",
       "\n",
       "    .dataframe thead th {\n",
       "        text-align: right;\n",
       "    }\n",
       "</style>\n",
       "<table border=\"1\" class=\"dataframe\">\n",
       "  <thead>\n",
       "    <tr style=\"text-align: right;\">\n",
       "      <th></th>\n",
       "      <th>Paziente</th>\n",
       "    </tr>\n",
       "  </thead>\n",
       "  <tbody>\n",
       "    <tr>\n",
       "      <th>Nome</th>\n",
       "      <td>#35</td>\n",
       "    </tr>\n",
       "    <tr>\n",
       "      <th>Cognome</th>\n",
       "      <td></td>\n",
       "    </tr>\n",
       "    <tr>\n",
       "      <th>Età</th>\n",
       "      <td></td>\n",
       "    </tr>\n",
       "  </tbody>\n",
       "</table>\n",
       "</div>"
      ],
      "text/plain": [
       "        Paziente\n",
       "Nome         #35\n",
       "Cognome         \n",
       "Età             "
      ]
     },
     "metadata": {},
     "output_type": "display_data"
    }
   ],
   "source": [
    "\n",
    "#load file \n",
    "home = expanduser(\"~\")\n",
    "pth = home + '/.local/share/yarp/contexts/motionAnalyzer'\n",
    "files = glob.glob(os.path.join(pth, '*.mat'))\n",
    "lastfile = max(files, key=os.path.getctime)\n",
    "\n",
    "#print personal data\n",
    "i = [pos for pos, char in enumerate(lastfile) if char == \"-\"]\n",
    "i1 = i[-3]\n",
    "i2 = i[-2]\n",
    "name = lastfile[i1+1:i2]\n",
    "surname = \"\"\n",
    "age = \"\"\n",
    "\n",
    "personaldata = []\n",
    "personaldata.append(name)\n",
    "personaldata.append(surname)\n",
    "personaldata.append(age)        \n",
    "table = pd.DataFrame(personaldata) \n",
    "table.rename(index={0:\"Nome\",1:\"Cognome\",2:\"Età\"},  columns={0:\"Paziente\"}, inplace=True)\n",
    "display(table) "
   ]
  },
  {
   "cell_type": "code",
   "execution_count": 80,
   "metadata": {
    "scrolled": false
   },
   "outputs": [],
   "source": [
    "\n",
    "data = []\n",
    "ctime = []\n",
    "filename = []\n",
    "tagex = []\n",
    "files.sort(key=os.path.getctime)\n",
    "for fi in files:\n",
    "    i = [pos for pos, char in enumerate(fi) if char == \"-\"]\n",
    "    i1 = i[-3]\n",
    "    i2 = i[-2]\n",
    "    i3 = i[-1]\n",
    "    namei = fi[i1+1:i2]\n",
    "    if namei == name:\n",
    "        filename.append(fi)\n",
    "        data.append(loadmat(fi)) #data.append(scipy.io.loadmat(fi))\n",
    "        tagex.append(fi[i2+1:i3])\n",
    "        ctime.append(os.path.getctime(fi))   "
   ]
  },
  {
   "cell_type": "code",
   "execution_count": 81,
   "metadata": {
    "scrolled": false
   },
   "outputs": [],
   "source": [
    "time = []\n",
    "month = []\n",
    "exercises = []\n",
    "ex_names = []\n",
    "#count how many exercise of the same type were performed at that month\n",
    "countexmonth = {\n",
    "    \"tug\" : [0,0,0,0,0,0,0,0,0,0,0,0],\n",
    "    \"abduction_left\" : [0,0,0,0,0,0,0,0,0,0,0,0],\n",
    "    \"internal_rotation_left\" : [0,0,0,0,0,0,0,0,0,0,0,0],\n",
    "    \"external_rotation_left\" : [0,0,0,0,0,0,0,0,0,0,0,0],\n",
    "    \"reaching_left\" : [0,0,0,0,0,0,0,0,0,0,0,0]\n",
    "}\n",
    "\n",
    "for i in range(len(data)):\n",
    "\n",
    "    datai = data[i]\n",
    "    time.append(datai['Time_samples'])\n",
    "    monthi = datetime.date.fromtimestamp(ctime[i]).month-1\n",
    "    month.append(monthi)\n",
    "    shoulderCenter = datai['Keypoints']['shoulderCenter']\n",
    "    head = datai['Keypoints']['head']\n",
    "    shoulderLeft = datai['Keypoints']['shoulderLeft']\n",
    "    shoulderRight = datai['Keypoints']['shoulderRight']\n",
    "    elbowLeft = datai['Keypoints']['elbowLeft']\n",
    "    handLeft = datai['Keypoints']['handLeft']\n",
    "    elbowRight = datai['Keypoints']['elbowRight']\n",
    "    handRight = datai['Keypoints']['handRight']\n",
    "    hipLeft = datai['Keypoints']['hipLeft']\n",
    "    hipRight = datai['Keypoints']['hipRight']\n",
    "    ankleLeft = datai['Keypoints']['ankleLeft']\n",
    "    ankleRight = datai['Keypoints']['ankleRight']\n",
    "    kneeLeft = datai['Keypoints']['kneeLeft']\n",
    "    kneeRight = datai['Keypoints']['kneeRight']\n",
    "    footLeft = datai['Keypoints']['footLeft']\n",
    "    footRight = datai['Keypoints']['footRight']\n",
    "    hipCenter = datai['Keypoints']['hipCenter']\n",
    "\n",
    "    key_pam = {\n",
    "        \"shoulderCenter\" : shoulderCenter,\n",
    "        \"head\" : head,\n",
    "        \"shoulderLeft\" : shoulderLeft,\n",
    "        \"shoulderRight\" : shoulderRight,\n",
    "        \"elbowLeft\" : elbowLeft,\n",
    "        \"handLeft\" : handLeft,\n",
    "        \"elbowRight\" : elbowRight,\n",
    "        \"handRight\" : handRight,\n",
    "        \"hipLeft\" : hipLeft,\n",
    "        \"hipRight\" : hipRight,\n",
    "        \"ankleLeft\" : ankleLeft,\n",
    "        \"ankleRight\" : ankleRight,\n",
    "        \"kneeLeft\" : kneeLeft,\n",
    "        \"kneeRight\" : kneeRight,\n",
    "        \"footLeft\" : footLeft,\n",
    "        \"footRight\" : footRight,\n",
    "        \"hipCenter\" : hipCenter\n",
    "    }\n",
    "    s=Skeleton(key_pam)\n",
    "    #s.show()\n",
    "\n",
    "    exname = datai[\"Exercise\"][\"name\"]\n",
    "    exname = re.sub(r'[^\\w]','',exname)\n",
    "    ex_names.append(exname)\n",
    "    result_singleexercise = []\n",
    "    allmet = datai[\"Exercise\"][\"metrics\"]\n",
    "    metrics = allmet.keys()\n",
    "    for metname in metrics:\n",
    "        if \"ROM\" in metname:\n",
    "            tagjoint = allmet[metname][\"tag_joint\"]\n",
    "            tagjoint = re.sub(r'[^\\w]', '',tagjoint)\n",
    "            refjoint = allmet[metname][\"ref_joint\"]\n",
    "            if type(refjoint) is np.ndarray:\n",
    "                refjoint = \"\"\n",
    "            refjoint = re.sub(r'[^\\w]', '',refjoint)\n",
    "            refdir = allmet[metname][\"ref_dir\"]\n",
    "            tagplane = allmet[metname][\"tag_plane\"]\n",
    "            tagplane = re.sub(r'[^\\w]', '',tagplane)\n",
    "            rom = Rom(tagjoint,refjoint,refdir,tagplane)\n",
    "            result_singleexercise.append((rom,rom.compute(s)))\n",
    "\n",
    "        if \"step\" in metname:\n",
    "            flt = allmet[metname][\"median_filter_window\"]\n",
    "            proj = allmet[metname][\"enable_plane_projection\"]\n",
    "            proj = False\n",
    "            tstart = allmet[metname][\"tstart\"]\n",
    "            tend = allmet[metname][\"tend\"]\n",
    "            step_thresh = allmet[metname][\"step_thresh\"]\n",
    "            step = Step(flt,proj,tstart,tend,step_thresh)\n",
    "            step.compute(s)\n",
    "            stepmet = [step.step_distance, step.nsteps, step.cadence, step.speed, step.ex_time,\n",
    "                       step.filtered_step_distance, step.strikes, step.step_width, step.step_length]\n",
    "            result_singleexercise.append((step,stepmet))\n",
    "\n",
    "        if \"EP\" in metname:\n",
    "            tagjoint = allmet[metname][\"tag_joint\"]\n",
    "            tagjoint = re.sub(r'[^\\w]', '',tagjoint)\n",
    "            refdir = allmet[metname][\"ref_dir\"]\n",
    "            tagplane = allmet[metname][\"tag_plane\"]\n",
    "            tagplane = re.sub(r'[^\\w]', '',tagplane)\n",
    "            target = allmet[metname][\"target\"]\n",
    "            tstart = allmet[metname][\"tstart\"]\n",
    "            tend = allmet[metname][\"tend\"]\n",
    "            ep = EndPoint(tagjoint,refdir,tagplane,target,tstart,tend)\n",
    "            ep.compute(s)\n",
    "            result_singleexercise.append((ep,ep.trajectories))\n",
    "\n",
    "    if exname == \"tug\":\n",
    "        ex = Tug(monthi,result_singleexercise)\n",
    "    if \"abduction\" in exname:\n",
    "        ex = Abduction(exname,monthi,result_singleexercise)\n",
    "    if \"internal_rotation\" in exname:\n",
    "        ex = Internal_Rotation(exname,monthi,result_singleexercise)\n",
    "    if \"external_rotation\" in exname:\n",
    "        ex = External_Rotation(exname,monthi,result_singleexercise)\n",
    "    if \"reaching\" in exname:\n",
    "        ex = Reaching(exname,monthi,result_singleexercise)\n",
    "\n",
    "    countexmonth[exname][monthi] = 1 + countexmonth[exname][monthi]\n",
    "\n",
    "    exercises.append(ex)   "
   ]
  },
  {
   "cell_type": "markdown",
   "metadata": {},
   "source": [
    " \n",
    "## Report della seduta odierna\n",
    "Il paziente ha svolto il seguente esercizio: "
   ]
  },
  {
   "cell_type": "code",
   "execution_count": 82,
   "metadata": {
    "scrolled": false
   },
   "outputs": [
    {
     "name": "stdout",
     "output_type": "stream",
     "text": [
      "b'tug'\n"
     ]
    }
   ],
   "source": [
    "\n",
    "print(exname.encode('ascii')) "
   ]
  },
  {
   "cell_type": "markdown",
   "metadata": {},
   "source": [
    " \n",
    "on: "
   ]
  },
  {
   "cell_type": "code",
   "execution_count": 83,
   "metadata": {
    "scrolled": false
   },
   "outputs": [
    {
     "name": "stdout",
     "output_type": "stream",
     "text": [
      "2023-01-17 11:57:09.119425\n"
     ]
    }
   ],
   "source": [
    "\n",
    "now = datetime.datetime.now()\n",
    "print(now)"
   ]
  },
  {
   "cell_type": "markdown",
   "metadata": {},
   "source": [
    " \n",
    "Di seguito si riporta il grafico:"
   ]
  },
  {
   "cell_type": "code",
   "execution_count": 84,
   "metadata": {
    "scrolled": true
   },
   "outputs": [
    {
     "data": {
      "application/vnd.plotly.v1+json": {
       "config": {
        "linkText": "Export to plot.ly",
        "plotlyServerURL": "https://plot.ly",
        "showLink": false
       },
       "data": [
        {
         "line": {
          "color": "blue",
          "width": 3
         },
         "mode": "lines",
         "name": "Andamento Reale",
         "type": "scatter",
         "x": [
          1499.2411363124847,
          1499.3432846069336,
          1499.4427211284637,
          1499.54013133049,
          1499.6420300006866,
          1499.744064092636,
          1499.8401839733124,
          1499.9462168216705,
          1500.0419936180115,
          1500.1414563655853,
          1500.2422320842743,
          1500.3411314487457,
          1500.441514492035,
          1500.541243314743,
          1500.6429286003113,
          1500.7421760559082,
          1500.8417778015137,
          1500.9413657188416,
          1501.0417659282684,
          1501.1428897380829,
          1501.240436553955,
          1501.3419153690338,
          1501.441132068634,
          1501.5403683185577,
          1501.6449313163757,
          1501.7413523197174,
          1501.8423101902008,
          1501.9408650398254,
          1502.04141497612,
          1502.1416535377502,
          1502.2421522140503,
          1502.3436872959137,
          1502.4428606033325,
          1502.5419516563416,
          1502.6438164710999,
          1502.739751815796,
          1502.839929819107,
          1502.9432377815247,
          1503.0396859645844,
          1503.1407148838043,
          1503.2416439056396,
          1503.3399159908295,
          1503.4405806064606,
          1503.542091369629,
          1503.6399137973785,
          1503.7397291660309,
          1503.8402659893036,
          1503.9417126178741,
          1504.0408883094788,
          1504.1431605815887,
          1504.2412109375,
          1504.3424327373505,
          1504.442084312439,
          1504.5419890880585,
          1504.6418566703796,
          1504.7421357631683,
          1504.8420453071594,
          1504.9417133331299,
          1505.0427649021149,
          1505.1421146392822,
          1505.2413144111633,
          1505.3408071994781,
          1505.4415457248688,
          1505.542934179306,
          1505.6415820121765,
          1505.741807460785,
          1505.8417615890503,
          1505.9422342777252,
          1506.0417664051056,
          1506.142252922058,
          1506.2424128055573,
          1506.3428943157196,
          1506.4433236122131,
          1506.5426783561707,
          1506.6421117782593,
          1506.74356341362,
          1506.8419032096863,
          1506.9436628818512,
          1507.042890548706,
          1507.143632888794,
          1507.2437996864319,
          1507.34317612648,
          1507.4439723491669,
          1507.5464203357697,
          1507.646990776062,
          1507.743609905243,
          1507.844081878662,
          1507.944857597351,
          1508.0438890457153,
          1508.143606185913,
          1508.2456514835358,
          1508.3450417518616,
          1508.444191455841,
          1508.5442969799042,
          1508.6431493759155,
          1508.7441477775574,
          1508.8442180156708,
          1508.9457623958588,
          1509.0446989536285,
          1509.1442427635193,
          1509.2483496665955,
          1509.348049879074,
          1509.447769165039,
          1509.5452642440796,
          1509.6454932689667,
          1509.7466208934784,
          1509.8461413383484,
          1509.9450035095215,
          1510.0446655750275,
          1510.1453218460083,
          1510.2444643974304,
          1510.3476753234863,
          1510.444744348526,
          1510.5449130535126,
          1510.6449630260468,
          1510.7453105449677,
          1510.8460247516632,
          1510.9460620880127,
          1511.0450239181519,
          1511.147045135498,
          1511.2464575767517,
          1511.3476495742798,
          1511.4461619853973,
          1511.5460538864136,
          1511.6458253860474,
          1511.7523272037506,
          1511.8473920822144,
          1511.9467968940735,
          1512.0458340644836,
          1512.14905834198,
          1512.2465064525604,
          1512.3464360237122,
          1512.4465262889862,
          1512.5464425086975,
          1512.6461458206177,
          1512.7456891536713,
          1512.846199274063,
          1512.9469623565674,
          1513.046472787857,
          1513.1472702026367,
          1513.2464673519135,
          1513.3472352027893,
          1513.4477665424347,
          1513.5469961166382,
          1513.6465792655945,
          1513.7474553585052,
          1513.8473408222198,
          1513.9478917121887,
          1514.048181295395,
          1514.1470139026642,
          1514.2469763755798,
          1514.347504377365,
          1514.4472517967224,
          1514.548014163971,
          1514.6466579437256,
          1514.747255563736,
          1514.8468098640442,
          1514.9472517967224,
          1515.0483257770538,
          1515.1476039886475,
          1515.2474853992462,
          1515.349123954773,
          1515.448129415512,
          1515.5479564666748,
          1515.6483643054962,
          1515.7478876113892,
          1515.848218679428,
          1515.9479448795319,
          1516.0482194423676,
          1516.149117231369,
          1516.24773478508,
          1516.3488357067108,
          1516.4485018253326,
          1516.548581123352,
          1516.6529862880707,
          1516.7489988803864,
          1516.8483703136444,
          1516.9493639469147,
          1517.0485661029816,
          1517.1542015075684,
          1517.2489612102509,
          1517.3534693717957,
          1517.4531128406525,
          1517.553725719452,
          1517.6531822681427,
          1517.7508800029755,
          1517.8505020141602,
          1517.9501507282257,
          1518.0533425807953,
          1518.154797554016,
          1518.252271413803,
          1518.3584887981415,
          1518.4496307373047,
          1518.5517852306366,
          1518.6547417640686,
          1518.751220703125,
          1518.8547055721283,
          1518.9500937461853,
          1519.0509328842163,
          1519.1500902175903,
          1519.2508342266083,
          1519.3509469032288,
          1519.4529166221619,
          1519.552564382553,
          1519.6508638858795,
          1519.7502257823944,
          1519.8513631820679,
          1519.9507722854614,
          1520.0511844158173,
          1520.1549203395844,
          1520.2553119659424,
          1520.355444908142,
          1520.4572768211365,
          1520.5562913417816,
          1520.6547539234161,
          1520.7517511844635,
          1520.852136850357,
          1520.956214427948,
          1521.0517673492432,
          1521.151982307434,
          1521.2533135414124,
          1521.3525230884552,
          1521.4546430110931,
          1521.5537049770355,
          1521.6560616493225,
          1521.756957769394,
          1521.861038684845,
          1521.9608080387115,
          1522.0553195476532,
          1522.1532826423645,
          1522.2527394294739,
          1522.3522148132324,
          1522.4540903568268,
          1522.5571751594543,
          1522.654535293579,
          1522.7544548511505,
          1522.8560378551483,
          1522.953887462616,
          1523.0526440143585,
          1523.1566863059998,
          1523.2580780982971,
          1523.3567478656769,
          1523.454469203949,
          1523.5542244911194,
          1523.658311843872,
          1523.7581009864807,
          1523.8582689762115,
          1523.953364610672,
          1524.054563999176,
          1524.1584029197693,
          1524.2576098442078,
          1524.3543453216553,
          1524.4550700187683,
          1524.5540347099304,
          1524.6535897254944,
          1524.753868341446,
          1524.853411436081,
          1524.95521068573,
          1525.054139137268,
          1525.1547272205353,
          1525.2555606365204,
          1525.3549020290375,
          1525.4566402435303,
          1525.5587475299835,
          1525.6535289287567,
          1525.7547373771667,
          1525.8536713123322,
          1525.9546175003052,
          1526.0546753406525,
          1526.1549615859985,
          1526.255040884018,
          1526.3548610210419,
          1526.454764842987,
          1526.5555267333984,
          1526.6554877758026,
          1526.7556302547455,
          1526.8551664352417,
          1526.9557905197144,
          1527.0557622909546,
          1527.1561093330383,
          1527.2571275234222,
          1527.356971502304,
          1527.457272529602,
          1527.5553719997406,
          1527.6574912071228,
          1527.757332086563,
          1527.8562273979187,
          1527.9594457149506,
          1528.0566897392273,
          1528.1583421230316,
          1528.2581007480621,
          1528.355853319168,
          1528.4608187675476,
          1528.5574316978455,
          1528.6561155319214,
          1528.7592558860779,
          1528.8586099147797,
          1528.9628987312317,
          1529.0560810565948,
          1529.1571590900421,
          1529.2560682296753,
          1529.3564767837524,
          1529.456878900528,
          1529.5586001873016,
          1529.657800912857,
          1529.7575800418854,
          1529.8577151298523,
          1529.9580373764038,
          1530.0567288398743,
          1530.157428264618,
          1530.2587399482727,
          1530.3589704036713,
          1530.457849740982,
          1530.5578382015228,
          1530.658446073532,
          1530.757824897766,
          1530.8616199493408,
          1530.960708618164,
          1531.059900522232,
          1531.162596464157,
          1531.2573883533478,
          1531.3600792884827,
          1531.458923816681,
          1531.5627195835114,
          1531.6612637043,
          1531.7576656341553,
          1531.8620171546936,
          1531.9599452018738,
          1532.0599632263184,
          1532.1607375144958,
          1532.259782075882,
          1532.3589525222778,
          1532.4589982032776,
          1532.5596570968628,
          1532.660763502121,
          1532.759989976883,
          1532.859920501709,
          1532.9633507728577,
          1533.0590443611145,
          1533.159485578537,
          1533.2591478824615,
          1533.358909368515,
          1533.4588725566864,
          1533.5592203140259,
          1533.6601333618164,
          1533.758960723877,
          1533.8600804805756,
          1533.9596378803253,
          1534.0594065189362,
          1534.1598281860352,
          1534.2596225738525,
          1534.360122680664,
          1534.4612867832184,
          1534.5604510307312,
          1534.6615297794342,
          1534.76198220253,
          1534.8614101409912,
          1534.9614522457123,
          1535.0600357055664,
          1535.1603939533234,
          1535.2622575759888,
          1535.3602058887482,
          1535.462120294571,
          1535.56028008461,
          1535.6601366996765,
          1535.7611837387085,
          1535.8639693260193,
          1535.9614548683167,
          1536.06116604805,
          1536.1607356071472,
          1536.2609808444977,
          1536.3626313209534,
          1536.4609956741333,
          1536.564481496811,
          1536.6640095710754,
          1536.763158082962,
          1536.8629369735718,
          1536.9626727104187,
          1537.0616796016693,
          1537.1621129512787,
          1537.2617573738098,
          1537.3618972301483,
          1537.462711572647,
          1537.562515258789,
          1537.6621596813202,
          1537.7639846801758,
          1537.8620209693909,
          1537.9622814655304,
          1538.0627496242523,
          1538.1621263027191,
          1538.2627971172333,
          1538.366781949997,
          1538.4637882709503,
          1538.563273191452,
          1538.66330909729,
          1538.7667174339294,
          1538.8636915683746,
          1538.9630060195923,
          1539.063859462738,
          1539.1625623703003,
          1539.2660901546478,
          1539.3630833625793,
          1539.464448928833,
          1539.5636985301971,
          1539.6643221378326,
          1539.7645237445831,
          1539.8643732070923,
          1539.9644606113434,
          1540.0639703273773,
          1540.1641156673431,
          1540.2658836841583,
          1540.3652892112732,
          1540.4671607017517,
          1540.5652508735657,
          1540.669272184372,
          1540.7651839256287,
          1540.8669271469116,
          1540.9673836231232,
          1541.0654036998749,
          1541.1660828590393,
          1541.2674746513367,
          1541.3676433563232,
          1541.4656250476837,
          1541.5665922164917,
          1541.6681351661682,
          1541.7672548294067,
          1541.867030620575,
          1541.9676649570465,
          1542.0670235157013,
          1542.1689057350159,
          1542.2671897411346,
          1542.3672127723694,
          1542.4686870574951,
          1542.5665442943573,
          1542.6705791950226,
          1542.7696046829224,
          1542.8668971061707,
          1542.966644525528,
          1543.0735685825348,
          1543.1732482910156,
          1543.267774105072,
          1543.3676788806915,
          1543.4672544002533,
          1543.5671184062958,
          1543.6677463054657,
          1543.7675108909607,
          1543.8679871559143,
          1543.9693717956543,
          1544.0663883686066,
          1544.1677677631378,
          1544.268888950348,
          1544.3663485050201,
          1544.4664885997772,
          1544.5660860538483,
          1544.6669471263885,
          1544.76717877388,
          1544.8672885894775,
          1544.9685242176056,
          1545.0670084953308,
          1545.1677951812744,
          1545.2673869132996,
          1545.3672273159027,
          1545.467891216278,
          1545.575178861618,
          1545.6677899360657,
          1545.7664551734924,
          1545.8665204048157,
          1545.9671485424042,
          1546.0674130916595,
          1546.1681797504425,
          1546.2676408290863,
          1546.367078781128,
          1546.4679577350616,
          1546.5685453414917,
          1546.6769742965698,
          1546.7727680206299,
          1546.8680868148804,
          1546.9686315059662,
          1547.069181919098,
          1547.167875289917,
          1547.2677521705627,
          1547.3686332702637,
          1547.4707067012787,
          1547.5683662891388,
          1547.6724834442139,
          1547.769639492035,
          1547.8712072372437,
          1547.9770529270172,
          1548.072209596634,
          1548.173274755478,
          1548.2715876102448,
          1548.371628522873,
          1548.4709198474884,
          1548.5714690685272,
          1548.671296596527,
          1548.7715110778809,
          1548.8716838359833,
          1548.97434091568,
          1549.070969581604,
          1549.174753665924,
          1549.2744188308716,
          1549.3733451366425,
          1549.4734070301056,
          1549.5742897987366,
          1549.6723790168762,
          1549.7728595733643,
          1549.8727250099182,
          1549.9772119522095,
          1550.0720105171204,
          1550.1710896492004,
          1550.2725031375885,
          1550.3713836669922,
          1550.4781966209412,
          1550.5779829025269,
          1550.6775233745575,
          1550.774284362793,
          1550.87375998497,
          1550.979849100113,
          1551.0752232074738,
          1551.1747436523438,
          1551.2786514759064,
          1551.3792498111725,
          1551.478197336197,
          1551.579080581665,
          1551.67942070961,
          1551.77863407135,
          1551.880181312561,
          1551.9783499240875,
          1552.0735130310059,
          1552.1743123531342,
          1552.2738902568817,
          1552.3736426830292,
          1552.4735062122345,
          1552.5737590789795,
          1552.6750376224518,
          1552.774917125702,
          1552.874896287918,
          1552.9747967720032,
          1553.0752203464508,
          1553.1760432720184,
          1553.2762243747711,
          1553.3725430965424,
          1553.472339630127,
          1553.5719089508057,
          1553.671792268753,
          1553.7730875015259,
          1553.8719074726105,
          1553.9732356071472,
          1554.072648525238,
          1554.172200679779,
          1554.2724151611328,
          1554.3731021881104,
          1554.4731767177582,
          1554.5727956295013,
          1554.673753976822,
          1554.7773764133453,
          1554.8747208118439,
          1554.9741613864899,
          1555.0747776031494,
          1555.1755096912384,
          1555.279501914978,
          1555.3744592666626,
          1555.4760527610779,
          1555.5740582942963,
          1555.6754522323608,
          1555.7753405570984,
          1555.8802742958069,
          1555.9759588241577,
          1556.074725151062,
          1556.1759669780731,
          1556.2756700515747,
          1556.3753113746643,
          1556.4837319850922,
          1556.5750107765198,
          1556.6751630306244,
          1556.7765123844147,
          1556.8782150745392,
          1556.9785902500153,
          1557.0765113830566,
          1557.1777567863464,
          1557.2783045768738,
          1557.3775517940521,
          1557.4797596931458,
          1557.5780041217804,
          1557.6780152320862,
          1557.7778115272522,
          1557.876960515976,
          1557.9770517349243,
          1558.076621055603,
          1558.180831193924,
          1558.2854754924774,
          1558.3767499923706,
          1558.4804351329803,
          1558.579921722412,
          1558.677288532257,
          1558.7769978046417,
          1558.8778581619263,
          1558.9787356853485,
          1559.0771126747131,
          1559.1767921447754,
          1559.278477191925,
          1559.378291606903,
          1559.4775824546814,
          1559.5807921886444,
          1559.6776638031006,
          1559.778058052063,
          1559.8830723762512,
          1559.9832768440247,
          1560.0840981006622,
          1560.1845769882202,
          1560.2789707183838,
          1560.3786268234253,
          1560.47776389122,
          1560.5785915851593,
          1560.6796667575836,
          1560.7791197299957,
          1560.87948346138,
          1560.978010892868,
          1561.0784831047058,
          1561.1786596775055,
          1561.2765908241272,
          1561.3838136196136,
          1561.4774813652039,
          1561.5815932750702,
          1561.6770639419556,
          1561.7776787281036,
          1561.877956867218,
          1561.9779877662659,
          1562.0776226520538,
          1562.1785109043121,
          1562.2782335281372,
          1562.3815352916718,
          1562.4804756641388,
          1562.5775909423828,
          1562.6809916496277,
          1562.7826879024506,
          1562.8828573226929,
          1562.9838132858276,
          1563.0780189037323,
          1563.1789796352386,
          1563.2802908420563,
          1563.3813588619232,
          1563.480254650116,
          1563.5809354782104,
          1563.680933713913,
          1563.7801339626312,
          1563.880723953247,
          1563.9811205863953,
          1564.0802714824677,
          1564.1794838905334,
          1564.2845251560211,
          1564.3794884681702,
          1564.4791498184204,
          1564.5835678577423,
          1564.6808955669403,
          1564.7788915634155,
          1564.8795139789581,
          1564.9836478233337,
          1565.07950258255,
          1565.1825184822083,
          1565.2819392681122,
          1565.380526304245,
          1565.4812269210815,
          1565.5805473327637,
          1565.684333562851,
          1565.785714149475,
          1565.8849048614502,
          1565.9807634353638,
          1566.0813398361206,
          1566.1810414791107,
          1566.283430814743,
          1566.383866071701,
          1566.484350681305,
          1566.5904591083527,
          1566.6800830364227,
          1566.7800760269165,
          1566.8805696964264,
          1566.9809465408325,
          1567.0811483860016,
          1567.1813688278198,
          1567.2823538780212,
          1567.3819682598114,
          1567.4816749095917,
          1567.5819344520569,
          1567.6825020313263,
          1567.781952381134,
          1567.881548166275,
          1567.982048034668,
          1568.0820636749268,
          1568.1820254325867,
          1568.281239271164,
          1568.3812518119812,
          1568.4811825752258,
          1568.5819082260132,
          1568.6818380355835,
          1568.7822697162628,
          1568.8816404342651,
          1568.9819226264954,
          1569.0865490436554,
          1569.186048746109,
          1569.282539844513,
          1569.3828761577606,
          1569.4822869300842,
          1569.58291721344,
          1569.6838479042053,
          1569.7846109867096,
          1569.8823783397675,
          1569.9836070537567,
          1570.0831260681152,
          1570.1819534301758,
          1570.2878515720367,
          1570.3924379348755,
          1570.4909138679504,
          1570.5902736186981,
          1570.6988174915314,
          1570.7904138565063,
          1570.8904962539673,
          1570.9899044036865,
          1571.0898532867432,
          1571.1898276805878,
          1571.289258480072,
          1571.3903584480286,
          1571.4897434711456,
          1571.5904321670532,
          1571.6920642852783,
          1571.7911806106567,
          1571.8918182849884,
          1571.9967155456543,
          1572.1017162799835,
          1572.2009263038635,
          1572.2912111282349,
          1572.3967843055725,
          1572.4991810321808,
          1572.5943253040314,
          1572.6906354427338,
          1572.7905294895172,
          1572.891780614853,
          1572.9911139011383,
          1573.0927135944366,
          1573.1920285224915
         ],
         "y": [
          90,
          90,
          90,
          90,
          90,
          90,
          90,
          90,
          90,
          90,
          90,
          90,
          90,
          90,
          90,
          90,
          90,
          90,
          90,
          90,
          90,
          90,
          90,
          90,
          90,
          90,
          90,
          90,
          90,
          90,
          90,
          90,
          90,
          90,
          90,
          90,
          90,
          90,
          90,
          90,
          90,
          90,
          90,
          90,
          90,
          90,
          90,
          90,
          90,
          90,
          90,
          90,
          90,
          90,
          90,
          90,
          90,
          90,
          90,
          90,
          90,
          90,
          90,
          90,
          90,
          90,
          90,
          90,
          90,
          90,
          90,
          90,
          90,
          90,
          90,
          90,
          90,
          90,
          90,
          90,
          90,
          90,
          90,
          90,
          90,
          90,
          90,
          90,
          90,
          90,
          90,
          90,
          90,
          90,
          90,
          90,
          90,
          90,
          90,
          90,
          90,
          90,
          90,
          90,
          90,
          90,
          90,
          90,
          90,
          90,
          90,
          90,
          90,
          90,
          90,
          90,
          90,
          90,
          90,
          90,
          90,
          90,
          90,
          90,
          90,
          90,
          90,
          90,
          90,
          90,
          90,
          90,
          90,
          90,
          90,
          90,
          90,
          90,
          90,
          90,
          90,
          90,
          90,
          90,
          90,
          90,
          90,
          90,
          90,
          90,
          90,
          90,
          90,
          90,
          90,
          90,
          90,
          90,
          90,
          90,
          90,
          90,
          90,
          90,
          90,
          90,
          90,
          90,
          90,
          90,
          90,
          90,
          90,
          90,
          90,
          90,
          90,
          90,
          90,
          90,
          90,
          90,
          90,
          90,
          90,
          90,
          90,
          90,
          90,
          90,
          90,
          90,
          90,
          90,
          90,
          90,
          90,
          90,
          90,
          90,
          90,
          90,
          90,
          90,
          90,
          90,
          90,
          90,
          90,
          90,
          90,
          90,
          90,
          90,
          90,
          90,
          90,
          90,
          90,
          90,
          90,
          90,
          90,
          90,
          90,
          90,
          90,
          90,
          90,
          90,
          90,
          90,
          90,
          90,
          90,
          90,
          90,
          90,
          90,
          90,
          90,
          90,
          90,
          90,
          90,
          90,
          90,
          90,
          90,
          90,
          90,
          90,
          90,
          90,
          90,
          90,
          90,
          90,
          90,
          90,
          90,
          90,
          90,
          90,
          90,
          90,
          90,
          90,
          90,
          90,
          90,
          90,
          90,
          90,
          90,
          90,
          90,
          90,
          90,
          90,
          90,
          90,
          90,
          90,
          90,
          90,
          90,
          90,
          90,
          90,
          90,
          90,
          90,
          90,
          90,
          90,
          90,
          90,
          90,
          90,
          90,
          90,
          90,
          90,
          90,
          90,
          90,
          90,
          90,
          90,
          90,
          90,
          90,
          90,
          90,
          90,
          90,
          90,
          90,
          90,
          90,
          90,
          90,
          90,
          90,
          90,
          90,
          90,
          90,
          90,
          90,
          90,
          90,
          90,
          90,
          90,
          90,
          90,
          90,
          90,
          90,
          90,
          90,
          90,
          90,
          90,
          90,
          90,
          90,
          90,
          90,
          90,
          90,
          90,
          90,
          90,
          90,
          90,
          90,
          90,
          90,
          90,
          90,
          90,
          90,
          90,
          90,
          90,
          90,
          90,
          90,
          90,
          90,
          90,
          90,
          90,
          90,
          90,
          90,
          90,
          90,
          90,
          90,
          90,
          90,
          90,
          90,
          90,
          90,
          90,
          90,
          90,
          90,
          90,
          90,
          90,
          90,
          90,
          90,
          90,
          90,
          90,
          90,
          90,
          90,
          90,
          90,
          90,
          90,
          90,
          90,
          90,
          90,
          90,
          90,
          90,
          90,
          90,
          90,
          90,
          90,
          90,
          90,
          90,
          90,
          90,
          90,
          90,
          90,
          90,
          90,
          90,
          90,
          90,
          90,
          90,
          90,
          90,
          90,
          90,
          90,
          90,
          90,
          90,
          90,
          90,
          90,
          90,
          90,
          90,
          90,
          90,
          90,
          90,
          90,
          90,
          90,
          90,
          90,
          90,
          90,
          90,
          90,
          90,
          90,
          90,
          90,
          90,
          90,
          90,
          90,
          90,
          90,
          90,
          90,
          90,
          90,
          90,
          90,
          90,
          90,
          90,
          90,
          90,
          90,
          90,
          90,
          90,
          90,
          90,
          90,
          90,
          90,
          90,
          90,
          90,
          90,
          90,
          90,
          90,
          90,
          90,
          90,
          90,
          90,
          90,
          90,
          90,
          90,
          90,
          90,
          90,
          90,
          90,
          90,
          90,
          90,
          90,
          90,
          90,
          90,
          90,
          90,
          90,
          90,
          90,
          90,
          90,
          90,
          90,
          90,
          90,
          90,
          90,
          90,
          90,
          90,
          90,
          90,
          90,
          90,
          90,
          90,
          90,
          90,
          90,
          90,
          90,
          90,
          90,
          90,
          90,
          90,
          90,
          90,
          90,
          90,
          90,
          90,
          90,
          90,
          90,
          90,
          90,
          90,
          90,
          90,
          90,
          90,
          90,
          90,
          90,
          90,
          90,
          90,
          90,
          90,
          90,
          90,
          90,
          90,
          90,
          90,
          90,
          90,
          90,
          90,
          90,
          90,
          90,
          90,
          90,
          90,
          90,
          90,
          90,
          90,
          90,
          90,
          90,
          90,
          90,
          90,
          90,
          90,
          90,
          90,
          90,
          90,
          90,
          90,
          90,
          90,
          90,
          90,
          90,
          90,
          90,
          90,
          90,
          90,
          90,
          90,
          90,
          90,
          90,
          90,
          90,
          90,
          90,
          90,
          90,
          90,
          90,
          90,
          90,
          90,
          90,
          90,
          90,
          90,
          90,
          90,
          90,
          90,
          90,
          90,
          90,
          90,
          90,
          90,
          90,
          90,
          90,
          90,
          90,
          90,
          90,
          90,
          90,
          90,
          90,
          90,
          90,
          90,
          90,
          90,
          90,
          90,
          90,
          90,
          90,
          90,
          90,
          90,
          90,
          90,
          90,
          90,
          90,
          90,
          90,
          90,
          90,
          90,
          90,
          90,
          90,
          90,
          90,
          90,
          90,
          90,
          90,
          90,
          90,
          90,
          90,
          90,
          90,
          90,
          90,
          90,
          90,
          90,
          90,
          90,
          90,
          90,
          90,
          90,
          90,
          90,
          90,
          90,
          90,
          90,
          90,
          90,
          90,
          90,
          90,
          90,
          90,
          90,
          90,
          90,
          90,
          90,
          90,
          90,
          90,
          90,
          90,
          90,
          90,
          90,
          90,
          90
         ]
        }
       ],
       "layout": {
        "autosize": false,
        "font": {
         "color": "black",
         "family": "Courier New, monospace",
         "size": 22
        },
        "height": 600,
        "template": {
         "data": {
          "bar": [
           {
            "error_x": {
             "color": "#2a3f5f"
            },
            "error_y": {
             "color": "#2a3f5f"
            },
            "marker": {
             "line": {
              "color": "#E5ECF6",
              "width": 0.5
             },
             "pattern": {
              "fillmode": "overlay",
              "size": 10,
              "solidity": 0.2
             }
            },
            "type": "bar"
           }
          ],
          "barpolar": [
           {
            "marker": {
             "line": {
              "color": "#E5ECF6",
              "width": 0.5
             },
             "pattern": {
              "fillmode": "overlay",
              "size": 10,
              "solidity": 0.2
             }
            },
            "type": "barpolar"
           }
          ],
          "carpet": [
           {
            "aaxis": {
             "endlinecolor": "#2a3f5f",
             "gridcolor": "white",
             "linecolor": "white",
             "minorgridcolor": "white",
             "startlinecolor": "#2a3f5f"
            },
            "baxis": {
             "endlinecolor": "#2a3f5f",
             "gridcolor": "white",
             "linecolor": "white",
             "minorgridcolor": "white",
             "startlinecolor": "#2a3f5f"
            },
            "type": "carpet"
           }
          ],
          "choropleth": [
           {
            "colorbar": {
             "outlinewidth": 0,
             "ticks": ""
            },
            "type": "choropleth"
           }
          ],
          "contour": [
           {
            "colorbar": {
             "outlinewidth": 0,
             "ticks": ""
            },
            "colorscale": [
             [
              0,
              "#0d0887"
             ],
             [
              0.1111111111111111,
              "#46039f"
             ],
             [
              0.2222222222222222,
              "#7201a8"
             ],
             [
              0.3333333333333333,
              "#9c179e"
             ],
             [
              0.4444444444444444,
              "#bd3786"
             ],
             [
              0.5555555555555556,
              "#d8576b"
             ],
             [
              0.6666666666666666,
              "#ed7953"
             ],
             [
              0.7777777777777778,
              "#fb9f3a"
             ],
             [
              0.8888888888888888,
              "#fdca26"
             ],
             [
              1,
              "#f0f921"
             ]
            ],
            "type": "contour"
           }
          ],
          "contourcarpet": [
           {
            "colorbar": {
             "outlinewidth": 0,
             "ticks": ""
            },
            "type": "contourcarpet"
           }
          ],
          "heatmap": [
           {
            "colorbar": {
             "outlinewidth": 0,
             "ticks": ""
            },
            "colorscale": [
             [
              0,
              "#0d0887"
             ],
             [
              0.1111111111111111,
              "#46039f"
             ],
             [
              0.2222222222222222,
              "#7201a8"
             ],
             [
              0.3333333333333333,
              "#9c179e"
             ],
             [
              0.4444444444444444,
              "#bd3786"
             ],
             [
              0.5555555555555556,
              "#d8576b"
             ],
             [
              0.6666666666666666,
              "#ed7953"
             ],
             [
              0.7777777777777778,
              "#fb9f3a"
             ],
             [
              0.8888888888888888,
              "#fdca26"
             ],
             [
              1,
              "#f0f921"
             ]
            ],
            "type": "heatmap"
           }
          ],
          "heatmapgl": [
           {
            "colorbar": {
             "outlinewidth": 0,
             "ticks": ""
            },
            "colorscale": [
             [
              0,
              "#0d0887"
             ],
             [
              0.1111111111111111,
              "#46039f"
             ],
             [
              0.2222222222222222,
              "#7201a8"
             ],
             [
              0.3333333333333333,
              "#9c179e"
             ],
             [
              0.4444444444444444,
              "#bd3786"
             ],
             [
              0.5555555555555556,
              "#d8576b"
             ],
             [
              0.6666666666666666,
              "#ed7953"
             ],
             [
              0.7777777777777778,
              "#fb9f3a"
             ],
             [
              0.8888888888888888,
              "#fdca26"
             ],
             [
              1,
              "#f0f921"
             ]
            ],
            "type": "heatmapgl"
           }
          ],
          "histogram": [
           {
            "marker": {
             "pattern": {
              "fillmode": "overlay",
              "size": 10,
              "solidity": 0.2
             }
            },
            "type": "histogram"
           }
          ],
          "histogram2d": [
           {
            "colorbar": {
             "outlinewidth": 0,
             "ticks": ""
            },
            "colorscale": [
             [
              0,
              "#0d0887"
             ],
             [
              0.1111111111111111,
              "#46039f"
             ],
             [
              0.2222222222222222,
              "#7201a8"
             ],
             [
              0.3333333333333333,
              "#9c179e"
             ],
             [
              0.4444444444444444,
              "#bd3786"
             ],
             [
              0.5555555555555556,
              "#d8576b"
             ],
             [
              0.6666666666666666,
              "#ed7953"
             ],
             [
              0.7777777777777778,
              "#fb9f3a"
             ],
             [
              0.8888888888888888,
              "#fdca26"
             ],
             [
              1,
              "#f0f921"
             ]
            ],
            "type": "histogram2d"
           }
          ],
          "histogram2dcontour": [
           {
            "colorbar": {
             "outlinewidth": 0,
             "ticks": ""
            },
            "colorscale": [
             [
              0,
              "#0d0887"
             ],
             [
              0.1111111111111111,
              "#46039f"
             ],
             [
              0.2222222222222222,
              "#7201a8"
             ],
             [
              0.3333333333333333,
              "#9c179e"
             ],
             [
              0.4444444444444444,
              "#bd3786"
             ],
             [
              0.5555555555555556,
              "#d8576b"
             ],
             [
              0.6666666666666666,
              "#ed7953"
             ],
             [
              0.7777777777777778,
              "#fb9f3a"
             ],
             [
              0.8888888888888888,
              "#fdca26"
             ],
             [
              1,
              "#f0f921"
             ]
            ],
            "type": "histogram2dcontour"
           }
          ],
          "mesh3d": [
           {
            "colorbar": {
             "outlinewidth": 0,
             "ticks": ""
            },
            "type": "mesh3d"
           }
          ],
          "parcoords": [
           {
            "line": {
             "colorbar": {
              "outlinewidth": 0,
              "ticks": ""
             }
            },
            "type": "parcoords"
           }
          ],
          "pie": [
           {
            "automargin": true,
            "type": "pie"
           }
          ],
          "scatter": [
           {
            "fillpattern": {
             "fillmode": "overlay",
             "size": 10,
             "solidity": 0.2
            },
            "type": "scatter"
           }
          ],
          "scatter3d": [
           {
            "line": {
             "colorbar": {
              "outlinewidth": 0,
              "ticks": ""
             }
            },
            "marker": {
             "colorbar": {
              "outlinewidth": 0,
              "ticks": ""
             }
            },
            "type": "scatter3d"
           }
          ],
          "scattercarpet": [
           {
            "marker": {
             "colorbar": {
              "outlinewidth": 0,
              "ticks": ""
             }
            },
            "type": "scattercarpet"
           }
          ],
          "scattergeo": [
           {
            "marker": {
             "colorbar": {
              "outlinewidth": 0,
              "ticks": ""
             }
            },
            "type": "scattergeo"
           }
          ],
          "scattergl": [
           {
            "marker": {
             "colorbar": {
              "outlinewidth": 0,
              "ticks": ""
             }
            },
            "type": "scattergl"
           }
          ],
          "scattermapbox": [
           {
            "marker": {
             "colorbar": {
              "outlinewidth": 0,
              "ticks": ""
             }
            },
            "type": "scattermapbox"
           }
          ],
          "scatterpolar": [
           {
            "marker": {
             "colorbar": {
              "outlinewidth": 0,
              "ticks": ""
             }
            },
            "type": "scatterpolar"
           }
          ],
          "scatterpolargl": [
           {
            "marker": {
             "colorbar": {
              "outlinewidth": 0,
              "ticks": ""
             }
            },
            "type": "scatterpolargl"
           }
          ],
          "scatterternary": [
           {
            "marker": {
             "colorbar": {
              "outlinewidth": 0,
              "ticks": ""
             }
            },
            "type": "scatterternary"
           }
          ],
          "surface": [
           {
            "colorbar": {
             "outlinewidth": 0,
             "ticks": ""
            },
            "colorscale": [
             [
              0,
              "#0d0887"
             ],
             [
              0.1111111111111111,
              "#46039f"
             ],
             [
              0.2222222222222222,
              "#7201a8"
             ],
             [
              0.3333333333333333,
              "#9c179e"
             ],
             [
              0.4444444444444444,
              "#bd3786"
             ],
             [
              0.5555555555555556,
              "#d8576b"
             ],
             [
              0.6666666666666666,
              "#ed7953"
             ],
             [
              0.7777777777777778,
              "#fb9f3a"
             ],
             [
              0.8888888888888888,
              "#fdca26"
             ],
             [
              1,
              "#f0f921"
             ]
            ],
            "type": "surface"
           }
          ],
          "table": [
           {
            "cells": {
             "fill": {
              "color": "#EBF0F8"
             },
             "line": {
              "color": "white"
             }
            },
            "header": {
             "fill": {
              "color": "#C8D4E3"
             },
             "line": {
              "color": "white"
             }
            },
            "type": "table"
           }
          ]
         },
         "layout": {
          "annotationdefaults": {
           "arrowcolor": "#2a3f5f",
           "arrowhead": 0,
           "arrowwidth": 1
          },
          "autotypenumbers": "strict",
          "coloraxis": {
           "colorbar": {
            "outlinewidth": 0,
            "ticks": ""
           }
          },
          "colorscale": {
           "diverging": [
            [
             0,
             "#8e0152"
            ],
            [
             0.1,
             "#c51b7d"
            ],
            [
             0.2,
             "#de77ae"
            ],
            [
             0.3,
             "#f1b6da"
            ],
            [
             0.4,
             "#fde0ef"
            ],
            [
             0.5,
             "#f7f7f7"
            ],
            [
             0.6,
             "#e6f5d0"
            ],
            [
             0.7,
             "#b8e186"
            ],
            [
             0.8,
             "#7fbc41"
            ],
            [
             0.9,
             "#4d9221"
            ],
            [
             1,
             "#276419"
            ]
           ],
           "sequential": [
            [
             0,
             "#0d0887"
            ],
            [
             0.1111111111111111,
             "#46039f"
            ],
            [
             0.2222222222222222,
             "#7201a8"
            ],
            [
             0.3333333333333333,
             "#9c179e"
            ],
            [
             0.4444444444444444,
             "#bd3786"
            ],
            [
             0.5555555555555556,
             "#d8576b"
            ],
            [
             0.6666666666666666,
             "#ed7953"
            ],
            [
             0.7777777777777778,
             "#fb9f3a"
            ],
            [
             0.8888888888888888,
             "#fdca26"
            ],
            [
             1,
             "#f0f921"
            ]
           ],
           "sequentialminus": [
            [
             0,
             "#0d0887"
            ],
            [
             0.1111111111111111,
             "#46039f"
            ],
            [
             0.2222222222222222,
             "#7201a8"
            ],
            [
             0.3333333333333333,
             "#9c179e"
            ],
            [
             0.4444444444444444,
             "#bd3786"
            ],
            [
             0.5555555555555556,
             "#d8576b"
            ],
            [
             0.6666666666666666,
             "#ed7953"
            ],
            [
             0.7777777777777778,
             "#fb9f3a"
            ],
            [
             0.8888888888888888,
             "#fdca26"
            ],
            [
             1,
             "#f0f921"
            ]
           ]
          },
          "colorway": [
           "#636efa",
           "#EF553B",
           "#00cc96",
           "#ab63fa",
           "#FFA15A",
           "#19d3f3",
           "#FF6692",
           "#B6E880",
           "#FF97FF",
           "#FECB52"
          ],
          "font": {
           "color": "#2a3f5f"
          },
          "geo": {
           "bgcolor": "white",
           "lakecolor": "white",
           "landcolor": "#E5ECF6",
           "showlakes": true,
           "showland": true,
           "subunitcolor": "white"
          },
          "hoverlabel": {
           "align": "left"
          },
          "hovermode": "closest",
          "mapbox": {
           "style": "light"
          },
          "paper_bgcolor": "white",
          "plot_bgcolor": "#E5ECF6",
          "polar": {
           "angularaxis": {
            "gridcolor": "white",
            "linecolor": "white",
            "ticks": ""
           },
           "bgcolor": "#E5ECF6",
           "radialaxis": {
            "gridcolor": "white",
            "linecolor": "white",
            "ticks": ""
           }
          },
          "scene": {
           "xaxis": {
            "backgroundcolor": "#E5ECF6",
            "gridcolor": "white",
            "gridwidth": 2,
            "linecolor": "white",
            "showbackground": true,
            "ticks": "",
            "zerolinecolor": "white"
           },
           "yaxis": {
            "backgroundcolor": "#E5ECF6",
            "gridcolor": "white",
            "gridwidth": 2,
            "linecolor": "white",
            "showbackground": true,
            "ticks": "",
            "zerolinecolor": "white"
           },
           "zaxis": {
            "backgroundcolor": "#E5ECF6",
            "gridcolor": "white",
            "gridwidth": 2,
            "linecolor": "white",
            "showbackground": true,
            "ticks": "",
            "zerolinecolor": "white"
           }
          },
          "shapedefaults": {
           "line": {
            "color": "#2a3f5f"
           }
          },
          "ternary": {
           "aaxis": {
            "gridcolor": "white",
            "linecolor": "white",
            "ticks": ""
           },
           "baxis": {
            "gridcolor": "white",
            "linecolor": "white",
            "ticks": ""
           },
           "bgcolor": "#E5ECF6",
           "caxis": {
            "gridcolor": "white",
            "linecolor": "white",
            "ticks": ""
           }
          },
          "title": {
           "x": 0.05
          },
          "xaxis": {
           "automargin": true,
           "gridcolor": "white",
           "linecolor": "white",
           "ticks": "",
           "title": {
            "standoff": 15
           },
           "zerolinecolor": "white",
           "zerolinewidth": 2
          },
          "yaxis": {
           "automargin": true,
           "gridcolor": "white",
           "linecolor": "white",
           "ticks": "",
           "title": {
            "standoff": 15
           },
           "zerolinecolor": "white",
           "zerolinewidth": 2
          }
         }
        },
        "title": {
         "text": "Range of Motion hipLeft"
        },
        "width": 750,
        "xaxis": {
         "title": {
          "font": {
           "color": "#7f7f7f",
           "family": "Courier New, monospace",
           "size": 18
          },
          "text": "time [s]"
         }
        },
        "yaxis": {
         "title": {
          "font": {
           "color": "#7f7f7f",
           "family": "Courier New, monospace",
           "size": 18
          },
          "text": "ROM [gradi]"
         }
        }
       }
      },
      "text/html": [
       "<div>                            <div id=\"df1d9a1c-5924-4c1a-8556-ca4472441f5f\" class=\"plotly-graph-div\" style=\"height:600px; width:750px;\"></div>            <script type=\"text/javascript\">                require([\"plotly\"], function(Plotly) {                    window.PLOTLYENV=window.PLOTLYENV || {};                                    if (document.getElementById(\"df1d9a1c-5924-4c1a-8556-ca4472441f5f\")) {                    Plotly.newPlot(                        \"df1d9a1c-5924-4c1a-8556-ca4472441f5f\",                        [{\"line\":{\"color\":\"blue\",\"width\":3},\"mode\":\"lines\",\"name\":\"Andamento Reale\",\"x\":[1499.2411363124847,1499.3432846069336,1499.4427211284637,1499.54013133049,1499.6420300006866,1499.744064092636,1499.8401839733124,1499.9462168216705,1500.0419936180115,1500.1414563655853,1500.2422320842743,1500.3411314487457,1500.441514492035,1500.541243314743,1500.6429286003113,1500.7421760559082,1500.8417778015137,1500.9413657188416,1501.0417659282684,1501.1428897380829,1501.240436553955,1501.3419153690338,1501.441132068634,1501.5403683185577,1501.6449313163757,1501.7413523197174,1501.8423101902008,1501.9408650398254,1502.04141497612,1502.1416535377502,1502.2421522140503,1502.3436872959137,1502.4428606033325,1502.5419516563416,1502.6438164710999,1502.739751815796,1502.839929819107,1502.9432377815247,1503.0396859645844,1503.1407148838043,1503.2416439056396,1503.3399159908295,1503.4405806064606,1503.542091369629,1503.6399137973785,1503.7397291660309,1503.8402659893036,1503.9417126178741,1504.0408883094788,1504.1431605815887,1504.2412109375,1504.3424327373505,1504.442084312439,1504.5419890880585,1504.6418566703796,1504.7421357631683,1504.8420453071594,1504.9417133331299,1505.0427649021149,1505.1421146392822,1505.2413144111633,1505.3408071994781,1505.4415457248688,1505.542934179306,1505.6415820121765,1505.741807460785,1505.8417615890503,1505.9422342777252,1506.0417664051056,1506.142252922058,1506.2424128055573,1506.3428943157196,1506.4433236122131,1506.5426783561707,1506.6421117782593,1506.74356341362,1506.8419032096863,1506.9436628818512,1507.042890548706,1507.143632888794,1507.2437996864319,1507.34317612648,1507.4439723491669,1507.5464203357697,1507.646990776062,1507.743609905243,1507.844081878662,1507.944857597351,1508.0438890457153,1508.143606185913,1508.2456514835358,1508.3450417518616,1508.444191455841,1508.5442969799042,1508.6431493759155,1508.7441477775574,1508.8442180156708,1508.9457623958588,1509.0446989536285,1509.1442427635193,1509.2483496665955,1509.348049879074,1509.447769165039,1509.5452642440796,1509.6454932689667,1509.7466208934784,1509.8461413383484,1509.9450035095215,1510.0446655750275,1510.1453218460083,1510.2444643974304,1510.3476753234863,1510.444744348526,1510.5449130535126,1510.6449630260468,1510.7453105449677,1510.8460247516632,1510.9460620880127,1511.0450239181519,1511.147045135498,1511.2464575767517,1511.3476495742798,1511.4461619853973,1511.5460538864136,1511.6458253860474,1511.7523272037506,1511.8473920822144,1511.9467968940735,1512.0458340644836,1512.14905834198,1512.2465064525604,1512.3464360237122,1512.4465262889862,1512.5464425086975,1512.6461458206177,1512.7456891536713,1512.846199274063,1512.9469623565674,1513.046472787857,1513.1472702026367,1513.2464673519135,1513.3472352027893,1513.4477665424347,1513.5469961166382,1513.6465792655945,1513.7474553585052,1513.8473408222198,1513.9478917121887,1514.048181295395,1514.1470139026642,1514.2469763755798,1514.347504377365,1514.4472517967224,1514.548014163971,1514.6466579437256,1514.747255563736,1514.8468098640442,1514.9472517967224,1515.0483257770538,1515.1476039886475,1515.2474853992462,1515.349123954773,1515.448129415512,1515.5479564666748,1515.6483643054962,1515.7478876113892,1515.848218679428,1515.9479448795319,1516.0482194423676,1516.149117231369,1516.24773478508,1516.3488357067108,1516.4485018253326,1516.548581123352,1516.6529862880707,1516.7489988803864,1516.8483703136444,1516.9493639469147,1517.0485661029816,1517.1542015075684,1517.2489612102509,1517.3534693717957,1517.4531128406525,1517.553725719452,1517.6531822681427,1517.7508800029755,1517.8505020141602,1517.9501507282257,1518.0533425807953,1518.154797554016,1518.252271413803,1518.3584887981415,1518.4496307373047,1518.5517852306366,1518.6547417640686,1518.751220703125,1518.8547055721283,1518.9500937461853,1519.0509328842163,1519.1500902175903,1519.2508342266083,1519.3509469032288,1519.4529166221619,1519.552564382553,1519.6508638858795,1519.7502257823944,1519.8513631820679,1519.9507722854614,1520.0511844158173,1520.1549203395844,1520.2553119659424,1520.355444908142,1520.4572768211365,1520.5562913417816,1520.6547539234161,1520.7517511844635,1520.852136850357,1520.956214427948,1521.0517673492432,1521.151982307434,1521.2533135414124,1521.3525230884552,1521.4546430110931,1521.5537049770355,1521.6560616493225,1521.756957769394,1521.861038684845,1521.9608080387115,1522.0553195476532,1522.1532826423645,1522.2527394294739,1522.3522148132324,1522.4540903568268,1522.5571751594543,1522.654535293579,1522.7544548511505,1522.8560378551483,1522.953887462616,1523.0526440143585,1523.1566863059998,1523.2580780982971,1523.3567478656769,1523.454469203949,1523.5542244911194,1523.658311843872,1523.7581009864807,1523.8582689762115,1523.953364610672,1524.054563999176,1524.1584029197693,1524.2576098442078,1524.3543453216553,1524.4550700187683,1524.5540347099304,1524.6535897254944,1524.753868341446,1524.853411436081,1524.95521068573,1525.054139137268,1525.1547272205353,1525.2555606365204,1525.3549020290375,1525.4566402435303,1525.5587475299835,1525.6535289287567,1525.7547373771667,1525.8536713123322,1525.9546175003052,1526.0546753406525,1526.1549615859985,1526.255040884018,1526.3548610210419,1526.454764842987,1526.5555267333984,1526.6554877758026,1526.7556302547455,1526.8551664352417,1526.9557905197144,1527.0557622909546,1527.1561093330383,1527.2571275234222,1527.356971502304,1527.457272529602,1527.5553719997406,1527.6574912071228,1527.757332086563,1527.8562273979187,1527.9594457149506,1528.0566897392273,1528.1583421230316,1528.2581007480621,1528.355853319168,1528.4608187675476,1528.5574316978455,1528.6561155319214,1528.7592558860779,1528.8586099147797,1528.9628987312317,1529.0560810565948,1529.1571590900421,1529.2560682296753,1529.3564767837524,1529.456878900528,1529.5586001873016,1529.657800912857,1529.7575800418854,1529.8577151298523,1529.9580373764038,1530.0567288398743,1530.157428264618,1530.2587399482727,1530.3589704036713,1530.457849740982,1530.5578382015228,1530.658446073532,1530.757824897766,1530.8616199493408,1530.960708618164,1531.059900522232,1531.162596464157,1531.2573883533478,1531.3600792884827,1531.458923816681,1531.5627195835114,1531.6612637043,1531.7576656341553,1531.8620171546936,1531.9599452018738,1532.0599632263184,1532.1607375144958,1532.259782075882,1532.3589525222778,1532.4589982032776,1532.5596570968628,1532.660763502121,1532.759989976883,1532.859920501709,1532.9633507728577,1533.0590443611145,1533.159485578537,1533.2591478824615,1533.358909368515,1533.4588725566864,1533.5592203140259,1533.6601333618164,1533.758960723877,1533.8600804805756,1533.9596378803253,1534.0594065189362,1534.1598281860352,1534.2596225738525,1534.360122680664,1534.4612867832184,1534.5604510307312,1534.6615297794342,1534.76198220253,1534.8614101409912,1534.9614522457123,1535.0600357055664,1535.1603939533234,1535.2622575759888,1535.3602058887482,1535.462120294571,1535.56028008461,1535.6601366996765,1535.7611837387085,1535.8639693260193,1535.9614548683167,1536.06116604805,1536.1607356071472,1536.2609808444977,1536.3626313209534,1536.4609956741333,1536.564481496811,1536.6640095710754,1536.763158082962,1536.8629369735718,1536.9626727104187,1537.0616796016693,1537.1621129512787,1537.2617573738098,1537.3618972301483,1537.462711572647,1537.562515258789,1537.6621596813202,1537.7639846801758,1537.8620209693909,1537.9622814655304,1538.0627496242523,1538.1621263027191,1538.2627971172333,1538.366781949997,1538.4637882709503,1538.563273191452,1538.66330909729,1538.7667174339294,1538.8636915683746,1538.9630060195923,1539.063859462738,1539.1625623703003,1539.2660901546478,1539.3630833625793,1539.464448928833,1539.5636985301971,1539.6643221378326,1539.7645237445831,1539.8643732070923,1539.9644606113434,1540.0639703273773,1540.1641156673431,1540.2658836841583,1540.3652892112732,1540.4671607017517,1540.5652508735657,1540.669272184372,1540.7651839256287,1540.8669271469116,1540.9673836231232,1541.0654036998749,1541.1660828590393,1541.2674746513367,1541.3676433563232,1541.4656250476837,1541.5665922164917,1541.6681351661682,1541.7672548294067,1541.867030620575,1541.9676649570465,1542.0670235157013,1542.1689057350159,1542.2671897411346,1542.3672127723694,1542.4686870574951,1542.5665442943573,1542.6705791950226,1542.7696046829224,1542.8668971061707,1542.966644525528,1543.0735685825348,1543.1732482910156,1543.267774105072,1543.3676788806915,1543.4672544002533,1543.5671184062958,1543.6677463054657,1543.7675108909607,1543.8679871559143,1543.9693717956543,1544.0663883686066,1544.1677677631378,1544.268888950348,1544.3663485050201,1544.4664885997772,1544.5660860538483,1544.6669471263885,1544.76717877388,1544.8672885894775,1544.9685242176056,1545.0670084953308,1545.1677951812744,1545.2673869132996,1545.3672273159027,1545.467891216278,1545.575178861618,1545.6677899360657,1545.7664551734924,1545.8665204048157,1545.9671485424042,1546.0674130916595,1546.1681797504425,1546.2676408290863,1546.367078781128,1546.4679577350616,1546.5685453414917,1546.6769742965698,1546.7727680206299,1546.8680868148804,1546.9686315059662,1547.069181919098,1547.167875289917,1547.2677521705627,1547.3686332702637,1547.4707067012787,1547.5683662891388,1547.6724834442139,1547.769639492035,1547.8712072372437,1547.9770529270172,1548.072209596634,1548.173274755478,1548.2715876102448,1548.371628522873,1548.4709198474884,1548.5714690685272,1548.671296596527,1548.7715110778809,1548.8716838359833,1548.97434091568,1549.070969581604,1549.174753665924,1549.2744188308716,1549.3733451366425,1549.4734070301056,1549.5742897987366,1549.6723790168762,1549.7728595733643,1549.8727250099182,1549.9772119522095,1550.0720105171204,1550.1710896492004,1550.2725031375885,1550.3713836669922,1550.4781966209412,1550.5779829025269,1550.6775233745575,1550.774284362793,1550.87375998497,1550.979849100113,1551.0752232074738,1551.1747436523438,1551.2786514759064,1551.3792498111725,1551.478197336197,1551.579080581665,1551.67942070961,1551.77863407135,1551.880181312561,1551.9783499240875,1552.0735130310059,1552.1743123531342,1552.2738902568817,1552.3736426830292,1552.4735062122345,1552.5737590789795,1552.6750376224518,1552.774917125702,1552.874896287918,1552.9747967720032,1553.0752203464508,1553.1760432720184,1553.2762243747711,1553.3725430965424,1553.472339630127,1553.5719089508057,1553.671792268753,1553.7730875015259,1553.8719074726105,1553.9732356071472,1554.072648525238,1554.172200679779,1554.2724151611328,1554.3731021881104,1554.4731767177582,1554.5727956295013,1554.673753976822,1554.7773764133453,1554.8747208118439,1554.9741613864899,1555.0747776031494,1555.1755096912384,1555.279501914978,1555.3744592666626,1555.4760527610779,1555.5740582942963,1555.6754522323608,1555.7753405570984,1555.8802742958069,1555.9759588241577,1556.074725151062,1556.1759669780731,1556.2756700515747,1556.3753113746643,1556.4837319850922,1556.5750107765198,1556.6751630306244,1556.7765123844147,1556.8782150745392,1556.9785902500153,1557.0765113830566,1557.1777567863464,1557.2783045768738,1557.3775517940521,1557.4797596931458,1557.5780041217804,1557.6780152320862,1557.7778115272522,1557.876960515976,1557.9770517349243,1558.076621055603,1558.180831193924,1558.2854754924774,1558.3767499923706,1558.4804351329803,1558.579921722412,1558.677288532257,1558.7769978046417,1558.8778581619263,1558.9787356853485,1559.0771126747131,1559.1767921447754,1559.278477191925,1559.378291606903,1559.4775824546814,1559.5807921886444,1559.6776638031006,1559.778058052063,1559.8830723762512,1559.9832768440247,1560.0840981006622,1560.1845769882202,1560.2789707183838,1560.3786268234253,1560.47776389122,1560.5785915851593,1560.6796667575836,1560.7791197299957,1560.87948346138,1560.978010892868,1561.0784831047058,1561.1786596775055,1561.2765908241272,1561.3838136196136,1561.4774813652039,1561.5815932750702,1561.6770639419556,1561.7776787281036,1561.877956867218,1561.9779877662659,1562.0776226520538,1562.1785109043121,1562.2782335281372,1562.3815352916718,1562.4804756641388,1562.5775909423828,1562.6809916496277,1562.7826879024506,1562.8828573226929,1562.9838132858276,1563.0780189037323,1563.1789796352386,1563.2802908420563,1563.3813588619232,1563.480254650116,1563.5809354782104,1563.680933713913,1563.7801339626312,1563.880723953247,1563.9811205863953,1564.0802714824677,1564.1794838905334,1564.2845251560211,1564.3794884681702,1564.4791498184204,1564.5835678577423,1564.6808955669403,1564.7788915634155,1564.8795139789581,1564.9836478233337,1565.07950258255,1565.1825184822083,1565.2819392681122,1565.380526304245,1565.4812269210815,1565.5805473327637,1565.684333562851,1565.785714149475,1565.8849048614502,1565.9807634353638,1566.0813398361206,1566.1810414791107,1566.283430814743,1566.383866071701,1566.484350681305,1566.5904591083527,1566.6800830364227,1566.7800760269165,1566.8805696964264,1566.9809465408325,1567.0811483860016,1567.1813688278198,1567.2823538780212,1567.3819682598114,1567.4816749095917,1567.5819344520569,1567.6825020313263,1567.781952381134,1567.881548166275,1567.982048034668,1568.0820636749268,1568.1820254325867,1568.281239271164,1568.3812518119812,1568.4811825752258,1568.5819082260132,1568.6818380355835,1568.7822697162628,1568.8816404342651,1568.9819226264954,1569.0865490436554,1569.186048746109,1569.282539844513,1569.3828761577606,1569.4822869300842,1569.58291721344,1569.6838479042053,1569.7846109867096,1569.8823783397675,1569.9836070537567,1570.0831260681152,1570.1819534301758,1570.2878515720367,1570.3924379348755,1570.4909138679504,1570.5902736186981,1570.6988174915314,1570.7904138565063,1570.8904962539673,1570.9899044036865,1571.0898532867432,1571.1898276805878,1571.289258480072,1571.3903584480286,1571.4897434711456,1571.5904321670532,1571.6920642852783,1571.7911806106567,1571.8918182849884,1571.9967155456543,1572.1017162799835,1572.2009263038635,1572.2912111282349,1572.3967843055725,1572.4991810321808,1572.5943253040314,1572.6906354427338,1572.7905294895172,1572.891780614853,1572.9911139011383,1573.0927135944366,1573.1920285224915],\"y\":[90.0,90.0,90.0,90.0,90.0,90.0,90.0,90.0,90.0,90.0,90.0,90.0,90.0,90.0,90.0,90.0,90.0,90.0,90.0,90.0,90.0,90.0,90.0,90.0,90.0,90.0,90.0,90.0,90.0,90.0,90.0,90.0,90.0,90.0,90.0,90.0,90.0,90.0,90.0,90.0,90.0,90.0,90.0,90.0,90.0,90.0,90.0,90.0,90.0,90.0,90.0,90.0,90.0,90.0,90.0,90.0,90.0,90.0,90.0,90.0,90.0,90.0,90.0,90.0,90.0,90.0,90.0,90.0,90.0,90.0,90.0,90.0,90.0,90.0,90.0,90.0,90.0,90.0,90.0,90.0,90.0,90.0,90.0,90.0,90.0,90.0,90.0,90.0,90.0,90.0,90.0,90.0,90.0,90.0,90.0,90.0,90.0,90.0,90.0,90.0,90.0,90.0,90.0,90.0,90.0,90.0,90.0,90.0,90.0,90.0,90.0,90.0,90.0,90.0,90.0,90.0,90.0,90.0,90.0,90.0,90.0,90.0,90.0,90.0,90.0,90.0,90.0,90.0,90.0,90.0,90.0,90.0,90.0,90.0,90.0,90.0,90.0,90.0,90.0,90.0,90.0,90.0,90.0,90.0,90.0,90.0,90.0,90.0,90.0,90.0,90.0,90.0,90.0,90.0,90.0,90.0,90.0,90.0,90.0,90.0,90.0,90.0,90.0,90.0,90.0,90.0,90.0,90.0,90.0,90.0,90.0,90.0,90.0,90.0,90.0,90.0,90.0,90.0,90.0,90.0,90.0,90.0,90.0,90.0,90.0,90.0,90.0,90.0,90.0,90.0,90.0,90.0,90.0,90.0,90.0,90.0,90.0,90.0,90.0,90.0,90.0,90.0,90.0,90.0,90.0,90.0,90.0,90.0,90.0,90.0,90.0,90.0,90.0,90.0,90.0,90.0,90.0,90.0,90.0,90.0,90.0,90.0,90.0,90.0,90.0,90.0,90.0,90.0,90.0,90.0,90.0,90.0,90.0,90.0,90.0,90.0,90.0,90.0,90.0,90.0,90.0,90.0,90.0,90.0,90.0,90.0,90.0,90.0,90.0,90.0,90.0,90.0,90.0,90.0,90.0,90.0,90.0,90.0,90.0,90.0,90.0,90.0,90.0,90.0,90.0,90.0,90.0,90.0,90.0,90.0,90.0,90.0,90.0,90.0,90.0,90.0,90.0,90.0,90.0,90.0,90.0,90.0,90.0,90.0,90.0,90.0,90.0,90.0,90.0,90.0,90.0,90.0,90.0,90.0,90.0,90.0,90.0,90.0,90.0,90.0,90.0,90.0,90.0,90.0,90.0,90.0,90.0,90.0,90.0,90.0,90.0,90.0,90.0,90.0,90.0,90.0,90.0,90.0,90.0,90.0,90.0,90.0,90.0,90.0,90.0,90.0,90.0,90.0,90.0,90.0,90.0,90.0,90.0,90.0,90.0,90.0,90.0,90.0,90.0,90.0,90.0,90.0,90.0,90.0,90.0,90.0,90.0,90.0,90.0,90.0,90.0,90.0,90.0,90.0,90.0,90.0,90.0,90.0,90.0,90.0,90.0,90.0,90.0,90.0,90.0,90.0,90.0,90.0,90.0,90.0,90.0,90.0,90.0,90.0,90.0,90.0,90.0,90.0,90.0,90.0,90.0,90.0,90.0,90.0,90.0,90.0,90.0,90.0,90.0,90.0,90.0,90.0,90.0,90.0,90.0,90.0,90.0,90.0,90.0,90.0,90.0,90.0,90.0,90.0,90.0,90.0,90.0,90.0,90.0,90.0,90.0,90.0,90.0,90.0,90.0,90.0,90.0,90.0,90.0,90.0,90.0,90.0,90.0,90.0,90.0,90.0,90.0,90.0,90.0,90.0,90.0,90.0,90.0,90.0,90.0,90.0,90.0,90.0,90.0,90.0,90.0,90.0,90.0,90.0,90.0,90.0,90.0,90.0,90.0,90.0,90.0,90.0,90.0,90.0,90.0,90.0,90.0,90.0,90.0,90.0,90.0,90.0,90.0,90.0,90.0,90.0,90.0,90.0,90.0,90.0,90.0,90.0,90.0,90.0,90.0,90.0,90.0,90.0,90.0,90.0,90.0,90.0,90.0,90.0,90.0,90.0,90.0,90.0,90.0,90.0,90.0,90.0,90.0,90.0,90.0,90.0,90.0,90.0,90.0,90.0,90.0,90.0,90.0,90.0,90.0,90.0,90.0,90.0,90.0,90.0,90.0,90.0,90.0,90.0,90.0,90.0,90.0,90.0,90.0,90.0,90.0,90.0,90.0,90.0,90.0,90.0,90.0,90.0,90.0,90.0,90.0,90.0,90.0,90.0,90.0,90.0,90.0,90.0,90.0,90.0,90.0,90.0,90.0,90.0,90.0,90.0,90.0,90.0,90.0,90.0,90.0,90.0,90.0,90.0,90.0,90.0,90.0,90.0,90.0,90.0,90.0,90.0,90.0,90.0,90.0,90.0,90.0,90.0,90.0,90.0,90.0,90.0,90.0,90.0,90.0,90.0,90.0,90.0,90.0,90.0,90.0,90.0,90.0,90.0,90.0,90.0,90.0,90.0,90.0,90.0,90.0,90.0,90.0,90.0,90.0,90.0,90.0,90.0,90.0,90.0,90.0,90.0,90.0,90.0,90.0,90.0,90.0,90.0,90.0,90.0,90.0,90.0,90.0,90.0,90.0,90.0,90.0,90.0,90.0,90.0,90.0,90.0,90.0,90.0,90.0,90.0,90.0,90.0,90.0,90.0,90.0,90.0,90.0,90.0,90.0,90.0,90.0,90.0,90.0,90.0,90.0,90.0,90.0,90.0,90.0,90.0,90.0,90.0,90.0,90.0,90.0,90.0,90.0,90.0,90.0,90.0,90.0,90.0,90.0,90.0,90.0,90.0,90.0,90.0,90.0,90.0,90.0,90.0,90.0,90.0,90.0,90.0,90.0,90.0,90.0,90.0,90.0,90.0,90.0,90.0,90.0,90.0,90.0,90.0,90.0,90.0,90.0,90.0,90.0,90.0,90.0,90.0,90.0,90.0,90.0,90.0,90.0,90.0,90.0,90.0,90.0,90.0,90.0,90.0,90.0,90.0,90.0,90.0,90.0,90.0,90.0,90.0,90.0,90.0,90.0,90.0,90.0,90.0,90.0,90.0,90.0,90.0,90.0,90.0,90.0,90.0,90.0,90.0,90.0,90.0,90.0,90.0,90.0,90.0,90.0,90.0,90.0,90.0,90.0],\"type\":\"scatter\"}],                        {\"autosize\":false,\"font\":{\"color\":\"black\",\"family\":\"Courier New, monospace\",\"size\":22},\"height\":600,\"template\":{\"data\":{\"barpolar\":[{\"marker\":{\"line\":{\"color\":\"#E5ECF6\",\"width\":0.5},\"pattern\":{\"fillmode\":\"overlay\",\"size\":10,\"solidity\":0.2}},\"type\":\"barpolar\"}],\"bar\":[{\"error_x\":{\"color\":\"#2a3f5f\"},\"error_y\":{\"color\":\"#2a3f5f\"},\"marker\":{\"line\":{\"color\":\"#E5ECF6\",\"width\":0.5},\"pattern\":{\"fillmode\":\"overlay\",\"size\":10,\"solidity\":0.2}},\"type\":\"bar\"}],\"carpet\":[{\"aaxis\":{\"endlinecolor\":\"#2a3f5f\",\"gridcolor\":\"white\",\"linecolor\":\"white\",\"minorgridcolor\":\"white\",\"startlinecolor\":\"#2a3f5f\"},\"baxis\":{\"endlinecolor\":\"#2a3f5f\",\"gridcolor\":\"white\",\"linecolor\":\"white\",\"minorgridcolor\":\"white\",\"startlinecolor\":\"#2a3f5f\"},\"type\":\"carpet\"}],\"choropleth\":[{\"colorbar\":{\"outlinewidth\":0,\"ticks\":\"\"},\"type\":\"choropleth\"}],\"contourcarpet\":[{\"colorbar\":{\"outlinewidth\":0,\"ticks\":\"\"},\"type\":\"contourcarpet\"}],\"contour\":[{\"colorbar\":{\"outlinewidth\":0,\"ticks\":\"\"},\"colorscale\":[[0.0,\"#0d0887\"],[0.1111111111111111,\"#46039f\"],[0.2222222222222222,\"#7201a8\"],[0.3333333333333333,\"#9c179e\"],[0.4444444444444444,\"#bd3786\"],[0.5555555555555556,\"#d8576b\"],[0.6666666666666666,\"#ed7953\"],[0.7777777777777778,\"#fb9f3a\"],[0.8888888888888888,\"#fdca26\"],[1.0,\"#f0f921\"]],\"type\":\"contour\"}],\"heatmapgl\":[{\"colorbar\":{\"outlinewidth\":0,\"ticks\":\"\"},\"colorscale\":[[0.0,\"#0d0887\"],[0.1111111111111111,\"#46039f\"],[0.2222222222222222,\"#7201a8\"],[0.3333333333333333,\"#9c179e\"],[0.4444444444444444,\"#bd3786\"],[0.5555555555555556,\"#d8576b\"],[0.6666666666666666,\"#ed7953\"],[0.7777777777777778,\"#fb9f3a\"],[0.8888888888888888,\"#fdca26\"],[1.0,\"#f0f921\"]],\"type\":\"heatmapgl\"}],\"heatmap\":[{\"colorbar\":{\"outlinewidth\":0,\"ticks\":\"\"},\"colorscale\":[[0.0,\"#0d0887\"],[0.1111111111111111,\"#46039f\"],[0.2222222222222222,\"#7201a8\"],[0.3333333333333333,\"#9c179e\"],[0.4444444444444444,\"#bd3786\"],[0.5555555555555556,\"#d8576b\"],[0.6666666666666666,\"#ed7953\"],[0.7777777777777778,\"#fb9f3a\"],[0.8888888888888888,\"#fdca26\"],[1.0,\"#f0f921\"]],\"type\":\"heatmap\"}],\"histogram2dcontour\":[{\"colorbar\":{\"outlinewidth\":0,\"ticks\":\"\"},\"colorscale\":[[0.0,\"#0d0887\"],[0.1111111111111111,\"#46039f\"],[0.2222222222222222,\"#7201a8\"],[0.3333333333333333,\"#9c179e\"],[0.4444444444444444,\"#bd3786\"],[0.5555555555555556,\"#d8576b\"],[0.6666666666666666,\"#ed7953\"],[0.7777777777777778,\"#fb9f3a\"],[0.8888888888888888,\"#fdca26\"],[1.0,\"#f0f921\"]],\"type\":\"histogram2dcontour\"}],\"histogram2d\":[{\"colorbar\":{\"outlinewidth\":0,\"ticks\":\"\"},\"colorscale\":[[0.0,\"#0d0887\"],[0.1111111111111111,\"#46039f\"],[0.2222222222222222,\"#7201a8\"],[0.3333333333333333,\"#9c179e\"],[0.4444444444444444,\"#bd3786\"],[0.5555555555555556,\"#d8576b\"],[0.6666666666666666,\"#ed7953\"],[0.7777777777777778,\"#fb9f3a\"],[0.8888888888888888,\"#fdca26\"],[1.0,\"#f0f921\"]],\"type\":\"histogram2d\"}],\"histogram\":[{\"marker\":{\"pattern\":{\"fillmode\":\"overlay\",\"size\":10,\"solidity\":0.2}},\"type\":\"histogram\"}],\"mesh3d\":[{\"colorbar\":{\"outlinewidth\":0,\"ticks\":\"\"},\"type\":\"mesh3d\"}],\"parcoords\":[{\"line\":{\"colorbar\":{\"outlinewidth\":0,\"ticks\":\"\"}},\"type\":\"parcoords\"}],\"pie\":[{\"automargin\":true,\"type\":\"pie\"}],\"scatter3d\":[{\"line\":{\"colorbar\":{\"outlinewidth\":0,\"ticks\":\"\"}},\"marker\":{\"colorbar\":{\"outlinewidth\":0,\"ticks\":\"\"}},\"type\":\"scatter3d\"}],\"scattercarpet\":[{\"marker\":{\"colorbar\":{\"outlinewidth\":0,\"ticks\":\"\"}},\"type\":\"scattercarpet\"}],\"scattergeo\":[{\"marker\":{\"colorbar\":{\"outlinewidth\":0,\"ticks\":\"\"}},\"type\":\"scattergeo\"}],\"scattergl\":[{\"marker\":{\"colorbar\":{\"outlinewidth\":0,\"ticks\":\"\"}},\"type\":\"scattergl\"}],\"scattermapbox\":[{\"marker\":{\"colorbar\":{\"outlinewidth\":0,\"ticks\":\"\"}},\"type\":\"scattermapbox\"}],\"scatterpolargl\":[{\"marker\":{\"colorbar\":{\"outlinewidth\":0,\"ticks\":\"\"}},\"type\":\"scatterpolargl\"}],\"scatterpolar\":[{\"marker\":{\"colorbar\":{\"outlinewidth\":0,\"ticks\":\"\"}},\"type\":\"scatterpolar\"}],\"scatter\":[{\"fillpattern\":{\"fillmode\":\"overlay\",\"size\":10,\"solidity\":0.2},\"type\":\"scatter\"}],\"scatterternary\":[{\"marker\":{\"colorbar\":{\"outlinewidth\":0,\"ticks\":\"\"}},\"type\":\"scatterternary\"}],\"surface\":[{\"colorbar\":{\"outlinewidth\":0,\"ticks\":\"\"},\"colorscale\":[[0.0,\"#0d0887\"],[0.1111111111111111,\"#46039f\"],[0.2222222222222222,\"#7201a8\"],[0.3333333333333333,\"#9c179e\"],[0.4444444444444444,\"#bd3786\"],[0.5555555555555556,\"#d8576b\"],[0.6666666666666666,\"#ed7953\"],[0.7777777777777778,\"#fb9f3a\"],[0.8888888888888888,\"#fdca26\"],[1.0,\"#f0f921\"]],\"type\":\"surface\"}],\"table\":[{\"cells\":{\"fill\":{\"color\":\"#EBF0F8\"},\"line\":{\"color\":\"white\"}},\"header\":{\"fill\":{\"color\":\"#C8D4E3\"},\"line\":{\"color\":\"white\"}},\"type\":\"table\"}]},\"layout\":{\"annotationdefaults\":{\"arrowcolor\":\"#2a3f5f\",\"arrowhead\":0,\"arrowwidth\":1},\"autotypenumbers\":\"strict\",\"coloraxis\":{\"colorbar\":{\"outlinewidth\":0,\"ticks\":\"\"}},\"colorscale\":{\"diverging\":[[0,\"#8e0152\"],[0.1,\"#c51b7d\"],[0.2,\"#de77ae\"],[0.3,\"#f1b6da\"],[0.4,\"#fde0ef\"],[0.5,\"#f7f7f7\"],[0.6,\"#e6f5d0\"],[0.7,\"#b8e186\"],[0.8,\"#7fbc41\"],[0.9,\"#4d9221\"],[1,\"#276419\"]],\"sequential\":[[0.0,\"#0d0887\"],[0.1111111111111111,\"#46039f\"],[0.2222222222222222,\"#7201a8\"],[0.3333333333333333,\"#9c179e\"],[0.4444444444444444,\"#bd3786\"],[0.5555555555555556,\"#d8576b\"],[0.6666666666666666,\"#ed7953\"],[0.7777777777777778,\"#fb9f3a\"],[0.8888888888888888,\"#fdca26\"],[1.0,\"#f0f921\"]],\"sequentialminus\":[[0.0,\"#0d0887\"],[0.1111111111111111,\"#46039f\"],[0.2222222222222222,\"#7201a8\"],[0.3333333333333333,\"#9c179e\"],[0.4444444444444444,\"#bd3786\"],[0.5555555555555556,\"#d8576b\"],[0.6666666666666666,\"#ed7953\"],[0.7777777777777778,\"#fb9f3a\"],[0.8888888888888888,\"#fdca26\"],[1.0,\"#f0f921\"]]},\"colorway\":[\"#636efa\",\"#EF553B\",\"#00cc96\",\"#ab63fa\",\"#FFA15A\",\"#19d3f3\",\"#FF6692\",\"#B6E880\",\"#FF97FF\",\"#FECB52\"],\"font\":{\"color\":\"#2a3f5f\"},\"geo\":{\"bgcolor\":\"white\",\"lakecolor\":\"white\",\"landcolor\":\"#E5ECF6\",\"showlakes\":true,\"showland\":true,\"subunitcolor\":\"white\"},\"hoverlabel\":{\"align\":\"left\"},\"hovermode\":\"closest\",\"mapbox\":{\"style\":\"light\"},\"paper_bgcolor\":\"white\",\"plot_bgcolor\":\"#E5ECF6\",\"polar\":{\"angularaxis\":{\"gridcolor\":\"white\",\"linecolor\":\"white\",\"ticks\":\"\"},\"bgcolor\":\"#E5ECF6\",\"radialaxis\":{\"gridcolor\":\"white\",\"linecolor\":\"white\",\"ticks\":\"\"}},\"scene\":{\"xaxis\":{\"backgroundcolor\":\"#E5ECF6\",\"gridcolor\":\"white\",\"gridwidth\":2,\"linecolor\":\"white\",\"showbackground\":true,\"ticks\":\"\",\"zerolinecolor\":\"white\"},\"yaxis\":{\"backgroundcolor\":\"#E5ECF6\",\"gridcolor\":\"white\",\"gridwidth\":2,\"linecolor\":\"white\",\"showbackground\":true,\"ticks\":\"\",\"zerolinecolor\":\"white\"},\"zaxis\":{\"backgroundcolor\":\"#E5ECF6\",\"gridcolor\":\"white\",\"gridwidth\":2,\"linecolor\":\"white\",\"showbackground\":true,\"ticks\":\"\",\"zerolinecolor\":\"white\"}},\"shapedefaults\":{\"line\":{\"color\":\"#2a3f5f\"}},\"ternary\":{\"aaxis\":{\"gridcolor\":\"white\",\"linecolor\":\"white\",\"ticks\":\"\"},\"baxis\":{\"gridcolor\":\"white\",\"linecolor\":\"white\",\"ticks\":\"\"},\"bgcolor\":\"#E5ECF6\",\"caxis\":{\"gridcolor\":\"white\",\"linecolor\":\"white\",\"ticks\":\"\"}},\"title\":{\"x\":0.05},\"xaxis\":{\"automargin\":true,\"gridcolor\":\"white\",\"linecolor\":\"white\",\"ticks\":\"\",\"title\":{\"standoff\":15},\"zerolinecolor\":\"white\",\"zerolinewidth\":2},\"yaxis\":{\"automargin\":true,\"gridcolor\":\"white\",\"linecolor\":\"white\",\"ticks\":\"\",\"title\":{\"standoff\":15},\"zerolinecolor\":\"white\",\"zerolinewidth\":2}}},\"title\":{\"text\":\"Range of Motion hipLeft\"},\"width\":750,\"xaxis\":{\"title\":{\"font\":{\"color\":\"#7f7f7f\",\"family\":\"Courier New, monospace\",\"size\":18},\"text\":\"time [s]\"}},\"yaxis\":{\"title\":{\"font\":{\"color\":\"#7f7f7f\",\"family\":\"Courier New, monospace\",\"size\":18},\"text\":\"ROM [gradi]\"}}},                        {\"responsive\": true}                    ).then(function(){\n",
       "                            \n",
       "var gd = document.getElementById('df1d9a1c-5924-4c1a-8556-ca4472441f5f');\n",
       "var x = new MutationObserver(function (mutations, observer) {{\n",
       "        var display = window.getComputedStyle(gd).display;\n",
       "        if (!display || display === 'none') {{\n",
       "            console.log([gd, 'removed!']);\n",
       "            Plotly.purge(gd);\n",
       "            observer.disconnect();\n",
       "        }}\n",
       "}});\n",
       "\n",
       "// Listen for the removal of the full notebook cells\n",
       "var notebookContainer = gd.closest('#notebook-container');\n",
       "if (notebookContainer) {{\n",
       "    x.observe(notebookContainer, {childList: true});\n",
       "}}\n",
       "\n",
       "// Listen for the clearing of the current output cell\n",
       "var outputEl = gd.closest('.output');\n",
       "if (outputEl) {{\n",
       "    x.observe(outputEl, {childList: true});\n",
       "}}\n",
       "\n",
       "                        })                };                });            </script>        </div>"
      ]
     },
     "metadata": {},
     "output_type": "display_data"
    },
    {
     "data": {
      "application/vnd.plotly.v1+json": {
       "config": {
        "linkText": "Export to plot.ly",
        "plotlyServerURL": "https://plot.ly",
        "showLink": false
       },
       "data": [
        {
         "line": {
          "color": "blue",
          "width": 3
         },
         "mode": "lines",
         "name": "Andamento Reale",
         "type": "scatter",
         "x": [
          1499.2411363124847,
          1499.3432846069336,
          1499.4427211284637,
          1499.54013133049,
          1499.6420300006866,
          1499.744064092636,
          1499.8401839733124,
          1499.9462168216705,
          1500.0419936180115,
          1500.1414563655853,
          1500.2422320842743,
          1500.3411314487457,
          1500.441514492035,
          1500.541243314743,
          1500.6429286003113,
          1500.7421760559082,
          1500.8417778015137,
          1500.9413657188416,
          1501.0417659282684,
          1501.1428897380829,
          1501.240436553955,
          1501.3419153690338,
          1501.441132068634,
          1501.5403683185577,
          1501.6449313163757,
          1501.7413523197174,
          1501.8423101902008,
          1501.9408650398254,
          1502.04141497612,
          1502.1416535377502,
          1502.2421522140503,
          1502.3436872959137,
          1502.4428606033325,
          1502.5419516563416,
          1502.6438164710999,
          1502.739751815796,
          1502.839929819107,
          1502.9432377815247,
          1503.0396859645844,
          1503.1407148838043,
          1503.2416439056396,
          1503.3399159908295,
          1503.4405806064606,
          1503.542091369629,
          1503.6399137973785,
          1503.7397291660309,
          1503.8402659893036,
          1503.9417126178741,
          1504.0408883094788,
          1504.1431605815887,
          1504.2412109375,
          1504.3424327373505,
          1504.442084312439,
          1504.5419890880585,
          1504.6418566703796,
          1504.7421357631683,
          1504.8420453071594,
          1504.9417133331299,
          1505.0427649021149,
          1505.1421146392822,
          1505.2413144111633,
          1505.3408071994781,
          1505.4415457248688,
          1505.542934179306,
          1505.6415820121765,
          1505.741807460785,
          1505.8417615890503,
          1505.9422342777252,
          1506.0417664051056,
          1506.142252922058,
          1506.2424128055573,
          1506.3428943157196,
          1506.4433236122131,
          1506.5426783561707,
          1506.6421117782593,
          1506.74356341362,
          1506.8419032096863,
          1506.9436628818512,
          1507.042890548706,
          1507.143632888794,
          1507.2437996864319,
          1507.34317612648,
          1507.4439723491669,
          1507.5464203357697,
          1507.646990776062,
          1507.743609905243,
          1507.844081878662,
          1507.944857597351,
          1508.0438890457153,
          1508.143606185913,
          1508.2456514835358,
          1508.3450417518616,
          1508.444191455841,
          1508.5442969799042,
          1508.6431493759155,
          1508.7441477775574,
          1508.8442180156708,
          1508.9457623958588,
          1509.0446989536285,
          1509.1442427635193,
          1509.2483496665955,
          1509.348049879074,
          1509.447769165039,
          1509.5452642440796,
          1509.6454932689667,
          1509.7466208934784,
          1509.8461413383484,
          1509.9450035095215,
          1510.0446655750275,
          1510.1453218460083,
          1510.2444643974304,
          1510.3476753234863,
          1510.444744348526,
          1510.5449130535126,
          1510.6449630260468,
          1510.7453105449677,
          1510.8460247516632,
          1510.9460620880127,
          1511.0450239181519,
          1511.147045135498,
          1511.2464575767517,
          1511.3476495742798,
          1511.4461619853973,
          1511.5460538864136,
          1511.6458253860474,
          1511.7523272037506,
          1511.8473920822144,
          1511.9467968940735,
          1512.0458340644836,
          1512.14905834198,
          1512.2465064525604,
          1512.3464360237122,
          1512.4465262889862,
          1512.5464425086975,
          1512.6461458206177,
          1512.7456891536713,
          1512.846199274063,
          1512.9469623565674,
          1513.046472787857,
          1513.1472702026367,
          1513.2464673519135,
          1513.3472352027893,
          1513.4477665424347,
          1513.5469961166382,
          1513.6465792655945,
          1513.7474553585052,
          1513.8473408222198,
          1513.9478917121887,
          1514.048181295395,
          1514.1470139026642,
          1514.2469763755798,
          1514.347504377365,
          1514.4472517967224,
          1514.548014163971,
          1514.6466579437256,
          1514.747255563736,
          1514.8468098640442,
          1514.9472517967224,
          1515.0483257770538,
          1515.1476039886475,
          1515.2474853992462,
          1515.349123954773,
          1515.448129415512,
          1515.5479564666748,
          1515.6483643054962,
          1515.7478876113892,
          1515.848218679428,
          1515.9479448795319,
          1516.0482194423676,
          1516.149117231369,
          1516.24773478508,
          1516.3488357067108,
          1516.4485018253326,
          1516.548581123352,
          1516.6529862880707,
          1516.7489988803864,
          1516.8483703136444,
          1516.9493639469147,
          1517.0485661029816,
          1517.1542015075684,
          1517.2489612102509,
          1517.3534693717957,
          1517.4531128406525,
          1517.553725719452,
          1517.6531822681427,
          1517.7508800029755,
          1517.8505020141602,
          1517.9501507282257,
          1518.0533425807953,
          1518.154797554016,
          1518.252271413803,
          1518.3584887981415,
          1518.4496307373047,
          1518.5517852306366,
          1518.6547417640686,
          1518.751220703125,
          1518.8547055721283,
          1518.9500937461853,
          1519.0509328842163,
          1519.1500902175903,
          1519.2508342266083,
          1519.3509469032288,
          1519.4529166221619,
          1519.552564382553,
          1519.6508638858795,
          1519.7502257823944,
          1519.8513631820679,
          1519.9507722854614,
          1520.0511844158173,
          1520.1549203395844,
          1520.2553119659424,
          1520.355444908142,
          1520.4572768211365,
          1520.5562913417816,
          1520.6547539234161,
          1520.7517511844635,
          1520.852136850357,
          1520.956214427948,
          1521.0517673492432,
          1521.151982307434,
          1521.2533135414124,
          1521.3525230884552,
          1521.4546430110931,
          1521.5537049770355,
          1521.6560616493225,
          1521.756957769394,
          1521.861038684845,
          1521.9608080387115,
          1522.0553195476532,
          1522.1532826423645,
          1522.2527394294739,
          1522.3522148132324,
          1522.4540903568268,
          1522.5571751594543,
          1522.654535293579,
          1522.7544548511505,
          1522.8560378551483,
          1522.953887462616,
          1523.0526440143585,
          1523.1566863059998,
          1523.2580780982971,
          1523.3567478656769,
          1523.454469203949,
          1523.5542244911194,
          1523.658311843872,
          1523.7581009864807,
          1523.8582689762115,
          1523.953364610672,
          1524.054563999176,
          1524.1584029197693,
          1524.2576098442078,
          1524.3543453216553,
          1524.4550700187683,
          1524.5540347099304,
          1524.6535897254944,
          1524.753868341446,
          1524.853411436081,
          1524.95521068573,
          1525.054139137268,
          1525.1547272205353,
          1525.2555606365204,
          1525.3549020290375,
          1525.4566402435303,
          1525.5587475299835,
          1525.6535289287567,
          1525.7547373771667,
          1525.8536713123322,
          1525.9546175003052,
          1526.0546753406525,
          1526.1549615859985,
          1526.255040884018,
          1526.3548610210419,
          1526.454764842987,
          1526.5555267333984,
          1526.6554877758026,
          1526.7556302547455,
          1526.8551664352417,
          1526.9557905197144,
          1527.0557622909546,
          1527.1561093330383,
          1527.2571275234222,
          1527.356971502304,
          1527.457272529602,
          1527.5553719997406,
          1527.6574912071228,
          1527.757332086563,
          1527.8562273979187,
          1527.9594457149506,
          1528.0566897392273,
          1528.1583421230316,
          1528.2581007480621,
          1528.355853319168,
          1528.4608187675476,
          1528.5574316978455,
          1528.6561155319214,
          1528.7592558860779,
          1528.8586099147797,
          1528.9628987312317,
          1529.0560810565948,
          1529.1571590900421,
          1529.2560682296753,
          1529.3564767837524,
          1529.456878900528,
          1529.5586001873016,
          1529.657800912857,
          1529.7575800418854,
          1529.8577151298523,
          1529.9580373764038,
          1530.0567288398743,
          1530.157428264618,
          1530.2587399482727,
          1530.3589704036713,
          1530.457849740982,
          1530.5578382015228,
          1530.658446073532,
          1530.757824897766,
          1530.8616199493408,
          1530.960708618164,
          1531.059900522232,
          1531.162596464157,
          1531.2573883533478,
          1531.3600792884827,
          1531.458923816681,
          1531.5627195835114,
          1531.6612637043,
          1531.7576656341553,
          1531.8620171546936,
          1531.9599452018738,
          1532.0599632263184,
          1532.1607375144958,
          1532.259782075882,
          1532.3589525222778,
          1532.4589982032776,
          1532.5596570968628,
          1532.660763502121,
          1532.759989976883,
          1532.859920501709,
          1532.9633507728577,
          1533.0590443611145,
          1533.159485578537,
          1533.2591478824615,
          1533.358909368515,
          1533.4588725566864,
          1533.5592203140259,
          1533.6601333618164,
          1533.758960723877,
          1533.8600804805756,
          1533.9596378803253,
          1534.0594065189362,
          1534.1598281860352,
          1534.2596225738525,
          1534.360122680664,
          1534.4612867832184,
          1534.5604510307312,
          1534.6615297794342,
          1534.76198220253,
          1534.8614101409912,
          1534.9614522457123,
          1535.0600357055664,
          1535.1603939533234,
          1535.2622575759888,
          1535.3602058887482,
          1535.462120294571,
          1535.56028008461,
          1535.6601366996765,
          1535.7611837387085,
          1535.8639693260193,
          1535.9614548683167,
          1536.06116604805,
          1536.1607356071472,
          1536.2609808444977,
          1536.3626313209534,
          1536.4609956741333,
          1536.564481496811,
          1536.6640095710754,
          1536.763158082962,
          1536.8629369735718,
          1536.9626727104187,
          1537.0616796016693,
          1537.1621129512787,
          1537.2617573738098,
          1537.3618972301483,
          1537.462711572647,
          1537.562515258789,
          1537.6621596813202,
          1537.7639846801758,
          1537.8620209693909,
          1537.9622814655304,
          1538.0627496242523,
          1538.1621263027191,
          1538.2627971172333,
          1538.366781949997,
          1538.4637882709503,
          1538.563273191452,
          1538.66330909729,
          1538.7667174339294,
          1538.8636915683746,
          1538.9630060195923,
          1539.063859462738,
          1539.1625623703003,
          1539.2660901546478,
          1539.3630833625793,
          1539.464448928833,
          1539.5636985301971,
          1539.6643221378326,
          1539.7645237445831,
          1539.8643732070923,
          1539.9644606113434,
          1540.0639703273773,
          1540.1641156673431,
          1540.2658836841583,
          1540.3652892112732,
          1540.4671607017517,
          1540.5652508735657,
          1540.669272184372,
          1540.7651839256287,
          1540.8669271469116,
          1540.9673836231232,
          1541.0654036998749,
          1541.1660828590393,
          1541.2674746513367,
          1541.3676433563232,
          1541.4656250476837,
          1541.5665922164917,
          1541.6681351661682,
          1541.7672548294067,
          1541.867030620575,
          1541.9676649570465,
          1542.0670235157013,
          1542.1689057350159,
          1542.2671897411346,
          1542.3672127723694,
          1542.4686870574951,
          1542.5665442943573,
          1542.6705791950226,
          1542.7696046829224,
          1542.8668971061707,
          1542.966644525528,
          1543.0735685825348,
          1543.1732482910156,
          1543.267774105072,
          1543.3676788806915,
          1543.4672544002533,
          1543.5671184062958,
          1543.6677463054657,
          1543.7675108909607,
          1543.8679871559143,
          1543.9693717956543,
          1544.0663883686066,
          1544.1677677631378,
          1544.268888950348,
          1544.3663485050201,
          1544.4664885997772,
          1544.5660860538483,
          1544.6669471263885,
          1544.76717877388,
          1544.8672885894775,
          1544.9685242176056,
          1545.0670084953308,
          1545.1677951812744,
          1545.2673869132996,
          1545.3672273159027,
          1545.467891216278,
          1545.575178861618,
          1545.6677899360657,
          1545.7664551734924,
          1545.8665204048157,
          1545.9671485424042,
          1546.0674130916595,
          1546.1681797504425,
          1546.2676408290863,
          1546.367078781128,
          1546.4679577350616,
          1546.5685453414917,
          1546.6769742965698,
          1546.7727680206299,
          1546.8680868148804,
          1546.9686315059662,
          1547.069181919098,
          1547.167875289917,
          1547.2677521705627,
          1547.3686332702637,
          1547.4707067012787,
          1547.5683662891388,
          1547.6724834442139,
          1547.769639492035,
          1547.8712072372437,
          1547.9770529270172,
          1548.072209596634,
          1548.173274755478,
          1548.2715876102448,
          1548.371628522873,
          1548.4709198474884,
          1548.5714690685272,
          1548.671296596527,
          1548.7715110778809,
          1548.8716838359833,
          1548.97434091568,
          1549.070969581604,
          1549.174753665924,
          1549.2744188308716,
          1549.3733451366425,
          1549.4734070301056,
          1549.5742897987366,
          1549.6723790168762,
          1549.7728595733643,
          1549.8727250099182,
          1549.9772119522095,
          1550.0720105171204,
          1550.1710896492004,
          1550.2725031375885,
          1550.3713836669922,
          1550.4781966209412,
          1550.5779829025269,
          1550.6775233745575,
          1550.774284362793,
          1550.87375998497,
          1550.979849100113,
          1551.0752232074738,
          1551.1747436523438,
          1551.2786514759064,
          1551.3792498111725,
          1551.478197336197,
          1551.579080581665,
          1551.67942070961,
          1551.77863407135,
          1551.880181312561,
          1551.9783499240875,
          1552.0735130310059,
          1552.1743123531342,
          1552.2738902568817,
          1552.3736426830292,
          1552.4735062122345,
          1552.5737590789795,
          1552.6750376224518,
          1552.774917125702,
          1552.874896287918,
          1552.9747967720032,
          1553.0752203464508,
          1553.1760432720184,
          1553.2762243747711,
          1553.3725430965424,
          1553.472339630127,
          1553.5719089508057,
          1553.671792268753,
          1553.7730875015259,
          1553.8719074726105,
          1553.9732356071472,
          1554.072648525238,
          1554.172200679779,
          1554.2724151611328,
          1554.3731021881104,
          1554.4731767177582,
          1554.5727956295013,
          1554.673753976822,
          1554.7773764133453,
          1554.8747208118439,
          1554.9741613864899,
          1555.0747776031494,
          1555.1755096912384,
          1555.279501914978,
          1555.3744592666626,
          1555.4760527610779,
          1555.5740582942963,
          1555.6754522323608,
          1555.7753405570984,
          1555.8802742958069,
          1555.9759588241577,
          1556.074725151062,
          1556.1759669780731,
          1556.2756700515747,
          1556.3753113746643,
          1556.4837319850922,
          1556.5750107765198,
          1556.6751630306244,
          1556.7765123844147,
          1556.8782150745392,
          1556.9785902500153,
          1557.0765113830566,
          1557.1777567863464,
          1557.2783045768738,
          1557.3775517940521,
          1557.4797596931458,
          1557.5780041217804,
          1557.6780152320862,
          1557.7778115272522,
          1557.876960515976,
          1557.9770517349243,
          1558.076621055603,
          1558.180831193924,
          1558.2854754924774,
          1558.3767499923706,
          1558.4804351329803,
          1558.579921722412,
          1558.677288532257,
          1558.7769978046417,
          1558.8778581619263,
          1558.9787356853485,
          1559.0771126747131,
          1559.1767921447754,
          1559.278477191925,
          1559.378291606903,
          1559.4775824546814,
          1559.5807921886444,
          1559.6776638031006,
          1559.778058052063,
          1559.8830723762512,
          1559.9832768440247,
          1560.0840981006622,
          1560.1845769882202,
          1560.2789707183838,
          1560.3786268234253,
          1560.47776389122,
          1560.5785915851593,
          1560.6796667575836,
          1560.7791197299957,
          1560.87948346138,
          1560.978010892868,
          1561.0784831047058,
          1561.1786596775055,
          1561.2765908241272,
          1561.3838136196136,
          1561.4774813652039,
          1561.5815932750702,
          1561.6770639419556,
          1561.7776787281036,
          1561.877956867218,
          1561.9779877662659,
          1562.0776226520538,
          1562.1785109043121,
          1562.2782335281372,
          1562.3815352916718,
          1562.4804756641388,
          1562.5775909423828,
          1562.6809916496277,
          1562.7826879024506,
          1562.8828573226929,
          1562.9838132858276,
          1563.0780189037323,
          1563.1789796352386,
          1563.2802908420563,
          1563.3813588619232,
          1563.480254650116,
          1563.5809354782104,
          1563.680933713913,
          1563.7801339626312,
          1563.880723953247,
          1563.9811205863953,
          1564.0802714824677,
          1564.1794838905334,
          1564.2845251560211,
          1564.3794884681702,
          1564.4791498184204,
          1564.5835678577423,
          1564.6808955669403,
          1564.7788915634155,
          1564.8795139789581,
          1564.9836478233337,
          1565.07950258255,
          1565.1825184822083,
          1565.2819392681122,
          1565.380526304245,
          1565.4812269210815,
          1565.5805473327637,
          1565.684333562851,
          1565.785714149475,
          1565.8849048614502,
          1565.9807634353638,
          1566.0813398361206,
          1566.1810414791107,
          1566.283430814743,
          1566.383866071701,
          1566.484350681305,
          1566.5904591083527,
          1566.6800830364227,
          1566.7800760269165,
          1566.8805696964264,
          1566.9809465408325,
          1567.0811483860016,
          1567.1813688278198,
          1567.2823538780212,
          1567.3819682598114,
          1567.4816749095917,
          1567.5819344520569,
          1567.6825020313263,
          1567.781952381134,
          1567.881548166275,
          1567.982048034668,
          1568.0820636749268,
          1568.1820254325867,
          1568.281239271164,
          1568.3812518119812,
          1568.4811825752258,
          1568.5819082260132,
          1568.6818380355835,
          1568.7822697162628,
          1568.8816404342651,
          1568.9819226264954,
          1569.0865490436554,
          1569.186048746109,
          1569.282539844513,
          1569.3828761577606,
          1569.4822869300842,
          1569.58291721344,
          1569.6838479042053,
          1569.7846109867096,
          1569.8823783397675,
          1569.9836070537567,
          1570.0831260681152,
          1570.1819534301758,
          1570.2878515720367,
          1570.3924379348755,
          1570.4909138679504,
          1570.5902736186981,
          1570.6988174915314,
          1570.7904138565063,
          1570.8904962539673,
          1570.9899044036865,
          1571.0898532867432,
          1571.1898276805878,
          1571.289258480072,
          1571.3903584480286,
          1571.4897434711456,
          1571.5904321670532,
          1571.6920642852783,
          1571.7911806106567,
          1571.8918182849884,
          1571.9967155456543,
          1572.1017162799835,
          1572.2009263038635,
          1572.2912111282349,
          1572.3967843055725,
          1572.4991810321808,
          1572.5943253040314,
          1572.6906354427338,
          1572.7905294895172,
          1572.891780614853,
          1572.9911139011383,
          1573.0927135944366,
          1573.1920285224915
         ],
         "y": [
          81.21498391735147,
          80.34645581068564,
          81.24656206338153,
          81.24656206338153,
          80.75481102420002,
          81.32517779895005,
          81.96184773260903,
          82.07889940360639,
          82.07889940360639,
          82.16638905625543,
          82.80164760119048,
          84.16387517980826,
          85.06151466226203,
          85.06151466226203,
          85.12701366706156,
          85.89819093584,
          84.72823718196514,
          84.72823718196514,
          84.24347736673965,
          83.45056105237076,
          83.2069207479786,
          83.03336531605913,
          82.32223420835318,
          82.44584334042537,
          82.61509169386564,
          82.59224287528271,
          82.53066394998517,
          83.17615038517111,
          83.97264732739637,
          84.3519525815816,
          84.3519525815816,
          85.2434619532482,
          85.85423759082775,
          85.54029330446082,
          85.53601046826759,
          85.37860899621309,
          85.13990931920058,
          85.22477393020678,
          96.7829153693637,
          97.37566167039834,
          97.37566167039834,
          97.86296470961739,
          98.94318004101576,
          99.5403626273883,
          99.43505032196182,
          98.61129946013764,
          98.61129946013764,
          99.63659682012958,
          100.58159589809515,
          101.01036924767885,
          101.3440759601924,
          100.68487394956288,
          100.61094840637436,
          100.83582629721302,
          99.81483215573282,
          99.81483215573282,
          99.23086498199402,
          98.93451383045361,
          98.75958434137138,
          98.70388467875308,
          98.70388467875308,
          99.1278842681238,
          99.0965065140136,
          98.91693912440365,
          99.10519988571873,
          99.10519988571873,
          99.36365640199602,
          99.36365640199602,
          99.82975663305722,
          99.78699317963463,
          99.5151557121035,
          99.80764943742645,
          99.35141123679,
          99.09826359077695,
          99.26870855328055,
          99.3690635162674,
          99.01513217026657,
          98.48883750284982,
          98.48883750284982,
          98.66602725900194,
          98.9688182307142,
          99.14484279378391,
          98.90096749087368,
          98.91278058975122,
          98.95774962641784,
          99.19883264039842,
          99.24659178357435,
          99.20451305651584,
          99.65512006272627,
          99.77263870952136,
          99.68682003472945,
          99.57840405966094,
          99.7365769616765,
          99.63734429391828,
          99.81773383222487,
          99.99759930308772,
          99.93103281694266,
          100.01103803412285,
          100.1023752491903,
          100.26586319309351,
          100.60313245998434,
          100.62996787920954,
          100.53201711190066,
          100.37348725303399,
          100.1277637916627,
          99.93081574970874,
          99.93081574970874,
          99.91754537148647,
          99.92131801734925,
          99.62060747556255,
          99.71223651509766,
          99.61558343221573,
          99.75711555188116,
          99.75711555188116,
          99.91492661758637,
          99.65241758713469,
          99.73692124216302,
          99.77663311499063,
          99.98762073103613,
          100.06433022812904,
          100.03673786236932,
          100.03673786236932,
          99.7941340590417,
          99.89203840543286,
          99.81153727552203,
          99.81153727552203,
          99.78703926715289,
          100.18746346871508,
          100.18746346871508,
          100.05013867746541,
          99.94151540041362,
          99.75603242970107,
          100.03213026002328,
          100.11966282267616,
          100.11773859654583,
          100.00336138301095,
          100.01425604447475,
          100.05395544162326,
          99.79046625569097,
          99.78688952942687,
          99.78245521157994,
          99.76641491117023,
          99.75897106237582,
          99.77728762273873,
          99.69599557485189,
          99.7214345239372,
          99.82460193202334,
          99.8031717370752,
          100.08233335080433,
          99.9598271803978,
          100.13600462101435,
          100.35909371835079,
          100.11247395837677,
          100.11247395837677,
          99.92550176161002,
          99.91339360749326,
          99.8193096351585,
          100.01670618422823,
          100.08670804319375,
          100.08670804319375,
          99.8838185203502,
          99.70165688296183,
          99.97352676353906,
          99.97271665271738,
          99.90380503599687,
          100.08716243270786,
          100.16223396776391,
          100.40187838402073,
          100.25929772144096,
          100.08354061243219,
          99.88038930428245,
          99.81530094879703,
          100.26333752602913,
          100.81888818821206,
          101.14326105370475,
          101.14326105370475,
          101.23216536852239,
          101.23216536852239,
          100.86842316241713,
          100.03125526545226,
          99.92199951312259,
          100.48143161842118,
          100.86025225176486,
          100.86025225176486,
          100.92379226649247,
          101.10560717061377,
          100.9116397304714,
          100.81015062841527,
          100.75814783290731,
          100.53315274224524,
          100.40131004962883,
          100.01548438414919,
          100.03772674059348,
          100.20748717859685,
          100.08215376805776,
          100.04310427005986,
          100.41342905037953,
          100.67458774034897,
          100.67458774034897,
          100.18399808429965,
          100.18399808429965,
          100.71004801498565,
          100.27944962941947,
          100.36635045264632,
          100.611659689043,
          99.93130867163991,
          100.2049376728681,
          100.24044131011962,
          100.3435602915907,
          100.54171717213477,
          100.48957917889805,
          100.47628767704107,
          100.69836300001377,
          100.43372909721259,
          100.47940131157448,
          100.86418659453153,
          100.64542168032042,
          100.80092863608571,
          100.36212626252397,
          100.72560563108647,
          100.8893300898696,
          100.88963414078569,
          100.54298070918304,
          100.61289312905741,
          100.8249012093358,
          101.00105737468537,
          101.14633830890362,
          100.88623737660645,
          100.74266448570731,
          100.64770264787738,
          100.45566214067856,
          100.59138680359875,
          100.50830512001131,
          100.43454626582472,
          100.53519753634107,
          100.46716007737507,
          100.69544275623912,
          100.61743464772344,
          100.73951876181721,
          100.76623224581647,
          100.3821617530511,
          100.39278151636725,
          100.70702058257092,
          100.21334301673458,
          100.80839193862448,
          100.88474697348842,
          100.76822320449617,
          101.21595169500459,
          100.85110178409886,
          100.7537456671583,
          100.77856631651012,
          100.3146119016356,
          100.84784544256344,
          100.78634515023516,
          100.92199875298192,
          100.55391439067414,
          100.66191356462213,
          100.78652121053078,
          100.90120922201373,
          100.85585733211806,
          100.92954403129558,
          100.51715116720159,
          100.2231068221892,
          100.00828290539705,
          100.24935129002185,
          100.64416956007264,
          100.64416956007264,
          100.0153195145118,
          99.93567957394987,
          99.93567957394987,
          100.21576954418563,
          100.77875400096978,
          100.77875400096978,
          100.8640247480939,
          100.87607085817328,
          100.69209801953141,
          100.69209801953141,
          100.78674686451288,
          100.5389978183395,
          100.07207743125416,
          100.07207743125416,
          99.46905285541315,
          99.50394341608448,
          99.63680035784878,
          99.51231668574118,
          98.51624250018732,
          82.53275884590455,
          81.83566916162486,
          80.43444352205317,
          78.96738514311878,
          77.1268078759056,
          74.89177395185803,
          71.84305636015935,
          69.13236143074202,
          66.65244163421313,
          65.34014383621532,
          64.87526809570824,
          64.64186600407879,
          65.2679208075005,
          65.2679208075005,
          66.01539759987116,
          65.37227452486566,
          64.00197122336697,
          63.41197286066429,
          63.755991154948,
          64.01008546957132,
          64.69304580908354,
          64.85660787983196,
          64.57265951863971,
          65.09706478966983,
          65.40849340389578,
          65.53367663389538,
          65.24348267343399,
          64.72772482776071,
          64.35340036669646,
          64.14595635240055,
          63.98501714929145,
          64.01408712591098,
          64.07473211327417,
          64.31395275444478,
          64.57892122390706,
          64.8190542962733,
          64.80572236762615,
          64.78904809588803,
          64.61907720581416,
          64.29739673297277,
          64.11082227496992,
          63.72597488033072,
          63.38701742392117,
          64.01373786418122,
          64.63852414212644,
          63.932168732992494,
          63.69968323578431,
          63.98820168807273,
          63.69801166771231,
          63.35772334563438,
          63.476594508492454,
          63.26416786730936,
          63.32839023266759,
          63.24519104447745,
          63.10365241215093,
          63.07250649941737,
          63.45506175999108,
          63.89968671183942,
          63.89307252964016,
          63.86477431399146,
          63.842684231783,
          63.781753157301814,
          63.770462323094776,
          63.770462323094776,
          63.81095473906888,
          63.921858393819726,
          64.03556786528385,
          64.07267634886006,
          64.12129962322402,
          64.1689884582826,
          64.20883304478305,
          64.31713541375233,
          64.50602220602451,
          64.70403047328284,
          64.59766576292891,
          64.51675378702068,
          64.57181490103689,
          64.61529699296486,
          64.62416410118729,
          64.7143985503971,
          64.6452770170238,
          64.6452770170238,
          64.82939581041308,
          64.82939581041308,
          64.61723607559173,
          64.60551167885494,
          63.754080777372494,
          62.90780901401131,
          62.63037589725168,
          62.25849613791767,
          62.064347297378795,
          61.924153705375645,
          61.652247930909574,
          61.54626202980425,
          60.64698577819269,
          60.64698577819269,
          60.754948349888735,
          60.1781543092217,
          112.22504176311098,
          112.59513252634842,
          112.97400868265424,
          112.72633731438177,
          113.35017515016034,
          114.28675596068301,
          114.28675596068301,
          64.59356099193187,
          65.12738546687993,
          64.27905621966133,
          64.27905621966133,
          63.21424874496709,
          63.46116855186248,
          62.814099078104896,
          63.19018926782428,
          64.18003295871158,
          64.07201665160731,
          64.04427707480023,
          64.33365645528187,
          64.22254351085068,
          63.47271803889936,
          63.422986310690895,
          64.26087840499868,
          64.67725631674081,
          64.55714664902395,
          64.34452876811741,
          64.31638104715357,
          64.31638104715357,
          64.40808667983892,
          64.5790233929145,
          64.5790233929145,
          64.4483422691837,
          63.79451435283981,
          63.26414364305231,
          63.22163332917339,
          63.045767220446585,
          63.01828444091791,
          63.02634927838278,
          63.01307901881111,
          63.476849875221724,
          63.513530634474535,
          62.979821126118985,
          62.73217340107995,
          62.498476511306386,
          62.31676749851702,
          62.45016298352875,
          62.54439188048747,
          62.62646358842013,
          62.55582712188949,
          62.551786604774,
          62.63450227077741,
          63.044565107115986,
          63.72486186847285,
          64.03923398866931,
          63.9428150992722,
          63.75735629267321,
          63.66435870007478,
          63.7320630844426,
          63.76912842510011,
          63.78859864754272,
          63.785597686006405,
          64.00265834567625,
          64.02117532306048,
          63.80735715181362,
          63.94359624425534,
          63.884583820045414,
          63.744251383824434,
          63.890572090006266,
          64.09367398678869,
          64.48114723315399,
          65.12919585098894,
          64.85005780467075,
          64.3761803310066,
          64.36748540286133,
          64.95947946266381,
          65.61794512557076,
          66.16338640305143,
          66.0661381841709,
          65.98799349045782,
          65.77967894551684,
          65.42475673208402,
          65.79229740813584,
          65.26556435579812,
          64.03040963773469,
          63.07044342038352,
          62.38890669620408,
          62.62309482703659,
          64.14637555256841,
          64.56488498405666,
          64.02991601993644,
          63.77742666156694,
          62.254752032767236,
          61.83125165293375,
          61.94331830581348,
          62.01983795269648,
          62.13097030430819,
          62.42890766217916,
          63.04964867808144,
          63.120597468781405,
          63.32149521880635,
          63.32149521880635,
          63.65860267559151,
          63.61978034053927,
          63.61978034053927,
          63.75220453603808,
          63.802909270718345,
          63.70886958336748,
          63.726771952181586,
          63.71481485624698,
          63.90910884996814,
          64.05027335726251,
          64.09809520991192,
          64.10501858115936,
          64.21099204022312,
          64.2238780483359,
          64.47271775866167,
          64.86876374875405,
          65.13467238866261,
          65.20601116284422,
          65.0765218142075,
          65.16521453970958,
          65.73706006781975,
          66.2501735355114,
          66.15044384062993,
          65.38435307902569,
          64.58809108115116,
          63.80060321751772,
          63.80060321751772,
          63.890490814133244,
          65.06393330649232,
          67.51733515307306,
          68.13276882420168,
          67.7254003957062,
          68.1929758651155,
          67.78122572474433,
          67.21620341533044,
          66.81501069378113,
          66.60254612683298,
          66.88731592288505,
          66.83559040793044,
          67.23490771767236,
          66.95968972443688,
          66.12233000914189,
          65.68102193820427,
          64.59560765948851,
          64.43778893559369,
          64.2476873173768,
          64.01939046402008,
          63.2259910670532,
          62.827924538119134,
          62.70221912675887,
          62.70221912675887,
          62.71616517045538,
          62.717236005258094,
          62.6798920849154,
          62.930702081923805,
          63.04843251937451,
          63.110624683805824,
          63.6137570500427,
          64.19737540366405,
          64.61258664881088,
          64.45533959225396,
          64.53234395381638,
          64.64138658174214,
          64.78790555212319,
          64.82506181562728,
          64.74161753504596,
          64.8169691082662,
          64.8169691082662,
          64.72154512251656,
          64.69568143434401,
          64.98170322862433,
          64.89841325598147,
          64.67601801867029,
          64.70041902053808,
          65.04138185280303,
          65.78648195883156,
          66.061320271658,
          66.1614756566651,
          66.06439295522232,
          65.43018584102576,
          64.86789056361305,
          64.57337266982859,
          64.20898886512089,
          63.67745034445124,
          63.35532777348892,
          62.98159121405813,
          62.50395281914035,
          62.268485673363195,
          62.67308646584953,
          63.52526839065919,
          63.68700678148198,
          63.41644232876511,
          63.67806852319909,
          63.746605825445464,
          63.03365632224969,
          63.39018567725138,
          63.50404522437243,
          63.28039539527875,
          63.2996120214561,
          63.63592991987302,
          63.5454847610218,
          63.915684939807655,
          64.4903356452926,
          65.62338650173764,
          66.26603776233001,
          66.56796306619191,
          66.61172455931717,
          64.84308323785756,
          64.12190693406718,
          64.15597485196565,
          64.23003803168996,
          64.33606451242736,
          64.20748616326932,
          64.79790899335015,
          64.01513232593067,
          64.22650372758014,
          65.68013664576237,
          65.49690765440992,
          63.15700243964606,
          62.58516411766453,
          63.343549641714034,
          63.24118112825436,
          62.46171651507121,
          63.3633266778188,
          65.28394826565075,
          65.17868899125072,
          64.22998815836908,
          63.66373439780081,
          64.84354802776677,
          64.67990917869498,
          66.56130486882368,
          67.5438477755616,
          71.71425909536534,
          71.17231011828655,
          68.78616921378864,
          66.77306911913004,
          66.97515438794387,
          67.08058880679992,
          65.80393556258981,
          65.51805449779123,
          65.51805449779123,
          65.74244044207306,
          66.60740146091858,
          67.61047017342692,
          66.54780920028037,
          64.59714187309461,
          64.59714187309461,
          64.10768757200411,
          64.3356819138921,
          64.17700495713488,
          64.17700495713488,
          63.859928088258556,
          64.45119928986549,
          65.19552388811613,
          64.33535881281122,
          64.03790652424544,
          65.59716448168149,
          67.43961178443574,
          70.10218956795154,
          72.89177929974689,
          66.49982480304867,
          63.42073658618808,
          65.99583392656112,
          66.15110301716884,
          64.62990706934673,
          64.5864307527999,
          64.19730317171775,
          64.18684079774823,
          63.255331711119545,
          62.40843914214895,
          62.28959493675861,
          62.325770466214465,
          63.24815654938144,
          65.09026306322916,
          66.9515547442569,
          67.50381760660211,
          67.08867392261905,
          68.82425455442393,
          68.43431850638794,
          66.48079130281805,
          64.64351888033116,
          64.75621445258327,
          64.50491514049622,
          64.40263616252972,
          64.979427981619,
          68.02034280004148,
          68.52571985806539,
          67.21522450852487,
          65.1017229904701,
          63.75736104576698,
          62.81585946891144,
          62.77960833523801,
          62.90214326888699,
          62.72107942086961,
          62.69507390796679,
          63.57678611116389,
          63.834981704933725,
          63.14803312784687,
          62.955094809829404,
          63.12825351254186,
          63.03614360350712,
          63.0565018689723,
          63.05601215651572,
          63.43364816072089,
          63.25601508933486,
          63.30528209110971,
          63.41641823734202,
          63.74685871044554,
          65.2897599718015,
          65.06375837694038,
          65.06375837694038,
          65.0213303423499,
          65.78207736996347,
          67.22621835972583,
          103.9675317941,
          105.60901490869793,
          107.8052245614563,
          108.38300146656795,
          109.19252514038102,
          109.15697136314856,
          109.40627997827973,
          109.47578404352346,
          109.654138335659,
          109.86211587033655,
          111.460188885351,
          110.99750365403293,
          110.99750365403293,
          110.99750365403293,
          110.99750365403293,
          110.99750365403293,
          110.99750365403293,
          110.99750365403293,
          110.99750365403293,
          110.99750365403293,
          110.99750365403293,
          110.99750365403293,
          110.99750365403293,
          110.99750365403293,
          110.99750365403293,
          110.99750365403293,
          110.99750365403293,
          110.99750365403293,
          110.99750365403293,
          110.99750365403293,
          110.99750365403293,
          110.99750365403293,
          110.99750365403293,
          110.99750365403293,
          110.99750365403293,
          110.99750365403293,
          110.99750365403293,
          110.99750365403293,
          110.99750365403293,
          110.99750365403293
         ]
        }
       ],
       "layout": {
        "autosize": false,
        "font": {
         "color": "black",
         "family": "Courier New, monospace",
         "size": 22
        },
        "height": 600,
        "template": {
         "data": {
          "bar": [
           {
            "error_x": {
             "color": "#2a3f5f"
            },
            "error_y": {
             "color": "#2a3f5f"
            },
            "marker": {
             "line": {
              "color": "#E5ECF6",
              "width": 0.5
             },
             "pattern": {
              "fillmode": "overlay",
              "size": 10,
              "solidity": 0.2
             }
            },
            "type": "bar"
           }
          ],
          "barpolar": [
           {
            "marker": {
             "line": {
              "color": "#E5ECF6",
              "width": 0.5
             },
             "pattern": {
              "fillmode": "overlay",
              "size": 10,
              "solidity": 0.2
             }
            },
            "type": "barpolar"
           }
          ],
          "carpet": [
           {
            "aaxis": {
             "endlinecolor": "#2a3f5f",
             "gridcolor": "white",
             "linecolor": "white",
             "minorgridcolor": "white",
             "startlinecolor": "#2a3f5f"
            },
            "baxis": {
             "endlinecolor": "#2a3f5f",
             "gridcolor": "white",
             "linecolor": "white",
             "minorgridcolor": "white",
             "startlinecolor": "#2a3f5f"
            },
            "type": "carpet"
           }
          ],
          "choropleth": [
           {
            "colorbar": {
             "outlinewidth": 0,
             "ticks": ""
            },
            "type": "choropleth"
           }
          ],
          "contour": [
           {
            "colorbar": {
             "outlinewidth": 0,
             "ticks": ""
            },
            "colorscale": [
             [
              0,
              "#0d0887"
             ],
             [
              0.1111111111111111,
              "#46039f"
             ],
             [
              0.2222222222222222,
              "#7201a8"
             ],
             [
              0.3333333333333333,
              "#9c179e"
             ],
             [
              0.4444444444444444,
              "#bd3786"
             ],
             [
              0.5555555555555556,
              "#d8576b"
             ],
             [
              0.6666666666666666,
              "#ed7953"
             ],
             [
              0.7777777777777778,
              "#fb9f3a"
             ],
             [
              0.8888888888888888,
              "#fdca26"
             ],
             [
              1,
              "#f0f921"
             ]
            ],
            "type": "contour"
           }
          ],
          "contourcarpet": [
           {
            "colorbar": {
             "outlinewidth": 0,
             "ticks": ""
            },
            "type": "contourcarpet"
           }
          ],
          "heatmap": [
           {
            "colorbar": {
             "outlinewidth": 0,
             "ticks": ""
            },
            "colorscale": [
             [
              0,
              "#0d0887"
             ],
             [
              0.1111111111111111,
              "#46039f"
             ],
             [
              0.2222222222222222,
              "#7201a8"
             ],
             [
              0.3333333333333333,
              "#9c179e"
             ],
             [
              0.4444444444444444,
              "#bd3786"
             ],
             [
              0.5555555555555556,
              "#d8576b"
             ],
             [
              0.6666666666666666,
              "#ed7953"
             ],
             [
              0.7777777777777778,
              "#fb9f3a"
             ],
             [
              0.8888888888888888,
              "#fdca26"
             ],
             [
              1,
              "#f0f921"
             ]
            ],
            "type": "heatmap"
           }
          ],
          "heatmapgl": [
           {
            "colorbar": {
             "outlinewidth": 0,
             "ticks": ""
            },
            "colorscale": [
             [
              0,
              "#0d0887"
             ],
             [
              0.1111111111111111,
              "#46039f"
             ],
             [
              0.2222222222222222,
              "#7201a8"
             ],
             [
              0.3333333333333333,
              "#9c179e"
             ],
             [
              0.4444444444444444,
              "#bd3786"
             ],
             [
              0.5555555555555556,
              "#d8576b"
             ],
             [
              0.6666666666666666,
              "#ed7953"
             ],
             [
              0.7777777777777778,
              "#fb9f3a"
             ],
             [
              0.8888888888888888,
              "#fdca26"
             ],
             [
              1,
              "#f0f921"
             ]
            ],
            "type": "heatmapgl"
           }
          ],
          "histogram": [
           {
            "marker": {
             "pattern": {
              "fillmode": "overlay",
              "size": 10,
              "solidity": 0.2
             }
            },
            "type": "histogram"
           }
          ],
          "histogram2d": [
           {
            "colorbar": {
             "outlinewidth": 0,
             "ticks": ""
            },
            "colorscale": [
             [
              0,
              "#0d0887"
             ],
             [
              0.1111111111111111,
              "#46039f"
             ],
             [
              0.2222222222222222,
              "#7201a8"
             ],
             [
              0.3333333333333333,
              "#9c179e"
             ],
             [
              0.4444444444444444,
              "#bd3786"
             ],
             [
              0.5555555555555556,
              "#d8576b"
             ],
             [
              0.6666666666666666,
              "#ed7953"
             ],
             [
              0.7777777777777778,
              "#fb9f3a"
             ],
             [
              0.8888888888888888,
              "#fdca26"
             ],
             [
              1,
              "#f0f921"
             ]
            ],
            "type": "histogram2d"
           }
          ],
          "histogram2dcontour": [
           {
            "colorbar": {
             "outlinewidth": 0,
             "ticks": ""
            },
            "colorscale": [
             [
              0,
              "#0d0887"
             ],
             [
              0.1111111111111111,
              "#46039f"
             ],
             [
              0.2222222222222222,
              "#7201a8"
             ],
             [
              0.3333333333333333,
              "#9c179e"
             ],
             [
              0.4444444444444444,
              "#bd3786"
             ],
             [
              0.5555555555555556,
              "#d8576b"
             ],
             [
              0.6666666666666666,
              "#ed7953"
             ],
             [
              0.7777777777777778,
              "#fb9f3a"
             ],
             [
              0.8888888888888888,
              "#fdca26"
             ],
             [
              1,
              "#f0f921"
             ]
            ],
            "type": "histogram2dcontour"
           }
          ],
          "mesh3d": [
           {
            "colorbar": {
             "outlinewidth": 0,
             "ticks": ""
            },
            "type": "mesh3d"
           }
          ],
          "parcoords": [
           {
            "line": {
             "colorbar": {
              "outlinewidth": 0,
              "ticks": ""
             }
            },
            "type": "parcoords"
           }
          ],
          "pie": [
           {
            "automargin": true,
            "type": "pie"
           }
          ],
          "scatter": [
           {
            "fillpattern": {
             "fillmode": "overlay",
             "size": 10,
             "solidity": 0.2
            },
            "type": "scatter"
           }
          ],
          "scatter3d": [
           {
            "line": {
             "colorbar": {
              "outlinewidth": 0,
              "ticks": ""
             }
            },
            "marker": {
             "colorbar": {
              "outlinewidth": 0,
              "ticks": ""
             }
            },
            "type": "scatter3d"
           }
          ],
          "scattercarpet": [
           {
            "marker": {
             "colorbar": {
              "outlinewidth": 0,
              "ticks": ""
             }
            },
            "type": "scattercarpet"
           }
          ],
          "scattergeo": [
           {
            "marker": {
             "colorbar": {
              "outlinewidth": 0,
              "ticks": ""
             }
            },
            "type": "scattergeo"
           }
          ],
          "scattergl": [
           {
            "marker": {
             "colorbar": {
              "outlinewidth": 0,
              "ticks": ""
             }
            },
            "type": "scattergl"
           }
          ],
          "scattermapbox": [
           {
            "marker": {
             "colorbar": {
              "outlinewidth": 0,
              "ticks": ""
             }
            },
            "type": "scattermapbox"
           }
          ],
          "scatterpolar": [
           {
            "marker": {
             "colorbar": {
              "outlinewidth": 0,
              "ticks": ""
             }
            },
            "type": "scatterpolar"
           }
          ],
          "scatterpolargl": [
           {
            "marker": {
             "colorbar": {
              "outlinewidth": 0,
              "ticks": ""
             }
            },
            "type": "scatterpolargl"
           }
          ],
          "scatterternary": [
           {
            "marker": {
             "colorbar": {
              "outlinewidth": 0,
              "ticks": ""
             }
            },
            "type": "scatterternary"
           }
          ],
          "surface": [
           {
            "colorbar": {
             "outlinewidth": 0,
             "ticks": ""
            },
            "colorscale": [
             [
              0,
              "#0d0887"
             ],
             [
              0.1111111111111111,
              "#46039f"
             ],
             [
              0.2222222222222222,
              "#7201a8"
             ],
             [
              0.3333333333333333,
              "#9c179e"
             ],
             [
              0.4444444444444444,
              "#bd3786"
             ],
             [
              0.5555555555555556,
              "#d8576b"
             ],
             [
              0.6666666666666666,
              "#ed7953"
             ],
             [
              0.7777777777777778,
              "#fb9f3a"
             ],
             [
              0.8888888888888888,
              "#fdca26"
             ],
             [
              1,
              "#f0f921"
             ]
            ],
            "type": "surface"
           }
          ],
          "table": [
           {
            "cells": {
             "fill": {
              "color": "#EBF0F8"
             },
             "line": {
              "color": "white"
             }
            },
            "header": {
             "fill": {
              "color": "#C8D4E3"
             },
             "line": {
              "color": "white"
             }
            },
            "type": "table"
           }
          ]
         },
         "layout": {
          "annotationdefaults": {
           "arrowcolor": "#2a3f5f",
           "arrowhead": 0,
           "arrowwidth": 1
          },
          "autotypenumbers": "strict",
          "coloraxis": {
           "colorbar": {
            "outlinewidth": 0,
            "ticks": ""
           }
          },
          "colorscale": {
           "diverging": [
            [
             0,
             "#8e0152"
            ],
            [
             0.1,
             "#c51b7d"
            ],
            [
             0.2,
             "#de77ae"
            ],
            [
             0.3,
             "#f1b6da"
            ],
            [
             0.4,
             "#fde0ef"
            ],
            [
             0.5,
             "#f7f7f7"
            ],
            [
             0.6,
             "#e6f5d0"
            ],
            [
             0.7,
             "#b8e186"
            ],
            [
             0.8,
             "#7fbc41"
            ],
            [
             0.9,
             "#4d9221"
            ],
            [
             1,
             "#276419"
            ]
           ],
           "sequential": [
            [
             0,
             "#0d0887"
            ],
            [
             0.1111111111111111,
             "#46039f"
            ],
            [
             0.2222222222222222,
             "#7201a8"
            ],
            [
             0.3333333333333333,
             "#9c179e"
            ],
            [
             0.4444444444444444,
             "#bd3786"
            ],
            [
             0.5555555555555556,
             "#d8576b"
            ],
            [
             0.6666666666666666,
             "#ed7953"
            ],
            [
             0.7777777777777778,
             "#fb9f3a"
            ],
            [
             0.8888888888888888,
             "#fdca26"
            ],
            [
             1,
             "#f0f921"
            ]
           ],
           "sequentialminus": [
            [
             0,
             "#0d0887"
            ],
            [
             0.1111111111111111,
             "#46039f"
            ],
            [
             0.2222222222222222,
             "#7201a8"
            ],
            [
             0.3333333333333333,
             "#9c179e"
            ],
            [
             0.4444444444444444,
             "#bd3786"
            ],
            [
             0.5555555555555556,
             "#d8576b"
            ],
            [
             0.6666666666666666,
             "#ed7953"
            ],
            [
             0.7777777777777778,
             "#fb9f3a"
            ],
            [
             0.8888888888888888,
             "#fdca26"
            ],
            [
             1,
             "#f0f921"
            ]
           ]
          },
          "colorway": [
           "#636efa",
           "#EF553B",
           "#00cc96",
           "#ab63fa",
           "#FFA15A",
           "#19d3f3",
           "#FF6692",
           "#B6E880",
           "#FF97FF",
           "#FECB52"
          ],
          "font": {
           "color": "#2a3f5f"
          },
          "geo": {
           "bgcolor": "white",
           "lakecolor": "white",
           "landcolor": "#E5ECF6",
           "showlakes": true,
           "showland": true,
           "subunitcolor": "white"
          },
          "hoverlabel": {
           "align": "left"
          },
          "hovermode": "closest",
          "mapbox": {
           "style": "light"
          },
          "paper_bgcolor": "white",
          "plot_bgcolor": "#E5ECF6",
          "polar": {
           "angularaxis": {
            "gridcolor": "white",
            "linecolor": "white",
            "ticks": ""
           },
           "bgcolor": "#E5ECF6",
           "radialaxis": {
            "gridcolor": "white",
            "linecolor": "white",
            "ticks": ""
           }
          },
          "scene": {
           "xaxis": {
            "backgroundcolor": "#E5ECF6",
            "gridcolor": "white",
            "gridwidth": 2,
            "linecolor": "white",
            "showbackground": true,
            "ticks": "",
            "zerolinecolor": "white"
           },
           "yaxis": {
            "backgroundcolor": "#E5ECF6",
            "gridcolor": "white",
            "gridwidth": 2,
            "linecolor": "white",
            "showbackground": true,
            "ticks": "",
            "zerolinecolor": "white"
           },
           "zaxis": {
            "backgroundcolor": "#E5ECF6",
            "gridcolor": "white",
            "gridwidth": 2,
            "linecolor": "white",
            "showbackground": true,
            "ticks": "",
            "zerolinecolor": "white"
           }
          },
          "shapedefaults": {
           "line": {
            "color": "#2a3f5f"
           }
          },
          "ternary": {
           "aaxis": {
            "gridcolor": "white",
            "linecolor": "white",
            "ticks": ""
           },
           "baxis": {
            "gridcolor": "white",
            "linecolor": "white",
            "ticks": ""
           },
           "bgcolor": "#E5ECF6",
           "caxis": {
            "gridcolor": "white",
            "linecolor": "white",
            "ticks": ""
           }
          },
          "title": {
           "x": 0.05
          },
          "xaxis": {
           "automargin": true,
           "gridcolor": "white",
           "linecolor": "white",
           "ticks": "",
           "title": {
            "standoff": 15
           },
           "zerolinecolor": "white",
           "zerolinewidth": 2
          },
          "yaxis": {
           "automargin": true,
           "gridcolor": "white",
           "linecolor": "white",
           "ticks": "",
           "title": {
            "standoff": 15
           },
           "zerolinecolor": "white",
           "zerolinewidth": 2
          }
         }
        },
        "title": {
         "text": "Range of Motion kneeLeft"
        },
        "width": 750,
        "xaxis": {
         "title": {
          "font": {
           "color": "#7f7f7f",
           "family": "Courier New, monospace",
           "size": 18
          },
          "text": "time [s]"
         }
        },
        "yaxis": {
         "title": {
          "font": {
           "color": "#7f7f7f",
           "family": "Courier New, monospace",
           "size": 18
          },
          "text": "ROM [gradi]"
         }
        }
       }
      },
      "text/html": [
       "<div>                            <div id=\"5307eca8-0e7e-4854-ab91-6541caaa42fd\" class=\"plotly-graph-div\" style=\"height:600px; width:750px;\"></div>            <script type=\"text/javascript\">                require([\"plotly\"], function(Plotly) {                    window.PLOTLYENV=window.PLOTLYENV || {};                                    if (document.getElementById(\"5307eca8-0e7e-4854-ab91-6541caaa42fd\")) {                    Plotly.newPlot(                        \"5307eca8-0e7e-4854-ab91-6541caaa42fd\",                        [{\"line\":{\"color\":\"blue\",\"width\":3},\"mode\":\"lines\",\"name\":\"Andamento Reale\",\"x\":[1499.2411363124847,1499.3432846069336,1499.4427211284637,1499.54013133049,1499.6420300006866,1499.744064092636,1499.8401839733124,1499.9462168216705,1500.0419936180115,1500.1414563655853,1500.2422320842743,1500.3411314487457,1500.441514492035,1500.541243314743,1500.6429286003113,1500.7421760559082,1500.8417778015137,1500.9413657188416,1501.0417659282684,1501.1428897380829,1501.240436553955,1501.3419153690338,1501.441132068634,1501.5403683185577,1501.6449313163757,1501.7413523197174,1501.8423101902008,1501.9408650398254,1502.04141497612,1502.1416535377502,1502.2421522140503,1502.3436872959137,1502.4428606033325,1502.5419516563416,1502.6438164710999,1502.739751815796,1502.839929819107,1502.9432377815247,1503.0396859645844,1503.1407148838043,1503.2416439056396,1503.3399159908295,1503.4405806064606,1503.542091369629,1503.6399137973785,1503.7397291660309,1503.8402659893036,1503.9417126178741,1504.0408883094788,1504.1431605815887,1504.2412109375,1504.3424327373505,1504.442084312439,1504.5419890880585,1504.6418566703796,1504.7421357631683,1504.8420453071594,1504.9417133331299,1505.0427649021149,1505.1421146392822,1505.2413144111633,1505.3408071994781,1505.4415457248688,1505.542934179306,1505.6415820121765,1505.741807460785,1505.8417615890503,1505.9422342777252,1506.0417664051056,1506.142252922058,1506.2424128055573,1506.3428943157196,1506.4433236122131,1506.5426783561707,1506.6421117782593,1506.74356341362,1506.8419032096863,1506.9436628818512,1507.042890548706,1507.143632888794,1507.2437996864319,1507.34317612648,1507.4439723491669,1507.5464203357697,1507.646990776062,1507.743609905243,1507.844081878662,1507.944857597351,1508.0438890457153,1508.143606185913,1508.2456514835358,1508.3450417518616,1508.444191455841,1508.5442969799042,1508.6431493759155,1508.7441477775574,1508.8442180156708,1508.9457623958588,1509.0446989536285,1509.1442427635193,1509.2483496665955,1509.348049879074,1509.447769165039,1509.5452642440796,1509.6454932689667,1509.7466208934784,1509.8461413383484,1509.9450035095215,1510.0446655750275,1510.1453218460083,1510.2444643974304,1510.3476753234863,1510.444744348526,1510.5449130535126,1510.6449630260468,1510.7453105449677,1510.8460247516632,1510.9460620880127,1511.0450239181519,1511.147045135498,1511.2464575767517,1511.3476495742798,1511.4461619853973,1511.5460538864136,1511.6458253860474,1511.7523272037506,1511.8473920822144,1511.9467968940735,1512.0458340644836,1512.14905834198,1512.2465064525604,1512.3464360237122,1512.4465262889862,1512.5464425086975,1512.6461458206177,1512.7456891536713,1512.846199274063,1512.9469623565674,1513.046472787857,1513.1472702026367,1513.2464673519135,1513.3472352027893,1513.4477665424347,1513.5469961166382,1513.6465792655945,1513.7474553585052,1513.8473408222198,1513.9478917121887,1514.048181295395,1514.1470139026642,1514.2469763755798,1514.347504377365,1514.4472517967224,1514.548014163971,1514.6466579437256,1514.747255563736,1514.8468098640442,1514.9472517967224,1515.0483257770538,1515.1476039886475,1515.2474853992462,1515.349123954773,1515.448129415512,1515.5479564666748,1515.6483643054962,1515.7478876113892,1515.848218679428,1515.9479448795319,1516.0482194423676,1516.149117231369,1516.24773478508,1516.3488357067108,1516.4485018253326,1516.548581123352,1516.6529862880707,1516.7489988803864,1516.8483703136444,1516.9493639469147,1517.0485661029816,1517.1542015075684,1517.2489612102509,1517.3534693717957,1517.4531128406525,1517.553725719452,1517.6531822681427,1517.7508800029755,1517.8505020141602,1517.9501507282257,1518.0533425807953,1518.154797554016,1518.252271413803,1518.3584887981415,1518.4496307373047,1518.5517852306366,1518.6547417640686,1518.751220703125,1518.8547055721283,1518.9500937461853,1519.0509328842163,1519.1500902175903,1519.2508342266083,1519.3509469032288,1519.4529166221619,1519.552564382553,1519.6508638858795,1519.7502257823944,1519.8513631820679,1519.9507722854614,1520.0511844158173,1520.1549203395844,1520.2553119659424,1520.355444908142,1520.4572768211365,1520.5562913417816,1520.6547539234161,1520.7517511844635,1520.852136850357,1520.956214427948,1521.0517673492432,1521.151982307434,1521.2533135414124,1521.3525230884552,1521.4546430110931,1521.5537049770355,1521.6560616493225,1521.756957769394,1521.861038684845,1521.9608080387115,1522.0553195476532,1522.1532826423645,1522.2527394294739,1522.3522148132324,1522.4540903568268,1522.5571751594543,1522.654535293579,1522.7544548511505,1522.8560378551483,1522.953887462616,1523.0526440143585,1523.1566863059998,1523.2580780982971,1523.3567478656769,1523.454469203949,1523.5542244911194,1523.658311843872,1523.7581009864807,1523.8582689762115,1523.953364610672,1524.054563999176,1524.1584029197693,1524.2576098442078,1524.3543453216553,1524.4550700187683,1524.5540347099304,1524.6535897254944,1524.753868341446,1524.853411436081,1524.95521068573,1525.054139137268,1525.1547272205353,1525.2555606365204,1525.3549020290375,1525.4566402435303,1525.5587475299835,1525.6535289287567,1525.7547373771667,1525.8536713123322,1525.9546175003052,1526.0546753406525,1526.1549615859985,1526.255040884018,1526.3548610210419,1526.454764842987,1526.5555267333984,1526.6554877758026,1526.7556302547455,1526.8551664352417,1526.9557905197144,1527.0557622909546,1527.1561093330383,1527.2571275234222,1527.356971502304,1527.457272529602,1527.5553719997406,1527.6574912071228,1527.757332086563,1527.8562273979187,1527.9594457149506,1528.0566897392273,1528.1583421230316,1528.2581007480621,1528.355853319168,1528.4608187675476,1528.5574316978455,1528.6561155319214,1528.7592558860779,1528.8586099147797,1528.9628987312317,1529.0560810565948,1529.1571590900421,1529.2560682296753,1529.3564767837524,1529.456878900528,1529.5586001873016,1529.657800912857,1529.7575800418854,1529.8577151298523,1529.9580373764038,1530.0567288398743,1530.157428264618,1530.2587399482727,1530.3589704036713,1530.457849740982,1530.5578382015228,1530.658446073532,1530.757824897766,1530.8616199493408,1530.960708618164,1531.059900522232,1531.162596464157,1531.2573883533478,1531.3600792884827,1531.458923816681,1531.5627195835114,1531.6612637043,1531.7576656341553,1531.8620171546936,1531.9599452018738,1532.0599632263184,1532.1607375144958,1532.259782075882,1532.3589525222778,1532.4589982032776,1532.5596570968628,1532.660763502121,1532.759989976883,1532.859920501709,1532.9633507728577,1533.0590443611145,1533.159485578537,1533.2591478824615,1533.358909368515,1533.4588725566864,1533.5592203140259,1533.6601333618164,1533.758960723877,1533.8600804805756,1533.9596378803253,1534.0594065189362,1534.1598281860352,1534.2596225738525,1534.360122680664,1534.4612867832184,1534.5604510307312,1534.6615297794342,1534.76198220253,1534.8614101409912,1534.9614522457123,1535.0600357055664,1535.1603939533234,1535.2622575759888,1535.3602058887482,1535.462120294571,1535.56028008461,1535.6601366996765,1535.7611837387085,1535.8639693260193,1535.9614548683167,1536.06116604805,1536.1607356071472,1536.2609808444977,1536.3626313209534,1536.4609956741333,1536.564481496811,1536.6640095710754,1536.763158082962,1536.8629369735718,1536.9626727104187,1537.0616796016693,1537.1621129512787,1537.2617573738098,1537.3618972301483,1537.462711572647,1537.562515258789,1537.6621596813202,1537.7639846801758,1537.8620209693909,1537.9622814655304,1538.0627496242523,1538.1621263027191,1538.2627971172333,1538.366781949997,1538.4637882709503,1538.563273191452,1538.66330909729,1538.7667174339294,1538.8636915683746,1538.9630060195923,1539.063859462738,1539.1625623703003,1539.2660901546478,1539.3630833625793,1539.464448928833,1539.5636985301971,1539.6643221378326,1539.7645237445831,1539.8643732070923,1539.9644606113434,1540.0639703273773,1540.1641156673431,1540.2658836841583,1540.3652892112732,1540.4671607017517,1540.5652508735657,1540.669272184372,1540.7651839256287,1540.8669271469116,1540.9673836231232,1541.0654036998749,1541.1660828590393,1541.2674746513367,1541.3676433563232,1541.4656250476837,1541.5665922164917,1541.6681351661682,1541.7672548294067,1541.867030620575,1541.9676649570465,1542.0670235157013,1542.1689057350159,1542.2671897411346,1542.3672127723694,1542.4686870574951,1542.5665442943573,1542.6705791950226,1542.7696046829224,1542.8668971061707,1542.966644525528,1543.0735685825348,1543.1732482910156,1543.267774105072,1543.3676788806915,1543.4672544002533,1543.5671184062958,1543.6677463054657,1543.7675108909607,1543.8679871559143,1543.9693717956543,1544.0663883686066,1544.1677677631378,1544.268888950348,1544.3663485050201,1544.4664885997772,1544.5660860538483,1544.6669471263885,1544.76717877388,1544.8672885894775,1544.9685242176056,1545.0670084953308,1545.1677951812744,1545.2673869132996,1545.3672273159027,1545.467891216278,1545.575178861618,1545.6677899360657,1545.7664551734924,1545.8665204048157,1545.9671485424042,1546.0674130916595,1546.1681797504425,1546.2676408290863,1546.367078781128,1546.4679577350616,1546.5685453414917,1546.6769742965698,1546.7727680206299,1546.8680868148804,1546.9686315059662,1547.069181919098,1547.167875289917,1547.2677521705627,1547.3686332702637,1547.4707067012787,1547.5683662891388,1547.6724834442139,1547.769639492035,1547.8712072372437,1547.9770529270172,1548.072209596634,1548.173274755478,1548.2715876102448,1548.371628522873,1548.4709198474884,1548.5714690685272,1548.671296596527,1548.7715110778809,1548.8716838359833,1548.97434091568,1549.070969581604,1549.174753665924,1549.2744188308716,1549.3733451366425,1549.4734070301056,1549.5742897987366,1549.6723790168762,1549.7728595733643,1549.8727250099182,1549.9772119522095,1550.0720105171204,1550.1710896492004,1550.2725031375885,1550.3713836669922,1550.4781966209412,1550.5779829025269,1550.6775233745575,1550.774284362793,1550.87375998497,1550.979849100113,1551.0752232074738,1551.1747436523438,1551.2786514759064,1551.3792498111725,1551.478197336197,1551.579080581665,1551.67942070961,1551.77863407135,1551.880181312561,1551.9783499240875,1552.0735130310059,1552.1743123531342,1552.2738902568817,1552.3736426830292,1552.4735062122345,1552.5737590789795,1552.6750376224518,1552.774917125702,1552.874896287918,1552.9747967720032,1553.0752203464508,1553.1760432720184,1553.2762243747711,1553.3725430965424,1553.472339630127,1553.5719089508057,1553.671792268753,1553.7730875015259,1553.8719074726105,1553.9732356071472,1554.072648525238,1554.172200679779,1554.2724151611328,1554.3731021881104,1554.4731767177582,1554.5727956295013,1554.673753976822,1554.7773764133453,1554.8747208118439,1554.9741613864899,1555.0747776031494,1555.1755096912384,1555.279501914978,1555.3744592666626,1555.4760527610779,1555.5740582942963,1555.6754522323608,1555.7753405570984,1555.8802742958069,1555.9759588241577,1556.074725151062,1556.1759669780731,1556.2756700515747,1556.3753113746643,1556.4837319850922,1556.5750107765198,1556.6751630306244,1556.7765123844147,1556.8782150745392,1556.9785902500153,1557.0765113830566,1557.1777567863464,1557.2783045768738,1557.3775517940521,1557.4797596931458,1557.5780041217804,1557.6780152320862,1557.7778115272522,1557.876960515976,1557.9770517349243,1558.076621055603,1558.180831193924,1558.2854754924774,1558.3767499923706,1558.4804351329803,1558.579921722412,1558.677288532257,1558.7769978046417,1558.8778581619263,1558.9787356853485,1559.0771126747131,1559.1767921447754,1559.278477191925,1559.378291606903,1559.4775824546814,1559.5807921886444,1559.6776638031006,1559.778058052063,1559.8830723762512,1559.9832768440247,1560.0840981006622,1560.1845769882202,1560.2789707183838,1560.3786268234253,1560.47776389122,1560.5785915851593,1560.6796667575836,1560.7791197299957,1560.87948346138,1560.978010892868,1561.0784831047058,1561.1786596775055,1561.2765908241272,1561.3838136196136,1561.4774813652039,1561.5815932750702,1561.6770639419556,1561.7776787281036,1561.877956867218,1561.9779877662659,1562.0776226520538,1562.1785109043121,1562.2782335281372,1562.3815352916718,1562.4804756641388,1562.5775909423828,1562.6809916496277,1562.7826879024506,1562.8828573226929,1562.9838132858276,1563.0780189037323,1563.1789796352386,1563.2802908420563,1563.3813588619232,1563.480254650116,1563.5809354782104,1563.680933713913,1563.7801339626312,1563.880723953247,1563.9811205863953,1564.0802714824677,1564.1794838905334,1564.2845251560211,1564.3794884681702,1564.4791498184204,1564.5835678577423,1564.6808955669403,1564.7788915634155,1564.8795139789581,1564.9836478233337,1565.07950258255,1565.1825184822083,1565.2819392681122,1565.380526304245,1565.4812269210815,1565.5805473327637,1565.684333562851,1565.785714149475,1565.8849048614502,1565.9807634353638,1566.0813398361206,1566.1810414791107,1566.283430814743,1566.383866071701,1566.484350681305,1566.5904591083527,1566.6800830364227,1566.7800760269165,1566.8805696964264,1566.9809465408325,1567.0811483860016,1567.1813688278198,1567.2823538780212,1567.3819682598114,1567.4816749095917,1567.5819344520569,1567.6825020313263,1567.781952381134,1567.881548166275,1567.982048034668,1568.0820636749268,1568.1820254325867,1568.281239271164,1568.3812518119812,1568.4811825752258,1568.5819082260132,1568.6818380355835,1568.7822697162628,1568.8816404342651,1568.9819226264954,1569.0865490436554,1569.186048746109,1569.282539844513,1569.3828761577606,1569.4822869300842,1569.58291721344,1569.6838479042053,1569.7846109867096,1569.8823783397675,1569.9836070537567,1570.0831260681152,1570.1819534301758,1570.2878515720367,1570.3924379348755,1570.4909138679504,1570.5902736186981,1570.6988174915314,1570.7904138565063,1570.8904962539673,1570.9899044036865,1571.0898532867432,1571.1898276805878,1571.289258480072,1571.3903584480286,1571.4897434711456,1571.5904321670532,1571.6920642852783,1571.7911806106567,1571.8918182849884,1571.9967155456543,1572.1017162799835,1572.2009263038635,1572.2912111282349,1572.3967843055725,1572.4991810321808,1572.5943253040314,1572.6906354427338,1572.7905294895172,1572.891780614853,1572.9911139011383,1573.0927135944366,1573.1920285224915],\"y\":[81.21498391735147,80.34645581068564,81.24656206338153,81.24656206338153,80.75481102420002,81.32517779895005,81.96184773260903,82.07889940360639,82.07889940360639,82.16638905625543,82.80164760119048,84.16387517980826,85.06151466226203,85.06151466226203,85.12701366706156,85.89819093584,84.72823718196514,84.72823718196514,84.24347736673965,83.45056105237076,83.2069207479786,83.03336531605913,82.32223420835318,82.44584334042537,82.61509169386564,82.59224287528271,82.53066394998517,83.17615038517111,83.97264732739637,84.3519525815816,84.3519525815816,85.2434619532482,85.85423759082775,85.54029330446082,85.53601046826759,85.37860899621309,85.13990931920058,85.22477393020678,96.7829153693637,97.37566167039834,97.37566167039834,97.86296470961739,98.94318004101576,99.5403626273883,99.43505032196182,98.61129946013764,98.61129946013764,99.63659682012958,100.58159589809515,101.01036924767885,101.3440759601924,100.68487394956288,100.61094840637436,100.83582629721302,99.81483215573282,99.81483215573282,99.23086498199402,98.93451383045361,98.75958434137138,98.70388467875308,98.70388467875308,99.1278842681238,99.0965065140136,98.91693912440365,99.10519988571873,99.10519988571873,99.36365640199602,99.36365640199602,99.82975663305722,99.78699317963463,99.5151557121035,99.80764943742645,99.35141123679,99.09826359077695,99.26870855328055,99.3690635162674,99.01513217026657,98.48883750284982,98.48883750284982,98.66602725900194,98.9688182307142,99.14484279378391,98.90096749087368,98.91278058975122,98.95774962641784,99.19883264039842,99.24659178357435,99.20451305651584,99.65512006272627,99.77263870952136,99.68682003472945,99.57840405966094,99.7365769616765,99.63734429391828,99.81773383222487,99.99759930308772,99.93103281694266,100.01103803412285,100.1023752491903,100.26586319309351,100.60313245998434,100.62996787920954,100.53201711190066,100.37348725303399,100.1277637916627,99.93081574970874,99.93081574970874,99.91754537148647,99.92131801734925,99.62060747556255,99.71223651509766,99.61558343221573,99.75711555188116,99.75711555188116,99.91492661758637,99.65241758713469,99.73692124216302,99.77663311499063,99.98762073103613,100.06433022812904,100.03673786236932,100.03673786236932,99.7941340590417,99.89203840543286,99.81153727552203,99.81153727552203,99.78703926715289,100.18746346871508,100.18746346871508,100.05013867746541,99.94151540041362,99.75603242970107,100.03213026002328,100.11966282267616,100.11773859654583,100.00336138301095,100.01425604447475,100.05395544162326,99.79046625569097,99.78688952942687,99.78245521157994,99.76641491117023,99.75897106237582,99.77728762273873,99.69599557485189,99.7214345239372,99.82460193202334,99.8031717370752,100.08233335080433,99.9598271803978,100.13600462101435,100.35909371835079,100.11247395837677,100.11247395837677,99.92550176161002,99.91339360749326,99.8193096351585,100.01670618422823,100.08670804319375,100.08670804319375,99.8838185203502,99.70165688296183,99.97352676353906,99.97271665271738,99.90380503599687,100.08716243270786,100.16223396776391,100.40187838402073,100.25929772144096,100.08354061243219,99.88038930428245,99.81530094879703,100.26333752602913,100.81888818821206,101.14326105370475,101.14326105370475,101.23216536852239,101.23216536852239,100.86842316241713,100.03125526545226,99.92199951312259,100.48143161842118,100.86025225176486,100.86025225176486,100.92379226649247,101.10560717061377,100.9116397304714,100.81015062841527,100.75814783290731,100.53315274224524,100.40131004962883,100.01548438414919,100.03772674059348,100.20748717859685,100.08215376805776,100.04310427005986,100.41342905037953,100.67458774034897,100.67458774034897,100.18399808429965,100.18399808429965,100.71004801498565,100.27944962941947,100.36635045264632,100.611659689043,99.93130867163991,100.2049376728681,100.24044131011962,100.3435602915907,100.54171717213477,100.48957917889805,100.47628767704107,100.69836300001377,100.43372909721259,100.47940131157448,100.86418659453153,100.64542168032042,100.80092863608571,100.36212626252397,100.72560563108647,100.8893300898696,100.88963414078569,100.54298070918304,100.61289312905741,100.8249012093358,101.00105737468537,101.14633830890362,100.88623737660645,100.74266448570731,100.64770264787738,100.45566214067856,100.59138680359875,100.50830512001131,100.43454626582472,100.53519753634107,100.46716007737507,100.69544275623912,100.61743464772344,100.73951876181721,100.76623224581647,100.3821617530511,100.39278151636725,100.70702058257092,100.21334301673458,100.80839193862448,100.88474697348842,100.76822320449617,101.21595169500459,100.85110178409886,100.7537456671583,100.77856631651012,100.3146119016356,100.84784544256344,100.78634515023516,100.92199875298192,100.55391439067414,100.66191356462213,100.78652121053078,100.90120922201373,100.85585733211806,100.92954403129558,100.51715116720159,100.2231068221892,100.00828290539705,100.24935129002185,100.64416956007264,100.64416956007264,100.0153195145118,99.93567957394987,99.93567957394987,100.21576954418563,100.77875400096978,100.77875400096978,100.8640247480939,100.87607085817328,100.69209801953141,100.69209801953141,100.78674686451288,100.5389978183395,100.07207743125416,100.07207743125416,99.46905285541315,99.50394341608448,99.63680035784878,99.51231668574118,98.51624250018732,82.53275884590455,81.83566916162486,80.43444352205317,78.96738514311878,77.1268078759056,74.89177395185803,71.84305636015935,69.13236143074202,66.65244163421313,65.34014383621532,64.87526809570824,64.64186600407879,65.2679208075005,65.2679208075005,66.01539759987116,65.37227452486566,64.00197122336697,63.41197286066429,63.755991154948,64.01008546957132,64.69304580908354,64.85660787983196,64.57265951863971,65.09706478966983,65.40849340389578,65.53367663389538,65.24348267343399,64.72772482776071,64.35340036669646,64.14595635240055,63.98501714929145,64.01408712591098,64.07473211327417,64.31395275444478,64.57892122390706,64.8190542962733,64.80572236762615,64.78904809588803,64.61907720581416,64.29739673297277,64.11082227496992,63.72597488033072,63.38701742392117,64.01373786418122,64.63852414212644,63.932168732992494,63.69968323578431,63.98820168807273,63.69801166771231,63.35772334563438,63.476594508492454,63.26416786730936,63.32839023266759,63.24519104447745,63.10365241215093,63.07250649941737,63.45506175999108,63.89968671183942,63.89307252964016,63.86477431399146,63.842684231783,63.781753157301814,63.770462323094776,63.770462323094776,63.81095473906888,63.921858393819726,64.03556786528385,64.07267634886006,64.12129962322402,64.1689884582826,64.20883304478305,64.31713541375233,64.50602220602451,64.70403047328284,64.59766576292891,64.51675378702068,64.57181490103689,64.61529699296486,64.62416410118729,64.7143985503971,64.6452770170238,64.6452770170238,64.82939581041308,64.82939581041308,64.61723607559173,64.60551167885494,63.754080777372494,62.90780901401131,62.63037589725168,62.25849613791767,62.064347297378795,61.924153705375645,61.652247930909574,61.54626202980425,60.64698577819269,60.64698577819269,60.754948349888735,60.1781543092217,112.22504176311098,112.59513252634842,112.97400868265424,112.72633731438177,113.35017515016034,114.28675596068301,114.28675596068301,64.59356099193187,65.12738546687993,64.27905621966133,64.27905621966133,63.21424874496709,63.46116855186248,62.814099078104896,63.19018926782428,64.18003295871158,64.07201665160731,64.04427707480023,64.33365645528187,64.22254351085068,63.47271803889936,63.422986310690895,64.26087840499868,64.67725631674081,64.55714664902395,64.34452876811741,64.31638104715357,64.31638104715357,64.40808667983892,64.5790233929145,64.5790233929145,64.4483422691837,63.79451435283981,63.26414364305231,63.22163332917339,63.045767220446585,63.01828444091791,63.02634927838278,63.01307901881111,63.476849875221724,63.513530634474535,62.979821126118985,62.73217340107995,62.498476511306386,62.31676749851702,62.45016298352875,62.54439188048747,62.62646358842013,62.55582712188949,62.551786604774,62.63450227077741,63.044565107115986,63.72486186847285,64.03923398866931,63.9428150992722,63.75735629267321,63.66435870007478,63.7320630844426,63.76912842510011,63.78859864754272,63.785597686006405,64.00265834567625,64.02117532306048,63.80735715181362,63.94359624425534,63.884583820045414,63.744251383824434,63.890572090006266,64.09367398678869,64.48114723315399,65.12919585098894,64.85005780467075,64.3761803310066,64.36748540286133,64.95947946266381,65.61794512557076,66.16338640305143,66.0661381841709,65.98799349045782,65.77967894551684,65.42475673208402,65.79229740813584,65.26556435579812,64.03040963773469,63.07044342038352,62.38890669620408,62.62309482703659,64.14637555256841,64.56488498405666,64.02991601993644,63.77742666156694,62.254752032767236,61.83125165293375,61.94331830581348,62.01983795269648,62.13097030430819,62.42890766217916,63.04964867808144,63.120597468781405,63.32149521880635,63.32149521880635,63.65860267559151,63.61978034053927,63.61978034053927,63.75220453603808,63.802909270718345,63.70886958336748,63.726771952181586,63.71481485624698,63.90910884996814,64.05027335726251,64.09809520991192,64.10501858115936,64.21099204022312,64.2238780483359,64.47271775866167,64.86876374875405,65.13467238866261,65.20601116284422,65.0765218142075,65.16521453970958,65.73706006781975,66.2501735355114,66.15044384062993,65.38435307902569,64.58809108115116,63.80060321751772,63.80060321751772,63.890490814133244,65.06393330649232,67.51733515307306,68.13276882420168,67.7254003957062,68.1929758651155,67.78122572474433,67.21620341533044,66.81501069378113,66.60254612683298,66.88731592288505,66.83559040793044,67.23490771767236,66.95968972443688,66.12233000914189,65.68102193820427,64.59560765948851,64.43778893559369,64.2476873173768,64.01939046402008,63.2259910670532,62.827924538119134,62.70221912675887,62.70221912675887,62.71616517045538,62.717236005258094,62.6798920849154,62.930702081923805,63.04843251937451,63.110624683805824,63.6137570500427,64.19737540366405,64.61258664881088,64.45533959225396,64.53234395381638,64.64138658174214,64.78790555212319,64.82506181562728,64.74161753504596,64.8169691082662,64.8169691082662,64.72154512251656,64.69568143434401,64.98170322862433,64.89841325598147,64.67601801867029,64.70041902053808,65.04138185280303,65.78648195883156,66.061320271658,66.1614756566651,66.06439295522232,65.43018584102576,64.86789056361305,64.57337266982859,64.20898886512089,63.67745034445124,63.35532777348892,62.98159121405813,62.50395281914035,62.268485673363195,62.67308646584953,63.52526839065919,63.68700678148198,63.41644232876511,63.67806852319909,63.746605825445464,63.03365632224969,63.39018567725138,63.50404522437243,63.28039539527875,63.2996120214561,63.63592991987302,63.5454847610218,63.915684939807655,64.4903356452926,65.62338650173764,66.26603776233001,66.56796306619191,66.61172455931717,64.84308323785756,64.12190693406718,64.15597485196565,64.23003803168996,64.33606451242736,64.20748616326932,64.79790899335015,64.01513232593067,64.22650372758014,65.68013664576237,65.49690765440992,63.15700243964606,62.58516411766453,63.343549641714034,63.24118112825436,62.46171651507121,63.3633266778188,65.28394826565075,65.17868899125072,64.22998815836908,63.66373439780081,64.84354802776677,64.67990917869498,66.56130486882368,67.5438477755616,71.71425909536534,71.17231011828655,68.78616921378864,66.77306911913004,66.97515438794387,67.08058880679992,65.80393556258981,65.51805449779123,65.51805449779123,65.74244044207306,66.60740146091858,67.61047017342692,66.54780920028037,64.59714187309461,64.59714187309461,64.10768757200411,64.3356819138921,64.17700495713488,64.17700495713488,63.859928088258556,64.45119928986549,65.19552388811613,64.33535881281122,64.03790652424544,65.59716448168149,67.43961178443574,70.10218956795154,72.89177929974689,66.49982480304867,63.42073658618808,65.99583392656112,66.15110301716884,64.62990706934673,64.5864307527999,64.19730317171775,64.18684079774823,63.255331711119545,62.40843914214895,62.28959493675861,62.325770466214465,63.24815654938144,65.09026306322916,66.9515547442569,67.50381760660211,67.08867392261905,68.82425455442393,68.43431850638794,66.48079130281805,64.64351888033116,64.75621445258327,64.50491514049622,64.40263616252972,64.979427981619,68.02034280004148,68.52571985806539,67.21522450852487,65.1017229904701,63.75736104576698,62.81585946891144,62.77960833523801,62.90214326888699,62.72107942086961,62.69507390796679,63.57678611116389,63.834981704933725,63.14803312784687,62.955094809829404,63.12825351254186,63.03614360350712,63.0565018689723,63.05601215651572,63.43364816072089,63.25601508933486,63.30528209110971,63.41641823734202,63.74685871044554,65.2897599718015,65.06375837694038,65.06375837694038,65.0213303423499,65.78207736996347,67.22621835972583,103.9675317941,105.60901490869793,107.8052245614563,108.38300146656795,109.19252514038102,109.15697136314856,109.40627997827973,109.47578404352346,109.654138335659,109.86211587033655,111.460188885351,110.99750365403293,110.99750365403293,110.99750365403293,110.99750365403293,110.99750365403293,110.99750365403293,110.99750365403293,110.99750365403293,110.99750365403293,110.99750365403293,110.99750365403293,110.99750365403293,110.99750365403293,110.99750365403293,110.99750365403293,110.99750365403293,110.99750365403293,110.99750365403293,110.99750365403293,110.99750365403293,110.99750365403293,110.99750365403293,110.99750365403293,110.99750365403293,110.99750365403293,110.99750365403293,110.99750365403293,110.99750365403293,110.99750365403293],\"type\":\"scatter\"}],                        {\"autosize\":false,\"font\":{\"color\":\"black\",\"family\":\"Courier New, monospace\",\"size\":22},\"height\":600,\"template\":{\"data\":{\"barpolar\":[{\"marker\":{\"line\":{\"color\":\"#E5ECF6\",\"width\":0.5},\"pattern\":{\"fillmode\":\"overlay\",\"size\":10,\"solidity\":0.2}},\"type\":\"barpolar\"}],\"bar\":[{\"error_x\":{\"color\":\"#2a3f5f\"},\"error_y\":{\"color\":\"#2a3f5f\"},\"marker\":{\"line\":{\"color\":\"#E5ECF6\",\"width\":0.5},\"pattern\":{\"fillmode\":\"overlay\",\"size\":10,\"solidity\":0.2}},\"type\":\"bar\"}],\"carpet\":[{\"aaxis\":{\"endlinecolor\":\"#2a3f5f\",\"gridcolor\":\"white\",\"linecolor\":\"white\",\"minorgridcolor\":\"white\",\"startlinecolor\":\"#2a3f5f\"},\"baxis\":{\"endlinecolor\":\"#2a3f5f\",\"gridcolor\":\"white\",\"linecolor\":\"white\",\"minorgridcolor\":\"white\",\"startlinecolor\":\"#2a3f5f\"},\"type\":\"carpet\"}],\"choropleth\":[{\"colorbar\":{\"outlinewidth\":0,\"ticks\":\"\"},\"type\":\"choropleth\"}],\"contourcarpet\":[{\"colorbar\":{\"outlinewidth\":0,\"ticks\":\"\"},\"type\":\"contourcarpet\"}],\"contour\":[{\"colorbar\":{\"outlinewidth\":0,\"ticks\":\"\"},\"colorscale\":[[0.0,\"#0d0887\"],[0.1111111111111111,\"#46039f\"],[0.2222222222222222,\"#7201a8\"],[0.3333333333333333,\"#9c179e\"],[0.4444444444444444,\"#bd3786\"],[0.5555555555555556,\"#d8576b\"],[0.6666666666666666,\"#ed7953\"],[0.7777777777777778,\"#fb9f3a\"],[0.8888888888888888,\"#fdca26\"],[1.0,\"#f0f921\"]],\"type\":\"contour\"}],\"heatmapgl\":[{\"colorbar\":{\"outlinewidth\":0,\"ticks\":\"\"},\"colorscale\":[[0.0,\"#0d0887\"],[0.1111111111111111,\"#46039f\"],[0.2222222222222222,\"#7201a8\"],[0.3333333333333333,\"#9c179e\"],[0.4444444444444444,\"#bd3786\"],[0.5555555555555556,\"#d8576b\"],[0.6666666666666666,\"#ed7953\"],[0.7777777777777778,\"#fb9f3a\"],[0.8888888888888888,\"#fdca26\"],[1.0,\"#f0f921\"]],\"type\":\"heatmapgl\"}],\"heatmap\":[{\"colorbar\":{\"outlinewidth\":0,\"ticks\":\"\"},\"colorscale\":[[0.0,\"#0d0887\"],[0.1111111111111111,\"#46039f\"],[0.2222222222222222,\"#7201a8\"],[0.3333333333333333,\"#9c179e\"],[0.4444444444444444,\"#bd3786\"],[0.5555555555555556,\"#d8576b\"],[0.6666666666666666,\"#ed7953\"],[0.7777777777777778,\"#fb9f3a\"],[0.8888888888888888,\"#fdca26\"],[1.0,\"#f0f921\"]],\"type\":\"heatmap\"}],\"histogram2dcontour\":[{\"colorbar\":{\"outlinewidth\":0,\"ticks\":\"\"},\"colorscale\":[[0.0,\"#0d0887\"],[0.1111111111111111,\"#46039f\"],[0.2222222222222222,\"#7201a8\"],[0.3333333333333333,\"#9c179e\"],[0.4444444444444444,\"#bd3786\"],[0.5555555555555556,\"#d8576b\"],[0.6666666666666666,\"#ed7953\"],[0.7777777777777778,\"#fb9f3a\"],[0.8888888888888888,\"#fdca26\"],[1.0,\"#f0f921\"]],\"type\":\"histogram2dcontour\"}],\"histogram2d\":[{\"colorbar\":{\"outlinewidth\":0,\"ticks\":\"\"},\"colorscale\":[[0.0,\"#0d0887\"],[0.1111111111111111,\"#46039f\"],[0.2222222222222222,\"#7201a8\"],[0.3333333333333333,\"#9c179e\"],[0.4444444444444444,\"#bd3786\"],[0.5555555555555556,\"#d8576b\"],[0.6666666666666666,\"#ed7953\"],[0.7777777777777778,\"#fb9f3a\"],[0.8888888888888888,\"#fdca26\"],[1.0,\"#f0f921\"]],\"type\":\"histogram2d\"}],\"histogram\":[{\"marker\":{\"pattern\":{\"fillmode\":\"overlay\",\"size\":10,\"solidity\":0.2}},\"type\":\"histogram\"}],\"mesh3d\":[{\"colorbar\":{\"outlinewidth\":0,\"ticks\":\"\"},\"type\":\"mesh3d\"}],\"parcoords\":[{\"line\":{\"colorbar\":{\"outlinewidth\":0,\"ticks\":\"\"}},\"type\":\"parcoords\"}],\"pie\":[{\"automargin\":true,\"type\":\"pie\"}],\"scatter3d\":[{\"line\":{\"colorbar\":{\"outlinewidth\":0,\"ticks\":\"\"}},\"marker\":{\"colorbar\":{\"outlinewidth\":0,\"ticks\":\"\"}},\"type\":\"scatter3d\"}],\"scattercarpet\":[{\"marker\":{\"colorbar\":{\"outlinewidth\":0,\"ticks\":\"\"}},\"type\":\"scattercarpet\"}],\"scattergeo\":[{\"marker\":{\"colorbar\":{\"outlinewidth\":0,\"ticks\":\"\"}},\"type\":\"scattergeo\"}],\"scattergl\":[{\"marker\":{\"colorbar\":{\"outlinewidth\":0,\"ticks\":\"\"}},\"type\":\"scattergl\"}],\"scattermapbox\":[{\"marker\":{\"colorbar\":{\"outlinewidth\":0,\"ticks\":\"\"}},\"type\":\"scattermapbox\"}],\"scatterpolargl\":[{\"marker\":{\"colorbar\":{\"outlinewidth\":0,\"ticks\":\"\"}},\"type\":\"scatterpolargl\"}],\"scatterpolar\":[{\"marker\":{\"colorbar\":{\"outlinewidth\":0,\"ticks\":\"\"}},\"type\":\"scatterpolar\"}],\"scatter\":[{\"fillpattern\":{\"fillmode\":\"overlay\",\"size\":10,\"solidity\":0.2},\"type\":\"scatter\"}],\"scatterternary\":[{\"marker\":{\"colorbar\":{\"outlinewidth\":0,\"ticks\":\"\"}},\"type\":\"scatterternary\"}],\"surface\":[{\"colorbar\":{\"outlinewidth\":0,\"ticks\":\"\"},\"colorscale\":[[0.0,\"#0d0887\"],[0.1111111111111111,\"#46039f\"],[0.2222222222222222,\"#7201a8\"],[0.3333333333333333,\"#9c179e\"],[0.4444444444444444,\"#bd3786\"],[0.5555555555555556,\"#d8576b\"],[0.6666666666666666,\"#ed7953\"],[0.7777777777777778,\"#fb9f3a\"],[0.8888888888888888,\"#fdca26\"],[1.0,\"#f0f921\"]],\"type\":\"surface\"}],\"table\":[{\"cells\":{\"fill\":{\"color\":\"#EBF0F8\"},\"line\":{\"color\":\"white\"}},\"header\":{\"fill\":{\"color\":\"#C8D4E3\"},\"line\":{\"color\":\"white\"}},\"type\":\"table\"}]},\"layout\":{\"annotationdefaults\":{\"arrowcolor\":\"#2a3f5f\",\"arrowhead\":0,\"arrowwidth\":1},\"autotypenumbers\":\"strict\",\"coloraxis\":{\"colorbar\":{\"outlinewidth\":0,\"ticks\":\"\"}},\"colorscale\":{\"diverging\":[[0,\"#8e0152\"],[0.1,\"#c51b7d\"],[0.2,\"#de77ae\"],[0.3,\"#f1b6da\"],[0.4,\"#fde0ef\"],[0.5,\"#f7f7f7\"],[0.6,\"#e6f5d0\"],[0.7,\"#b8e186\"],[0.8,\"#7fbc41\"],[0.9,\"#4d9221\"],[1,\"#276419\"]],\"sequential\":[[0.0,\"#0d0887\"],[0.1111111111111111,\"#46039f\"],[0.2222222222222222,\"#7201a8\"],[0.3333333333333333,\"#9c179e\"],[0.4444444444444444,\"#bd3786\"],[0.5555555555555556,\"#d8576b\"],[0.6666666666666666,\"#ed7953\"],[0.7777777777777778,\"#fb9f3a\"],[0.8888888888888888,\"#fdca26\"],[1.0,\"#f0f921\"]],\"sequentialminus\":[[0.0,\"#0d0887\"],[0.1111111111111111,\"#46039f\"],[0.2222222222222222,\"#7201a8\"],[0.3333333333333333,\"#9c179e\"],[0.4444444444444444,\"#bd3786\"],[0.5555555555555556,\"#d8576b\"],[0.6666666666666666,\"#ed7953\"],[0.7777777777777778,\"#fb9f3a\"],[0.8888888888888888,\"#fdca26\"],[1.0,\"#f0f921\"]]},\"colorway\":[\"#636efa\",\"#EF553B\",\"#00cc96\",\"#ab63fa\",\"#FFA15A\",\"#19d3f3\",\"#FF6692\",\"#B6E880\",\"#FF97FF\",\"#FECB52\"],\"font\":{\"color\":\"#2a3f5f\"},\"geo\":{\"bgcolor\":\"white\",\"lakecolor\":\"white\",\"landcolor\":\"#E5ECF6\",\"showlakes\":true,\"showland\":true,\"subunitcolor\":\"white\"},\"hoverlabel\":{\"align\":\"left\"},\"hovermode\":\"closest\",\"mapbox\":{\"style\":\"light\"},\"paper_bgcolor\":\"white\",\"plot_bgcolor\":\"#E5ECF6\",\"polar\":{\"angularaxis\":{\"gridcolor\":\"white\",\"linecolor\":\"white\",\"ticks\":\"\"},\"bgcolor\":\"#E5ECF6\",\"radialaxis\":{\"gridcolor\":\"white\",\"linecolor\":\"white\",\"ticks\":\"\"}},\"scene\":{\"xaxis\":{\"backgroundcolor\":\"#E5ECF6\",\"gridcolor\":\"white\",\"gridwidth\":2,\"linecolor\":\"white\",\"showbackground\":true,\"ticks\":\"\",\"zerolinecolor\":\"white\"},\"yaxis\":{\"backgroundcolor\":\"#E5ECF6\",\"gridcolor\":\"white\",\"gridwidth\":2,\"linecolor\":\"white\",\"showbackground\":true,\"ticks\":\"\",\"zerolinecolor\":\"white\"},\"zaxis\":{\"backgroundcolor\":\"#E5ECF6\",\"gridcolor\":\"white\",\"gridwidth\":2,\"linecolor\":\"white\",\"showbackground\":true,\"ticks\":\"\",\"zerolinecolor\":\"white\"}},\"shapedefaults\":{\"line\":{\"color\":\"#2a3f5f\"}},\"ternary\":{\"aaxis\":{\"gridcolor\":\"white\",\"linecolor\":\"white\",\"ticks\":\"\"},\"baxis\":{\"gridcolor\":\"white\",\"linecolor\":\"white\",\"ticks\":\"\"},\"bgcolor\":\"#E5ECF6\",\"caxis\":{\"gridcolor\":\"white\",\"linecolor\":\"white\",\"ticks\":\"\"}},\"title\":{\"x\":0.05},\"xaxis\":{\"automargin\":true,\"gridcolor\":\"white\",\"linecolor\":\"white\",\"ticks\":\"\",\"title\":{\"standoff\":15},\"zerolinecolor\":\"white\",\"zerolinewidth\":2},\"yaxis\":{\"automargin\":true,\"gridcolor\":\"white\",\"linecolor\":\"white\",\"ticks\":\"\",\"title\":{\"standoff\":15},\"zerolinecolor\":\"white\",\"zerolinewidth\":2}}},\"title\":{\"text\":\"Range of Motion kneeLeft\"},\"width\":750,\"xaxis\":{\"title\":{\"font\":{\"color\":\"#7f7f7f\",\"family\":\"Courier New, monospace\",\"size\":18},\"text\":\"time [s]\"}},\"yaxis\":{\"title\":{\"font\":{\"color\":\"#7f7f7f\",\"family\":\"Courier New, monospace\",\"size\":18},\"text\":\"ROM [gradi]\"}}},                        {\"responsive\": true}                    ).then(function(){\n",
       "                            \n",
       "var gd = document.getElementById('5307eca8-0e7e-4854-ab91-6541caaa42fd');\n",
       "var x = new MutationObserver(function (mutations, observer) {{\n",
       "        var display = window.getComputedStyle(gd).display;\n",
       "        if (!display || display === 'none') {{\n",
       "            console.log([gd, 'removed!']);\n",
       "            Plotly.purge(gd);\n",
       "            observer.disconnect();\n",
       "        }}\n",
       "}});\n",
       "\n",
       "// Listen for the removal of the full notebook cells\n",
       "var notebookContainer = gd.closest('#notebook-container');\n",
       "if (notebookContainer) {{\n",
       "    x.observe(notebookContainer, {childList: true});\n",
       "}}\n",
       "\n",
       "// Listen for the clearing of the current output cell\n",
       "var outputEl = gd.closest('.output');\n",
       "if (outputEl) {{\n",
       "    x.observe(outputEl, {childList: true});\n",
       "}}\n",
       "\n",
       "                        })                };                });            </script>        </div>"
      ]
     },
     "metadata": {},
     "output_type": "display_data"
    },
    {
     "data": {
      "application/vnd.plotly.v1+json": {
       "config": {
        "linkText": "Export to plot.ly",
        "plotlyServerURL": "https://plot.ly",
        "showLink": false
       },
       "data": [
        {
         "line": {
          "color": "blue",
          "width": 3
         },
         "mode": "lines",
         "name": "Andamento Reale",
         "type": "scatter",
         "x": [
          1499.2411363124847,
          1499.3432846069336,
          1499.4427211284637,
          1499.54013133049,
          1499.6420300006866,
          1499.744064092636,
          1499.8401839733124,
          1499.9462168216705,
          1500.0419936180115,
          1500.1414563655853,
          1500.2422320842743,
          1500.3411314487457,
          1500.441514492035,
          1500.541243314743,
          1500.6429286003113,
          1500.7421760559082,
          1500.8417778015137,
          1500.9413657188416,
          1501.0417659282684,
          1501.1428897380829,
          1501.240436553955,
          1501.3419153690338,
          1501.441132068634,
          1501.5403683185577,
          1501.6449313163757,
          1501.7413523197174,
          1501.8423101902008,
          1501.9408650398254,
          1502.04141497612,
          1502.1416535377502,
          1502.2421522140503,
          1502.3436872959137,
          1502.4428606033325,
          1502.5419516563416,
          1502.6438164710999,
          1502.739751815796,
          1502.839929819107,
          1502.9432377815247,
          1503.0396859645844,
          1503.1407148838043,
          1503.2416439056396,
          1503.3399159908295,
          1503.4405806064606,
          1503.542091369629,
          1503.6399137973785,
          1503.7397291660309,
          1503.8402659893036,
          1503.9417126178741,
          1504.0408883094788,
          1504.1431605815887,
          1504.2412109375,
          1504.3424327373505,
          1504.442084312439,
          1504.5419890880585,
          1504.6418566703796,
          1504.7421357631683,
          1504.8420453071594,
          1504.9417133331299,
          1505.0427649021149,
          1505.1421146392822,
          1505.2413144111633,
          1505.3408071994781,
          1505.4415457248688,
          1505.542934179306,
          1505.6415820121765,
          1505.741807460785,
          1505.8417615890503,
          1505.9422342777252,
          1506.0417664051056,
          1506.142252922058,
          1506.2424128055573,
          1506.3428943157196,
          1506.4433236122131,
          1506.5426783561707,
          1506.6421117782593,
          1506.74356341362,
          1506.8419032096863,
          1506.9436628818512,
          1507.042890548706,
          1507.143632888794,
          1507.2437996864319,
          1507.34317612648,
          1507.4439723491669,
          1507.5464203357697,
          1507.646990776062,
          1507.743609905243,
          1507.844081878662,
          1507.944857597351,
          1508.0438890457153,
          1508.143606185913,
          1508.2456514835358,
          1508.3450417518616,
          1508.444191455841,
          1508.5442969799042,
          1508.6431493759155,
          1508.7441477775574,
          1508.8442180156708,
          1508.9457623958588,
          1509.0446989536285,
          1509.1442427635193,
          1509.2483496665955,
          1509.348049879074,
          1509.447769165039,
          1509.5452642440796,
          1509.6454932689667,
          1509.7466208934784,
          1509.8461413383484,
          1509.9450035095215,
          1510.0446655750275,
          1510.1453218460083,
          1510.2444643974304,
          1510.3476753234863,
          1510.444744348526,
          1510.5449130535126,
          1510.6449630260468,
          1510.7453105449677,
          1510.8460247516632,
          1510.9460620880127,
          1511.0450239181519,
          1511.147045135498,
          1511.2464575767517,
          1511.3476495742798,
          1511.4461619853973,
          1511.5460538864136,
          1511.6458253860474,
          1511.7523272037506,
          1511.8473920822144,
          1511.9467968940735,
          1512.0458340644836,
          1512.14905834198,
          1512.2465064525604,
          1512.3464360237122,
          1512.4465262889862,
          1512.5464425086975,
          1512.6461458206177,
          1512.7456891536713,
          1512.846199274063,
          1512.9469623565674,
          1513.046472787857,
          1513.1472702026367,
          1513.2464673519135,
          1513.3472352027893,
          1513.4477665424347,
          1513.5469961166382,
          1513.6465792655945,
          1513.7474553585052,
          1513.8473408222198,
          1513.9478917121887,
          1514.048181295395,
          1514.1470139026642,
          1514.2469763755798,
          1514.347504377365,
          1514.4472517967224,
          1514.548014163971,
          1514.6466579437256,
          1514.747255563736,
          1514.8468098640442,
          1514.9472517967224,
          1515.0483257770538,
          1515.1476039886475,
          1515.2474853992462,
          1515.349123954773,
          1515.448129415512,
          1515.5479564666748,
          1515.6483643054962,
          1515.7478876113892,
          1515.848218679428,
          1515.9479448795319,
          1516.0482194423676,
          1516.149117231369,
          1516.24773478508,
          1516.3488357067108,
          1516.4485018253326,
          1516.548581123352,
          1516.6529862880707,
          1516.7489988803864,
          1516.8483703136444,
          1516.9493639469147,
          1517.0485661029816,
          1517.1542015075684,
          1517.2489612102509,
          1517.3534693717957,
          1517.4531128406525,
          1517.553725719452,
          1517.6531822681427,
          1517.7508800029755,
          1517.8505020141602,
          1517.9501507282257,
          1518.0533425807953,
          1518.154797554016,
          1518.252271413803,
          1518.3584887981415,
          1518.4496307373047,
          1518.5517852306366,
          1518.6547417640686,
          1518.751220703125,
          1518.8547055721283,
          1518.9500937461853,
          1519.0509328842163,
          1519.1500902175903,
          1519.2508342266083,
          1519.3509469032288,
          1519.4529166221619,
          1519.552564382553,
          1519.6508638858795,
          1519.7502257823944,
          1519.8513631820679,
          1519.9507722854614,
          1520.0511844158173,
          1520.1549203395844,
          1520.2553119659424,
          1520.355444908142,
          1520.4572768211365,
          1520.5562913417816,
          1520.6547539234161,
          1520.7517511844635,
          1520.852136850357,
          1520.956214427948,
          1521.0517673492432,
          1521.151982307434,
          1521.2533135414124,
          1521.3525230884552,
          1521.4546430110931,
          1521.5537049770355,
          1521.6560616493225,
          1521.756957769394,
          1521.861038684845,
          1521.9608080387115,
          1522.0553195476532,
          1522.1532826423645,
          1522.2527394294739,
          1522.3522148132324,
          1522.4540903568268,
          1522.5571751594543,
          1522.654535293579,
          1522.7544548511505,
          1522.8560378551483,
          1522.953887462616,
          1523.0526440143585,
          1523.1566863059998,
          1523.2580780982971,
          1523.3567478656769,
          1523.454469203949,
          1523.5542244911194,
          1523.658311843872,
          1523.7581009864807,
          1523.8582689762115,
          1523.953364610672,
          1524.054563999176,
          1524.1584029197693,
          1524.2576098442078,
          1524.3543453216553,
          1524.4550700187683,
          1524.5540347099304,
          1524.6535897254944,
          1524.753868341446,
          1524.853411436081,
          1524.95521068573,
          1525.054139137268,
          1525.1547272205353,
          1525.2555606365204,
          1525.3549020290375,
          1525.4566402435303,
          1525.5587475299835,
          1525.6535289287567,
          1525.7547373771667,
          1525.8536713123322,
          1525.9546175003052,
          1526.0546753406525,
          1526.1549615859985,
          1526.255040884018,
          1526.3548610210419,
          1526.454764842987,
          1526.5555267333984,
          1526.6554877758026,
          1526.7556302547455,
          1526.8551664352417,
          1526.9557905197144,
          1527.0557622909546,
          1527.1561093330383,
          1527.2571275234222,
          1527.356971502304,
          1527.457272529602,
          1527.5553719997406,
          1527.6574912071228,
          1527.757332086563,
          1527.8562273979187,
          1527.9594457149506,
          1528.0566897392273,
          1528.1583421230316,
          1528.2581007480621,
          1528.355853319168,
          1528.4608187675476,
          1528.5574316978455,
          1528.6561155319214,
          1528.7592558860779,
          1528.8586099147797,
          1528.9628987312317,
          1529.0560810565948,
          1529.1571590900421,
          1529.2560682296753,
          1529.3564767837524,
          1529.456878900528,
          1529.5586001873016,
          1529.657800912857,
          1529.7575800418854,
          1529.8577151298523,
          1529.9580373764038,
          1530.0567288398743,
          1530.157428264618,
          1530.2587399482727,
          1530.3589704036713,
          1530.457849740982,
          1530.5578382015228,
          1530.658446073532,
          1530.757824897766,
          1530.8616199493408,
          1530.960708618164,
          1531.059900522232,
          1531.162596464157,
          1531.2573883533478,
          1531.3600792884827,
          1531.458923816681,
          1531.5627195835114,
          1531.6612637043,
          1531.7576656341553,
          1531.8620171546936,
          1531.9599452018738,
          1532.0599632263184,
          1532.1607375144958,
          1532.259782075882,
          1532.3589525222778,
          1532.4589982032776,
          1532.5596570968628,
          1532.660763502121,
          1532.759989976883,
          1532.859920501709,
          1532.9633507728577,
          1533.0590443611145,
          1533.159485578537,
          1533.2591478824615,
          1533.358909368515,
          1533.4588725566864,
          1533.5592203140259,
          1533.6601333618164,
          1533.758960723877,
          1533.8600804805756,
          1533.9596378803253,
          1534.0594065189362,
          1534.1598281860352,
          1534.2596225738525,
          1534.360122680664,
          1534.4612867832184,
          1534.5604510307312,
          1534.6615297794342,
          1534.76198220253,
          1534.8614101409912,
          1534.9614522457123,
          1535.0600357055664,
          1535.1603939533234,
          1535.2622575759888,
          1535.3602058887482,
          1535.462120294571,
          1535.56028008461,
          1535.6601366996765,
          1535.7611837387085,
          1535.8639693260193,
          1535.9614548683167,
          1536.06116604805,
          1536.1607356071472,
          1536.2609808444977,
          1536.3626313209534,
          1536.4609956741333,
          1536.564481496811,
          1536.6640095710754,
          1536.763158082962,
          1536.8629369735718,
          1536.9626727104187,
          1537.0616796016693,
          1537.1621129512787,
          1537.2617573738098,
          1537.3618972301483,
          1537.462711572647,
          1537.562515258789,
          1537.6621596813202,
          1537.7639846801758,
          1537.8620209693909,
          1537.9622814655304,
          1538.0627496242523,
          1538.1621263027191,
          1538.2627971172333,
          1538.366781949997,
          1538.4637882709503,
          1538.563273191452,
          1538.66330909729,
          1538.7667174339294,
          1538.8636915683746,
          1538.9630060195923,
          1539.063859462738,
          1539.1625623703003,
          1539.2660901546478,
          1539.3630833625793,
          1539.464448928833,
          1539.5636985301971,
          1539.6643221378326,
          1539.7645237445831,
          1539.8643732070923,
          1539.9644606113434,
          1540.0639703273773,
          1540.1641156673431,
          1540.2658836841583,
          1540.3652892112732,
          1540.4671607017517,
          1540.5652508735657,
          1540.669272184372,
          1540.7651839256287,
          1540.8669271469116,
          1540.9673836231232,
          1541.0654036998749,
          1541.1660828590393,
          1541.2674746513367,
          1541.3676433563232,
          1541.4656250476837,
          1541.5665922164917,
          1541.6681351661682,
          1541.7672548294067,
          1541.867030620575,
          1541.9676649570465,
          1542.0670235157013,
          1542.1689057350159,
          1542.2671897411346,
          1542.3672127723694,
          1542.4686870574951,
          1542.5665442943573,
          1542.6705791950226,
          1542.7696046829224,
          1542.8668971061707,
          1542.966644525528,
          1543.0735685825348,
          1543.1732482910156,
          1543.267774105072,
          1543.3676788806915,
          1543.4672544002533,
          1543.5671184062958,
          1543.6677463054657,
          1543.7675108909607,
          1543.8679871559143,
          1543.9693717956543,
          1544.0663883686066,
          1544.1677677631378,
          1544.268888950348,
          1544.3663485050201,
          1544.4664885997772,
          1544.5660860538483,
          1544.6669471263885,
          1544.76717877388,
          1544.8672885894775,
          1544.9685242176056,
          1545.0670084953308,
          1545.1677951812744,
          1545.2673869132996,
          1545.3672273159027,
          1545.467891216278,
          1545.575178861618,
          1545.6677899360657,
          1545.7664551734924,
          1545.8665204048157,
          1545.9671485424042,
          1546.0674130916595,
          1546.1681797504425,
          1546.2676408290863,
          1546.367078781128,
          1546.4679577350616,
          1546.5685453414917,
          1546.6769742965698,
          1546.7727680206299,
          1546.8680868148804,
          1546.9686315059662,
          1547.069181919098,
          1547.167875289917,
          1547.2677521705627,
          1547.3686332702637,
          1547.4707067012787,
          1547.5683662891388,
          1547.6724834442139,
          1547.769639492035,
          1547.8712072372437,
          1547.9770529270172,
          1548.072209596634,
          1548.173274755478,
          1548.2715876102448,
          1548.371628522873,
          1548.4709198474884,
          1548.5714690685272,
          1548.671296596527,
          1548.7715110778809,
          1548.8716838359833,
          1548.97434091568,
          1549.070969581604,
          1549.174753665924,
          1549.2744188308716,
          1549.3733451366425,
          1549.4734070301056,
          1549.5742897987366,
          1549.6723790168762,
          1549.7728595733643,
          1549.8727250099182,
          1549.9772119522095,
          1550.0720105171204,
          1550.1710896492004,
          1550.2725031375885,
          1550.3713836669922,
          1550.4781966209412,
          1550.5779829025269,
          1550.6775233745575,
          1550.774284362793,
          1550.87375998497,
          1550.979849100113,
          1551.0752232074738,
          1551.1747436523438,
          1551.2786514759064,
          1551.3792498111725,
          1551.478197336197,
          1551.579080581665,
          1551.67942070961,
          1551.77863407135,
          1551.880181312561,
          1551.9783499240875,
          1552.0735130310059,
          1552.1743123531342,
          1552.2738902568817,
          1552.3736426830292,
          1552.4735062122345,
          1552.5737590789795,
          1552.6750376224518,
          1552.774917125702,
          1552.874896287918,
          1552.9747967720032,
          1553.0752203464508,
          1553.1760432720184,
          1553.2762243747711,
          1553.3725430965424,
          1553.472339630127,
          1553.5719089508057,
          1553.671792268753,
          1553.7730875015259,
          1553.8719074726105,
          1553.9732356071472,
          1554.072648525238,
          1554.172200679779,
          1554.2724151611328,
          1554.3731021881104,
          1554.4731767177582,
          1554.5727956295013,
          1554.673753976822,
          1554.7773764133453,
          1554.8747208118439,
          1554.9741613864899,
          1555.0747776031494,
          1555.1755096912384,
          1555.279501914978,
          1555.3744592666626,
          1555.4760527610779,
          1555.5740582942963,
          1555.6754522323608,
          1555.7753405570984,
          1555.8802742958069,
          1555.9759588241577,
          1556.074725151062,
          1556.1759669780731,
          1556.2756700515747,
          1556.3753113746643,
          1556.4837319850922,
          1556.5750107765198,
          1556.6751630306244,
          1556.7765123844147,
          1556.8782150745392,
          1556.9785902500153,
          1557.0765113830566,
          1557.1777567863464,
          1557.2783045768738,
          1557.3775517940521,
          1557.4797596931458,
          1557.5780041217804,
          1557.6780152320862,
          1557.7778115272522,
          1557.876960515976,
          1557.9770517349243,
          1558.076621055603,
          1558.180831193924,
          1558.2854754924774,
          1558.3767499923706,
          1558.4804351329803,
          1558.579921722412,
          1558.677288532257,
          1558.7769978046417,
          1558.8778581619263,
          1558.9787356853485,
          1559.0771126747131,
          1559.1767921447754,
          1559.278477191925,
          1559.378291606903,
          1559.4775824546814,
          1559.5807921886444,
          1559.6776638031006,
          1559.778058052063,
          1559.8830723762512,
          1559.9832768440247,
          1560.0840981006622,
          1560.1845769882202,
          1560.2789707183838,
          1560.3786268234253,
          1560.47776389122,
          1560.5785915851593,
          1560.6796667575836,
          1560.7791197299957,
          1560.87948346138,
          1560.978010892868,
          1561.0784831047058,
          1561.1786596775055,
          1561.2765908241272,
          1561.3838136196136,
          1561.4774813652039,
          1561.5815932750702,
          1561.6770639419556,
          1561.7776787281036,
          1561.877956867218,
          1561.9779877662659,
          1562.0776226520538,
          1562.1785109043121,
          1562.2782335281372,
          1562.3815352916718,
          1562.4804756641388,
          1562.5775909423828,
          1562.6809916496277,
          1562.7826879024506,
          1562.8828573226929,
          1562.9838132858276,
          1563.0780189037323,
          1563.1789796352386,
          1563.2802908420563,
          1563.3813588619232,
          1563.480254650116,
          1563.5809354782104,
          1563.680933713913,
          1563.7801339626312,
          1563.880723953247,
          1563.9811205863953,
          1564.0802714824677,
          1564.1794838905334,
          1564.2845251560211,
          1564.3794884681702,
          1564.4791498184204,
          1564.5835678577423,
          1564.6808955669403,
          1564.7788915634155,
          1564.8795139789581,
          1564.9836478233337,
          1565.07950258255,
          1565.1825184822083,
          1565.2819392681122,
          1565.380526304245,
          1565.4812269210815,
          1565.5805473327637,
          1565.684333562851,
          1565.785714149475,
          1565.8849048614502,
          1565.9807634353638,
          1566.0813398361206,
          1566.1810414791107,
          1566.283430814743,
          1566.383866071701,
          1566.484350681305,
          1566.5904591083527,
          1566.6800830364227,
          1566.7800760269165,
          1566.8805696964264,
          1566.9809465408325,
          1567.0811483860016,
          1567.1813688278198,
          1567.2823538780212,
          1567.3819682598114,
          1567.4816749095917,
          1567.5819344520569,
          1567.6825020313263,
          1567.781952381134,
          1567.881548166275,
          1567.982048034668,
          1568.0820636749268,
          1568.1820254325867,
          1568.281239271164,
          1568.3812518119812,
          1568.4811825752258,
          1568.5819082260132,
          1568.6818380355835,
          1568.7822697162628,
          1568.8816404342651,
          1568.9819226264954,
          1569.0865490436554,
          1569.186048746109,
          1569.282539844513,
          1569.3828761577606,
          1569.4822869300842,
          1569.58291721344,
          1569.6838479042053,
          1569.7846109867096,
          1569.8823783397675,
          1569.9836070537567,
          1570.0831260681152,
          1570.1819534301758,
          1570.2878515720367,
          1570.3924379348755,
          1570.4909138679504,
          1570.5902736186981,
          1570.6988174915314,
          1570.7904138565063,
          1570.8904962539673,
          1570.9899044036865,
          1571.0898532867432,
          1571.1898276805878,
          1571.289258480072,
          1571.3903584480286,
          1571.4897434711456,
          1571.5904321670532,
          1571.6920642852783,
          1571.7911806106567,
          1571.8918182849884,
          1571.9967155456543,
          1572.1017162799835,
          1572.2009263038635,
          1572.2912111282349,
          1572.3967843055725,
          1572.4991810321808,
          1572.5943253040314,
          1572.6906354427338,
          1572.7905294895172,
          1572.891780614853,
          1572.9911139011383,
          1573.0927135944366,
          1573.1920285224915
         ],
         "y": [
          90,
          90,
          90,
          90,
          90,
          90,
          90,
          90,
          90,
          90,
          90,
          90,
          90,
          90,
          90,
          90,
          90,
          90,
          90,
          90,
          90,
          90,
          90,
          90,
          90,
          90,
          90,
          90,
          90,
          90,
          90,
          90,
          90,
          90,
          90,
          90,
          90,
          90,
          90,
          90,
          90,
          90,
          90,
          90,
          90,
          90,
          90,
          90,
          90,
          90,
          90,
          90,
          90,
          90,
          90,
          90,
          90,
          90,
          90,
          90,
          90,
          90,
          90,
          90,
          90,
          90,
          90,
          90,
          90,
          90,
          90,
          90,
          90,
          90,
          90,
          90,
          90,
          90,
          90,
          90,
          90,
          90,
          90,
          90,
          90,
          90,
          90,
          90,
          90,
          90,
          90,
          90,
          90,
          90,
          90,
          90,
          90,
          90,
          90,
          90,
          90,
          90,
          90,
          90,
          90,
          90,
          90,
          90,
          90,
          90,
          90,
          90,
          90,
          90,
          90,
          90,
          90,
          90,
          90,
          90,
          90,
          90,
          90,
          90,
          90,
          90,
          90,
          90,
          90,
          90,
          90,
          90,
          90,
          90,
          90,
          90,
          90,
          90,
          90,
          90,
          90,
          90,
          90,
          90,
          90,
          90,
          90,
          90,
          90,
          90,
          90,
          90,
          90,
          90,
          90,
          90,
          90,
          90,
          90,
          90,
          90,
          90,
          90,
          90,
          90,
          90,
          90,
          90,
          90,
          90,
          90,
          90,
          90,
          90,
          90,
          90,
          90,
          90,
          90,
          90,
          90,
          90,
          90,
          90,
          90,
          90,
          90,
          90,
          90,
          90,
          90,
          90,
          90,
          90,
          90,
          90,
          90,
          90,
          90,
          90,
          90,
          90,
          90,
          90,
          90,
          90,
          90,
          90,
          90,
          90,
          90,
          90,
          90,
          90,
          90,
          90,
          90,
          90,
          90,
          90,
          90,
          90,
          90,
          90,
          90,
          90,
          90,
          90,
          90,
          90,
          90,
          90,
          90,
          90,
          90,
          90,
          90,
          90,
          90,
          90,
          90,
          90,
          90,
          90,
          90,
          90,
          90,
          90,
          90,
          90,
          90,
          90,
          90,
          90,
          90,
          90,
          90,
          90,
          90,
          90,
          90,
          90,
          90,
          90,
          90,
          90,
          90,
          90,
          90,
          90,
          90,
          90,
          90,
          90,
          90,
          90,
          90,
          90,
          90,
          90,
          90,
          90,
          90,
          90,
          90,
          90,
          90,
          90,
          90,
          90,
          90,
          90,
          90,
          90,
          90,
          90,
          90,
          90,
          90,
          90,
          90,
          90,
          90,
          90,
          90,
          90,
          90,
          90,
          90,
          90,
          90,
          90,
          90,
          90,
          90,
          90,
          90,
          90,
          90,
          90,
          90,
          90,
          90,
          90,
          90,
          90,
          90,
          90,
          90,
          90,
          90,
          90,
          90,
          90,
          90,
          90,
          90,
          90,
          90,
          90,
          90,
          90,
          90,
          90,
          90,
          90,
          90,
          90,
          90,
          90,
          90,
          90,
          90,
          90,
          90,
          90,
          90,
          90,
          90,
          90,
          90,
          90,
          90,
          90,
          90,
          90,
          90,
          90,
          90,
          90,
          90,
          90,
          90,
          90,
          90,
          90,
          90,
          90,
          90,
          90,
          90,
          90,
          90,
          90,
          90,
          90,
          90,
          90,
          90,
          90,
          90,
          90,
          90,
          90,
          90,
          90,
          90,
          90,
          90,
          90,
          90,
          90,
          90,
          90,
          90,
          90,
          90,
          90,
          90,
          90,
          90,
          90,
          90,
          90,
          90,
          90,
          90,
          90,
          90,
          90,
          90,
          90,
          90,
          90,
          90,
          90,
          90,
          90,
          90,
          90,
          90,
          90,
          90,
          90,
          90,
          90,
          90,
          90,
          90,
          90,
          90,
          90,
          90,
          90,
          90,
          90,
          90,
          90,
          90,
          90,
          90,
          90,
          90,
          90,
          90,
          90,
          90,
          90,
          90,
          90,
          90,
          90,
          90,
          90,
          90,
          90,
          90,
          90,
          90,
          90,
          90,
          90,
          90,
          90,
          90,
          90,
          90,
          90,
          90,
          90,
          90,
          90,
          90,
          90,
          90,
          90,
          90,
          90,
          90,
          90,
          90,
          90,
          90,
          90,
          90,
          90,
          90,
          90,
          90,
          90,
          90,
          90,
          90,
          90,
          90,
          90,
          90,
          90,
          90,
          90,
          90,
          90,
          90,
          90,
          90,
          90,
          90,
          90,
          90,
          90,
          90,
          90,
          90,
          90,
          90,
          90,
          90,
          90,
          90,
          90,
          90,
          90,
          90,
          90,
          90,
          90,
          90,
          90,
          90,
          90,
          90,
          90,
          90,
          90,
          90,
          90,
          90,
          90,
          90,
          90,
          90,
          90,
          90,
          90,
          90,
          90,
          90,
          90,
          90,
          90,
          90,
          90,
          90,
          90,
          90,
          90,
          90,
          90,
          90,
          90,
          90,
          90,
          90,
          90,
          90,
          90,
          90,
          90,
          90,
          90,
          90,
          90,
          90,
          90,
          90,
          90,
          90,
          90,
          90,
          90,
          90,
          90,
          90,
          90,
          90,
          90,
          90,
          90,
          90,
          90,
          90,
          90,
          90,
          90,
          90,
          90,
          90,
          90,
          90,
          90,
          90,
          90,
          90,
          90,
          90,
          90,
          90,
          90,
          90,
          90,
          90,
          90,
          90,
          90,
          90,
          90,
          90,
          90,
          90,
          90,
          90,
          90,
          90,
          90,
          90,
          90,
          90,
          90,
          90,
          90,
          90,
          90,
          90,
          90,
          90,
          90,
          90,
          90,
          90,
          90,
          90,
          90,
          90,
          90,
          90,
          90,
          90,
          90,
          90,
          90,
          90,
          90,
          90,
          90,
          90,
          90,
          90,
          90,
          90,
          90,
          90,
          90,
          90,
          90,
          90,
          90,
          90,
          90,
          90,
          90,
          90,
          90,
          90,
          90,
          90,
          90,
          90,
          90,
          90,
          90,
          90,
          90,
          90,
          90,
          90,
          90,
          90,
          90,
          90,
          90,
          90,
          90,
          90,
          90,
          90,
          90,
          90,
          90,
          90,
          90,
          90,
          90,
          90,
          90,
          90,
          90,
          90,
          90,
          90,
          90,
          90,
          90,
          90,
          90,
          90,
          90,
          90,
          90,
          90,
          90,
          90,
          90,
          90,
          90,
          90,
          90,
          90,
          90,
          90
         ]
        }
       ],
       "layout": {
        "autosize": false,
        "font": {
         "color": "black",
         "family": "Courier New, monospace",
         "size": 22
        },
        "height": 600,
        "template": {
         "data": {
          "bar": [
           {
            "error_x": {
             "color": "#2a3f5f"
            },
            "error_y": {
             "color": "#2a3f5f"
            },
            "marker": {
             "line": {
              "color": "#E5ECF6",
              "width": 0.5
             },
             "pattern": {
              "fillmode": "overlay",
              "size": 10,
              "solidity": 0.2
             }
            },
            "type": "bar"
           }
          ],
          "barpolar": [
           {
            "marker": {
             "line": {
              "color": "#E5ECF6",
              "width": 0.5
             },
             "pattern": {
              "fillmode": "overlay",
              "size": 10,
              "solidity": 0.2
             }
            },
            "type": "barpolar"
           }
          ],
          "carpet": [
           {
            "aaxis": {
             "endlinecolor": "#2a3f5f",
             "gridcolor": "white",
             "linecolor": "white",
             "minorgridcolor": "white",
             "startlinecolor": "#2a3f5f"
            },
            "baxis": {
             "endlinecolor": "#2a3f5f",
             "gridcolor": "white",
             "linecolor": "white",
             "minorgridcolor": "white",
             "startlinecolor": "#2a3f5f"
            },
            "type": "carpet"
           }
          ],
          "choropleth": [
           {
            "colorbar": {
             "outlinewidth": 0,
             "ticks": ""
            },
            "type": "choropleth"
           }
          ],
          "contour": [
           {
            "colorbar": {
             "outlinewidth": 0,
             "ticks": ""
            },
            "colorscale": [
             [
              0,
              "#0d0887"
             ],
             [
              0.1111111111111111,
              "#46039f"
             ],
             [
              0.2222222222222222,
              "#7201a8"
             ],
             [
              0.3333333333333333,
              "#9c179e"
             ],
             [
              0.4444444444444444,
              "#bd3786"
             ],
             [
              0.5555555555555556,
              "#d8576b"
             ],
             [
              0.6666666666666666,
              "#ed7953"
             ],
             [
              0.7777777777777778,
              "#fb9f3a"
             ],
             [
              0.8888888888888888,
              "#fdca26"
             ],
             [
              1,
              "#f0f921"
             ]
            ],
            "type": "contour"
           }
          ],
          "contourcarpet": [
           {
            "colorbar": {
             "outlinewidth": 0,
             "ticks": ""
            },
            "type": "contourcarpet"
           }
          ],
          "heatmap": [
           {
            "colorbar": {
             "outlinewidth": 0,
             "ticks": ""
            },
            "colorscale": [
             [
              0,
              "#0d0887"
             ],
             [
              0.1111111111111111,
              "#46039f"
             ],
             [
              0.2222222222222222,
              "#7201a8"
             ],
             [
              0.3333333333333333,
              "#9c179e"
             ],
             [
              0.4444444444444444,
              "#bd3786"
             ],
             [
              0.5555555555555556,
              "#d8576b"
             ],
             [
              0.6666666666666666,
              "#ed7953"
             ],
             [
              0.7777777777777778,
              "#fb9f3a"
             ],
             [
              0.8888888888888888,
              "#fdca26"
             ],
             [
              1,
              "#f0f921"
             ]
            ],
            "type": "heatmap"
           }
          ],
          "heatmapgl": [
           {
            "colorbar": {
             "outlinewidth": 0,
             "ticks": ""
            },
            "colorscale": [
             [
              0,
              "#0d0887"
             ],
             [
              0.1111111111111111,
              "#46039f"
             ],
             [
              0.2222222222222222,
              "#7201a8"
             ],
             [
              0.3333333333333333,
              "#9c179e"
             ],
             [
              0.4444444444444444,
              "#bd3786"
             ],
             [
              0.5555555555555556,
              "#d8576b"
             ],
             [
              0.6666666666666666,
              "#ed7953"
             ],
             [
              0.7777777777777778,
              "#fb9f3a"
             ],
             [
              0.8888888888888888,
              "#fdca26"
             ],
             [
              1,
              "#f0f921"
             ]
            ],
            "type": "heatmapgl"
           }
          ],
          "histogram": [
           {
            "marker": {
             "pattern": {
              "fillmode": "overlay",
              "size": 10,
              "solidity": 0.2
             }
            },
            "type": "histogram"
           }
          ],
          "histogram2d": [
           {
            "colorbar": {
             "outlinewidth": 0,
             "ticks": ""
            },
            "colorscale": [
             [
              0,
              "#0d0887"
             ],
             [
              0.1111111111111111,
              "#46039f"
             ],
             [
              0.2222222222222222,
              "#7201a8"
             ],
             [
              0.3333333333333333,
              "#9c179e"
             ],
             [
              0.4444444444444444,
              "#bd3786"
             ],
             [
              0.5555555555555556,
              "#d8576b"
             ],
             [
              0.6666666666666666,
              "#ed7953"
             ],
             [
              0.7777777777777778,
              "#fb9f3a"
             ],
             [
              0.8888888888888888,
              "#fdca26"
             ],
             [
              1,
              "#f0f921"
             ]
            ],
            "type": "histogram2d"
           }
          ],
          "histogram2dcontour": [
           {
            "colorbar": {
             "outlinewidth": 0,
             "ticks": ""
            },
            "colorscale": [
             [
              0,
              "#0d0887"
             ],
             [
              0.1111111111111111,
              "#46039f"
             ],
             [
              0.2222222222222222,
              "#7201a8"
             ],
             [
              0.3333333333333333,
              "#9c179e"
             ],
             [
              0.4444444444444444,
              "#bd3786"
             ],
             [
              0.5555555555555556,
              "#d8576b"
             ],
             [
              0.6666666666666666,
              "#ed7953"
             ],
             [
              0.7777777777777778,
              "#fb9f3a"
             ],
             [
              0.8888888888888888,
              "#fdca26"
             ],
             [
              1,
              "#f0f921"
             ]
            ],
            "type": "histogram2dcontour"
           }
          ],
          "mesh3d": [
           {
            "colorbar": {
             "outlinewidth": 0,
             "ticks": ""
            },
            "type": "mesh3d"
           }
          ],
          "parcoords": [
           {
            "line": {
             "colorbar": {
              "outlinewidth": 0,
              "ticks": ""
             }
            },
            "type": "parcoords"
           }
          ],
          "pie": [
           {
            "automargin": true,
            "type": "pie"
           }
          ],
          "scatter": [
           {
            "fillpattern": {
             "fillmode": "overlay",
             "size": 10,
             "solidity": 0.2
            },
            "type": "scatter"
           }
          ],
          "scatter3d": [
           {
            "line": {
             "colorbar": {
              "outlinewidth": 0,
              "ticks": ""
             }
            },
            "marker": {
             "colorbar": {
              "outlinewidth": 0,
              "ticks": ""
             }
            },
            "type": "scatter3d"
           }
          ],
          "scattercarpet": [
           {
            "marker": {
             "colorbar": {
              "outlinewidth": 0,
              "ticks": ""
             }
            },
            "type": "scattercarpet"
           }
          ],
          "scattergeo": [
           {
            "marker": {
             "colorbar": {
              "outlinewidth": 0,
              "ticks": ""
             }
            },
            "type": "scattergeo"
           }
          ],
          "scattergl": [
           {
            "marker": {
             "colorbar": {
              "outlinewidth": 0,
              "ticks": ""
             }
            },
            "type": "scattergl"
           }
          ],
          "scattermapbox": [
           {
            "marker": {
             "colorbar": {
              "outlinewidth": 0,
              "ticks": ""
             }
            },
            "type": "scattermapbox"
           }
          ],
          "scatterpolar": [
           {
            "marker": {
             "colorbar": {
              "outlinewidth": 0,
              "ticks": ""
             }
            },
            "type": "scatterpolar"
           }
          ],
          "scatterpolargl": [
           {
            "marker": {
             "colorbar": {
              "outlinewidth": 0,
              "ticks": ""
             }
            },
            "type": "scatterpolargl"
           }
          ],
          "scatterternary": [
           {
            "marker": {
             "colorbar": {
              "outlinewidth": 0,
              "ticks": ""
             }
            },
            "type": "scatterternary"
           }
          ],
          "surface": [
           {
            "colorbar": {
             "outlinewidth": 0,
             "ticks": ""
            },
            "colorscale": [
             [
              0,
              "#0d0887"
             ],
             [
              0.1111111111111111,
              "#46039f"
             ],
             [
              0.2222222222222222,
              "#7201a8"
             ],
             [
              0.3333333333333333,
              "#9c179e"
             ],
             [
              0.4444444444444444,
              "#bd3786"
             ],
             [
              0.5555555555555556,
              "#d8576b"
             ],
             [
              0.6666666666666666,
              "#ed7953"
             ],
             [
              0.7777777777777778,
              "#fb9f3a"
             ],
             [
              0.8888888888888888,
              "#fdca26"
             ],
             [
              1,
              "#f0f921"
             ]
            ],
            "type": "surface"
           }
          ],
          "table": [
           {
            "cells": {
             "fill": {
              "color": "#EBF0F8"
             },
             "line": {
              "color": "white"
             }
            },
            "header": {
             "fill": {
              "color": "#C8D4E3"
             },
             "line": {
              "color": "white"
             }
            },
            "type": "table"
           }
          ]
         },
         "layout": {
          "annotationdefaults": {
           "arrowcolor": "#2a3f5f",
           "arrowhead": 0,
           "arrowwidth": 1
          },
          "autotypenumbers": "strict",
          "coloraxis": {
           "colorbar": {
            "outlinewidth": 0,
            "ticks": ""
           }
          },
          "colorscale": {
           "diverging": [
            [
             0,
             "#8e0152"
            ],
            [
             0.1,
             "#c51b7d"
            ],
            [
             0.2,
             "#de77ae"
            ],
            [
             0.3,
             "#f1b6da"
            ],
            [
             0.4,
             "#fde0ef"
            ],
            [
             0.5,
             "#f7f7f7"
            ],
            [
             0.6,
             "#e6f5d0"
            ],
            [
             0.7,
             "#b8e186"
            ],
            [
             0.8,
             "#7fbc41"
            ],
            [
             0.9,
             "#4d9221"
            ],
            [
             1,
             "#276419"
            ]
           ],
           "sequential": [
            [
             0,
             "#0d0887"
            ],
            [
             0.1111111111111111,
             "#46039f"
            ],
            [
             0.2222222222222222,
             "#7201a8"
            ],
            [
             0.3333333333333333,
             "#9c179e"
            ],
            [
             0.4444444444444444,
             "#bd3786"
            ],
            [
             0.5555555555555556,
             "#d8576b"
            ],
            [
             0.6666666666666666,
             "#ed7953"
            ],
            [
             0.7777777777777778,
             "#fb9f3a"
            ],
            [
             0.8888888888888888,
             "#fdca26"
            ],
            [
             1,
             "#f0f921"
            ]
           ],
           "sequentialminus": [
            [
             0,
             "#0d0887"
            ],
            [
             0.1111111111111111,
             "#46039f"
            ],
            [
             0.2222222222222222,
             "#7201a8"
            ],
            [
             0.3333333333333333,
             "#9c179e"
            ],
            [
             0.4444444444444444,
             "#bd3786"
            ],
            [
             0.5555555555555556,
             "#d8576b"
            ],
            [
             0.6666666666666666,
             "#ed7953"
            ],
            [
             0.7777777777777778,
             "#fb9f3a"
            ],
            [
             0.8888888888888888,
             "#fdca26"
            ],
            [
             1,
             "#f0f921"
            ]
           ]
          },
          "colorway": [
           "#636efa",
           "#EF553B",
           "#00cc96",
           "#ab63fa",
           "#FFA15A",
           "#19d3f3",
           "#FF6692",
           "#B6E880",
           "#FF97FF",
           "#FECB52"
          ],
          "font": {
           "color": "#2a3f5f"
          },
          "geo": {
           "bgcolor": "white",
           "lakecolor": "white",
           "landcolor": "#E5ECF6",
           "showlakes": true,
           "showland": true,
           "subunitcolor": "white"
          },
          "hoverlabel": {
           "align": "left"
          },
          "hovermode": "closest",
          "mapbox": {
           "style": "light"
          },
          "paper_bgcolor": "white",
          "plot_bgcolor": "#E5ECF6",
          "polar": {
           "angularaxis": {
            "gridcolor": "white",
            "linecolor": "white",
            "ticks": ""
           },
           "bgcolor": "#E5ECF6",
           "radialaxis": {
            "gridcolor": "white",
            "linecolor": "white",
            "ticks": ""
           }
          },
          "scene": {
           "xaxis": {
            "backgroundcolor": "#E5ECF6",
            "gridcolor": "white",
            "gridwidth": 2,
            "linecolor": "white",
            "showbackground": true,
            "ticks": "",
            "zerolinecolor": "white"
           },
           "yaxis": {
            "backgroundcolor": "#E5ECF6",
            "gridcolor": "white",
            "gridwidth": 2,
            "linecolor": "white",
            "showbackground": true,
            "ticks": "",
            "zerolinecolor": "white"
           },
           "zaxis": {
            "backgroundcolor": "#E5ECF6",
            "gridcolor": "white",
            "gridwidth": 2,
            "linecolor": "white",
            "showbackground": true,
            "ticks": "",
            "zerolinecolor": "white"
           }
          },
          "shapedefaults": {
           "line": {
            "color": "#2a3f5f"
           }
          },
          "ternary": {
           "aaxis": {
            "gridcolor": "white",
            "linecolor": "white",
            "ticks": ""
           },
           "baxis": {
            "gridcolor": "white",
            "linecolor": "white",
            "ticks": ""
           },
           "bgcolor": "#E5ECF6",
           "caxis": {
            "gridcolor": "white",
            "linecolor": "white",
            "ticks": ""
           }
          },
          "title": {
           "x": 0.05
          },
          "xaxis": {
           "automargin": true,
           "gridcolor": "white",
           "linecolor": "white",
           "ticks": "",
           "title": {
            "standoff": 15
           },
           "zerolinecolor": "white",
           "zerolinewidth": 2
          },
          "yaxis": {
           "automargin": true,
           "gridcolor": "white",
           "linecolor": "white",
           "ticks": "",
           "title": {
            "standoff": 15
           },
           "zerolinecolor": "white",
           "zerolinewidth": 2
          }
         }
        },
        "title": {
         "text": "Range of Motion ankleLeft"
        },
        "width": 750,
        "xaxis": {
         "title": {
          "font": {
           "color": "#7f7f7f",
           "family": "Courier New, monospace",
           "size": 18
          },
          "text": "time [s]"
         }
        },
        "yaxis": {
         "title": {
          "font": {
           "color": "#7f7f7f",
           "family": "Courier New, monospace",
           "size": 18
          },
          "text": "ROM [gradi]"
         }
        }
       }
      },
      "text/html": [
       "<div>                            <div id=\"0a31ec71-6488-4775-8d86-cbb3efa5e45d\" class=\"plotly-graph-div\" style=\"height:600px; width:750px;\"></div>            <script type=\"text/javascript\">                require([\"plotly\"], function(Plotly) {                    window.PLOTLYENV=window.PLOTLYENV || {};                                    if (document.getElementById(\"0a31ec71-6488-4775-8d86-cbb3efa5e45d\")) {                    Plotly.newPlot(                        \"0a31ec71-6488-4775-8d86-cbb3efa5e45d\",                        [{\"line\":{\"color\":\"blue\",\"width\":3},\"mode\":\"lines\",\"name\":\"Andamento Reale\",\"x\":[1499.2411363124847,1499.3432846069336,1499.4427211284637,1499.54013133049,1499.6420300006866,1499.744064092636,1499.8401839733124,1499.9462168216705,1500.0419936180115,1500.1414563655853,1500.2422320842743,1500.3411314487457,1500.441514492035,1500.541243314743,1500.6429286003113,1500.7421760559082,1500.8417778015137,1500.9413657188416,1501.0417659282684,1501.1428897380829,1501.240436553955,1501.3419153690338,1501.441132068634,1501.5403683185577,1501.6449313163757,1501.7413523197174,1501.8423101902008,1501.9408650398254,1502.04141497612,1502.1416535377502,1502.2421522140503,1502.3436872959137,1502.4428606033325,1502.5419516563416,1502.6438164710999,1502.739751815796,1502.839929819107,1502.9432377815247,1503.0396859645844,1503.1407148838043,1503.2416439056396,1503.3399159908295,1503.4405806064606,1503.542091369629,1503.6399137973785,1503.7397291660309,1503.8402659893036,1503.9417126178741,1504.0408883094788,1504.1431605815887,1504.2412109375,1504.3424327373505,1504.442084312439,1504.5419890880585,1504.6418566703796,1504.7421357631683,1504.8420453071594,1504.9417133331299,1505.0427649021149,1505.1421146392822,1505.2413144111633,1505.3408071994781,1505.4415457248688,1505.542934179306,1505.6415820121765,1505.741807460785,1505.8417615890503,1505.9422342777252,1506.0417664051056,1506.142252922058,1506.2424128055573,1506.3428943157196,1506.4433236122131,1506.5426783561707,1506.6421117782593,1506.74356341362,1506.8419032096863,1506.9436628818512,1507.042890548706,1507.143632888794,1507.2437996864319,1507.34317612648,1507.4439723491669,1507.5464203357697,1507.646990776062,1507.743609905243,1507.844081878662,1507.944857597351,1508.0438890457153,1508.143606185913,1508.2456514835358,1508.3450417518616,1508.444191455841,1508.5442969799042,1508.6431493759155,1508.7441477775574,1508.8442180156708,1508.9457623958588,1509.0446989536285,1509.1442427635193,1509.2483496665955,1509.348049879074,1509.447769165039,1509.5452642440796,1509.6454932689667,1509.7466208934784,1509.8461413383484,1509.9450035095215,1510.0446655750275,1510.1453218460083,1510.2444643974304,1510.3476753234863,1510.444744348526,1510.5449130535126,1510.6449630260468,1510.7453105449677,1510.8460247516632,1510.9460620880127,1511.0450239181519,1511.147045135498,1511.2464575767517,1511.3476495742798,1511.4461619853973,1511.5460538864136,1511.6458253860474,1511.7523272037506,1511.8473920822144,1511.9467968940735,1512.0458340644836,1512.14905834198,1512.2465064525604,1512.3464360237122,1512.4465262889862,1512.5464425086975,1512.6461458206177,1512.7456891536713,1512.846199274063,1512.9469623565674,1513.046472787857,1513.1472702026367,1513.2464673519135,1513.3472352027893,1513.4477665424347,1513.5469961166382,1513.6465792655945,1513.7474553585052,1513.8473408222198,1513.9478917121887,1514.048181295395,1514.1470139026642,1514.2469763755798,1514.347504377365,1514.4472517967224,1514.548014163971,1514.6466579437256,1514.747255563736,1514.8468098640442,1514.9472517967224,1515.0483257770538,1515.1476039886475,1515.2474853992462,1515.349123954773,1515.448129415512,1515.5479564666748,1515.6483643054962,1515.7478876113892,1515.848218679428,1515.9479448795319,1516.0482194423676,1516.149117231369,1516.24773478508,1516.3488357067108,1516.4485018253326,1516.548581123352,1516.6529862880707,1516.7489988803864,1516.8483703136444,1516.9493639469147,1517.0485661029816,1517.1542015075684,1517.2489612102509,1517.3534693717957,1517.4531128406525,1517.553725719452,1517.6531822681427,1517.7508800029755,1517.8505020141602,1517.9501507282257,1518.0533425807953,1518.154797554016,1518.252271413803,1518.3584887981415,1518.4496307373047,1518.5517852306366,1518.6547417640686,1518.751220703125,1518.8547055721283,1518.9500937461853,1519.0509328842163,1519.1500902175903,1519.2508342266083,1519.3509469032288,1519.4529166221619,1519.552564382553,1519.6508638858795,1519.7502257823944,1519.8513631820679,1519.9507722854614,1520.0511844158173,1520.1549203395844,1520.2553119659424,1520.355444908142,1520.4572768211365,1520.5562913417816,1520.6547539234161,1520.7517511844635,1520.852136850357,1520.956214427948,1521.0517673492432,1521.151982307434,1521.2533135414124,1521.3525230884552,1521.4546430110931,1521.5537049770355,1521.6560616493225,1521.756957769394,1521.861038684845,1521.9608080387115,1522.0553195476532,1522.1532826423645,1522.2527394294739,1522.3522148132324,1522.4540903568268,1522.5571751594543,1522.654535293579,1522.7544548511505,1522.8560378551483,1522.953887462616,1523.0526440143585,1523.1566863059998,1523.2580780982971,1523.3567478656769,1523.454469203949,1523.5542244911194,1523.658311843872,1523.7581009864807,1523.8582689762115,1523.953364610672,1524.054563999176,1524.1584029197693,1524.2576098442078,1524.3543453216553,1524.4550700187683,1524.5540347099304,1524.6535897254944,1524.753868341446,1524.853411436081,1524.95521068573,1525.054139137268,1525.1547272205353,1525.2555606365204,1525.3549020290375,1525.4566402435303,1525.5587475299835,1525.6535289287567,1525.7547373771667,1525.8536713123322,1525.9546175003052,1526.0546753406525,1526.1549615859985,1526.255040884018,1526.3548610210419,1526.454764842987,1526.5555267333984,1526.6554877758026,1526.7556302547455,1526.8551664352417,1526.9557905197144,1527.0557622909546,1527.1561093330383,1527.2571275234222,1527.356971502304,1527.457272529602,1527.5553719997406,1527.6574912071228,1527.757332086563,1527.8562273979187,1527.9594457149506,1528.0566897392273,1528.1583421230316,1528.2581007480621,1528.355853319168,1528.4608187675476,1528.5574316978455,1528.6561155319214,1528.7592558860779,1528.8586099147797,1528.9628987312317,1529.0560810565948,1529.1571590900421,1529.2560682296753,1529.3564767837524,1529.456878900528,1529.5586001873016,1529.657800912857,1529.7575800418854,1529.8577151298523,1529.9580373764038,1530.0567288398743,1530.157428264618,1530.2587399482727,1530.3589704036713,1530.457849740982,1530.5578382015228,1530.658446073532,1530.757824897766,1530.8616199493408,1530.960708618164,1531.059900522232,1531.162596464157,1531.2573883533478,1531.3600792884827,1531.458923816681,1531.5627195835114,1531.6612637043,1531.7576656341553,1531.8620171546936,1531.9599452018738,1532.0599632263184,1532.1607375144958,1532.259782075882,1532.3589525222778,1532.4589982032776,1532.5596570968628,1532.660763502121,1532.759989976883,1532.859920501709,1532.9633507728577,1533.0590443611145,1533.159485578537,1533.2591478824615,1533.358909368515,1533.4588725566864,1533.5592203140259,1533.6601333618164,1533.758960723877,1533.8600804805756,1533.9596378803253,1534.0594065189362,1534.1598281860352,1534.2596225738525,1534.360122680664,1534.4612867832184,1534.5604510307312,1534.6615297794342,1534.76198220253,1534.8614101409912,1534.9614522457123,1535.0600357055664,1535.1603939533234,1535.2622575759888,1535.3602058887482,1535.462120294571,1535.56028008461,1535.6601366996765,1535.7611837387085,1535.8639693260193,1535.9614548683167,1536.06116604805,1536.1607356071472,1536.2609808444977,1536.3626313209534,1536.4609956741333,1536.564481496811,1536.6640095710754,1536.763158082962,1536.8629369735718,1536.9626727104187,1537.0616796016693,1537.1621129512787,1537.2617573738098,1537.3618972301483,1537.462711572647,1537.562515258789,1537.6621596813202,1537.7639846801758,1537.8620209693909,1537.9622814655304,1538.0627496242523,1538.1621263027191,1538.2627971172333,1538.366781949997,1538.4637882709503,1538.563273191452,1538.66330909729,1538.7667174339294,1538.8636915683746,1538.9630060195923,1539.063859462738,1539.1625623703003,1539.2660901546478,1539.3630833625793,1539.464448928833,1539.5636985301971,1539.6643221378326,1539.7645237445831,1539.8643732070923,1539.9644606113434,1540.0639703273773,1540.1641156673431,1540.2658836841583,1540.3652892112732,1540.4671607017517,1540.5652508735657,1540.669272184372,1540.7651839256287,1540.8669271469116,1540.9673836231232,1541.0654036998749,1541.1660828590393,1541.2674746513367,1541.3676433563232,1541.4656250476837,1541.5665922164917,1541.6681351661682,1541.7672548294067,1541.867030620575,1541.9676649570465,1542.0670235157013,1542.1689057350159,1542.2671897411346,1542.3672127723694,1542.4686870574951,1542.5665442943573,1542.6705791950226,1542.7696046829224,1542.8668971061707,1542.966644525528,1543.0735685825348,1543.1732482910156,1543.267774105072,1543.3676788806915,1543.4672544002533,1543.5671184062958,1543.6677463054657,1543.7675108909607,1543.8679871559143,1543.9693717956543,1544.0663883686066,1544.1677677631378,1544.268888950348,1544.3663485050201,1544.4664885997772,1544.5660860538483,1544.6669471263885,1544.76717877388,1544.8672885894775,1544.9685242176056,1545.0670084953308,1545.1677951812744,1545.2673869132996,1545.3672273159027,1545.467891216278,1545.575178861618,1545.6677899360657,1545.7664551734924,1545.8665204048157,1545.9671485424042,1546.0674130916595,1546.1681797504425,1546.2676408290863,1546.367078781128,1546.4679577350616,1546.5685453414917,1546.6769742965698,1546.7727680206299,1546.8680868148804,1546.9686315059662,1547.069181919098,1547.167875289917,1547.2677521705627,1547.3686332702637,1547.4707067012787,1547.5683662891388,1547.6724834442139,1547.769639492035,1547.8712072372437,1547.9770529270172,1548.072209596634,1548.173274755478,1548.2715876102448,1548.371628522873,1548.4709198474884,1548.5714690685272,1548.671296596527,1548.7715110778809,1548.8716838359833,1548.97434091568,1549.070969581604,1549.174753665924,1549.2744188308716,1549.3733451366425,1549.4734070301056,1549.5742897987366,1549.6723790168762,1549.7728595733643,1549.8727250099182,1549.9772119522095,1550.0720105171204,1550.1710896492004,1550.2725031375885,1550.3713836669922,1550.4781966209412,1550.5779829025269,1550.6775233745575,1550.774284362793,1550.87375998497,1550.979849100113,1551.0752232074738,1551.1747436523438,1551.2786514759064,1551.3792498111725,1551.478197336197,1551.579080581665,1551.67942070961,1551.77863407135,1551.880181312561,1551.9783499240875,1552.0735130310059,1552.1743123531342,1552.2738902568817,1552.3736426830292,1552.4735062122345,1552.5737590789795,1552.6750376224518,1552.774917125702,1552.874896287918,1552.9747967720032,1553.0752203464508,1553.1760432720184,1553.2762243747711,1553.3725430965424,1553.472339630127,1553.5719089508057,1553.671792268753,1553.7730875015259,1553.8719074726105,1553.9732356071472,1554.072648525238,1554.172200679779,1554.2724151611328,1554.3731021881104,1554.4731767177582,1554.5727956295013,1554.673753976822,1554.7773764133453,1554.8747208118439,1554.9741613864899,1555.0747776031494,1555.1755096912384,1555.279501914978,1555.3744592666626,1555.4760527610779,1555.5740582942963,1555.6754522323608,1555.7753405570984,1555.8802742958069,1555.9759588241577,1556.074725151062,1556.1759669780731,1556.2756700515747,1556.3753113746643,1556.4837319850922,1556.5750107765198,1556.6751630306244,1556.7765123844147,1556.8782150745392,1556.9785902500153,1557.0765113830566,1557.1777567863464,1557.2783045768738,1557.3775517940521,1557.4797596931458,1557.5780041217804,1557.6780152320862,1557.7778115272522,1557.876960515976,1557.9770517349243,1558.076621055603,1558.180831193924,1558.2854754924774,1558.3767499923706,1558.4804351329803,1558.579921722412,1558.677288532257,1558.7769978046417,1558.8778581619263,1558.9787356853485,1559.0771126747131,1559.1767921447754,1559.278477191925,1559.378291606903,1559.4775824546814,1559.5807921886444,1559.6776638031006,1559.778058052063,1559.8830723762512,1559.9832768440247,1560.0840981006622,1560.1845769882202,1560.2789707183838,1560.3786268234253,1560.47776389122,1560.5785915851593,1560.6796667575836,1560.7791197299957,1560.87948346138,1560.978010892868,1561.0784831047058,1561.1786596775055,1561.2765908241272,1561.3838136196136,1561.4774813652039,1561.5815932750702,1561.6770639419556,1561.7776787281036,1561.877956867218,1561.9779877662659,1562.0776226520538,1562.1785109043121,1562.2782335281372,1562.3815352916718,1562.4804756641388,1562.5775909423828,1562.6809916496277,1562.7826879024506,1562.8828573226929,1562.9838132858276,1563.0780189037323,1563.1789796352386,1563.2802908420563,1563.3813588619232,1563.480254650116,1563.5809354782104,1563.680933713913,1563.7801339626312,1563.880723953247,1563.9811205863953,1564.0802714824677,1564.1794838905334,1564.2845251560211,1564.3794884681702,1564.4791498184204,1564.5835678577423,1564.6808955669403,1564.7788915634155,1564.8795139789581,1564.9836478233337,1565.07950258255,1565.1825184822083,1565.2819392681122,1565.380526304245,1565.4812269210815,1565.5805473327637,1565.684333562851,1565.785714149475,1565.8849048614502,1565.9807634353638,1566.0813398361206,1566.1810414791107,1566.283430814743,1566.383866071701,1566.484350681305,1566.5904591083527,1566.6800830364227,1566.7800760269165,1566.8805696964264,1566.9809465408325,1567.0811483860016,1567.1813688278198,1567.2823538780212,1567.3819682598114,1567.4816749095917,1567.5819344520569,1567.6825020313263,1567.781952381134,1567.881548166275,1567.982048034668,1568.0820636749268,1568.1820254325867,1568.281239271164,1568.3812518119812,1568.4811825752258,1568.5819082260132,1568.6818380355835,1568.7822697162628,1568.8816404342651,1568.9819226264954,1569.0865490436554,1569.186048746109,1569.282539844513,1569.3828761577606,1569.4822869300842,1569.58291721344,1569.6838479042053,1569.7846109867096,1569.8823783397675,1569.9836070537567,1570.0831260681152,1570.1819534301758,1570.2878515720367,1570.3924379348755,1570.4909138679504,1570.5902736186981,1570.6988174915314,1570.7904138565063,1570.8904962539673,1570.9899044036865,1571.0898532867432,1571.1898276805878,1571.289258480072,1571.3903584480286,1571.4897434711456,1571.5904321670532,1571.6920642852783,1571.7911806106567,1571.8918182849884,1571.9967155456543,1572.1017162799835,1572.2009263038635,1572.2912111282349,1572.3967843055725,1572.4991810321808,1572.5943253040314,1572.6906354427338,1572.7905294895172,1572.891780614853,1572.9911139011383,1573.0927135944366,1573.1920285224915],\"y\":[90.0,90.0,90.0,90.0,90.0,90.0,90.0,90.0,90.0,90.0,90.0,90.0,90.0,90.0,90.0,90.0,90.0,90.0,90.0,90.0,90.0,90.0,90.0,90.0,90.0,90.0,90.0,90.0,90.0,90.0,90.0,90.0,90.0,90.0,90.0,90.0,90.0,90.0,90.0,90.0,90.0,90.0,90.0,90.0,90.0,90.0,90.0,90.0,90.0,90.0,90.0,90.0,90.0,90.0,90.0,90.0,90.0,90.0,90.0,90.0,90.0,90.0,90.0,90.0,90.0,90.0,90.0,90.0,90.0,90.0,90.0,90.0,90.0,90.0,90.0,90.0,90.0,90.0,90.0,90.0,90.0,90.0,90.0,90.0,90.0,90.0,90.0,90.0,90.0,90.0,90.0,90.0,90.0,90.0,90.0,90.0,90.0,90.0,90.0,90.0,90.0,90.0,90.0,90.0,90.0,90.0,90.0,90.0,90.0,90.0,90.0,90.0,90.0,90.0,90.0,90.0,90.0,90.0,90.0,90.0,90.0,90.0,90.0,90.0,90.0,90.0,90.0,90.0,90.0,90.0,90.0,90.0,90.0,90.0,90.0,90.0,90.0,90.0,90.0,90.0,90.0,90.0,90.0,90.0,90.0,90.0,90.0,90.0,90.0,90.0,90.0,90.0,90.0,90.0,90.0,90.0,90.0,90.0,90.0,90.0,90.0,90.0,90.0,90.0,90.0,90.0,90.0,90.0,90.0,90.0,90.0,90.0,90.0,90.0,90.0,90.0,90.0,90.0,90.0,90.0,90.0,90.0,90.0,90.0,90.0,90.0,90.0,90.0,90.0,90.0,90.0,90.0,90.0,90.0,90.0,90.0,90.0,90.0,90.0,90.0,90.0,90.0,90.0,90.0,90.0,90.0,90.0,90.0,90.0,90.0,90.0,90.0,90.0,90.0,90.0,90.0,90.0,90.0,90.0,90.0,90.0,90.0,90.0,90.0,90.0,90.0,90.0,90.0,90.0,90.0,90.0,90.0,90.0,90.0,90.0,90.0,90.0,90.0,90.0,90.0,90.0,90.0,90.0,90.0,90.0,90.0,90.0,90.0,90.0,90.0,90.0,90.0,90.0,90.0,90.0,90.0,90.0,90.0,90.0,90.0,90.0,90.0,90.0,90.0,90.0,90.0,90.0,90.0,90.0,90.0,90.0,90.0,90.0,90.0,90.0,90.0,90.0,90.0,90.0,90.0,90.0,90.0,90.0,90.0,90.0,90.0,90.0,90.0,90.0,90.0,90.0,90.0,90.0,90.0,90.0,90.0,90.0,90.0,90.0,90.0,90.0,90.0,90.0,90.0,90.0,90.0,90.0,90.0,90.0,90.0,90.0,90.0,90.0,90.0,90.0,90.0,90.0,90.0,90.0,90.0,90.0,90.0,90.0,90.0,90.0,90.0,90.0,90.0,90.0,90.0,90.0,90.0,90.0,90.0,90.0,90.0,90.0,90.0,90.0,90.0,90.0,90.0,90.0,90.0,90.0,90.0,90.0,90.0,90.0,90.0,90.0,90.0,90.0,90.0,90.0,90.0,90.0,90.0,90.0,90.0,90.0,90.0,90.0,90.0,90.0,90.0,90.0,90.0,90.0,90.0,90.0,90.0,90.0,90.0,90.0,90.0,90.0,90.0,90.0,90.0,90.0,90.0,90.0,90.0,90.0,90.0,90.0,90.0,90.0,90.0,90.0,90.0,90.0,90.0,90.0,90.0,90.0,90.0,90.0,90.0,90.0,90.0,90.0,90.0,90.0,90.0,90.0,90.0,90.0,90.0,90.0,90.0,90.0,90.0,90.0,90.0,90.0,90.0,90.0,90.0,90.0,90.0,90.0,90.0,90.0,90.0,90.0,90.0,90.0,90.0,90.0,90.0,90.0,90.0,90.0,90.0,90.0,90.0,90.0,90.0,90.0,90.0,90.0,90.0,90.0,90.0,90.0,90.0,90.0,90.0,90.0,90.0,90.0,90.0,90.0,90.0,90.0,90.0,90.0,90.0,90.0,90.0,90.0,90.0,90.0,90.0,90.0,90.0,90.0,90.0,90.0,90.0,90.0,90.0,90.0,90.0,90.0,90.0,90.0,90.0,90.0,90.0,90.0,90.0,90.0,90.0,90.0,90.0,90.0,90.0,90.0,90.0,90.0,90.0,90.0,90.0,90.0,90.0,90.0,90.0,90.0,90.0,90.0,90.0,90.0,90.0,90.0,90.0,90.0,90.0,90.0,90.0,90.0,90.0,90.0,90.0,90.0,90.0,90.0,90.0,90.0,90.0,90.0,90.0,90.0,90.0,90.0,90.0,90.0,90.0,90.0,90.0,90.0,90.0,90.0,90.0,90.0,90.0,90.0,90.0,90.0,90.0,90.0,90.0,90.0,90.0,90.0,90.0,90.0,90.0,90.0,90.0,90.0,90.0,90.0,90.0,90.0,90.0,90.0,90.0,90.0,90.0,90.0,90.0,90.0,90.0,90.0,90.0,90.0,90.0,90.0,90.0,90.0,90.0,90.0,90.0,90.0,90.0,90.0,90.0,90.0,90.0,90.0,90.0,90.0,90.0,90.0,90.0,90.0,90.0,90.0,90.0,90.0,90.0,90.0,90.0,90.0,90.0,90.0,90.0,90.0,90.0,90.0,90.0,90.0,90.0,90.0,90.0,90.0,90.0,90.0,90.0,90.0,90.0,90.0,90.0,90.0,90.0,90.0,90.0,90.0,90.0,90.0,90.0,90.0,90.0,90.0,90.0,90.0,90.0,90.0,90.0,90.0,90.0,90.0,90.0,90.0,90.0,90.0,90.0,90.0,90.0,90.0,90.0,90.0,90.0,90.0,90.0,90.0,90.0,90.0,90.0,90.0,90.0,90.0,90.0,90.0,90.0,90.0,90.0,90.0,90.0,90.0,90.0,90.0,90.0,90.0,90.0,90.0,90.0,90.0,90.0,90.0,90.0,90.0,90.0,90.0,90.0,90.0,90.0,90.0,90.0,90.0,90.0,90.0,90.0,90.0,90.0,90.0,90.0,90.0,90.0,90.0,90.0,90.0,90.0,90.0,90.0,90.0,90.0,90.0,90.0,90.0,90.0,90.0,90.0,90.0,90.0,90.0,90.0,90.0,90.0,90.0,90.0,90.0,90.0,90.0,90.0,90.0,90.0,90.0,90.0,90.0,90.0,90.0,90.0,90.0,90.0,90.0,90.0,90.0,90.0,90.0,90.0,90.0,90.0,90.0,90.0,90.0],\"type\":\"scatter\"}],                        {\"autosize\":false,\"font\":{\"color\":\"black\",\"family\":\"Courier New, monospace\",\"size\":22},\"height\":600,\"template\":{\"data\":{\"barpolar\":[{\"marker\":{\"line\":{\"color\":\"#E5ECF6\",\"width\":0.5},\"pattern\":{\"fillmode\":\"overlay\",\"size\":10,\"solidity\":0.2}},\"type\":\"barpolar\"}],\"bar\":[{\"error_x\":{\"color\":\"#2a3f5f\"},\"error_y\":{\"color\":\"#2a3f5f\"},\"marker\":{\"line\":{\"color\":\"#E5ECF6\",\"width\":0.5},\"pattern\":{\"fillmode\":\"overlay\",\"size\":10,\"solidity\":0.2}},\"type\":\"bar\"}],\"carpet\":[{\"aaxis\":{\"endlinecolor\":\"#2a3f5f\",\"gridcolor\":\"white\",\"linecolor\":\"white\",\"minorgridcolor\":\"white\",\"startlinecolor\":\"#2a3f5f\"},\"baxis\":{\"endlinecolor\":\"#2a3f5f\",\"gridcolor\":\"white\",\"linecolor\":\"white\",\"minorgridcolor\":\"white\",\"startlinecolor\":\"#2a3f5f\"},\"type\":\"carpet\"}],\"choropleth\":[{\"colorbar\":{\"outlinewidth\":0,\"ticks\":\"\"},\"type\":\"choropleth\"}],\"contourcarpet\":[{\"colorbar\":{\"outlinewidth\":0,\"ticks\":\"\"},\"type\":\"contourcarpet\"}],\"contour\":[{\"colorbar\":{\"outlinewidth\":0,\"ticks\":\"\"},\"colorscale\":[[0.0,\"#0d0887\"],[0.1111111111111111,\"#46039f\"],[0.2222222222222222,\"#7201a8\"],[0.3333333333333333,\"#9c179e\"],[0.4444444444444444,\"#bd3786\"],[0.5555555555555556,\"#d8576b\"],[0.6666666666666666,\"#ed7953\"],[0.7777777777777778,\"#fb9f3a\"],[0.8888888888888888,\"#fdca26\"],[1.0,\"#f0f921\"]],\"type\":\"contour\"}],\"heatmapgl\":[{\"colorbar\":{\"outlinewidth\":0,\"ticks\":\"\"},\"colorscale\":[[0.0,\"#0d0887\"],[0.1111111111111111,\"#46039f\"],[0.2222222222222222,\"#7201a8\"],[0.3333333333333333,\"#9c179e\"],[0.4444444444444444,\"#bd3786\"],[0.5555555555555556,\"#d8576b\"],[0.6666666666666666,\"#ed7953\"],[0.7777777777777778,\"#fb9f3a\"],[0.8888888888888888,\"#fdca26\"],[1.0,\"#f0f921\"]],\"type\":\"heatmapgl\"}],\"heatmap\":[{\"colorbar\":{\"outlinewidth\":0,\"ticks\":\"\"},\"colorscale\":[[0.0,\"#0d0887\"],[0.1111111111111111,\"#46039f\"],[0.2222222222222222,\"#7201a8\"],[0.3333333333333333,\"#9c179e\"],[0.4444444444444444,\"#bd3786\"],[0.5555555555555556,\"#d8576b\"],[0.6666666666666666,\"#ed7953\"],[0.7777777777777778,\"#fb9f3a\"],[0.8888888888888888,\"#fdca26\"],[1.0,\"#f0f921\"]],\"type\":\"heatmap\"}],\"histogram2dcontour\":[{\"colorbar\":{\"outlinewidth\":0,\"ticks\":\"\"},\"colorscale\":[[0.0,\"#0d0887\"],[0.1111111111111111,\"#46039f\"],[0.2222222222222222,\"#7201a8\"],[0.3333333333333333,\"#9c179e\"],[0.4444444444444444,\"#bd3786\"],[0.5555555555555556,\"#d8576b\"],[0.6666666666666666,\"#ed7953\"],[0.7777777777777778,\"#fb9f3a\"],[0.8888888888888888,\"#fdca26\"],[1.0,\"#f0f921\"]],\"type\":\"histogram2dcontour\"}],\"histogram2d\":[{\"colorbar\":{\"outlinewidth\":0,\"ticks\":\"\"},\"colorscale\":[[0.0,\"#0d0887\"],[0.1111111111111111,\"#46039f\"],[0.2222222222222222,\"#7201a8\"],[0.3333333333333333,\"#9c179e\"],[0.4444444444444444,\"#bd3786\"],[0.5555555555555556,\"#d8576b\"],[0.6666666666666666,\"#ed7953\"],[0.7777777777777778,\"#fb9f3a\"],[0.8888888888888888,\"#fdca26\"],[1.0,\"#f0f921\"]],\"type\":\"histogram2d\"}],\"histogram\":[{\"marker\":{\"pattern\":{\"fillmode\":\"overlay\",\"size\":10,\"solidity\":0.2}},\"type\":\"histogram\"}],\"mesh3d\":[{\"colorbar\":{\"outlinewidth\":0,\"ticks\":\"\"},\"type\":\"mesh3d\"}],\"parcoords\":[{\"line\":{\"colorbar\":{\"outlinewidth\":0,\"ticks\":\"\"}},\"type\":\"parcoords\"}],\"pie\":[{\"automargin\":true,\"type\":\"pie\"}],\"scatter3d\":[{\"line\":{\"colorbar\":{\"outlinewidth\":0,\"ticks\":\"\"}},\"marker\":{\"colorbar\":{\"outlinewidth\":0,\"ticks\":\"\"}},\"type\":\"scatter3d\"}],\"scattercarpet\":[{\"marker\":{\"colorbar\":{\"outlinewidth\":0,\"ticks\":\"\"}},\"type\":\"scattercarpet\"}],\"scattergeo\":[{\"marker\":{\"colorbar\":{\"outlinewidth\":0,\"ticks\":\"\"}},\"type\":\"scattergeo\"}],\"scattergl\":[{\"marker\":{\"colorbar\":{\"outlinewidth\":0,\"ticks\":\"\"}},\"type\":\"scattergl\"}],\"scattermapbox\":[{\"marker\":{\"colorbar\":{\"outlinewidth\":0,\"ticks\":\"\"}},\"type\":\"scattermapbox\"}],\"scatterpolargl\":[{\"marker\":{\"colorbar\":{\"outlinewidth\":0,\"ticks\":\"\"}},\"type\":\"scatterpolargl\"}],\"scatterpolar\":[{\"marker\":{\"colorbar\":{\"outlinewidth\":0,\"ticks\":\"\"}},\"type\":\"scatterpolar\"}],\"scatter\":[{\"fillpattern\":{\"fillmode\":\"overlay\",\"size\":10,\"solidity\":0.2},\"type\":\"scatter\"}],\"scatterternary\":[{\"marker\":{\"colorbar\":{\"outlinewidth\":0,\"ticks\":\"\"}},\"type\":\"scatterternary\"}],\"surface\":[{\"colorbar\":{\"outlinewidth\":0,\"ticks\":\"\"},\"colorscale\":[[0.0,\"#0d0887\"],[0.1111111111111111,\"#46039f\"],[0.2222222222222222,\"#7201a8\"],[0.3333333333333333,\"#9c179e\"],[0.4444444444444444,\"#bd3786\"],[0.5555555555555556,\"#d8576b\"],[0.6666666666666666,\"#ed7953\"],[0.7777777777777778,\"#fb9f3a\"],[0.8888888888888888,\"#fdca26\"],[1.0,\"#f0f921\"]],\"type\":\"surface\"}],\"table\":[{\"cells\":{\"fill\":{\"color\":\"#EBF0F8\"},\"line\":{\"color\":\"white\"}},\"header\":{\"fill\":{\"color\":\"#C8D4E3\"},\"line\":{\"color\":\"white\"}},\"type\":\"table\"}]},\"layout\":{\"annotationdefaults\":{\"arrowcolor\":\"#2a3f5f\",\"arrowhead\":0,\"arrowwidth\":1},\"autotypenumbers\":\"strict\",\"coloraxis\":{\"colorbar\":{\"outlinewidth\":0,\"ticks\":\"\"}},\"colorscale\":{\"diverging\":[[0,\"#8e0152\"],[0.1,\"#c51b7d\"],[0.2,\"#de77ae\"],[0.3,\"#f1b6da\"],[0.4,\"#fde0ef\"],[0.5,\"#f7f7f7\"],[0.6,\"#e6f5d0\"],[0.7,\"#b8e186\"],[0.8,\"#7fbc41\"],[0.9,\"#4d9221\"],[1,\"#276419\"]],\"sequential\":[[0.0,\"#0d0887\"],[0.1111111111111111,\"#46039f\"],[0.2222222222222222,\"#7201a8\"],[0.3333333333333333,\"#9c179e\"],[0.4444444444444444,\"#bd3786\"],[0.5555555555555556,\"#d8576b\"],[0.6666666666666666,\"#ed7953\"],[0.7777777777777778,\"#fb9f3a\"],[0.8888888888888888,\"#fdca26\"],[1.0,\"#f0f921\"]],\"sequentialminus\":[[0.0,\"#0d0887\"],[0.1111111111111111,\"#46039f\"],[0.2222222222222222,\"#7201a8\"],[0.3333333333333333,\"#9c179e\"],[0.4444444444444444,\"#bd3786\"],[0.5555555555555556,\"#d8576b\"],[0.6666666666666666,\"#ed7953\"],[0.7777777777777778,\"#fb9f3a\"],[0.8888888888888888,\"#fdca26\"],[1.0,\"#f0f921\"]]},\"colorway\":[\"#636efa\",\"#EF553B\",\"#00cc96\",\"#ab63fa\",\"#FFA15A\",\"#19d3f3\",\"#FF6692\",\"#B6E880\",\"#FF97FF\",\"#FECB52\"],\"font\":{\"color\":\"#2a3f5f\"},\"geo\":{\"bgcolor\":\"white\",\"lakecolor\":\"white\",\"landcolor\":\"#E5ECF6\",\"showlakes\":true,\"showland\":true,\"subunitcolor\":\"white\"},\"hoverlabel\":{\"align\":\"left\"},\"hovermode\":\"closest\",\"mapbox\":{\"style\":\"light\"},\"paper_bgcolor\":\"white\",\"plot_bgcolor\":\"#E5ECF6\",\"polar\":{\"angularaxis\":{\"gridcolor\":\"white\",\"linecolor\":\"white\",\"ticks\":\"\"},\"bgcolor\":\"#E5ECF6\",\"radialaxis\":{\"gridcolor\":\"white\",\"linecolor\":\"white\",\"ticks\":\"\"}},\"scene\":{\"xaxis\":{\"backgroundcolor\":\"#E5ECF6\",\"gridcolor\":\"white\",\"gridwidth\":2,\"linecolor\":\"white\",\"showbackground\":true,\"ticks\":\"\",\"zerolinecolor\":\"white\"},\"yaxis\":{\"backgroundcolor\":\"#E5ECF6\",\"gridcolor\":\"white\",\"gridwidth\":2,\"linecolor\":\"white\",\"showbackground\":true,\"ticks\":\"\",\"zerolinecolor\":\"white\"},\"zaxis\":{\"backgroundcolor\":\"#E5ECF6\",\"gridcolor\":\"white\",\"gridwidth\":2,\"linecolor\":\"white\",\"showbackground\":true,\"ticks\":\"\",\"zerolinecolor\":\"white\"}},\"shapedefaults\":{\"line\":{\"color\":\"#2a3f5f\"}},\"ternary\":{\"aaxis\":{\"gridcolor\":\"white\",\"linecolor\":\"white\",\"ticks\":\"\"},\"baxis\":{\"gridcolor\":\"white\",\"linecolor\":\"white\",\"ticks\":\"\"},\"bgcolor\":\"#E5ECF6\",\"caxis\":{\"gridcolor\":\"white\",\"linecolor\":\"white\",\"ticks\":\"\"}},\"title\":{\"x\":0.05},\"xaxis\":{\"automargin\":true,\"gridcolor\":\"white\",\"linecolor\":\"white\",\"ticks\":\"\",\"title\":{\"standoff\":15},\"zerolinecolor\":\"white\",\"zerolinewidth\":2},\"yaxis\":{\"automargin\":true,\"gridcolor\":\"white\",\"linecolor\":\"white\",\"ticks\":\"\",\"title\":{\"standoff\":15},\"zerolinecolor\":\"white\",\"zerolinewidth\":2}}},\"title\":{\"text\":\"Range of Motion ankleLeft\"},\"width\":750,\"xaxis\":{\"title\":{\"font\":{\"color\":\"#7f7f7f\",\"family\":\"Courier New, monospace\",\"size\":18},\"text\":\"time [s]\"}},\"yaxis\":{\"title\":{\"font\":{\"color\":\"#7f7f7f\",\"family\":\"Courier New, monospace\",\"size\":18},\"text\":\"ROM [gradi]\"}}},                        {\"responsive\": true}                    ).then(function(){\n",
       "                            \n",
       "var gd = document.getElementById('0a31ec71-6488-4775-8d86-cbb3efa5e45d');\n",
       "var x = new MutationObserver(function (mutations, observer) {{\n",
       "        var display = window.getComputedStyle(gd).display;\n",
       "        if (!display || display === 'none') {{\n",
       "            console.log([gd, 'removed!']);\n",
       "            Plotly.purge(gd);\n",
       "            observer.disconnect();\n",
       "        }}\n",
       "}});\n",
       "\n",
       "// Listen for the removal of the full notebook cells\n",
       "var notebookContainer = gd.closest('#notebook-container');\n",
       "if (notebookContainer) {{\n",
       "    x.observe(notebookContainer, {childList: true});\n",
       "}}\n",
       "\n",
       "// Listen for the clearing of the current output cell\n",
       "var outputEl = gd.closest('.output');\n",
       "if (outputEl) {{\n",
       "    x.observe(outputEl, {childList: true});\n",
       "}}\n",
       "\n",
       "                        })                };                });            </script>        </div>"
      ]
     },
     "metadata": {},
     "output_type": "display_data"
    },
    {
     "data": {
      "application/vnd.plotly.v1+json": {
       "config": {
        "linkText": "Export to plot.ly",
        "plotlyServerURL": "https://plot.ly",
        "showLink": false
       },
       "data": [
        {
         "line": {
          "color": "blue",
          "width": 3
         },
         "mode": "lines",
         "name": "Andamento Reale",
         "type": "scatter",
         "x": [
          1499.2411363124847,
          1499.3432846069336,
          1499.4427211284637,
          1499.54013133049,
          1499.6420300006866,
          1499.744064092636,
          1499.8401839733124,
          1499.9462168216705,
          1500.0419936180115,
          1500.1414563655853,
          1500.2422320842743,
          1500.3411314487457,
          1500.441514492035,
          1500.541243314743,
          1500.6429286003113,
          1500.7421760559082,
          1500.8417778015137,
          1500.9413657188416,
          1501.0417659282684,
          1501.1428897380829,
          1501.240436553955,
          1501.3419153690338,
          1501.441132068634,
          1501.5403683185577,
          1501.6449313163757,
          1501.7413523197174,
          1501.8423101902008,
          1501.9408650398254,
          1502.04141497612,
          1502.1416535377502,
          1502.2421522140503,
          1502.3436872959137,
          1502.4428606033325,
          1502.5419516563416,
          1502.6438164710999,
          1502.739751815796,
          1502.839929819107,
          1502.9432377815247,
          1503.0396859645844,
          1503.1407148838043,
          1503.2416439056396,
          1503.3399159908295,
          1503.4405806064606,
          1503.542091369629,
          1503.6399137973785,
          1503.7397291660309,
          1503.8402659893036,
          1503.9417126178741,
          1504.0408883094788,
          1504.1431605815887,
          1504.2412109375,
          1504.3424327373505,
          1504.442084312439,
          1504.5419890880585,
          1504.6418566703796,
          1504.7421357631683,
          1504.8420453071594,
          1504.9417133331299,
          1505.0427649021149,
          1505.1421146392822,
          1505.2413144111633,
          1505.3408071994781,
          1505.4415457248688,
          1505.542934179306,
          1505.6415820121765,
          1505.741807460785,
          1505.8417615890503,
          1505.9422342777252,
          1506.0417664051056,
          1506.142252922058,
          1506.2424128055573,
          1506.3428943157196,
          1506.4433236122131,
          1506.5426783561707,
          1506.6421117782593,
          1506.74356341362,
          1506.8419032096863,
          1506.9436628818512,
          1507.042890548706,
          1507.143632888794,
          1507.2437996864319,
          1507.34317612648,
          1507.4439723491669,
          1507.5464203357697,
          1507.646990776062,
          1507.743609905243,
          1507.844081878662,
          1507.944857597351,
          1508.0438890457153,
          1508.143606185913,
          1508.2456514835358,
          1508.3450417518616,
          1508.444191455841,
          1508.5442969799042,
          1508.6431493759155,
          1508.7441477775574,
          1508.8442180156708,
          1508.9457623958588,
          1509.0446989536285,
          1509.1442427635193,
          1509.2483496665955,
          1509.348049879074,
          1509.447769165039,
          1509.5452642440796,
          1509.6454932689667,
          1509.7466208934784,
          1509.8461413383484,
          1509.9450035095215,
          1510.0446655750275,
          1510.1453218460083,
          1510.2444643974304,
          1510.3476753234863,
          1510.444744348526,
          1510.5449130535126,
          1510.6449630260468,
          1510.7453105449677,
          1510.8460247516632,
          1510.9460620880127,
          1511.0450239181519,
          1511.147045135498,
          1511.2464575767517,
          1511.3476495742798,
          1511.4461619853973,
          1511.5460538864136,
          1511.6458253860474,
          1511.7523272037506,
          1511.8473920822144,
          1511.9467968940735,
          1512.0458340644836,
          1512.14905834198,
          1512.2465064525604,
          1512.3464360237122,
          1512.4465262889862,
          1512.5464425086975,
          1512.6461458206177,
          1512.7456891536713,
          1512.846199274063,
          1512.9469623565674,
          1513.046472787857,
          1513.1472702026367,
          1513.2464673519135,
          1513.3472352027893,
          1513.4477665424347,
          1513.5469961166382,
          1513.6465792655945,
          1513.7474553585052,
          1513.8473408222198,
          1513.9478917121887,
          1514.048181295395,
          1514.1470139026642,
          1514.2469763755798,
          1514.347504377365,
          1514.4472517967224,
          1514.548014163971,
          1514.6466579437256,
          1514.747255563736,
          1514.8468098640442,
          1514.9472517967224,
          1515.0483257770538,
          1515.1476039886475,
          1515.2474853992462,
          1515.349123954773,
          1515.448129415512,
          1515.5479564666748,
          1515.6483643054962,
          1515.7478876113892,
          1515.848218679428,
          1515.9479448795319,
          1516.0482194423676,
          1516.149117231369,
          1516.24773478508,
          1516.3488357067108,
          1516.4485018253326,
          1516.548581123352,
          1516.6529862880707,
          1516.7489988803864,
          1516.8483703136444,
          1516.9493639469147,
          1517.0485661029816,
          1517.1542015075684,
          1517.2489612102509,
          1517.3534693717957,
          1517.4531128406525,
          1517.553725719452,
          1517.6531822681427,
          1517.7508800029755,
          1517.8505020141602,
          1517.9501507282257,
          1518.0533425807953,
          1518.154797554016,
          1518.252271413803,
          1518.3584887981415,
          1518.4496307373047,
          1518.5517852306366,
          1518.6547417640686,
          1518.751220703125,
          1518.8547055721283,
          1518.9500937461853,
          1519.0509328842163,
          1519.1500902175903,
          1519.2508342266083,
          1519.3509469032288,
          1519.4529166221619,
          1519.552564382553,
          1519.6508638858795,
          1519.7502257823944,
          1519.8513631820679,
          1519.9507722854614,
          1520.0511844158173,
          1520.1549203395844,
          1520.2553119659424,
          1520.355444908142,
          1520.4572768211365,
          1520.5562913417816,
          1520.6547539234161,
          1520.7517511844635,
          1520.852136850357,
          1520.956214427948,
          1521.0517673492432,
          1521.151982307434,
          1521.2533135414124,
          1521.3525230884552,
          1521.4546430110931,
          1521.5537049770355,
          1521.6560616493225,
          1521.756957769394,
          1521.861038684845,
          1521.9608080387115,
          1522.0553195476532,
          1522.1532826423645,
          1522.2527394294739,
          1522.3522148132324,
          1522.4540903568268,
          1522.5571751594543,
          1522.654535293579,
          1522.7544548511505,
          1522.8560378551483,
          1522.953887462616,
          1523.0526440143585,
          1523.1566863059998,
          1523.2580780982971,
          1523.3567478656769,
          1523.454469203949,
          1523.5542244911194,
          1523.658311843872,
          1523.7581009864807,
          1523.8582689762115,
          1523.953364610672,
          1524.054563999176,
          1524.1584029197693,
          1524.2576098442078,
          1524.3543453216553,
          1524.4550700187683,
          1524.5540347099304,
          1524.6535897254944,
          1524.753868341446,
          1524.853411436081,
          1524.95521068573,
          1525.054139137268,
          1525.1547272205353,
          1525.2555606365204,
          1525.3549020290375,
          1525.4566402435303,
          1525.5587475299835,
          1525.6535289287567,
          1525.7547373771667,
          1525.8536713123322,
          1525.9546175003052,
          1526.0546753406525,
          1526.1549615859985,
          1526.255040884018,
          1526.3548610210419,
          1526.454764842987,
          1526.5555267333984,
          1526.6554877758026,
          1526.7556302547455,
          1526.8551664352417,
          1526.9557905197144,
          1527.0557622909546,
          1527.1561093330383,
          1527.2571275234222,
          1527.356971502304,
          1527.457272529602,
          1527.5553719997406,
          1527.6574912071228,
          1527.757332086563,
          1527.8562273979187,
          1527.9594457149506,
          1528.0566897392273,
          1528.1583421230316,
          1528.2581007480621,
          1528.355853319168,
          1528.4608187675476,
          1528.5574316978455,
          1528.6561155319214,
          1528.7592558860779,
          1528.8586099147797,
          1528.9628987312317,
          1529.0560810565948,
          1529.1571590900421,
          1529.2560682296753,
          1529.3564767837524,
          1529.456878900528,
          1529.5586001873016,
          1529.657800912857,
          1529.7575800418854,
          1529.8577151298523,
          1529.9580373764038,
          1530.0567288398743,
          1530.157428264618,
          1530.2587399482727,
          1530.3589704036713,
          1530.457849740982,
          1530.5578382015228,
          1530.658446073532,
          1530.757824897766,
          1530.8616199493408,
          1530.960708618164,
          1531.059900522232,
          1531.162596464157,
          1531.2573883533478,
          1531.3600792884827,
          1531.458923816681,
          1531.5627195835114,
          1531.6612637043,
          1531.7576656341553,
          1531.8620171546936,
          1531.9599452018738,
          1532.0599632263184,
          1532.1607375144958,
          1532.259782075882,
          1532.3589525222778,
          1532.4589982032776,
          1532.5596570968628,
          1532.660763502121,
          1532.759989976883,
          1532.859920501709,
          1532.9633507728577,
          1533.0590443611145,
          1533.159485578537,
          1533.2591478824615,
          1533.358909368515,
          1533.4588725566864,
          1533.5592203140259,
          1533.6601333618164,
          1533.758960723877,
          1533.8600804805756,
          1533.9596378803253,
          1534.0594065189362,
          1534.1598281860352,
          1534.2596225738525,
          1534.360122680664,
          1534.4612867832184,
          1534.5604510307312,
          1534.6615297794342,
          1534.76198220253,
          1534.8614101409912,
          1534.9614522457123,
          1535.0600357055664,
          1535.1603939533234,
          1535.2622575759888,
          1535.3602058887482,
          1535.462120294571,
          1535.56028008461,
          1535.6601366996765,
          1535.7611837387085,
          1535.8639693260193,
          1535.9614548683167,
          1536.06116604805,
          1536.1607356071472,
          1536.2609808444977,
          1536.3626313209534,
          1536.4609956741333,
          1536.564481496811,
          1536.6640095710754,
          1536.763158082962,
          1536.8629369735718,
          1536.9626727104187,
          1537.0616796016693,
          1537.1621129512787,
          1537.2617573738098,
          1537.3618972301483,
          1537.462711572647,
          1537.562515258789,
          1537.6621596813202,
          1537.7639846801758,
          1537.8620209693909,
          1537.9622814655304,
          1538.0627496242523,
          1538.1621263027191,
          1538.2627971172333,
          1538.366781949997,
          1538.4637882709503,
          1538.563273191452,
          1538.66330909729,
          1538.7667174339294,
          1538.8636915683746,
          1538.9630060195923,
          1539.063859462738,
          1539.1625623703003,
          1539.2660901546478,
          1539.3630833625793,
          1539.464448928833,
          1539.5636985301971,
          1539.6643221378326,
          1539.7645237445831,
          1539.8643732070923,
          1539.9644606113434,
          1540.0639703273773,
          1540.1641156673431,
          1540.2658836841583,
          1540.3652892112732,
          1540.4671607017517,
          1540.5652508735657,
          1540.669272184372,
          1540.7651839256287,
          1540.8669271469116,
          1540.9673836231232,
          1541.0654036998749,
          1541.1660828590393,
          1541.2674746513367,
          1541.3676433563232,
          1541.4656250476837,
          1541.5665922164917,
          1541.6681351661682,
          1541.7672548294067,
          1541.867030620575,
          1541.9676649570465,
          1542.0670235157013,
          1542.1689057350159,
          1542.2671897411346,
          1542.3672127723694,
          1542.4686870574951,
          1542.5665442943573,
          1542.6705791950226,
          1542.7696046829224,
          1542.8668971061707,
          1542.966644525528,
          1543.0735685825348,
          1543.1732482910156,
          1543.267774105072,
          1543.3676788806915,
          1543.4672544002533,
          1543.5671184062958,
          1543.6677463054657,
          1543.7675108909607,
          1543.8679871559143,
          1543.9693717956543,
          1544.0663883686066,
          1544.1677677631378,
          1544.268888950348,
          1544.3663485050201,
          1544.4664885997772,
          1544.5660860538483,
          1544.6669471263885,
          1544.76717877388,
          1544.8672885894775,
          1544.9685242176056,
          1545.0670084953308,
          1545.1677951812744,
          1545.2673869132996,
          1545.3672273159027,
          1545.467891216278,
          1545.575178861618,
          1545.6677899360657,
          1545.7664551734924,
          1545.8665204048157,
          1545.9671485424042,
          1546.0674130916595,
          1546.1681797504425,
          1546.2676408290863,
          1546.367078781128,
          1546.4679577350616,
          1546.5685453414917,
          1546.6769742965698,
          1546.7727680206299,
          1546.8680868148804,
          1546.9686315059662,
          1547.069181919098,
          1547.167875289917,
          1547.2677521705627,
          1547.3686332702637,
          1547.4707067012787,
          1547.5683662891388,
          1547.6724834442139,
          1547.769639492035,
          1547.8712072372437,
          1547.9770529270172,
          1548.072209596634,
          1548.173274755478,
          1548.2715876102448,
          1548.371628522873,
          1548.4709198474884,
          1548.5714690685272,
          1548.671296596527,
          1548.7715110778809,
          1548.8716838359833,
          1548.97434091568,
          1549.070969581604,
          1549.174753665924,
          1549.2744188308716,
          1549.3733451366425,
          1549.4734070301056,
          1549.5742897987366,
          1549.6723790168762,
          1549.7728595733643,
          1549.8727250099182,
          1549.9772119522095,
          1550.0720105171204,
          1550.1710896492004,
          1550.2725031375885,
          1550.3713836669922,
          1550.4781966209412,
          1550.5779829025269,
          1550.6775233745575,
          1550.774284362793,
          1550.87375998497,
          1550.979849100113,
          1551.0752232074738,
          1551.1747436523438,
          1551.2786514759064,
          1551.3792498111725,
          1551.478197336197,
          1551.579080581665,
          1551.67942070961,
          1551.77863407135,
          1551.880181312561,
          1551.9783499240875,
          1552.0735130310059,
          1552.1743123531342,
          1552.2738902568817,
          1552.3736426830292,
          1552.4735062122345,
          1552.5737590789795,
          1552.6750376224518,
          1552.774917125702,
          1552.874896287918,
          1552.9747967720032,
          1553.0752203464508,
          1553.1760432720184,
          1553.2762243747711,
          1553.3725430965424,
          1553.472339630127,
          1553.5719089508057,
          1553.671792268753,
          1553.7730875015259,
          1553.8719074726105,
          1553.9732356071472,
          1554.072648525238,
          1554.172200679779,
          1554.2724151611328,
          1554.3731021881104,
          1554.4731767177582,
          1554.5727956295013,
          1554.673753976822,
          1554.7773764133453,
          1554.8747208118439,
          1554.9741613864899,
          1555.0747776031494,
          1555.1755096912384,
          1555.279501914978,
          1555.3744592666626,
          1555.4760527610779,
          1555.5740582942963,
          1555.6754522323608,
          1555.7753405570984,
          1555.8802742958069,
          1555.9759588241577,
          1556.074725151062,
          1556.1759669780731,
          1556.2756700515747,
          1556.3753113746643,
          1556.4837319850922,
          1556.5750107765198,
          1556.6751630306244,
          1556.7765123844147,
          1556.8782150745392,
          1556.9785902500153,
          1557.0765113830566,
          1557.1777567863464,
          1557.2783045768738,
          1557.3775517940521,
          1557.4797596931458,
          1557.5780041217804,
          1557.6780152320862,
          1557.7778115272522,
          1557.876960515976,
          1557.9770517349243,
          1558.076621055603,
          1558.180831193924,
          1558.2854754924774,
          1558.3767499923706,
          1558.4804351329803,
          1558.579921722412,
          1558.677288532257,
          1558.7769978046417,
          1558.8778581619263,
          1558.9787356853485,
          1559.0771126747131,
          1559.1767921447754,
          1559.278477191925,
          1559.378291606903,
          1559.4775824546814,
          1559.5807921886444,
          1559.6776638031006,
          1559.778058052063,
          1559.8830723762512,
          1559.9832768440247,
          1560.0840981006622,
          1560.1845769882202,
          1560.2789707183838,
          1560.3786268234253,
          1560.47776389122,
          1560.5785915851593,
          1560.6796667575836,
          1560.7791197299957,
          1560.87948346138,
          1560.978010892868,
          1561.0784831047058,
          1561.1786596775055,
          1561.2765908241272,
          1561.3838136196136,
          1561.4774813652039,
          1561.5815932750702,
          1561.6770639419556,
          1561.7776787281036,
          1561.877956867218,
          1561.9779877662659,
          1562.0776226520538,
          1562.1785109043121,
          1562.2782335281372,
          1562.3815352916718,
          1562.4804756641388,
          1562.5775909423828,
          1562.6809916496277,
          1562.7826879024506,
          1562.8828573226929,
          1562.9838132858276,
          1563.0780189037323,
          1563.1789796352386,
          1563.2802908420563,
          1563.3813588619232,
          1563.480254650116,
          1563.5809354782104,
          1563.680933713913,
          1563.7801339626312,
          1563.880723953247,
          1563.9811205863953,
          1564.0802714824677,
          1564.1794838905334,
          1564.2845251560211,
          1564.3794884681702,
          1564.4791498184204,
          1564.5835678577423,
          1564.6808955669403,
          1564.7788915634155,
          1564.8795139789581,
          1564.9836478233337,
          1565.07950258255,
          1565.1825184822083,
          1565.2819392681122,
          1565.380526304245,
          1565.4812269210815,
          1565.5805473327637,
          1565.684333562851,
          1565.785714149475,
          1565.8849048614502,
          1565.9807634353638,
          1566.0813398361206,
          1566.1810414791107,
          1566.283430814743,
          1566.383866071701,
          1566.484350681305,
          1566.5904591083527,
          1566.6800830364227,
          1566.7800760269165,
          1566.8805696964264,
          1566.9809465408325,
          1567.0811483860016,
          1567.1813688278198,
          1567.2823538780212,
          1567.3819682598114,
          1567.4816749095917,
          1567.5819344520569,
          1567.6825020313263,
          1567.781952381134,
          1567.881548166275,
          1567.982048034668,
          1568.0820636749268,
          1568.1820254325867,
          1568.281239271164,
          1568.3812518119812,
          1568.4811825752258,
          1568.5819082260132,
          1568.6818380355835,
          1568.7822697162628,
          1568.8816404342651,
          1568.9819226264954,
          1569.0865490436554,
          1569.186048746109,
          1569.282539844513,
          1569.3828761577606,
          1569.4822869300842,
          1569.58291721344,
          1569.6838479042053,
          1569.7846109867096,
          1569.8823783397675,
          1569.9836070537567,
          1570.0831260681152,
          1570.1819534301758,
          1570.2878515720367,
          1570.3924379348755,
          1570.4909138679504,
          1570.5902736186981,
          1570.6988174915314,
          1570.7904138565063,
          1570.8904962539673,
          1570.9899044036865,
          1571.0898532867432,
          1571.1898276805878,
          1571.289258480072,
          1571.3903584480286,
          1571.4897434711456,
          1571.5904321670532,
          1571.6920642852783,
          1571.7911806106567,
          1571.8918182849884,
          1571.9967155456543,
          1572.1017162799835,
          1572.2009263038635,
          1572.2912111282349,
          1572.3967843055725,
          1572.4991810321808,
          1572.5943253040314,
          1572.6906354427338,
          1572.7905294895172,
          1572.891780614853,
          1572.9911139011383,
          1573.0927135944366,
          1573.1920285224915
         ],
         "y": [
          90,
          90,
          90,
          90,
          90,
          90,
          90,
          90,
          90,
          90,
          90,
          90,
          90,
          90,
          90,
          90,
          90,
          90,
          90,
          90,
          90,
          90,
          90,
          90,
          90,
          90,
          90,
          90,
          90,
          90,
          90,
          90,
          90,
          90,
          90,
          90,
          90,
          90,
          90,
          90,
          90,
          90,
          90,
          90,
          90,
          90,
          90,
          90,
          90,
          90,
          90,
          90,
          90,
          90,
          90,
          90,
          90,
          90,
          90,
          90,
          90,
          90,
          90,
          90,
          90,
          90,
          90,
          90,
          90,
          90,
          90,
          90,
          90,
          90,
          90,
          90,
          90,
          90,
          90,
          90,
          90,
          90,
          90,
          90,
          90,
          90,
          90,
          90,
          90,
          90,
          90,
          90,
          90,
          90,
          90,
          90,
          90,
          90,
          90,
          90,
          90,
          90,
          90,
          90,
          90,
          90,
          90,
          90,
          90,
          90,
          90,
          90,
          90,
          90,
          90,
          90,
          90,
          90,
          90,
          90,
          90,
          90,
          90,
          90,
          90,
          90,
          90,
          90,
          90,
          90,
          90,
          90,
          90,
          90,
          90,
          90,
          90,
          90,
          90,
          90,
          90,
          90,
          90,
          90,
          90,
          90,
          90,
          90,
          90,
          90,
          90,
          90,
          90,
          90,
          90,
          90,
          90,
          90,
          90,
          90,
          90,
          90,
          90,
          90,
          90,
          90,
          90,
          90,
          90,
          90,
          90,
          90,
          90,
          90,
          90,
          90,
          90,
          90,
          90,
          90,
          90,
          90,
          90,
          90,
          90,
          90,
          90,
          90,
          90,
          90,
          90,
          90,
          90,
          90,
          90,
          90,
          90,
          90,
          90,
          90,
          90,
          90,
          90,
          90,
          90,
          90,
          90,
          90,
          90,
          90,
          90,
          90,
          90,
          90,
          90,
          90,
          90,
          90,
          90,
          90,
          90,
          90,
          90,
          90,
          90,
          90,
          90,
          90,
          90,
          90,
          90,
          90,
          90,
          90,
          90,
          90,
          90,
          90,
          90,
          90,
          90,
          90,
          90,
          90,
          90,
          90,
          90,
          90,
          90,
          90,
          90,
          90,
          90,
          90,
          90,
          90,
          90,
          90,
          90,
          90,
          90,
          90,
          90,
          90,
          90,
          90,
          90,
          90,
          90,
          90,
          90,
          90,
          90,
          90,
          90,
          90,
          90,
          90,
          90,
          90,
          90,
          90,
          90,
          90,
          90,
          90,
          90,
          90,
          90,
          90,
          90,
          90,
          90,
          90,
          90,
          90,
          90,
          90,
          90,
          90,
          90,
          90,
          90,
          90,
          90,
          90,
          90,
          90,
          90,
          90,
          90,
          90,
          90,
          90,
          90,
          90,
          90,
          90,
          90,
          90,
          90,
          90,
          90,
          90,
          90,
          90,
          90,
          90,
          90,
          90,
          90,
          90,
          90,
          90,
          90,
          90,
          90,
          90,
          90,
          90,
          90,
          90,
          90,
          90,
          90,
          90,
          90,
          90,
          90,
          90,
          90,
          90,
          90,
          90,
          90,
          90,
          90,
          90,
          90,
          90,
          90,
          90,
          90,
          90,
          90,
          90,
          90,
          90,
          90,
          90,
          90,
          90,
          90,
          90,
          90,
          90,
          90,
          90,
          90,
          90,
          90,
          90,
          90,
          90,
          90,
          90,
          90,
          90,
          90,
          90,
          90,
          90,
          90,
          90,
          90,
          90,
          90,
          90,
          90,
          90,
          90,
          90,
          90,
          90,
          90,
          90,
          90,
          90,
          90,
          90,
          90,
          90,
          90,
          90,
          90,
          90,
          90,
          90,
          90,
          90,
          90,
          90,
          90,
          90,
          90,
          90,
          90,
          90,
          90,
          90,
          90,
          90,
          90,
          90,
          90,
          90,
          90,
          90,
          90,
          90,
          90,
          90,
          90,
          90,
          90,
          90,
          90,
          90,
          90,
          90,
          90,
          90,
          90,
          90,
          90,
          90,
          90,
          90,
          90,
          90,
          90,
          90,
          90,
          90,
          90,
          90,
          90,
          90,
          90,
          90,
          90,
          90,
          90,
          90,
          90,
          90,
          90,
          90,
          90,
          90,
          90,
          90,
          90,
          90,
          90,
          90,
          90,
          90,
          90,
          90,
          90,
          90,
          90,
          90,
          90,
          90,
          90,
          90,
          90,
          90,
          90,
          90,
          90,
          90,
          90,
          90,
          90,
          90,
          90,
          90,
          90,
          90,
          90,
          90,
          90,
          90,
          90,
          90,
          90,
          90,
          90,
          90,
          90,
          90,
          90,
          90,
          90,
          90,
          90,
          90,
          90,
          90,
          90,
          90,
          90,
          90,
          90,
          90,
          90,
          90,
          90,
          90,
          90,
          90,
          90,
          90,
          90,
          90,
          90,
          90,
          90,
          90,
          90,
          90,
          90,
          90,
          90,
          90,
          90,
          90,
          90,
          90,
          90,
          90,
          90,
          90,
          90,
          90,
          90,
          90,
          90,
          90,
          90,
          90,
          90,
          90,
          90,
          90,
          90,
          90,
          90,
          90,
          90,
          90,
          90,
          90,
          90,
          90,
          90,
          90,
          90,
          90,
          90,
          90,
          90,
          90,
          90,
          90,
          90,
          90,
          90,
          90,
          90,
          90,
          90,
          90,
          90,
          90,
          90,
          90,
          90,
          90,
          90,
          90,
          90,
          90,
          90,
          90,
          90,
          90,
          90,
          90,
          90,
          90,
          90,
          90,
          90,
          90,
          90,
          90,
          90,
          90,
          90,
          90,
          90,
          90,
          90,
          90,
          90,
          90,
          90,
          90,
          90,
          90,
          90,
          90,
          90,
          90,
          90,
          90,
          90,
          90,
          90,
          90,
          90,
          90,
          90,
          90,
          90,
          90,
          90,
          90,
          90,
          90,
          90,
          90,
          90,
          90,
          90,
          90,
          90,
          90,
          90,
          90,
          90,
          90,
          90,
          90,
          90,
          90,
          90,
          90,
          90,
          90,
          90,
          90,
          90,
          90,
          90,
          90,
          90,
          90,
          90,
          90,
          90,
          90,
          90,
          90,
          90,
          90,
          90,
          90,
          90,
          90,
          90,
          90,
          90,
          90,
          90,
          90,
          90,
          90,
          90,
          90,
          90,
          90,
          90,
          90,
          90,
          90,
          90,
          90,
          90,
          90,
          90,
          90,
          90,
          90,
          90,
          90,
          90,
          90,
          90,
          90,
          90,
          90,
          90,
          90,
          90
         ]
        }
       ],
       "layout": {
        "autosize": false,
        "font": {
         "color": "black",
         "family": "Courier New, monospace",
         "size": 22
        },
        "height": 600,
        "template": {
         "data": {
          "bar": [
           {
            "error_x": {
             "color": "#2a3f5f"
            },
            "error_y": {
             "color": "#2a3f5f"
            },
            "marker": {
             "line": {
              "color": "#E5ECF6",
              "width": 0.5
             },
             "pattern": {
              "fillmode": "overlay",
              "size": 10,
              "solidity": 0.2
             }
            },
            "type": "bar"
           }
          ],
          "barpolar": [
           {
            "marker": {
             "line": {
              "color": "#E5ECF6",
              "width": 0.5
             },
             "pattern": {
              "fillmode": "overlay",
              "size": 10,
              "solidity": 0.2
             }
            },
            "type": "barpolar"
           }
          ],
          "carpet": [
           {
            "aaxis": {
             "endlinecolor": "#2a3f5f",
             "gridcolor": "white",
             "linecolor": "white",
             "minorgridcolor": "white",
             "startlinecolor": "#2a3f5f"
            },
            "baxis": {
             "endlinecolor": "#2a3f5f",
             "gridcolor": "white",
             "linecolor": "white",
             "minorgridcolor": "white",
             "startlinecolor": "#2a3f5f"
            },
            "type": "carpet"
           }
          ],
          "choropleth": [
           {
            "colorbar": {
             "outlinewidth": 0,
             "ticks": ""
            },
            "type": "choropleth"
           }
          ],
          "contour": [
           {
            "colorbar": {
             "outlinewidth": 0,
             "ticks": ""
            },
            "colorscale": [
             [
              0,
              "#0d0887"
             ],
             [
              0.1111111111111111,
              "#46039f"
             ],
             [
              0.2222222222222222,
              "#7201a8"
             ],
             [
              0.3333333333333333,
              "#9c179e"
             ],
             [
              0.4444444444444444,
              "#bd3786"
             ],
             [
              0.5555555555555556,
              "#d8576b"
             ],
             [
              0.6666666666666666,
              "#ed7953"
             ],
             [
              0.7777777777777778,
              "#fb9f3a"
             ],
             [
              0.8888888888888888,
              "#fdca26"
             ],
             [
              1,
              "#f0f921"
             ]
            ],
            "type": "contour"
           }
          ],
          "contourcarpet": [
           {
            "colorbar": {
             "outlinewidth": 0,
             "ticks": ""
            },
            "type": "contourcarpet"
           }
          ],
          "heatmap": [
           {
            "colorbar": {
             "outlinewidth": 0,
             "ticks": ""
            },
            "colorscale": [
             [
              0,
              "#0d0887"
             ],
             [
              0.1111111111111111,
              "#46039f"
             ],
             [
              0.2222222222222222,
              "#7201a8"
             ],
             [
              0.3333333333333333,
              "#9c179e"
             ],
             [
              0.4444444444444444,
              "#bd3786"
             ],
             [
              0.5555555555555556,
              "#d8576b"
             ],
             [
              0.6666666666666666,
              "#ed7953"
             ],
             [
              0.7777777777777778,
              "#fb9f3a"
             ],
             [
              0.8888888888888888,
              "#fdca26"
             ],
             [
              1,
              "#f0f921"
             ]
            ],
            "type": "heatmap"
           }
          ],
          "heatmapgl": [
           {
            "colorbar": {
             "outlinewidth": 0,
             "ticks": ""
            },
            "colorscale": [
             [
              0,
              "#0d0887"
             ],
             [
              0.1111111111111111,
              "#46039f"
             ],
             [
              0.2222222222222222,
              "#7201a8"
             ],
             [
              0.3333333333333333,
              "#9c179e"
             ],
             [
              0.4444444444444444,
              "#bd3786"
             ],
             [
              0.5555555555555556,
              "#d8576b"
             ],
             [
              0.6666666666666666,
              "#ed7953"
             ],
             [
              0.7777777777777778,
              "#fb9f3a"
             ],
             [
              0.8888888888888888,
              "#fdca26"
             ],
             [
              1,
              "#f0f921"
             ]
            ],
            "type": "heatmapgl"
           }
          ],
          "histogram": [
           {
            "marker": {
             "pattern": {
              "fillmode": "overlay",
              "size": 10,
              "solidity": 0.2
             }
            },
            "type": "histogram"
           }
          ],
          "histogram2d": [
           {
            "colorbar": {
             "outlinewidth": 0,
             "ticks": ""
            },
            "colorscale": [
             [
              0,
              "#0d0887"
             ],
             [
              0.1111111111111111,
              "#46039f"
             ],
             [
              0.2222222222222222,
              "#7201a8"
             ],
             [
              0.3333333333333333,
              "#9c179e"
             ],
             [
              0.4444444444444444,
              "#bd3786"
             ],
             [
              0.5555555555555556,
              "#d8576b"
             ],
             [
              0.6666666666666666,
              "#ed7953"
             ],
             [
              0.7777777777777778,
              "#fb9f3a"
             ],
             [
              0.8888888888888888,
              "#fdca26"
             ],
             [
              1,
              "#f0f921"
             ]
            ],
            "type": "histogram2d"
           }
          ],
          "histogram2dcontour": [
           {
            "colorbar": {
             "outlinewidth": 0,
             "ticks": ""
            },
            "colorscale": [
             [
              0,
              "#0d0887"
             ],
             [
              0.1111111111111111,
              "#46039f"
             ],
             [
              0.2222222222222222,
              "#7201a8"
             ],
             [
              0.3333333333333333,
              "#9c179e"
             ],
             [
              0.4444444444444444,
              "#bd3786"
             ],
             [
              0.5555555555555556,
              "#d8576b"
             ],
             [
              0.6666666666666666,
              "#ed7953"
             ],
             [
              0.7777777777777778,
              "#fb9f3a"
             ],
             [
              0.8888888888888888,
              "#fdca26"
             ],
             [
              1,
              "#f0f921"
             ]
            ],
            "type": "histogram2dcontour"
           }
          ],
          "mesh3d": [
           {
            "colorbar": {
             "outlinewidth": 0,
             "ticks": ""
            },
            "type": "mesh3d"
           }
          ],
          "parcoords": [
           {
            "line": {
             "colorbar": {
              "outlinewidth": 0,
              "ticks": ""
             }
            },
            "type": "parcoords"
           }
          ],
          "pie": [
           {
            "automargin": true,
            "type": "pie"
           }
          ],
          "scatter": [
           {
            "fillpattern": {
             "fillmode": "overlay",
             "size": 10,
             "solidity": 0.2
            },
            "type": "scatter"
           }
          ],
          "scatter3d": [
           {
            "line": {
             "colorbar": {
              "outlinewidth": 0,
              "ticks": ""
             }
            },
            "marker": {
             "colorbar": {
              "outlinewidth": 0,
              "ticks": ""
             }
            },
            "type": "scatter3d"
           }
          ],
          "scattercarpet": [
           {
            "marker": {
             "colorbar": {
              "outlinewidth": 0,
              "ticks": ""
             }
            },
            "type": "scattercarpet"
           }
          ],
          "scattergeo": [
           {
            "marker": {
             "colorbar": {
              "outlinewidth": 0,
              "ticks": ""
             }
            },
            "type": "scattergeo"
           }
          ],
          "scattergl": [
           {
            "marker": {
             "colorbar": {
              "outlinewidth": 0,
              "ticks": ""
             }
            },
            "type": "scattergl"
           }
          ],
          "scattermapbox": [
           {
            "marker": {
             "colorbar": {
              "outlinewidth": 0,
              "ticks": ""
             }
            },
            "type": "scattermapbox"
           }
          ],
          "scatterpolar": [
           {
            "marker": {
             "colorbar": {
              "outlinewidth": 0,
              "ticks": ""
             }
            },
            "type": "scatterpolar"
           }
          ],
          "scatterpolargl": [
           {
            "marker": {
             "colorbar": {
              "outlinewidth": 0,
              "ticks": ""
             }
            },
            "type": "scatterpolargl"
           }
          ],
          "scatterternary": [
           {
            "marker": {
             "colorbar": {
              "outlinewidth": 0,
              "ticks": ""
             }
            },
            "type": "scatterternary"
           }
          ],
          "surface": [
           {
            "colorbar": {
             "outlinewidth": 0,
             "ticks": ""
            },
            "colorscale": [
             [
              0,
              "#0d0887"
             ],
             [
              0.1111111111111111,
              "#46039f"
             ],
             [
              0.2222222222222222,
              "#7201a8"
             ],
             [
              0.3333333333333333,
              "#9c179e"
             ],
             [
              0.4444444444444444,
              "#bd3786"
             ],
             [
              0.5555555555555556,
              "#d8576b"
             ],
             [
              0.6666666666666666,
              "#ed7953"
             ],
             [
              0.7777777777777778,
              "#fb9f3a"
             ],
             [
              0.8888888888888888,
              "#fdca26"
             ],
             [
              1,
              "#f0f921"
             ]
            ],
            "type": "surface"
           }
          ],
          "table": [
           {
            "cells": {
             "fill": {
              "color": "#EBF0F8"
             },
             "line": {
              "color": "white"
             }
            },
            "header": {
             "fill": {
              "color": "#C8D4E3"
             },
             "line": {
              "color": "white"
             }
            },
            "type": "table"
           }
          ]
         },
         "layout": {
          "annotationdefaults": {
           "arrowcolor": "#2a3f5f",
           "arrowhead": 0,
           "arrowwidth": 1
          },
          "autotypenumbers": "strict",
          "coloraxis": {
           "colorbar": {
            "outlinewidth": 0,
            "ticks": ""
           }
          },
          "colorscale": {
           "diverging": [
            [
             0,
             "#8e0152"
            ],
            [
             0.1,
             "#c51b7d"
            ],
            [
             0.2,
             "#de77ae"
            ],
            [
             0.3,
             "#f1b6da"
            ],
            [
             0.4,
             "#fde0ef"
            ],
            [
             0.5,
             "#f7f7f7"
            ],
            [
             0.6,
             "#e6f5d0"
            ],
            [
             0.7,
             "#b8e186"
            ],
            [
             0.8,
             "#7fbc41"
            ],
            [
             0.9,
             "#4d9221"
            ],
            [
             1,
             "#276419"
            ]
           ],
           "sequential": [
            [
             0,
             "#0d0887"
            ],
            [
             0.1111111111111111,
             "#46039f"
            ],
            [
             0.2222222222222222,
             "#7201a8"
            ],
            [
             0.3333333333333333,
             "#9c179e"
            ],
            [
             0.4444444444444444,
             "#bd3786"
            ],
            [
             0.5555555555555556,
             "#d8576b"
            ],
            [
             0.6666666666666666,
             "#ed7953"
            ],
            [
             0.7777777777777778,
             "#fb9f3a"
            ],
            [
             0.8888888888888888,
             "#fdca26"
            ],
            [
             1,
             "#f0f921"
            ]
           ],
           "sequentialminus": [
            [
             0,
             "#0d0887"
            ],
            [
             0.1111111111111111,
             "#46039f"
            ],
            [
             0.2222222222222222,
             "#7201a8"
            ],
            [
             0.3333333333333333,
             "#9c179e"
            ],
            [
             0.4444444444444444,
             "#bd3786"
            ],
            [
             0.5555555555555556,
             "#d8576b"
            ],
            [
             0.6666666666666666,
             "#ed7953"
            ],
            [
             0.7777777777777778,
             "#fb9f3a"
            ],
            [
             0.8888888888888888,
             "#fdca26"
            ],
            [
             1,
             "#f0f921"
            ]
           ]
          },
          "colorway": [
           "#636efa",
           "#EF553B",
           "#00cc96",
           "#ab63fa",
           "#FFA15A",
           "#19d3f3",
           "#FF6692",
           "#B6E880",
           "#FF97FF",
           "#FECB52"
          ],
          "font": {
           "color": "#2a3f5f"
          },
          "geo": {
           "bgcolor": "white",
           "lakecolor": "white",
           "landcolor": "#E5ECF6",
           "showlakes": true,
           "showland": true,
           "subunitcolor": "white"
          },
          "hoverlabel": {
           "align": "left"
          },
          "hovermode": "closest",
          "mapbox": {
           "style": "light"
          },
          "paper_bgcolor": "white",
          "plot_bgcolor": "#E5ECF6",
          "polar": {
           "angularaxis": {
            "gridcolor": "white",
            "linecolor": "white",
            "ticks": ""
           },
           "bgcolor": "#E5ECF6",
           "radialaxis": {
            "gridcolor": "white",
            "linecolor": "white",
            "ticks": ""
           }
          },
          "scene": {
           "xaxis": {
            "backgroundcolor": "#E5ECF6",
            "gridcolor": "white",
            "gridwidth": 2,
            "linecolor": "white",
            "showbackground": true,
            "ticks": "",
            "zerolinecolor": "white"
           },
           "yaxis": {
            "backgroundcolor": "#E5ECF6",
            "gridcolor": "white",
            "gridwidth": 2,
            "linecolor": "white",
            "showbackground": true,
            "ticks": "",
            "zerolinecolor": "white"
           },
           "zaxis": {
            "backgroundcolor": "#E5ECF6",
            "gridcolor": "white",
            "gridwidth": 2,
            "linecolor": "white",
            "showbackground": true,
            "ticks": "",
            "zerolinecolor": "white"
           }
          },
          "shapedefaults": {
           "line": {
            "color": "#2a3f5f"
           }
          },
          "ternary": {
           "aaxis": {
            "gridcolor": "white",
            "linecolor": "white",
            "ticks": ""
           },
           "baxis": {
            "gridcolor": "white",
            "linecolor": "white",
            "ticks": ""
           },
           "bgcolor": "#E5ECF6",
           "caxis": {
            "gridcolor": "white",
            "linecolor": "white",
            "ticks": ""
           }
          },
          "title": {
           "x": 0.05
          },
          "xaxis": {
           "automargin": true,
           "gridcolor": "white",
           "linecolor": "white",
           "ticks": "",
           "title": {
            "standoff": 15
           },
           "zerolinecolor": "white",
           "zerolinewidth": 2
          },
          "yaxis": {
           "automargin": true,
           "gridcolor": "white",
           "linecolor": "white",
           "ticks": "",
           "title": {
            "standoff": 15
           },
           "zerolinecolor": "white",
           "zerolinewidth": 2
          }
         }
        },
        "title": {
         "text": "Range of Motion hipRight"
        },
        "width": 750,
        "xaxis": {
         "title": {
          "font": {
           "color": "#7f7f7f",
           "family": "Courier New, monospace",
           "size": 18
          },
          "text": "time [s]"
         }
        },
        "yaxis": {
         "title": {
          "font": {
           "color": "#7f7f7f",
           "family": "Courier New, monospace",
           "size": 18
          },
          "text": "ROM [gradi]"
         }
        }
       }
      },
      "text/html": [
       "<div>                            <div id=\"314c5679-dee2-49ba-a587-01644444340e\" class=\"plotly-graph-div\" style=\"height:600px; width:750px;\"></div>            <script type=\"text/javascript\">                require([\"plotly\"], function(Plotly) {                    window.PLOTLYENV=window.PLOTLYENV || {};                                    if (document.getElementById(\"314c5679-dee2-49ba-a587-01644444340e\")) {                    Plotly.newPlot(                        \"314c5679-dee2-49ba-a587-01644444340e\",                        [{\"line\":{\"color\":\"blue\",\"width\":3},\"mode\":\"lines\",\"name\":\"Andamento Reale\",\"x\":[1499.2411363124847,1499.3432846069336,1499.4427211284637,1499.54013133049,1499.6420300006866,1499.744064092636,1499.8401839733124,1499.9462168216705,1500.0419936180115,1500.1414563655853,1500.2422320842743,1500.3411314487457,1500.441514492035,1500.541243314743,1500.6429286003113,1500.7421760559082,1500.8417778015137,1500.9413657188416,1501.0417659282684,1501.1428897380829,1501.240436553955,1501.3419153690338,1501.441132068634,1501.5403683185577,1501.6449313163757,1501.7413523197174,1501.8423101902008,1501.9408650398254,1502.04141497612,1502.1416535377502,1502.2421522140503,1502.3436872959137,1502.4428606033325,1502.5419516563416,1502.6438164710999,1502.739751815796,1502.839929819107,1502.9432377815247,1503.0396859645844,1503.1407148838043,1503.2416439056396,1503.3399159908295,1503.4405806064606,1503.542091369629,1503.6399137973785,1503.7397291660309,1503.8402659893036,1503.9417126178741,1504.0408883094788,1504.1431605815887,1504.2412109375,1504.3424327373505,1504.442084312439,1504.5419890880585,1504.6418566703796,1504.7421357631683,1504.8420453071594,1504.9417133331299,1505.0427649021149,1505.1421146392822,1505.2413144111633,1505.3408071994781,1505.4415457248688,1505.542934179306,1505.6415820121765,1505.741807460785,1505.8417615890503,1505.9422342777252,1506.0417664051056,1506.142252922058,1506.2424128055573,1506.3428943157196,1506.4433236122131,1506.5426783561707,1506.6421117782593,1506.74356341362,1506.8419032096863,1506.9436628818512,1507.042890548706,1507.143632888794,1507.2437996864319,1507.34317612648,1507.4439723491669,1507.5464203357697,1507.646990776062,1507.743609905243,1507.844081878662,1507.944857597351,1508.0438890457153,1508.143606185913,1508.2456514835358,1508.3450417518616,1508.444191455841,1508.5442969799042,1508.6431493759155,1508.7441477775574,1508.8442180156708,1508.9457623958588,1509.0446989536285,1509.1442427635193,1509.2483496665955,1509.348049879074,1509.447769165039,1509.5452642440796,1509.6454932689667,1509.7466208934784,1509.8461413383484,1509.9450035095215,1510.0446655750275,1510.1453218460083,1510.2444643974304,1510.3476753234863,1510.444744348526,1510.5449130535126,1510.6449630260468,1510.7453105449677,1510.8460247516632,1510.9460620880127,1511.0450239181519,1511.147045135498,1511.2464575767517,1511.3476495742798,1511.4461619853973,1511.5460538864136,1511.6458253860474,1511.7523272037506,1511.8473920822144,1511.9467968940735,1512.0458340644836,1512.14905834198,1512.2465064525604,1512.3464360237122,1512.4465262889862,1512.5464425086975,1512.6461458206177,1512.7456891536713,1512.846199274063,1512.9469623565674,1513.046472787857,1513.1472702026367,1513.2464673519135,1513.3472352027893,1513.4477665424347,1513.5469961166382,1513.6465792655945,1513.7474553585052,1513.8473408222198,1513.9478917121887,1514.048181295395,1514.1470139026642,1514.2469763755798,1514.347504377365,1514.4472517967224,1514.548014163971,1514.6466579437256,1514.747255563736,1514.8468098640442,1514.9472517967224,1515.0483257770538,1515.1476039886475,1515.2474853992462,1515.349123954773,1515.448129415512,1515.5479564666748,1515.6483643054962,1515.7478876113892,1515.848218679428,1515.9479448795319,1516.0482194423676,1516.149117231369,1516.24773478508,1516.3488357067108,1516.4485018253326,1516.548581123352,1516.6529862880707,1516.7489988803864,1516.8483703136444,1516.9493639469147,1517.0485661029816,1517.1542015075684,1517.2489612102509,1517.3534693717957,1517.4531128406525,1517.553725719452,1517.6531822681427,1517.7508800029755,1517.8505020141602,1517.9501507282257,1518.0533425807953,1518.154797554016,1518.252271413803,1518.3584887981415,1518.4496307373047,1518.5517852306366,1518.6547417640686,1518.751220703125,1518.8547055721283,1518.9500937461853,1519.0509328842163,1519.1500902175903,1519.2508342266083,1519.3509469032288,1519.4529166221619,1519.552564382553,1519.6508638858795,1519.7502257823944,1519.8513631820679,1519.9507722854614,1520.0511844158173,1520.1549203395844,1520.2553119659424,1520.355444908142,1520.4572768211365,1520.5562913417816,1520.6547539234161,1520.7517511844635,1520.852136850357,1520.956214427948,1521.0517673492432,1521.151982307434,1521.2533135414124,1521.3525230884552,1521.4546430110931,1521.5537049770355,1521.6560616493225,1521.756957769394,1521.861038684845,1521.9608080387115,1522.0553195476532,1522.1532826423645,1522.2527394294739,1522.3522148132324,1522.4540903568268,1522.5571751594543,1522.654535293579,1522.7544548511505,1522.8560378551483,1522.953887462616,1523.0526440143585,1523.1566863059998,1523.2580780982971,1523.3567478656769,1523.454469203949,1523.5542244911194,1523.658311843872,1523.7581009864807,1523.8582689762115,1523.953364610672,1524.054563999176,1524.1584029197693,1524.2576098442078,1524.3543453216553,1524.4550700187683,1524.5540347099304,1524.6535897254944,1524.753868341446,1524.853411436081,1524.95521068573,1525.054139137268,1525.1547272205353,1525.2555606365204,1525.3549020290375,1525.4566402435303,1525.5587475299835,1525.6535289287567,1525.7547373771667,1525.8536713123322,1525.9546175003052,1526.0546753406525,1526.1549615859985,1526.255040884018,1526.3548610210419,1526.454764842987,1526.5555267333984,1526.6554877758026,1526.7556302547455,1526.8551664352417,1526.9557905197144,1527.0557622909546,1527.1561093330383,1527.2571275234222,1527.356971502304,1527.457272529602,1527.5553719997406,1527.6574912071228,1527.757332086563,1527.8562273979187,1527.9594457149506,1528.0566897392273,1528.1583421230316,1528.2581007480621,1528.355853319168,1528.4608187675476,1528.5574316978455,1528.6561155319214,1528.7592558860779,1528.8586099147797,1528.9628987312317,1529.0560810565948,1529.1571590900421,1529.2560682296753,1529.3564767837524,1529.456878900528,1529.5586001873016,1529.657800912857,1529.7575800418854,1529.8577151298523,1529.9580373764038,1530.0567288398743,1530.157428264618,1530.2587399482727,1530.3589704036713,1530.457849740982,1530.5578382015228,1530.658446073532,1530.757824897766,1530.8616199493408,1530.960708618164,1531.059900522232,1531.162596464157,1531.2573883533478,1531.3600792884827,1531.458923816681,1531.5627195835114,1531.6612637043,1531.7576656341553,1531.8620171546936,1531.9599452018738,1532.0599632263184,1532.1607375144958,1532.259782075882,1532.3589525222778,1532.4589982032776,1532.5596570968628,1532.660763502121,1532.759989976883,1532.859920501709,1532.9633507728577,1533.0590443611145,1533.159485578537,1533.2591478824615,1533.358909368515,1533.4588725566864,1533.5592203140259,1533.6601333618164,1533.758960723877,1533.8600804805756,1533.9596378803253,1534.0594065189362,1534.1598281860352,1534.2596225738525,1534.360122680664,1534.4612867832184,1534.5604510307312,1534.6615297794342,1534.76198220253,1534.8614101409912,1534.9614522457123,1535.0600357055664,1535.1603939533234,1535.2622575759888,1535.3602058887482,1535.462120294571,1535.56028008461,1535.6601366996765,1535.7611837387085,1535.8639693260193,1535.9614548683167,1536.06116604805,1536.1607356071472,1536.2609808444977,1536.3626313209534,1536.4609956741333,1536.564481496811,1536.6640095710754,1536.763158082962,1536.8629369735718,1536.9626727104187,1537.0616796016693,1537.1621129512787,1537.2617573738098,1537.3618972301483,1537.462711572647,1537.562515258789,1537.6621596813202,1537.7639846801758,1537.8620209693909,1537.9622814655304,1538.0627496242523,1538.1621263027191,1538.2627971172333,1538.366781949997,1538.4637882709503,1538.563273191452,1538.66330909729,1538.7667174339294,1538.8636915683746,1538.9630060195923,1539.063859462738,1539.1625623703003,1539.2660901546478,1539.3630833625793,1539.464448928833,1539.5636985301971,1539.6643221378326,1539.7645237445831,1539.8643732070923,1539.9644606113434,1540.0639703273773,1540.1641156673431,1540.2658836841583,1540.3652892112732,1540.4671607017517,1540.5652508735657,1540.669272184372,1540.7651839256287,1540.8669271469116,1540.9673836231232,1541.0654036998749,1541.1660828590393,1541.2674746513367,1541.3676433563232,1541.4656250476837,1541.5665922164917,1541.6681351661682,1541.7672548294067,1541.867030620575,1541.9676649570465,1542.0670235157013,1542.1689057350159,1542.2671897411346,1542.3672127723694,1542.4686870574951,1542.5665442943573,1542.6705791950226,1542.7696046829224,1542.8668971061707,1542.966644525528,1543.0735685825348,1543.1732482910156,1543.267774105072,1543.3676788806915,1543.4672544002533,1543.5671184062958,1543.6677463054657,1543.7675108909607,1543.8679871559143,1543.9693717956543,1544.0663883686066,1544.1677677631378,1544.268888950348,1544.3663485050201,1544.4664885997772,1544.5660860538483,1544.6669471263885,1544.76717877388,1544.8672885894775,1544.9685242176056,1545.0670084953308,1545.1677951812744,1545.2673869132996,1545.3672273159027,1545.467891216278,1545.575178861618,1545.6677899360657,1545.7664551734924,1545.8665204048157,1545.9671485424042,1546.0674130916595,1546.1681797504425,1546.2676408290863,1546.367078781128,1546.4679577350616,1546.5685453414917,1546.6769742965698,1546.7727680206299,1546.8680868148804,1546.9686315059662,1547.069181919098,1547.167875289917,1547.2677521705627,1547.3686332702637,1547.4707067012787,1547.5683662891388,1547.6724834442139,1547.769639492035,1547.8712072372437,1547.9770529270172,1548.072209596634,1548.173274755478,1548.2715876102448,1548.371628522873,1548.4709198474884,1548.5714690685272,1548.671296596527,1548.7715110778809,1548.8716838359833,1548.97434091568,1549.070969581604,1549.174753665924,1549.2744188308716,1549.3733451366425,1549.4734070301056,1549.5742897987366,1549.6723790168762,1549.7728595733643,1549.8727250099182,1549.9772119522095,1550.0720105171204,1550.1710896492004,1550.2725031375885,1550.3713836669922,1550.4781966209412,1550.5779829025269,1550.6775233745575,1550.774284362793,1550.87375998497,1550.979849100113,1551.0752232074738,1551.1747436523438,1551.2786514759064,1551.3792498111725,1551.478197336197,1551.579080581665,1551.67942070961,1551.77863407135,1551.880181312561,1551.9783499240875,1552.0735130310059,1552.1743123531342,1552.2738902568817,1552.3736426830292,1552.4735062122345,1552.5737590789795,1552.6750376224518,1552.774917125702,1552.874896287918,1552.9747967720032,1553.0752203464508,1553.1760432720184,1553.2762243747711,1553.3725430965424,1553.472339630127,1553.5719089508057,1553.671792268753,1553.7730875015259,1553.8719074726105,1553.9732356071472,1554.072648525238,1554.172200679779,1554.2724151611328,1554.3731021881104,1554.4731767177582,1554.5727956295013,1554.673753976822,1554.7773764133453,1554.8747208118439,1554.9741613864899,1555.0747776031494,1555.1755096912384,1555.279501914978,1555.3744592666626,1555.4760527610779,1555.5740582942963,1555.6754522323608,1555.7753405570984,1555.8802742958069,1555.9759588241577,1556.074725151062,1556.1759669780731,1556.2756700515747,1556.3753113746643,1556.4837319850922,1556.5750107765198,1556.6751630306244,1556.7765123844147,1556.8782150745392,1556.9785902500153,1557.0765113830566,1557.1777567863464,1557.2783045768738,1557.3775517940521,1557.4797596931458,1557.5780041217804,1557.6780152320862,1557.7778115272522,1557.876960515976,1557.9770517349243,1558.076621055603,1558.180831193924,1558.2854754924774,1558.3767499923706,1558.4804351329803,1558.579921722412,1558.677288532257,1558.7769978046417,1558.8778581619263,1558.9787356853485,1559.0771126747131,1559.1767921447754,1559.278477191925,1559.378291606903,1559.4775824546814,1559.5807921886444,1559.6776638031006,1559.778058052063,1559.8830723762512,1559.9832768440247,1560.0840981006622,1560.1845769882202,1560.2789707183838,1560.3786268234253,1560.47776389122,1560.5785915851593,1560.6796667575836,1560.7791197299957,1560.87948346138,1560.978010892868,1561.0784831047058,1561.1786596775055,1561.2765908241272,1561.3838136196136,1561.4774813652039,1561.5815932750702,1561.6770639419556,1561.7776787281036,1561.877956867218,1561.9779877662659,1562.0776226520538,1562.1785109043121,1562.2782335281372,1562.3815352916718,1562.4804756641388,1562.5775909423828,1562.6809916496277,1562.7826879024506,1562.8828573226929,1562.9838132858276,1563.0780189037323,1563.1789796352386,1563.2802908420563,1563.3813588619232,1563.480254650116,1563.5809354782104,1563.680933713913,1563.7801339626312,1563.880723953247,1563.9811205863953,1564.0802714824677,1564.1794838905334,1564.2845251560211,1564.3794884681702,1564.4791498184204,1564.5835678577423,1564.6808955669403,1564.7788915634155,1564.8795139789581,1564.9836478233337,1565.07950258255,1565.1825184822083,1565.2819392681122,1565.380526304245,1565.4812269210815,1565.5805473327637,1565.684333562851,1565.785714149475,1565.8849048614502,1565.9807634353638,1566.0813398361206,1566.1810414791107,1566.283430814743,1566.383866071701,1566.484350681305,1566.5904591083527,1566.6800830364227,1566.7800760269165,1566.8805696964264,1566.9809465408325,1567.0811483860016,1567.1813688278198,1567.2823538780212,1567.3819682598114,1567.4816749095917,1567.5819344520569,1567.6825020313263,1567.781952381134,1567.881548166275,1567.982048034668,1568.0820636749268,1568.1820254325867,1568.281239271164,1568.3812518119812,1568.4811825752258,1568.5819082260132,1568.6818380355835,1568.7822697162628,1568.8816404342651,1568.9819226264954,1569.0865490436554,1569.186048746109,1569.282539844513,1569.3828761577606,1569.4822869300842,1569.58291721344,1569.6838479042053,1569.7846109867096,1569.8823783397675,1569.9836070537567,1570.0831260681152,1570.1819534301758,1570.2878515720367,1570.3924379348755,1570.4909138679504,1570.5902736186981,1570.6988174915314,1570.7904138565063,1570.8904962539673,1570.9899044036865,1571.0898532867432,1571.1898276805878,1571.289258480072,1571.3903584480286,1571.4897434711456,1571.5904321670532,1571.6920642852783,1571.7911806106567,1571.8918182849884,1571.9967155456543,1572.1017162799835,1572.2009263038635,1572.2912111282349,1572.3967843055725,1572.4991810321808,1572.5943253040314,1572.6906354427338,1572.7905294895172,1572.891780614853,1572.9911139011383,1573.0927135944366,1573.1920285224915],\"y\":[90.0,90.0,90.0,90.0,90.0,90.0,90.0,90.0,90.0,90.0,90.0,90.0,90.0,90.0,90.0,90.0,90.0,90.0,90.0,90.0,90.0,90.0,90.0,90.0,90.0,90.0,90.0,90.0,90.0,90.0,90.0,90.0,90.0,90.0,90.0,90.0,90.0,90.0,90.0,90.0,90.0,90.0,90.0,90.0,90.0,90.0,90.0,90.0,90.0,90.0,90.0,90.0,90.0,90.0,90.0,90.0,90.0,90.0,90.0,90.0,90.0,90.0,90.0,90.0,90.0,90.0,90.0,90.0,90.0,90.0,90.0,90.0,90.0,90.0,90.0,90.0,90.0,90.0,90.0,90.0,90.0,90.0,90.0,90.0,90.0,90.0,90.0,90.0,90.0,90.0,90.0,90.0,90.0,90.0,90.0,90.0,90.0,90.0,90.0,90.0,90.0,90.0,90.0,90.0,90.0,90.0,90.0,90.0,90.0,90.0,90.0,90.0,90.0,90.0,90.0,90.0,90.0,90.0,90.0,90.0,90.0,90.0,90.0,90.0,90.0,90.0,90.0,90.0,90.0,90.0,90.0,90.0,90.0,90.0,90.0,90.0,90.0,90.0,90.0,90.0,90.0,90.0,90.0,90.0,90.0,90.0,90.0,90.0,90.0,90.0,90.0,90.0,90.0,90.0,90.0,90.0,90.0,90.0,90.0,90.0,90.0,90.0,90.0,90.0,90.0,90.0,90.0,90.0,90.0,90.0,90.0,90.0,90.0,90.0,90.0,90.0,90.0,90.0,90.0,90.0,90.0,90.0,90.0,90.0,90.0,90.0,90.0,90.0,90.0,90.0,90.0,90.0,90.0,90.0,90.0,90.0,90.0,90.0,90.0,90.0,90.0,90.0,90.0,90.0,90.0,90.0,90.0,90.0,90.0,90.0,90.0,90.0,90.0,90.0,90.0,90.0,90.0,90.0,90.0,90.0,90.0,90.0,90.0,90.0,90.0,90.0,90.0,90.0,90.0,90.0,90.0,90.0,90.0,90.0,90.0,90.0,90.0,90.0,90.0,90.0,90.0,90.0,90.0,90.0,90.0,90.0,90.0,90.0,90.0,90.0,90.0,90.0,90.0,90.0,90.0,90.0,90.0,90.0,90.0,90.0,90.0,90.0,90.0,90.0,90.0,90.0,90.0,90.0,90.0,90.0,90.0,90.0,90.0,90.0,90.0,90.0,90.0,90.0,90.0,90.0,90.0,90.0,90.0,90.0,90.0,90.0,90.0,90.0,90.0,90.0,90.0,90.0,90.0,90.0,90.0,90.0,90.0,90.0,90.0,90.0,90.0,90.0,90.0,90.0,90.0,90.0,90.0,90.0,90.0,90.0,90.0,90.0,90.0,90.0,90.0,90.0,90.0,90.0,90.0,90.0,90.0,90.0,90.0,90.0,90.0,90.0,90.0,90.0,90.0,90.0,90.0,90.0,90.0,90.0,90.0,90.0,90.0,90.0,90.0,90.0,90.0,90.0,90.0,90.0,90.0,90.0,90.0,90.0,90.0,90.0,90.0,90.0,90.0,90.0,90.0,90.0,90.0,90.0,90.0,90.0,90.0,90.0,90.0,90.0,90.0,90.0,90.0,90.0,90.0,90.0,90.0,90.0,90.0,90.0,90.0,90.0,90.0,90.0,90.0,90.0,90.0,90.0,90.0,90.0,90.0,90.0,90.0,90.0,90.0,90.0,90.0,90.0,90.0,90.0,90.0,90.0,90.0,90.0,90.0,90.0,90.0,90.0,90.0,90.0,90.0,90.0,90.0,90.0,90.0,90.0,90.0,90.0,90.0,90.0,90.0,90.0,90.0,90.0,90.0,90.0,90.0,90.0,90.0,90.0,90.0,90.0,90.0,90.0,90.0,90.0,90.0,90.0,90.0,90.0,90.0,90.0,90.0,90.0,90.0,90.0,90.0,90.0,90.0,90.0,90.0,90.0,90.0,90.0,90.0,90.0,90.0,90.0,90.0,90.0,90.0,90.0,90.0,90.0,90.0,90.0,90.0,90.0,90.0,90.0,90.0,90.0,90.0,90.0,90.0,90.0,90.0,90.0,90.0,90.0,90.0,90.0,90.0,90.0,90.0,90.0,90.0,90.0,90.0,90.0,90.0,90.0,90.0,90.0,90.0,90.0,90.0,90.0,90.0,90.0,90.0,90.0,90.0,90.0,90.0,90.0,90.0,90.0,90.0,90.0,90.0,90.0,90.0,90.0,90.0,90.0,90.0,90.0,90.0,90.0,90.0,90.0,90.0,90.0,90.0,90.0,90.0,90.0,90.0,90.0,90.0,90.0,90.0,90.0,90.0,90.0,90.0,90.0,90.0,90.0,90.0,90.0,90.0,90.0,90.0,90.0,90.0,90.0,90.0,90.0,90.0,90.0,90.0,90.0,90.0,90.0,90.0,90.0,90.0,90.0,90.0,90.0,90.0,90.0,90.0,90.0,90.0,90.0,90.0,90.0,90.0,90.0,90.0,90.0,90.0,90.0,90.0,90.0,90.0,90.0,90.0,90.0,90.0,90.0,90.0,90.0,90.0,90.0,90.0,90.0,90.0,90.0,90.0,90.0,90.0,90.0,90.0,90.0,90.0,90.0,90.0,90.0,90.0,90.0,90.0,90.0,90.0,90.0,90.0,90.0,90.0,90.0,90.0,90.0,90.0,90.0,90.0,90.0,90.0,90.0,90.0,90.0,90.0,90.0,90.0,90.0,90.0,90.0,90.0,90.0,90.0,90.0,90.0,90.0,90.0,90.0,90.0,90.0,90.0,90.0,90.0,90.0,90.0,90.0,90.0,90.0,90.0,90.0,90.0,90.0,90.0,90.0,90.0,90.0,90.0,90.0,90.0,90.0,90.0,90.0,90.0,90.0,90.0,90.0,90.0,90.0,90.0,90.0,90.0,90.0,90.0,90.0,90.0,90.0,90.0,90.0,90.0,90.0,90.0,90.0,90.0,90.0,90.0,90.0,90.0,90.0,90.0,90.0,90.0,90.0,90.0,90.0,90.0,90.0,90.0,90.0,90.0,90.0,90.0,90.0,90.0,90.0,90.0,90.0,90.0,90.0,90.0,90.0,90.0,90.0,90.0,90.0,90.0,90.0,90.0,90.0,90.0,90.0,90.0,90.0,90.0,90.0,90.0,90.0,90.0,90.0,90.0,90.0,90.0,90.0,90.0,90.0,90.0,90.0,90.0,90.0,90.0,90.0,90.0,90.0,90.0,90.0,90.0,90.0,90.0],\"type\":\"scatter\"}],                        {\"autosize\":false,\"font\":{\"color\":\"black\",\"family\":\"Courier New, monospace\",\"size\":22},\"height\":600,\"template\":{\"data\":{\"barpolar\":[{\"marker\":{\"line\":{\"color\":\"#E5ECF6\",\"width\":0.5},\"pattern\":{\"fillmode\":\"overlay\",\"size\":10,\"solidity\":0.2}},\"type\":\"barpolar\"}],\"bar\":[{\"error_x\":{\"color\":\"#2a3f5f\"},\"error_y\":{\"color\":\"#2a3f5f\"},\"marker\":{\"line\":{\"color\":\"#E5ECF6\",\"width\":0.5},\"pattern\":{\"fillmode\":\"overlay\",\"size\":10,\"solidity\":0.2}},\"type\":\"bar\"}],\"carpet\":[{\"aaxis\":{\"endlinecolor\":\"#2a3f5f\",\"gridcolor\":\"white\",\"linecolor\":\"white\",\"minorgridcolor\":\"white\",\"startlinecolor\":\"#2a3f5f\"},\"baxis\":{\"endlinecolor\":\"#2a3f5f\",\"gridcolor\":\"white\",\"linecolor\":\"white\",\"minorgridcolor\":\"white\",\"startlinecolor\":\"#2a3f5f\"},\"type\":\"carpet\"}],\"choropleth\":[{\"colorbar\":{\"outlinewidth\":0,\"ticks\":\"\"},\"type\":\"choropleth\"}],\"contourcarpet\":[{\"colorbar\":{\"outlinewidth\":0,\"ticks\":\"\"},\"type\":\"contourcarpet\"}],\"contour\":[{\"colorbar\":{\"outlinewidth\":0,\"ticks\":\"\"},\"colorscale\":[[0.0,\"#0d0887\"],[0.1111111111111111,\"#46039f\"],[0.2222222222222222,\"#7201a8\"],[0.3333333333333333,\"#9c179e\"],[0.4444444444444444,\"#bd3786\"],[0.5555555555555556,\"#d8576b\"],[0.6666666666666666,\"#ed7953\"],[0.7777777777777778,\"#fb9f3a\"],[0.8888888888888888,\"#fdca26\"],[1.0,\"#f0f921\"]],\"type\":\"contour\"}],\"heatmapgl\":[{\"colorbar\":{\"outlinewidth\":0,\"ticks\":\"\"},\"colorscale\":[[0.0,\"#0d0887\"],[0.1111111111111111,\"#46039f\"],[0.2222222222222222,\"#7201a8\"],[0.3333333333333333,\"#9c179e\"],[0.4444444444444444,\"#bd3786\"],[0.5555555555555556,\"#d8576b\"],[0.6666666666666666,\"#ed7953\"],[0.7777777777777778,\"#fb9f3a\"],[0.8888888888888888,\"#fdca26\"],[1.0,\"#f0f921\"]],\"type\":\"heatmapgl\"}],\"heatmap\":[{\"colorbar\":{\"outlinewidth\":0,\"ticks\":\"\"},\"colorscale\":[[0.0,\"#0d0887\"],[0.1111111111111111,\"#46039f\"],[0.2222222222222222,\"#7201a8\"],[0.3333333333333333,\"#9c179e\"],[0.4444444444444444,\"#bd3786\"],[0.5555555555555556,\"#d8576b\"],[0.6666666666666666,\"#ed7953\"],[0.7777777777777778,\"#fb9f3a\"],[0.8888888888888888,\"#fdca26\"],[1.0,\"#f0f921\"]],\"type\":\"heatmap\"}],\"histogram2dcontour\":[{\"colorbar\":{\"outlinewidth\":0,\"ticks\":\"\"},\"colorscale\":[[0.0,\"#0d0887\"],[0.1111111111111111,\"#46039f\"],[0.2222222222222222,\"#7201a8\"],[0.3333333333333333,\"#9c179e\"],[0.4444444444444444,\"#bd3786\"],[0.5555555555555556,\"#d8576b\"],[0.6666666666666666,\"#ed7953\"],[0.7777777777777778,\"#fb9f3a\"],[0.8888888888888888,\"#fdca26\"],[1.0,\"#f0f921\"]],\"type\":\"histogram2dcontour\"}],\"histogram2d\":[{\"colorbar\":{\"outlinewidth\":0,\"ticks\":\"\"},\"colorscale\":[[0.0,\"#0d0887\"],[0.1111111111111111,\"#46039f\"],[0.2222222222222222,\"#7201a8\"],[0.3333333333333333,\"#9c179e\"],[0.4444444444444444,\"#bd3786\"],[0.5555555555555556,\"#d8576b\"],[0.6666666666666666,\"#ed7953\"],[0.7777777777777778,\"#fb9f3a\"],[0.8888888888888888,\"#fdca26\"],[1.0,\"#f0f921\"]],\"type\":\"histogram2d\"}],\"histogram\":[{\"marker\":{\"pattern\":{\"fillmode\":\"overlay\",\"size\":10,\"solidity\":0.2}},\"type\":\"histogram\"}],\"mesh3d\":[{\"colorbar\":{\"outlinewidth\":0,\"ticks\":\"\"},\"type\":\"mesh3d\"}],\"parcoords\":[{\"line\":{\"colorbar\":{\"outlinewidth\":0,\"ticks\":\"\"}},\"type\":\"parcoords\"}],\"pie\":[{\"automargin\":true,\"type\":\"pie\"}],\"scatter3d\":[{\"line\":{\"colorbar\":{\"outlinewidth\":0,\"ticks\":\"\"}},\"marker\":{\"colorbar\":{\"outlinewidth\":0,\"ticks\":\"\"}},\"type\":\"scatter3d\"}],\"scattercarpet\":[{\"marker\":{\"colorbar\":{\"outlinewidth\":0,\"ticks\":\"\"}},\"type\":\"scattercarpet\"}],\"scattergeo\":[{\"marker\":{\"colorbar\":{\"outlinewidth\":0,\"ticks\":\"\"}},\"type\":\"scattergeo\"}],\"scattergl\":[{\"marker\":{\"colorbar\":{\"outlinewidth\":0,\"ticks\":\"\"}},\"type\":\"scattergl\"}],\"scattermapbox\":[{\"marker\":{\"colorbar\":{\"outlinewidth\":0,\"ticks\":\"\"}},\"type\":\"scattermapbox\"}],\"scatterpolargl\":[{\"marker\":{\"colorbar\":{\"outlinewidth\":0,\"ticks\":\"\"}},\"type\":\"scatterpolargl\"}],\"scatterpolar\":[{\"marker\":{\"colorbar\":{\"outlinewidth\":0,\"ticks\":\"\"}},\"type\":\"scatterpolar\"}],\"scatter\":[{\"fillpattern\":{\"fillmode\":\"overlay\",\"size\":10,\"solidity\":0.2},\"type\":\"scatter\"}],\"scatterternary\":[{\"marker\":{\"colorbar\":{\"outlinewidth\":0,\"ticks\":\"\"}},\"type\":\"scatterternary\"}],\"surface\":[{\"colorbar\":{\"outlinewidth\":0,\"ticks\":\"\"},\"colorscale\":[[0.0,\"#0d0887\"],[0.1111111111111111,\"#46039f\"],[0.2222222222222222,\"#7201a8\"],[0.3333333333333333,\"#9c179e\"],[0.4444444444444444,\"#bd3786\"],[0.5555555555555556,\"#d8576b\"],[0.6666666666666666,\"#ed7953\"],[0.7777777777777778,\"#fb9f3a\"],[0.8888888888888888,\"#fdca26\"],[1.0,\"#f0f921\"]],\"type\":\"surface\"}],\"table\":[{\"cells\":{\"fill\":{\"color\":\"#EBF0F8\"},\"line\":{\"color\":\"white\"}},\"header\":{\"fill\":{\"color\":\"#C8D4E3\"},\"line\":{\"color\":\"white\"}},\"type\":\"table\"}]},\"layout\":{\"annotationdefaults\":{\"arrowcolor\":\"#2a3f5f\",\"arrowhead\":0,\"arrowwidth\":1},\"autotypenumbers\":\"strict\",\"coloraxis\":{\"colorbar\":{\"outlinewidth\":0,\"ticks\":\"\"}},\"colorscale\":{\"diverging\":[[0,\"#8e0152\"],[0.1,\"#c51b7d\"],[0.2,\"#de77ae\"],[0.3,\"#f1b6da\"],[0.4,\"#fde0ef\"],[0.5,\"#f7f7f7\"],[0.6,\"#e6f5d0\"],[0.7,\"#b8e186\"],[0.8,\"#7fbc41\"],[0.9,\"#4d9221\"],[1,\"#276419\"]],\"sequential\":[[0.0,\"#0d0887\"],[0.1111111111111111,\"#46039f\"],[0.2222222222222222,\"#7201a8\"],[0.3333333333333333,\"#9c179e\"],[0.4444444444444444,\"#bd3786\"],[0.5555555555555556,\"#d8576b\"],[0.6666666666666666,\"#ed7953\"],[0.7777777777777778,\"#fb9f3a\"],[0.8888888888888888,\"#fdca26\"],[1.0,\"#f0f921\"]],\"sequentialminus\":[[0.0,\"#0d0887\"],[0.1111111111111111,\"#46039f\"],[0.2222222222222222,\"#7201a8\"],[0.3333333333333333,\"#9c179e\"],[0.4444444444444444,\"#bd3786\"],[0.5555555555555556,\"#d8576b\"],[0.6666666666666666,\"#ed7953\"],[0.7777777777777778,\"#fb9f3a\"],[0.8888888888888888,\"#fdca26\"],[1.0,\"#f0f921\"]]},\"colorway\":[\"#636efa\",\"#EF553B\",\"#00cc96\",\"#ab63fa\",\"#FFA15A\",\"#19d3f3\",\"#FF6692\",\"#B6E880\",\"#FF97FF\",\"#FECB52\"],\"font\":{\"color\":\"#2a3f5f\"},\"geo\":{\"bgcolor\":\"white\",\"lakecolor\":\"white\",\"landcolor\":\"#E5ECF6\",\"showlakes\":true,\"showland\":true,\"subunitcolor\":\"white\"},\"hoverlabel\":{\"align\":\"left\"},\"hovermode\":\"closest\",\"mapbox\":{\"style\":\"light\"},\"paper_bgcolor\":\"white\",\"plot_bgcolor\":\"#E5ECF6\",\"polar\":{\"angularaxis\":{\"gridcolor\":\"white\",\"linecolor\":\"white\",\"ticks\":\"\"},\"bgcolor\":\"#E5ECF6\",\"radialaxis\":{\"gridcolor\":\"white\",\"linecolor\":\"white\",\"ticks\":\"\"}},\"scene\":{\"xaxis\":{\"backgroundcolor\":\"#E5ECF6\",\"gridcolor\":\"white\",\"gridwidth\":2,\"linecolor\":\"white\",\"showbackground\":true,\"ticks\":\"\",\"zerolinecolor\":\"white\"},\"yaxis\":{\"backgroundcolor\":\"#E5ECF6\",\"gridcolor\":\"white\",\"gridwidth\":2,\"linecolor\":\"white\",\"showbackground\":true,\"ticks\":\"\",\"zerolinecolor\":\"white\"},\"zaxis\":{\"backgroundcolor\":\"#E5ECF6\",\"gridcolor\":\"white\",\"gridwidth\":2,\"linecolor\":\"white\",\"showbackground\":true,\"ticks\":\"\",\"zerolinecolor\":\"white\"}},\"shapedefaults\":{\"line\":{\"color\":\"#2a3f5f\"}},\"ternary\":{\"aaxis\":{\"gridcolor\":\"white\",\"linecolor\":\"white\",\"ticks\":\"\"},\"baxis\":{\"gridcolor\":\"white\",\"linecolor\":\"white\",\"ticks\":\"\"},\"bgcolor\":\"#E5ECF6\",\"caxis\":{\"gridcolor\":\"white\",\"linecolor\":\"white\",\"ticks\":\"\"}},\"title\":{\"x\":0.05},\"xaxis\":{\"automargin\":true,\"gridcolor\":\"white\",\"linecolor\":\"white\",\"ticks\":\"\",\"title\":{\"standoff\":15},\"zerolinecolor\":\"white\",\"zerolinewidth\":2},\"yaxis\":{\"automargin\":true,\"gridcolor\":\"white\",\"linecolor\":\"white\",\"ticks\":\"\",\"title\":{\"standoff\":15},\"zerolinecolor\":\"white\",\"zerolinewidth\":2}}},\"title\":{\"text\":\"Range of Motion hipRight\"},\"width\":750,\"xaxis\":{\"title\":{\"font\":{\"color\":\"#7f7f7f\",\"family\":\"Courier New, monospace\",\"size\":18},\"text\":\"time [s]\"}},\"yaxis\":{\"title\":{\"font\":{\"color\":\"#7f7f7f\",\"family\":\"Courier New, monospace\",\"size\":18},\"text\":\"ROM [gradi]\"}}},                        {\"responsive\": true}                    ).then(function(){\n",
       "                            \n",
       "var gd = document.getElementById('314c5679-dee2-49ba-a587-01644444340e');\n",
       "var x = new MutationObserver(function (mutations, observer) {{\n",
       "        var display = window.getComputedStyle(gd).display;\n",
       "        if (!display || display === 'none') {{\n",
       "            console.log([gd, 'removed!']);\n",
       "            Plotly.purge(gd);\n",
       "            observer.disconnect();\n",
       "        }}\n",
       "}});\n",
       "\n",
       "// Listen for the removal of the full notebook cells\n",
       "var notebookContainer = gd.closest('#notebook-container');\n",
       "if (notebookContainer) {{\n",
       "    x.observe(notebookContainer, {childList: true});\n",
       "}}\n",
       "\n",
       "// Listen for the clearing of the current output cell\n",
       "var outputEl = gd.closest('.output');\n",
       "if (outputEl) {{\n",
       "    x.observe(outputEl, {childList: true});\n",
       "}}\n",
       "\n",
       "                        })                };                });            </script>        </div>"
      ]
     },
     "metadata": {},
     "output_type": "display_data"
    },
    {
     "data": {
      "application/vnd.plotly.v1+json": {
       "config": {
        "linkText": "Export to plot.ly",
        "plotlyServerURL": "https://plot.ly",
        "showLink": false
       },
       "data": [
        {
         "line": {
          "color": "blue",
          "width": 3
         },
         "mode": "lines",
         "name": "Andamento Reale",
         "type": "scatter",
         "x": [
          1499.2411363124847,
          1499.3432846069336,
          1499.4427211284637,
          1499.54013133049,
          1499.6420300006866,
          1499.744064092636,
          1499.8401839733124,
          1499.9462168216705,
          1500.0419936180115,
          1500.1414563655853,
          1500.2422320842743,
          1500.3411314487457,
          1500.441514492035,
          1500.541243314743,
          1500.6429286003113,
          1500.7421760559082,
          1500.8417778015137,
          1500.9413657188416,
          1501.0417659282684,
          1501.1428897380829,
          1501.240436553955,
          1501.3419153690338,
          1501.441132068634,
          1501.5403683185577,
          1501.6449313163757,
          1501.7413523197174,
          1501.8423101902008,
          1501.9408650398254,
          1502.04141497612,
          1502.1416535377502,
          1502.2421522140503,
          1502.3436872959137,
          1502.4428606033325,
          1502.5419516563416,
          1502.6438164710999,
          1502.739751815796,
          1502.839929819107,
          1502.9432377815247,
          1503.0396859645844,
          1503.1407148838043,
          1503.2416439056396,
          1503.3399159908295,
          1503.4405806064606,
          1503.542091369629,
          1503.6399137973785,
          1503.7397291660309,
          1503.8402659893036,
          1503.9417126178741,
          1504.0408883094788,
          1504.1431605815887,
          1504.2412109375,
          1504.3424327373505,
          1504.442084312439,
          1504.5419890880585,
          1504.6418566703796,
          1504.7421357631683,
          1504.8420453071594,
          1504.9417133331299,
          1505.0427649021149,
          1505.1421146392822,
          1505.2413144111633,
          1505.3408071994781,
          1505.4415457248688,
          1505.542934179306,
          1505.6415820121765,
          1505.741807460785,
          1505.8417615890503,
          1505.9422342777252,
          1506.0417664051056,
          1506.142252922058,
          1506.2424128055573,
          1506.3428943157196,
          1506.4433236122131,
          1506.5426783561707,
          1506.6421117782593,
          1506.74356341362,
          1506.8419032096863,
          1506.9436628818512,
          1507.042890548706,
          1507.143632888794,
          1507.2437996864319,
          1507.34317612648,
          1507.4439723491669,
          1507.5464203357697,
          1507.646990776062,
          1507.743609905243,
          1507.844081878662,
          1507.944857597351,
          1508.0438890457153,
          1508.143606185913,
          1508.2456514835358,
          1508.3450417518616,
          1508.444191455841,
          1508.5442969799042,
          1508.6431493759155,
          1508.7441477775574,
          1508.8442180156708,
          1508.9457623958588,
          1509.0446989536285,
          1509.1442427635193,
          1509.2483496665955,
          1509.348049879074,
          1509.447769165039,
          1509.5452642440796,
          1509.6454932689667,
          1509.7466208934784,
          1509.8461413383484,
          1509.9450035095215,
          1510.0446655750275,
          1510.1453218460083,
          1510.2444643974304,
          1510.3476753234863,
          1510.444744348526,
          1510.5449130535126,
          1510.6449630260468,
          1510.7453105449677,
          1510.8460247516632,
          1510.9460620880127,
          1511.0450239181519,
          1511.147045135498,
          1511.2464575767517,
          1511.3476495742798,
          1511.4461619853973,
          1511.5460538864136,
          1511.6458253860474,
          1511.7523272037506,
          1511.8473920822144,
          1511.9467968940735,
          1512.0458340644836,
          1512.14905834198,
          1512.2465064525604,
          1512.3464360237122,
          1512.4465262889862,
          1512.5464425086975,
          1512.6461458206177,
          1512.7456891536713,
          1512.846199274063,
          1512.9469623565674,
          1513.046472787857,
          1513.1472702026367,
          1513.2464673519135,
          1513.3472352027893,
          1513.4477665424347,
          1513.5469961166382,
          1513.6465792655945,
          1513.7474553585052,
          1513.8473408222198,
          1513.9478917121887,
          1514.048181295395,
          1514.1470139026642,
          1514.2469763755798,
          1514.347504377365,
          1514.4472517967224,
          1514.548014163971,
          1514.6466579437256,
          1514.747255563736,
          1514.8468098640442,
          1514.9472517967224,
          1515.0483257770538,
          1515.1476039886475,
          1515.2474853992462,
          1515.349123954773,
          1515.448129415512,
          1515.5479564666748,
          1515.6483643054962,
          1515.7478876113892,
          1515.848218679428,
          1515.9479448795319,
          1516.0482194423676,
          1516.149117231369,
          1516.24773478508,
          1516.3488357067108,
          1516.4485018253326,
          1516.548581123352,
          1516.6529862880707,
          1516.7489988803864,
          1516.8483703136444,
          1516.9493639469147,
          1517.0485661029816,
          1517.1542015075684,
          1517.2489612102509,
          1517.3534693717957,
          1517.4531128406525,
          1517.553725719452,
          1517.6531822681427,
          1517.7508800029755,
          1517.8505020141602,
          1517.9501507282257,
          1518.0533425807953,
          1518.154797554016,
          1518.252271413803,
          1518.3584887981415,
          1518.4496307373047,
          1518.5517852306366,
          1518.6547417640686,
          1518.751220703125,
          1518.8547055721283,
          1518.9500937461853,
          1519.0509328842163,
          1519.1500902175903,
          1519.2508342266083,
          1519.3509469032288,
          1519.4529166221619,
          1519.552564382553,
          1519.6508638858795,
          1519.7502257823944,
          1519.8513631820679,
          1519.9507722854614,
          1520.0511844158173,
          1520.1549203395844,
          1520.2553119659424,
          1520.355444908142,
          1520.4572768211365,
          1520.5562913417816,
          1520.6547539234161,
          1520.7517511844635,
          1520.852136850357,
          1520.956214427948,
          1521.0517673492432,
          1521.151982307434,
          1521.2533135414124,
          1521.3525230884552,
          1521.4546430110931,
          1521.5537049770355,
          1521.6560616493225,
          1521.756957769394,
          1521.861038684845,
          1521.9608080387115,
          1522.0553195476532,
          1522.1532826423645,
          1522.2527394294739,
          1522.3522148132324,
          1522.4540903568268,
          1522.5571751594543,
          1522.654535293579,
          1522.7544548511505,
          1522.8560378551483,
          1522.953887462616,
          1523.0526440143585,
          1523.1566863059998,
          1523.2580780982971,
          1523.3567478656769,
          1523.454469203949,
          1523.5542244911194,
          1523.658311843872,
          1523.7581009864807,
          1523.8582689762115,
          1523.953364610672,
          1524.054563999176,
          1524.1584029197693,
          1524.2576098442078,
          1524.3543453216553,
          1524.4550700187683,
          1524.5540347099304,
          1524.6535897254944,
          1524.753868341446,
          1524.853411436081,
          1524.95521068573,
          1525.054139137268,
          1525.1547272205353,
          1525.2555606365204,
          1525.3549020290375,
          1525.4566402435303,
          1525.5587475299835,
          1525.6535289287567,
          1525.7547373771667,
          1525.8536713123322,
          1525.9546175003052,
          1526.0546753406525,
          1526.1549615859985,
          1526.255040884018,
          1526.3548610210419,
          1526.454764842987,
          1526.5555267333984,
          1526.6554877758026,
          1526.7556302547455,
          1526.8551664352417,
          1526.9557905197144,
          1527.0557622909546,
          1527.1561093330383,
          1527.2571275234222,
          1527.356971502304,
          1527.457272529602,
          1527.5553719997406,
          1527.6574912071228,
          1527.757332086563,
          1527.8562273979187,
          1527.9594457149506,
          1528.0566897392273,
          1528.1583421230316,
          1528.2581007480621,
          1528.355853319168,
          1528.4608187675476,
          1528.5574316978455,
          1528.6561155319214,
          1528.7592558860779,
          1528.8586099147797,
          1528.9628987312317,
          1529.0560810565948,
          1529.1571590900421,
          1529.2560682296753,
          1529.3564767837524,
          1529.456878900528,
          1529.5586001873016,
          1529.657800912857,
          1529.7575800418854,
          1529.8577151298523,
          1529.9580373764038,
          1530.0567288398743,
          1530.157428264618,
          1530.2587399482727,
          1530.3589704036713,
          1530.457849740982,
          1530.5578382015228,
          1530.658446073532,
          1530.757824897766,
          1530.8616199493408,
          1530.960708618164,
          1531.059900522232,
          1531.162596464157,
          1531.2573883533478,
          1531.3600792884827,
          1531.458923816681,
          1531.5627195835114,
          1531.6612637043,
          1531.7576656341553,
          1531.8620171546936,
          1531.9599452018738,
          1532.0599632263184,
          1532.1607375144958,
          1532.259782075882,
          1532.3589525222778,
          1532.4589982032776,
          1532.5596570968628,
          1532.660763502121,
          1532.759989976883,
          1532.859920501709,
          1532.9633507728577,
          1533.0590443611145,
          1533.159485578537,
          1533.2591478824615,
          1533.358909368515,
          1533.4588725566864,
          1533.5592203140259,
          1533.6601333618164,
          1533.758960723877,
          1533.8600804805756,
          1533.9596378803253,
          1534.0594065189362,
          1534.1598281860352,
          1534.2596225738525,
          1534.360122680664,
          1534.4612867832184,
          1534.5604510307312,
          1534.6615297794342,
          1534.76198220253,
          1534.8614101409912,
          1534.9614522457123,
          1535.0600357055664,
          1535.1603939533234,
          1535.2622575759888,
          1535.3602058887482,
          1535.462120294571,
          1535.56028008461,
          1535.6601366996765,
          1535.7611837387085,
          1535.8639693260193,
          1535.9614548683167,
          1536.06116604805,
          1536.1607356071472,
          1536.2609808444977,
          1536.3626313209534,
          1536.4609956741333,
          1536.564481496811,
          1536.6640095710754,
          1536.763158082962,
          1536.8629369735718,
          1536.9626727104187,
          1537.0616796016693,
          1537.1621129512787,
          1537.2617573738098,
          1537.3618972301483,
          1537.462711572647,
          1537.562515258789,
          1537.6621596813202,
          1537.7639846801758,
          1537.8620209693909,
          1537.9622814655304,
          1538.0627496242523,
          1538.1621263027191,
          1538.2627971172333,
          1538.366781949997,
          1538.4637882709503,
          1538.563273191452,
          1538.66330909729,
          1538.7667174339294,
          1538.8636915683746,
          1538.9630060195923,
          1539.063859462738,
          1539.1625623703003,
          1539.2660901546478,
          1539.3630833625793,
          1539.464448928833,
          1539.5636985301971,
          1539.6643221378326,
          1539.7645237445831,
          1539.8643732070923,
          1539.9644606113434,
          1540.0639703273773,
          1540.1641156673431,
          1540.2658836841583,
          1540.3652892112732,
          1540.4671607017517,
          1540.5652508735657,
          1540.669272184372,
          1540.7651839256287,
          1540.8669271469116,
          1540.9673836231232,
          1541.0654036998749,
          1541.1660828590393,
          1541.2674746513367,
          1541.3676433563232,
          1541.4656250476837,
          1541.5665922164917,
          1541.6681351661682,
          1541.7672548294067,
          1541.867030620575,
          1541.9676649570465,
          1542.0670235157013,
          1542.1689057350159,
          1542.2671897411346,
          1542.3672127723694,
          1542.4686870574951,
          1542.5665442943573,
          1542.6705791950226,
          1542.7696046829224,
          1542.8668971061707,
          1542.966644525528,
          1543.0735685825348,
          1543.1732482910156,
          1543.267774105072,
          1543.3676788806915,
          1543.4672544002533,
          1543.5671184062958,
          1543.6677463054657,
          1543.7675108909607,
          1543.8679871559143,
          1543.9693717956543,
          1544.0663883686066,
          1544.1677677631378,
          1544.268888950348,
          1544.3663485050201,
          1544.4664885997772,
          1544.5660860538483,
          1544.6669471263885,
          1544.76717877388,
          1544.8672885894775,
          1544.9685242176056,
          1545.0670084953308,
          1545.1677951812744,
          1545.2673869132996,
          1545.3672273159027,
          1545.467891216278,
          1545.575178861618,
          1545.6677899360657,
          1545.7664551734924,
          1545.8665204048157,
          1545.9671485424042,
          1546.0674130916595,
          1546.1681797504425,
          1546.2676408290863,
          1546.367078781128,
          1546.4679577350616,
          1546.5685453414917,
          1546.6769742965698,
          1546.7727680206299,
          1546.8680868148804,
          1546.9686315059662,
          1547.069181919098,
          1547.167875289917,
          1547.2677521705627,
          1547.3686332702637,
          1547.4707067012787,
          1547.5683662891388,
          1547.6724834442139,
          1547.769639492035,
          1547.8712072372437,
          1547.9770529270172,
          1548.072209596634,
          1548.173274755478,
          1548.2715876102448,
          1548.371628522873,
          1548.4709198474884,
          1548.5714690685272,
          1548.671296596527,
          1548.7715110778809,
          1548.8716838359833,
          1548.97434091568,
          1549.070969581604,
          1549.174753665924,
          1549.2744188308716,
          1549.3733451366425,
          1549.4734070301056,
          1549.5742897987366,
          1549.6723790168762,
          1549.7728595733643,
          1549.8727250099182,
          1549.9772119522095,
          1550.0720105171204,
          1550.1710896492004,
          1550.2725031375885,
          1550.3713836669922,
          1550.4781966209412,
          1550.5779829025269,
          1550.6775233745575,
          1550.774284362793,
          1550.87375998497,
          1550.979849100113,
          1551.0752232074738,
          1551.1747436523438,
          1551.2786514759064,
          1551.3792498111725,
          1551.478197336197,
          1551.579080581665,
          1551.67942070961,
          1551.77863407135,
          1551.880181312561,
          1551.9783499240875,
          1552.0735130310059,
          1552.1743123531342,
          1552.2738902568817,
          1552.3736426830292,
          1552.4735062122345,
          1552.5737590789795,
          1552.6750376224518,
          1552.774917125702,
          1552.874896287918,
          1552.9747967720032,
          1553.0752203464508,
          1553.1760432720184,
          1553.2762243747711,
          1553.3725430965424,
          1553.472339630127,
          1553.5719089508057,
          1553.671792268753,
          1553.7730875015259,
          1553.8719074726105,
          1553.9732356071472,
          1554.072648525238,
          1554.172200679779,
          1554.2724151611328,
          1554.3731021881104,
          1554.4731767177582,
          1554.5727956295013,
          1554.673753976822,
          1554.7773764133453,
          1554.8747208118439,
          1554.9741613864899,
          1555.0747776031494,
          1555.1755096912384,
          1555.279501914978,
          1555.3744592666626,
          1555.4760527610779,
          1555.5740582942963,
          1555.6754522323608,
          1555.7753405570984,
          1555.8802742958069,
          1555.9759588241577,
          1556.074725151062,
          1556.1759669780731,
          1556.2756700515747,
          1556.3753113746643,
          1556.4837319850922,
          1556.5750107765198,
          1556.6751630306244,
          1556.7765123844147,
          1556.8782150745392,
          1556.9785902500153,
          1557.0765113830566,
          1557.1777567863464,
          1557.2783045768738,
          1557.3775517940521,
          1557.4797596931458,
          1557.5780041217804,
          1557.6780152320862,
          1557.7778115272522,
          1557.876960515976,
          1557.9770517349243,
          1558.076621055603,
          1558.180831193924,
          1558.2854754924774,
          1558.3767499923706,
          1558.4804351329803,
          1558.579921722412,
          1558.677288532257,
          1558.7769978046417,
          1558.8778581619263,
          1558.9787356853485,
          1559.0771126747131,
          1559.1767921447754,
          1559.278477191925,
          1559.378291606903,
          1559.4775824546814,
          1559.5807921886444,
          1559.6776638031006,
          1559.778058052063,
          1559.8830723762512,
          1559.9832768440247,
          1560.0840981006622,
          1560.1845769882202,
          1560.2789707183838,
          1560.3786268234253,
          1560.47776389122,
          1560.5785915851593,
          1560.6796667575836,
          1560.7791197299957,
          1560.87948346138,
          1560.978010892868,
          1561.0784831047058,
          1561.1786596775055,
          1561.2765908241272,
          1561.3838136196136,
          1561.4774813652039,
          1561.5815932750702,
          1561.6770639419556,
          1561.7776787281036,
          1561.877956867218,
          1561.9779877662659,
          1562.0776226520538,
          1562.1785109043121,
          1562.2782335281372,
          1562.3815352916718,
          1562.4804756641388,
          1562.5775909423828,
          1562.6809916496277,
          1562.7826879024506,
          1562.8828573226929,
          1562.9838132858276,
          1563.0780189037323,
          1563.1789796352386,
          1563.2802908420563,
          1563.3813588619232,
          1563.480254650116,
          1563.5809354782104,
          1563.680933713913,
          1563.7801339626312,
          1563.880723953247,
          1563.9811205863953,
          1564.0802714824677,
          1564.1794838905334,
          1564.2845251560211,
          1564.3794884681702,
          1564.4791498184204,
          1564.5835678577423,
          1564.6808955669403,
          1564.7788915634155,
          1564.8795139789581,
          1564.9836478233337,
          1565.07950258255,
          1565.1825184822083,
          1565.2819392681122,
          1565.380526304245,
          1565.4812269210815,
          1565.5805473327637,
          1565.684333562851,
          1565.785714149475,
          1565.8849048614502,
          1565.9807634353638,
          1566.0813398361206,
          1566.1810414791107,
          1566.283430814743,
          1566.383866071701,
          1566.484350681305,
          1566.5904591083527,
          1566.6800830364227,
          1566.7800760269165,
          1566.8805696964264,
          1566.9809465408325,
          1567.0811483860016,
          1567.1813688278198,
          1567.2823538780212,
          1567.3819682598114,
          1567.4816749095917,
          1567.5819344520569,
          1567.6825020313263,
          1567.781952381134,
          1567.881548166275,
          1567.982048034668,
          1568.0820636749268,
          1568.1820254325867,
          1568.281239271164,
          1568.3812518119812,
          1568.4811825752258,
          1568.5819082260132,
          1568.6818380355835,
          1568.7822697162628,
          1568.8816404342651,
          1568.9819226264954,
          1569.0865490436554,
          1569.186048746109,
          1569.282539844513,
          1569.3828761577606,
          1569.4822869300842,
          1569.58291721344,
          1569.6838479042053,
          1569.7846109867096,
          1569.8823783397675,
          1569.9836070537567,
          1570.0831260681152,
          1570.1819534301758,
          1570.2878515720367,
          1570.3924379348755,
          1570.4909138679504,
          1570.5902736186981,
          1570.6988174915314,
          1570.7904138565063,
          1570.8904962539673,
          1570.9899044036865,
          1571.0898532867432,
          1571.1898276805878,
          1571.289258480072,
          1571.3903584480286,
          1571.4897434711456,
          1571.5904321670532,
          1571.6920642852783,
          1571.7911806106567,
          1571.8918182849884,
          1571.9967155456543,
          1572.1017162799835,
          1572.2009263038635,
          1572.2912111282349,
          1572.3967843055725,
          1572.4991810321808,
          1572.5943253040314,
          1572.6906354427338,
          1572.7905294895172,
          1572.891780614853,
          1572.9911139011383,
          1573.0927135944366,
          1573.1920285224915
         ],
         "y": [
          83.76114274812721,
          83.6996370304545,
          83.54878753080084,
          83.54878753080084,
          83.06480607142193,
          82.30301924069242,
          81.1122446901451,
          81.29976968859263,
          81.29976968859263,
          80.90653962924904,
          80.9223161466787,
          81.26592794293326,
          80.71546497423597,
          80.71546497423597,
          76.61444602019048,
          81.1904245947816,
          81.3102983268943,
          81.3102983268943,
          81.7642004822879,
          81.71067205145998,
          81.5241836887108,
          81.2241616694737,
          75.5743354439948,
          80.45836365810197,
          80.80265573232855,
          81.57077926862871,
          81.17948975490803,
          81.06281544849067,
          81.24353081597117,
          81.64962513244993,
          81.64962513244993,
          74.84591426118817,
          74.79329747909048,
          75.04620902110442,
          80.49027708261701,
          74.33162576177119,
          73.93398183460002,
          73.89818898764878,
          80.48441635470999,
          80.89289617741183,
          80.89289617741183,
          81.72749045579471,
          82.20268026200965,
          81.99689192274353,
          82.24100111258531,
          81.58896406456569,
          81.58896406456569,
          81.63819961618502,
          82.79111960924124,
          82.98489470744173,
          83.30472038276257,
          82.93433401321494,
          82.10217678640038,
          82.07566476923186,
          82.1668280889102,
          82.1668280889102,
          81.94952375301175,
          81.40199399616861,
          80.79417160070403,
          81.40090586530005,
          81.40090586530005,
          80.07876483155957,
          79.56046195866395,
          79.34337007309273,
          79.57708182716657,
          79.57708182716657,
          80.17395647746217,
          80.17395647746217,
          80.61779862020913,
          80.91181005026822,
          81.10737996587291,
          80.88089318274811,
          81.16089002261695,
          81.05050494325754,
          80.5329330485577,
          80.52270941829909,
          80.59075385580496,
          81.05711292627684,
          81.05711292627684,
          81.05761192959304,
          81.24133970537311,
          81.13312794553292,
          81.48975586928577,
          81.66067783347124,
          81.75615363011674,
          81.97786497689934,
          81.96872592298695,
          81.79811111717099,
          81.4164828066955,
          81.42742409574393,
          80.99408370220014,
          81.05306258934272,
          81.31866195644369,
          81.38796849825273,
          81.5199002124673,
          81.42546122310237,
          81.21781726480528,
          81.11680179504425,
          81.12375458860895,
          80.60452029497227,
          80.87287183685113,
          81.05621503613577,
          80.94187530032005,
          80.77111801424334,
          82.01622907169435,
          82.71119685071639,
          82.71119685071639,
          82.9382361069159,
          82.95892291293195,
          83.18474730626012,
          83.18727197437012,
          83.01875241098166,
          83.26942068952766,
          83.26942068952766,
          82.93851250063271,
          82.96893736506414,
          82.8777919023593,
          83.00633914740838,
          82.90416463027448,
          82.92207723519947,
          83.01305390094993,
          83.01305390094993,
          83.26823382948452,
          83.17203845146958,
          83.32866090954606,
          83.32866090954606,
          83.26320955370271,
          82.90403148671328,
          82.90403148671328,
          82.80044943653597,
          82.95104431212984,
          82.86981564862735,
          82.7562462033432,
          82.80913483180717,
          82.7562462033432,
          82.89776799593704,
          83.06802056003576,
          82.88382379285326,
          82.6643082390751,
          82.29083518126988,
          82.69824725164553,
          82.6612221782604,
          82.70796743393076,
          83.05459805572441,
          83.0327935622959,
          83.05384507228102,
          83.08567342654217,
          82.97777100625392,
          82.94847105314322,
          82.96362477904864,
          82.76389921805949,
          82.43798227181517,
          82.6452704632163,
          82.6452704632163,
          82.46386021230367,
          82.61596200095155,
          82.35581481345591,
          82.40524022636856,
          82.63387000291895,
          82.63387000291895,
          83.02591448590036,
          83.06152603170273,
          83.02590314051346,
          83.09973888206517,
          83.00893029196857,
          82.71909749776394,
          82.84942149214588,
          82.96519311325079,
          82.7460890260633,
          82.24794406690245,
          81.96584402954734,
          82.12481355572537,
          81.1475588241804,
          80.447101066105,
          80.39758261558036,
          80.39758261558036,
          80.06195426948796,
          80.06195426948796,
          79.99135775421796,
          80.04390275529761,
          80.29827510600211,
          79.81287354066625,
          79.32001738298403,
          79.32001738298403,
          79.24125478238616,
          78.93827235362274,
          78.95521544375639,
          78.9529859339072,
          78.95490991490787,
          78.97660627437467,
          78.99296688262905,
          78.99735319703856,
          79.24953234183047,
          79.29918233379173,
          79.007645721132,
          79.00323450548211,
          78.95040599363573,
          78.82748113293421,
          78.82748113293421,
          79.39977875019979,
          79.39977875019979,
          79.50356215913135,
          79.5074279073813,
          79.22331450879456,
          79.23996200698573,
          79.24137884944577,
          79.03898965787123,
          79.22444315468303,
          79.0585642471471,
          79.17339013455718,
          79.15576560629613,
          79.15576560629613,
          79.15996444246781,
          79.15996444246781,
          79.05664383229059,
          78.85036300463072,
          78.74695191278093,
          78.74695191278093,
          78.71111332757668,
          78.7401338596215,
          78.74013390427812,
          78.7405986666979,
          78.75980364262941,
          78.64486429227773,
          78.6594148795162,
          78.63823794913237,
          78.64907301674147,
          78.78542261152718,
          78.78393944169518,
          78.78917454463611,
          78.78870504591944,
          78.78589151201668,
          78.89961208379891,
          78.99937494315289,
          78.98237797089418,
          78.81302599166514,
          78.91187187959929,
          78.59213706559578,
          78.62505968928544,
          78.72562023268051,
          78.67216127308183,
          78.84544083274362,
          78.9378568248481,
          79.22708532778027,
          79.51769320721232,
          79.61060919811594,
          79.82033962057103,
          79.71278033912375,
          79.54874639020046,
          79.71278024962574,
          79.44789260134877,
          79.94788380244304,
          79.53921825004831,
          79.25564692253923,
          79.26039191900004,
          79.26039168228252,
          79.26039063869807,
          79.27202406479296,
          79.25136713689302,
          79.25615546447477,
          79.27259886781006,
          79.67071949640035,
          79.77469086304254,
          80.00064174002965,
          79.67555691520978,
          79.62658306827191,
          79.62658306827191,
          80.03355823926361,
          80.03243534283989,
          80.03243534283989,
          79.71703117866993,
          79.29079628902808,
          79.29079628902808,
          79.18268523234822,
          79.15406278759262,
          79.246214349795,
          79.246214349795,
          79.51193818258547,
          79.80191265242466,
          80.20896477915518,
          80.20896477915518,
          81.18252176628918,
          82.13957467229542,
          80.89935371212599,
          82.00661537702413,
          81.71735789055859,
          81.4227096299443,
          80.61005088451712,
          72.58475596338006,
          71.42491413959043,
          69.48370978233093,
          67.24663654729616,
          65.40792328273044,
          63.667895009458604,
          62.56506851394048,
          62.71491400896277,
          63.07721097953723,
          63.260390580153874,
          63.89203601954043,
          63.89203601954043,
          64.80011652125846,
          64.46770436998138,
          63.65089405719001,
          63.08412199168161,
          63.02498071238948,
          63.05153997653645,
          63.35383843025976,
          63.5419659101775,
          63.51614129605257,
          63.31617107406137,
          63.328442851131726,
          63.3778911263601,
          63.5974302108783,
          63.95574961921733,
          64.47737482161776,
          63.97601313206847,
          63.240462525180156,
          63.16090706053151,
          63.33998620586513,
          63.386043571053854,
          63.35802684644964,
          63.190467544324136,
          63.16619124852665,
          63.27609667905725,
          62.976946820807804,
          63.308883718330215,
          63.2328647622815,
          63.24757884966848,
          63.34858746302158,
          63.421837572310956,
          63.076719493424484,
          62.806709011414235,
          62.695465260615016,
          63.11708487133993,
          63.29540431616884,
          62.924994538691394,
          62.96157277233073,
          62.82664363120112,
          62.91249406266628,
          62.92599731146321,
          62.70822373627183,
          62.52285423663897,
          62.29738718388797,
          62.187331465654964,
          61.89565810632407,
          61.65041271291508,
          62.098362234208516,
          62.22797221273917,
          62.18544084105297,
          62.18544084105297,
          62.15494261884158,
          62.102051659984305,
          61.9910735396073,
          61.987349591660966,
          61.94951507485705,
          62.11326360321755,
          62.17171437031221,
          62.435995288470814,
          62.59276601258905,
          62.511917936820275,
          62.52091771584418,
          62.74558274589324,
          62.69667974592382,
          62.758570647895304,
          63.08378929728774,
          63.17945874489853,
          63.482970243909065,
          63.482970243909065,
          63.29517386946006,
          63.29517386946006,
          63.34216723263033,
          63.61729664231178,
          63.61500053293481,
          63.3392965378083,
          63.713034611668064,
          63.25943929876169,
          62.71431647251939,
          62.98203558664314,
          63.27547931759642,
          64.03045024573152,
          64.90865578155513,
          64.90865578155513,
          63.77359319313694,
          62.63596404531317,
          58.940431511416485,
          57.86458244653484,
          113.22579194497328,
          112.84477017897403,
          112.54140396553507,
          113.02415834177523,
          113.02415834177523,
          60.77866737504902,
          115.0472239010436,
          64.59693305842785,
          64.59693305842785,
          62.97449148578399,
          63.09586573649993,
          63.24079390316527,
          63.27626800494712,
          62.73942141996395,
          62.89579230813295,
          63.11151458248564,
          63.198776115963895,
          62.96792435572314,
          63.31682507349154,
          63.791918383212725,
          63.56088936111611,
          63.24325055392229,
          63.36914279328262,
          63.43913216946415,
          63.62777653147679,
          63.62777653147679,
          64.1234727056543,
          63.87720527265861,
          63.87720527265861,
          63.86363396957378,
          63.50636265214098,
          63.088393375375524,
          62.95897967942501,
          63.06335868255457,
          64.38433014908874,
          66.41662151031962,
          66.68635674798824,
          66.58004973798478,
          67.05397645355951,
          69.13770484456946,
          72.60826782293348,
          71.22289679894448,
          67.85415890145323,
          66.82026765102677,
          67.0279951508054,
          68.99470691253592,
          64.56178747604507,
          64.71572591735045,
          64.81550861217778,
          65.17210252264952,
          65.38609306059062,
          65.41161166582478,
          65.70803618861025,
          65.21754879858123,
          64.60027709400414,
          64.71536576751778,
          64.81864305642314,
          65.80789223106711,
          66.4815865802161,
          66.0989942919702,
          66.4785641003112,
          63.9386403059837,
          62.94261069014711,
          62.55655008678348,
          63.24230036965543,
          63.93480028890227,
          64.47850842775733,
          64.44903853588985,
          64.04291223430245,
          63.93706553458525,
          63.83305583307665,
          64.40856643822579,
          63.02487933830343,
          62.97877846010548,
          63.108072930066044,
          63.385788042492464,
          63.47927898392295,
          63.5481622816088,
          63.328751900176755,
          63.37278044146055,
          63.26054349771587,
          63.62989647611692,
          63.86546100005399,
          63.07498817283224,
          66.07536243140154,
          67.84196433485278,
          67.58248192764225,
          65.05172698866197,
          63.09337455390207,
          63.154896622946694,
          62.70726397039119,
          63.39698939439623,
          63.762308269278286,
          63.81818845868181,
          66.83219117904619,
          66.87576463564997,
          69.43647883318938,
          74.06472153237745,
          74.06472153237745,
          77.41271480026232,
          65.89130929157591,
          65.89130929157591,
          65.05056462326988,
          63.2003636186484,
          62.78420114687209,
          63.547765213262906,
          63.698275113603046,
          64.28556701257108,
          64.63520968561818,
          64.44713487041643,
          64.28112341676712,
          63.98177981921698,
          63.7704426946765,
          64.2499725268844,
          65.65622045333468,
          66.26948080608803,
          64.77265266724386,
          63.52061821930033,
          63.655025714606666,
          63.84273227467416,
          64.20494736238321,
          64.52416043840712,
          64.13490091174168,
          63.38131513817884,
          63.86576117293614,
          63.86576117293614,
          64.37229190080947,
          64.1444052819998,
          63.99805659404057,
          67.6546462092717,
          69.31455867497762,
          68.97864236345838,
          66.6157508695973,
          65.88838358585227,
          65.65516625472165,
          66.01476391414722,
          69.52239694500706,
          64.6785642784356,
          64.83640750447793,
          65.75608365675974,
          66.78182769871617,
          66.9260620641508,
          66.85388358432357,
          66.98677168393782,
          67.35143447524423,
          79.73009009800009,
          85.00330625739814,
          85.75607918535893,
          70.39821799330129,
          70.39821799330129,
          67.90121113741819,
          64.12512502754998,
          63.4732811505001,
          62.96034499551069,
          62.54520795314316,
          65.8398510800884,
          66.71602489425558,
          67.150309303443,
          67.04024735417231,
          66.3754253934758,
          66.37284573103217,
          65.27541013590657,
          64.9949366733646,
          64.73091452358318,
          64.62634999980443,
          64.44265562630761,
          64.44265562630761,
          64.25672877675271,
          64.18423036811288,
          64.37393429219314,
          64.14797743875157,
          62.774747472366855,
          62.66060679427305,
          62.51745100872031,
          62.65425254324648,
          63.14516388905816,
          63.4108069183416,
          64.56161136316743,
          64.9784755554036,
          65.10258782924038,
          65.60391984028705,
          66.34874631708215,
          66.37994235899973,
          65.5738301854758,
          65.14493322381558,
          64.61169725202701,
          64.59002982443009,
          64.45344785849285,
          63.504587988460486,
          63.66793771105459,
          63.80349078697593,
          63.65084010017718,
          63.706148394114926,
          64.45830541009181,
          64.56297153150541,
          64.76909266521095,
          65.3384170821311,
          64.81173852001687,
          64.21759640945974,
          64.14186665575868,
          64.15068059892393,
          63.4357275898847,
          63.11649891586443,
          63.0082938883074,
          63.03568716541642,
          63.10706108339128,
          62.31104259890723,
          61.86637317945259,
          61.90707290514262,
          61.9453838321509,
          62.20598118613347,
          63.041407967205316,
          64.55496937899395,
          65.77678851480131,
          63.89123590012053,
          65.5487962945978,
          66.26844816955915,
          66.62173389802598,
          66.52382834677613,
          66.56811630256627,
          66.86331424603458,
          66.8298293577279,
          66.6360510628727,
          66.06959970393967,
          64.73648779281521,
          63.92750965521859,
          64.44989970573492,
          64.12255633966217,
          64.37707697339695,
          65.58660374551408,
          64.98554476689881,
          66.23592209614077,
          68.3411319617164,
          71.64452901767255,
          70.18790534343617,
          69.63726717594307,
          69.36877915554157,
          67.42778251592664,
          67.17060034763043,
          67.17060034763043,
          66.59542773893459,
          67.05754879085566,
          67.83938985807362,
          66.97690692581908,
          68.62229635942921,
          68.62229635942921,
          67.3268484344104,
          64.52124371670904,
          73.85537140575738,
          73.85537140575738,
          74.58933183145002,
          75.7356149688712,
          66.98012832572924,
          66.0679423497492,
          63.649991550905696,
          63.8881853152276,
          65.81100602820875,
          67.9986574250136,
          67.7028563529933,
          67.91311441612649,
          63.28511287042659,
          80.48896366673723,
          88.21611033780027,
          66.82171719325113,
          78.67038993108923,
          76.77079647385692,
          76.07269176161505,
          70.46393038836014,
          64.46193192356492,
          65.53768062350063,
          68.33088186501404,
          71.49226949961704,
          99.04164532396217,
          91.43854082623541,
          69.73707918734094,
          69.05808962298002,
          69.29176079484989,
          64.80823423367524,
          63.63587012133844,
          63.1094373744005,
          63.14521402100748,
          62.988123379500145,
          62.953915131686415,
          64.37433110766544,
          64.92986972262807,
          66.038679924551,
          75.05544289599051,
          67.86116282850239,
          69.88028927482365,
          75.58400809668386,
          85.66871505146574,
          84.53204487819774,
          76.26625320208602,
          63.030256500981146,
          64.93169800478738,
          64.78514610032701,
          63.850116192963974,
          63.73121936383448,
          63.581428362909634,
          63.462715732899625,
          63.54463610039599,
          63.61486750942343,
          63.261278944505456,
          69.21346364780159,
          62.929006719435634,
          63.83137293181157,
          65.47850201623581,
          71.31185816574305,
          73.60134152466871,
          73.60134152466871,
          71.48574130213231,
          71.22575110812232,
          70.90159728542723,
          70.5096395870723,
          68.97568392017676,
          68.16147159654895,
          66.84930018856073,
          65.43821163703953,
          64.17295696990104,
          108.1719091774194,
          108.48205217423666,
          108.79986208952556,
          108.7411101427096,
          107.98864196482138,
          107.30283323604006,
          107.30283323604006,
          107.30283323604006,
          107.30283323604006,
          107.30283323604006,
          107.30283323604006,
          107.30283323604006,
          107.30283323604006,
          107.30283323604006,
          107.30283323604006,
          107.30283323604006,
          107.30283323604006,
          107.30283323604006,
          107.30283323604006,
          107.30283323604006,
          107.30283323604006,
          107.30283323604006,
          107.30283323604006,
          107.30283323604006,
          107.30283323604006,
          107.30283323604006,
          107.30283323604006,
          107.30283323604006,
          107.30283323604006,
          107.30283323604006,
          107.30283323604006,
          107.30283323604006,
          107.30283323604006,
          107.30283323604006
         ]
        }
       ],
       "layout": {
        "autosize": false,
        "font": {
         "color": "black",
         "family": "Courier New, monospace",
         "size": 22
        },
        "height": 600,
        "template": {
         "data": {
          "bar": [
           {
            "error_x": {
             "color": "#2a3f5f"
            },
            "error_y": {
             "color": "#2a3f5f"
            },
            "marker": {
             "line": {
              "color": "#E5ECF6",
              "width": 0.5
             },
             "pattern": {
              "fillmode": "overlay",
              "size": 10,
              "solidity": 0.2
             }
            },
            "type": "bar"
           }
          ],
          "barpolar": [
           {
            "marker": {
             "line": {
              "color": "#E5ECF6",
              "width": 0.5
             },
             "pattern": {
              "fillmode": "overlay",
              "size": 10,
              "solidity": 0.2
             }
            },
            "type": "barpolar"
           }
          ],
          "carpet": [
           {
            "aaxis": {
             "endlinecolor": "#2a3f5f",
             "gridcolor": "white",
             "linecolor": "white",
             "minorgridcolor": "white",
             "startlinecolor": "#2a3f5f"
            },
            "baxis": {
             "endlinecolor": "#2a3f5f",
             "gridcolor": "white",
             "linecolor": "white",
             "minorgridcolor": "white",
             "startlinecolor": "#2a3f5f"
            },
            "type": "carpet"
           }
          ],
          "choropleth": [
           {
            "colorbar": {
             "outlinewidth": 0,
             "ticks": ""
            },
            "type": "choropleth"
           }
          ],
          "contour": [
           {
            "colorbar": {
             "outlinewidth": 0,
             "ticks": ""
            },
            "colorscale": [
             [
              0,
              "#0d0887"
             ],
             [
              0.1111111111111111,
              "#46039f"
             ],
             [
              0.2222222222222222,
              "#7201a8"
             ],
             [
              0.3333333333333333,
              "#9c179e"
             ],
             [
              0.4444444444444444,
              "#bd3786"
             ],
             [
              0.5555555555555556,
              "#d8576b"
             ],
             [
              0.6666666666666666,
              "#ed7953"
             ],
             [
              0.7777777777777778,
              "#fb9f3a"
             ],
             [
              0.8888888888888888,
              "#fdca26"
             ],
             [
              1,
              "#f0f921"
             ]
            ],
            "type": "contour"
           }
          ],
          "contourcarpet": [
           {
            "colorbar": {
             "outlinewidth": 0,
             "ticks": ""
            },
            "type": "contourcarpet"
           }
          ],
          "heatmap": [
           {
            "colorbar": {
             "outlinewidth": 0,
             "ticks": ""
            },
            "colorscale": [
             [
              0,
              "#0d0887"
             ],
             [
              0.1111111111111111,
              "#46039f"
             ],
             [
              0.2222222222222222,
              "#7201a8"
             ],
             [
              0.3333333333333333,
              "#9c179e"
             ],
             [
              0.4444444444444444,
              "#bd3786"
             ],
             [
              0.5555555555555556,
              "#d8576b"
             ],
             [
              0.6666666666666666,
              "#ed7953"
             ],
             [
              0.7777777777777778,
              "#fb9f3a"
             ],
             [
              0.8888888888888888,
              "#fdca26"
             ],
             [
              1,
              "#f0f921"
             ]
            ],
            "type": "heatmap"
           }
          ],
          "heatmapgl": [
           {
            "colorbar": {
             "outlinewidth": 0,
             "ticks": ""
            },
            "colorscale": [
             [
              0,
              "#0d0887"
             ],
             [
              0.1111111111111111,
              "#46039f"
             ],
             [
              0.2222222222222222,
              "#7201a8"
             ],
             [
              0.3333333333333333,
              "#9c179e"
             ],
             [
              0.4444444444444444,
              "#bd3786"
             ],
             [
              0.5555555555555556,
              "#d8576b"
             ],
             [
              0.6666666666666666,
              "#ed7953"
             ],
             [
              0.7777777777777778,
              "#fb9f3a"
             ],
             [
              0.8888888888888888,
              "#fdca26"
             ],
             [
              1,
              "#f0f921"
             ]
            ],
            "type": "heatmapgl"
           }
          ],
          "histogram": [
           {
            "marker": {
             "pattern": {
              "fillmode": "overlay",
              "size": 10,
              "solidity": 0.2
             }
            },
            "type": "histogram"
           }
          ],
          "histogram2d": [
           {
            "colorbar": {
             "outlinewidth": 0,
             "ticks": ""
            },
            "colorscale": [
             [
              0,
              "#0d0887"
             ],
             [
              0.1111111111111111,
              "#46039f"
             ],
             [
              0.2222222222222222,
              "#7201a8"
             ],
             [
              0.3333333333333333,
              "#9c179e"
             ],
             [
              0.4444444444444444,
              "#bd3786"
             ],
             [
              0.5555555555555556,
              "#d8576b"
             ],
             [
              0.6666666666666666,
              "#ed7953"
             ],
             [
              0.7777777777777778,
              "#fb9f3a"
             ],
             [
              0.8888888888888888,
              "#fdca26"
             ],
             [
              1,
              "#f0f921"
             ]
            ],
            "type": "histogram2d"
           }
          ],
          "histogram2dcontour": [
           {
            "colorbar": {
             "outlinewidth": 0,
             "ticks": ""
            },
            "colorscale": [
             [
              0,
              "#0d0887"
             ],
             [
              0.1111111111111111,
              "#46039f"
             ],
             [
              0.2222222222222222,
              "#7201a8"
             ],
             [
              0.3333333333333333,
              "#9c179e"
             ],
             [
              0.4444444444444444,
              "#bd3786"
             ],
             [
              0.5555555555555556,
              "#d8576b"
             ],
             [
              0.6666666666666666,
              "#ed7953"
             ],
             [
              0.7777777777777778,
              "#fb9f3a"
             ],
             [
              0.8888888888888888,
              "#fdca26"
             ],
             [
              1,
              "#f0f921"
             ]
            ],
            "type": "histogram2dcontour"
           }
          ],
          "mesh3d": [
           {
            "colorbar": {
             "outlinewidth": 0,
             "ticks": ""
            },
            "type": "mesh3d"
           }
          ],
          "parcoords": [
           {
            "line": {
             "colorbar": {
              "outlinewidth": 0,
              "ticks": ""
             }
            },
            "type": "parcoords"
           }
          ],
          "pie": [
           {
            "automargin": true,
            "type": "pie"
           }
          ],
          "scatter": [
           {
            "fillpattern": {
             "fillmode": "overlay",
             "size": 10,
             "solidity": 0.2
            },
            "type": "scatter"
           }
          ],
          "scatter3d": [
           {
            "line": {
             "colorbar": {
              "outlinewidth": 0,
              "ticks": ""
             }
            },
            "marker": {
             "colorbar": {
              "outlinewidth": 0,
              "ticks": ""
             }
            },
            "type": "scatter3d"
           }
          ],
          "scattercarpet": [
           {
            "marker": {
             "colorbar": {
              "outlinewidth": 0,
              "ticks": ""
             }
            },
            "type": "scattercarpet"
           }
          ],
          "scattergeo": [
           {
            "marker": {
             "colorbar": {
              "outlinewidth": 0,
              "ticks": ""
             }
            },
            "type": "scattergeo"
           }
          ],
          "scattergl": [
           {
            "marker": {
             "colorbar": {
              "outlinewidth": 0,
              "ticks": ""
             }
            },
            "type": "scattergl"
           }
          ],
          "scattermapbox": [
           {
            "marker": {
             "colorbar": {
              "outlinewidth": 0,
              "ticks": ""
             }
            },
            "type": "scattermapbox"
           }
          ],
          "scatterpolar": [
           {
            "marker": {
             "colorbar": {
              "outlinewidth": 0,
              "ticks": ""
             }
            },
            "type": "scatterpolar"
           }
          ],
          "scatterpolargl": [
           {
            "marker": {
             "colorbar": {
              "outlinewidth": 0,
              "ticks": ""
             }
            },
            "type": "scatterpolargl"
           }
          ],
          "scatterternary": [
           {
            "marker": {
             "colorbar": {
              "outlinewidth": 0,
              "ticks": ""
             }
            },
            "type": "scatterternary"
           }
          ],
          "surface": [
           {
            "colorbar": {
             "outlinewidth": 0,
             "ticks": ""
            },
            "colorscale": [
             [
              0,
              "#0d0887"
             ],
             [
              0.1111111111111111,
              "#46039f"
             ],
             [
              0.2222222222222222,
              "#7201a8"
             ],
             [
              0.3333333333333333,
              "#9c179e"
             ],
             [
              0.4444444444444444,
              "#bd3786"
             ],
             [
              0.5555555555555556,
              "#d8576b"
             ],
             [
              0.6666666666666666,
              "#ed7953"
             ],
             [
              0.7777777777777778,
              "#fb9f3a"
             ],
             [
              0.8888888888888888,
              "#fdca26"
             ],
             [
              1,
              "#f0f921"
             ]
            ],
            "type": "surface"
           }
          ],
          "table": [
           {
            "cells": {
             "fill": {
              "color": "#EBF0F8"
             },
             "line": {
              "color": "white"
             }
            },
            "header": {
             "fill": {
              "color": "#C8D4E3"
             },
             "line": {
              "color": "white"
             }
            },
            "type": "table"
           }
          ]
         },
         "layout": {
          "annotationdefaults": {
           "arrowcolor": "#2a3f5f",
           "arrowhead": 0,
           "arrowwidth": 1
          },
          "autotypenumbers": "strict",
          "coloraxis": {
           "colorbar": {
            "outlinewidth": 0,
            "ticks": ""
           }
          },
          "colorscale": {
           "diverging": [
            [
             0,
             "#8e0152"
            ],
            [
             0.1,
             "#c51b7d"
            ],
            [
             0.2,
             "#de77ae"
            ],
            [
             0.3,
             "#f1b6da"
            ],
            [
             0.4,
             "#fde0ef"
            ],
            [
             0.5,
             "#f7f7f7"
            ],
            [
             0.6,
             "#e6f5d0"
            ],
            [
             0.7,
             "#b8e186"
            ],
            [
             0.8,
             "#7fbc41"
            ],
            [
             0.9,
             "#4d9221"
            ],
            [
             1,
             "#276419"
            ]
           ],
           "sequential": [
            [
             0,
             "#0d0887"
            ],
            [
             0.1111111111111111,
             "#46039f"
            ],
            [
             0.2222222222222222,
             "#7201a8"
            ],
            [
             0.3333333333333333,
             "#9c179e"
            ],
            [
             0.4444444444444444,
             "#bd3786"
            ],
            [
             0.5555555555555556,
             "#d8576b"
            ],
            [
             0.6666666666666666,
             "#ed7953"
            ],
            [
             0.7777777777777778,
             "#fb9f3a"
            ],
            [
             0.8888888888888888,
             "#fdca26"
            ],
            [
             1,
             "#f0f921"
            ]
           ],
           "sequentialminus": [
            [
             0,
             "#0d0887"
            ],
            [
             0.1111111111111111,
             "#46039f"
            ],
            [
             0.2222222222222222,
             "#7201a8"
            ],
            [
             0.3333333333333333,
             "#9c179e"
            ],
            [
             0.4444444444444444,
             "#bd3786"
            ],
            [
             0.5555555555555556,
             "#d8576b"
            ],
            [
             0.6666666666666666,
             "#ed7953"
            ],
            [
             0.7777777777777778,
             "#fb9f3a"
            ],
            [
             0.8888888888888888,
             "#fdca26"
            ],
            [
             1,
             "#f0f921"
            ]
           ]
          },
          "colorway": [
           "#636efa",
           "#EF553B",
           "#00cc96",
           "#ab63fa",
           "#FFA15A",
           "#19d3f3",
           "#FF6692",
           "#B6E880",
           "#FF97FF",
           "#FECB52"
          ],
          "font": {
           "color": "#2a3f5f"
          },
          "geo": {
           "bgcolor": "white",
           "lakecolor": "white",
           "landcolor": "#E5ECF6",
           "showlakes": true,
           "showland": true,
           "subunitcolor": "white"
          },
          "hoverlabel": {
           "align": "left"
          },
          "hovermode": "closest",
          "mapbox": {
           "style": "light"
          },
          "paper_bgcolor": "white",
          "plot_bgcolor": "#E5ECF6",
          "polar": {
           "angularaxis": {
            "gridcolor": "white",
            "linecolor": "white",
            "ticks": ""
           },
           "bgcolor": "#E5ECF6",
           "radialaxis": {
            "gridcolor": "white",
            "linecolor": "white",
            "ticks": ""
           }
          },
          "scene": {
           "xaxis": {
            "backgroundcolor": "#E5ECF6",
            "gridcolor": "white",
            "gridwidth": 2,
            "linecolor": "white",
            "showbackground": true,
            "ticks": "",
            "zerolinecolor": "white"
           },
           "yaxis": {
            "backgroundcolor": "#E5ECF6",
            "gridcolor": "white",
            "gridwidth": 2,
            "linecolor": "white",
            "showbackground": true,
            "ticks": "",
            "zerolinecolor": "white"
           },
           "zaxis": {
            "backgroundcolor": "#E5ECF6",
            "gridcolor": "white",
            "gridwidth": 2,
            "linecolor": "white",
            "showbackground": true,
            "ticks": "",
            "zerolinecolor": "white"
           }
          },
          "shapedefaults": {
           "line": {
            "color": "#2a3f5f"
           }
          },
          "ternary": {
           "aaxis": {
            "gridcolor": "white",
            "linecolor": "white",
            "ticks": ""
           },
           "baxis": {
            "gridcolor": "white",
            "linecolor": "white",
            "ticks": ""
           },
           "bgcolor": "#E5ECF6",
           "caxis": {
            "gridcolor": "white",
            "linecolor": "white",
            "ticks": ""
           }
          },
          "title": {
           "x": 0.05
          },
          "xaxis": {
           "automargin": true,
           "gridcolor": "white",
           "linecolor": "white",
           "ticks": "",
           "title": {
            "standoff": 15
           },
           "zerolinecolor": "white",
           "zerolinewidth": 2
          },
          "yaxis": {
           "automargin": true,
           "gridcolor": "white",
           "linecolor": "white",
           "ticks": "",
           "title": {
            "standoff": 15
           },
           "zerolinecolor": "white",
           "zerolinewidth": 2
          }
         }
        },
        "title": {
         "text": "Range of Motion kneeRight"
        },
        "width": 750,
        "xaxis": {
         "title": {
          "font": {
           "color": "#7f7f7f",
           "family": "Courier New, monospace",
           "size": 18
          },
          "text": "time [s]"
         }
        },
        "yaxis": {
         "title": {
          "font": {
           "color": "#7f7f7f",
           "family": "Courier New, monospace",
           "size": 18
          },
          "text": "ROM [gradi]"
         }
        }
       }
      },
      "text/html": [
       "<div>                            <div id=\"35d41ceb-7d5c-4cd5-8113-3b81f7ced2ad\" class=\"plotly-graph-div\" style=\"height:600px; width:750px;\"></div>            <script type=\"text/javascript\">                require([\"plotly\"], function(Plotly) {                    window.PLOTLYENV=window.PLOTLYENV || {};                                    if (document.getElementById(\"35d41ceb-7d5c-4cd5-8113-3b81f7ced2ad\")) {                    Plotly.newPlot(                        \"35d41ceb-7d5c-4cd5-8113-3b81f7ced2ad\",                        [{\"line\":{\"color\":\"blue\",\"width\":3},\"mode\":\"lines\",\"name\":\"Andamento Reale\",\"x\":[1499.2411363124847,1499.3432846069336,1499.4427211284637,1499.54013133049,1499.6420300006866,1499.744064092636,1499.8401839733124,1499.9462168216705,1500.0419936180115,1500.1414563655853,1500.2422320842743,1500.3411314487457,1500.441514492035,1500.541243314743,1500.6429286003113,1500.7421760559082,1500.8417778015137,1500.9413657188416,1501.0417659282684,1501.1428897380829,1501.240436553955,1501.3419153690338,1501.441132068634,1501.5403683185577,1501.6449313163757,1501.7413523197174,1501.8423101902008,1501.9408650398254,1502.04141497612,1502.1416535377502,1502.2421522140503,1502.3436872959137,1502.4428606033325,1502.5419516563416,1502.6438164710999,1502.739751815796,1502.839929819107,1502.9432377815247,1503.0396859645844,1503.1407148838043,1503.2416439056396,1503.3399159908295,1503.4405806064606,1503.542091369629,1503.6399137973785,1503.7397291660309,1503.8402659893036,1503.9417126178741,1504.0408883094788,1504.1431605815887,1504.2412109375,1504.3424327373505,1504.442084312439,1504.5419890880585,1504.6418566703796,1504.7421357631683,1504.8420453071594,1504.9417133331299,1505.0427649021149,1505.1421146392822,1505.2413144111633,1505.3408071994781,1505.4415457248688,1505.542934179306,1505.6415820121765,1505.741807460785,1505.8417615890503,1505.9422342777252,1506.0417664051056,1506.142252922058,1506.2424128055573,1506.3428943157196,1506.4433236122131,1506.5426783561707,1506.6421117782593,1506.74356341362,1506.8419032096863,1506.9436628818512,1507.042890548706,1507.143632888794,1507.2437996864319,1507.34317612648,1507.4439723491669,1507.5464203357697,1507.646990776062,1507.743609905243,1507.844081878662,1507.944857597351,1508.0438890457153,1508.143606185913,1508.2456514835358,1508.3450417518616,1508.444191455841,1508.5442969799042,1508.6431493759155,1508.7441477775574,1508.8442180156708,1508.9457623958588,1509.0446989536285,1509.1442427635193,1509.2483496665955,1509.348049879074,1509.447769165039,1509.5452642440796,1509.6454932689667,1509.7466208934784,1509.8461413383484,1509.9450035095215,1510.0446655750275,1510.1453218460083,1510.2444643974304,1510.3476753234863,1510.444744348526,1510.5449130535126,1510.6449630260468,1510.7453105449677,1510.8460247516632,1510.9460620880127,1511.0450239181519,1511.147045135498,1511.2464575767517,1511.3476495742798,1511.4461619853973,1511.5460538864136,1511.6458253860474,1511.7523272037506,1511.8473920822144,1511.9467968940735,1512.0458340644836,1512.14905834198,1512.2465064525604,1512.3464360237122,1512.4465262889862,1512.5464425086975,1512.6461458206177,1512.7456891536713,1512.846199274063,1512.9469623565674,1513.046472787857,1513.1472702026367,1513.2464673519135,1513.3472352027893,1513.4477665424347,1513.5469961166382,1513.6465792655945,1513.7474553585052,1513.8473408222198,1513.9478917121887,1514.048181295395,1514.1470139026642,1514.2469763755798,1514.347504377365,1514.4472517967224,1514.548014163971,1514.6466579437256,1514.747255563736,1514.8468098640442,1514.9472517967224,1515.0483257770538,1515.1476039886475,1515.2474853992462,1515.349123954773,1515.448129415512,1515.5479564666748,1515.6483643054962,1515.7478876113892,1515.848218679428,1515.9479448795319,1516.0482194423676,1516.149117231369,1516.24773478508,1516.3488357067108,1516.4485018253326,1516.548581123352,1516.6529862880707,1516.7489988803864,1516.8483703136444,1516.9493639469147,1517.0485661029816,1517.1542015075684,1517.2489612102509,1517.3534693717957,1517.4531128406525,1517.553725719452,1517.6531822681427,1517.7508800029755,1517.8505020141602,1517.9501507282257,1518.0533425807953,1518.154797554016,1518.252271413803,1518.3584887981415,1518.4496307373047,1518.5517852306366,1518.6547417640686,1518.751220703125,1518.8547055721283,1518.9500937461853,1519.0509328842163,1519.1500902175903,1519.2508342266083,1519.3509469032288,1519.4529166221619,1519.552564382553,1519.6508638858795,1519.7502257823944,1519.8513631820679,1519.9507722854614,1520.0511844158173,1520.1549203395844,1520.2553119659424,1520.355444908142,1520.4572768211365,1520.5562913417816,1520.6547539234161,1520.7517511844635,1520.852136850357,1520.956214427948,1521.0517673492432,1521.151982307434,1521.2533135414124,1521.3525230884552,1521.4546430110931,1521.5537049770355,1521.6560616493225,1521.756957769394,1521.861038684845,1521.9608080387115,1522.0553195476532,1522.1532826423645,1522.2527394294739,1522.3522148132324,1522.4540903568268,1522.5571751594543,1522.654535293579,1522.7544548511505,1522.8560378551483,1522.953887462616,1523.0526440143585,1523.1566863059998,1523.2580780982971,1523.3567478656769,1523.454469203949,1523.5542244911194,1523.658311843872,1523.7581009864807,1523.8582689762115,1523.953364610672,1524.054563999176,1524.1584029197693,1524.2576098442078,1524.3543453216553,1524.4550700187683,1524.5540347099304,1524.6535897254944,1524.753868341446,1524.853411436081,1524.95521068573,1525.054139137268,1525.1547272205353,1525.2555606365204,1525.3549020290375,1525.4566402435303,1525.5587475299835,1525.6535289287567,1525.7547373771667,1525.8536713123322,1525.9546175003052,1526.0546753406525,1526.1549615859985,1526.255040884018,1526.3548610210419,1526.454764842987,1526.5555267333984,1526.6554877758026,1526.7556302547455,1526.8551664352417,1526.9557905197144,1527.0557622909546,1527.1561093330383,1527.2571275234222,1527.356971502304,1527.457272529602,1527.5553719997406,1527.6574912071228,1527.757332086563,1527.8562273979187,1527.9594457149506,1528.0566897392273,1528.1583421230316,1528.2581007480621,1528.355853319168,1528.4608187675476,1528.5574316978455,1528.6561155319214,1528.7592558860779,1528.8586099147797,1528.9628987312317,1529.0560810565948,1529.1571590900421,1529.2560682296753,1529.3564767837524,1529.456878900528,1529.5586001873016,1529.657800912857,1529.7575800418854,1529.8577151298523,1529.9580373764038,1530.0567288398743,1530.157428264618,1530.2587399482727,1530.3589704036713,1530.457849740982,1530.5578382015228,1530.658446073532,1530.757824897766,1530.8616199493408,1530.960708618164,1531.059900522232,1531.162596464157,1531.2573883533478,1531.3600792884827,1531.458923816681,1531.5627195835114,1531.6612637043,1531.7576656341553,1531.8620171546936,1531.9599452018738,1532.0599632263184,1532.1607375144958,1532.259782075882,1532.3589525222778,1532.4589982032776,1532.5596570968628,1532.660763502121,1532.759989976883,1532.859920501709,1532.9633507728577,1533.0590443611145,1533.159485578537,1533.2591478824615,1533.358909368515,1533.4588725566864,1533.5592203140259,1533.6601333618164,1533.758960723877,1533.8600804805756,1533.9596378803253,1534.0594065189362,1534.1598281860352,1534.2596225738525,1534.360122680664,1534.4612867832184,1534.5604510307312,1534.6615297794342,1534.76198220253,1534.8614101409912,1534.9614522457123,1535.0600357055664,1535.1603939533234,1535.2622575759888,1535.3602058887482,1535.462120294571,1535.56028008461,1535.6601366996765,1535.7611837387085,1535.8639693260193,1535.9614548683167,1536.06116604805,1536.1607356071472,1536.2609808444977,1536.3626313209534,1536.4609956741333,1536.564481496811,1536.6640095710754,1536.763158082962,1536.8629369735718,1536.9626727104187,1537.0616796016693,1537.1621129512787,1537.2617573738098,1537.3618972301483,1537.462711572647,1537.562515258789,1537.6621596813202,1537.7639846801758,1537.8620209693909,1537.9622814655304,1538.0627496242523,1538.1621263027191,1538.2627971172333,1538.366781949997,1538.4637882709503,1538.563273191452,1538.66330909729,1538.7667174339294,1538.8636915683746,1538.9630060195923,1539.063859462738,1539.1625623703003,1539.2660901546478,1539.3630833625793,1539.464448928833,1539.5636985301971,1539.6643221378326,1539.7645237445831,1539.8643732070923,1539.9644606113434,1540.0639703273773,1540.1641156673431,1540.2658836841583,1540.3652892112732,1540.4671607017517,1540.5652508735657,1540.669272184372,1540.7651839256287,1540.8669271469116,1540.9673836231232,1541.0654036998749,1541.1660828590393,1541.2674746513367,1541.3676433563232,1541.4656250476837,1541.5665922164917,1541.6681351661682,1541.7672548294067,1541.867030620575,1541.9676649570465,1542.0670235157013,1542.1689057350159,1542.2671897411346,1542.3672127723694,1542.4686870574951,1542.5665442943573,1542.6705791950226,1542.7696046829224,1542.8668971061707,1542.966644525528,1543.0735685825348,1543.1732482910156,1543.267774105072,1543.3676788806915,1543.4672544002533,1543.5671184062958,1543.6677463054657,1543.7675108909607,1543.8679871559143,1543.9693717956543,1544.0663883686066,1544.1677677631378,1544.268888950348,1544.3663485050201,1544.4664885997772,1544.5660860538483,1544.6669471263885,1544.76717877388,1544.8672885894775,1544.9685242176056,1545.0670084953308,1545.1677951812744,1545.2673869132996,1545.3672273159027,1545.467891216278,1545.575178861618,1545.6677899360657,1545.7664551734924,1545.8665204048157,1545.9671485424042,1546.0674130916595,1546.1681797504425,1546.2676408290863,1546.367078781128,1546.4679577350616,1546.5685453414917,1546.6769742965698,1546.7727680206299,1546.8680868148804,1546.9686315059662,1547.069181919098,1547.167875289917,1547.2677521705627,1547.3686332702637,1547.4707067012787,1547.5683662891388,1547.6724834442139,1547.769639492035,1547.8712072372437,1547.9770529270172,1548.072209596634,1548.173274755478,1548.2715876102448,1548.371628522873,1548.4709198474884,1548.5714690685272,1548.671296596527,1548.7715110778809,1548.8716838359833,1548.97434091568,1549.070969581604,1549.174753665924,1549.2744188308716,1549.3733451366425,1549.4734070301056,1549.5742897987366,1549.6723790168762,1549.7728595733643,1549.8727250099182,1549.9772119522095,1550.0720105171204,1550.1710896492004,1550.2725031375885,1550.3713836669922,1550.4781966209412,1550.5779829025269,1550.6775233745575,1550.774284362793,1550.87375998497,1550.979849100113,1551.0752232074738,1551.1747436523438,1551.2786514759064,1551.3792498111725,1551.478197336197,1551.579080581665,1551.67942070961,1551.77863407135,1551.880181312561,1551.9783499240875,1552.0735130310059,1552.1743123531342,1552.2738902568817,1552.3736426830292,1552.4735062122345,1552.5737590789795,1552.6750376224518,1552.774917125702,1552.874896287918,1552.9747967720032,1553.0752203464508,1553.1760432720184,1553.2762243747711,1553.3725430965424,1553.472339630127,1553.5719089508057,1553.671792268753,1553.7730875015259,1553.8719074726105,1553.9732356071472,1554.072648525238,1554.172200679779,1554.2724151611328,1554.3731021881104,1554.4731767177582,1554.5727956295013,1554.673753976822,1554.7773764133453,1554.8747208118439,1554.9741613864899,1555.0747776031494,1555.1755096912384,1555.279501914978,1555.3744592666626,1555.4760527610779,1555.5740582942963,1555.6754522323608,1555.7753405570984,1555.8802742958069,1555.9759588241577,1556.074725151062,1556.1759669780731,1556.2756700515747,1556.3753113746643,1556.4837319850922,1556.5750107765198,1556.6751630306244,1556.7765123844147,1556.8782150745392,1556.9785902500153,1557.0765113830566,1557.1777567863464,1557.2783045768738,1557.3775517940521,1557.4797596931458,1557.5780041217804,1557.6780152320862,1557.7778115272522,1557.876960515976,1557.9770517349243,1558.076621055603,1558.180831193924,1558.2854754924774,1558.3767499923706,1558.4804351329803,1558.579921722412,1558.677288532257,1558.7769978046417,1558.8778581619263,1558.9787356853485,1559.0771126747131,1559.1767921447754,1559.278477191925,1559.378291606903,1559.4775824546814,1559.5807921886444,1559.6776638031006,1559.778058052063,1559.8830723762512,1559.9832768440247,1560.0840981006622,1560.1845769882202,1560.2789707183838,1560.3786268234253,1560.47776389122,1560.5785915851593,1560.6796667575836,1560.7791197299957,1560.87948346138,1560.978010892868,1561.0784831047058,1561.1786596775055,1561.2765908241272,1561.3838136196136,1561.4774813652039,1561.5815932750702,1561.6770639419556,1561.7776787281036,1561.877956867218,1561.9779877662659,1562.0776226520538,1562.1785109043121,1562.2782335281372,1562.3815352916718,1562.4804756641388,1562.5775909423828,1562.6809916496277,1562.7826879024506,1562.8828573226929,1562.9838132858276,1563.0780189037323,1563.1789796352386,1563.2802908420563,1563.3813588619232,1563.480254650116,1563.5809354782104,1563.680933713913,1563.7801339626312,1563.880723953247,1563.9811205863953,1564.0802714824677,1564.1794838905334,1564.2845251560211,1564.3794884681702,1564.4791498184204,1564.5835678577423,1564.6808955669403,1564.7788915634155,1564.8795139789581,1564.9836478233337,1565.07950258255,1565.1825184822083,1565.2819392681122,1565.380526304245,1565.4812269210815,1565.5805473327637,1565.684333562851,1565.785714149475,1565.8849048614502,1565.9807634353638,1566.0813398361206,1566.1810414791107,1566.283430814743,1566.383866071701,1566.484350681305,1566.5904591083527,1566.6800830364227,1566.7800760269165,1566.8805696964264,1566.9809465408325,1567.0811483860016,1567.1813688278198,1567.2823538780212,1567.3819682598114,1567.4816749095917,1567.5819344520569,1567.6825020313263,1567.781952381134,1567.881548166275,1567.982048034668,1568.0820636749268,1568.1820254325867,1568.281239271164,1568.3812518119812,1568.4811825752258,1568.5819082260132,1568.6818380355835,1568.7822697162628,1568.8816404342651,1568.9819226264954,1569.0865490436554,1569.186048746109,1569.282539844513,1569.3828761577606,1569.4822869300842,1569.58291721344,1569.6838479042053,1569.7846109867096,1569.8823783397675,1569.9836070537567,1570.0831260681152,1570.1819534301758,1570.2878515720367,1570.3924379348755,1570.4909138679504,1570.5902736186981,1570.6988174915314,1570.7904138565063,1570.8904962539673,1570.9899044036865,1571.0898532867432,1571.1898276805878,1571.289258480072,1571.3903584480286,1571.4897434711456,1571.5904321670532,1571.6920642852783,1571.7911806106567,1571.8918182849884,1571.9967155456543,1572.1017162799835,1572.2009263038635,1572.2912111282349,1572.3967843055725,1572.4991810321808,1572.5943253040314,1572.6906354427338,1572.7905294895172,1572.891780614853,1572.9911139011383,1573.0927135944366,1573.1920285224915],\"y\":[83.76114274812721,83.6996370304545,83.54878753080084,83.54878753080084,83.06480607142193,82.30301924069242,81.1122446901451,81.29976968859263,81.29976968859263,80.90653962924904,80.9223161466787,81.26592794293326,80.71546497423597,80.71546497423597,76.61444602019048,81.1904245947816,81.3102983268943,81.3102983268943,81.7642004822879,81.71067205145998,81.5241836887108,81.2241616694737,75.5743354439948,80.45836365810197,80.80265573232855,81.57077926862871,81.17948975490803,81.06281544849067,81.24353081597117,81.64962513244993,81.64962513244993,74.84591426118817,74.79329747909048,75.04620902110442,80.49027708261701,74.33162576177119,73.93398183460002,73.89818898764878,80.48441635470999,80.89289617741183,80.89289617741183,81.72749045579471,82.20268026200965,81.99689192274353,82.24100111258531,81.58896406456569,81.58896406456569,81.63819961618502,82.79111960924124,82.98489470744173,83.30472038276257,82.93433401321494,82.10217678640038,82.07566476923186,82.1668280889102,82.1668280889102,81.94952375301175,81.40199399616861,80.79417160070403,81.40090586530005,81.40090586530005,80.07876483155957,79.56046195866395,79.34337007309273,79.57708182716657,79.57708182716657,80.17395647746217,80.17395647746217,80.61779862020913,80.91181005026822,81.10737996587291,80.88089318274811,81.16089002261695,81.05050494325754,80.5329330485577,80.52270941829909,80.59075385580496,81.05711292627684,81.05711292627684,81.05761192959304,81.24133970537311,81.13312794553292,81.48975586928577,81.66067783347124,81.75615363011674,81.97786497689934,81.96872592298695,81.79811111717099,81.4164828066955,81.42742409574393,80.99408370220014,81.05306258934272,81.31866195644369,81.38796849825273,81.5199002124673,81.42546122310237,81.21781726480528,81.11680179504425,81.12375458860895,80.60452029497227,80.87287183685113,81.05621503613577,80.94187530032005,80.77111801424334,82.01622907169435,82.71119685071639,82.71119685071639,82.9382361069159,82.95892291293195,83.18474730626012,83.18727197437012,83.01875241098166,83.26942068952766,83.26942068952766,82.93851250063271,82.96893736506414,82.8777919023593,83.00633914740838,82.90416463027448,82.92207723519947,83.01305390094993,83.01305390094993,83.26823382948452,83.17203845146958,83.32866090954606,83.32866090954606,83.26320955370271,82.90403148671328,82.90403148671328,82.80044943653597,82.95104431212984,82.86981564862735,82.7562462033432,82.80913483180717,82.7562462033432,82.89776799593704,83.06802056003576,82.88382379285326,82.6643082390751,82.29083518126988,82.69824725164553,82.6612221782604,82.70796743393076,83.05459805572441,83.0327935622959,83.05384507228102,83.08567342654217,82.97777100625392,82.94847105314322,82.96362477904864,82.76389921805949,82.43798227181517,82.6452704632163,82.6452704632163,82.46386021230367,82.61596200095155,82.35581481345591,82.40524022636856,82.63387000291895,82.63387000291895,83.02591448590036,83.06152603170273,83.02590314051346,83.09973888206517,83.00893029196857,82.71909749776394,82.84942149214588,82.96519311325079,82.7460890260633,82.24794406690245,81.96584402954734,82.12481355572537,81.1475588241804,80.447101066105,80.39758261558036,80.39758261558036,80.06195426948796,80.06195426948796,79.99135775421796,80.04390275529761,80.29827510600211,79.81287354066625,79.32001738298403,79.32001738298403,79.24125478238616,78.93827235362274,78.95521544375639,78.9529859339072,78.95490991490787,78.97660627437467,78.99296688262905,78.99735319703856,79.24953234183047,79.29918233379173,79.007645721132,79.00323450548211,78.95040599363573,78.82748113293421,78.82748113293421,79.39977875019979,79.39977875019979,79.50356215913135,79.5074279073813,79.22331450879456,79.23996200698573,79.24137884944577,79.03898965787123,79.22444315468303,79.0585642471471,79.17339013455718,79.15576560629613,79.15576560629613,79.15996444246781,79.15996444246781,79.05664383229059,78.85036300463072,78.74695191278093,78.74695191278093,78.71111332757668,78.7401338596215,78.74013390427812,78.7405986666979,78.75980364262941,78.64486429227773,78.6594148795162,78.63823794913237,78.64907301674147,78.78542261152718,78.78393944169518,78.78917454463611,78.78870504591944,78.78589151201668,78.89961208379891,78.99937494315289,78.98237797089418,78.81302599166514,78.91187187959929,78.59213706559578,78.62505968928544,78.72562023268051,78.67216127308183,78.84544083274362,78.9378568248481,79.22708532778027,79.51769320721232,79.61060919811594,79.82033962057103,79.71278033912375,79.54874639020046,79.71278024962574,79.44789260134877,79.94788380244304,79.53921825004831,79.25564692253923,79.26039191900004,79.26039168228252,79.26039063869807,79.27202406479296,79.25136713689302,79.25615546447477,79.27259886781006,79.67071949640035,79.77469086304254,80.00064174002965,79.67555691520978,79.62658306827191,79.62658306827191,80.03355823926361,80.03243534283989,80.03243534283989,79.71703117866993,79.29079628902808,79.29079628902808,79.18268523234822,79.15406278759262,79.246214349795,79.246214349795,79.51193818258547,79.80191265242466,80.20896477915518,80.20896477915518,81.18252176628918,82.13957467229542,80.89935371212599,82.00661537702413,81.71735789055859,81.4227096299443,80.61005088451712,72.58475596338006,71.42491413959043,69.48370978233093,67.24663654729616,65.40792328273044,63.667895009458604,62.56506851394048,62.71491400896277,63.07721097953723,63.260390580153874,63.89203601954043,63.89203601954043,64.80011652125846,64.46770436998138,63.65089405719001,63.08412199168161,63.02498071238948,63.05153997653645,63.35383843025976,63.5419659101775,63.51614129605257,63.31617107406137,63.328442851131726,63.3778911263601,63.5974302108783,63.95574961921733,64.47737482161776,63.97601313206847,63.240462525180156,63.16090706053151,63.33998620586513,63.386043571053854,63.35802684644964,63.190467544324136,63.16619124852665,63.27609667905725,62.976946820807804,63.308883718330215,63.2328647622815,63.24757884966848,63.34858746302158,63.421837572310956,63.076719493424484,62.806709011414235,62.695465260615016,63.11708487133993,63.29540431616884,62.924994538691394,62.96157277233073,62.82664363120112,62.91249406266628,62.92599731146321,62.70822373627183,62.52285423663897,62.29738718388797,62.187331465654964,61.89565810632407,61.65041271291508,62.098362234208516,62.22797221273917,62.18544084105297,62.18544084105297,62.15494261884158,62.102051659984305,61.9910735396073,61.987349591660966,61.94951507485705,62.11326360321755,62.17171437031221,62.435995288470814,62.59276601258905,62.511917936820275,62.52091771584418,62.74558274589324,62.69667974592382,62.758570647895304,63.08378929728774,63.17945874489853,63.482970243909065,63.482970243909065,63.29517386946006,63.29517386946006,63.34216723263033,63.61729664231178,63.61500053293481,63.3392965378083,63.713034611668064,63.25943929876169,62.71431647251939,62.98203558664314,63.27547931759642,64.03045024573152,64.90865578155513,64.90865578155513,63.77359319313694,62.63596404531317,58.940431511416485,57.86458244653484,113.22579194497328,112.84477017897403,112.54140396553507,113.02415834177523,113.02415834177523,60.77866737504902,115.0472239010436,64.59693305842785,64.59693305842785,62.97449148578399,63.09586573649993,63.24079390316527,63.27626800494712,62.73942141996395,62.89579230813295,63.11151458248564,63.198776115963895,62.96792435572314,63.31682507349154,63.791918383212725,63.56088936111611,63.24325055392229,63.36914279328262,63.43913216946415,63.62777653147679,63.62777653147679,64.1234727056543,63.87720527265861,63.87720527265861,63.86363396957378,63.50636265214098,63.088393375375524,62.95897967942501,63.06335868255457,64.38433014908874,66.41662151031962,66.68635674798824,66.58004973798478,67.05397645355951,69.13770484456946,72.60826782293348,71.22289679894448,67.85415890145323,66.82026765102677,67.0279951508054,68.99470691253592,64.56178747604507,64.71572591735045,64.81550861217778,65.17210252264952,65.38609306059062,65.41161166582478,65.70803618861025,65.21754879858123,64.60027709400414,64.71536576751778,64.81864305642314,65.80789223106711,66.4815865802161,66.0989942919702,66.4785641003112,63.9386403059837,62.94261069014711,62.55655008678348,63.24230036965543,63.93480028890227,64.47850842775733,64.44903853588985,64.04291223430245,63.93706553458525,63.83305583307665,64.40856643822579,63.02487933830343,62.97877846010548,63.108072930066044,63.385788042492464,63.47927898392295,63.5481622816088,63.328751900176755,63.37278044146055,63.26054349771587,63.62989647611692,63.86546100005399,63.07498817283224,66.07536243140154,67.84196433485278,67.58248192764225,65.05172698866197,63.09337455390207,63.154896622946694,62.70726397039119,63.39698939439623,63.762308269278286,63.81818845868181,66.83219117904619,66.87576463564997,69.43647883318938,74.06472153237745,74.06472153237745,77.41271480026232,65.89130929157591,65.89130929157591,65.05056462326988,63.2003636186484,62.78420114687209,63.547765213262906,63.698275113603046,64.28556701257108,64.63520968561818,64.44713487041643,64.28112341676712,63.98177981921698,63.7704426946765,64.2499725268844,65.65622045333468,66.26948080608803,64.77265266724386,63.52061821930033,63.655025714606666,63.84273227467416,64.20494736238321,64.52416043840712,64.13490091174168,63.38131513817884,63.86576117293614,63.86576117293614,64.37229190080947,64.1444052819998,63.99805659404057,67.6546462092717,69.31455867497762,68.97864236345838,66.6157508695973,65.88838358585227,65.65516625472165,66.01476391414722,69.52239694500706,64.6785642784356,64.83640750447793,65.75608365675974,66.78182769871617,66.9260620641508,66.85388358432357,66.98677168393782,67.35143447524423,79.73009009800009,85.00330625739814,85.75607918535893,70.39821799330129,70.39821799330129,67.90121113741819,64.12512502754998,63.4732811505001,62.96034499551069,62.54520795314316,65.8398510800884,66.71602489425558,67.150309303443,67.04024735417231,66.3754253934758,66.37284573103217,65.27541013590657,64.9949366733646,64.73091452358318,64.62634999980443,64.44265562630761,64.44265562630761,64.25672877675271,64.18423036811288,64.37393429219314,64.14797743875157,62.774747472366855,62.66060679427305,62.51745100872031,62.65425254324648,63.14516388905816,63.4108069183416,64.56161136316743,64.9784755554036,65.10258782924038,65.60391984028705,66.34874631708215,66.37994235899973,65.5738301854758,65.14493322381558,64.61169725202701,64.59002982443009,64.45344785849285,63.504587988460486,63.66793771105459,63.80349078697593,63.65084010017718,63.706148394114926,64.45830541009181,64.56297153150541,64.76909266521095,65.3384170821311,64.81173852001687,64.21759640945974,64.14186665575868,64.15068059892393,63.4357275898847,63.11649891586443,63.0082938883074,63.03568716541642,63.10706108339128,62.31104259890723,61.86637317945259,61.90707290514262,61.9453838321509,62.20598118613347,63.041407967205316,64.55496937899395,65.77678851480131,63.89123590012053,65.5487962945978,66.26844816955915,66.62173389802598,66.52382834677613,66.56811630256627,66.86331424603458,66.8298293577279,66.6360510628727,66.06959970393967,64.73648779281521,63.92750965521859,64.44989970573492,64.12255633966217,64.37707697339695,65.58660374551408,64.98554476689881,66.23592209614077,68.3411319617164,71.64452901767255,70.18790534343617,69.63726717594307,69.36877915554157,67.42778251592664,67.17060034763043,67.17060034763043,66.59542773893459,67.05754879085566,67.83938985807362,66.97690692581908,68.62229635942921,68.62229635942921,67.3268484344104,64.52124371670904,73.85537140575738,73.85537140575738,74.58933183145002,75.7356149688712,66.98012832572924,66.0679423497492,63.649991550905696,63.8881853152276,65.81100602820875,67.9986574250136,67.7028563529933,67.91311441612649,63.28511287042659,80.48896366673723,88.21611033780027,66.82171719325113,78.67038993108923,76.77079647385692,76.07269176161505,70.46393038836014,64.46193192356492,65.53768062350063,68.33088186501404,71.49226949961704,99.04164532396217,91.43854082623541,69.73707918734094,69.05808962298002,69.29176079484989,64.80823423367524,63.63587012133844,63.1094373744005,63.14521402100748,62.988123379500145,62.953915131686415,64.37433110766544,64.92986972262807,66.038679924551,75.05544289599051,67.86116282850239,69.88028927482365,75.58400809668386,85.66871505146574,84.53204487819774,76.26625320208602,63.030256500981146,64.93169800478738,64.78514610032701,63.850116192963974,63.73121936383448,63.581428362909634,63.462715732899625,63.54463610039599,63.61486750942343,63.261278944505456,69.21346364780159,62.929006719435634,63.83137293181157,65.47850201623581,71.31185816574305,73.60134152466871,73.60134152466871,71.48574130213231,71.22575110812232,70.90159728542723,70.5096395870723,68.97568392017676,68.16147159654895,66.84930018856073,65.43821163703953,64.17295696990104,108.1719091774194,108.48205217423666,108.79986208952556,108.7411101427096,107.98864196482138,107.30283323604006,107.30283323604006,107.30283323604006,107.30283323604006,107.30283323604006,107.30283323604006,107.30283323604006,107.30283323604006,107.30283323604006,107.30283323604006,107.30283323604006,107.30283323604006,107.30283323604006,107.30283323604006,107.30283323604006,107.30283323604006,107.30283323604006,107.30283323604006,107.30283323604006,107.30283323604006,107.30283323604006,107.30283323604006,107.30283323604006,107.30283323604006,107.30283323604006,107.30283323604006,107.30283323604006,107.30283323604006,107.30283323604006],\"type\":\"scatter\"}],                        {\"autosize\":false,\"font\":{\"color\":\"black\",\"family\":\"Courier New, monospace\",\"size\":22},\"height\":600,\"template\":{\"data\":{\"barpolar\":[{\"marker\":{\"line\":{\"color\":\"#E5ECF6\",\"width\":0.5},\"pattern\":{\"fillmode\":\"overlay\",\"size\":10,\"solidity\":0.2}},\"type\":\"barpolar\"}],\"bar\":[{\"error_x\":{\"color\":\"#2a3f5f\"},\"error_y\":{\"color\":\"#2a3f5f\"},\"marker\":{\"line\":{\"color\":\"#E5ECF6\",\"width\":0.5},\"pattern\":{\"fillmode\":\"overlay\",\"size\":10,\"solidity\":0.2}},\"type\":\"bar\"}],\"carpet\":[{\"aaxis\":{\"endlinecolor\":\"#2a3f5f\",\"gridcolor\":\"white\",\"linecolor\":\"white\",\"minorgridcolor\":\"white\",\"startlinecolor\":\"#2a3f5f\"},\"baxis\":{\"endlinecolor\":\"#2a3f5f\",\"gridcolor\":\"white\",\"linecolor\":\"white\",\"minorgridcolor\":\"white\",\"startlinecolor\":\"#2a3f5f\"},\"type\":\"carpet\"}],\"choropleth\":[{\"colorbar\":{\"outlinewidth\":0,\"ticks\":\"\"},\"type\":\"choropleth\"}],\"contourcarpet\":[{\"colorbar\":{\"outlinewidth\":0,\"ticks\":\"\"},\"type\":\"contourcarpet\"}],\"contour\":[{\"colorbar\":{\"outlinewidth\":0,\"ticks\":\"\"},\"colorscale\":[[0.0,\"#0d0887\"],[0.1111111111111111,\"#46039f\"],[0.2222222222222222,\"#7201a8\"],[0.3333333333333333,\"#9c179e\"],[0.4444444444444444,\"#bd3786\"],[0.5555555555555556,\"#d8576b\"],[0.6666666666666666,\"#ed7953\"],[0.7777777777777778,\"#fb9f3a\"],[0.8888888888888888,\"#fdca26\"],[1.0,\"#f0f921\"]],\"type\":\"contour\"}],\"heatmapgl\":[{\"colorbar\":{\"outlinewidth\":0,\"ticks\":\"\"},\"colorscale\":[[0.0,\"#0d0887\"],[0.1111111111111111,\"#46039f\"],[0.2222222222222222,\"#7201a8\"],[0.3333333333333333,\"#9c179e\"],[0.4444444444444444,\"#bd3786\"],[0.5555555555555556,\"#d8576b\"],[0.6666666666666666,\"#ed7953\"],[0.7777777777777778,\"#fb9f3a\"],[0.8888888888888888,\"#fdca26\"],[1.0,\"#f0f921\"]],\"type\":\"heatmapgl\"}],\"heatmap\":[{\"colorbar\":{\"outlinewidth\":0,\"ticks\":\"\"},\"colorscale\":[[0.0,\"#0d0887\"],[0.1111111111111111,\"#46039f\"],[0.2222222222222222,\"#7201a8\"],[0.3333333333333333,\"#9c179e\"],[0.4444444444444444,\"#bd3786\"],[0.5555555555555556,\"#d8576b\"],[0.6666666666666666,\"#ed7953\"],[0.7777777777777778,\"#fb9f3a\"],[0.8888888888888888,\"#fdca26\"],[1.0,\"#f0f921\"]],\"type\":\"heatmap\"}],\"histogram2dcontour\":[{\"colorbar\":{\"outlinewidth\":0,\"ticks\":\"\"},\"colorscale\":[[0.0,\"#0d0887\"],[0.1111111111111111,\"#46039f\"],[0.2222222222222222,\"#7201a8\"],[0.3333333333333333,\"#9c179e\"],[0.4444444444444444,\"#bd3786\"],[0.5555555555555556,\"#d8576b\"],[0.6666666666666666,\"#ed7953\"],[0.7777777777777778,\"#fb9f3a\"],[0.8888888888888888,\"#fdca26\"],[1.0,\"#f0f921\"]],\"type\":\"histogram2dcontour\"}],\"histogram2d\":[{\"colorbar\":{\"outlinewidth\":0,\"ticks\":\"\"},\"colorscale\":[[0.0,\"#0d0887\"],[0.1111111111111111,\"#46039f\"],[0.2222222222222222,\"#7201a8\"],[0.3333333333333333,\"#9c179e\"],[0.4444444444444444,\"#bd3786\"],[0.5555555555555556,\"#d8576b\"],[0.6666666666666666,\"#ed7953\"],[0.7777777777777778,\"#fb9f3a\"],[0.8888888888888888,\"#fdca26\"],[1.0,\"#f0f921\"]],\"type\":\"histogram2d\"}],\"histogram\":[{\"marker\":{\"pattern\":{\"fillmode\":\"overlay\",\"size\":10,\"solidity\":0.2}},\"type\":\"histogram\"}],\"mesh3d\":[{\"colorbar\":{\"outlinewidth\":0,\"ticks\":\"\"},\"type\":\"mesh3d\"}],\"parcoords\":[{\"line\":{\"colorbar\":{\"outlinewidth\":0,\"ticks\":\"\"}},\"type\":\"parcoords\"}],\"pie\":[{\"automargin\":true,\"type\":\"pie\"}],\"scatter3d\":[{\"line\":{\"colorbar\":{\"outlinewidth\":0,\"ticks\":\"\"}},\"marker\":{\"colorbar\":{\"outlinewidth\":0,\"ticks\":\"\"}},\"type\":\"scatter3d\"}],\"scattercarpet\":[{\"marker\":{\"colorbar\":{\"outlinewidth\":0,\"ticks\":\"\"}},\"type\":\"scattercarpet\"}],\"scattergeo\":[{\"marker\":{\"colorbar\":{\"outlinewidth\":0,\"ticks\":\"\"}},\"type\":\"scattergeo\"}],\"scattergl\":[{\"marker\":{\"colorbar\":{\"outlinewidth\":0,\"ticks\":\"\"}},\"type\":\"scattergl\"}],\"scattermapbox\":[{\"marker\":{\"colorbar\":{\"outlinewidth\":0,\"ticks\":\"\"}},\"type\":\"scattermapbox\"}],\"scatterpolargl\":[{\"marker\":{\"colorbar\":{\"outlinewidth\":0,\"ticks\":\"\"}},\"type\":\"scatterpolargl\"}],\"scatterpolar\":[{\"marker\":{\"colorbar\":{\"outlinewidth\":0,\"ticks\":\"\"}},\"type\":\"scatterpolar\"}],\"scatter\":[{\"fillpattern\":{\"fillmode\":\"overlay\",\"size\":10,\"solidity\":0.2},\"type\":\"scatter\"}],\"scatterternary\":[{\"marker\":{\"colorbar\":{\"outlinewidth\":0,\"ticks\":\"\"}},\"type\":\"scatterternary\"}],\"surface\":[{\"colorbar\":{\"outlinewidth\":0,\"ticks\":\"\"},\"colorscale\":[[0.0,\"#0d0887\"],[0.1111111111111111,\"#46039f\"],[0.2222222222222222,\"#7201a8\"],[0.3333333333333333,\"#9c179e\"],[0.4444444444444444,\"#bd3786\"],[0.5555555555555556,\"#d8576b\"],[0.6666666666666666,\"#ed7953\"],[0.7777777777777778,\"#fb9f3a\"],[0.8888888888888888,\"#fdca26\"],[1.0,\"#f0f921\"]],\"type\":\"surface\"}],\"table\":[{\"cells\":{\"fill\":{\"color\":\"#EBF0F8\"},\"line\":{\"color\":\"white\"}},\"header\":{\"fill\":{\"color\":\"#C8D4E3\"},\"line\":{\"color\":\"white\"}},\"type\":\"table\"}]},\"layout\":{\"annotationdefaults\":{\"arrowcolor\":\"#2a3f5f\",\"arrowhead\":0,\"arrowwidth\":1},\"autotypenumbers\":\"strict\",\"coloraxis\":{\"colorbar\":{\"outlinewidth\":0,\"ticks\":\"\"}},\"colorscale\":{\"diverging\":[[0,\"#8e0152\"],[0.1,\"#c51b7d\"],[0.2,\"#de77ae\"],[0.3,\"#f1b6da\"],[0.4,\"#fde0ef\"],[0.5,\"#f7f7f7\"],[0.6,\"#e6f5d0\"],[0.7,\"#b8e186\"],[0.8,\"#7fbc41\"],[0.9,\"#4d9221\"],[1,\"#276419\"]],\"sequential\":[[0.0,\"#0d0887\"],[0.1111111111111111,\"#46039f\"],[0.2222222222222222,\"#7201a8\"],[0.3333333333333333,\"#9c179e\"],[0.4444444444444444,\"#bd3786\"],[0.5555555555555556,\"#d8576b\"],[0.6666666666666666,\"#ed7953\"],[0.7777777777777778,\"#fb9f3a\"],[0.8888888888888888,\"#fdca26\"],[1.0,\"#f0f921\"]],\"sequentialminus\":[[0.0,\"#0d0887\"],[0.1111111111111111,\"#46039f\"],[0.2222222222222222,\"#7201a8\"],[0.3333333333333333,\"#9c179e\"],[0.4444444444444444,\"#bd3786\"],[0.5555555555555556,\"#d8576b\"],[0.6666666666666666,\"#ed7953\"],[0.7777777777777778,\"#fb9f3a\"],[0.8888888888888888,\"#fdca26\"],[1.0,\"#f0f921\"]]},\"colorway\":[\"#636efa\",\"#EF553B\",\"#00cc96\",\"#ab63fa\",\"#FFA15A\",\"#19d3f3\",\"#FF6692\",\"#B6E880\",\"#FF97FF\",\"#FECB52\"],\"font\":{\"color\":\"#2a3f5f\"},\"geo\":{\"bgcolor\":\"white\",\"lakecolor\":\"white\",\"landcolor\":\"#E5ECF6\",\"showlakes\":true,\"showland\":true,\"subunitcolor\":\"white\"},\"hoverlabel\":{\"align\":\"left\"},\"hovermode\":\"closest\",\"mapbox\":{\"style\":\"light\"},\"paper_bgcolor\":\"white\",\"plot_bgcolor\":\"#E5ECF6\",\"polar\":{\"angularaxis\":{\"gridcolor\":\"white\",\"linecolor\":\"white\",\"ticks\":\"\"},\"bgcolor\":\"#E5ECF6\",\"radialaxis\":{\"gridcolor\":\"white\",\"linecolor\":\"white\",\"ticks\":\"\"}},\"scene\":{\"xaxis\":{\"backgroundcolor\":\"#E5ECF6\",\"gridcolor\":\"white\",\"gridwidth\":2,\"linecolor\":\"white\",\"showbackground\":true,\"ticks\":\"\",\"zerolinecolor\":\"white\"},\"yaxis\":{\"backgroundcolor\":\"#E5ECF6\",\"gridcolor\":\"white\",\"gridwidth\":2,\"linecolor\":\"white\",\"showbackground\":true,\"ticks\":\"\",\"zerolinecolor\":\"white\"},\"zaxis\":{\"backgroundcolor\":\"#E5ECF6\",\"gridcolor\":\"white\",\"gridwidth\":2,\"linecolor\":\"white\",\"showbackground\":true,\"ticks\":\"\",\"zerolinecolor\":\"white\"}},\"shapedefaults\":{\"line\":{\"color\":\"#2a3f5f\"}},\"ternary\":{\"aaxis\":{\"gridcolor\":\"white\",\"linecolor\":\"white\",\"ticks\":\"\"},\"baxis\":{\"gridcolor\":\"white\",\"linecolor\":\"white\",\"ticks\":\"\"},\"bgcolor\":\"#E5ECF6\",\"caxis\":{\"gridcolor\":\"white\",\"linecolor\":\"white\",\"ticks\":\"\"}},\"title\":{\"x\":0.05},\"xaxis\":{\"automargin\":true,\"gridcolor\":\"white\",\"linecolor\":\"white\",\"ticks\":\"\",\"title\":{\"standoff\":15},\"zerolinecolor\":\"white\",\"zerolinewidth\":2},\"yaxis\":{\"automargin\":true,\"gridcolor\":\"white\",\"linecolor\":\"white\",\"ticks\":\"\",\"title\":{\"standoff\":15},\"zerolinecolor\":\"white\",\"zerolinewidth\":2}}},\"title\":{\"text\":\"Range of Motion kneeRight\"},\"width\":750,\"xaxis\":{\"title\":{\"font\":{\"color\":\"#7f7f7f\",\"family\":\"Courier New, monospace\",\"size\":18},\"text\":\"time [s]\"}},\"yaxis\":{\"title\":{\"font\":{\"color\":\"#7f7f7f\",\"family\":\"Courier New, monospace\",\"size\":18},\"text\":\"ROM [gradi]\"}}},                        {\"responsive\": true}                    ).then(function(){\n",
       "                            \n",
       "var gd = document.getElementById('35d41ceb-7d5c-4cd5-8113-3b81f7ced2ad');\n",
       "var x = new MutationObserver(function (mutations, observer) {{\n",
       "        var display = window.getComputedStyle(gd).display;\n",
       "        if (!display || display === 'none') {{\n",
       "            console.log([gd, 'removed!']);\n",
       "            Plotly.purge(gd);\n",
       "            observer.disconnect();\n",
       "        }}\n",
       "}});\n",
       "\n",
       "// Listen for the removal of the full notebook cells\n",
       "var notebookContainer = gd.closest('#notebook-container');\n",
       "if (notebookContainer) {{\n",
       "    x.observe(notebookContainer, {childList: true});\n",
       "}}\n",
       "\n",
       "// Listen for the clearing of the current output cell\n",
       "var outputEl = gd.closest('.output');\n",
       "if (outputEl) {{\n",
       "    x.observe(outputEl, {childList: true});\n",
       "}}\n",
       "\n",
       "                        })                };                });            </script>        </div>"
      ]
     },
     "metadata": {},
     "output_type": "display_data"
    },
    {
     "data": {
      "application/vnd.plotly.v1+json": {
       "config": {
        "linkText": "Export to plot.ly",
        "plotlyServerURL": "https://plot.ly",
        "showLink": false
       },
       "data": [
        {
         "line": {
          "color": "blue",
          "width": 3
         },
         "mode": "lines",
         "name": "Andamento Reale",
         "type": "scatter",
         "x": [
          1499.2411363124847,
          1499.3432846069336,
          1499.4427211284637,
          1499.54013133049,
          1499.6420300006866,
          1499.744064092636,
          1499.8401839733124,
          1499.9462168216705,
          1500.0419936180115,
          1500.1414563655853,
          1500.2422320842743,
          1500.3411314487457,
          1500.441514492035,
          1500.541243314743,
          1500.6429286003113,
          1500.7421760559082,
          1500.8417778015137,
          1500.9413657188416,
          1501.0417659282684,
          1501.1428897380829,
          1501.240436553955,
          1501.3419153690338,
          1501.441132068634,
          1501.5403683185577,
          1501.6449313163757,
          1501.7413523197174,
          1501.8423101902008,
          1501.9408650398254,
          1502.04141497612,
          1502.1416535377502,
          1502.2421522140503,
          1502.3436872959137,
          1502.4428606033325,
          1502.5419516563416,
          1502.6438164710999,
          1502.739751815796,
          1502.839929819107,
          1502.9432377815247,
          1503.0396859645844,
          1503.1407148838043,
          1503.2416439056396,
          1503.3399159908295,
          1503.4405806064606,
          1503.542091369629,
          1503.6399137973785,
          1503.7397291660309,
          1503.8402659893036,
          1503.9417126178741,
          1504.0408883094788,
          1504.1431605815887,
          1504.2412109375,
          1504.3424327373505,
          1504.442084312439,
          1504.5419890880585,
          1504.6418566703796,
          1504.7421357631683,
          1504.8420453071594,
          1504.9417133331299,
          1505.0427649021149,
          1505.1421146392822,
          1505.2413144111633,
          1505.3408071994781,
          1505.4415457248688,
          1505.542934179306,
          1505.6415820121765,
          1505.741807460785,
          1505.8417615890503,
          1505.9422342777252,
          1506.0417664051056,
          1506.142252922058,
          1506.2424128055573,
          1506.3428943157196,
          1506.4433236122131,
          1506.5426783561707,
          1506.6421117782593,
          1506.74356341362,
          1506.8419032096863,
          1506.9436628818512,
          1507.042890548706,
          1507.143632888794,
          1507.2437996864319,
          1507.34317612648,
          1507.4439723491669,
          1507.5464203357697,
          1507.646990776062,
          1507.743609905243,
          1507.844081878662,
          1507.944857597351,
          1508.0438890457153,
          1508.143606185913,
          1508.2456514835358,
          1508.3450417518616,
          1508.444191455841,
          1508.5442969799042,
          1508.6431493759155,
          1508.7441477775574,
          1508.8442180156708,
          1508.9457623958588,
          1509.0446989536285,
          1509.1442427635193,
          1509.2483496665955,
          1509.348049879074,
          1509.447769165039,
          1509.5452642440796,
          1509.6454932689667,
          1509.7466208934784,
          1509.8461413383484,
          1509.9450035095215,
          1510.0446655750275,
          1510.1453218460083,
          1510.2444643974304,
          1510.3476753234863,
          1510.444744348526,
          1510.5449130535126,
          1510.6449630260468,
          1510.7453105449677,
          1510.8460247516632,
          1510.9460620880127,
          1511.0450239181519,
          1511.147045135498,
          1511.2464575767517,
          1511.3476495742798,
          1511.4461619853973,
          1511.5460538864136,
          1511.6458253860474,
          1511.7523272037506,
          1511.8473920822144,
          1511.9467968940735,
          1512.0458340644836,
          1512.14905834198,
          1512.2465064525604,
          1512.3464360237122,
          1512.4465262889862,
          1512.5464425086975,
          1512.6461458206177,
          1512.7456891536713,
          1512.846199274063,
          1512.9469623565674,
          1513.046472787857,
          1513.1472702026367,
          1513.2464673519135,
          1513.3472352027893,
          1513.4477665424347,
          1513.5469961166382,
          1513.6465792655945,
          1513.7474553585052,
          1513.8473408222198,
          1513.9478917121887,
          1514.048181295395,
          1514.1470139026642,
          1514.2469763755798,
          1514.347504377365,
          1514.4472517967224,
          1514.548014163971,
          1514.6466579437256,
          1514.747255563736,
          1514.8468098640442,
          1514.9472517967224,
          1515.0483257770538,
          1515.1476039886475,
          1515.2474853992462,
          1515.349123954773,
          1515.448129415512,
          1515.5479564666748,
          1515.6483643054962,
          1515.7478876113892,
          1515.848218679428,
          1515.9479448795319,
          1516.0482194423676,
          1516.149117231369,
          1516.24773478508,
          1516.3488357067108,
          1516.4485018253326,
          1516.548581123352,
          1516.6529862880707,
          1516.7489988803864,
          1516.8483703136444,
          1516.9493639469147,
          1517.0485661029816,
          1517.1542015075684,
          1517.2489612102509,
          1517.3534693717957,
          1517.4531128406525,
          1517.553725719452,
          1517.6531822681427,
          1517.7508800029755,
          1517.8505020141602,
          1517.9501507282257,
          1518.0533425807953,
          1518.154797554016,
          1518.252271413803,
          1518.3584887981415,
          1518.4496307373047,
          1518.5517852306366,
          1518.6547417640686,
          1518.751220703125,
          1518.8547055721283,
          1518.9500937461853,
          1519.0509328842163,
          1519.1500902175903,
          1519.2508342266083,
          1519.3509469032288,
          1519.4529166221619,
          1519.552564382553,
          1519.6508638858795,
          1519.7502257823944,
          1519.8513631820679,
          1519.9507722854614,
          1520.0511844158173,
          1520.1549203395844,
          1520.2553119659424,
          1520.355444908142,
          1520.4572768211365,
          1520.5562913417816,
          1520.6547539234161,
          1520.7517511844635,
          1520.852136850357,
          1520.956214427948,
          1521.0517673492432,
          1521.151982307434,
          1521.2533135414124,
          1521.3525230884552,
          1521.4546430110931,
          1521.5537049770355,
          1521.6560616493225,
          1521.756957769394,
          1521.861038684845,
          1521.9608080387115,
          1522.0553195476532,
          1522.1532826423645,
          1522.2527394294739,
          1522.3522148132324,
          1522.4540903568268,
          1522.5571751594543,
          1522.654535293579,
          1522.7544548511505,
          1522.8560378551483,
          1522.953887462616,
          1523.0526440143585,
          1523.1566863059998,
          1523.2580780982971,
          1523.3567478656769,
          1523.454469203949,
          1523.5542244911194,
          1523.658311843872,
          1523.7581009864807,
          1523.8582689762115,
          1523.953364610672,
          1524.054563999176,
          1524.1584029197693,
          1524.2576098442078,
          1524.3543453216553,
          1524.4550700187683,
          1524.5540347099304,
          1524.6535897254944,
          1524.753868341446,
          1524.853411436081,
          1524.95521068573,
          1525.054139137268,
          1525.1547272205353,
          1525.2555606365204,
          1525.3549020290375,
          1525.4566402435303,
          1525.5587475299835,
          1525.6535289287567,
          1525.7547373771667,
          1525.8536713123322,
          1525.9546175003052,
          1526.0546753406525,
          1526.1549615859985,
          1526.255040884018,
          1526.3548610210419,
          1526.454764842987,
          1526.5555267333984,
          1526.6554877758026,
          1526.7556302547455,
          1526.8551664352417,
          1526.9557905197144,
          1527.0557622909546,
          1527.1561093330383,
          1527.2571275234222,
          1527.356971502304,
          1527.457272529602,
          1527.5553719997406,
          1527.6574912071228,
          1527.757332086563,
          1527.8562273979187,
          1527.9594457149506,
          1528.0566897392273,
          1528.1583421230316,
          1528.2581007480621,
          1528.355853319168,
          1528.4608187675476,
          1528.5574316978455,
          1528.6561155319214,
          1528.7592558860779,
          1528.8586099147797,
          1528.9628987312317,
          1529.0560810565948,
          1529.1571590900421,
          1529.2560682296753,
          1529.3564767837524,
          1529.456878900528,
          1529.5586001873016,
          1529.657800912857,
          1529.7575800418854,
          1529.8577151298523,
          1529.9580373764038,
          1530.0567288398743,
          1530.157428264618,
          1530.2587399482727,
          1530.3589704036713,
          1530.457849740982,
          1530.5578382015228,
          1530.658446073532,
          1530.757824897766,
          1530.8616199493408,
          1530.960708618164,
          1531.059900522232,
          1531.162596464157,
          1531.2573883533478,
          1531.3600792884827,
          1531.458923816681,
          1531.5627195835114,
          1531.6612637043,
          1531.7576656341553,
          1531.8620171546936,
          1531.9599452018738,
          1532.0599632263184,
          1532.1607375144958,
          1532.259782075882,
          1532.3589525222778,
          1532.4589982032776,
          1532.5596570968628,
          1532.660763502121,
          1532.759989976883,
          1532.859920501709,
          1532.9633507728577,
          1533.0590443611145,
          1533.159485578537,
          1533.2591478824615,
          1533.358909368515,
          1533.4588725566864,
          1533.5592203140259,
          1533.6601333618164,
          1533.758960723877,
          1533.8600804805756,
          1533.9596378803253,
          1534.0594065189362,
          1534.1598281860352,
          1534.2596225738525,
          1534.360122680664,
          1534.4612867832184,
          1534.5604510307312,
          1534.6615297794342,
          1534.76198220253,
          1534.8614101409912,
          1534.9614522457123,
          1535.0600357055664,
          1535.1603939533234,
          1535.2622575759888,
          1535.3602058887482,
          1535.462120294571,
          1535.56028008461,
          1535.6601366996765,
          1535.7611837387085,
          1535.8639693260193,
          1535.9614548683167,
          1536.06116604805,
          1536.1607356071472,
          1536.2609808444977,
          1536.3626313209534,
          1536.4609956741333,
          1536.564481496811,
          1536.6640095710754,
          1536.763158082962,
          1536.8629369735718,
          1536.9626727104187,
          1537.0616796016693,
          1537.1621129512787,
          1537.2617573738098,
          1537.3618972301483,
          1537.462711572647,
          1537.562515258789,
          1537.6621596813202,
          1537.7639846801758,
          1537.8620209693909,
          1537.9622814655304,
          1538.0627496242523,
          1538.1621263027191,
          1538.2627971172333,
          1538.366781949997,
          1538.4637882709503,
          1538.563273191452,
          1538.66330909729,
          1538.7667174339294,
          1538.8636915683746,
          1538.9630060195923,
          1539.063859462738,
          1539.1625623703003,
          1539.2660901546478,
          1539.3630833625793,
          1539.464448928833,
          1539.5636985301971,
          1539.6643221378326,
          1539.7645237445831,
          1539.8643732070923,
          1539.9644606113434,
          1540.0639703273773,
          1540.1641156673431,
          1540.2658836841583,
          1540.3652892112732,
          1540.4671607017517,
          1540.5652508735657,
          1540.669272184372,
          1540.7651839256287,
          1540.8669271469116,
          1540.9673836231232,
          1541.0654036998749,
          1541.1660828590393,
          1541.2674746513367,
          1541.3676433563232,
          1541.4656250476837,
          1541.5665922164917,
          1541.6681351661682,
          1541.7672548294067,
          1541.867030620575,
          1541.9676649570465,
          1542.0670235157013,
          1542.1689057350159,
          1542.2671897411346,
          1542.3672127723694,
          1542.4686870574951,
          1542.5665442943573,
          1542.6705791950226,
          1542.7696046829224,
          1542.8668971061707,
          1542.966644525528,
          1543.0735685825348,
          1543.1732482910156,
          1543.267774105072,
          1543.3676788806915,
          1543.4672544002533,
          1543.5671184062958,
          1543.6677463054657,
          1543.7675108909607,
          1543.8679871559143,
          1543.9693717956543,
          1544.0663883686066,
          1544.1677677631378,
          1544.268888950348,
          1544.3663485050201,
          1544.4664885997772,
          1544.5660860538483,
          1544.6669471263885,
          1544.76717877388,
          1544.8672885894775,
          1544.9685242176056,
          1545.0670084953308,
          1545.1677951812744,
          1545.2673869132996,
          1545.3672273159027,
          1545.467891216278,
          1545.575178861618,
          1545.6677899360657,
          1545.7664551734924,
          1545.8665204048157,
          1545.9671485424042,
          1546.0674130916595,
          1546.1681797504425,
          1546.2676408290863,
          1546.367078781128,
          1546.4679577350616,
          1546.5685453414917,
          1546.6769742965698,
          1546.7727680206299,
          1546.8680868148804,
          1546.9686315059662,
          1547.069181919098,
          1547.167875289917,
          1547.2677521705627,
          1547.3686332702637,
          1547.4707067012787,
          1547.5683662891388,
          1547.6724834442139,
          1547.769639492035,
          1547.8712072372437,
          1547.9770529270172,
          1548.072209596634,
          1548.173274755478,
          1548.2715876102448,
          1548.371628522873,
          1548.4709198474884,
          1548.5714690685272,
          1548.671296596527,
          1548.7715110778809,
          1548.8716838359833,
          1548.97434091568,
          1549.070969581604,
          1549.174753665924,
          1549.2744188308716,
          1549.3733451366425,
          1549.4734070301056,
          1549.5742897987366,
          1549.6723790168762,
          1549.7728595733643,
          1549.8727250099182,
          1549.9772119522095,
          1550.0720105171204,
          1550.1710896492004,
          1550.2725031375885,
          1550.3713836669922,
          1550.4781966209412,
          1550.5779829025269,
          1550.6775233745575,
          1550.774284362793,
          1550.87375998497,
          1550.979849100113,
          1551.0752232074738,
          1551.1747436523438,
          1551.2786514759064,
          1551.3792498111725,
          1551.478197336197,
          1551.579080581665,
          1551.67942070961,
          1551.77863407135,
          1551.880181312561,
          1551.9783499240875,
          1552.0735130310059,
          1552.1743123531342,
          1552.2738902568817,
          1552.3736426830292,
          1552.4735062122345,
          1552.5737590789795,
          1552.6750376224518,
          1552.774917125702,
          1552.874896287918,
          1552.9747967720032,
          1553.0752203464508,
          1553.1760432720184,
          1553.2762243747711,
          1553.3725430965424,
          1553.472339630127,
          1553.5719089508057,
          1553.671792268753,
          1553.7730875015259,
          1553.8719074726105,
          1553.9732356071472,
          1554.072648525238,
          1554.172200679779,
          1554.2724151611328,
          1554.3731021881104,
          1554.4731767177582,
          1554.5727956295013,
          1554.673753976822,
          1554.7773764133453,
          1554.8747208118439,
          1554.9741613864899,
          1555.0747776031494,
          1555.1755096912384,
          1555.279501914978,
          1555.3744592666626,
          1555.4760527610779,
          1555.5740582942963,
          1555.6754522323608,
          1555.7753405570984,
          1555.8802742958069,
          1555.9759588241577,
          1556.074725151062,
          1556.1759669780731,
          1556.2756700515747,
          1556.3753113746643,
          1556.4837319850922,
          1556.5750107765198,
          1556.6751630306244,
          1556.7765123844147,
          1556.8782150745392,
          1556.9785902500153,
          1557.0765113830566,
          1557.1777567863464,
          1557.2783045768738,
          1557.3775517940521,
          1557.4797596931458,
          1557.5780041217804,
          1557.6780152320862,
          1557.7778115272522,
          1557.876960515976,
          1557.9770517349243,
          1558.076621055603,
          1558.180831193924,
          1558.2854754924774,
          1558.3767499923706,
          1558.4804351329803,
          1558.579921722412,
          1558.677288532257,
          1558.7769978046417,
          1558.8778581619263,
          1558.9787356853485,
          1559.0771126747131,
          1559.1767921447754,
          1559.278477191925,
          1559.378291606903,
          1559.4775824546814,
          1559.5807921886444,
          1559.6776638031006,
          1559.778058052063,
          1559.8830723762512,
          1559.9832768440247,
          1560.0840981006622,
          1560.1845769882202,
          1560.2789707183838,
          1560.3786268234253,
          1560.47776389122,
          1560.5785915851593,
          1560.6796667575836,
          1560.7791197299957,
          1560.87948346138,
          1560.978010892868,
          1561.0784831047058,
          1561.1786596775055,
          1561.2765908241272,
          1561.3838136196136,
          1561.4774813652039,
          1561.5815932750702,
          1561.6770639419556,
          1561.7776787281036,
          1561.877956867218,
          1561.9779877662659,
          1562.0776226520538,
          1562.1785109043121,
          1562.2782335281372,
          1562.3815352916718,
          1562.4804756641388,
          1562.5775909423828,
          1562.6809916496277,
          1562.7826879024506,
          1562.8828573226929,
          1562.9838132858276,
          1563.0780189037323,
          1563.1789796352386,
          1563.2802908420563,
          1563.3813588619232,
          1563.480254650116,
          1563.5809354782104,
          1563.680933713913,
          1563.7801339626312,
          1563.880723953247,
          1563.9811205863953,
          1564.0802714824677,
          1564.1794838905334,
          1564.2845251560211,
          1564.3794884681702,
          1564.4791498184204,
          1564.5835678577423,
          1564.6808955669403,
          1564.7788915634155,
          1564.8795139789581,
          1564.9836478233337,
          1565.07950258255,
          1565.1825184822083,
          1565.2819392681122,
          1565.380526304245,
          1565.4812269210815,
          1565.5805473327637,
          1565.684333562851,
          1565.785714149475,
          1565.8849048614502,
          1565.9807634353638,
          1566.0813398361206,
          1566.1810414791107,
          1566.283430814743,
          1566.383866071701,
          1566.484350681305,
          1566.5904591083527,
          1566.6800830364227,
          1566.7800760269165,
          1566.8805696964264,
          1566.9809465408325,
          1567.0811483860016,
          1567.1813688278198,
          1567.2823538780212,
          1567.3819682598114,
          1567.4816749095917,
          1567.5819344520569,
          1567.6825020313263,
          1567.781952381134,
          1567.881548166275,
          1567.982048034668,
          1568.0820636749268,
          1568.1820254325867,
          1568.281239271164,
          1568.3812518119812,
          1568.4811825752258,
          1568.5819082260132,
          1568.6818380355835,
          1568.7822697162628,
          1568.8816404342651,
          1568.9819226264954,
          1569.0865490436554,
          1569.186048746109,
          1569.282539844513,
          1569.3828761577606,
          1569.4822869300842,
          1569.58291721344,
          1569.6838479042053,
          1569.7846109867096,
          1569.8823783397675,
          1569.9836070537567,
          1570.0831260681152,
          1570.1819534301758,
          1570.2878515720367,
          1570.3924379348755,
          1570.4909138679504,
          1570.5902736186981,
          1570.6988174915314,
          1570.7904138565063,
          1570.8904962539673,
          1570.9899044036865,
          1571.0898532867432,
          1571.1898276805878,
          1571.289258480072,
          1571.3903584480286,
          1571.4897434711456,
          1571.5904321670532,
          1571.6920642852783,
          1571.7911806106567,
          1571.8918182849884,
          1571.9967155456543,
          1572.1017162799835,
          1572.2009263038635,
          1572.2912111282349,
          1572.3967843055725,
          1572.4991810321808,
          1572.5943253040314,
          1572.6906354427338,
          1572.7905294895172,
          1572.891780614853,
          1572.9911139011383,
          1573.0927135944366,
          1573.1920285224915
         ],
         "y": [
          90,
          90,
          90,
          90,
          90,
          90,
          90,
          90,
          90,
          90,
          90,
          90,
          90,
          90,
          90,
          90,
          90,
          90,
          90,
          90,
          90,
          90,
          90,
          90,
          90,
          90,
          90,
          90,
          90,
          90,
          90,
          90,
          90,
          90,
          90,
          90,
          90,
          90,
          90,
          90,
          90,
          90,
          90,
          90,
          90,
          90,
          90,
          90,
          90,
          90,
          90,
          90,
          90,
          90,
          90,
          90,
          90,
          90,
          90,
          90,
          90,
          90,
          90,
          90,
          90,
          90,
          90,
          90,
          90,
          90,
          90,
          90,
          90,
          90,
          90,
          90,
          90,
          90,
          90,
          90,
          90,
          90,
          90,
          90,
          90,
          90,
          90,
          90,
          90,
          90,
          90,
          90,
          90,
          90,
          90,
          90,
          90,
          90,
          90,
          90,
          90,
          90,
          90,
          90,
          90,
          90,
          90,
          90,
          90,
          90,
          90,
          90,
          90,
          90,
          90,
          90,
          90,
          90,
          90,
          90,
          90,
          90,
          90,
          90,
          90,
          90,
          90,
          90,
          90,
          90,
          90,
          90,
          90,
          90,
          90,
          90,
          90,
          90,
          90,
          90,
          90,
          90,
          90,
          90,
          90,
          90,
          90,
          90,
          90,
          90,
          90,
          90,
          90,
          90,
          90,
          90,
          90,
          90,
          90,
          90,
          90,
          90,
          90,
          90,
          90,
          90,
          90,
          90,
          90,
          90,
          90,
          90,
          90,
          90,
          90,
          90,
          90,
          90,
          90,
          90,
          90,
          90,
          90,
          90,
          90,
          90,
          90,
          90,
          90,
          90,
          90,
          90,
          90,
          90,
          90,
          90,
          90,
          90,
          90,
          90,
          90,
          90,
          90,
          90,
          90,
          90,
          90,
          90,
          90,
          90,
          90,
          90,
          90,
          90,
          90,
          90,
          90,
          90,
          90,
          90,
          90,
          90,
          90,
          90,
          90,
          90,
          90,
          90,
          90,
          90,
          90,
          90,
          90,
          90,
          90,
          90,
          90,
          90,
          90,
          90,
          90,
          90,
          90,
          90,
          90,
          90,
          90,
          90,
          90,
          90,
          90,
          90,
          90,
          90,
          90,
          90,
          90,
          90,
          90,
          90,
          90,
          90,
          90,
          90,
          90,
          90,
          90,
          90,
          90,
          90,
          90,
          90,
          90,
          90,
          90,
          90,
          90,
          90,
          90,
          90,
          90,
          90,
          90,
          90,
          90,
          90,
          90,
          90,
          90,
          90,
          90,
          90,
          90,
          90,
          90,
          90,
          90,
          90,
          90,
          90,
          90,
          90,
          90,
          90,
          90,
          90,
          90,
          90,
          90,
          90,
          90,
          90,
          90,
          90,
          90,
          90,
          90,
          90,
          90,
          90,
          90,
          90,
          90,
          90,
          90,
          90,
          90,
          90,
          90,
          90,
          90,
          90,
          90,
          90,
          90,
          90,
          90,
          90,
          90,
          90,
          90,
          90,
          90,
          90,
          90,
          90,
          90,
          90,
          90,
          90,
          90,
          90,
          90,
          90,
          90,
          90,
          90,
          90,
          90,
          90,
          90,
          90,
          90,
          90,
          90,
          90,
          90,
          90,
          90,
          90,
          90,
          90,
          90,
          90,
          90,
          90,
          90,
          90,
          90,
          90,
          90,
          90,
          90,
          90,
          90,
          90,
          90,
          90,
          90,
          90,
          90,
          90,
          90,
          90,
          90,
          90,
          90,
          90,
          90,
          90,
          90,
          90,
          90,
          90,
          90,
          90,
          90,
          90,
          90,
          90,
          90,
          90,
          90,
          90,
          90,
          90,
          90,
          90,
          90,
          90,
          90,
          90,
          90,
          90,
          90,
          90,
          90,
          90,
          90,
          90,
          90,
          90,
          90,
          90,
          90,
          90,
          90,
          90,
          90,
          90,
          90,
          90,
          90,
          90,
          90,
          90,
          90,
          90,
          90,
          90,
          90,
          90,
          90,
          90,
          90,
          90,
          90,
          90,
          90,
          90,
          90,
          90,
          90,
          90,
          90,
          90,
          90,
          90,
          90,
          90,
          90,
          90,
          90,
          90,
          90,
          90,
          90,
          90,
          90,
          90,
          90,
          90,
          90,
          90,
          90,
          90,
          90,
          90,
          90,
          90,
          90,
          90,
          90,
          90,
          90,
          90,
          90,
          90,
          90,
          90,
          90,
          90,
          90,
          90,
          90,
          90,
          90,
          90,
          90,
          90,
          90,
          90,
          90,
          90,
          90,
          90,
          90,
          90,
          90,
          90,
          90,
          90,
          90,
          90,
          90,
          90,
          90,
          90,
          90,
          90,
          90,
          90,
          90,
          90,
          90,
          90,
          90,
          90,
          90,
          90,
          90,
          90,
          90,
          90,
          90,
          90,
          90,
          90,
          90,
          90,
          90,
          90,
          90,
          90,
          90,
          90,
          90,
          90,
          90,
          90,
          90,
          90,
          90,
          90,
          90,
          90,
          90,
          90,
          90,
          90,
          90,
          90,
          90,
          90,
          90,
          90,
          90,
          90,
          90,
          90,
          90,
          90,
          90,
          90,
          90,
          90,
          90,
          90,
          90,
          90,
          90,
          90,
          90,
          90,
          90,
          90,
          90,
          90,
          90,
          90,
          90,
          90,
          90,
          90,
          90,
          90,
          90,
          90,
          90,
          90,
          90,
          90,
          90,
          90,
          90,
          90,
          90,
          90,
          90,
          90,
          90,
          90,
          90,
          90,
          90,
          90,
          90,
          90,
          90,
          90,
          90,
          90,
          90,
          90,
          90,
          90,
          90,
          90,
          90,
          90,
          90,
          90,
          90,
          90,
          90,
          90,
          90,
          90,
          90,
          90,
          90,
          90,
          90,
          90,
          90,
          90,
          90,
          90,
          90,
          90,
          90,
          90,
          90,
          90,
          90,
          90,
          90,
          90,
          90,
          90,
          90,
          90,
          90,
          90,
          90,
          90,
          90,
          90,
          90,
          90,
          90,
          90,
          90,
          90,
          90,
          90,
          90,
          90,
          90,
          90,
          90,
          90,
          90,
          90,
          90,
          90,
          90,
          90,
          90,
          90,
          90,
          90,
          90,
          90,
          90,
          90,
          90,
          90,
          90,
          90,
          90,
          90,
          90,
          90,
          90,
          90,
          90,
          90,
          90,
          90,
          90,
          90,
          90,
          90,
          90,
          90,
          90,
          90,
          90,
          90,
          90,
          90,
          90,
          90,
          90,
          90,
          90,
          90,
          90
         ]
        }
       ],
       "layout": {
        "autosize": false,
        "font": {
         "color": "black",
         "family": "Courier New, monospace",
         "size": 22
        },
        "height": 600,
        "template": {
         "data": {
          "bar": [
           {
            "error_x": {
             "color": "#2a3f5f"
            },
            "error_y": {
             "color": "#2a3f5f"
            },
            "marker": {
             "line": {
              "color": "#E5ECF6",
              "width": 0.5
             },
             "pattern": {
              "fillmode": "overlay",
              "size": 10,
              "solidity": 0.2
             }
            },
            "type": "bar"
           }
          ],
          "barpolar": [
           {
            "marker": {
             "line": {
              "color": "#E5ECF6",
              "width": 0.5
             },
             "pattern": {
              "fillmode": "overlay",
              "size": 10,
              "solidity": 0.2
             }
            },
            "type": "barpolar"
           }
          ],
          "carpet": [
           {
            "aaxis": {
             "endlinecolor": "#2a3f5f",
             "gridcolor": "white",
             "linecolor": "white",
             "minorgridcolor": "white",
             "startlinecolor": "#2a3f5f"
            },
            "baxis": {
             "endlinecolor": "#2a3f5f",
             "gridcolor": "white",
             "linecolor": "white",
             "minorgridcolor": "white",
             "startlinecolor": "#2a3f5f"
            },
            "type": "carpet"
           }
          ],
          "choropleth": [
           {
            "colorbar": {
             "outlinewidth": 0,
             "ticks": ""
            },
            "type": "choropleth"
           }
          ],
          "contour": [
           {
            "colorbar": {
             "outlinewidth": 0,
             "ticks": ""
            },
            "colorscale": [
             [
              0,
              "#0d0887"
             ],
             [
              0.1111111111111111,
              "#46039f"
             ],
             [
              0.2222222222222222,
              "#7201a8"
             ],
             [
              0.3333333333333333,
              "#9c179e"
             ],
             [
              0.4444444444444444,
              "#bd3786"
             ],
             [
              0.5555555555555556,
              "#d8576b"
             ],
             [
              0.6666666666666666,
              "#ed7953"
             ],
             [
              0.7777777777777778,
              "#fb9f3a"
             ],
             [
              0.8888888888888888,
              "#fdca26"
             ],
             [
              1,
              "#f0f921"
             ]
            ],
            "type": "contour"
           }
          ],
          "contourcarpet": [
           {
            "colorbar": {
             "outlinewidth": 0,
             "ticks": ""
            },
            "type": "contourcarpet"
           }
          ],
          "heatmap": [
           {
            "colorbar": {
             "outlinewidth": 0,
             "ticks": ""
            },
            "colorscale": [
             [
              0,
              "#0d0887"
             ],
             [
              0.1111111111111111,
              "#46039f"
             ],
             [
              0.2222222222222222,
              "#7201a8"
             ],
             [
              0.3333333333333333,
              "#9c179e"
             ],
             [
              0.4444444444444444,
              "#bd3786"
             ],
             [
              0.5555555555555556,
              "#d8576b"
             ],
             [
              0.6666666666666666,
              "#ed7953"
             ],
             [
              0.7777777777777778,
              "#fb9f3a"
             ],
             [
              0.8888888888888888,
              "#fdca26"
             ],
             [
              1,
              "#f0f921"
             ]
            ],
            "type": "heatmap"
           }
          ],
          "heatmapgl": [
           {
            "colorbar": {
             "outlinewidth": 0,
             "ticks": ""
            },
            "colorscale": [
             [
              0,
              "#0d0887"
             ],
             [
              0.1111111111111111,
              "#46039f"
             ],
             [
              0.2222222222222222,
              "#7201a8"
             ],
             [
              0.3333333333333333,
              "#9c179e"
             ],
             [
              0.4444444444444444,
              "#bd3786"
             ],
             [
              0.5555555555555556,
              "#d8576b"
             ],
             [
              0.6666666666666666,
              "#ed7953"
             ],
             [
              0.7777777777777778,
              "#fb9f3a"
             ],
             [
              0.8888888888888888,
              "#fdca26"
             ],
             [
              1,
              "#f0f921"
             ]
            ],
            "type": "heatmapgl"
           }
          ],
          "histogram": [
           {
            "marker": {
             "pattern": {
              "fillmode": "overlay",
              "size": 10,
              "solidity": 0.2
             }
            },
            "type": "histogram"
           }
          ],
          "histogram2d": [
           {
            "colorbar": {
             "outlinewidth": 0,
             "ticks": ""
            },
            "colorscale": [
             [
              0,
              "#0d0887"
             ],
             [
              0.1111111111111111,
              "#46039f"
             ],
             [
              0.2222222222222222,
              "#7201a8"
             ],
             [
              0.3333333333333333,
              "#9c179e"
             ],
             [
              0.4444444444444444,
              "#bd3786"
             ],
             [
              0.5555555555555556,
              "#d8576b"
             ],
             [
              0.6666666666666666,
              "#ed7953"
             ],
             [
              0.7777777777777778,
              "#fb9f3a"
             ],
             [
              0.8888888888888888,
              "#fdca26"
             ],
             [
              1,
              "#f0f921"
             ]
            ],
            "type": "histogram2d"
           }
          ],
          "histogram2dcontour": [
           {
            "colorbar": {
             "outlinewidth": 0,
             "ticks": ""
            },
            "colorscale": [
             [
              0,
              "#0d0887"
             ],
             [
              0.1111111111111111,
              "#46039f"
             ],
             [
              0.2222222222222222,
              "#7201a8"
             ],
             [
              0.3333333333333333,
              "#9c179e"
             ],
             [
              0.4444444444444444,
              "#bd3786"
             ],
             [
              0.5555555555555556,
              "#d8576b"
             ],
             [
              0.6666666666666666,
              "#ed7953"
             ],
             [
              0.7777777777777778,
              "#fb9f3a"
             ],
             [
              0.8888888888888888,
              "#fdca26"
             ],
             [
              1,
              "#f0f921"
             ]
            ],
            "type": "histogram2dcontour"
           }
          ],
          "mesh3d": [
           {
            "colorbar": {
             "outlinewidth": 0,
             "ticks": ""
            },
            "type": "mesh3d"
           }
          ],
          "parcoords": [
           {
            "line": {
             "colorbar": {
              "outlinewidth": 0,
              "ticks": ""
             }
            },
            "type": "parcoords"
           }
          ],
          "pie": [
           {
            "automargin": true,
            "type": "pie"
           }
          ],
          "scatter": [
           {
            "fillpattern": {
             "fillmode": "overlay",
             "size": 10,
             "solidity": 0.2
            },
            "type": "scatter"
           }
          ],
          "scatter3d": [
           {
            "line": {
             "colorbar": {
              "outlinewidth": 0,
              "ticks": ""
             }
            },
            "marker": {
             "colorbar": {
              "outlinewidth": 0,
              "ticks": ""
             }
            },
            "type": "scatter3d"
           }
          ],
          "scattercarpet": [
           {
            "marker": {
             "colorbar": {
              "outlinewidth": 0,
              "ticks": ""
             }
            },
            "type": "scattercarpet"
           }
          ],
          "scattergeo": [
           {
            "marker": {
             "colorbar": {
              "outlinewidth": 0,
              "ticks": ""
             }
            },
            "type": "scattergeo"
           }
          ],
          "scattergl": [
           {
            "marker": {
             "colorbar": {
              "outlinewidth": 0,
              "ticks": ""
             }
            },
            "type": "scattergl"
           }
          ],
          "scattermapbox": [
           {
            "marker": {
             "colorbar": {
              "outlinewidth": 0,
              "ticks": ""
             }
            },
            "type": "scattermapbox"
           }
          ],
          "scatterpolar": [
           {
            "marker": {
             "colorbar": {
              "outlinewidth": 0,
              "ticks": ""
             }
            },
            "type": "scatterpolar"
           }
          ],
          "scatterpolargl": [
           {
            "marker": {
             "colorbar": {
              "outlinewidth": 0,
              "ticks": ""
             }
            },
            "type": "scatterpolargl"
           }
          ],
          "scatterternary": [
           {
            "marker": {
             "colorbar": {
              "outlinewidth": 0,
              "ticks": ""
             }
            },
            "type": "scatterternary"
           }
          ],
          "surface": [
           {
            "colorbar": {
             "outlinewidth": 0,
             "ticks": ""
            },
            "colorscale": [
             [
              0,
              "#0d0887"
             ],
             [
              0.1111111111111111,
              "#46039f"
             ],
             [
              0.2222222222222222,
              "#7201a8"
             ],
             [
              0.3333333333333333,
              "#9c179e"
             ],
             [
              0.4444444444444444,
              "#bd3786"
             ],
             [
              0.5555555555555556,
              "#d8576b"
             ],
             [
              0.6666666666666666,
              "#ed7953"
             ],
             [
              0.7777777777777778,
              "#fb9f3a"
             ],
             [
              0.8888888888888888,
              "#fdca26"
             ],
             [
              1,
              "#f0f921"
             ]
            ],
            "type": "surface"
           }
          ],
          "table": [
           {
            "cells": {
             "fill": {
              "color": "#EBF0F8"
             },
             "line": {
              "color": "white"
             }
            },
            "header": {
             "fill": {
              "color": "#C8D4E3"
             },
             "line": {
              "color": "white"
             }
            },
            "type": "table"
           }
          ]
         },
         "layout": {
          "annotationdefaults": {
           "arrowcolor": "#2a3f5f",
           "arrowhead": 0,
           "arrowwidth": 1
          },
          "autotypenumbers": "strict",
          "coloraxis": {
           "colorbar": {
            "outlinewidth": 0,
            "ticks": ""
           }
          },
          "colorscale": {
           "diverging": [
            [
             0,
             "#8e0152"
            ],
            [
             0.1,
             "#c51b7d"
            ],
            [
             0.2,
             "#de77ae"
            ],
            [
             0.3,
             "#f1b6da"
            ],
            [
             0.4,
             "#fde0ef"
            ],
            [
             0.5,
             "#f7f7f7"
            ],
            [
             0.6,
             "#e6f5d0"
            ],
            [
             0.7,
             "#b8e186"
            ],
            [
             0.8,
             "#7fbc41"
            ],
            [
             0.9,
             "#4d9221"
            ],
            [
             1,
             "#276419"
            ]
           ],
           "sequential": [
            [
             0,
             "#0d0887"
            ],
            [
             0.1111111111111111,
             "#46039f"
            ],
            [
             0.2222222222222222,
             "#7201a8"
            ],
            [
             0.3333333333333333,
             "#9c179e"
            ],
            [
             0.4444444444444444,
             "#bd3786"
            ],
            [
             0.5555555555555556,
             "#d8576b"
            ],
            [
             0.6666666666666666,
             "#ed7953"
            ],
            [
             0.7777777777777778,
             "#fb9f3a"
            ],
            [
             0.8888888888888888,
             "#fdca26"
            ],
            [
             1,
             "#f0f921"
            ]
           ],
           "sequentialminus": [
            [
             0,
             "#0d0887"
            ],
            [
             0.1111111111111111,
             "#46039f"
            ],
            [
             0.2222222222222222,
             "#7201a8"
            ],
            [
             0.3333333333333333,
             "#9c179e"
            ],
            [
             0.4444444444444444,
             "#bd3786"
            ],
            [
             0.5555555555555556,
             "#d8576b"
            ],
            [
             0.6666666666666666,
             "#ed7953"
            ],
            [
             0.7777777777777778,
             "#fb9f3a"
            ],
            [
             0.8888888888888888,
             "#fdca26"
            ],
            [
             1,
             "#f0f921"
            ]
           ]
          },
          "colorway": [
           "#636efa",
           "#EF553B",
           "#00cc96",
           "#ab63fa",
           "#FFA15A",
           "#19d3f3",
           "#FF6692",
           "#B6E880",
           "#FF97FF",
           "#FECB52"
          ],
          "font": {
           "color": "#2a3f5f"
          },
          "geo": {
           "bgcolor": "white",
           "lakecolor": "white",
           "landcolor": "#E5ECF6",
           "showlakes": true,
           "showland": true,
           "subunitcolor": "white"
          },
          "hoverlabel": {
           "align": "left"
          },
          "hovermode": "closest",
          "mapbox": {
           "style": "light"
          },
          "paper_bgcolor": "white",
          "plot_bgcolor": "#E5ECF6",
          "polar": {
           "angularaxis": {
            "gridcolor": "white",
            "linecolor": "white",
            "ticks": ""
           },
           "bgcolor": "#E5ECF6",
           "radialaxis": {
            "gridcolor": "white",
            "linecolor": "white",
            "ticks": ""
           }
          },
          "scene": {
           "xaxis": {
            "backgroundcolor": "#E5ECF6",
            "gridcolor": "white",
            "gridwidth": 2,
            "linecolor": "white",
            "showbackground": true,
            "ticks": "",
            "zerolinecolor": "white"
           },
           "yaxis": {
            "backgroundcolor": "#E5ECF6",
            "gridcolor": "white",
            "gridwidth": 2,
            "linecolor": "white",
            "showbackground": true,
            "ticks": "",
            "zerolinecolor": "white"
           },
           "zaxis": {
            "backgroundcolor": "#E5ECF6",
            "gridcolor": "white",
            "gridwidth": 2,
            "linecolor": "white",
            "showbackground": true,
            "ticks": "",
            "zerolinecolor": "white"
           }
          },
          "shapedefaults": {
           "line": {
            "color": "#2a3f5f"
           }
          },
          "ternary": {
           "aaxis": {
            "gridcolor": "white",
            "linecolor": "white",
            "ticks": ""
           },
           "baxis": {
            "gridcolor": "white",
            "linecolor": "white",
            "ticks": ""
           },
           "bgcolor": "#E5ECF6",
           "caxis": {
            "gridcolor": "white",
            "linecolor": "white",
            "ticks": ""
           }
          },
          "title": {
           "x": 0.05
          },
          "xaxis": {
           "automargin": true,
           "gridcolor": "white",
           "linecolor": "white",
           "ticks": "",
           "title": {
            "standoff": 15
           },
           "zerolinecolor": "white",
           "zerolinewidth": 2
          },
          "yaxis": {
           "automargin": true,
           "gridcolor": "white",
           "linecolor": "white",
           "ticks": "",
           "title": {
            "standoff": 15
           },
           "zerolinecolor": "white",
           "zerolinewidth": 2
          }
         }
        },
        "title": {
         "text": "Range of Motion ankleRight"
        },
        "width": 750,
        "xaxis": {
         "title": {
          "font": {
           "color": "#7f7f7f",
           "family": "Courier New, monospace",
           "size": 18
          },
          "text": "time [s]"
         }
        },
        "yaxis": {
         "title": {
          "font": {
           "color": "#7f7f7f",
           "family": "Courier New, monospace",
           "size": 18
          },
          "text": "ROM [gradi]"
         }
        }
       }
      },
      "text/html": [
       "<div>                            <div id=\"b421a7e3-bbc1-4373-ab6e-b45f7bd58de3\" class=\"plotly-graph-div\" style=\"height:600px; width:750px;\"></div>            <script type=\"text/javascript\">                require([\"plotly\"], function(Plotly) {                    window.PLOTLYENV=window.PLOTLYENV || {};                                    if (document.getElementById(\"b421a7e3-bbc1-4373-ab6e-b45f7bd58de3\")) {                    Plotly.newPlot(                        \"b421a7e3-bbc1-4373-ab6e-b45f7bd58de3\",                        [{\"line\":{\"color\":\"blue\",\"width\":3},\"mode\":\"lines\",\"name\":\"Andamento Reale\",\"x\":[1499.2411363124847,1499.3432846069336,1499.4427211284637,1499.54013133049,1499.6420300006866,1499.744064092636,1499.8401839733124,1499.9462168216705,1500.0419936180115,1500.1414563655853,1500.2422320842743,1500.3411314487457,1500.441514492035,1500.541243314743,1500.6429286003113,1500.7421760559082,1500.8417778015137,1500.9413657188416,1501.0417659282684,1501.1428897380829,1501.240436553955,1501.3419153690338,1501.441132068634,1501.5403683185577,1501.6449313163757,1501.7413523197174,1501.8423101902008,1501.9408650398254,1502.04141497612,1502.1416535377502,1502.2421522140503,1502.3436872959137,1502.4428606033325,1502.5419516563416,1502.6438164710999,1502.739751815796,1502.839929819107,1502.9432377815247,1503.0396859645844,1503.1407148838043,1503.2416439056396,1503.3399159908295,1503.4405806064606,1503.542091369629,1503.6399137973785,1503.7397291660309,1503.8402659893036,1503.9417126178741,1504.0408883094788,1504.1431605815887,1504.2412109375,1504.3424327373505,1504.442084312439,1504.5419890880585,1504.6418566703796,1504.7421357631683,1504.8420453071594,1504.9417133331299,1505.0427649021149,1505.1421146392822,1505.2413144111633,1505.3408071994781,1505.4415457248688,1505.542934179306,1505.6415820121765,1505.741807460785,1505.8417615890503,1505.9422342777252,1506.0417664051056,1506.142252922058,1506.2424128055573,1506.3428943157196,1506.4433236122131,1506.5426783561707,1506.6421117782593,1506.74356341362,1506.8419032096863,1506.9436628818512,1507.042890548706,1507.143632888794,1507.2437996864319,1507.34317612648,1507.4439723491669,1507.5464203357697,1507.646990776062,1507.743609905243,1507.844081878662,1507.944857597351,1508.0438890457153,1508.143606185913,1508.2456514835358,1508.3450417518616,1508.444191455841,1508.5442969799042,1508.6431493759155,1508.7441477775574,1508.8442180156708,1508.9457623958588,1509.0446989536285,1509.1442427635193,1509.2483496665955,1509.348049879074,1509.447769165039,1509.5452642440796,1509.6454932689667,1509.7466208934784,1509.8461413383484,1509.9450035095215,1510.0446655750275,1510.1453218460083,1510.2444643974304,1510.3476753234863,1510.444744348526,1510.5449130535126,1510.6449630260468,1510.7453105449677,1510.8460247516632,1510.9460620880127,1511.0450239181519,1511.147045135498,1511.2464575767517,1511.3476495742798,1511.4461619853973,1511.5460538864136,1511.6458253860474,1511.7523272037506,1511.8473920822144,1511.9467968940735,1512.0458340644836,1512.14905834198,1512.2465064525604,1512.3464360237122,1512.4465262889862,1512.5464425086975,1512.6461458206177,1512.7456891536713,1512.846199274063,1512.9469623565674,1513.046472787857,1513.1472702026367,1513.2464673519135,1513.3472352027893,1513.4477665424347,1513.5469961166382,1513.6465792655945,1513.7474553585052,1513.8473408222198,1513.9478917121887,1514.048181295395,1514.1470139026642,1514.2469763755798,1514.347504377365,1514.4472517967224,1514.548014163971,1514.6466579437256,1514.747255563736,1514.8468098640442,1514.9472517967224,1515.0483257770538,1515.1476039886475,1515.2474853992462,1515.349123954773,1515.448129415512,1515.5479564666748,1515.6483643054962,1515.7478876113892,1515.848218679428,1515.9479448795319,1516.0482194423676,1516.149117231369,1516.24773478508,1516.3488357067108,1516.4485018253326,1516.548581123352,1516.6529862880707,1516.7489988803864,1516.8483703136444,1516.9493639469147,1517.0485661029816,1517.1542015075684,1517.2489612102509,1517.3534693717957,1517.4531128406525,1517.553725719452,1517.6531822681427,1517.7508800029755,1517.8505020141602,1517.9501507282257,1518.0533425807953,1518.154797554016,1518.252271413803,1518.3584887981415,1518.4496307373047,1518.5517852306366,1518.6547417640686,1518.751220703125,1518.8547055721283,1518.9500937461853,1519.0509328842163,1519.1500902175903,1519.2508342266083,1519.3509469032288,1519.4529166221619,1519.552564382553,1519.6508638858795,1519.7502257823944,1519.8513631820679,1519.9507722854614,1520.0511844158173,1520.1549203395844,1520.2553119659424,1520.355444908142,1520.4572768211365,1520.5562913417816,1520.6547539234161,1520.7517511844635,1520.852136850357,1520.956214427948,1521.0517673492432,1521.151982307434,1521.2533135414124,1521.3525230884552,1521.4546430110931,1521.5537049770355,1521.6560616493225,1521.756957769394,1521.861038684845,1521.9608080387115,1522.0553195476532,1522.1532826423645,1522.2527394294739,1522.3522148132324,1522.4540903568268,1522.5571751594543,1522.654535293579,1522.7544548511505,1522.8560378551483,1522.953887462616,1523.0526440143585,1523.1566863059998,1523.2580780982971,1523.3567478656769,1523.454469203949,1523.5542244911194,1523.658311843872,1523.7581009864807,1523.8582689762115,1523.953364610672,1524.054563999176,1524.1584029197693,1524.2576098442078,1524.3543453216553,1524.4550700187683,1524.5540347099304,1524.6535897254944,1524.753868341446,1524.853411436081,1524.95521068573,1525.054139137268,1525.1547272205353,1525.2555606365204,1525.3549020290375,1525.4566402435303,1525.5587475299835,1525.6535289287567,1525.7547373771667,1525.8536713123322,1525.9546175003052,1526.0546753406525,1526.1549615859985,1526.255040884018,1526.3548610210419,1526.454764842987,1526.5555267333984,1526.6554877758026,1526.7556302547455,1526.8551664352417,1526.9557905197144,1527.0557622909546,1527.1561093330383,1527.2571275234222,1527.356971502304,1527.457272529602,1527.5553719997406,1527.6574912071228,1527.757332086563,1527.8562273979187,1527.9594457149506,1528.0566897392273,1528.1583421230316,1528.2581007480621,1528.355853319168,1528.4608187675476,1528.5574316978455,1528.6561155319214,1528.7592558860779,1528.8586099147797,1528.9628987312317,1529.0560810565948,1529.1571590900421,1529.2560682296753,1529.3564767837524,1529.456878900528,1529.5586001873016,1529.657800912857,1529.7575800418854,1529.8577151298523,1529.9580373764038,1530.0567288398743,1530.157428264618,1530.2587399482727,1530.3589704036713,1530.457849740982,1530.5578382015228,1530.658446073532,1530.757824897766,1530.8616199493408,1530.960708618164,1531.059900522232,1531.162596464157,1531.2573883533478,1531.3600792884827,1531.458923816681,1531.5627195835114,1531.6612637043,1531.7576656341553,1531.8620171546936,1531.9599452018738,1532.0599632263184,1532.1607375144958,1532.259782075882,1532.3589525222778,1532.4589982032776,1532.5596570968628,1532.660763502121,1532.759989976883,1532.859920501709,1532.9633507728577,1533.0590443611145,1533.159485578537,1533.2591478824615,1533.358909368515,1533.4588725566864,1533.5592203140259,1533.6601333618164,1533.758960723877,1533.8600804805756,1533.9596378803253,1534.0594065189362,1534.1598281860352,1534.2596225738525,1534.360122680664,1534.4612867832184,1534.5604510307312,1534.6615297794342,1534.76198220253,1534.8614101409912,1534.9614522457123,1535.0600357055664,1535.1603939533234,1535.2622575759888,1535.3602058887482,1535.462120294571,1535.56028008461,1535.6601366996765,1535.7611837387085,1535.8639693260193,1535.9614548683167,1536.06116604805,1536.1607356071472,1536.2609808444977,1536.3626313209534,1536.4609956741333,1536.564481496811,1536.6640095710754,1536.763158082962,1536.8629369735718,1536.9626727104187,1537.0616796016693,1537.1621129512787,1537.2617573738098,1537.3618972301483,1537.462711572647,1537.562515258789,1537.6621596813202,1537.7639846801758,1537.8620209693909,1537.9622814655304,1538.0627496242523,1538.1621263027191,1538.2627971172333,1538.366781949997,1538.4637882709503,1538.563273191452,1538.66330909729,1538.7667174339294,1538.8636915683746,1538.9630060195923,1539.063859462738,1539.1625623703003,1539.2660901546478,1539.3630833625793,1539.464448928833,1539.5636985301971,1539.6643221378326,1539.7645237445831,1539.8643732070923,1539.9644606113434,1540.0639703273773,1540.1641156673431,1540.2658836841583,1540.3652892112732,1540.4671607017517,1540.5652508735657,1540.669272184372,1540.7651839256287,1540.8669271469116,1540.9673836231232,1541.0654036998749,1541.1660828590393,1541.2674746513367,1541.3676433563232,1541.4656250476837,1541.5665922164917,1541.6681351661682,1541.7672548294067,1541.867030620575,1541.9676649570465,1542.0670235157013,1542.1689057350159,1542.2671897411346,1542.3672127723694,1542.4686870574951,1542.5665442943573,1542.6705791950226,1542.7696046829224,1542.8668971061707,1542.966644525528,1543.0735685825348,1543.1732482910156,1543.267774105072,1543.3676788806915,1543.4672544002533,1543.5671184062958,1543.6677463054657,1543.7675108909607,1543.8679871559143,1543.9693717956543,1544.0663883686066,1544.1677677631378,1544.268888950348,1544.3663485050201,1544.4664885997772,1544.5660860538483,1544.6669471263885,1544.76717877388,1544.8672885894775,1544.9685242176056,1545.0670084953308,1545.1677951812744,1545.2673869132996,1545.3672273159027,1545.467891216278,1545.575178861618,1545.6677899360657,1545.7664551734924,1545.8665204048157,1545.9671485424042,1546.0674130916595,1546.1681797504425,1546.2676408290863,1546.367078781128,1546.4679577350616,1546.5685453414917,1546.6769742965698,1546.7727680206299,1546.8680868148804,1546.9686315059662,1547.069181919098,1547.167875289917,1547.2677521705627,1547.3686332702637,1547.4707067012787,1547.5683662891388,1547.6724834442139,1547.769639492035,1547.8712072372437,1547.9770529270172,1548.072209596634,1548.173274755478,1548.2715876102448,1548.371628522873,1548.4709198474884,1548.5714690685272,1548.671296596527,1548.7715110778809,1548.8716838359833,1548.97434091568,1549.070969581604,1549.174753665924,1549.2744188308716,1549.3733451366425,1549.4734070301056,1549.5742897987366,1549.6723790168762,1549.7728595733643,1549.8727250099182,1549.9772119522095,1550.0720105171204,1550.1710896492004,1550.2725031375885,1550.3713836669922,1550.4781966209412,1550.5779829025269,1550.6775233745575,1550.774284362793,1550.87375998497,1550.979849100113,1551.0752232074738,1551.1747436523438,1551.2786514759064,1551.3792498111725,1551.478197336197,1551.579080581665,1551.67942070961,1551.77863407135,1551.880181312561,1551.9783499240875,1552.0735130310059,1552.1743123531342,1552.2738902568817,1552.3736426830292,1552.4735062122345,1552.5737590789795,1552.6750376224518,1552.774917125702,1552.874896287918,1552.9747967720032,1553.0752203464508,1553.1760432720184,1553.2762243747711,1553.3725430965424,1553.472339630127,1553.5719089508057,1553.671792268753,1553.7730875015259,1553.8719074726105,1553.9732356071472,1554.072648525238,1554.172200679779,1554.2724151611328,1554.3731021881104,1554.4731767177582,1554.5727956295013,1554.673753976822,1554.7773764133453,1554.8747208118439,1554.9741613864899,1555.0747776031494,1555.1755096912384,1555.279501914978,1555.3744592666626,1555.4760527610779,1555.5740582942963,1555.6754522323608,1555.7753405570984,1555.8802742958069,1555.9759588241577,1556.074725151062,1556.1759669780731,1556.2756700515747,1556.3753113746643,1556.4837319850922,1556.5750107765198,1556.6751630306244,1556.7765123844147,1556.8782150745392,1556.9785902500153,1557.0765113830566,1557.1777567863464,1557.2783045768738,1557.3775517940521,1557.4797596931458,1557.5780041217804,1557.6780152320862,1557.7778115272522,1557.876960515976,1557.9770517349243,1558.076621055603,1558.180831193924,1558.2854754924774,1558.3767499923706,1558.4804351329803,1558.579921722412,1558.677288532257,1558.7769978046417,1558.8778581619263,1558.9787356853485,1559.0771126747131,1559.1767921447754,1559.278477191925,1559.378291606903,1559.4775824546814,1559.5807921886444,1559.6776638031006,1559.778058052063,1559.8830723762512,1559.9832768440247,1560.0840981006622,1560.1845769882202,1560.2789707183838,1560.3786268234253,1560.47776389122,1560.5785915851593,1560.6796667575836,1560.7791197299957,1560.87948346138,1560.978010892868,1561.0784831047058,1561.1786596775055,1561.2765908241272,1561.3838136196136,1561.4774813652039,1561.5815932750702,1561.6770639419556,1561.7776787281036,1561.877956867218,1561.9779877662659,1562.0776226520538,1562.1785109043121,1562.2782335281372,1562.3815352916718,1562.4804756641388,1562.5775909423828,1562.6809916496277,1562.7826879024506,1562.8828573226929,1562.9838132858276,1563.0780189037323,1563.1789796352386,1563.2802908420563,1563.3813588619232,1563.480254650116,1563.5809354782104,1563.680933713913,1563.7801339626312,1563.880723953247,1563.9811205863953,1564.0802714824677,1564.1794838905334,1564.2845251560211,1564.3794884681702,1564.4791498184204,1564.5835678577423,1564.6808955669403,1564.7788915634155,1564.8795139789581,1564.9836478233337,1565.07950258255,1565.1825184822083,1565.2819392681122,1565.380526304245,1565.4812269210815,1565.5805473327637,1565.684333562851,1565.785714149475,1565.8849048614502,1565.9807634353638,1566.0813398361206,1566.1810414791107,1566.283430814743,1566.383866071701,1566.484350681305,1566.5904591083527,1566.6800830364227,1566.7800760269165,1566.8805696964264,1566.9809465408325,1567.0811483860016,1567.1813688278198,1567.2823538780212,1567.3819682598114,1567.4816749095917,1567.5819344520569,1567.6825020313263,1567.781952381134,1567.881548166275,1567.982048034668,1568.0820636749268,1568.1820254325867,1568.281239271164,1568.3812518119812,1568.4811825752258,1568.5819082260132,1568.6818380355835,1568.7822697162628,1568.8816404342651,1568.9819226264954,1569.0865490436554,1569.186048746109,1569.282539844513,1569.3828761577606,1569.4822869300842,1569.58291721344,1569.6838479042053,1569.7846109867096,1569.8823783397675,1569.9836070537567,1570.0831260681152,1570.1819534301758,1570.2878515720367,1570.3924379348755,1570.4909138679504,1570.5902736186981,1570.6988174915314,1570.7904138565063,1570.8904962539673,1570.9899044036865,1571.0898532867432,1571.1898276805878,1571.289258480072,1571.3903584480286,1571.4897434711456,1571.5904321670532,1571.6920642852783,1571.7911806106567,1571.8918182849884,1571.9967155456543,1572.1017162799835,1572.2009263038635,1572.2912111282349,1572.3967843055725,1572.4991810321808,1572.5943253040314,1572.6906354427338,1572.7905294895172,1572.891780614853,1572.9911139011383,1573.0927135944366,1573.1920285224915],\"y\":[90.0,90.0,90.0,90.0,90.0,90.0,90.0,90.0,90.0,90.0,90.0,90.0,90.0,90.0,90.0,90.0,90.0,90.0,90.0,90.0,90.0,90.0,90.0,90.0,90.0,90.0,90.0,90.0,90.0,90.0,90.0,90.0,90.0,90.0,90.0,90.0,90.0,90.0,90.0,90.0,90.0,90.0,90.0,90.0,90.0,90.0,90.0,90.0,90.0,90.0,90.0,90.0,90.0,90.0,90.0,90.0,90.0,90.0,90.0,90.0,90.0,90.0,90.0,90.0,90.0,90.0,90.0,90.0,90.0,90.0,90.0,90.0,90.0,90.0,90.0,90.0,90.0,90.0,90.0,90.0,90.0,90.0,90.0,90.0,90.0,90.0,90.0,90.0,90.0,90.0,90.0,90.0,90.0,90.0,90.0,90.0,90.0,90.0,90.0,90.0,90.0,90.0,90.0,90.0,90.0,90.0,90.0,90.0,90.0,90.0,90.0,90.0,90.0,90.0,90.0,90.0,90.0,90.0,90.0,90.0,90.0,90.0,90.0,90.0,90.0,90.0,90.0,90.0,90.0,90.0,90.0,90.0,90.0,90.0,90.0,90.0,90.0,90.0,90.0,90.0,90.0,90.0,90.0,90.0,90.0,90.0,90.0,90.0,90.0,90.0,90.0,90.0,90.0,90.0,90.0,90.0,90.0,90.0,90.0,90.0,90.0,90.0,90.0,90.0,90.0,90.0,90.0,90.0,90.0,90.0,90.0,90.0,90.0,90.0,90.0,90.0,90.0,90.0,90.0,90.0,90.0,90.0,90.0,90.0,90.0,90.0,90.0,90.0,90.0,90.0,90.0,90.0,90.0,90.0,90.0,90.0,90.0,90.0,90.0,90.0,90.0,90.0,90.0,90.0,90.0,90.0,90.0,90.0,90.0,90.0,90.0,90.0,90.0,90.0,90.0,90.0,90.0,90.0,90.0,90.0,90.0,90.0,90.0,90.0,90.0,90.0,90.0,90.0,90.0,90.0,90.0,90.0,90.0,90.0,90.0,90.0,90.0,90.0,90.0,90.0,90.0,90.0,90.0,90.0,90.0,90.0,90.0,90.0,90.0,90.0,90.0,90.0,90.0,90.0,90.0,90.0,90.0,90.0,90.0,90.0,90.0,90.0,90.0,90.0,90.0,90.0,90.0,90.0,90.0,90.0,90.0,90.0,90.0,90.0,90.0,90.0,90.0,90.0,90.0,90.0,90.0,90.0,90.0,90.0,90.0,90.0,90.0,90.0,90.0,90.0,90.0,90.0,90.0,90.0,90.0,90.0,90.0,90.0,90.0,90.0,90.0,90.0,90.0,90.0,90.0,90.0,90.0,90.0,90.0,90.0,90.0,90.0,90.0,90.0,90.0,90.0,90.0,90.0,90.0,90.0,90.0,90.0,90.0,90.0,90.0,90.0,90.0,90.0,90.0,90.0,90.0,90.0,90.0,90.0,90.0,90.0,90.0,90.0,90.0,90.0,90.0,90.0,90.0,90.0,90.0,90.0,90.0,90.0,90.0,90.0,90.0,90.0,90.0,90.0,90.0,90.0,90.0,90.0,90.0,90.0,90.0,90.0,90.0,90.0,90.0,90.0,90.0,90.0,90.0,90.0,90.0,90.0,90.0,90.0,90.0,90.0,90.0,90.0,90.0,90.0,90.0,90.0,90.0,90.0,90.0,90.0,90.0,90.0,90.0,90.0,90.0,90.0,90.0,90.0,90.0,90.0,90.0,90.0,90.0,90.0,90.0,90.0,90.0,90.0,90.0,90.0,90.0,90.0,90.0,90.0,90.0,90.0,90.0,90.0,90.0,90.0,90.0,90.0,90.0,90.0,90.0,90.0,90.0,90.0,90.0,90.0,90.0,90.0,90.0,90.0,90.0,90.0,90.0,90.0,90.0,90.0,90.0,90.0,90.0,90.0,90.0,90.0,90.0,90.0,90.0,90.0,90.0,90.0,90.0,90.0,90.0,90.0,90.0,90.0,90.0,90.0,90.0,90.0,90.0,90.0,90.0,90.0,90.0,90.0,90.0,90.0,90.0,90.0,90.0,90.0,90.0,90.0,90.0,90.0,90.0,90.0,90.0,90.0,90.0,90.0,90.0,90.0,90.0,90.0,90.0,90.0,90.0,90.0,90.0,90.0,90.0,90.0,90.0,90.0,90.0,90.0,90.0,90.0,90.0,90.0,90.0,90.0,90.0,90.0,90.0,90.0,90.0,90.0,90.0,90.0,90.0,90.0,90.0,90.0,90.0,90.0,90.0,90.0,90.0,90.0,90.0,90.0,90.0,90.0,90.0,90.0,90.0,90.0,90.0,90.0,90.0,90.0,90.0,90.0,90.0,90.0,90.0,90.0,90.0,90.0,90.0,90.0,90.0,90.0,90.0,90.0,90.0,90.0,90.0,90.0,90.0,90.0,90.0,90.0,90.0,90.0,90.0,90.0,90.0,90.0,90.0,90.0,90.0,90.0,90.0,90.0,90.0,90.0,90.0,90.0,90.0,90.0,90.0,90.0,90.0,90.0,90.0,90.0,90.0,90.0,90.0,90.0,90.0,90.0,90.0,90.0,90.0,90.0,90.0,90.0,90.0,90.0,90.0,90.0,90.0,90.0,90.0,90.0,90.0,90.0,90.0,90.0,90.0,90.0,90.0,90.0,90.0,90.0,90.0,90.0,90.0,90.0,90.0,90.0,90.0,90.0,90.0,90.0,90.0,90.0,90.0,90.0,90.0,90.0,90.0,90.0,90.0,90.0,90.0,90.0,90.0,90.0,90.0,90.0,90.0,90.0,90.0,90.0,90.0,90.0,90.0,90.0,90.0,90.0,90.0,90.0,90.0,90.0,90.0,90.0,90.0,90.0,90.0,90.0,90.0,90.0,90.0,90.0,90.0,90.0,90.0,90.0,90.0,90.0,90.0,90.0,90.0,90.0,90.0,90.0,90.0,90.0,90.0,90.0,90.0,90.0,90.0,90.0,90.0,90.0,90.0,90.0,90.0,90.0,90.0,90.0,90.0,90.0,90.0,90.0,90.0,90.0,90.0,90.0,90.0,90.0,90.0,90.0,90.0,90.0,90.0,90.0,90.0,90.0,90.0,90.0,90.0,90.0,90.0,90.0,90.0,90.0,90.0,90.0,90.0,90.0,90.0,90.0,90.0,90.0,90.0,90.0,90.0,90.0,90.0,90.0,90.0,90.0,90.0,90.0,90.0,90.0,90.0,90.0,90.0,90.0,90.0,90.0,90.0],\"type\":\"scatter\"}],                        {\"autosize\":false,\"font\":{\"color\":\"black\",\"family\":\"Courier New, monospace\",\"size\":22},\"height\":600,\"template\":{\"data\":{\"barpolar\":[{\"marker\":{\"line\":{\"color\":\"#E5ECF6\",\"width\":0.5},\"pattern\":{\"fillmode\":\"overlay\",\"size\":10,\"solidity\":0.2}},\"type\":\"barpolar\"}],\"bar\":[{\"error_x\":{\"color\":\"#2a3f5f\"},\"error_y\":{\"color\":\"#2a3f5f\"},\"marker\":{\"line\":{\"color\":\"#E5ECF6\",\"width\":0.5},\"pattern\":{\"fillmode\":\"overlay\",\"size\":10,\"solidity\":0.2}},\"type\":\"bar\"}],\"carpet\":[{\"aaxis\":{\"endlinecolor\":\"#2a3f5f\",\"gridcolor\":\"white\",\"linecolor\":\"white\",\"minorgridcolor\":\"white\",\"startlinecolor\":\"#2a3f5f\"},\"baxis\":{\"endlinecolor\":\"#2a3f5f\",\"gridcolor\":\"white\",\"linecolor\":\"white\",\"minorgridcolor\":\"white\",\"startlinecolor\":\"#2a3f5f\"},\"type\":\"carpet\"}],\"choropleth\":[{\"colorbar\":{\"outlinewidth\":0,\"ticks\":\"\"},\"type\":\"choropleth\"}],\"contourcarpet\":[{\"colorbar\":{\"outlinewidth\":0,\"ticks\":\"\"},\"type\":\"contourcarpet\"}],\"contour\":[{\"colorbar\":{\"outlinewidth\":0,\"ticks\":\"\"},\"colorscale\":[[0.0,\"#0d0887\"],[0.1111111111111111,\"#46039f\"],[0.2222222222222222,\"#7201a8\"],[0.3333333333333333,\"#9c179e\"],[0.4444444444444444,\"#bd3786\"],[0.5555555555555556,\"#d8576b\"],[0.6666666666666666,\"#ed7953\"],[0.7777777777777778,\"#fb9f3a\"],[0.8888888888888888,\"#fdca26\"],[1.0,\"#f0f921\"]],\"type\":\"contour\"}],\"heatmapgl\":[{\"colorbar\":{\"outlinewidth\":0,\"ticks\":\"\"},\"colorscale\":[[0.0,\"#0d0887\"],[0.1111111111111111,\"#46039f\"],[0.2222222222222222,\"#7201a8\"],[0.3333333333333333,\"#9c179e\"],[0.4444444444444444,\"#bd3786\"],[0.5555555555555556,\"#d8576b\"],[0.6666666666666666,\"#ed7953\"],[0.7777777777777778,\"#fb9f3a\"],[0.8888888888888888,\"#fdca26\"],[1.0,\"#f0f921\"]],\"type\":\"heatmapgl\"}],\"heatmap\":[{\"colorbar\":{\"outlinewidth\":0,\"ticks\":\"\"},\"colorscale\":[[0.0,\"#0d0887\"],[0.1111111111111111,\"#46039f\"],[0.2222222222222222,\"#7201a8\"],[0.3333333333333333,\"#9c179e\"],[0.4444444444444444,\"#bd3786\"],[0.5555555555555556,\"#d8576b\"],[0.6666666666666666,\"#ed7953\"],[0.7777777777777778,\"#fb9f3a\"],[0.8888888888888888,\"#fdca26\"],[1.0,\"#f0f921\"]],\"type\":\"heatmap\"}],\"histogram2dcontour\":[{\"colorbar\":{\"outlinewidth\":0,\"ticks\":\"\"},\"colorscale\":[[0.0,\"#0d0887\"],[0.1111111111111111,\"#46039f\"],[0.2222222222222222,\"#7201a8\"],[0.3333333333333333,\"#9c179e\"],[0.4444444444444444,\"#bd3786\"],[0.5555555555555556,\"#d8576b\"],[0.6666666666666666,\"#ed7953\"],[0.7777777777777778,\"#fb9f3a\"],[0.8888888888888888,\"#fdca26\"],[1.0,\"#f0f921\"]],\"type\":\"histogram2dcontour\"}],\"histogram2d\":[{\"colorbar\":{\"outlinewidth\":0,\"ticks\":\"\"},\"colorscale\":[[0.0,\"#0d0887\"],[0.1111111111111111,\"#46039f\"],[0.2222222222222222,\"#7201a8\"],[0.3333333333333333,\"#9c179e\"],[0.4444444444444444,\"#bd3786\"],[0.5555555555555556,\"#d8576b\"],[0.6666666666666666,\"#ed7953\"],[0.7777777777777778,\"#fb9f3a\"],[0.8888888888888888,\"#fdca26\"],[1.0,\"#f0f921\"]],\"type\":\"histogram2d\"}],\"histogram\":[{\"marker\":{\"pattern\":{\"fillmode\":\"overlay\",\"size\":10,\"solidity\":0.2}},\"type\":\"histogram\"}],\"mesh3d\":[{\"colorbar\":{\"outlinewidth\":0,\"ticks\":\"\"},\"type\":\"mesh3d\"}],\"parcoords\":[{\"line\":{\"colorbar\":{\"outlinewidth\":0,\"ticks\":\"\"}},\"type\":\"parcoords\"}],\"pie\":[{\"automargin\":true,\"type\":\"pie\"}],\"scatter3d\":[{\"line\":{\"colorbar\":{\"outlinewidth\":0,\"ticks\":\"\"}},\"marker\":{\"colorbar\":{\"outlinewidth\":0,\"ticks\":\"\"}},\"type\":\"scatter3d\"}],\"scattercarpet\":[{\"marker\":{\"colorbar\":{\"outlinewidth\":0,\"ticks\":\"\"}},\"type\":\"scattercarpet\"}],\"scattergeo\":[{\"marker\":{\"colorbar\":{\"outlinewidth\":0,\"ticks\":\"\"}},\"type\":\"scattergeo\"}],\"scattergl\":[{\"marker\":{\"colorbar\":{\"outlinewidth\":0,\"ticks\":\"\"}},\"type\":\"scattergl\"}],\"scattermapbox\":[{\"marker\":{\"colorbar\":{\"outlinewidth\":0,\"ticks\":\"\"}},\"type\":\"scattermapbox\"}],\"scatterpolargl\":[{\"marker\":{\"colorbar\":{\"outlinewidth\":0,\"ticks\":\"\"}},\"type\":\"scatterpolargl\"}],\"scatterpolar\":[{\"marker\":{\"colorbar\":{\"outlinewidth\":0,\"ticks\":\"\"}},\"type\":\"scatterpolar\"}],\"scatter\":[{\"fillpattern\":{\"fillmode\":\"overlay\",\"size\":10,\"solidity\":0.2},\"type\":\"scatter\"}],\"scatterternary\":[{\"marker\":{\"colorbar\":{\"outlinewidth\":0,\"ticks\":\"\"}},\"type\":\"scatterternary\"}],\"surface\":[{\"colorbar\":{\"outlinewidth\":0,\"ticks\":\"\"},\"colorscale\":[[0.0,\"#0d0887\"],[0.1111111111111111,\"#46039f\"],[0.2222222222222222,\"#7201a8\"],[0.3333333333333333,\"#9c179e\"],[0.4444444444444444,\"#bd3786\"],[0.5555555555555556,\"#d8576b\"],[0.6666666666666666,\"#ed7953\"],[0.7777777777777778,\"#fb9f3a\"],[0.8888888888888888,\"#fdca26\"],[1.0,\"#f0f921\"]],\"type\":\"surface\"}],\"table\":[{\"cells\":{\"fill\":{\"color\":\"#EBF0F8\"},\"line\":{\"color\":\"white\"}},\"header\":{\"fill\":{\"color\":\"#C8D4E3\"},\"line\":{\"color\":\"white\"}},\"type\":\"table\"}]},\"layout\":{\"annotationdefaults\":{\"arrowcolor\":\"#2a3f5f\",\"arrowhead\":0,\"arrowwidth\":1},\"autotypenumbers\":\"strict\",\"coloraxis\":{\"colorbar\":{\"outlinewidth\":0,\"ticks\":\"\"}},\"colorscale\":{\"diverging\":[[0,\"#8e0152\"],[0.1,\"#c51b7d\"],[0.2,\"#de77ae\"],[0.3,\"#f1b6da\"],[0.4,\"#fde0ef\"],[0.5,\"#f7f7f7\"],[0.6,\"#e6f5d0\"],[0.7,\"#b8e186\"],[0.8,\"#7fbc41\"],[0.9,\"#4d9221\"],[1,\"#276419\"]],\"sequential\":[[0.0,\"#0d0887\"],[0.1111111111111111,\"#46039f\"],[0.2222222222222222,\"#7201a8\"],[0.3333333333333333,\"#9c179e\"],[0.4444444444444444,\"#bd3786\"],[0.5555555555555556,\"#d8576b\"],[0.6666666666666666,\"#ed7953\"],[0.7777777777777778,\"#fb9f3a\"],[0.8888888888888888,\"#fdca26\"],[1.0,\"#f0f921\"]],\"sequentialminus\":[[0.0,\"#0d0887\"],[0.1111111111111111,\"#46039f\"],[0.2222222222222222,\"#7201a8\"],[0.3333333333333333,\"#9c179e\"],[0.4444444444444444,\"#bd3786\"],[0.5555555555555556,\"#d8576b\"],[0.6666666666666666,\"#ed7953\"],[0.7777777777777778,\"#fb9f3a\"],[0.8888888888888888,\"#fdca26\"],[1.0,\"#f0f921\"]]},\"colorway\":[\"#636efa\",\"#EF553B\",\"#00cc96\",\"#ab63fa\",\"#FFA15A\",\"#19d3f3\",\"#FF6692\",\"#B6E880\",\"#FF97FF\",\"#FECB52\"],\"font\":{\"color\":\"#2a3f5f\"},\"geo\":{\"bgcolor\":\"white\",\"lakecolor\":\"white\",\"landcolor\":\"#E5ECF6\",\"showlakes\":true,\"showland\":true,\"subunitcolor\":\"white\"},\"hoverlabel\":{\"align\":\"left\"},\"hovermode\":\"closest\",\"mapbox\":{\"style\":\"light\"},\"paper_bgcolor\":\"white\",\"plot_bgcolor\":\"#E5ECF6\",\"polar\":{\"angularaxis\":{\"gridcolor\":\"white\",\"linecolor\":\"white\",\"ticks\":\"\"},\"bgcolor\":\"#E5ECF6\",\"radialaxis\":{\"gridcolor\":\"white\",\"linecolor\":\"white\",\"ticks\":\"\"}},\"scene\":{\"xaxis\":{\"backgroundcolor\":\"#E5ECF6\",\"gridcolor\":\"white\",\"gridwidth\":2,\"linecolor\":\"white\",\"showbackground\":true,\"ticks\":\"\",\"zerolinecolor\":\"white\"},\"yaxis\":{\"backgroundcolor\":\"#E5ECF6\",\"gridcolor\":\"white\",\"gridwidth\":2,\"linecolor\":\"white\",\"showbackground\":true,\"ticks\":\"\",\"zerolinecolor\":\"white\"},\"zaxis\":{\"backgroundcolor\":\"#E5ECF6\",\"gridcolor\":\"white\",\"gridwidth\":2,\"linecolor\":\"white\",\"showbackground\":true,\"ticks\":\"\",\"zerolinecolor\":\"white\"}},\"shapedefaults\":{\"line\":{\"color\":\"#2a3f5f\"}},\"ternary\":{\"aaxis\":{\"gridcolor\":\"white\",\"linecolor\":\"white\",\"ticks\":\"\"},\"baxis\":{\"gridcolor\":\"white\",\"linecolor\":\"white\",\"ticks\":\"\"},\"bgcolor\":\"#E5ECF6\",\"caxis\":{\"gridcolor\":\"white\",\"linecolor\":\"white\",\"ticks\":\"\"}},\"title\":{\"x\":0.05},\"xaxis\":{\"automargin\":true,\"gridcolor\":\"white\",\"linecolor\":\"white\",\"ticks\":\"\",\"title\":{\"standoff\":15},\"zerolinecolor\":\"white\",\"zerolinewidth\":2},\"yaxis\":{\"automargin\":true,\"gridcolor\":\"white\",\"linecolor\":\"white\",\"ticks\":\"\",\"title\":{\"standoff\":15},\"zerolinecolor\":\"white\",\"zerolinewidth\":2}}},\"title\":{\"text\":\"Range of Motion ankleRight\"},\"width\":750,\"xaxis\":{\"title\":{\"font\":{\"color\":\"#7f7f7f\",\"family\":\"Courier New, monospace\",\"size\":18},\"text\":\"time [s]\"}},\"yaxis\":{\"title\":{\"font\":{\"color\":\"#7f7f7f\",\"family\":\"Courier New, monospace\",\"size\":18},\"text\":\"ROM [gradi]\"}}},                        {\"responsive\": true}                    ).then(function(){\n",
       "                            \n",
       "var gd = document.getElementById('b421a7e3-bbc1-4373-ab6e-b45f7bd58de3');\n",
       "var x = new MutationObserver(function (mutations, observer) {{\n",
       "        var display = window.getComputedStyle(gd).display;\n",
       "        if (!display || display === 'none') {{\n",
       "            console.log([gd, 'removed!']);\n",
       "            Plotly.purge(gd);\n",
       "            observer.disconnect();\n",
       "        }}\n",
       "}});\n",
       "\n",
       "// Listen for the removal of the full notebook cells\n",
       "var notebookContainer = gd.closest('#notebook-container');\n",
       "if (notebookContainer) {{\n",
       "    x.observe(notebookContainer, {childList: true});\n",
       "}}\n",
       "\n",
       "// Listen for the clearing of the current output cell\n",
       "var outputEl = gd.closest('.output');\n",
       "if (outputEl) {{\n",
       "    x.observe(outputEl, {childList: true});\n",
       "}}\n",
       "\n",
       "                        })                };                });            </script>        </div>"
      ]
     },
     "metadata": {},
     "output_type": "display_data"
    },
    {
     "data": {
      "application/vnd.plotly.v1+json": {
       "config": {
        "linkText": "Export to plot.ly",
        "plotlyServerURL": "https://plot.ly",
        "showLink": false
       },
       "data": [
        {
         "line": {
          "color": "blue",
          "width": 3
         },
         "mode": "lines",
         "name": "Distanza tra i piedi",
         "type": "scatter",
         "x": [
          1499.2411363124847,
          1499.3432846069336,
          1499.4427211284637,
          1499.54013133049,
          1499.6420300006866,
          1499.744064092636,
          1499.8401839733124,
          1499.9462168216705,
          1500.0419936180115,
          1500.1414563655853,
          1500.2422320842743,
          1500.3411314487457,
          1500.441514492035,
          1500.541243314743,
          1500.6429286003113,
          1500.7421760559082,
          1500.8417778015137,
          1500.9413657188416,
          1501.0417659282684,
          1501.1428897380829,
          1501.240436553955,
          1501.3419153690338,
          1501.441132068634,
          1501.5403683185577,
          1501.6449313163757,
          1501.7413523197174,
          1501.8423101902008,
          1501.9408650398254,
          1502.04141497612,
          1502.1416535377502,
          1502.2421522140503,
          1502.3436872959137,
          1502.4428606033325,
          1502.5419516563416,
          1502.6438164710999,
          1502.739751815796,
          1502.839929819107,
          1502.9432377815247,
          1503.0396859645844,
          1503.1407148838043,
          1503.2416439056396,
          1503.3399159908295,
          1503.4405806064606,
          1503.542091369629,
          1503.6399137973785,
          1503.7397291660309,
          1503.8402659893036,
          1503.9417126178741,
          1504.0408883094788,
          1504.1431605815887,
          1504.2412109375,
          1504.3424327373505,
          1504.442084312439,
          1504.5419890880585,
          1504.6418566703796,
          1504.7421357631683,
          1504.8420453071594,
          1504.9417133331299,
          1505.0427649021149,
          1505.1421146392822,
          1505.2413144111633,
          1505.3408071994781,
          1505.4415457248688,
          1505.542934179306,
          1505.6415820121765,
          1505.741807460785,
          1505.8417615890503,
          1505.9422342777252,
          1506.0417664051056,
          1506.142252922058,
          1506.2424128055573,
          1506.3428943157196,
          1506.4433236122131,
          1506.5426783561707,
          1506.6421117782593,
          1506.74356341362,
          1506.8419032096863,
          1506.9436628818512,
          1507.042890548706,
          1507.143632888794,
          1507.2437996864319,
          1507.34317612648,
          1507.4439723491669,
          1507.5464203357697,
          1507.646990776062,
          1507.743609905243,
          1507.844081878662,
          1507.944857597351,
          1508.0438890457153,
          1508.143606185913,
          1508.2456514835358,
          1508.3450417518616,
          1508.444191455841,
          1508.5442969799042,
          1508.6431493759155,
          1508.7441477775574,
          1508.8442180156708,
          1508.9457623958588,
          1509.0446989536285,
          1509.1442427635193,
          1509.2483496665955,
          1509.348049879074,
          1509.447769165039,
          1509.5452642440796,
          1509.6454932689667,
          1509.7466208934784,
          1509.8461413383484,
          1509.9450035095215,
          1510.0446655750275,
          1510.1453218460083,
          1510.2444643974304,
          1510.3476753234863,
          1510.444744348526,
          1510.5449130535126,
          1510.6449630260468,
          1510.7453105449677,
          1510.8460247516632,
          1510.9460620880127,
          1511.0450239181519,
          1511.147045135498,
          1511.2464575767517,
          1511.3476495742798,
          1511.4461619853973,
          1511.5460538864136,
          1511.6458253860474,
          1511.7523272037506,
          1511.8473920822144,
          1511.9467968940735,
          1512.0458340644836,
          1512.14905834198,
          1512.2465064525604,
          1512.3464360237122,
          1512.4465262889862,
          1512.5464425086975,
          1512.6461458206177,
          1512.7456891536713,
          1512.846199274063,
          1512.9469623565674,
          1513.046472787857,
          1513.1472702026367,
          1513.2464673519135,
          1513.3472352027893,
          1513.4477665424347,
          1513.5469961166382,
          1513.6465792655945,
          1513.7474553585052,
          1513.8473408222198,
          1513.9478917121887,
          1514.048181295395,
          1514.1470139026642,
          1514.2469763755798,
          1514.347504377365,
          1514.4472517967224,
          1514.548014163971,
          1514.6466579437256,
          1514.747255563736,
          1514.8468098640442,
          1514.9472517967224,
          1515.0483257770538,
          1515.1476039886475,
          1515.2474853992462,
          1515.349123954773,
          1515.448129415512,
          1515.5479564666748,
          1515.6483643054962,
          1515.7478876113892,
          1515.848218679428,
          1515.9479448795319,
          1516.0482194423676,
          1516.149117231369,
          1516.24773478508,
          1516.3488357067108,
          1516.4485018253326,
          1516.548581123352,
          1516.6529862880707,
          1516.7489988803864,
          1516.8483703136444,
          1516.9493639469147,
          1517.0485661029816,
          1517.1542015075684,
          1517.2489612102509,
          1517.3534693717957,
          1517.4531128406525,
          1517.553725719452,
          1517.6531822681427,
          1517.7508800029755,
          1517.8505020141602,
          1517.9501507282257,
          1518.0533425807953,
          1518.154797554016,
          1518.252271413803,
          1518.3584887981415,
          1518.4496307373047,
          1518.5517852306366,
          1518.6547417640686,
          1518.751220703125,
          1518.8547055721283,
          1518.9500937461853,
          1519.0509328842163,
          1519.1500902175903,
          1519.2508342266083,
          1519.3509469032288,
          1519.4529166221619,
          1519.552564382553,
          1519.6508638858795,
          1519.7502257823944,
          1519.8513631820679,
          1519.9507722854614,
          1520.0511844158173,
          1520.1549203395844,
          1520.2553119659424,
          1520.355444908142,
          1520.4572768211365,
          1520.5562913417816,
          1520.6547539234161,
          1520.7517511844635,
          1520.852136850357,
          1520.956214427948,
          1521.0517673492432,
          1521.151982307434,
          1521.2533135414124,
          1521.3525230884552,
          1521.4546430110931,
          1521.5537049770355,
          1521.6560616493225,
          1521.756957769394,
          1521.861038684845,
          1521.9608080387115,
          1522.0553195476532,
          1522.1532826423645,
          1522.2527394294739,
          1522.3522148132324,
          1522.4540903568268,
          1522.5571751594543,
          1522.654535293579,
          1522.7544548511505,
          1522.8560378551483,
          1522.953887462616,
          1523.0526440143585,
          1523.1566863059998,
          1523.2580780982971,
          1523.3567478656769,
          1523.454469203949,
          1523.5542244911194,
          1523.658311843872,
          1523.7581009864807,
          1523.8582689762115,
          1523.953364610672,
          1524.054563999176,
          1524.1584029197693,
          1524.2576098442078,
          1524.3543453216553,
          1524.4550700187683,
          1524.5540347099304,
          1524.6535897254944,
          1524.753868341446,
          1524.853411436081,
          1524.95521068573,
          1525.054139137268,
          1525.1547272205353,
          1525.2555606365204,
          1525.3549020290375,
          1525.4566402435303,
          1525.5587475299835,
          1525.6535289287567,
          1525.7547373771667,
          1525.8536713123322,
          1525.9546175003052,
          1526.0546753406525,
          1526.1549615859985,
          1526.255040884018,
          1526.3548610210419,
          1526.454764842987,
          1526.5555267333984,
          1526.6554877758026,
          1526.7556302547455,
          1526.8551664352417,
          1526.9557905197144,
          1527.0557622909546,
          1527.1561093330383,
          1527.2571275234222,
          1527.356971502304,
          1527.457272529602,
          1527.5553719997406,
          1527.6574912071228,
          1527.757332086563,
          1527.8562273979187,
          1527.9594457149506,
          1528.0566897392273,
          1528.1583421230316,
          1528.2581007480621,
          1528.355853319168,
          1528.4608187675476,
          1528.5574316978455,
          1528.6561155319214,
          1528.7592558860779,
          1528.8586099147797,
          1528.9628987312317,
          1529.0560810565948,
          1529.1571590900421,
          1529.2560682296753,
          1529.3564767837524,
          1529.456878900528,
          1529.5586001873016,
          1529.657800912857,
          1529.7575800418854,
          1529.8577151298523,
          1529.9580373764038,
          1530.0567288398743,
          1530.157428264618,
          1530.2587399482727,
          1530.3589704036713,
          1530.457849740982,
          1530.5578382015228,
          1530.658446073532,
          1530.757824897766,
          1530.8616199493408,
          1530.960708618164,
          1531.059900522232,
          1531.162596464157,
          1531.2573883533478,
          1531.3600792884827,
          1531.458923816681,
          1531.5627195835114,
          1531.6612637043,
          1531.7576656341553,
          1531.8620171546936,
          1531.9599452018738,
          1532.0599632263184,
          1532.1607375144958,
          1532.259782075882,
          1532.3589525222778,
          1532.4589982032776,
          1532.5596570968628,
          1532.660763502121,
          1532.759989976883,
          1532.859920501709,
          1532.9633507728577,
          1533.0590443611145,
          1533.159485578537,
          1533.2591478824615,
          1533.358909368515,
          1533.4588725566864,
          1533.5592203140259,
          1533.6601333618164,
          1533.758960723877,
          1533.8600804805756,
          1533.9596378803253,
          1534.0594065189362,
          1534.1598281860352,
          1534.2596225738525,
          1534.360122680664,
          1534.4612867832184,
          1534.5604510307312,
          1534.6615297794342,
          1534.76198220253,
          1534.8614101409912,
          1534.9614522457123,
          1535.0600357055664,
          1535.1603939533234,
          1535.2622575759888,
          1535.3602058887482,
          1535.462120294571,
          1535.56028008461,
          1535.6601366996765,
          1535.7611837387085,
          1535.8639693260193,
          1535.9614548683167,
          1536.06116604805,
          1536.1607356071472,
          1536.2609808444977,
          1536.3626313209534,
          1536.4609956741333,
          1536.564481496811,
          1536.6640095710754,
          1536.763158082962,
          1536.8629369735718,
          1536.9626727104187,
          1537.0616796016693,
          1537.1621129512787,
          1537.2617573738098,
          1537.3618972301483,
          1537.462711572647,
          1537.562515258789,
          1537.6621596813202,
          1537.7639846801758,
          1537.8620209693909,
          1537.9622814655304,
          1538.0627496242523,
          1538.1621263027191,
          1538.2627971172333,
          1538.366781949997,
          1538.4637882709503,
          1538.563273191452,
          1538.66330909729,
          1538.7667174339294,
          1538.8636915683746,
          1538.9630060195923,
          1539.063859462738,
          1539.1625623703003,
          1539.2660901546478,
          1539.3630833625793,
          1539.464448928833,
          1539.5636985301971,
          1539.6643221378326,
          1539.7645237445831,
          1539.8643732070923,
          1539.9644606113434,
          1540.0639703273773,
          1540.1641156673431,
          1540.2658836841583,
          1540.3652892112732,
          1540.4671607017517,
          1540.5652508735657,
          1540.669272184372,
          1540.7651839256287,
          1540.8669271469116,
          1540.9673836231232,
          1541.0654036998749,
          1541.1660828590393,
          1541.2674746513367,
          1541.3676433563232,
          1541.4656250476837,
          1541.5665922164917,
          1541.6681351661682,
          1541.7672548294067,
          1541.867030620575,
          1541.9676649570465,
          1542.0670235157013,
          1542.1689057350159,
          1542.2671897411346,
          1542.3672127723694,
          1542.4686870574951,
          1542.5665442943573,
          1542.6705791950226,
          1542.7696046829224,
          1542.8668971061707,
          1542.966644525528,
          1543.0735685825348,
          1543.1732482910156,
          1543.267774105072,
          1543.3676788806915,
          1543.4672544002533,
          1543.5671184062958,
          1543.6677463054657,
          1543.7675108909607,
          1543.8679871559143,
          1543.9693717956543,
          1544.0663883686066,
          1544.1677677631378,
          1544.268888950348,
          1544.3663485050201,
          1544.4664885997772,
          1544.5660860538483,
          1544.6669471263885,
          1544.76717877388,
          1544.8672885894775,
          1544.9685242176056,
          1545.0670084953308,
          1545.1677951812744,
          1545.2673869132996,
          1545.3672273159027,
          1545.467891216278,
          1545.575178861618,
          1545.6677899360657,
          1545.7664551734924,
          1545.8665204048157,
          1545.9671485424042,
          1546.0674130916595,
          1546.1681797504425,
          1546.2676408290863,
          1546.367078781128,
          1546.4679577350616,
          1546.5685453414917,
          1546.6769742965698,
          1546.7727680206299,
          1546.8680868148804,
          1546.9686315059662,
          1547.069181919098,
          1547.167875289917,
          1547.2677521705627,
          1547.3686332702637,
          1547.4707067012787,
          1547.5683662891388,
          1547.6724834442139,
          1547.769639492035,
          1547.8712072372437,
          1547.9770529270172,
          1548.072209596634,
          1548.173274755478,
          1548.2715876102448,
          1548.371628522873,
          1548.4709198474884,
          1548.5714690685272,
          1548.671296596527,
          1548.7715110778809,
          1548.8716838359833,
          1548.97434091568,
          1549.070969581604,
          1549.174753665924,
          1549.2744188308716,
          1549.3733451366425,
          1549.4734070301056,
          1549.5742897987366,
          1549.6723790168762,
          1549.7728595733643,
          1549.8727250099182,
          1549.9772119522095,
          1550.0720105171204,
          1550.1710896492004,
          1550.2725031375885,
          1550.3713836669922,
          1550.4781966209412,
          1550.5779829025269,
          1550.6775233745575,
          1550.774284362793,
          1550.87375998497,
          1550.979849100113,
          1551.0752232074738,
          1551.1747436523438,
          1551.2786514759064,
          1551.3792498111725,
          1551.478197336197,
          1551.579080581665,
          1551.67942070961,
          1551.77863407135,
          1551.880181312561,
          1551.9783499240875,
          1552.0735130310059,
          1552.1743123531342,
          1552.2738902568817,
          1552.3736426830292,
          1552.4735062122345,
          1552.5737590789795,
          1552.6750376224518,
          1552.774917125702,
          1552.874896287918,
          1552.9747967720032,
          1553.0752203464508,
          1553.1760432720184,
          1553.2762243747711,
          1553.3725430965424,
          1553.472339630127,
          1553.5719089508057,
          1553.671792268753,
          1553.7730875015259,
          1553.8719074726105,
          1553.9732356071472,
          1554.072648525238,
          1554.172200679779,
          1554.2724151611328,
          1554.3731021881104,
          1554.4731767177582,
          1554.5727956295013,
          1554.673753976822,
          1554.7773764133453,
          1554.8747208118439,
          1554.9741613864899,
          1555.0747776031494,
          1555.1755096912384,
          1555.279501914978,
          1555.3744592666626,
          1555.4760527610779,
          1555.5740582942963,
          1555.6754522323608,
          1555.7753405570984,
          1555.8802742958069,
          1555.9759588241577,
          1556.074725151062,
          1556.1759669780731,
          1556.2756700515747,
          1556.3753113746643,
          1556.4837319850922,
          1556.5750107765198,
          1556.6751630306244,
          1556.7765123844147,
          1556.8782150745392,
          1556.9785902500153,
          1557.0765113830566,
          1557.1777567863464,
          1557.2783045768738,
          1557.3775517940521,
          1557.4797596931458,
          1557.5780041217804,
          1557.6780152320862,
          1557.7778115272522,
          1557.876960515976,
          1557.9770517349243,
          1558.076621055603,
          1558.180831193924,
          1558.2854754924774,
          1558.3767499923706,
          1558.4804351329803,
          1558.579921722412,
          1558.677288532257,
          1558.7769978046417,
          1558.8778581619263,
          1558.9787356853485,
          1559.0771126747131,
          1559.1767921447754,
          1559.278477191925,
          1559.378291606903,
          1559.4775824546814,
          1559.5807921886444,
          1559.6776638031006,
          1559.778058052063,
          1559.8830723762512,
          1559.9832768440247,
          1560.0840981006622,
          1560.1845769882202,
          1560.2789707183838,
          1560.3786268234253,
          1560.47776389122,
          1560.5785915851593,
          1560.6796667575836,
          1560.7791197299957,
          1560.87948346138,
          1560.978010892868,
          1561.0784831047058,
          1561.1786596775055,
          1561.2765908241272,
          1561.3838136196136,
          1561.4774813652039,
          1561.5815932750702,
          1561.6770639419556,
          1561.7776787281036,
          1561.877956867218,
          1561.9779877662659,
          1562.0776226520538,
          1562.1785109043121,
          1562.2782335281372,
          1562.3815352916718,
          1562.4804756641388,
          1562.5775909423828,
          1562.6809916496277,
          1562.7826879024506,
          1562.8828573226929,
          1562.9838132858276,
          1563.0780189037323,
          1563.1789796352386,
          1563.2802908420563,
          1563.3813588619232,
          1563.480254650116,
          1563.5809354782104,
          1563.680933713913,
          1563.7801339626312,
          1563.880723953247,
          1563.9811205863953,
          1564.0802714824677,
          1564.1794838905334,
          1564.2845251560211,
          1564.3794884681702,
          1564.4791498184204,
          1564.5835678577423,
          1564.6808955669403,
          1564.7788915634155,
          1564.8795139789581,
          1564.9836478233337,
          1565.07950258255,
          1565.1825184822083,
          1565.2819392681122,
          1565.380526304245,
          1565.4812269210815,
          1565.5805473327637,
          1565.684333562851,
          1565.785714149475,
          1565.8849048614502,
          1565.9807634353638,
          1566.0813398361206,
          1566.1810414791107,
          1566.283430814743,
          1566.383866071701,
          1566.484350681305,
          1566.5904591083527,
          1566.6800830364227,
          1566.7800760269165,
          1566.8805696964264,
          1566.9809465408325,
          1567.0811483860016,
          1567.1813688278198,
          1567.2823538780212,
          1567.3819682598114,
          1567.4816749095917,
          1567.5819344520569,
          1567.6825020313263,
          1567.781952381134,
          1567.881548166275,
          1567.982048034668,
          1568.0820636749268,
          1568.1820254325867,
          1568.281239271164,
          1568.3812518119812,
          1568.4811825752258,
          1568.5819082260132,
          1568.6818380355835,
          1568.7822697162628,
          1568.8816404342651,
          1568.9819226264954,
          1569.0865490436554,
          1569.186048746109,
          1569.282539844513,
          1569.3828761577606,
          1569.4822869300842,
          1569.58291721344,
          1569.6838479042053,
          1569.7846109867096,
          1569.8823783397675,
          1569.9836070537567,
          1570.0831260681152,
          1570.1819534301758,
          1570.2878515720367,
          1570.3924379348755,
          1570.4909138679504,
          1570.5902736186981,
          1570.6988174915314,
          1570.7904138565063,
          1570.8904962539673,
          1570.9899044036865,
          1571.0898532867432,
          1571.1898276805878,
          1571.289258480072,
          1571.3903584480286,
          1571.4897434711456,
          1571.5904321670532,
          1571.6920642852783,
          1571.7911806106567,
          1571.8918182849884,
          1571.9967155456543,
          1572.1017162799835,
          1572.2009263038635,
          1572.2912111282349,
          1572.3967843055725,
          1572.4991810321808,
          1572.5943253040314,
          1572.6906354427338,
          1572.7905294895172,
          1572.891780614853,
          1572.9911139011383,
          1573.0927135944366,
          1573.1920285224915
         ],
         "y": [
          0.15359923338315146,
          0.1303760705686625,
          0.11041550802496904,
          0.09432648864940461,
          0.08283308367105471,
          0.07648989396256711,
          0.07520095884755529,
          0.0780143056512787,
          0.08352989768958635,
          0.09046293523870218,
          0.10343807437971816,
          0.10939106901584048,
          0.11534356598215048,
          0.12488319529238456,
          0.13092544039248843,
          0.1362126330746686,
          0.14164981493134454,
          0.14732165235819458,
          0.15354875604950347,
          0.1578584450191121,
          0.16007301332392268,
          0.1584107412908853,
          0.1602784413476478,
          0.16499914589018025,
          0.17632792926588076,
          0.18810159261839407,
          0.1938887184956852,
          0.20030466889408322,
          0.20995703059958226,
          0.21829618477541038,
          0.22396209469629536,
          0.22977349320803442,
          0.23850548817402395,
          0.23764422433599974,
          0.23521253270579787,
          0.23152708745163056,
          0.2249441559891833,
          0.21645923036383527,
          0.20300631290846943,
          0.1881548683696105,
          0.17316913800002948,
          0.16519139784003783,
          0.1600430051196354,
          0.15430735973024617,
          0.14935379851149974,
          0.1454153177786991,
          0.14142922877115682,
          0.13827422322005173,
          0.13720090993229522,
          0.1382705934680673,
          0.14041479205146692,
          0.14270900157283456,
          0.14564005041090058,
          0.14891443119927855,
          0.1523243127615824,
          0.15411423499827437,
          0.1552683095485325,
          0.15550363458754934,
          0.1563544729380389,
          0.1584345262683066,
          0.16150536509988914,
          0.16333198152255174,
          0.1621373114158306,
          0.1597693469706479,
          0.15578299894267617,
          0.14987100281590746,
          0.14693056288655446,
          0.14595076141080088,
          0.14562885135687642,
          0.14469217195164563,
          0.14425984342211307,
          0.14423095308203807,
          0.1441092688526521,
          0.14459271142473726,
          0.1448647520690782,
          0.1452886019444032,
          0.1453189749342822,
          0.1452974623657728,
          0.14518210261853876,
          0.1445832698315057,
          0.14379237044375914,
          0.14303425772479417,
          0.14232943920308988,
          0.14110002238924768,
          0.1401645002682849,
          0.14010159228067476,
          0.14002313364968064,
          0.1399524900334541,
          0.13977176071096484,
          0.13964589983828504,
          0.13978811873409774,
          0.14070213901980452,
          0.1414362243147675,
          0.14099620820687184,
          0.14155092617309323,
          0.14190459467061384,
          0.14182546440483007,
          0.14114612598304022,
          0.13976493894266673,
          0.13868185481681194,
          0.13775049761673697,
          0.13714479656921894,
          0.13737240675556872,
          0.13734920981712362,
          0.13710891993595567,
          0.13626766382096156,
          0.1351374757552824,
          0.13348950333099413,
          0.13255268428800315,
          0.1315582568384736,
          0.13040040855943033,
          0.12933256053078332,
          0.12844700060960518,
          0.12832069549833808,
          0.1280717024220978,
          0.12787183514295214,
          0.12796821061731195,
          0.12804264768196788,
          0.1283889650029527,
          0.1288697623478332,
          0.12947930666724022,
          0.13037560823486427,
          0.13085843235131048,
          0.13118788749369636,
          0.13141625235320023,
          0.1310209652891217,
          0.13041962575682428,
          0.130251838314062,
          0.1295858732631822,
          0.128631225620906,
          0.12782971054146652,
          0.12716712590340964,
          0.12643411485012837,
          0.12602593623857944,
          0.12568664236790267,
          0.1256387453932493,
          0.12559175545468018,
          0.12673545601720856,
          0.12808326034854817,
          0.12955594602574347,
          0.13065693286229935,
          0.13122756029425797,
          0.13204347203080205,
          0.13271357330113287,
          0.13348664787285625,
          0.134154390355669,
          0.13468080229376,
          0.13498604080064597,
          0.1347534657919487,
          0.13425090199590473,
          0.13353450284354013,
          0.13295046684381182,
          0.13285251519957333,
          0.1329449680112027,
          0.13330345607322158,
          0.13360194919608012,
          0.1339613663350666,
          0.1339892042154157,
          0.13411120196647713,
          0.1343836068820606,
          0.13486602999439648,
          0.13559561530887368,
          0.1358967772268496,
          0.13572357372276833,
          0.1347673531101799,
          0.13378165991335098,
          0.13289289592192416,
          0.1318121588612353,
          0.13073136152171141,
          0.12918573639520098,
          0.12773807101520634,
          0.12626685123102932,
          0.12507461383720328,
          0.12417135672154136,
          0.12365908893945923,
          0.12407987013289727,
          0.12535536072154843,
          0.12674889803169898,
          0.12875904510816844,
          0.13085266495532594,
          0.13313727089227473,
          0.1348729864495563,
          0.136226041354934,
          0.1376540743027578,
          0.13904529149495481,
          0.1403174746026138,
          0.14106595015816673,
          0.1415388366011559,
          0.141116844806614,
          0.14049329067924313,
          0.1404334697583215,
          0.14037331409987286,
          0.14041865118466923,
          0.14083271497538094,
          0.1412475247637737,
          0.14087998547980826,
          0.14056517320911785,
          0.1405740192471816,
          0.1406516658467036,
          0.14035346378953786,
          0.13990978635286352,
          0.13956012642107735,
          0.13918360620577644,
          0.1391972694997156,
          0.1393158994406915,
          0.13956683028493144,
          0.14000701736513396,
          0.14035097496453586,
          0.14083091067765127,
          0.14126360428349644,
          0.14158232234537668,
          0.1418746940519317,
          0.1419755814510944,
          0.14165531799230535,
          0.14108196167953352,
          0.14106232819153425,
          0.14089415507647088,
          0.14079087910362006,
          0.140747248907792,
          0.14067412230129792,
          0.14071343336732664,
          0.14063294816280492,
          0.14069421422569092,
          0.14073144737140872,
          0.14070172727902666,
          0.14082130742466828,
          0.14083718677806276,
          0.14096507738665018,
          0.14092707705183768,
          0.1408686816840432,
          0.1406975864600458,
          0.14035244483249465,
          0.14008823392590036,
          0.13992034255850574,
          0.13996792042578846,
          0.14033151829271134,
          0.14080487029171423,
          0.14116931062085114,
          0.14075337971467453,
          0.14060816978166693,
          0.1401498350239936,
          0.13982152560480657,
          0.13952818745240803,
          0.1392438843154389,
          0.13953053341514207,
          0.13935342803636938,
          0.13980044636368325,
          0.14056682353682906,
          0.14118080361764587,
          0.14129809306954386,
          0.14105319280846715,
          0.1405145890410089,
          0.13964713763822761,
          0.13858121657968897,
          0.13799266228414656,
          0.13743722819657633,
          0.13680117880460285,
          0.13595424193345482,
          0.13563527757048535,
          0.13544159443294093,
          0.13572421497343343,
          0.13698373484714513,
          0.13822270757321287,
          0.13939268421160478,
          0.1400380971190162,
          0.14078323225501777,
          0.1412137033093605,
          0.14072808886441893,
          0.13999418587441242,
          0.13926238298702093,
          0.13838370919921533,
          0.1375879492117255,
          0.1370973479191735,
          0.13901141878793039,
          0.14442055877652182,
          0.14780253837670743,
          0.15544161189327815,
          0.1547640888702488,
          0.1437007805874637,
          0.12915556391999813,
          0.11285998639836128,
          0.09628568672355073,
          0.0834654315230735,
          0.07818581104823479,
          0.08295180318400924,
          0.09378377463608172,
          0.10999391100544392,
          0.12612855682876256,
          0.1401469806111303,
          0.1474732991056942,
          0.1488740251277823,
          0.14366973651908846,
          0.13338145117668831,
          0.12486455865686734,
          0.126794466938517,
          0.13889632962522866,
          0.1478440309037644,
          0.1556722639507108,
          0.1653210461667078,
          0.1716273561908855,
          0.17533525965428187,
          0.17854818059772878,
          0.1795091244652215,
          0.17975005221821733,
          0.1801075049301504,
          0.18139206986306014,
          0.18499039164940845,
          0.1890497043898043,
          0.19232809926760747,
          0.19484460739755408,
          0.1965378578501412,
          0.1982996478704112,
          0.19932254349028294,
          0.20014330109715933,
          0.1993687870766165,
          0.19785978239865473,
          0.196348714723269,
          0.19364421686090066,
          0.19081441008868494,
          0.18993078242196132,
          0.1896106267801113,
          0.18807217124968365,
          0.18730571347639693,
          0.18838871502046436,
          0.18952251854433042,
          0.19006707282565427,
          0.1914680888884373,
          0.19421945776882135,
          0.19653766309906376,
          0.19916452892160996,
          0.20301105883982898,
          0.2043887327908428,
          0.20322944777631086,
          0.19869863955649245,
          0.19225262531037243,
          0.1855858618008019,
          0.17725342016484724,
          0.17039986303438098,
          0.16632822156269825,
          0.16528075106026557,
          0.16859705541655418,
          0.17843186445345857,
          0.19078529788081558,
          0.20499028597450927,
          0.22057503477789883,
          0.23671859385338184,
          0.24966881260418877,
          0.25869181672461294,
          0.2663930409985499,
          0.27401301489099594,
          0.27853979306296817,
          0.27960487450129523,
          0.2786411791443522,
          0.27541756253627153,
          0.26981014561051586,
          0.2621684787084037,
          0.2561118508335101,
          0.24950063253566085,
          0.24328027254518444,
          0.236675827133379,
          0.23068789352768204,
          0.22474702861324214,
          0.2193856910620243,
          0.21441352693975577,
          0.2120272524208417,
          0.20771339420416676,
          0.20193304607871482,
          0.19273978002227649,
          0.18141559483882072,
          0.17113758828102232,
          0.1618470810165105,
          0.15676050396348104,
          0.15275594529941927,
          0.1520918092205958,
          0.19467714131855665,
          0.22158689908077062,
          0.18276329593602925,
          0.1483344674715086,
          0.12023642154053471,
          0.10516244512602266,
          0.10844417496748246,
          0.15685690204957756,
          0.23398887924298972,
          0.2094136173558022,
          0.18313969661052923,
          0.1546329083537307,
          0.13367267805947336,
          0.12297338186007817,
          0.12337569357747968,
          0.13504891360386453,
          0.15640983554421561,
          0.18545637543941113,
          0.22161961664531138,
          0.26336608889262764,
          0.24435704057323007,
          0.20781367970346182,
          0.20707557849773311,
          0.21128993181018327,
          0.2231448612625419,
          0.2437998998958361,
          0.272830865277882,
          0.26406629337858384,
          0.21573169523779903,
          0.21222823475747393,
          0.20908476183442634,
          0.21098124428652662,
          0.21207039977390005,
          0.21270169681197315,
          0.2162094110328234,
          0.21947567709044116,
          0.215325427774656,
          0.20924282513244372,
          0.20035794042384866,
          0.18795472750654044,
          0.17365321446309342,
          0.15708855162818433,
          0.1396857528165922,
          0.12217946460435945,
          0.10448640809258121,
          0.08731882757049395,
          0.07193053000837096,
          0.058956973509737165,
          0.05324879834744947,
          0.05050923243912485,
          0.053847954700090676,
          0.05163587903572366,
          0.04423064625743225,
          0.034310030822094446,
          0.02951041469653509,
          0.05998602266221318,
          0.09897537749377666,
          0.13913260980941766,
          0.17934057451515598,
          0.21906773305131313,
          0.25672593144018596,
          0.28633714626565204,
          0.3139179993327515,
          0.33567909676756147,
          0.3536020234279027,
          0.3583039821180556,
          0.358914823925646,
          0.33382211844958976,
          0.3040907503796084,
          0.2567773381694963,
          0.20662642593319266,
          0.15164529134691399,
          0.10753959968301081,
          0.10583691268124738,
          0.15795532526208722,
          0.23147171473292968,
          0.3064959660572875,
          0.3746239235025284,
          0.43169274181866685,
          0.47639338383524105,
          0.5058372286669887,
          0.5162528056448324,
          0.5095879563543096,
          0.48887162513694976,
          0.4643927532492005,
          0.43239453722595594,
          0.39475351175172246,
          0.3614579845768477,
          0.32601414813450863,
          0.2879373016355591,
          0.2476743414101631,
          0.20335836862816734,
          0.16452024024865367,
          0.14130289852508215,
          0.11413607515289877,
          0.08693904027475652,
          0.05968556883325972,
          0.048597555278327265,
          0.05239635767145141,
          0.060826729028859515,
          0.0634721983423879,
          0.06301253601104127,
          0.04894873375702533,
          0.046229945191935934,
          0.051753784205770106,
          0.056892068090668615,
          0.05946043860523727,
          0.06298611706566214,
          0.06442402838225486,
          0.061979242346401245,
          0.05483069754272293,
          0.034759864237877004,
          0.045255799464369834,
          0.08131532114042571,
          0.11637578294841215,
          0.14951018111133563,
          0.1946028497832991,
          0.2396687414056907,
          0.286280107964128,
          0.33507246550885855,
          0.3823816277899715,
          0.42818618980102946,
          0.45049931805367655,
          0.46118099643555116,
          0.4666849495158193,
          0.45977692193168956,
          0.4510108318338478,
          0.44053356927066734,
          0.4298620022133152,
          0.41884952769424816,
          0.4070029790938692,
          0.38259848038813055,
          0.3547684014082475,
          0.32637249865430873,
          0.2985697019514175,
          0.26039276616010043,
          0.21552766616874852,
          0.16642213923161872,
          0.11719753116472013,
          0.08169933102638303,
          0.0709614059298263,
          0.09565542320887384,
          0.1384325751735772,
          0.18870247426539252,
          0.241895298044557,
          0.2979318591071,
          0.35427915899531603,
          0.42228164845948507,
          0.4731309781156142,
          0.5065479944503032,
          0.5127448824223986,
          0.4963315631298395,
          0.47047451138655716,
          0.44011634860393756,
          0.4136073730675575,
          0.3763303074611598,
          0.32616439885375537,
          0.26591811483117844,
          0.1836787498832283,
          0.10582063352251814,
          0.046216266129037495,
          0.0876711575359486,
          0.16578577892748633,
          0.24001990546031707,
          0.3022134662963836,
          0.35243169864731755,
          0.3905423950158482,
          0.4369337888588198,
          0.47925005661554476,
          0.5181339124679917,
          0.5359805858360053,
          0.5378130566192457,
          0.5335561687208746,
          0.5252234750157189,
          0.5142848768619108,
          0.5011475447041737,
          0.4874478466753575,
          0.47807563203021786,
          0.4686704978013906,
          0.46060096847201965,
          0.45488647419575934,
          0.44732269506311817,
          0.43580283076967197,
          0.42011287820200743,
          0.4020195460184477,
          0.38256035072263156,
          0.36290206590428153,
          0.34424537386827747,
          0.3281090640632632,
          0.31659967989616855,
          0.31079904178053935,
          0.3078523990101132,
          0.30693325740470967,
          0.30415504693892065,
          0.2986445643772791,
          0.2865669085437129,
          0.2738221929279342,
          0.2594956918922886,
          0.24311982354595163,
          0.2247165216446675,
          0.20513333656519583,
          0.19038030217463386,
          0.18884344575193843,
          0.20525195974731555,
          0.23570597475470564,
          0.27381861966639187,
          0.3159427908637543,
          0.3544706902227405,
          0.3826924006716461,
          0.3948323633467445,
          0.38727754692347477,
          0.3623749468872423,
          0.3245368068289043,
          0.2752414848537111,
          0.221497521219353,
          0.1688864319914069,
          0.13558010859743644,
          0.13923024797487632,
          0.17427742300480079,
          0.1885961117852537,
          0.2026723719544215,
          0.22091821478286888,
          0.2216273792264502,
          0.2101102143504499,
          0.17811916634212452,
          0.1283317715684069,
          0.06960820417540947,
          0.050598453948573284,
          0.10282223027840261,
          0.1576716964604617,
          0.21164899847410845,
          0.2581092772528668,
          0.28696416878741693,
          0.2819878322122878,
          0.26242669169139937,
          0.2347375672221882,
          0.20873661359089232,
          0.18354156236727454,
          0.17649569181804003,
          0.16235869452470605,
          0.15505584643889975,
          0.16279254371408228,
          0.18122868074075757,
          0.21648197702871247,
          0.26456910121104804,
          0.31918810373416656,
          0.3604392804991785,
          0.39146365880782075,
          0.39741475644902974,
          0.39933692462755366,
          0.40879289234120253,
          0.39815946733473756,
          0.3593731686621529,
          0.344712159894648,
          0.3188079794932089,
          0.28659161492228463,
          0.2580643844443568,
          0.2266189694799521,
          0.1826906762086275,
          0.12991342245969406,
          0.07503223523323439,
          0.0668737294959825,
          0.11866391040500256,
          0.17318894348988884,
          0.22670070558353042,
          0.27592346549911706,
          0.2994221286593009,
          0.317201028293822,
          0.31288501162993093,
          0.29047574033289875,
          0.27417520603609596,
          0.2507785718278198,
          0.2043840648816473,
          0.1725164820537431,
          0.13169426567950257,
          0.10021036021337207,
          0.08871557799598465,
          0.06630343182604255,
          0.05285354647758606,
          0.0540822147257575,
          0.057455339942600346,
          0.05784628538943648,
          0.05015418347389545,
          0.045460976479974345,
          0.0370912988035706,
          0.04561097128061289,
          0.047737055697650924,
          0.054843769216020875,
          0.07259494687974884,
          0.10039809083475205,
          0.12495403216220508,
          0.14391553090690373,
          0.15211841931141967,
          0.14698736898697257,
          0.1312470978155742,
          0.11093319608086213,
          0.061954176994679616,
          0.03743288085454864,
          0.04091036238728847,
          0.03701835956138408,
          0.03310739691008786,
          0.02671444992910918,
          0.019044828215301762,
          0.022755639137795495,
          0.04544469996299811,
          0.07156660238733198,
          0.10498969777834538,
          0.13375410125159476,
          0.15640853600580482,
          0.16615938505696545,
          0.16580828383317134,
          0.1586924436208286,
          0.14828527866185384,
          0.13483959937369344,
          0.11460934276698125,
          0.3768508896042729,
          0.49019955191562603,
          0.4561785525130461,
          0.29173309149718446,
          0.017229024878091387,
          0.35882695657266883,
          1.0948230050435992,
          0,
          0,
          0,
          0,
          0,
          0,
          0,
          0,
          0,
          0,
          0,
          1.1894007173015815,
          0.5176917389766184,
          0.311662445419641,
          0.40533672119997066,
          0.5459296743877221,
          0.6044786638451025,
          0.5637191292680268,
          0.4974558984106131,
          0.5131282004217469,
          0.5161917164513484,
          0.5048404828184011,
          0.4772952247722993,
          0.4772952247722993,
          0.4772952247722993,
          0.4772952247722993,
          0.4772952247722993,
          0.4772952247722993,
          0.4772952247722993,
          0.4772952247722993,
          0.4772952247722993,
          0.4772952247722993,
          0.4772952247722993,
          0.4772952247722964,
          0.4772952247722964,
          0.4772952247722964,
          0.4772952247722964,
          0.4772952247722964,
          0.4772952247722964,
          0.4772952247722964,
          0.47729522477229647,
          0.47729522477229647,
          0.47729522477229647
         ]
        },
        {
         "marker": {
          "color": "red",
          "size": 10
         },
         "mode": "markers",
         "name": "Appoggio tallone",
         "type": "scatter",
         "x": [
          1501.240436553955,
          1502.4428606033325,
          1505.3408071994781,
          1506.8419032096863,
          1508.7441477775574,
          1511.6458253860474,
          1513.9478917121887,
          1515.448129415512,
          1517.9501507282257,
          1519.0509328842163,
          1520.4572768211365,
          1521.9608080387115,
          1522.953887462616,
          1524.1584029197693,
          1525.8536713123322,
          1526.8551664352417,
          1528.2581007480621,
          1530.5578382015228,
          1532.3589525222778,
          1534.360122680664,
          1537.462711572647,
          1539.2660901546478,
          1541.6681351661682,
          1543.267774105072,
          1544.76717877388,
          1547.4707067012787,
          1549.070969581604,
          1551.67942070961,
          1553.7730875015259,
          1557.5780041217804,
          1558.8778581619263,
          1559.8830723762512,
          1561.6770639419556,
          1563.3813588619232,
          1564.7788915634155,
          1565.8849048614502,
          1567.5819344520569,
          1568.7822697162628,
          1569.9836070537567
         ],
         "y": [
          0.16007301332392268,
          0.23850548817402395,
          0.16333198152255174,
          0.1453189749342822,
          0.14190459467061384,
          0.13141625235320023,
          0.13498604080064597,
          0.1358967772268496,
          0.1415388366011559,
          0.1406516658467036,
          0.1419755814510944,
          0.14096507738665018,
          0.14116931062085114,
          0.14129809306954386,
          0.1412137033093605,
          0.15544161189327815,
          0.1488740251277823,
          0.20014330109715933,
          0.2043887327908428,
          0.27960487450129523,
          0.23398887924298972,
          0.272830865277882,
          0.053847954700090676,
          0.358914823925646,
          0.5162528056448324,
          0.06442402838225486,
          0.4666849495158193,
          0.5127448824223986,
          0.5378130566192457,
          0.3948323633467445,
          0.2216273792264502,
          0.28696416878741693,
          0.40879289234120253,
          0.317201028293822,
          0.05784628538943648,
          0.15211841931141967,
          0.16615938505696545,
          1.0948230050435992,
          1.1894007173015815
         ]
        }
       ],
       "layout": {
        "autosize": false,
        "font": {
         "color": "black",
         "family": "Courier New, monospace",
         "size": 22
        },
        "height": 600,
        "template": {
         "data": {
          "bar": [
           {
            "error_x": {
             "color": "#2a3f5f"
            },
            "error_y": {
             "color": "#2a3f5f"
            },
            "marker": {
             "line": {
              "color": "#E5ECF6",
              "width": 0.5
             },
             "pattern": {
              "fillmode": "overlay",
              "size": 10,
              "solidity": 0.2
             }
            },
            "type": "bar"
           }
          ],
          "barpolar": [
           {
            "marker": {
             "line": {
              "color": "#E5ECF6",
              "width": 0.5
             },
             "pattern": {
              "fillmode": "overlay",
              "size": 10,
              "solidity": 0.2
             }
            },
            "type": "barpolar"
           }
          ],
          "carpet": [
           {
            "aaxis": {
             "endlinecolor": "#2a3f5f",
             "gridcolor": "white",
             "linecolor": "white",
             "minorgridcolor": "white",
             "startlinecolor": "#2a3f5f"
            },
            "baxis": {
             "endlinecolor": "#2a3f5f",
             "gridcolor": "white",
             "linecolor": "white",
             "minorgridcolor": "white",
             "startlinecolor": "#2a3f5f"
            },
            "type": "carpet"
           }
          ],
          "choropleth": [
           {
            "colorbar": {
             "outlinewidth": 0,
             "ticks": ""
            },
            "type": "choropleth"
           }
          ],
          "contour": [
           {
            "colorbar": {
             "outlinewidth": 0,
             "ticks": ""
            },
            "colorscale": [
             [
              0,
              "#0d0887"
             ],
             [
              0.1111111111111111,
              "#46039f"
             ],
             [
              0.2222222222222222,
              "#7201a8"
             ],
             [
              0.3333333333333333,
              "#9c179e"
             ],
             [
              0.4444444444444444,
              "#bd3786"
             ],
             [
              0.5555555555555556,
              "#d8576b"
             ],
             [
              0.6666666666666666,
              "#ed7953"
             ],
             [
              0.7777777777777778,
              "#fb9f3a"
             ],
             [
              0.8888888888888888,
              "#fdca26"
             ],
             [
              1,
              "#f0f921"
             ]
            ],
            "type": "contour"
           }
          ],
          "contourcarpet": [
           {
            "colorbar": {
             "outlinewidth": 0,
             "ticks": ""
            },
            "type": "contourcarpet"
           }
          ],
          "heatmap": [
           {
            "colorbar": {
             "outlinewidth": 0,
             "ticks": ""
            },
            "colorscale": [
             [
              0,
              "#0d0887"
             ],
             [
              0.1111111111111111,
              "#46039f"
             ],
             [
              0.2222222222222222,
              "#7201a8"
             ],
             [
              0.3333333333333333,
              "#9c179e"
             ],
             [
              0.4444444444444444,
              "#bd3786"
             ],
             [
              0.5555555555555556,
              "#d8576b"
             ],
             [
              0.6666666666666666,
              "#ed7953"
             ],
             [
              0.7777777777777778,
              "#fb9f3a"
             ],
             [
              0.8888888888888888,
              "#fdca26"
             ],
             [
              1,
              "#f0f921"
             ]
            ],
            "type": "heatmap"
           }
          ],
          "heatmapgl": [
           {
            "colorbar": {
             "outlinewidth": 0,
             "ticks": ""
            },
            "colorscale": [
             [
              0,
              "#0d0887"
             ],
             [
              0.1111111111111111,
              "#46039f"
             ],
             [
              0.2222222222222222,
              "#7201a8"
             ],
             [
              0.3333333333333333,
              "#9c179e"
             ],
             [
              0.4444444444444444,
              "#bd3786"
             ],
             [
              0.5555555555555556,
              "#d8576b"
             ],
             [
              0.6666666666666666,
              "#ed7953"
             ],
             [
              0.7777777777777778,
              "#fb9f3a"
             ],
             [
              0.8888888888888888,
              "#fdca26"
             ],
             [
              1,
              "#f0f921"
             ]
            ],
            "type": "heatmapgl"
           }
          ],
          "histogram": [
           {
            "marker": {
             "pattern": {
              "fillmode": "overlay",
              "size": 10,
              "solidity": 0.2
             }
            },
            "type": "histogram"
           }
          ],
          "histogram2d": [
           {
            "colorbar": {
             "outlinewidth": 0,
             "ticks": ""
            },
            "colorscale": [
             [
              0,
              "#0d0887"
             ],
             [
              0.1111111111111111,
              "#46039f"
             ],
             [
              0.2222222222222222,
              "#7201a8"
             ],
             [
              0.3333333333333333,
              "#9c179e"
             ],
             [
              0.4444444444444444,
              "#bd3786"
             ],
             [
              0.5555555555555556,
              "#d8576b"
             ],
             [
              0.6666666666666666,
              "#ed7953"
             ],
             [
              0.7777777777777778,
              "#fb9f3a"
             ],
             [
              0.8888888888888888,
              "#fdca26"
             ],
             [
              1,
              "#f0f921"
             ]
            ],
            "type": "histogram2d"
           }
          ],
          "histogram2dcontour": [
           {
            "colorbar": {
             "outlinewidth": 0,
             "ticks": ""
            },
            "colorscale": [
             [
              0,
              "#0d0887"
             ],
             [
              0.1111111111111111,
              "#46039f"
             ],
             [
              0.2222222222222222,
              "#7201a8"
             ],
             [
              0.3333333333333333,
              "#9c179e"
             ],
             [
              0.4444444444444444,
              "#bd3786"
             ],
             [
              0.5555555555555556,
              "#d8576b"
             ],
             [
              0.6666666666666666,
              "#ed7953"
             ],
             [
              0.7777777777777778,
              "#fb9f3a"
             ],
             [
              0.8888888888888888,
              "#fdca26"
             ],
             [
              1,
              "#f0f921"
             ]
            ],
            "type": "histogram2dcontour"
           }
          ],
          "mesh3d": [
           {
            "colorbar": {
             "outlinewidth": 0,
             "ticks": ""
            },
            "type": "mesh3d"
           }
          ],
          "parcoords": [
           {
            "line": {
             "colorbar": {
              "outlinewidth": 0,
              "ticks": ""
             }
            },
            "type": "parcoords"
           }
          ],
          "pie": [
           {
            "automargin": true,
            "type": "pie"
           }
          ],
          "scatter": [
           {
            "fillpattern": {
             "fillmode": "overlay",
             "size": 10,
             "solidity": 0.2
            },
            "type": "scatter"
           }
          ],
          "scatter3d": [
           {
            "line": {
             "colorbar": {
              "outlinewidth": 0,
              "ticks": ""
             }
            },
            "marker": {
             "colorbar": {
              "outlinewidth": 0,
              "ticks": ""
             }
            },
            "type": "scatter3d"
           }
          ],
          "scattercarpet": [
           {
            "marker": {
             "colorbar": {
              "outlinewidth": 0,
              "ticks": ""
             }
            },
            "type": "scattercarpet"
           }
          ],
          "scattergeo": [
           {
            "marker": {
             "colorbar": {
              "outlinewidth": 0,
              "ticks": ""
             }
            },
            "type": "scattergeo"
           }
          ],
          "scattergl": [
           {
            "marker": {
             "colorbar": {
              "outlinewidth": 0,
              "ticks": ""
             }
            },
            "type": "scattergl"
           }
          ],
          "scattermapbox": [
           {
            "marker": {
             "colorbar": {
              "outlinewidth": 0,
              "ticks": ""
             }
            },
            "type": "scattermapbox"
           }
          ],
          "scatterpolar": [
           {
            "marker": {
             "colorbar": {
              "outlinewidth": 0,
              "ticks": ""
             }
            },
            "type": "scatterpolar"
           }
          ],
          "scatterpolargl": [
           {
            "marker": {
             "colorbar": {
              "outlinewidth": 0,
              "ticks": ""
             }
            },
            "type": "scatterpolargl"
           }
          ],
          "scatterternary": [
           {
            "marker": {
             "colorbar": {
              "outlinewidth": 0,
              "ticks": ""
             }
            },
            "type": "scatterternary"
           }
          ],
          "surface": [
           {
            "colorbar": {
             "outlinewidth": 0,
             "ticks": ""
            },
            "colorscale": [
             [
              0,
              "#0d0887"
             ],
             [
              0.1111111111111111,
              "#46039f"
             ],
             [
              0.2222222222222222,
              "#7201a8"
             ],
             [
              0.3333333333333333,
              "#9c179e"
             ],
             [
              0.4444444444444444,
              "#bd3786"
             ],
             [
              0.5555555555555556,
              "#d8576b"
             ],
             [
              0.6666666666666666,
              "#ed7953"
             ],
             [
              0.7777777777777778,
              "#fb9f3a"
             ],
             [
              0.8888888888888888,
              "#fdca26"
             ],
             [
              1,
              "#f0f921"
             ]
            ],
            "type": "surface"
           }
          ],
          "table": [
           {
            "cells": {
             "fill": {
              "color": "#EBF0F8"
             },
             "line": {
              "color": "white"
             }
            },
            "header": {
             "fill": {
              "color": "#C8D4E3"
             },
             "line": {
              "color": "white"
             }
            },
            "type": "table"
           }
          ]
         },
         "layout": {
          "annotationdefaults": {
           "arrowcolor": "#2a3f5f",
           "arrowhead": 0,
           "arrowwidth": 1
          },
          "autotypenumbers": "strict",
          "coloraxis": {
           "colorbar": {
            "outlinewidth": 0,
            "ticks": ""
           }
          },
          "colorscale": {
           "diverging": [
            [
             0,
             "#8e0152"
            ],
            [
             0.1,
             "#c51b7d"
            ],
            [
             0.2,
             "#de77ae"
            ],
            [
             0.3,
             "#f1b6da"
            ],
            [
             0.4,
             "#fde0ef"
            ],
            [
             0.5,
             "#f7f7f7"
            ],
            [
             0.6,
             "#e6f5d0"
            ],
            [
             0.7,
             "#b8e186"
            ],
            [
             0.8,
             "#7fbc41"
            ],
            [
             0.9,
             "#4d9221"
            ],
            [
             1,
             "#276419"
            ]
           ],
           "sequential": [
            [
             0,
             "#0d0887"
            ],
            [
             0.1111111111111111,
             "#46039f"
            ],
            [
             0.2222222222222222,
             "#7201a8"
            ],
            [
             0.3333333333333333,
             "#9c179e"
            ],
            [
             0.4444444444444444,
             "#bd3786"
            ],
            [
             0.5555555555555556,
             "#d8576b"
            ],
            [
             0.6666666666666666,
             "#ed7953"
            ],
            [
             0.7777777777777778,
             "#fb9f3a"
            ],
            [
             0.8888888888888888,
             "#fdca26"
            ],
            [
             1,
             "#f0f921"
            ]
           ],
           "sequentialminus": [
            [
             0,
             "#0d0887"
            ],
            [
             0.1111111111111111,
             "#46039f"
            ],
            [
             0.2222222222222222,
             "#7201a8"
            ],
            [
             0.3333333333333333,
             "#9c179e"
            ],
            [
             0.4444444444444444,
             "#bd3786"
            ],
            [
             0.5555555555555556,
             "#d8576b"
            ],
            [
             0.6666666666666666,
             "#ed7953"
            ],
            [
             0.7777777777777778,
             "#fb9f3a"
            ],
            [
             0.8888888888888888,
             "#fdca26"
            ],
            [
             1,
             "#f0f921"
            ]
           ]
          },
          "colorway": [
           "#636efa",
           "#EF553B",
           "#00cc96",
           "#ab63fa",
           "#FFA15A",
           "#19d3f3",
           "#FF6692",
           "#B6E880",
           "#FF97FF",
           "#FECB52"
          ],
          "font": {
           "color": "#2a3f5f"
          },
          "geo": {
           "bgcolor": "white",
           "lakecolor": "white",
           "landcolor": "#E5ECF6",
           "showlakes": true,
           "showland": true,
           "subunitcolor": "white"
          },
          "hoverlabel": {
           "align": "left"
          },
          "hovermode": "closest",
          "mapbox": {
           "style": "light"
          },
          "paper_bgcolor": "white",
          "plot_bgcolor": "#E5ECF6",
          "polar": {
           "angularaxis": {
            "gridcolor": "white",
            "linecolor": "white",
            "ticks": ""
           },
           "bgcolor": "#E5ECF6",
           "radialaxis": {
            "gridcolor": "white",
            "linecolor": "white",
            "ticks": ""
           }
          },
          "scene": {
           "xaxis": {
            "backgroundcolor": "#E5ECF6",
            "gridcolor": "white",
            "gridwidth": 2,
            "linecolor": "white",
            "showbackground": true,
            "ticks": "",
            "zerolinecolor": "white"
           },
           "yaxis": {
            "backgroundcolor": "#E5ECF6",
            "gridcolor": "white",
            "gridwidth": 2,
            "linecolor": "white",
            "showbackground": true,
            "ticks": "",
            "zerolinecolor": "white"
           },
           "zaxis": {
            "backgroundcolor": "#E5ECF6",
            "gridcolor": "white",
            "gridwidth": 2,
            "linecolor": "white",
            "showbackground": true,
            "ticks": "",
            "zerolinecolor": "white"
           }
          },
          "shapedefaults": {
           "line": {
            "color": "#2a3f5f"
           }
          },
          "ternary": {
           "aaxis": {
            "gridcolor": "white",
            "linecolor": "white",
            "ticks": ""
           },
           "baxis": {
            "gridcolor": "white",
            "linecolor": "white",
            "ticks": ""
           },
           "bgcolor": "#E5ECF6",
           "caxis": {
            "gridcolor": "white",
            "linecolor": "white",
            "ticks": ""
           }
          },
          "title": {
           "x": 0.05
          },
          "xaxis": {
           "automargin": true,
           "gridcolor": "white",
           "linecolor": "white",
           "ticks": "",
           "title": {
            "standoff": 15
           },
           "zerolinecolor": "white",
           "zerolinewidth": 2
          },
          "yaxis": {
           "automargin": true,
           "gridcolor": "white",
           "linecolor": "white",
           "ticks": "",
           "title": {
            "standoff": 15
           },
           "zerolinecolor": "white",
           "zerolinewidth": 2
          }
         }
        },
        "title": {
         "text": "Distanza tra i piedi"
        },
        "width": 750,
        "xaxis": {
         "title": {
          "font": {
           "color": "#7f7f7f",
           "family": "Courier New, monospace",
           "size": 18
          },
          "text": "time [s]"
         }
        },
        "yaxis": {
         "title": {
          "font": {
           "color": "#7f7f7f",
           "family": "Courier New, monospace",
           "size": 18
          },
          "text": "dist [m]"
         }
        }
       }
      },
      "text/html": [
       "<div>                            <div id=\"f9e58920-c5f4-43d3-ae87-cd960651126a\" class=\"plotly-graph-div\" style=\"height:600px; width:750px;\"></div>            <script type=\"text/javascript\">                require([\"plotly\"], function(Plotly) {                    window.PLOTLYENV=window.PLOTLYENV || {};                                    if (document.getElementById(\"f9e58920-c5f4-43d3-ae87-cd960651126a\")) {                    Plotly.newPlot(                        \"f9e58920-c5f4-43d3-ae87-cd960651126a\",                        [{\"line\":{\"color\":\"blue\",\"width\":3},\"mode\":\"lines\",\"name\":\"Distanza tra i piedi\",\"x\":[1499.2411363124847,1499.3432846069336,1499.4427211284637,1499.54013133049,1499.6420300006866,1499.744064092636,1499.8401839733124,1499.9462168216705,1500.0419936180115,1500.1414563655853,1500.2422320842743,1500.3411314487457,1500.441514492035,1500.541243314743,1500.6429286003113,1500.7421760559082,1500.8417778015137,1500.9413657188416,1501.0417659282684,1501.1428897380829,1501.240436553955,1501.3419153690338,1501.441132068634,1501.5403683185577,1501.6449313163757,1501.7413523197174,1501.8423101902008,1501.9408650398254,1502.04141497612,1502.1416535377502,1502.2421522140503,1502.3436872959137,1502.4428606033325,1502.5419516563416,1502.6438164710999,1502.739751815796,1502.839929819107,1502.9432377815247,1503.0396859645844,1503.1407148838043,1503.2416439056396,1503.3399159908295,1503.4405806064606,1503.542091369629,1503.6399137973785,1503.7397291660309,1503.8402659893036,1503.9417126178741,1504.0408883094788,1504.1431605815887,1504.2412109375,1504.3424327373505,1504.442084312439,1504.5419890880585,1504.6418566703796,1504.7421357631683,1504.8420453071594,1504.9417133331299,1505.0427649021149,1505.1421146392822,1505.2413144111633,1505.3408071994781,1505.4415457248688,1505.542934179306,1505.6415820121765,1505.741807460785,1505.8417615890503,1505.9422342777252,1506.0417664051056,1506.142252922058,1506.2424128055573,1506.3428943157196,1506.4433236122131,1506.5426783561707,1506.6421117782593,1506.74356341362,1506.8419032096863,1506.9436628818512,1507.042890548706,1507.143632888794,1507.2437996864319,1507.34317612648,1507.4439723491669,1507.5464203357697,1507.646990776062,1507.743609905243,1507.844081878662,1507.944857597351,1508.0438890457153,1508.143606185913,1508.2456514835358,1508.3450417518616,1508.444191455841,1508.5442969799042,1508.6431493759155,1508.7441477775574,1508.8442180156708,1508.9457623958588,1509.0446989536285,1509.1442427635193,1509.2483496665955,1509.348049879074,1509.447769165039,1509.5452642440796,1509.6454932689667,1509.7466208934784,1509.8461413383484,1509.9450035095215,1510.0446655750275,1510.1453218460083,1510.2444643974304,1510.3476753234863,1510.444744348526,1510.5449130535126,1510.6449630260468,1510.7453105449677,1510.8460247516632,1510.9460620880127,1511.0450239181519,1511.147045135498,1511.2464575767517,1511.3476495742798,1511.4461619853973,1511.5460538864136,1511.6458253860474,1511.7523272037506,1511.8473920822144,1511.9467968940735,1512.0458340644836,1512.14905834198,1512.2465064525604,1512.3464360237122,1512.4465262889862,1512.5464425086975,1512.6461458206177,1512.7456891536713,1512.846199274063,1512.9469623565674,1513.046472787857,1513.1472702026367,1513.2464673519135,1513.3472352027893,1513.4477665424347,1513.5469961166382,1513.6465792655945,1513.7474553585052,1513.8473408222198,1513.9478917121887,1514.048181295395,1514.1470139026642,1514.2469763755798,1514.347504377365,1514.4472517967224,1514.548014163971,1514.6466579437256,1514.747255563736,1514.8468098640442,1514.9472517967224,1515.0483257770538,1515.1476039886475,1515.2474853992462,1515.349123954773,1515.448129415512,1515.5479564666748,1515.6483643054962,1515.7478876113892,1515.848218679428,1515.9479448795319,1516.0482194423676,1516.149117231369,1516.24773478508,1516.3488357067108,1516.4485018253326,1516.548581123352,1516.6529862880707,1516.7489988803864,1516.8483703136444,1516.9493639469147,1517.0485661029816,1517.1542015075684,1517.2489612102509,1517.3534693717957,1517.4531128406525,1517.553725719452,1517.6531822681427,1517.7508800029755,1517.8505020141602,1517.9501507282257,1518.0533425807953,1518.154797554016,1518.252271413803,1518.3584887981415,1518.4496307373047,1518.5517852306366,1518.6547417640686,1518.751220703125,1518.8547055721283,1518.9500937461853,1519.0509328842163,1519.1500902175903,1519.2508342266083,1519.3509469032288,1519.4529166221619,1519.552564382553,1519.6508638858795,1519.7502257823944,1519.8513631820679,1519.9507722854614,1520.0511844158173,1520.1549203395844,1520.2553119659424,1520.355444908142,1520.4572768211365,1520.5562913417816,1520.6547539234161,1520.7517511844635,1520.852136850357,1520.956214427948,1521.0517673492432,1521.151982307434,1521.2533135414124,1521.3525230884552,1521.4546430110931,1521.5537049770355,1521.6560616493225,1521.756957769394,1521.861038684845,1521.9608080387115,1522.0553195476532,1522.1532826423645,1522.2527394294739,1522.3522148132324,1522.4540903568268,1522.5571751594543,1522.654535293579,1522.7544548511505,1522.8560378551483,1522.953887462616,1523.0526440143585,1523.1566863059998,1523.2580780982971,1523.3567478656769,1523.454469203949,1523.5542244911194,1523.658311843872,1523.7581009864807,1523.8582689762115,1523.953364610672,1524.054563999176,1524.1584029197693,1524.2576098442078,1524.3543453216553,1524.4550700187683,1524.5540347099304,1524.6535897254944,1524.753868341446,1524.853411436081,1524.95521068573,1525.054139137268,1525.1547272205353,1525.2555606365204,1525.3549020290375,1525.4566402435303,1525.5587475299835,1525.6535289287567,1525.7547373771667,1525.8536713123322,1525.9546175003052,1526.0546753406525,1526.1549615859985,1526.255040884018,1526.3548610210419,1526.454764842987,1526.5555267333984,1526.6554877758026,1526.7556302547455,1526.8551664352417,1526.9557905197144,1527.0557622909546,1527.1561093330383,1527.2571275234222,1527.356971502304,1527.457272529602,1527.5553719997406,1527.6574912071228,1527.757332086563,1527.8562273979187,1527.9594457149506,1528.0566897392273,1528.1583421230316,1528.2581007480621,1528.355853319168,1528.4608187675476,1528.5574316978455,1528.6561155319214,1528.7592558860779,1528.8586099147797,1528.9628987312317,1529.0560810565948,1529.1571590900421,1529.2560682296753,1529.3564767837524,1529.456878900528,1529.5586001873016,1529.657800912857,1529.7575800418854,1529.8577151298523,1529.9580373764038,1530.0567288398743,1530.157428264618,1530.2587399482727,1530.3589704036713,1530.457849740982,1530.5578382015228,1530.658446073532,1530.757824897766,1530.8616199493408,1530.960708618164,1531.059900522232,1531.162596464157,1531.2573883533478,1531.3600792884827,1531.458923816681,1531.5627195835114,1531.6612637043,1531.7576656341553,1531.8620171546936,1531.9599452018738,1532.0599632263184,1532.1607375144958,1532.259782075882,1532.3589525222778,1532.4589982032776,1532.5596570968628,1532.660763502121,1532.759989976883,1532.859920501709,1532.9633507728577,1533.0590443611145,1533.159485578537,1533.2591478824615,1533.358909368515,1533.4588725566864,1533.5592203140259,1533.6601333618164,1533.758960723877,1533.8600804805756,1533.9596378803253,1534.0594065189362,1534.1598281860352,1534.2596225738525,1534.360122680664,1534.4612867832184,1534.5604510307312,1534.6615297794342,1534.76198220253,1534.8614101409912,1534.9614522457123,1535.0600357055664,1535.1603939533234,1535.2622575759888,1535.3602058887482,1535.462120294571,1535.56028008461,1535.6601366996765,1535.7611837387085,1535.8639693260193,1535.9614548683167,1536.06116604805,1536.1607356071472,1536.2609808444977,1536.3626313209534,1536.4609956741333,1536.564481496811,1536.6640095710754,1536.763158082962,1536.8629369735718,1536.9626727104187,1537.0616796016693,1537.1621129512787,1537.2617573738098,1537.3618972301483,1537.462711572647,1537.562515258789,1537.6621596813202,1537.7639846801758,1537.8620209693909,1537.9622814655304,1538.0627496242523,1538.1621263027191,1538.2627971172333,1538.366781949997,1538.4637882709503,1538.563273191452,1538.66330909729,1538.7667174339294,1538.8636915683746,1538.9630060195923,1539.063859462738,1539.1625623703003,1539.2660901546478,1539.3630833625793,1539.464448928833,1539.5636985301971,1539.6643221378326,1539.7645237445831,1539.8643732070923,1539.9644606113434,1540.0639703273773,1540.1641156673431,1540.2658836841583,1540.3652892112732,1540.4671607017517,1540.5652508735657,1540.669272184372,1540.7651839256287,1540.8669271469116,1540.9673836231232,1541.0654036998749,1541.1660828590393,1541.2674746513367,1541.3676433563232,1541.4656250476837,1541.5665922164917,1541.6681351661682,1541.7672548294067,1541.867030620575,1541.9676649570465,1542.0670235157013,1542.1689057350159,1542.2671897411346,1542.3672127723694,1542.4686870574951,1542.5665442943573,1542.6705791950226,1542.7696046829224,1542.8668971061707,1542.966644525528,1543.0735685825348,1543.1732482910156,1543.267774105072,1543.3676788806915,1543.4672544002533,1543.5671184062958,1543.6677463054657,1543.7675108909607,1543.8679871559143,1543.9693717956543,1544.0663883686066,1544.1677677631378,1544.268888950348,1544.3663485050201,1544.4664885997772,1544.5660860538483,1544.6669471263885,1544.76717877388,1544.8672885894775,1544.9685242176056,1545.0670084953308,1545.1677951812744,1545.2673869132996,1545.3672273159027,1545.467891216278,1545.575178861618,1545.6677899360657,1545.7664551734924,1545.8665204048157,1545.9671485424042,1546.0674130916595,1546.1681797504425,1546.2676408290863,1546.367078781128,1546.4679577350616,1546.5685453414917,1546.6769742965698,1546.7727680206299,1546.8680868148804,1546.9686315059662,1547.069181919098,1547.167875289917,1547.2677521705627,1547.3686332702637,1547.4707067012787,1547.5683662891388,1547.6724834442139,1547.769639492035,1547.8712072372437,1547.9770529270172,1548.072209596634,1548.173274755478,1548.2715876102448,1548.371628522873,1548.4709198474884,1548.5714690685272,1548.671296596527,1548.7715110778809,1548.8716838359833,1548.97434091568,1549.070969581604,1549.174753665924,1549.2744188308716,1549.3733451366425,1549.4734070301056,1549.5742897987366,1549.6723790168762,1549.7728595733643,1549.8727250099182,1549.9772119522095,1550.0720105171204,1550.1710896492004,1550.2725031375885,1550.3713836669922,1550.4781966209412,1550.5779829025269,1550.6775233745575,1550.774284362793,1550.87375998497,1550.979849100113,1551.0752232074738,1551.1747436523438,1551.2786514759064,1551.3792498111725,1551.478197336197,1551.579080581665,1551.67942070961,1551.77863407135,1551.880181312561,1551.9783499240875,1552.0735130310059,1552.1743123531342,1552.2738902568817,1552.3736426830292,1552.4735062122345,1552.5737590789795,1552.6750376224518,1552.774917125702,1552.874896287918,1552.9747967720032,1553.0752203464508,1553.1760432720184,1553.2762243747711,1553.3725430965424,1553.472339630127,1553.5719089508057,1553.671792268753,1553.7730875015259,1553.8719074726105,1553.9732356071472,1554.072648525238,1554.172200679779,1554.2724151611328,1554.3731021881104,1554.4731767177582,1554.5727956295013,1554.673753976822,1554.7773764133453,1554.8747208118439,1554.9741613864899,1555.0747776031494,1555.1755096912384,1555.279501914978,1555.3744592666626,1555.4760527610779,1555.5740582942963,1555.6754522323608,1555.7753405570984,1555.8802742958069,1555.9759588241577,1556.074725151062,1556.1759669780731,1556.2756700515747,1556.3753113746643,1556.4837319850922,1556.5750107765198,1556.6751630306244,1556.7765123844147,1556.8782150745392,1556.9785902500153,1557.0765113830566,1557.1777567863464,1557.2783045768738,1557.3775517940521,1557.4797596931458,1557.5780041217804,1557.6780152320862,1557.7778115272522,1557.876960515976,1557.9770517349243,1558.076621055603,1558.180831193924,1558.2854754924774,1558.3767499923706,1558.4804351329803,1558.579921722412,1558.677288532257,1558.7769978046417,1558.8778581619263,1558.9787356853485,1559.0771126747131,1559.1767921447754,1559.278477191925,1559.378291606903,1559.4775824546814,1559.5807921886444,1559.6776638031006,1559.778058052063,1559.8830723762512,1559.9832768440247,1560.0840981006622,1560.1845769882202,1560.2789707183838,1560.3786268234253,1560.47776389122,1560.5785915851593,1560.6796667575836,1560.7791197299957,1560.87948346138,1560.978010892868,1561.0784831047058,1561.1786596775055,1561.2765908241272,1561.3838136196136,1561.4774813652039,1561.5815932750702,1561.6770639419556,1561.7776787281036,1561.877956867218,1561.9779877662659,1562.0776226520538,1562.1785109043121,1562.2782335281372,1562.3815352916718,1562.4804756641388,1562.5775909423828,1562.6809916496277,1562.7826879024506,1562.8828573226929,1562.9838132858276,1563.0780189037323,1563.1789796352386,1563.2802908420563,1563.3813588619232,1563.480254650116,1563.5809354782104,1563.680933713913,1563.7801339626312,1563.880723953247,1563.9811205863953,1564.0802714824677,1564.1794838905334,1564.2845251560211,1564.3794884681702,1564.4791498184204,1564.5835678577423,1564.6808955669403,1564.7788915634155,1564.8795139789581,1564.9836478233337,1565.07950258255,1565.1825184822083,1565.2819392681122,1565.380526304245,1565.4812269210815,1565.5805473327637,1565.684333562851,1565.785714149475,1565.8849048614502,1565.9807634353638,1566.0813398361206,1566.1810414791107,1566.283430814743,1566.383866071701,1566.484350681305,1566.5904591083527,1566.6800830364227,1566.7800760269165,1566.8805696964264,1566.9809465408325,1567.0811483860016,1567.1813688278198,1567.2823538780212,1567.3819682598114,1567.4816749095917,1567.5819344520569,1567.6825020313263,1567.781952381134,1567.881548166275,1567.982048034668,1568.0820636749268,1568.1820254325867,1568.281239271164,1568.3812518119812,1568.4811825752258,1568.5819082260132,1568.6818380355835,1568.7822697162628,1568.8816404342651,1568.9819226264954,1569.0865490436554,1569.186048746109,1569.282539844513,1569.3828761577606,1569.4822869300842,1569.58291721344,1569.6838479042053,1569.7846109867096,1569.8823783397675,1569.9836070537567,1570.0831260681152,1570.1819534301758,1570.2878515720367,1570.3924379348755,1570.4909138679504,1570.5902736186981,1570.6988174915314,1570.7904138565063,1570.8904962539673,1570.9899044036865,1571.0898532867432,1571.1898276805878,1571.289258480072,1571.3903584480286,1571.4897434711456,1571.5904321670532,1571.6920642852783,1571.7911806106567,1571.8918182849884,1571.9967155456543,1572.1017162799835,1572.2009263038635,1572.2912111282349,1572.3967843055725,1572.4991810321808,1572.5943253040314,1572.6906354427338,1572.7905294895172,1572.891780614853,1572.9911139011383,1573.0927135944366,1573.1920285224915],\"y\":[0.15359923338315146,0.1303760705686625,0.11041550802496904,0.09432648864940461,0.08283308367105471,0.07648989396256711,0.07520095884755529,0.0780143056512787,0.08352989768958635,0.09046293523870218,0.10343807437971816,0.10939106901584048,0.11534356598215048,0.12488319529238456,0.13092544039248843,0.1362126330746686,0.14164981493134454,0.14732165235819458,0.15354875604950347,0.1578584450191121,0.16007301332392268,0.1584107412908853,0.1602784413476478,0.16499914589018025,0.17632792926588076,0.18810159261839407,0.1938887184956852,0.20030466889408322,0.20995703059958226,0.21829618477541038,0.22396209469629536,0.22977349320803442,0.23850548817402395,0.23764422433599974,0.23521253270579787,0.23152708745163056,0.2249441559891833,0.21645923036383527,0.20300631290846943,0.1881548683696105,0.17316913800002948,0.16519139784003783,0.1600430051196354,0.15430735973024617,0.14935379851149974,0.1454153177786991,0.14142922877115682,0.13827422322005173,0.13720090993229522,0.1382705934680673,0.14041479205146692,0.14270900157283456,0.14564005041090058,0.14891443119927855,0.1523243127615824,0.15411423499827437,0.1552683095485325,0.15550363458754934,0.1563544729380389,0.1584345262683066,0.16150536509988914,0.16333198152255174,0.1621373114158306,0.1597693469706479,0.15578299894267617,0.14987100281590746,0.14693056288655446,0.14595076141080088,0.14562885135687642,0.14469217195164563,0.14425984342211307,0.14423095308203807,0.1441092688526521,0.14459271142473726,0.1448647520690782,0.1452886019444032,0.1453189749342822,0.1452974623657728,0.14518210261853876,0.1445832698315057,0.14379237044375914,0.14303425772479417,0.14232943920308988,0.14110002238924768,0.1401645002682849,0.14010159228067476,0.14002313364968064,0.1399524900334541,0.13977176071096484,0.13964589983828504,0.13978811873409774,0.14070213901980452,0.1414362243147675,0.14099620820687184,0.14155092617309323,0.14190459467061384,0.14182546440483007,0.14114612598304022,0.13976493894266673,0.13868185481681194,0.13775049761673697,0.13714479656921894,0.13737240675556872,0.13734920981712362,0.13710891993595567,0.13626766382096156,0.1351374757552824,0.13348950333099413,0.13255268428800315,0.1315582568384736,0.13040040855943033,0.12933256053078332,0.12844700060960518,0.12832069549833808,0.1280717024220978,0.12787183514295214,0.12796821061731195,0.12804264768196788,0.1283889650029527,0.1288697623478332,0.12947930666724022,0.13037560823486427,0.13085843235131048,0.13118788749369636,0.13141625235320023,0.1310209652891217,0.13041962575682428,0.130251838314062,0.1295858732631822,0.128631225620906,0.12782971054146652,0.12716712590340964,0.12643411485012837,0.12602593623857944,0.12568664236790267,0.1256387453932493,0.12559175545468018,0.12673545601720856,0.12808326034854817,0.12955594602574347,0.13065693286229935,0.13122756029425797,0.13204347203080205,0.13271357330113287,0.13348664787285625,0.134154390355669,0.13468080229376,0.13498604080064597,0.1347534657919487,0.13425090199590473,0.13353450284354013,0.13295046684381182,0.13285251519957333,0.1329449680112027,0.13330345607322158,0.13360194919608012,0.1339613663350666,0.1339892042154157,0.13411120196647713,0.1343836068820606,0.13486602999439648,0.13559561530887368,0.1358967772268496,0.13572357372276833,0.1347673531101799,0.13378165991335098,0.13289289592192416,0.1318121588612353,0.13073136152171141,0.12918573639520098,0.12773807101520634,0.12626685123102932,0.12507461383720328,0.12417135672154136,0.12365908893945923,0.12407987013289727,0.12535536072154843,0.12674889803169898,0.12875904510816844,0.13085266495532594,0.13313727089227473,0.1348729864495563,0.136226041354934,0.1376540743027578,0.13904529149495481,0.1403174746026138,0.14106595015816673,0.1415388366011559,0.141116844806614,0.14049329067924313,0.1404334697583215,0.14037331409987286,0.14041865118466923,0.14083271497538094,0.1412475247637737,0.14087998547980826,0.14056517320911785,0.1405740192471816,0.1406516658467036,0.14035346378953786,0.13990978635286352,0.13956012642107735,0.13918360620577644,0.1391972694997156,0.1393158994406915,0.13956683028493144,0.14000701736513396,0.14035097496453586,0.14083091067765127,0.14126360428349644,0.14158232234537668,0.1418746940519317,0.1419755814510944,0.14165531799230535,0.14108196167953352,0.14106232819153425,0.14089415507647088,0.14079087910362006,0.140747248907792,0.14067412230129792,0.14071343336732664,0.14063294816280492,0.14069421422569092,0.14073144737140872,0.14070172727902666,0.14082130742466828,0.14083718677806276,0.14096507738665018,0.14092707705183768,0.1408686816840432,0.1406975864600458,0.14035244483249465,0.14008823392590036,0.13992034255850574,0.13996792042578846,0.14033151829271134,0.14080487029171423,0.14116931062085114,0.14075337971467453,0.14060816978166693,0.1401498350239936,0.13982152560480657,0.13952818745240803,0.1392438843154389,0.13953053341514207,0.13935342803636938,0.13980044636368325,0.14056682353682906,0.14118080361764587,0.14129809306954386,0.14105319280846715,0.1405145890410089,0.13964713763822761,0.13858121657968897,0.13799266228414656,0.13743722819657633,0.13680117880460285,0.13595424193345482,0.13563527757048535,0.13544159443294093,0.13572421497343343,0.13698373484714513,0.13822270757321287,0.13939268421160478,0.1400380971190162,0.14078323225501777,0.1412137033093605,0.14072808886441893,0.13999418587441242,0.13926238298702093,0.13838370919921533,0.1375879492117255,0.1370973479191735,0.13901141878793039,0.14442055877652182,0.14780253837670743,0.15544161189327815,0.1547640888702488,0.1437007805874637,0.12915556391999813,0.11285998639836128,0.09628568672355073,0.0834654315230735,0.07818581104823479,0.08295180318400924,0.09378377463608172,0.10999391100544392,0.12612855682876256,0.1401469806111303,0.1474732991056942,0.1488740251277823,0.14366973651908846,0.13338145117668831,0.12486455865686734,0.126794466938517,0.13889632962522866,0.1478440309037644,0.1556722639507108,0.1653210461667078,0.1716273561908855,0.17533525965428187,0.17854818059772878,0.1795091244652215,0.17975005221821733,0.1801075049301504,0.18139206986306014,0.18499039164940845,0.1890497043898043,0.19232809926760747,0.19484460739755408,0.1965378578501412,0.1982996478704112,0.19932254349028294,0.20014330109715933,0.1993687870766165,0.19785978239865473,0.196348714723269,0.19364421686090066,0.19081441008868494,0.18993078242196132,0.1896106267801113,0.18807217124968365,0.18730571347639693,0.18838871502046436,0.18952251854433042,0.19006707282565427,0.1914680888884373,0.19421945776882135,0.19653766309906376,0.19916452892160996,0.20301105883982898,0.2043887327908428,0.20322944777631086,0.19869863955649245,0.19225262531037243,0.1855858618008019,0.17725342016484724,0.17039986303438098,0.16632822156269825,0.16528075106026557,0.16859705541655418,0.17843186445345857,0.19078529788081558,0.20499028597450927,0.22057503477789883,0.23671859385338184,0.24966881260418877,0.25869181672461294,0.2663930409985499,0.27401301489099594,0.27853979306296817,0.27960487450129523,0.2786411791443522,0.27541756253627153,0.26981014561051586,0.2621684787084037,0.2561118508335101,0.24950063253566085,0.24328027254518444,0.236675827133379,0.23068789352768204,0.22474702861324214,0.2193856910620243,0.21441352693975577,0.2120272524208417,0.20771339420416676,0.20193304607871482,0.19273978002227649,0.18141559483882072,0.17113758828102232,0.1618470810165105,0.15676050396348104,0.15275594529941927,0.1520918092205958,0.19467714131855665,0.22158689908077062,0.18276329593602925,0.1483344674715086,0.12023642154053471,0.10516244512602266,0.10844417496748246,0.15685690204957756,0.23398887924298972,0.2094136173558022,0.18313969661052923,0.1546329083537307,0.13367267805947336,0.12297338186007817,0.12337569357747968,0.13504891360386453,0.15640983554421561,0.18545637543941113,0.22161961664531138,0.26336608889262764,0.24435704057323007,0.20781367970346182,0.20707557849773311,0.21128993181018327,0.2231448612625419,0.2437998998958361,0.272830865277882,0.26406629337858384,0.21573169523779903,0.21222823475747393,0.20908476183442634,0.21098124428652662,0.21207039977390005,0.21270169681197315,0.2162094110328234,0.21947567709044116,0.215325427774656,0.20924282513244372,0.20035794042384866,0.18795472750654044,0.17365321446309342,0.15708855162818433,0.1396857528165922,0.12217946460435945,0.10448640809258121,0.08731882757049395,0.07193053000837096,0.058956973509737165,0.05324879834744947,0.05050923243912485,0.053847954700090676,0.05163587903572366,0.04423064625743225,0.034310030822094446,0.02951041469653509,0.05998602266221318,0.09897537749377666,0.13913260980941766,0.17934057451515598,0.21906773305131313,0.25672593144018596,0.28633714626565204,0.3139179993327515,0.33567909676756147,0.3536020234279027,0.3583039821180556,0.358914823925646,0.33382211844958976,0.3040907503796084,0.2567773381694963,0.20662642593319266,0.15164529134691399,0.10753959968301081,0.10583691268124738,0.15795532526208722,0.23147171473292968,0.3064959660572875,0.3746239235025284,0.43169274181866685,0.47639338383524105,0.5058372286669887,0.5162528056448324,0.5095879563543096,0.48887162513694976,0.4643927532492005,0.43239453722595594,0.39475351175172246,0.3614579845768477,0.32601414813450863,0.2879373016355591,0.2476743414101631,0.20335836862816734,0.16452024024865367,0.14130289852508215,0.11413607515289877,0.08693904027475652,0.05968556883325972,0.048597555278327265,0.05239635767145141,0.060826729028859515,0.0634721983423879,0.06301253601104127,0.04894873375702533,0.046229945191935934,0.051753784205770106,0.056892068090668615,0.05946043860523727,0.06298611706566214,0.06442402838225486,0.061979242346401245,0.05483069754272293,0.034759864237877004,0.045255799464369834,0.08131532114042571,0.11637578294841215,0.14951018111133563,0.1946028497832991,0.2396687414056907,0.286280107964128,0.33507246550885855,0.3823816277899715,0.42818618980102946,0.45049931805367655,0.46118099643555116,0.4666849495158193,0.45977692193168956,0.4510108318338478,0.44053356927066734,0.4298620022133152,0.41884952769424816,0.4070029790938692,0.38259848038813055,0.3547684014082475,0.32637249865430873,0.2985697019514175,0.26039276616010043,0.21552766616874852,0.16642213923161872,0.11719753116472013,0.08169933102638303,0.0709614059298263,0.09565542320887384,0.1384325751735772,0.18870247426539252,0.241895298044557,0.2979318591071,0.35427915899531603,0.42228164845948507,0.4731309781156142,0.5065479944503032,0.5127448824223986,0.4963315631298395,0.47047451138655716,0.44011634860393756,0.4136073730675575,0.3763303074611598,0.32616439885375537,0.26591811483117844,0.1836787498832283,0.10582063352251814,0.046216266129037495,0.0876711575359486,0.16578577892748633,0.24001990546031707,0.3022134662963836,0.35243169864731755,0.3905423950158482,0.4369337888588198,0.47925005661554476,0.5181339124679917,0.5359805858360053,0.5378130566192457,0.5335561687208746,0.5252234750157189,0.5142848768619108,0.5011475447041737,0.4874478466753575,0.47807563203021786,0.4686704978013906,0.46060096847201965,0.45488647419575934,0.44732269506311817,0.43580283076967197,0.42011287820200743,0.4020195460184477,0.38256035072263156,0.36290206590428153,0.34424537386827747,0.3281090640632632,0.31659967989616855,0.31079904178053935,0.3078523990101132,0.30693325740470967,0.30415504693892065,0.2986445643772791,0.2865669085437129,0.2738221929279342,0.2594956918922886,0.24311982354595163,0.2247165216446675,0.20513333656519583,0.19038030217463386,0.18884344575193843,0.20525195974731555,0.23570597475470564,0.27381861966639187,0.3159427908637543,0.3544706902227405,0.3826924006716461,0.3948323633467445,0.38727754692347477,0.3623749468872423,0.3245368068289043,0.2752414848537111,0.221497521219353,0.1688864319914069,0.13558010859743644,0.13923024797487632,0.17427742300480079,0.1885961117852537,0.2026723719544215,0.22091821478286888,0.2216273792264502,0.2101102143504499,0.17811916634212452,0.1283317715684069,0.06960820417540947,0.050598453948573284,0.10282223027840261,0.1576716964604617,0.21164899847410845,0.2581092772528668,0.28696416878741693,0.2819878322122878,0.26242669169139937,0.2347375672221882,0.20873661359089232,0.18354156236727454,0.17649569181804003,0.16235869452470605,0.15505584643889975,0.16279254371408228,0.18122868074075757,0.21648197702871247,0.26456910121104804,0.31918810373416656,0.3604392804991785,0.39146365880782075,0.39741475644902974,0.39933692462755366,0.40879289234120253,0.39815946733473756,0.3593731686621529,0.344712159894648,0.3188079794932089,0.28659161492228463,0.2580643844443568,0.2266189694799521,0.1826906762086275,0.12991342245969406,0.07503223523323439,0.0668737294959825,0.11866391040500256,0.17318894348988884,0.22670070558353042,0.27592346549911706,0.2994221286593009,0.317201028293822,0.31288501162993093,0.29047574033289875,0.27417520603609596,0.2507785718278198,0.2043840648816473,0.1725164820537431,0.13169426567950257,0.10021036021337207,0.08871557799598465,0.06630343182604255,0.05285354647758606,0.0540822147257575,0.057455339942600346,0.05784628538943648,0.05015418347389545,0.045460976479974345,0.0370912988035706,0.04561097128061289,0.047737055697650924,0.054843769216020875,0.07259494687974884,0.10039809083475205,0.12495403216220508,0.14391553090690373,0.15211841931141967,0.14698736898697257,0.1312470978155742,0.11093319608086213,0.061954176994679616,0.03743288085454864,0.04091036238728847,0.03701835956138408,0.03310739691008786,0.02671444992910918,0.019044828215301762,0.022755639137795495,0.04544469996299811,0.07156660238733198,0.10498969777834538,0.13375410125159476,0.15640853600580482,0.16615938505696545,0.16580828383317134,0.1586924436208286,0.14828527866185384,0.13483959937369344,0.11460934276698125,0.3768508896042729,0.49019955191562603,0.4561785525130461,0.29173309149718446,0.017229024878091387,0.35882695657266883,1.0948230050435992,0.0,0.0,0.0,0.0,0.0,0.0,0.0,0.0,0.0,0.0,0.0,1.1894007173015815,0.5176917389766184,0.311662445419641,0.40533672119997066,0.5459296743877221,0.6044786638451025,0.5637191292680268,0.4974558984106131,0.5131282004217469,0.5161917164513484,0.5048404828184011,0.4772952247722993,0.4772952247722993,0.4772952247722993,0.4772952247722993,0.4772952247722993,0.4772952247722993,0.4772952247722993,0.4772952247722993,0.4772952247722993,0.4772952247722993,0.4772952247722993,0.4772952247722964,0.4772952247722964,0.4772952247722964,0.4772952247722964,0.4772952247722964,0.4772952247722964,0.4772952247722964,0.47729522477229647,0.47729522477229647,0.47729522477229647],\"type\":\"scatter\"},{\"marker\":{\"color\":\"red\",\"size\":10},\"mode\":\"markers\",\"name\":\"Appoggio tallone\",\"x\":[1501.240436553955,1502.4428606033325,1505.3408071994781,1506.8419032096863,1508.7441477775574,1511.6458253860474,1513.9478917121887,1515.448129415512,1517.9501507282257,1519.0509328842163,1520.4572768211365,1521.9608080387115,1522.953887462616,1524.1584029197693,1525.8536713123322,1526.8551664352417,1528.2581007480621,1530.5578382015228,1532.3589525222778,1534.360122680664,1537.462711572647,1539.2660901546478,1541.6681351661682,1543.267774105072,1544.76717877388,1547.4707067012787,1549.070969581604,1551.67942070961,1553.7730875015259,1557.5780041217804,1558.8778581619263,1559.8830723762512,1561.6770639419556,1563.3813588619232,1564.7788915634155,1565.8849048614502,1567.5819344520569,1568.7822697162628,1569.9836070537567],\"y\":[0.16007301332392268,0.23850548817402395,0.16333198152255174,0.1453189749342822,0.14190459467061384,0.13141625235320023,0.13498604080064597,0.1358967772268496,0.1415388366011559,0.1406516658467036,0.1419755814510944,0.14096507738665018,0.14116931062085114,0.14129809306954386,0.1412137033093605,0.15544161189327815,0.1488740251277823,0.20014330109715933,0.2043887327908428,0.27960487450129523,0.23398887924298972,0.272830865277882,0.053847954700090676,0.358914823925646,0.5162528056448324,0.06442402838225486,0.4666849495158193,0.5127448824223986,0.5378130566192457,0.3948323633467445,0.2216273792264502,0.28696416878741693,0.40879289234120253,0.317201028293822,0.05784628538943648,0.15211841931141967,0.16615938505696545,1.0948230050435992,1.1894007173015815],\"type\":\"scatter\"}],                        {\"autosize\":false,\"font\":{\"color\":\"black\",\"family\":\"Courier New, monospace\",\"size\":22},\"height\":600,\"template\":{\"data\":{\"barpolar\":[{\"marker\":{\"line\":{\"color\":\"#E5ECF6\",\"width\":0.5},\"pattern\":{\"fillmode\":\"overlay\",\"size\":10,\"solidity\":0.2}},\"type\":\"barpolar\"}],\"bar\":[{\"error_x\":{\"color\":\"#2a3f5f\"},\"error_y\":{\"color\":\"#2a3f5f\"},\"marker\":{\"line\":{\"color\":\"#E5ECF6\",\"width\":0.5},\"pattern\":{\"fillmode\":\"overlay\",\"size\":10,\"solidity\":0.2}},\"type\":\"bar\"}],\"carpet\":[{\"aaxis\":{\"endlinecolor\":\"#2a3f5f\",\"gridcolor\":\"white\",\"linecolor\":\"white\",\"minorgridcolor\":\"white\",\"startlinecolor\":\"#2a3f5f\"},\"baxis\":{\"endlinecolor\":\"#2a3f5f\",\"gridcolor\":\"white\",\"linecolor\":\"white\",\"minorgridcolor\":\"white\",\"startlinecolor\":\"#2a3f5f\"},\"type\":\"carpet\"}],\"choropleth\":[{\"colorbar\":{\"outlinewidth\":0,\"ticks\":\"\"},\"type\":\"choropleth\"}],\"contourcarpet\":[{\"colorbar\":{\"outlinewidth\":0,\"ticks\":\"\"},\"type\":\"contourcarpet\"}],\"contour\":[{\"colorbar\":{\"outlinewidth\":0,\"ticks\":\"\"},\"colorscale\":[[0.0,\"#0d0887\"],[0.1111111111111111,\"#46039f\"],[0.2222222222222222,\"#7201a8\"],[0.3333333333333333,\"#9c179e\"],[0.4444444444444444,\"#bd3786\"],[0.5555555555555556,\"#d8576b\"],[0.6666666666666666,\"#ed7953\"],[0.7777777777777778,\"#fb9f3a\"],[0.8888888888888888,\"#fdca26\"],[1.0,\"#f0f921\"]],\"type\":\"contour\"}],\"heatmapgl\":[{\"colorbar\":{\"outlinewidth\":0,\"ticks\":\"\"},\"colorscale\":[[0.0,\"#0d0887\"],[0.1111111111111111,\"#46039f\"],[0.2222222222222222,\"#7201a8\"],[0.3333333333333333,\"#9c179e\"],[0.4444444444444444,\"#bd3786\"],[0.5555555555555556,\"#d8576b\"],[0.6666666666666666,\"#ed7953\"],[0.7777777777777778,\"#fb9f3a\"],[0.8888888888888888,\"#fdca26\"],[1.0,\"#f0f921\"]],\"type\":\"heatmapgl\"}],\"heatmap\":[{\"colorbar\":{\"outlinewidth\":0,\"ticks\":\"\"},\"colorscale\":[[0.0,\"#0d0887\"],[0.1111111111111111,\"#46039f\"],[0.2222222222222222,\"#7201a8\"],[0.3333333333333333,\"#9c179e\"],[0.4444444444444444,\"#bd3786\"],[0.5555555555555556,\"#d8576b\"],[0.6666666666666666,\"#ed7953\"],[0.7777777777777778,\"#fb9f3a\"],[0.8888888888888888,\"#fdca26\"],[1.0,\"#f0f921\"]],\"type\":\"heatmap\"}],\"histogram2dcontour\":[{\"colorbar\":{\"outlinewidth\":0,\"ticks\":\"\"},\"colorscale\":[[0.0,\"#0d0887\"],[0.1111111111111111,\"#46039f\"],[0.2222222222222222,\"#7201a8\"],[0.3333333333333333,\"#9c179e\"],[0.4444444444444444,\"#bd3786\"],[0.5555555555555556,\"#d8576b\"],[0.6666666666666666,\"#ed7953\"],[0.7777777777777778,\"#fb9f3a\"],[0.8888888888888888,\"#fdca26\"],[1.0,\"#f0f921\"]],\"type\":\"histogram2dcontour\"}],\"histogram2d\":[{\"colorbar\":{\"outlinewidth\":0,\"ticks\":\"\"},\"colorscale\":[[0.0,\"#0d0887\"],[0.1111111111111111,\"#46039f\"],[0.2222222222222222,\"#7201a8\"],[0.3333333333333333,\"#9c179e\"],[0.4444444444444444,\"#bd3786\"],[0.5555555555555556,\"#d8576b\"],[0.6666666666666666,\"#ed7953\"],[0.7777777777777778,\"#fb9f3a\"],[0.8888888888888888,\"#fdca26\"],[1.0,\"#f0f921\"]],\"type\":\"histogram2d\"}],\"histogram\":[{\"marker\":{\"pattern\":{\"fillmode\":\"overlay\",\"size\":10,\"solidity\":0.2}},\"type\":\"histogram\"}],\"mesh3d\":[{\"colorbar\":{\"outlinewidth\":0,\"ticks\":\"\"},\"type\":\"mesh3d\"}],\"parcoords\":[{\"line\":{\"colorbar\":{\"outlinewidth\":0,\"ticks\":\"\"}},\"type\":\"parcoords\"}],\"pie\":[{\"automargin\":true,\"type\":\"pie\"}],\"scatter3d\":[{\"line\":{\"colorbar\":{\"outlinewidth\":0,\"ticks\":\"\"}},\"marker\":{\"colorbar\":{\"outlinewidth\":0,\"ticks\":\"\"}},\"type\":\"scatter3d\"}],\"scattercarpet\":[{\"marker\":{\"colorbar\":{\"outlinewidth\":0,\"ticks\":\"\"}},\"type\":\"scattercarpet\"}],\"scattergeo\":[{\"marker\":{\"colorbar\":{\"outlinewidth\":0,\"ticks\":\"\"}},\"type\":\"scattergeo\"}],\"scattergl\":[{\"marker\":{\"colorbar\":{\"outlinewidth\":0,\"ticks\":\"\"}},\"type\":\"scattergl\"}],\"scattermapbox\":[{\"marker\":{\"colorbar\":{\"outlinewidth\":0,\"ticks\":\"\"}},\"type\":\"scattermapbox\"}],\"scatterpolargl\":[{\"marker\":{\"colorbar\":{\"outlinewidth\":0,\"ticks\":\"\"}},\"type\":\"scatterpolargl\"}],\"scatterpolar\":[{\"marker\":{\"colorbar\":{\"outlinewidth\":0,\"ticks\":\"\"}},\"type\":\"scatterpolar\"}],\"scatter\":[{\"fillpattern\":{\"fillmode\":\"overlay\",\"size\":10,\"solidity\":0.2},\"type\":\"scatter\"}],\"scatterternary\":[{\"marker\":{\"colorbar\":{\"outlinewidth\":0,\"ticks\":\"\"}},\"type\":\"scatterternary\"}],\"surface\":[{\"colorbar\":{\"outlinewidth\":0,\"ticks\":\"\"},\"colorscale\":[[0.0,\"#0d0887\"],[0.1111111111111111,\"#46039f\"],[0.2222222222222222,\"#7201a8\"],[0.3333333333333333,\"#9c179e\"],[0.4444444444444444,\"#bd3786\"],[0.5555555555555556,\"#d8576b\"],[0.6666666666666666,\"#ed7953\"],[0.7777777777777778,\"#fb9f3a\"],[0.8888888888888888,\"#fdca26\"],[1.0,\"#f0f921\"]],\"type\":\"surface\"}],\"table\":[{\"cells\":{\"fill\":{\"color\":\"#EBF0F8\"},\"line\":{\"color\":\"white\"}},\"header\":{\"fill\":{\"color\":\"#C8D4E3\"},\"line\":{\"color\":\"white\"}},\"type\":\"table\"}]},\"layout\":{\"annotationdefaults\":{\"arrowcolor\":\"#2a3f5f\",\"arrowhead\":0,\"arrowwidth\":1},\"autotypenumbers\":\"strict\",\"coloraxis\":{\"colorbar\":{\"outlinewidth\":0,\"ticks\":\"\"}},\"colorscale\":{\"diverging\":[[0,\"#8e0152\"],[0.1,\"#c51b7d\"],[0.2,\"#de77ae\"],[0.3,\"#f1b6da\"],[0.4,\"#fde0ef\"],[0.5,\"#f7f7f7\"],[0.6,\"#e6f5d0\"],[0.7,\"#b8e186\"],[0.8,\"#7fbc41\"],[0.9,\"#4d9221\"],[1,\"#276419\"]],\"sequential\":[[0.0,\"#0d0887\"],[0.1111111111111111,\"#46039f\"],[0.2222222222222222,\"#7201a8\"],[0.3333333333333333,\"#9c179e\"],[0.4444444444444444,\"#bd3786\"],[0.5555555555555556,\"#d8576b\"],[0.6666666666666666,\"#ed7953\"],[0.7777777777777778,\"#fb9f3a\"],[0.8888888888888888,\"#fdca26\"],[1.0,\"#f0f921\"]],\"sequentialminus\":[[0.0,\"#0d0887\"],[0.1111111111111111,\"#46039f\"],[0.2222222222222222,\"#7201a8\"],[0.3333333333333333,\"#9c179e\"],[0.4444444444444444,\"#bd3786\"],[0.5555555555555556,\"#d8576b\"],[0.6666666666666666,\"#ed7953\"],[0.7777777777777778,\"#fb9f3a\"],[0.8888888888888888,\"#fdca26\"],[1.0,\"#f0f921\"]]},\"colorway\":[\"#636efa\",\"#EF553B\",\"#00cc96\",\"#ab63fa\",\"#FFA15A\",\"#19d3f3\",\"#FF6692\",\"#B6E880\",\"#FF97FF\",\"#FECB52\"],\"font\":{\"color\":\"#2a3f5f\"},\"geo\":{\"bgcolor\":\"white\",\"lakecolor\":\"white\",\"landcolor\":\"#E5ECF6\",\"showlakes\":true,\"showland\":true,\"subunitcolor\":\"white\"},\"hoverlabel\":{\"align\":\"left\"},\"hovermode\":\"closest\",\"mapbox\":{\"style\":\"light\"},\"paper_bgcolor\":\"white\",\"plot_bgcolor\":\"#E5ECF6\",\"polar\":{\"angularaxis\":{\"gridcolor\":\"white\",\"linecolor\":\"white\",\"ticks\":\"\"},\"bgcolor\":\"#E5ECF6\",\"radialaxis\":{\"gridcolor\":\"white\",\"linecolor\":\"white\",\"ticks\":\"\"}},\"scene\":{\"xaxis\":{\"backgroundcolor\":\"#E5ECF6\",\"gridcolor\":\"white\",\"gridwidth\":2,\"linecolor\":\"white\",\"showbackground\":true,\"ticks\":\"\",\"zerolinecolor\":\"white\"},\"yaxis\":{\"backgroundcolor\":\"#E5ECF6\",\"gridcolor\":\"white\",\"gridwidth\":2,\"linecolor\":\"white\",\"showbackground\":true,\"ticks\":\"\",\"zerolinecolor\":\"white\"},\"zaxis\":{\"backgroundcolor\":\"#E5ECF6\",\"gridcolor\":\"white\",\"gridwidth\":2,\"linecolor\":\"white\",\"showbackground\":true,\"ticks\":\"\",\"zerolinecolor\":\"white\"}},\"shapedefaults\":{\"line\":{\"color\":\"#2a3f5f\"}},\"ternary\":{\"aaxis\":{\"gridcolor\":\"white\",\"linecolor\":\"white\",\"ticks\":\"\"},\"baxis\":{\"gridcolor\":\"white\",\"linecolor\":\"white\",\"ticks\":\"\"},\"bgcolor\":\"#E5ECF6\",\"caxis\":{\"gridcolor\":\"white\",\"linecolor\":\"white\",\"ticks\":\"\"}},\"title\":{\"x\":0.05},\"xaxis\":{\"automargin\":true,\"gridcolor\":\"white\",\"linecolor\":\"white\",\"ticks\":\"\",\"title\":{\"standoff\":15},\"zerolinecolor\":\"white\",\"zerolinewidth\":2},\"yaxis\":{\"automargin\":true,\"gridcolor\":\"white\",\"linecolor\":\"white\",\"ticks\":\"\",\"title\":{\"standoff\":15},\"zerolinecolor\":\"white\",\"zerolinewidth\":2}}},\"title\":{\"text\":\"Distanza tra i piedi\"},\"width\":750,\"xaxis\":{\"title\":{\"font\":{\"color\":\"#7f7f7f\",\"family\":\"Courier New, monospace\",\"size\":18},\"text\":\"time [s]\"}},\"yaxis\":{\"title\":{\"font\":{\"color\":\"#7f7f7f\",\"family\":\"Courier New, monospace\",\"size\":18},\"text\":\"dist [m]\"}}},                        {\"responsive\": true}                    ).then(function(){\n",
       "                            \n",
       "var gd = document.getElementById('f9e58920-c5f4-43d3-ae87-cd960651126a');\n",
       "var x = new MutationObserver(function (mutations, observer) {{\n",
       "        var display = window.getComputedStyle(gd).display;\n",
       "        if (!display || display === 'none') {{\n",
       "            console.log([gd, 'removed!']);\n",
       "            Plotly.purge(gd);\n",
       "            observer.disconnect();\n",
       "        }}\n",
       "}});\n",
       "\n",
       "// Listen for the removal of the full notebook cells\n",
       "var notebookContainer = gd.closest('#notebook-container');\n",
       "if (notebookContainer) {{\n",
       "    x.observe(notebookContainer, {childList: true});\n",
       "}}\n",
       "\n",
       "// Listen for the clearing of the current output cell\n",
       "var outputEl = gd.closest('.output');\n",
       "if (outputEl) {{\n",
       "    x.observe(outputEl, {childList: true});\n",
       "}}\n",
       "\n",
       "                        })                };                });            </script>        </div>"
      ]
     },
     "metadata": {},
     "output_type": "display_data"
    },
    {
     "data": {
      "text/html": [
       "<div>\n",
       "<style scoped>\n",
       "    .dataframe tbody tr th:only-of-type {\n",
       "        vertical-align: middle;\n",
       "    }\n",
       "\n",
       "    .dataframe tbody tr th {\n",
       "        vertical-align: top;\n",
       "    }\n",
       "\n",
       "    .dataframe thead th {\n",
       "        text-align: right;\n",
       "    }\n",
       "</style>\n",
       "<table border=\"1\" class=\"dataframe\">\n",
       "  <thead>\n",
       "    <tr style=\"text-align: right;\">\n",
       "      <th></th>\n",
       "      <th>Gait analysis</th>\n",
       "    </tr>\n",
       "  </thead>\n",
       "  <tbody>\n",
       "    <tr>\n",
       "      <th>Step Length Avg. [m]</th>\n",
       "      <td>2.701530e-01</td>\n",
       "    </tr>\n",
       "    <tr>\n",
       "      <th>Number of steps</th>\n",
       "      <td>3.900000e+01</td>\n",
       "    </tr>\n",
       "    <tr>\n",
       "      <th>Cadence [steps/s]</th>\n",
       "      <td>inf</td>\n",
       "    </tr>\n",
       "    <tr>\n",
       "      <th>Speed [m/s]</th>\n",
       "      <td>inf</td>\n",
       "    </tr>\n",
       "    <tr>\n",
       "      <th>Execution time [s]</th>\n",
       "      <td>1.353937e-318</td>\n",
       "    </tr>\n",
       "  </tbody>\n",
       "</table>\n",
       "</div>"
      ],
      "text/plain": [
       "                      Gait analysis\n",
       "Step Length Avg. [m]   2.701530e-01\n",
       "Number of steps        3.900000e+01\n",
       "Cadence [steps/s]               inf\n",
       "Speed [m/s]                     inf\n",
       "Execution time [s]    1.353937e-318"
      ]
     },
     "metadata": {},
     "output_type": "display_data"
    }
   ],
   "source": [
    "lastsess_time = time[-1]\n",
    "lastsess_result = exercises[-1].result\n",
    "lastsess_res_step = []\n",
    "\n",
    "%matplotlib inline\n",
    "%matplotlib inline\n",
    "for i in range(len(lastsess_result)):\n",
    "    lastsess_met,lastsess_resi = lastsess_result[i]\n",
    "    lastsess_metname = lastsess_met.name\n",
    "    ################\n",
    "    #     ROM      #\n",
    "    ################\n",
    "    if lastsess_metname == \"ROM\":\n",
    "        lastsess_metjoint = lastsess_met.tagjoint\n",
    "        trace1 = go.Scatter(\n",
    "            x=lastsess_time,y=lastsess_resi,\n",
    "            mode='lines',\n",
    "            line=dict(\n",
    "                color='blue',\n",
    "                width=3\n",
    "            ),\n",
    "            name='Andamento Reale'\n",
    "        )\n",
    "        data = [trace1]\n",
    "        layout = dict(\n",
    "            width=750,\n",
    "            height=600,\n",
    "            autosize=False,\n",
    "            title='Range of Motion '+lastsess_metjoint,\n",
    "            font=dict(family='Courier New, monospace', size=22, color='black'),\n",
    "            xaxis=dict(\n",
    "                title='time [s]',\n",
    "                titlefont=dict(\n",
    "                    family='Courier New, monospace',\n",
    "                    size=18,\n",
    "                    color='#7f7f7f'\n",
    "                )\n",
    "            ),\n",
    "            yaxis=dict(\n",
    "                title='ROM [gradi]',\n",
    "                titlefont=dict(\n",
    "                    family='Courier New, monospace',\n",
    "                    size=18,\n",
    "                    color='#7f7f7f'\n",
    "                )\n",
    "            )\n",
    "        )\n",
    "        fig = dict(data=data, layout=layout)\n",
    "        iplot(fig)\n",
    "\n",
    "    ################\n",
    "    #     STEP     #\n",
    "    ################\n",
    "    if lastsess_metname == \"step\":\n",
    "        dist=lastsess_resi[5]\n",
    "        strikes=lastsess_resi[6]\n",
    "        trace1 = go.Scatter(\n",
    "            x=lastsess_time,y=dist,\n",
    "            mode='lines',\n",
    "            line=dict(\n",
    "                color='blue',\n",
    "                width=3\n",
    "            ),\n",
    "            name='Distanza tra i piedi'\n",
    "        )\n",
    "        trace2 = go.Scatter(\n",
    "            x=lastsess_time[strikes],y=dist[strikes],\n",
    "            mode='markers',\n",
    "            marker=dict(\n",
    "                color='red',\n",
    "                size=10\n",
    "            ),\n",
    "            name='Appoggio tallone'\n",
    "        )\n",
    "        data = [trace1,trace2]\n",
    "        layout = dict(\n",
    "            width=750,\n",
    "            height=600,\n",
    "            autosize=False,\n",
    "            title='Distanza tra i piedi',\n",
    "            font=dict(family='Courier New, monospace', size=22, color='black'),\n",
    "            xaxis=dict(\n",
    "                title='time [s]',\n",
    "                titlefont=dict(\n",
    "                    family='Courier New, monospace',\n",
    "                    size=18,\n",
    "                    color='#7f7f7f'\n",
    "                )\n",
    "            ),\n",
    "            yaxis=dict(\n",
    "                title='dist [m]',\n",
    "                titlefont=dict(\n",
    "                    family='Courier New, monospace',\n",
    "                    size=18,\n",
    "                    color='#7f7f7f'\n",
    "                )\n",
    "            )\n",
    "        )\n",
    "        fig = dict(data=data, layout=layout)\n",
    "        iplot(fig)\n",
    "\n",
    "        lastsess_res_step.append(lastsess_resi)\n",
    "        sla = lastsess_res_step[0][8]\n",
    "        ns = lastsess_res_step[0][1]\n",
    "        cad = lastsess_res_step[0][2]\n",
    "        sp = lastsess_res_step[0][3]\n",
    "        ex = lastsess_res_step[0][4]\n",
    "        tablestep = pd.DataFrame([sla, ns, cad, sp, ex])\n",
    "        tablestep.rename(index={0:\"Step Length Avg. [m]\",1:\"Number of steps\",2:\"Cadence [steps/s]\",\n",
    "                                3:\"Speed [m/s]\",4:\"Execution time [s]\"},\n",
    "                         columns={0:\"Gait analysis\"}, inplace=True)\n",
    "        display(tablestep)\n",
    "\n",
    "    ################\n",
    "    #      EP      #\n",
    "    ################\n",
    "    if lastsess_metname == \"EP\":\n",
    "        target = lastsess_met.target\n",
    "        trace1 = go.Scatter3d(\n",
    "            x=lastsess_resi[:,0], y=lastsess_resi[:,1], z=lastsess_resi[:,2],\n",
    "            mode = 'lines',\n",
    "            line=dict(\n",
    "                color='blue',\n",
    "                width=3\n",
    "            ),\n",
    "            name = 'Traiettorie'\n",
    "        )\n",
    "        trace2 = go.Scatter3d(\n",
    "            x=[target[0]], y=[target[1]], z=[target[2]],\n",
    "            mode = 'markers',\n",
    "            marker=dict(\n",
    "                color='red',\n",
    "                size=5\n",
    "            ),\n",
    "            name = 'Target da raggiungere'\n",
    "        )\n",
    "        data = [trace1, trace2]    \n",
    "        layout = dict(\n",
    "            margin=dict(\n",
    "                l=0,\n",
    "                r=0,\n",
    "                b=0\n",
    "            ),\n",
    "            title='Traiettorie End-point',\n",
    "            font=dict(family='Courier New, monospace', size=22, color='black'),\n",
    "            scene=dict(\n",
    "                xaxis=dict(\n",
    "                    title='x [cm]',\n",
    "                    titlefont=dict(\n",
    "                        family='Courier New, monospace',\n",
    "                        size=18,\n",
    "                        color='#7f7f7f'\n",
    "                    ),\n",
    "                    tickfont=dict(\n",
    "                        family='Courier New, monospace',\n",
    "                        size=14,\n",
    "                        color='#7f7f7f'\n",
    "                    ),\n",
    "                    gridcolor='rgb(255, 255, 255)',\n",
    "                    zerolinecolor='rgb(255, 255, 255)',\n",
    "                    showbackground=True,\n",
    "                    backgroundcolor='rgb(230, 230,230)'\n",
    "                ),\n",
    "                yaxis=dict(\n",
    "                    title='y [cm]',\n",
    "                    titlefont=dict(\n",
    "                        family='Courier New, monospace',\n",
    "                        size=18,\n",
    "                        color='#7f7f7f'\n",
    "                    ),\n",
    "                    tickfont=dict(\n",
    "                        family='Courier New, monospace',\n",
    "                        size=14,\n",
    "                        color='#7f7f7f'\n",
    "                    ),\n",
    "                    gridcolor='rgb(255, 255, 255)',\n",
    "                    zerolinecolor='rgb(255, 255, 255)',\n",
    "                    showbackground=True,\n",
    "                    backgroundcolor='rgb(230, 230,230)'\n",
    "                ),\n",
    "                zaxis=dict(\n",
    "                    title='z [cm]',\n",
    "                    titlefont=dict(\n",
    "                        family='Courier New, monospace',\n",
    "                        size=18,\n",
    "                        color='#7f7f7f'\n",
    "                    ),\n",
    "                    tickfont=dict(\n",
    "                        family='Courier New, monospace',\n",
    "                        size=14,\n",
    "                        color='#7f7f7f'\n",
    "                    ),\n",
    "                    gridcolor='rgb(255, 255, 255)',\n",
    "                    zerolinecolor='rgb(255, 255, 255)',\n",
    "                    showbackground=True,\n",
    "                    backgroundcolor='rgb(230, 230,230)'\n",
    "                ),\n",
    "                camera=dict(\n",
    "                    up=dict(\n",
    "                        x=0,\n",
    "                        y=0,\n",
    "                        z=1\n",
    "                    ),\n",
    "                    eye=dict(\n",
    "                        x=-1.7428,\n",
    "                        y=1.0707,\n",
    "                        z=0.7100,\n",
    "                    )\n",
    "                ),\n",
    "                aspectratio = dict( x=1, y=1, z=0.7 ),\n",
    "                aspectmode = 'manual'\n",
    "            ),\n",
    "        )\n",
    "        fig = dict(data=data, layout=layout)\n",
    "        iplot(fig)\n"
   ]
  },
  {
   "cell_type": "code",
   "execution_count": 85,
   "metadata": {
    "scrolled": false
   },
   "outputs": [
    {
     "data": {
      "text/html": [
       "<div>\n",
       "<style scoped>\n",
       "    .dataframe tbody tr th:only-of-type {\n",
       "        vertical-align: middle;\n",
       "    }\n",
       "\n",
       "    .dataframe tbody tr th {\n",
       "        vertical-align: top;\n",
       "    }\n",
       "\n",
       "    .dataframe thead th {\n",
       "        text-align: right;\n",
       "    }\n",
       "</style>\n",
       "<table border=\"1\" class=\"dataframe\">\n",
       "  <thead>\n",
       "    <tr style=\"text-align: right;\">\n",
       "      <th></th>\n",
       "      <th>Tabella TUG</th>\n",
       "    </tr>\n",
       "  </thead>\n",
       "  <tbody>\n",
       "    <tr>\n",
       "      <th>&lt; 10 s</th>\n",
       "      <td>Normale mobilità</td>\n",
       "    </tr>\n",
       "    <tr>\n",
       "      <th>&lt; 20 s</th>\n",
       "      <td>Buona mobilita</td>\n",
       "    </tr>\n",
       "    <tr>\n",
       "      <th>&lt; 30 s</th>\n",
       "      <td>Ausili cammino</td>\n",
       "    </tr>\n",
       "    <tr>\n",
       "      <th>&gt;= 30 s</th>\n",
       "      <td>Rischio caduta</td>\n",
       "    </tr>\n",
       "  </tbody>\n",
       "</table>\n",
       "</div>"
      ],
      "text/plain": [
       "              Tabella TUG\n",
       "< 10 s   Normale mobilità\n",
       "< 20 s     Buona mobilita\n",
       "< 30 s     Ausili cammino\n",
       ">= 30 s    Rischio caduta"
      ]
     },
     "metadata": {},
     "output_type": "display_data"
    },
    {
     "name": "stdout",
     "output_type": "stream",
     "text": [
      "Il test è stato svolto in 0.0 s\n",
      "La valutazione è \u001b[1;30;42m Normale mobilità\n"
     ]
    }
   ],
   "source": [
    "if exname == 'tug':\n",
    "\n",
    "    table_tug = pd.DataFrame([['Normale mobilità'],['Buona mobilita'],['Ausili cammino'],['Rischio caduta']],\n",
    "             index=['< 10 s','< 20 s','< 30 s','>= 30 s'],\n",
    "             columns=['Tabella TUG'])\n",
    "    display(table_tug)\n",
    "\n",
    "    time_score = lastsess_res_step[0][4]\n",
    "    print(\"Il test è stato svolto in\",round(time_score,2),\"s\")\n",
    "    if time_score < 10:\n",
    "        evaluation = 'Normale mobilità'\n",
    "        print(\"La valutazione è \u001b[1;30;42m\",evaluation)\n",
    "    elif time_score < 20:\n",
    "        evaluation = 'Buona mobilità, non necessita ausili'\n",
    "        print(\"La valutazione è \u001b[1;30;42m\",evaluation)\n",
    "    elif time_score < 30:\n",
    "        evaluation = 'Necessita ausili cammino'\n",
    "        print(\"La valutazione è \u001b[1;30;43m\",evaluation)\n",
    "    elif time_score >= 30:\n",
    "        evaluation = 'Rischio caduta'\n",
    "        print(\"La valutazione è \u001b[1;30;41m\",evaluation)\n"
   ]
  },
  {
   "cell_type": "markdown",
   "metadata": {},
   "source": [
    " \n",
    "## Andamento stato clinico"
   ]
  },
  {
   "cell_type": "markdown",
   "metadata": {},
   "source": [
    " \n",
    "Gli esercizi svolti dal paziente nei mesi in analisi sono raggruppati come segue:"
   ]
  },
  {
   "cell_type": "code",
   "execution_count": 86,
   "metadata": {
    "scrolled": false
   },
   "outputs": [
    {
     "data": {
      "application/vnd.plotly.v1+json": {
       "config": {
        "linkText": "Export to plot.ly",
        "plotlyServerURL": "https://plot.ly",
        "showLink": false
       },
       "data": [
        {
         "hole": 0.3,
         "hoverinfo": "label+percent+value",
         "labels": [
          "reaching_left",
          "abduction_left",
          "internal-rotation_left",
          "external-rotation_left",
          "timed-up-and-go"
         ],
         "marker": {
          "colors": [
           "#FEBFB3",
           "#E1396C",
           "#96D38C",
           "#D0F9B1"
          ],
          "line": {
           "color": "#000000",
           "width": 2
          }
         },
         "textfont": {
          "size": 20
         },
         "type": "pie",
         "values": [
          0,
          0,
          0,
          0,
          1
         ]
        }
       ],
       "layout": {
        "template": {
         "data": {
          "bar": [
           {
            "error_x": {
             "color": "#2a3f5f"
            },
            "error_y": {
             "color": "#2a3f5f"
            },
            "marker": {
             "line": {
              "color": "#E5ECF6",
              "width": 0.5
             },
             "pattern": {
              "fillmode": "overlay",
              "size": 10,
              "solidity": 0.2
             }
            },
            "type": "bar"
           }
          ],
          "barpolar": [
           {
            "marker": {
             "line": {
              "color": "#E5ECF6",
              "width": 0.5
             },
             "pattern": {
              "fillmode": "overlay",
              "size": 10,
              "solidity": 0.2
             }
            },
            "type": "barpolar"
           }
          ],
          "carpet": [
           {
            "aaxis": {
             "endlinecolor": "#2a3f5f",
             "gridcolor": "white",
             "linecolor": "white",
             "minorgridcolor": "white",
             "startlinecolor": "#2a3f5f"
            },
            "baxis": {
             "endlinecolor": "#2a3f5f",
             "gridcolor": "white",
             "linecolor": "white",
             "minorgridcolor": "white",
             "startlinecolor": "#2a3f5f"
            },
            "type": "carpet"
           }
          ],
          "choropleth": [
           {
            "colorbar": {
             "outlinewidth": 0,
             "ticks": ""
            },
            "type": "choropleth"
           }
          ],
          "contour": [
           {
            "colorbar": {
             "outlinewidth": 0,
             "ticks": ""
            },
            "colorscale": [
             [
              0,
              "#0d0887"
             ],
             [
              0.1111111111111111,
              "#46039f"
             ],
             [
              0.2222222222222222,
              "#7201a8"
             ],
             [
              0.3333333333333333,
              "#9c179e"
             ],
             [
              0.4444444444444444,
              "#bd3786"
             ],
             [
              0.5555555555555556,
              "#d8576b"
             ],
             [
              0.6666666666666666,
              "#ed7953"
             ],
             [
              0.7777777777777778,
              "#fb9f3a"
             ],
             [
              0.8888888888888888,
              "#fdca26"
             ],
             [
              1,
              "#f0f921"
             ]
            ],
            "type": "contour"
           }
          ],
          "contourcarpet": [
           {
            "colorbar": {
             "outlinewidth": 0,
             "ticks": ""
            },
            "type": "contourcarpet"
           }
          ],
          "heatmap": [
           {
            "colorbar": {
             "outlinewidth": 0,
             "ticks": ""
            },
            "colorscale": [
             [
              0,
              "#0d0887"
             ],
             [
              0.1111111111111111,
              "#46039f"
             ],
             [
              0.2222222222222222,
              "#7201a8"
             ],
             [
              0.3333333333333333,
              "#9c179e"
             ],
             [
              0.4444444444444444,
              "#bd3786"
             ],
             [
              0.5555555555555556,
              "#d8576b"
             ],
             [
              0.6666666666666666,
              "#ed7953"
             ],
             [
              0.7777777777777778,
              "#fb9f3a"
             ],
             [
              0.8888888888888888,
              "#fdca26"
             ],
             [
              1,
              "#f0f921"
             ]
            ],
            "type": "heatmap"
           }
          ],
          "heatmapgl": [
           {
            "colorbar": {
             "outlinewidth": 0,
             "ticks": ""
            },
            "colorscale": [
             [
              0,
              "#0d0887"
             ],
             [
              0.1111111111111111,
              "#46039f"
             ],
             [
              0.2222222222222222,
              "#7201a8"
             ],
             [
              0.3333333333333333,
              "#9c179e"
             ],
             [
              0.4444444444444444,
              "#bd3786"
             ],
             [
              0.5555555555555556,
              "#d8576b"
             ],
             [
              0.6666666666666666,
              "#ed7953"
             ],
             [
              0.7777777777777778,
              "#fb9f3a"
             ],
             [
              0.8888888888888888,
              "#fdca26"
             ],
             [
              1,
              "#f0f921"
             ]
            ],
            "type": "heatmapgl"
           }
          ],
          "histogram": [
           {
            "marker": {
             "pattern": {
              "fillmode": "overlay",
              "size": 10,
              "solidity": 0.2
             }
            },
            "type": "histogram"
           }
          ],
          "histogram2d": [
           {
            "colorbar": {
             "outlinewidth": 0,
             "ticks": ""
            },
            "colorscale": [
             [
              0,
              "#0d0887"
             ],
             [
              0.1111111111111111,
              "#46039f"
             ],
             [
              0.2222222222222222,
              "#7201a8"
             ],
             [
              0.3333333333333333,
              "#9c179e"
             ],
             [
              0.4444444444444444,
              "#bd3786"
             ],
             [
              0.5555555555555556,
              "#d8576b"
             ],
             [
              0.6666666666666666,
              "#ed7953"
             ],
             [
              0.7777777777777778,
              "#fb9f3a"
             ],
             [
              0.8888888888888888,
              "#fdca26"
             ],
             [
              1,
              "#f0f921"
             ]
            ],
            "type": "histogram2d"
           }
          ],
          "histogram2dcontour": [
           {
            "colorbar": {
             "outlinewidth": 0,
             "ticks": ""
            },
            "colorscale": [
             [
              0,
              "#0d0887"
             ],
             [
              0.1111111111111111,
              "#46039f"
             ],
             [
              0.2222222222222222,
              "#7201a8"
             ],
             [
              0.3333333333333333,
              "#9c179e"
             ],
             [
              0.4444444444444444,
              "#bd3786"
             ],
             [
              0.5555555555555556,
              "#d8576b"
             ],
             [
              0.6666666666666666,
              "#ed7953"
             ],
             [
              0.7777777777777778,
              "#fb9f3a"
             ],
             [
              0.8888888888888888,
              "#fdca26"
             ],
             [
              1,
              "#f0f921"
             ]
            ],
            "type": "histogram2dcontour"
           }
          ],
          "mesh3d": [
           {
            "colorbar": {
             "outlinewidth": 0,
             "ticks": ""
            },
            "type": "mesh3d"
           }
          ],
          "parcoords": [
           {
            "line": {
             "colorbar": {
              "outlinewidth": 0,
              "ticks": ""
             }
            },
            "type": "parcoords"
           }
          ],
          "pie": [
           {
            "automargin": true,
            "type": "pie"
           }
          ],
          "scatter": [
           {
            "fillpattern": {
             "fillmode": "overlay",
             "size": 10,
             "solidity": 0.2
            },
            "type": "scatter"
           }
          ],
          "scatter3d": [
           {
            "line": {
             "colorbar": {
              "outlinewidth": 0,
              "ticks": ""
             }
            },
            "marker": {
             "colorbar": {
              "outlinewidth": 0,
              "ticks": ""
             }
            },
            "type": "scatter3d"
           }
          ],
          "scattercarpet": [
           {
            "marker": {
             "colorbar": {
              "outlinewidth": 0,
              "ticks": ""
             }
            },
            "type": "scattercarpet"
           }
          ],
          "scattergeo": [
           {
            "marker": {
             "colorbar": {
              "outlinewidth": 0,
              "ticks": ""
             }
            },
            "type": "scattergeo"
           }
          ],
          "scattergl": [
           {
            "marker": {
             "colorbar": {
              "outlinewidth": 0,
              "ticks": ""
             }
            },
            "type": "scattergl"
           }
          ],
          "scattermapbox": [
           {
            "marker": {
             "colorbar": {
              "outlinewidth": 0,
              "ticks": ""
             }
            },
            "type": "scattermapbox"
           }
          ],
          "scatterpolar": [
           {
            "marker": {
             "colorbar": {
              "outlinewidth": 0,
              "ticks": ""
             }
            },
            "type": "scatterpolar"
           }
          ],
          "scatterpolargl": [
           {
            "marker": {
             "colorbar": {
              "outlinewidth": 0,
              "ticks": ""
             }
            },
            "type": "scatterpolargl"
           }
          ],
          "scatterternary": [
           {
            "marker": {
             "colorbar": {
              "outlinewidth": 0,
              "ticks": ""
             }
            },
            "type": "scatterternary"
           }
          ],
          "surface": [
           {
            "colorbar": {
             "outlinewidth": 0,
             "ticks": ""
            },
            "colorscale": [
             [
              0,
              "#0d0887"
             ],
             [
              0.1111111111111111,
              "#46039f"
             ],
             [
              0.2222222222222222,
              "#7201a8"
             ],
             [
              0.3333333333333333,
              "#9c179e"
             ],
             [
              0.4444444444444444,
              "#bd3786"
             ],
             [
              0.5555555555555556,
              "#d8576b"
             ],
             [
              0.6666666666666666,
              "#ed7953"
             ],
             [
              0.7777777777777778,
              "#fb9f3a"
             ],
             [
              0.8888888888888888,
              "#fdca26"
             ],
             [
              1,
              "#f0f921"
             ]
            ],
            "type": "surface"
           }
          ],
          "table": [
           {
            "cells": {
             "fill": {
              "color": "#EBF0F8"
             },
             "line": {
              "color": "white"
             }
            },
            "header": {
             "fill": {
              "color": "#C8D4E3"
             },
             "line": {
              "color": "white"
             }
            },
            "type": "table"
           }
          ]
         },
         "layout": {
          "annotationdefaults": {
           "arrowcolor": "#2a3f5f",
           "arrowhead": 0,
           "arrowwidth": 1
          },
          "autotypenumbers": "strict",
          "coloraxis": {
           "colorbar": {
            "outlinewidth": 0,
            "ticks": ""
           }
          },
          "colorscale": {
           "diverging": [
            [
             0,
             "#8e0152"
            ],
            [
             0.1,
             "#c51b7d"
            ],
            [
             0.2,
             "#de77ae"
            ],
            [
             0.3,
             "#f1b6da"
            ],
            [
             0.4,
             "#fde0ef"
            ],
            [
             0.5,
             "#f7f7f7"
            ],
            [
             0.6,
             "#e6f5d0"
            ],
            [
             0.7,
             "#b8e186"
            ],
            [
             0.8,
             "#7fbc41"
            ],
            [
             0.9,
             "#4d9221"
            ],
            [
             1,
             "#276419"
            ]
           ],
           "sequential": [
            [
             0,
             "#0d0887"
            ],
            [
             0.1111111111111111,
             "#46039f"
            ],
            [
             0.2222222222222222,
             "#7201a8"
            ],
            [
             0.3333333333333333,
             "#9c179e"
            ],
            [
             0.4444444444444444,
             "#bd3786"
            ],
            [
             0.5555555555555556,
             "#d8576b"
            ],
            [
             0.6666666666666666,
             "#ed7953"
            ],
            [
             0.7777777777777778,
             "#fb9f3a"
            ],
            [
             0.8888888888888888,
             "#fdca26"
            ],
            [
             1,
             "#f0f921"
            ]
           ],
           "sequentialminus": [
            [
             0,
             "#0d0887"
            ],
            [
             0.1111111111111111,
             "#46039f"
            ],
            [
             0.2222222222222222,
             "#7201a8"
            ],
            [
             0.3333333333333333,
             "#9c179e"
            ],
            [
             0.4444444444444444,
             "#bd3786"
            ],
            [
             0.5555555555555556,
             "#d8576b"
            ],
            [
             0.6666666666666666,
             "#ed7953"
            ],
            [
             0.7777777777777778,
             "#fb9f3a"
            ],
            [
             0.8888888888888888,
             "#fdca26"
            ],
            [
             1,
             "#f0f921"
            ]
           ]
          },
          "colorway": [
           "#636efa",
           "#EF553B",
           "#00cc96",
           "#ab63fa",
           "#FFA15A",
           "#19d3f3",
           "#FF6692",
           "#B6E880",
           "#FF97FF",
           "#FECB52"
          ],
          "font": {
           "color": "#2a3f5f"
          },
          "geo": {
           "bgcolor": "white",
           "lakecolor": "white",
           "landcolor": "#E5ECF6",
           "showlakes": true,
           "showland": true,
           "subunitcolor": "white"
          },
          "hoverlabel": {
           "align": "left"
          },
          "hovermode": "closest",
          "mapbox": {
           "style": "light"
          },
          "paper_bgcolor": "white",
          "plot_bgcolor": "#E5ECF6",
          "polar": {
           "angularaxis": {
            "gridcolor": "white",
            "linecolor": "white",
            "ticks": ""
           },
           "bgcolor": "#E5ECF6",
           "radialaxis": {
            "gridcolor": "white",
            "linecolor": "white",
            "ticks": ""
           }
          },
          "scene": {
           "xaxis": {
            "backgroundcolor": "#E5ECF6",
            "gridcolor": "white",
            "gridwidth": 2,
            "linecolor": "white",
            "showbackground": true,
            "ticks": "",
            "zerolinecolor": "white"
           },
           "yaxis": {
            "backgroundcolor": "#E5ECF6",
            "gridcolor": "white",
            "gridwidth": 2,
            "linecolor": "white",
            "showbackground": true,
            "ticks": "",
            "zerolinecolor": "white"
           },
           "zaxis": {
            "backgroundcolor": "#E5ECF6",
            "gridcolor": "white",
            "gridwidth": 2,
            "linecolor": "white",
            "showbackground": true,
            "ticks": "",
            "zerolinecolor": "white"
           }
          },
          "shapedefaults": {
           "line": {
            "color": "#2a3f5f"
           }
          },
          "ternary": {
           "aaxis": {
            "gridcolor": "white",
            "linecolor": "white",
            "ticks": ""
           },
           "baxis": {
            "gridcolor": "white",
            "linecolor": "white",
            "ticks": ""
           },
           "bgcolor": "#E5ECF6",
           "caxis": {
            "gridcolor": "white",
            "linecolor": "white",
            "ticks": ""
           }
          },
          "title": {
           "x": 0.05
          },
          "xaxis": {
           "automargin": true,
           "gridcolor": "white",
           "linecolor": "white",
           "ticks": "",
           "title": {
            "standoff": 15
           },
           "zerolinecolor": "white",
           "zerolinewidth": 2
          },
          "yaxis": {
           "automargin": true,
           "gridcolor": "white",
           "linecolor": "white",
           "ticks": "",
           "title": {
            "standoff": 15
           },
           "zerolinecolor": "white",
           "zerolinewidth": 2
          }
         }
        },
        "title": {
         "text": "Performed exercises"
        }
       }
      },
      "text/html": [
       "<div>                            <div id=\"7ca58c84-c58e-4982-867d-d576801a374e\" class=\"plotly-graph-div\" style=\"height:525px; width:100%;\"></div>            <script type=\"text/javascript\">                require([\"plotly\"], function(Plotly) {                    window.PLOTLYENV=window.PLOTLYENV || {};                                    if (document.getElementById(\"7ca58c84-c58e-4982-867d-d576801a374e\")) {                    Plotly.newPlot(                        \"7ca58c84-c58e-4982-867d-d576801a374e\",                        [{\"hole\":0.3,\"hoverinfo\":\"label+percent+value\",\"labels\":[\"reaching_left\",\"abduction_left\",\"internal-rotation_left\",\"external-rotation_left\",\"timed-up-and-go\"],\"marker\":{\"colors\":[\"#FEBFB3\",\"#E1396C\",\"#96D38C\",\"#D0F9B1\"],\"line\":{\"color\":\"#000000\",\"width\":2}},\"textfont\":{\"size\":20},\"values\":[0,0,0,0,1],\"type\":\"pie\"}],                        {\"template\":{\"data\":{\"barpolar\":[{\"marker\":{\"line\":{\"color\":\"#E5ECF6\",\"width\":0.5},\"pattern\":{\"fillmode\":\"overlay\",\"size\":10,\"solidity\":0.2}},\"type\":\"barpolar\"}],\"bar\":[{\"error_x\":{\"color\":\"#2a3f5f\"},\"error_y\":{\"color\":\"#2a3f5f\"},\"marker\":{\"line\":{\"color\":\"#E5ECF6\",\"width\":0.5},\"pattern\":{\"fillmode\":\"overlay\",\"size\":10,\"solidity\":0.2}},\"type\":\"bar\"}],\"carpet\":[{\"aaxis\":{\"endlinecolor\":\"#2a3f5f\",\"gridcolor\":\"white\",\"linecolor\":\"white\",\"minorgridcolor\":\"white\",\"startlinecolor\":\"#2a3f5f\"},\"baxis\":{\"endlinecolor\":\"#2a3f5f\",\"gridcolor\":\"white\",\"linecolor\":\"white\",\"minorgridcolor\":\"white\",\"startlinecolor\":\"#2a3f5f\"},\"type\":\"carpet\"}],\"choropleth\":[{\"colorbar\":{\"outlinewidth\":0,\"ticks\":\"\"},\"type\":\"choropleth\"}],\"contourcarpet\":[{\"colorbar\":{\"outlinewidth\":0,\"ticks\":\"\"},\"type\":\"contourcarpet\"}],\"contour\":[{\"colorbar\":{\"outlinewidth\":0,\"ticks\":\"\"},\"colorscale\":[[0.0,\"#0d0887\"],[0.1111111111111111,\"#46039f\"],[0.2222222222222222,\"#7201a8\"],[0.3333333333333333,\"#9c179e\"],[0.4444444444444444,\"#bd3786\"],[0.5555555555555556,\"#d8576b\"],[0.6666666666666666,\"#ed7953\"],[0.7777777777777778,\"#fb9f3a\"],[0.8888888888888888,\"#fdca26\"],[1.0,\"#f0f921\"]],\"type\":\"contour\"}],\"heatmapgl\":[{\"colorbar\":{\"outlinewidth\":0,\"ticks\":\"\"},\"colorscale\":[[0.0,\"#0d0887\"],[0.1111111111111111,\"#46039f\"],[0.2222222222222222,\"#7201a8\"],[0.3333333333333333,\"#9c179e\"],[0.4444444444444444,\"#bd3786\"],[0.5555555555555556,\"#d8576b\"],[0.6666666666666666,\"#ed7953\"],[0.7777777777777778,\"#fb9f3a\"],[0.8888888888888888,\"#fdca26\"],[1.0,\"#f0f921\"]],\"type\":\"heatmapgl\"}],\"heatmap\":[{\"colorbar\":{\"outlinewidth\":0,\"ticks\":\"\"},\"colorscale\":[[0.0,\"#0d0887\"],[0.1111111111111111,\"#46039f\"],[0.2222222222222222,\"#7201a8\"],[0.3333333333333333,\"#9c179e\"],[0.4444444444444444,\"#bd3786\"],[0.5555555555555556,\"#d8576b\"],[0.6666666666666666,\"#ed7953\"],[0.7777777777777778,\"#fb9f3a\"],[0.8888888888888888,\"#fdca26\"],[1.0,\"#f0f921\"]],\"type\":\"heatmap\"}],\"histogram2dcontour\":[{\"colorbar\":{\"outlinewidth\":0,\"ticks\":\"\"},\"colorscale\":[[0.0,\"#0d0887\"],[0.1111111111111111,\"#46039f\"],[0.2222222222222222,\"#7201a8\"],[0.3333333333333333,\"#9c179e\"],[0.4444444444444444,\"#bd3786\"],[0.5555555555555556,\"#d8576b\"],[0.6666666666666666,\"#ed7953\"],[0.7777777777777778,\"#fb9f3a\"],[0.8888888888888888,\"#fdca26\"],[1.0,\"#f0f921\"]],\"type\":\"histogram2dcontour\"}],\"histogram2d\":[{\"colorbar\":{\"outlinewidth\":0,\"ticks\":\"\"},\"colorscale\":[[0.0,\"#0d0887\"],[0.1111111111111111,\"#46039f\"],[0.2222222222222222,\"#7201a8\"],[0.3333333333333333,\"#9c179e\"],[0.4444444444444444,\"#bd3786\"],[0.5555555555555556,\"#d8576b\"],[0.6666666666666666,\"#ed7953\"],[0.7777777777777778,\"#fb9f3a\"],[0.8888888888888888,\"#fdca26\"],[1.0,\"#f0f921\"]],\"type\":\"histogram2d\"}],\"histogram\":[{\"marker\":{\"pattern\":{\"fillmode\":\"overlay\",\"size\":10,\"solidity\":0.2}},\"type\":\"histogram\"}],\"mesh3d\":[{\"colorbar\":{\"outlinewidth\":0,\"ticks\":\"\"},\"type\":\"mesh3d\"}],\"parcoords\":[{\"line\":{\"colorbar\":{\"outlinewidth\":0,\"ticks\":\"\"}},\"type\":\"parcoords\"}],\"pie\":[{\"automargin\":true,\"type\":\"pie\"}],\"scatter3d\":[{\"line\":{\"colorbar\":{\"outlinewidth\":0,\"ticks\":\"\"}},\"marker\":{\"colorbar\":{\"outlinewidth\":0,\"ticks\":\"\"}},\"type\":\"scatter3d\"}],\"scattercarpet\":[{\"marker\":{\"colorbar\":{\"outlinewidth\":0,\"ticks\":\"\"}},\"type\":\"scattercarpet\"}],\"scattergeo\":[{\"marker\":{\"colorbar\":{\"outlinewidth\":0,\"ticks\":\"\"}},\"type\":\"scattergeo\"}],\"scattergl\":[{\"marker\":{\"colorbar\":{\"outlinewidth\":0,\"ticks\":\"\"}},\"type\":\"scattergl\"}],\"scattermapbox\":[{\"marker\":{\"colorbar\":{\"outlinewidth\":0,\"ticks\":\"\"}},\"type\":\"scattermapbox\"}],\"scatterpolargl\":[{\"marker\":{\"colorbar\":{\"outlinewidth\":0,\"ticks\":\"\"}},\"type\":\"scatterpolargl\"}],\"scatterpolar\":[{\"marker\":{\"colorbar\":{\"outlinewidth\":0,\"ticks\":\"\"}},\"type\":\"scatterpolar\"}],\"scatter\":[{\"fillpattern\":{\"fillmode\":\"overlay\",\"size\":10,\"solidity\":0.2},\"type\":\"scatter\"}],\"scatterternary\":[{\"marker\":{\"colorbar\":{\"outlinewidth\":0,\"ticks\":\"\"}},\"type\":\"scatterternary\"}],\"surface\":[{\"colorbar\":{\"outlinewidth\":0,\"ticks\":\"\"},\"colorscale\":[[0.0,\"#0d0887\"],[0.1111111111111111,\"#46039f\"],[0.2222222222222222,\"#7201a8\"],[0.3333333333333333,\"#9c179e\"],[0.4444444444444444,\"#bd3786\"],[0.5555555555555556,\"#d8576b\"],[0.6666666666666666,\"#ed7953\"],[0.7777777777777778,\"#fb9f3a\"],[0.8888888888888888,\"#fdca26\"],[1.0,\"#f0f921\"]],\"type\":\"surface\"}],\"table\":[{\"cells\":{\"fill\":{\"color\":\"#EBF0F8\"},\"line\":{\"color\":\"white\"}},\"header\":{\"fill\":{\"color\":\"#C8D4E3\"},\"line\":{\"color\":\"white\"}},\"type\":\"table\"}]},\"layout\":{\"annotationdefaults\":{\"arrowcolor\":\"#2a3f5f\",\"arrowhead\":0,\"arrowwidth\":1},\"autotypenumbers\":\"strict\",\"coloraxis\":{\"colorbar\":{\"outlinewidth\":0,\"ticks\":\"\"}},\"colorscale\":{\"diverging\":[[0,\"#8e0152\"],[0.1,\"#c51b7d\"],[0.2,\"#de77ae\"],[0.3,\"#f1b6da\"],[0.4,\"#fde0ef\"],[0.5,\"#f7f7f7\"],[0.6,\"#e6f5d0\"],[0.7,\"#b8e186\"],[0.8,\"#7fbc41\"],[0.9,\"#4d9221\"],[1,\"#276419\"]],\"sequential\":[[0.0,\"#0d0887\"],[0.1111111111111111,\"#46039f\"],[0.2222222222222222,\"#7201a8\"],[0.3333333333333333,\"#9c179e\"],[0.4444444444444444,\"#bd3786\"],[0.5555555555555556,\"#d8576b\"],[0.6666666666666666,\"#ed7953\"],[0.7777777777777778,\"#fb9f3a\"],[0.8888888888888888,\"#fdca26\"],[1.0,\"#f0f921\"]],\"sequentialminus\":[[0.0,\"#0d0887\"],[0.1111111111111111,\"#46039f\"],[0.2222222222222222,\"#7201a8\"],[0.3333333333333333,\"#9c179e\"],[0.4444444444444444,\"#bd3786\"],[0.5555555555555556,\"#d8576b\"],[0.6666666666666666,\"#ed7953\"],[0.7777777777777778,\"#fb9f3a\"],[0.8888888888888888,\"#fdca26\"],[1.0,\"#f0f921\"]]},\"colorway\":[\"#636efa\",\"#EF553B\",\"#00cc96\",\"#ab63fa\",\"#FFA15A\",\"#19d3f3\",\"#FF6692\",\"#B6E880\",\"#FF97FF\",\"#FECB52\"],\"font\":{\"color\":\"#2a3f5f\"},\"geo\":{\"bgcolor\":\"white\",\"lakecolor\":\"white\",\"landcolor\":\"#E5ECF6\",\"showlakes\":true,\"showland\":true,\"subunitcolor\":\"white\"},\"hoverlabel\":{\"align\":\"left\"},\"hovermode\":\"closest\",\"mapbox\":{\"style\":\"light\"},\"paper_bgcolor\":\"white\",\"plot_bgcolor\":\"#E5ECF6\",\"polar\":{\"angularaxis\":{\"gridcolor\":\"white\",\"linecolor\":\"white\",\"ticks\":\"\"},\"bgcolor\":\"#E5ECF6\",\"radialaxis\":{\"gridcolor\":\"white\",\"linecolor\":\"white\",\"ticks\":\"\"}},\"scene\":{\"xaxis\":{\"backgroundcolor\":\"#E5ECF6\",\"gridcolor\":\"white\",\"gridwidth\":2,\"linecolor\":\"white\",\"showbackground\":true,\"ticks\":\"\",\"zerolinecolor\":\"white\"},\"yaxis\":{\"backgroundcolor\":\"#E5ECF6\",\"gridcolor\":\"white\",\"gridwidth\":2,\"linecolor\":\"white\",\"showbackground\":true,\"ticks\":\"\",\"zerolinecolor\":\"white\"},\"zaxis\":{\"backgroundcolor\":\"#E5ECF6\",\"gridcolor\":\"white\",\"gridwidth\":2,\"linecolor\":\"white\",\"showbackground\":true,\"ticks\":\"\",\"zerolinecolor\":\"white\"}},\"shapedefaults\":{\"line\":{\"color\":\"#2a3f5f\"}},\"ternary\":{\"aaxis\":{\"gridcolor\":\"white\",\"linecolor\":\"white\",\"ticks\":\"\"},\"baxis\":{\"gridcolor\":\"white\",\"linecolor\":\"white\",\"ticks\":\"\"},\"bgcolor\":\"#E5ECF6\",\"caxis\":{\"gridcolor\":\"white\",\"linecolor\":\"white\",\"ticks\":\"\"}},\"title\":{\"x\":0.05},\"xaxis\":{\"automargin\":true,\"gridcolor\":\"white\",\"linecolor\":\"white\",\"ticks\":\"\",\"title\":{\"standoff\":15},\"zerolinecolor\":\"white\",\"zerolinewidth\":2},\"yaxis\":{\"automargin\":true,\"gridcolor\":\"white\",\"linecolor\":\"white\",\"ticks\":\"\",\"title\":{\"standoff\":15},\"zerolinecolor\":\"white\",\"zerolinewidth\":2}}},\"title\":{\"text\":\"Performed exercises\"}},                        {\"responsive\": true}                    ).then(function(){\n",
       "                            \n",
       "var gd = document.getElementById('7ca58c84-c58e-4982-867d-d576801a374e');\n",
       "var x = new MutationObserver(function (mutations, observer) {{\n",
       "        var display = window.getComputedStyle(gd).display;\n",
       "        if (!display || display === 'none') {{\n",
       "            console.log([gd, 'removed!']);\n",
       "            Plotly.purge(gd);\n",
       "            observer.disconnect();\n",
       "        }}\n",
       "}});\n",
       "\n",
       "// Listen for the removal of the full notebook cells\n",
       "var notebookContainer = gd.closest('#notebook-container');\n",
       "if (notebookContainer) {{\n",
       "    x.observe(notebookContainer, {childList: true});\n",
       "}}\n",
       "\n",
       "// Listen for the clearing of the current output cell\n",
       "var outputEl = gd.closest('.output');\n",
       "if (outputEl) {{\n",
       "    x.observe(outputEl, {childList: true});\n",
       "}}\n",
       "\n",
       "                        })                };                });            </script>        </div>"
      ]
     },
     "metadata": {},
     "output_type": "display_data"
    }
   ],
   "source": [
    "labels = [\"reaching_left\",\"abduction_left\",\"internal-rotation_left\",\"external-rotation_left\",\"timed-up-and-go\"]\n",
    "values = [tagex.count(\"reaching_left\"), tagex.count(\"abduction_left\"), tagex.count(\"internal_rotation_left\"), \n",
    "          tagex.count(\"external_rotation_left\"), tagex.count(\"tug\")]\n",
    "colors = ['#FEBFB3', '#E1396C', '#96D38C', '#D0F9B1']\n",
    "\n",
    "trace = go.Pie(labels=labels, values=values,\n",
    "               #hoverinfo='label+percent', textinfo='value', \n",
    "               textfont=dict(size=20),\n",
    "               marker=dict(colors=colors, \n",
    "                           line=dict(color='#000000', width=2)),\n",
    "               hoverinfo=\"label+percent+value\",\n",
    "               hole=0.3\n",
    "              )\n",
    "layout = go.Layout(\n",
    "        title=\"Performed exercises\",\n",
    ")\n",
    "data = [trace]\n",
    "fig = go.Figure(data=data,layout=layout)\n",
    "iplot(fig)   "
   ]
  },
  {
   "cell_type": "markdown",
   "metadata": {},
   "source": [
    " \n",
    "Di seguito, si riportano gli andamenti delle metriche del paziente, raggruppati per mese: "
   ]
  },
  {
   "cell_type": "code",
   "execution_count": 87,
   "metadata": {
    "scrolled": false
   },
   "outputs": [],
   "source": [
    "keyp2rommax = {\n",
    "    \"shoulderCenter\" : [0,0,0,0,0,0,0,0,0,0,0,0],\n",
    "    \"head\" : [0,0,0,0,0,0,0,0,0,0,0,0],\n",
    "    \"shoulderLeft\" : [0,0,0,0,0,0,0,0,0,0,0,0],\n",
    "    \"elbowLeft\" : [0,0,0,0,0,0,0,0,0,0,0,0],\n",
    "    \"handLeft\" : [0,0,0,0,0,0,0,0,0,0,0,0],\n",
    "    \"shoulderRight\" : [0,0,0,0,0,0,0,0,0,0,0,0],\n",
    "    \"elbowRight\" : [0,0,0,0,0,0,0,0,0,0,0,0],\n",
    "    \"handRight\" : [0,0,0,0,0,0,0,0,0,0,0,0],\n",
    "    \"hipCenter\" : [0,0,0,0,0,0,0,0,0,0,0,0],\n",
    "    \"hipLeft\" : [0,0,0,0,0,0,0,0,0,0,0,0],\n",
    "    \"kneeLeft\" : [0,0,0,0,0,0,0,0,0,0,0,0],\n",
    "    \"ankleLeft\" : [0,0,0,0,0,0,0,0,0,0,0,0],\n",
    "    \"footLeft\" : [0,0,0,0,0,0,0,0,0,0,0,0],\n",
    "    \"hipRight\" : [0,0,0,0,0,0,0,0,0,0,0,0],\n",
    "    \"kneeRight\" : [0,0,0,0,0,0,0,0,0,0,0,0],\n",
    "    \"ankleRight\" : [0,0,0,0,0,0,0,0,0,0,0,0],\n",
    "    \"footRight\" : [0,0,0,0,0,0,0,0,0,0,0,0]\n",
    "}\n",
    "keyp2rommin = {\n",
    "    \"shoulderCenter\" : [0,0,0,0,0,0,0,0,0,0,0,0],\n",
    "    \"head\" : [0,0,0,0,0,0,0,0,0,0,0,0],\n",
    "    \"shoulderLeft\" : [0,0,0,0,0,0,0,0,0,0,0,0],\n",
    "    \"elbowLeft\" : [0,0,0,0,0,0,0,0,0,0,0,0],\n",
    "    \"handLeft\" : [0,0,0,0,0,0,0,0,0,0,0,0],\n",
    "    \"shoulderRight\" : [0,0,0,0,0,0,0,0,0,0,0,0],\n",
    "    \"elbowRight\" : [0,0,0,0,0,0,0,0,0,0,0,0],\n",
    "    \"handRight\" : [0,0,0,0,0,0,0,0,0,0,0,0],\n",
    "    \"hipCenter\" : [0,0,0,0,0,0,0,0,0,0,0,0],\n",
    "    \"hipLeft\" : [0,0,0,0,0,0,0,0,0,0,0,0],\n",
    "    \"kneeLeft\" : [0,0,0,0,0,0,0,0,0,0,0,0],\n",
    "    \"ankleLeft\" : [0,0,0,0,0,0,0,0,0,0,0,0],\n",
    "    \"footLeft\" : [0,0,0,0,0,0,0,0,0,0,0,0],\n",
    "    \"hipRight\" : [0,0,0,0,0,0,0,0,0,0,0,0],\n",
    "    \"kneeRight\" : [0,0,0,0,0,0,0,0,0,0,0,0],\n",
    "    \"ankleRight\" : [0,0,0,0,0,0,0,0,0,0,0,0],\n",
    "    \"footRight\" : [0,0,0,0,0,0,0,0,0,0,0,0]\n",
    "}\n",
    "countrommonth = {\n",
    "    \"shoulderCenter\" : [0,0,0,0,0,0,0,0,0,0,0,0],\n",
    "    \"head\" : [0,0,0,0,0,0,0,0,0,0,0,0],\n",
    "    \"shoulderLeft\" : [0,0,0,0,0,0,0,0,0,0,0,0],\n",
    "    \"elbowLeft\" : [0,0,0,0,0,0,0,0,0,0,0,0],\n",
    "    \"handLeft\" : [0,0,0,0,0,0,0,0,0,0,0,0],\n",
    "    \"shoulderRight\" : [0,0,0,0,0,0,0,0,0,0,0,0],\n",
    "    \"elbowRight\" : [0,0,0,0,0,0,0,0,0,0,0,0],\n",
    "    \"handRight\" : [0,0,0,0,0,0,0,0,0,0,0,0],\n",
    "    \"hipCenter\" : [0,0,0,0,0,0,0,0,0,0,0,0],\n",
    "    \"hipLeft\" : [0,0,0,0,0,0,0,0,0,0,0,0],\n",
    "    \"kneeLeft\" : [0,0,0,0,0,0,0,0,0,0,0,0],\n",
    "    \"ankleLeft\" : [0,0,0,0,0,0,0,0,0,0,0,0],\n",
    "    \"footLeft\" : [0,0,0,0,0,0,0,0,0,0,0,0],\n",
    "    \"hipRight\" : [0,0,0,0,0,0,0,0,0,0,0,0],\n",
    "    \"kneeRight\" : [0,0,0,0,0,0,0,0,0,0,0,0],\n",
    "    \"ankleRight\" : [0,0,0,0,0,0,0,0,0,0,0,0],\n",
    "    \"footRight\" : [0,0,0,0,0,0,0,0,0,0,0,0]\n",
    "}\n",
    "keyp2rommax_avg = {\n",
    "    \"shoulderCenter\" : [0,0,0,0,0,0,0,0,0,0,0,0],\n",
    "    \"head\" : [0,0,0,0,0,0,0,0,0,0,0,0],\n",
    "    \"shoulderLeft\" : [0,0,0,0,0,0,0,0,0,0,0,0],\n",
    "    \"elbowLeft\" : [0,0,0,0,0,0,0,0,0,0,0,0],\n",
    "    \"handLeft\" : [0,0,0,0,0,0,0,0,0,0,0,0],\n",
    "    \"shoulderRight\" : [0,0,0,0,0,0,0,0,0,0,0,0],\n",
    "    \"elbowRight\" : [0,0,0,0,0,0,0,0,0,0,0,0],\n",
    "    \"handRight\" : [0,0,0,0,0,0,0,0,0,0,0,0],\n",
    "    \"hipCenter\" : [0,0,0,0,0,0,0,0,0,0,0,0],\n",
    "    \"hipLeft\" : [0,0,0,0,0,0,0,0,0,0,0,0],\n",
    "    \"kneeLeft\" : [0,0,0,0,0,0,0,0,0,0,0,0],\n",
    "    \"ankleLeft\" : [0,0,0,0,0,0,0,0,0,0,0,0],\n",
    "    \"footLeft\" : [0,0,0,0,0,0,0,0,0,0,0,0],\n",
    "    \"hipRight\" : [0,0,0,0,0,0,0,0,0,0,0,0],\n",
    "    \"kneeRight\" : [0,0,0,0,0,0,0,0,0,0,0,0],\n",
    "    \"ankleRight\" : [0,0,0,0,0,0,0,0,0,0,0,0],\n",
    "    \"footRight\" : [0,0,0,0,0,0,0,0,0,0,0,0]\n",
    "}\n",
    "keyp2rommin_avg = {\n",
    "    \"shoulderCenter\" : [0,0,0,0,0,0,0,0,0,0,0,0],\n",
    "    \"head\" : [0,0,0,0,0,0,0,0,0,0,0,0],\n",
    "    \"shoulderLeft\" : [0,0,0,0,0,0,0,0,0,0,0,0],\n",
    "    \"elbowLeft\" : [0,0,0,0,0,0,0,0,0,0,0,0],\n",
    "    \"handLeft\" : [0,0,0,0,0,0,0,0,0,0,0,0],\n",
    "    \"shoulderRight\" : [0,0,0,0,0,0,0,0,0,0,0,0],\n",
    "    \"elbowRight\" : [0,0,0,0,0,0,0,0,0,0,0,0],\n",
    "    \"handRight\" : [0,0,0,0,0,0,0,0,0,0,0,0],\n",
    "    \"hipCenter\" : [0,0,0,0,0,0,0,0,0,0,0,0],\n",
    "    \"hipLeft\" : [0,0,0,0,0,0,0,0,0,0,0,0],\n",
    "    \"kneeLeft\" : [0,0,0,0,0,0,0,0,0,0,0,0],\n",
    "    \"ankleLeft\" : [0,0,0,0,0,0,0,0,0,0,0,0],\n",
    "    \"footLeft\" : [0,0,0,0,0,0,0,0,0,0,0,0],\n",
    "    \"hipRight\" : [0,0,0,0,0,0,0,0,0,0,0,0],\n",
    "    \"kneeRight\" : [0,0,0,0,0,0,0,0,0,0,0,0],\n",
    "    \"ankleRight\" : [0,0,0,0,0,0,0,0,0,0,0,0],\n",
    "    \"footRight\" : [0,0,0,0,0,0,0,0,0,0,0,0]\n",
    "}\n",
    "\n",
    "stepmonth = {\n",
    "    \"step_length\" : [0,0,0,0,0,0,0,0,0,0,0,0],\n",
    "    \"numsteps\" : [0,0,0,0,0,0,0,0,0,0,0,0],\n",
    "    \"cadence\" : [0,0,0,0,0,0,0,0,0,0,0,0],\n",
    "    \"speed\" : [0,0,0,0,0,0,0,0,0,0,0,0],\n",
    "    \"time\" : [0,0,0,0,0,0,0,0,0,0,0,0]\n",
    "}\n",
    "countstepmonth = [0,0,0,0,0,0,0,0,0,0,0,0]\n",
    "\n",
    "endpointmonth = {\n",
    "    \"time\" : [0,0,0,0,0,0,0,0,0,0,0,0],\n",
    "    \"speed\" : [0,0,0,0,0,0,0,0,0,0,0,0]\n",
    "}\n",
    "countendpointmonth = [0,0,0,0,0,0,0,0,0,0,0,0]\n",
    "\n",
    "for i in range(len(exercises)):\n",
    "    exnamei = exercises[i].name\n",
    "    for monthi in range(12):\n",
    "        if countexmonth[exnamei][monthi] != 0:\n",
    "            res_exi = exercises[i].getResult(monthi)\n",
    "            for m in range(len(res_exi)): \n",
    "                single_metric,result_single_metric = res_exi[m]\n",
    "                single_metric_name = single_metric.name\n",
    "                if single_metric_name == \"ROM\":\n",
    "                    maxromj = max(result_single_metric)\n",
    "                    minromj = min(result_single_metric)\n",
    "                    tagjoint = single_metric.tagjoint\n",
    "                    keyp2rommax[tagjoint][monthi] = maxromj + keyp2rommax[tagjoint][monthi]\n",
    "                    keyp2rommin[tagjoint][monthi] = minromj + keyp2rommin[tagjoint][monthi]\n",
    "                    countrommonth[tagjoint][monthi] = 1 + countrommonth[tagjoint][monthi]           \n",
    "\n",
    "                if single_metric_name == \"step\":\n",
    "                    stepmonth[\"step_length\"][monthi] = single_metric.step_length + stepmonth[\"step_length\"][monthi]\n",
    "                    stepmonth[\"numsteps\"][monthi] = single_metric.nsteps + stepmonth[\"numsteps\"][monthi]\n",
    "                    stepmonth[\"cadence\"][monthi] = single_metric.cadence + stepmonth[\"cadence\"][monthi]\n",
    "                    stepmonth[\"speed\"][monthi] = single_metric.speed + stepmonth[\"speed\"][monthi]\n",
    "                    stepmonth[\"time\"][monthi] = single_metric.ex_time + stepmonth[\"time\"][monthi]\n",
    "                    countstepmonth[monthi] = 1 + countstepmonth[monthi]\n",
    "\n",
    "                if single_metric_name == \"EP\":\n",
    "                    endpointmonth[\"time\"][monthi] = single_metric.ex_time + endpointmonth[\"time\"][monthi]\n",
    "                    endpointmonth[\"speed\"][monthi] = single_metric.speed + endpointmonth[\"speed\"][monthi]\n",
    "                    countendpointmonth[monthi] = 1 + countendpointmonth[monthi]\n",
    "\n"
   ]
  },
  {
   "cell_type": "code",
   "execution_count": 88,
   "metadata": {
    "scrolled": false
   },
   "outputs": [],
   "source": [
    "counted_exmonth = {\n",
    "    \"tug\" : [0,0,0,0,0,0,0,0,0,0,0,0],\n",
    "    \"abduction_left\" : [0,0,0,0,0,0,0,0,0,0,0,0],\n",
    "    \"internal_rotation_left\" : [0,0,0,0,0,0,0,0,0,0,0,0],\n",
    "    \"external_rotation_left\" : [0,0,0,0,0,0,0,0,0,0,0,0],\n",
    "    \"reaching_left\" : [0,0,0,0,0,0,0,0,0,0,0,0]\n",
    "}\n",
    "for i in range(len(exercises)):\n",
    "    exnamei = exercises[i].name\n",
    "\n",
    "    for monthi in range(12):  \n",
    "        if countexmonth[exnamei][monthi] != 0:\n",
    "            if counted_exmonth[exnamei][monthi] < 1:       \n",
    "                res_exi = exercises[i].getResult(monthi)\n",
    "                for m in range(len(res_exi)): \n",
    "                    single_metric,result_single_metric = res_exi[m]\n",
    "                    single_metric_name = single_metric.name\n",
    "\n",
    "                    if single_metric_name == \"ROM\":\n",
    "                        tagjoint = single_metric.tagjoint\n",
    "                        if countrommonth[tagjoint][monthi] != 0:\n",
    "                            keyp2rommax_avg[tagjoint][monthi] = keyp2rommax[tagjoint][monthi]/countrommonth[tagjoint][monthi]\n",
    "                            keyp2rommin_avg[tagjoint][monthi] = keyp2rommin[tagjoint][monthi]/countrommonth[tagjoint][monthi]\n",
    "\n",
    "\n",
    "                    if single_metric_name == \"step\":\n",
    "                        if countstepmonth[monthi] != 0:\n",
    "                            stepmonth[\"step_length\"][monthi] = stepmonth[\"step_length\"][monthi]/countstepmonth[monthi]\n",
    "                            stepmonth[\"numsteps\"][monthi] = stepmonth[\"numsteps\"][monthi]/countstepmonth[monthi]\n",
    "                            stepmonth[\"cadence\"][monthi] = stepmonth[\"cadence\"][monthi]/countstepmonth[monthi]\n",
    "                            stepmonth[\"speed\"][monthi] = stepmonth[\"speed\"][monthi]/countstepmonth[monthi]\n",
    "                            stepmonth[\"time\"][monthi] = stepmonth[\"time\"][monthi]/countstepmonth[monthi]   \n",
    "\n",
    "                    if single_metric_name == \"EP\":\n",
    "                        if countendpointmonth[monthi] != 0:\n",
    "                            endpointmonth[\"time\"][monthi] = endpointmonth[\"time\"][monthi]/countendpointmonth[monthi]\n",
    "                            endpointmonth[\"speed\"][monthi] = endpointmonth[\"speed\"][monthi]/countendpointmonth[monthi]\n",
    "\n",
    "                counted_exmonth[exnamei][monthi] = 1"
   ]
  },
  {
   "cell_type": "code",
   "execution_count": 89,
   "metadata": {
    "scrolled": false
   },
   "outputs": [
    {
     "data": {
      "text/html": [
       "<font size=5><b>Risultati del Timed Up and Go</b></font>"
      ],
      "text/plain": [
       "<IPython.core.display.HTML object>"
      ]
     },
     "metadata": {},
     "output_type": "display_data"
    }
   ],
   "source": [
    "title = \"Risultati del Timed Up and Go\"\n",
    "msg1 = HTML('<font size=5><b>'+title+'</b></font>')\n",
    "msg2 = HTML('<font size=5,font color=gray,font >'+title+'</font>')\n",
    "if sum(counted_exmonth['tug'])>0:\n",
    "    display(msg1);\n",
    "else:\n",
    "    display(msg2); "
   ]
  },
  {
   "cell_type": "code",
   "execution_count": 90,
   "metadata": {
    "scrolled": false
   },
   "outputs": [
    {
     "data": {
      "text/html": [
       "<div>\n",
       "<style scoped>\n",
       "    .dataframe tbody tr th:only-of-type {\n",
       "        vertical-align: middle;\n",
       "    }\n",
       "\n",
       "    .dataframe tbody tr th {\n",
       "        vertical-align: top;\n",
       "    }\n",
       "\n",
       "    .dataframe thead th {\n",
       "        text-align: right;\n",
       "    }\n",
       "</style>\n",
       "<table border=\"1\" class=\"dataframe\">\n",
       "  <thead>\n",
       "    <tr style=\"text-align: right;\">\n",
       "      <th></th>\n",
       "      <th>Jan</th>\n",
       "      <th>Feb</th>\n",
       "      <th>Mar</th>\n",
       "      <th>Apr</th>\n",
       "      <th>May</th>\n",
       "      <th>Jun</th>\n",
       "      <th>Jul</th>\n",
       "      <th>Aug</th>\n",
       "      <th>Sep</th>\n",
       "      <th>Oct</th>\n",
       "      <th>Nov</th>\n",
       "      <th>Dec</th>\n",
       "    </tr>\n",
       "  </thead>\n",
       "  <tbody>\n",
       "    <tr>\n",
       "      <th>Numero di passi</th>\n",
       "      <td>2.701530e-01</td>\n",
       "      <td>0</td>\n",
       "      <td>0</td>\n",
       "      <td>0</td>\n",
       "      <td>0</td>\n",
       "      <td>0</td>\n",
       "      <td>0</td>\n",
       "      <td>0</td>\n",
       "      <td>0</td>\n",
       "      <td>0</td>\n",
       "      <td>0</td>\n",
       "      <td>0</td>\n",
       "    </tr>\n",
       "    <tr>\n",
       "      <th>Velocità [m/s]</th>\n",
       "      <td>3.900000e+01</td>\n",
       "      <td>0</td>\n",
       "      <td>0</td>\n",
       "      <td>0</td>\n",
       "      <td>0</td>\n",
       "      <td>0</td>\n",
       "      <td>0</td>\n",
       "      <td>0</td>\n",
       "      <td>0</td>\n",
       "      <td>0</td>\n",
       "      <td>0</td>\n",
       "      <td>0</td>\n",
       "    </tr>\n",
       "    <tr>\n",
       "      <th>Lunghezza passo [m]</th>\n",
       "      <td>inf</td>\n",
       "      <td>0</td>\n",
       "      <td>0</td>\n",
       "      <td>0</td>\n",
       "      <td>0</td>\n",
       "      <td>0</td>\n",
       "      <td>0</td>\n",
       "      <td>0</td>\n",
       "      <td>0</td>\n",
       "      <td>0</td>\n",
       "      <td>0</td>\n",
       "      <td>0</td>\n",
       "    </tr>\n",
       "    <tr>\n",
       "      <th>Cadenza [steps/s]</th>\n",
       "      <td>inf</td>\n",
       "      <td>0</td>\n",
       "      <td>0</td>\n",
       "      <td>0</td>\n",
       "      <td>0</td>\n",
       "      <td>0</td>\n",
       "      <td>0</td>\n",
       "      <td>0</td>\n",
       "      <td>0</td>\n",
       "      <td>0</td>\n",
       "      <td>0</td>\n",
       "      <td>0</td>\n",
       "    </tr>\n",
       "    <tr>\n",
       "      <th>Tempo di esecuzione [s]</th>\n",
       "      <td>1.353937e-318</td>\n",
       "      <td>0</td>\n",
       "      <td>0</td>\n",
       "      <td>0</td>\n",
       "      <td>0</td>\n",
       "      <td>0</td>\n",
       "      <td>0</td>\n",
       "      <td>0</td>\n",
       "      <td>0</td>\n",
       "      <td>0</td>\n",
       "      <td>0</td>\n",
       "      <td>0</td>\n",
       "    </tr>\n",
       "  </tbody>\n",
       "</table>\n",
       "</div>"
      ],
      "text/plain": [
       "                                   Jan  Feb  Mar  Apr  May  Jun  Jul  Aug  \\\n",
       "Numero di passi           2.701530e-01    0    0    0    0    0    0    0   \n",
       "Velocità [m/s]            3.900000e+01    0    0    0    0    0    0    0   \n",
       "Lunghezza passo [m]                inf    0    0    0    0    0    0    0   \n",
       "Cadenza [steps/s]                  inf    0    0    0    0    0    0    0   \n",
       "Tempo di esecuzione [s]  1.353937e-318    0    0    0    0    0    0    0   \n",
       "\n",
       "                         Sep  Oct  Nov  Dec  \n",
       "Numero di passi            0    0    0    0  \n",
       "Velocità [m/s]             0    0    0    0  \n",
       "Lunghezza passo [m]        0    0    0    0  \n",
       "Cadenza [steps/s]          0    0    0    0  \n",
       "Tempo di esecuzione [s]    0    0    0    0  "
      ]
     },
     "metadata": {},
     "output_type": "display_data"
    },
    {
     "data": {
      "application/vnd.plotly.v1+json": {
       "config": {
        "linkText": "Export to plot.ly",
        "plotlyServerURL": "https://plot.ly",
        "showLink": false
       },
       "data": [
        {
         "marker": {
          "color": "rgb(0,0,255)"
         },
         "name": "Massimo valore raggiunto",
         "type": "bar",
         "x": [
          1,
          2,
          3,
          4,
          5,
          6,
          7,
          8,
          9,
          10,
          11,
          12
         ],
         "y": [
          90,
          0,
          0,
          0,
          0,
          0,
          0,
          0,
          0,
          0,
          0,
          0
         ]
        },
        {
         "marker": {
          "color": "rgb(255,0,0)"
         },
         "name": "Minimo valore raggiunto",
         "type": "bar",
         "x": [
          1,
          2,
          3,
          4,
          5,
          6,
          7,
          8,
          9,
          10,
          11,
          12
         ],
         "y": [
          90,
          0,
          0,
          0,
          0,
          0,
          0,
          0,
          0,
          0,
          0,
          0
         ]
        }
       ],
       "layout": {
        "bargap": 0.1,
        "bargroupgap": 0,
        "barmode": "group",
        "font": {
         "color": "black",
         "family": "Courier New, monospace",
         "size": 18
        },
        "legend": {
         "bgcolor": "rgba(255, 255, 255, 0)",
         "bordercolor": "rgba(255, 255, 255, 0)"
        },
        "template": {
         "data": {
          "bar": [
           {
            "error_x": {
             "color": "#2a3f5f"
            },
            "error_y": {
             "color": "#2a3f5f"
            },
            "marker": {
             "line": {
              "color": "#E5ECF6",
              "width": 0.5
             },
             "pattern": {
              "fillmode": "overlay",
              "size": 10,
              "solidity": 0.2
             }
            },
            "type": "bar"
           }
          ],
          "barpolar": [
           {
            "marker": {
             "line": {
              "color": "#E5ECF6",
              "width": 0.5
             },
             "pattern": {
              "fillmode": "overlay",
              "size": 10,
              "solidity": 0.2
             }
            },
            "type": "barpolar"
           }
          ],
          "carpet": [
           {
            "aaxis": {
             "endlinecolor": "#2a3f5f",
             "gridcolor": "white",
             "linecolor": "white",
             "minorgridcolor": "white",
             "startlinecolor": "#2a3f5f"
            },
            "baxis": {
             "endlinecolor": "#2a3f5f",
             "gridcolor": "white",
             "linecolor": "white",
             "minorgridcolor": "white",
             "startlinecolor": "#2a3f5f"
            },
            "type": "carpet"
           }
          ],
          "choropleth": [
           {
            "colorbar": {
             "outlinewidth": 0,
             "ticks": ""
            },
            "type": "choropleth"
           }
          ],
          "contour": [
           {
            "colorbar": {
             "outlinewidth": 0,
             "ticks": ""
            },
            "colorscale": [
             [
              0,
              "#0d0887"
             ],
             [
              0.1111111111111111,
              "#46039f"
             ],
             [
              0.2222222222222222,
              "#7201a8"
             ],
             [
              0.3333333333333333,
              "#9c179e"
             ],
             [
              0.4444444444444444,
              "#bd3786"
             ],
             [
              0.5555555555555556,
              "#d8576b"
             ],
             [
              0.6666666666666666,
              "#ed7953"
             ],
             [
              0.7777777777777778,
              "#fb9f3a"
             ],
             [
              0.8888888888888888,
              "#fdca26"
             ],
             [
              1,
              "#f0f921"
             ]
            ],
            "type": "contour"
           }
          ],
          "contourcarpet": [
           {
            "colorbar": {
             "outlinewidth": 0,
             "ticks": ""
            },
            "type": "contourcarpet"
           }
          ],
          "heatmap": [
           {
            "colorbar": {
             "outlinewidth": 0,
             "ticks": ""
            },
            "colorscale": [
             [
              0,
              "#0d0887"
             ],
             [
              0.1111111111111111,
              "#46039f"
             ],
             [
              0.2222222222222222,
              "#7201a8"
             ],
             [
              0.3333333333333333,
              "#9c179e"
             ],
             [
              0.4444444444444444,
              "#bd3786"
             ],
             [
              0.5555555555555556,
              "#d8576b"
             ],
             [
              0.6666666666666666,
              "#ed7953"
             ],
             [
              0.7777777777777778,
              "#fb9f3a"
             ],
             [
              0.8888888888888888,
              "#fdca26"
             ],
             [
              1,
              "#f0f921"
             ]
            ],
            "type": "heatmap"
           }
          ],
          "heatmapgl": [
           {
            "colorbar": {
             "outlinewidth": 0,
             "ticks": ""
            },
            "colorscale": [
             [
              0,
              "#0d0887"
             ],
             [
              0.1111111111111111,
              "#46039f"
             ],
             [
              0.2222222222222222,
              "#7201a8"
             ],
             [
              0.3333333333333333,
              "#9c179e"
             ],
             [
              0.4444444444444444,
              "#bd3786"
             ],
             [
              0.5555555555555556,
              "#d8576b"
             ],
             [
              0.6666666666666666,
              "#ed7953"
             ],
             [
              0.7777777777777778,
              "#fb9f3a"
             ],
             [
              0.8888888888888888,
              "#fdca26"
             ],
             [
              1,
              "#f0f921"
             ]
            ],
            "type": "heatmapgl"
           }
          ],
          "histogram": [
           {
            "marker": {
             "pattern": {
              "fillmode": "overlay",
              "size": 10,
              "solidity": 0.2
             }
            },
            "type": "histogram"
           }
          ],
          "histogram2d": [
           {
            "colorbar": {
             "outlinewidth": 0,
             "ticks": ""
            },
            "colorscale": [
             [
              0,
              "#0d0887"
             ],
             [
              0.1111111111111111,
              "#46039f"
             ],
             [
              0.2222222222222222,
              "#7201a8"
             ],
             [
              0.3333333333333333,
              "#9c179e"
             ],
             [
              0.4444444444444444,
              "#bd3786"
             ],
             [
              0.5555555555555556,
              "#d8576b"
             ],
             [
              0.6666666666666666,
              "#ed7953"
             ],
             [
              0.7777777777777778,
              "#fb9f3a"
             ],
             [
              0.8888888888888888,
              "#fdca26"
             ],
             [
              1,
              "#f0f921"
             ]
            ],
            "type": "histogram2d"
           }
          ],
          "histogram2dcontour": [
           {
            "colorbar": {
             "outlinewidth": 0,
             "ticks": ""
            },
            "colorscale": [
             [
              0,
              "#0d0887"
             ],
             [
              0.1111111111111111,
              "#46039f"
             ],
             [
              0.2222222222222222,
              "#7201a8"
             ],
             [
              0.3333333333333333,
              "#9c179e"
             ],
             [
              0.4444444444444444,
              "#bd3786"
             ],
             [
              0.5555555555555556,
              "#d8576b"
             ],
             [
              0.6666666666666666,
              "#ed7953"
             ],
             [
              0.7777777777777778,
              "#fb9f3a"
             ],
             [
              0.8888888888888888,
              "#fdca26"
             ],
             [
              1,
              "#f0f921"
             ]
            ],
            "type": "histogram2dcontour"
           }
          ],
          "mesh3d": [
           {
            "colorbar": {
             "outlinewidth": 0,
             "ticks": ""
            },
            "type": "mesh3d"
           }
          ],
          "parcoords": [
           {
            "line": {
             "colorbar": {
              "outlinewidth": 0,
              "ticks": ""
             }
            },
            "type": "parcoords"
           }
          ],
          "pie": [
           {
            "automargin": true,
            "type": "pie"
           }
          ],
          "scatter": [
           {
            "fillpattern": {
             "fillmode": "overlay",
             "size": 10,
             "solidity": 0.2
            },
            "type": "scatter"
           }
          ],
          "scatter3d": [
           {
            "line": {
             "colorbar": {
              "outlinewidth": 0,
              "ticks": ""
             }
            },
            "marker": {
             "colorbar": {
              "outlinewidth": 0,
              "ticks": ""
             }
            },
            "type": "scatter3d"
           }
          ],
          "scattercarpet": [
           {
            "marker": {
             "colorbar": {
              "outlinewidth": 0,
              "ticks": ""
             }
            },
            "type": "scattercarpet"
           }
          ],
          "scattergeo": [
           {
            "marker": {
             "colorbar": {
              "outlinewidth": 0,
              "ticks": ""
             }
            },
            "type": "scattergeo"
           }
          ],
          "scattergl": [
           {
            "marker": {
             "colorbar": {
              "outlinewidth": 0,
              "ticks": ""
             }
            },
            "type": "scattergl"
           }
          ],
          "scattermapbox": [
           {
            "marker": {
             "colorbar": {
              "outlinewidth": 0,
              "ticks": ""
             }
            },
            "type": "scattermapbox"
           }
          ],
          "scatterpolar": [
           {
            "marker": {
             "colorbar": {
              "outlinewidth": 0,
              "ticks": ""
             }
            },
            "type": "scatterpolar"
           }
          ],
          "scatterpolargl": [
           {
            "marker": {
             "colorbar": {
              "outlinewidth": 0,
              "ticks": ""
             }
            },
            "type": "scatterpolargl"
           }
          ],
          "scatterternary": [
           {
            "marker": {
             "colorbar": {
              "outlinewidth": 0,
              "ticks": ""
             }
            },
            "type": "scatterternary"
           }
          ],
          "surface": [
           {
            "colorbar": {
             "outlinewidth": 0,
             "ticks": ""
            },
            "colorscale": [
             [
              0,
              "#0d0887"
             ],
             [
              0.1111111111111111,
              "#46039f"
             ],
             [
              0.2222222222222222,
              "#7201a8"
             ],
             [
              0.3333333333333333,
              "#9c179e"
             ],
             [
              0.4444444444444444,
              "#bd3786"
             ],
             [
              0.5555555555555556,
              "#d8576b"
             ],
             [
              0.6666666666666666,
              "#ed7953"
             ],
             [
              0.7777777777777778,
              "#fb9f3a"
             ],
             [
              0.8888888888888888,
              "#fdca26"
             ],
             [
              1,
              "#f0f921"
             ]
            ],
            "type": "surface"
           }
          ],
          "table": [
           {
            "cells": {
             "fill": {
              "color": "#EBF0F8"
             },
             "line": {
              "color": "white"
             }
            },
            "header": {
             "fill": {
              "color": "#C8D4E3"
             },
             "line": {
              "color": "white"
             }
            },
            "type": "table"
           }
          ]
         },
         "layout": {
          "annotationdefaults": {
           "arrowcolor": "#2a3f5f",
           "arrowhead": 0,
           "arrowwidth": 1
          },
          "autotypenumbers": "strict",
          "coloraxis": {
           "colorbar": {
            "outlinewidth": 0,
            "ticks": ""
           }
          },
          "colorscale": {
           "diverging": [
            [
             0,
             "#8e0152"
            ],
            [
             0.1,
             "#c51b7d"
            ],
            [
             0.2,
             "#de77ae"
            ],
            [
             0.3,
             "#f1b6da"
            ],
            [
             0.4,
             "#fde0ef"
            ],
            [
             0.5,
             "#f7f7f7"
            ],
            [
             0.6,
             "#e6f5d0"
            ],
            [
             0.7,
             "#b8e186"
            ],
            [
             0.8,
             "#7fbc41"
            ],
            [
             0.9,
             "#4d9221"
            ],
            [
             1,
             "#276419"
            ]
           ],
           "sequential": [
            [
             0,
             "#0d0887"
            ],
            [
             0.1111111111111111,
             "#46039f"
            ],
            [
             0.2222222222222222,
             "#7201a8"
            ],
            [
             0.3333333333333333,
             "#9c179e"
            ],
            [
             0.4444444444444444,
             "#bd3786"
            ],
            [
             0.5555555555555556,
             "#d8576b"
            ],
            [
             0.6666666666666666,
             "#ed7953"
            ],
            [
             0.7777777777777778,
             "#fb9f3a"
            ],
            [
             0.8888888888888888,
             "#fdca26"
            ],
            [
             1,
             "#f0f921"
            ]
           ],
           "sequentialminus": [
            [
             0,
             "#0d0887"
            ],
            [
             0.1111111111111111,
             "#46039f"
            ],
            [
             0.2222222222222222,
             "#7201a8"
            ],
            [
             0.3333333333333333,
             "#9c179e"
            ],
            [
             0.4444444444444444,
             "#bd3786"
            ],
            [
             0.5555555555555556,
             "#d8576b"
            ],
            [
             0.6666666666666666,
             "#ed7953"
            ],
            [
             0.7777777777777778,
             "#fb9f3a"
            ],
            [
             0.8888888888888888,
             "#fdca26"
            ],
            [
             1,
             "#f0f921"
            ]
           ]
          },
          "colorway": [
           "#636efa",
           "#EF553B",
           "#00cc96",
           "#ab63fa",
           "#FFA15A",
           "#19d3f3",
           "#FF6692",
           "#B6E880",
           "#FF97FF",
           "#FECB52"
          ],
          "font": {
           "color": "#2a3f5f"
          },
          "geo": {
           "bgcolor": "white",
           "lakecolor": "white",
           "landcolor": "#E5ECF6",
           "showlakes": true,
           "showland": true,
           "subunitcolor": "white"
          },
          "hoverlabel": {
           "align": "left"
          },
          "hovermode": "closest",
          "mapbox": {
           "style": "light"
          },
          "paper_bgcolor": "white",
          "plot_bgcolor": "#E5ECF6",
          "polar": {
           "angularaxis": {
            "gridcolor": "white",
            "linecolor": "white",
            "ticks": ""
           },
           "bgcolor": "#E5ECF6",
           "radialaxis": {
            "gridcolor": "white",
            "linecolor": "white",
            "ticks": ""
           }
          },
          "scene": {
           "xaxis": {
            "backgroundcolor": "#E5ECF6",
            "gridcolor": "white",
            "gridwidth": 2,
            "linecolor": "white",
            "showbackground": true,
            "ticks": "",
            "zerolinecolor": "white"
           },
           "yaxis": {
            "backgroundcolor": "#E5ECF6",
            "gridcolor": "white",
            "gridwidth": 2,
            "linecolor": "white",
            "showbackground": true,
            "ticks": "",
            "zerolinecolor": "white"
           },
           "zaxis": {
            "backgroundcolor": "#E5ECF6",
            "gridcolor": "white",
            "gridwidth": 2,
            "linecolor": "white",
            "showbackground": true,
            "ticks": "",
            "zerolinecolor": "white"
           }
          },
          "shapedefaults": {
           "line": {
            "color": "#2a3f5f"
           }
          },
          "ternary": {
           "aaxis": {
            "gridcolor": "white",
            "linecolor": "white",
            "ticks": ""
           },
           "baxis": {
            "gridcolor": "white",
            "linecolor": "white",
            "ticks": ""
           },
           "bgcolor": "#E5ECF6",
           "caxis": {
            "gridcolor": "white",
            "linecolor": "white",
            "ticks": ""
           }
          },
          "title": {
           "x": 0.05
          },
          "xaxis": {
           "automargin": true,
           "gridcolor": "white",
           "linecolor": "white",
           "ticks": "",
           "title": {
            "standoff": 15
           },
           "zerolinecolor": "white",
           "zerolinewidth": 2
          },
          "yaxis": {
           "automargin": true,
           "gridcolor": "white",
           "linecolor": "white",
           "ticks": "",
           "title": {
            "standoff": 15
           },
           "zerolinecolor": "white",
           "zerolinewidth": 2
          }
         }
        },
        "title": {
         "text": "Parametri Range of Motion"
        },
        "xaxis": {
         "tickfont": {
          "color": "#7f7f7f",
          "family": "Courier New, monospace",
          "size": 14
         },
         "title": {
          "font": {
           "color": "#7f7f7f",
           "family": "Courier New, monospace",
           "size": 18
          },
          "text": "Month"
         }
        },
        "yaxis": {
         "tickfont": {
          "color": "#7f7f7f",
          "family": "Courier New, monospace",
          "size": 14
         },
         "title": {
          "font": {
           "color": "#7f7f7f",
           "family": "Courier New, monospace",
           "size": 18
          },
          "text": "ROM hipLeft [gradi]"
         }
        }
       }
      },
      "text/html": [
       "<div>                            <div id=\"60225935-e502-4faf-8eab-75684d857d0e\" class=\"plotly-graph-div\" style=\"height:525px; width:100%;\"></div>            <script type=\"text/javascript\">                require([\"plotly\"], function(Plotly) {                    window.PLOTLYENV=window.PLOTLYENV || {};                                    if (document.getElementById(\"60225935-e502-4faf-8eab-75684d857d0e\")) {                    Plotly.newPlot(                        \"60225935-e502-4faf-8eab-75684d857d0e\",                        [{\"marker\":{\"color\":\"rgb(0,0,255)\"},\"name\":\"Massimo valore raggiunto\",\"x\":[1,2,3,4,5,6,7,8,9,10,11,12],\"y\":[90.0,0,0,0,0,0,0,0,0,0,0,0],\"type\":\"bar\"},{\"marker\":{\"color\":\"rgb(255,0,0)\"},\"name\":\"Minimo valore raggiunto\",\"x\":[1,2,3,4,5,6,7,8,9,10,11,12],\"y\":[90.0,0,0,0,0,0,0,0,0,0,0,0],\"type\":\"bar\"}],                        {\"bargap\":0.1,\"bargroupgap\":0.0,\"barmode\":\"group\",\"font\":{\"color\":\"black\",\"family\":\"Courier New, monospace\",\"size\":18},\"legend\":{\"bgcolor\":\"rgba(255, 255, 255, 0)\",\"bordercolor\":\"rgba(255, 255, 255, 0)\"},\"template\":{\"data\":{\"barpolar\":[{\"marker\":{\"line\":{\"color\":\"#E5ECF6\",\"width\":0.5},\"pattern\":{\"fillmode\":\"overlay\",\"size\":10,\"solidity\":0.2}},\"type\":\"barpolar\"}],\"bar\":[{\"error_x\":{\"color\":\"#2a3f5f\"},\"error_y\":{\"color\":\"#2a3f5f\"},\"marker\":{\"line\":{\"color\":\"#E5ECF6\",\"width\":0.5},\"pattern\":{\"fillmode\":\"overlay\",\"size\":10,\"solidity\":0.2}},\"type\":\"bar\"}],\"carpet\":[{\"aaxis\":{\"endlinecolor\":\"#2a3f5f\",\"gridcolor\":\"white\",\"linecolor\":\"white\",\"minorgridcolor\":\"white\",\"startlinecolor\":\"#2a3f5f\"},\"baxis\":{\"endlinecolor\":\"#2a3f5f\",\"gridcolor\":\"white\",\"linecolor\":\"white\",\"minorgridcolor\":\"white\",\"startlinecolor\":\"#2a3f5f\"},\"type\":\"carpet\"}],\"choropleth\":[{\"colorbar\":{\"outlinewidth\":0,\"ticks\":\"\"},\"type\":\"choropleth\"}],\"contourcarpet\":[{\"colorbar\":{\"outlinewidth\":0,\"ticks\":\"\"},\"type\":\"contourcarpet\"}],\"contour\":[{\"colorbar\":{\"outlinewidth\":0,\"ticks\":\"\"},\"colorscale\":[[0.0,\"#0d0887\"],[0.1111111111111111,\"#46039f\"],[0.2222222222222222,\"#7201a8\"],[0.3333333333333333,\"#9c179e\"],[0.4444444444444444,\"#bd3786\"],[0.5555555555555556,\"#d8576b\"],[0.6666666666666666,\"#ed7953\"],[0.7777777777777778,\"#fb9f3a\"],[0.8888888888888888,\"#fdca26\"],[1.0,\"#f0f921\"]],\"type\":\"contour\"}],\"heatmapgl\":[{\"colorbar\":{\"outlinewidth\":0,\"ticks\":\"\"},\"colorscale\":[[0.0,\"#0d0887\"],[0.1111111111111111,\"#46039f\"],[0.2222222222222222,\"#7201a8\"],[0.3333333333333333,\"#9c179e\"],[0.4444444444444444,\"#bd3786\"],[0.5555555555555556,\"#d8576b\"],[0.6666666666666666,\"#ed7953\"],[0.7777777777777778,\"#fb9f3a\"],[0.8888888888888888,\"#fdca26\"],[1.0,\"#f0f921\"]],\"type\":\"heatmapgl\"}],\"heatmap\":[{\"colorbar\":{\"outlinewidth\":0,\"ticks\":\"\"},\"colorscale\":[[0.0,\"#0d0887\"],[0.1111111111111111,\"#46039f\"],[0.2222222222222222,\"#7201a8\"],[0.3333333333333333,\"#9c179e\"],[0.4444444444444444,\"#bd3786\"],[0.5555555555555556,\"#d8576b\"],[0.6666666666666666,\"#ed7953\"],[0.7777777777777778,\"#fb9f3a\"],[0.8888888888888888,\"#fdca26\"],[1.0,\"#f0f921\"]],\"type\":\"heatmap\"}],\"histogram2dcontour\":[{\"colorbar\":{\"outlinewidth\":0,\"ticks\":\"\"},\"colorscale\":[[0.0,\"#0d0887\"],[0.1111111111111111,\"#46039f\"],[0.2222222222222222,\"#7201a8\"],[0.3333333333333333,\"#9c179e\"],[0.4444444444444444,\"#bd3786\"],[0.5555555555555556,\"#d8576b\"],[0.6666666666666666,\"#ed7953\"],[0.7777777777777778,\"#fb9f3a\"],[0.8888888888888888,\"#fdca26\"],[1.0,\"#f0f921\"]],\"type\":\"histogram2dcontour\"}],\"histogram2d\":[{\"colorbar\":{\"outlinewidth\":0,\"ticks\":\"\"},\"colorscale\":[[0.0,\"#0d0887\"],[0.1111111111111111,\"#46039f\"],[0.2222222222222222,\"#7201a8\"],[0.3333333333333333,\"#9c179e\"],[0.4444444444444444,\"#bd3786\"],[0.5555555555555556,\"#d8576b\"],[0.6666666666666666,\"#ed7953\"],[0.7777777777777778,\"#fb9f3a\"],[0.8888888888888888,\"#fdca26\"],[1.0,\"#f0f921\"]],\"type\":\"histogram2d\"}],\"histogram\":[{\"marker\":{\"pattern\":{\"fillmode\":\"overlay\",\"size\":10,\"solidity\":0.2}},\"type\":\"histogram\"}],\"mesh3d\":[{\"colorbar\":{\"outlinewidth\":0,\"ticks\":\"\"},\"type\":\"mesh3d\"}],\"parcoords\":[{\"line\":{\"colorbar\":{\"outlinewidth\":0,\"ticks\":\"\"}},\"type\":\"parcoords\"}],\"pie\":[{\"automargin\":true,\"type\":\"pie\"}],\"scatter3d\":[{\"line\":{\"colorbar\":{\"outlinewidth\":0,\"ticks\":\"\"}},\"marker\":{\"colorbar\":{\"outlinewidth\":0,\"ticks\":\"\"}},\"type\":\"scatter3d\"}],\"scattercarpet\":[{\"marker\":{\"colorbar\":{\"outlinewidth\":0,\"ticks\":\"\"}},\"type\":\"scattercarpet\"}],\"scattergeo\":[{\"marker\":{\"colorbar\":{\"outlinewidth\":0,\"ticks\":\"\"}},\"type\":\"scattergeo\"}],\"scattergl\":[{\"marker\":{\"colorbar\":{\"outlinewidth\":0,\"ticks\":\"\"}},\"type\":\"scattergl\"}],\"scattermapbox\":[{\"marker\":{\"colorbar\":{\"outlinewidth\":0,\"ticks\":\"\"}},\"type\":\"scattermapbox\"}],\"scatterpolargl\":[{\"marker\":{\"colorbar\":{\"outlinewidth\":0,\"ticks\":\"\"}},\"type\":\"scatterpolargl\"}],\"scatterpolar\":[{\"marker\":{\"colorbar\":{\"outlinewidth\":0,\"ticks\":\"\"}},\"type\":\"scatterpolar\"}],\"scatter\":[{\"fillpattern\":{\"fillmode\":\"overlay\",\"size\":10,\"solidity\":0.2},\"type\":\"scatter\"}],\"scatterternary\":[{\"marker\":{\"colorbar\":{\"outlinewidth\":0,\"ticks\":\"\"}},\"type\":\"scatterternary\"}],\"surface\":[{\"colorbar\":{\"outlinewidth\":0,\"ticks\":\"\"},\"colorscale\":[[0.0,\"#0d0887\"],[0.1111111111111111,\"#46039f\"],[0.2222222222222222,\"#7201a8\"],[0.3333333333333333,\"#9c179e\"],[0.4444444444444444,\"#bd3786\"],[0.5555555555555556,\"#d8576b\"],[0.6666666666666666,\"#ed7953\"],[0.7777777777777778,\"#fb9f3a\"],[0.8888888888888888,\"#fdca26\"],[1.0,\"#f0f921\"]],\"type\":\"surface\"}],\"table\":[{\"cells\":{\"fill\":{\"color\":\"#EBF0F8\"},\"line\":{\"color\":\"white\"}},\"header\":{\"fill\":{\"color\":\"#C8D4E3\"},\"line\":{\"color\":\"white\"}},\"type\":\"table\"}]},\"layout\":{\"annotationdefaults\":{\"arrowcolor\":\"#2a3f5f\",\"arrowhead\":0,\"arrowwidth\":1},\"autotypenumbers\":\"strict\",\"coloraxis\":{\"colorbar\":{\"outlinewidth\":0,\"ticks\":\"\"}},\"colorscale\":{\"diverging\":[[0,\"#8e0152\"],[0.1,\"#c51b7d\"],[0.2,\"#de77ae\"],[0.3,\"#f1b6da\"],[0.4,\"#fde0ef\"],[0.5,\"#f7f7f7\"],[0.6,\"#e6f5d0\"],[0.7,\"#b8e186\"],[0.8,\"#7fbc41\"],[0.9,\"#4d9221\"],[1,\"#276419\"]],\"sequential\":[[0.0,\"#0d0887\"],[0.1111111111111111,\"#46039f\"],[0.2222222222222222,\"#7201a8\"],[0.3333333333333333,\"#9c179e\"],[0.4444444444444444,\"#bd3786\"],[0.5555555555555556,\"#d8576b\"],[0.6666666666666666,\"#ed7953\"],[0.7777777777777778,\"#fb9f3a\"],[0.8888888888888888,\"#fdca26\"],[1.0,\"#f0f921\"]],\"sequentialminus\":[[0.0,\"#0d0887\"],[0.1111111111111111,\"#46039f\"],[0.2222222222222222,\"#7201a8\"],[0.3333333333333333,\"#9c179e\"],[0.4444444444444444,\"#bd3786\"],[0.5555555555555556,\"#d8576b\"],[0.6666666666666666,\"#ed7953\"],[0.7777777777777778,\"#fb9f3a\"],[0.8888888888888888,\"#fdca26\"],[1.0,\"#f0f921\"]]},\"colorway\":[\"#636efa\",\"#EF553B\",\"#00cc96\",\"#ab63fa\",\"#FFA15A\",\"#19d3f3\",\"#FF6692\",\"#B6E880\",\"#FF97FF\",\"#FECB52\"],\"font\":{\"color\":\"#2a3f5f\"},\"geo\":{\"bgcolor\":\"white\",\"lakecolor\":\"white\",\"landcolor\":\"#E5ECF6\",\"showlakes\":true,\"showland\":true,\"subunitcolor\":\"white\"},\"hoverlabel\":{\"align\":\"left\"},\"hovermode\":\"closest\",\"mapbox\":{\"style\":\"light\"},\"paper_bgcolor\":\"white\",\"plot_bgcolor\":\"#E5ECF6\",\"polar\":{\"angularaxis\":{\"gridcolor\":\"white\",\"linecolor\":\"white\",\"ticks\":\"\"},\"bgcolor\":\"#E5ECF6\",\"radialaxis\":{\"gridcolor\":\"white\",\"linecolor\":\"white\",\"ticks\":\"\"}},\"scene\":{\"xaxis\":{\"backgroundcolor\":\"#E5ECF6\",\"gridcolor\":\"white\",\"gridwidth\":2,\"linecolor\":\"white\",\"showbackground\":true,\"ticks\":\"\",\"zerolinecolor\":\"white\"},\"yaxis\":{\"backgroundcolor\":\"#E5ECF6\",\"gridcolor\":\"white\",\"gridwidth\":2,\"linecolor\":\"white\",\"showbackground\":true,\"ticks\":\"\",\"zerolinecolor\":\"white\"},\"zaxis\":{\"backgroundcolor\":\"#E5ECF6\",\"gridcolor\":\"white\",\"gridwidth\":2,\"linecolor\":\"white\",\"showbackground\":true,\"ticks\":\"\",\"zerolinecolor\":\"white\"}},\"shapedefaults\":{\"line\":{\"color\":\"#2a3f5f\"}},\"ternary\":{\"aaxis\":{\"gridcolor\":\"white\",\"linecolor\":\"white\",\"ticks\":\"\"},\"baxis\":{\"gridcolor\":\"white\",\"linecolor\":\"white\",\"ticks\":\"\"},\"bgcolor\":\"#E5ECF6\",\"caxis\":{\"gridcolor\":\"white\",\"linecolor\":\"white\",\"ticks\":\"\"}},\"title\":{\"x\":0.05},\"xaxis\":{\"automargin\":true,\"gridcolor\":\"white\",\"linecolor\":\"white\",\"ticks\":\"\",\"title\":{\"standoff\":15},\"zerolinecolor\":\"white\",\"zerolinewidth\":2},\"yaxis\":{\"automargin\":true,\"gridcolor\":\"white\",\"linecolor\":\"white\",\"ticks\":\"\",\"title\":{\"standoff\":15},\"zerolinecolor\":\"white\",\"zerolinewidth\":2}}},\"title\":{\"text\":\"Parametri Range of Motion\"},\"xaxis\":{\"tickfont\":{\"color\":\"#7f7f7f\",\"family\":\"Courier New, monospace\",\"size\":14},\"title\":{\"font\":{\"color\":\"#7f7f7f\",\"family\":\"Courier New, monospace\",\"size\":18},\"text\":\"Month\"}},\"yaxis\":{\"tickfont\":{\"color\":\"#7f7f7f\",\"family\":\"Courier New, monospace\",\"size\":14},\"title\":{\"font\":{\"color\":\"#7f7f7f\",\"family\":\"Courier New, monospace\",\"size\":18},\"text\":\"ROM hipLeft [gradi]\"}}},                        {\"responsive\": true}                    ).then(function(){\n",
       "                            \n",
       "var gd = document.getElementById('60225935-e502-4faf-8eab-75684d857d0e');\n",
       "var x = new MutationObserver(function (mutations, observer) {{\n",
       "        var display = window.getComputedStyle(gd).display;\n",
       "        if (!display || display === 'none') {{\n",
       "            console.log([gd, 'removed!']);\n",
       "            Plotly.purge(gd);\n",
       "            observer.disconnect();\n",
       "        }}\n",
       "}});\n",
       "\n",
       "// Listen for the removal of the full notebook cells\n",
       "var notebookContainer = gd.closest('#notebook-container');\n",
       "if (notebookContainer) {{\n",
       "    x.observe(notebookContainer, {childList: true});\n",
       "}}\n",
       "\n",
       "// Listen for the clearing of the current output cell\n",
       "var outputEl = gd.closest('.output');\n",
       "if (outputEl) {{\n",
       "    x.observe(outputEl, {childList: true});\n",
       "}}\n",
       "\n",
       "                        })                };                });            </script>        </div>"
      ]
     },
     "metadata": {},
     "output_type": "display_data"
    },
    {
     "data": {
      "application/vnd.plotly.v1+json": {
       "config": {
        "linkText": "Export to plot.ly",
        "plotlyServerURL": "https://plot.ly",
        "showLink": false
       },
       "data": [
        {
         "marker": {
          "color": "rgb(0,0,255)"
         },
         "name": "Massimo valore raggiunto",
         "type": "bar",
         "x": [
          1,
          2,
          3,
          4,
          5,
          6,
          7,
          8,
          9,
          10,
          11,
          12
         ],
         "y": [
          114.28675596068301,
          0,
          0,
          0,
          0,
          0,
          0,
          0,
          0,
          0,
          0,
          0
         ]
        },
        {
         "marker": {
          "color": "rgb(255,0,0)"
         },
         "name": "Minimo valore raggiunto",
         "type": "bar",
         "x": [
          1,
          2,
          3,
          4,
          5,
          6,
          7,
          8,
          9,
          10,
          11,
          12
         ],
         "y": [
          60.1781543092217,
          0,
          0,
          0,
          0,
          0,
          0,
          0,
          0,
          0,
          0,
          0
         ]
        }
       ],
       "layout": {
        "bargap": 0.1,
        "bargroupgap": 0,
        "barmode": "group",
        "font": {
         "color": "black",
         "family": "Courier New, monospace",
         "size": 18
        },
        "legend": {
         "bgcolor": "rgba(255, 255, 255, 0)",
         "bordercolor": "rgba(255, 255, 255, 0)"
        },
        "template": {
         "data": {
          "bar": [
           {
            "error_x": {
             "color": "#2a3f5f"
            },
            "error_y": {
             "color": "#2a3f5f"
            },
            "marker": {
             "line": {
              "color": "#E5ECF6",
              "width": 0.5
             },
             "pattern": {
              "fillmode": "overlay",
              "size": 10,
              "solidity": 0.2
             }
            },
            "type": "bar"
           }
          ],
          "barpolar": [
           {
            "marker": {
             "line": {
              "color": "#E5ECF6",
              "width": 0.5
             },
             "pattern": {
              "fillmode": "overlay",
              "size": 10,
              "solidity": 0.2
             }
            },
            "type": "barpolar"
           }
          ],
          "carpet": [
           {
            "aaxis": {
             "endlinecolor": "#2a3f5f",
             "gridcolor": "white",
             "linecolor": "white",
             "minorgridcolor": "white",
             "startlinecolor": "#2a3f5f"
            },
            "baxis": {
             "endlinecolor": "#2a3f5f",
             "gridcolor": "white",
             "linecolor": "white",
             "minorgridcolor": "white",
             "startlinecolor": "#2a3f5f"
            },
            "type": "carpet"
           }
          ],
          "choropleth": [
           {
            "colorbar": {
             "outlinewidth": 0,
             "ticks": ""
            },
            "type": "choropleth"
           }
          ],
          "contour": [
           {
            "colorbar": {
             "outlinewidth": 0,
             "ticks": ""
            },
            "colorscale": [
             [
              0,
              "#0d0887"
             ],
             [
              0.1111111111111111,
              "#46039f"
             ],
             [
              0.2222222222222222,
              "#7201a8"
             ],
             [
              0.3333333333333333,
              "#9c179e"
             ],
             [
              0.4444444444444444,
              "#bd3786"
             ],
             [
              0.5555555555555556,
              "#d8576b"
             ],
             [
              0.6666666666666666,
              "#ed7953"
             ],
             [
              0.7777777777777778,
              "#fb9f3a"
             ],
             [
              0.8888888888888888,
              "#fdca26"
             ],
             [
              1,
              "#f0f921"
             ]
            ],
            "type": "contour"
           }
          ],
          "contourcarpet": [
           {
            "colorbar": {
             "outlinewidth": 0,
             "ticks": ""
            },
            "type": "contourcarpet"
           }
          ],
          "heatmap": [
           {
            "colorbar": {
             "outlinewidth": 0,
             "ticks": ""
            },
            "colorscale": [
             [
              0,
              "#0d0887"
             ],
             [
              0.1111111111111111,
              "#46039f"
             ],
             [
              0.2222222222222222,
              "#7201a8"
             ],
             [
              0.3333333333333333,
              "#9c179e"
             ],
             [
              0.4444444444444444,
              "#bd3786"
             ],
             [
              0.5555555555555556,
              "#d8576b"
             ],
             [
              0.6666666666666666,
              "#ed7953"
             ],
             [
              0.7777777777777778,
              "#fb9f3a"
             ],
             [
              0.8888888888888888,
              "#fdca26"
             ],
             [
              1,
              "#f0f921"
             ]
            ],
            "type": "heatmap"
           }
          ],
          "heatmapgl": [
           {
            "colorbar": {
             "outlinewidth": 0,
             "ticks": ""
            },
            "colorscale": [
             [
              0,
              "#0d0887"
             ],
             [
              0.1111111111111111,
              "#46039f"
             ],
             [
              0.2222222222222222,
              "#7201a8"
             ],
             [
              0.3333333333333333,
              "#9c179e"
             ],
             [
              0.4444444444444444,
              "#bd3786"
             ],
             [
              0.5555555555555556,
              "#d8576b"
             ],
             [
              0.6666666666666666,
              "#ed7953"
             ],
             [
              0.7777777777777778,
              "#fb9f3a"
             ],
             [
              0.8888888888888888,
              "#fdca26"
             ],
             [
              1,
              "#f0f921"
             ]
            ],
            "type": "heatmapgl"
           }
          ],
          "histogram": [
           {
            "marker": {
             "pattern": {
              "fillmode": "overlay",
              "size": 10,
              "solidity": 0.2
             }
            },
            "type": "histogram"
           }
          ],
          "histogram2d": [
           {
            "colorbar": {
             "outlinewidth": 0,
             "ticks": ""
            },
            "colorscale": [
             [
              0,
              "#0d0887"
             ],
             [
              0.1111111111111111,
              "#46039f"
             ],
             [
              0.2222222222222222,
              "#7201a8"
             ],
             [
              0.3333333333333333,
              "#9c179e"
             ],
             [
              0.4444444444444444,
              "#bd3786"
             ],
             [
              0.5555555555555556,
              "#d8576b"
             ],
             [
              0.6666666666666666,
              "#ed7953"
             ],
             [
              0.7777777777777778,
              "#fb9f3a"
             ],
             [
              0.8888888888888888,
              "#fdca26"
             ],
             [
              1,
              "#f0f921"
             ]
            ],
            "type": "histogram2d"
           }
          ],
          "histogram2dcontour": [
           {
            "colorbar": {
             "outlinewidth": 0,
             "ticks": ""
            },
            "colorscale": [
             [
              0,
              "#0d0887"
             ],
             [
              0.1111111111111111,
              "#46039f"
             ],
             [
              0.2222222222222222,
              "#7201a8"
             ],
             [
              0.3333333333333333,
              "#9c179e"
             ],
             [
              0.4444444444444444,
              "#bd3786"
             ],
             [
              0.5555555555555556,
              "#d8576b"
             ],
             [
              0.6666666666666666,
              "#ed7953"
             ],
             [
              0.7777777777777778,
              "#fb9f3a"
             ],
             [
              0.8888888888888888,
              "#fdca26"
             ],
             [
              1,
              "#f0f921"
             ]
            ],
            "type": "histogram2dcontour"
           }
          ],
          "mesh3d": [
           {
            "colorbar": {
             "outlinewidth": 0,
             "ticks": ""
            },
            "type": "mesh3d"
           }
          ],
          "parcoords": [
           {
            "line": {
             "colorbar": {
              "outlinewidth": 0,
              "ticks": ""
             }
            },
            "type": "parcoords"
           }
          ],
          "pie": [
           {
            "automargin": true,
            "type": "pie"
           }
          ],
          "scatter": [
           {
            "fillpattern": {
             "fillmode": "overlay",
             "size": 10,
             "solidity": 0.2
            },
            "type": "scatter"
           }
          ],
          "scatter3d": [
           {
            "line": {
             "colorbar": {
              "outlinewidth": 0,
              "ticks": ""
             }
            },
            "marker": {
             "colorbar": {
              "outlinewidth": 0,
              "ticks": ""
             }
            },
            "type": "scatter3d"
           }
          ],
          "scattercarpet": [
           {
            "marker": {
             "colorbar": {
              "outlinewidth": 0,
              "ticks": ""
             }
            },
            "type": "scattercarpet"
           }
          ],
          "scattergeo": [
           {
            "marker": {
             "colorbar": {
              "outlinewidth": 0,
              "ticks": ""
             }
            },
            "type": "scattergeo"
           }
          ],
          "scattergl": [
           {
            "marker": {
             "colorbar": {
              "outlinewidth": 0,
              "ticks": ""
             }
            },
            "type": "scattergl"
           }
          ],
          "scattermapbox": [
           {
            "marker": {
             "colorbar": {
              "outlinewidth": 0,
              "ticks": ""
             }
            },
            "type": "scattermapbox"
           }
          ],
          "scatterpolar": [
           {
            "marker": {
             "colorbar": {
              "outlinewidth": 0,
              "ticks": ""
             }
            },
            "type": "scatterpolar"
           }
          ],
          "scatterpolargl": [
           {
            "marker": {
             "colorbar": {
              "outlinewidth": 0,
              "ticks": ""
             }
            },
            "type": "scatterpolargl"
           }
          ],
          "scatterternary": [
           {
            "marker": {
             "colorbar": {
              "outlinewidth": 0,
              "ticks": ""
             }
            },
            "type": "scatterternary"
           }
          ],
          "surface": [
           {
            "colorbar": {
             "outlinewidth": 0,
             "ticks": ""
            },
            "colorscale": [
             [
              0,
              "#0d0887"
             ],
             [
              0.1111111111111111,
              "#46039f"
             ],
             [
              0.2222222222222222,
              "#7201a8"
             ],
             [
              0.3333333333333333,
              "#9c179e"
             ],
             [
              0.4444444444444444,
              "#bd3786"
             ],
             [
              0.5555555555555556,
              "#d8576b"
             ],
             [
              0.6666666666666666,
              "#ed7953"
             ],
             [
              0.7777777777777778,
              "#fb9f3a"
             ],
             [
              0.8888888888888888,
              "#fdca26"
             ],
             [
              1,
              "#f0f921"
             ]
            ],
            "type": "surface"
           }
          ],
          "table": [
           {
            "cells": {
             "fill": {
              "color": "#EBF0F8"
             },
             "line": {
              "color": "white"
             }
            },
            "header": {
             "fill": {
              "color": "#C8D4E3"
             },
             "line": {
              "color": "white"
             }
            },
            "type": "table"
           }
          ]
         },
         "layout": {
          "annotationdefaults": {
           "arrowcolor": "#2a3f5f",
           "arrowhead": 0,
           "arrowwidth": 1
          },
          "autotypenumbers": "strict",
          "coloraxis": {
           "colorbar": {
            "outlinewidth": 0,
            "ticks": ""
           }
          },
          "colorscale": {
           "diverging": [
            [
             0,
             "#8e0152"
            ],
            [
             0.1,
             "#c51b7d"
            ],
            [
             0.2,
             "#de77ae"
            ],
            [
             0.3,
             "#f1b6da"
            ],
            [
             0.4,
             "#fde0ef"
            ],
            [
             0.5,
             "#f7f7f7"
            ],
            [
             0.6,
             "#e6f5d0"
            ],
            [
             0.7,
             "#b8e186"
            ],
            [
             0.8,
             "#7fbc41"
            ],
            [
             0.9,
             "#4d9221"
            ],
            [
             1,
             "#276419"
            ]
           ],
           "sequential": [
            [
             0,
             "#0d0887"
            ],
            [
             0.1111111111111111,
             "#46039f"
            ],
            [
             0.2222222222222222,
             "#7201a8"
            ],
            [
             0.3333333333333333,
             "#9c179e"
            ],
            [
             0.4444444444444444,
             "#bd3786"
            ],
            [
             0.5555555555555556,
             "#d8576b"
            ],
            [
             0.6666666666666666,
             "#ed7953"
            ],
            [
             0.7777777777777778,
             "#fb9f3a"
            ],
            [
             0.8888888888888888,
             "#fdca26"
            ],
            [
             1,
             "#f0f921"
            ]
           ],
           "sequentialminus": [
            [
             0,
             "#0d0887"
            ],
            [
             0.1111111111111111,
             "#46039f"
            ],
            [
             0.2222222222222222,
             "#7201a8"
            ],
            [
             0.3333333333333333,
             "#9c179e"
            ],
            [
             0.4444444444444444,
             "#bd3786"
            ],
            [
             0.5555555555555556,
             "#d8576b"
            ],
            [
             0.6666666666666666,
             "#ed7953"
            ],
            [
             0.7777777777777778,
             "#fb9f3a"
            ],
            [
             0.8888888888888888,
             "#fdca26"
            ],
            [
             1,
             "#f0f921"
            ]
           ]
          },
          "colorway": [
           "#636efa",
           "#EF553B",
           "#00cc96",
           "#ab63fa",
           "#FFA15A",
           "#19d3f3",
           "#FF6692",
           "#B6E880",
           "#FF97FF",
           "#FECB52"
          ],
          "font": {
           "color": "#2a3f5f"
          },
          "geo": {
           "bgcolor": "white",
           "lakecolor": "white",
           "landcolor": "#E5ECF6",
           "showlakes": true,
           "showland": true,
           "subunitcolor": "white"
          },
          "hoverlabel": {
           "align": "left"
          },
          "hovermode": "closest",
          "mapbox": {
           "style": "light"
          },
          "paper_bgcolor": "white",
          "plot_bgcolor": "#E5ECF6",
          "polar": {
           "angularaxis": {
            "gridcolor": "white",
            "linecolor": "white",
            "ticks": ""
           },
           "bgcolor": "#E5ECF6",
           "radialaxis": {
            "gridcolor": "white",
            "linecolor": "white",
            "ticks": ""
           }
          },
          "scene": {
           "xaxis": {
            "backgroundcolor": "#E5ECF6",
            "gridcolor": "white",
            "gridwidth": 2,
            "linecolor": "white",
            "showbackground": true,
            "ticks": "",
            "zerolinecolor": "white"
           },
           "yaxis": {
            "backgroundcolor": "#E5ECF6",
            "gridcolor": "white",
            "gridwidth": 2,
            "linecolor": "white",
            "showbackground": true,
            "ticks": "",
            "zerolinecolor": "white"
           },
           "zaxis": {
            "backgroundcolor": "#E5ECF6",
            "gridcolor": "white",
            "gridwidth": 2,
            "linecolor": "white",
            "showbackground": true,
            "ticks": "",
            "zerolinecolor": "white"
           }
          },
          "shapedefaults": {
           "line": {
            "color": "#2a3f5f"
           }
          },
          "ternary": {
           "aaxis": {
            "gridcolor": "white",
            "linecolor": "white",
            "ticks": ""
           },
           "baxis": {
            "gridcolor": "white",
            "linecolor": "white",
            "ticks": ""
           },
           "bgcolor": "#E5ECF6",
           "caxis": {
            "gridcolor": "white",
            "linecolor": "white",
            "ticks": ""
           }
          },
          "title": {
           "x": 0.05
          },
          "xaxis": {
           "automargin": true,
           "gridcolor": "white",
           "linecolor": "white",
           "ticks": "",
           "title": {
            "standoff": 15
           },
           "zerolinecolor": "white",
           "zerolinewidth": 2
          },
          "yaxis": {
           "automargin": true,
           "gridcolor": "white",
           "linecolor": "white",
           "ticks": "",
           "title": {
            "standoff": 15
           },
           "zerolinecolor": "white",
           "zerolinewidth": 2
          }
         }
        },
        "title": {
         "text": "Parametri Range of Motion"
        },
        "xaxis": {
         "tickfont": {
          "color": "#7f7f7f",
          "family": "Courier New, monospace",
          "size": 14
         },
         "title": {
          "font": {
           "color": "#7f7f7f",
           "family": "Courier New, monospace",
           "size": 18
          },
          "text": "Month"
         }
        },
        "yaxis": {
         "tickfont": {
          "color": "#7f7f7f",
          "family": "Courier New, monospace",
          "size": 14
         },
         "title": {
          "font": {
           "color": "#7f7f7f",
           "family": "Courier New, monospace",
           "size": 18
          },
          "text": "ROM kneeLeft [gradi]"
         }
        }
       }
      },
      "text/html": [
       "<div>                            <div id=\"c4c9168a-649b-43b9-ad86-22ce4a31a419\" class=\"plotly-graph-div\" style=\"height:525px; width:100%;\"></div>            <script type=\"text/javascript\">                require([\"plotly\"], function(Plotly) {                    window.PLOTLYENV=window.PLOTLYENV || {};                                    if (document.getElementById(\"c4c9168a-649b-43b9-ad86-22ce4a31a419\")) {                    Plotly.newPlot(                        \"c4c9168a-649b-43b9-ad86-22ce4a31a419\",                        [{\"marker\":{\"color\":\"rgb(0,0,255)\"},\"name\":\"Massimo valore raggiunto\",\"x\":[1,2,3,4,5,6,7,8,9,10,11,12],\"y\":[114.28675596068301,0,0,0,0,0,0,0,0,0,0,0],\"type\":\"bar\"},{\"marker\":{\"color\":\"rgb(255,0,0)\"},\"name\":\"Minimo valore raggiunto\",\"x\":[1,2,3,4,5,6,7,8,9,10,11,12],\"y\":[60.1781543092217,0,0,0,0,0,0,0,0,0,0,0],\"type\":\"bar\"}],                        {\"bargap\":0.1,\"bargroupgap\":0.0,\"barmode\":\"group\",\"font\":{\"color\":\"black\",\"family\":\"Courier New, monospace\",\"size\":18},\"legend\":{\"bgcolor\":\"rgba(255, 255, 255, 0)\",\"bordercolor\":\"rgba(255, 255, 255, 0)\"},\"template\":{\"data\":{\"barpolar\":[{\"marker\":{\"line\":{\"color\":\"#E5ECF6\",\"width\":0.5},\"pattern\":{\"fillmode\":\"overlay\",\"size\":10,\"solidity\":0.2}},\"type\":\"barpolar\"}],\"bar\":[{\"error_x\":{\"color\":\"#2a3f5f\"},\"error_y\":{\"color\":\"#2a3f5f\"},\"marker\":{\"line\":{\"color\":\"#E5ECF6\",\"width\":0.5},\"pattern\":{\"fillmode\":\"overlay\",\"size\":10,\"solidity\":0.2}},\"type\":\"bar\"}],\"carpet\":[{\"aaxis\":{\"endlinecolor\":\"#2a3f5f\",\"gridcolor\":\"white\",\"linecolor\":\"white\",\"minorgridcolor\":\"white\",\"startlinecolor\":\"#2a3f5f\"},\"baxis\":{\"endlinecolor\":\"#2a3f5f\",\"gridcolor\":\"white\",\"linecolor\":\"white\",\"minorgridcolor\":\"white\",\"startlinecolor\":\"#2a3f5f\"},\"type\":\"carpet\"}],\"choropleth\":[{\"colorbar\":{\"outlinewidth\":0,\"ticks\":\"\"},\"type\":\"choropleth\"}],\"contourcarpet\":[{\"colorbar\":{\"outlinewidth\":0,\"ticks\":\"\"},\"type\":\"contourcarpet\"}],\"contour\":[{\"colorbar\":{\"outlinewidth\":0,\"ticks\":\"\"},\"colorscale\":[[0.0,\"#0d0887\"],[0.1111111111111111,\"#46039f\"],[0.2222222222222222,\"#7201a8\"],[0.3333333333333333,\"#9c179e\"],[0.4444444444444444,\"#bd3786\"],[0.5555555555555556,\"#d8576b\"],[0.6666666666666666,\"#ed7953\"],[0.7777777777777778,\"#fb9f3a\"],[0.8888888888888888,\"#fdca26\"],[1.0,\"#f0f921\"]],\"type\":\"contour\"}],\"heatmapgl\":[{\"colorbar\":{\"outlinewidth\":0,\"ticks\":\"\"},\"colorscale\":[[0.0,\"#0d0887\"],[0.1111111111111111,\"#46039f\"],[0.2222222222222222,\"#7201a8\"],[0.3333333333333333,\"#9c179e\"],[0.4444444444444444,\"#bd3786\"],[0.5555555555555556,\"#d8576b\"],[0.6666666666666666,\"#ed7953\"],[0.7777777777777778,\"#fb9f3a\"],[0.8888888888888888,\"#fdca26\"],[1.0,\"#f0f921\"]],\"type\":\"heatmapgl\"}],\"heatmap\":[{\"colorbar\":{\"outlinewidth\":0,\"ticks\":\"\"},\"colorscale\":[[0.0,\"#0d0887\"],[0.1111111111111111,\"#46039f\"],[0.2222222222222222,\"#7201a8\"],[0.3333333333333333,\"#9c179e\"],[0.4444444444444444,\"#bd3786\"],[0.5555555555555556,\"#d8576b\"],[0.6666666666666666,\"#ed7953\"],[0.7777777777777778,\"#fb9f3a\"],[0.8888888888888888,\"#fdca26\"],[1.0,\"#f0f921\"]],\"type\":\"heatmap\"}],\"histogram2dcontour\":[{\"colorbar\":{\"outlinewidth\":0,\"ticks\":\"\"},\"colorscale\":[[0.0,\"#0d0887\"],[0.1111111111111111,\"#46039f\"],[0.2222222222222222,\"#7201a8\"],[0.3333333333333333,\"#9c179e\"],[0.4444444444444444,\"#bd3786\"],[0.5555555555555556,\"#d8576b\"],[0.6666666666666666,\"#ed7953\"],[0.7777777777777778,\"#fb9f3a\"],[0.8888888888888888,\"#fdca26\"],[1.0,\"#f0f921\"]],\"type\":\"histogram2dcontour\"}],\"histogram2d\":[{\"colorbar\":{\"outlinewidth\":0,\"ticks\":\"\"},\"colorscale\":[[0.0,\"#0d0887\"],[0.1111111111111111,\"#46039f\"],[0.2222222222222222,\"#7201a8\"],[0.3333333333333333,\"#9c179e\"],[0.4444444444444444,\"#bd3786\"],[0.5555555555555556,\"#d8576b\"],[0.6666666666666666,\"#ed7953\"],[0.7777777777777778,\"#fb9f3a\"],[0.8888888888888888,\"#fdca26\"],[1.0,\"#f0f921\"]],\"type\":\"histogram2d\"}],\"histogram\":[{\"marker\":{\"pattern\":{\"fillmode\":\"overlay\",\"size\":10,\"solidity\":0.2}},\"type\":\"histogram\"}],\"mesh3d\":[{\"colorbar\":{\"outlinewidth\":0,\"ticks\":\"\"},\"type\":\"mesh3d\"}],\"parcoords\":[{\"line\":{\"colorbar\":{\"outlinewidth\":0,\"ticks\":\"\"}},\"type\":\"parcoords\"}],\"pie\":[{\"automargin\":true,\"type\":\"pie\"}],\"scatter3d\":[{\"line\":{\"colorbar\":{\"outlinewidth\":0,\"ticks\":\"\"}},\"marker\":{\"colorbar\":{\"outlinewidth\":0,\"ticks\":\"\"}},\"type\":\"scatter3d\"}],\"scattercarpet\":[{\"marker\":{\"colorbar\":{\"outlinewidth\":0,\"ticks\":\"\"}},\"type\":\"scattercarpet\"}],\"scattergeo\":[{\"marker\":{\"colorbar\":{\"outlinewidth\":0,\"ticks\":\"\"}},\"type\":\"scattergeo\"}],\"scattergl\":[{\"marker\":{\"colorbar\":{\"outlinewidth\":0,\"ticks\":\"\"}},\"type\":\"scattergl\"}],\"scattermapbox\":[{\"marker\":{\"colorbar\":{\"outlinewidth\":0,\"ticks\":\"\"}},\"type\":\"scattermapbox\"}],\"scatterpolargl\":[{\"marker\":{\"colorbar\":{\"outlinewidth\":0,\"ticks\":\"\"}},\"type\":\"scatterpolargl\"}],\"scatterpolar\":[{\"marker\":{\"colorbar\":{\"outlinewidth\":0,\"ticks\":\"\"}},\"type\":\"scatterpolar\"}],\"scatter\":[{\"fillpattern\":{\"fillmode\":\"overlay\",\"size\":10,\"solidity\":0.2},\"type\":\"scatter\"}],\"scatterternary\":[{\"marker\":{\"colorbar\":{\"outlinewidth\":0,\"ticks\":\"\"}},\"type\":\"scatterternary\"}],\"surface\":[{\"colorbar\":{\"outlinewidth\":0,\"ticks\":\"\"},\"colorscale\":[[0.0,\"#0d0887\"],[0.1111111111111111,\"#46039f\"],[0.2222222222222222,\"#7201a8\"],[0.3333333333333333,\"#9c179e\"],[0.4444444444444444,\"#bd3786\"],[0.5555555555555556,\"#d8576b\"],[0.6666666666666666,\"#ed7953\"],[0.7777777777777778,\"#fb9f3a\"],[0.8888888888888888,\"#fdca26\"],[1.0,\"#f0f921\"]],\"type\":\"surface\"}],\"table\":[{\"cells\":{\"fill\":{\"color\":\"#EBF0F8\"},\"line\":{\"color\":\"white\"}},\"header\":{\"fill\":{\"color\":\"#C8D4E3\"},\"line\":{\"color\":\"white\"}},\"type\":\"table\"}]},\"layout\":{\"annotationdefaults\":{\"arrowcolor\":\"#2a3f5f\",\"arrowhead\":0,\"arrowwidth\":1},\"autotypenumbers\":\"strict\",\"coloraxis\":{\"colorbar\":{\"outlinewidth\":0,\"ticks\":\"\"}},\"colorscale\":{\"diverging\":[[0,\"#8e0152\"],[0.1,\"#c51b7d\"],[0.2,\"#de77ae\"],[0.3,\"#f1b6da\"],[0.4,\"#fde0ef\"],[0.5,\"#f7f7f7\"],[0.6,\"#e6f5d0\"],[0.7,\"#b8e186\"],[0.8,\"#7fbc41\"],[0.9,\"#4d9221\"],[1,\"#276419\"]],\"sequential\":[[0.0,\"#0d0887\"],[0.1111111111111111,\"#46039f\"],[0.2222222222222222,\"#7201a8\"],[0.3333333333333333,\"#9c179e\"],[0.4444444444444444,\"#bd3786\"],[0.5555555555555556,\"#d8576b\"],[0.6666666666666666,\"#ed7953\"],[0.7777777777777778,\"#fb9f3a\"],[0.8888888888888888,\"#fdca26\"],[1.0,\"#f0f921\"]],\"sequentialminus\":[[0.0,\"#0d0887\"],[0.1111111111111111,\"#46039f\"],[0.2222222222222222,\"#7201a8\"],[0.3333333333333333,\"#9c179e\"],[0.4444444444444444,\"#bd3786\"],[0.5555555555555556,\"#d8576b\"],[0.6666666666666666,\"#ed7953\"],[0.7777777777777778,\"#fb9f3a\"],[0.8888888888888888,\"#fdca26\"],[1.0,\"#f0f921\"]]},\"colorway\":[\"#636efa\",\"#EF553B\",\"#00cc96\",\"#ab63fa\",\"#FFA15A\",\"#19d3f3\",\"#FF6692\",\"#B6E880\",\"#FF97FF\",\"#FECB52\"],\"font\":{\"color\":\"#2a3f5f\"},\"geo\":{\"bgcolor\":\"white\",\"lakecolor\":\"white\",\"landcolor\":\"#E5ECF6\",\"showlakes\":true,\"showland\":true,\"subunitcolor\":\"white\"},\"hoverlabel\":{\"align\":\"left\"},\"hovermode\":\"closest\",\"mapbox\":{\"style\":\"light\"},\"paper_bgcolor\":\"white\",\"plot_bgcolor\":\"#E5ECF6\",\"polar\":{\"angularaxis\":{\"gridcolor\":\"white\",\"linecolor\":\"white\",\"ticks\":\"\"},\"bgcolor\":\"#E5ECF6\",\"radialaxis\":{\"gridcolor\":\"white\",\"linecolor\":\"white\",\"ticks\":\"\"}},\"scene\":{\"xaxis\":{\"backgroundcolor\":\"#E5ECF6\",\"gridcolor\":\"white\",\"gridwidth\":2,\"linecolor\":\"white\",\"showbackground\":true,\"ticks\":\"\",\"zerolinecolor\":\"white\"},\"yaxis\":{\"backgroundcolor\":\"#E5ECF6\",\"gridcolor\":\"white\",\"gridwidth\":2,\"linecolor\":\"white\",\"showbackground\":true,\"ticks\":\"\",\"zerolinecolor\":\"white\"},\"zaxis\":{\"backgroundcolor\":\"#E5ECF6\",\"gridcolor\":\"white\",\"gridwidth\":2,\"linecolor\":\"white\",\"showbackground\":true,\"ticks\":\"\",\"zerolinecolor\":\"white\"}},\"shapedefaults\":{\"line\":{\"color\":\"#2a3f5f\"}},\"ternary\":{\"aaxis\":{\"gridcolor\":\"white\",\"linecolor\":\"white\",\"ticks\":\"\"},\"baxis\":{\"gridcolor\":\"white\",\"linecolor\":\"white\",\"ticks\":\"\"},\"bgcolor\":\"#E5ECF6\",\"caxis\":{\"gridcolor\":\"white\",\"linecolor\":\"white\",\"ticks\":\"\"}},\"title\":{\"x\":0.05},\"xaxis\":{\"automargin\":true,\"gridcolor\":\"white\",\"linecolor\":\"white\",\"ticks\":\"\",\"title\":{\"standoff\":15},\"zerolinecolor\":\"white\",\"zerolinewidth\":2},\"yaxis\":{\"automargin\":true,\"gridcolor\":\"white\",\"linecolor\":\"white\",\"ticks\":\"\",\"title\":{\"standoff\":15},\"zerolinecolor\":\"white\",\"zerolinewidth\":2}}},\"title\":{\"text\":\"Parametri Range of Motion\"},\"xaxis\":{\"tickfont\":{\"color\":\"#7f7f7f\",\"family\":\"Courier New, monospace\",\"size\":14},\"title\":{\"font\":{\"color\":\"#7f7f7f\",\"family\":\"Courier New, monospace\",\"size\":18},\"text\":\"Month\"}},\"yaxis\":{\"tickfont\":{\"color\":\"#7f7f7f\",\"family\":\"Courier New, monospace\",\"size\":14},\"title\":{\"font\":{\"color\":\"#7f7f7f\",\"family\":\"Courier New, monospace\",\"size\":18},\"text\":\"ROM kneeLeft [gradi]\"}}},                        {\"responsive\": true}                    ).then(function(){\n",
       "                            \n",
       "var gd = document.getElementById('c4c9168a-649b-43b9-ad86-22ce4a31a419');\n",
       "var x = new MutationObserver(function (mutations, observer) {{\n",
       "        var display = window.getComputedStyle(gd).display;\n",
       "        if (!display || display === 'none') {{\n",
       "            console.log([gd, 'removed!']);\n",
       "            Plotly.purge(gd);\n",
       "            observer.disconnect();\n",
       "        }}\n",
       "}});\n",
       "\n",
       "// Listen for the removal of the full notebook cells\n",
       "var notebookContainer = gd.closest('#notebook-container');\n",
       "if (notebookContainer) {{\n",
       "    x.observe(notebookContainer, {childList: true});\n",
       "}}\n",
       "\n",
       "// Listen for the clearing of the current output cell\n",
       "var outputEl = gd.closest('.output');\n",
       "if (outputEl) {{\n",
       "    x.observe(outputEl, {childList: true});\n",
       "}}\n",
       "\n",
       "                        })                };                });            </script>        </div>"
      ]
     },
     "metadata": {},
     "output_type": "display_data"
    },
    {
     "data": {
      "application/vnd.plotly.v1+json": {
       "config": {
        "linkText": "Export to plot.ly",
        "plotlyServerURL": "https://plot.ly",
        "showLink": false
       },
       "data": [
        {
         "marker": {
          "color": "rgb(0,0,255)"
         },
         "name": "Massimo valore raggiunto",
         "type": "bar",
         "x": [
          1,
          2,
          3,
          4,
          5,
          6,
          7,
          8,
          9,
          10,
          11,
          12
         ],
         "y": [
          90,
          0,
          0,
          0,
          0,
          0,
          0,
          0,
          0,
          0,
          0,
          0
         ]
        },
        {
         "marker": {
          "color": "rgb(255,0,0)"
         },
         "name": "Minimo valore raggiunto",
         "type": "bar",
         "x": [
          1,
          2,
          3,
          4,
          5,
          6,
          7,
          8,
          9,
          10,
          11,
          12
         ],
         "y": [
          90,
          0,
          0,
          0,
          0,
          0,
          0,
          0,
          0,
          0,
          0,
          0
         ]
        }
       ],
       "layout": {
        "bargap": 0.1,
        "bargroupgap": 0,
        "barmode": "group",
        "font": {
         "color": "black",
         "family": "Courier New, monospace",
         "size": 18
        },
        "legend": {
         "bgcolor": "rgba(255, 255, 255, 0)",
         "bordercolor": "rgba(255, 255, 255, 0)"
        },
        "template": {
         "data": {
          "bar": [
           {
            "error_x": {
             "color": "#2a3f5f"
            },
            "error_y": {
             "color": "#2a3f5f"
            },
            "marker": {
             "line": {
              "color": "#E5ECF6",
              "width": 0.5
             },
             "pattern": {
              "fillmode": "overlay",
              "size": 10,
              "solidity": 0.2
             }
            },
            "type": "bar"
           }
          ],
          "barpolar": [
           {
            "marker": {
             "line": {
              "color": "#E5ECF6",
              "width": 0.5
             },
             "pattern": {
              "fillmode": "overlay",
              "size": 10,
              "solidity": 0.2
             }
            },
            "type": "barpolar"
           }
          ],
          "carpet": [
           {
            "aaxis": {
             "endlinecolor": "#2a3f5f",
             "gridcolor": "white",
             "linecolor": "white",
             "minorgridcolor": "white",
             "startlinecolor": "#2a3f5f"
            },
            "baxis": {
             "endlinecolor": "#2a3f5f",
             "gridcolor": "white",
             "linecolor": "white",
             "minorgridcolor": "white",
             "startlinecolor": "#2a3f5f"
            },
            "type": "carpet"
           }
          ],
          "choropleth": [
           {
            "colorbar": {
             "outlinewidth": 0,
             "ticks": ""
            },
            "type": "choropleth"
           }
          ],
          "contour": [
           {
            "colorbar": {
             "outlinewidth": 0,
             "ticks": ""
            },
            "colorscale": [
             [
              0,
              "#0d0887"
             ],
             [
              0.1111111111111111,
              "#46039f"
             ],
             [
              0.2222222222222222,
              "#7201a8"
             ],
             [
              0.3333333333333333,
              "#9c179e"
             ],
             [
              0.4444444444444444,
              "#bd3786"
             ],
             [
              0.5555555555555556,
              "#d8576b"
             ],
             [
              0.6666666666666666,
              "#ed7953"
             ],
             [
              0.7777777777777778,
              "#fb9f3a"
             ],
             [
              0.8888888888888888,
              "#fdca26"
             ],
             [
              1,
              "#f0f921"
             ]
            ],
            "type": "contour"
           }
          ],
          "contourcarpet": [
           {
            "colorbar": {
             "outlinewidth": 0,
             "ticks": ""
            },
            "type": "contourcarpet"
           }
          ],
          "heatmap": [
           {
            "colorbar": {
             "outlinewidth": 0,
             "ticks": ""
            },
            "colorscale": [
             [
              0,
              "#0d0887"
             ],
             [
              0.1111111111111111,
              "#46039f"
             ],
             [
              0.2222222222222222,
              "#7201a8"
             ],
             [
              0.3333333333333333,
              "#9c179e"
             ],
             [
              0.4444444444444444,
              "#bd3786"
             ],
             [
              0.5555555555555556,
              "#d8576b"
             ],
             [
              0.6666666666666666,
              "#ed7953"
             ],
             [
              0.7777777777777778,
              "#fb9f3a"
             ],
             [
              0.8888888888888888,
              "#fdca26"
             ],
             [
              1,
              "#f0f921"
             ]
            ],
            "type": "heatmap"
           }
          ],
          "heatmapgl": [
           {
            "colorbar": {
             "outlinewidth": 0,
             "ticks": ""
            },
            "colorscale": [
             [
              0,
              "#0d0887"
             ],
             [
              0.1111111111111111,
              "#46039f"
             ],
             [
              0.2222222222222222,
              "#7201a8"
             ],
             [
              0.3333333333333333,
              "#9c179e"
             ],
             [
              0.4444444444444444,
              "#bd3786"
             ],
             [
              0.5555555555555556,
              "#d8576b"
             ],
             [
              0.6666666666666666,
              "#ed7953"
             ],
             [
              0.7777777777777778,
              "#fb9f3a"
             ],
             [
              0.8888888888888888,
              "#fdca26"
             ],
             [
              1,
              "#f0f921"
             ]
            ],
            "type": "heatmapgl"
           }
          ],
          "histogram": [
           {
            "marker": {
             "pattern": {
              "fillmode": "overlay",
              "size": 10,
              "solidity": 0.2
             }
            },
            "type": "histogram"
           }
          ],
          "histogram2d": [
           {
            "colorbar": {
             "outlinewidth": 0,
             "ticks": ""
            },
            "colorscale": [
             [
              0,
              "#0d0887"
             ],
             [
              0.1111111111111111,
              "#46039f"
             ],
             [
              0.2222222222222222,
              "#7201a8"
             ],
             [
              0.3333333333333333,
              "#9c179e"
             ],
             [
              0.4444444444444444,
              "#bd3786"
             ],
             [
              0.5555555555555556,
              "#d8576b"
             ],
             [
              0.6666666666666666,
              "#ed7953"
             ],
             [
              0.7777777777777778,
              "#fb9f3a"
             ],
             [
              0.8888888888888888,
              "#fdca26"
             ],
             [
              1,
              "#f0f921"
             ]
            ],
            "type": "histogram2d"
           }
          ],
          "histogram2dcontour": [
           {
            "colorbar": {
             "outlinewidth": 0,
             "ticks": ""
            },
            "colorscale": [
             [
              0,
              "#0d0887"
             ],
             [
              0.1111111111111111,
              "#46039f"
             ],
             [
              0.2222222222222222,
              "#7201a8"
             ],
             [
              0.3333333333333333,
              "#9c179e"
             ],
             [
              0.4444444444444444,
              "#bd3786"
             ],
             [
              0.5555555555555556,
              "#d8576b"
             ],
             [
              0.6666666666666666,
              "#ed7953"
             ],
             [
              0.7777777777777778,
              "#fb9f3a"
             ],
             [
              0.8888888888888888,
              "#fdca26"
             ],
             [
              1,
              "#f0f921"
             ]
            ],
            "type": "histogram2dcontour"
           }
          ],
          "mesh3d": [
           {
            "colorbar": {
             "outlinewidth": 0,
             "ticks": ""
            },
            "type": "mesh3d"
           }
          ],
          "parcoords": [
           {
            "line": {
             "colorbar": {
              "outlinewidth": 0,
              "ticks": ""
             }
            },
            "type": "parcoords"
           }
          ],
          "pie": [
           {
            "automargin": true,
            "type": "pie"
           }
          ],
          "scatter": [
           {
            "fillpattern": {
             "fillmode": "overlay",
             "size": 10,
             "solidity": 0.2
            },
            "type": "scatter"
           }
          ],
          "scatter3d": [
           {
            "line": {
             "colorbar": {
              "outlinewidth": 0,
              "ticks": ""
             }
            },
            "marker": {
             "colorbar": {
              "outlinewidth": 0,
              "ticks": ""
             }
            },
            "type": "scatter3d"
           }
          ],
          "scattercarpet": [
           {
            "marker": {
             "colorbar": {
              "outlinewidth": 0,
              "ticks": ""
             }
            },
            "type": "scattercarpet"
           }
          ],
          "scattergeo": [
           {
            "marker": {
             "colorbar": {
              "outlinewidth": 0,
              "ticks": ""
             }
            },
            "type": "scattergeo"
           }
          ],
          "scattergl": [
           {
            "marker": {
             "colorbar": {
              "outlinewidth": 0,
              "ticks": ""
             }
            },
            "type": "scattergl"
           }
          ],
          "scattermapbox": [
           {
            "marker": {
             "colorbar": {
              "outlinewidth": 0,
              "ticks": ""
             }
            },
            "type": "scattermapbox"
           }
          ],
          "scatterpolar": [
           {
            "marker": {
             "colorbar": {
              "outlinewidth": 0,
              "ticks": ""
             }
            },
            "type": "scatterpolar"
           }
          ],
          "scatterpolargl": [
           {
            "marker": {
             "colorbar": {
              "outlinewidth": 0,
              "ticks": ""
             }
            },
            "type": "scatterpolargl"
           }
          ],
          "scatterternary": [
           {
            "marker": {
             "colorbar": {
              "outlinewidth": 0,
              "ticks": ""
             }
            },
            "type": "scatterternary"
           }
          ],
          "surface": [
           {
            "colorbar": {
             "outlinewidth": 0,
             "ticks": ""
            },
            "colorscale": [
             [
              0,
              "#0d0887"
             ],
             [
              0.1111111111111111,
              "#46039f"
             ],
             [
              0.2222222222222222,
              "#7201a8"
             ],
             [
              0.3333333333333333,
              "#9c179e"
             ],
             [
              0.4444444444444444,
              "#bd3786"
             ],
             [
              0.5555555555555556,
              "#d8576b"
             ],
             [
              0.6666666666666666,
              "#ed7953"
             ],
             [
              0.7777777777777778,
              "#fb9f3a"
             ],
             [
              0.8888888888888888,
              "#fdca26"
             ],
             [
              1,
              "#f0f921"
             ]
            ],
            "type": "surface"
           }
          ],
          "table": [
           {
            "cells": {
             "fill": {
              "color": "#EBF0F8"
             },
             "line": {
              "color": "white"
             }
            },
            "header": {
             "fill": {
              "color": "#C8D4E3"
             },
             "line": {
              "color": "white"
             }
            },
            "type": "table"
           }
          ]
         },
         "layout": {
          "annotationdefaults": {
           "arrowcolor": "#2a3f5f",
           "arrowhead": 0,
           "arrowwidth": 1
          },
          "autotypenumbers": "strict",
          "coloraxis": {
           "colorbar": {
            "outlinewidth": 0,
            "ticks": ""
           }
          },
          "colorscale": {
           "diverging": [
            [
             0,
             "#8e0152"
            ],
            [
             0.1,
             "#c51b7d"
            ],
            [
             0.2,
             "#de77ae"
            ],
            [
             0.3,
             "#f1b6da"
            ],
            [
             0.4,
             "#fde0ef"
            ],
            [
             0.5,
             "#f7f7f7"
            ],
            [
             0.6,
             "#e6f5d0"
            ],
            [
             0.7,
             "#b8e186"
            ],
            [
             0.8,
             "#7fbc41"
            ],
            [
             0.9,
             "#4d9221"
            ],
            [
             1,
             "#276419"
            ]
           ],
           "sequential": [
            [
             0,
             "#0d0887"
            ],
            [
             0.1111111111111111,
             "#46039f"
            ],
            [
             0.2222222222222222,
             "#7201a8"
            ],
            [
             0.3333333333333333,
             "#9c179e"
            ],
            [
             0.4444444444444444,
             "#bd3786"
            ],
            [
             0.5555555555555556,
             "#d8576b"
            ],
            [
             0.6666666666666666,
             "#ed7953"
            ],
            [
             0.7777777777777778,
             "#fb9f3a"
            ],
            [
             0.8888888888888888,
             "#fdca26"
            ],
            [
             1,
             "#f0f921"
            ]
           ],
           "sequentialminus": [
            [
             0,
             "#0d0887"
            ],
            [
             0.1111111111111111,
             "#46039f"
            ],
            [
             0.2222222222222222,
             "#7201a8"
            ],
            [
             0.3333333333333333,
             "#9c179e"
            ],
            [
             0.4444444444444444,
             "#bd3786"
            ],
            [
             0.5555555555555556,
             "#d8576b"
            ],
            [
             0.6666666666666666,
             "#ed7953"
            ],
            [
             0.7777777777777778,
             "#fb9f3a"
            ],
            [
             0.8888888888888888,
             "#fdca26"
            ],
            [
             1,
             "#f0f921"
            ]
           ]
          },
          "colorway": [
           "#636efa",
           "#EF553B",
           "#00cc96",
           "#ab63fa",
           "#FFA15A",
           "#19d3f3",
           "#FF6692",
           "#B6E880",
           "#FF97FF",
           "#FECB52"
          ],
          "font": {
           "color": "#2a3f5f"
          },
          "geo": {
           "bgcolor": "white",
           "lakecolor": "white",
           "landcolor": "#E5ECF6",
           "showlakes": true,
           "showland": true,
           "subunitcolor": "white"
          },
          "hoverlabel": {
           "align": "left"
          },
          "hovermode": "closest",
          "mapbox": {
           "style": "light"
          },
          "paper_bgcolor": "white",
          "plot_bgcolor": "#E5ECF6",
          "polar": {
           "angularaxis": {
            "gridcolor": "white",
            "linecolor": "white",
            "ticks": ""
           },
           "bgcolor": "#E5ECF6",
           "radialaxis": {
            "gridcolor": "white",
            "linecolor": "white",
            "ticks": ""
           }
          },
          "scene": {
           "xaxis": {
            "backgroundcolor": "#E5ECF6",
            "gridcolor": "white",
            "gridwidth": 2,
            "linecolor": "white",
            "showbackground": true,
            "ticks": "",
            "zerolinecolor": "white"
           },
           "yaxis": {
            "backgroundcolor": "#E5ECF6",
            "gridcolor": "white",
            "gridwidth": 2,
            "linecolor": "white",
            "showbackground": true,
            "ticks": "",
            "zerolinecolor": "white"
           },
           "zaxis": {
            "backgroundcolor": "#E5ECF6",
            "gridcolor": "white",
            "gridwidth": 2,
            "linecolor": "white",
            "showbackground": true,
            "ticks": "",
            "zerolinecolor": "white"
           }
          },
          "shapedefaults": {
           "line": {
            "color": "#2a3f5f"
           }
          },
          "ternary": {
           "aaxis": {
            "gridcolor": "white",
            "linecolor": "white",
            "ticks": ""
           },
           "baxis": {
            "gridcolor": "white",
            "linecolor": "white",
            "ticks": ""
           },
           "bgcolor": "#E5ECF6",
           "caxis": {
            "gridcolor": "white",
            "linecolor": "white",
            "ticks": ""
           }
          },
          "title": {
           "x": 0.05
          },
          "xaxis": {
           "automargin": true,
           "gridcolor": "white",
           "linecolor": "white",
           "ticks": "",
           "title": {
            "standoff": 15
           },
           "zerolinecolor": "white",
           "zerolinewidth": 2
          },
          "yaxis": {
           "automargin": true,
           "gridcolor": "white",
           "linecolor": "white",
           "ticks": "",
           "title": {
            "standoff": 15
           },
           "zerolinecolor": "white",
           "zerolinewidth": 2
          }
         }
        },
        "title": {
         "text": "Parametri Range of Motion"
        },
        "xaxis": {
         "tickfont": {
          "color": "#7f7f7f",
          "family": "Courier New, monospace",
          "size": 14
         },
         "title": {
          "font": {
           "color": "#7f7f7f",
           "family": "Courier New, monospace",
           "size": 18
          },
          "text": "Month"
         }
        },
        "yaxis": {
         "tickfont": {
          "color": "#7f7f7f",
          "family": "Courier New, monospace",
          "size": 14
         },
         "title": {
          "font": {
           "color": "#7f7f7f",
           "family": "Courier New, monospace",
           "size": 18
          },
          "text": "ROM ankleLeft [gradi]"
         }
        }
       }
      },
      "text/html": [
       "<div>                            <div id=\"540ce2d3-e1f8-4463-9190-527bcc917def\" class=\"plotly-graph-div\" style=\"height:525px; width:100%;\"></div>            <script type=\"text/javascript\">                require([\"plotly\"], function(Plotly) {                    window.PLOTLYENV=window.PLOTLYENV || {};                                    if (document.getElementById(\"540ce2d3-e1f8-4463-9190-527bcc917def\")) {                    Plotly.newPlot(                        \"540ce2d3-e1f8-4463-9190-527bcc917def\",                        [{\"marker\":{\"color\":\"rgb(0,0,255)\"},\"name\":\"Massimo valore raggiunto\",\"x\":[1,2,3,4,5,6,7,8,9,10,11,12],\"y\":[90.0,0,0,0,0,0,0,0,0,0,0,0],\"type\":\"bar\"},{\"marker\":{\"color\":\"rgb(255,0,0)\"},\"name\":\"Minimo valore raggiunto\",\"x\":[1,2,3,4,5,6,7,8,9,10,11,12],\"y\":[90.0,0,0,0,0,0,0,0,0,0,0,0],\"type\":\"bar\"}],                        {\"bargap\":0.1,\"bargroupgap\":0.0,\"barmode\":\"group\",\"font\":{\"color\":\"black\",\"family\":\"Courier New, monospace\",\"size\":18},\"legend\":{\"bgcolor\":\"rgba(255, 255, 255, 0)\",\"bordercolor\":\"rgba(255, 255, 255, 0)\"},\"template\":{\"data\":{\"barpolar\":[{\"marker\":{\"line\":{\"color\":\"#E5ECF6\",\"width\":0.5},\"pattern\":{\"fillmode\":\"overlay\",\"size\":10,\"solidity\":0.2}},\"type\":\"barpolar\"}],\"bar\":[{\"error_x\":{\"color\":\"#2a3f5f\"},\"error_y\":{\"color\":\"#2a3f5f\"},\"marker\":{\"line\":{\"color\":\"#E5ECF6\",\"width\":0.5},\"pattern\":{\"fillmode\":\"overlay\",\"size\":10,\"solidity\":0.2}},\"type\":\"bar\"}],\"carpet\":[{\"aaxis\":{\"endlinecolor\":\"#2a3f5f\",\"gridcolor\":\"white\",\"linecolor\":\"white\",\"minorgridcolor\":\"white\",\"startlinecolor\":\"#2a3f5f\"},\"baxis\":{\"endlinecolor\":\"#2a3f5f\",\"gridcolor\":\"white\",\"linecolor\":\"white\",\"minorgridcolor\":\"white\",\"startlinecolor\":\"#2a3f5f\"},\"type\":\"carpet\"}],\"choropleth\":[{\"colorbar\":{\"outlinewidth\":0,\"ticks\":\"\"},\"type\":\"choropleth\"}],\"contourcarpet\":[{\"colorbar\":{\"outlinewidth\":0,\"ticks\":\"\"},\"type\":\"contourcarpet\"}],\"contour\":[{\"colorbar\":{\"outlinewidth\":0,\"ticks\":\"\"},\"colorscale\":[[0.0,\"#0d0887\"],[0.1111111111111111,\"#46039f\"],[0.2222222222222222,\"#7201a8\"],[0.3333333333333333,\"#9c179e\"],[0.4444444444444444,\"#bd3786\"],[0.5555555555555556,\"#d8576b\"],[0.6666666666666666,\"#ed7953\"],[0.7777777777777778,\"#fb9f3a\"],[0.8888888888888888,\"#fdca26\"],[1.0,\"#f0f921\"]],\"type\":\"contour\"}],\"heatmapgl\":[{\"colorbar\":{\"outlinewidth\":0,\"ticks\":\"\"},\"colorscale\":[[0.0,\"#0d0887\"],[0.1111111111111111,\"#46039f\"],[0.2222222222222222,\"#7201a8\"],[0.3333333333333333,\"#9c179e\"],[0.4444444444444444,\"#bd3786\"],[0.5555555555555556,\"#d8576b\"],[0.6666666666666666,\"#ed7953\"],[0.7777777777777778,\"#fb9f3a\"],[0.8888888888888888,\"#fdca26\"],[1.0,\"#f0f921\"]],\"type\":\"heatmapgl\"}],\"heatmap\":[{\"colorbar\":{\"outlinewidth\":0,\"ticks\":\"\"},\"colorscale\":[[0.0,\"#0d0887\"],[0.1111111111111111,\"#46039f\"],[0.2222222222222222,\"#7201a8\"],[0.3333333333333333,\"#9c179e\"],[0.4444444444444444,\"#bd3786\"],[0.5555555555555556,\"#d8576b\"],[0.6666666666666666,\"#ed7953\"],[0.7777777777777778,\"#fb9f3a\"],[0.8888888888888888,\"#fdca26\"],[1.0,\"#f0f921\"]],\"type\":\"heatmap\"}],\"histogram2dcontour\":[{\"colorbar\":{\"outlinewidth\":0,\"ticks\":\"\"},\"colorscale\":[[0.0,\"#0d0887\"],[0.1111111111111111,\"#46039f\"],[0.2222222222222222,\"#7201a8\"],[0.3333333333333333,\"#9c179e\"],[0.4444444444444444,\"#bd3786\"],[0.5555555555555556,\"#d8576b\"],[0.6666666666666666,\"#ed7953\"],[0.7777777777777778,\"#fb9f3a\"],[0.8888888888888888,\"#fdca26\"],[1.0,\"#f0f921\"]],\"type\":\"histogram2dcontour\"}],\"histogram2d\":[{\"colorbar\":{\"outlinewidth\":0,\"ticks\":\"\"},\"colorscale\":[[0.0,\"#0d0887\"],[0.1111111111111111,\"#46039f\"],[0.2222222222222222,\"#7201a8\"],[0.3333333333333333,\"#9c179e\"],[0.4444444444444444,\"#bd3786\"],[0.5555555555555556,\"#d8576b\"],[0.6666666666666666,\"#ed7953\"],[0.7777777777777778,\"#fb9f3a\"],[0.8888888888888888,\"#fdca26\"],[1.0,\"#f0f921\"]],\"type\":\"histogram2d\"}],\"histogram\":[{\"marker\":{\"pattern\":{\"fillmode\":\"overlay\",\"size\":10,\"solidity\":0.2}},\"type\":\"histogram\"}],\"mesh3d\":[{\"colorbar\":{\"outlinewidth\":0,\"ticks\":\"\"},\"type\":\"mesh3d\"}],\"parcoords\":[{\"line\":{\"colorbar\":{\"outlinewidth\":0,\"ticks\":\"\"}},\"type\":\"parcoords\"}],\"pie\":[{\"automargin\":true,\"type\":\"pie\"}],\"scatter3d\":[{\"line\":{\"colorbar\":{\"outlinewidth\":0,\"ticks\":\"\"}},\"marker\":{\"colorbar\":{\"outlinewidth\":0,\"ticks\":\"\"}},\"type\":\"scatter3d\"}],\"scattercarpet\":[{\"marker\":{\"colorbar\":{\"outlinewidth\":0,\"ticks\":\"\"}},\"type\":\"scattercarpet\"}],\"scattergeo\":[{\"marker\":{\"colorbar\":{\"outlinewidth\":0,\"ticks\":\"\"}},\"type\":\"scattergeo\"}],\"scattergl\":[{\"marker\":{\"colorbar\":{\"outlinewidth\":0,\"ticks\":\"\"}},\"type\":\"scattergl\"}],\"scattermapbox\":[{\"marker\":{\"colorbar\":{\"outlinewidth\":0,\"ticks\":\"\"}},\"type\":\"scattermapbox\"}],\"scatterpolargl\":[{\"marker\":{\"colorbar\":{\"outlinewidth\":0,\"ticks\":\"\"}},\"type\":\"scatterpolargl\"}],\"scatterpolar\":[{\"marker\":{\"colorbar\":{\"outlinewidth\":0,\"ticks\":\"\"}},\"type\":\"scatterpolar\"}],\"scatter\":[{\"fillpattern\":{\"fillmode\":\"overlay\",\"size\":10,\"solidity\":0.2},\"type\":\"scatter\"}],\"scatterternary\":[{\"marker\":{\"colorbar\":{\"outlinewidth\":0,\"ticks\":\"\"}},\"type\":\"scatterternary\"}],\"surface\":[{\"colorbar\":{\"outlinewidth\":0,\"ticks\":\"\"},\"colorscale\":[[0.0,\"#0d0887\"],[0.1111111111111111,\"#46039f\"],[0.2222222222222222,\"#7201a8\"],[0.3333333333333333,\"#9c179e\"],[0.4444444444444444,\"#bd3786\"],[0.5555555555555556,\"#d8576b\"],[0.6666666666666666,\"#ed7953\"],[0.7777777777777778,\"#fb9f3a\"],[0.8888888888888888,\"#fdca26\"],[1.0,\"#f0f921\"]],\"type\":\"surface\"}],\"table\":[{\"cells\":{\"fill\":{\"color\":\"#EBF0F8\"},\"line\":{\"color\":\"white\"}},\"header\":{\"fill\":{\"color\":\"#C8D4E3\"},\"line\":{\"color\":\"white\"}},\"type\":\"table\"}]},\"layout\":{\"annotationdefaults\":{\"arrowcolor\":\"#2a3f5f\",\"arrowhead\":0,\"arrowwidth\":1},\"autotypenumbers\":\"strict\",\"coloraxis\":{\"colorbar\":{\"outlinewidth\":0,\"ticks\":\"\"}},\"colorscale\":{\"diverging\":[[0,\"#8e0152\"],[0.1,\"#c51b7d\"],[0.2,\"#de77ae\"],[0.3,\"#f1b6da\"],[0.4,\"#fde0ef\"],[0.5,\"#f7f7f7\"],[0.6,\"#e6f5d0\"],[0.7,\"#b8e186\"],[0.8,\"#7fbc41\"],[0.9,\"#4d9221\"],[1,\"#276419\"]],\"sequential\":[[0.0,\"#0d0887\"],[0.1111111111111111,\"#46039f\"],[0.2222222222222222,\"#7201a8\"],[0.3333333333333333,\"#9c179e\"],[0.4444444444444444,\"#bd3786\"],[0.5555555555555556,\"#d8576b\"],[0.6666666666666666,\"#ed7953\"],[0.7777777777777778,\"#fb9f3a\"],[0.8888888888888888,\"#fdca26\"],[1.0,\"#f0f921\"]],\"sequentialminus\":[[0.0,\"#0d0887\"],[0.1111111111111111,\"#46039f\"],[0.2222222222222222,\"#7201a8\"],[0.3333333333333333,\"#9c179e\"],[0.4444444444444444,\"#bd3786\"],[0.5555555555555556,\"#d8576b\"],[0.6666666666666666,\"#ed7953\"],[0.7777777777777778,\"#fb9f3a\"],[0.8888888888888888,\"#fdca26\"],[1.0,\"#f0f921\"]]},\"colorway\":[\"#636efa\",\"#EF553B\",\"#00cc96\",\"#ab63fa\",\"#FFA15A\",\"#19d3f3\",\"#FF6692\",\"#B6E880\",\"#FF97FF\",\"#FECB52\"],\"font\":{\"color\":\"#2a3f5f\"},\"geo\":{\"bgcolor\":\"white\",\"lakecolor\":\"white\",\"landcolor\":\"#E5ECF6\",\"showlakes\":true,\"showland\":true,\"subunitcolor\":\"white\"},\"hoverlabel\":{\"align\":\"left\"},\"hovermode\":\"closest\",\"mapbox\":{\"style\":\"light\"},\"paper_bgcolor\":\"white\",\"plot_bgcolor\":\"#E5ECF6\",\"polar\":{\"angularaxis\":{\"gridcolor\":\"white\",\"linecolor\":\"white\",\"ticks\":\"\"},\"bgcolor\":\"#E5ECF6\",\"radialaxis\":{\"gridcolor\":\"white\",\"linecolor\":\"white\",\"ticks\":\"\"}},\"scene\":{\"xaxis\":{\"backgroundcolor\":\"#E5ECF6\",\"gridcolor\":\"white\",\"gridwidth\":2,\"linecolor\":\"white\",\"showbackground\":true,\"ticks\":\"\",\"zerolinecolor\":\"white\"},\"yaxis\":{\"backgroundcolor\":\"#E5ECF6\",\"gridcolor\":\"white\",\"gridwidth\":2,\"linecolor\":\"white\",\"showbackground\":true,\"ticks\":\"\",\"zerolinecolor\":\"white\"},\"zaxis\":{\"backgroundcolor\":\"#E5ECF6\",\"gridcolor\":\"white\",\"gridwidth\":2,\"linecolor\":\"white\",\"showbackground\":true,\"ticks\":\"\",\"zerolinecolor\":\"white\"}},\"shapedefaults\":{\"line\":{\"color\":\"#2a3f5f\"}},\"ternary\":{\"aaxis\":{\"gridcolor\":\"white\",\"linecolor\":\"white\",\"ticks\":\"\"},\"baxis\":{\"gridcolor\":\"white\",\"linecolor\":\"white\",\"ticks\":\"\"},\"bgcolor\":\"#E5ECF6\",\"caxis\":{\"gridcolor\":\"white\",\"linecolor\":\"white\",\"ticks\":\"\"}},\"title\":{\"x\":0.05},\"xaxis\":{\"automargin\":true,\"gridcolor\":\"white\",\"linecolor\":\"white\",\"ticks\":\"\",\"title\":{\"standoff\":15},\"zerolinecolor\":\"white\",\"zerolinewidth\":2},\"yaxis\":{\"automargin\":true,\"gridcolor\":\"white\",\"linecolor\":\"white\",\"ticks\":\"\",\"title\":{\"standoff\":15},\"zerolinecolor\":\"white\",\"zerolinewidth\":2}}},\"title\":{\"text\":\"Parametri Range of Motion\"},\"xaxis\":{\"tickfont\":{\"color\":\"#7f7f7f\",\"family\":\"Courier New, monospace\",\"size\":14},\"title\":{\"font\":{\"color\":\"#7f7f7f\",\"family\":\"Courier New, monospace\",\"size\":18},\"text\":\"Month\"}},\"yaxis\":{\"tickfont\":{\"color\":\"#7f7f7f\",\"family\":\"Courier New, monospace\",\"size\":14},\"title\":{\"font\":{\"color\":\"#7f7f7f\",\"family\":\"Courier New, monospace\",\"size\":18},\"text\":\"ROM ankleLeft [gradi]\"}}},                        {\"responsive\": true}                    ).then(function(){\n",
       "                            \n",
       "var gd = document.getElementById('540ce2d3-e1f8-4463-9190-527bcc917def');\n",
       "var x = new MutationObserver(function (mutations, observer) {{\n",
       "        var display = window.getComputedStyle(gd).display;\n",
       "        if (!display || display === 'none') {{\n",
       "            console.log([gd, 'removed!']);\n",
       "            Plotly.purge(gd);\n",
       "            observer.disconnect();\n",
       "        }}\n",
       "}});\n",
       "\n",
       "// Listen for the removal of the full notebook cells\n",
       "var notebookContainer = gd.closest('#notebook-container');\n",
       "if (notebookContainer) {{\n",
       "    x.observe(notebookContainer, {childList: true});\n",
       "}}\n",
       "\n",
       "// Listen for the clearing of the current output cell\n",
       "var outputEl = gd.closest('.output');\n",
       "if (outputEl) {{\n",
       "    x.observe(outputEl, {childList: true});\n",
       "}}\n",
       "\n",
       "                        })                };                });            </script>        </div>"
      ]
     },
     "metadata": {},
     "output_type": "display_data"
    },
    {
     "data": {
      "application/vnd.plotly.v1+json": {
       "config": {
        "linkText": "Export to plot.ly",
        "plotlyServerURL": "https://plot.ly",
        "showLink": false
       },
       "data": [
        {
         "marker": {
          "color": "rgb(0,0,255)"
         },
         "name": "Massimo valore raggiunto",
         "type": "bar",
         "x": [
          1,
          2,
          3,
          4,
          5,
          6,
          7,
          8,
          9,
          10,
          11,
          12
         ],
         "y": [
          90,
          0,
          0,
          0,
          0,
          0,
          0,
          0,
          0,
          0,
          0,
          0
         ]
        },
        {
         "marker": {
          "color": "rgb(255,0,0)"
         },
         "name": "Minimo valore raggiunto",
         "type": "bar",
         "x": [
          1,
          2,
          3,
          4,
          5,
          6,
          7,
          8,
          9,
          10,
          11,
          12
         ],
         "y": [
          90,
          0,
          0,
          0,
          0,
          0,
          0,
          0,
          0,
          0,
          0,
          0
         ]
        }
       ],
       "layout": {
        "bargap": 0.1,
        "bargroupgap": 0,
        "barmode": "group",
        "font": {
         "color": "black",
         "family": "Courier New, monospace",
         "size": 18
        },
        "legend": {
         "bgcolor": "rgba(255, 255, 255, 0)",
         "bordercolor": "rgba(255, 255, 255, 0)"
        },
        "template": {
         "data": {
          "bar": [
           {
            "error_x": {
             "color": "#2a3f5f"
            },
            "error_y": {
             "color": "#2a3f5f"
            },
            "marker": {
             "line": {
              "color": "#E5ECF6",
              "width": 0.5
             },
             "pattern": {
              "fillmode": "overlay",
              "size": 10,
              "solidity": 0.2
             }
            },
            "type": "bar"
           }
          ],
          "barpolar": [
           {
            "marker": {
             "line": {
              "color": "#E5ECF6",
              "width": 0.5
             },
             "pattern": {
              "fillmode": "overlay",
              "size": 10,
              "solidity": 0.2
             }
            },
            "type": "barpolar"
           }
          ],
          "carpet": [
           {
            "aaxis": {
             "endlinecolor": "#2a3f5f",
             "gridcolor": "white",
             "linecolor": "white",
             "minorgridcolor": "white",
             "startlinecolor": "#2a3f5f"
            },
            "baxis": {
             "endlinecolor": "#2a3f5f",
             "gridcolor": "white",
             "linecolor": "white",
             "minorgridcolor": "white",
             "startlinecolor": "#2a3f5f"
            },
            "type": "carpet"
           }
          ],
          "choropleth": [
           {
            "colorbar": {
             "outlinewidth": 0,
             "ticks": ""
            },
            "type": "choropleth"
           }
          ],
          "contour": [
           {
            "colorbar": {
             "outlinewidth": 0,
             "ticks": ""
            },
            "colorscale": [
             [
              0,
              "#0d0887"
             ],
             [
              0.1111111111111111,
              "#46039f"
             ],
             [
              0.2222222222222222,
              "#7201a8"
             ],
             [
              0.3333333333333333,
              "#9c179e"
             ],
             [
              0.4444444444444444,
              "#bd3786"
             ],
             [
              0.5555555555555556,
              "#d8576b"
             ],
             [
              0.6666666666666666,
              "#ed7953"
             ],
             [
              0.7777777777777778,
              "#fb9f3a"
             ],
             [
              0.8888888888888888,
              "#fdca26"
             ],
             [
              1,
              "#f0f921"
             ]
            ],
            "type": "contour"
           }
          ],
          "contourcarpet": [
           {
            "colorbar": {
             "outlinewidth": 0,
             "ticks": ""
            },
            "type": "contourcarpet"
           }
          ],
          "heatmap": [
           {
            "colorbar": {
             "outlinewidth": 0,
             "ticks": ""
            },
            "colorscale": [
             [
              0,
              "#0d0887"
             ],
             [
              0.1111111111111111,
              "#46039f"
             ],
             [
              0.2222222222222222,
              "#7201a8"
             ],
             [
              0.3333333333333333,
              "#9c179e"
             ],
             [
              0.4444444444444444,
              "#bd3786"
             ],
             [
              0.5555555555555556,
              "#d8576b"
             ],
             [
              0.6666666666666666,
              "#ed7953"
             ],
             [
              0.7777777777777778,
              "#fb9f3a"
             ],
             [
              0.8888888888888888,
              "#fdca26"
             ],
             [
              1,
              "#f0f921"
             ]
            ],
            "type": "heatmap"
           }
          ],
          "heatmapgl": [
           {
            "colorbar": {
             "outlinewidth": 0,
             "ticks": ""
            },
            "colorscale": [
             [
              0,
              "#0d0887"
             ],
             [
              0.1111111111111111,
              "#46039f"
             ],
             [
              0.2222222222222222,
              "#7201a8"
             ],
             [
              0.3333333333333333,
              "#9c179e"
             ],
             [
              0.4444444444444444,
              "#bd3786"
             ],
             [
              0.5555555555555556,
              "#d8576b"
             ],
             [
              0.6666666666666666,
              "#ed7953"
             ],
             [
              0.7777777777777778,
              "#fb9f3a"
             ],
             [
              0.8888888888888888,
              "#fdca26"
             ],
             [
              1,
              "#f0f921"
             ]
            ],
            "type": "heatmapgl"
           }
          ],
          "histogram": [
           {
            "marker": {
             "pattern": {
              "fillmode": "overlay",
              "size": 10,
              "solidity": 0.2
             }
            },
            "type": "histogram"
           }
          ],
          "histogram2d": [
           {
            "colorbar": {
             "outlinewidth": 0,
             "ticks": ""
            },
            "colorscale": [
             [
              0,
              "#0d0887"
             ],
             [
              0.1111111111111111,
              "#46039f"
             ],
             [
              0.2222222222222222,
              "#7201a8"
             ],
             [
              0.3333333333333333,
              "#9c179e"
             ],
             [
              0.4444444444444444,
              "#bd3786"
             ],
             [
              0.5555555555555556,
              "#d8576b"
             ],
             [
              0.6666666666666666,
              "#ed7953"
             ],
             [
              0.7777777777777778,
              "#fb9f3a"
             ],
             [
              0.8888888888888888,
              "#fdca26"
             ],
             [
              1,
              "#f0f921"
             ]
            ],
            "type": "histogram2d"
           }
          ],
          "histogram2dcontour": [
           {
            "colorbar": {
             "outlinewidth": 0,
             "ticks": ""
            },
            "colorscale": [
             [
              0,
              "#0d0887"
             ],
             [
              0.1111111111111111,
              "#46039f"
             ],
             [
              0.2222222222222222,
              "#7201a8"
             ],
             [
              0.3333333333333333,
              "#9c179e"
             ],
             [
              0.4444444444444444,
              "#bd3786"
             ],
             [
              0.5555555555555556,
              "#d8576b"
             ],
             [
              0.6666666666666666,
              "#ed7953"
             ],
             [
              0.7777777777777778,
              "#fb9f3a"
             ],
             [
              0.8888888888888888,
              "#fdca26"
             ],
             [
              1,
              "#f0f921"
             ]
            ],
            "type": "histogram2dcontour"
           }
          ],
          "mesh3d": [
           {
            "colorbar": {
             "outlinewidth": 0,
             "ticks": ""
            },
            "type": "mesh3d"
           }
          ],
          "parcoords": [
           {
            "line": {
             "colorbar": {
              "outlinewidth": 0,
              "ticks": ""
             }
            },
            "type": "parcoords"
           }
          ],
          "pie": [
           {
            "automargin": true,
            "type": "pie"
           }
          ],
          "scatter": [
           {
            "fillpattern": {
             "fillmode": "overlay",
             "size": 10,
             "solidity": 0.2
            },
            "type": "scatter"
           }
          ],
          "scatter3d": [
           {
            "line": {
             "colorbar": {
              "outlinewidth": 0,
              "ticks": ""
             }
            },
            "marker": {
             "colorbar": {
              "outlinewidth": 0,
              "ticks": ""
             }
            },
            "type": "scatter3d"
           }
          ],
          "scattercarpet": [
           {
            "marker": {
             "colorbar": {
              "outlinewidth": 0,
              "ticks": ""
             }
            },
            "type": "scattercarpet"
           }
          ],
          "scattergeo": [
           {
            "marker": {
             "colorbar": {
              "outlinewidth": 0,
              "ticks": ""
             }
            },
            "type": "scattergeo"
           }
          ],
          "scattergl": [
           {
            "marker": {
             "colorbar": {
              "outlinewidth": 0,
              "ticks": ""
             }
            },
            "type": "scattergl"
           }
          ],
          "scattermapbox": [
           {
            "marker": {
             "colorbar": {
              "outlinewidth": 0,
              "ticks": ""
             }
            },
            "type": "scattermapbox"
           }
          ],
          "scatterpolar": [
           {
            "marker": {
             "colorbar": {
              "outlinewidth": 0,
              "ticks": ""
             }
            },
            "type": "scatterpolar"
           }
          ],
          "scatterpolargl": [
           {
            "marker": {
             "colorbar": {
              "outlinewidth": 0,
              "ticks": ""
             }
            },
            "type": "scatterpolargl"
           }
          ],
          "scatterternary": [
           {
            "marker": {
             "colorbar": {
              "outlinewidth": 0,
              "ticks": ""
             }
            },
            "type": "scatterternary"
           }
          ],
          "surface": [
           {
            "colorbar": {
             "outlinewidth": 0,
             "ticks": ""
            },
            "colorscale": [
             [
              0,
              "#0d0887"
             ],
             [
              0.1111111111111111,
              "#46039f"
             ],
             [
              0.2222222222222222,
              "#7201a8"
             ],
             [
              0.3333333333333333,
              "#9c179e"
             ],
             [
              0.4444444444444444,
              "#bd3786"
             ],
             [
              0.5555555555555556,
              "#d8576b"
             ],
             [
              0.6666666666666666,
              "#ed7953"
             ],
             [
              0.7777777777777778,
              "#fb9f3a"
             ],
             [
              0.8888888888888888,
              "#fdca26"
             ],
             [
              1,
              "#f0f921"
             ]
            ],
            "type": "surface"
           }
          ],
          "table": [
           {
            "cells": {
             "fill": {
              "color": "#EBF0F8"
             },
             "line": {
              "color": "white"
             }
            },
            "header": {
             "fill": {
              "color": "#C8D4E3"
             },
             "line": {
              "color": "white"
             }
            },
            "type": "table"
           }
          ]
         },
         "layout": {
          "annotationdefaults": {
           "arrowcolor": "#2a3f5f",
           "arrowhead": 0,
           "arrowwidth": 1
          },
          "autotypenumbers": "strict",
          "coloraxis": {
           "colorbar": {
            "outlinewidth": 0,
            "ticks": ""
           }
          },
          "colorscale": {
           "diverging": [
            [
             0,
             "#8e0152"
            ],
            [
             0.1,
             "#c51b7d"
            ],
            [
             0.2,
             "#de77ae"
            ],
            [
             0.3,
             "#f1b6da"
            ],
            [
             0.4,
             "#fde0ef"
            ],
            [
             0.5,
             "#f7f7f7"
            ],
            [
             0.6,
             "#e6f5d0"
            ],
            [
             0.7,
             "#b8e186"
            ],
            [
             0.8,
             "#7fbc41"
            ],
            [
             0.9,
             "#4d9221"
            ],
            [
             1,
             "#276419"
            ]
           ],
           "sequential": [
            [
             0,
             "#0d0887"
            ],
            [
             0.1111111111111111,
             "#46039f"
            ],
            [
             0.2222222222222222,
             "#7201a8"
            ],
            [
             0.3333333333333333,
             "#9c179e"
            ],
            [
             0.4444444444444444,
             "#bd3786"
            ],
            [
             0.5555555555555556,
             "#d8576b"
            ],
            [
             0.6666666666666666,
             "#ed7953"
            ],
            [
             0.7777777777777778,
             "#fb9f3a"
            ],
            [
             0.8888888888888888,
             "#fdca26"
            ],
            [
             1,
             "#f0f921"
            ]
           ],
           "sequentialminus": [
            [
             0,
             "#0d0887"
            ],
            [
             0.1111111111111111,
             "#46039f"
            ],
            [
             0.2222222222222222,
             "#7201a8"
            ],
            [
             0.3333333333333333,
             "#9c179e"
            ],
            [
             0.4444444444444444,
             "#bd3786"
            ],
            [
             0.5555555555555556,
             "#d8576b"
            ],
            [
             0.6666666666666666,
             "#ed7953"
            ],
            [
             0.7777777777777778,
             "#fb9f3a"
            ],
            [
             0.8888888888888888,
             "#fdca26"
            ],
            [
             1,
             "#f0f921"
            ]
           ]
          },
          "colorway": [
           "#636efa",
           "#EF553B",
           "#00cc96",
           "#ab63fa",
           "#FFA15A",
           "#19d3f3",
           "#FF6692",
           "#B6E880",
           "#FF97FF",
           "#FECB52"
          ],
          "font": {
           "color": "#2a3f5f"
          },
          "geo": {
           "bgcolor": "white",
           "lakecolor": "white",
           "landcolor": "#E5ECF6",
           "showlakes": true,
           "showland": true,
           "subunitcolor": "white"
          },
          "hoverlabel": {
           "align": "left"
          },
          "hovermode": "closest",
          "mapbox": {
           "style": "light"
          },
          "paper_bgcolor": "white",
          "plot_bgcolor": "#E5ECF6",
          "polar": {
           "angularaxis": {
            "gridcolor": "white",
            "linecolor": "white",
            "ticks": ""
           },
           "bgcolor": "#E5ECF6",
           "radialaxis": {
            "gridcolor": "white",
            "linecolor": "white",
            "ticks": ""
           }
          },
          "scene": {
           "xaxis": {
            "backgroundcolor": "#E5ECF6",
            "gridcolor": "white",
            "gridwidth": 2,
            "linecolor": "white",
            "showbackground": true,
            "ticks": "",
            "zerolinecolor": "white"
           },
           "yaxis": {
            "backgroundcolor": "#E5ECF6",
            "gridcolor": "white",
            "gridwidth": 2,
            "linecolor": "white",
            "showbackground": true,
            "ticks": "",
            "zerolinecolor": "white"
           },
           "zaxis": {
            "backgroundcolor": "#E5ECF6",
            "gridcolor": "white",
            "gridwidth": 2,
            "linecolor": "white",
            "showbackground": true,
            "ticks": "",
            "zerolinecolor": "white"
           }
          },
          "shapedefaults": {
           "line": {
            "color": "#2a3f5f"
           }
          },
          "ternary": {
           "aaxis": {
            "gridcolor": "white",
            "linecolor": "white",
            "ticks": ""
           },
           "baxis": {
            "gridcolor": "white",
            "linecolor": "white",
            "ticks": ""
           },
           "bgcolor": "#E5ECF6",
           "caxis": {
            "gridcolor": "white",
            "linecolor": "white",
            "ticks": ""
           }
          },
          "title": {
           "x": 0.05
          },
          "xaxis": {
           "automargin": true,
           "gridcolor": "white",
           "linecolor": "white",
           "ticks": "",
           "title": {
            "standoff": 15
           },
           "zerolinecolor": "white",
           "zerolinewidth": 2
          },
          "yaxis": {
           "automargin": true,
           "gridcolor": "white",
           "linecolor": "white",
           "ticks": "",
           "title": {
            "standoff": 15
           },
           "zerolinecolor": "white",
           "zerolinewidth": 2
          }
         }
        },
        "title": {
         "text": "Parametri Range of Motion"
        },
        "xaxis": {
         "tickfont": {
          "color": "#7f7f7f",
          "family": "Courier New, monospace",
          "size": 14
         },
         "title": {
          "font": {
           "color": "#7f7f7f",
           "family": "Courier New, monospace",
           "size": 18
          },
          "text": "Month"
         }
        },
        "yaxis": {
         "tickfont": {
          "color": "#7f7f7f",
          "family": "Courier New, monospace",
          "size": 14
         },
         "title": {
          "font": {
           "color": "#7f7f7f",
           "family": "Courier New, monospace",
           "size": 18
          },
          "text": "ROM hipRight [gradi]"
         }
        }
       }
      },
      "text/html": [
       "<div>                            <div id=\"4677885b-770f-43ad-856d-ef048489c024\" class=\"plotly-graph-div\" style=\"height:525px; width:100%;\"></div>            <script type=\"text/javascript\">                require([\"plotly\"], function(Plotly) {                    window.PLOTLYENV=window.PLOTLYENV || {};                                    if (document.getElementById(\"4677885b-770f-43ad-856d-ef048489c024\")) {                    Plotly.newPlot(                        \"4677885b-770f-43ad-856d-ef048489c024\",                        [{\"marker\":{\"color\":\"rgb(0,0,255)\"},\"name\":\"Massimo valore raggiunto\",\"x\":[1,2,3,4,5,6,7,8,9,10,11,12],\"y\":[90.0,0,0,0,0,0,0,0,0,0,0,0],\"type\":\"bar\"},{\"marker\":{\"color\":\"rgb(255,0,0)\"},\"name\":\"Minimo valore raggiunto\",\"x\":[1,2,3,4,5,6,7,8,9,10,11,12],\"y\":[90.0,0,0,0,0,0,0,0,0,0,0,0],\"type\":\"bar\"}],                        {\"bargap\":0.1,\"bargroupgap\":0.0,\"barmode\":\"group\",\"font\":{\"color\":\"black\",\"family\":\"Courier New, monospace\",\"size\":18},\"legend\":{\"bgcolor\":\"rgba(255, 255, 255, 0)\",\"bordercolor\":\"rgba(255, 255, 255, 0)\"},\"template\":{\"data\":{\"barpolar\":[{\"marker\":{\"line\":{\"color\":\"#E5ECF6\",\"width\":0.5},\"pattern\":{\"fillmode\":\"overlay\",\"size\":10,\"solidity\":0.2}},\"type\":\"barpolar\"}],\"bar\":[{\"error_x\":{\"color\":\"#2a3f5f\"},\"error_y\":{\"color\":\"#2a3f5f\"},\"marker\":{\"line\":{\"color\":\"#E5ECF6\",\"width\":0.5},\"pattern\":{\"fillmode\":\"overlay\",\"size\":10,\"solidity\":0.2}},\"type\":\"bar\"}],\"carpet\":[{\"aaxis\":{\"endlinecolor\":\"#2a3f5f\",\"gridcolor\":\"white\",\"linecolor\":\"white\",\"minorgridcolor\":\"white\",\"startlinecolor\":\"#2a3f5f\"},\"baxis\":{\"endlinecolor\":\"#2a3f5f\",\"gridcolor\":\"white\",\"linecolor\":\"white\",\"minorgridcolor\":\"white\",\"startlinecolor\":\"#2a3f5f\"},\"type\":\"carpet\"}],\"choropleth\":[{\"colorbar\":{\"outlinewidth\":0,\"ticks\":\"\"},\"type\":\"choropleth\"}],\"contourcarpet\":[{\"colorbar\":{\"outlinewidth\":0,\"ticks\":\"\"},\"type\":\"contourcarpet\"}],\"contour\":[{\"colorbar\":{\"outlinewidth\":0,\"ticks\":\"\"},\"colorscale\":[[0.0,\"#0d0887\"],[0.1111111111111111,\"#46039f\"],[0.2222222222222222,\"#7201a8\"],[0.3333333333333333,\"#9c179e\"],[0.4444444444444444,\"#bd3786\"],[0.5555555555555556,\"#d8576b\"],[0.6666666666666666,\"#ed7953\"],[0.7777777777777778,\"#fb9f3a\"],[0.8888888888888888,\"#fdca26\"],[1.0,\"#f0f921\"]],\"type\":\"contour\"}],\"heatmapgl\":[{\"colorbar\":{\"outlinewidth\":0,\"ticks\":\"\"},\"colorscale\":[[0.0,\"#0d0887\"],[0.1111111111111111,\"#46039f\"],[0.2222222222222222,\"#7201a8\"],[0.3333333333333333,\"#9c179e\"],[0.4444444444444444,\"#bd3786\"],[0.5555555555555556,\"#d8576b\"],[0.6666666666666666,\"#ed7953\"],[0.7777777777777778,\"#fb9f3a\"],[0.8888888888888888,\"#fdca26\"],[1.0,\"#f0f921\"]],\"type\":\"heatmapgl\"}],\"heatmap\":[{\"colorbar\":{\"outlinewidth\":0,\"ticks\":\"\"},\"colorscale\":[[0.0,\"#0d0887\"],[0.1111111111111111,\"#46039f\"],[0.2222222222222222,\"#7201a8\"],[0.3333333333333333,\"#9c179e\"],[0.4444444444444444,\"#bd3786\"],[0.5555555555555556,\"#d8576b\"],[0.6666666666666666,\"#ed7953\"],[0.7777777777777778,\"#fb9f3a\"],[0.8888888888888888,\"#fdca26\"],[1.0,\"#f0f921\"]],\"type\":\"heatmap\"}],\"histogram2dcontour\":[{\"colorbar\":{\"outlinewidth\":0,\"ticks\":\"\"},\"colorscale\":[[0.0,\"#0d0887\"],[0.1111111111111111,\"#46039f\"],[0.2222222222222222,\"#7201a8\"],[0.3333333333333333,\"#9c179e\"],[0.4444444444444444,\"#bd3786\"],[0.5555555555555556,\"#d8576b\"],[0.6666666666666666,\"#ed7953\"],[0.7777777777777778,\"#fb9f3a\"],[0.8888888888888888,\"#fdca26\"],[1.0,\"#f0f921\"]],\"type\":\"histogram2dcontour\"}],\"histogram2d\":[{\"colorbar\":{\"outlinewidth\":0,\"ticks\":\"\"},\"colorscale\":[[0.0,\"#0d0887\"],[0.1111111111111111,\"#46039f\"],[0.2222222222222222,\"#7201a8\"],[0.3333333333333333,\"#9c179e\"],[0.4444444444444444,\"#bd3786\"],[0.5555555555555556,\"#d8576b\"],[0.6666666666666666,\"#ed7953\"],[0.7777777777777778,\"#fb9f3a\"],[0.8888888888888888,\"#fdca26\"],[1.0,\"#f0f921\"]],\"type\":\"histogram2d\"}],\"histogram\":[{\"marker\":{\"pattern\":{\"fillmode\":\"overlay\",\"size\":10,\"solidity\":0.2}},\"type\":\"histogram\"}],\"mesh3d\":[{\"colorbar\":{\"outlinewidth\":0,\"ticks\":\"\"},\"type\":\"mesh3d\"}],\"parcoords\":[{\"line\":{\"colorbar\":{\"outlinewidth\":0,\"ticks\":\"\"}},\"type\":\"parcoords\"}],\"pie\":[{\"automargin\":true,\"type\":\"pie\"}],\"scatter3d\":[{\"line\":{\"colorbar\":{\"outlinewidth\":0,\"ticks\":\"\"}},\"marker\":{\"colorbar\":{\"outlinewidth\":0,\"ticks\":\"\"}},\"type\":\"scatter3d\"}],\"scattercarpet\":[{\"marker\":{\"colorbar\":{\"outlinewidth\":0,\"ticks\":\"\"}},\"type\":\"scattercarpet\"}],\"scattergeo\":[{\"marker\":{\"colorbar\":{\"outlinewidth\":0,\"ticks\":\"\"}},\"type\":\"scattergeo\"}],\"scattergl\":[{\"marker\":{\"colorbar\":{\"outlinewidth\":0,\"ticks\":\"\"}},\"type\":\"scattergl\"}],\"scattermapbox\":[{\"marker\":{\"colorbar\":{\"outlinewidth\":0,\"ticks\":\"\"}},\"type\":\"scattermapbox\"}],\"scatterpolargl\":[{\"marker\":{\"colorbar\":{\"outlinewidth\":0,\"ticks\":\"\"}},\"type\":\"scatterpolargl\"}],\"scatterpolar\":[{\"marker\":{\"colorbar\":{\"outlinewidth\":0,\"ticks\":\"\"}},\"type\":\"scatterpolar\"}],\"scatter\":[{\"fillpattern\":{\"fillmode\":\"overlay\",\"size\":10,\"solidity\":0.2},\"type\":\"scatter\"}],\"scatterternary\":[{\"marker\":{\"colorbar\":{\"outlinewidth\":0,\"ticks\":\"\"}},\"type\":\"scatterternary\"}],\"surface\":[{\"colorbar\":{\"outlinewidth\":0,\"ticks\":\"\"},\"colorscale\":[[0.0,\"#0d0887\"],[0.1111111111111111,\"#46039f\"],[0.2222222222222222,\"#7201a8\"],[0.3333333333333333,\"#9c179e\"],[0.4444444444444444,\"#bd3786\"],[0.5555555555555556,\"#d8576b\"],[0.6666666666666666,\"#ed7953\"],[0.7777777777777778,\"#fb9f3a\"],[0.8888888888888888,\"#fdca26\"],[1.0,\"#f0f921\"]],\"type\":\"surface\"}],\"table\":[{\"cells\":{\"fill\":{\"color\":\"#EBF0F8\"},\"line\":{\"color\":\"white\"}},\"header\":{\"fill\":{\"color\":\"#C8D4E3\"},\"line\":{\"color\":\"white\"}},\"type\":\"table\"}]},\"layout\":{\"annotationdefaults\":{\"arrowcolor\":\"#2a3f5f\",\"arrowhead\":0,\"arrowwidth\":1},\"autotypenumbers\":\"strict\",\"coloraxis\":{\"colorbar\":{\"outlinewidth\":0,\"ticks\":\"\"}},\"colorscale\":{\"diverging\":[[0,\"#8e0152\"],[0.1,\"#c51b7d\"],[0.2,\"#de77ae\"],[0.3,\"#f1b6da\"],[0.4,\"#fde0ef\"],[0.5,\"#f7f7f7\"],[0.6,\"#e6f5d0\"],[0.7,\"#b8e186\"],[0.8,\"#7fbc41\"],[0.9,\"#4d9221\"],[1,\"#276419\"]],\"sequential\":[[0.0,\"#0d0887\"],[0.1111111111111111,\"#46039f\"],[0.2222222222222222,\"#7201a8\"],[0.3333333333333333,\"#9c179e\"],[0.4444444444444444,\"#bd3786\"],[0.5555555555555556,\"#d8576b\"],[0.6666666666666666,\"#ed7953\"],[0.7777777777777778,\"#fb9f3a\"],[0.8888888888888888,\"#fdca26\"],[1.0,\"#f0f921\"]],\"sequentialminus\":[[0.0,\"#0d0887\"],[0.1111111111111111,\"#46039f\"],[0.2222222222222222,\"#7201a8\"],[0.3333333333333333,\"#9c179e\"],[0.4444444444444444,\"#bd3786\"],[0.5555555555555556,\"#d8576b\"],[0.6666666666666666,\"#ed7953\"],[0.7777777777777778,\"#fb9f3a\"],[0.8888888888888888,\"#fdca26\"],[1.0,\"#f0f921\"]]},\"colorway\":[\"#636efa\",\"#EF553B\",\"#00cc96\",\"#ab63fa\",\"#FFA15A\",\"#19d3f3\",\"#FF6692\",\"#B6E880\",\"#FF97FF\",\"#FECB52\"],\"font\":{\"color\":\"#2a3f5f\"},\"geo\":{\"bgcolor\":\"white\",\"lakecolor\":\"white\",\"landcolor\":\"#E5ECF6\",\"showlakes\":true,\"showland\":true,\"subunitcolor\":\"white\"},\"hoverlabel\":{\"align\":\"left\"},\"hovermode\":\"closest\",\"mapbox\":{\"style\":\"light\"},\"paper_bgcolor\":\"white\",\"plot_bgcolor\":\"#E5ECF6\",\"polar\":{\"angularaxis\":{\"gridcolor\":\"white\",\"linecolor\":\"white\",\"ticks\":\"\"},\"bgcolor\":\"#E5ECF6\",\"radialaxis\":{\"gridcolor\":\"white\",\"linecolor\":\"white\",\"ticks\":\"\"}},\"scene\":{\"xaxis\":{\"backgroundcolor\":\"#E5ECF6\",\"gridcolor\":\"white\",\"gridwidth\":2,\"linecolor\":\"white\",\"showbackground\":true,\"ticks\":\"\",\"zerolinecolor\":\"white\"},\"yaxis\":{\"backgroundcolor\":\"#E5ECF6\",\"gridcolor\":\"white\",\"gridwidth\":2,\"linecolor\":\"white\",\"showbackground\":true,\"ticks\":\"\",\"zerolinecolor\":\"white\"},\"zaxis\":{\"backgroundcolor\":\"#E5ECF6\",\"gridcolor\":\"white\",\"gridwidth\":2,\"linecolor\":\"white\",\"showbackground\":true,\"ticks\":\"\",\"zerolinecolor\":\"white\"}},\"shapedefaults\":{\"line\":{\"color\":\"#2a3f5f\"}},\"ternary\":{\"aaxis\":{\"gridcolor\":\"white\",\"linecolor\":\"white\",\"ticks\":\"\"},\"baxis\":{\"gridcolor\":\"white\",\"linecolor\":\"white\",\"ticks\":\"\"},\"bgcolor\":\"#E5ECF6\",\"caxis\":{\"gridcolor\":\"white\",\"linecolor\":\"white\",\"ticks\":\"\"}},\"title\":{\"x\":0.05},\"xaxis\":{\"automargin\":true,\"gridcolor\":\"white\",\"linecolor\":\"white\",\"ticks\":\"\",\"title\":{\"standoff\":15},\"zerolinecolor\":\"white\",\"zerolinewidth\":2},\"yaxis\":{\"automargin\":true,\"gridcolor\":\"white\",\"linecolor\":\"white\",\"ticks\":\"\",\"title\":{\"standoff\":15},\"zerolinecolor\":\"white\",\"zerolinewidth\":2}}},\"title\":{\"text\":\"Parametri Range of Motion\"},\"xaxis\":{\"tickfont\":{\"color\":\"#7f7f7f\",\"family\":\"Courier New, monospace\",\"size\":14},\"title\":{\"font\":{\"color\":\"#7f7f7f\",\"family\":\"Courier New, monospace\",\"size\":18},\"text\":\"Month\"}},\"yaxis\":{\"tickfont\":{\"color\":\"#7f7f7f\",\"family\":\"Courier New, monospace\",\"size\":14},\"title\":{\"font\":{\"color\":\"#7f7f7f\",\"family\":\"Courier New, monospace\",\"size\":18},\"text\":\"ROM hipRight [gradi]\"}}},                        {\"responsive\": true}                    ).then(function(){\n",
       "                            \n",
       "var gd = document.getElementById('4677885b-770f-43ad-856d-ef048489c024');\n",
       "var x = new MutationObserver(function (mutations, observer) {{\n",
       "        var display = window.getComputedStyle(gd).display;\n",
       "        if (!display || display === 'none') {{\n",
       "            console.log([gd, 'removed!']);\n",
       "            Plotly.purge(gd);\n",
       "            observer.disconnect();\n",
       "        }}\n",
       "}});\n",
       "\n",
       "// Listen for the removal of the full notebook cells\n",
       "var notebookContainer = gd.closest('#notebook-container');\n",
       "if (notebookContainer) {{\n",
       "    x.observe(notebookContainer, {childList: true});\n",
       "}}\n",
       "\n",
       "// Listen for the clearing of the current output cell\n",
       "var outputEl = gd.closest('.output');\n",
       "if (outputEl) {{\n",
       "    x.observe(outputEl, {childList: true});\n",
       "}}\n",
       "\n",
       "                        })                };                });            </script>        </div>"
      ]
     },
     "metadata": {},
     "output_type": "display_data"
    },
    {
     "data": {
      "application/vnd.plotly.v1+json": {
       "config": {
        "linkText": "Export to plot.ly",
        "plotlyServerURL": "https://plot.ly",
        "showLink": false
       },
       "data": [
        {
         "marker": {
          "color": "rgb(0,0,255)"
         },
         "name": "Massimo valore raggiunto",
         "type": "bar",
         "x": [
          1,
          2,
          3,
          4,
          5,
          6,
          7,
          8,
          9,
          10,
          11,
          12
         ],
         "y": [
          115.0472239010436,
          0,
          0,
          0,
          0,
          0,
          0,
          0,
          0,
          0,
          0,
          0
         ]
        },
        {
         "marker": {
          "color": "rgb(255,0,0)"
         },
         "name": "Minimo valore raggiunto",
         "type": "bar",
         "x": [
          1,
          2,
          3,
          4,
          5,
          6,
          7,
          8,
          9,
          10,
          11,
          12
         ],
         "y": [
          57.86458244653484,
          0,
          0,
          0,
          0,
          0,
          0,
          0,
          0,
          0,
          0,
          0
         ]
        }
       ],
       "layout": {
        "bargap": 0.1,
        "bargroupgap": 0,
        "barmode": "group",
        "font": {
         "color": "black",
         "family": "Courier New, monospace",
         "size": 18
        },
        "legend": {
         "bgcolor": "rgba(255, 255, 255, 0)",
         "bordercolor": "rgba(255, 255, 255, 0)"
        },
        "template": {
         "data": {
          "bar": [
           {
            "error_x": {
             "color": "#2a3f5f"
            },
            "error_y": {
             "color": "#2a3f5f"
            },
            "marker": {
             "line": {
              "color": "#E5ECF6",
              "width": 0.5
             },
             "pattern": {
              "fillmode": "overlay",
              "size": 10,
              "solidity": 0.2
             }
            },
            "type": "bar"
           }
          ],
          "barpolar": [
           {
            "marker": {
             "line": {
              "color": "#E5ECF6",
              "width": 0.5
             },
             "pattern": {
              "fillmode": "overlay",
              "size": 10,
              "solidity": 0.2
             }
            },
            "type": "barpolar"
           }
          ],
          "carpet": [
           {
            "aaxis": {
             "endlinecolor": "#2a3f5f",
             "gridcolor": "white",
             "linecolor": "white",
             "minorgridcolor": "white",
             "startlinecolor": "#2a3f5f"
            },
            "baxis": {
             "endlinecolor": "#2a3f5f",
             "gridcolor": "white",
             "linecolor": "white",
             "minorgridcolor": "white",
             "startlinecolor": "#2a3f5f"
            },
            "type": "carpet"
           }
          ],
          "choropleth": [
           {
            "colorbar": {
             "outlinewidth": 0,
             "ticks": ""
            },
            "type": "choropleth"
           }
          ],
          "contour": [
           {
            "colorbar": {
             "outlinewidth": 0,
             "ticks": ""
            },
            "colorscale": [
             [
              0,
              "#0d0887"
             ],
             [
              0.1111111111111111,
              "#46039f"
             ],
             [
              0.2222222222222222,
              "#7201a8"
             ],
             [
              0.3333333333333333,
              "#9c179e"
             ],
             [
              0.4444444444444444,
              "#bd3786"
             ],
             [
              0.5555555555555556,
              "#d8576b"
             ],
             [
              0.6666666666666666,
              "#ed7953"
             ],
             [
              0.7777777777777778,
              "#fb9f3a"
             ],
             [
              0.8888888888888888,
              "#fdca26"
             ],
             [
              1,
              "#f0f921"
             ]
            ],
            "type": "contour"
           }
          ],
          "contourcarpet": [
           {
            "colorbar": {
             "outlinewidth": 0,
             "ticks": ""
            },
            "type": "contourcarpet"
           }
          ],
          "heatmap": [
           {
            "colorbar": {
             "outlinewidth": 0,
             "ticks": ""
            },
            "colorscale": [
             [
              0,
              "#0d0887"
             ],
             [
              0.1111111111111111,
              "#46039f"
             ],
             [
              0.2222222222222222,
              "#7201a8"
             ],
             [
              0.3333333333333333,
              "#9c179e"
             ],
             [
              0.4444444444444444,
              "#bd3786"
             ],
             [
              0.5555555555555556,
              "#d8576b"
             ],
             [
              0.6666666666666666,
              "#ed7953"
             ],
             [
              0.7777777777777778,
              "#fb9f3a"
             ],
             [
              0.8888888888888888,
              "#fdca26"
             ],
             [
              1,
              "#f0f921"
             ]
            ],
            "type": "heatmap"
           }
          ],
          "heatmapgl": [
           {
            "colorbar": {
             "outlinewidth": 0,
             "ticks": ""
            },
            "colorscale": [
             [
              0,
              "#0d0887"
             ],
             [
              0.1111111111111111,
              "#46039f"
             ],
             [
              0.2222222222222222,
              "#7201a8"
             ],
             [
              0.3333333333333333,
              "#9c179e"
             ],
             [
              0.4444444444444444,
              "#bd3786"
             ],
             [
              0.5555555555555556,
              "#d8576b"
             ],
             [
              0.6666666666666666,
              "#ed7953"
             ],
             [
              0.7777777777777778,
              "#fb9f3a"
             ],
             [
              0.8888888888888888,
              "#fdca26"
             ],
             [
              1,
              "#f0f921"
             ]
            ],
            "type": "heatmapgl"
           }
          ],
          "histogram": [
           {
            "marker": {
             "pattern": {
              "fillmode": "overlay",
              "size": 10,
              "solidity": 0.2
             }
            },
            "type": "histogram"
           }
          ],
          "histogram2d": [
           {
            "colorbar": {
             "outlinewidth": 0,
             "ticks": ""
            },
            "colorscale": [
             [
              0,
              "#0d0887"
             ],
             [
              0.1111111111111111,
              "#46039f"
             ],
             [
              0.2222222222222222,
              "#7201a8"
             ],
             [
              0.3333333333333333,
              "#9c179e"
             ],
             [
              0.4444444444444444,
              "#bd3786"
             ],
             [
              0.5555555555555556,
              "#d8576b"
             ],
             [
              0.6666666666666666,
              "#ed7953"
             ],
             [
              0.7777777777777778,
              "#fb9f3a"
             ],
             [
              0.8888888888888888,
              "#fdca26"
             ],
             [
              1,
              "#f0f921"
             ]
            ],
            "type": "histogram2d"
           }
          ],
          "histogram2dcontour": [
           {
            "colorbar": {
             "outlinewidth": 0,
             "ticks": ""
            },
            "colorscale": [
             [
              0,
              "#0d0887"
             ],
             [
              0.1111111111111111,
              "#46039f"
             ],
             [
              0.2222222222222222,
              "#7201a8"
             ],
             [
              0.3333333333333333,
              "#9c179e"
             ],
             [
              0.4444444444444444,
              "#bd3786"
             ],
             [
              0.5555555555555556,
              "#d8576b"
             ],
             [
              0.6666666666666666,
              "#ed7953"
             ],
             [
              0.7777777777777778,
              "#fb9f3a"
             ],
             [
              0.8888888888888888,
              "#fdca26"
             ],
             [
              1,
              "#f0f921"
             ]
            ],
            "type": "histogram2dcontour"
           }
          ],
          "mesh3d": [
           {
            "colorbar": {
             "outlinewidth": 0,
             "ticks": ""
            },
            "type": "mesh3d"
           }
          ],
          "parcoords": [
           {
            "line": {
             "colorbar": {
              "outlinewidth": 0,
              "ticks": ""
             }
            },
            "type": "parcoords"
           }
          ],
          "pie": [
           {
            "automargin": true,
            "type": "pie"
           }
          ],
          "scatter": [
           {
            "fillpattern": {
             "fillmode": "overlay",
             "size": 10,
             "solidity": 0.2
            },
            "type": "scatter"
           }
          ],
          "scatter3d": [
           {
            "line": {
             "colorbar": {
              "outlinewidth": 0,
              "ticks": ""
             }
            },
            "marker": {
             "colorbar": {
              "outlinewidth": 0,
              "ticks": ""
             }
            },
            "type": "scatter3d"
           }
          ],
          "scattercarpet": [
           {
            "marker": {
             "colorbar": {
              "outlinewidth": 0,
              "ticks": ""
             }
            },
            "type": "scattercarpet"
           }
          ],
          "scattergeo": [
           {
            "marker": {
             "colorbar": {
              "outlinewidth": 0,
              "ticks": ""
             }
            },
            "type": "scattergeo"
           }
          ],
          "scattergl": [
           {
            "marker": {
             "colorbar": {
              "outlinewidth": 0,
              "ticks": ""
             }
            },
            "type": "scattergl"
           }
          ],
          "scattermapbox": [
           {
            "marker": {
             "colorbar": {
              "outlinewidth": 0,
              "ticks": ""
             }
            },
            "type": "scattermapbox"
           }
          ],
          "scatterpolar": [
           {
            "marker": {
             "colorbar": {
              "outlinewidth": 0,
              "ticks": ""
             }
            },
            "type": "scatterpolar"
           }
          ],
          "scatterpolargl": [
           {
            "marker": {
             "colorbar": {
              "outlinewidth": 0,
              "ticks": ""
             }
            },
            "type": "scatterpolargl"
           }
          ],
          "scatterternary": [
           {
            "marker": {
             "colorbar": {
              "outlinewidth": 0,
              "ticks": ""
             }
            },
            "type": "scatterternary"
           }
          ],
          "surface": [
           {
            "colorbar": {
             "outlinewidth": 0,
             "ticks": ""
            },
            "colorscale": [
             [
              0,
              "#0d0887"
             ],
             [
              0.1111111111111111,
              "#46039f"
             ],
             [
              0.2222222222222222,
              "#7201a8"
             ],
             [
              0.3333333333333333,
              "#9c179e"
             ],
             [
              0.4444444444444444,
              "#bd3786"
             ],
             [
              0.5555555555555556,
              "#d8576b"
             ],
             [
              0.6666666666666666,
              "#ed7953"
             ],
             [
              0.7777777777777778,
              "#fb9f3a"
             ],
             [
              0.8888888888888888,
              "#fdca26"
             ],
             [
              1,
              "#f0f921"
             ]
            ],
            "type": "surface"
           }
          ],
          "table": [
           {
            "cells": {
             "fill": {
              "color": "#EBF0F8"
             },
             "line": {
              "color": "white"
             }
            },
            "header": {
             "fill": {
              "color": "#C8D4E3"
             },
             "line": {
              "color": "white"
             }
            },
            "type": "table"
           }
          ]
         },
         "layout": {
          "annotationdefaults": {
           "arrowcolor": "#2a3f5f",
           "arrowhead": 0,
           "arrowwidth": 1
          },
          "autotypenumbers": "strict",
          "coloraxis": {
           "colorbar": {
            "outlinewidth": 0,
            "ticks": ""
           }
          },
          "colorscale": {
           "diverging": [
            [
             0,
             "#8e0152"
            ],
            [
             0.1,
             "#c51b7d"
            ],
            [
             0.2,
             "#de77ae"
            ],
            [
             0.3,
             "#f1b6da"
            ],
            [
             0.4,
             "#fde0ef"
            ],
            [
             0.5,
             "#f7f7f7"
            ],
            [
             0.6,
             "#e6f5d0"
            ],
            [
             0.7,
             "#b8e186"
            ],
            [
             0.8,
             "#7fbc41"
            ],
            [
             0.9,
             "#4d9221"
            ],
            [
             1,
             "#276419"
            ]
           ],
           "sequential": [
            [
             0,
             "#0d0887"
            ],
            [
             0.1111111111111111,
             "#46039f"
            ],
            [
             0.2222222222222222,
             "#7201a8"
            ],
            [
             0.3333333333333333,
             "#9c179e"
            ],
            [
             0.4444444444444444,
             "#bd3786"
            ],
            [
             0.5555555555555556,
             "#d8576b"
            ],
            [
             0.6666666666666666,
             "#ed7953"
            ],
            [
             0.7777777777777778,
             "#fb9f3a"
            ],
            [
             0.8888888888888888,
             "#fdca26"
            ],
            [
             1,
             "#f0f921"
            ]
           ],
           "sequentialminus": [
            [
             0,
             "#0d0887"
            ],
            [
             0.1111111111111111,
             "#46039f"
            ],
            [
             0.2222222222222222,
             "#7201a8"
            ],
            [
             0.3333333333333333,
             "#9c179e"
            ],
            [
             0.4444444444444444,
             "#bd3786"
            ],
            [
             0.5555555555555556,
             "#d8576b"
            ],
            [
             0.6666666666666666,
             "#ed7953"
            ],
            [
             0.7777777777777778,
             "#fb9f3a"
            ],
            [
             0.8888888888888888,
             "#fdca26"
            ],
            [
             1,
             "#f0f921"
            ]
           ]
          },
          "colorway": [
           "#636efa",
           "#EF553B",
           "#00cc96",
           "#ab63fa",
           "#FFA15A",
           "#19d3f3",
           "#FF6692",
           "#B6E880",
           "#FF97FF",
           "#FECB52"
          ],
          "font": {
           "color": "#2a3f5f"
          },
          "geo": {
           "bgcolor": "white",
           "lakecolor": "white",
           "landcolor": "#E5ECF6",
           "showlakes": true,
           "showland": true,
           "subunitcolor": "white"
          },
          "hoverlabel": {
           "align": "left"
          },
          "hovermode": "closest",
          "mapbox": {
           "style": "light"
          },
          "paper_bgcolor": "white",
          "plot_bgcolor": "#E5ECF6",
          "polar": {
           "angularaxis": {
            "gridcolor": "white",
            "linecolor": "white",
            "ticks": ""
           },
           "bgcolor": "#E5ECF6",
           "radialaxis": {
            "gridcolor": "white",
            "linecolor": "white",
            "ticks": ""
           }
          },
          "scene": {
           "xaxis": {
            "backgroundcolor": "#E5ECF6",
            "gridcolor": "white",
            "gridwidth": 2,
            "linecolor": "white",
            "showbackground": true,
            "ticks": "",
            "zerolinecolor": "white"
           },
           "yaxis": {
            "backgroundcolor": "#E5ECF6",
            "gridcolor": "white",
            "gridwidth": 2,
            "linecolor": "white",
            "showbackground": true,
            "ticks": "",
            "zerolinecolor": "white"
           },
           "zaxis": {
            "backgroundcolor": "#E5ECF6",
            "gridcolor": "white",
            "gridwidth": 2,
            "linecolor": "white",
            "showbackground": true,
            "ticks": "",
            "zerolinecolor": "white"
           }
          },
          "shapedefaults": {
           "line": {
            "color": "#2a3f5f"
           }
          },
          "ternary": {
           "aaxis": {
            "gridcolor": "white",
            "linecolor": "white",
            "ticks": ""
           },
           "baxis": {
            "gridcolor": "white",
            "linecolor": "white",
            "ticks": ""
           },
           "bgcolor": "#E5ECF6",
           "caxis": {
            "gridcolor": "white",
            "linecolor": "white",
            "ticks": ""
           }
          },
          "title": {
           "x": 0.05
          },
          "xaxis": {
           "automargin": true,
           "gridcolor": "white",
           "linecolor": "white",
           "ticks": "",
           "title": {
            "standoff": 15
           },
           "zerolinecolor": "white",
           "zerolinewidth": 2
          },
          "yaxis": {
           "automargin": true,
           "gridcolor": "white",
           "linecolor": "white",
           "ticks": "",
           "title": {
            "standoff": 15
           },
           "zerolinecolor": "white",
           "zerolinewidth": 2
          }
         }
        },
        "title": {
         "text": "Parametri Range of Motion"
        },
        "xaxis": {
         "tickfont": {
          "color": "#7f7f7f",
          "family": "Courier New, monospace",
          "size": 14
         },
         "title": {
          "font": {
           "color": "#7f7f7f",
           "family": "Courier New, monospace",
           "size": 18
          },
          "text": "Month"
         }
        },
        "yaxis": {
         "tickfont": {
          "color": "#7f7f7f",
          "family": "Courier New, monospace",
          "size": 14
         },
         "title": {
          "font": {
           "color": "#7f7f7f",
           "family": "Courier New, monospace",
           "size": 18
          },
          "text": "ROM kneeRight [gradi]"
         }
        }
       }
      },
      "text/html": [
       "<div>                            <div id=\"9f27a5e9-b9e8-4503-b4e7-3210a705d83f\" class=\"plotly-graph-div\" style=\"height:525px; width:100%;\"></div>            <script type=\"text/javascript\">                require([\"plotly\"], function(Plotly) {                    window.PLOTLYENV=window.PLOTLYENV || {};                                    if (document.getElementById(\"9f27a5e9-b9e8-4503-b4e7-3210a705d83f\")) {                    Plotly.newPlot(                        \"9f27a5e9-b9e8-4503-b4e7-3210a705d83f\",                        [{\"marker\":{\"color\":\"rgb(0,0,255)\"},\"name\":\"Massimo valore raggiunto\",\"x\":[1,2,3,4,5,6,7,8,9,10,11,12],\"y\":[115.0472239010436,0,0,0,0,0,0,0,0,0,0,0],\"type\":\"bar\"},{\"marker\":{\"color\":\"rgb(255,0,0)\"},\"name\":\"Minimo valore raggiunto\",\"x\":[1,2,3,4,5,6,7,8,9,10,11,12],\"y\":[57.86458244653484,0,0,0,0,0,0,0,0,0,0,0],\"type\":\"bar\"}],                        {\"bargap\":0.1,\"bargroupgap\":0.0,\"barmode\":\"group\",\"font\":{\"color\":\"black\",\"family\":\"Courier New, monospace\",\"size\":18},\"legend\":{\"bgcolor\":\"rgba(255, 255, 255, 0)\",\"bordercolor\":\"rgba(255, 255, 255, 0)\"},\"template\":{\"data\":{\"barpolar\":[{\"marker\":{\"line\":{\"color\":\"#E5ECF6\",\"width\":0.5},\"pattern\":{\"fillmode\":\"overlay\",\"size\":10,\"solidity\":0.2}},\"type\":\"barpolar\"}],\"bar\":[{\"error_x\":{\"color\":\"#2a3f5f\"},\"error_y\":{\"color\":\"#2a3f5f\"},\"marker\":{\"line\":{\"color\":\"#E5ECF6\",\"width\":0.5},\"pattern\":{\"fillmode\":\"overlay\",\"size\":10,\"solidity\":0.2}},\"type\":\"bar\"}],\"carpet\":[{\"aaxis\":{\"endlinecolor\":\"#2a3f5f\",\"gridcolor\":\"white\",\"linecolor\":\"white\",\"minorgridcolor\":\"white\",\"startlinecolor\":\"#2a3f5f\"},\"baxis\":{\"endlinecolor\":\"#2a3f5f\",\"gridcolor\":\"white\",\"linecolor\":\"white\",\"minorgridcolor\":\"white\",\"startlinecolor\":\"#2a3f5f\"},\"type\":\"carpet\"}],\"choropleth\":[{\"colorbar\":{\"outlinewidth\":0,\"ticks\":\"\"},\"type\":\"choropleth\"}],\"contourcarpet\":[{\"colorbar\":{\"outlinewidth\":0,\"ticks\":\"\"},\"type\":\"contourcarpet\"}],\"contour\":[{\"colorbar\":{\"outlinewidth\":0,\"ticks\":\"\"},\"colorscale\":[[0.0,\"#0d0887\"],[0.1111111111111111,\"#46039f\"],[0.2222222222222222,\"#7201a8\"],[0.3333333333333333,\"#9c179e\"],[0.4444444444444444,\"#bd3786\"],[0.5555555555555556,\"#d8576b\"],[0.6666666666666666,\"#ed7953\"],[0.7777777777777778,\"#fb9f3a\"],[0.8888888888888888,\"#fdca26\"],[1.0,\"#f0f921\"]],\"type\":\"contour\"}],\"heatmapgl\":[{\"colorbar\":{\"outlinewidth\":0,\"ticks\":\"\"},\"colorscale\":[[0.0,\"#0d0887\"],[0.1111111111111111,\"#46039f\"],[0.2222222222222222,\"#7201a8\"],[0.3333333333333333,\"#9c179e\"],[0.4444444444444444,\"#bd3786\"],[0.5555555555555556,\"#d8576b\"],[0.6666666666666666,\"#ed7953\"],[0.7777777777777778,\"#fb9f3a\"],[0.8888888888888888,\"#fdca26\"],[1.0,\"#f0f921\"]],\"type\":\"heatmapgl\"}],\"heatmap\":[{\"colorbar\":{\"outlinewidth\":0,\"ticks\":\"\"},\"colorscale\":[[0.0,\"#0d0887\"],[0.1111111111111111,\"#46039f\"],[0.2222222222222222,\"#7201a8\"],[0.3333333333333333,\"#9c179e\"],[0.4444444444444444,\"#bd3786\"],[0.5555555555555556,\"#d8576b\"],[0.6666666666666666,\"#ed7953\"],[0.7777777777777778,\"#fb9f3a\"],[0.8888888888888888,\"#fdca26\"],[1.0,\"#f0f921\"]],\"type\":\"heatmap\"}],\"histogram2dcontour\":[{\"colorbar\":{\"outlinewidth\":0,\"ticks\":\"\"},\"colorscale\":[[0.0,\"#0d0887\"],[0.1111111111111111,\"#46039f\"],[0.2222222222222222,\"#7201a8\"],[0.3333333333333333,\"#9c179e\"],[0.4444444444444444,\"#bd3786\"],[0.5555555555555556,\"#d8576b\"],[0.6666666666666666,\"#ed7953\"],[0.7777777777777778,\"#fb9f3a\"],[0.8888888888888888,\"#fdca26\"],[1.0,\"#f0f921\"]],\"type\":\"histogram2dcontour\"}],\"histogram2d\":[{\"colorbar\":{\"outlinewidth\":0,\"ticks\":\"\"},\"colorscale\":[[0.0,\"#0d0887\"],[0.1111111111111111,\"#46039f\"],[0.2222222222222222,\"#7201a8\"],[0.3333333333333333,\"#9c179e\"],[0.4444444444444444,\"#bd3786\"],[0.5555555555555556,\"#d8576b\"],[0.6666666666666666,\"#ed7953\"],[0.7777777777777778,\"#fb9f3a\"],[0.8888888888888888,\"#fdca26\"],[1.0,\"#f0f921\"]],\"type\":\"histogram2d\"}],\"histogram\":[{\"marker\":{\"pattern\":{\"fillmode\":\"overlay\",\"size\":10,\"solidity\":0.2}},\"type\":\"histogram\"}],\"mesh3d\":[{\"colorbar\":{\"outlinewidth\":0,\"ticks\":\"\"},\"type\":\"mesh3d\"}],\"parcoords\":[{\"line\":{\"colorbar\":{\"outlinewidth\":0,\"ticks\":\"\"}},\"type\":\"parcoords\"}],\"pie\":[{\"automargin\":true,\"type\":\"pie\"}],\"scatter3d\":[{\"line\":{\"colorbar\":{\"outlinewidth\":0,\"ticks\":\"\"}},\"marker\":{\"colorbar\":{\"outlinewidth\":0,\"ticks\":\"\"}},\"type\":\"scatter3d\"}],\"scattercarpet\":[{\"marker\":{\"colorbar\":{\"outlinewidth\":0,\"ticks\":\"\"}},\"type\":\"scattercarpet\"}],\"scattergeo\":[{\"marker\":{\"colorbar\":{\"outlinewidth\":0,\"ticks\":\"\"}},\"type\":\"scattergeo\"}],\"scattergl\":[{\"marker\":{\"colorbar\":{\"outlinewidth\":0,\"ticks\":\"\"}},\"type\":\"scattergl\"}],\"scattermapbox\":[{\"marker\":{\"colorbar\":{\"outlinewidth\":0,\"ticks\":\"\"}},\"type\":\"scattermapbox\"}],\"scatterpolargl\":[{\"marker\":{\"colorbar\":{\"outlinewidth\":0,\"ticks\":\"\"}},\"type\":\"scatterpolargl\"}],\"scatterpolar\":[{\"marker\":{\"colorbar\":{\"outlinewidth\":0,\"ticks\":\"\"}},\"type\":\"scatterpolar\"}],\"scatter\":[{\"fillpattern\":{\"fillmode\":\"overlay\",\"size\":10,\"solidity\":0.2},\"type\":\"scatter\"}],\"scatterternary\":[{\"marker\":{\"colorbar\":{\"outlinewidth\":0,\"ticks\":\"\"}},\"type\":\"scatterternary\"}],\"surface\":[{\"colorbar\":{\"outlinewidth\":0,\"ticks\":\"\"},\"colorscale\":[[0.0,\"#0d0887\"],[0.1111111111111111,\"#46039f\"],[0.2222222222222222,\"#7201a8\"],[0.3333333333333333,\"#9c179e\"],[0.4444444444444444,\"#bd3786\"],[0.5555555555555556,\"#d8576b\"],[0.6666666666666666,\"#ed7953\"],[0.7777777777777778,\"#fb9f3a\"],[0.8888888888888888,\"#fdca26\"],[1.0,\"#f0f921\"]],\"type\":\"surface\"}],\"table\":[{\"cells\":{\"fill\":{\"color\":\"#EBF0F8\"},\"line\":{\"color\":\"white\"}},\"header\":{\"fill\":{\"color\":\"#C8D4E3\"},\"line\":{\"color\":\"white\"}},\"type\":\"table\"}]},\"layout\":{\"annotationdefaults\":{\"arrowcolor\":\"#2a3f5f\",\"arrowhead\":0,\"arrowwidth\":1},\"autotypenumbers\":\"strict\",\"coloraxis\":{\"colorbar\":{\"outlinewidth\":0,\"ticks\":\"\"}},\"colorscale\":{\"diverging\":[[0,\"#8e0152\"],[0.1,\"#c51b7d\"],[0.2,\"#de77ae\"],[0.3,\"#f1b6da\"],[0.4,\"#fde0ef\"],[0.5,\"#f7f7f7\"],[0.6,\"#e6f5d0\"],[0.7,\"#b8e186\"],[0.8,\"#7fbc41\"],[0.9,\"#4d9221\"],[1,\"#276419\"]],\"sequential\":[[0.0,\"#0d0887\"],[0.1111111111111111,\"#46039f\"],[0.2222222222222222,\"#7201a8\"],[0.3333333333333333,\"#9c179e\"],[0.4444444444444444,\"#bd3786\"],[0.5555555555555556,\"#d8576b\"],[0.6666666666666666,\"#ed7953\"],[0.7777777777777778,\"#fb9f3a\"],[0.8888888888888888,\"#fdca26\"],[1.0,\"#f0f921\"]],\"sequentialminus\":[[0.0,\"#0d0887\"],[0.1111111111111111,\"#46039f\"],[0.2222222222222222,\"#7201a8\"],[0.3333333333333333,\"#9c179e\"],[0.4444444444444444,\"#bd3786\"],[0.5555555555555556,\"#d8576b\"],[0.6666666666666666,\"#ed7953\"],[0.7777777777777778,\"#fb9f3a\"],[0.8888888888888888,\"#fdca26\"],[1.0,\"#f0f921\"]]},\"colorway\":[\"#636efa\",\"#EF553B\",\"#00cc96\",\"#ab63fa\",\"#FFA15A\",\"#19d3f3\",\"#FF6692\",\"#B6E880\",\"#FF97FF\",\"#FECB52\"],\"font\":{\"color\":\"#2a3f5f\"},\"geo\":{\"bgcolor\":\"white\",\"lakecolor\":\"white\",\"landcolor\":\"#E5ECF6\",\"showlakes\":true,\"showland\":true,\"subunitcolor\":\"white\"},\"hoverlabel\":{\"align\":\"left\"},\"hovermode\":\"closest\",\"mapbox\":{\"style\":\"light\"},\"paper_bgcolor\":\"white\",\"plot_bgcolor\":\"#E5ECF6\",\"polar\":{\"angularaxis\":{\"gridcolor\":\"white\",\"linecolor\":\"white\",\"ticks\":\"\"},\"bgcolor\":\"#E5ECF6\",\"radialaxis\":{\"gridcolor\":\"white\",\"linecolor\":\"white\",\"ticks\":\"\"}},\"scene\":{\"xaxis\":{\"backgroundcolor\":\"#E5ECF6\",\"gridcolor\":\"white\",\"gridwidth\":2,\"linecolor\":\"white\",\"showbackground\":true,\"ticks\":\"\",\"zerolinecolor\":\"white\"},\"yaxis\":{\"backgroundcolor\":\"#E5ECF6\",\"gridcolor\":\"white\",\"gridwidth\":2,\"linecolor\":\"white\",\"showbackground\":true,\"ticks\":\"\",\"zerolinecolor\":\"white\"},\"zaxis\":{\"backgroundcolor\":\"#E5ECF6\",\"gridcolor\":\"white\",\"gridwidth\":2,\"linecolor\":\"white\",\"showbackground\":true,\"ticks\":\"\",\"zerolinecolor\":\"white\"}},\"shapedefaults\":{\"line\":{\"color\":\"#2a3f5f\"}},\"ternary\":{\"aaxis\":{\"gridcolor\":\"white\",\"linecolor\":\"white\",\"ticks\":\"\"},\"baxis\":{\"gridcolor\":\"white\",\"linecolor\":\"white\",\"ticks\":\"\"},\"bgcolor\":\"#E5ECF6\",\"caxis\":{\"gridcolor\":\"white\",\"linecolor\":\"white\",\"ticks\":\"\"}},\"title\":{\"x\":0.05},\"xaxis\":{\"automargin\":true,\"gridcolor\":\"white\",\"linecolor\":\"white\",\"ticks\":\"\",\"title\":{\"standoff\":15},\"zerolinecolor\":\"white\",\"zerolinewidth\":2},\"yaxis\":{\"automargin\":true,\"gridcolor\":\"white\",\"linecolor\":\"white\",\"ticks\":\"\",\"title\":{\"standoff\":15},\"zerolinecolor\":\"white\",\"zerolinewidth\":2}}},\"title\":{\"text\":\"Parametri Range of Motion\"},\"xaxis\":{\"tickfont\":{\"color\":\"#7f7f7f\",\"family\":\"Courier New, monospace\",\"size\":14},\"title\":{\"font\":{\"color\":\"#7f7f7f\",\"family\":\"Courier New, monospace\",\"size\":18},\"text\":\"Month\"}},\"yaxis\":{\"tickfont\":{\"color\":\"#7f7f7f\",\"family\":\"Courier New, monospace\",\"size\":14},\"title\":{\"font\":{\"color\":\"#7f7f7f\",\"family\":\"Courier New, monospace\",\"size\":18},\"text\":\"ROM kneeRight [gradi]\"}}},                        {\"responsive\": true}                    ).then(function(){\n",
       "                            \n",
       "var gd = document.getElementById('9f27a5e9-b9e8-4503-b4e7-3210a705d83f');\n",
       "var x = new MutationObserver(function (mutations, observer) {{\n",
       "        var display = window.getComputedStyle(gd).display;\n",
       "        if (!display || display === 'none') {{\n",
       "            console.log([gd, 'removed!']);\n",
       "            Plotly.purge(gd);\n",
       "            observer.disconnect();\n",
       "        }}\n",
       "}});\n",
       "\n",
       "// Listen for the removal of the full notebook cells\n",
       "var notebookContainer = gd.closest('#notebook-container');\n",
       "if (notebookContainer) {{\n",
       "    x.observe(notebookContainer, {childList: true});\n",
       "}}\n",
       "\n",
       "// Listen for the clearing of the current output cell\n",
       "var outputEl = gd.closest('.output');\n",
       "if (outputEl) {{\n",
       "    x.observe(outputEl, {childList: true});\n",
       "}}\n",
       "\n",
       "                        })                };                });            </script>        </div>"
      ]
     },
     "metadata": {},
     "output_type": "display_data"
    },
    {
     "data": {
      "application/vnd.plotly.v1+json": {
       "config": {
        "linkText": "Export to plot.ly",
        "plotlyServerURL": "https://plot.ly",
        "showLink": false
       },
       "data": [
        {
         "marker": {
          "color": "rgb(0,0,255)"
         },
         "name": "Massimo valore raggiunto",
         "type": "bar",
         "x": [
          1,
          2,
          3,
          4,
          5,
          6,
          7,
          8,
          9,
          10,
          11,
          12
         ],
         "y": [
          90,
          0,
          0,
          0,
          0,
          0,
          0,
          0,
          0,
          0,
          0,
          0
         ]
        },
        {
         "marker": {
          "color": "rgb(255,0,0)"
         },
         "name": "Minimo valore raggiunto",
         "type": "bar",
         "x": [
          1,
          2,
          3,
          4,
          5,
          6,
          7,
          8,
          9,
          10,
          11,
          12
         ],
         "y": [
          90,
          0,
          0,
          0,
          0,
          0,
          0,
          0,
          0,
          0,
          0,
          0
         ]
        }
       ],
       "layout": {
        "bargap": 0.1,
        "bargroupgap": 0,
        "barmode": "group",
        "font": {
         "color": "black",
         "family": "Courier New, monospace",
         "size": 18
        },
        "legend": {
         "bgcolor": "rgba(255, 255, 255, 0)",
         "bordercolor": "rgba(255, 255, 255, 0)"
        },
        "template": {
         "data": {
          "bar": [
           {
            "error_x": {
             "color": "#2a3f5f"
            },
            "error_y": {
             "color": "#2a3f5f"
            },
            "marker": {
             "line": {
              "color": "#E5ECF6",
              "width": 0.5
             },
             "pattern": {
              "fillmode": "overlay",
              "size": 10,
              "solidity": 0.2
             }
            },
            "type": "bar"
           }
          ],
          "barpolar": [
           {
            "marker": {
             "line": {
              "color": "#E5ECF6",
              "width": 0.5
             },
             "pattern": {
              "fillmode": "overlay",
              "size": 10,
              "solidity": 0.2
             }
            },
            "type": "barpolar"
           }
          ],
          "carpet": [
           {
            "aaxis": {
             "endlinecolor": "#2a3f5f",
             "gridcolor": "white",
             "linecolor": "white",
             "minorgridcolor": "white",
             "startlinecolor": "#2a3f5f"
            },
            "baxis": {
             "endlinecolor": "#2a3f5f",
             "gridcolor": "white",
             "linecolor": "white",
             "minorgridcolor": "white",
             "startlinecolor": "#2a3f5f"
            },
            "type": "carpet"
           }
          ],
          "choropleth": [
           {
            "colorbar": {
             "outlinewidth": 0,
             "ticks": ""
            },
            "type": "choropleth"
           }
          ],
          "contour": [
           {
            "colorbar": {
             "outlinewidth": 0,
             "ticks": ""
            },
            "colorscale": [
             [
              0,
              "#0d0887"
             ],
             [
              0.1111111111111111,
              "#46039f"
             ],
             [
              0.2222222222222222,
              "#7201a8"
             ],
             [
              0.3333333333333333,
              "#9c179e"
             ],
             [
              0.4444444444444444,
              "#bd3786"
             ],
             [
              0.5555555555555556,
              "#d8576b"
             ],
             [
              0.6666666666666666,
              "#ed7953"
             ],
             [
              0.7777777777777778,
              "#fb9f3a"
             ],
             [
              0.8888888888888888,
              "#fdca26"
             ],
             [
              1,
              "#f0f921"
             ]
            ],
            "type": "contour"
           }
          ],
          "contourcarpet": [
           {
            "colorbar": {
             "outlinewidth": 0,
             "ticks": ""
            },
            "type": "contourcarpet"
           }
          ],
          "heatmap": [
           {
            "colorbar": {
             "outlinewidth": 0,
             "ticks": ""
            },
            "colorscale": [
             [
              0,
              "#0d0887"
             ],
             [
              0.1111111111111111,
              "#46039f"
             ],
             [
              0.2222222222222222,
              "#7201a8"
             ],
             [
              0.3333333333333333,
              "#9c179e"
             ],
             [
              0.4444444444444444,
              "#bd3786"
             ],
             [
              0.5555555555555556,
              "#d8576b"
             ],
             [
              0.6666666666666666,
              "#ed7953"
             ],
             [
              0.7777777777777778,
              "#fb9f3a"
             ],
             [
              0.8888888888888888,
              "#fdca26"
             ],
             [
              1,
              "#f0f921"
             ]
            ],
            "type": "heatmap"
           }
          ],
          "heatmapgl": [
           {
            "colorbar": {
             "outlinewidth": 0,
             "ticks": ""
            },
            "colorscale": [
             [
              0,
              "#0d0887"
             ],
             [
              0.1111111111111111,
              "#46039f"
             ],
             [
              0.2222222222222222,
              "#7201a8"
             ],
             [
              0.3333333333333333,
              "#9c179e"
             ],
             [
              0.4444444444444444,
              "#bd3786"
             ],
             [
              0.5555555555555556,
              "#d8576b"
             ],
             [
              0.6666666666666666,
              "#ed7953"
             ],
             [
              0.7777777777777778,
              "#fb9f3a"
             ],
             [
              0.8888888888888888,
              "#fdca26"
             ],
             [
              1,
              "#f0f921"
             ]
            ],
            "type": "heatmapgl"
           }
          ],
          "histogram": [
           {
            "marker": {
             "pattern": {
              "fillmode": "overlay",
              "size": 10,
              "solidity": 0.2
             }
            },
            "type": "histogram"
           }
          ],
          "histogram2d": [
           {
            "colorbar": {
             "outlinewidth": 0,
             "ticks": ""
            },
            "colorscale": [
             [
              0,
              "#0d0887"
             ],
             [
              0.1111111111111111,
              "#46039f"
             ],
             [
              0.2222222222222222,
              "#7201a8"
             ],
             [
              0.3333333333333333,
              "#9c179e"
             ],
             [
              0.4444444444444444,
              "#bd3786"
             ],
             [
              0.5555555555555556,
              "#d8576b"
             ],
             [
              0.6666666666666666,
              "#ed7953"
             ],
             [
              0.7777777777777778,
              "#fb9f3a"
             ],
             [
              0.8888888888888888,
              "#fdca26"
             ],
             [
              1,
              "#f0f921"
             ]
            ],
            "type": "histogram2d"
           }
          ],
          "histogram2dcontour": [
           {
            "colorbar": {
             "outlinewidth": 0,
             "ticks": ""
            },
            "colorscale": [
             [
              0,
              "#0d0887"
             ],
             [
              0.1111111111111111,
              "#46039f"
             ],
             [
              0.2222222222222222,
              "#7201a8"
             ],
             [
              0.3333333333333333,
              "#9c179e"
             ],
             [
              0.4444444444444444,
              "#bd3786"
             ],
             [
              0.5555555555555556,
              "#d8576b"
             ],
             [
              0.6666666666666666,
              "#ed7953"
             ],
             [
              0.7777777777777778,
              "#fb9f3a"
             ],
             [
              0.8888888888888888,
              "#fdca26"
             ],
             [
              1,
              "#f0f921"
             ]
            ],
            "type": "histogram2dcontour"
           }
          ],
          "mesh3d": [
           {
            "colorbar": {
             "outlinewidth": 0,
             "ticks": ""
            },
            "type": "mesh3d"
           }
          ],
          "parcoords": [
           {
            "line": {
             "colorbar": {
              "outlinewidth": 0,
              "ticks": ""
             }
            },
            "type": "parcoords"
           }
          ],
          "pie": [
           {
            "automargin": true,
            "type": "pie"
           }
          ],
          "scatter": [
           {
            "fillpattern": {
             "fillmode": "overlay",
             "size": 10,
             "solidity": 0.2
            },
            "type": "scatter"
           }
          ],
          "scatter3d": [
           {
            "line": {
             "colorbar": {
              "outlinewidth": 0,
              "ticks": ""
             }
            },
            "marker": {
             "colorbar": {
              "outlinewidth": 0,
              "ticks": ""
             }
            },
            "type": "scatter3d"
           }
          ],
          "scattercarpet": [
           {
            "marker": {
             "colorbar": {
              "outlinewidth": 0,
              "ticks": ""
             }
            },
            "type": "scattercarpet"
           }
          ],
          "scattergeo": [
           {
            "marker": {
             "colorbar": {
              "outlinewidth": 0,
              "ticks": ""
             }
            },
            "type": "scattergeo"
           }
          ],
          "scattergl": [
           {
            "marker": {
             "colorbar": {
              "outlinewidth": 0,
              "ticks": ""
             }
            },
            "type": "scattergl"
           }
          ],
          "scattermapbox": [
           {
            "marker": {
             "colorbar": {
              "outlinewidth": 0,
              "ticks": ""
             }
            },
            "type": "scattermapbox"
           }
          ],
          "scatterpolar": [
           {
            "marker": {
             "colorbar": {
              "outlinewidth": 0,
              "ticks": ""
             }
            },
            "type": "scatterpolar"
           }
          ],
          "scatterpolargl": [
           {
            "marker": {
             "colorbar": {
              "outlinewidth": 0,
              "ticks": ""
             }
            },
            "type": "scatterpolargl"
           }
          ],
          "scatterternary": [
           {
            "marker": {
             "colorbar": {
              "outlinewidth": 0,
              "ticks": ""
             }
            },
            "type": "scatterternary"
           }
          ],
          "surface": [
           {
            "colorbar": {
             "outlinewidth": 0,
             "ticks": ""
            },
            "colorscale": [
             [
              0,
              "#0d0887"
             ],
             [
              0.1111111111111111,
              "#46039f"
             ],
             [
              0.2222222222222222,
              "#7201a8"
             ],
             [
              0.3333333333333333,
              "#9c179e"
             ],
             [
              0.4444444444444444,
              "#bd3786"
             ],
             [
              0.5555555555555556,
              "#d8576b"
             ],
             [
              0.6666666666666666,
              "#ed7953"
             ],
             [
              0.7777777777777778,
              "#fb9f3a"
             ],
             [
              0.8888888888888888,
              "#fdca26"
             ],
             [
              1,
              "#f0f921"
             ]
            ],
            "type": "surface"
           }
          ],
          "table": [
           {
            "cells": {
             "fill": {
              "color": "#EBF0F8"
             },
             "line": {
              "color": "white"
             }
            },
            "header": {
             "fill": {
              "color": "#C8D4E3"
             },
             "line": {
              "color": "white"
             }
            },
            "type": "table"
           }
          ]
         },
         "layout": {
          "annotationdefaults": {
           "arrowcolor": "#2a3f5f",
           "arrowhead": 0,
           "arrowwidth": 1
          },
          "autotypenumbers": "strict",
          "coloraxis": {
           "colorbar": {
            "outlinewidth": 0,
            "ticks": ""
           }
          },
          "colorscale": {
           "diverging": [
            [
             0,
             "#8e0152"
            ],
            [
             0.1,
             "#c51b7d"
            ],
            [
             0.2,
             "#de77ae"
            ],
            [
             0.3,
             "#f1b6da"
            ],
            [
             0.4,
             "#fde0ef"
            ],
            [
             0.5,
             "#f7f7f7"
            ],
            [
             0.6,
             "#e6f5d0"
            ],
            [
             0.7,
             "#b8e186"
            ],
            [
             0.8,
             "#7fbc41"
            ],
            [
             0.9,
             "#4d9221"
            ],
            [
             1,
             "#276419"
            ]
           ],
           "sequential": [
            [
             0,
             "#0d0887"
            ],
            [
             0.1111111111111111,
             "#46039f"
            ],
            [
             0.2222222222222222,
             "#7201a8"
            ],
            [
             0.3333333333333333,
             "#9c179e"
            ],
            [
             0.4444444444444444,
             "#bd3786"
            ],
            [
             0.5555555555555556,
             "#d8576b"
            ],
            [
             0.6666666666666666,
             "#ed7953"
            ],
            [
             0.7777777777777778,
             "#fb9f3a"
            ],
            [
             0.8888888888888888,
             "#fdca26"
            ],
            [
             1,
             "#f0f921"
            ]
           ],
           "sequentialminus": [
            [
             0,
             "#0d0887"
            ],
            [
             0.1111111111111111,
             "#46039f"
            ],
            [
             0.2222222222222222,
             "#7201a8"
            ],
            [
             0.3333333333333333,
             "#9c179e"
            ],
            [
             0.4444444444444444,
             "#bd3786"
            ],
            [
             0.5555555555555556,
             "#d8576b"
            ],
            [
             0.6666666666666666,
             "#ed7953"
            ],
            [
             0.7777777777777778,
             "#fb9f3a"
            ],
            [
             0.8888888888888888,
             "#fdca26"
            ],
            [
             1,
             "#f0f921"
            ]
           ]
          },
          "colorway": [
           "#636efa",
           "#EF553B",
           "#00cc96",
           "#ab63fa",
           "#FFA15A",
           "#19d3f3",
           "#FF6692",
           "#B6E880",
           "#FF97FF",
           "#FECB52"
          ],
          "font": {
           "color": "#2a3f5f"
          },
          "geo": {
           "bgcolor": "white",
           "lakecolor": "white",
           "landcolor": "#E5ECF6",
           "showlakes": true,
           "showland": true,
           "subunitcolor": "white"
          },
          "hoverlabel": {
           "align": "left"
          },
          "hovermode": "closest",
          "mapbox": {
           "style": "light"
          },
          "paper_bgcolor": "white",
          "plot_bgcolor": "#E5ECF6",
          "polar": {
           "angularaxis": {
            "gridcolor": "white",
            "linecolor": "white",
            "ticks": ""
           },
           "bgcolor": "#E5ECF6",
           "radialaxis": {
            "gridcolor": "white",
            "linecolor": "white",
            "ticks": ""
           }
          },
          "scene": {
           "xaxis": {
            "backgroundcolor": "#E5ECF6",
            "gridcolor": "white",
            "gridwidth": 2,
            "linecolor": "white",
            "showbackground": true,
            "ticks": "",
            "zerolinecolor": "white"
           },
           "yaxis": {
            "backgroundcolor": "#E5ECF6",
            "gridcolor": "white",
            "gridwidth": 2,
            "linecolor": "white",
            "showbackground": true,
            "ticks": "",
            "zerolinecolor": "white"
           },
           "zaxis": {
            "backgroundcolor": "#E5ECF6",
            "gridcolor": "white",
            "gridwidth": 2,
            "linecolor": "white",
            "showbackground": true,
            "ticks": "",
            "zerolinecolor": "white"
           }
          },
          "shapedefaults": {
           "line": {
            "color": "#2a3f5f"
           }
          },
          "ternary": {
           "aaxis": {
            "gridcolor": "white",
            "linecolor": "white",
            "ticks": ""
           },
           "baxis": {
            "gridcolor": "white",
            "linecolor": "white",
            "ticks": ""
           },
           "bgcolor": "#E5ECF6",
           "caxis": {
            "gridcolor": "white",
            "linecolor": "white",
            "ticks": ""
           }
          },
          "title": {
           "x": 0.05
          },
          "xaxis": {
           "automargin": true,
           "gridcolor": "white",
           "linecolor": "white",
           "ticks": "",
           "title": {
            "standoff": 15
           },
           "zerolinecolor": "white",
           "zerolinewidth": 2
          },
          "yaxis": {
           "automargin": true,
           "gridcolor": "white",
           "linecolor": "white",
           "ticks": "",
           "title": {
            "standoff": 15
           },
           "zerolinecolor": "white",
           "zerolinewidth": 2
          }
         }
        },
        "title": {
         "text": "Parametri Range of Motion"
        },
        "xaxis": {
         "tickfont": {
          "color": "#7f7f7f",
          "family": "Courier New, monospace",
          "size": 14
         },
         "title": {
          "font": {
           "color": "#7f7f7f",
           "family": "Courier New, monospace",
           "size": 18
          },
          "text": "Month"
         }
        },
        "yaxis": {
         "tickfont": {
          "color": "#7f7f7f",
          "family": "Courier New, monospace",
          "size": 14
         },
         "title": {
          "font": {
           "color": "#7f7f7f",
           "family": "Courier New, monospace",
           "size": 18
          },
          "text": "ROM ankleRight [gradi]"
         }
        }
       }
      },
      "text/html": [
       "<div>                            <div id=\"101cd062-0996-4b5e-ba5d-5a5ba210a289\" class=\"plotly-graph-div\" style=\"height:525px; width:100%;\"></div>            <script type=\"text/javascript\">                require([\"plotly\"], function(Plotly) {                    window.PLOTLYENV=window.PLOTLYENV || {};                                    if (document.getElementById(\"101cd062-0996-4b5e-ba5d-5a5ba210a289\")) {                    Plotly.newPlot(                        \"101cd062-0996-4b5e-ba5d-5a5ba210a289\",                        [{\"marker\":{\"color\":\"rgb(0,0,255)\"},\"name\":\"Massimo valore raggiunto\",\"x\":[1,2,3,4,5,6,7,8,9,10,11,12],\"y\":[90.0,0,0,0,0,0,0,0,0,0,0,0],\"type\":\"bar\"},{\"marker\":{\"color\":\"rgb(255,0,0)\"},\"name\":\"Minimo valore raggiunto\",\"x\":[1,2,3,4,5,6,7,8,9,10,11,12],\"y\":[90.0,0,0,0,0,0,0,0,0,0,0,0],\"type\":\"bar\"}],                        {\"bargap\":0.1,\"bargroupgap\":0.0,\"barmode\":\"group\",\"font\":{\"color\":\"black\",\"family\":\"Courier New, monospace\",\"size\":18},\"legend\":{\"bgcolor\":\"rgba(255, 255, 255, 0)\",\"bordercolor\":\"rgba(255, 255, 255, 0)\"},\"template\":{\"data\":{\"barpolar\":[{\"marker\":{\"line\":{\"color\":\"#E5ECF6\",\"width\":0.5},\"pattern\":{\"fillmode\":\"overlay\",\"size\":10,\"solidity\":0.2}},\"type\":\"barpolar\"}],\"bar\":[{\"error_x\":{\"color\":\"#2a3f5f\"},\"error_y\":{\"color\":\"#2a3f5f\"},\"marker\":{\"line\":{\"color\":\"#E5ECF6\",\"width\":0.5},\"pattern\":{\"fillmode\":\"overlay\",\"size\":10,\"solidity\":0.2}},\"type\":\"bar\"}],\"carpet\":[{\"aaxis\":{\"endlinecolor\":\"#2a3f5f\",\"gridcolor\":\"white\",\"linecolor\":\"white\",\"minorgridcolor\":\"white\",\"startlinecolor\":\"#2a3f5f\"},\"baxis\":{\"endlinecolor\":\"#2a3f5f\",\"gridcolor\":\"white\",\"linecolor\":\"white\",\"minorgridcolor\":\"white\",\"startlinecolor\":\"#2a3f5f\"},\"type\":\"carpet\"}],\"choropleth\":[{\"colorbar\":{\"outlinewidth\":0,\"ticks\":\"\"},\"type\":\"choropleth\"}],\"contourcarpet\":[{\"colorbar\":{\"outlinewidth\":0,\"ticks\":\"\"},\"type\":\"contourcarpet\"}],\"contour\":[{\"colorbar\":{\"outlinewidth\":0,\"ticks\":\"\"},\"colorscale\":[[0.0,\"#0d0887\"],[0.1111111111111111,\"#46039f\"],[0.2222222222222222,\"#7201a8\"],[0.3333333333333333,\"#9c179e\"],[0.4444444444444444,\"#bd3786\"],[0.5555555555555556,\"#d8576b\"],[0.6666666666666666,\"#ed7953\"],[0.7777777777777778,\"#fb9f3a\"],[0.8888888888888888,\"#fdca26\"],[1.0,\"#f0f921\"]],\"type\":\"contour\"}],\"heatmapgl\":[{\"colorbar\":{\"outlinewidth\":0,\"ticks\":\"\"},\"colorscale\":[[0.0,\"#0d0887\"],[0.1111111111111111,\"#46039f\"],[0.2222222222222222,\"#7201a8\"],[0.3333333333333333,\"#9c179e\"],[0.4444444444444444,\"#bd3786\"],[0.5555555555555556,\"#d8576b\"],[0.6666666666666666,\"#ed7953\"],[0.7777777777777778,\"#fb9f3a\"],[0.8888888888888888,\"#fdca26\"],[1.0,\"#f0f921\"]],\"type\":\"heatmapgl\"}],\"heatmap\":[{\"colorbar\":{\"outlinewidth\":0,\"ticks\":\"\"},\"colorscale\":[[0.0,\"#0d0887\"],[0.1111111111111111,\"#46039f\"],[0.2222222222222222,\"#7201a8\"],[0.3333333333333333,\"#9c179e\"],[0.4444444444444444,\"#bd3786\"],[0.5555555555555556,\"#d8576b\"],[0.6666666666666666,\"#ed7953\"],[0.7777777777777778,\"#fb9f3a\"],[0.8888888888888888,\"#fdca26\"],[1.0,\"#f0f921\"]],\"type\":\"heatmap\"}],\"histogram2dcontour\":[{\"colorbar\":{\"outlinewidth\":0,\"ticks\":\"\"},\"colorscale\":[[0.0,\"#0d0887\"],[0.1111111111111111,\"#46039f\"],[0.2222222222222222,\"#7201a8\"],[0.3333333333333333,\"#9c179e\"],[0.4444444444444444,\"#bd3786\"],[0.5555555555555556,\"#d8576b\"],[0.6666666666666666,\"#ed7953\"],[0.7777777777777778,\"#fb9f3a\"],[0.8888888888888888,\"#fdca26\"],[1.0,\"#f0f921\"]],\"type\":\"histogram2dcontour\"}],\"histogram2d\":[{\"colorbar\":{\"outlinewidth\":0,\"ticks\":\"\"},\"colorscale\":[[0.0,\"#0d0887\"],[0.1111111111111111,\"#46039f\"],[0.2222222222222222,\"#7201a8\"],[0.3333333333333333,\"#9c179e\"],[0.4444444444444444,\"#bd3786\"],[0.5555555555555556,\"#d8576b\"],[0.6666666666666666,\"#ed7953\"],[0.7777777777777778,\"#fb9f3a\"],[0.8888888888888888,\"#fdca26\"],[1.0,\"#f0f921\"]],\"type\":\"histogram2d\"}],\"histogram\":[{\"marker\":{\"pattern\":{\"fillmode\":\"overlay\",\"size\":10,\"solidity\":0.2}},\"type\":\"histogram\"}],\"mesh3d\":[{\"colorbar\":{\"outlinewidth\":0,\"ticks\":\"\"},\"type\":\"mesh3d\"}],\"parcoords\":[{\"line\":{\"colorbar\":{\"outlinewidth\":0,\"ticks\":\"\"}},\"type\":\"parcoords\"}],\"pie\":[{\"automargin\":true,\"type\":\"pie\"}],\"scatter3d\":[{\"line\":{\"colorbar\":{\"outlinewidth\":0,\"ticks\":\"\"}},\"marker\":{\"colorbar\":{\"outlinewidth\":0,\"ticks\":\"\"}},\"type\":\"scatter3d\"}],\"scattercarpet\":[{\"marker\":{\"colorbar\":{\"outlinewidth\":0,\"ticks\":\"\"}},\"type\":\"scattercarpet\"}],\"scattergeo\":[{\"marker\":{\"colorbar\":{\"outlinewidth\":0,\"ticks\":\"\"}},\"type\":\"scattergeo\"}],\"scattergl\":[{\"marker\":{\"colorbar\":{\"outlinewidth\":0,\"ticks\":\"\"}},\"type\":\"scattergl\"}],\"scattermapbox\":[{\"marker\":{\"colorbar\":{\"outlinewidth\":0,\"ticks\":\"\"}},\"type\":\"scattermapbox\"}],\"scatterpolargl\":[{\"marker\":{\"colorbar\":{\"outlinewidth\":0,\"ticks\":\"\"}},\"type\":\"scatterpolargl\"}],\"scatterpolar\":[{\"marker\":{\"colorbar\":{\"outlinewidth\":0,\"ticks\":\"\"}},\"type\":\"scatterpolar\"}],\"scatter\":[{\"fillpattern\":{\"fillmode\":\"overlay\",\"size\":10,\"solidity\":0.2},\"type\":\"scatter\"}],\"scatterternary\":[{\"marker\":{\"colorbar\":{\"outlinewidth\":0,\"ticks\":\"\"}},\"type\":\"scatterternary\"}],\"surface\":[{\"colorbar\":{\"outlinewidth\":0,\"ticks\":\"\"},\"colorscale\":[[0.0,\"#0d0887\"],[0.1111111111111111,\"#46039f\"],[0.2222222222222222,\"#7201a8\"],[0.3333333333333333,\"#9c179e\"],[0.4444444444444444,\"#bd3786\"],[0.5555555555555556,\"#d8576b\"],[0.6666666666666666,\"#ed7953\"],[0.7777777777777778,\"#fb9f3a\"],[0.8888888888888888,\"#fdca26\"],[1.0,\"#f0f921\"]],\"type\":\"surface\"}],\"table\":[{\"cells\":{\"fill\":{\"color\":\"#EBF0F8\"},\"line\":{\"color\":\"white\"}},\"header\":{\"fill\":{\"color\":\"#C8D4E3\"},\"line\":{\"color\":\"white\"}},\"type\":\"table\"}]},\"layout\":{\"annotationdefaults\":{\"arrowcolor\":\"#2a3f5f\",\"arrowhead\":0,\"arrowwidth\":1},\"autotypenumbers\":\"strict\",\"coloraxis\":{\"colorbar\":{\"outlinewidth\":0,\"ticks\":\"\"}},\"colorscale\":{\"diverging\":[[0,\"#8e0152\"],[0.1,\"#c51b7d\"],[0.2,\"#de77ae\"],[0.3,\"#f1b6da\"],[0.4,\"#fde0ef\"],[0.5,\"#f7f7f7\"],[0.6,\"#e6f5d0\"],[0.7,\"#b8e186\"],[0.8,\"#7fbc41\"],[0.9,\"#4d9221\"],[1,\"#276419\"]],\"sequential\":[[0.0,\"#0d0887\"],[0.1111111111111111,\"#46039f\"],[0.2222222222222222,\"#7201a8\"],[0.3333333333333333,\"#9c179e\"],[0.4444444444444444,\"#bd3786\"],[0.5555555555555556,\"#d8576b\"],[0.6666666666666666,\"#ed7953\"],[0.7777777777777778,\"#fb9f3a\"],[0.8888888888888888,\"#fdca26\"],[1.0,\"#f0f921\"]],\"sequentialminus\":[[0.0,\"#0d0887\"],[0.1111111111111111,\"#46039f\"],[0.2222222222222222,\"#7201a8\"],[0.3333333333333333,\"#9c179e\"],[0.4444444444444444,\"#bd3786\"],[0.5555555555555556,\"#d8576b\"],[0.6666666666666666,\"#ed7953\"],[0.7777777777777778,\"#fb9f3a\"],[0.8888888888888888,\"#fdca26\"],[1.0,\"#f0f921\"]]},\"colorway\":[\"#636efa\",\"#EF553B\",\"#00cc96\",\"#ab63fa\",\"#FFA15A\",\"#19d3f3\",\"#FF6692\",\"#B6E880\",\"#FF97FF\",\"#FECB52\"],\"font\":{\"color\":\"#2a3f5f\"},\"geo\":{\"bgcolor\":\"white\",\"lakecolor\":\"white\",\"landcolor\":\"#E5ECF6\",\"showlakes\":true,\"showland\":true,\"subunitcolor\":\"white\"},\"hoverlabel\":{\"align\":\"left\"},\"hovermode\":\"closest\",\"mapbox\":{\"style\":\"light\"},\"paper_bgcolor\":\"white\",\"plot_bgcolor\":\"#E5ECF6\",\"polar\":{\"angularaxis\":{\"gridcolor\":\"white\",\"linecolor\":\"white\",\"ticks\":\"\"},\"bgcolor\":\"#E5ECF6\",\"radialaxis\":{\"gridcolor\":\"white\",\"linecolor\":\"white\",\"ticks\":\"\"}},\"scene\":{\"xaxis\":{\"backgroundcolor\":\"#E5ECF6\",\"gridcolor\":\"white\",\"gridwidth\":2,\"linecolor\":\"white\",\"showbackground\":true,\"ticks\":\"\",\"zerolinecolor\":\"white\"},\"yaxis\":{\"backgroundcolor\":\"#E5ECF6\",\"gridcolor\":\"white\",\"gridwidth\":2,\"linecolor\":\"white\",\"showbackground\":true,\"ticks\":\"\",\"zerolinecolor\":\"white\"},\"zaxis\":{\"backgroundcolor\":\"#E5ECF6\",\"gridcolor\":\"white\",\"gridwidth\":2,\"linecolor\":\"white\",\"showbackground\":true,\"ticks\":\"\",\"zerolinecolor\":\"white\"}},\"shapedefaults\":{\"line\":{\"color\":\"#2a3f5f\"}},\"ternary\":{\"aaxis\":{\"gridcolor\":\"white\",\"linecolor\":\"white\",\"ticks\":\"\"},\"baxis\":{\"gridcolor\":\"white\",\"linecolor\":\"white\",\"ticks\":\"\"},\"bgcolor\":\"#E5ECF6\",\"caxis\":{\"gridcolor\":\"white\",\"linecolor\":\"white\",\"ticks\":\"\"}},\"title\":{\"x\":0.05},\"xaxis\":{\"automargin\":true,\"gridcolor\":\"white\",\"linecolor\":\"white\",\"ticks\":\"\",\"title\":{\"standoff\":15},\"zerolinecolor\":\"white\",\"zerolinewidth\":2},\"yaxis\":{\"automargin\":true,\"gridcolor\":\"white\",\"linecolor\":\"white\",\"ticks\":\"\",\"title\":{\"standoff\":15},\"zerolinecolor\":\"white\",\"zerolinewidth\":2}}},\"title\":{\"text\":\"Parametri Range of Motion\"},\"xaxis\":{\"tickfont\":{\"color\":\"#7f7f7f\",\"family\":\"Courier New, monospace\",\"size\":14},\"title\":{\"font\":{\"color\":\"#7f7f7f\",\"family\":\"Courier New, monospace\",\"size\":18},\"text\":\"Month\"}},\"yaxis\":{\"tickfont\":{\"color\":\"#7f7f7f\",\"family\":\"Courier New, monospace\",\"size\":14},\"title\":{\"font\":{\"color\":\"#7f7f7f\",\"family\":\"Courier New, monospace\",\"size\":18},\"text\":\"ROM ankleRight [gradi]\"}}},                        {\"responsive\": true}                    ).then(function(){\n",
       "                            \n",
       "var gd = document.getElementById('101cd062-0996-4b5e-ba5d-5a5ba210a289');\n",
       "var x = new MutationObserver(function (mutations, observer) {{\n",
       "        var display = window.getComputedStyle(gd).display;\n",
       "        if (!display || display === 'none') {{\n",
       "            console.log([gd, 'removed!']);\n",
       "            Plotly.purge(gd);\n",
       "            observer.disconnect();\n",
       "        }}\n",
       "}});\n",
       "\n",
       "// Listen for the removal of the full notebook cells\n",
       "var notebookContainer = gd.closest('#notebook-container');\n",
       "if (notebookContainer) {{\n",
       "    x.observe(notebookContainer, {childList: true});\n",
       "}}\n",
       "\n",
       "// Listen for the clearing of the current output cell\n",
       "var outputEl = gd.closest('.output');\n",
       "if (outputEl) {{\n",
       "    x.observe(outputEl, {childList: true});\n",
       "}}\n",
       "\n",
       "                        })                };                });            </script>        </div>"
      ]
     },
     "metadata": {},
     "output_type": "display_data"
    }
   ],
   "source": [
    "allmonths = [1,2,3,4,5,6,7,8,9,10,11,12]\n",
    "counted_ex = {\n",
    "    \"tug\" : 0,\n",
    "    \"abduction_left\" : 0,\n",
    "    \"internal_rotation_left\" : 0,\n",
    "    \"external_rotation_left\" : 0,\n",
    "    \"reaching_left\" : 0\n",
    "}\n",
    "for i in range(len(exercises)):\n",
    "    exnamei = exercises[i].name\n",
    "    res_exi = exercises[i].result\n",
    "    if counted_ex[exnamei] < 1:\n",
    "\n",
    "        #############################\n",
    "        #      Results for TUG      #\n",
    "        #############################\n",
    "        if exnamei == \"tug\":\n",
    "            counted_ex[exnamei] = 1\n",
    "            step_month_table = pd.DataFrame.from_dict(stepmonth,orient='index',\n",
    "                                                      columns=['Jan','Feb','Mar','Apr','May','Jun',\n",
    "                                                           'Jul','Aug','Sep','Oct','Nov','Dec'])\n",
    "            step_month_table.index = [\"Numero di passi\",\"Velocità [m/s]\",\"Lunghezza passo [m]\",\n",
    "                                      \"Cadenza [steps/s]\",\"Tempo di esecuzione [s]\"]\n",
    "            display(step_month_table)\n",
    "\n",
    "            for m in range(len(res_exi)): \n",
    "                single_metric,result_single_metric = res_exi[m]\n",
    "                if single_metric.name == \"ROM\":\n",
    "                    tagjoint = single_metric.tagjoint\n",
    "\n",
    "                    if np.sum(keyp2rommax_avg[tagjoint]) > 0.0:\n",
    "                        trace1 = go.Bar(\n",
    "                            x=allmonths, \n",
    "                            y=keyp2rommax_avg[tagjoint],\n",
    "                            name='Massimo valore raggiunto',\n",
    "                            marker=dict(\n",
    "                                color='rgb(0,0,255)'\n",
    "                            )\n",
    "                        )\n",
    "                        trace2 = go.Bar(\n",
    "                            x=allmonths, \n",
    "                            y=keyp2rommin_avg[tagjoint],\n",
    "                            name='Minimo valore raggiunto',\n",
    "                            marker=dict(\n",
    "                                color='rgb(255,0,0)'\n",
    "                                )\n",
    "                            )\n",
    "                        layout = go.Layout(\n",
    "                            title='Parametri Range of Motion',\n",
    "                            font=dict(family='Courier New, monospace', size=18, color='black'),\n",
    "                            xaxis=dict(\n",
    "                                title='Month',\n",
    "                                titlefont=dict(\n",
    "                                    family='Courier New, monospace',\n",
    "                                    size=18,\n",
    "                                    color='#7f7f7f'\n",
    "                                ),\n",
    "                                tickfont=dict(\n",
    "                                    family='Courier New, monospace',\n",
    "                                    size=14,\n",
    "                                    color='#7f7f7f'\n",
    "                                )\n",
    "                            ),\n",
    "                            yaxis=dict(\n",
    "                                    title='ROM ' + tagjoint + ' [gradi]',\n",
    "                                    titlefont=dict(\n",
    "                                        family='Courier New, monospace',\n",
    "                                        size=18,\n",
    "                                        color='#7f7f7f'\n",
    "                                    ),\n",
    "                            tickfont=dict(\n",
    "                                        family='Courier New, monospace',\n",
    "                                        size=14,\n",
    "                                        color='#7f7f7f'\n",
    "                                    )\n",
    "                                ),\n",
    "                            legend=dict(\n",
    "                                    bgcolor='rgba(255, 255, 255, 0)',\n",
    "                                    bordercolor='rgba(255, 255, 255, 0)'\n",
    "                                ),\n",
    "                            barmode='group',\n",
    "                            bargap=0.1,\n",
    "                            bargroupgap=0.0\n",
    "                            )\n",
    "                        data=[trace1,trace2]\n",
    "                        fig = go.Figure(data=data, layout=layout)\n",
    "                        iplot(fig)              "
   ]
  },
  {
   "cell_type": "code",
   "execution_count": 91,
   "metadata": {
    "scrolled": false
   },
   "outputs": [
    {
     "data": {
      "text/html": [
       "<font size=5,font color=gray>Risultati di Abduzione</font>"
      ],
      "text/plain": [
       "<IPython.core.display.HTML object>"
      ]
     },
     "metadata": {},
     "output_type": "display_data"
    }
   ],
   "source": [
    "title = \"Risultati di Abduzione\"\n",
    "msg1 = HTML('<font size=5><b>'+title+'</b></font>')\n",
    "msg2 = HTML('<font size=5,font color=gray>'+title+'</font>')\n",
    "if sum(counted_exmonth['abduction_left'])>0:\n",
    "    display(msg1);\n",
    "else:\n",
    "    display(msg2); "
   ]
  },
  {
   "cell_type": "code",
   "execution_count": 92,
   "metadata": {
    "scrolled": false
   },
   "outputs": [],
   "source": [
    "for i in range(len(exercises)):\n",
    "    exnamei = exercises[i].name\n",
    "    res_exi = exercises[i].result\n",
    "    if counted_ex[exnamei] < 1:\n",
    "\n",
    "        ###################################\n",
    "        #      Results for Abduction      #\n",
    "        ###################################\n",
    "        if \"abduction\" in exnamei:\n",
    "            counted_ex[exnamei] = 1           \n",
    "\n",
    "            for m in range(len(res_exi)): \n",
    "                single_metric,result_single_metric = res_exi[m]\n",
    "                if single_metric.name == \"ROM\":\n",
    "                    tagjoint = single_metric.tagjoint\n",
    "\n",
    "                    if np.sum(keyp2rommax_avg[tagjoint]) > 0.0:\n",
    "                        trace1 = go.Bar(\n",
    "                            x=allmonths, \n",
    "                            y=keyp2rommax_avg[tagjoint],\n",
    "                            name='Massimo valore raggiunto',\n",
    "                            marker=dict(\n",
    "                                color='rgb(0,0,255)'\n",
    "                            )\n",
    "                        )\n",
    "                        trace2 = go.Bar(\n",
    "                            x=allmonths, \n",
    "                            y=keyp2rommin_avg[tagjoint],\n",
    "                            name='Minimo valore raggiunto',\n",
    "                            marker=dict(\n",
    "                                color='rgb(255,0,0)'\n",
    "                                )\n",
    "                            )\n",
    "                        layout = go.Layout(\n",
    "                            title='Parametri Range of Motion',\n",
    "                            font=dict(family='Courier New, monospace', size=18, color='black'),\n",
    "                            xaxis=dict(\n",
    "                                title='Month',\n",
    "                                titlefont=dict(\n",
    "                                    family='Courier New, monospace',\n",
    "                                    size=18,\n",
    "                                    color='#7f7f7f'\n",
    "                                ),\n",
    "                                tickfont=dict(\n",
    "                                    family='Courier New, monospace',\n",
    "                                    size=14,\n",
    "                                    color='#7f7f7f'\n",
    "                                )\n",
    "                            ),\n",
    "                            yaxis=dict(\n",
    "                                    title='ROM ' + tagjoint + ' [gradi]',\n",
    "                                    titlefont=dict(\n",
    "                                        family='Courier New, monospace',\n",
    "                                        size=18,\n",
    "                                        color='#7f7f7f'\n",
    "                                    ),\n",
    "                            tickfont=dict(\n",
    "                                        family='Courier New, monospace',\n",
    "                                        size=14,\n",
    "                                        color='#7f7f7f'\n",
    "                                    )\n",
    "                                ),\n",
    "                            legend=dict(\n",
    "                                    bgcolor='rgba(255, 255, 255, 0)',\n",
    "                                    bordercolor='rgba(255, 255, 255, 0)'\n",
    "                                ),\n",
    "                            barmode='group',\n",
    "                            bargap=0.1,\n",
    "                            bargroupgap=0.0\n",
    "                            )\n",
    "                        data=[trace1,trace2]\n",
    "                        fig = go.Figure(data=data, layout=layout)\n",
    "                        iplot(fig)    "
   ]
  },
  {
   "cell_type": "code",
   "execution_count": 93,
   "metadata": {
    "scrolled": false
   },
   "outputs": [
    {
     "data": {
      "text/html": [
       "<font size=5,font color=gray>Risultati di Rotazione Interna</font>"
      ],
      "text/plain": [
       "<IPython.core.display.HTML object>"
      ]
     },
     "metadata": {},
     "output_type": "display_data"
    }
   ],
   "source": [
    "title = \"Risultati di Rotazione Interna\"\n",
    "msg1 = HTML('<font size=5><b>'+title+'</b></font>')\n",
    "msg2 = HTML('<font size=5,font color=gray>'+title+'</font>')\n",
    "if sum(counted_exmonth['internal_rotation_left'])>0:\n",
    "    display(msg1);\n",
    "else:\n",
    "    display(msg2); "
   ]
  },
  {
   "cell_type": "code",
   "execution_count": 94,
   "metadata": {
    "scrolled": false
   },
   "outputs": [],
   "source": [
    "for i in range(len(exercises)):\n",
    "    exnamei = exercises[i].name\n",
    "    res_exi = exercises[i].result\n",
    "    if counted_ex[exnamei] < 1:\n",
    "\n",
    "        ###################################\n",
    "        #      Results for Internal      #\n",
    "        ###################################\n",
    "        if \"internal_rotation\" in exnamei:\n",
    "            counted_ex[exnamei] = 1           \n",
    "\n",
    "            for m in range(len(res_exi)): \n",
    "                single_metric,result_single_metric = res_exi[m]\n",
    "                if single_metric.name == \"ROM\":\n",
    "                    tagjoint = single_metric.tagjoint\n",
    "\n",
    "                    if np.sum(keyp2rommax_avg[tagjoint]) > 0.0:\n",
    "                        trace1 = go.Bar(\n",
    "                            x=allmonths, \n",
    "                            y=keyp2rommax_avg[tagjoint],\n",
    "                            name='Massimo valore raggiunto',\n",
    "                            marker=dict(\n",
    "                                color='rgb(0,0,255)'\n",
    "                            )\n",
    "                        )\n",
    "                        trace2 = go.Bar(\n",
    "                            x=allmonths, \n",
    "                            y=keyp2rommin_avg[tagjoint],\n",
    "                            name='Minimo valore raggiunto',\n",
    "                            marker=dict(\n",
    "                                color='rgb(255,0,0)'\n",
    "                                )\n",
    "                            )\n",
    "                        layout = go.Layout(\n",
    "                            title='Parametri Range of Motion',\n",
    "                            font=dict(family='Courier New, monospace', size=18, color='black'),\n",
    "                            xaxis=dict(\n",
    "                                title='Month',\n",
    "                                titlefont=dict(\n",
    "                                    family='Courier New, monospace',\n",
    "                                    size=18,\n",
    "                                    color='#7f7f7f'\n",
    "                                ),\n",
    "                                tickfont=dict(\n",
    "                                    family='Courier New, monospace',\n",
    "                                    size=14,\n",
    "                                    color='#7f7f7f'\n",
    "                                )\n",
    "                            ),\n",
    "                            yaxis=dict(\n",
    "                                    title='ROM ' + tagjoint + ' [gradi]',\n",
    "                                    titlefont=dict(\n",
    "                                        family='Courier New, monospace',\n",
    "                                        size=18,\n",
    "                                        color='#7f7f7f'\n",
    "                                    ),\n",
    "                            tickfont=dict(\n",
    "                                        family='Courier New, monospace',\n",
    "                                        size=14,\n",
    "                                        color='#7f7f7f'\n",
    "                                    )\n",
    "                                ),\n",
    "                            legend=dict(\n",
    "                                    bgcolor='rgba(255, 255, 255, 0)',\n",
    "                                    bordercolor='rgba(255, 255, 255, 0)'\n",
    "                                ),\n",
    "                            barmode='group',\n",
    "                            bargap=0.1,\n",
    "                            bargroupgap=0.0\n",
    "                            )\n",
    "                        data=[trace1,trace2]\n",
    "                        fig = go.Figure(data=data, layout=layout)\n",
    "                        iplot(fig)  "
   ]
  },
  {
   "cell_type": "code",
   "execution_count": 95,
   "metadata": {
    "scrolled": false
   },
   "outputs": [
    {
     "data": {
      "text/html": [
       "<font size=5,font color=gray>Risultati di Rotazione Esterna</font>"
      ],
      "text/plain": [
       "<IPython.core.display.HTML object>"
      ]
     },
     "metadata": {},
     "output_type": "display_data"
    }
   ],
   "source": [
    "title = \"Risultati di Rotazione Esterna\"\n",
    "msg1 = HTML('<font size=5><b>'+title+'</b></font>')\n",
    "msg2 = HTML('<font size=5,font color=gray>'+title+'</font>')\n",
    "if sum(counted_exmonth['external_rotation_left'])>0:\n",
    "    display(msg1);\n",
    "else:\n",
    "    display(msg2); "
   ]
  },
  {
   "cell_type": "code",
   "execution_count": 96,
   "metadata": {
    "scrolled": false
   },
   "outputs": [],
   "source": [
    "for i in range(len(exercises)):\n",
    "    exnamei = exercises[i].name\n",
    "    res_exi = exercises[i].result\n",
    "    if counted_ex[exnamei] < 1:\n",
    "\n",
    "        ###################################\n",
    "        #      Results for External      #\n",
    "        ###################################\n",
    "        if \"external_rotation\" in exnamei:\n",
    "            counted_ex[exnamei] = 1           \n",
    "\n",
    "            for m in range(len(res_exi)): \n",
    "                single_metric,result_single_metric = res_exi[m]\n",
    "                if single_metric.name == \"ROM\":\n",
    "                    tagjoint = single_metric.tagjoint\n",
    "\n",
    "                    if np.sum(keyp2rommax_avg[tagjoint]) > 0.0:\n",
    "                        trace1 = go.Bar(\n",
    "                            x=allmonths, \n",
    "                            y=keyp2rommax_avg[tagjoint],\n",
    "                            name='Massimo valore raggiunto',\n",
    "                            marker=dict(\n",
    "                                color='rgb(0,0,255)'\n",
    "                            )\n",
    "                        )\n",
    "                        trace2 = go.Bar(\n",
    "                            x=allmonths, \n",
    "                            y=keyp2rommin_avg[tagjoint],\n",
    "                            name='Minimo valore raggiunto',\n",
    "                            marker=dict(\n",
    "                                color='rgb(255,0,0)'\n",
    "                                )\n",
    "                            )\n",
    "                        layout = go.Layout(\n",
    "                            title='Parametri Range of Motion',\n",
    "                            font=dict(family='Courier New, monospace', size=18, color='black'),\n",
    "                            xaxis=dict(\n",
    "                                title='Mese',\n",
    "                                titlefont=dict(\n",
    "                                    family='Courier New, monospace',\n",
    "                                    size=18,\n",
    "                                    color='#7f7f7f'\n",
    "                                ),\n",
    "                                tickfont=dict(\n",
    "                                    family='Courier New, monospace',\n",
    "                                    size=14,\n",
    "                                    color='#7f7f7f'\n",
    "                                )\n",
    "                            ),\n",
    "                            yaxis=dict(\n",
    "                                    title='ROM ' + tagjoint + ' [gradi]',\n",
    "                                    titlefont=dict(\n",
    "                                        family='Courier New, monospace',\n",
    "                                        size=18,\n",
    "                                        color='#7f7f7f'\n",
    "                                    ),\n",
    "                            tickfont=dict(\n",
    "                                        family='Courier New, monospace',\n",
    "                                        size=14,\n",
    "                                        color='#7f7f7f'\n",
    "                                    )\n",
    "                                ),\n",
    "                            legend=dict(\n",
    "                                    bgcolor='rgba(255, 255, 255, 0)',\n",
    "                                    bordercolor='rgba(255, 255, 255, 0)'\n",
    "                                ),\n",
    "                            barmode='group',\n",
    "                            bargap=0.1,\n",
    "                            bargroupgap=0.0\n",
    "                            )\n",
    "                        data=[trace1,trace2]\n",
    "                        fig = go.Figure(data=data, layout=layout)\n",
    "                        iplot(fig)  "
   ]
  },
  {
   "cell_type": "code",
   "execution_count": 97,
   "metadata": {
    "scrolled": false
   },
   "outputs": [
    {
     "data": {
      "text/html": [
       "<font size=5,font color=gray>Risultati di Reaching</font>"
      ],
      "text/plain": [
       "<IPython.core.display.HTML object>"
      ]
     },
     "metadata": {},
     "output_type": "display_data"
    }
   ],
   "source": [
    "title = \"Risultati di Reaching\"\n",
    "msg1 = HTML('<font size=5><b>'+title+'</b></font>')\n",
    "msg2 = HTML('<font size=5,font color=gray>'+title+'</font>')\n",
    "if sum(counted_exmonth['reaching_left'])>0:\n",
    "    display(msg1);\n",
    "else:\n",
    "    display(msg2); "
   ]
  },
  {
   "cell_type": "code",
   "execution_count": 98,
   "metadata": {
    "scrolled": true
   },
   "outputs": [],
   "source": [
    "for i in range(len(exercises)):\n",
    "    exnamei = exercises[i].name\n",
    "    res_exi = exercises[i].result\n",
    "    if counted_ex[exnamei] < 1:\n",
    "\n",
    "        ###################################\n",
    "        #      Results for Reaching      #\n",
    "        ###################################\n",
    "        if \"reaching\" in exnamei:\n",
    "            counted_ex[exnamei] = 1           \n",
    "\n",
    "            for m in range(len(res_exi)): \n",
    "                single_metric,result_single_metric = res_exi[m]\n",
    "                if single_metric.name == \"EP\":\n",
    "                    trace1 = go.Bar(\n",
    "                        x=allmonths, \n",
    "                        y=endpointmonth[\"time\"],\n",
    "                        name='Time',\n",
    "                        marker=dict(\n",
    "                            color='rgb(0,0,255)'\n",
    "                        )\n",
    "                    )\n",
    "                    layout = go.Layout(\n",
    "                        title='Parametri Reaching',\n",
    "                        font=dict(family='Courier New, monospace', size=18, color='black'),\n",
    "                        xaxis=dict(\n",
    "                            title='Mese',\n",
    "                            titlefont=dict(\n",
    "                                family='Courier New, monospace',\n",
    "                                size=18,\n",
    "                                color='#7f7f7f'\n",
    "                            ),\n",
    "                            tickfont=dict(\n",
    "                                family='Courier New, monospace',\n",
    "                                size=14,\n",
    "                                color='#7f7f7f'\n",
    "                            )\n",
    "                        ),\n",
    "                        yaxis=dict(\n",
    "                                title='Tempo di esecuzione [s]',\n",
    "                                titlefont=dict(\n",
    "                                    family='Courier New, monospace',\n",
    "                                    size=18,\n",
    "                                    color='#7f7f7f'\n",
    "                                ),\n",
    "                        tickfont=dict(\n",
    "                                    family='Courier New, monospace',\n",
    "                                    size=14,\n",
    "                                    color='#7f7f7f'\n",
    "                                )\n",
    "                            ),\n",
    "                        legend=dict(\n",
    "                                bgcolor='rgba(255, 255, 255, 0)',\n",
    "                                bordercolor='rgba(255, 255, 255, 0)'\n",
    "                            ),\n",
    "                        barmode='group',\n",
    "                        bargap=0.1,\n",
    "                        bargroupgap=0.0\n",
    "                        )\n",
    "                    data=[trace1]\n",
    "                    fig = go.Figure(data=data, layout=layout)\n",
    "                    iplot(fig) \n",
    "\n",
    "                    trace1 = go.Bar(\n",
    "                        x=allmonths, \n",
    "                        y=endpointmonth[\"speed\"],\n",
    "                        name='Speed',\n",
    "                        marker=dict(\n",
    "                            color='rgb(0,0,255)'\n",
    "                        )\n",
    "                    )\n",
    "                    layout = go.Layout(\n",
    "                        font=dict(family='Courier New, monospace', size=18, color='black'),\n",
    "                        xaxis=dict(\n",
    "                            title='Mese',\n",
    "                            titlefont=dict(\n",
    "                                family='Courier New, monospace',\n",
    "                                size=18,\n",
    "                                color='#7f7f7f'\n",
    "                            ),\n",
    "                            tickfont=dict(\n",
    "                                family='Courier New, monospace',\n",
    "                                size=14,\n",
    "                                color='#7f7f7f'\n",
    "                            )\n",
    "                        ),\n",
    "                        yaxis=dict(\n",
    "                                title='Velocità [m/s]',\n",
    "                                titlefont=dict(\n",
    "                                    family='Courier New, monospace',\n",
    "                                    size=18,\n",
    "                                    color='#7f7f7f'\n",
    "                                ),\n",
    "                        tickfont=dict(\n",
    "                                    family='Courier New, monospace',\n",
    "                                    size=14,\n",
    "                                    color='#7f7f7f'\n",
    "                                )\n",
    "                            ),\n",
    "                        legend=dict(\n",
    "                                bgcolor='rgba(255, 255, 255, 0)',\n",
    "                                bordercolor='rgba(255, 255, 255, 0)'\n",
    "                            ),\n",
    "                        barmode='group',\n",
    "                        bargap=0.1,\n",
    "                        bargroupgap=0.0\n",
    "                        )\n",
    "                    data=[trace1]\n",
    "                    fig = go.Figure(data=data, layout=layout)\n",
    "                    iplot(fig)   "
   ]
  }
 ],
 "metadata": {
  "kernelspec": {
   "display_name": "Python 3 (ipykernel)",
   "language": "python",
   "name": "python3"
  },
  "language_info": {
   "codemirror_mode": {
    "name": "ipython",
    "version": 3
   },
   "file_extension": ".py",
   "mimetype": "text/x-python",
   "name": "python",
   "nbconvert_exporter": "python",
   "pygments_lexer": "ipython3",
   "version": "3.10.6"
  }
 },
 "nbformat": 4,
 "nbformat_minor": 2
}
